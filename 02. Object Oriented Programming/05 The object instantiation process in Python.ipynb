{
 "cells": [
  {
   "cell_type": "markdown",
   "id": "f157d2a8",
   "metadata": {
    "papermill": {
     "duration": 0.012628,
     "end_time": "2023-10-15T11:42:51.082239",
     "exception": false,
     "start_time": "2023-10-15T11:42:51.069611",
     "status": "completed"
    },
    "tags": []
   },
   "source": []
  },
  {
   "cell_type": "markdown",
   "id": "2ba7efea",
   "metadata": {
    "papermill": {
     "duration": 0.009682,
     "end_time": "2023-10-15T11:42:51.102018",
     "exception": false,
     "start_time": "2023-10-15T11:42:51.092336",
     "status": "completed"
    },
    "tags": []
   },
   "source": [
    "#  Object Creation and Initialization Process in Python"
   ]
  },
  {
   "cell_type": "markdown",
   "id": "76a34eb9",
   "metadata": {
    "papermill": {
     "duration": 0.009761,
     "end_time": "2023-10-15T11:42:51.121400",
     "exception": false,
     "start_time": "2023-10-15T11:42:51.111639",
     "status": "completed"
    },
    "tags": []
   },
   "source": [
    "##  Table of Contents \n",
    "* [The `__new__` method](#new-method)\n",
    "* [The `__init__` method](#init-method)\n",
    "* [The `__call__` method](#call-method)\n",
    "* [Conclusion](#conclusion)\n",
    "\n",
    "---"
   ]
  },
  {
   "cell_type": "markdown",
   "id": "4555c365",
   "metadata": {
    "papermill": {
     "duration": 0.009551,
     "end_time": "2023-10-15T11:42:51.141033",
     "exception": false,
     "start_time": "2023-10-15T11:42:51.131482",
     "status": "completed"
    },
    "tags": []
   },
   "source": [
    "With a basic understanding of the Metaclass and objects in Python, let's now understand the object creation and initialization process in Python. Consider the `Human` class, as defined below:"
   ]
  },
  {
   "cell_type": "code",
   "execution_count": 1,
   "id": "161e3dd0",
   "metadata": {
    "execution": {
     "iopub.execute_input": "2023-10-15T11:42:51.163271Z",
     "iopub.status.busy": "2023-10-15T11:42:51.162418Z",
     "iopub.status.idle": "2023-10-15T11:42:51.172153Z",
     "shell.execute_reply": "2023-10-15T11:42:51.171116Z"
    },
    "papermill": {
     "duration": 0.023988,
     "end_time": "2023-10-15T11:42:51.174662",
     "exception": false,
     "start_time": "2023-10-15T11:42:51.150674",
     "status": "completed"
    },
    "tags": []
   },
   "outputs": [],
   "source": [
    "class Human:\n",
    "    def __init__(self, first_name, last_name):\n",
    "        self.first_name = first_name\n",
    "        self.last_name = last_name"
   ]
  },
  {
   "cell_type": "code",
   "execution_count": 2,
   "id": "4e3619c7",
   "metadata": {
    "execution": {
     "iopub.execute_input": "2023-10-15T11:42:51.197022Z",
     "iopub.status.busy": "2023-10-15T11:42:51.196254Z",
     "iopub.status.idle": "2023-10-15T11:42:51.201495Z",
     "shell.execute_reply": "2023-10-15T11:42:51.200257Z"
    },
    "papermill": {
     "duration": 0.019459,
     "end_time": "2023-10-15T11:42:51.204031",
     "exception": false,
     "start_time": "2023-10-15T11:42:51.184572",
     "status": "completed"
    },
    "tags": []
   },
   "outputs": [],
   "source": [
    "human_obj = Human(\"Kian\", \"Pirfalak\")"
   ]
  },
  {
   "cell_type": "code",
   "execution_count": 3,
   "id": "9a6326d4",
   "metadata": {
    "execution": {
     "iopub.execute_input": "2023-10-15T11:42:51.225632Z",
     "iopub.status.busy": "2023-10-15T11:42:51.225107Z",
     "iopub.status.idle": "2023-10-15T11:42:51.233237Z",
     "shell.execute_reply": "2023-10-15T11:42:51.231974Z"
    },
    "papermill": {
     "duration": 0.022123,
     "end_time": "2023-10-15T11:42:51.235818",
     "exception": false,
     "start_time": "2023-10-15T11:42:51.213695",
     "status": "completed"
    },
    "tags": []
   },
   "outputs": [
    {
     "data": {
      "text/plain": [
       "True"
      ]
     },
     "execution_count": 3,
     "metadata": {},
     "output_type": "execute_result"
    }
   ],
   "source": [
    "isinstance(human_obj, Human)"
   ]
  },
  {
   "cell_type": "code",
   "execution_count": 4,
   "id": "90535455",
   "metadata": {
    "execution": {
     "iopub.execute_input": "2023-10-15T11:42:51.260136Z",
     "iopub.status.busy": "2023-10-15T11:42:51.259434Z",
     "iopub.status.idle": "2023-10-15T11:42:51.266821Z",
     "shell.execute_reply": "2023-10-15T11:42:51.265394Z"
    },
    "papermill": {
     "duration": 0.02279,
     "end_time": "2023-10-15T11:42:51.269109",
     "exception": false,
     "start_time": "2023-10-15T11:42:51.246319",
     "status": "completed"
    },
    "tags": []
   },
   "outputs": [
    {
     "data": {
      "text/plain": [
       "True"
      ]
     },
     "execution_count": 4,
     "metadata": {},
     "output_type": "execute_result"
    }
   ],
   "source": [
    "isinstance(human_obj, object)"
   ]
  },
  {
   "cell_type": "markdown",
   "id": "d2388b93",
   "metadata": {
    "papermill": {
     "duration": 0.010072,
     "end_time": "2023-10-15T11:42:51.289478",
     "exception": false,
     "start_time": "2023-10-15T11:42:51.279406",
     "status": "completed"
    },
    "tags": []
   },
   "source": [
    "The output of the above code shows that `human_obj` is an instance of class `Human` with the `first_name` as Kian and the `last_name` as Pirfalak. If we look at the above code closely, it's natural to have some questions:\n",
    "\n",
    "1. Per the definition of the `Human` class, we don't return anything from the `__init__` method; how does calling the `Human` class return the `human_obj`?\n",
    "2. We know that the `__init__` method is used for initializing the object, but how does the `__init__` method get self?"
   ]
  },
  {
   "cell_type": "markdown",
   "id": "88f50edf",
   "metadata": {
    "papermill": {
     "duration": 0.00993,
     "end_time": "2023-10-15T11:42:51.309575",
     "exception": false,
     "start_time": "2023-10-15T11:42:51.299645",
     "status": "completed"
    },
    "tags": []
   },
   "source": [
    "In this section, we will discuss each of these questions in detail and answer them."
   ]
  },
  {
   "cell_type": "markdown",
   "id": "fc60bd04",
   "metadata": {
    "papermill": {
     "duration": 0.009788,
     "end_time": "2023-10-15T11:42:51.329686",
     "exception": false,
     "start_time": "2023-10-15T11:42:51.319898",
     "status": "completed"
    },
    "tags": []
   },
   "source": [
    "**Object creation in Python is a two-step process**. In the first step, Python creates the object, and in the second step, it initializes the object. Most of the time, we are only interested in the second step (i.e., the initialization step). Python uses the `__new__` method in the first step (i.e., object creation) and uses the `__init__` method in the second step (i.e., initialization)."
   ]
  },
  {
   "cell_type": "markdown",
   "id": "f028e1cb",
   "metadata": {
    "papermill": {
     "duration": 0.107042,
     "end_time": "2023-10-15T11:42:51.447325",
     "exception": false,
     "start_time": "2023-10-15T11:42:51.340283",
     "status": "completed"
    },
    "tags": []
   },
   "source": [
    "If the class does not define these methods, they are inherited from the object base class. As the `Human` class does not define the `__new__` method, during the object instantiation process, the `__new__` method of the object's class is called, while for initialization, the `__init__` method of the Human class is called. Next, we'll cover each of these methods in detail."
   ]
  },
  {
   "cell_type": "markdown",
   "id": "8a9949ef",
   "metadata": {
    "papermill": {
     "duration": 0.01056,
     "end_time": "2023-10-15T11:42:51.468537",
     "exception": false,
     "start_time": "2023-10-15T11:42:51.457977",
     "status": "completed"
    },
    "tags": []
   },
   "source": [
    "<a class=\"anchor\" id=\"new-method\"></a>\n",
    "## The `__new__` method"
   ]
  },
  {
   "cell_type": "markdown",
   "id": "01aba5d3",
   "metadata": {
    "papermill": {
     "duration": 0.010317,
     "end_time": "2023-10-15T11:42:51.489605",
     "exception": false,
     "start_time": "2023-10-15T11:42:51.479288",
     "status": "completed"
    },
    "tags": []
   },
   "source": [
    "The __new__ method is the first step in the object instantiation process. It is a static method (we will cover static methods in detail later, but you can think of it as a method that doesn't receive `self` in arguments) on the object class and accepts `cls` or the class reference as the first parameter. The remaining arguments (Kian and Pirfalak) are passed while calling the class - `Human('Kian', 'Pirfalak')`. The `__new__` method creates an instance of type `cls` (i.e., it allocates memory for the object by invoking the superclass' i.e. object class' `__new__` method using `super().__new__(cls))`. It then returns the instance of type `cls`."
   ]
  },
  {
   "cell_type": "markdown",
   "id": "b132512e",
   "metadata": {
    "papermill": {
     "duration": 0.010195,
     "end_time": "2023-10-15T11:42:51.510618",
     "exception": false,
     "start_time": "2023-10-15T11:42:51.500423",
     "status": "completed"
    },
    "tags": []
   },
   "source": [
    "Usually, it does not do any initialization, as that is the job of the `__init_`_ method. However, when you override the `__new__` method, you can also use it to initialize the object or modify it as required before returning it."
   ]
  },
  {
   "cell_type": "markdown",
   "id": "d4813929",
   "metadata": {
    "papermill": {
     "duration": 0.011237,
     "end_time": "2023-10-15T11:42:51.532680",
     "exception": false,
     "start_time": "2023-10-15T11:42:51.521443",
     "status": "completed"
    },
    "tags": []
   },
   "source": [
    "`__new__` method signature:\n",
    "\n",
    "```python\n",
    "# cls - is the mandatory argument. Object returned by the __new__ method is of type cls\n",
    "@staticmethod\n",
    "def __new__(cls[,...]):\n",
    "    pass\n",
    "```"
   ]
  },
  {
   "cell_type": "markdown",
   "id": "fe15998d",
   "metadata": {
    "papermill": {
     "duration": 0.010406,
     "end_time": "2023-10-15T11:42:51.554582",
     "exception": false,
     "start_time": "2023-10-15T11:42:51.544176",
     "status": "completed"
    },
    "tags": []
   },
   "source": [
    "We can modify the object creation process by overriding the `__new__` method of the object class. Consider the example below:"
   ]
  },
  {
   "cell_type": "code",
   "execution_count": 5,
   "id": "47312b56",
   "metadata": {
    "execution": {
     "iopub.execute_input": "2023-10-15T11:42:51.578835Z",
     "iopub.status.busy": "2023-10-15T11:42:51.578433Z",
     "iopub.status.idle": "2023-10-15T11:42:51.584380Z",
     "shell.execute_reply": "2023-10-15T11:42:51.583519Z"
    },
    "papermill": {
     "duration": 0.020921,
     "end_time": "2023-10-15T11:42:51.586579",
     "exception": false,
     "start_time": "2023-10-15T11:42:51.565658",
     "status": "completed"
    },
    "tags": []
   },
   "outputs": [],
   "source": [
    "class Human:\n",
    "    def __new__(cls, first_name=None):\n",
    "        # cls = Human. cls is the class using which the object will be created.\n",
    "        # Created object will be of type cls.\n",
    "        # We must call the object class' __new__ to allocate memory\n",
    "        obj = super().__new__(cls) # This is equivalent to object.__new__(cls)\n",
    "\n",
    "        # Modify the object created\n",
    "        if first_name:\n",
    "            obj.name = first_name\n",
    "        else:\n",
    "            obj.name = \"Kian\"\n",
    "\n",
    "        print(type(obj)) # Prints: <__main__.Human object at 0x103665668>\n",
    "        # likely with a different memory location on your machine\n",
    "\n",
    "        # return the object\n",
    "        return obj"
   ]
  },
  {
   "cell_type": "code",
   "execution_count": 6,
   "id": "481b3ee9",
   "metadata": {
    "execution": {
     "iopub.execute_input": "2023-10-15T11:42:51.610836Z",
     "iopub.status.busy": "2023-10-15T11:42:51.610434Z",
     "iopub.status.idle": "2023-10-15T11:42:51.616933Z",
     "shell.execute_reply": "2023-10-15T11:42:51.616092Z"
    },
    "papermill": {
     "duration": 0.021496,
     "end_time": "2023-10-15T11:42:51.619818",
     "exception": false,
     "start_time": "2023-10-15T11:42:51.598322",
     "status": "completed"
    },
    "tags": []
   },
   "outputs": [
    {
     "name": "stdout",
     "output_type": "stream",
     "text": [
      "<class '__main__.Human'>\n"
     ]
    },
    {
     "data": {
      "text/plain": [
       "'Kian'"
      ]
     },
     "execution_count": 6,
     "metadata": {},
     "output_type": "execute_result"
    }
   ],
   "source": [
    "# Create an object\n",
    "# __init__ method of `object` class will be called.\n",
    "k = Human()\n",
    "\n",
    "k.name"
   ]
  },
  {
   "cell_type": "code",
   "execution_count": 7,
   "id": "cf534063",
   "metadata": {
    "execution": {
     "iopub.execute_input": "2023-10-15T11:42:51.645344Z",
     "iopub.status.busy": "2023-10-15T11:42:51.644553Z",
     "iopub.status.idle": "2023-10-15T11:42:51.653970Z",
     "shell.execute_reply": "2023-10-15T11:42:51.652429Z"
    },
    "papermill": {
     "duration": 0.025223,
     "end_time": "2023-10-15T11:42:51.656338",
     "exception": false,
     "start_time": "2023-10-15T11:42:51.631115",
     "status": "completed"
    },
    "tags": []
   },
   "outputs": [
    {
     "name": "stdout",
     "output_type": "stream",
     "text": [
      "<class '__main__.Human'>\n"
     ]
    },
    {
     "data": {
      "text/plain": [
       "'Mahsa'"
      ]
     },
     "execution_count": 7,
     "metadata": {},
     "output_type": "execute_result"
    }
   ],
   "source": [
    "m = Human(\"Mahsa\")\n",
    "m.name"
   ]
  },
  {
   "cell_type": "markdown",
   "id": "7fb1b99e",
   "metadata": {
    "papermill": {
     "duration": 0.012219,
     "end_time": "2023-10-15T11:42:51.680217",
     "exception": false,
     "start_time": "2023-10-15T11:42:51.667998",
     "status": "completed"
    },
    "tags": []
   },
   "source": [
    "In the above example, we have overridden the `__new__` method of the object class. It accepts the first arguments as `cls` - a class reference to the `Human` class."
   ]
  },
  {
   "cell_type": "markdown",
   "id": "26f761a9",
   "metadata": {
    "papermill": {
     "duration": 0.011734,
     "end_time": "2023-10-15T11:42:51.704316",
     "exception": false,
     "start_time": "2023-10-15T11:42:51.692582",
     "status": "completed"
    },
    "tags": []
   },
   "source": [
    "> If you know `staticmethods` already, note that the `__new__` method is a special case in Python. Although it's a static method of the object class, on overriding it, we do not have to decorate it with the `staticmethod` decorator"
   ]
  },
  {
   "cell_type": "markdown",
   "id": "1bd8f95c",
   "metadata": {
    "papermill": {
     "duration": 0.010896,
     "end_time": "2023-10-15T11:42:51.726569",
     "exception": false,
     "start_time": "2023-10-15T11:42:51.715673",
     "status": "completed"
    },
    "tags": []
   },
   "source": [
    "Inside the `__new__` method of the `Human` class, we are first calling the `__new__` method of the object class using `super().__new__(cls)`. The object class `__new__` method creates and returns the instance of the class, which is passed as an argument to the `__new__` method. Here, as we are passing `cls` (i.e., the `Human` class reference); the object's `__new__` method will return an instance of type `Human`."
   ]
  },
  {
   "cell_type": "markdown",
   "id": "72d53adc",
   "metadata": {
    "papermill": {
     "duration": 0.010656,
     "end_time": "2023-10-15T11:42:51.748410",
     "exception": false,
     "start_time": "2023-10-15T11:42:51.737754",
     "status": "completed"
    },
    "tags": []
   },
   "source": [
    "> We must call the object class `__new__` method inside the overridden `__new__` method to create the object and allocate memory to the object."
   ]
  },
  {
   "cell_type": "markdown",
   "id": "2f78bfdb",
   "metadata": {
    "papermill": {
     "duration": 0.010824,
     "end_time": "2023-10-15T11:42:51.770613",
     "exception": false,
     "start_time": "2023-10-15T11:42:51.759789",
     "status": "completed"
    },
    "tags": []
   },
   "source": [
    "> The `__new__` method of the `Human` class modifies the `obj` returned from the `__new__` method of the object class and adds the `name` property to it. Thus, all objects created using the `Human` class will have a name property. Voila! We have modified the object instantiation process of the `Human` class."
   ]
  },
  {
   "cell_type": "markdown",
   "id": "2908e09a",
   "metadata": {
    "papermill": {
     "duration": 0.011872,
     "end_time": "2023-10-15T11:42:51.794425",
     "exception": false,
     "start_time": "2023-10-15T11:42:51.782553",
     "status": "completed"
    },
    "tags": []
   },
   "source": [
    "Let's consider another example. In this example, we are creating a new class called `Animal` and overriding the `__new__` method. Here, when we are calling the `__new__` method of the object class from the `__new__` method of the `Animal` class, instead of passing the `Animal` class reference as an argument to the `__new__` method of the object class, we are passing the `Human` class reference. Hence, the object returned from the `__new__` method of the object class will be of type `Human` and not `Animal`. As a result, the object returned from calling the `Animal` class (i.e., `Animal()`) will be of type `Human`."
   ]
  },
  {
   "cell_type": "code",
   "execution_count": 8,
   "id": "9b2dd988",
   "metadata": {
    "execution": {
     "iopub.execute_input": "2023-10-15T11:42:51.819502Z",
     "iopub.status.busy": "2023-10-15T11:42:51.819152Z",
     "iopub.status.idle": "2023-10-15T11:42:51.824425Z",
     "shell.execute_reply": "2023-10-15T11:42:51.823317Z"
    },
    "papermill": {
     "duration": 0.020805,
     "end_time": "2023-10-15T11:42:51.826801",
     "exception": false,
     "start_time": "2023-10-15T11:42:51.805996",
     "status": "completed"
    },
    "tags": []
   },
   "outputs": [],
   "source": [
    "class Animal:\n",
    "    def __new__(cls):\n",
    "        # Passing Human class reference instead of Animal class reference\n",
    "        obj = super().__new__(Human) # This is equivalent to object.__new__(Human)\n",
    "\n",
    "        print(f\"Type of obj: {type(obj)}\") # Prints: Type of obj: <class '__main__.Human'>\n",
    "\n",
    "        # return the object\n",
    "        return obj"
   ]
  },
  {
   "cell_type": "code",
   "execution_count": 9,
   "id": "9f59c6d7",
   "metadata": {
    "execution": {
     "iopub.execute_input": "2023-10-15T11:42:51.852639Z",
     "iopub.status.busy": "2023-10-15T11:42:51.852111Z",
     "iopub.status.idle": "2023-10-15T11:42:51.856665Z",
     "shell.execute_reply": "2023-10-15T11:42:51.855451Z"
    },
    "papermill": {
     "duration": 0.019534,
     "end_time": "2023-10-15T11:42:51.858644",
     "exception": false,
     "start_time": "2023-10-15T11:42:51.839110",
     "status": "completed"
    },
    "tags": []
   },
   "outputs": [
    {
     "name": "stdout",
     "output_type": "stream",
     "text": [
      "Type of obj: <class '__main__.Human'>\n"
     ]
    }
   ],
   "source": [
    "cat = Animal()"
   ]
  },
  {
   "cell_type": "code",
   "execution_count": 10,
   "id": "9ab83f29",
   "metadata": {
    "execution": {
     "iopub.execute_input": "2023-10-15T11:42:51.884703Z",
     "iopub.status.busy": "2023-10-15T11:42:51.884163Z",
     "iopub.status.idle": "2023-10-15T11:42:51.889187Z",
     "shell.execute_reply": "2023-10-15T11:42:51.888454Z"
    },
    "papermill": {
     "duration": 0.021547,
     "end_time": "2023-10-15T11:42:51.891858",
     "exception": false,
     "start_time": "2023-10-15T11:42:51.870311",
     "status": "completed"
    },
    "tags": []
   },
   "outputs": [
    {
     "data": {
      "text/plain": [
       "__main__.Human"
      ]
     },
     "execution_count": 10,
     "metadata": {},
     "output_type": "execute_result"
    }
   ],
   "source": [
    "type(cat)"
   ]
  },
  {
   "cell_type": "markdown",
   "id": "fd7d276a",
   "metadata": {
    "papermill": {
     "duration": 0.010949,
     "end_time": "2023-10-15T11:42:51.914633",
     "exception": false,
     "start_time": "2023-10-15T11:42:51.903684",
     "status": "completed"
    },
    "tags": []
   },
   "source": [
    "<a class=\"anchor\" id=\"init-method\"></a>\n",
    "## The `__init__` method"
   ]
  },
  {
   "cell_type": "markdown",
   "id": "d9b3401b",
   "metadata": {
    "papermill": {
     "duration": 0.011043,
     "end_time": "2023-10-15T11:42:51.936644",
     "exception": false,
     "start_time": "2023-10-15T11:42:51.925601",
     "status": "completed"
    },
    "tags": []
   },
   "source": [
    "The `__init__` method is the second step of the object instantiation process in Python. It takes the first argument as an object or instance returned from the `__new__` method. The remaining arguments are the arguments passed while calling the class (`Human(\"Kian\", \"Pirfalak\")`). These arguments are used for initializing the object. The `__init__` method must not return anything. If you try to return anything using the `__init__` method, it will raise an exception, as shown below:"
   ]
  },
  {
   "cell_type": "code",
   "execution_count": 11,
   "id": "0bded157",
   "metadata": {
    "execution": {
     "iopub.execute_input": "2023-10-15T11:42:51.961618Z",
     "iopub.status.busy": "2023-10-15T11:42:51.960970Z",
     "iopub.status.idle": "2023-10-15T11:42:51.965442Z",
     "shell.execute_reply": "2023-10-15T11:42:51.964418Z"
    },
    "papermill": {
     "duration": 0.020179,
     "end_time": "2023-10-15T11:42:51.967577",
     "exception": false,
     "start_time": "2023-10-15T11:42:51.947398",
     "status": "completed"
    },
    "tags": []
   },
   "outputs": [],
   "source": [
    "class Human:\n",
    "    def __init__(self, first_name):\n",
    "        self.first_name = first_name\n",
    "        return self"
   ]
  },
  {
   "cell_type": "code",
   "execution_count": 12,
   "id": "f99eea0e",
   "metadata": {
    "execution": {
     "iopub.execute_input": "2023-10-15T11:42:51.993505Z",
     "iopub.status.busy": "2023-10-15T11:42:51.992860Z",
     "iopub.status.idle": "2023-10-15T11:42:52.276814Z",
     "shell.execute_reply": "2023-10-15T11:42:52.274505Z"
    },
    "papermill": {
     "duration": 0.299308,
     "end_time": "2023-10-15T11:42:52.278803",
     "exception": true,
     "start_time": "2023-10-15T11:42:51.979495",
     "status": "failed"
    },
    "tags": []
   },
   "outputs": [
    {
     "ename": "TypeError",
     "evalue": "__init__() should return None, not 'Human'",
     "output_type": "error",
     "traceback": [
      "\u001b[0;31m---------------------------------------------------------------------------\u001b[0m",
      "\u001b[0;31mTypeError\u001b[0m                                 Traceback (most recent call last)",
      "Cell \u001b[0;32mIn[12], line 1\u001b[0m\n\u001b[0;32m----> 1\u001b[0m human_obj \u001b[38;5;241m=\u001b[39m \u001b[43mHuman\u001b[49m\u001b[43m(\u001b[49m\u001b[38;5;124;43m'\u001b[39;49m\u001b[38;5;124;43mKian\u001b[39;49m\u001b[38;5;124;43m'\u001b[39;49m\u001b[43m)\u001b[49m\n",
      "\u001b[0;31mTypeError\u001b[0m: __init__() should return None, not 'Human'"
     ]
    }
   ],
   "source": [
    "human_obj = Human('Kian')"
   ]
  },
  {
   "cell_type": "markdown",
   "id": "3143d05e",
   "metadata": {
    "papermill": {
     "duration": null,
     "end_time": null,
     "exception": null,
     "start_time": null,
     "status": "pending"
    },
    "tags": []
   },
   "source": [
    "Consider a simple example to understand both the `__new__` and `__init__` method."
   ]
  },
  {
   "cell_type": "code",
   "execution_count": null,
   "id": "7c4c6807",
   "metadata": {
    "papermill": {
     "duration": null,
     "end_time": null,
     "exception": null,
     "start_time": null,
     "status": "pending"
    },
    "tags": []
   },
   "outputs": [],
   "source": [
    "class Human:\n",
    "    def __new__(cls, *args, **kwargs):\n",
    "        # Here, the __new__ method of the object class must be called to create\n",
    "        # and allocate the memory to the object\n",
    "        print(\"Inside new method\")\n",
    "        print(f\"args arguments {args}\")\n",
    "        print(f\"kwargs arguments {kwargs}\")\n",
    "\n",
    "        # The code below calls the __new__ method of the object's class.\n",
    "        # Object class' __new__ method allocates a memory\n",
    "        # for the instance and returns that instance\n",
    "        human_obj = super(Human, cls).__new__(cls)\n",
    "\n",
    "        print(f\"human_obj instance - {human_obj}\")\n",
    "        return human_obj\n",
    "\n",
    "    # As we have overridden the __init__ method, the __init__ method of the object class will not be called\n",
    "    def __init__(self, first_name, last_name):\n",
    "        print(\"Inside __init__ method\")\n",
    "        # self = human_obj returned from the __new__ method\n",
    "\n",
    "        self.first_name = first_name\n",
    "        self.last_name = last_name\n",
    "\n",
    "        print(f\"human_obj instance inside __init__ {self}: {self.first_name}, {self.last_name}\")"
   ]
  },
  {
   "cell_type": "code",
   "execution_count": null,
   "id": "1f1f28c7",
   "metadata": {
    "papermill": {
     "duration": null,
     "end_time": null,
     "exception": null,
     "start_time": null,
     "status": "pending"
    },
    "tags": []
   },
   "outputs": [],
   "source": [
    "human_obj = Human(\"Kian\", \"Pirfalak\")"
   ]
  },
  {
   "cell_type": "markdown",
   "id": "e21455c0",
   "metadata": {
    "papermill": {
     "duration": null,
     "end_time": null,
     "exception": null,
     "start_time": null,
     "status": "pending"
    },
    "tags": []
   },
   "source": [
    "In the above code, we have overridden both the `__new__` and `__init__` method of the object's class. `__new__` creates the object (`human_obj`) of type `Human` class and returns it. Once the `__new__` method is complete, Python calls the `__init__` method with the `human_obj` object as the first argument. The `__init__` method initializes the `human_obj` with `first_name` as Kian and `last_name` as Pirfalak. As object creation is the first step, and initialization is the second step, the `__new__` method will always be called before the `__init__` method"
   ]
  },
  {
   "cell_type": "markdown",
   "id": "22090e41",
   "metadata": {
    "papermill": {
     "duration": null,
     "end_time": null,
     "exception": null,
     "start_time": null,
     "status": "pending"
    },
    "tags": []
   },
   "source": [
    "Both `__init__` and `__new__` are called magic methods in Python. Magic methods have names that begin and end with `__` (double underscores or \"dunder\"). Magic methods are called implicitly by the Python; you do not have to call them explicitly. For example, both the `__new__` and `__init__` method are called implicitly by Python. Let's cover one more magic method, `__call__`."
   ]
  },
  {
   "cell_type": "markdown",
   "id": "893aac9e",
   "metadata": {
    "papermill": {
     "duration": null,
     "end_time": null,
     "exception": null,
     "start_time": null,
     "status": "pending"
    },
    "tags": []
   },
   "source": [
    "<a class=\"anchor\" id=\"call-method\"></a>\n",
    "## The `__call__` method"
   ]
  },
  {
   "cell_type": "markdown",
   "id": "6662f802",
   "metadata": {
    "papermill": {
     "duration": null,
     "end_time": null,
     "exception": null,
     "start_time": null,
     "status": "pending"
    },
    "tags": []
   },
   "source": [
    "The `__call__` method is a magic method in Python that is used to make the objects callable. Callable objects are objects that can be called. For example, functions are callable objects, as they can be called using the round parenthesis."
   ]
  },
  {
   "cell_type": "markdown",
   "id": "180d4727",
   "metadata": {
    "papermill": {
     "duration": null,
     "end_time": null,
     "exception": null,
     "start_time": null,
     "status": "pending"
    },
    "tags": []
   },
   "source": [
    "Consider an example to better understand callable objects:"
   ]
  },
  {
   "cell_type": "code",
   "execution_count": null,
   "id": "773e2410",
   "metadata": {
    "papermill": {
     "duration": null,
     "end_time": null,
     "exception": null,
     "start_time": null,
     "status": "pending"
    },
    "tags": []
   },
   "outputs": [],
   "source": [
    "def print_function():\n",
    "    print(\"I am a callable object\")\n",
    "\n",
    "# print_function is callable as it can be called using round parentheses\n",
    "print_function()"
   ]
  },
  {
   "cell_type": "markdown",
   "id": "63a0bc99",
   "metadata": {
    "papermill": {
     "duration": null,
     "end_time": null,
     "exception": null,
     "start_time": null,
     "status": "pending"
    },
    "tags": []
   },
   "source": [
    "Let's try to call an integer object. As integer objects are not callable, calling them will raise an exception."
   ]
  },
  {
   "cell_type": "code",
   "execution_count": null,
   "id": "094b6888",
   "metadata": {
    "papermill": {
     "duration": null,
     "end_time": null,
     "exception": null,
     "start_time": null,
     "status": "pending"
    },
    "tags": []
   },
   "outputs": [],
   "source": [
    "a = 10"
   ]
  },
  {
   "cell_type": "code",
   "execution_count": null,
   "id": "726498c8",
   "metadata": {
    "papermill": {
     "duration": null,
     "end_time": null,
     "exception": null,
     "start_time": null,
     "status": "pending"
    },
    "tags": []
   },
   "outputs": [],
   "source": [
    "a()"
   ]
  },
  {
   "cell_type": "markdown",
   "id": "d6c0f23a",
   "metadata": {
    "papermill": {
     "duration": null,
     "end_time": null,
     "exception": null,
     "start_time": null,
     "status": "pending"
    },
    "tags": []
   },
   "source": [
    "The `callable` function is used to determine whether an object is callable. The `callable` function takes the object reference as an argument and returns `True` if the object appears to be callable or `False` if the object is not callable. If the callable function returns `True`, the object might not be callable; however, if it returns `False`, then the object is certainly not callable."
   ]
  },
  {
   "cell_type": "code",
   "execution_count": null,
   "id": "3a27caa7",
   "metadata": {
    "papermill": {
     "duration": null,
     "end_time": null,
     "exception": null,
     "start_time": null,
     "status": "pending"
    },
    "tags": []
   },
   "outputs": [],
   "source": [
    "# Functions are callable\n",
    "callable(print_function)"
   ]
  },
  {
   "cell_type": "code",
   "execution_count": null,
   "id": "839139a7",
   "metadata": {
    "papermill": {
     "duration": null,
     "end_time": null,
     "exception": null,
     "start_time": null,
     "status": "pending"
    },
    "tags": []
   },
   "outputs": [],
   "source": [
    "# Interger object is not callable\n",
    "callable(a)"
   ]
  },
  {
   "cell_type": "markdown",
   "id": "b11710d8",
   "metadata": {
    "papermill": {
     "duration": null,
     "end_time": null,
     "exception": null,
     "start_time": null,
     "status": "pending"
    },
    "tags": []
   },
   "source": [
    "Let's determine whether the classes in Python are callable. Here, we will determine whether the `Human` class defined earlier is callable."
   ]
  },
  {
   "cell_type": "code",
   "execution_count": null,
   "id": "c7c8869d",
   "metadata": {
    "papermill": {
     "duration": null,
     "end_time": null,
     "exception": null,
     "start_time": null,
     "status": "pending"
    },
    "tags": []
   },
   "outputs": [],
   "source": [
    "callable(Human)"
   ]
  },
  {
   "cell_type": "markdown",
   "id": "2f4c2ca4",
   "metadata": {
    "papermill": {
     "duration": null,
     "end_time": null,
     "exception": null,
     "start_time": null,
     "status": "pending"
    },
    "tags": []
   },
   "source": [
    "Yes, classes in Python are callable, and they should be! Don't you think so? When we call the class, it returns the instance of that class. Let's find out whether the objects created from the class are callable."
   ]
  },
  {
   "cell_type": "code",
   "execution_count": null,
   "id": "fcd5b6c6",
   "metadata": {
    "papermill": {
     "duration": null,
     "end_time": null,
     "exception": null,
     "start_time": null,
     "status": "pending"
    },
    "tags": []
   },
   "outputs": [],
   "source": [
    "human_obj = Human(\"Virat\", \"Kohli\")"
   ]
  },
  {
   "cell_type": "code",
   "execution_count": null,
   "id": "5b9663c3",
   "metadata": {
    "papermill": {
     "duration": null,
     "end_time": null,
     "exception": null,
     "start_time": null,
     "status": "pending"
    },
    "tags": []
   },
   "outputs": [],
   "source": [
    "# Let's try calling the human_obj\n",
    "callable(human_obj)"
   ]
  },
  {
   "cell_type": "markdown",
   "id": "63a43bd9",
   "metadata": {
    "papermill": {
     "duration": null,
     "end_time": null,
     "exception": null,
     "start_time": null,
     "status": "pending"
    },
    "tags": []
   },
   "source": [
    "So, `human_obj` is not callable though the class of `human_obj` (i.e., the `Human` class is callable)"
   ]
  },
  {
   "cell_type": "markdown",
   "id": "522cc26f",
   "metadata": {
    "papermill": {
     "duration": null,
     "end_time": null,
     "exception": null,
     "start_time": null,
     "status": "pending"
    },
    "tags": []
   },
   "source": [
    "To make any object in Python callable, Python provides the `__call__` method that needs to be implemented by the object's class. For example, to make `human_obj` object callable, the `Human` class has to implement the `__call__` method. Once the `Human` class implements the `__call__` method, all the objects of the `Human` class can be invoked like functions (i.e., using round parentheses)"
   ]
  },
  {
   "cell_type": "code",
   "execution_count": null,
   "id": "f8ba5abd",
   "metadata": {
    "papermill": {
     "duration": null,
     "end_time": null,
     "exception": null,
     "start_time": null,
     "status": "pending"
    },
    "tags": []
   },
   "outputs": [],
   "source": [
    "class Human:\n",
    "    def __init__(self, first_name, last_name):\n",
    "        print(\"I am inside __init__ method\")\n",
    "        self.first_name = first_name\n",
    "        self.last_name = last_name\n",
    "\n",
    "    def __call__(cls):\n",
    "        print(\"I am inside __call__ method\")"
   ]
  },
  {
   "cell_type": "code",
   "execution_count": null,
   "id": "12bc2ad6",
   "metadata": {
    "papermill": {
     "duration": null,
     "end_time": null,
     "exception": null,
     "start_time": null,
     "status": "pending"
    },
    "tags": []
   },
   "outputs": [],
   "source": [
    "human_obj = Human(\"Kian\", \"Pirfalak\")"
   ]
  },
  {
   "cell_type": "code",
   "execution_count": null,
   "id": "551e747e",
   "metadata": {
    "papermill": {
     "duration": null,
     "end_time": null,
     "exception": null,
     "start_time": null,
     "status": "pending"
    },
    "tags": []
   },
   "outputs": [],
   "source": [
    "human_obj()"
   ]
  },
  {
   "cell_type": "code",
   "execution_count": null,
   "id": "a4b54b34",
   "metadata": {
    "papermill": {
     "duration": null,
     "end_time": null,
     "exception": null,
     "start_time": null,
     "status": "pending"
    },
    "tags": []
   },
   "outputs": [],
   "source": [
    "human_obj.__call__()"
   ]
  },
  {
   "cell_type": "code",
   "execution_count": null,
   "id": "8aab5589",
   "metadata": {
    "papermill": {
     "duration": null,
     "end_time": null,
     "exception": null,
     "start_time": null,
     "status": "pending"
    },
    "tags": []
   },
   "outputs": [],
   "source": [
    "callable(human_obj)"
   ]
  },
  {
   "cell_type": "markdown",
   "id": "72106cc8",
   "metadata": {
    "papermill": {
     "duration": null,
     "end_time": null,
     "exception": null,
     "start_time": null,
     "status": "pending"
    },
    "tags": []
   },
   "source": [
    "The above code output shows that after implementing the `__call__` method on the `Human` class, `human_obj` becomes a callable object. We can call the `human_obj` using round parentheses (i.e., `human_obj()`). When we use `human_obj()`, in the background, Python calls the `__call__` method of the `Human` class. So, instead of calling `human_obj` as `human_obj()`, we can directly invoke the `__call__` method on `human_obj` (i.e., `human_obj.__call__()`). Both `human_obj()` and `human_obj.__call__()` are equivalent, and they are the same thing."
   ]
  },
  {
   "cell_type": "markdown",
   "id": "f2a2924a",
   "metadata": {
    "papermill": {
     "duration": null,
     "end_time": null,
     "exception": null,
     "start_time": null,
     "status": "pending"
    },
    "tags": []
   },
   "source": [
    "> For all objects that are callable, their classes must implement the `__call__` method."
   ]
  },
  {
   "cell_type": "markdown",
   "id": "e094e2fc",
   "metadata": {
    "papermill": {
     "duration": null,
     "end_time": null,
     "exception": null,
     "start_time": null,
     "status": "pending"
    },
    "tags": []
   },
   "source": [
    "We know that functions are a callable object, so its class (i.e., function) must implement the `__call__` method. Let's invoke the `__call__` method on the `print_function` defined earlier."
   ]
  },
  {
   "cell_type": "code",
   "execution_count": null,
   "id": "85b59f9f",
   "metadata": {
    "papermill": {
     "duration": null,
     "end_time": null,
     "exception": null,
     "start_time": null,
     "status": "pending"
    },
    "tags": []
   },
   "outputs": [],
   "source": [
    "def print_function():\n",
    "    print(\"I am a callable object\")"
   ]
  },
  {
   "cell_type": "code",
   "execution_count": null,
   "id": "1b454f16",
   "metadata": {
    "papermill": {
     "duration": null,
     "end_time": null,
     "exception": null,
     "start_time": null,
     "status": "pending"
    },
    "tags": []
   },
   "outputs": [],
   "source": [
    "print_function.__call__()"
   ]
  },
  {
   "cell_type": "markdown",
   "id": "29410a83",
   "metadata": {
    "papermill": {
     "duration": null,
     "end_time": null,
     "exception": null,
     "start_time": null,
     "status": "pending"
    },
    "tags": []
   },
   "source": [
    "> In Python, class is also a callable object; therefore, it is a class's class (metaclass) (i.e., the `type` class must have a call method defined on it). Hence, when we call `Human()`, in the background, Python calls the call method of the `type` class."
   ]
  },
  {
   "cell_type": "markdown",
   "id": "9f18157e",
   "metadata": {
    "papermill": {
     "duration": null,
     "end_time": null,
     "exception": null,
     "start_time": null,
     "status": "pending"
    },
    "tags": []
   },
   "source": [
    "Roughly, the `__call__` method on the types class looks something like shown below. This is just for explanation purposes; we will cover the actual definition of the `__call__` method later in the tutorial.\n",
    "\n",
    "```python\n",
    "class type:\n",
    "    def __call__():\n",
    "        # Called when class is called i.e. Human()\n",
    "        print(\"type's call method\")\n",
    "```"
   ]
  },
  {
   "cell_type": "markdown",
   "id": "331d185e",
   "metadata": {
    "papermill": {
     "duration": null,
     "end_time": null,
     "exception": null,
     "start_time": null,
     "status": "pending"
    },
    "tags": []
   },
   "source": [
    "We know that when we call the class (i.e., `Human(\"Kian\", \"Pirfalak\")`), the `__call__` method of the `type` class is called. However, what is the definition of the types class `__call__` method? As we are talking about CPython, the type class `__call__` method definition is defined in C language. If we convert it into Python and simplify it, it will look somewhat like this:\n",
    "\n",
    "```python\n",
    "# type's __call__ method which gets called when Human class is called i.e. Human()\n",
    "def __call__(cls, *args, **kwargs):\n",
    "    # cls = Human class\n",
    "    # args = [\"Virat\", \"Kohli\"]\n",
    "    # Calling __new__ method of the Human class, as __new__ method is not defined\n",
    "    # on Human, __new__ method of the object class is called\n",
    "    human_obj = cls.__new__(*args, **kwargs)\n",
    "\n",
    "    # After __new__ method returns the object, __init__ method will only be called if\n",
    "    # 1. human_obj is not None\n",
    "    # 2. human_obj is an instance of class Human\n",
    "    # 3. __init__ method is defined on the Human class\n",
    "    if human_obj is not None and isinstance(human_obj, cls) and hasattr(human_obj, '__init__'):\n",
    "        # As __init__ is called on human_obj, self will be equal to human_obj in __init__ method\n",
    "        human_obj.init(*args, **kwargs)\n",
    "\n",
    "    return human_obj\n",
    "```"
   ]
  },
  {
   "cell_type": "markdown",
   "id": "c5e5243d",
   "metadata": {
    "papermill": {
     "duration": null,
     "end_time": null,
     "exception": null,
     "start_time": null,
     "status": "pending"
    },
    "tags": []
   },
   "source": [
    "Let's understand the above code; when we do Human(\"Kian\", \"Pirfalak\"), in the background, Python will call the type class `__call__` method, which is defined like the above code snippet. As shown above, the type class `__call__` method accepts `Human` class as the first argument (`cls` is `Human` class), and the remaining arguments are passed while calling the `Human` class. The type class `__call__` method will first call the `__new__` method defined on the `Human` class, if any; otherwise, the `__new__` method of the `Human` class parent class (i.e. the object's `__new__` method) is called. The `__new__` method will return the `human_obj`. Now, the `__call__` method of the type class will call the `__init__` method defined on the `Human` class with `human_obj` as the first argument. `__init__` will initialize the `human_obj` with the passed arguments, and finally, the `__call__` method will return the `human_obj`."
   ]
  },
  {
   "cell_type": "markdown",
   "id": "5c966f3f",
   "metadata": {
    "papermill": {
     "duration": null,
     "end_time": null,
     "exception": null,
     "start_time": null,
     "status": "pending"
    },
    "tags": []
   },
   "source": []
  },
  {
   "cell_type": "markdown",
   "id": "f52ba66c",
   "metadata": {
    "papermill": {
     "duration": null,
     "end_time": null,
     "exception": null,
     "start_time": null,
     "status": "pending"
    },
    "tags": []
   },
   "source": [
    "So, following steps are followed while creating and initializing an object in Python:\n",
    "\n",
    "1. Call the `Human` class - `Human()`; this internally calls the `__call__` method of the type class (i.e., `type.__call__(Human, \"Kian\", \"Pirfalak\")`).\n",
    "2. `type.__call__` will first call the `__new__` method defined on the `Human` class. If the `__new__` method is not defined on the `Human` class, the `__new__` method of the object class will be called.\n",
    "3. The `__new__` method will the return the object of type `Human` i.e. `human_obj`\n",
    "4. Now, `type.__call__` will call the `__init__` method defined on the `Human` class with `human_obj` as the first argument. This `human_obj` will be `self` in the `__init__` method.\n",
    "5. The `__init__` method will initialize the `human_obj` with the `first_name` as Kian and the `last_name` as Pirfalak. The `__init__` method will not return anything.\n",
    "6. In the end, `type.__call__` will return the `human_obj` object."
   ]
  },
  {
   "cell_type": "markdown",
   "id": "ee8cb87e",
   "metadata": {
    "papermill": {
     "duration": null,
     "end_time": null,
     "exception": null,
     "start_time": null,
     "status": "pending"
    },
    "tags": []
   },
   "source": [
    "As per the `type.__call__` definition, whenever we create a new object, the `__new__` method will always be called, but calling the `__init__` method depends on the output of the `__new__` method. The `__init__` method will be called only if the `__new__` method returns an object of type `Human` class or a subclass of the `Human` class."
   ]
  },
  {
   "cell_type": "markdown",
   "id": "0fc00382",
   "metadata": {
    "papermill": {
     "duration": null,
     "end_time": null,
     "exception": null,
     "start_time": null,
     "status": "pending"
    },
    "tags": []
   },
   "source": [
    "## Conclusion"
   ]
  },
  {
   "cell_type": "markdown",
   "id": "ae7e9a0c",
   "metadata": {
    "papermill": {
     "duration": null,
     "end_time": null,
     "exception": null,
     "start_time": null,
     "status": "pending"
    },
    "tags": []
   },
   "source": [
    "In this article, we explored the `__new__`, `__init__`, and `__call__` magic methods and discussed Metaclass in Python. In doing so, we have a better understanding of the object creation and initialization processes in Python."
   ]
  }
 ],
 "metadata": {
  "kernelspec": {
   "display_name": "Python 3",
   "language": "python",
   "name": "python3"
  },
  "language_info": {
   "codemirror_mode": {
    "name": "ipython",
    "version": 3
   },
   "file_extension": ".py",
   "mimetype": "text/x-python",
   "name": "python",
   "nbconvert_exporter": "python",
   "pygments_lexer": "ipython3",
   "version": "3.10.12"
  },
  "papermill": {
   "default_parameters": {},
   "duration": 5.103468,
   "end_time": "2023-10-15T11:42:52.815950",
   "environment_variables": {},
   "exception": true,
   "input_path": "__notebook__.ipynb",
   "output_path": "__notebook__.ipynb",
   "parameters": {},
   "start_time": "2023-10-15T11:42:47.712482",
   "version": "2.4.0"
  }
 },
 "nbformat": 4,
 "nbformat_minor": 5
}
