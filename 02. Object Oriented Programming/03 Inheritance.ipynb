{
 "cells": [
  {
   "cell_type": "markdown",
   "id": "bfc66355",
   "metadata": {
    "papermill": {
     "duration": 0.011077,
     "end_time": "2023-10-15T11:37:12.095338",
     "exception": false,
     "start_time": "2023-10-15T11:37:12.084261",
     "status": "completed"
    },
    "tags": []
   },
   "source": []
  },
  {
   "cell_type": "markdown",
   "id": "e7e06c57",
   "metadata": {
    "papermill": {
     "duration": 0.010799,
     "end_time": "2023-10-15T11:37:12.116738",
     "exception": false,
     "start_time": "2023-10-15T11:37:12.105939",
     "status": "completed"
    },
    "tags": []
   },
   "source": [
    "#  Inheritance\n"
   ]
  },
  {
   "cell_type": "code",
   "execution_count": null,
   "id": "186fdab3",
   "metadata": {
    "papermill": {
     "duration": 0.010231,
     "end_time": "2023-10-15T11:37:12.137675",
     "exception": false,
     "start_time": "2023-10-15T11:37:12.127444",
     "status": "completed"
    },
    "tags": []
   },
   "outputs": [],
   "source": []
  },
  {
   "cell_type": "markdown",
   "id": "b8265a47",
   "metadata": {
    "papermill": {
     "duration": 0.010303,
     "end_time": "2023-10-15T11:37:12.158832",
     "exception": false,
     "start_time": "2023-10-15T11:37:12.148529",
     "status": "completed"
    },
    "tags": []
   },
   "source": [
    "##  Table of Contents \n",
    "* [Inheritance in Python](#inheritance_in_python)\n",
    "    * [Single Inheritance](#single_inheritance)\n",
    "    * [What is `super()`?](#what_is_super)\n",
    "    * [Multi-Level Inheritance](#multi-level_inheritance)\n",
    "    * [Hierarchical Inheritance](#hierarchical_inheritance)\n",
    "    * [Multiple Inheritance](#multiple_inheritance)\n",
    "* [`issubclass()` & `isinstance()`](#`issubclass()`_&_`isinstance()`)\n",
    "* [Check Your Understanding](#check_your_understanding)\n",
    "* [Conclusion](#conclusion)\n",
    "\n",
    "---"
   ]
  },
  {
   "cell_type": "markdown",
   "id": "8e72eda3",
   "metadata": {
    "papermill": {
     "duration": 0.010363,
     "end_time": "2023-10-15T11:37:12.180269",
     "exception": false,
     "start_time": "2023-10-15T11:37:12.169906",
     "status": "completed"
    },
    "tags": []
   },
   "source": [
    "Although the analogy isn’t perfect, you can think of object inheritance sort of like genetic inheritance."
   ]
  },
  {
   "cell_type": "markdown",
   "id": "7c3cf265",
   "metadata": {
    "papermill": {
     "duration": 0.010354,
     "end_time": "2023-10-15T11:37:12.201391",
     "exception": false,
     "start_time": "2023-10-15T11:37:12.191037",
     "status": "completed"
    },
    "tags": []
   },
   "source": [
    "You may have inherited your hair color from your mother. It’s an attribute you were born with. Let’s say you decide to color your hair purple. Assuming your mother doesn’t have purple hair, you’ve just **overridden** the hair color attribute that you inherited from your mom."
   ]
  },
  {
   "cell_type": "markdown",
   "id": "3eb2ce7f",
   "metadata": {
    "papermill": {
     "duration": 0.011695,
     "end_time": "2023-10-15T11:37:12.223710",
     "exception": false,
     "start_time": "2023-10-15T11:37:12.212015",
     "status": "completed"
    },
    "tags": []
   },
   "source": [
    "You also inherit, in a sense, your language from your parents. If your parents speak English, then you’ll also speak English. Now imagine you decide to learn a second language, like German. In this case you’ve **extended** your attributes because you’ve added an attribute that your parents don’t have."
   ]
  },
  {
   "cell_type": "markdown",
   "id": "08ded96d",
   "metadata": {
    "papermill": {
     "duration": 0.01017,
     "end_time": "2023-10-15T11:37:12.244588",
     "exception": false,
     "start_time": "2023-10-15T11:37:12.234418",
     "status": "completed"
    },
    "tags": []
   },
   "source": [
    "In other words, **Inheritance** models what is called a **relationship**. This means that when you have a **Derived** or **Child** class that inherits from a **Base** or **Parent** class, you created a relationship where **Derived** or **Child** is a specialized version of **Base** or **Parent**, meaning one class takes on the attributes and methods of another."
   ]
  },
  {
   "cell_type": "markdown",
   "id": "e1f06b3a",
   "metadata": {
    "papermill": {
     "duration": 0.010206,
     "end_time": "2023-10-15T11:37:12.265267",
     "exception": false,
     "start_time": "2023-10-15T11:37:12.255061",
     "status": "completed"
    },
    "tags": []
   },
   "source": [
    "Child classes can override or extend the attributes and methods of parent classes. In other words, child classes inherit all of the parent’s attributes and methods but can also specify attributes and methods that are unique to themselves."
   ]
  },
  {
   "cell_type": "markdown",
   "id": "b647c24c",
   "metadata": {
    "papermill": {
     "duration": 0.010526,
     "end_time": "2023-10-15T11:37:12.286476",
     "exception": false,
     "start_time": "2023-10-15T11:37:12.275950",
     "status": "completed"
    },
    "tags": []
   },
   "source": [
    "**Note:** In an inheritance relationship:\n",
    "\n",
    "- Classes that inherit from another are called derived classes, subclasses, or subtypes.\n",
    "- Classes from which other classes are derived are called base classes or super classes.\n",
    "- A derived class is said to derive, inherit, or extend a base class."
   ]
  },
  {
   "cell_type": "markdown",
   "id": "3cecc4d1",
   "metadata": {
    "papermill": {
     "duration": 0.010234,
     "end_time": "2023-10-15T11:37:12.307225",
     "exception": false,
     "start_time": "2023-10-15T11:37:12.296991",
     "status": "completed"
    },
    "tags": []
   },
   "source": [
    "<a class=\"anchor\" id=\"inheritance_in_python\"></a>\n",
    "## Inheritance in Python"
   ]
  },
  {
   "cell_type": "markdown",
   "id": "a8cde169",
   "metadata": {
    "papermill": {
     "duration": 0.068458,
     "end_time": "2023-10-15T11:37:12.386143",
     "exception": false,
     "start_time": "2023-10-15T11:37:12.317685",
     "status": "completed"
    },
    "tags": []
   },
   "source": [
    "Inheritance is a required feature of every object oriented programming language. This means that Python supports inheritance, and as you’ll see later, it’s one of the few languages that supports multiple inheritance."
   ]
  },
  {
   "cell_type": "markdown",
   "id": "324214cb",
   "metadata": {
    "papermill": {
     "duration": 0.010294,
     "end_time": "2023-10-15T11:37:12.406986",
     "exception": false,
     "start_time": "2023-10-15T11:37:12.396692",
     "status": "completed"
    },
    "tags": []
   },
   "source": []
  },
  {
   "cell_type": "markdown",
   "id": "e1cf2303",
   "metadata": {
    "papermill": {
     "duration": 0.010182,
     "end_time": "2023-10-15T11:37:12.427876",
     "exception": false,
     "start_time": "2023-10-15T11:37:12.417694",
     "status": "completed"
    },
    "tags": []
   },
   "source": [
    "<a class=\"anchor\" id=\"single_inheritance\"></a>\n",
    "### Single Inheritance"
   ]
  },
  {
   "cell_type": "markdown",
   "id": "273719d3",
   "metadata": {
    "papermill": {
     "duration": 0.010266,
     "end_time": "2023-10-15T11:37:12.448719",
     "exception": false,
     "start_time": "2023-10-15T11:37:12.438453",
     "status": "completed"
    },
    "tags": []
   },
   "source": []
  },
  {
   "cell_type": "markdown",
   "id": "334f33cf",
   "metadata": {
    "papermill": {
     "duration": 0.01015,
     "end_time": "2023-10-15T11:37:12.469325",
     "exception": false,
     "start_time": "2023-10-15T11:37:12.459175",
     "status": "completed"
    },
    "tags": []
   },
   "source": [
    "It’s easier to understand these concepts when looking at code, so let’s write classes describing some shapes:"
   ]
  },
  {
   "cell_type": "code",
   "execution_count": 1,
   "id": "4784486d",
   "metadata": {
    "execution": {
     "iopub.execute_input": "2023-10-15T11:37:12.492550Z",
     "iopub.status.busy": "2023-10-15T11:37:12.492037Z",
     "iopub.status.idle": "2023-10-15T11:37:12.502083Z",
     "shell.execute_reply": "2023-10-15T11:37:12.500819Z"
    },
    "papermill": {
     "duration": 0.02431,
     "end_time": "2023-10-15T11:37:12.504216",
     "exception": false,
     "start_time": "2023-10-15T11:37:12.479906",
     "status": "completed"
    },
    "tags": []
   },
   "outputs": [],
   "source": [
    "class Rectangle:\n",
    "    def __init__(self, length, width):\n",
    "        self.length = length\n",
    "        self.width = width\n",
    "\n",
    "    def area(self):\n",
    "        return self.length * self.width\n",
    "\n",
    "    def perimeter(self):\n",
    "        return 2 * self.length + 2 * self.width"
   ]
  },
  {
   "cell_type": "code",
   "execution_count": 2,
   "id": "79e1289e",
   "metadata": {
    "execution": {
     "iopub.execute_input": "2023-10-15T11:37:12.528012Z",
     "iopub.status.busy": "2023-10-15T11:37:12.527635Z",
     "iopub.status.idle": "2023-10-15T11:37:12.532877Z",
     "shell.execute_reply": "2023-10-15T11:37:12.531737Z"
    },
    "papermill": {
     "duration": 0.019957,
     "end_time": "2023-10-15T11:37:12.534907",
     "exception": false,
     "start_time": "2023-10-15T11:37:12.514950",
     "status": "completed"
    },
    "tags": []
   },
   "outputs": [],
   "source": [
    "class Square:\n",
    "    def __init__(self, length):\n",
    "        self.length = length\n",
    "\n",
    "    def area(self):\n",
    "        return self.length * self.length\n",
    "\n",
    "    def perimeter(self):\n",
    "        return 4 * self.length"
   ]
  },
  {
   "cell_type": "markdown",
   "id": "867cbbce",
   "metadata": {
    "papermill": {
     "duration": 0.011121,
     "end_time": "2023-10-15T11:37:12.556872",
     "exception": false,
     "start_time": "2023-10-15T11:37:12.545751",
     "status": "completed"
    },
    "tags": []
   },
   "source": [
    "Here, there are two similar classes: `Rectangle` and `Square`."
   ]
  },
  {
   "cell_type": "markdown",
   "id": "f90c707a",
   "metadata": {
    "papermill": {
     "duration": 0.010547,
     "end_time": "2023-10-15T11:37:12.578401",
     "exception": false,
     "start_time": "2023-10-15T11:37:12.567854",
     "status": "completed"
    },
    "tags": []
   },
   "source": [
    "You can use them as below:"
   ]
  },
  {
   "cell_type": "code",
   "execution_count": 3,
   "id": "87eb1a66",
   "metadata": {
    "execution": {
     "iopub.execute_input": "2023-10-15T11:37:12.601505Z",
     "iopub.status.busy": "2023-10-15T11:37:12.601121Z",
     "iopub.status.idle": "2023-10-15T11:37:12.607942Z",
     "shell.execute_reply": "2023-10-15T11:37:12.607243Z"
    },
    "papermill": {
     "duration": 0.0209,
     "end_time": "2023-10-15T11:37:12.610032",
     "exception": false,
     "start_time": "2023-10-15T11:37:12.589132",
     "status": "completed"
    },
    "tags": []
   },
   "outputs": [
    {
     "data": {
      "text/plain": [
       "16"
      ]
     },
     "execution_count": 3,
     "metadata": {},
     "output_type": "execute_result"
    }
   ],
   "source": [
    "square = Square(4)\n",
    "square.area()"
   ]
  },
  {
   "cell_type": "code",
   "execution_count": 4,
   "id": "42bb5cc3",
   "metadata": {
    "execution": {
     "iopub.execute_input": "2023-10-15T11:37:12.634212Z",
     "iopub.status.busy": "2023-10-15T11:37:12.633327Z",
     "iopub.status.idle": "2023-10-15T11:37:12.639763Z",
     "shell.execute_reply": "2023-10-15T11:37:12.638787Z"
    },
    "papermill": {
     "duration": 0.02032,
     "end_time": "2023-10-15T11:37:12.641582",
     "exception": false,
     "start_time": "2023-10-15T11:37:12.621262",
     "status": "completed"
    },
    "tags": []
   },
   "outputs": [
    {
     "data": {
      "text/plain": [
       "8"
      ]
     },
     "execution_count": 4,
     "metadata": {},
     "output_type": "execute_result"
    }
   ],
   "source": [
    "rectangle = Rectangle(2,4)\n",
    "rectangle.area()"
   ]
  },
  {
   "cell_type": "markdown",
   "id": "f191c054",
   "metadata": {
    "papermill": {
     "duration": 0.010612,
     "end_time": "2023-10-15T11:37:12.663328",
     "exception": false,
     "start_time": "2023-10-15T11:37:12.652716",
     "status": "completed"
    },
    "tags": []
   },
   "source": [
    "In this example, you have two shapes that are related to each other: a square is a special kind of rectangle. The code, however, doesn’t reflect that relationship and thus has code that is essentially repeated. "
   ]
  },
  {
   "cell_type": "markdown",
   "id": "ecc42b56",
   "metadata": {
    "papermill": {
     "duration": 0.011204,
     "end_time": "2023-10-15T11:37:12.685904",
     "exception": false,
     "start_time": "2023-10-15T11:37:12.674700",
     "status": "completed"
    },
    "tags": []
   },
   "source": [
    "By using inheritance, you can reduce the amount of code you write while simultaneously reflecting the real-world relationship between rectangles and squares:"
   ]
  },
  {
   "cell_type": "code",
   "execution_count": 5,
   "id": "38239270",
   "metadata": {
    "execution": {
     "iopub.execute_input": "2023-10-15T11:37:12.709794Z",
     "iopub.status.busy": "2023-10-15T11:37:12.708668Z",
     "iopub.status.idle": "2023-10-15T11:37:12.716023Z",
     "shell.execute_reply": "2023-10-15T11:37:12.715133Z"
    },
    "papermill": {
     "duration": 0.021204,
     "end_time": "2023-10-15T11:37:12.718009",
     "exception": false,
     "start_time": "2023-10-15T11:37:12.696805",
     "status": "completed"
    },
    "tags": []
   },
   "outputs": [],
   "source": [
    "class Rectangle:\n",
    "    def __init__(self, length, width):\n",
    "        self.length = length\n",
    "        self.width = width\n",
    "\n",
    "    def area(self):\n",
    "        return self.length * self.width\n",
    "\n",
    "    def perimeter(self):\n",
    "        return 2 * self.length + 2 * self.width\n",
    "\n",
    "# Here we declare that the Square class inherits from the Rectangle class\n",
    "class Square(Rectangle):\n",
    "    def __init__(self, length):\n",
    "        super().__init__(length, length)"
   ]
  },
  {
   "cell_type": "code",
   "execution_count": 6,
   "id": "23e292e8",
   "metadata": {
    "execution": {
     "iopub.execute_input": "2023-10-15T11:37:12.742411Z",
     "iopub.status.busy": "2023-10-15T11:37:12.741765Z",
     "iopub.status.idle": "2023-10-15T11:37:12.747461Z",
     "shell.execute_reply": "2023-10-15T11:37:12.746390Z"
    },
    "papermill": {
     "duration": 0.020222,
     "end_time": "2023-10-15T11:37:12.749438",
     "exception": false,
     "start_time": "2023-10-15T11:37:12.729216",
     "status": "completed"
    },
    "tags": []
   },
   "outputs": [
    {
     "data": {
      "text/plain": [
       "16"
      ]
     },
     "execution_count": 6,
     "metadata": {},
     "output_type": "execute_result"
    }
   ],
   "source": [
    "square = Square(4)\n",
    "square.area()"
   ]
  },
  {
   "cell_type": "markdown",
   "id": "50be0828",
   "metadata": {
    "papermill": {
     "duration": 0.010912,
     "end_time": "2023-10-15T11:37:12.771675",
     "exception": false,
     "start_time": "2023-10-15T11:37:12.760763",
     "status": "completed"
    },
    "tags": []
   },
   "source": [
    "Here we used a python built-in function named `super()`, but what does it do? Let's explore."
   ]
  },
  {
   "cell_type": "markdown",
   "id": "734bee1f",
   "metadata": {
    "papermill": {
     "duration": 0.010948,
     "end_time": "2023-10-15T11:37:12.793714",
     "exception": false,
     "start_time": "2023-10-15T11:37:12.782766",
     "status": "completed"
    },
    "tags": []
   },
   "source": [
    "<a class=\"anchor\" id=\"what_is_super\"></a>\n",
    "### What is `super()`"
   ]
  },
  {
   "cell_type": "markdown",
   "id": "403067df",
   "metadata": {
    "papermill": {
     "duration": 0.011299,
     "end_time": "2023-10-15T11:37:12.816157",
     "exception": false,
     "start_time": "2023-10-15T11:37:12.804858",
     "status": "completed"
    },
    "tags": []
   },
   "source": [
    " The `super()` function is used to give access to methods and properties of a parent or sibling class. `super()` alone returns a temporary object of the superclass that then allows you to call that superclass’s methods."
   ]
  },
  {
   "cell_type": "markdown",
   "id": "725254e2",
   "metadata": {
    "papermill": {
     "duration": 0.010813,
     "end_time": "2023-10-15T11:37:12.838007",
     "exception": false,
     "start_time": "2023-10-15T11:37:12.827194",
     "status": "completed"
    },
    "tags": []
   },
   "source": [
    "Why would you want to do any of this? While the possibilities are limited by your imagination, a common use case is building classes that extend the functionality of previously built classes. Calling the previously built methods with `super()` saves you from needing to rewrite those methods in your subclass, and allows you to swap out superclasses with minimal code changes."
   ]
  },
  {
   "cell_type": "markdown",
   "id": "64c56450",
   "metadata": {
    "papermill": {
     "duration": 0.010875,
     "end_time": "2023-10-15T11:37:12.860210",
     "exception": false,
     "start_time": "2023-10-15T11:37:12.849335",
     "status": "completed"
    },
    "tags": []
   },
   "source": [
    "You may be wondering, why don't we call the parent `__init__` function like below?"
   ]
  },
  {
   "cell_type": "code",
   "execution_count": 7,
   "id": "c33cc555",
   "metadata": {
    "execution": {
     "iopub.execute_input": "2023-10-15T11:37:12.884246Z",
     "iopub.status.busy": "2023-10-15T11:37:12.883587Z",
     "iopub.status.idle": "2023-10-15T11:37:12.887750Z",
     "shell.execute_reply": "2023-10-15T11:37:12.886830Z"
    },
    "papermill": {
     "duration": 0.018451,
     "end_time": "2023-10-15T11:37:12.889729",
     "exception": false,
     "start_time": "2023-10-15T11:37:12.871278",
     "status": "completed"
    },
    "tags": []
   },
   "outputs": [],
   "source": [
    "class Square(Rectangle):\n",
    "    def __init__(self, length):\n",
    "        Rectangle.__init__(self, length, length)"
   ]
  },
  {
   "cell_type": "code",
   "execution_count": 8,
   "id": "a0566b2e",
   "metadata": {
    "execution": {
     "iopub.execute_input": "2023-10-15T11:37:12.914520Z",
     "iopub.status.busy": "2023-10-15T11:37:12.913877Z",
     "iopub.status.idle": "2023-10-15T11:37:12.919253Z",
     "shell.execute_reply": "2023-10-15T11:37:12.918561Z"
    },
    "papermill": {
     "duration": 0.019825,
     "end_time": "2023-10-15T11:37:12.921057",
     "exception": false,
     "start_time": "2023-10-15T11:37:12.901232",
     "status": "completed"
    },
    "tags": []
   },
   "outputs": [
    {
     "data": {
      "text/plain": [
       "16"
      ]
     },
     "execution_count": 8,
     "metadata": {},
     "output_type": "execute_result"
    }
   ],
   "source": [
    "square = Square(4)\n",
    "square.area()"
   ]
  },
  {
   "cell_type": "markdown",
   "id": "1f7f6c81",
   "metadata": {
    "papermill": {
     "duration": 0.011064,
     "end_time": "2023-10-15T11:37:12.943634",
     "exception": false,
     "start_time": "2023-10-15T11:37:12.932570",
     "status": "completed"
    },
    "tags": []
   },
   "source": [
    "It still works. But there is a problem! Here we are calling the parent class explicitly and we have a duplicate code. If during code development, the parent class changes, we have to update every place in code where we used the parent class name."
   ]
  },
  {
   "cell_type": "markdown",
   "id": "13260bec",
   "metadata": {
    "papermill": {
     "duration": 0.011127,
     "end_time": "2023-10-15T11:37:12.966065",
     "exception": false,
     "start_time": "2023-10-15T11:37:12.954938",
     "status": "completed"
    },
    "tags": []
   },
   "source": [
    "Python `super()` function allows us to refer the superclass implicitly. So, Python super makes our task easier and comfortable. While referring the superclass from the subclass, we don’t need to write the name of superclass explicitly, thus making the code more maintainable"
   ]
  },
  {
   "cell_type": "code",
   "execution_count": 9,
   "id": "1a6f7e67",
   "metadata": {
    "execution": {
     "iopub.execute_input": "2023-10-15T11:37:12.991149Z",
     "iopub.status.busy": "2023-10-15T11:37:12.990450Z",
     "iopub.status.idle": "2023-10-15T11:37:12.995010Z",
     "shell.execute_reply": "2023-10-15T11:37:12.993904Z"
    },
    "papermill": {
     "duration": 0.01973,
     "end_time": "2023-10-15T11:37:12.997279",
     "exception": false,
     "start_time": "2023-10-15T11:37:12.977549",
     "status": "completed"
    },
    "tags": []
   },
   "outputs": [],
   "source": [
    "class Square(Rectangle):\n",
    "    def __init__(self, length):\n",
    "        super().__init__(length, length)"
   ]
  },
  {
   "cell_type": "markdown",
   "id": "ce7f81f9",
   "metadata": {
    "papermill": {
     "duration": 0.011209,
     "end_time": "2023-10-15T11:37:13.020073",
     "exception": false,
     "start_time": "2023-10-15T11:37:13.008864",
     "status": "completed"
    },
    "tags": []
   },
   "source": [
    "In `Square` class, we used `super()` to call the `__init__()` of the `Rectangle` class, allowing us to use it in the `Square` class without repeating code."
   ]
  },
  {
   "cell_type": "code",
   "execution_count": 10,
   "id": "2ee60025",
   "metadata": {
    "execution": {
     "iopub.execute_input": "2023-10-15T11:37:13.044351Z",
     "iopub.status.busy": "2023-10-15T11:37:13.043947Z",
     "iopub.status.idle": "2023-10-15T11:37:13.050117Z",
     "shell.execute_reply": "2023-10-15T11:37:13.049154Z"
    },
    "papermill": {
     "duration": 0.020684,
     "end_time": "2023-10-15T11:37:13.052130",
     "exception": false,
     "start_time": "2023-10-15T11:37:13.031446",
     "status": "completed"
    },
    "tags": []
   },
   "outputs": [
    {
     "data": {
      "text/plain": [
       "16"
      ]
     },
     "execution_count": 10,
     "metadata": {},
     "output_type": "execute_result"
    }
   ],
   "source": [
    "square = Square(4)\n",
    "square.area()"
   ]
  },
  {
   "cell_type": "markdown",
   "id": "92271f57",
   "metadata": {
    "papermill": {
     "duration": 0.011744,
     "end_time": "2023-10-15T11:37:13.075553",
     "exception": false,
     "start_time": "2023-10-15T11:37:13.063809",
     "status": "completed"
    },
    "tags": []
   },
   "source": [
    "We used `super()`, Because the `Square` and `Rectangle` `.__init__()` methods are so similar, you can simply call the superclass’s `.__init__()` method (`Rectangle.__init__()`) from that of `Square`. This sets the `.length` and `.width` attributes even though you just had to supply a single `length` parameter to the `Square` constructor."
   ]
  },
  {
   "cell_type": "markdown",
   "id": "3e8a6246",
   "metadata": {
    "papermill": {
     "duration": 0.011222,
     "end_time": "2023-10-15T11:37:13.098393",
     "exception": false,
     "start_time": "2023-10-15T11:37:13.087171",
     "status": "completed"
    },
    "tags": []
   },
   "source": [
    "When you run this, even though your `Square` class doesn’t explicitly implement it, the call to `.area()` will use the `.area()` method in the superclass and print `16`. The `Square` class **inherited** `.area()` from the `Rectangle` class."
   ]
  },
  {
   "cell_type": "markdown",
   "id": "fe5c37b1",
   "metadata": {
    "papermill": {
     "duration": 0.011128,
     "end_time": "2023-10-15T11:37:13.121018",
     "exception": false,
     "start_time": "2023-10-15T11:37:13.109890",
     "status": "completed"
    },
    "tags": []
   },
   "source": [
    "> **Note:** Aside from the zero argument form, `super()` is not limited to use inside methods. The two argument form specifies the arguments exactly and makes the appropriate references. The zero argument form only works inside a class definition, as the compiler fills in the necessary details to correctly retrieve the class being defined, as well as accessing the current instance for ordinary methods. Also, `super()` does much more than just search the parent class for a method or an attribute. It traverses the entire class hierarchy for a matching method or attribute. If you aren’t careful, `super()` can have surprising results."
   ]
  },
  {
   "cell_type": "markdown",
   "id": "aab2b9fe",
   "metadata": {
    "papermill": {
     "duration": 0.011248,
     "end_time": "2023-10-15T11:37:13.143708",
     "exception": false,
     "start_time": "2023-10-15T11:37:13.132460",
     "status": "completed"
    },
    "tags": []
   },
   "source": [
    "<a class=\"anchor\" id=\"multi-level_inheritance\"></a>\n",
    "### Multi-Level Inheritance"
   ]
  },
  {
   "cell_type": "markdown",
   "id": "880f8873",
   "metadata": {
    "papermill": {
     "duration": 0.011167,
     "end_time": "2023-10-15T11:37:13.166905",
     "exception": false,
     "start_time": "2023-10-15T11:37:13.155738",
     "status": "completed"
    },
    "tags": []
   },
   "source": []
  },
  {
   "cell_type": "markdown",
   "id": "fbfa8333",
   "metadata": {
    "papermill": {
     "duration": 0.011234,
     "end_time": "2023-10-15T11:37:13.189688",
     "exception": false,
     "start_time": "2023-10-15T11:37:13.178454",
     "status": "completed"
    },
    "tags": []
   },
   "source": [
    "In the example below, you will create a class `Cube` that inherits from `Square` and extends the functionality of `.area()` (inherited from the `Rectangle` class through `Square`) to calculate the surface area and volume of a `Cube` instance:"
   ]
  },
  {
   "cell_type": "code",
   "execution_count": 11,
   "id": "7b0de458",
   "metadata": {
    "execution": {
     "iopub.execute_input": "2023-10-15T11:37:13.214646Z",
     "iopub.status.busy": "2023-10-15T11:37:13.214252Z",
     "iopub.status.idle": "2023-10-15T11:37:13.219868Z",
     "shell.execute_reply": "2023-10-15T11:37:13.218783Z"
    },
    "papermill": {
     "duration": 0.020543,
     "end_time": "2023-10-15T11:37:13.222065",
     "exception": false,
     "start_time": "2023-10-15T11:37:13.201522",
     "status": "completed"
    },
    "tags": []
   },
   "outputs": [],
   "source": [
    "class Square(Rectangle):\n",
    "    def __init__(self, length):\n",
    "        super().__init__(length, length)\n",
    "\n",
    "class Cube(Square):\n",
    "    def surface_area(self):\n",
    "        face_area = super().area()\n",
    "        return face_area * 6\n",
    "\n",
    "    def volume(self):\n",
    "        face_area = super().area()\n",
    "        return face_area * self.length"
   ]
  },
  {
   "cell_type": "markdown",
   "id": "9df4daf9",
   "metadata": {
    "papermill": {
     "duration": 0.011175,
     "end_time": "2023-10-15T11:37:13.244872",
     "exception": false,
     "start_time": "2023-10-15T11:37:13.233697",
     "status": "completed"
    },
    "tags": []
   },
   "source": [
    "Now that you’ve built the classes, let’s look at the surface area and volume of a cube with a side length of `3`:"
   ]
  },
  {
   "cell_type": "code",
   "execution_count": 12,
   "id": "ce20d56b",
   "metadata": {
    "execution": {
     "iopub.execute_input": "2023-10-15T11:37:13.269875Z",
     "iopub.status.busy": "2023-10-15T11:37:13.269537Z",
     "iopub.status.idle": "2023-10-15T11:37:13.275129Z",
     "shell.execute_reply": "2023-10-15T11:37:13.274443Z"
    },
    "papermill": {
     "duration": 0.020516,
     "end_time": "2023-10-15T11:37:13.276983",
     "exception": false,
     "start_time": "2023-10-15T11:37:13.256467",
     "status": "completed"
    },
    "tags": []
   },
   "outputs": [
    {
     "data": {
      "text/plain": [
       "54"
      ]
     },
     "execution_count": 12,
     "metadata": {},
     "output_type": "execute_result"
    }
   ],
   "source": [
    "cube = Cube(3)\n",
    "cube.surface_area()"
   ]
  },
  {
   "cell_type": "code",
   "execution_count": 13,
   "id": "9f30cb70",
   "metadata": {
    "execution": {
     "iopub.execute_input": "2023-10-15T11:37:13.303353Z",
     "iopub.status.busy": "2023-10-15T11:37:13.302796Z",
     "iopub.status.idle": "2023-10-15T11:37:13.307972Z",
     "shell.execute_reply": "2023-10-15T11:37:13.307245Z"
    },
    "papermill": {
     "duration": 0.020753,
     "end_time": "2023-10-15T11:37:13.309722",
     "exception": false,
     "start_time": "2023-10-15T11:37:13.288969",
     "status": "completed"
    },
    "tags": []
   },
   "outputs": [
    {
     "data": {
      "text/plain": [
       "27"
      ]
     },
     "execution_count": 13,
     "metadata": {},
     "output_type": "execute_result"
    }
   ],
   "source": [
    "cube.volume()"
   ]
  },
  {
   "cell_type": "markdown",
   "id": "969ad0fe",
   "metadata": {
    "papermill": {
     "duration": 0.012331,
     "end_time": "2023-10-15T11:37:13.334160",
     "exception": false,
     "start_time": "2023-10-15T11:37:13.321829",
     "status": "completed"
    },
    "tags": []
   },
   "source": [
    "Here you have implemented two methods for the `Cube` class: `.surface_area()` and `.volume()`. Both of these calculations rely on calculating the area of a single face, so rather than reimplementing the area calculation, you use `super()` to extend the area calculation. "
   ]
  },
  {
   "cell_type": "markdown",
   "id": "c8e2b2d1",
   "metadata": {
    "papermill": {
     "duration": 0.011636,
     "end_time": "2023-10-15T11:37:13.357764",
     "exception": false,
     "start_time": "2023-10-15T11:37:13.346128",
     "status": "completed"
    },
    "tags": []
   },
   "source": [
    "Also notice that the `Cube` class definition does not have an `.__init__()`. Because `Cube` inherits from `Square` and `.__init__()` doesn’t really do anything differently for `Cube` than it already does for `Square`, you can skip defining it, and the `.__init__()` of the superclass (`Square`) will be called automatically. "
   ]
  },
  {
   "cell_type": "markdown",
   "id": "6376ba85",
   "metadata": {
    "papermill": {
     "duration": 0.011467,
     "end_time": "2023-10-15T11:37:13.381142",
     "exception": false,
     "start_time": "2023-10-15T11:37:13.369675",
     "status": "completed"
    },
    "tags": []
   },
   "source": [
    "`super()` returns a delegate object to a parent class, so you call the method you want directly on it: `super().area()`. "
   ]
  },
  {
   "cell_type": "markdown",
   "id": "1eaf011c",
   "metadata": {
    "papermill": {
     "duration": 0.011387,
     "end_time": "2023-10-15T11:37:13.405020",
     "exception": false,
     "start_time": "2023-10-15T11:37:13.393633",
     "status": "completed"
    },
    "tags": []
   },
   "source": [
    "Not only does this save us from having to rewrite the area calculations, but it also allows us to change the internal `.area()` logic in a single location. This is especially in handy when you have a number of subclasses inheriting from one superclass."
   ]
  },
  {
   "cell_type": "markdown",
   "id": "76395e65",
   "metadata": {
    "papermill": {
     "duration": 0.011365,
     "end_time": "2023-10-15T11:37:13.428068",
     "exception": false,
     "start_time": "2023-10-15T11:37:13.416703",
     "status": "completed"
    },
    "tags": []
   },
   "source": [
    "<a class=\"anchor\" id=\"hierarchical_inheritance\"></a>\n",
    "### Hierarchical Inheritance"
   ]
  },
  {
   "cell_type": "markdown",
   "id": "29468510",
   "metadata": {
    "papermill": {
     "duration": 0.011503,
     "end_time": "2023-10-15T11:37:13.451222",
     "exception": false,
     "start_time": "2023-10-15T11:37:13.439719",
     "status": "completed"
    },
    "tags": []
   },
   "source": [
    "Let's create another class on top of everything named `Shape` which has two child classes `Rectangle` as before and `Circle`."
   ]
  },
  {
   "cell_type": "markdown",
   "id": "afef08f4",
   "metadata": {
    "papermill": {
     "duration": 0.012196,
     "end_time": "2023-10-15T11:37:13.475747",
     "exception": false,
     "start_time": "2023-10-15T11:37:13.463551",
     "status": "completed"
    },
    "tags": []
   },
   "source": []
  },
  {
   "cell_type": "code",
   "execution_count": 14,
   "id": "1d4f126f",
   "metadata": {
    "execution": {
     "iopub.execute_input": "2023-10-15T11:37:13.501591Z",
     "iopub.status.busy": "2023-10-15T11:37:13.501021Z",
     "iopub.status.idle": "2023-10-15T11:37:13.505274Z",
     "shell.execute_reply": "2023-10-15T11:37:13.504593Z"
    },
    "papermill": {
     "duration": 0.019286,
     "end_time": "2023-10-15T11:37:13.507094",
     "exception": false,
     "start_time": "2023-10-15T11:37:13.487808",
     "status": "completed"
    },
    "tags": []
   },
   "outputs": [],
   "source": [
    "class Shape:\n",
    "    def __init__(self, color='Grey'):\n",
    "        self.color = color"
   ]
  },
  {
   "cell_type": "code",
   "execution_count": 15,
   "id": "2ba1dfa7",
   "metadata": {
    "execution": {
     "iopub.execute_input": "2023-10-15T11:37:13.532771Z",
     "iopub.status.busy": "2023-10-15T11:37:13.532370Z",
     "iopub.status.idle": "2023-10-15T11:37:13.538398Z",
     "shell.execute_reply": "2023-10-15T11:37:13.537373Z"
    },
    "papermill": {
     "duration": 0.021325,
     "end_time": "2023-10-15T11:37:13.540466",
     "exception": false,
     "start_time": "2023-10-15T11:37:13.519141",
     "status": "completed"
    },
    "tags": []
   },
   "outputs": [],
   "source": [
    "class Circle(Shape):\n",
    "    \"\"\"\n",
    "    Circle class.\n",
    "    \"\"\"\n",
    "    def __init__(self, r, color='Red'):\n",
    "        super().__init__(color)\n",
    "        self.r = r\n",
    "        \n",
    "    def area(self,):\n",
    "        return 3.14 * self.r * self.r\n",
    "    \n",
    "    def perimeter(self,):\n",
    "        return 2 * 3.14 * self.r"
   ]
  },
  {
   "cell_type": "code",
   "execution_count": 16,
   "id": "8bd656fc",
   "metadata": {
    "execution": {
     "iopub.execute_input": "2023-10-15T11:37:13.567391Z",
     "iopub.status.busy": "2023-10-15T11:37:13.566528Z",
     "iopub.status.idle": "2023-10-15T11:37:13.573097Z",
     "shell.execute_reply": "2023-10-15T11:37:13.572308Z"
    },
    "papermill": {
     "duration": 0.021955,
     "end_time": "2023-10-15T11:37:13.574963",
     "exception": false,
     "start_time": "2023-10-15T11:37:13.553008",
     "status": "completed"
    },
    "tags": []
   },
   "outputs": [],
   "source": [
    "class Rectangle(Shape):\n",
    "    def __init__(self, length, width, color='Green'):\n",
    "        super().__init__(color)\n",
    "        self.length = length\n",
    "        self.width = width\n",
    "\n",
    "    def area(self):\n",
    "        return self.length * self.width\n",
    "\n",
    "    def perimeter(self):\n",
    "        return 2 * self.length + 2 * self.width\n",
    "\n",
    "# Here we declare that the Square class inherits from the Rectangle class\n",
    "class Square(Rectangle):\n",
    "    def __init__(self, length, color='Yellow'):\n",
    "        super().__init__(length, length, color)"
   ]
  },
  {
   "cell_type": "code",
   "execution_count": 17,
   "id": "1d2aa1ab",
   "metadata": {
    "execution": {
     "iopub.execute_input": "2023-10-15T11:37:13.603920Z",
     "iopub.status.busy": "2023-10-15T11:37:13.603085Z",
     "iopub.status.idle": "2023-10-15T11:37:13.608468Z",
     "shell.execute_reply": "2023-10-15T11:37:13.607472Z"
    },
    "papermill": {
     "duration": 0.02225,
     "end_time": "2023-10-15T11:37:13.610204",
     "exception": false,
     "start_time": "2023-10-15T11:37:13.587954",
     "status": "completed"
    },
    "tags": []
   },
   "outputs": [],
   "source": [
    "class Cube(Square):\n",
    "    def surface_area(self):\n",
    "        face_area = super().area()\n",
    "        return face_area * 6\n",
    "\n",
    "    def volume(self):\n",
    "        face_area = super().area()\n",
    "        return face_area * self.length"
   ]
  },
  {
   "cell_type": "code",
   "execution_count": 18,
   "id": "b84c66d7",
   "metadata": {
    "execution": {
     "iopub.execute_input": "2023-10-15T11:37:13.638101Z",
     "iopub.status.busy": "2023-10-15T11:37:13.637723Z",
     "iopub.status.idle": "2023-10-15T11:37:13.641971Z",
     "shell.execute_reply": "2023-10-15T11:37:13.640968Z"
    },
    "papermill": {
     "duration": 0.020564,
     "end_time": "2023-10-15T11:37:13.643957",
     "exception": false,
     "start_time": "2023-10-15T11:37:13.623393",
     "status": "completed"
    },
    "tags": []
   },
   "outputs": [],
   "source": [
    "c = Circle(3)"
   ]
  },
  {
   "cell_type": "code",
   "execution_count": 19,
   "id": "c9a46991",
   "metadata": {
    "execution": {
     "iopub.execute_input": "2023-10-15T11:37:13.670651Z",
     "iopub.status.busy": "2023-10-15T11:37:13.669508Z",
     "iopub.status.idle": "2023-10-15T11:37:13.675342Z",
     "shell.execute_reply": "2023-10-15T11:37:13.674657Z"
    },
    "papermill": {
     "duration": 0.020957,
     "end_time": "2023-10-15T11:37:13.677032",
     "exception": false,
     "start_time": "2023-10-15T11:37:13.656075",
     "status": "completed"
    },
    "tags": []
   },
   "outputs": [
    {
     "data": {
      "text/plain": [
       "(28.259999999999998, 18.84, 'Red')"
      ]
     },
     "execution_count": 19,
     "metadata": {},
     "output_type": "execute_result"
    }
   ],
   "source": [
    "c.area(), c.perimeter(), c.color"
   ]
  },
  {
   "cell_type": "markdown",
   "id": "eb47a600",
   "metadata": {
    "papermill": {
     "duration": 0.011998,
     "end_time": "2023-10-15T11:37:13.701219",
     "exception": false,
     "start_time": "2023-10-15T11:37:13.689221",
     "status": "completed"
    },
    "tags": []
   },
   "source": [
    "<a class=\"anchor\" id=\"multiple_inheritance\"></a>\n",
    "### Multiple Inheritance"
   ]
  },
  {
   "cell_type": "markdown",
   "id": "e5aafaec",
   "metadata": {
    "papermill": {
     "duration": 0.014178,
     "end_time": "2023-10-15T11:37:13.727793",
     "exception": false,
     "start_time": "2023-10-15T11:37:13.713615",
     "status": "completed"
    },
    "tags": []
   },
   "source": [
    "Multiple inheritance **can be useful but also lead to very complicated situations and code that is hard to read**. It’s also rare to have objects that neatly inherit everything from more than multiple other objects. So we'll cover it as an optional section after covering a few basics of inheritance such as object hierarchy and abstract classes."
   ]
  },
  {
   "cell_type": "markdown",
   "id": "1c9e2fe6",
   "metadata": {
    "papermill": {
     "duration": 0.012145,
     "end_time": "2023-10-15T11:37:13.753700",
     "exception": false,
     "start_time": "2023-10-15T11:37:13.741555",
     "status": "completed"
    },
    "tags": []
   },
   "source": [
    "## Abstract Base Classes"
   ]
  },
  {
   "cell_type": "markdown",
   "id": "aef0894c",
   "metadata": {
    "papermill": {
     "duration": 0.012589,
     "end_time": "2023-10-15T11:37:13.779151",
     "exception": false,
     "start_time": "2023-10-15T11:37:13.766562",
     "status": "completed"
    },
    "tags": []
   },
   "source": [
    "The `Shape` class in the example above is what is called an `abstract` base class. Abstract base classes exist to be inherited, but never instantiated. Python provides the abc module to define abstract base classes."
   ]
  },
  {
   "cell_type": "markdown",
   "id": "cc7c9dcd",
   "metadata": {
    "papermill": {
     "duration": 0.012903,
     "end_time": "2023-10-15T11:37:13.804444",
     "exception": false,
     "start_time": "2023-10-15T11:37:13.791541",
     "status": "completed"
    },
    "tags": []
   },
   "source": [
    "You can use leading underscores in your class name to communicate that objects of that class should not be created. Underscores provide a friendly way to prevent misuse of your code, but they don’t prevent eager users from creating instances of that class."
   ]
  },
  {
   "cell_type": "markdown",
   "id": "d6f26887",
   "metadata": {
    "papermill": {
     "duration": 0.012017,
     "end_time": "2023-10-15T11:37:13.828994",
     "exception": false,
     "start_time": "2023-10-15T11:37:13.816977",
     "status": "completed"
    },
    "tags": []
   },
   "source": [
    "The `abc` module in the Python standard library provides functionality to prevent creating objects from abstract base classes. You can modify the implementation of the Shape class to ensure that it can’t be instantiated:"
   ]
  },
  {
   "cell_type": "code",
   "execution_count": 20,
   "id": "fb56d226",
   "metadata": {
    "execution": {
     "iopub.execute_input": "2023-10-15T11:37:13.858023Z",
     "iopub.status.busy": "2023-10-15T11:37:13.857257Z",
     "iopub.status.idle": "2023-10-15T11:37:13.862821Z",
     "shell.execute_reply": "2023-10-15T11:37:13.861783Z"
    },
    "papermill": {
     "duration": 0.022198,
     "end_time": "2023-10-15T11:37:13.865085",
     "exception": false,
     "start_time": "2023-10-15T11:37:13.842887",
     "status": "completed"
    },
    "tags": []
   },
   "outputs": [],
   "source": [
    "from abc import ABC, abstractmethod\n",
    "\n",
    "class Shape(ABC):\n",
    "    \"\"\"\n",
    "    Abstract shape class.\n",
    "    \"\"\"\n",
    "    def __init__(self, color='Black'):\n",
    "        print(\"Shape constructor called!\")\n",
    "        self.color = color\n",
    "        \n",
    "    def __str__(self, ):\n",
    "        return f\"Shape is {self.color}\"\n",
    "    \n",
    "    @abstractmethod\n",
    "    def area(self):\n",
    "        pass\n",
    "    \n",
    "    @abstractmethod\n",
    "    def perimeter(self):\n",
    "        pass"
   ]
  },
  {
   "cell_type": "markdown",
   "id": "279c9af7",
   "metadata": {
    "papermill": {
     "duration": 0.012067,
     "end_time": "2023-10-15T11:37:13.890021",
     "exception": false,
     "start_time": "2023-10-15T11:37:13.877954",
     "status": "completed"
    },
    "tags": []
   },
   "source": [
    "You derive `Shape` from `ABC`, making it an abstract base class. Then, you decorate the `.area()` and `.perimeter()` methods with the `@abstractmethod` decorator (Decorators will be discussed later in another section)."
   ]
  },
  {
   "cell_type": "markdown",
   "id": "5c82747c",
   "metadata": {
    "papermill": {
     "duration": 0.011944,
     "end_time": "2023-10-15T11:37:13.914491",
     "exception": false,
     "start_time": "2023-10-15T11:37:13.902547",
     "status": "completed"
    },
    "tags": []
   },
   "source": [
    "This change has two nice side-effects:\n",
    "\n",
    "1. You’re telling users of the module that objects of type `Shape` can’t be created.\n",
    "2. You’re telling other developers working on the other modules that if they derive from `Shape`, then they must override the `.area()` and `.perimeter()` abstract methods."
   ]
  },
  {
   "cell_type": "markdown",
   "id": "c84b7590",
   "metadata": {
    "papermill": {
     "duration": 0.0125,
     "end_time": "2023-10-15T11:37:13.939137",
     "exception": false,
     "start_time": "2023-10-15T11:37:13.926637",
     "status": "completed"
    },
    "tags": []
   },
   "source": [
    "You can see that objects of type `Shape` can’t be created:"
   ]
  },
  {
   "cell_type": "code",
   "execution_count": 21,
   "id": "041688c8",
   "metadata": {
    "execution": {
     "iopub.execute_input": "2023-10-15T11:37:13.966887Z",
     "iopub.status.busy": "2023-10-15T11:37:13.966320Z",
     "iopub.status.idle": "2023-10-15T11:37:14.209328Z",
     "shell.execute_reply": "2023-10-15T11:37:14.207857Z"
    },
    "papermill": {
     "duration": 0.258992,
     "end_time": "2023-10-15T11:37:14.211174",
     "exception": true,
     "start_time": "2023-10-15T11:37:13.952182",
     "status": "failed"
    },
    "tags": []
   },
   "outputs": [
    {
     "ename": "TypeError",
     "evalue": "Can't instantiate abstract class Shape with abstract methods area, perimeter",
     "output_type": "error",
     "traceback": [
      "\u001b[0;31m---------------------------------------------------------------------------\u001b[0m",
      "\u001b[0;31mTypeError\u001b[0m                                 Traceback (most recent call last)",
      "Cell \u001b[0;32mIn[21], line 2\u001b[0m\n\u001b[1;32m      1\u001b[0m \u001b[38;5;66;03m# Raises a TypeError\u001b[39;00m\n\u001b[0;32m----> 2\u001b[0m shape \u001b[38;5;241m=\u001b[39m \u001b[43mShape\u001b[49m\u001b[43m(\u001b[49m\u001b[43m)\u001b[49m\n",
      "\u001b[0;31mTypeError\u001b[0m: Can't instantiate abstract class Shape with abstract methods area, perimeter"
     ]
    }
   ],
   "source": [
    "# Raises a TypeError\n",
    "shape = Shape()"
   ]
  },
  {
   "cell_type": "markdown",
   "id": "342db8d3",
   "metadata": {
    "papermill": {
     "duration": null,
     "end_time": null,
     "exception": null,
     "start_time": null,
     "status": "pending"
    },
    "tags": []
   },
   "source": [
    "The output shows that the class cannot be instantiated because it contains `.area()` and `.perimeter` abstract methods. Derived classes must override the method to allow creating objects of their type."
   ]
  },
  {
   "cell_type": "markdown",
   "id": "aefe28c9",
   "metadata": {
    "papermill": {
     "duration": null,
     "end_time": null,
     "exception": null,
     "start_time": null,
     "status": "pending"
    },
    "tags": []
   },
   "source": [
    "<a class=\"anchor\" id=\"`issubclass()`_&_`isinstance()`\"></a>\n",
    "## `issubclass()` & `isinstance()`"
   ]
  },
  {
   "cell_type": "markdown",
   "id": "c9ae379f",
   "metadata": {
    "papermill": {
     "duration": null,
     "end_time": null,
     "exception": null,
     "start_time": null,
     "status": "pending"
    },
    "tags": []
   },
   "source": [
    "Two built-in functions `isinstance()` and `issubclass()` are used to check inheritances. Function `isinstance()` returns True if the object is an instance of the class or other classes derived from it.\n",
    "\n",
    "```python\n",
    "issubclass(derived, base)       # returns True\n",
    "issubclass(base, drived)        # returns False\n",
    "\n",
    "isinstance(object, derived)     # returns True\n",
    "isinstance(object, base)        # returns True\n",
    "```"
   ]
  },
  {
   "cell_type": "code",
   "execution_count": null,
   "id": "5091e63d",
   "metadata": {
    "papermill": {
     "duration": null,
     "end_time": null,
     "exception": null,
     "start_time": null,
     "status": "pending"
    },
    "tags": []
   },
   "outputs": [],
   "source": [
    "isinstance(s, Square), isinstance(s, Rectangle)"
   ]
  },
  {
   "cell_type": "code",
   "execution_count": null,
   "id": "fec7e901",
   "metadata": {
    "papermill": {
     "duration": null,
     "end_time": null,
     "exception": null,
     "start_time": null,
     "status": "pending"
    },
    "tags": []
   },
   "outputs": [],
   "source": [
    "isinstance(r, Rectangle), isinstance(r, Square)"
   ]
  },
  {
   "cell_type": "code",
   "execution_count": null,
   "id": "e3b625ff",
   "metadata": {
    "papermill": {
     "duration": null,
     "end_time": null,
     "exception": null,
     "start_time": null,
     "status": "pending"
    },
    "tags": []
   },
   "outputs": [],
   "source": [
    "issubclass(Square, Rectangle), issubclass(Rectangle, Shape), issubclass(Rectangle, Square)"
   ]
  },
  {
   "cell_type": "markdown",
   "id": "09a86a75",
   "metadata": {
    "papermill": {
     "duration": null,
     "end_time": null,
     "exception": null,
     "start_time": null,
     "status": "pending"
    },
    "tags": []
   },
   "source": [
    "<a class=\"anchor\" id=\"check_your_understanding\"></a>\n",
    "## Check Your Understanding"
   ]
  },
  {
   "cell_type": "markdown",
   "id": "c7cf4dd5",
   "metadata": {
    "papermill": {
     "duration": null,
     "end_time": null,
     "exception": null,
     "start_time": null,
     "status": "pending"
    },
    "tags": []
   },
   "source": [
    "> **Exercise:** Class Inheritance\n",
    "Create a `GoldenRetriever` class that inherits from the `Dog` class. Give the sound argument of `GoldenRetriever.speak()` a default value of `\"Bark\"`. Use the following code for your parent `Dog` class:\n",
    "> \n",
    "> ```python\n",
    "> class Dog:\n",
    ">     species = \"Canis familiaris\"\n",
    "> \n",
    ">     def __init__(self, name, age):\n",
    ">         self.name = name\n",
    ">         self.age = age\n",
    "> \n",
    ">     def __str__(self):\n",
    ">         return f\"{self.name} is {self.age} years old\"\n",
    "> \n",
    ">     def speak(self, sound):\n",
    ">         return f\"{self.name} says {sound}\"\n",
    "> ```"
   ]
  },
  {
   "cell_type": "markdown",
   "id": "091ab9af",
   "metadata": {
    "papermill": {
     "duration": null,
     "end_time": null,
     "exception": null,
     "start_time": null,
     "status": "pending"
    },
    "tags": []
   },
   "source": [
    "> **Solution:**\n",
    "> Create a class called `GoldenRetriever` that inherits from the `Dog` class and overrides the `.speak()` method:\n",
    "> ```python\n",
    "class GoldenRetriever(Dog):\n",
    "    def speak(self, sound=\"Bark\"):\n",
    "        return super().speak(sound)\n",
    "> ```\n",
    "> The `sound` parameter in `GoldenRetriever.speak()` is given a default value of `\"Bark\"`. Then `super()` is used to call the parent class’s `.speak()` method with the same argument passed to sound as the `GoldenRetriever` class’s `.speak()` method."
   ]
  },
  {
   "cell_type": "markdown",
   "id": "2f26b125",
   "metadata": {
    "papermill": {
     "duration": null,
     "end_time": null,
     "exception": null,
     "start_time": null,
     "status": "pending"
    },
    "tags": []
   },
   "source": [
    "<a class=\"anchor\" id=\"conclusion\"></a>\n",
    "## Conclusion "
   ]
  },
  {
   "cell_type": "markdown",
   "id": "b6426a91",
   "metadata": {
    "papermill": {
     "duration": null,
     "end_time": null,
     "exception": null,
     "start_time": null,
     "status": "pending"
    },
    "tags": []
   },
   "source": [
    "In the previous sections, you learned about object-oriented programming (OOP) in Python. Most modern programming languages, such as Java, C#, and C++, follow OOP principles, so the knowledge you gained here will be applicable no matter where your programming career takes you."
   ]
  },
  {
   "cell_type": "markdown",
   "id": "afe9edcd",
   "metadata": {
    "papermill": {
     "duration": null,
     "end_time": null,
     "exception": null,
     "start_time": null,
     "status": "pending"
    },
    "tags": []
   },
   "source": [
    "In this section, you learned how to:\n",
    "\n",
    "- Define a **class**, which is a sort of blueprint for an object\n",
    "- Instantiate an **object** from a class\n",
    "- Use **attributes** and **methods** to define the **properties** and **behaviors** of an object\n",
    "- Use **inheritance** to create **child classes** from a **parent class**\n",
    "- Reference a method on a parent class using `super()`\n",
    "- Check if an object inherits from another class using `isinstance()`"
   ]
  }
 ],
 "metadata": {
  "kernelspec": {
   "display_name": "Python 3",
   "language": "python",
   "name": "python3"
  },
  "language_info": {
   "codemirror_mode": {
    "name": "ipython",
    "version": 3
   },
   "file_extension": ".py",
   "mimetype": "text/x-python",
   "name": "python",
   "nbconvert_exporter": "python",
   "pygments_lexer": "ipython3",
   "version": "3.10.12"
  },
  "papermill": {
   "default_parameters": {},
   "duration": 5.835297,
   "end_time": "2023-10-15T11:37:14.643567",
   "environment_variables": {},
   "exception": true,
   "input_path": "__notebook__.ipynb",
   "output_path": "__notebook__.ipynb",
   "parameters": {},
   "start_time": "2023-10-15T11:37:08.808270",
   "version": "2.4.0"
  }
 },
 "nbformat": 4,
 "nbformat_minor": 5
}
