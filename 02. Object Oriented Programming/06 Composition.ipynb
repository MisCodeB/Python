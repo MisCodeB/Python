{
 "cells": [
  {
   "cell_type": "markdown",
   "id": "cd740791",
   "metadata": {
    "papermill": {
     "duration": 0.013486,
     "end_time": "2023-10-15T11:57:18.076821",
     "exception": false,
     "start_time": "2023-10-15T11:57:18.063335",
     "status": "completed"
    },
    "tags": []
   },
   "source": []
  },
  {
   "cell_type": "markdown",
   "id": "90707b1e",
   "metadata": {
    "papermill": {
     "duration": 0.012219,
     "end_time": "2023-10-15T11:57:18.101984",
     "exception": false,
     "start_time": "2023-10-15T11:57:18.089765",
     "status": "completed"
    },
    "tags": []
   },
   "source": [
    "#  Composition"
   ]
  },
  {
   "cell_type": "markdown",
   "id": "b024ef47",
   "metadata": {
    "papermill": {
     "duration": 0.012921,
     "end_time": "2023-10-15T11:57:18.127061",
     "exception": false,
     "start_time": "2023-10-15T11:57:18.114140",
     "status": "completed"
    },
    "tags": []
   },
   "source": [
    "##  Table of Contents \n",
    "* [What is Composition?](#what-is-composition)\n",
    "* [Implementation Inheritance vs Interface Inheritance](#implementation_inheritance_vs_interface_inheritance)\n",
    "* [The Class Explosion Problem\n",
    "](#class-explosion)\n",
    "* [Composition](#composition)\n",
    "* [Flexible Designs With Composition](#flexible_designs_with_composition)\n",
    "* [Choosing Between Inheritance and Composition in Python](#choosing_between_inheritance_and_composition_in_python)\n",
    "    * [Inheritance to Model **\"Is A\"** Relationship](#inheritance-model-is-a)\n",
    "    * [Composition to Model **\"Has A\"** Relationship](#composition-model-has-a)\n",
    "* [Conclusion](#conclusion) \n",
    "---"
   ]
  },
  {
   "cell_type": "markdown",
   "id": "2dfdaebb",
   "metadata": {
    "papermill": {
     "duration": 0.011935,
     "end_time": "2023-10-15T11:57:18.151326",
     "exception": false,
     "start_time": "2023-10-15T11:57:18.139391",
     "status": "completed"
    },
    "tags": []
   },
   "source": [
    "**Inheritance** and **composition** are two important concepts in object oriented programming that model the relationship between two classes. They are the building blocks of object oriented design, and they help programmers to write reusable code."
   ]
  },
  {
   "cell_type": "markdown",
   "id": "162c707c",
   "metadata": {
    "papermill": {
     "duration": 0.011823,
     "end_time": "2023-10-15T11:57:18.175193",
     "exception": false,
     "start_time": "2023-10-15T11:57:18.163370",
     "status": "completed"
    },
    "tags": []
   },
   "source": [
    "They drive the design of an application and determine how the application should evolve as new features are added or requirements change."
   ]
  },
  {
   "cell_type": "markdown",
   "id": "e5510e63",
   "metadata": {
    "papermill": {
     "duration": 0.012423,
     "end_time": "2023-10-15T11:57:18.203569",
     "exception": false,
     "start_time": "2023-10-15T11:57:18.191146",
     "status": "completed"
    },
    "tags": []
   },
   "source": [
    "Inheritance models what is called an is a relationship. This means that when you have a Derived class that inherits from a Base class, you created a relationship where Derived is a specialized version of Base."
   ]
  },
  {
   "cell_type": "markdown",
   "id": "cdd653e4",
   "metadata": {
    "papermill": {
     "duration": 0.012121,
     "end_time": "2023-10-15T11:57:18.228326",
     "exception": false,
     "start_time": "2023-10-15T11:57:18.216205",
     "status": "completed"
    },
    "tags": []
   },
   "source": [
    "Inheritance is represented using the [Unified Modeling Language](https://www.uml.org/) or UML in the following way:"
   ]
  },
  {
   "cell_type": "markdown",
   "id": "926f3561",
   "metadata": {
    "papermill": {
     "duration": 0.012069,
     "end_time": "2023-10-15T11:57:18.252845",
     "exception": false,
     "start_time": "2023-10-15T11:57:18.240776",
     "status": "completed"
    },
    "tags": []
   },
   "source": []
  },
  {
   "cell_type": "markdown",
   "id": "197ca86f",
   "metadata": {
    "papermill": {
     "duration": 0.075302,
     "end_time": "2023-10-15T11:57:18.340101",
     "exception": false,
     "start_time": "2023-10-15T11:57:18.264799",
     "status": "completed"
    },
    "tags": []
   },
   "source": [
    "Classes are represented as boxes with the class name on top. The inheritance relationship is represented by an arrow from the derived class pointing to the base class. The word **extends** is usually added to the arrow."
   ]
  },
  {
   "cell_type": "markdown",
   "id": "c626ceb1",
   "metadata": {
    "papermill": {
     "duration": 0.012039,
     "end_time": "2023-10-15T11:57:18.367066",
     "exception": false,
     "start_time": "2023-10-15T11:57:18.355027",
     "status": "completed"
    },
    "tags": []
   },
   "source": [
    "Let’s say you have a base class Animal and you derive from it to create a Horse class. The inheritance relationship states that a Horse **is an** Animal. This means that Horse inherits the interface and implementation of Animal, and Horse objects can be used to replace Animal objects in the application."
   ]
  },
  {
   "cell_type": "markdown",
   "id": "a7929b57",
   "metadata": {
    "papermill": {
     "duration": 0.012103,
     "end_time": "2023-10-15T11:57:18.391367",
     "exception": false,
     "start_time": "2023-10-15T11:57:18.379264",
     "status": "completed"
    },
    "tags": []
   },
   "source": [
    "This is known as the **Liskov substitution principle**. The principle states that “in a computer program, if `S` is a subtype of `T`, then objects of type `T` may be replaced with objects of type `S` without altering any of the desired properties of the program”."
   ]
  },
  {
   "cell_type": "markdown",
   "id": "4353d829",
   "metadata": {
    "papermill": {
     "duration": 0.01266,
     "end_time": "2023-10-15T11:57:18.426628",
     "exception": false,
     "start_time": "2023-10-15T11:57:18.413968",
     "status": "completed"
    },
    "tags": []
   },
   "source": [
    "<a class=\"anchor\" id=\"what-is-composition\"></a>\n",
    "## What is Composition"
   ]
  },
  {
   "cell_type": "markdown",
   "id": "da376a39",
   "metadata": {
    "papermill": {
     "duration": 0.012014,
     "end_time": "2023-10-15T11:57:18.450800",
     "exception": false,
     "start_time": "2023-10-15T11:57:18.438786",
     "status": "completed"
    },
    "tags": []
   },
   "source": [
    "Composition is a concept that models a **has a** relationship. It enables creating complex types by combining objects of other types. This means that a class Composite can contain an object of another class `Component`. This relationship means that a `Composite` **has a** `Component`."
   ]
  },
  {
   "cell_type": "markdown",
   "id": "3739e814",
   "metadata": {
    "papermill": {
     "duration": 0.012064,
     "end_time": "2023-10-15T11:57:18.475161",
     "exception": false,
     "start_time": "2023-10-15T11:57:18.463097",
     "status": "completed"
    },
    "tags": []
   },
   "source": [
    "UML represents composition as follows:"
   ]
  },
  {
   "cell_type": "markdown",
   "id": "324e3413",
   "metadata": {
    "papermill": {
     "duration": 0.011893,
     "end_time": "2023-10-15T11:57:18.499425",
     "exception": false,
     "start_time": "2023-10-15T11:57:18.487532",
     "status": "completed"
    },
    "tags": []
   },
   "source": []
  },
  {
   "cell_type": "markdown",
   "id": "e667441a",
   "metadata": {
    "papermill": {
     "duration": 0.014341,
     "end_time": "2023-10-15T11:57:18.526520",
     "exception": false,
     "start_time": "2023-10-15T11:57:18.512179",
     "status": "completed"
    },
    "tags": []
   },
   "source": [
    "Composition is represented through a line with a diamond at the composite class pointing to the component class. The composite side can express the cardinality of the relationship. The cardinality indicates the number or valid range of Component instances the Composite class will contain."
   ]
  },
  {
   "cell_type": "markdown",
   "id": "d5151a4c",
   "metadata": {
    "papermill": {
     "duration": 0.012297,
     "end_time": "2023-10-15T11:57:18.551473",
     "exception": false,
     "start_time": "2023-10-15T11:57:18.539176",
     "status": "completed"
    },
    "tags": []
   },
   "source": [
    "In the diagram above, the 1 represents that the Composite class contains one object of type Component. Cardinality can be expressed in the following ways:\n",
    "\n",
    "- **A number** indicates the number of Component instances that are contained in the Composite.\n",
    "- **The * symbol** indicates that the Composite class can contain a variable number of Component instances.\n",
    "- **A range 1..4** indicates that the Composite class can contain a range of Component instances. The range is indicated with the minimum and maximum number of instances, or minimum and many instances like in **1..***."
   ]
  },
  {
   "cell_type": "markdown",
   "id": "c1233ff8",
   "metadata": {
    "papermill": {
     "duration": 0.01222,
     "end_time": "2023-10-15T11:57:18.576230",
     "exception": false,
     "start_time": "2023-10-15T11:57:18.564010",
     "status": "completed"
    },
    "tags": []
   },
   "source": [
    "> **Note:** Classes that contain objects of other classes are usually referred to as composites, where classes that are used to create more complex types are referred to as components."
   ]
  },
  {
   "cell_type": "markdown",
   "id": "5e33c828",
   "metadata": {
    "papermill": {
     "duration": 0.012197,
     "end_time": "2023-10-15T11:57:18.600881",
     "exception": false,
     "start_time": "2023-10-15T11:57:18.588684",
     "status": "completed"
    },
    "tags": []
   },
   "source": [
    "For example, your `Horse` class can be composed by another object of type `Tail`. Composition allows you to express that relationship by saying a `Horse` **has a** `Tail`."
   ]
  },
  {
   "cell_type": "markdown",
   "id": "0901fdd8",
   "metadata": {
    "papermill": {
     "duration": 0.012294,
     "end_time": "2023-10-15T11:57:18.625783",
     "exception": false,
     "start_time": "2023-10-15T11:57:18.613489",
     "status": "completed"
    },
    "tags": []
   },
   "source": [
    "Composition enables you to reuse code by adding objects to other objects, as opposed to inheriting the interface and implementation of other classes. Both Horse and Dog classes can leverage the functionality of Tail through composition without deriving one class from the other."
   ]
  },
  {
   "cell_type": "markdown",
   "id": "4bb332cf",
   "metadata": {
    "papermill": {
     "duration": 0.012574,
     "end_time": "2023-10-15T11:57:18.651011",
     "exception": false,
     "start_time": "2023-10-15T11:57:18.638437",
     "status": "completed"
    },
    "tags": []
   },
   "source": [
    "<a class=\"anchor\" id=\"implementation_inheritance_vs_interface_inheritance\"></a>\n",
    "## Implementation Inheritance vs Interface Inheritance"
   ]
  },
  {
   "cell_type": "markdown",
   "id": "1101c2b9",
   "metadata": {
    "papermill": {
     "duration": 0.011977,
     "end_time": "2023-10-15T11:57:18.675293",
     "exception": false,
     "start_time": "2023-10-15T11:57:18.663316",
     "status": "completed"
    },
    "tags": []
   },
   "source": [
    "When you derive one class from another, the derived class inherits both:\n",
    "\n",
    "1. **The base class interface**: The derived class inherits all the methods, properties, and attributes of the base class.\n",
    "2. **The base class implementation**: The derived class inherits the code that implements the class interface."
   ]
  },
  {
   "cell_type": "markdown",
   "id": "c8ac59ac",
   "metadata": {
    "papermill": {
     "duration": 0.012937,
     "end_time": "2023-10-15T11:57:18.700510",
     "exception": false,
     "start_time": "2023-10-15T11:57:18.687573",
     "status": "completed"
    },
    "tags": []
   },
   "source": [
    "Most of the time, you’ll want to inherit the implementation of a class, but you will want to implement multiple interfaces, so your objects can be used in different situations. Modern programming languages are designed with this basic concept in mind. They allow you to inherit from a single class, but you can implement multiple interfaces."
   ]
  },
  {
   "cell_type": "markdown",
   "id": "7a7a540e",
   "metadata": {
    "papermill": {
     "duration": 0.012965,
     "end_time": "2023-10-15T11:57:18.727805",
     "exception": false,
     "start_time": "2023-10-15T11:57:18.714840",
     "status": "completed"
    },
    "tags": []
   },
   "source": [
    "In Python, you don’t have to explicitly declare an interface. Any object that implements the desired interface can be used in place of another object. This is known as [duck typing](https://realpython.com/python-type-checking/#duck-typing). Duck typing is usually explained as “if it behaves like a duck, then it’s a duck.”"
   ]
  },
  {
   "cell_type": "code",
   "execution_count": 1,
   "id": "5e23e6a5",
   "metadata": {
    "execution": {
     "iopub.execute_input": "2023-10-15T11:57:18.754719Z",
     "iopub.status.busy": "2023-10-15T11:57:18.753883Z",
     "iopub.status.idle": "2023-10-15T11:57:18.764537Z",
     "shell.execute_reply": "2023-10-15T11:57:18.763744Z"
    },
    "papermill": {
     "duration": 0.026485,
     "end_time": "2023-10-15T11:57:18.766638",
     "exception": false,
     "start_time": "2023-10-15T11:57:18.740153",
     "status": "completed"
    },
    "tags": []
   },
   "outputs": [],
   "source": [
    "from abc import ABC, abstractmethod\n",
    "\n",
    "class Shape(ABC):\n",
    "    shape_id = 0\n",
    "    \n",
    "    def __init__(self, color='Black'):\n",
    "        print(\"Shape constructor called!\")\n",
    "        self.color = color\n",
    "        \n",
    "    def __str__(self, ):\n",
    "        return f\"Shape is {self.color}\"\n",
    "    \n",
    "    @abstractmethod\n",
    "    def area(self):\n",
    "        pass\n",
    "    \n",
    "    @abstractmethod\n",
    "    def perimeter(self):\n",
    "        pass"
   ]
  },
  {
   "cell_type": "code",
   "execution_count": 2,
   "id": "bfaa1f3a",
   "metadata": {
    "execution": {
     "iopub.execute_input": "2023-10-15T11:57:18.795257Z",
     "iopub.status.busy": "2023-10-15T11:57:18.794080Z",
     "iopub.status.idle": "2023-10-15T11:57:18.802037Z",
     "shell.execute_reply": "2023-10-15T11:57:18.800926Z"
    },
    "papermill": {
     "duration": 0.025005,
     "end_time": "2023-10-15T11:57:18.804465",
     "exception": false,
     "start_time": "2023-10-15T11:57:18.779460",
     "status": "completed"
    },
    "tags": []
   },
   "outputs": [],
   "source": [
    "class Rectangle(Shape):\n",
    "    def __init__(self, width, height, color='Black'):\n",
    "        # You can also type `super(Rectangle, self)`\n",
    "        super().__init__(color)\n",
    "\n",
    "        print(\"Rectangle constructor called!\")\n",
    "        self.width = width\n",
    "        self.height = height\n",
    "        \n",
    "    def area(self):\n",
    "        return self.width * self.height\n",
    "    \n",
    "    def perimeter(self,):\n",
    "        return 2 * self.width + 2 * self.height\n",
    "    \n",
    "    def calculate_areas(self, rectangles_list):\n",
    "        areas = []\n",
    "        for r in rectangles_list:\n",
    "            areas.append()\n",
    "            \n",
    "        return areas\n",
    "            \n",
    "    def __str__(self,):\n",
    "        return f\"Rectangle is {self.color}\""
   ]
  },
  {
   "cell_type": "code",
   "execution_count": 3,
   "id": "1beb440a",
   "metadata": {
    "execution": {
     "iopub.execute_input": "2023-10-15T11:57:18.832191Z",
     "iopub.status.busy": "2023-10-15T11:57:18.831806Z",
     "iopub.status.idle": "2023-10-15T11:57:18.836796Z",
     "shell.execute_reply": "2023-10-15T11:57:18.835724Z"
    },
    "papermill": {
     "duration": 0.022466,
     "end_time": "2023-10-15T11:57:18.839720",
     "exception": false,
     "start_time": "2023-10-15T11:57:18.817254",
     "status": "completed"
    },
    "tags": []
   },
   "outputs": [
    {
     "name": "stdout",
     "output_type": "stream",
     "text": [
      "Shape constructor called!\n",
      "Rectangle constructor called!\n"
     ]
    }
   ],
   "source": [
    "r = Rectangle(3, 4)"
   ]
  },
  {
   "cell_type": "markdown",
   "id": "2c2793b2",
   "metadata": {
    "papermill": {
     "duration": 0.012492,
     "end_time": "2023-10-15T11:57:18.865507",
     "exception": false,
     "start_time": "2023-10-15T11:57:18.853015",
     "status": "completed"
    },
    "tags": []
   },
   "source": [
    "To illustrate this, you will now add a `Temporary` class to the example above which doesn’t derive from `Shape`:"
   ]
  },
  {
   "cell_type": "code",
   "execution_count": 4,
   "id": "9f00ce40",
   "metadata": {
    "execution": {
     "iopub.execute_input": "2023-10-15T11:57:18.892694Z",
     "iopub.status.busy": "2023-10-15T11:57:18.892362Z",
     "iopub.status.idle": "2023-10-15T11:57:18.897408Z",
     "shell.execute_reply": "2023-10-15T11:57:18.896255Z"
    },
    "papermill": {
     "duration": 0.021342,
     "end_time": "2023-10-15T11:57:18.899536",
     "exception": false,
     "start_time": "2023-10-15T11:57:18.878194",
     "status": "completed"
    },
    "tags": []
   },
   "outputs": [],
   "source": [
    "class Temporary:\n",
    "    def __init__(self, width, height):\n",
    "        self.width = width\n",
    "        self.height = height\n",
    "\n",
    "    def area(self):\n",
    "        return 999"
   ]
  },
  {
   "cell_type": "markdown",
   "id": "838efb8a",
   "metadata": {
    "papermill": {
     "duration": 0.012818,
     "end_time": "2023-10-15T11:57:18.925317",
     "exception": false,
     "start_time": "2023-10-15T11:57:18.912499",
     "status": "completed"
    },
    "tags": []
   },
   "source": [
    "The `Temporary` class doesn’t derive from `Shape` or `Rectangle`, but it exposes the same interface required by the `.calculate_areas()`. The `Rectangle.calculate_areas()` requires a list of objects that implement the following interface:\n",
    "\n",
    "- A width property.\n",
    "- A height property.\n",
    "\n",
    "All these requirements are met by the `Temporary` class, so the `Rectangle` can still calculate its area."
   ]
  },
  {
   "cell_type": "code",
   "execution_count": 5,
   "id": "25a488a5",
   "metadata": {
    "execution": {
     "iopub.execute_input": "2023-10-15T11:57:18.952516Z",
     "iopub.status.busy": "2023-10-15T11:57:18.952166Z",
     "iopub.status.idle": "2023-10-15T11:57:18.959348Z",
     "shell.execute_reply": "2023-10-15T11:57:18.958330Z"
    },
    "papermill": {
     "duration": 0.023377,
     "end_time": "2023-10-15T11:57:18.961453",
     "exception": false,
     "start_time": "2023-10-15T11:57:18.938076",
     "status": "completed"
    },
    "tags": []
   },
   "outputs": [
    {
     "data": {
      "text/plain": [
       "12"
      ]
     },
     "execution_count": 5,
     "metadata": {},
     "output_type": "execute_result"
    }
   ],
   "source": [
    "Rectangle.area(Temporary(3, 4))"
   ]
  },
  {
   "cell_type": "code",
   "execution_count": 6,
   "id": "f22234b7",
   "metadata": {
    "execution": {
     "iopub.execute_input": "2023-10-15T11:57:18.988447Z",
     "iopub.status.busy": "2023-10-15T11:57:18.988074Z",
     "iopub.status.idle": "2023-10-15T11:57:18.994973Z",
     "shell.execute_reply": "2023-10-15T11:57:18.993837Z"
    },
    "papermill": {
     "duration": 0.022307,
     "end_time": "2023-10-15T11:57:18.996633",
     "exception": false,
     "start_time": "2023-10-15T11:57:18.974326",
     "status": "completed"
    },
    "tags": []
   },
   "outputs": [
    {
     "name": "stdout",
     "output_type": "stream",
     "text": [
      "Shape constructor called!\n",
      "Rectangle constructor called!\n"
     ]
    },
    {
     "data": {
      "text/plain": [
       "12"
      ]
     },
     "execution_count": 6,
     "metadata": {},
     "output_type": "execute_result"
    }
   ],
   "source": [
    "Rectangle.area(Rectangle(3, 4))"
   ]
  },
  {
   "cell_type": "markdown",
   "id": "b3fb6e68",
   "metadata": {
    "papermill": {
     "duration": 0.012601,
     "end_time": "2023-10-15T11:57:19.022262",
     "exception": false,
     "start_time": "2023-10-15T11:57:19.009661",
     "status": "completed"
    },
    "tags": []
   },
   "source": [
    "As you can see, the `Rectangle` can still process the new object of `Temporary` class because it meets the desired interface (having width and height)."
   ]
  },
  {
   "cell_type": "markdown",
   "id": "1a277e8f",
   "metadata": {
    "papermill": {
     "duration": 0.012612,
     "end_time": "2023-10-15T11:57:19.048616",
     "exception": false,
     "start_time": "2023-10-15T11:57:19.036004",
     "status": "completed"
    },
    "tags": []
   },
   "source": [
    "Since you don’t have to derive from a specific class for your objects to be reusable by the program, you may be asking why you should use inheritance instead of just implementing the desired interface. The following rules may help you:\n",
    "\n",
    "- **Use inheritance to reuse an implementation**: Your derived classes should leverage most of their base class implementation. They must also model an **is a** relationship. A `Temporary` class might also have a width and a height, but a `Temporary` **is not** a `Shape`, so you should not use inheritance.\n",
    "\n",
    "- **Implement an interface to be reused**: When you want your class to be reused by a specific part of your application, you implement the required interface in your class, but you don’t need to provide a base class, or inherit from another class."
   ]
  },
  {
   "cell_type": "markdown",
   "id": "21711d07",
   "metadata": {
    "papermill": {
     "duration": 0.012391,
     "end_time": "2023-10-15T11:57:19.073812",
     "exception": false,
     "start_time": "2023-10-15T11:57:19.061421",
     "status": "completed"
    },
    "tags": []
   },
   "source": [
    "<a class=\"anchor\" id=\"class-explosion\"></a>\n",
    "## The Class Explosion Problem"
   ]
  },
  {
   "cell_type": "markdown",
   "id": "1635cbf3",
   "metadata": {
    "papermill": {
     "duration": 0.012523,
     "end_time": "2023-10-15T11:57:19.099085",
     "exception": false,
     "start_time": "2023-10-15T11:57:19.086562",
     "status": "completed"
    },
    "tags": []
   },
   "source": [
    "If you are not careful, inheritance can lead you to a huge hierarchical structure of classes that is hard to understand and maintain. This is known as the **class explosion problem**."
   ]
  },
  {
   "cell_type": "markdown",
   "id": "df3d31c6",
   "metadata": {
    "papermill": {
     "duration": 0.012499,
     "end_time": "2023-10-15T11:57:19.124308",
     "exception": false,
     "start_time": "2023-10-15T11:57:19.111809",
     "status": "completed"
    },
    "tags": []
   },
   "source": []
  },
  {
   "cell_type": "markdown",
   "id": "97a9f2e0",
   "metadata": {
    "papermill": {
     "duration": 0.012994,
     "end_time": "2023-10-15T11:57:19.151336",
     "exception": false,
     "start_time": "2023-10-15T11:57:19.138342",
     "status": "completed"
    },
    "tags": []
   },
   "source": [
    "The diagram shows how the class hierarchy is growing. Additional requirements might have an exponential effect in the number of classes with this design."
   ]
  },
  {
   "cell_type": "markdown",
   "id": "475dd668",
   "metadata": {
    "papermill": {
     "duration": 0.01288,
     "end_time": "2023-10-15T11:57:19.177359",
     "exception": false,
     "start_time": "2023-10-15T11:57:19.164479",
     "status": "completed"
    },
    "tags": []
   },
   "source": [
    "<a class=\"anchor\" id=\"composition\"></a>\n",
    "## Composition"
   ]
  },
  {
   "cell_type": "markdown",
   "id": "6430df0b",
   "metadata": {
    "papermill": {
     "duration": 0.012944,
     "end_time": "2023-10-15T11:57:19.203455",
     "exception": false,
     "start_time": "2023-10-15T11:57:19.190511",
     "status": "completed"
    },
    "tags": []
   },
   "source": [
    "**Composition**is an object oriented design concept that models a **has a** relationship. In composition, a class known as **composite** contains an object of another class known to as **component**. In other words, a composite class **has a** component of another class.\n",
    "\n",
    "Composition allows composite classes to reuse the implementation of the components it contains. The composite class doesn’t inherit the component class interface, but it can leverage its implementation."
   ]
  },
  {
   "cell_type": "markdown",
   "id": "553caa73",
   "metadata": {
    "papermill": {
     "duration": 0.012816,
     "end_time": "2023-10-15T11:57:19.229268",
     "exception": false,
     "start_time": "2023-10-15T11:57:19.216452",
     "status": "completed"
    },
    "tags": []
   },
   "source": [
    "The composition relation between two classes is considered **loosely coupled**. That means that changes to the component class rarely affect the composite class, and changes to the composite class never affect the component class. This provides better adaptability to change and allows applications to introduce new requirements without affecting existing code. When looking at two competing software designs, one based on inheritance and another based on composition, the composition solution usually is the most flexible. You can now look at how composition works."
   ]
  },
  {
   "cell_type": "markdown",
   "id": "ee2b2cab",
   "metadata": {
    "papermill": {
     "duration": 0.013304,
     "end_time": "2023-10-15T11:57:19.255887",
     "exception": false,
     "start_time": "2023-10-15T11:57:19.242583",
     "status": "completed"
    },
    "tags": []
   },
   "source": [
    "We’ve already used composition in our examples. If you look at the Shape class, you’ll see that it contains `color` attribute which is of string type. We can make the color more complex and define a class for it that contains hex code, rgb, etc."
   ]
  },
  {
   "cell_type": "code",
   "execution_count": 7,
   "id": "57154d3b",
   "metadata": {
    "execution": {
     "iopub.execute_input": "2023-10-15T11:57:19.283978Z",
     "iopub.status.busy": "2023-10-15T11:57:19.283191Z",
     "iopub.status.idle": "2023-10-15T11:57:19.288403Z",
     "shell.execute_reply": "2023-10-15T11:57:19.287409Z"
    },
    "papermill": {
     "duration": 0.021405,
     "end_time": "2023-10-15T11:57:19.290523",
     "exception": false,
     "start_time": "2023-10-15T11:57:19.269118",
     "status": "completed"
    },
    "tags": []
   },
   "outputs": [],
   "source": [
    "class Color:\n",
    "    def __init__(self, name, hex, rgb):\n",
    "        self.name = name\n",
    "        self.hex = hex\n",
    "        self.rgb = rgb\n",
    "        \n",
    "    def __str__(self):\n",
    "        return f\"{self.name} - HEX({self.hex}) - RGB{self.rgb}\""
   ]
  },
  {
   "cell_type": "code",
   "execution_count": 8,
   "id": "23c84b8b",
   "metadata": {
    "execution": {
     "iopub.execute_input": "2023-10-15T11:57:19.318751Z",
     "iopub.status.busy": "2023-10-15T11:57:19.317813Z",
     "iopub.status.idle": "2023-10-15T11:57:19.322742Z",
     "shell.execute_reply": "2023-10-15T11:57:19.322103Z"
    },
    "papermill": {
     "duration": 0.020772,
     "end_time": "2023-10-15T11:57:19.324540",
     "exception": false,
     "start_time": "2023-10-15T11:57:19.303768",
     "status": "completed"
    },
    "tags": []
   },
   "outputs": [],
   "source": [
    "red_color = Color(\"Red\", \"D33817\", (211, 56, 23))"
   ]
  },
  {
   "cell_type": "markdown",
   "id": "39e2794c",
   "metadata": {
    "papermill": {
     "duration": 0.015392,
     "end_time": "2023-10-15T11:57:19.353057",
     "exception": false,
     "start_time": "2023-10-15T11:57:19.337665",
     "status": "completed"
    },
    "tags": []
   },
   "source": [
    "We implemented `__str__()` to provide a pretty representation of an Address. When you `print()` the address variable, the special method `__str__()` is invoked. Since you overloaded the method to return a string formatted as an address, you get a nice, readable representation:"
   ]
  },
  {
   "cell_type": "code",
   "execution_count": 9,
   "id": "a8ef666c",
   "metadata": {
    "execution": {
     "iopub.execute_input": "2023-10-15T11:57:19.381074Z",
     "iopub.status.busy": "2023-10-15T11:57:19.380693Z",
     "iopub.status.idle": "2023-10-15T11:57:19.385031Z",
     "shell.execute_reply": "2023-10-15T11:57:19.384249Z"
    },
    "papermill": {
     "duration": 0.021399,
     "end_time": "2023-10-15T11:57:19.387676",
     "exception": false,
     "start_time": "2023-10-15T11:57:19.366277",
     "status": "completed"
    },
    "tags": []
   },
   "outputs": [
    {
     "name": "stdout",
     "output_type": "stream",
     "text": [
      "Red - HEX(D33817) - RGB(211, 56, 23)\n"
     ]
    }
   ],
   "source": [
    "print(red_color)"
   ]
  },
  {
   "cell_type": "markdown",
   "id": "94788d13",
   "metadata": {
    "papermill": {
     "duration": 0.012818,
     "end_time": "2023-10-15T11:57:19.414038",
     "exception": false,
     "start_time": "2023-10-15T11:57:19.401220",
     "status": "completed"
    },
    "tags": []
   },
   "source": [
    "You can now add the `Color` to the `Rectangle` class through composition:"
   ]
  },
  {
   "cell_type": "code",
   "execution_count": 10,
   "id": "285a5b4d",
   "metadata": {
    "execution": {
     "iopub.execute_input": "2023-10-15T11:57:19.442357Z",
     "iopub.status.busy": "2023-10-15T11:57:19.442006Z",
     "iopub.status.idle": "2023-10-15T11:57:19.447278Z",
     "shell.execute_reply": "2023-10-15T11:57:19.446466Z"
    },
    "papermill": {
     "duration": 0.022079,
     "end_time": "2023-10-15T11:57:19.449513",
     "exception": false,
     "start_time": "2023-10-15T11:57:19.427434",
     "status": "completed"
    },
    "tags": []
   },
   "outputs": [
    {
     "name": "stdout",
     "output_type": "stream",
     "text": [
      "Shape constructor called!\n",
      "Rectangle constructor called!\n"
     ]
    }
   ],
   "source": [
    "r = Rectangle(3, 4, color=Color(\"Red\", \"D33817\", (211, 56, 23)))"
   ]
  },
  {
   "cell_type": "code",
   "execution_count": 11,
   "id": "861c0a52",
   "metadata": {
    "execution": {
     "iopub.execute_input": "2023-10-15T11:57:19.478602Z",
     "iopub.status.busy": "2023-10-15T11:57:19.477627Z",
     "iopub.status.idle": "2023-10-15T11:57:19.483431Z",
     "shell.execute_reply": "2023-10-15T11:57:19.482248Z"
    },
    "papermill": {
     "duration": 0.022185,
     "end_time": "2023-10-15T11:57:19.485228",
     "exception": false,
     "start_time": "2023-10-15T11:57:19.463043",
     "status": "completed"
    },
    "tags": []
   },
   "outputs": [
    {
     "name": "stdout",
     "output_type": "stream",
     "text": [
      "Red - HEX(D33817) - RGB(211, 56, 23)\n"
     ]
    }
   ],
   "source": [
    "print(r.color)"
   ]
  },
  {
   "cell_type": "markdown",
   "id": "9bb6385e",
   "metadata": {
    "papermill": {
     "duration": 0.013044,
     "end_time": "2023-10-15T11:57:19.511585",
     "exception": false,
     "start_time": "2023-10-15T11:57:19.498541",
     "status": "completed"
    },
    "tags": []
   },
   "source": [
    "Composition is a loosely coupled relationship that often doesn’t require the composite class to have knowledge of the component."
   ]
  },
  {
   "cell_type": "markdown",
   "id": "d8e83127",
   "metadata": {
    "papermill": {
     "duration": 0.013068,
     "end_time": "2023-10-15T11:57:19.537872",
     "exception": false,
     "start_time": "2023-10-15T11:57:19.524804",
     "status": "completed"
    },
    "tags": []
   },
   "source": [
    "The `Rectangle` class leverages the implementation of the `Color` class without any knowledge of what an `Color` object is or how it’s represented. This type of design is so flexible that you can change the `Color` class without any impact to the `Rectangle` class."
   ]
  },
  {
   "cell_type": "markdown",
   "id": "0cbc3bb5",
   "metadata": {
    "papermill": {
     "duration": 0.012929,
     "end_time": "2023-10-15T11:57:19.564122",
     "exception": false,
     "start_time": "2023-10-15T11:57:19.551193",
     "status": "completed"
    },
    "tags": []
   },
   "source": []
  },
  {
   "cell_type": "markdown",
   "id": "66048031",
   "metadata": {
    "papermill": {
     "duration": 0.013611,
     "end_time": "2023-10-15T11:57:19.590944",
     "exception": false,
     "start_time": "2023-10-15T11:57:19.577333",
     "status": "completed"
    },
    "tags": []
   },
   "source": [
    "<a class=\"anchor\" id=\"flexible_designs_with_composition\"></a>\n",
    "## Flexible Designs With Composition\n",
    "\n",
    "Composition is more flexible than inheritance because it models a loosely coupled relationship. Changes to a component class have minimal or no effects on the composite class. Designs based on composition are more suitable to change.\n",
    "\n",
    "You change behavior by providing new components that implement those behaviors instead of adding new classes to your hierarchy."
   ]
  },
  {
   "cell_type": "markdown",
   "id": "f5948f96",
   "metadata": {
    "papermill": {
     "duration": 0.013173,
     "end_time": "2023-10-15T11:57:19.617544",
     "exception": false,
     "start_time": "2023-10-15T11:57:19.604371",
     "status": "completed"
    },
    "tags": []
   },
   "source": [
    "<a class=\"anchor\" id=\"choosing_between_inheritance_and_composition_in_python\"></a>\n",
    "## Choosing Between Inheritance and Composition in Python"
   ]
  },
  {
   "cell_type": "markdown",
   "id": "777451a9",
   "metadata": {
    "papermill": {
     "duration": 0.013148,
     "end_time": "2023-10-15T11:57:19.644016",
     "exception": false,
     "start_time": "2023-10-15T11:57:19.630868",
     "status": "completed"
    },
    "tags": []
   },
   "source": [
    "So far, you’ve seen how inheritance and composition work in Python. You’ve seen that derived classes inherit the interface and implementation of their base classes. You’ve also seen that composition allows you to reuse the implementation of another class."
   ]
  },
  {
   "cell_type": "markdown",
   "id": "5c513c03",
   "metadata": {
    "papermill": {
     "duration": 0.013084,
     "end_time": "2023-10-15T11:57:19.670798",
     "exception": false,
     "start_time": "2023-10-15T11:57:19.657714",
     "status": "completed"
    },
    "tags": []
   },
   "source": [
    "You’ve also seen that **Python’s duck typing** allows you to reuse objects with existing parts of a program by implementing the desired interface. In Python, it isn’t necessary to derive from a base class for your classes to be reused."
   ]
  },
  {
   "cell_type": "markdown",
   "id": "6059672a",
   "metadata": {
    "papermill": {
     "duration": 0.013151,
     "end_time": "2023-10-15T11:57:19.697872",
     "exception": false,
     "start_time": "2023-10-15T11:57:19.684721",
     "status": "completed"
    },
    "tags": []
   },
   "source": [
    "At this point, you might be asking when to use inheritance vs composition in Python. They both enable code reuse. Inheritance and composition can tackle similar problems in your Python programs."
   ]
  },
  {
   "cell_type": "markdown",
   "id": "0604b8db",
   "metadata": {
    "papermill": {
     "duration": 0.013508,
     "end_time": "2023-10-15T11:57:19.725962",
     "exception": false,
     "start_time": "2023-10-15T11:57:19.712454",
     "status": "completed"
    },
    "tags": []
   },
   "source": [
    "The general advice is to **use the relationship that creates fewer dependencies** between two classes. This relation is composition. Still, there will be times where inheritance will make more sense."
   ]
  },
  {
   "cell_type": "markdown",
   "id": "7da54831",
   "metadata": {
    "papermill": {
     "duration": 0.012821,
     "end_time": "2023-10-15T11:57:19.754607",
     "exception": false,
     "start_time": "2023-10-15T11:57:19.741786",
     "status": "completed"
    },
    "tags": []
   },
   "source": [
    "The following sections provide some guidelines to help you make the right choice between inheritance and composition in Python."
   ]
  },
  {
   "cell_type": "markdown",
   "id": "16d848ef",
   "metadata": {
    "papermill": {
     "duration": 0.012787,
     "end_time": "2023-10-15T11:57:19.780862",
     "exception": false,
     "start_time": "2023-10-15T11:57:19.768075",
     "status": "completed"
    },
    "tags": []
   },
   "source": [
    "<a class=\"anchor\" id=\"inheritance-model-is-a\"></a>\n",
    "### Inheritance to Model **\"Is A\"** Relationship"
   ]
  },
  {
   "cell_type": "markdown",
   "id": "b792e7cf",
   "metadata": {
    "papermill": {
     "duration": 0.013764,
     "end_time": "2023-10-15T11:57:19.808396",
     "exception": false,
     "start_time": "2023-10-15T11:57:19.794632",
     "status": "completed"
    },
    "tags": []
   },
   "source": [
    "Inheritance should only be used to model an **is a** relationship. Liskov’s substitution principle says that an object of type Derived, which inherits from Base, can replace an object of type Base without altering the desirable properties of a program."
   ]
  },
  {
   "cell_type": "markdown",
   "id": "dbf4dd97",
   "metadata": {
    "papermill": {
     "duration": 0.013753,
     "end_time": "2023-10-15T11:57:19.835535",
     "exception": false,
     "start_time": "2023-10-15T11:57:19.821782",
     "status": "completed"
    },
    "tags": []
   },
   "source": [
    "Liskov’s substitution principle is the most important guideline to determine if inheritance is the appropriate design solution. Still, the answer might not be straightforward in all situations. Fortunately, there is a simple test you can use to determine if your design follows Liskov’s substitution principle."
   ]
  },
  {
   "cell_type": "markdown",
   "id": "ab66fe31",
   "metadata": {
    "papermill": {
     "duration": 0.012955,
     "end_time": "2023-10-15T11:57:19.862225",
     "exception": false,
     "start_time": "2023-10-15T11:57:19.849270",
     "status": "completed"
    },
    "tags": []
   },
   "source": [
    "Let’s say you have a class A that provides an implementation and interface you want to reuse in another class B. Your initial thought is that you can derive B from A and inherit both the interface and implementation. To be sure this is the right design, you follow theses steps:\n",
    "1. **Evaluate B is an A:** Think about this relationship and justify it. Does it make sense?\n",
    "2. **Evaluate A is a B:** Reverse the relationship and justify it. Does it also make sense?"
   ]
  },
  {
   "cell_type": "markdown",
   "id": "774198cd",
   "metadata": {
    "papermill": {
     "duration": 0.013005,
     "end_time": "2023-10-15T11:57:19.888556",
     "exception": false,
     "start_time": "2023-10-15T11:57:19.875551",
     "status": "completed"
    },
    "tags": []
   },
   "source": [
    "If you can justify both relationships, then you should never inherit those classes from one another. Let’s look at a more concrete example."
   ]
  },
  {
   "cell_type": "markdown",
   "id": "39078a66",
   "metadata": {
    "papermill": {
     "duration": 0.012955,
     "end_time": "2023-10-15T11:57:19.914814",
     "exception": false,
     "start_time": "2023-10-15T11:57:19.901859",
     "status": "completed"
    },
    "tags": []
   },
   "source": [
    "You have a class `Rectangle` which exposes an .area property. You need a class `Square`, which also has an .area. It seems that a `Square` is a special type of `Rectangle`, so maybe you can derive from it and leverage both the interface and implementation."
   ]
  },
  {
   "cell_type": "markdown",
   "id": "982fe576",
   "metadata": {
    "papermill": {
     "duration": 0.01369,
     "end_time": "2023-10-15T11:57:19.941925",
     "exception": false,
     "start_time": "2023-10-15T11:57:19.928235",
     "status": "completed"
    },
    "tags": []
   },
   "source": [
    "Before you jump into the implementation, you use Liskov’s substitution principle to evaluate the relationship."
   ]
  },
  {
   "cell_type": "markdown",
   "id": "972a8ec0",
   "metadata": {
    "papermill": {
     "duration": 0.013002,
     "end_time": "2023-10-15T11:57:19.968302",
     "exception": false,
     "start_time": "2023-10-15T11:57:19.955300",
     "status": "completed"
    },
    "tags": []
   },
   "source": [
    "A Square **is a** Rectangle because its area is calculated from the product of its `height` times its `length`. The constraint is that `Square.height` and `Square.length` must be equal."
   ]
  },
  {
   "cell_type": "markdown",
   "id": "e0fa573e",
   "metadata": {
    "papermill": {
     "duration": 0.013644,
     "end_time": "2023-10-15T11:57:19.995841",
     "exception": false,
     "start_time": "2023-10-15T11:57:19.982197",
     "status": "completed"
    },
    "tags": []
   },
   "source": [
    "It makes sense. You can justify the relationship and explain why a `Square` **is a** `Rectangle`. Let’s reverse the relationship to see if it makes sense."
   ]
  },
  {
   "cell_type": "markdown",
   "id": "97f78eef",
   "metadata": {
    "papermill": {
     "duration": 0.012949,
     "end_time": "2023-10-15T11:57:20.022805",
     "exception": false,
     "start_time": "2023-10-15T11:57:20.009856",
     "status": "completed"
    },
    "tags": []
   },
   "source": [
    "A `Rectangle` is a `Square` because its area is calculated from the product of its `height` times its `length`. The difference is that `Rectangle.height` and `Rectangle.width` can change independently."
   ]
  },
  {
   "cell_type": "markdown",
   "id": "26a1cbf0",
   "metadata": {
    "papermill": {
     "duration": 0.012917,
     "end_time": "2023-10-15T11:57:20.049087",
     "exception": false,
     "start_time": "2023-10-15T11:57:20.036170",
     "status": "completed"
    },
    "tags": []
   },
   "source": [
    "It also makes sense. You can justify the relationship and describe the special constraints for each class. This is a good sign that these two classes should never derive from each other."
   ]
  },
  {
   "cell_type": "markdown",
   "id": "801c6aa9",
   "metadata": {
    "papermill": {
     "duration": 0.012862,
     "end_time": "2023-10-15T11:57:20.075263",
     "exception": false,
     "start_time": "2023-10-15T11:57:20.062401",
     "status": "completed"
    },
    "tags": []
   },
   "source": [
    "You might have seen other examples that derive `Square` from `Rectangle` to explain inheritance. You might be skeptical with the little test you just did. Fair enough. Let’s write a program that illustrates the problem with deriving `Square` from `Rectangle`."
   ]
  },
  {
   "cell_type": "code",
   "execution_count": 12,
   "id": "d5167cab",
   "metadata": {
    "execution": {
     "iopub.execute_input": "2023-10-15T11:57:20.104696Z",
     "iopub.status.busy": "2023-10-15T11:57:20.103987Z",
     "iopub.status.idle": "2023-10-15T11:57:20.108655Z",
     "shell.execute_reply": "2023-10-15T11:57:20.107936Z"
    },
    "papermill": {
     "duration": 0.022104,
     "end_time": "2023-10-15T11:57:20.110601",
     "exception": false,
     "start_time": "2023-10-15T11:57:20.088497",
     "status": "completed"
    },
    "tags": []
   },
   "outputs": [],
   "source": [
    "class Rectangle:\n",
    "    def __init__(self, length, height):\n",
    "        self._length = length\n",
    "        self._height = height\n",
    "\n",
    "    @property\n",
    "    def area(self):\n",
    "        return self._length * self._height"
   ]
  },
  {
   "cell_type": "markdown",
   "id": "ca08c966",
   "metadata": {
    "papermill": {
     "duration": 0.013468,
     "end_time": "2023-10-15T11:57:20.137727",
     "exception": false,
     "start_time": "2023-10-15T11:57:20.124259",
     "status": "completed"
    },
    "tags": []
   },
   "source": [
    "The Rectangle class is initialized with a `length` and a `height`, and it provides an `.area` property that returns the area."
   ]
  },
  {
   "cell_type": "code",
   "execution_count": 13,
   "id": "451764a4",
   "metadata": {
    "execution": {
     "iopub.execute_input": "2023-10-15T11:57:20.166390Z",
     "iopub.status.busy": "2023-10-15T11:57:20.165701Z",
     "iopub.status.idle": "2023-10-15T11:57:20.169951Z",
     "shell.execute_reply": "2023-10-15T11:57:20.169185Z"
    },
    "papermill": {
     "duration": 0.02089,
     "end_time": "2023-10-15T11:57:20.171872",
     "exception": false,
     "start_time": "2023-10-15T11:57:20.150982",
     "status": "completed"
    },
    "tags": []
   },
   "outputs": [],
   "source": [
    "class Square(Rectangle):\n",
    "    def __init__(self, side_size):\n",
    "        super().__init__(side_size, side_size)"
   ]
  },
  {
   "cell_type": "markdown",
   "id": "a1bfd060",
   "metadata": {
    "papermill": {
     "duration": 0.013145,
     "end_time": "2023-10-15T11:57:20.198838",
     "exception": false,
     "start_time": "2023-10-15T11:57:20.185693",
     "status": "completed"
    },
    "tags": []
   },
   "source": [
    "The `Square` class is initialized with a `side_size`, which is used to initialize both components of the base class. Now, you write a small program to test the behavior:"
   ]
  },
  {
   "cell_type": "code",
   "execution_count": 14,
   "id": "fac45bff",
   "metadata": {
    "execution": {
     "iopub.execute_input": "2023-10-15T11:57:20.227672Z",
     "iopub.status.busy": "2023-10-15T11:57:20.227001Z",
     "iopub.status.idle": "2023-10-15T11:57:20.230863Z",
     "shell.execute_reply": "2023-10-15T11:57:20.230184Z"
    },
    "papermill": {
     "duration": 0.020456,
     "end_time": "2023-10-15T11:57:20.232787",
     "exception": false,
     "start_time": "2023-10-15T11:57:20.212331",
     "status": "completed"
    },
    "tags": []
   },
   "outputs": [],
   "source": [
    "rectangle = Rectangle(2, 4)\n",
    "assert rectangle.area == 8"
   ]
  },
  {
   "cell_type": "code",
   "execution_count": 15,
   "id": "f5159d38",
   "metadata": {
    "execution": {
     "iopub.execute_input": "2023-10-15T11:57:20.262064Z",
     "iopub.status.busy": "2023-10-15T11:57:20.261376Z",
     "iopub.status.idle": "2023-10-15T11:57:20.265228Z",
     "shell.execute_reply": "2023-10-15T11:57:20.264549Z"
    },
    "papermill": {
     "duration": 0.020324,
     "end_time": "2023-10-15T11:57:20.267010",
     "exception": false,
     "start_time": "2023-10-15T11:57:20.246686",
     "status": "completed"
    },
    "tags": []
   },
   "outputs": [],
   "source": [
    "square = Square(2)\n",
    "assert square.area == 4"
   ]
  },
  {
   "cell_type": "markdown",
   "id": "1756c0f4",
   "metadata": {
    "papermill": {
     "duration": 0.013337,
     "end_time": "2023-10-15T11:57:20.294165",
     "exception": false,
     "start_time": "2023-10-15T11:57:20.280828",
     "status": "completed"
    },
    "tags": []
   },
   "source": [
    "The program creates a `Rectangle` and a `Square` and asserts that their `.area` is calculated correctly. You can run the program and see that everything is OK so far."
   ]
  },
  {
   "cell_type": "markdown",
   "id": "e57a4efa",
   "metadata": {
    "papermill": {
     "duration": 0.013072,
     "end_time": "2023-10-15T11:57:20.320818",
     "exception": false,
     "start_time": "2023-10-15T11:57:20.307746",
     "status": "completed"
    },
    "tags": []
   },
   "source": [
    "The program executes correctly, so it seems that `Square` is just a special case of a `Rectangle`."
   ]
  },
  {
   "cell_type": "markdown",
   "id": "c2af273f",
   "metadata": {
    "papermill": {
     "duration": 0.01323,
     "end_time": "2023-10-15T11:57:20.347526",
     "exception": false,
     "start_time": "2023-10-15T11:57:20.334296",
     "status": "completed"
    },
    "tags": []
   },
   "source": [
    "Later on, you need to support resizing `Rectangle` objects, so you make the appropriate changes to the class:"
   ]
  },
  {
   "cell_type": "code",
   "execution_count": 16,
   "id": "5376897e",
   "metadata": {
    "execution": {
     "iopub.execute_input": "2023-10-15T11:57:20.377667Z",
     "iopub.status.busy": "2023-10-15T11:57:20.376974Z",
     "iopub.status.idle": "2023-10-15T11:57:20.382986Z",
     "shell.execute_reply": "2023-10-15T11:57:20.382134Z"
    },
    "papermill": {
     "duration": 0.023122,
     "end_time": "2023-10-15T11:57:20.385263",
     "exception": false,
     "start_time": "2023-10-15T11:57:20.362141",
     "status": "completed"
    },
    "tags": []
   },
   "outputs": [],
   "source": [
    "class Rectangle:\n",
    "    def __init__(self, length, height):\n",
    "        self._length = length\n",
    "        self._height = height\n",
    "\n",
    "    @property\n",
    "    def area(self):\n",
    "        return self._length * self._height\n",
    "\n",
    "    def resize(self, new_length, new_height):\n",
    "        self._length = new_length\n",
    "        self._height = new_height"
   ]
  },
  {
   "cell_type": "markdown",
   "id": "d0b5bd2c",
   "metadata": {
    "papermill": {
     "duration": 0.013382,
     "end_time": "2023-10-15T11:57:20.413116",
     "exception": false,
     "start_time": "2023-10-15T11:57:20.399734",
     "status": "completed"
    },
    "tags": []
   },
   "source": [
    "`.resize()` takes the `new_length` and `new_width` for the object. You can add the following code to the program to verify that it works correctly:"
   ]
  },
  {
   "cell_type": "code",
   "execution_count": 17,
   "id": "70437343",
   "metadata": {
    "execution": {
     "iopub.execute_input": "2023-10-15T11:57:20.441951Z",
     "iopub.status.busy": "2023-10-15T11:57:20.441309Z",
     "iopub.status.idle": "2023-10-15T11:57:20.698563Z",
     "shell.execute_reply": "2023-10-15T11:57:20.696844Z"
    },
    "papermill": {
     "duration": 0.273896,
     "end_time": "2023-10-15T11:57:20.700451",
     "exception": true,
     "start_time": "2023-10-15T11:57:20.426555",
     "status": "failed"
    },
    "tags": []
   },
   "outputs": [
    {
     "ename": "AttributeError",
     "evalue": "'Rectangle' object has no attribute 'resize'",
     "output_type": "error",
     "traceback": [
      "\u001b[0;31m---------------------------------------------------------------------------\u001b[0m",
      "\u001b[0;31mAttributeError\u001b[0m                            Traceback (most recent call last)",
      "Cell \u001b[0;32mIn[17], line 1\u001b[0m\n\u001b[0;32m----> 1\u001b[0m \u001b[43mrectangle\u001b[49m\u001b[38;5;241;43m.\u001b[39;49m\u001b[43mresize\u001b[49m(\u001b[38;5;241m3\u001b[39m, \u001b[38;5;241m5\u001b[39m)\n\u001b[1;32m      2\u001b[0m \u001b[38;5;28;01massert\u001b[39;00m rectangle\u001b[38;5;241m.\u001b[39marea \u001b[38;5;241m==\u001b[39m \u001b[38;5;241m15\u001b[39m\n",
      "\u001b[0;31mAttributeError\u001b[0m: 'Rectangle' object has no attribute 'resize'"
     ]
    }
   ],
   "source": [
    "rectangle.resize(3, 5)\n",
    "assert rectangle.area == 15"
   ]
  },
  {
   "cell_type": "markdown",
   "id": "e0ee0aa4",
   "metadata": {
    "papermill": {
     "duration": null,
     "end_time": null,
     "exception": null,
     "start_time": null,
     "status": "pending"
    },
    "tags": []
   },
   "source": [
    "You resize the rectangle object and assert that the new area is correct. You can run the program to verify the behavior."
   ]
  },
  {
   "cell_type": "markdown",
   "id": "fc86a933",
   "metadata": {
    "papermill": {
     "duration": null,
     "end_time": null,
     "exception": null,
     "start_time": null,
     "status": "pending"
    },
    "tags": []
   },
   "source": [
    "So, what happens if you resize a `square`? Modify the program, and try to modify the square object."
   ]
  },
  {
   "cell_type": "code",
   "execution_count": null,
   "id": "fa08122f",
   "metadata": {
    "papermill": {
     "duration": null,
     "end_time": null,
     "exception": null,
     "start_time": null,
     "status": "pending"
    },
    "tags": []
   },
   "outputs": [],
   "source": [
    "square.resize(3, 5)"
   ]
  },
  {
   "cell_type": "markdown",
   "id": "028bfbf8",
   "metadata": {
    "papermill": {
     "duration": null,
     "end_time": null,
     "exception": null,
     "start_time": null,
     "status": "pending"
    },
    "tags": []
   },
   "source": [
    "You pass the same parameters to `square.resize()` that you used with `rectangle`, and print the `area`. When you run the program you see:"
   ]
  },
  {
   "cell_type": "code",
   "execution_count": null,
   "id": "8e885b62",
   "metadata": {
    "papermill": {
     "duration": null,
     "end_time": null,
     "exception": null,
     "start_time": null,
     "status": "pending"
    },
    "tags": []
   },
   "outputs": [],
   "source": [
    "print(f'Square area: {square.area}')"
   ]
  },
  {
   "cell_type": "markdown",
   "id": "260139ad",
   "metadata": {
    "papermill": {
     "duration": null,
     "end_time": null,
     "exception": null,
     "start_time": null,
     "status": "pending"
    },
    "tags": []
   },
   "source": [
    "The program shows that the new area is 15 like the `rectangle` object. The problem now is that the `square` object no longer meets the `Square` class constraint that the `length` and `height` must be equal."
   ]
  },
  {
   "cell_type": "markdown",
   "id": "b9a3efe9",
   "metadata": {
    "papermill": {
     "duration": null,
     "end_time": null,
     "exception": null,
     "start_time": null,
     "status": "pending"
    },
    "tags": []
   },
   "source": [
    "How can you fix that problem? You can try several approaches, but all of them will be awkward. You can override `.resize()` in square and ignore the height parameter, but that will be confusing for people looking at other parts of the program where rectangles are being resized and some of them are not getting the expected areas because they are really squares."
   ]
  },
  {
   "cell_type": "markdown",
   "id": "0fd93b0a",
   "metadata": {
    "papermill": {
     "duration": null,
     "end_time": null,
     "exception": null,
     "start_time": null,
     "status": "pending"
    },
    "tags": []
   },
   "source": [
    "In a small program like this one, it might be easy to spot the causes of the weird behavior, but in a more complex program, the problem will be harder to find."
   ]
  },
  {
   "cell_type": "markdown",
   "id": "b363040b",
   "metadata": {
    "papermill": {
     "duration": null,
     "end_time": null,
     "exception": null,
     "start_time": null,
     "status": "pending"
    },
    "tags": []
   },
   "source": [
    "The reality is that if you’re able to justify an inheritance relationship between two classes both ways, you should not derive one class from another."
   ]
  },
  {
   "cell_type": "markdown",
   "id": "3cb173a2",
   "metadata": {
    "papermill": {
     "duration": null,
     "end_time": null,
     "exception": null,
     "start_time": null,
     "status": "pending"
    },
    "tags": []
   },
   "source": [
    "In the example, it doesn’t make sense that Square inherits the interface and implementation of `.resize()` from `Rectangle`. That doesn’t mean that `Square` objects can’t be resized. It means that the interface is different because it only needs a `side_size` parameter."
   ]
  },
  {
   "cell_type": "markdown",
   "id": "9ab58cda",
   "metadata": {
    "papermill": {
     "duration": null,
     "end_time": null,
     "exception": null,
     "start_time": null,
     "status": "pending"
    },
    "tags": []
   },
   "source": [
    "This difference in interface justifies not deriving `Square` from `Rectangle` like the test above advised."
   ]
  },
  {
   "cell_type": "markdown",
   "id": "5cacff2b",
   "metadata": {
    "papermill": {
     "duration": null,
     "end_time": null,
     "exception": null,
     "start_time": null,
     "status": "pending"
    },
    "tags": []
   },
   "source": [
    "<a class=\"anchor\" id=\"composition-model-has-a\"></a>\n",
    "\n",
    "### Composition to Model **\"Has A\"** Relationship"
   ]
  },
  {
   "cell_type": "markdown",
   "id": "14cc4914",
   "metadata": {
    "papermill": {
     "duration": null,
     "end_time": null,
     "exception": null,
     "start_time": null,
     "status": "pending"
    },
    "tags": []
   },
   "source": [
    "Composition models a **has a** relationship. With composition, a class `Composite` **has an** instance of class `Component` and can leverage its implementation. The Component class can be reused in other classes completely unrelated to the Composite."
   ]
  },
  {
   "cell_type": "markdown",
   "id": "d0c5e49e",
   "metadata": {
    "papermill": {
     "duration": null,
     "end_time": null,
     "exception": null,
     "start_time": null,
     "status": "pending"
    },
    "tags": []
   },
   "source": [
    "A problem you may run into when using composition is that some of your classes may start growing by using multiple components. Your classes may require multiple parameters in the constructor just to pass in the components they are made of. This can make your classes hard to use."
   ]
  },
  {
   "cell_type": "markdown",
   "id": "517f89da",
   "metadata": {
    "papermill": {
     "duration": null,
     "end_time": null,
     "exception": null,
     "start_time": null,
     "status": "pending"
    },
    "tags": []
   },
   "source": [
    "A way to avoid the problem is by using the **Factory Method** to construct your objects. You did that with the composition example. We will cover this later."
   ]
  },
  {
   "cell_type": "markdown",
   "id": "254caab9",
   "metadata": {
    "papermill": {
     "duration": null,
     "end_time": null,
     "exception": null,
     "start_time": null,
     "status": "pending"
    },
    "tags": []
   },
   "source": [
    "<a class=\"anchor\" id=\"conclusion\"></a>\n",
    "\n",
    "## Conclusion"
   ]
  },
  {
   "cell_type": "markdown",
   "id": "33f17ad3",
   "metadata": {
    "papermill": {
     "duration": null,
     "end_time": null,
     "exception": null,
     "start_time": null,
     "status": "pending"
    },
    "tags": []
   },
   "source": [
    "Python, as an object oriented programming language, supports both inheritance and composition. You saw that inheritance is best used to model an **is a** relationship, whereas composition models a **has a** relationship.\n",
    "\n",
    "Sometimes, it’s hard to see what the relationship between two classes should be, but you can follow these guidelines:\n",
    "\n",
    "- **Use inheritance over composition in Python** to model a clear **is a** relationship. First, justify the relationship between the derived class and its base. Then, reverse the relationship and try to justify it. If you can justify the relationship in both directions, then you should not use inheritance between them.\n",
    "\n",
    "- **Use inheritance over composition in Python** to leverage both the interface and implementation of the base class.\n",
    "\n",
    "- **Use composition over inheritance in Python** to model a **has a** relationship that leverages the implementation of the component class.\n",
    "\n",
    "- **Use composition over inheritance in Python** to create components that can be reused by multiple classes in your Python applications.\n",
    "\n",
    "- **Use composition over inheritance in Python** to implement groups of behaviors and policies that can be applied interchangeably to other classes to customize their behavior.\n",
    "\n",
    "- **Use composition over inheritance in Python** to enable run-time behavior changes without affecting existing classes."
   ]
  }
 ],
 "metadata": {
  "kernelspec": {
   "display_name": "Python 3",
   "language": "python",
   "name": "python3"
  },
  "language_info": {
   "codemirror_mode": {
    "name": "ipython",
    "version": 3
   },
   "file_extension": ".py",
   "mimetype": "text/x-python",
   "name": "python",
   "nbconvert_exporter": "python",
   "pygments_lexer": "ipython3",
   "version": "3.10.12"
  },
  "papermill": {
   "default_parameters": {},
   "duration": 6.336016,
   "end_time": "2023-10-15T11:57:21.135865",
   "environment_variables": {},
   "exception": true,
   "input_path": "__notebook__.ipynb",
   "output_path": "__notebook__.ipynb",
   "parameters": {},
   "start_time": "2023-10-15T11:57:14.799849",
   "version": "2.4.0"
  }
 },
 "nbformat": 4,
 "nbformat_minor": 5
}
