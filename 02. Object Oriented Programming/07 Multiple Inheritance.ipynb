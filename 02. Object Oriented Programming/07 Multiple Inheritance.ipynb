{
 "cells": [
  {
   "cell_type": "markdown",
   "id": "3bb2ca2a",
   "metadata": {
    "papermill": {
     "duration": 0.009716,
     "end_time": "2023-10-15T12:00:08.684216",
     "exception": false,
     "start_time": "2023-10-15T12:00:08.674500",
     "status": "completed"
    },
    "tags": []
   },
   "source": []
  },
  {
   "cell_type": "markdown",
   "id": "d8784c75",
   "metadata": {
    "papermill": {
     "duration": 0.008954,
     "end_time": "2023-10-15T12:00:08.702674",
     "exception": false,
     "start_time": "2023-10-15T12:00:08.693720",
     "status": "completed"
    },
    "tags": []
   },
   "source": [
    "#  Multiple Inheritance\n"
   ]
  },
  {
   "cell_type": "markdown",
   "id": "6b7309ab",
   "metadata": {
    "papermill": {
     "duration": 0.009778,
     "end_time": "2023-10-15T12:00:08.721686",
     "exception": false,
     "start_time": "2023-10-15T12:00:08.711908",
     "status": "completed"
    },
    "tags": []
   },
   "source": [
    "##  Table of Contents \n",
    "* [Multiple Inheritance using `super()`](#multiple-inheritance-using-super)\n",
    "* [Method Resolution Order](#method_resolution_order)\n",
    "* [Multiple Inheritance Alternatives](#multiple_inheritance_alternatives)\n",
    "* [Conclusion](#conclusion)\n",
    "\n",
    "---"
   ]
  },
  {
   "cell_type": "markdown",
   "id": "45464ce4",
   "metadata": {
    "papermill": {
     "duration": 0.009899,
     "end_time": "2023-10-15T12:00:08.741568",
     "exception": false,
     "start_time": "2023-10-15T12:00:08.731669",
     "status": "completed"
    },
    "tags": []
   },
   "source": [
    "Now that you’ve worked through an overview and some examples of `super()` and single inheritance, you will be introduced to an overview and some examples that will demonstrate how multiple inheritance works and how `super()` enables that functionality. "
   ]
  },
  {
   "cell_type": "markdown",
   "id": "397b3a94",
   "metadata": {
    "papermill": {
     "duration": 0.009255,
     "end_time": "2023-10-15T12:00:08.760587",
     "exception": false,
     "start_time": "2023-10-15T12:00:08.751332",
     "status": "completed"
    },
    "tags": []
   },
   "source": [
    "<a class=\"anchor\" id=\"multiple-inheritance-using-super\"></a>\n",
    "## Multiple Inheritance using `super()`"
   ]
  },
  {
   "cell_type": "markdown",
   "id": "47387cd1",
   "metadata": {
    "papermill": {
     "duration": 0.009044,
     "end_time": "2023-10-15T12:00:08.779611",
     "exception": false,
     "start_time": "2023-10-15T12:00:08.770567",
     "status": "completed"
    },
    "tags": []
   },
   "source": [
    "There is another use case in which `super()` really shines, and this one isn’t as common as the single inheritance scenario. In addition to single inheritance, Python supports multiple inheritance, in which a subclass can inherit from multiple superclasses that don’t necessarily inherit from each other (also known as **sibling classes**). "
   ]
  },
  {
   "cell_type": "markdown",
   "id": "04db6816",
   "metadata": {
    "papermill": {
     "duration": 0.00906,
     "end_time": "2023-10-15T12:00:08.798270",
     "exception": false,
     "start_time": "2023-10-15T12:00:08.789210",
     "status": "completed"
    },
    "tags": []
   },
   "source": [
    "The image below shows a very simple multiple inheritance scenario, where one class inherits from two unrelated (sibling) superclasses:"
   ]
  },
  {
   "cell_type": "markdown",
   "id": "d22bd135",
   "metadata": {
    "papermill": {
     "duration": 0.008882,
     "end_time": "2023-10-15T12:00:08.816458",
     "exception": false,
     "start_time": "2023-10-15T12:00:08.807576",
     "status": "completed"
    },
    "tags": []
   },
   "source": []
  },
  {
   "cell_type": "markdown",
   "id": "5ae00ef1",
   "metadata": {
    "papermill": {
     "duration": 0.009039,
     "end_time": "2023-10-15T12:00:08.836660",
     "exception": false,
     "start_time": "2023-10-15T12:00:08.827621",
     "status": "completed"
    },
    "tags": []
   },
   "source": [
    "To better illustrate multiple inheritance in action, here is some code for you to try out, showing how you can build a right pyramid (a pyramid with a square base) out of a `Triangle` and a `Square`:"
   ]
  },
  {
   "cell_type": "markdown",
   "id": "d42adf7f",
   "metadata": {
    "papermill": {
     "duration": 0.008763,
     "end_time": "2023-10-15T12:00:08.854616",
     "exception": false,
     "start_time": "2023-10-15T12:00:08.845853",
     "status": "completed"
    },
    "tags": []
   },
   "source": []
  },
  {
   "cell_type": "code",
   "execution_count": null,
   "id": "80dd77a4",
   "metadata": {
    "papermill": {
     "duration": 0.008818,
     "end_time": "2023-10-15T12:00:08.872586",
     "exception": false,
     "start_time": "2023-10-15T12:00:08.863768",
     "status": "completed"
    },
    "tags": []
   },
   "outputs": [],
   "source": []
  },
  {
   "cell_type": "code",
   "execution_count": 1,
   "id": "e49d3ae6",
   "metadata": {
    "execution": {
     "iopub.execute_input": "2023-10-15T12:00:08.951665Z",
     "iopub.status.busy": "2023-10-15T12:00:08.951002Z",
     "iopub.status.idle": "2023-10-15T12:00:08.961379Z",
     "shell.execute_reply": "2023-10-15T12:00:08.959647Z"
    },
    "papermill": {
     "duration": 0.081489,
     "end_time": "2023-10-15T12:00:08.963637",
     "exception": false,
     "start_time": "2023-10-15T12:00:08.882148",
     "status": "completed"
    },
    "tags": []
   },
   "outputs": [],
   "source": [
    "# Here we declare that the Square class inherits from the Rectangle class\n",
    "class Square:\n",
    "    def __init__(self, length):\n",
    "        self.length = length\n",
    "\n",
    "    def area(self):\n",
    "        return self.length ** 2\n",
    "\n",
    "    def perimeter(self):\n",
    "        return 4 * self.length"
   ]
  },
  {
   "cell_type": "code",
   "execution_count": 2,
   "id": "a557569b",
   "metadata": {
    "execution": {
     "iopub.execute_input": "2023-10-15T12:00:08.985173Z",
     "iopub.status.busy": "2023-10-15T12:00:08.984775Z",
     "iopub.status.idle": "2023-10-15T12:00:08.989736Z",
     "shell.execute_reply": "2023-10-15T12:00:08.988668Z"
    },
    "papermill": {
     "duration": 0.018462,
     "end_time": "2023-10-15T12:00:08.992021",
     "exception": false,
     "start_time": "2023-10-15T12:00:08.973559",
     "status": "completed"
    },
    "tags": []
   },
   "outputs": [],
   "source": [
    "class Triangle:\n",
    "    def __init__(self, base, height):\n",
    "        self.base = base\n",
    "        self.height = height\n",
    "\n",
    "    def area(self):\n",
    "        return 0.5 * self.base * self.height"
   ]
  },
  {
   "cell_type": "code",
   "execution_count": 3,
   "id": "e93e7455",
   "metadata": {
    "execution": {
     "iopub.execute_input": "2023-10-15T12:00:09.013156Z",
     "iopub.status.busy": "2023-10-15T12:00:09.012731Z",
     "iopub.status.idle": "2023-10-15T12:00:09.018440Z",
     "shell.execute_reply": "2023-10-15T12:00:09.017387Z"
    },
    "papermill": {
     "duration": 0.019014,
     "end_time": "2023-10-15T12:00:09.020559",
     "exception": false,
     "start_time": "2023-10-15T12:00:09.001545",
     "status": "completed"
    },
    "tags": []
   },
   "outputs": [],
   "source": [
    "class RightPyramid(Triangle, Square):\n",
    "    def __init__(self, base, slant_height):\n",
    "        self.base = base\n",
    "        self.slant_height = slant_height\n",
    "\n",
    "    def area(self):\n",
    "        base_area = super().area()\n",
    "        perimeter = super().perimeter()\n",
    "        return 0.5 * perimeter * self.slant_height + base_area"
   ]
  },
  {
   "cell_type": "markdown",
   "id": "243258d7",
   "metadata": {
    "papermill": {
     "duration": 0.009204,
     "end_time": "2023-10-15T12:00:09.039283",
     "exception": false,
     "start_time": "2023-10-15T12:00:09.030079",
     "status": "completed"
    },
    "tags": []
   },
   "source": [
    "This example declares a `Triangle` class and a `RightPyramid` class that inherits from both `Square` and `Triangle`. "
   ]
  },
  {
   "cell_type": "markdown",
   "id": "b254c2e8",
   "metadata": {
    "papermill": {
     "duration": 0.009041,
     "end_time": "2023-10-15T12:00:09.057766",
     "exception": false,
     "start_time": "2023-10-15T12:00:09.048725",
     "status": "completed"
    },
    "tags": []
   },
   "source": [
    "You’ll see another `.area()` method that uses `super()` just like in single inheritance, with the aim of it reaching the `.perimeter()` and `.area()` methods defined all the way up in the `Rectangle` class. "
   ]
  },
  {
   "cell_type": "markdown",
   "id": "cffeed1e",
   "metadata": {
    "papermill": {
     "duration": 0.00902,
     "end_time": "2023-10-15T12:00:09.076141",
     "exception": false,
     "start_time": "2023-10-15T12:00:09.067121",
     "status": "completed"
    },
    "tags": []
   },
   "source": [
    "> **Note:** You may notice that the code above isn’t using any inherited properties from the `Triangle` class yet. Later examples will fully take advantage of inheritance from both `Triangle` and `Square`."
   ]
  },
  {
   "cell_type": "markdown",
   "id": "bf1f83d8",
   "metadata": {
    "papermill": {
     "duration": 0.010067,
     "end_time": "2023-10-15T12:00:09.100324",
     "exception": false,
     "start_time": "2023-10-15T12:00:09.090257",
     "status": "completed"
    },
    "tags": []
   },
   "source": [
    "The problem, though, is that both superclasses (`Triangle` and `Square`) define a `.area()`. Take a second and think about what might happen when you call `.area()` on `RightPyramid`, and then try calling it like below:"
   ]
  },
  {
   "cell_type": "code",
   "execution_count": 4,
   "id": "8d6cf100",
   "metadata": {
    "execution": {
     "iopub.execute_input": "2023-10-15T12:00:09.121718Z",
     "iopub.status.busy": "2023-10-15T12:00:09.120864Z",
     "iopub.status.idle": "2023-10-15T12:00:09.389463Z",
     "shell.execute_reply": "2023-10-15T12:00:09.387861Z"
    },
    "papermill": {
     "duration": 0.281297,
     "end_time": "2023-10-15T12:00:09.391522",
     "exception": true,
     "start_time": "2023-10-15T12:00:09.110225",
     "status": "failed"
    },
    "tags": []
   },
   "outputs": [
    {
     "ename": "AttributeError",
     "evalue": "'RightPyramid' object has no attribute 'height'",
     "output_type": "error",
     "traceback": [
      "\u001b[0;31m---------------------------------------------------------------------------\u001b[0m",
      "\u001b[0;31mAttributeError\u001b[0m                            Traceback (most recent call last)",
      "Cell \u001b[0;32mIn[4], line 2\u001b[0m\n\u001b[1;32m      1\u001b[0m pyramid \u001b[38;5;241m=\u001b[39m RightPyramid(\u001b[38;5;241m2\u001b[39m, \u001b[38;5;241m4\u001b[39m)\n\u001b[0;32m----> 2\u001b[0m \u001b[43mpyramid\u001b[49m\u001b[38;5;241;43m.\u001b[39;49m\u001b[43marea\u001b[49m\u001b[43m(\u001b[49m\u001b[43m)\u001b[49m\n",
      "Cell \u001b[0;32mIn[3], line 7\u001b[0m, in \u001b[0;36mRightPyramid.area\u001b[0;34m(self)\u001b[0m\n\u001b[1;32m      6\u001b[0m \u001b[38;5;28;01mdef\u001b[39;00m \u001b[38;5;21marea\u001b[39m(\u001b[38;5;28mself\u001b[39m):\n\u001b[0;32m----> 7\u001b[0m     base_area \u001b[38;5;241m=\u001b[39m \u001b[38;5;28;43msuper\u001b[39;49m\u001b[43m(\u001b[49m\u001b[43m)\u001b[49m\u001b[38;5;241;43m.\u001b[39;49m\u001b[43marea\u001b[49m\u001b[43m(\u001b[49m\u001b[43m)\u001b[49m\n\u001b[1;32m      8\u001b[0m     perimeter \u001b[38;5;241m=\u001b[39m \u001b[38;5;28msuper\u001b[39m()\u001b[38;5;241m.\u001b[39mperimeter()\n\u001b[1;32m      9\u001b[0m     \u001b[38;5;28;01mreturn\u001b[39;00m \u001b[38;5;241m0.5\u001b[39m \u001b[38;5;241m*\u001b[39m perimeter \u001b[38;5;241m*\u001b[39m \u001b[38;5;28mself\u001b[39m\u001b[38;5;241m.\u001b[39mslant_height \u001b[38;5;241m+\u001b[39m base_area\n",
      "Cell \u001b[0;32mIn[2], line 7\u001b[0m, in \u001b[0;36mTriangle.area\u001b[0;34m(self)\u001b[0m\n\u001b[1;32m      6\u001b[0m \u001b[38;5;28;01mdef\u001b[39;00m \u001b[38;5;21marea\u001b[39m(\u001b[38;5;28mself\u001b[39m):\n\u001b[0;32m----> 7\u001b[0m     \u001b[38;5;28;01mreturn\u001b[39;00m \u001b[38;5;241m0.5\u001b[39m \u001b[38;5;241m*\u001b[39m \u001b[38;5;28mself\u001b[39m\u001b[38;5;241m.\u001b[39mbase \u001b[38;5;241m*\u001b[39m \u001b[38;5;28;43mself\u001b[39;49m\u001b[38;5;241;43m.\u001b[39;49m\u001b[43mheight\u001b[49m\n",
      "\u001b[0;31mAttributeError\u001b[0m: 'RightPyramid' object has no attribute 'height'"
     ]
    }
   ],
   "source": [
    "pyramid = RightPyramid(2, 4)\n",
    "pyramid.area()"
   ]
  },
  {
   "cell_type": "markdown",
   "id": "7ac25e05",
   "metadata": {
    "papermill": {
     "duration": null,
     "end_time": null,
     "exception": null,
     "start_time": null,
     "status": "pending"
    },
    "tags": []
   },
   "source": [
    "Did you guess that Python will try to call `Triangle.area()`? This is because of something called the **method resolution order**."
   ]
  },
  {
   "cell_type": "markdown",
   "id": "a5c5a5ad",
   "metadata": {
    "papermill": {
     "duration": null,
     "end_time": null,
     "exception": null,
     "start_time": null,
     "status": "pending"
    },
    "tags": []
   },
   "source": [
    "<a class=\"anchor\" id=\"method_resolution_order\"></a>\n",
    "\n",
    "## Method Resolution Order"
   ]
  },
  {
   "cell_type": "markdown",
   "id": "1f3f6c13",
   "metadata": {
    "papermill": {
     "duration": null,
     "end_time": null,
     "exception": null,
     "start_time": null,
     "status": "pending"
    },
    "tags": []
   },
   "source": [
    "The method resolution order (or **MRO**) tells Python how to search for inherited methods. This comes in handy when you’re using `super()` because the MRO tells you exactly where Python will look for a method you’re calling with `super()` and in what order."
   ]
  },
  {
   "cell_type": "markdown",
   "id": "32db29b7",
   "metadata": {
    "papermill": {
     "duration": null,
     "end_time": null,
     "exception": null,
     "start_time": null,
     "status": "pending"
    },
    "tags": []
   },
   "source": [
    "Every class has an `.__mro__` attribute that allows us to inspect the order, so let’s do that:"
   ]
  },
  {
   "cell_type": "code",
   "execution_count": null,
   "id": "e12db69c",
   "metadata": {
    "papermill": {
     "duration": null,
     "end_time": null,
     "exception": null,
     "start_time": null,
     "status": "pending"
    },
    "tags": []
   },
   "outputs": [],
   "source": [
    "RightPyramid.__mro__"
   ]
  },
  {
   "cell_type": "markdown",
   "id": "9c1878c1",
   "metadata": {
    "papermill": {
     "duration": null,
     "end_time": null,
     "exception": null,
     "start_time": null,
     "status": "pending"
    },
    "tags": []
   },
   "source": [
    "This tells us that methods will be searched first in `Rightpyramid`, then in `Triangle`, then in `Square`, then `Rectangle`, and then, if nothing is found, in `object`, from which all classes originate. "
   ]
  },
  {
   "cell_type": "markdown",
   "id": "1918312b",
   "metadata": {
    "papermill": {
     "duration": null,
     "end_time": null,
     "exception": null,
     "start_time": null,
     "status": "pending"
    },
    "tags": []
   },
   "source": [
    "The problem here is that the interpreter is searching for `.area()` in `Triangle` before `Square` and `Rectangle`, and upon finding `.area()` in `Triangle`, Python calls it instead of the one you want. Because `Triangle.area()` expects there to be a `.height` and a `.base` attribute, Python throws an `AttributeError`. "
   ]
  },
  {
   "cell_type": "markdown",
   "id": "bafa364f",
   "metadata": {
    "papermill": {
     "duration": null,
     "end_time": null,
     "exception": null,
     "start_time": null,
     "status": "pending"
    },
    "tags": []
   },
   "source": [
    "Luckily, you have some control over how the MRO is constructed. Just by changing the signature of the `RightPyramid` class, you can search in the order you want, and the methods will resolve correctly:"
   ]
  },
  {
   "cell_type": "code",
   "execution_count": null,
   "id": "d38a7718",
   "metadata": {
    "papermill": {
     "duration": null,
     "end_time": null,
     "exception": null,
     "start_time": null,
     "status": "pending"
    },
    "tags": []
   },
   "outputs": [],
   "source": [
    "class RightPyramid(Square, Triangle):\n",
    "    def __init__(self, base, slant_height):\n",
    "        self.base = base\n",
    "        self.slant_height = slant_height\n",
    "        super().__init__(self.base)\n",
    "\n",
    "    def area(self):\n",
    "        base_area = super().area()\n",
    "        perimeter = super().perimeter()\n",
    "        return 0.5 * perimeter * self.slant_height + base_area"
   ]
  },
  {
   "cell_type": "markdown",
   "id": "e9562ec1",
   "metadata": {
    "papermill": {
     "duration": null,
     "end_time": null,
     "exception": null,
     "start_time": null,
     "status": "pending"
    },
    "tags": []
   },
   "source": [
    "Notice that `RightPyramid` initializes partially with the `.__init__()` from the `Square` class. This allows `.area()` to use the `.length` on the object, as is designed. "
   ]
  },
  {
   "cell_type": "markdown",
   "id": "04a7ecfa",
   "metadata": {
    "papermill": {
     "duration": null,
     "end_time": null,
     "exception": null,
     "start_time": null,
     "status": "pending"
    },
    "tags": []
   },
   "source": [
    "Now, you can build a pyramid, inspect the MRO, and calculate the surface area:"
   ]
  },
  {
   "cell_type": "code",
   "execution_count": null,
   "id": "55894d2e",
   "metadata": {
    "papermill": {
     "duration": null,
     "end_time": null,
     "exception": null,
     "start_time": null,
     "status": "pending"
    },
    "tags": []
   },
   "outputs": [],
   "source": [
    "pyramid = RightPyramid(2, 4)\n",
    "RightPyramid.__mro__"
   ]
  },
  {
   "cell_type": "code",
   "execution_count": null,
   "id": "c56205c4",
   "metadata": {
    "papermill": {
     "duration": null,
     "end_time": null,
     "exception": null,
     "start_time": null,
     "status": "pending"
    },
    "tags": []
   },
   "outputs": [],
   "source": [
    "pyramid.area()"
   ]
  },
  {
   "cell_type": "markdown",
   "id": "0afefba7",
   "metadata": {
    "papermill": {
     "duration": null,
     "end_time": null,
     "exception": null,
     "start_time": null,
     "status": "pending"
    },
    "tags": []
   },
   "source": [
    "You see that the MRO is now what you’d expect, and you can inspect the area of the pyramid as well, thanks to `.area()` and `.perimeter()`. "
   ]
  },
  {
   "cell_type": "markdown",
   "id": "6488caf3",
   "metadata": {
    "papermill": {
     "duration": null,
     "end_time": null,
     "exception": null,
     "start_time": null,
     "status": "pending"
    },
    "tags": []
   },
   "source": [
    "There’s still a problem here, though. For the sake of simplicity, I did a few things wrong in this example: the first, and arguably most importantly, was that I had two separate classes with the same method name and signature. "
   ]
  },
  {
   "cell_type": "markdown",
   "id": "afd61a1e",
   "metadata": {
    "papermill": {
     "duration": null,
     "end_time": null,
     "exception": null,
     "start_time": null,
     "status": "pending"
    },
    "tags": []
   },
   "source": [
    "This causes issues with method resolution, because the first instance of `.area()` that is encountered in the MRO list will be called. "
   ]
  },
  {
   "cell_type": "markdown",
   "id": "b7a2b2cc",
   "metadata": {
    "papermill": {
     "duration": null,
     "end_time": null,
     "exception": null,
     "start_time": null,
     "status": "pending"
    },
    "tags": []
   },
   "source": [
    "When you’re using `super()` with multiple inheritance, it’s imperative to design your classes to **cooperate**. Part of this is ensuring that your methods are unique so that they get resolved in the MRO, by making sure method signatures are unique—whether by using method names or method parameters."
   ]
  },
  {
   "cell_type": "markdown",
   "id": "ad6c9c3e",
   "metadata": {
    "papermill": {
     "duration": null,
     "end_time": null,
     "exception": null,
     "start_time": null,
     "status": "pending"
    },
    "tags": []
   },
   "source": [
    "In this case, to avoid a complete overhaul of your code, you can rename the `Triangle` class’s `.area()` method to `.tri_area()`. This way, the area methods can continue using class properties rather than taking external parameters:"
   ]
  },
  {
   "cell_type": "code",
   "execution_count": null,
   "id": "27022b60",
   "metadata": {
    "papermill": {
     "duration": null,
     "end_time": null,
     "exception": null,
     "start_time": null,
     "status": "pending"
    },
    "tags": []
   },
   "outputs": [],
   "source": [
    "class Triangle:\n",
    "    def __init__(self, base, height):\n",
    "        self.base = base\n",
    "        self.height = height\n",
    "        super().__init__()\n",
    "\n",
    "    def tri_area(self):\n",
    "        return 0.5 * self.base * self.height"
   ]
  },
  {
   "cell_type": "markdown",
   "id": "def5991d",
   "metadata": {
    "papermill": {
     "duration": null,
     "end_time": null,
     "exception": null,
     "start_time": null,
     "status": "pending"
    },
    "tags": []
   },
   "source": [
    "Let’s also go ahead and use this in the `RightPyramid` class:"
   ]
  },
  {
   "cell_type": "code",
   "execution_count": null,
   "id": "6fa88150",
   "metadata": {
    "papermill": {
     "duration": null,
     "end_time": null,
     "exception": null,
     "start_time": null,
     "status": "pending"
    },
    "tags": []
   },
   "outputs": [],
   "source": [
    "class RightPyramid(Square, Triangle):\n",
    "    def __init__(self, base, slant_height):\n",
    "        self.base = base\n",
    "        self.slant_height = slant_height\n",
    "        super().__init__(self.base)\n",
    "\n",
    "    def area(self):\n",
    "        base_area = super().area()\n",
    "        perimeter = super().perimeter()\n",
    "        return 0.5 * perimeter * self.slant_height + base_area\n",
    "\n",
    "    def area_2(self):\n",
    "        base_area = super().area()\n",
    "        triangle_area = super().tri_area()\n",
    "        return triangle_area * 4 + base_area"
   ]
  },
  {
   "cell_type": "markdown",
   "id": "8f3a568a",
   "metadata": {
    "papermill": {
     "duration": null,
     "end_time": null,
     "exception": null,
     "start_time": null,
     "status": "pending"
    },
    "tags": []
   },
   "source": [
    "The next issue here is that the code doesn’t have a delegated `Triangle` object like it does for a `Square` object, so calling `.area_2()` will give us an `AttributeError` since `.base` and `.height` don’t have any values. "
   ]
  },
  {
   "cell_type": "markdown",
   "id": "51b64109",
   "metadata": {
    "papermill": {
     "duration": null,
     "end_time": null,
     "exception": null,
     "start_time": null,
     "status": "pending"
    },
    "tags": []
   },
   "source": [
    "You need to do two things to fix this:"
   ]
  },
  {
   "cell_type": "markdown",
   "id": "26582718",
   "metadata": {
    "papermill": {
     "duration": null,
     "end_time": null,
     "exception": null,
     "start_time": null,
     "status": "pending"
    },
    "tags": []
   },
   "source": [
    "1. All methods that are called with `super()` need to have a call to their superclass’s version of that method. This means that you will need to add `super().__init__()` to the `.__init__()` methods of `Triangle` and `Square`.\n",
    "\n",
    "2. Redesign all the `.__init__()` calls to take a keyword dictionary. See the complete code below."
   ]
  },
  {
   "cell_type": "code",
   "execution_count": null,
   "id": "67f087d5",
   "metadata": {
    "papermill": {
     "duration": null,
     "end_time": null,
     "exception": null,
     "start_time": null,
     "status": "pending"
    },
    "tags": []
   },
   "outputs": [],
   "source": [
    "class Rectangle:\n",
    "    def __init__(self, length, width, **kwargs):\n",
    "        self.length = length\n",
    "        self.width = width\n",
    "        super().__init__(**kwargs)\n",
    "\n",
    "    def area(self):\n",
    "        return self.length * self.width\n",
    "\n",
    "    def perimeter(self):\n",
    "        return 2 * self.length + 2 * self.width"
   ]
  },
  {
   "cell_type": "code",
   "execution_count": null,
   "id": "e2602529",
   "metadata": {
    "papermill": {
     "duration": null,
     "end_time": null,
     "exception": null,
     "start_time": null,
     "status": "pending"
    },
    "tags": []
   },
   "outputs": [],
   "source": [
    "# Here we declare that the Square class inherits from \n",
    "# the Rectangle class\n",
    "class Square(Rectangle):\n",
    "    def __init__(self, length, **kwargs):\n",
    "        print('Square calling...')\n",
    "        super().__init__(length=length, width=length, **kwargs)"
   ]
  },
  {
   "cell_type": "code",
   "execution_count": null,
   "id": "07e3e02c",
   "metadata": {
    "papermill": {
     "duration": null,
     "end_time": null,
     "exception": null,
     "start_time": null,
     "status": "pending"
    },
    "tags": []
   },
   "outputs": [],
   "source": [
    "class Cube(Square):\n",
    "    def surface_area(self):\n",
    "        face_area = super().area()\n",
    "        return face_area * 6\n",
    "\n",
    "    def volume(self):\n",
    "        face_area = super().area()\n",
    "        return face_area * self.length"
   ]
  },
  {
   "cell_type": "code",
   "execution_count": null,
   "id": "4e9fae10",
   "metadata": {
    "papermill": {
     "duration": null,
     "end_time": null,
     "exception": null,
     "start_time": null,
     "status": "pending"
    },
    "tags": []
   },
   "outputs": [],
   "source": [
    "class Triangle:\n",
    "    def __init__(self, base, height, **kwargs):\n",
    "        print('Triangle calling...')\n",
    "        self.base = base\n",
    "        self.height = height\n",
    "        super().__init__(**kwargs)\n",
    "\n",
    "    def tri_area(self):\n",
    "        return 0.5 * self.base * self.height"
   ]
  },
  {
   "cell_type": "code",
   "execution_count": null,
   "id": "32866c2c",
   "metadata": {
    "papermill": {
     "duration": null,
     "end_time": null,
     "exception": null,
     "start_time": null,
     "status": "pending"
    },
    "tags": []
   },
   "outputs": [],
   "source": [
    "class RightPyramid(Square, Triangle):\n",
    "    def __init__(self, base, slant_height, **kwargs):\n",
    "        self.base = base\n",
    "        self.slant_height = slant_height\n",
    "        kwargs[\"height\"] = slant_height\n",
    "        kwargs[\"length\"] = base\n",
    "        super().__init__(base=base, **kwargs)\n",
    "\n",
    "    def area(self):\n",
    "        base_area = super().area()\n",
    "        perimeter = super().perimeter()\n",
    "        return 0.5 * perimeter * self.slant_height + base_area\n",
    "\n",
    "    def area_2(self):\n",
    "        base_area = super().area()\n",
    "        triangle_area = super().tri_area()\n",
    "        return triangle_area * 4 + base_area"
   ]
  },
  {
   "cell_type": "markdown",
   "id": "5212acc0",
   "metadata": {
    "papermill": {
     "duration": null,
     "end_time": null,
     "exception": null,
     "start_time": null,
     "status": "pending"
    },
    "tags": []
   },
   "source": [
    "There are a number of important differences in this code:"
   ]
  },
  {
   "cell_type": "markdown",
   "id": "0f98fed0",
   "metadata": {
    "papermill": {
     "duration": null,
     "end_time": null,
     "exception": null,
     "start_time": null,
     "status": "pending"
    },
    "tags": []
   },
   "source": [
    "- `kwargs` is modified in some places (such as `RightPyramid.__init__()`: This will allow users of these objects to instantiate them only with the arguments that make sense for that particular object.\n",
    "\n",
    "- **Setting up named arguments before `**kwargs`:** You can see this in `RightPyramid.__init__()`. This has the neat effect of popping that key right out of the `**kwargs` dictionary, so that by the time that it ends up at the end of the MRO in the `object` class, `**kwargs` is empty."
   ]
  },
  {
   "cell_type": "markdown",
   "id": "e80d209c",
   "metadata": {
    "papermill": {
     "duration": null,
     "end_time": null,
     "exception": null,
     "start_time": null,
     "status": "pending"
    },
    "tags": []
   },
   "source": [
    "Now, when you use these updated classes, you have this:"
   ]
  },
  {
   "cell_type": "code",
   "execution_count": null,
   "id": "2d87f9f4",
   "metadata": {
    "papermill": {
     "duration": null,
     "end_time": null,
     "exception": null,
     "start_time": null,
     "status": "pending"
    },
    "tags": []
   },
   "outputs": [],
   "source": [
    "pyramid = RightPyramid(base=2, slant_height=4)"
   ]
  },
  {
   "cell_type": "code",
   "execution_count": null,
   "id": "95067683",
   "metadata": {
    "papermill": {
     "duration": null,
     "end_time": null,
     "exception": null,
     "start_time": null,
     "status": "pending"
    },
    "tags": []
   },
   "outputs": [],
   "source": [
    "pyramid.area()"
   ]
  },
  {
   "cell_type": "code",
   "execution_count": null,
   "id": "05c1fea5",
   "metadata": {
    "papermill": {
     "duration": null,
     "end_time": null,
     "exception": null,
     "start_time": null,
     "status": "pending"
    },
    "tags": []
   },
   "outputs": [],
   "source": [
    "pyramid.area_2()"
   ]
  },
  {
   "cell_type": "markdown",
   "id": "560d2924",
   "metadata": {
    "papermill": {
     "duration": null,
     "end_time": null,
     "exception": null,
     "start_time": null,
     "status": "pending"
    },
    "tags": []
   },
   "source": [
    "It works! You’ve used `super()` to successfully navigate a complicated class hierarchy while using both inheritance and composition to create new classes with minimal reimplementation."
   ]
  },
  {
   "cell_type": "markdown",
   "id": "121834a5",
   "metadata": {
    "papermill": {
     "duration": null,
     "end_time": null,
     "exception": null,
     "start_time": null,
     "status": "pending"
    },
    "tags": []
   },
   "source": [
    "<a class=\"anchor\" id=\"multiple_inheritance_alternatives\"></a>\n",
    "\n",
    "## Multiple Inheritance Alternatives"
   ]
  },
  {
   "cell_type": "markdown",
   "id": "4a49ebf7",
   "metadata": {
    "papermill": {
     "duration": null,
     "end_time": null,
     "exception": null,
     "start_time": null,
     "status": "pending"
    },
    "tags": []
   },
   "source": [
    "As you can see, multiple inheritance can be useful but also lead to very complicated situations and code that is hard to read. It’s also rare to have objects that neatly inherit everything from more than multiple other objects. "
   ]
  },
  {
   "cell_type": "markdown",
   "id": "3253a6c5",
   "metadata": {
    "papermill": {
     "duration": null,
     "end_time": null,
     "exception": null,
     "start_time": null,
     "status": "pending"
    },
    "tags": []
   },
   "source": [
    "If you see yourself beginning to use multiple inheritance and a complicated class hierarchy, it’s worth asking yourself if you can achieve code that is cleaner and easier to understand by using **composition** instead of inheritance."
   ]
  },
  {
   "cell_type": "markdown",
   "id": "58ef6e21",
   "metadata": {
    "papermill": {
     "duration": null,
     "end_time": null,
     "exception": null,
     "start_time": null,
     "status": "pending"
    },
    "tags": []
   },
   "source": [
    "There’s another technique that can help you get around the complexity of multiple inheritance while still providing many of the benefits. This technique is in the form of a specialized, simple class called a **mixin**. "
   ]
  },
  {
   "cell_type": "markdown",
   "id": "803625d8",
   "metadata": {
    "papermill": {
     "duration": null,
     "end_time": null,
     "exception": null,
     "start_time": null,
     "status": "pending"
    },
    "tags": []
   },
   "source": [
    "A mixin works as a kind of inheritance, but instead of defining an is-a relationship it may be more accurate to say that it defines an **includes-a** relationship. With a mix-in you can write a behavior that can be directly included in any number of other classes."
   ]
  },
  {
   "cell_type": "markdown",
   "id": "1c8628d1",
   "metadata": {
    "papermill": {
     "duration": null,
     "end_time": null,
     "exception": null,
     "start_time": null,
     "status": "pending"
    },
    "tags": []
   },
   "source": [
    "Below, you will see a short example using `VolumeMixin` to give specific functionality to our 3D objects—in this case, a volume calculation:"
   ]
  },
  {
   "cell_type": "code",
   "execution_count": null,
   "id": "48d34149",
   "metadata": {
    "papermill": {
     "duration": null,
     "end_time": null,
     "exception": null,
     "start_time": null,
     "status": "pending"
    },
    "tags": []
   },
   "outputs": [],
   "source": [
    "class Rectangle:\n",
    "    def __init__(self, length, width):\n",
    "        self.length = length\n",
    "        self.width = width\n",
    "\n",
    "    def area(self):\n",
    "        return self.length * self.width\n",
    "\n",
    "class Square(Rectangle):\n",
    "    def __init__(self, length):\n",
    "        super().__init__(length, length)\n",
    "\n",
    "class VolumeMixin:\n",
    "    def volume(self):\n",
    "        return self.area() * self.height\n",
    "\n",
    "class Cube(VolumeMixin, Square):\n",
    "    def __init__(self, length):\n",
    "        super().__init__(length)\n",
    "        self.height = length\n",
    "\n",
    "    def face_area(self):\n",
    "        return super().area()\n",
    "\n",
    "    def surface_area(self):\n",
    "        return super().area() * 6"
   ]
  },
  {
   "cell_type": "markdown",
   "id": "a49d6f82",
   "metadata": {
    "papermill": {
     "duration": null,
     "end_time": null,
     "exception": null,
     "start_time": null,
     "status": "pending"
    },
    "tags": []
   },
   "source": [
    "In this example, the code was reworked to include a mixin called `VolumeMixin`. The mixin is then used by `Cube` and gives `Cube` the ability to calculate its volume, which is shown below:"
   ]
  },
  {
   "cell_type": "code",
   "execution_count": null,
   "id": "9cbb8a46",
   "metadata": {
    "papermill": {
     "duration": null,
     "end_time": null,
     "exception": null,
     "start_time": null,
     "status": "pending"
    },
    "tags": []
   },
   "outputs": [],
   "source": [
    "cube = Cube(2)"
   ]
  },
  {
   "cell_type": "code",
   "execution_count": null,
   "id": "c29e165b",
   "metadata": {
    "papermill": {
     "duration": null,
     "end_time": null,
     "exception": null,
     "start_time": null,
     "status": "pending"
    },
    "tags": []
   },
   "outputs": [],
   "source": [
    "cube.surface_area()"
   ]
  },
  {
   "cell_type": "code",
   "execution_count": null,
   "id": "a218a690",
   "metadata": {
    "papermill": {
     "duration": null,
     "end_time": null,
     "exception": null,
     "start_time": null,
     "status": "pending"
    },
    "tags": []
   },
   "outputs": [],
   "source": [
    "cube.volume()"
   ]
  },
  {
   "cell_type": "markdown",
   "id": "ba27e5a3",
   "metadata": {
    "papermill": {
     "duration": null,
     "end_time": null,
     "exception": null,
     "start_time": null,
     "status": "pending"
    },
    "tags": []
   },
   "source": [
    "This mixin can be used the same way in any other class that has an area defined for it and for which the formula `area * height` returns the correct volume."
   ]
  },
  {
   "cell_type": "markdown",
   "id": "2565879e",
   "metadata": {
    "papermill": {
     "duration": null,
     "end_time": null,
     "exception": null,
     "start_time": null,
     "status": "pending"
    },
    "tags": []
   },
   "source": [
    "<a class=\"anchor\" id=\"conclusion\"></a>\n",
    "## Conclusion"
   ]
  },
  {
   "cell_type": "markdown",
   "id": "fab3a228",
   "metadata": {
    "papermill": {
     "duration": null,
     "end_time": null,
     "exception": null,
     "start_time": null,
     "status": "pending"
    },
    "tags": []
   },
   "source": [
    "In this section, you learned how multiple inheritance works in Python, and techniques to combine `super()` with multiple inheritance. You also learned about how Python resolves method calls using the method resolution order (MRO), as well as how to inspect and modify the MRO to ensure appropriate methods are called at appropriate times. "
   ]
  },
  {
   "cell_type": "markdown",
   "id": "c9bf85ce",
   "metadata": {
    "papermill": {
     "duration": null,
     "end_time": null,
     "exception": null,
     "start_time": null,
     "status": "pending"
    },
    "tags": []
   },
   "source": [
    "For more information about object-oriented programming in Python and using `super()`, check out these resources:"
   ]
  },
  {
   "cell_type": "markdown",
   "id": "e0b75fa1",
   "metadata": {
    "papermill": {
     "duration": null,
     "end_time": null,
     "exception": null,
     "start_time": null,
     "status": "pending"
    },
    "tags": []
   },
   "source": [
    "- [Official `super()` documentation](https://docs.python.org/3/library/functions.html#super)\n",
    "- [Python’s `super()` Considered Super by Raymond Hettinger](https://rhettinger.wordpress.com/2011/05/26/super-considered-super/)\n",
    "- [Object-Oriented Programming in Python 3](https://realpython.com/python3-object-oriented-programming/)\n"
   ]
  }
 ],
 "metadata": {
  "kernelspec": {
   "display_name": "Python 3",
   "language": "python",
   "name": "python3"
  },
  "language_info": {
   "codemirror_mode": {
    "name": "ipython",
    "version": 3
   },
   "file_extension": ".py",
   "mimetype": "text/x-python",
   "name": "python",
   "nbconvert_exporter": "python",
   "pygments_lexer": "ipython3",
   "version": "3.10.12"
  },
  "papermill": {
   "default_parameters": {},
   "duration": 4.374188,
   "end_time": "2023-10-15T12:00:09.820996",
   "environment_variables": {},
   "exception": true,
   "input_path": "__notebook__.ipynb",
   "output_path": "__notebook__.ipynb",
   "parameters": {},
   "start_time": "2023-10-15T12:00:05.446808",
   "version": "2.4.0"
  }
 },
 "nbformat": 4,
 "nbformat_minor": 5
}
