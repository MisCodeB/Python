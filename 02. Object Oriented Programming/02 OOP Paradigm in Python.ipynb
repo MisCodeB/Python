{
 "cells": [
  {
   "cell_type": "markdown",
   "id": "be2049aa",
   "metadata": {
    "papermill": {
     "duration": 0.010369,
     "end_time": "2023-10-15T11:32:00.281915",
     "exception": false,
     "start_time": "2023-10-15T11:32:00.271546",
     "status": "completed"
    },
    "tags": []
   },
   "source": []
  },
  {
   "cell_type": "markdown",
   "id": "3710cbd2",
   "metadata": {
    "papermill": {
     "duration": 0.01042,
     "end_time": "2023-10-15T11:32:00.302444",
     "exception": false,
     "start_time": "2023-10-15T11:32:00.292024",
     "status": "completed"
    },
    "tags": []
   },
   "source": [
    "#  Object Oriented Programming in Python \n"
   ]
  },
  {
   "cell_type": "code",
   "execution_count": null,
   "id": "67d842e6",
   "metadata": {
    "papermill": {
     "duration": 0.009448,
     "end_time": "2023-10-15T11:32:00.322540",
     "exception": false,
     "start_time": "2023-10-15T11:32:00.313092",
     "status": "completed"
    },
    "tags": []
   },
   "outputs": [],
   "source": []
  },
  {
   "cell_type": "markdown",
   "id": "9962378d",
   "metadata": {
    "papermill": {
     "duration": 0.009566,
     "end_time": "2023-10-15T11:32:00.341870",
     "exception": false,
     "start_time": "2023-10-15T11:32:00.332304",
     "status": "completed"
    },
    "tags": []
   },
   "source": [
    "## Table of Contents \n",
    "* [What Is Object-Oriented Programming in Python?](#what_is_object-oriented_programming_in_python?)\n",
    "* [Define a Class in Python](#define_a_class_in_python)\n",
    "* [Classes vs Instances](#classes_vs_instances)\n",
    "    * [How to Define a Class](#how_to_define_a_class)\n",
    "* [Instantiate an Object in Python](#instantiate_an_object_in_python)\n",
    "* [Class and Instance Attributes](#class_and_instance_attributes)\n",
    "    * [Instance Methods](#instance_methods)\n",
    "    * [How the `object.method()` Syntax Works](#how_the_`object.method()`_syntax_works)\n",
    "    * [Check Your Understanding](#check_your_understanding)\n",
    "\n",
    "---"
   ]
  },
  {
   "cell_type": "markdown",
   "id": "bac419dc",
   "metadata": {
    "papermill": {
     "duration": 0.009541,
     "end_time": "2023-10-15T11:32:00.361143",
     "exception": false,
     "start_time": "2023-10-15T11:32:00.351602",
     "status": "completed"
    },
    "tags": []
   },
   "source": [
    "**Object-oriented programming (OOP)** is a method of structuring a program by bundling related properties and behaviors into individual objects. In this tutorial, you’ll learn the basics of object-oriented programming in Python."
   ]
  },
  {
   "cell_type": "markdown",
   "id": "ac79abf5",
   "metadata": {
    "papermill": {
     "duration": 0.056531,
     "end_time": "2023-10-15T11:32:00.427393",
     "exception": false,
     "start_time": "2023-10-15T11:32:00.370862",
     "status": "completed"
    },
    "tags": []
   },
   "source": [
    "Conceptually, objects are like the components of a system. Think of a program as a factory assembly line of sorts. At each step of the assembly line a system component processes some material, ultimately transforming raw material into a finished product."
   ]
  },
  {
   "cell_type": "markdown",
   "id": "04b7142f",
   "metadata": {
    "papermill": {
     "duration": 0.010057,
     "end_time": "2023-10-15T11:32:00.447813",
     "exception": false,
     "start_time": "2023-10-15T11:32:00.437756",
     "status": "completed"
    },
    "tags": []
   },
   "source": [
    "An object contains data, like the raw or preprocessed materials at each step on an assembly line, and behavior, like the action each assembly line component performs."
   ]
  },
  {
   "cell_type": "markdown",
   "id": "68513ee6",
   "metadata": {
    "papermill": {
     "duration": 0.009778,
     "end_time": "2023-10-15T11:32:00.467738",
     "exception": false,
     "start_time": "2023-10-15T11:32:00.457960",
     "status": "completed"
    },
    "tags": []
   },
   "source": [
    "**In this section, you’ll learn how to:**\n",
    "\n",
    "- Create a **class**, which is like a blueprint for creating an object\n",
    "- Use classes to **create new objects**\n",
    "- Model systems with **class inheritance**"
   ]
  },
  {
   "cell_type": "markdown",
   "id": "a5d0ebc6",
   "metadata": {
    "papermill": {
     "duration": 0.00967,
     "end_time": "2023-10-15T11:32:00.487395",
     "exception": false,
     "start_time": "2023-10-15T11:32:00.477725",
     "status": "completed"
    },
    "tags": []
   },
   "source": [
    "<a class=\"anchor\" id=\"what_is_object-oriented_programming_in_python?\"></a>\n",
    "## What Is Object-Oriented Programming in Python?"
   ]
  },
  {
   "cell_type": "markdown",
   "id": "4060cc87",
   "metadata": {
    "papermill": {
     "duration": 0.009584,
     "end_time": "2023-10-15T11:32:00.506898",
     "exception": false,
     "start_time": "2023-10-15T11:32:00.497314",
     "status": "completed"
    },
    "tags": []
   },
   "source": [
    "Object-oriented programming is a programming paradigm that provides a means of structuring programs so that properties and behaviors are bundled into individual **objects**."
   ]
  },
  {
   "cell_type": "markdown",
   "id": "97c0855e",
   "metadata": {
    "papermill": {
     "duration": 0.009666,
     "end_time": "2023-10-15T11:32:00.526484",
     "exception": false,
     "start_time": "2023-10-15T11:32:00.516818",
     "status": "completed"
    },
    "tags": []
   },
   "source": [
    "For instance, an object could represent a person with **properties** like a name, age, and address and **behaviors** such as walking, talking, breathing, and running. Or it could represent an email with properties like a recipient list, subject, and body and behaviors like adding attachments and sending."
   ]
  },
  {
   "cell_type": "markdown",
   "id": "9520b46f",
   "metadata": {
    "papermill": {
     "duration": 0.009651,
     "end_time": "2023-10-15T11:32:00.546125",
     "exception": false,
     "start_time": "2023-10-15T11:32:00.536474",
     "status": "completed"
    },
    "tags": []
   },
   "source": []
  },
  {
   "cell_type": "markdown",
   "id": "dd19ca87",
   "metadata": {
    "papermill": {
     "duration": 0.010601,
     "end_time": "2023-10-15T11:32:00.567165",
     "exception": false,
     "start_time": "2023-10-15T11:32:00.556564",
     "status": "completed"
    },
    "tags": []
   },
   "source": [
    "Put another way, object-oriented programming is an approach for modeling concrete, real-world things, like cars, as well as relations between things, like companies and employees, students and teachers, and so on. OOP models real-world entities as software objects that have some data associated with them and can perform certain functions."
   ]
  },
  {
   "cell_type": "markdown",
   "id": "abd8db96",
   "metadata": {
    "papermill": {
     "duration": 0.010244,
     "end_time": "2023-10-15T11:32:00.587930",
     "exception": false,
     "start_time": "2023-10-15T11:32:00.577686",
     "status": "completed"
    },
    "tags": []
   },
   "source": [
    "Another common programming paradigm is **procedural programming**, which structures a program like a recipe in that it provides a set of steps, in the form of functions and code blocks, that flow sequentially in order to complete a task."
   ]
  },
  {
   "cell_type": "markdown",
   "id": "d074c374",
   "metadata": {
    "papermill": {
     "duration": 0.010127,
     "end_time": "2023-10-15T11:32:00.608504",
     "exception": false,
     "start_time": "2023-10-15T11:32:00.598377",
     "status": "completed"
    },
    "tags": []
   },
   "source": [
    "The key takeaway is that objects are at the center of object-oriented programming in Python, not only representing the data, as in procedural programming, but in the overall structure of the program as well."
   ]
  },
  {
   "cell_type": "markdown",
   "id": "019469ff",
   "metadata": {
    "papermill": {
     "duration": 0.009745,
     "end_time": "2023-10-15T11:32:00.628640",
     "exception": false,
     "start_time": "2023-10-15T11:32:00.618895",
     "status": "completed"
    },
    "tags": []
   },
   "source": [
    "<a class=\"anchor\" id=\"define_a_class_in_python\"></a>\n",
    "## Define a Class in Python"
   ]
  },
  {
   "cell_type": "markdown",
   "id": "269a2523",
   "metadata": {
    "papermill": {
     "duration": 0.009886,
     "end_time": "2023-10-15T11:32:00.648805",
     "exception": false,
     "start_time": "2023-10-15T11:32:00.638919",
     "status": "completed"
    },
    "tags": []
   },
   "source": [
    "Primitive data structures—like numbers, strings, and lists—are designed to represent simple pieces of information, such as the cost of an apple, the name of a poem, or your favorite colors, respectively. What if you want to represent something more complex?"
   ]
  },
  {
   "cell_type": "markdown",
   "id": "e774f024",
   "metadata": {
    "papermill": {
     "duration": 0.011598,
     "end_time": "2023-10-15T11:32:00.670491",
     "exception": false,
     "start_time": "2023-10-15T11:32:00.658893",
     "status": "completed"
    },
    "tags": []
   },
   "source": [
    "For example, let’s say you want to track employees in an organization. You need to store some basic information about each employee, such as their name, age, position, and the year they started working."
   ]
  },
  {
   "cell_type": "markdown",
   "id": "9975b138",
   "metadata": {
    "papermill": {
     "duration": 0.010162,
     "end_time": "2023-10-15T11:32:00.692715",
     "exception": false,
     "start_time": "2023-10-15T11:32:00.682553",
     "status": "completed"
    },
    "tags": []
   },
   "source": [
    "One way to do this is to represent each employee as a list:"
   ]
  },
  {
   "cell_type": "code",
   "execution_count": 1,
   "id": "9fcfa8fd",
   "metadata": {
    "execution": {
     "iopub.execute_input": "2023-10-15T11:32:00.714486Z",
     "iopub.status.busy": "2023-10-15T11:32:00.714051Z",
     "iopub.status.idle": "2023-10-15T11:32:00.721331Z",
     "shell.execute_reply": "2023-10-15T11:32:00.720489Z"
    },
    "papermill": {
     "duration": 0.020558,
     "end_time": "2023-10-15T11:32:00.723369",
     "exception": false,
     "start_time": "2023-10-15T11:32:00.702811",
     "status": "completed"
    },
    "tags": []
   },
   "outputs": [],
   "source": [
    "kirk = [\"James Kirk\", 34, \"Captain\", 2265]\n",
    "spock = [\"Spock\", 35, \"Science Officer\", 2254]\n",
    "mccoy = [\"Leonard McCoy\", \"Chief Medical Officer\", 2266]"
   ]
  },
  {
   "cell_type": "markdown",
   "id": "9ac21b0c",
   "metadata": {
    "papermill": {
     "duration": 0.009487,
     "end_time": "2023-10-15T11:32:00.744656",
     "exception": false,
     "start_time": "2023-10-15T11:32:00.735169",
     "status": "completed"
    },
    "tags": []
   },
   "source": [
    "There are a number of issues with this approach."
   ]
  },
  {
   "cell_type": "markdown",
   "id": "d9bc192b",
   "metadata": {
    "papermill": {
     "duration": 0.00923,
     "end_time": "2023-10-15T11:32:00.763408",
     "exception": false,
     "start_time": "2023-10-15T11:32:00.754178",
     "status": "completed"
    },
    "tags": []
   },
   "source": [
    "First, it can make larger code files more difficult to manage. If you reference `kirk[0]` several lines away from where the `kirk` list is declared, will you remember that the element with index `0` is the employee’s name?"
   ]
  },
  {
   "cell_type": "markdown",
   "id": "bea7c4b6",
   "metadata": {
    "papermill": {
     "duration": 0.009218,
     "end_time": "2023-10-15T11:32:00.782079",
     "exception": false,
     "start_time": "2023-10-15T11:32:00.772861",
     "status": "completed"
    },
    "tags": []
   },
   "source": [
    "Second, it can introduce errors if not every employee has the same number of elements in the list. In the `mccoy` list above, the age is missing, so `mccoy[1]` will return `\"Chief Medical Officer\"` instead of Dr. McCoy’s age."
   ]
  },
  {
   "cell_type": "markdown",
   "id": "f0cd2f2a",
   "metadata": {
    "papermill": {
     "duration": 0.009209,
     "end_time": "2023-10-15T11:32:00.800804",
     "exception": false,
     "start_time": "2023-10-15T11:32:00.791595",
     "status": "completed"
    },
    "tags": []
   },
   "source": [
    "A great way to make this type of code more manageable and more maintainable is to use **classes**."
   ]
  },
  {
   "cell_type": "markdown",
   "id": "b7f33a0b",
   "metadata": {
    "papermill": {
     "duration": 0.009217,
     "end_time": "2023-10-15T11:32:00.819524",
     "exception": false,
     "start_time": "2023-10-15T11:32:00.810307",
     "status": "completed"
    },
    "tags": []
   },
   "source": [
    "<a class=\"anchor\" id=\"classes_vs_instances\"></a>\n",
    "## Classes vs Instances"
   ]
  },
  {
   "cell_type": "markdown",
   "id": "2b94f7c2",
   "metadata": {
    "papermill": {
     "duration": 0.009222,
     "end_time": "2023-10-15T11:32:00.838343",
     "exception": false,
     "start_time": "2023-10-15T11:32:00.829121",
     "status": "completed"
    },
    "tags": []
   },
   "source": [
    "Classes are used to create user-defined data structures. Classes define functions called **methods**, which identify the behaviors and actions that an object created from the class can perform with its data."
   ]
  },
  {
   "cell_type": "markdown",
   "id": "76a7077b",
   "metadata": {
    "papermill": {
     "duration": 0.009221,
     "end_time": "2023-10-15T11:32:00.857005",
     "exception": false,
     "start_time": "2023-10-15T11:32:00.847784",
     "status": "completed"
    },
    "tags": []
   },
   "source": []
  },
  {
   "cell_type": "markdown",
   "id": "2e02e8fc",
   "metadata": {
    "papermill": {
     "duration": 0.009257,
     "end_time": "2023-10-15T11:32:00.875679",
     "exception": false,
     "start_time": "2023-10-15T11:32:00.866422",
     "status": "completed"
    },
    "tags": []
   },
   "source": [
    "In this tutorial, you’ll create a `Dog` class that stores some information about the characteristics and behaviors that an individual dog can have."
   ]
  },
  {
   "cell_type": "markdown",
   "id": "619d03e3",
   "metadata": {
    "papermill": {
     "duration": 0.009284,
     "end_time": "2023-10-15T11:32:00.894435",
     "exception": false,
     "start_time": "2023-10-15T11:32:00.885151",
     "status": "completed"
    },
    "tags": []
   },
   "source": [
    "A class is a blueprint for how something should be defined. It doesn’t necessarily contain any data. The `Dog` class specifies that a name and an age are necessary for defining a dog, but it doesn’t contain the name or age of any specific dog."
   ]
  },
  {
   "cell_type": "markdown",
   "id": "77e9e179",
   "metadata": {
    "papermill": {
     "duration": 0.009236,
     "end_time": "2023-10-15T11:32:00.913191",
     "exception": false,
     "start_time": "2023-10-15T11:32:00.903955",
     "status": "completed"
    },
    "tags": []
   },
   "source": [
    "While the class is the blueprint, an **instance** is an object that is built from a class and contains real data. An instance of the `Dog` class is not a blueprint anymore. It’s an actual dog with a name, like Miles, who’s four years old."
   ]
  },
  {
   "cell_type": "markdown",
   "id": "2f06e983",
   "metadata": {
    "papermill": {
     "duration": 0.009386,
     "end_time": "2023-10-15T11:32:00.932144",
     "exception": false,
     "start_time": "2023-10-15T11:32:00.922758",
     "status": "completed"
    },
    "tags": []
   },
   "source": []
  },
  {
   "cell_type": "markdown",
   "id": "96fbe65c",
   "metadata": {
    "papermill": {
     "duration": 0.009345,
     "end_time": "2023-10-15T11:32:00.951106",
     "exception": false,
     "start_time": "2023-10-15T11:32:00.941761",
     "status": "completed"
    },
    "tags": []
   },
   "source": [
    "Put another way, a class is like a form or questionnaire. An instance is like a form that has been filled out with information. Just like many people can fill out the same form with their own unique information, many instances can be created from a single class."
   ]
  },
  {
   "cell_type": "markdown",
   "id": "6e34c845",
   "metadata": {
    "papermill": {
     "duration": 0.009633,
     "end_time": "2023-10-15T11:32:00.970820",
     "exception": false,
     "start_time": "2023-10-15T11:32:00.961187",
     "status": "completed"
    },
    "tags": []
   },
   "source": []
  },
  {
   "cell_type": "markdown",
   "id": "3ed68777",
   "metadata": {
    "papermill": {
     "duration": 0.009357,
     "end_time": "2023-10-15T11:32:00.989690",
     "exception": false,
     "start_time": "2023-10-15T11:32:00.980333",
     "status": "completed"
    },
    "tags": []
   },
   "source": [
    "<a class=\"anchor\" id=\"how_to_define_a_class\"></a>\n",
    "### How to Define a Class"
   ]
  },
  {
   "cell_type": "markdown",
   "id": "759d46da",
   "metadata": {
    "papermill": {
     "duration": 0.009459,
     "end_time": "2023-10-15T11:32:01.008783",
     "exception": false,
     "start_time": "2023-10-15T11:32:00.999324",
     "status": "completed"
    },
    "tags": []
   },
   "source": [
    "All class definitions start with the ‍`class‍` keyword, which is followed by the name of the class and a colon. Any code that is indented below the class definition is considered part of the class’s body."
   ]
  },
  {
   "cell_type": "markdown",
   "id": "c5fba1c2",
   "metadata": {
    "papermill": {
     "duration": 0.009636,
     "end_time": "2023-10-15T11:32:01.028036",
     "exception": false,
     "start_time": "2023-10-15T11:32:01.018400",
     "status": "completed"
    },
    "tags": []
   },
   "source": [
    "Here’s an example of a ‍`Dog` class:\n",
    "\n",
    "```python\n",
    "class Dog:\n",
    "    pass\n",
    "```"
   ]
  },
  {
   "cell_type": "markdown",
   "id": "75523a06",
   "metadata": {
    "papermill": {
     "duration": 0.009479,
     "end_time": "2023-10-15T11:32:01.047226",
     "exception": false,
     "start_time": "2023-10-15T11:32:01.037747",
     "status": "completed"
    },
    "tags": []
   },
   "source": [
    "The body of the `Dog` class consists of a single statement: the `pass` keyword. pass is often used as a placeholder indicating where code will eventually go. It allows you to run this code without Python throwing an error."
   ]
  },
  {
   "cell_type": "markdown",
   "id": "a024dfc2",
   "metadata": {
    "papermill": {
     "duration": 0.009369,
     "end_time": "2023-10-15T11:32:01.066126",
     "exception": false,
     "start_time": "2023-10-15T11:32:01.056757",
     "status": "completed"
    },
    "tags": []
   },
   "source": [
    "> **Note:** Python class names are written in CapitalizedWords notation (**Pascal** case) by convention. For example, a class for a specific breed of dog like the Jack Russell Terrier would be written as `JackRussellTerrier`."
   ]
  },
  {
   "cell_type": "markdown",
   "id": "acc88877",
   "metadata": {
    "papermill": {
     "duration": 0.009668,
     "end_time": "2023-10-15T11:32:01.085483",
     "exception": false,
     "start_time": "2023-10-15T11:32:01.075815",
     "status": "completed"
    },
    "tags": []
   },
   "source": [
    "The `Dog` class isn’t very interesting right now, so let’s spruce it up a bit by defining some properties that all `Dog` objects should have. There are a number of properties that we can choose from, including name, age, coat color, and breed. To keep things simple, we’ll just use name and age."
   ]
  },
  {
   "cell_type": "markdown",
   "id": "876bfce8",
   "metadata": {
    "papermill": {
     "duration": 0.009528,
     "end_time": "2023-10-15T11:32:01.104746",
     "exception": false,
     "start_time": "2023-10-15T11:32:01.095218",
     "status": "completed"
    },
    "tags": []
   },
   "source": [
    "The properties that all `Dog` objects must have are defined in a method called `.__init__()`. Every time a new `Dog` object is created, `.__init__()` sets the initial **state** of the object by assigning the values of the object’s properties. That is, `.__init__()` initializes each new instance of the class."
   ]
  },
  {
   "cell_type": "markdown",
   "id": "d121519e",
   "metadata": {
    "papermill": {
     "duration": 0.009579,
     "end_time": "2023-10-15T11:32:01.124079",
     "exception": false,
     "start_time": "2023-10-15T11:32:01.114500",
     "status": "completed"
    },
    "tags": []
   },
   "source": [
    "You can give `.__init__()` any number of parameters, but the first parameter will always be a variable called `self`. When a new class instance is created, the instance is automatically passed to the self parameter in `.__init__()` so that new **attributes** can be defined on the object."
   ]
  },
  {
   "cell_type": "markdown",
   "id": "394b46d9",
   "metadata": {
    "papermill": {
     "duration": 0.009297,
     "end_time": "2023-10-15T11:32:01.143124",
     "exception": false,
     "start_time": "2023-10-15T11:32:01.133827",
     "status": "completed"
    },
    "tags": []
   },
   "source": [
    "Let’s update the `Dog` class with an `.__init__()` method that creates `.name` and `.age` attributes:"
   ]
  },
  {
   "cell_type": "code",
   "execution_count": 2,
   "id": "5272fee4",
   "metadata": {
    "execution": {
     "iopub.execute_input": "2023-10-15T11:32:01.163831Z",
     "iopub.status.busy": "2023-10-15T11:32:01.163299Z",
     "iopub.status.idle": "2023-10-15T11:32:01.166911Z",
     "shell.execute_reply": "2023-10-15T11:32:01.166436Z"
    },
    "papermill": {
     "duration": 0.015611,
     "end_time": "2023-10-15T11:32:01.168325",
     "exception": false,
     "start_time": "2023-10-15T11:32:01.152714",
     "status": "completed"
    },
    "tags": []
   },
   "outputs": [],
   "source": [
    "class Dog:\n",
    "    def __init__(self, name, age):\n",
    "        self.name = name\n",
    "        self.age = age"
   ]
  },
  {
   "cell_type": "markdown",
   "id": "05d74a37",
   "metadata": {
    "papermill": {
     "duration": 0.009553,
     "end_time": "2023-10-15T11:32:01.187879",
     "exception": false,
     "start_time": "2023-10-15T11:32:01.178326",
     "status": "completed"
    },
    "tags": []
   },
   "source": [
    "Notice that the `.__init__()` method’s signature is indented four spaces. The body of the method is indented by eight spaces. This indentation is vitally important. It tells Python that the `.__init__()` method belongs to the Dog class."
   ]
  },
  {
   "cell_type": "markdown",
   "id": "23ca2eae",
   "metadata": {
    "papermill": {
     "duration": 0.009402,
     "end_time": "2023-10-15T11:32:01.206923",
     "exception": false,
     "start_time": "2023-10-15T11:32:01.197521",
     "status": "completed"
    },
    "tags": []
   },
   "source": [
    "In the body of `.__init__()`, there are two statements using the self variable:"
   ]
  },
  {
   "cell_type": "markdown",
   "id": "b3f3fbe4",
   "metadata": {
    "papermill": {
     "duration": 0.00959,
     "end_time": "2023-10-15T11:32:01.226280",
     "exception": false,
     "start_time": "2023-10-15T11:32:01.216690",
     "status": "completed"
    },
    "tags": []
   },
   "source": [
    "1. `self.name = name` creates an attribute called `name` and assigns to it the value of the `name` parameter.\n",
    "2. `self.age = age` creates an attribute called age and assigns to it the value of the `age` parameter."
   ]
  },
  {
   "cell_type": "markdown",
   "id": "a8317063",
   "metadata": {
    "papermill": {
     "duration": 0.009527,
     "end_time": "2023-10-15T11:32:01.245463",
     "exception": false,
     "start_time": "2023-10-15T11:32:01.235936",
     "status": "completed"
    },
    "tags": []
   },
   "source": [
    "Attributes created in `.__init__()` are called **instance attributes**. An instance attribute’s value is specific to a particular instance of the class. All `Dog` objects have a `name` and an `age`, but the values for the `name` and `age` attributes will vary depending on the `Dog` instance."
   ]
  },
  {
   "cell_type": "markdown",
   "id": "e9684898",
   "metadata": {
    "papermill": {
     "duration": 0.009456,
     "end_time": "2023-10-15T11:32:01.264612",
     "exception": false,
     "start_time": "2023-10-15T11:32:01.255156",
     "status": "completed"
    },
    "tags": []
   },
   "source": [
    "On the other hand, **class attributes** are attributes that have the same value for all class instances. You can define a class attribute by assigning a value to a variable name outside of `.__init__()`."
   ]
  },
  {
   "cell_type": "markdown",
   "id": "f130b9e0",
   "metadata": {
    "papermill": {
     "duration": 0.009638,
     "end_time": "2023-10-15T11:32:01.283966",
     "exception": false,
     "start_time": "2023-10-15T11:32:01.274328",
     "status": "completed"
    },
    "tags": []
   },
   "source": [
    "For example, the following `Dog` class has a class attribute called `species` with the value `\"Canis familiaris\"`:"
   ]
  },
  {
   "cell_type": "code",
   "execution_count": 3,
   "id": "9c487779",
   "metadata": {
    "execution": {
     "iopub.execute_input": "2023-10-15T11:32:01.305238Z",
     "iopub.status.busy": "2023-10-15T11:32:01.304542Z",
     "iopub.status.idle": "2023-10-15T11:32:01.308957Z",
     "shell.execute_reply": "2023-10-15T11:32:01.308417Z"
    },
    "papermill": {
     "duration": 0.016857,
     "end_time": "2023-10-15T11:32:01.310515",
     "exception": false,
     "start_time": "2023-10-15T11:32:01.293658",
     "status": "completed"
    },
    "tags": []
   },
   "outputs": [],
   "source": [
    "class Dog:\n",
    "    # Class attribute\n",
    "    species = \"Canis familiaris\"\n",
    "\n",
    "    def __init__(self, name, age):\n",
    "        self.name = name\n",
    "        self.age = age"
   ]
  },
  {
   "cell_type": "markdown",
   "id": "ab17de7e",
   "metadata": {
    "papermill": {
     "duration": 0.010322,
     "end_time": "2023-10-15T11:32:01.332111",
     "exception": false,
     "start_time": "2023-10-15T11:32:01.321789",
     "status": "completed"
    },
    "tags": []
   },
   "source": [
    "Class attributes are defined directly beneath the first line of the class name and are indented by four spaces. They must always be assigned an initial value. When an instance of the class is created, class attributes are automatically created and assigned to their initial values."
   ]
  },
  {
   "cell_type": "markdown",
   "id": "0b888636",
   "metadata": {
    "papermill": {
     "duration": 0.010044,
     "end_time": "2023-10-15T11:32:01.352812",
     "exception": false,
     "start_time": "2023-10-15T11:32:01.342768",
     "status": "completed"
    },
    "tags": []
   },
   "source": [
    "Use class attributes to define properties that should have the same value for every class instance. Use instance attributes for properties that vary from one instance to another."
   ]
  },
  {
   "cell_type": "markdown",
   "id": "06a9ab8b",
   "metadata": {
    "papermill": {
     "duration": 0.010235,
     "end_time": "2023-10-15T11:32:01.373302",
     "exception": false,
     "start_time": "2023-10-15T11:32:01.363067",
     "status": "completed"
    },
    "tags": []
   },
   "source": [
    "Now that we have a `Dog` class, let’s create some dogs!"
   ]
  },
  {
   "cell_type": "markdown",
   "id": "5d6dcb93",
   "metadata": {
    "papermill": {
     "duration": 0.010456,
     "end_time": "2023-10-15T11:32:01.394562",
     "exception": false,
     "start_time": "2023-10-15T11:32:01.384106",
     "status": "completed"
    },
    "tags": []
   },
   "source": [
    "<a class=\"anchor\" id=\"instantiate_an_object_in_python\"></a>\n",
    "## Instantiate an Object in Python"
   ]
  },
  {
   "cell_type": "code",
   "execution_count": 4,
   "id": "07a6479e",
   "metadata": {
    "execution": {
     "iopub.execute_input": "2023-10-15T11:32:01.417814Z",
     "iopub.status.busy": "2023-10-15T11:32:01.417224Z",
     "iopub.status.idle": "2023-10-15T11:32:01.421244Z",
     "shell.execute_reply": "2023-10-15T11:32:01.420350Z"
    },
    "papermill": {
     "duration": 0.018276,
     "end_time": "2023-10-15T11:32:01.423307",
     "exception": false,
     "start_time": "2023-10-15T11:32:01.405031",
     "status": "completed"
    },
    "tags": []
   },
   "outputs": [],
   "source": [
    "class Dog:\n",
    "    pass"
   ]
  },
  {
   "cell_type": "markdown",
   "id": "b61ee1db",
   "metadata": {
    "papermill": {
     "duration": 0.010159,
     "end_time": "2023-10-15T11:32:01.444387",
     "exception": false,
     "start_time": "2023-10-15T11:32:01.434228",
     "status": "completed"
    },
    "tags": []
   },
   "source": [
    "This creates a new `Dog` class with no attributes or methods."
   ]
  },
  {
   "cell_type": "markdown",
   "id": "efe7bb98",
   "metadata": {
    "papermill": {
     "duration": 0.009823,
     "end_time": "2023-10-15T11:32:01.464392",
     "exception": false,
     "start_time": "2023-10-15T11:32:01.454569",
     "status": "completed"
    },
    "tags": []
   },
   "source": [
    "Creating a new object from a class is called **instantiating** an object. You can instantiate a new `Dog` object by typing the name of the class, followed by opening and closing parentheses:"
   ]
  },
  {
   "cell_type": "code",
   "execution_count": 5,
   "id": "507763dd",
   "metadata": {
    "execution": {
     "iopub.execute_input": "2023-10-15T11:32:01.486407Z",
     "iopub.status.busy": "2023-10-15T11:32:01.486127Z",
     "iopub.status.idle": "2023-10-15T11:32:01.491891Z",
     "shell.execute_reply": "2023-10-15T11:32:01.490963Z"
    },
    "papermill": {
     "duration": 0.018684,
     "end_time": "2023-10-15T11:32:01.493475",
     "exception": false,
     "start_time": "2023-10-15T11:32:01.474791",
     "status": "completed"
    },
    "tags": []
   },
   "outputs": [
    {
     "data": {
      "text/plain": [
       "<__main__.Dog at 0x7eca3028c7f0>"
      ]
     },
     "execution_count": 5,
     "metadata": {},
     "output_type": "execute_result"
    }
   ],
   "source": [
    "Dog()"
   ]
  },
  {
   "cell_type": "markdown",
   "id": "c191b2d9",
   "metadata": {
    "papermill": {
     "duration": 0.010014,
     "end_time": "2023-10-15T11:32:01.514316",
     "exception": false,
     "start_time": "2023-10-15T11:32:01.504302",
     "status": "completed"
    },
    "tags": []
   },
   "source": [
    "You now have a new Dog object at `0x7f0b04dcac50`. This funny-looking string of letters and numbers is a **memory address** that indicates where the `Dog` object is stored in your computer’s memory. Note that the address you see on your screen will be different."
   ]
  },
  {
   "cell_type": "markdown",
   "id": "d12dc7df",
   "metadata": {
    "papermill": {
     "duration": 0.010738,
     "end_time": "2023-10-15T11:32:01.535680",
     "exception": false,
     "start_time": "2023-10-15T11:32:01.524942",
     "status": "completed"
    },
    "tags": []
   },
   "source": [
    "Now instantiate a second `Dog` object:"
   ]
  },
  {
   "cell_type": "code",
   "execution_count": 6,
   "id": "b8a892da",
   "metadata": {
    "execution": {
     "iopub.execute_input": "2023-10-15T11:32:01.560329Z",
     "iopub.status.busy": "2023-10-15T11:32:01.559792Z",
     "iopub.status.idle": "2023-10-15T11:32:01.564128Z",
     "shell.execute_reply": "2023-10-15T11:32:01.563224Z"
    },
    "papermill": {
     "duration": 0.017959,
     "end_time": "2023-10-15T11:32:01.565822",
     "exception": false,
     "start_time": "2023-10-15T11:32:01.547863",
     "status": "completed"
    },
    "tags": []
   },
   "outputs": [
    {
     "data": {
      "text/plain": [
       "<__main__.Dog at 0x7eca3028ca90>"
      ]
     },
     "execution_count": 6,
     "metadata": {},
     "output_type": "execute_result"
    }
   ],
   "source": [
    "Dog()"
   ]
  },
  {
   "cell_type": "markdown",
   "id": "c638db5f",
   "metadata": {
    "papermill": {
     "duration": 0.009967,
     "end_time": "2023-10-15T11:32:01.587096",
     "exception": false,
     "start_time": "2023-10-15T11:32:01.577129",
     "status": "completed"
    },
    "tags": []
   },
   "source": [
    "The new `Dog` instance is located at a different memory address. That’s because it’s an entirely new instance and is completely unique from the first `Dog` object that you instantiated."
   ]
  },
  {
   "cell_type": "markdown",
   "id": "47eb8b7f",
   "metadata": {
    "papermill": {
     "duration": 0.009671,
     "end_time": "2023-10-15T11:32:01.606713",
     "exception": false,
     "start_time": "2023-10-15T11:32:01.597042",
     "status": "completed"
    },
    "tags": []
   },
   "source": [
    "To see this another way, type the following:"
   ]
  },
  {
   "cell_type": "code",
   "execution_count": 7,
   "id": "7c1b81d2",
   "metadata": {
    "execution": {
     "iopub.execute_input": "2023-10-15T11:32:01.630128Z",
     "iopub.status.busy": "2023-10-15T11:32:01.629633Z",
     "iopub.status.idle": "2023-10-15T11:32:01.632534Z",
     "shell.execute_reply": "2023-10-15T11:32:01.632046Z"
    },
    "papermill": {
     "duration": 0.0175,
     "end_time": "2023-10-15T11:32:01.634365",
     "exception": false,
     "start_time": "2023-10-15T11:32:01.616865",
     "status": "completed"
    },
    "tags": []
   },
   "outputs": [],
   "source": [
    "a = Dog()"
   ]
  },
  {
   "cell_type": "code",
   "execution_count": 8,
   "id": "c021f721",
   "metadata": {
    "execution": {
     "iopub.execute_input": "2023-10-15T11:32:01.658015Z",
     "iopub.status.busy": "2023-10-15T11:32:01.657217Z",
     "iopub.status.idle": "2023-10-15T11:32:01.660871Z",
     "shell.execute_reply": "2023-10-15T11:32:01.660181Z"
    },
    "papermill": {
     "duration": 0.016718,
     "end_time": "2023-10-15T11:32:01.662336",
     "exception": false,
     "start_time": "2023-10-15T11:32:01.645618",
     "status": "completed"
    },
    "tags": []
   },
   "outputs": [],
   "source": [
    "b = Dog()"
   ]
  },
  {
   "cell_type": "code",
   "execution_count": 9,
   "id": "3b85cecf",
   "metadata": {
    "execution": {
     "iopub.execute_input": "2023-10-15T11:32:01.685860Z",
     "iopub.status.busy": "2023-10-15T11:32:01.685148Z",
     "iopub.status.idle": "2023-10-15T11:32:01.690388Z",
     "shell.execute_reply": "2023-10-15T11:32:01.689642Z"
    },
    "papermill": {
     "duration": 0.018512,
     "end_time": "2023-10-15T11:32:01.691815",
     "exception": false,
     "start_time": "2023-10-15T11:32:01.673303",
     "status": "completed"
    },
    "tags": []
   },
   "outputs": [
    {
     "data": {
      "text/plain": [
       "False"
      ]
     },
     "execution_count": 9,
     "metadata": {},
     "output_type": "execute_result"
    }
   ],
   "source": [
    "a == b"
   ]
  },
  {
   "cell_type": "markdown",
   "id": "31e60163",
   "metadata": {
    "papermill": {
     "duration": 0.011779,
     "end_time": "2023-10-15T11:32:01.714900",
     "exception": false,
     "start_time": "2023-10-15T11:32:01.703121",
     "status": "completed"
    },
    "tags": []
   },
   "source": [
    "In this code, you create two new `Dog` objects and assign them to the variables `a` and `b`. When you compare `a` and `b` using the `==` operator, the result is `False`. Even though `a` and `b` are both instances of the `Dog` class, they represent two distinct objects in memory."
   ]
  },
  {
   "cell_type": "markdown",
   "id": "95c0a7ca",
   "metadata": {
    "papermill": {
     "duration": 0.009911,
     "end_time": "2023-10-15T11:32:01.735941",
     "exception": false,
     "start_time": "2023-10-15T11:32:01.726030",
     "status": "completed"
    },
    "tags": []
   },
   "source": [
    "<a class=\"anchor\" id=\"class_and_instance_attributes\"></a>\n",
    "## Class and Instance Attributes"
   ]
  },
  {
   "cell_type": "markdown",
   "id": "680de359",
   "metadata": {
    "papermill": {
     "duration": 0.009706,
     "end_time": "2023-10-15T11:32:01.755625",
     "exception": false,
     "start_time": "2023-10-15T11:32:01.745919",
     "status": "completed"
    },
    "tags": []
   },
   "source": [
    "Now create a new `Dog` class with a class attribute called `.species` and two instance attributes called `.name` and `.age`:"
   ]
  },
  {
   "cell_type": "code",
   "execution_count": 10,
   "id": "15bd4ac1",
   "metadata": {
    "execution": {
     "iopub.execute_input": "2023-10-15T11:32:01.776923Z",
     "iopub.status.busy": "2023-10-15T11:32:01.776662Z",
     "iopub.status.idle": "2023-10-15T11:32:01.780618Z",
     "shell.execute_reply": "2023-10-15T11:32:01.779817Z"
    },
    "papermill": {
     "duration": 0.016546,
     "end_time": "2023-10-15T11:32:01.782156",
     "exception": false,
     "start_time": "2023-10-15T11:32:01.765610",
     "status": "completed"
    },
    "tags": []
   },
   "outputs": [],
   "source": [
    "class Dog:\n",
    "    species = \"Canis familiaris\"\n",
    "    def __init__(self, name, age):\n",
    "        self.name = name\n",
    "        self.age = age"
   ]
  },
  {
   "cell_type": "markdown",
   "id": "8771232b",
   "metadata": {
    "papermill": {
     "duration": 0.010559,
     "end_time": "2023-10-15T11:32:01.804343",
     "exception": false,
     "start_time": "2023-10-15T11:32:01.793784",
     "status": "completed"
    },
    "tags": []
   },
   "source": [
    "To instantiate objects of this `Dog` class, you need to provide values for the `name` and `age`. If you don’t, then Python raises a `TypeError`:"
   ]
  },
  {
   "cell_type": "code",
   "execution_count": 11,
   "id": "1bcc1c50",
   "metadata": {
    "execution": {
     "iopub.execute_input": "2023-10-15T11:32:01.827513Z",
     "iopub.status.busy": "2023-10-15T11:32:01.827266Z",
     "iopub.status.idle": "2023-10-15T11:32:01.990234Z",
     "shell.execute_reply": "2023-10-15T11:32:01.989016Z"
    },
    "papermill": {
     "duration": 0.176234,
     "end_time": "2023-10-15T11:32:01.991488",
     "exception": true,
     "start_time": "2023-10-15T11:32:01.815254",
     "status": "failed"
    },
    "tags": []
   },
   "outputs": [
    {
     "ename": "TypeError",
     "evalue": "Dog.__init__() missing 2 required positional arguments: 'name' and 'age'",
     "output_type": "error",
     "traceback": [
      "\u001b[0;31m---------------------------------------------------------------------------\u001b[0m",
      "\u001b[0;31mTypeError\u001b[0m                                 Traceback (most recent call last)",
      "Cell \u001b[0;32mIn[11], line 1\u001b[0m\n\u001b[0;32m----> 1\u001b[0m \u001b[43mDog\u001b[49m\u001b[43m(\u001b[49m\u001b[43m)\u001b[49m\n",
      "\u001b[0;31mTypeError\u001b[0m: Dog.__init__() missing 2 required positional arguments: 'name' and 'age'"
     ]
    }
   ],
   "source": [
    "Dog()"
   ]
  },
  {
   "cell_type": "markdown",
   "id": "5727373b",
   "metadata": {
    "papermill": {
     "duration": null,
     "end_time": null,
     "exception": null,
     "start_time": null,
     "status": "pending"
    },
    "tags": []
   },
   "source": [
    "To pass arguments to the `name` and `age` parameters, put values into the parentheses after the class name:"
   ]
  },
  {
   "cell_type": "code",
   "execution_count": null,
   "id": "00d690b3",
   "metadata": {
    "papermill": {
     "duration": null,
     "end_time": null,
     "exception": null,
     "start_time": null,
     "status": "pending"
    },
    "tags": []
   },
   "outputs": [],
   "source": [
    "buddy = Dog(\"Buddy\", 9)"
   ]
  },
  {
   "cell_type": "code",
   "execution_count": null,
   "id": "ecfab5d2",
   "metadata": {
    "papermill": {
     "duration": null,
     "end_time": null,
     "exception": null,
     "start_time": null,
     "status": "pending"
    },
    "tags": []
   },
   "outputs": [],
   "source": [
    "miles = Dog(\"Miles\", 4)"
   ]
  },
  {
   "cell_type": "markdown",
   "id": "d70186ff",
   "metadata": {
    "papermill": {
     "duration": null,
     "end_time": null,
     "exception": null,
     "start_time": null,
     "status": "pending"
    },
    "tags": []
   },
   "source": [
    "This creates two new `Dog` instances—one for a nine-year-old dog named Buddy and one for a four-year-old dog named Miles."
   ]
  },
  {
   "cell_type": "markdown",
   "id": "ea39219e",
   "metadata": {
    "papermill": {
     "duration": null,
     "end_time": null,
     "exception": null,
     "start_time": null,
     "status": "pending"
    },
    "tags": []
   },
   "source": [
    "The Dog class’s `.__init__()` method has three parameters, so why are only two arguments passed to it in the example?"
   ]
  },
  {
   "cell_type": "markdown",
   "id": "3a43e388",
   "metadata": {
    "papermill": {
     "duration": null,
     "end_time": null,
     "exception": null,
     "start_time": null,
     "status": "pending"
    },
    "tags": []
   },
   "source": [
    "When you instantiate a Dog object, Python creates a new instance and passes it to the first parameter of `.__init__()`. This essentially removes the `self` parameter, so you only need to worry about the `name` and `age` parameters."
   ]
  },
  {
   "cell_type": "markdown",
   "id": "b9487800",
   "metadata": {
    "papermill": {
     "duration": null,
     "end_time": null,
     "exception": null,
     "start_time": null,
     "status": "pending"
    },
    "tags": []
   },
   "source": [
    "After you create the `Dog` instances, you can access their instance attributes using **dot notation**:"
   ]
  },
  {
   "cell_type": "code",
   "execution_count": null,
   "id": "146c7609",
   "metadata": {
    "papermill": {
     "duration": null,
     "end_time": null,
     "exception": null,
     "start_time": null,
     "status": "pending"
    },
    "tags": []
   },
   "outputs": [],
   "source": [
    "buddy.name"
   ]
  },
  {
   "cell_type": "code",
   "execution_count": null,
   "id": "47561b8a",
   "metadata": {
    "papermill": {
     "duration": null,
     "end_time": null,
     "exception": null,
     "start_time": null,
     "status": "pending"
    },
    "tags": []
   },
   "outputs": [],
   "source": [
    "buddy.age"
   ]
  },
  {
   "cell_type": "code",
   "execution_count": null,
   "id": "052fcf0d",
   "metadata": {
    "papermill": {
     "duration": null,
     "end_time": null,
     "exception": null,
     "start_time": null,
     "status": "pending"
    },
    "tags": []
   },
   "outputs": [],
   "source": [
    "miles.name"
   ]
  },
  {
   "cell_type": "code",
   "execution_count": null,
   "id": "349d5694",
   "metadata": {
    "papermill": {
     "duration": null,
     "end_time": null,
     "exception": null,
     "start_time": null,
     "status": "pending"
    },
    "tags": []
   },
   "outputs": [],
   "source": [
    "miles.age"
   ]
  },
  {
   "cell_type": "markdown",
   "id": "772c065c",
   "metadata": {
    "papermill": {
     "duration": null,
     "end_time": null,
     "exception": null,
     "start_time": null,
     "status": "pending"
    },
    "tags": []
   },
   "source": [
    "You can access class attributes the same way:\n",
    "\n"
   ]
  },
  {
   "cell_type": "code",
   "execution_count": null,
   "id": "17785686",
   "metadata": {
    "papermill": {
     "duration": null,
     "end_time": null,
     "exception": null,
     "start_time": null,
     "status": "pending"
    },
    "tags": []
   },
   "outputs": [],
   "source": [
    "buddy.species"
   ]
  },
  {
   "cell_type": "markdown",
   "id": "6172dfff",
   "metadata": {
    "papermill": {
     "duration": null,
     "end_time": null,
     "exception": null,
     "start_time": null,
     "status": "pending"
    },
    "tags": []
   },
   "source": [
    "One of the biggest advantages of using classes to organize data is that instances are guaranteed to have the attributes you expect. All `Dog` instances have `.species`, `.name`, and `.age` attributes, so you can use those attributes with confidence knowing that they will always return a value."
   ]
  },
  {
   "cell_type": "markdown",
   "id": "8653efd4",
   "metadata": {
    "papermill": {
     "duration": null,
     "end_time": null,
     "exception": null,
     "start_time": null,
     "status": "pending"
    },
    "tags": []
   },
   "source": [
    "Although the attributes are guaranteed to exist, their values _can_ be changed dynamically:"
   ]
  },
  {
   "cell_type": "code",
   "execution_count": null,
   "id": "f1d771bf",
   "metadata": {
    "papermill": {
     "duration": null,
     "end_time": null,
     "exception": null,
     "start_time": null,
     "status": "pending"
    },
    "tags": []
   },
   "outputs": [],
   "source": [
    "buddy.age = 10"
   ]
  },
  {
   "cell_type": "code",
   "execution_count": null,
   "id": "d1321e32",
   "metadata": {
    "papermill": {
     "duration": null,
     "end_time": null,
     "exception": null,
     "start_time": null,
     "status": "pending"
    },
    "tags": []
   },
   "outputs": [],
   "source": [
    "buddy.age"
   ]
  },
  {
   "cell_type": "code",
   "execution_count": null,
   "id": "175d8c5f",
   "metadata": {
    "papermill": {
     "duration": null,
     "end_time": null,
     "exception": null,
     "start_time": null,
     "status": "pending"
    },
    "tags": []
   },
   "outputs": [],
   "source": [
    "miles.species = \"Felis silvestris\""
   ]
  },
  {
   "cell_type": "code",
   "execution_count": null,
   "id": "29618a06",
   "metadata": {
    "papermill": {
     "duration": null,
     "end_time": null,
     "exception": null,
     "start_time": null,
     "status": "pending"
    },
    "tags": []
   },
   "outputs": [],
   "source": [
    "miles.species"
   ]
  },
  {
   "cell_type": "markdown",
   "id": "de4e72b5",
   "metadata": {
    "papermill": {
     "duration": null,
     "end_time": null,
     "exception": null,
     "start_time": null,
     "status": "pending"
    },
    "tags": []
   },
   "source": [
    "In this example, you change the `.age` attribute of the buddy object to `10`. Then you change the `.species` attribute of the `miles` object to `\"Felis silvestris\"`, which is a species of cat. That makes Miles a pretty strange dog, but it is valid Python!"
   ]
  },
  {
   "cell_type": "markdown",
   "id": "a31e3dfe",
   "metadata": {
    "papermill": {
     "duration": null,
     "end_time": null,
     "exception": null,
     "start_time": null,
     "status": "pending"
    },
    "tags": []
   },
   "source": [
    "The key takeaway here is that custom objects are mutable by default. An object is mutable if it can be altered dynamically. For example, lists and dictionaries are mutable, but strings and tuples are immutable."
   ]
  },
  {
   "cell_type": "markdown",
   "id": "98bc2f1a",
   "metadata": {
    "papermill": {
     "duration": null,
     "end_time": null,
     "exception": null,
     "start_time": null,
     "status": "pending"
    },
    "tags": []
   },
   "source": [
    "<a class=\"anchor\" id=\"instance_methods\"></a>\n",
    "### Instance Methods"
   ]
  },
  {
   "cell_type": "markdown",
   "id": "bd2898db",
   "metadata": {
    "papermill": {
     "duration": null,
     "end_time": null,
     "exception": null,
     "start_time": null,
     "status": "pending"
    },
    "tags": []
   },
   "source": [
    "**Instance methods** are functions that are defined inside a class and can only be called from an instance of that class. Just like `.__init__()`, an instance method’s first parameter is always `self`."
   ]
  },
  {
   "cell_type": "code",
   "execution_count": null,
   "id": "e113947d",
   "metadata": {
    "papermill": {
     "duration": null,
     "end_time": null,
     "exception": null,
     "start_time": null,
     "status": "pending"
    },
    "tags": []
   },
   "outputs": [],
   "source": [
    "class Dog:\n",
    "    species = \"Canis familiaris\"\n",
    "\n",
    "    def __init__(self, name, age):\n",
    "        self.name = name\n",
    "        self.age = age\n",
    "\n",
    "    # Instance method\n",
    "    def description(self):\n",
    "        return f\"{self.name} is {self.age} years old\"\n",
    "\n",
    "    # Another instance method\n",
    "    def speak(self, sound):\n",
    "        return f\"{self.name} says {sound}\""
   ]
  },
  {
   "cell_type": "markdown",
   "id": "83357e5d",
   "metadata": {
    "papermill": {
     "duration": null,
     "end_time": null,
     "exception": null,
     "start_time": null,
     "status": "pending"
    },
    "tags": []
   },
   "source": [
    "This `Dog` class has two instance methods:\n",
    "\n",
    "1. `.description()` returns a string displaying the name and age of the dog.\n",
    "2. `.speak()` has one parameter called `sound`\n",
    "and returns a string containing the dog’s name and the sound the dog makes."
   ]
  },
  {
   "cell_type": "code",
   "execution_count": null,
   "id": "ca5ca299",
   "metadata": {
    "papermill": {
     "duration": null,
     "end_time": null,
     "exception": null,
     "start_time": null,
     "status": "pending"
    },
    "tags": []
   },
   "outputs": [],
   "source": [
    "miles = Dog(\"Miles\", 4)"
   ]
  },
  {
   "cell_type": "code",
   "execution_count": null,
   "id": "57cf8d8e",
   "metadata": {
    "papermill": {
     "duration": null,
     "end_time": null,
     "exception": null,
     "start_time": null,
     "status": "pending"
    },
    "tags": []
   },
   "outputs": [],
   "source": [
    "miles.description()"
   ]
  },
  {
   "cell_type": "code",
   "execution_count": null,
   "id": "b8f41587",
   "metadata": {
    "papermill": {
     "duration": null,
     "end_time": null,
     "exception": null,
     "start_time": null,
     "status": "pending"
    },
    "tags": []
   },
   "outputs": [],
   "source": [
    "miles.speak(\"Woof Woof\")"
   ]
  },
  {
   "cell_type": "code",
   "execution_count": null,
   "id": "1a3e1d09",
   "metadata": {
    "papermill": {
     "duration": null,
     "end_time": null,
     "exception": null,
     "start_time": null,
     "status": "pending"
    },
    "tags": []
   },
   "outputs": [],
   "source": [
    "miles.speak(\"Bow Wow\")"
   ]
  },
  {
   "cell_type": "markdown",
   "id": "299bc716",
   "metadata": {
    "papermill": {
     "duration": null,
     "end_time": null,
     "exception": null,
     "start_time": null,
     "status": "pending"
    },
    "tags": []
   },
   "source": [
    "In the above Dog class, `.description()` returns a string containing information about the Dog instance `miles`. When writing your own classes, it’s a good idea to have a method that returns a string containing useful information about an instance of the class. However, `.description()` isn’t the most Pythonic way of doing this."
   ]
  },
  {
   "cell_type": "markdown",
   "id": "37c87e49",
   "metadata": {
    "papermill": {
     "duration": null,
     "end_time": null,
     "exception": null,
     "start_time": null,
     "status": "pending"
    },
    "tags": []
   },
   "source": [
    "When you create a `list` object, you can use `print()` to display a string that looks like the list:"
   ]
  },
  {
   "cell_type": "code",
   "execution_count": null,
   "id": "8d2c45fc",
   "metadata": {
    "papermill": {
     "duration": null,
     "end_time": null,
     "exception": null,
     "start_time": null,
     "status": "pending"
    },
    "tags": []
   },
   "outputs": [],
   "source": [
    "names = [\"Fletcher\", \"David\", \"Dan\"]\n",
    "print(names)"
   ]
  },
  {
   "cell_type": "markdown",
   "id": "af4912bf",
   "metadata": {
    "papermill": {
     "duration": null,
     "end_time": null,
     "exception": null,
     "start_time": null,
     "status": "pending"
    },
    "tags": []
   },
   "source": [
    "Let’s see what happens when you `print()` the `miles` object:"
   ]
  },
  {
   "cell_type": "code",
   "execution_count": null,
   "id": "fb353b41",
   "metadata": {
    "papermill": {
     "duration": null,
     "end_time": null,
     "exception": null,
     "start_time": null,
     "status": "pending"
    },
    "tags": []
   },
   "outputs": [],
   "source": [
    "print(miles)"
   ]
  },
  {
   "cell_type": "markdown",
   "id": "80e51018",
   "metadata": {
    "papermill": {
     "duration": null,
     "end_time": null,
     "exception": null,
     "start_time": null,
     "status": "pending"
    },
    "tags": []
   },
   "source": [
    "When you `print(miles)`, you get a cryptic looking message telling you that `miles` is a `Dog` object at the memory address `0x7f0b04d5b050`. This message isn’t very helpful. You can change what gets printed by defining a special instance method called `.__str__()`.\n",
    "\n",
    "```python\n",
    "class Dog:\n",
    "    # Leave other parts of Dog class as-is\n",
    "\n",
    "    # Replace .description() with __str__()\n",
    "    def __str__(self):\n",
    "        return f\"{self.name} is {self.age} years old\"\n",
    "```"
   ]
  },
  {
   "cell_type": "code",
   "execution_count": null,
   "id": "5a5ddb98",
   "metadata": {
    "papermill": {
     "duration": null,
     "end_time": null,
     "exception": null,
     "start_time": null,
     "status": "pending"
    },
    "tags": []
   },
   "outputs": [],
   "source": [
    "class Dog:\n",
    "    # ------------------------------------ #\n",
    "    # Leave other parts of Dog class as-is #\n",
    "    # ------------------------------------ #\n",
    "    species = \"Canis familiaris\"\n",
    "\n",
    "    def __init__(self, name, age):\n",
    "        self.name = name\n",
    "        self.age = age\n",
    "\n",
    "    # Instance method\n",
    "    def description(self):\n",
    "        return f\"{self.name} is {self.age} years old\"\n",
    "\n",
    "    # Another instance method\n",
    "    def speak(self, sound):\n",
    "        return f\"{self.name} says {sound}\"\n",
    "    \n",
    "    # -------------------------------------- #\n",
    "    # Replace .description() with __str__()  #\n",
    "    # -------------------------------------- #\n",
    "    def __str__(self):\n",
    "        return f\"{self.name} is {self.age} years old\""
   ]
  },
  {
   "cell_type": "code",
   "execution_count": null,
   "id": "04b604c3",
   "metadata": {
    "papermill": {
     "duration": null,
     "end_time": null,
     "exception": null,
     "start_time": null,
     "status": "pending"
    },
    "tags": []
   },
   "outputs": [],
   "source": [
    "miles = Dog(\"Miles\", 4)"
   ]
  },
  {
   "cell_type": "code",
   "execution_count": null,
   "id": "a8869c8e",
   "metadata": {
    "papermill": {
     "duration": null,
     "end_time": null,
     "exception": null,
     "start_time": null,
     "status": "pending"
    },
    "tags": []
   },
   "outputs": [],
   "source": [
    "print(miles)"
   ]
  },
  {
   "cell_type": "markdown",
   "id": "d5887894",
   "metadata": {
    "papermill": {
     "duration": null,
     "end_time": null,
     "exception": null,
     "start_time": null,
     "status": "pending"
    },
    "tags": []
   },
   "source": [
    "Methods like `.__init__()` and `.__str__()` are called **dunder methods** because they begin and end with double underscores. There are many dunder methods that you can use to customize classes in Python. Although too advanced a topic for a beginning Python tutorial, understanding dunder methods is an important part of mastering object-oriented programming in Python."
   ]
  },
  {
   "cell_type": "markdown",
   "id": "4afd10b0",
   "metadata": {
    "papermill": {
     "duration": null,
     "end_time": null,
     "exception": null,
     "start_time": null,
     "status": "pending"
    },
    "tags": []
   },
   "source": [
    "In the next section, you’ll see how to take your knowledge one step further and create classes from other classes."
   ]
  },
  {
   "cell_type": "markdown",
   "id": "8f4a8a5a",
   "metadata": {
    "papermill": {
     "duration": null,
     "end_time": null,
     "exception": null,
     "start_time": null,
     "status": "pending"
    },
    "tags": []
   },
   "source": [
    "<a class=\"anchor\" id=\"how_the_`object.method()`_syntax_works\"></a>\n",
    "### How the `object.method()` Syntax Works"
   ]
  },
  {
   "cell_type": "code",
   "execution_count": null,
   "id": "303c3d22",
   "metadata": {
    "papermill": {
     "duration": null,
     "end_time": null,
     "exception": null,
     "start_time": null,
     "status": "pending"
    },
    "tags": []
   },
   "outputs": [],
   "source": [
    "class Dog:\n",
    "\n",
    "    def __init__(self, name, age):\n",
    "        self.name = name\n",
    "        self.age = age\n",
    "\n",
    "    def speak(self, sound):\n",
    "        return f\"{self.name} says {sound}\""
   ]
  },
  {
   "cell_type": "code",
   "execution_count": null,
   "id": "2a2b294c",
   "metadata": {
    "papermill": {
     "duration": null,
     "end_time": null,
     "exception": null,
     "start_time": null,
     "status": "pending"
    },
    "tags": []
   },
   "outputs": [],
   "source": [
    "buddy = Dog(\"Buddy\", 9)"
   ]
  },
  {
   "cell_type": "code",
   "execution_count": null,
   "id": "68f4504c",
   "metadata": {
    "papermill": {
     "duration": null,
     "end_time": null,
     "exception": null,
     "start_time": null,
     "status": "pending"
    },
    "tags": []
   },
   "outputs": [],
   "source": [
    "buddy.speak(\"Woof Woof\")"
   ]
  },
  {
   "cell_type": "code",
   "execution_count": null,
   "id": "78c0004f",
   "metadata": {
    "papermill": {
     "duration": null,
     "end_time": null,
     "exception": null,
     "start_time": null,
     "status": "pending"
    },
    "tags": []
   },
   "outputs": [],
   "source": [
    "Dog.speak(buddy, \"Woof Woof\")"
   ]
  },
  {
   "cell_type": "markdown",
   "id": "1ba9a455",
   "metadata": {
    "papermill": {
     "duration": null,
     "end_time": null,
     "exception": null,
     "start_time": null,
     "status": "pending"
    },
    "tags": []
   },
   "source": [
    "This example shows how instance is automatically passed to the `self` parameter."
   ]
  },
  {
   "cell_type": "markdown",
   "id": "6a36fedd",
   "metadata": {
    "papermill": {
     "duration": null,
     "end_time": null,
     "exception": null,
     "start_time": null,
     "status": "pending"
    },
    "tags": []
   },
   "source": [
    "These two lines are actually identical:\n",
    "\n",
    "```python\n",
    "Dog.speak(buddy, \"Woof Woof\")\n",
    "buddy.speak(\"Woof Woof\")\n",
    "```\n",
    "\n",
    "The second line is simpler and often used but is just only a [**syntactic sugar**](https://en.wikipedia.org/wiki/Syntactic_sugar)."
   ]
  },
  {
   "cell_type": "markdown",
   "id": "21252fc5",
   "metadata": {
    "papermill": {
     "duration": null,
     "end_time": null,
     "exception": null,
     "start_time": null,
     "status": "pending"
    },
    "tags": []
   },
   "source": [
    "<a class=\"anchor\" id=\"check_your_understanding\"></a>\n",
    "### Check Your Understanding"
   ]
  },
  {
   "cell_type": "markdown",
   "id": "dbc1ebd1",
   "metadata": {
    "papermill": {
     "duration": null,
     "end_time": null,
     "exception": null,
     "start_time": null,
     "status": "pending"
    },
    "tags": []
   },
   "source": [
    "> **Exercise:** Create a `Car` Class\n",
    "Create a Car class with two instance attributes:\n",
    "> \n",
    "> `.color`, which stores the name of the car’s color as a string\n",
    "> `.mileage`, which stores the number of miles on the car as an integer\n",
    "> \n",
    "> Then instantiate two `Car` objects—a blue car with 20,000 miles and a red car with 30,000 miles—and print out their colors and mileage. Your output should look like this:\n",
    "> \n",
    "> ```bash\n",
    "The blue car has 20,000 miles.\n",
    "The red car has 30,000 miles.\n",
    "```"
   ]
  },
  {
   "cell_type": "markdown",
   "id": "7ce8fd83",
   "metadata": {
    "papermill": {
     "duration": null,
     "end_time": null,
     "exception": null,
     "start_time": null,
     "status": "pending"
    },
    "tags": []
   },
   "source": [
    "> **Solution:**\n",
    "> First, create a Car class with `.color` and `.mileage` instance attributes:\n",
    "> \n",
    "> ```python\n",
    "class Car:\n",
    "    def __init__(self, color, mileage):\n",
    "        self.color = color\n",
    "        self.mileage = mileage\n",
    "> ```\n",
    "> The `color` and `mileage` parameters of `.__init__()` are assigned to `self.color` and `self.mileage`, which creates the two instance attributes.\n",
    "> \n",
    "> Now you can create the two Car instances:\n",
    "> \n",
    "> ```python\n",
    "blue_car = Car(color=\"blue\", mileage=20_000)\n",
    "red_car = Car(color=\"red\", mileage=30_000)\n",
    ">```\n",
    "> \n",
    "> The `blue_car` instance is created by passing the value `\"blue\"` to the `color` parameter and `20_000` to the `mileage` parameter. Similarly, `red_car` is created with the values `\"red\"` and `30_000`.\n",
    "> \n",
    "> To print the `color` and `mileage` of each `Car` object, you can loop over a `tuple` containing both objects:\n",
    ">\n",
    "> ```python\n",
    "for car in (blue_car, red_car):\n",
    "    print(f\"The {car.color} car has {car.mileage:,} miles\")\n",
    "> ```\n",
    "> \n",
    "> The f-string in the above for loop inserts the `.color` and `.mileage` attributes into the string and uses the `:`, format specifier to print the mileage grouped by thousands and separated with a comma.\n",
    ">\n",
    "> The final output looks like this:\n",
    "> ```bash\n",
    "The blue car has 20,000 miles.\n",
    "The red car has 30,000 miles.\n",
    "> ```"
   ]
  },
  {
   "cell_type": "markdown",
   "id": "5ef35590",
   "metadata": {
    "papermill": {
     "duration": null,
     "end_time": null,
     "exception": null,
     "start_time": null,
     "status": "pending"
    },
    "tags": []
   },
   "source": [
    "When you’re ready, you can move on to the next section."
   ]
  }
 ],
 "metadata": {
  "kernelspec": {
   "display_name": "Python 3",
   "language": "python",
   "name": "python3"
  },
  "language_info": {
   "codemirror_mode": {
    "name": "ipython",
    "version": 3
   },
   "file_extension": ".py",
   "mimetype": "text/x-python",
   "name": "python",
   "nbconvert_exporter": "python",
   "pygments_lexer": "ipython3",
   "version": "3.10.12"
  },
  "papermill": {
   "default_parameters": {},
   "duration": 4.261085,
   "end_time": "2023-10-15T11:32:02.321258",
   "environment_variables": {},
   "exception": true,
   "input_path": "__notebook__.ipynb",
   "output_path": "__notebook__.ipynb",
   "parameters": {},
   "start_time": "2023-10-15T11:31:58.060173",
   "version": "2.4.0"
  }
 },
 "nbformat": 4,
 "nbformat_minor": 5
}
