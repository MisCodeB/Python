{
 "cells": [
  {
   "cell_type": "markdown",
   "id": "f0805c1e",
   "metadata": {
    "papermill": {
     "duration": 0.013741,
     "end_time": "2023-10-15T12:15:55.258371",
     "exception": false,
     "start_time": "2023-10-15T12:15:55.244630",
     "status": "completed"
    },
    "tags": []
   },
   "source": []
  },
  {
   "cell_type": "markdown",
   "id": "905bbfa4",
   "metadata": {
    "papermill": {
     "duration": 0.012743,
     "end_time": "2023-10-15T12:15:55.284577",
     "exception": false,
     "start_time": "2023-10-15T12:15:55.271834",
     "status": "completed"
    },
    "tags": []
   },
   "source": [
    "#  Reading and Writing Files \n"
   ]
  },
  {
   "cell_type": "markdown",
   "id": "95121c8b",
   "metadata": {
    "papermill": {
     "duration": 0.013454,
     "end_time": "2023-10-15T12:15:55.311108",
     "exception": false,
     "start_time": "2023-10-15T12:15:55.297654",
     "status": "completed"
    },
    "tags": []
   },
   "source": [
    "##  Table of Contents \n",
    "* [What Is a File?](#what_is_a_file?)\n",
    "    * [File Paths](#file_paths)\n",
    "    * [Line Endings](#line_endings)\n",
    "    * [Character Encodings](#character_encodings)\n",
    "* [Opening and Closing a File in Python](#opening_and_closing_a_file_in_python)\n",
    "    * [Text File Types](#text_file_types)\n",
    "    * [Buffered Binary File Types](#buffered_binary_file_types)\n",
    "    * [Raw File Types](#raw_file_types)\n",
    "* [Reading and Writing Opened Files](#reading_and_writing_opened_files)\n",
    "    * [Iterating Over Each Line in the File](#iterating_over_each_line_in_the_file)\n",
    "    * [Appending to a File](#appending_to_a_file)\n",
    "    * [Working With Two Files at the Same Time](#working_with_two_files_at_the_same_time)\n",
    "    * [Working With Bytes](#working_with_bytes)\n",
    "* [Summary](#summary)\n",
    "\n",
    "---"
   ]
  },
  {
   "cell_type": "markdown",
   "id": "6b409a44",
   "metadata": {
    "papermill": {
     "duration": 0.012665,
     "end_time": "2023-10-15T12:15:55.336831",
     "exception": false,
     "start_time": "2023-10-15T12:15:55.324166",
     "status": "completed"
    },
    "tags": []
   },
   "source": [
    "One of the most common tasks that you can do with Python is reading and writing files. Whether it’s writing to a simple text file, reading a complicated server log, or even analyzing raw byte data, all of these situations require reading or writing a file."
   ]
  },
  {
   "cell_type": "markdown",
   "id": "5c3b436a",
   "metadata": {
    "papermill": {
     "duration": 0.012703,
     "end_time": "2023-10-15T12:15:55.362532",
     "exception": false,
     "start_time": "2023-10-15T12:15:55.349829",
     "status": "completed"
    },
    "tags": []
   },
   "source": [
    "<a class=\"anchor\" id=\"what_is_a_file?\"></a>\n",
    "## What Is a File?\n",
    "Before we can go into how to work with files in Python, it’s important to understand what exactly a file is and how modern operating systems handle some of their aspects."
   ]
  },
  {
   "cell_type": "markdown",
   "id": "ac83082b",
   "metadata": {
    "papermill": {
     "duration": 0.012689,
     "end_time": "2023-10-15T12:15:55.388556",
     "exception": false,
     "start_time": "2023-10-15T12:15:55.375867",
     "status": "completed"
    },
    "tags": []
   },
   "source": [
    "At its core, a file is a contiguous set of bytes [used to store data](https://en.wikipedia.org/wiki/Computer_file). This data is organized in a specific format and can be anything as simple as a text file or as complicated as a program executable. In the end, these byte files are then translated into binary 1 and 0 for easier processing by the computer."
   ]
  },
  {
   "cell_type": "markdown",
   "id": "53cbe351",
   "metadata": {
    "papermill": {
     "duration": 0.013011,
     "end_time": "2023-10-15T12:15:55.414546",
     "exception": false,
     "start_time": "2023-10-15T12:15:55.401535",
     "status": "completed"
    },
    "tags": []
   },
   "source": [
    "Files on most modern file systems are composed of three main parts:\n",
    "\n",
    "- **Header**: metadata about the contents of the file (file name, size, type, and so on)\n",
    "- **Data**: contents of the file as written by the creator or editor\n",
    "- **End of file (EOF)**: special character that indicates the end of the file"
   ]
  },
  {
   "cell_type": "markdown",
   "id": "c3122e21",
   "metadata": {
    "papermill": {
     "duration": 0.012841,
     "end_time": "2023-10-15T12:15:55.440609",
     "exception": false,
     "start_time": "2023-10-15T12:15:55.427768",
     "status": "completed"
    },
    "tags": []
   },
   "source": []
  },
  {
   "cell_type": "markdown",
   "id": "4ff08398",
   "metadata": {
    "papermill": {
     "duration": 0.013003,
     "end_time": "2023-10-15T12:15:55.524270",
     "exception": false,
     "start_time": "2023-10-15T12:15:55.511267",
     "status": "completed"
    },
    "tags": []
   },
   "source": [
    "What this data represents depends on the format specification used, which is typically represented by an extension. For example, a file that has an extension of `.gif` most likely conforms to the [Graphics Interchange Format](https://en.wikipedia.org/wiki/GIF) specification. There are hundreds, if not thousands, of file extensions out there. For this section, you’ll only deal with `.txt` file extensions."
   ]
  },
  {
   "cell_type": "markdown",
   "id": "addfbde2",
   "metadata": {
    "papermill": {
     "duration": 0.013098,
     "end_time": "2023-10-15T12:15:55.550840",
     "exception": false,
     "start_time": "2023-10-15T12:15:55.537742",
     "status": "completed"
    },
    "tags": []
   },
   "source": [
    "<a class=\"anchor\" id=\"file_paths\"></a>\n",
    "### File Paths\n",
    "When you access a file on an operating system, a file path is required. The file path is a string that represents the location of a file. It’s broken up into three major parts:\n",
    "\n",
    "1. **Folder Path:** the file folder location on the file system where subsequent folders are separated by a forward slash `/` (Unix) or backslash `\\` (Windows)\n",
    "2. **File Name:** the actual name of the file\n",
    "3. **Extension:** the end of the file path pre-pended with a period (`.`) used to indicate the file type"
   ]
  },
  {
   "cell_type": "markdown",
   "id": "82a75720",
   "metadata": {
    "papermill": {
     "duration": 0.013059,
     "end_time": "2023-10-15T12:15:55.577234",
     "exception": false,
     "start_time": "2023-10-15T12:15:55.564175",
     "status": "completed"
    },
    "tags": []
   },
   "source": [
    "Here’s a quick example. Let’s say you have a file located within a file structure like this:\n",
    "\n",
    "```\n",
    "/\n",
    "│\n",
    "├── path/\n",
    "|   │\n",
    "│   ├── to/\n",
    "│   │   └── cats.gif\n",
    "│   │\n",
    "│   └── dog_breeds.txt\n",
    "|\n",
    "└── animals.csv\n",
    "```"
   ]
  },
  {
   "cell_type": "markdown",
   "id": "ed22765c",
   "metadata": {
    "papermill": {
     "duration": 0.015032,
     "end_time": "2023-10-15T12:15:55.605981",
     "exception": false,
     "start_time": "2023-10-15T12:15:55.590949",
     "status": "completed"
    },
    "tags": []
   },
   "source": [
    "Let’s say you wanted to access the `cats.gif` file, and your current location was in the same folder as path. In order to access the file, you need to go through the path folder and then the to folder, finally arriving at the `cats.gif` file. The Folder Path is `path/to/`. The File Name is `cats`. The File Extension is `.gif`. So the full path is `path/to/cats.gif`."
   ]
  },
  {
   "cell_type": "markdown",
   "id": "b268e8df",
   "metadata": {
    "papermill": {
     "duration": 0.013042,
     "end_time": "2023-10-15T12:15:55.635295",
     "exception": false,
     "start_time": "2023-10-15T12:15:55.622253",
     "status": "completed"
    },
    "tags": []
   },
   "source": [
    "Now let’s say that your current location or current working directory (cwd) is in the to folder of our example folder structure. Instead of referring to the `cats.gif` by the full path of `path/to/cats.gif`, the file can be simply referenced by the file name and extension `cats.gif`.\n",
    "\n",
    "```\n",
    "/\n",
    "│\n",
    "├── path/\n",
    "|   │\n",
    "|   ├── to/  ← Your current working directory (cwd) is here\n",
    "|   │   └── cats.gif  ← Accessing this file\n",
    "|   │\n",
    "|   └── dog_breeds.txt\n",
    "|\n",
    "└── animals.csv\n",
    "```"
   ]
  },
  {
   "cell_type": "markdown",
   "id": "0e83baec",
   "metadata": {
    "papermill": {
     "duration": 0.013512,
     "end_time": "2023-10-15T12:15:55.662224",
     "exception": false,
     "start_time": "2023-10-15T12:15:55.648712",
     "status": "completed"
    },
    "tags": []
   },
   "source": [
    "But what about `dog_breeds.txt`? How would you access that without using the full path? You can use the special characters double-dot (`..`) to move one directory up. This means that `../dog_breeds.txt` will reference the `dog_breeds.txt` file from the directory of to:\n",
    "\n",
    "```\n",
    "/\n",
    "│\n",
    "├── path/  ← Referencing this parent folder\n",
    "|   │\n",
    "|   ├── to/  ← Current working directory (cwd)\n",
    "|   │   └── cats.gif\n",
    "|   │\n",
    "|   └── dog_breeds.txt  ← Accessing this file\n",
    "|\n",
    "└── animals.csv\n",
    "```"
   ]
  },
  {
   "cell_type": "markdown",
   "id": "fede64ef",
   "metadata": {
    "papermill": {
     "duration": 0.014603,
     "end_time": "2023-10-15T12:15:55.690704",
     "exception": false,
     "start_time": "2023-10-15T12:15:55.676101",
     "status": "completed"
    },
    "tags": []
   },
   "source": [
    "The double-dot (`..`) can be chained together to traverse multiple directories above the current directory. For example, to access `animals.csv` from the to folder, you would use `../../animals.csv`."
   ]
  },
  {
   "cell_type": "markdown",
   "id": "230a9c1d",
   "metadata": {
    "papermill": {
     "duration": 0.013085,
     "end_time": "2023-10-15T12:15:55.717570",
     "exception": false,
     "start_time": "2023-10-15T12:15:55.704485",
     "status": "completed"
    },
    "tags": []
   },
   "source": [
    "<a class=\"anchor\" id=\"line_endings\"></a>\n",
    "### Line Endings\n",
    "One problem often encountered when working with file data is the representation of a new line or line ending. The line ending has its roots from back in the Morse Code era, [when a specific pro-sign was used to communicate the end of a transmission or the end of a line](https://en.wikipedia.org/wiki/Prosigns_for_Morse_code#Official_International_Morse_code_procedure_signs)."
   ]
  },
  {
   "cell_type": "markdown",
   "id": "10b95298",
   "metadata": {
    "papermill": {
     "duration": 0.013019,
     "end_time": "2023-10-15T12:15:55.743798",
     "exception": false,
     "start_time": "2023-10-15T12:15:55.730779",
     "status": "completed"
    },
    "tags": []
   },
   "source": [
    "Later, this [was standardized for teleprinters](https://en.wikipedia.org/wiki/Newline#History) by both the International Organization for Standardization (ISO) and the American Standards Association (ASA). ASA standard states that line endings should use the sequence of the Carriage Return (CR or \\r) and the Line Feed (LF or \\n) characters (CR+LF or \\r\\n). The ISO standard however allowed for either the CR+LF characters or just the LF character."
   ]
  },
  {
   "cell_type": "markdown",
   "id": "bdfdac98",
   "metadata": {
    "papermill": {
     "duration": 0.012998,
     "end_time": "2023-10-15T12:15:55.770091",
     "exception": false,
     "start_time": "2023-10-15T12:15:55.757093",
     "status": "completed"
    },
    "tags": []
   },
   "source": [
    "[Windows uses the CR+LF characters](https://unix.stackexchange.com/a/411830) to indicate a new line, while Unix and the newer Mac versions use just the LF character. This can cause some complications when you’re processing files on an operating system that is different than the file’s source. Here’s a quick example. Let’s say that we examine the file `dog_breeds.txt` that was created on a Windows system:\n",
    "\n",
    "```\n",
    "Pug\\r\\n\n",
    "Jack Russell Terrier\\r\\n\n",
    "English Springer Spaniel\\r\\n\n",
    "German Shepherd\\r\\n\n",
    "Staffordshire Bull Terrier\\r\\n\n",
    "Cavalier King Charles Spaniel\\r\\n\n",
    "Golden Retriever\\r\\n\n",
    "West Highland White Terrier\\r\\n\n",
    "Boxer\\r\\n\n",
    "Border Terrier\\r\\n\n",
    "```"
   ]
  },
  {
   "cell_type": "markdown",
   "id": "9cf192ad",
   "metadata": {
    "papermill": {
     "duration": 0.013636,
     "end_time": "2023-10-15T12:15:55.797113",
     "exception": false,
     "start_time": "2023-10-15T12:15:55.783477",
     "status": "completed"
    },
    "tags": []
   },
   "source": [
    "This same output will be interpreted on a Unix device differently:\n",
    "\n",
    "```Pug\\r\n",
    "\\n\n",
    "Jack Russell Terrier\\r\n",
    "\\n\n",
    "English Springer Spaniel\\r\n",
    "\\n\n",
    "German Shepherd\\r\n",
    "\\n\n",
    "Staffordshire Bull Terrier\\r\n",
    "\\n\n",
    "Cavalier King Charles Spaniel\\r\n",
    "\\n\n",
    "Golden Retriever\\r\n",
    "\\n\n",
    "West Highland White Terrier\\r\n",
    "\\n\n",
    "Boxer\\r\n",
    "\\n\n",
    "Border Terrier\\r\n",
    "\\n\n",
    "```"
   ]
  },
  {
   "cell_type": "markdown",
   "id": "bb81d9d3",
   "metadata": {
    "papermill": {
     "duration": 0.013001,
     "end_time": "2023-10-15T12:15:55.823427",
     "exception": false,
     "start_time": "2023-10-15T12:15:55.810426",
     "status": "completed"
    },
    "tags": []
   },
   "source": [
    "> **Note:** A line feed means moving one line forward. The code is `\\n`.\n",
    "A carriage return means moving the cursor to the beginning of the line. The code is `\\r`. Windows editors often still use the combination of both as `\\r\\n` in text files. Unix uses mostly only the `\\n`. The separation comes from typewriter times, when you turned the wheel to move the paper to change the line and moved the carriage to restart typing on the beginning of a line. This was two steps.\n",
    ">\n",
    "> "
   ]
  },
  {
   "cell_type": "markdown",
   "id": "e27dcb49",
   "metadata": {
    "papermill": {
     "duration": 0.012945,
     "end_time": "2023-10-15T12:15:55.849589",
     "exception": false,
     "start_time": "2023-10-15T12:15:55.836644",
     "status": "completed"
    },
    "tags": []
   },
   "source": [
    "<a class=\"anchor\" id=\"character_encodings\"></a>\n",
    "### Character Encodings"
   ]
  },
  {
   "cell_type": "markdown",
   "id": "bc132b12",
   "metadata": {
    "papermill": {
     "duration": 0.013169,
     "end_time": "2023-10-15T12:15:55.876816",
     "exception": false,
     "start_time": "2023-10-15T12:15:55.863647",
     "status": "completed"
    },
    "tags": []
   },
   "source": [
    "Another common problem that you may face is the encoding of the byte data. An encoding is a translation from byte data to human readable characters. This is typically done by assigning a numerical value to represent a character. The two most common encodings are the [ASCII](https://www.ascii-code.com/) and [UNICODE](https://unicode.org/) Formats. [ASCII can only store 128 characters](https://en.wikipedia.org/wiki/ASCII), while [Unicode can contain up to 1,114,112 characters](https://en.wikipedia.org/wiki/Unicode)."
   ]
  },
  {
   "cell_type": "markdown",
   "id": "981e0c1d",
   "metadata": {
    "papermill": {
     "duration": 0.013145,
     "end_time": "2023-10-15T12:15:55.903572",
     "exception": false,
     "start_time": "2023-10-15T12:15:55.890427",
     "status": "completed"
    },
    "tags": []
   },
   "source": [
    "ASCII is actually a subset of [Unicode](https://realpython.com/python-encodings-guide/) (UTF-8), meaning that ASCII and Unicode share the same numerical to character values. It’s important to note that parsing a file with the incorrect character encoding can lead to failures or misrepresentation of the character. For example, if a file was created using the UTF-8 encoding, and you try to parse it using the ASCII encoding, if there is a character that is outside of those 128 values, then an error will be thrown."
   ]
  },
  {
   "cell_type": "markdown",
   "id": "77502f8e",
   "metadata": {
    "papermill": {
     "duration": 0.01279,
     "end_time": "2023-10-15T12:15:55.929595",
     "exception": false,
     "start_time": "2023-10-15T12:15:55.916805",
     "status": "completed"
    },
    "tags": []
   },
   "source": [
    "<a class=\"anchor\" id=\"opening_and_closing_a_file_in_python\"></a>\n",
    "## Opening and Closing a File in Python"
   ]
  },
  {
   "cell_type": "markdown",
   "id": "8f82d004",
   "metadata": {
    "papermill": {
     "duration": 0.013111,
     "end_time": "2023-10-15T12:15:55.955811",
     "exception": false,
     "start_time": "2023-10-15T12:15:55.942700",
     "status": "completed"
    },
    "tags": []
   },
   "source": [
    "When you want to work with a file, the first thing to do is to open it. This is done by invoking the `open()` built-in function. `open()` has a single required argument that is the path to the file. `open()` has a single return, the file object:"
   ]
  },
  {
   "cell_type": "code",
   "execution_count": 1,
   "id": "b37022ae",
   "metadata": {
    "execution": {
     "iopub.execute_input": "2023-10-15T12:15:55.984225Z",
     "iopub.status.busy": "2023-10-15T12:15:55.983764Z",
     "iopub.status.idle": "2023-10-15T12:15:55.994941Z",
     "shell.execute_reply": "2023-10-15T12:15:55.993797Z"
    },
    "papermill": {
     "duration": 0.028144,
     "end_time": "2023-10-15T12:15:55.997253",
     "exception": false,
     "start_time": "2023-10-15T12:15:55.969109",
     "status": "completed"
    },
    "tags": []
   },
   "outputs": [
    {
     "name": "stdout",
     "output_type": "stream",
     "text": [
      "Writing myfile.txt\n"
     ]
    }
   ],
   "source": [
    "%%writefile myfile.txt\n",
    "this is line 1\n",
    "this is line 2\n",
    "this is line 3\n",
    "this is line 4\n",
    "this is line 5\n",
    "this is line 6"
   ]
  },
  {
   "cell_type": "code",
   "execution_count": 2,
   "id": "0e3db0da",
   "metadata": {
    "execution": {
     "iopub.execute_input": "2023-10-15T12:15:56.026278Z",
     "iopub.status.busy": "2023-10-15T12:15:56.025895Z",
     "iopub.status.idle": "2023-10-15T12:15:56.029688Z",
     "shell.execute_reply": "2023-10-15T12:15:56.029057Z"
    },
    "papermill": {
     "duration": 0.020165,
     "end_time": "2023-10-15T12:15:56.031531",
     "exception": false,
     "start_time": "2023-10-15T12:15:56.011366",
     "status": "completed"
    },
    "tags": []
   },
   "outputs": [],
   "source": [
    "file = open('myfile.txt')"
   ]
  },
  {
   "cell_type": "markdown",
   "id": "ba066997",
   "metadata": {
    "papermill": {
     "duration": 0.013253,
     "end_time": "2023-10-15T12:15:56.058417",
     "exception": false,
     "start_time": "2023-10-15T12:15:56.045164",
     "status": "completed"
    },
    "tags": []
   },
   "source": [
    "After you open a file, the next thing to learn is how to close it."
   ]
  },
  {
   "cell_type": "markdown",
   "id": "3c2d2e72",
   "metadata": {
    "papermill": {
     "duration": 0.013222,
     "end_time": "2023-10-15T12:15:56.085156",
     "exception": false,
     "start_time": "2023-10-15T12:15:56.071934",
     "status": "completed"
    },
    "tags": []
   },
   "source": [
    "> **Warning:** You should always make sure that an open file is properly closed."
   ]
  },
  {
   "cell_type": "markdown",
   "id": "c2db591a",
   "metadata": {
    "papermill": {
     "duration": 0.01328,
     "end_time": "2023-10-15T12:15:56.112097",
     "exception": false,
     "start_time": "2023-10-15T12:15:56.098817",
     "status": "completed"
    },
    "tags": []
   },
   "source": [
    "**It’s important to remember that it’s your responsibility to close the file.** In most cases, upon termination of an application or script, a file will be closed eventually. However, there is no guarantee when exactly that will happen. This can lead to unwanted behavior including resource leaks. It’s also a best practice within Python (Pythonic) to make sure that your code behaves in a way that is well defined and reduces any unwanted behavior."
   ]
  },
  {
   "cell_type": "markdown",
   "id": "a2bbc72b",
   "metadata": {
    "papermill": {
     "duration": 0.013227,
     "end_time": "2023-10-15T12:15:56.139071",
     "exception": false,
     "start_time": "2023-10-15T12:15:56.125844",
     "status": "completed"
    },
    "tags": []
   },
   "source": [
    "When you’re manipulating a file, there are two ways that you can use to ensure that a file is closed properly, even when encountering an error. The first way to close a file is to use the `try-finally` block:"
   ]
  },
  {
   "cell_type": "code",
   "execution_count": 3,
   "id": "9f13d094",
   "metadata": {
    "execution": {
     "iopub.execute_input": "2023-10-15T12:15:56.167965Z",
     "iopub.status.busy": "2023-10-15T12:15:56.167343Z",
     "iopub.status.idle": "2023-10-15T12:15:56.171374Z",
     "shell.execute_reply": "2023-10-15T12:15:56.170531Z"
    },
    "papermill": {
     "duration": 0.020824,
     "end_time": "2023-10-15T12:15:56.173342",
     "exception": false,
     "start_time": "2023-10-15T12:15:56.152518",
     "status": "completed"
    },
    "tags": []
   },
   "outputs": [],
   "source": [
    "reader = open('myfile.txt')\n",
    "try:\n",
    "    # Further file processing goes here\n",
    "    pass\n",
    "finally:\n",
    "    reader.close()"
   ]
  },
  {
   "cell_type": "markdown",
   "id": "c2901914",
   "metadata": {
    "papermill": {
     "duration": 0.014037,
     "end_time": "2023-10-15T12:15:56.202054",
     "exception": false,
     "start_time": "2023-10-15T12:15:56.188017",
     "status": "completed"
    },
    "tags": []
   },
   "source": [
    "> The `try-finally` block is covered in Error Handling section later."
   ]
  },
  {
   "cell_type": "markdown",
   "id": "217b6142",
   "metadata": {
    "papermill": {
     "duration": 0.013607,
     "end_time": "2023-10-15T12:15:56.230078",
     "exception": false,
     "start_time": "2023-10-15T12:15:56.216471",
     "status": "completed"
    },
    "tags": []
   },
   "source": [
    "The second way to close a file is to use the `with statement`:"
   ]
  },
  {
   "cell_type": "code",
   "execution_count": 4,
   "id": "cc437c57",
   "metadata": {
    "execution": {
     "iopub.execute_input": "2023-10-15T12:15:56.259372Z",
     "iopub.status.busy": "2023-10-15T12:15:56.259040Z",
     "iopub.status.idle": "2023-10-15T12:15:56.263468Z",
     "shell.execute_reply": "2023-10-15T12:15:56.262374Z"
    },
    "papermill": {
     "duration": 0.021748,
     "end_time": "2023-10-15T12:15:56.265485",
     "exception": false,
     "start_time": "2023-10-15T12:15:56.243737",
     "status": "completed"
    },
    "tags": []
   },
   "outputs": [],
   "source": [
    "with open('myfile.txt') as reader:\n",
    "    # Further file processing goes here\n",
    "    pass"
   ]
  },
  {
   "cell_type": "markdown",
   "id": "556b2aff",
   "metadata": {
    "papermill": {
     "duration": 0.013676,
     "end_time": "2023-10-15T12:15:56.293295",
     "exception": false,
     "start_time": "2023-10-15T12:15:56.279619",
     "status": "completed"
    },
    "tags": []
   },
   "source": [
    "The with statement automatically takes care of closing the file once it leaves the with block, even in cases of error. I highly recommend that you use the with statement as much as possible, as it allows for cleaner code and makes handling any unexpected errors easier for you."
   ]
  },
  {
   "cell_type": "markdown",
   "id": "a115c5f4",
   "metadata": {
    "papermill": {
     "duration": 0.013361,
     "end_time": "2023-10-15T12:15:56.320396",
     "exception": false,
     "start_time": "2023-10-15T12:15:56.307035",
     "status": "completed"
    },
    "tags": []
   },
   "source": [
    "Most likely, you’ll also want to use the second positional argument, mode. This argument is a string that contains multiple characters to represent how you want to open the file. The default and most common is `'r'`, which represents opening the file in read-only mode as a text file:"
   ]
  },
  {
   "cell_type": "code",
   "execution_count": 5,
   "id": "00532fb9",
   "metadata": {
    "execution": {
     "iopub.execute_input": "2023-10-15T12:15:56.350377Z",
     "iopub.status.busy": "2023-10-15T12:15:56.350036Z",
     "iopub.status.idle": "2023-10-15T12:15:56.353789Z",
     "shell.execute_reply": "2023-10-15T12:15:56.353092Z"
    },
    "papermill": {
     "duration": 0.020986,
     "end_time": "2023-10-15T12:15:56.355615",
     "exception": false,
     "start_time": "2023-10-15T12:15:56.334629",
     "status": "completed"
    },
    "tags": []
   },
   "outputs": [],
   "source": [
    "with open('myfile.txt', 'r') as reader:\n",
    "    # Further file processing goes here\n",
    "    pass"
   ]
  },
  {
   "cell_type": "markdown",
   "id": "606163f2",
   "metadata": {
    "papermill": {
     "duration": 0.013494,
     "end_time": "2023-10-15T12:15:56.383359",
     "exception": false,
     "start_time": "2023-10-15T12:15:56.369865",
     "status": "completed"
    },
    "tags": []
   },
   "source": [
    "Other options for modes are [fully documented online](https://docs.python.org/3/library/functions.html#open), but the most commonly used ones are the following:\n",
    "\n",
    "|Character | Meaning|\n",
    "|:--|:--|\n",
    "|`'r'` | Open for reading (default)|\n",
    "|`'w'` | Open for writing, truncating (overwriting) the file first|\n",
    "|`'rb'` or `'wb'` | Open in binary mode (read/write using byte data)|"
   ]
  },
  {
   "cell_type": "markdown",
   "id": "50676df2",
   "metadata": {
    "papermill": {
     "duration": 0.013419,
     "end_time": "2023-10-15T12:15:56.410297",
     "exception": false,
     "start_time": "2023-10-15T12:15:56.396878",
     "status": "completed"
    },
    "tags": []
   },
   "source": [
    "Let’s talk a little about file objects. A file object is:\n",
    "\n",
    "> \"an object exposing a file-oriented API (with methods such as `read()` or `write()`) to an underlying resource.\" ([Source](https://docs.python.org/3/glossary.html#term-file-object))"
   ]
  },
  {
   "cell_type": "markdown",
   "id": "46f21d7f",
   "metadata": {
    "papermill": {
     "duration": 0.013254,
     "end_time": "2023-10-15T12:15:56.436969",
     "exception": false,
     "start_time": "2023-10-15T12:15:56.423715",
     "status": "completed"
    },
    "tags": []
   },
   "source": [
    "There are three different categories of file objects:\n",
    "\n",
    "- Text files\n",
    "- Buffered binary files\n",
    "- Raw binary files"
   ]
  },
  {
   "cell_type": "markdown",
   "id": "693fd4cd",
   "metadata": {
    "papermill": {
     "duration": 0.013336,
     "end_time": "2023-10-15T12:15:56.463772",
     "exception": false,
     "start_time": "2023-10-15T12:15:56.450436",
     "status": "completed"
    },
    "tags": []
   },
   "source": [
    "Each of these file types are defined in the `io` module. "
   ]
  },
  {
   "cell_type": "markdown",
   "id": "76ce70e7",
   "metadata": {
    "papermill": {
     "duration": 0.013324,
     "end_time": "2023-10-15T12:15:56.490686",
     "exception": false,
     "start_time": "2023-10-15T12:15:56.477362",
     "status": "completed"
    },
    "tags": []
   },
   "source": [
    "<a class=\"anchor\" id=\"text_file_types\"></a>\n",
    "### Text File Types"
   ]
  },
  {
   "cell_type": "markdown",
   "id": "fb3db7a4",
   "metadata": {
    "papermill": {
     "duration": 0.013969,
     "end_time": "2023-10-15T12:15:56.518308",
     "exception": false,
     "start_time": "2023-10-15T12:15:56.504339",
     "status": "completed"
    },
    "tags": []
   },
   "source": [
    "A text file is the most common file that you’ll encounter. Here are some examples of how these files are opened:\n",
    "\n",
    "```python\n",
    "open('abc.txt')\n",
    "open('abc.txt', 'r')\n",
    "open('abc.txt', 'w')\n",
    "```"
   ]
  },
  {
   "cell_type": "markdown",
   "id": "98a66e4b",
   "metadata": {
    "papermill": {
     "duration": 0.013408,
     "end_time": "2023-10-15T12:15:56.545485",
     "exception": false,
     "start_time": "2023-10-15T12:15:56.532077",
     "status": "completed"
    },
    "tags": []
   },
   "source": [
    "With these types of files, `open()` will return a `TextIOWrapper` file object:"
   ]
  },
  {
   "cell_type": "code",
   "execution_count": 6,
   "id": "9c91524c",
   "metadata": {
    "execution": {
     "iopub.execute_input": "2023-10-15T12:15:56.574646Z",
     "iopub.status.busy": "2023-10-15T12:15:56.574293Z",
     "iopub.status.idle": "2023-10-15T12:15:56.578627Z",
     "shell.execute_reply": "2023-10-15T12:15:56.577487Z"
    },
    "papermill": {
     "duration": 0.021425,
     "end_time": "2023-10-15T12:15:56.580717",
     "exception": false,
     "start_time": "2023-10-15T12:15:56.559292",
     "status": "completed"
    },
    "tags": []
   },
   "outputs": [],
   "source": [
    "file = open('myfile.txt')"
   ]
  },
  {
   "cell_type": "code",
   "execution_count": 7,
   "id": "bac731e5",
   "metadata": {
    "execution": {
     "iopub.execute_input": "2023-10-15T12:15:56.610911Z",
     "iopub.status.busy": "2023-10-15T12:15:56.610538Z",
     "iopub.status.idle": "2023-10-15T12:15:56.617457Z",
     "shell.execute_reply": "2023-10-15T12:15:56.616431Z"
    },
    "papermill": {
     "duration": 0.024402,
     "end_time": "2023-10-15T12:15:56.619538",
     "exception": false,
     "start_time": "2023-10-15T12:15:56.595136",
     "status": "completed"
    },
    "tags": []
   },
   "outputs": [
    {
     "data": {
      "text/plain": [
       "_io.TextIOWrapper"
      ]
     },
     "execution_count": 7,
     "metadata": {},
     "output_type": "execute_result"
    }
   ],
   "source": [
    "type(file)"
   ]
  },
  {
   "cell_type": "markdown",
   "id": "f282d698",
   "metadata": {
    "papermill": {
     "duration": 0.013937,
     "end_time": "2023-10-15T12:15:56.647451",
     "exception": false,
     "start_time": "2023-10-15T12:15:56.633514",
     "status": "completed"
    },
    "tags": []
   },
   "source": [
    "This is the default file object returned by `open()`."
   ]
  },
  {
   "cell_type": "markdown",
   "id": "ab465805",
   "metadata": {
    "papermill": {
     "duration": 0.014116,
     "end_time": "2023-10-15T12:15:56.675711",
     "exception": false,
     "start_time": "2023-10-15T12:15:56.661595",
     "status": "completed"
    },
    "tags": []
   },
   "source": [
    "<a class=\"anchor\" id=\"buffered_binary_file_types\"></a>\n",
    "### Buffered Binary File Types"
   ]
  },
  {
   "cell_type": "markdown",
   "id": "c194e36e",
   "metadata": {
    "papermill": {
     "duration": 0.014176,
     "end_time": "2023-10-15T12:15:56.704501",
     "exception": false,
     "start_time": "2023-10-15T12:15:56.690325",
     "status": "completed"
    },
    "tags": []
   },
   "source": [
    "A buffered binary file type is used for reading and writing binary files. Here are some examples of how these files are opened:"
   ]
  },
  {
   "cell_type": "code",
   "execution_count": 8,
   "id": "41e7205f",
   "metadata": {
    "execution": {
     "iopub.execute_input": "2023-10-15T12:15:56.734716Z",
     "iopub.status.busy": "2023-10-15T12:15:56.733553Z",
     "iopub.status.idle": "2023-10-15T12:15:56.739160Z",
     "shell.execute_reply": "2023-10-15T12:15:56.738090Z"
    },
    "papermill": {
     "duration": 0.022952,
     "end_time": "2023-10-15T12:15:56.741456",
     "exception": false,
     "start_time": "2023-10-15T12:15:56.718504",
     "status": "completed"
    },
    "tags": []
   },
   "outputs": [],
   "source": [
    "file = open('myfile.txt', 'rb')"
   ]
  },
  {
   "cell_type": "code",
   "execution_count": 9,
   "id": "1b76999e",
   "metadata": {
    "execution": {
     "iopub.execute_input": "2023-10-15T12:15:56.771572Z",
     "iopub.status.busy": "2023-10-15T12:15:56.771227Z",
     "iopub.status.idle": "2023-10-15T12:15:56.778487Z",
     "shell.execute_reply": "2023-10-15T12:15:56.777473Z"
    },
    "papermill": {
     "duration": 0.025036,
     "end_time": "2023-10-15T12:15:56.780613",
     "exception": false,
     "start_time": "2023-10-15T12:15:56.755577",
     "status": "completed"
    },
    "tags": []
   },
   "outputs": [
    {
     "data": {
      "text/plain": [
       "_io.BufferedReader"
      ]
     },
     "execution_count": 9,
     "metadata": {},
     "output_type": "execute_result"
    }
   ],
   "source": [
    "type(file)"
   ]
  },
  {
   "cell_type": "code",
   "execution_count": 10,
   "id": "a4fee157",
   "metadata": {
    "execution": {
     "iopub.execute_input": "2023-10-15T12:15:56.811127Z",
     "iopub.status.busy": "2023-10-15T12:15:56.810761Z",
     "iopub.status.idle": "2023-10-15T12:15:56.814942Z",
     "shell.execute_reply": "2023-10-15T12:15:56.814064Z"
    },
    "papermill": {
     "duration": 0.021381,
     "end_time": "2023-10-15T12:15:56.816655",
     "exception": false,
     "start_time": "2023-10-15T12:15:56.795274",
     "status": "completed"
    },
    "tags": []
   },
   "outputs": [],
   "source": [
    "file = open('myfile.txt', 'wb')"
   ]
  },
  {
   "cell_type": "code",
   "execution_count": 11,
   "id": "04d246f7",
   "metadata": {
    "execution": {
     "iopub.execute_input": "2023-10-15T12:15:56.847115Z",
     "iopub.status.busy": "2023-10-15T12:15:56.846774Z",
     "iopub.status.idle": "2023-10-15T12:15:56.852299Z",
     "shell.execute_reply": "2023-10-15T12:15:56.851236Z"
    },
    "papermill": {
     "duration": 0.023047,
     "end_time": "2023-10-15T12:15:56.854347",
     "exception": false,
     "start_time": "2023-10-15T12:15:56.831300",
     "status": "completed"
    },
    "tags": []
   },
   "outputs": [
    {
     "data": {
      "text/plain": [
       "_io.BufferedWriter"
      ]
     },
     "execution_count": 11,
     "metadata": {},
     "output_type": "execute_result"
    }
   ],
   "source": [
    "type(file)"
   ]
  },
  {
   "cell_type": "markdown",
   "id": "f0815052",
   "metadata": {
    "papermill": {
     "duration": 0.014599,
     "end_time": "2023-10-15T12:15:56.883878",
     "exception": false,
     "start_time": "2023-10-15T12:15:56.869279",
     "status": "completed"
    },
    "tags": []
   },
   "source": [
    "With these types of files, `open()` will return either a `BufferedReader` or `BufferedWriter` file object:"
   ]
  },
  {
   "cell_type": "markdown",
   "id": "159ac53c",
   "metadata": {
    "papermill": {
     "duration": 0.013865,
     "end_time": "2023-10-15T12:15:56.912037",
     "exception": false,
     "start_time": "2023-10-15T12:15:56.898172",
     "status": "completed"
    },
    "tags": []
   },
   "source": [
    "> **Notes:**\n",
    "> - Error in a textual file can be easily recognized and eliminated. Error in a binary file corrupts the file and is not easily detected.\n",
    "> - Binary files tend to be smaller and faster to interpret than text files."
   ]
  },
  {
   "cell_type": "markdown",
   "id": "82fd4259",
   "metadata": {
    "papermill": {
     "duration": 0.013922,
     "end_time": "2023-10-15T12:15:56.940103",
     "exception": false,
     "start_time": "2023-10-15T12:15:56.926181",
     "status": "completed"
    },
    "tags": []
   },
   "source": [
    "<a class=\"anchor\" id=\"raw_file_types\"></a>\n",
    "### Raw File Types"
   ]
  },
  {
   "cell_type": "markdown",
   "id": "926c6b10",
   "metadata": {
    "papermill": {
     "duration": 0.014088,
     "end_time": "2023-10-15T12:15:56.968373",
     "exception": false,
     "start_time": "2023-10-15T12:15:56.954285",
     "status": "completed"
    },
    "tags": []
   },
   "source": [
    "A raw file type is:\n",
    "\n",
    "> “generally used as a low-level building-block for binary and text streams.” ([Source](https://docs.python.org/3.7/library/io.html#raw-i-o))"
   ]
  },
  {
   "cell_type": "markdown",
   "id": "34a6ccb3",
   "metadata": {
    "papermill": {
     "duration": 0.014683,
     "end_time": "2023-10-15T12:15:56.997433",
     "exception": false,
     "start_time": "2023-10-15T12:15:56.982750",
     "status": "completed"
    },
    "tags": []
   },
   "source": [
    "It is therefore not typically used."
   ]
  },
  {
   "cell_type": "markdown",
   "id": "6cb5b642",
   "metadata": {
    "papermill": {
     "duration": 0.014038,
     "end_time": "2023-10-15T12:15:57.025861",
     "exception": false,
     "start_time": "2023-10-15T12:15:57.011823",
     "status": "completed"
    },
    "tags": []
   },
   "source": [
    "Here’s an example of how these files are opened:"
   ]
  },
  {
   "cell_type": "code",
   "execution_count": 12,
   "id": "e405a383",
   "metadata": {
    "execution": {
     "iopub.execute_input": "2023-10-15T12:15:57.056023Z",
     "iopub.status.busy": "2023-10-15T12:15:57.055636Z",
     "iopub.status.idle": "2023-10-15T12:15:57.062323Z",
     "shell.execute_reply": "2023-10-15T12:15:57.061305Z"
    },
    "papermill": {
     "duration": 0.024054,
     "end_time": "2023-10-15T12:15:57.064267",
     "exception": false,
     "start_time": "2023-10-15T12:15:57.040213",
     "status": "completed"
    },
    "tags": []
   },
   "outputs": [
    {
     "data": {
      "text/plain": [
       "<_io.FileIO name='myfile.txt' mode='rb' closefd=True>"
      ]
     },
     "execution_count": 12,
     "metadata": {},
     "output_type": "execute_result"
    }
   ],
   "source": [
    "open('myfile.txt', 'rb', buffering=0)"
   ]
  },
  {
   "cell_type": "markdown",
   "id": "85c4eb5f",
   "metadata": {
    "papermill": {
     "duration": 0.014525,
     "end_time": "2023-10-15T12:15:57.093284",
     "exception": false,
     "start_time": "2023-10-15T12:15:57.078759",
     "status": "completed"
    },
    "tags": []
   },
   "source": [
    "With these types of files, `open()` will return a `FileIO` file object:"
   ]
  },
  {
   "cell_type": "code",
   "execution_count": 13,
   "id": "a26dad1b",
   "metadata": {
    "execution": {
     "iopub.execute_input": "2023-10-15T12:15:57.123876Z",
     "iopub.status.busy": "2023-10-15T12:15:57.123542Z",
     "iopub.status.idle": "2023-10-15T12:15:57.130145Z",
     "shell.execute_reply": "2023-10-15T12:15:57.129043Z"
    },
    "papermill": {
     "duration": 0.024811,
     "end_time": "2023-10-15T12:15:57.132320",
     "exception": false,
     "start_time": "2023-10-15T12:15:57.107509",
     "status": "completed"
    },
    "tags": []
   },
   "outputs": [
    {
     "data": {
      "text/plain": [
       "_io.FileIO"
      ]
     },
     "execution_count": 13,
     "metadata": {},
     "output_type": "execute_result"
    }
   ],
   "source": [
    "file = open('myfile.txt', 'rb', buffering=0)\n",
    "type(file)"
   ]
  },
  {
   "cell_type": "markdown",
   "id": "3a7eac4d",
   "metadata": {
    "papermill": {
     "duration": 0.015095,
     "end_time": "2023-10-15T12:15:57.162146",
     "exception": false,
     "start_time": "2023-10-15T12:15:57.147051",
     "status": "completed"
    },
    "tags": []
   },
   "source": []
  },
  {
   "cell_type": "markdown",
   "id": "bc383652",
   "metadata": {
    "papermill": {
     "duration": 0.015037,
     "end_time": "2023-10-15T12:15:57.191610",
     "exception": false,
     "start_time": "2023-10-15T12:15:57.176573",
     "status": "completed"
    },
    "tags": []
   },
   "source": [
    "> **Notes:** Enabling buffering means that you're not directly interfacing with the OS's representation of a file, or its file system API. Instead, a chunk of data is read from the raw OS filestream into a buffer until it is consumed, at which point more data is fetched into the buffer. In terms of the objects you get, you'll get a BufferedIOBase object wrapping an underlying RawIOBase (which represents the raw file stream).\n",
    "> \n",
    "> What is the benefit of this? Well interfacing with the raw stream might have high latency, because the operating system has to fool around with physical objects like the hard disk, and this may not be acceptable in all cases. Let's say you want to read three letters from a file every 5ms and your file is on a crusty old hard disk, or even a network file system. Instead of trying to read from the raw filestream every 5ms, it is better to load a bunch of bytes from the file into a buffer in memory, then consume it at will.\n",
    "> \n",
    "> What size of buffer you choose will depend on how you're consuming the data. For the example above, a buffer size of 1 char would be awful, 3 chars would be alright, and any large multiple of 3 chars that doesn't cause a noticeable delay for your users would be ideal."
   ]
  },
  {
   "cell_type": "markdown",
   "id": "98935f54",
   "metadata": {
    "papermill": {
     "duration": 0.014208,
     "end_time": "2023-10-15T12:15:57.220379",
     "exception": false,
     "start_time": "2023-10-15T12:15:57.206171",
     "status": "completed"
    },
    "tags": []
   },
   "source": [
    "<a class=\"anchor\" id=\"reading_and_writing_opened_files\"></a>\n",
    "## Reading and Writing Opened Files"
   ]
  },
  {
   "cell_type": "markdown",
   "id": "cfd04be6",
   "metadata": {
    "papermill": {
     "duration": 0.014153,
     "end_time": "2023-10-15T12:15:57.249210",
     "exception": false,
     "start_time": "2023-10-15T12:15:57.235057",
     "status": "completed"
    },
    "tags": []
   },
   "source": [
    "Once you’ve opened up a file, you’ll want to read or write to the file. First off, let’s cover reading a file. There are multiple methods that can be called on a file object to help you out:\n",
    "\n",
    "|Method |What It Does|\n",
    "|:--|:--|\n",
    "|`.read(size=-1)` | This reads from the file based on the number of `size` bytes. If no argument is passed or `None` or `-1` is passed, then the entire file is read. |\n",
    "|`.readline(size=-1)` | This reads at most size number of characters from the line. This continues to the end of the line and then wraps back around. If no argument is passed or `None` or `-1` is passed, then the entire line (or rest of the line) is read. |\n",
    "|`.readlines()` | This reads the remaining lines from the file object and returns them as a list. |"
   ]
  },
  {
   "cell_type": "markdown",
   "id": "f541707c",
   "metadata": {
    "papermill": {
     "duration": 0.014138,
     "end_time": "2023-10-15T12:15:57.277805",
     "exception": false,
     "start_time": "2023-10-15T12:15:57.263667",
     "status": "completed"
    },
    "tags": []
   },
   "source": [
    "Using the same `myfile.txt` file you used above, let’s go through some examples of how to use these methods. Here’s an example of how to open and read the entire file using `.read()`:"
   ]
  },
  {
   "cell_type": "code",
   "execution_count": 14,
   "id": "e36ba75d",
   "metadata": {
    "execution": {
     "iopub.execute_input": "2023-10-15T12:15:57.309043Z",
     "iopub.status.busy": "2023-10-15T12:15:57.307860Z",
     "iopub.status.idle": "2023-10-15T12:15:57.313936Z",
     "shell.execute_reply": "2023-10-15T12:15:57.312897Z"
    },
    "papermill": {
     "duration": 0.023476,
     "end_time": "2023-10-15T12:15:57.315974",
     "exception": false,
     "start_time": "2023-10-15T12:15:57.292498",
     "status": "completed"
    },
    "tags": []
   },
   "outputs": [
    {
     "name": "stdout",
     "output_type": "stream",
     "text": [
      "Overwriting myfile.txt\n"
     ]
    }
   ],
   "source": [
    "%%writefile myfile.txt\n",
    "this is line 1\n",
    "this is line 2\n",
    "this is line 3\n",
    "this is line 4\n",
    "this is line 5\n",
    "this is line 6"
   ]
  },
  {
   "cell_type": "code",
   "execution_count": 15,
   "id": "e45adcc8",
   "metadata": {
    "execution": {
     "iopub.execute_input": "2023-10-15T12:15:57.346929Z",
     "iopub.status.busy": "2023-10-15T12:15:57.346566Z",
     "iopub.status.idle": "2023-10-15T12:15:57.352268Z",
     "shell.execute_reply": "2023-10-15T12:15:57.351193Z"
    },
    "papermill": {
     "duration": 0.023748,
     "end_time": "2023-10-15T12:15:57.354334",
     "exception": false,
     "start_time": "2023-10-15T12:15:57.330586",
     "status": "completed"
    },
    "tags": []
   },
   "outputs": [
    {
     "name": "stdout",
     "output_type": "stream",
     "text": [
      "this is line 1\n",
      "this is line 2\n",
      "this is line 3\n",
      "this is line 4\n",
      "this is line 5\n",
      "this is line 6\n",
      "\n"
     ]
    }
   ],
   "source": [
    "with open('myfile.txt', 'r') as reader:\n",
    "    # Read & print the entire file\n",
    "    print(reader.read())"
   ]
  },
  {
   "cell_type": "markdown",
   "id": "71ec48d9",
   "metadata": {
    "papermill": {
     "duration": 0.014892,
     "end_time": "2023-10-15T12:15:57.384136",
     "exception": false,
     "start_time": "2023-10-15T12:15:57.369244",
     "status": "completed"
    },
    "tags": []
   },
   "source": [
    "Here’s an example of how to read 5 bytes of a line each time using the Python `.readline()` method:"
   ]
  },
  {
   "cell_type": "code",
   "execution_count": 16,
   "id": "bdc2b1f0",
   "metadata": {
    "execution": {
     "iopub.execute_input": "2023-10-15T12:15:57.415097Z",
     "iopub.status.busy": "2023-10-15T12:15:57.414741Z",
     "iopub.status.idle": "2023-10-15T12:15:57.420282Z",
     "shell.execute_reply": "2023-10-15T12:15:57.419504Z"
    },
    "papermill": {
     "duration": 0.023265,
     "end_time": "2023-10-15T12:15:57.422168",
     "exception": false,
     "start_time": "2023-10-15T12:15:57.398903",
     "status": "completed"
    },
    "tags": []
   },
   "outputs": [
    {
     "name": "stdout",
     "output_type": "stream",
     "text": [
      "this \n",
      "is li\n",
      "ne 1\n",
      "\n",
      "this \n",
      "is li\n"
     ]
    }
   ],
   "source": [
    "with open('myfile.txt', 'r') as reader:\n",
    "    # Read & print the first 5 characters of the line 5 times\n",
    "    print(reader.readline(5))\n",
    "\n",
    "    # Notice that line is greater than the 5 chars and continues\n",
    "    # down the line, reading 5 chars each time until the end of the\n",
    "    # line and then \"wraps\" around\n",
    "    print(reader.readline(5))\n",
    "    print(reader.readline(5))\n",
    "    print(reader.readline(5))\n",
    "    print(reader.readline(5))"
   ]
  },
  {
   "cell_type": "markdown",
   "id": "959481cc",
   "metadata": {
    "papermill": {
     "duration": 0.014475,
     "end_time": "2023-10-15T12:15:57.451868",
     "exception": false,
     "start_time": "2023-10-15T12:15:57.437393",
     "status": "completed"
    },
    "tags": []
   },
   "source": [
    "Here’s an example of how to read the entire file as a list using the Python `.readlines()` method:"
   ]
  },
  {
   "cell_type": "code",
   "execution_count": 17,
   "id": "2caa3076",
   "metadata": {
    "execution": {
     "iopub.execute_input": "2023-10-15T12:15:57.483469Z",
     "iopub.status.busy": "2023-10-15T12:15:57.482834Z",
     "iopub.status.idle": "2023-10-15T12:15:57.489362Z",
     "shell.execute_reply": "2023-10-15T12:15:57.488393Z"
    },
    "papermill": {
     "duration": 0.024506,
     "end_time": "2023-10-15T12:15:57.491178",
     "exception": false,
     "start_time": "2023-10-15T12:15:57.466672",
     "status": "completed"
    },
    "tags": []
   },
   "outputs": [
    {
     "data": {
      "text/plain": [
       "['this is line 1\\n',\n",
       " 'this is line 2\\n',\n",
       " 'this is line 3\\n',\n",
       " 'this is line 4\\n',\n",
       " 'this is line 5\\n',\n",
       " 'this is line 6\\n']"
      ]
     },
     "execution_count": 17,
     "metadata": {},
     "output_type": "execute_result"
    }
   ],
   "source": [
    "f = open('myfile.txt')\n",
    "f.readlines()  # Returns a list object"
   ]
  },
  {
   "cell_type": "markdown",
   "id": "3df96e05",
   "metadata": {
    "papermill": {
     "duration": 0.014961,
     "end_time": "2023-10-15T12:15:57.521139",
     "exception": false,
     "start_time": "2023-10-15T12:15:57.506178",
     "status": "completed"
    },
    "tags": []
   },
   "source": [
    "The above example can also be done by using `list()` to create a list out of the file object:"
   ]
  },
  {
   "cell_type": "code",
   "execution_count": 18,
   "id": "1a8efc12",
   "metadata": {
    "execution": {
     "iopub.execute_input": "2023-10-15T12:15:57.552581Z",
     "iopub.status.busy": "2023-10-15T12:15:57.552257Z",
     "iopub.status.idle": "2023-10-15T12:15:57.558783Z",
     "shell.execute_reply": "2023-10-15T12:15:57.557702Z"
    },
    "papermill": {
     "duration": 0.024591,
     "end_time": "2023-10-15T12:15:57.560758",
     "exception": false,
     "start_time": "2023-10-15T12:15:57.536167",
     "status": "completed"
    },
    "tags": []
   },
   "outputs": [
    {
     "data": {
      "text/plain": [
       "['this is line 1\\n',\n",
       " 'this is line 2\\n',\n",
       " 'this is line 3\\n',\n",
       " 'this is line 4\\n',\n",
       " 'this is line 5\\n',\n",
       " 'this is line 6\\n']"
      ]
     },
     "execution_count": 18,
     "metadata": {},
     "output_type": "execute_result"
    }
   ],
   "source": [
    "f = open('myfile.txt')\n",
    "list(f)"
   ]
  },
  {
   "cell_type": "markdown",
   "id": "72ac5e66",
   "metadata": {
    "papermill": {
     "duration": 0.014978,
     "end_time": "2023-10-15T12:15:57.591746",
     "exception": false,
     "start_time": "2023-10-15T12:15:57.576768",
     "status": "completed"
    },
    "tags": []
   },
   "source": [
    "<a class=\"anchor\" id=\"iterating_over_each_line_in_the_file\"></a>\n",
    "### Iterating Over Each Line in the File"
   ]
  },
  {
   "cell_type": "markdown",
   "id": "060966ca",
   "metadata": {
    "papermill": {
     "duration": 0.015017,
     "end_time": "2023-10-15T12:15:57.621822",
     "exception": false,
     "start_time": "2023-10-15T12:15:57.606805",
     "status": "completed"
    },
    "tags": []
   },
   "source": [
    "A common thing to do while reading a file is to iterate over each line. Here’s an example of how to use the Python `.readline()` method to perform that iteration:"
   ]
  },
  {
   "cell_type": "code",
   "execution_count": 19,
   "id": "54dee58a",
   "metadata": {
    "execution": {
     "iopub.execute_input": "2023-10-15T12:15:57.653593Z",
     "iopub.status.busy": "2023-10-15T12:15:57.653246Z",
     "iopub.status.idle": "2023-10-15T12:15:57.658716Z",
     "shell.execute_reply": "2023-10-15T12:15:57.657955Z"
    },
    "papermill": {
     "duration": 0.023821,
     "end_time": "2023-10-15T12:15:57.660716",
     "exception": false,
     "start_time": "2023-10-15T12:15:57.636895",
     "status": "completed"
    },
    "tags": []
   },
   "outputs": [
    {
     "name": "stdout",
     "output_type": "stream",
     "text": [
      "this is line 1\n",
      "this is line 2\n",
      "this is line 3\n",
      "this is line 4\n",
      "this is line 5\n",
      "this is line 6\n"
     ]
    }
   ],
   "source": [
    "with open('myfile.txt', 'r') as reader:\n",
    "    # Read and print the entire file line by line\n",
    "    line = reader.readline()\n",
    "    while line != '':  # The EOF char is an empty string\n",
    "        print(line, end='')\n",
    "        line = reader.readline()"
   ]
  },
  {
   "cell_type": "markdown",
   "id": "0f417d79",
   "metadata": {
    "papermill": {
     "duration": 0.014965,
     "end_time": "2023-10-15T12:15:57.691452",
     "exception": false,
     "start_time": "2023-10-15T12:15:57.676487",
     "status": "completed"
    },
    "tags": []
   },
   "source": [
    "Another way you could iterate over each line in the file is to use the Python `.readlines()` method of the file object. Remember, `.readlines()` returns a list where each element in the list represents a line in the file:"
   ]
  },
  {
   "cell_type": "code",
   "execution_count": 20,
   "id": "5b8ce21c",
   "metadata": {
    "execution": {
     "iopub.execute_input": "2023-10-15T12:15:57.723128Z",
     "iopub.status.busy": "2023-10-15T12:15:57.722768Z",
     "iopub.status.idle": "2023-10-15T12:15:57.727695Z",
     "shell.execute_reply": "2023-10-15T12:15:57.726972Z"
    },
    "papermill": {
     "duration": 0.023045,
     "end_time": "2023-10-15T12:15:57.729542",
     "exception": false,
     "start_time": "2023-10-15T12:15:57.706497",
     "status": "completed"
    },
    "tags": []
   },
   "outputs": [
    {
     "name": "stdout",
     "output_type": "stream",
     "text": [
      "this is line 1\n",
      "this is line 2\n",
      "this is line 3\n",
      "this is line 4\n",
      "this is line 5\n",
      "this is line 6\n"
     ]
    }
   ],
   "source": [
    "with open('myfile.txt', 'r') as reader:\n",
    "    for line in reader.readlines():\n",
    "        print(line, end='')"
   ]
  },
  {
   "cell_type": "markdown",
   "id": "608d69c9",
   "metadata": {
    "papermill": {
     "duration": 0.014982,
     "end_time": "2023-10-15T12:15:57.760130",
     "exception": false,
     "start_time": "2023-10-15T12:15:57.745148",
     "status": "completed"
    },
    "tags": []
   },
   "source": [
    "However, the above examples can be further simplified by iterating over the file object itself:"
   ]
  },
  {
   "cell_type": "code",
   "execution_count": 21,
   "id": "278a06d1",
   "metadata": {
    "execution": {
     "iopub.execute_input": "2023-10-15T12:15:57.792281Z",
     "iopub.status.busy": "2023-10-15T12:15:57.791944Z",
     "iopub.status.idle": "2023-10-15T12:15:57.796822Z",
     "shell.execute_reply": "2023-10-15T12:15:57.795677Z"
    },
    "papermill": {
     "duration": 0.023406,
     "end_time": "2023-10-15T12:15:57.798871",
     "exception": false,
     "start_time": "2023-10-15T12:15:57.775465",
     "status": "completed"
    },
    "tags": []
   },
   "outputs": [
    {
     "name": "stdout",
     "output_type": "stream",
     "text": [
      "this is line 1\n",
      "this is line 2\n",
      "this is line 3\n",
      "this is line 4\n",
      "this is line 5\n",
      "this is line 6\n"
     ]
    }
   ],
   "source": [
    "with open('myfile.txt', 'r') as reader:\n",
    "    # Read and print the entire file line by line\n",
    "    for line in reader:\n",
    "        print(line, end='')"
   ]
  },
  {
   "cell_type": "markdown",
   "id": "65850a53",
   "metadata": {
    "papermill": {
     "duration": 0.014973,
     "end_time": "2023-10-15T12:15:57.829363",
     "exception": false,
     "start_time": "2023-10-15T12:15:57.814390",
     "status": "completed"
    },
    "tags": []
   },
   "source": [
    "This final approach is more Pythonic and can be quicker and more memory efficient. Therefore, it is suggested you use this instead."
   ]
  },
  {
   "cell_type": "markdown",
   "id": "de5dbbf8",
   "metadata": {
    "papermill": {
     "duration": 0.014875,
     "end_time": "2023-10-15T12:15:57.859508",
     "exception": false,
     "start_time": "2023-10-15T12:15:57.844633",
     "status": "completed"
    },
    "tags": []
   },
   "source": [
    "> Note: Some of the above examples contain `print('some text', end='')`. The `end=''` is to prevent Python from adding an additional newline to the text that is being printed and only print what is being read from the file."
   ]
  },
  {
   "cell_type": "markdown",
   "id": "86b4a890",
   "metadata": {
    "papermill": {
     "duration": 0.014981,
     "end_time": "2023-10-15T12:15:57.890018",
     "exception": false,
     "start_time": "2023-10-15T12:15:57.875037",
     "status": "completed"
    },
    "tags": []
   },
   "source": [
    "Now let’s dive into writing files. As with reading files, file objects have multiple methods that are useful for writing to a file:\n",
    "\n",
    "|Method\t|What It Does|\n",
    "|:--|:--|\n",
    "|`.write(string)`\t|This writes the string to the file.|\n",
    "|`.writelines(seq)`\t|This writes the sequence to the file. No line endings are appended to each sequence item. It’s up to you to add the appropriate line ending(s).|"
   ]
  },
  {
   "cell_type": "markdown",
   "id": "b6a316e5",
   "metadata": {
    "papermill": {
     "duration": 0.014995,
     "end_time": "2023-10-15T12:15:57.920281",
     "exception": false,
     "start_time": "2023-10-15T12:15:57.905286",
     "status": "completed"
    },
    "tags": []
   },
   "source": [
    "Here’s a quick example of using `.write()` and `.writelines()`:"
   ]
  },
  {
   "cell_type": "code",
   "execution_count": 22,
   "id": "a09e26a2",
   "metadata": {
    "execution": {
     "iopub.execute_input": "2023-10-15T12:15:57.952486Z",
     "iopub.status.busy": "2023-10-15T12:15:57.952117Z",
     "iopub.status.idle": "2023-10-15T12:15:57.958133Z",
     "shell.execute_reply": "2023-10-15T12:15:57.956947Z"
    },
    "papermill": {
     "duration": 0.024454,
     "end_time": "2023-10-15T12:15:57.960103",
     "exception": false,
     "start_time": "2023-10-15T12:15:57.935649",
     "status": "completed"
    },
    "tags": []
   },
   "outputs": [],
   "source": [
    "with open('myfile.txt', 'r') as reader:\n",
    "    # Note: readlines doesn't trim the line endings\n",
    "    lines = reader.readlines()\n",
    "\n",
    "with open('myfile_reversed.txt', 'w') as writer:\n",
    "    # Alternatively you could use\n",
    "    # writer.writelines(reversed(dog_breeds))\n",
    "\n",
    "    # Write the dog breeds to the file in reversed order\n",
    "    for line in reversed(lines):\n",
    "        writer.write(line)"
   ]
  },
  {
   "cell_type": "code",
   "execution_count": 23,
   "id": "cb9151a7",
   "metadata": {
    "execution": {
     "iopub.execute_input": "2023-10-15T12:15:57.992761Z",
     "iopub.status.busy": "2023-10-15T12:15:57.992406Z",
     "iopub.status.idle": "2023-10-15T12:15:57.997372Z",
     "shell.execute_reply": "2023-10-15T12:15:57.996433Z"
    },
    "papermill": {
     "duration": 0.023295,
     "end_time": "2023-10-15T12:15:57.999329",
     "exception": false,
     "start_time": "2023-10-15T12:15:57.976034",
     "status": "completed"
    },
    "tags": []
   },
   "outputs": [],
   "source": [
    "with open('myfile_reversed.txt', 'r') as reader:\n",
    "    # Note: readlines doesn't trim the line endings\n",
    "    lines = reader.readlines()"
   ]
  },
  {
   "cell_type": "code",
   "execution_count": 24,
   "id": "137b241f",
   "metadata": {
    "execution": {
     "iopub.execute_input": "2023-10-15T12:15:58.032390Z",
     "iopub.status.busy": "2023-10-15T12:15:58.032037Z",
     "iopub.status.idle": "2023-10-15T12:15:58.037940Z",
     "shell.execute_reply": "2023-10-15T12:15:58.037026Z"
    },
    "papermill": {
     "duration": 0.02486,
     "end_time": "2023-10-15T12:15:58.040044",
     "exception": false,
     "start_time": "2023-10-15T12:15:58.015184",
     "status": "completed"
    },
    "tags": []
   },
   "outputs": [
    {
     "data": {
      "text/plain": [
       "['this is line 6\\n',\n",
       " 'this is line 5\\n',\n",
       " 'this is line 4\\n',\n",
       " 'this is line 3\\n',\n",
       " 'this is line 2\\n',\n",
       " 'this is line 1\\n']"
      ]
     },
     "execution_count": 24,
     "metadata": {},
     "output_type": "execute_result"
    }
   ],
   "source": [
    "lines"
   ]
  },
  {
   "cell_type": "markdown",
   "id": "b9ada3d9",
   "metadata": {
    "papermill": {
     "duration": 0.015126,
     "end_time": "2023-10-15T12:15:58.071379",
     "exception": false,
     "start_time": "2023-10-15T12:15:58.056253",
     "status": "completed"
    },
    "tags": []
   },
   "source": [
    "<a class=\"anchor\" id=\"appending_to_a_file\"></a>\n",
    "### Appending to a File"
   ]
  },
  {
   "cell_type": "markdown",
   "id": "829a7f97",
   "metadata": {
    "papermill": {
     "duration": 0.015085,
     "end_time": "2023-10-15T12:15:58.101920",
     "exception": false,
     "start_time": "2023-10-15T12:15:58.086835",
     "status": "completed"
    },
    "tags": []
   },
   "source": [
    "Sometimes, you may want to append to a file or start writing at the end of an already populated file. This is easily done by using the `'a'` character for the mode argument:"
   ]
  },
  {
   "cell_type": "code",
   "execution_count": 25,
   "id": "221a8b78",
   "metadata": {
    "execution": {
     "iopub.execute_input": "2023-10-15T12:15:58.135873Z",
     "iopub.status.busy": "2023-10-15T12:15:58.135516Z",
     "iopub.status.idle": "2023-10-15T12:15:58.140185Z",
     "shell.execute_reply": "2023-10-15T12:15:58.139200Z"
    },
    "papermill": {
     "duration": 0.024823,
     "end_time": "2023-10-15T12:15:58.142140",
     "exception": false,
     "start_time": "2023-10-15T12:15:58.117317",
     "status": "completed"
    },
    "tags": []
   },
   "outputs": [],
   "source": [
    "with open('myfile.txt', 'a') as a_writer:\n",
    "    a_writer.write('this is line 7')"
   ]
  },
  {
   "cell_type": "markdown",
   "id": "60f61981",
   "metadata": {
    "papermill": {
     "duration": 0.015604,
     "end_time": "2023-10-15T12:15:58.173309",
     "exception": false,
     "start_time": "2023-10-15T12:15:58.157705",
     "status": "completed"
    },
    "tags": []
   },
   "source": [
    "When you examine `myfile.txt` again, you’ll see that the beginning of the file is unchanged and Beagle is now added to the end of the file:"
   ]
  },
  {
   "cell_type": "code",
   "execution_count": 26,
   "id": "f6b2e67a",
   "metadata": {
    "execution": {
     "iopub.execute_input": "2023-10-15T12:15:58.205834Z",
     "iopub.status.busy": "2023-10-15T12:15:58.205481Z",
     "iopub.status.idle": "2023-10-15T12:15:58.211477Z",
     "shell.execute_reply": "2023-10-15T12:15:58.210347Z"
    },
    "papermill": {
     "duration": 0.024564,
     "end_time": "2023-10-15T12:15:58.213374",
     "exception": false,
     "start_time": "2023-10-15T12:15:58.188810",
     "status": "completed"
    },
    "tags": []
   },
   "outputs": [
    {
     "name": "stdout",
     "output_type": "stream",
     "text": [
      "this is line 1\n",
      "this is line 2\n",
      "this is line 3\n",
      "this is line 4\n",
      "this is line 5\n",
      "this is line 6\n",
      "this is line 7\n"
     ]
    }
   ],
   "source": [
    "with open('myfile.txt', 'r') as reader:\n",
    "    print(reader.read())"
   ]
  },
  {
   "cell_type": "markdown",
   "id": "46f8cd5a",
   "metadata": {
    "papermill": {
     "duration": 0.015855,
     "end_time": "2023-10-15T12:15:58.244876",
     "exception": false,
     "start_time": "2023-10-15T12:15:58.229021",
     "status": "completed"
    },
    "tags": []
   },
   "source": [
    "<a class=\"anchor\" id=\"working_with_two_files_at_the_same_time\"></a>\n",
    "### Working With Two Files at the Same Time"
   ]
  },
  {
   "cell_type": "markdown",
   "id": "94faaf17",
   "metadata": {
    "papermill": {
     "duration": 0.016367,
     "end_time": "2023-10-15T12:15:58.277100",
     "exception": false,
     "start_time": "2023-10-15T12:15:58.260733",
     "status": "completed"
    },
    "tags": []
   },
   "source": [
    "There are times when you may want to read a file and write to another file at the same time. If you use the example that was shown when you were learning how to write to a file, it can actually be combined into the following:"
   ]
  },
  {
   "cell_type": "code",
   "execution_count": 27,
   "id": "d6c9ff7c",
   "metadata": {
    "execution": {
     "iopub.execute_input": "2023-10-15T12:15:58.310704Z",
     "iopub.status.busy": "2023-10-15T12:15:58.310335Z",
     "iopub.status.idle": "2023-10-15T12:15:58.315739Z",
     "shell.execute_reply": "2023-10-15T12:15:58.314711Z"
    },
    "papermill": {
     "duration": 0.02487,
     "end_time": "2023-10-15T12:15:58.317820",
     "exception": false,
     "start_time": "2023-10-15T12:15:58.292950",
     "status": "completed"
    },
    "tags": []
   },
   "outputs": [],
   "source": [
    "d_path = 'myfile.txt'\n",
    "d_r_path = 'myfile_reversed.txt'\n",
    "with open(d_path, 'r') as reader, open(d_r_path, 'w') as writer:\n",
    "    dog_breeds = reader.readlines()\n",
    "    writer.writelines(reversed(dog_breeds))"
   ]
  },
  {
   "cell_type": "markdown",
   "id": "d06a83d9",
   "metadata": {
    "papermill": {
     "duration": 0.015307,
     "end_time": "2023-10-15T12:15:58.348826",
     "exception": false,
     "start_time": "2023-10-15T12:15:58.333519",
     "status": "completed"
    },
    "tags": []
   },
   "source": [
    "<a class=\"anchor\" id=\"working_with_bytes\"></a>\n",
    "### Working With Bytes"
   ]
  },
  {
   "cell_type": "markdown",
   "id": "2a234165",
   "metadata": {
    "papermill": {
     "duration": 0.016174,
     "end_time": "2023-10-15T12:15:58.380784",
     "exception": false,
     "start_time": "2023-10-15T12:15:58.364610",
     "status": "completed"
    },
    "tags": []
   },
   "source": [
    "Sometimes, you may need to work with files using byte strings. This is done by adding the `'b'` character to the mode argument. All of the same methods for the file object apply. However, each of the methods expect and return a bytes object instead:"
   ]
  },
  {
   "cell_type": "code",
   "execution_count": 28,
   "id": "eb78b37b",
   "metadata": {
    "execution": {
     "iopub.execute_input": "2023-10-15T12:15:58.414193Z",
     "iopub.status.busy": "2023-10-15T12:15:58.413842Z",
     "iopub.status.idle": "2023-10-15T12:15:58.418266Z",
     "shell.execute_reply": "2023-10-15T12:15:58.417503Z"
    },
    "papermill": {
     "duration": 0.023643,
     "end_time": "2023-10-15T12:15:58.420350",
     "exception": false,
     "start_time": "2023-10-15T12:15:58.396707",
     "status": "completed"
    },
    "tags": []
   },
   "outputs": [
    {
     "name": "stdout",
     "output_type": "stream",
     "text": [
      "b'this is line 1\\n'\n"
     ]
    }
   ],
   "source": [
    "with open('myfile.txt', 'rb') as reader:\n",
    "    print(reader.readline())"
   ]
  },
  {
   "cell_type": "markdown",
   "id": "a675091b",
   "metadata": {
    "papermill": {
     "duration": 0.015196,
     "end_time": "2023-10-15T12:15:58.451392",
     "exception": false,
     "start_time": "2023-10-15T12:15:58.436196",
     "status": "completed"
    },
    "tags": []
   },
   "source": [
    "Opening a text file using the `b` flag isn’t that interesting. Let’s say we have this picture of python logo (`python.png`):"
   ]
  },
  {
   "cell_type": "markdown",
   "id": "d49ec79f",
   "metadata": {
    "papermill": {
     "duration": 0.015586,
     "end_time": "2023-10-15T12:15:58.482694",
     "exception": false,
     "start_time": "2023-10-15T12:15:58.467108",
     "status": "completed"
    },
    "tags": []
   },
   "source": [
    "<img src=\"./images/python.png\" alt=\"python\" width=100 align=\"center\" />"
   ]
  },
  {
   "cell_type": "markdown",
   "id": "45467cb7",
   "metadata": {
    "papermill": {
     "duration": 0.015433,
     "end_time": "2023-10-15T12:15:58.513859",
     "exception": false,
     "start_time": "2023-10-15T12:15:58.498426",
     "status": "completed"
    },
    "tags": []
   },
   "source": [
    "You can actually open that file in Python and examine the contents! Since the `.png` file format is well defined, the header of the file is 8 bytes broken up like this:"
   ]
  },
  {
   "cell_type": "markdown",
   "id": "18787968",
   "metadata": {
    "papermill": {
     "duration": 0.015384,
     "end_time": "2023-10-15T12:15:58.545263",
     "exception": false,
     "start_time": "2023-10-15T12:15:58.529879",
     "status": "completed"
    },
    "tags": []
   },
   "source": [
    "|Value\t|Interpretation|\n",
    "|:--|:--|\n",
    "|`0x89`\t|A “magic” number to indicate that this is the start of a PNG|\n",
    "|`0x50 0x4E 0x47`\t|PNG in ASCII|\n",
    "|`0x0D 0x0A`\t|A DOS style line ending `\\r\\n`|\n",
    "|`0x1A`\t|A DOS style EOF character|\n",
    "|`0x0A`\t|A Unix style line ending `\\n`|"
   ]
  },
  {
   "cell_type": "markdown",
   "id": "f0d3eb6e",
   "metadata": {
    "papermill": {
     "duration": 0.015523,
     "end_time": "2023-10-15T12:15:58.576795",
     "exception": false,
     "start_time": "2023-10-15T12:15:58.561272",
     "status": "completed"
    },
    "tags": []
   },
   "source": [
    "Sure enough, when you open the file and read these bytes individually, you can see that this is indeed a `.png` header file:"
   ]
  },
  {
   "cell_type": "code",
   "execution_count": 29,
   "id": "4c354dc0",
   "metadata": {
    "execution": {
     "iopub.execute_input": "2023-10-15T12:15:58.609873Z",
     "iopub.status.busy": "2023-10-15T12:15:58.609554Z",
     "iopub.status.idle": "2023-10-15T12:15:58.949751Z",
     "shell.execute_reply": "2023-10-15T12:15:58.948406Z"
    },
    "papermill": {
     "duration": 0.359034,
     "end_time": "2023-10-15T12:15:58.951456",
     "exception": true,
     "start_time": "2023-10-15T12:15:58.592422",
     "status": "failed"
    },
    "tags": []
   },
   "outputs": [
    {
     "ename": "FileNotFoundError",
     "evalue": "[Errno 2] No such file or directory: './images/python.png'",
     "output_type": "error",
     "traceback": [
      "\u001b[0;31m---------------------------------------------------------------------------\u001b[0m",
      "\u001b[0;31mFileNotFoundError\u001b[0m                         Traceback (most recent call last)",
      "Cell \u001b[0;32mIn[29], line 1\u001b[0m\n\u001b[0;32m----> 1\u001b[0m \u001b[38;5;28;01mwith\u001b[39;00m \u001b[38;5;28;43mopen\u001b[39;49m\u001b[43m(\u001b[49m\u001b[38;5;124;43m'\u001b[39;49m\u001b[38;5;124;43m./images/python.png\u001b[39;49m\u001b[38;5;124;43m'\u001b[39;49m\u001b[43m,\u001b[49m\u001b[43m \u001b[49m\u001b[38;5;124;43m'\u001b[39;49m\u001b[38;5;124;43mrb\u001b[39;49m\u001b[38;5;124;43m'\u001b[39;49m\u001b[43m)\u001b[49m \u001b[38;5;28;01mas\u001b[39;00m byte_reader:\n\u001b[1;32m      2\u001b[0m     \u001b[38;5;28mprint\u001b[39m(byte_reader\u001b[38;5;241m.\u001b[39mread(\u001b[38;5;241m1\u001b[39m))\n\u001b[1;32m      3\u001b[0m     \u001b[38;5;28mprint\u001b[39m(byte_reader\u001b[38;5;241m.\u001b[39mread(\u001b[38;5;241m3\u001b[39m))\n",
      "File \u001b[0;32m/opt/conda/lib/python3.10/site-packages/IPython/core/interactiveshell.py:284\u001b[0m, in \u001b[0;36m_modified_open\u001b[0;34m(file, *args, **kwargs)\u001b[0m\n\u001b[1;32m    277\u001b[0m \u001b[38;5;28;01mif\u001b[39;00m file \u001b[38;5;129;01min\u001b[39;00m {\u001b[38;5;241m0\u001b[39m, \u001b[38;5;241m1\u001b[39m, \u001b[38;5;241m2\u001b[39m}:\n\u001b[1;32m    278\u001b[0m     \u001b[38;5;28;01mraise\u001b[39;00m \u001b[38;5;167;01mValueError\u001b[39;00m(\n\u001b[1;32m    279\u001b[0m         \u001b[38;5;124mf\u001b[39m\u001b[38;5;124m\"\u001b[39m\u001b[38;5;124mIPython won\u001b[39m\u001b[38;5;124m'\u001b[39m\u001b[38;5;124mt let you open fd=\u001b[39m\u001b[38;5;132;01m{\u001b[39;00mfile\u001b[38;5;132;01m}\u001b[39;00m\u001b[38;5;124m by default \u001b[39m\u001b[38;5;124m\"\u001b[39m\n\u001b[1;32m    280\u001b[0m         \u001b[38;5;124m\"\u001b[39m\u001b[38;5;124mas it is likely to crash IPython. If you know what you are doing, \u001b[39m\u001b[38;5;124m\"\u001b[39m\n\u001b[1;32m    281\u001b[0m         \u001b[38;5;124m\"\u001b[39m\u001b[38;5;124myou can use builtins\u001b[39m\u001b[38;5;124m'\u001b[39m\u001b[38;5;124m open.\u001b[39m\u001b[38;5;124m\"\u001b[39m\n\u001b[1;32m    282\u001b[0m     )\n\u001b[0;32m--> 284\u001b[0m \u001b[38;5;28;01mreturn\u001b[39;00m \u001b[43mio_open\u001b[49m\u001b[43m(\u001b[49m\u001b[43mfile\u001b[49m\u001b[43m,\u001b[49m\u001b[43m \u001b[49m\u001b[38;5;241;43m*\u001b[39;49m\u001b[43margs\u001b[49m\u001b[43m,\u001b[49m\u001b[43m \u001b[49m\u001b[38;5;241;43m*\u001b[39;49m\u001b[38;5;241;43m*\u001b[39;49m\u001b[43mkwargs\u001b[49m\u001b[43m)\u001b[49m\n",
      "\u001b[0;31mFileNotFoundError\u001b[0m: [Errno 2] No such file or directory: './images/python.png'"
     ]
    }
   ],
   "source": [
    "with open('./images/python.png', 'rb') as byte_reader:\n",
    "    print(byte_reader.read(1))\n",
    "    print(byte_reader.read(3))\n",
    "    print(byte_reader.read(2))\n",
    "    print(byte_reader.read(1))\n",
    "    print(byte_reader.read(1))\n"
   ]
  },
  {
   "cell_type": "markdown",
   "id": "516b2ce0",
   "metadata": {
    "papermill": {
     "duration": null,
     "end_time": null,
     "exception": null,
     "start_time": null,
     "status": "pending"
    },
    "tags": []
   },
   "source": [
    "<a class=\"anchor\" id=\"summary\"></a>\n",
    "## Summary"
   ]
  },
  {
   "cell_type": "markdown",
   "id": "ec01755a",
   "metadata": {
    "papermill": {
     "duration": null,
     "end_time": null,
     "exception": null,
     "start_time": null,
     "status": "pending"
    },
    "tags": []
   },
   "source": [
    "|Character|Meaning|\n",
    "|:--|:--|\n",
    "|`r`|open for reading (default)|\n",
    "|`w`|open for writing, truncating the file first|\n",
    "|`x`|create a new file and open it for writing|\n",
    "|`a`|open for writing, appending to the end of the file if it exists|\n",
    "|`b`|binary mode|\n",
    "|`t`|text mode (default)|\n",
    "|`+`|open a disk file for updating (reading and writing)|\n",
    "|`U`|universal newline mode (deprecated)|"
   ]
  }
 ],
 "metadata": {
  "kernelspec": {
   "display_name": "Python 3",
   "language": "python",
   "name": "python3"
  },
  "language_info": {
   "codemirror_mode": {
    "name": "ipython",
    "version": 3
   },
   "file_extension": ".py",
   "mimetype": "text/x-python",
   "name": "python",
   "nbconvert_exporter": "python",
   "pygments_lexer": "ipython3",
   "version": "3.10.12"
  },
  "papermill": {
   "default_parameters": {},
   "duration": 7.188799,
   "end_time": "2023-10-15T12:15:59.387118",
   "environment_variables": {},
   "exception": true,
   "input_path": "__notebook__.ipynb",
   "output_path": "__notebook__.ipynb",
   "parameters": {},
   "start_time": "2023-10-15T12:15:52.198319",
   "version": "2.4.0"
  }
 },
 "nbformat": 4,
 "nbformat_minor": 5
}
