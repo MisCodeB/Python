{
 "cells": [
  {
   "cell_type": "markdown",
   "id": "a4bf0100",
   "metadata": {
    "papermill": {
     "duration": 0.067338,
     "end_time": "2023-10-15T12:07:59.286526",
     "exception": false,
     "start_time": "2023-10-15T12:07:59.219188",
     "status": "completed"
    },
    "tags": []
   },
   "source": []
  },
  {
   "cell_type": "markdown",
   "id": "1fd07407",
   "metadata": {
    "papermill": {
     "duration": 0.065275,
     "end_time": "2023-10-15T12:07:59.418881",
     "exception": false,
     "start_time": "2023-10-15T12:07:59.353606",
     "status": "completed"
    },
    "tags": []
   },
   "source": [
    "#  Data Types Methods \n"
   ]
  },
  {
   "cell_type": "markdown",
   "id": "f559ddea",
   "metadata": {
    "papermill": {
     "duration": 0.063825,
     "end_time": "2023-10-15T12:07:59.546423",
     "exception": false,
     "start_time": "2023-10-15T12:07:59.482598",
     "status": "completed"
    },
    "tags": []
   },
   "source": [
    "##  Table of Contents \n",
    "* [`int`, `float`, and `complex`](#`int`,_`float`,_and_`complex`)\n",
    "* [Built-in String Methods](#built-in_string_methods)\n",
    "    * [Case Conversion](#case_conversion)\n",
    "    * [Find and Replace](#find_and_replace)\n",
    "    * [Character Classification](#character_classification)\n",
    "    * [String Formatting](#string_formatting)\n",
    "    * [Converting Between Strings and Lists](#converting_between_strings_and_lists)\n",
    "* [List Methods](#list_methods)\n",
    "    * [Methods That Modify a List](#methods_that_modify_a_list)\n",
    "* [`tuple` Methods](#`tuple`_methods)\n",
    "* [Dictionary Methods](#dictionary_methods)\n",
    "* [Set Operators and Methods](#set_operators_and_methods)\n",
    "    * [Modifying a Set](#modifying_a_set)\n",
    "        * [Augmented Assignment Operators and Methods](#augmented_assignment_operators_and_methods)\n",
    "    * [Other Methods For Modifying Sets](#other_methods_for_modifying_sets)\n",
    "\n",
    "---"
   ]
  },
  {
   "cell_type": "markdown",
   "id": "10df355c",
   "metadata": {
    "papermill": {
     "duration": 0.064413,
     "end_time": "2023-10-15T12:07:59.674417",
     "exception": false,
     "start_time": "2023-10-15T12:07:59.610004",
     "status": "completed"
    },
    "tags": []
   },
   "source": [
    "You learned in the tutorial on Variables in Python that Python is a highly object-oriented language. Every item of data in a Python program is an object."
   ]
  },
  {
   "cell_type": "markdown",
   "id": "0ffb6e2d",
   "metadata": {
    "papermill": {
     "duration": 0.063338,
     "end_time": "2023-10-15T12:07:59.801959",
     "exception": false,
     "start_time": "2023-10-15T12:07:59.738621",
     "status": "completed"
    },
    "tags": []
   },
   "source": [
    "You are also familiar with functions: callable procedures that you can invoke to perform specific tasks."
   ]
  },
  {
   "cell_type": "markdown",
   "id": "cb08349b",
   "metadata": {
    "papermill": {
     "duration": 0.063796,
     "end_time": "2023-10-15T12:07:59.929627",
     "exception": false,
     "start_time": "2023-10-15T12:07:59.865831",
     "status": "completed"
    },
    "tags": []
   },
   "source": [
    "As we discussed in previous sections, methods are similar to functions. A method is a specialized type of callable procedure that is tightly associated with an object. Like a function, a method is called to perform a distinct task, but it is invoked on a specific object and has knowledge of its target object during execution."
   ]
  },
  {
   "cell_type": "markdown",
   "id": "9d235f56",
   "metadata": {
    "papermill": {
     "duration": 0.064152,
     "end_time": "2023-10-15T12:08:00.058561",
     "exception": false,
     "start_time": "2023-10-15T12:07:59.994409",
     "status": "completed"
    },
    "tags": []
   },
   "source": [
    "The syntax for invoking a method on an object is as follows:\n",
    "\n",
    "```python\n",
    "obj.foo(<args>)\n",
    "```"
   ]
  },
  {
   "cell_type": "markdown",
   "id": "266aa312",
   "metadata": {
    "papermill": {
     "duration": 0.064793,
     "end_time": "2023-10-15T12:08:00.187715",
     "exception": false,
     "start_time": "2023-10-15T12:08:00.122922",
     "status": "completed"
    },
    "tags": []
   },
   "source": [
    "This invokes method `.foo()` on object `obj`. `<args>` specifies the arguments passed to the method (if any)."
   ]
  },
  {
   "cell_type": "markdown",
   "id": "7c3b2d10",
   "metadata": {
    "papermill": {
     "duration": 0.063315,
     "end_time": "2023-10-15T12:08:00.315586",
     "exception": false,
     "start_time": "2023-10-15T12:08:00.252271",
     "status": "completed"
    },
    "tags": []
   },
   "source": [
    "now, the goal is to present some of the more commonly used built-in methods Python supports for operating on data types covered so far."
   ]
  },
  {
   "cell_type": "markdown",
   "id": "11740cb9",
   "metadata": {
    "papermill": {
     "duration": 0.063953,
     "end_time": "2023-10-15T12:08:00.446906",
     "exception": false,
     "start_time": "2023-10-15T12:08:00.382953",
     "status": "completed"
    },
    "tags": []
   },
   "source": [
    "In the following method definitions, arguments specified in square brackets (`[]`) are optional."
   ]
  },
  {
   "cell_type": "markdown",
   "id": "3c8ca2d5",
   "metadata": {
    "papermill": {
     "duration": 0.060918,
     "end_time": "2023-10-15T12:08:00.570233",
     "exception": false,
     "start_time": "2023-10-15T12:08:00.509315",
     "status": "completed"
    },
    "tags": []
   },
   "source": [
    "<a class=\"anchor\" id=\"`int`,_`float`,_and_`complex`\"></a>\n",
    "## `int`, `float`, and `complex`"
   ]
  },
  {
   "cell_type": "markdown",
   "id": "8c8ece82",
   "metadata": {
    "papermill": {
     "duration": 0.063607,
     "end_time": "2023-10-15T12:08:00.694961",
     "exception": false,
     "start_time": "2023-10-15T12:08:00.631354",
     "status": "completed"
    },
    "tags": []
   },
   "source": [
    "Integer, float and complex numbers have a few handy methods. Some of them are mentioned below:"
   ]
  },
  {
   "cell_type": "markdown",
   "id": "9dbd840a",
   "metadata": {
    "papermill": {
     "duration": 0.061788,
     "end_time": "2023-10-15T12:08:00.818736",
     "exception": false,
     "start_time": "2023-10-15T12:08:00.756948",
     "status": "completed"
    },
    "tags": []
   },
   "source": [
    "`is_integer()` checks if a float number is actually an integer."
   ]
  },
  {
   "cell_type": "code",
   "execution_count": 1,
   "id": "adf14b8d",
   "metadata": {
    "execution": {
     "iopub.execute_input": "2023-10-15T12:08:00.946275Z",
     "iopub.status.busy": "2023-10-15T12:08:00.945607Z",
     "iopub.status.idle": "2023-10-15T12:08:01.212636Z",
     "shell.execute_reply": "2023-10-15T12:08:01.210805Z"
    },
    "papermill": {
     "duration": 0.333477,
     "end_time": "2023-10-15T12:08:01.214754",
     "exception": true,
     "start_time": "2023-10-15T12:08:00.881277",
     "status": "failed"
    },
    "tags": []
   },
   "outputs": [
    {
     "ename": "NameError",
     "evalue": "name 'float_num' is not defined",
     "output_type": "error",
     "traceback": [
      "\u001b[0;31m---------------------------------------------------------------------------\u001b[0m",
      "\u001b[0;31mNameError\u001b[0m                                 Traceback (most recent call last)",
      "Cell \u001b[0;32mIn[1], line 1\u001b[0m\n\u001b[0;32m----> 1\u001b[0m \u001b[43mfloat_num\u001b[49m\u001b[38;5;241m.\u001b[39mis_integer()\n",
      "\u001b[0;31mNameError\u001b[0m: name 'float_num' is not defined"
     ]
    }
   ],
   "source": [
    "float_num.is_integer()"
   ]
  },
  {
   "cell_type": "markdown",
   "id": "b87e58d3",
   "metadata": {
    "papermill": {
     "duration": null,
     "end_time": null,
     "exception": null,
     "start_time": null,
     "status": "pending"
    },
    "tags": []
   },
   "source": [
    "Complex numbers can be conjugated."
   ]
  },
  {
   "cell_type": "code",
   "execution_count": null,
   "id": "01514b39",
   "metadata": {
    "papermill": {
     "duration": null,
     "end_time": null,
     "exception": null,
     "start_time": null,
     "status": "pending"
    },
    "tags": []
   },
   "outputs": [],
   "source": [
    "complex_num = 1 + 3j"
   ]
  },
  {
   "cell_type": "code",
   "execution_count": null,
   "id": "c1c66be1",
   "metadata": {
    "papermill": {
     "duration": null,
     "end_time": null,
     "exception": null,
     "start_time": null,
     "status": "pending"
    },
    "tags": []
   },
   "outputs": [],
   "source": [
    "complex_num.conjugate()"
   ]
  },
  {
   "cell_type": "markdown",
   "id": "d3159136",
   "metadata": {
    "papermill": {
     "duration": null,
     "end_time": null,
     "exception": null,
     "start_time": null,
     "status": "pending"
    },
    "tags": []
   },
   "source": [
    "You can also get the real and imaginary parts:"
   ]
  },
  {
   "cell_type": "code",
   "execution_count": null,
   "id": "2ba51992",
   "metadata": {
    "papermill": {
     "duration": null,
     "end_time": null,
     "exception": null,
     "start_time": null,
     "status": "pending"
    },
    "tags": []
   },
   "outputs": [],
   "source": [
    "complex_num.real, complex_num.imag"
   ]
  },
  {
   "cell_type": "markdown",
   "id": "2e6f863d",
   "metadata": {
    "papermill": {
     "duration": null,
     "end_time": null,
     "exception": null,
     "start_time": null,
     "status": "pending"
    },
    "tags": []
   },
   "source": [
    "<a class=\"anchor\" id=\"built-in_string_methods\"></a>\n",
    "## Built-in String Methods"
   ]
  },
  {
   "cell_type": "markdown",
   "id": "dcbad0fc",
   "metadata": {
    "papermill": {
     "duration": null,
     "end_time": null,
     "exception": null,
     "start_time": null,
     "status": "pending"
    },
    "tags": []
   },
   "source": [
    "<a class=\"anchor\" id=\"case_conversion\"></a>\n",
    "### Case Conversion"
   ]
  },
  {
   "cell_type": "markdown",
   "id": "669f0934",
   "metadata": {
    "papermill": {
     "duration": null,
     "end_time": null,
     "exception": null,
     "start_time": null,
     "status": "pending"
    },
    "tags": []
   },
   "source": [
    "Methods in this group perform case conversion on the target string."
   ]
  },
  {
   "cell_type": "markdown",
   "id": "0fddf10f",
   "metadata": {
    "papermill": {
     "duration": null,
     "end_time": null,
     "exception": null,
     "start_time": null,
     "status": "pending"
    },
    "tags": []
   },
   "source": [
    "> `s.capitalize()`\n",
    "> \n",
    "> Capitalizes the target string."
   ]
  },
  {
   "cell_type": "markdown",
   "id": "18c74e93",
   "metadata": {
    "papermill": {
     "duration": null,
     "end_time": null,
     "exception": null,
     "start_time": null,
     "status": "pending"
    },
    "tags": []
   },
   "source": [
    "`s.capitalize()` returns a copy of s with the first character converted to uppercase and all other characters converted to lowercase:"
   ]
  },
  {
   "cell_type": "code",
   "execution_count": null,
   "id": "60eaff0d",
   "metadata": {
    "papermill": {
     "duration": null,
     "end_time": null,
     "exception": null,
     "start_time": null,
     "status": "pending"
    },
    "tags": []
   },
   "outputs": [],
   "source": [
    "s = 'foO BaR BAZ quX'\n",
    "s.capitalize()"
   ]
  },
  {
   "cell_type": "markdown",
   "id": "76cd6b6b",
   "metadata": {
    "papermill": {
     "duration": null,
     "end_time": null,
     "exception": null,
     "start_time": null,
     "status": "pending"
    },
    "tags": []
   },
   "source": [
    "Non-alphabetic characters are unchanged:"
   ]
  },
  {
   "cell_type": "code",
   "execution_count": null,
   "id": "1f579412",
   "metadata": {
    "papermill": {
     "duration": null,
     "end_time": null,
     "exception": null,
     "start_time": null,
     "status": "pending"
    },
    "tags": []
   },
   "outputs": [],
   "source": [
    "s = 'foo123#BAR#.'\n",
    "s.capitalize()"
   ]
  },
  {
   "cell_type": "markdown",
   "id": "fd835272",
   "metadata": {
    "papermill": {
     "duration": null,
     "end_time": null,
     "exception": null,
     "start_time": null,
     "status": "pending"
    },
    "tags": []
   },
   "source": [
    "> `s.lower()`\n",
    "> \n",
    "> Converts alphabetic characters to lowercase."
   ]
  },
  {
   "cell_type": "markdown",
   "id": "b8637851",
   "metadata": {
    "papermill": {
     "duration": null,
     "end_time": null,
     "exception": null,
     "start_time": null,
     "status": "pending"
    },
    "tags": []
   },
   "source": [
    "`s.lower()` returns a copy of s with all alphabetic characters converted to lowercase:"
   ]
  },
  {
   "cell_type": "code",
   "execution_count": null,
   "id": "c8b5985c",
   "metadata": {
    "papermill": {
     "duration": null,
     "end_time": null,
     "exception": null,
     "start_time": null,
     "status": "pending"
    },
    "tags": []
   },
   "outputs": [],
   "source": [
    "'FOO Bar 123 baz qUX'.lower()"
   ]
  },
  {
   "cell_type": "markdown",
   "id": "e22d43d9",
   "metadata": {
    "papermill": {
     "duration": null,
     "end_time": null,
     "exception": null,
     "start_time": null,
     "status": "pending"
    },
    "tags": []
   },
   "source": [
    "> `s.swapcase()`\n",
    "> \n",
    "> Swaps case of alphabetic characters."
   ]
  },
  {
   "cell_type": "markdown",
   "id": "a0da9d4b",
   "metadata": {
    "papermill": {
     "duration": null,
     "end_time": null,
     "exception": null,
     "start_time": null,
     "status": "pending"
    },
    "tags": []
   },
   "source": [
    "`s.swapcase()` returns a copy of `s` with uppercase alphabetic characters converted to lowercase and vice versa:"
   ]
  },
  {
   "cell_type": "code",
   "execution_count": null,
   "id": "5c1b0617",
   "metadata": {
    "papermill": {
     "duration": null,
     "end_time": null,
     "exception": null,
     "start_time": null,
     "status": "pending"
    },
    "tags": []
   },
   "outputs": [],
   "source": [
    "'FOO Bar 123 baz qUX'.swapcase()"
   ]
  },
  {
   "cell_type": "markdown",
   "id": "ce47be65",
   "metadata": {
    "papermill": {
     "duration": null,
     "end_time": null,
     "exception": null,
     "start_time": null,
     "status": "pending"
    },
    "tags": []
   },
   "source": [
    "> `s.title()`\n",
    "> \n",
    "> Converts the target string to “title case.”"
   ]
  },
  {
   "cell_type": "markdown",
   "id": "bfc1e818",
   "metadata": {
    "papermill": {
     "duration": null,
     "end_time": null,
     "exception": null,
     "start_time": null,
     "status": "pending"
    },
    "tags": []
   },
   "source": [
    "`s.title()` returns a copy of `s` in which the first letter of each word is converted to uppercase and remaining letters are lowercase:"
   ]
  },
  {
   "cell_type": "code",
   "execution_count": null,
   "id": "76771b70",
   "metadata": {
    "papermill": {
     "duration": null,
     "end_time": null,
     "exception": null,
     "start_time": null,
     "status": "pending"
    },
    "tags": []
   },
   "outputs": [],
   "source": [
    "'the sun also rises'.title()"
   ]
  },
  {
   "cell_type": "markdown",
   "id": "9c3153bc",
   "metadata": {
    "papermill": {
     "duration": null,
     "end_time": null,
     "exception": null,
     "start_time": null,
     "status": "pending"
    },
    "tags": []
   },
   "source": [
    "This method uses a fairly simple algorithm. It does not attempt to distinguish between important and unimportant words, and it does not handle apostrophes, possessives, or acronyms gracefully:"
   ]
  },
  {
   "cell_type": "code",
   "execution_count": null,
   "id": "c50fbed2",
   "metadata": {
    "papermill": {
     "duration": null,
     "end_time": null,
     "exception": null,
     "start_time": null,
     "status": "pending"
    },
    "tags": []
   },
   "outputs": [],
   "source": [
    "\"what's happened to ted's IBM stock?\".title()"
   ]
  },
  {
   "cell_type": "markdown",
   "id": "06eda004",
   "metadata": {
    "papermill": {
     "duration": null,
     "end_time": null,
     "exception": null,
     "start_time": null,
     "status": "pending"
    },
    "tags": []
   },
   "source": [
    "> `s.upper()`\n",
    "> \n",
    "> Converts alphabetic characters to uppercase."
   ]
  },
  {
   "cell_type": "markdown",
   "id": "2c70a108",
   "metadata": {
    "papermill": {
     "duration": null,
     "end_time": null,
     "exception": null,
     "start_time": null,
     "status": "pending"
    },
    "tags": []
   },
   "source": [
    "`s.upper()` returns a copy of s with all alphabetic characters converted to uppercase:"
   ]
  },
  {
   "cell_type": "code",
   "execution_count": null,
   "id": "d1e12646",
   "metadata": {
    "papermill": {
     "duration": null,
     "end_time": null,
     "exception": null,
     "start_time": null,
     "status": "pending"
    },
    "tags": []
   },
   "outputs": [],
   "source": [
    "'FOO Bar 123 baz qUX'.upper()"
   ]
  },
  {
   "cell_type": "markdown",
   "id": "b53db5a7",
   "metadata": {
    "papermill": {
     "duration": null,
     "end_time": null,
     "exception": null,
     "start_time": null,
     "status": "pending"
    },
    "tags": []
   },
   "source": [
    "<a class=\"anchor\" id=\"find_and_replace\"></a>\n",
    "### Find and Replace"
   ]
  },
  {
   "cell_type": "markdown",
   "id": "f8e850c6",
   "metadata": {
    "papermill": {
     "duration": null,
     "end_time": null,
     "exception": null,
     "start_time": null,
     "status": "pending"
    },
    "tags": []
   },
   "source": [
    "These methods provide various means of searching the target string for a specified substring."
   ]
  },
  {
   "cell_type": "markdown",
   "id": "9613c06b",
   "metadata": {
    "papermill": {
     "duration": null,
     "end_time": null,
     "exception": null,
     "start_time": null,
     "status": "pending"
    },
    "tags": []
   },
   "source": [
    "Each method in this group supports optional `<start>` and `<end>` arguments. These are interpreted as for string slicing: the action of the method is restricted to the portion of the target string starting at character position `<start>` and proceeding up to but not including character position `<end>`. If `<start>` is specified but `<end>` is not, the method applies to the portion of the target string from `<start>` through the end of the string."
   ]
  },
  {
   "cell_type": "markdown",
   "id": "32acb3fd",
   "metadata": {
    "papermill": {
     "duration": null,
     "end_time": null,
     "exception": null,
     "start_time": null,
     "status": "pending"
    },
    "tags": []
   },
   "source": [
    "> `s.count(<sub>[, <start>[, <end>]])`\n",
    "> \n",
    "> Counts occurrences of a substring in the target string."
   ]
  },
  {
   "cell_type": "markdown",
   "id": "568885bd",
   "metadata": {
    "papermill": {
     "duration": null,
     "end_time": null,
     "exception": null,
     "start_time": null,
     "status": "pending"
    },
    "tags": []
   },
   "source": [
    "`s.count(<sub>)` returns the number of non-overlapping occurrences of substring `<sub>` in `s`:"
   ]
  },
  {
   "cell_type": "code",
   "execution_count": null,
   "id": "89c85ca9",
   "metadata": {
    "papermill": {
     "duration": null,
     "end_time": null,
     "exception": null,
     "start_time": null,
     "status": "pending"
    },
    "tags": []
   },
   "outputs": [],
   "source": [
    "'foo goo moo'.count('oo')"
   ]
  },
  {
   "cell_type": "markdown",
   "id": "1676cf06",
   "metadata": {
    "papermill": {
     "duration": null,
     "end_time": null,
     "exception": null,
     "start_time": null,
     "status": "pending"
    },
    "tags": []
   },
   "source": [
    "The count is restricted to the number of occurrences within the substring indicated by `<start>` and `<end>`, if they are specified:"
   ]
  },
  {
   "cell_type": "code",
   "execution_count": null,
   "id": "0eaebcd9",
   "metadata": {
    "papermill": {
     "duration": null,
     "end_time": null,
     "exception": null,
     "start_time": null,
     "status": "pending"
    },
    "tags": []
   },
   "outputs": [],
   "source": [
    "'foo goo moo'.count('oo', 0, 8)"
   ]
  },
  {
   "cell_type": "markdown",
   "id": "17aa0e79",
   "metadata": {
    "papermill": {
     "duration": null,
     "end_time": null,
     "exception": null,
     "start_time": null,
     "status": "pending"
    },
    "tags": []
   },
   "source": [
    "> `s.endswith(<suffix>[, <start>[, <end>]])`\n",
    "> \n",
    "> Determines whether the target string ends with a given substring."
   ]
  },
  {
   "cell_type": "markdown",
   "id": "0866f561",
   "metadata": {
    "papermill": {
     "duration": null,
     "end_time": null,
     "exception": null,
     "start_time": null,
     "status": "pending"
    },
    "tags": []
   },
   "source": [
    "`s.endswith(<suffix>)` returns `True` if `s` ends with the specified `<suffix>` and `False` otherwise:"
   ]
  },
  {
   "cell_type": "code",
   "execution_count": null,
   "id": "ea11a34c",
   "metadata": {
    "papermill": {
     "duration": null,
     "end_time": null,
     "exception": null,
     "start_time": null,
     "status": "pending"
    },
    "tags": []
   },
   "outputs": [],
   "source": [
    "'foobar'.endswith('bar')"
   ]
  },
  {
   "cell_type": "code",
   "execution_count": null,
   "id": "43661597",
   "metadata": {
    "papermill": {
     "duration": null,
     "end_time": null,
     "exception": null,
     "start_time": null,
     "status": "pending"
    },
    "tags": []
   },
   "outputs": [],
   "source": [
    "'foobar'.endswith('baz')"
   ]
  },
  {
   "cell_type": "markdown",
   "id": "9e6dd8f7",
   "metadata": {
    "papermill": {
     "duration": null,
     "end_time": null,
     "exception": null,
     "start_time": null,
     "status": "pending"
    },
    "tags": []
   },
   "source": [
    "The comparison is restricted to the substring indicated by <start> and <end>, if they are specified:"
   ]
  },
  {
   "cell_type": "code",
   "execution_count": null,
   "id": "9a1d24b7",
   "metadata": {
    "papermill": {
     "duration": null,
     "end_time": null,
     "exception": null,
     "start_time": null,
     "status": "pending"
    },
    "tags": []
   },
   "outputs": [],
   "source": [
    "'foobar'.endswith('oob', 0, 4)"
   ]
  },
  {
   "cell_type": "code",
   "execution_count": null,
   "id": "a82c5a7b",
   "metadata": {
    "papermill": {
     "duration": null,
     "end_time": null,
     "exception": null,
     "start_time": null,
     "status": "pending"
    },
    "tags": []
   },
   "outputs": [],
   "source": [
    "'foobar'.endswith('oob', 2, 4)"
   ]
  },
  {
   "cell_type": "markdown",
   "id": "c08555bf",
   "metadata": {
    "papermill": {
     "duration": null,
     "end_time": null,
     "exception": null,
     "start_time": null,
     "status": "pending"
    },
    "tags": []
   },
   "source": [
    "> `s.find(<sub>[, <start>[, <end>]])`\n",
    "> \n",
    "> Searches the target string for a given substring."
   ]
  },
  {
   "cell_type": "markdown",
   "id": "c98e0fbc",
   "metadata": {
    "papermill": {
     "duration": null,
     "end_time": null,
     "exception": null,
     "start_time": null,
     "status": "pending"
    },
    "tags": []
   },
   "source": [
    "You can use `.find()` to see if a Python string contains a particular substring. `s.find(<sub>)` returns the lowest index in `s` where substring `<sub>` is found:"
   ]
  },
  {
   "cell_type": "code",
   "execution_count": null,
   "id": "eeff257b",
   "metadata": {
    "papermill": {
     "duration": null,
     "end_time": null,
     "exception": null,
     "start_time": null,
     "status": "pending"
    },
    "tags": []
   },
   "outputs": [],
   "source": [
    "'foo bar foo baz foo qux'.find('foo')"
   ]
  },
  {
   "cell_type": "markdown",
   "id": "84ac7cab",
   "metadata": {
    "papermill": {
     "duration": null,
     "end_time": null,
     "exception": null,
     "start_time": null,
     "status": "pending"
    },
    "tags": []
   },
   "source": [
    "This method returns `-1` if the specified substring is not found:"
   ]
  },
  {
   "cell_type": "code",
   "execution_count": null,
   "id": "ef96c367",
   "metadata": {
    "papermill": {
     "duration": null,
     "end_time": null,
     "exception": null,
     "start_time": null,
     "status": "pending"
    },
    "tags": []
   },
   "outputs": [],
   "source": [
    "'foo bar foo baz foo qux'.find('grault')"
   ]
  },
  {
   "cell_type": "markdown",
   "id": "b9c3b511",
   "metadata": {
    "papermill": {
     "duration": null,
     "end_time": null,
     "exception": null,
     "start_time": null,
     "status": "pending"
    },
    "tags": []
   },
   "source": [
    "The search is restricted to the substring indicated by `<start>` and `<end>`, if they are specified:"
   ]
  },
  {
   "cell_type": "code",
   "execution_count": null,
   "id": "a71c7b21",
   "metadata": {
    "papermill": {
     "duration": null,
     "end_time": null,
     "exception": null,
     "start_time": null,
     "status": "pending"
    },
    "tags": []
   },
   "outputs": [],
   "source": [
    "'foo bar foo baz foo qux'.find('foo', 4)"
   ]
  },
  {
   "cell_type": "code",
   "execution_count": null,
   "id": "27fe4152",
   "metadata": {
    "papermill": {
     "duration": null,
     "end_time": null,
     "exception": null,
     "start_time": null,
     "status": "pending"
    },
    "tags": []
   },
   "outputs": [],
   "source": [
    "'foo bar foo baz foo qux'.find('foo', 4, 7)"
   ]
  },
  {
   "cell_type": "markdown",
   "id": "1844794c",
   "metadata": {
    "papermill": {
     "duration": null,
     "end_time": null,
     "exception": null,
     "start_time": null,
     "status": "pending"
    },
    "tags": []
   },
   "source": [
    "> `s.index(<sub>[, <start>[, <end>]])`\n",
    "> \n",
    "> Searches the target string for a given substring."
   ]
  },
  {
   "cell_type": "markdown",
   "id": "aba00378",
   "metadata": {
    "papermill": {
     "duration": null,
     "end_time": null,
     "exception": null,
     "start_time": null,
     "status": "pending"
    },
    "tags": []
   },
   "source": [
    "This method is identical to `.find()`, except that it raises an exception if `<sub>` is not found rather than returning `-1`:"
   ]
  },
  {
   "cell_type": "code",
   "execution_count": null,
   "id": "e834687d",
   "metadata": {
    "papermill": {
     "duration": null,
     "end_time": null,
     "exception": null,
     "start_time": null,
     "status": "pending"
    },
    "tags": []
   },
   "outputs": [],
   "source": [
    "'foo bar foo baz foo qux'.index('grault')"
   ]
  },
  {
   "cell_type": "markdown",
   "id": "e601796d",
   "metadata": {
    "papermill": {
     "duration": null,
     "end_time": null,
     "exception": null,
     "start_time": null,
     "status": "pending"
    },
    "tags": []
   },
   "source": [
    "> `s.rfind(<sub>[, <start>[, <end>]])`\n",
    "> \n",
    "> Searches the target string for a given substring starting at the end."
   ]
  },
  {
   "cell_type": "markdown",
   "id": "599c1009",
   "metadata": {
    "papermill": {
     "duration": null,
     "end_time": null,
     "exception": null,
     "start_time": null,
     "status": "pending"
    },
    "tags": []
   },
   "source": [
    "`s.rfind(<sub>)` returns the highest index in `s` where substring `<sub>` is found:"
   ]
  },
  {
   "cell_type": "code",
   "execution_count": null,
   "id": "7260981a",
   "metadata": {
    "papermill": {
     "duration": null,
     "end_time": null,
     "exception": null,
     "start_time": null,
     "status": "pending"
    },
    "tags": []
   },
   "outputs": [],
   "source": [
    "'foo bar foo baz foo qux'.rfind('foo')"
   ]
  },
  {
   "cell_type": "markdown",
   "id": "1191f5de",
   "metadata": {
    "papermill": {
     "duration": null,
     "end_time": null,
     "exception": null,
     "start_time": null,
     "status": "pending"
    },
    "tags": []
   },
   "source": [
    "As with `.find()`, if the substring is not found, `-1` is returned:"
   ]
  },
  {
   "cell_type": "code",
   "execution_count": null,
   "id": "8c4e863e",
   "metadata": {
    "papermill": {
     "duration": null,
     "end_time": null,
     "exception": null,
     "start_time": null,
     "status": "pending"
    },
    "tags": []
   },
   "outputs": [],
   "source": [
    "'foo bar foo baz foo qux'.rfind('grault')"
   ]
  },
  {
   "cell_type": "markdown",
   "id": "800e678e",
   "metadata": {
    "papermill": {
     "duration": null,
     "end_time": null,
     "exception": null,
     "start_time": null,
     "status": "pending"
    },
    "tags": []
   },
   "source": [
    "The search is restricted to the substring indicated by `<start>` and `<end>`, if they are specified:"
   ]
  },
  {
   "cell_type": "code",
   "execution_count": null,
   "id": "5b1200a6",
   "metadata": {
    "papermill": {
     "duration": null,
     "end_time": null,
     "exception": null,
     "start_time": null,
     "status": "pending"
    },
    "tags": []
   },
   "outputs": [],
   "source": [
    "'foo bar foo baz foo qux'.rfind('foo', 0, 14)"
   ]
  },
  {
   "cell_type": "code",
   "execution_count": null,
   "id": "0b7c14cb",
   "metadata": {
    "papermill": {
     "duration": null,
     "end_time": null,
     "exception": null,
     "start_time": null,
     "status": "pending"
    },
    "tags": []
   },
   "outputs": [],
   "source": [
    "'foo bar foo baz foo qux'.rfind('foo', 10, 14)"
   ]
  },
  {
   "cell_type": "markdown",
   "id": "beb5472e",
   "metadata": {
    "papermill": {
     "duration": null,
     "end_time": null,
     "exception": null,
     "start_time": null,
     "status": "pending"
    },
    "tags": []
   },
   "source": [
    "> `s.rindex(<sub>[, <start>[, <end>]])`\n",
    "> \n",
    "> Searches the target string for a given substring starting at the end."
   ]
  },
  {
   "cell_type": "markdown",
   "id": "47845342",
   "metadata": {
    "papermill": {
     "duration": null,
     "end_time": null,
     "exception": null,
     "start_time": null,
     "status": "pending"
    },
    "tags": []
   },
   "source": [
    "This method is identical to `.rfind()`, except that it raises an exception if `<sub>` is not found rather than returning `-1`:"
   ]
  },
  {
   "cell_type": "code",
   "execution_count": null,
   "id": "11637cc9",
   "metadata": {
    "papermill": {
     "duration": null,
     "end_time": null,
     "exception": null,
     "start_time": null,
     "status": "pending"
    },
    "tags": []
   },
   "outputs": [],
   "source": [
    "'foo bar foo baz foo qux'.rindex('grault')"
   ]
  },
  {
   "cell_type": "markdown",
   "id": "a8049085",
   "metadata": {
    "papermill": {
     "duration": null,
     "end_time": null,
     "exception": null,
     "start_time": null,
     "status": "pending"
    },
    "tags": []
   },
   "source": [
    "> `s.startswith(<prefix>[, <start>[, <end>]])`\n",
    "> \n",
    "> Determines whether the target string starts with a given substring."
   ]
  },
  {
   "cell_type": "markdown",
   "id": "b71ff43e",
   "metadata": {
    "papermill": {
     "duration": null,
     "end_time": null,
     "exception": null,
     "start_time": null,
     "status": "pending"
    },
    "tags": []
   },
   "source": [
    "When you use the Python `.startswith()` method, `s.startswith(<suffix>)` returns `True` if `s` starts with the specified `<suffix>` and `False` otherwise:"
   ]
  },
  {
   "cell_type": "code",
   "execution_count": null,
   "id": "182dce7c",
   "metadata": {
    "papermill": {
     "duration": null,
     "end_time": null,
     "exception": null,
     "start_time": null,
     "status": "pending"
    },
    "tags": []
   },
   "outputs": [],
   "source": [
    "'foobar'.startswith('foo')"
   ]
  },
  {
   "cell_type": "code",
   "execution_count": null,
   "id": "705feff5",
   "metadata": {
    "papermill": {
     "duration": null,
     "end_time": null,
     "exception": null,
     "start_time": null,
     "status": "pending"
    },
    "tags": []
   },
   "outputs": [],
   "source": [
    "'foobar'.startswith('bar')"
   ]
  },
  {
   "cell_type": "markdown",
   "id": "eaefa2c1",
   "metadata": {
    "papermill": {
     "duration": null,
     "end_time": null,
     "exception": null,
     "start_time": null,
     "status": "pending"
    },
    "tags": []
   },
   "source": [
    "The comparison is restricted to the substring indicated by `<start>` and `<end>`, if they are specified:"
   ]
  },
  {
   "cell_type": "code",
   "execution_count": null,
   "id": "25ed6778",
   "metadata": {
    "papermill": {
     "duration": null,
     "end_time": null,
     "exception": null,
     "start_time": null,
     "status": "pending"
    },
    "tags": []
   },
   "outputs": [],
   "source": [
    "'foobar'.startswith('bar', 3)"
   ]
  },
  {
   "cell_type": "code",
   "execution_count": null,
   "id": "3d2210c7",
   "metadata": {
    "papermill": {
     "duration": null,
     "end_time": null,
     "exception": null,
     "start_time": null,
     "status": "pending"
    },
    "tags": []
   },
   "outputs": [],
   "source": [
    "'foobar'.startswith('bar', 3, 2)"
   ]
  },
  {
   "cell_type": "markdown",
   "id": "f6277f4e",
   "metadata": {
    "papermill": {
     "duration": null,
     "end_time": null,
     "exception": null,
     "start_time": null,
     "status": "pending"
    },
    "tags": []
   },
   "source": [
    "<a class=\"anchor\" id=\"character_classification\"></a>\n",
    "### Character Classification"
   ]
  },
  {
   "cell_type": "markdown",
   "id": "3c5b425c",
   "metadata": {
    "papermill": {
     "duration": null,
     "end_time": null,
     "exception": null,
     "start_time": null,
     "status": "pending"
    },
    "tags": []
   },
   "source": [
    "Methods in this group classify a string based on the characters it contains."
   ]
  },
  {
   "cell_type": "markdown",
   "id": "c9f50c38",
   "metadata": {
    "papermill": {
     "duration": null,
     "end_time": null,
     "exception": null,
     "start_time": null,
     "status": "pending"
    },
    "tags": []
   },
   "source": [
    "> `s.isalnum()`\n",
    "> \n",
    "> Determines whether the target string consists of alphanumeric characters"
   ]
  },
  {
   "cell_type": "markdown",
   "id": "cfed6b2b",
   "metadata": {
    "papermill": {
     "duration": null,
     "end_time": null,
     "exception": null,
     "start_time": null,
     "status": "pending"
    },
    "tags": []
   },
   "source": [
    "`s.isalnum()` returns `True` if `s` is nonempty and all its characters are alphanumeric (either a letter or a number), and `False` otherwise:"
   ]
  },
  {
   "cell_type": "code",
   "execution_count": null,
   "id": "6c702748",
   "metadata": {
    "papermill": {
     "duration": null,
     "end_time": null,
     "exception": null,
     "start_time": null,
     "status": "pending"
    },
    "tags": []
   },
   "outputs": [],
   "source": [
    "'abc123'.isalnum()"
   ]
  },
  {
   "cell_type": "code",
   "execution_count": null,
   "id": "0646197b",
   "metadata": {
    "papermill": {
     "duration": null,
     "end_time": null,
     "exception": null,
     "start_time": null,
     "status": "pending"
    },
    "tags": []
   },
   "outputs": [],
   "source": [
    "'abc$123'.isalnum()"
   ]
  },
  {
   "cell_type": "code",
   "execution_count": null,
   "id": "ae7aebd2",
   "metadata": {
    "papermill": {
     "duration": null,
     "end_time": null,
     "exception": null,
     "start_time": null,
     "status": "pending"
    },
    "tags": []
   },
   "outputs": [],
   "source": [
    "''.isalnum()"
   ]
  },
  {
   "cell_type": "markdown",
   "id": "7dfb15dc",
   "metadata": {
    "papermill": {
     "duration": null,
     "end_time": null,
     "exception": null,
     "start_time": null,
     "status": "pending"
    },
    "tags": []
   },
   "source": [
    "> `s.isalpha()`\n",
    "> \n",
    "> Determines whether the target string consists of alphabetic characters."
   ]
  },
  {
   "cell_type": "markdown",
   "id": "eb4dd8a7",
   "metadata": {
    "papermill": {
     "duration": null,
     "end_time": null,
     "exception": null,
     "start_time": null,
     "status": "pending"
    },
    "tags": []
   },
   "source": [
    "`s.isalpha()` returns `True` if `s` is nonempty and all its characters are alphabetic, and `False` otherwise:"
   ]
  },
  {
   "cell_type": "code",
   "execution_count": null,
   "id": "e3de401f",
   "metadata": {
    "papermill": {
     "duration": null,
     "end_time": null,
     "exception": null,
     "start_time": null,
     "status": "pending"
    },
    "tags": []
   },
   "outputs": [],
   "source": [
    "'ABCabc'.isalpha()"
   ]
  },
  {
   "cell_type": "code",
   "execution_count": null,
   "id": "7b87428a",
   "metadata": {
    "papermill": {
     "duration": null,
     "end_time": null,
     "exception": null,
     "start_time": null,
     "status": "pending"
    },
    "tags": []
   },
   "outputs": [],
   "source": [
    "'abc123'.isalpha()"
   ]
  },
  {
   "cell_type": "markdown",
   "id": "1d8ecac7",
   "metadata": {
    "papermill": {
     "duration": null,
     "end_time": null,
     "exception": null,
     "start_time": null,
     "status": "pending"
    },
    "tags": []
   },
   "source": [
    "> `s.isdigit()`\n",
    "> \n",
    "> Determines whether the target string consists of digit characters."
   ]
  },
  {
   "cell_type": "markdown",
   "id": "642b2c7b",
   "metadata": {
    "papermill": {
     "duration": null,
     "end_time": null,
     "exception": null,
     "start_time": null,
     "status": "pending"
    },
    "tags": []
   },
   "source": [
    "You can use the `.isdigit()` Python method to check if your string is made of only digits. `s.isdigit()` returns `True` if `s` is nonempty and all its characters are numeric digits, and `False` otherwise:"
   ]
  },
  {
   "cell_type": "code",
   "execution_count": null,
   "id": "65b50bdc",
   "metadata": {
    "papermill": {
     "duration": null,
     "end_time": null,
     "exception": null,
     "start_time": null,
     "status": "pending"
    },
    "tags": []
   },
   "outputs": [],
   "source": [
    "'123'.isdigit()"
   ]
  },
  {
   "cell_type": "code",
   "execution_count": null,
   "id": "7f493e98",
   "metadata": {
    "papermill": {
     "duration": null,
     "end_time": null,
     "exception": null,
     "start_time": null,
     "status": "pending"
    },
    "tags": []
   },
   "outputs": [],
   "source": [
    "'123abc'.isdigit()"
   ]
  },
  {
   "cell_type": "markdown",
   "id": "77359eb5",
   "metadata": {
    "papermill": {
     "duration": null,
     "end_time": null,
     "exception": null,
     "start_time": null,
     "status": "pending"
    },
    "tags": []
   },
   "source": [
    "> `s.isidentifier()`\n",
    "> \n",
    "> Determines whether the target string is a valid Python identifier."
   ]
  },
  {
   "cell_type": "markdown",
   "id": "bfce10a0",
   "metadata": {
    "papermill": {
     "duration": null,
     "end_time": null,
     "exception": null,
     "start_time": null,
     "status": "pending"
    },
    "tags": []
   },
   "source": [
    "`s.isidentifier()` returns `True` if `s` is a valid Python identifier according to the language definition, and `False` otherwise:"
   ]
  },
  {
   "cell_type": "code",
   "execution_count": null,
   "id": "38e6d618",
   "metadata": {
    "papermill": {
     "duration": null,
     "end_time": null,
     "exception": null,
     "start_time": null,
     "status": "pending"
    },
    "tags": []
   },
   "outputs": [],
   "source": [
    "'foo32'.isidentifier()"
   ]
  },
  {
   "cell_type": "code",
   "execution_count": null,
   "id": "9ad45c04",
   "metadata": {
    "papermill": {
     "duration": null,
     "end_time": null,
     "exception": null,
     "start_time": null,
     "status": "pending"
    },
    "tags": []
   },
   "outputs": [],
   "source": [
    "'32foo'.isidentifier()"
   ]
  },
  {
   "cell_type": "code",
   "execution_count": null,
   "id": "25308464",
   "metadata": {
    "papermill": {
     "duration": null,
     "end_time": null,
     "exception": null,
     "start_time": null,
     "status": "pending"
    },
    "tags": []
   },
   "outputs": [],
   "source": [
    "'foo$32'.isidentifier()"
   ]
  },
  {
   "cell_type": "markdown",
   "id": "38fa6584",
   "metadata": {
    "papermill": {
     "duration": null,
     "end_time": null,
     "exception": null,
     "start_time": null,
     "status": "pending"
    },
    "tags": []
   },
   "source": [
    "> **Note:** `.isidentifier()` will return `True` for a string that matches a Python keyword even though that would not actually be a valid identifier:\n",
    "> \n",
    "> ```python\n",
    "> >>> 'and'.isidentifier()\n",
    "> True\n",
    "> ```\n",
    "> You can test whether a string matches a Python keyword using a function called `iskeyword()`, which is contained in a module called `keyword`. One possible way to do this is shown below:\n",
    "> ```python\n",
    "> >>> from keyword import iskeyword\n",
    "> >>> iskeyword('and')\n",
    "> True\n",
    "> ```\n",
    "> If you really want to ensure that a string would serve as a valid Python identifier, you should check that `.isidentifier()` is `True` and that `iskeyword()` is `False`."
   ]
  },
  {
   "cell_type": "markdown",
   "id": "1a450952",
   "metadata": {
    "papermill": {
     "duration": null,
     "end_time": null,
     "exception": null,
     "start_time": null,
     "status": "pending"
    },
    "tags": []
   },
   "source": [
    "> `s.islower()`\n",
    "> \n",
    "> Determines whether the target string’s alphabetic characters are lowercase."
   ]
  },
  {
   "cell_type": "markdown",
   "id": "20392b6a",
   "metadata": {
    "papermill": {
     "duration": null,
     "end_time": null,
     "exception": null,
     "start_time": null,
     "status": "pending"
    },
    "tags": []
   },
   "source": [
    "`s.islower()` returns `True` if `s` is nonempty and all the alphabetic characters it contains are lowercase, and `False` otherwise. Non-alphabetic characters are ignored:"
   ]
  },
  {
   "cell_type": "code",
   "execution_count": null,
   "id": "2704b8c0",
   "metadata": {
    "papermill": {
     "duration": null,
     "end_time": null,
     "exception": null,
     "start_time": null,
     "status": "pending"
    },
    "tags": []
   },
   "outputs": [],
   "source": [
    "'abc'.islower()"
   ]
  },
  {
   "cell_type": "code",
   "execution_count": null,
   "id": "0d9d3fc2",
   "metadata": {
    "papermill": {
     "duration": null,
     "end_time": null,
     "exception": null,
     "start_time": null,
     "status": "pending"
    },
    "tags": []
   },
   "outputs": [],
   "source": [
    "'abc1$d'.islower()"
   ]
  },
  {
   "cell_type": "code",
   "execution_count": null,
   "id": "6978c45c",
   "metadata": {
    "papermill": {
     "duration": null,
     "end_time": null,
     "exception": null,
     "start_time": null,
     "status": "pending"
    },
    "tags": []
   },
   "outputs": [],
   "source": [
    "'Abc1$D'.islower()"
   ]
  },
  {
   "cell_type": "markdown",
   "id": "fa8b8109",
   "metadata": {
    "papermill": {
     "duration": null,
     "end_time": null,
     "exception": null,
     "start_time": null,
     "status": "pending"
    },
    "tags": []
   },
   "source": [
    "> `s.isprintable()`\n",
    "> \n",
    "> Determines whether the target string consists entirely of printable characters."
   ]
  },
  {
   "cell_type": "markdown",
   "id": "97ccdd5a",
   "metadata": {
    "papermill": {
     "duration": null,
     "end_time": null,
     "exception": null,
     "start_time": null,
     "status": "pending"
    },
    "tags": []
   },
   "source": [
    "`s.isprintable()` returns `True` if `s` is empty or all the alphabetic characters it contains are printable. It returns `False` if `s` contains at least one non-printable character. Non-alphabetic characters are ignored:"
   ]
  },
  {
   "cell_type": "code",
   "execution_count": null,
   "id": "56829600",
   "metadata": {
    "papermill": {
     "duration": null,
     "end_time": null,
     "exception": null,
     "start_time": null,
     "status": "pending"
    },
    "tags": []
   },
   "outputs": [],
   "source": [
    "'a\\tb'.isprintable()"
   ]
  },
  {
   "cell_type": "code",
   "execution_count": null,
   "id": "319bf6e2",
   "metadata": {
    "papermill": {
     "duration": null,
     "end_time": null,
     "exception": null,
     "start_time": null,
     "status": "pending"
    },
    "tags": []
   },
   "outputs": [],
   "source": [
    "'a b'.isprintable()"
   ]
  },
  {
   "cell_type": "code",
   "execution_count": null,
   "id": "ab309a02",
   "metadata": {
    "papermill": {
     "duration": null,
     "end_time": null,
     "exception": null,
     "start_time": null,
     "status": "pending"
    },
    "tags": []
   },
   "outputs": [],
   "source": [
    "''.isprintable()"
   ]
  },
  {
   "cell_type": "code",
   "execution_count": null,
   "id": "74856a04",
   "metadata": {
    "papermill": {
     "duration": null,
     "end_time": null,
     "exception": null,
     "start_time": null,
     "status": "pending"
    },
    "tags": []
   },
   "outputs": [],
   "source": [
    "'a\\nb'.isprintable()"
   ]
  },
  {
   "cell_type": "markdown",
   "id": "7b94ae7c",
   "metadata": {
    "papermill": {
     "duration": null,
     "end_time": null,
     "exception": null,
     "start_time": null,
     "status": "pending"
    },
    "tags": []
   },
   "source": [
    "> **Note:** This is the only `.isxxxx()` method that returns `True` if `s` is an empty string. All the others return `False` for an empty string."
   ]
  },
  {
   "cell_type": "markdown",
   "id": "3dc1003f",
   "metadata": {
    "papermill": {
     "duration": null,
     "end_time": null,
     "exception": null,
     "start_time": null,
     "status": "pending"
    },
    "tags": []
   },
   "source": [
    "> `s.isspace()`\n",
    "> \n",
    "> Determines whether the target string consists of whitespace characters."
   ]
  },
  {
   "cell_type": "markdown",
   "id": "006878e8",
   "metadata": {
    "papermill": {
     "duration": null,
     "end_time": null,
     "exception": null,
     "start_time": null,
     "status": "pending"
    },
    "tags": []
   },
   "source": [
    "`s.isspace()` returns `True` if `s` is nonempty and all characters are whitespace characters, and `False` otherwise."
   ]
  },
  {
   "cell_type": "markdown",
   "id": "21838d57",
   "metadata": {
    "papermill": {
     "duration": null,
     "end_time": null,
     "exception": null,
     "start_time": null,
     "status": "pending"
    },
    "tags": []
   },
   "source": [
    "The most commonly encountered whitespace characters are space `' '`, tab `'\\t'`, and newline `'\\n'`:"
   ]
  },
  {
   "cell_type": "code",
   "execution_count": null,
   "id": "f726fe09",
   "metadata": {
    "papermill": {
     "duration": null,
     "end_time": null,
     "exception": null,
     "start_time": null,
     "status": "pending"
    },
    "tags": []
   },
   "outputs": [],
   "source": [
    "' \\t \\n '.isspace()"
   ]
  },
  {
   "cell_type": "code",
   "execution_count": null,
   "id": "862b6bab",
   "metadata": {
    "papermill": {
     "duration": null,
     "end_time": null,
     "exception": null,
     "start_time": null,
     "status": "pending"
    },
    "tags": []
   },
   "outputs": [],
   "source": [
    "'   a   '.isspace()"
   ]
  },
  {
   "cell_type": "markdown",
   "id": "23d48221",
   "metadata": {
    "papermill": {
     "duration": null,
     "end_time": null,
     "exception": null,
     "start_time": null,
     "status": "pending"
    },
    "tags": []
   },
   "source": [
    "However, there are a few other ASCII characters that qualify as whitespace, and if you account for Unicode characters, there are quite a few beyond that:"
   ]
  },
  {
   "cell_type": "code",
   "execution_count": null,
   "id": "6f49cd3b",
   "metadata": {
    "papermill": {
     "duration": null,
     "end_time": null,
     "exception": null,
     "start_time": null,
     "status": "pending"
    },
    "tags": []
   },
   "outputs": [],
   "source": [
    "'\\f\\u2005\\r'.isspace()"
   ]
  },
  {
   "cell_type": "markdown",
   "id": "4bad2088",
   "metadata": {
    "papermill": {
     "duration": null,
     "end_time": null,
     "exception": null,
     "start_time": null,
     "status": "pending"
    },
    "tags": []
   },
   "source": [
    "(`'\\f'` and `'\\r'` are the escape sequences for the ASCII Form Feed and Carriage Return characters; `'\\u2005'` is the escape sequence for the Unicode Four-Per-Em Space.)"
   ]
  },
  {
   "cell_type": "markdown",
   "id": "b3e06a38",
   "metadata": {
    "papermill": {
     "duration": null,
     "end_time": null,
     "exception": null,
     "start_time": null,
     "status": "pending"
    },
    "tags": []
   },
   "source": [
    "> `s.istitle()`\n",
    "> \n",
    "> Determines whether the target string is title cased."
   ]
  },
  {
   "cell_type": "markdown",
   "id": "c18f786b",
   "metadata": {
    "papermill": {
     "duration": null,
     "end_time": null,
     "exception": null,
     "start_time": null,
     "status": "pending"
    },
    "tags": []
   },
   "source": [
    "`s.istitle()` returns `True` if `s` is nonempty, the first alphabetic character of each word is uppercase, and all other alphabetic characters in each word are lowercase. It returns `False` otherwise:"
   ]
  },
  {
   "cell_type": "code",
   "execution_count": null,
   "id": "0e91c93d",
   "metadata": {
    "papermill": {
     "duration": null,
     "end_time": null,
     "exception": null,
     "start_time": null,
     "status": "pending"
    },
    "tags": []
   },
   "outputs": [],
   "source": [
    "'This Is A Title'.istitle()"
   ]
  },
  {
   "cell_type": "code",
   "execution_count": null,
   "id": "2a09d95a",
   "metadata": {
    "papermill": {
     "duration": null,
     "end_time": null,
     "exception": null,
     "start_time": null,
     "status": "pending"
    },
    "tags": []
   },
   "outputs": [],
   "source": [
    "'This is a title'.istitle()"
   ]
  },
  {
   "cell_type": "code",
   "execution_count": null,
   "id": "0e664112",
   "metadata": {
    "papermill": {
     "duration": null,
     "end_time": null,
     "exception": null,
     "start_time": null,
     "status": "pending"
    },
    "tags": []
   },
   "outputs": [],
   "source": [
    "'Give Me The #$#@ Ball!'.istitle()"
   ]
  },
  {
   "cell_type": "markdown",
   "id": "cf76e059",
   "metadata": {
    "papermill": {
     "duration": null,
     "end_time": null,
     "exception": null,
     "start_time": null,
     "status": "pending"
    },
    "tags": []
   },
   "source": [
    "> **Note:** Here is how the Python documentation describes `.istitle()`, in case you find this more intuitive: “Uppercase characters may only follow uncased characters and lowercase characters only cased ones.”"
   ]
  },
  {
   "cell_type": "markdown",
   "id": "708c5fea",
   "metadata": {
    "papermill": {
     "duration": null,
     "end_time": null,
     "exception": null,
     "start_time": null,
     "status": "pending"
    },
    "tags": []
   },
   "source": [
    "> `s.isupper()`\n",
    "> \n",
    "> Determines whether the target string’s alphabetic characters are uppercase."
   ]
  },
  {
   "cell_type": "markdown",
   "id": "75465ec0",
   "metadata": {
    "papermill": {
     "duration": null,
     "end_time": null,
     "exception": null,
     "start_time": null,
     "status": "pending"
    },
    "tags": []
   },
   "source": [
    "‍`s.isupper()` returns `True` if `s` is nonempty and all the alphabetic characters it contains are uppercase, and `False` otherwise. Non-alphabetic characters are ignored:"
   ]
  },
  {
   "cell_type": "code",
   "execution_count": null,
   "id": "435f6a73",
   "metadata": {
    "papermill": {
     "duration": null,
     "end_time": null,
     "exception": null,
     "start_time": null,
     "status": "pending"
    },
    "tags": []
   },
   "outputs": [],
   "source": [
    "'ABC'.isupper()"
   ]
  },
  {
   "cell_type": "code",
   "execution_count": null,
   "id": "3b12bff8",
   "metadata": {
    "papermill": {
     "duration": null,
     "end_time": null,
     "exception": null,
     "start_time": null,
     "status": "pending"
    },
    "tags": []
   },
   "outputs": [],
   "source": [
    "'ABC1$D'.isupper()"
   ]
  },
  {
   "cell_type": "code",
   "execution_count": null,
   "id": "aef87202",
   "metadata": {
    "papermill": {
     "duration": null,
     "end_time": null,
     "exception": null,
     "start_time": null,
     "status": "pending"
    },
    "tags": []
   },
   "outputs": [],
   "source": [
    "'Abc1$D'.isupper()"
   ]
  },
  {
   "cell_type": "markdown",
   "id": "7ec225a2",
   "metadata": {
    "papermill": {
     "duration": null,
     "end_time": null,
     "exception": null,
     "start_time": null,
     "status": "pending"
    },
    "tags": []
   },
   "source": [
    "<a class=\"anchor\" id=\"string_formatting\"></a>\n",
    "### String Formatting"
   ]
  },
  {
   "cell_type": "markdown",
   "id": "8ce86586",
   "metadata": {
    "papermill": {
     "duration": null,
     "end_time": null,
     "exception": null,
     "start_time": null,
     "status": "pending"
    },
    "tags": []
   },
   "source": [
    "Methods in this group modify or enhance the format of a string."
   ]
  },
  {
   "cell_type": "markdown",
   "id": "69527e2c",
   "metadata": {
    "papermill": {
     "duration": null,
     "end_time": null,
     "exception": null,
     "start_time": null,
     "status": "pending"
    },
    "tags": []
   },
   "source": [
    "> `s.center(<width>[, <fill>])`\n",
    "> \n",
    "> Centers a string in a field."
   ]
  },
  {
   "cell_type": "markdown",
   "id": "9091401c",
   "metadata": {
    "papermill": {
     "duration": null,
     "end_time": null,
     "exception": null,
     "start_time": null,
     "status": "pending"
    },
    "tags": []
   },
   "source": [
    "`s.center(<width>)` returns a string consisting of `s` centered in a field of width `<width>`. By default, padding consists of the ASCII space character:"
   ]
  },
  {
   "cell_type": "code",
   "execution_count": null,
   "id": "6e5e9f57",
   "metadata": {
    "papermill": {
     "duration": null,
     "end_time": null,
     "exception": null,
     "start_time": null,
     "status": "pending"
    },
    "tags": []
   },
   "outputs": [],
   "source": [
    "'foo'.center(10)"
   ]
  },
  {
   "cell_type": "markdown",
   "id": "cbc30627",
   "metadata": {
    "papermill": {
     "duration": null,
     "end_time": null,
     "exception": null,
     "start_time": null,
     "status": "pending"
    },
    "tags": []
   },
   "source": [
    "If the optional `<fill>` argument is specified, it is used as the padding character:"
   ]
  },
  {
   "cell_type": "code",
   "execution_count": null,
   "id": "c1fbc7e8",
   "metadata": {
    "papermill": {
     "duration": null,
     "end_time": null,
     "exception": null,
     "start_time": null,
     "status": "pending"
    },
    "tags": []
   },
   "outputs": [],
   "source": [
    "'bar'.center(10, '-')"
   ]
  },
  {
   "cell_type": "markdown",
   "id": "56367e15",
   "metadata": {
    "papermill": {
     "duration": null,
     "end_time": null,
     "exception": null,
     "start_time": null,
     "status": "pending"
    },
    "tags": []
   },
   "source": [
    "If `s` is already at least as long as `<width>`, it is returned unchanged:"
   ]
  },
  {
   "cell_type": "code",
   "execution_count": null,
   "id": "629a623f",
   "metadata": {
    "papermill": {
     "duration": null,
     "end_time": null,
     "exception": null,
     "start_time": null,
     "status": "pending"
    },
    "tags": []
   },
   "outputs": [],
   "source": [
    "'foo'.center(2)"
   ]
  },
  {
   "cell_type": "markdown",
   "id": "3133e018",
   "metadata": {
    "papermill": {
     "duration": null,
     "end_time": null,
     "exception": null,
     "start_time": null,
     "status": "pending"
    },
    "tags": []
   },
   "source": [
    "> `s.expandtabs(tabsize=8)`\n",
    "> \n",
    "> Expands tabs in a string."
   ]
  },
  {
   "cell_type": "markdown",
   "id": "2d6fef19",
   "metadata": {
    "papermill": {
     "duration": null,
     "end_time": null,
     "exception": null,
     "start_time": null,
     "status": "pending"
    },
    "tags": []
   },
   "source": [
    "`s.expandtabs()` replaces each tab character (`'\\t'`) with spaces. By default, spaces are filled in assuming a tab stop at every eighth column:"
   ]
  },
  {
   "cell_type": "code",
   "execution_count": null,
   "id": "3881e511",
   "metadata": {
    "papermill": {
     "duration": null,
     "end_time": null,
     "exception": null,
     "start_time": null,
     "status": "pending"
    },
    "tags": []
   },
   "outputs": [],
   "source": [
    "'a\\tb\\tc'.expandtabs()"
   ]
  },
  {
   "cell_type": "code",
   "execution_count": null,
   "id": "2a4cf80b",
   "metadata": {
    "papermill": {
     "duration": null,
     "end_time": null,
     "exception": null,
     "start_time": null,
     "status": "pending"
    },
    "tags": []
   },
   "outputs": [],
   "source": [
    "'aaa\\tbbb\\tc'.expandtabs()"
   ]
  },
  {
   "cell_type": "markdown",
   "id": "4db3f675",
   "metadata": {
    "papermill": {
     "duration": null,
     "end_time": null,
     "exception": null,
     "start_time": null,
     "status": "pending"
    },
    "tags": []
   },
   "source": [
    "tabsize is an optional keyword parameter specifying alternate tab stop columns:"
   ]
  },
  {
   "cell_type": "code",
   "execution_count": null,
   "id": "07e22794",
   "metadata": {
    "papermill": {
     "duration": null,
     "end_time": null,
     "exception": null,
     "start_time": null,
     "status": "pending"
    },
    "tags": []
   },
   "outputs": [],
   "source": [
    "'a\\tb\\tc'.expandtabs(4)"
   ]
  },
  {
   "cell_type": "code",
   "execution_count": null,
   "id": "419b5141",
   "metadata": {
    "papermill": {
     "duration": null,
     "end_time": null,
     "exception": null,
     "start_time": null,
     "status": "pending"
    },
    "tags": []
   },
   "outputs": [],
   "source": [
    "'aaa\\tbbb\\tc'.expandtabs(tabsize=4)"
   ]
  },
  {
   "cell_type": "markdown",
   "id": "ce39d51e",
   "metadata": {
    "papermill": {
     "duration": null,
     "end_time": null,
     "exception": null,
     "start_time": null,
     "status": "pending"
    },
    "tags": []
   },
   "source": [
    "> `s.ljust(<width>[, <fill>])`\n",
    "> \n",
    "> Left-justifies a string in field."
   ]
  },
  {
   "cell_type": "markdown",
   "id": "444ecf96",
   "metadata": {
    "papermill": {
     "duration": null,
     "end_time": null,
     "exception": null,
     "start_time": null,
     "status": "pending"
    },
    "tags": []
   },
   "source": [
    "`s.ljust(<width>)` returns a string consisting of `s` left-justified in a field of width `<width>`. By default, padding consists of the ASCII space character:"
   ]
  },
  {
   "cell_type": "code",
   "execution_count": null,
   "id": "ac7c9a4e",
   "metadata": {
    "papermill": {
     "duration": null,
     "end_time": null,
     "exception": null,
     "start_time": null,
     "status": "pending"
    },
    "tags": []
   },
   "outputs": [],
   "source": [
    "'foo'.ljust(10)"
   ]
  },
  {
   "cell_type": "markdown",
   "id": "08284568",
   "metadata": {
    "papermill": {
     "duration": null,
     "end_time": null,
     "exception": null,
     "start_time": null,
     "status": "pending"
    },
    "tags": []
   },
   "source": [
    "If the optional `<fill>` argument is specified, it is used as the padding character:"
   ]
  },
  {
   "cell_type": "code",
   "execution_count": null,
   "id": "7e25bb2c",
   "metadata": {
    "papermill": {
     "duration": null,
     "end_time": null,
     "exception": null,
     "start_time": null,
     "status": "pending"
    },
    "tags": []
   },
   "outputs": [],
   "source": [
    "'foo'.ljust(10, '-')"
   ]
  },
  {
   "cell_type": "markdown",
   "id": "895fb4e7",
   "metadata": {
    "papermill": {
     "duration": null,
     "end_time": null,
     "exception": null,
     "start_time": null,
     "status": "pending"
    },
    "tags": []
   },
   "source": [
    "If `s` is already at least as long as `<width>`, it is returned unchanged:"
   ]
  },
  {
   "cell_type": "code",
   "execution_count": null,
   "id": "f08629c8",
   "metadata": {
    "papermill": {
     "duration": null,
     "end_time": null,
     "exception": null,
     "start_time": null,
     "status": "pending"
    },
    "tags": []
   },
   "outputs": [],
   "source": [
    "'foo'.ljust(2)"
   ]
  },
  {
   "cell_type": "markdown",
   "id": "ba412fee",
   "metadata": {
    "papermill": {
     "duration": null,
     "end_time": null,
     "exception": null,
     "start_time": null,
     "status": "pending"
    },
    "tags": []
   },
   "source": [
    "> `s.lstrip([<chars>])`\n",
    "> \n",
    "> Trims leading characters from a string."
   ]
  },
  {
   "cell_type": "markdown",
   "id": "8a075769",
   "metadata": {
    "papermill": {
     "duration": null,
     "end_time": null,
     "exception": null,
     "start_time": null,
     "status": "pending"
    },
    "tags": []
   },
   "source": [
    "`s.lstrip()` returns a copy of s with any whitespace characters removed from the left end:"
   ]
  },
  {
   "cell_type": "code",
   "execution_count": null,
   "id": "56e5b07d",
   "metadata": {
    "papermill": {
     "duration": null,
     "end_time": null,
     "exception": null,
     "start_time": null,
     "status": "pending"
    },
    "tags": []
   },
   "outputs": [],
   "source": [
    "'   foo bar baz   '.lstrip()"
   ]
  },
  {
   "cell_type": "code",
   "execution_count": null,
   "id": "a2efe900",
   "metadata": {
    "papermill": {
     "duration": null,
     "end_time": null,
     "exception": null,
     "start_time": null,
     "status": "pending"
    },
    "tags": []
   },
   "outputs": [],
   "source": [
    "'\\t\\nfoo\\t\\nbar\\t\\nbaz'.lstrip()"
   ]
  },
  {
   "cell_type": "markdown",
   "id": "1755604e",
   "metadata": {
    "papermill": {
     "duration": null,
     "end_time": null,
     "exception": null,
     "start_time": null,
     "status": "pending"
    },
    "tags": []
   },
   "source": [
    "If the optional `<chars>` argument is specified, it is a string that specifies the set of characters to be removed:"
   ]
  },
  {
   "cell_type": "code",
   "execution_count": null,
   "id": "5edf8dd0",
   "metadata": {
    "papermill": {
     "duration": null,
     "end_time": null,
     "exception": null,
     "start_time": null,
     "status": "pending"
    },
    "tags": []
   },
   "outputs": [],
   "source": [
    "'http://www.realpython.com'.lstrip('/:pth')"
   ]
  },
  {
   "cell_type": "markdown",
   "id": "9f354c7e",
   "metadata": {
    "papermill": {
     "duration": null,
     "end_time": null,
     "exception": null,
     "start_time": null,
     "status": "pending"
    },
    "tags": []
   },
   "source": [
    "> `s.replace(<old>, <new>[, <count>])`\n",
    "> \n",
    "> Replaces occurrences of a substring within a string."
   ]
  },
  {
   "cell_type": "markdown",
   "id": "f7874184",
   "metadata": {
    "papermill": {
     "duration": null,
     "end_time": null,
     "exception": null,
     "start_time": null,
     "status": "pending"
    },
    "tags": []
   },
   "source": [
    "In Python, to remove a character from a string, you can use the Python string `.replace()` method. `s.replace(<old>, <new>)` returns a copy of s with all occurrences of substring `<old>` replaced by `<new>`:"
   ]
  },
  {
   "cell_type": "code",
   "execution_count": null,
   "id": "75019dde",
   "metadata": {
    "papermill": {
     "duration": null,
     "end_time": null,
     "exception": null,
     "start_time": null,
     "status": "pending"
    },
    "tags": []
   },
   "outputs": [],
   "source": [
    "'foo bar foo baz foo qux'.replace('foo', 'grault')"
   ]
  },
  {
   "cell_type": "markdown",
   "id": "8a2a1529",
   "metadata": {
    "papermill": {
     "duration": null,
     "end_time": null,
     "exception": null,
     "start_time": null,
     "status": "pending"
    },
    "tags": []
   },
   "source": [
    "If the optional `<count>` argument is specified, a maximum of `<count>` replacements are performed, starting at the left end of `s`:"
   ]
  },
  {
   "cell_type": "code",
   "execution_count": null,
   "id": "784d3565",
   "metadata": {
    "papermill": {
     "duration": null,
     "end_time": null,
     "exception": null,
     "start_time": null,
     "status": "pending"
    },
    "tags": []
   },
   "outputs": [],
   "source": [
    "'foo bar foo baz foo qux'.replace('foo', 'grault', 2)"
   ]
  },
  {
   "cell_type": "markdown",
   "id": "23c6254e",
   "metadata": {
    "papermill": {
     "duration": null,
     "end_time": null,
     "exception": null,
     "start_time": null,
     "status": "pending"
    },
    "tags": []
   },
   "source": [
    "> `s.rjust(<width>[, <fill>])`\n",
    "> \n",
    "> Right-justifies a string in a field."
   ]
  },
  {
   "cell_type": "markdown",
   "id": "95379daf",
   "metadata": {
    "papermill": {
     "duration": null,
     "end_time": null,
     "exception": null,
     "start_time": null,
     "status": "pending"
    },
    "tags": []
   },
   "source": [
    "`s.rjust(<width>)` returns a string consisting of `s` right-justified in a field of width `<width>`. By default, padding consists of the ASCII space character:"
   ]
  },
  {
   "cell_type": "code",
   "execution_count": null,
   "id": "f04ae858",
   "metadata": {
    "papermill": {
     "duration": null,
     "end_time": null,
     "exception": null,
     "start_time": null,
     "status": "pending"
    },
    "tags": []
   },
   "outputs": [],
   "source": [
    "'foo'.rjust(10)"
   ]
  },
  {
   "cell_type": "markdown",
   "id": "277db1b2",
   "metadata": {
    "papermill": {
     "duration": null,
     "end_time": null,
     "exception": null,
     "start_time": null,
     "status": "pending"
    },
    "tags": []
   },
   "source": [
    "If the optional `<fill>` argument is specified, it is used as the padding character:"
   ]
  },
  {
   "cell_type": "code",
   "execution_count": null,
   "id": "f2f894f5",
   "metadata": {
    "papermill": {
     "duration": null,
     "end_time": null,
     "exception": null,
     "start_time": null,
     "status": "pending"
    },
    "tags": []
   },
   "outputs": [],
   "source": [
    "'foo'.rjust(10, '-')"
   ]
  },
  {
   "cell_type": "markdown",
   "id": "0b3262ac",
   "metadata": {
    "papermill": {
     "duration": null,
     "end_time": null,
     "exception": null,
     "start_time": null,
     "status": "pending"
    },
    "tags": []
   },
   "source": [
    "If `s` is already at least as long as `<width>`, it is returned unchanged:"
   ]
  },
  {
   "cell_type": "code",
   "execution_count": null,
   "id": "b9093322",
   "metadata": {
    "papermill": {
     "duration": null,
     "end_time": null,
     "exception": null,
     "start_time": null,
     "status": "pending"
    },
    "tags": []
   },
   "outputs": [],
   "source": [
    "'foo'.rjust(2)"
   ]
  },
  {
   "cell_type": "markdown",
   "id": "d8bb66f1",
   "metadata": {
    "papermill": {
     "duration": null,
     "end_time": null,
     "exception": null,
     "start_time": null,
     "status": "pending"
    },
    "tags": []
   },
   "source": [
    "> `s.rstrip([<chars>])`\n",
    "> \n",
    "> Trims trailing characters from a string."
   ]
  },
  {
   "cell_type": "markdown",
   "id": "c95d6406",
   "metadata": {
    "papermill": {
     "duration": null,
     "end_time": null,
     "exception": null,
     "start_time": null,
     "status": "pending"
    },
    "tags": []
   },
   "source": [
    "`s.rstrip()` returns a copy of `s` with any whitespace characters removed from the right end:"
   ]
  },
  {
   "cell_type": "code",
   "execution_count": null,
   "id": "2441df84",
   "metadata": {
    "papermill": {
     "duration": null,
     "end_time": null,
     "exception": null,
     "start_time": null,
     "status": "pending"
    },
    "tags": []
   },
   "outputs": [],
   "source": [
    "'   foo bar baz   '.rstrip()"
   ]
  },
  {
   "cell_type": "code",
   "execution_count": null,
   "id": "54f6d2a1",
   "metadata": {
    "papermill": {
     "duration": null,
     "end_time": null,
     "exception": null,
     "start_time": null,
     "status": "pending"
    },
    "tags": []
   },
   "outputs": [],
   "source": [
    "'foo\\t\\nbar\\t\\nbaz\\t\\n'.rstrip()"
   ]
  },
  {
   "cell_type": "markdown",
   "id": "0c9551a5",
   "metadata": {
    "papermill": {
     "duration": null,
     "end_time": null,
     "exception": null,
     "start_time": null,
     "status": "pending"
    },
    "tags": []
   },
   "source": [
    "If the optional `<chars>` argument is specified, it is a string that specifies the set of characters to be removed:"
   ]
  },
  {
   "cell_type": "code",
   "execution_count": null,
   "id": "d5e183e9",
   "metadata": {
    "papermill": {
     "duration": null,
     "end_time": null,
     "exception": null,
     "start_time": null,
     "status": "pending"
    },
    "tags": []
   },
   "outputs": [],
   "source": [
    "'foo.$$$;'.rstrip(';$.')"
   ]
  },
  {
   "cell_type": "markdown",
   "id": "286593d5",
   "metadata": {
    "papermill": {
     "duration": null,
     "end_time": null,
     "exception": null,
     "start_time": null,
     "status": "pending"
    },
    "tags": []
   },
   "source": [
    "> `s.strip([<chars>])`\n",
    "> \n",
    "> Strips characters from the left and right ends of a string."
   ]
  },
  {
   "cell_type": "markdown",
   "id": "6bcf566a",
   "metadata": {
    "papermill": {
     "duration": null,
     "end_time": null,
     "exception": null,
     "start_time": null,
     "status": "pending"
    },
    "tags": []
   },
   "source": [
    "`s.strip()` is essentially equivalent to invoking `s.lstrip()` and `s.rstrip()` in succession. Without the `<chars>` argument, it removes leading and trailing whitespace:"
   ]
  },
  {
   "cell_type": "code",
   "execution_count": null,
   "id": "33428456",
   "metadata": {
    "papermill": {
     "duration": null,
     "end_time": null,
     "exception": null,
     "start_time": null,
     "status": "pending"
    },
    "tags": []
   },
   "outputs": [],
   "source": [
    "s = '   foo bar baz\\t\\t\\t'\n",
    "s = s.lstrip()\n",
    "s = s.rstrip()"
   ]
  },
  {
   "cell_type": "code",
   "execution_count": null,
   "id": "eef0c316",
   "metadata": {
    "papermill": {
     "duration": null,
     "end_time": null,
     "exception": null,
     "start_time": null,
     "status": "pending"
    },
    "tags": []
   },
   "outputs": [],
   "source": [
    "s"
   ]
  },
  {
   "cell_type": "markdown",
   "id": "ad6707d9",
   "metadata": {
    "papermill": {
     "duration": null,
     "end_time": null,
     "exception": null,
     "start_time": null,
     "status": "pending"
    },
    "tags": []
   },
   "source": [
    "As with `.lstrip()` and `.rstrip()`, the optional `<chars>` argument specifies the set of characters to be removed:"
   ]
  },
  {
   "cell_type": "code",
   "execution_count": null,
   "id": "1f8e17f7",
   "metadata": {
    "papermill": {
     "duration": null,
     "end_time": null,
     "exception": null,
     "start_time": null,
     "status": "pending"
    },
    "tags": []
   },
   "outputs": [],
   "source": [
    "'www.realpython.com'.strip('w.moc')"
   ]
  },
  {
   "cell_type": "markdown",
   "id": "29536f9c",
   "metadata": {
    "papermill": {
     "duration": null,
     "end_time": null,
     "exception": null,
     "start_time": null,
     "status": "pending"
    },
    "tags": []
   },
   "source": [
    "> **Note:** When the return value of a string method is another string, as is often the case, methods can be invoked in succession by chaining the calls:\n",
    "> \n",
    "> ```python\n",
    "> >>> '   foo bar baz\\t\\t\\t'.lstrip().rstrip()\n",
    "> 'foo bar baz'\n",
    "> >>> '   foo bar baz\\t\\t\\t'.strip()\n",
    "> 'foo bar baz'\n",
    "> \n",
    "> >>> 'www.realpython.com'.lstrip('w.moc').rstrip('w.moc')\n",
    "> 'realpython'\n",
    "> >>> 'www.realpython.com'.strip('w.moc')\n",
    "> 'realpython'\n",
    "> ```"
   ]
  },
  {
   "cell_type": "markdown",
   "id": "00afeb1f",
   "metadata": {
    "papermill": {
     "duration": null,
     "end_time": null,
     "exception": null,
     "start_time": null,
     "status": "pending"
    },
    "tags": []
   },
   "source": [
    "> `s.zfill(<width>)`\n",
    "> \n",
    "> Pads a string on the left with zeros."
   ]
  },
  {
   "cell_type": "markdown",
   "id": "bae0d06a",
   "metadata": {
    "papermill": {
     "duration": null,
     "end_time": null,
     "exception": null,
     "start_time": null,
     "status": "pending"
    },
    "tags": []
   },
   "source": [
    "`s.zfill(<width>)` returns a copy of ``s left-padded with `'0'` characters to the specified `<width>`:"
   ]
  },
  {
   "cell_type": "code",
   "execution_count": null,
   "id": "7067bb4b",
   "metadata": {
    "papermill": {
     "duration": null,
     "end_time": null,
     "exception": null,
     "start_time": null,
     "status": "pending"
    },
    "tags": []
   },
   "outputs": [],
   "source": [
    "'42'.zfill(5)"
   ]
  },
  {
   "cell_type": "markdown",
   "id": "9b213ac7",
   "metadata": {
    "papermill": {
     "duration": null,
     "end_time": null,
     "exception": null,
     "start_time": null,
     "status": "pending"
    },
    "tags": []
   },
   "source": [
    "If `s` contains a leading sign, it remains at the left edge of the result string after zeros are inserted:"
   ]
  },
  {
   "cell_type": "code",
   "execution_count": null,
   "id": "4fe2d3e1",
   "metadata": {
    "papermill": {
     "duration": null,
     "end_time": null,
     "exception": null,
     "start_time": null,
     "status": "pending"
    },
    "tags": []
   },
   "outputs": [],
   "source": [
    "'+42'.zfill(8)"
   ]
  },
  {
   "cell_type": "code",
   "execution_count": null,
   "id": "fc843f13",
   "metadata": {
    "papermill": {
     "duration": null,
     "end_time": null,
     "exception": null,
     "start_time": null,
     "status": "pending"
    },
    "tags": []
   },
   "outputs": [],
   "source": [
    "'-42'.zfill(8)"
   ]
  },
  {
   "cell_type": "markdown",
   "id": "9274b422",
   "metadata": {
    "papermill": {
     "duration": null,
     "end_time": null,
     "exception": null,
     "start_time": null,
     "status": "pending"
    },
    "tags": []
   },
   "source": [
    "If `s` is already at least as long as `<width>`, it is returned unchanged:"
   ]
  },
  {
   "cell_type": "code",
   "execution_count": null,
   "id": "54f3f35a",
   "metadata": {
    "papermill": {
     "duration": null,
     "end_time": null,
     "exception": null,
     "start_time": null,
     "status": "pending"
    },
    "tags": []
   },
   "outputs": [],
   "source": [
    "'-42'.zfill(3)"
   ]
  },
  {
   "cell_type": "markdown",
   "id": "32533794",
   "metadata": {
    "papermill": {
     "duration": null,
     "end_time": null,
     "exception": null,
     "start_time": null,
     "status": "pending"
    },
    "tags": []
   },
   "source": [
    "`.zfill()` is most useful for string representations of numbers, but Python will still happily zero-pad a string that isn’t:"
   ]
  },
  {
   "cell_type": "code",
   "execution_count": null,
   "id": "513cb7ba",
   "metadata": {
    "papermill": {
     "duration": null,
     "end_time": null,
     "exception": null,
     "start_time": null,
     "status": "pending"
    },
    "tags": []
   },
   "outputs": [],
   "source": [
    "'foo'.zfill(6)"
   ]
  },
  {
   "cell_type": "markdown",
   "id": "24decf65",
   "metadata": {
    "papermill": {
     "duration": null,
     "end_time": null,
     "exception": null,
     "start_time": null,
     "status": "pending"
    },
    "tags": []
   },
   "source": [
    "<a class=\"anchor\" id=\"converting_between_strings_and_lists\"></a>\n",
    "### Converting Between Strings and Lists"
   ]
  },
  {
   "cell_type": "markdown",
   "id": "54cb98d0",
   "metadata": {
    "papermill": {
     "duration": null,
     "end_time": null,
     "exception": null,
     "start_time": null,
     "status": "pending"
    },
    "tags": []
   },
   "source": [
    "Methods in this group convert between a string and some composite data type by either pasting objects together to make a string, or by breaking a string up into pieces."
   ]
  },
  {
   "cell_type": "markdown",
   "id": "778f9667",
   "metadata": {
    "papermill": {
     "duration": null,
     "end_time": null,
     "exception": null,
     "start_time": null,
     "status": "pending"
    },
    "tags": []
   },
   "source": [
    "These methods operate on or return **iterables**, the general Python term for a sequential collection of objects."
   ]
  },
  {
   "cell_type": "markdown",
   "id": "5dff8a52",
   "metadata": {
    "papermill": {
     "duration": null,
     "end_time": null,
     "exception": null,
     "start_time": null,
     "status": "pending"
    },
    "tags": []
   },
   "source": [
    "Many of these methods return either a list or a tuple. These are two similar composite data types that are prototypical examples of iterables in Python. They are covered in the next tutorial, so you’re about to learn about them soon! Until then, simply think of them as sequences of values. A list is enclosed in square brackets (`[]`), and a tuple is enclosed in parentheses (`()`)."
   ]
  },
  {
   "cell_type": "markdown",
   "id": "9315e37a",
   "metadata": {
    "papermill": {
     "duration": null,
     "end_time": null,
     "exception": null,
     "start_time": null,
     "status": "pending"
    },
    "tags": []
   },
   "source": [
    "With that introduction, let’s take a look at this last group of string methods."
   ]
  },
  {
   "cell_type": "markdown",
   "id": "59c66a75",
   "metadata": {
    "papermill": {
     "duration": null,
     "end_time": null,
     "exception": null,
     "start_time": null,
     "status": "pending"
    },
    "tags": []
   },
   "source": [
    "> `s.join(<iterable>)`\n",
    "> \n",
    "> Concatenates strings from an iterable."
   ]
  },
  {
   "cell_type": "markdown",
   "id": "f4ab4228",
   "metadata": {
    "papermill": {
     "duration": null,
     "end_time": null,
     "exception": null,
     "start_time": null,
     "status": "pending"
    },
    "tags": []
   },
   "source": [
    "`s.join(<iterable>)` returns the string that results from concatenating the objects in `<iterable>` separated by `s`."
   ]
  },
  {
   "cell_type": "markdown",
   "id": "a3734b68",
   "metadata": {
    "papermill": {
     "duration": null,
     "end_time": null,
     "exception": null,
     "start_time": null,
     "status": "pending"
    },
    "tags": []
   },
   "source": [
    "Note that `.join()` is invoked on `s`, the separator string. `<iterable>` must be a sequence of string objects as well."
   ]
  },
  {
   "cell_type": "markdown",
   "id": "e098a157",
   "metadata": {
    "papermill": {
     "duration": null,
     "end_time": null,
     "exception": null,
     "start_time": null,
     "status": "pending"
    },
    "tags": []
   },
   "source": [
    "Some sample code should help clarify. In the following example, the separator `s` is the string `', '`, and `<iterable>` is a list of string values:"
   ]
  },
  {
   "cell_type": "code",
   "execution_count": null,
   "id": "2a934140",
   "metadata": {
    "papermill": {
     "duration": null,
     "end_time": null,
     "exception": null,
     "start_time": null,
     "status": "pending"
    },
    "tags": []
   },
   "outputs": [],
   "source": [
    "', '.join(['foo', 'bar', 'baz', 'qux'])"
   ]
  },
  {
   "cell_type": "markdown",
   "id": "54816f23",
   "metadata": {
    "papermill": {
     "duration": null,
     "end_time": null,
     "exception": null,
     "start_time": null,
     "status": "pending"
    },
    "tags": []
   },
   "source": [
    "The result is a single string consisting of the list objects separated by commas."
   ]
  },
  {
   "cell_type": "markdown",
   "id": "33cbc0ed",
   "metadata": {
    "papermill": {
     "duration": null,
     "end_time": null,
     "exception": null,
     "start_time": null,
     "status": "pending"
    },
    "tags": []
   },
   "source": [
    "In the next example, `<iterable>` is specified as a single string value. When a string value is used as an iterable, it is interpreted as a list of the string’s individual characters:"
   ]
  },
  {
   "cell_type": "code",
   "execution_count": null,
   "id": "9ce870a9",
   "metadata": {
    "papermill": {
     "duration": null,
     "end_time": null,
     "exception": null,
     "start_time": null,
     "status": "pending"
    },
    "tags": []
   },
   "outputs": [],
   "source": [
    "list('corge')"
   ]
  },
  {
   "cell_type": "code",
   "execution_count": null,
   "id": "7c9a9f3c",
   "metadata": {
    "papermill": {
     "duration": null,
     "end_time": null,
     "exception": null,
     "start_time": null,
     "status": "pending"
    },
    "tags": []
   },
   "outputs": [],
   "source": [
    "':'.join('corge')"
   ]
  },
  {
   "cell_type": "markdown",
   "id": "6e224677",
   "metadata": {
    "papermill": {
     "duration": null,
     "end_time": null,
     "exception": null,
     "start_time": null,
     "status": "pending"
    },
    "tags": []
   },
   "source": [
    "Thus, the result of `':'.join('corge')` is a string consisting of each character in `'corge'` separated by `':'`."
   ]
  },
  {
   "cell_type": "markdown",
   "id": "5bd08926",
   "metadata": {
    "papermill": {
     "duration": null,
     "end_time": null,
     "exception": null,
     "start_time": null,
     "status": "pending"
    },
    "tags": []
   },
   "source": [
    "This example fails because one of the objects in `<iterable>` is not a string:"
   ]
  },
  {
   "cell_type": "code",
   "execution_count": null,
   "id": "37a07c0a",
   "metadata": {
    "papermill": {
     "duration": null,
     "end_time": null,
     "exception": null,
     "start_time": null,
     "status": "pending"
    },
    "tags": []
   },
   "outputs": [],
   "source": [
    "'---'.join(['foo', 23, 'bar'])"
   ]
  },
  {
   "cell_type": "markdown",
   "id": "cf5f9319",
   "metadata": {
    "papermill": {
     "duration": null,
     "end_time": null,
     "exception": null,
     "start_time": null,
     "status": "pending"
    },
    "tags": []
   },
   "source": [
    "That can be remedied, though:"
   ]
  },
  {
   "cell_type": "code",
   "execution_count": null,
   "id": "f1a153be",
   "metadata": {
    "papermill": {
     "duration": null,
     "end_time": null,
     "exception": null,
     "start_time": null,
     "status": "pending"
    },
    "tags": []
   },
   "outputs": [],
   "source": [
    "'---'.join(['foo', str(23), 'bar'])"
   ]
  },
  {
   "cell_type": "markdown",
   "id": "9718354a",
   "metadata": {
    "papermill": {
     "duration": null,
     "end_time": null,
     "exception": null,
     "start_time": null,
     "status": "pending"
    },
    "tags": []
   },
   "source": [
    "Many composite objects in Python can be construed as iterables, and `.join()` is especially useful for creating strings from them."
   ]
  },
  {
   "cell_type": "markdown",
   "id": "b1a29aad",
   "metadata": {
    "papermill": {
     "duration": null,
     "end_time": null,
     "exception": null,
     "start_time": null,
     "status": "pending"
    },
    "tags": []
   },
   "source": [
    "> `s.partition(<sep>)`\n",
    "> \n",
    "> Divides a string based on a separator."
   ]
  },
  {
   "cell_type": "markdown",
   "id": "759a741f",
   "metadata": {
    "papermill": {
     "duration": null,
     "end_time": null,
     "exception": null,
     "start_time": null,
     "status": "pending"
    },
    "tags": []
   },
   "source": [
    "`s.partition(<sep>)` splits `s` at the first occurrence of string `<sep>`. The return value is a three-part tuple consisting of:\n",
    "\n",
    "- The portion of `s` preceding `<sep>`\n",
    "- `<sep>` itself\n",
    "- The portion of `s` following `<sep>`"
   ]
  },
  {
   "cell_type": "markdown",
   "id": "d2f0513a",
   "metadata": {
    "papermill": {
     "duration": null,
     "end_time": null,
     "exception": null,
     "start_time": null,
     "status": "pending"
    },
    "tags": []
   },
   "source": [
    "Here are a couple examples of `.partition()` in action:"
   ]
  },
  {
   "cell_type": "code",
   "execution_count": null,
   "id": "06e01ff1",
   "metadata": {
    "papermill": {
     "duration": null,
     "end_time": null,
     "exception": null,
     "start_time": null,
     "status": "pending"
    },
    "tags": []
   },
   "outputs": [],
   "source": [
    "'foo.bar'.partition('.')"
   ]
  },
  {
   "cell_type": "code",
   "execution_count": null,
   "id": "e7825142",
   "metadata": {
    "papermill": {
     "duration": null,
     "end_time": null,
     "exception": null,
     "start_time": null,
     "status": "pending"
    },
    "tags": []
   },
   "outputs": [],
   "source": [
    "'foo@@bar@@baz'.partition('@@')"
   ]
  },
  {
   "cell_type": "markdown",
   "id": "e0eda7d7",
   "metadata": {
    "papermill": {
     "duration": null,
     "end_time": null,
     "exception": null,
     "start_time": null,
     "status": "pending"
    },
    "tags": []
   },
   "source": [
    "If `<sep>` is not found in `s`, the returned tuple contains `s` followed by two empty strings:"
   ]
  },
  {
   "cell_type": "code",
   "execution_count": null,
   "id": "84f87bb6",
   "metadata": {
    "papermill": {
     "duration": null,
     "end_time": null,
     "exception": null,
     "start_time": null,
     "status": "pending"
    },
    "tags": []
   },
   "outputs": [],
   "source": [
    "'foo.bar'.partition('@@')"
   ]
  },
  {
   "cell_type": "markdown",
   "id": "86c19596",
   "metadata": {
    "papermill": {
     "duration": null,
     "end_time": null,
     "exception": null,
     "start_time": null,
     "status": "pending"
    },
    "tags": []
   },
   "source": [
    "> `s.rpartition(<sep>)`\n",
    "> \n",
    "> Divides a string based on a separator."
   ]
  },
  {
   "cell_type": "markdown",
   "id": "ed1c8d6a",
   "metadata": {
    "papermill": {
     "duration": null,
     "end_time": null,
     "exception": null,
     "start_time": null,
     "status": "pending"
    },
    "tags": []
   },
   "source": [
    "`s.rpartition(<sep>)` functions exactly like `s.partition(<sep>)`, except that `s` is split at the last occurrence of `<sep>` instead of the first occurrence:"
   ]
  },
  {
   "cell_type": "code",
   "execution_count": null,
   "id": "3dd7a198",
   "metadata": {
    "papermill": {
     "duration": null,
     "end_time": null,
     "exception": null,
     "start_time": null,
     "status": "pending"
    },
    "tags": []
   },
   "outputs": [],
   "source": [
    "'foo@@bar@@baz'.partition('@@')"
   ]
  },
  {
   "cell_type": "code",
   "execution_count": null,
   "id": "49a66952",
   "metadata": {
    "papermill": {
     "duration": null,
     "end_time": null,
     "exception": null,
     "start_time": null,
     "status": "pending"
    },
    "tags": []
   },
   "outputs": [],
   "source": [
    "'foo@@bar@@baz'.rpartition('@@')"
   ]
  },
  {
   "cell_type": "markdown",
   "id": "139fead3",
   "metadata": {
    "papermill": {
     "duration": null,
     "end_time": null,
     "exception": null,
     "start_time": null,
     "status": "pending"
    },
    "tags": []
   },
   "source": [
    "> `s.rsplit(sep=None, maxsplit=-1)`\n",
    "> \n",
    "> Splits a string into a list of substrings."
   ]
  },
  {
   "cell_type": "markdown",
   "id": "188c2738",
   "metadata": {
    "papermill": {
     "duration": null,
     "end_time": null,
     "exception": null,
     "start_time": null,
     "status": "pending"
    },
    "tags": []
   },
   "source": [
    "Without arguments, `s.rsplit()` splits s into substrings delimited by any sequence of whitespace and returns the substrings as a list:"
   ]
  },
  {
   "cell_type": "code",
   "execution_count": null,
   "id": "ce950f1d",
   "metadata": {
    "papermill": {
     "duration": null,
     "end_time": null,
     "exception": null,
     "start_time": null,
     "status": "pending"
    },
    "tags": []
   },
   "outputs": [],
   "source": [
    "'foo bar baz qux'.rsplit()"
   ]
  },
  {
   "cell_type": "code",
   "execution_count": null,
   "id": "71b5924c",
   "metadata": {
    "papermill": {
     "duration": null,
     "end_time": null,
     "exception": null,
     "start_time": null,
     "status": "pending"
    },
    "tags": []
   },
   "outputs": [],
   "source": [
    "'foo\\n\\tbar   baz\\r\\fqux'.rsplit()"
   ]
  },
  {
   "cell_type": "markdown",
   "id": "fb55aa22",
   "metadata": {
    "papermill": {
     "duration": null,
     "end_time": null,
     "exception": null,
     "start_time": null,
     "status": "pending"
    },
    "tags": []
   },
   "source": [
    "If `<sep>` is specified, it is used as the delimiter for splitting:"
   ]
  },
  {
   "cell_type": "code",
   "execution_count": null,
   "id": "888ada72",
   "metadata": {
    "papermill": {
     "duration": null,
     "end_time": null,
     "exception": null,
     "start_time": null,
     "status": "pending"
    },
    "tags": []
   },
   "outputs": [],
   "source": [
    "'foo.bar.baz.qux'.rsplit(sep='.')"
   ]
  },
  {
   "cell_type": "markdown",
   "id": "93aaf952",
   "metadata": {
    "papermill": {
     "duration": null,
     "end_time": null,
     "exception": null,
     "start_time": null,
     "status": "pending"
    },
    "tags": []
   },
   "source": [
    "(If `<sep>` is specified with a value of `None`, the string is split delimited by whitespace, just as though `<sep>` had not been specified at all.)"
   ]
  },
  {
   "cell_type": "markdown",
   "id": "94587441",
   "metadata": {
    "papermill": {
     "duration": null,
     "end_time": null,
     "exception": null,
     "start_time": null,
     "status": "pending"
    },
    "tags": []
   },
   "source": [
    "When `<sep>` is explicitly given as a delimiter, consecutive delimiters in `s` are assumed to delimit empty strings, which will be returned:"
   ]
  },
  {
   "cell_type": "code",
   "execution_count": null,
   "id": "426d197e",
   "metadata": {
    "papermill": {
     "duration": null,
     "end_time": null,
     "exception": null,
     "start_time": null,
     "status": "pending"
    },
    "tags": []
   },
   "outputs": [],
   "source": [
    "'foo...bar'.rsplit(sep='.')"
   ]
  },
  {
   "cell_type": "markdown",
   "id": "d3e86e60",
   "metadata": {
    "papermill": {
     "duration": null,
     "end_time": null,
     "exception": null,
     "start_time": null,
     "status": "pending"
    },
    "tags": []
   },
   "source": [
    "This is not the case when `<sep>` is omitted, however. In that case, consecutive whitespace characters are combined into a single delimiter, and the resulting list will never contain empty strings:"
   ]
  },
  {
   "cell_type": "code",
   "execution_count": null,
   "id": "9f44496a",
   "metadata": {
    "papermill": {
     "duration": null,
     "end_time": null,
     "exception": null,
     "start_time": null,
     "status": "pending"
    },
    "tags": []
   },
   "outputs": [],
   "source": [
    "'foo\\t\\t\\tbar'.rsplit()"
   ]
  },
  {
   "cell_type": "markdown",
   "id": "ad186b31",
   "metadata": {
    "papermill": {
     "duration": null,
     "end_time": null,
     "exception": null,
     "start_time": null,
     "status": "pending"
    },
    "tags": []
   },
   "source": [
    "If the optional keyword parameter `<maxsplit>` is specified, a maximum of that many splits are performed, starting from the right end of `s`:"
   ]
  },
  {
   "cell_type": "code",
   "execution_count": null,
   "id": "03399b71",
   "metadata": {
    "papermill": {
     "duration": null,
     "end_time": null,
     "exception": null,
     "start_time": null,
     "status": "pending"
    },
    "tags": []
   },
   "outputs": [],
   "source": [
    "'www.realpython.com'.rsplit(sep='.', maxsplit=1)"
   ]
  },
  {
   "cell_type": "markdown",
   "id": "a8c15843",
   "metadata": {
    "papermill": {
     "duration": null,
     "end_time": null,
     "exception": null,
     "start_time": null,
     "status": "pending"
    },
    "tags": []
   },
   "source": [
    "The default value for `<maxsplit>` is `-1`, which means all possible splits should be performed—the same as if `<maxsplit>` is omitted entirely:"
   ]
  },
  {
   "cell_type": "code",
   "execution_count": null,
   "id": "4a853771",
   "metadata": {
    "papermill": {
     "duration": null,
     "end_time": null,
     "exception": null,
     "start_time": null,
     "status": "pending"
    },
    "tags": []
   },
   "outputs": [],
   "source": [
    "'www.realpython.com'.rsplit(sep='.', maxsplit=-1)"
   ]
  },
  {
   "cell_type": "code",
   "execution_count": null,
   "id": "3d10b72c",
   "metadata": {
    "papermill": {
     "duration": null,
     "end_time": null,
     "exception": null,
     "start_time": null,
     "status": "pending"
    },
    "tags": []
   },
   "outputs": [],
   "source": [
    "'www.realpython.com'.rsplit(sep='.')"
   ]
  },
  {
   "cell_type": "markdown",
   "id": "af7a31b3",
   "metadata": {
    "papermill": {
     "duration": null,
     "end_time": null,
     "exception": null,
     "start_time": null,
     "status": "pending"
    },
    "tags": []
   },
   "source": [
    "> `s.split(sep=None, maxsplit=-1)`\n",
    "> \n",
    "> Splits a string into a list of substrings."
   ]
  },
  {
   "cell_type": "markdown",
   "id": "6b7295a1",
   "metadata": {
    "papermill": {
     "duration": null,
     "end_time": null,
     "exception": null,
     "start_time": null,
     "status": "pending"
    },
    "tags": []
   },
   "source": [
    "`s.split()` behaves exactly like `s.rsplit()`, except that if `<maxsplit>` is specified, splits are counted from the left end of s rather than the right end:"
   ]
  },
  {
   "cell_type": "code",
   "execution_count": null,
   "id": "6b91c873",
   "metadata": {
    "papermill": {
     "duration": null,
     "end_time": null,
     "exception": null,
     "start_time": null,
     "status": "pending"
    },
    "tags": []
   },
   "outputs": [],
   "source": [
    "'www.realpython.com'.split('.', maxsplit=1)"
   ]
  },
  {
   "cell_type": "code",
   "execution_count": null,
   "id": "c116a6b0",
   "metadata": {
    "papermill": {
     "duration": null,
     "end_time": null,
     "exception": null,
     "start_time": null,
     "status": "pending"
    },
    "tags": []
   },
   "outputs": [],
   "source": [
    "'www.realpython.com'.rsplit('.', maxsplit=1)"
   ]
  },
  {
   "cell_type": "markdown",
   "id": "ab8fc9de",
   "metadata": {
    "papermill": {
     "duration": null,
     "end_time": null,
     "exception": null,
     "start_time": null,
     "status": "pending"
    },
    "tags": []
   },
   "source": [
    "If `<maxsplit>` is not specified, `.split()` and `.rsplit()` are indistinguishable."
   ]
  },
  {
   "cell_type": "markdown",
   "id": "1b3f787b",
   "metadata": {
    "papermill": {
     "duration": null,
     "end_time": null,
     "exception": null,
     "start_time": null,
     "status": "pending"
    },
    "tags": []
   },
   "source": [
    "> `s.splitlines([<keepends>])`\n",
    "> \n",
    "> Breaks a string at line boundaries."
   ]
  },
  {
   "cell_type": "markdown",
   "id": "a64a45b1",
   "metadata": {
    "papermill": {
     "duration": null,
     "end_time": null,
     "exception": null,
     "start_time": null,
     "status": "pending"
    },
    "tags": []
   },
   "source": [
    "`s.splitlines()` splits `s` up into lines and returns them in a list. Any of the following characters or character sequences is considered to constitute a line boundary:\n",
    "\n",
    "| Escape Sequence | Character |\n",
    "|:--|:--|\n",
    "| `\\n` | Newline |\n",
    "| `\\r` | Carriage Return |\n",
    "| `\\r\\n` | Carriage Return + Line Feed |\n",
    "| `\\v` or `\\x0b` | Line Tabulation |\n",
    "| `\\f` or `\\x0c` | Form Feed |\n",
    "| `\\x1c` | File Separator |\n",
    "| `\\x1d` | Group Separator |\n",
    "| `\\x1e` | Record Separator |\n",
    "| `\\x85` | Next Line (C1 Control Code) |\n",
    "| `\\u2028` | Unicode Line Separator |\n",
    "| `\\u2029` | Unicode Paragraph Separator |"
   ]
  },
  {
   "cell_type": "markdown",
   "id": "9948b075",
   "metadata": {
    "papermill": {
     "duration": null,
     "end_time": null,
     "exception": null,
     "start_time": null,
     "status": "pending"
    },
    "tags": []
   },
   "source": [
    "Here is an example using several different line separators:"
   ]
  },
  {
   "cell_type": "code",
   "execution_count": null,
   "id": "ecd89e52",
   "metadata": {
    "papermill": {
     "duration": null,
     "end_time": null,
     "exception": null,
     "start_time": null,
     "status": "pending"
    },
    "tags": []
   },
   "outputs": [],
   "source": [
    "'foo\\nbar\\r\\nbaz\\fqux\\u2028quux'.splitlines()"
   ]
  },
  {
   "cell_type": "markdown",
   "id": "519fdc59",
   "metadata": {
    "papermill": {
     "duration": null,
     "end_time": null,
     "exception": null,
     "start_time": null,
     "status": "pending"
    },
    "tags": []
   },
   "source": [
    "If consecutive line boundary characters are present in the string, they are assumed to delimit blank lines, which will appear in the result list:"
   ]
  },
  {
   "cell_type": "code",
   "execution_count": null,
   "id": "25e7ee96",
   "metadata": {
    "papermill": {
     "duration": null,
     "end_time": null,
     "exception": null,
     "start_time": null,
     "status": "pending"
    },
    "tags": []
   },
   "outputs": [],
   "source": [
    "'foo\\f\\f\\fbar'.splitlines()"
   ]
  },
  {
   "cell_type": "markdown",
   "id": "42d13280",
   "metadata": {
    "papermill": {
     "duration": null,
     "end_time": null,
     "exception": null,
     "start_time": null,
     "status": "pending"
    },
    "tags": []
   },
   "source": [
    "If the optional `<keepends>` argument is specified and is truthy, then the lines boundaries are retained in the result strings:"
   ]
  },
  {
   "cell_type": "code",
   "execution_count": null,
   "id": "3e2c5508",
   "metadata": {
    "papermill": {
     "duration": null,
     "end_time": null,
     "exception": null,
     "start_time": null,
     "status": "pending"
    },
    "tags": []
   },
   "outputs": [],
   "source": [
    "'foo\\nbar\\nbaz\\nqux'.splitlines(True)"
   ]
  },
  {
   "cell_type": "code",
   "execution_count": null,
   "id": "636233ba",
   "metadata": {
    "papermill": {
     "duration": null,
     "end_time": null,
     "exception": null,
     "start_time": null,
     "status": "pending"
    },
    "tags": []
   },
   "outputs": [],
   "source": [
    "'foo\\nbar\\nbaz\\nqux'.splitlines(1)"
   ]
  },
  {
   "cell_type": "markdown",
   "id": "adfc6c6f",
   "metadata": {
    "papermill": {
     "duration": null,
     "end_time": null,
     "exception": null,
     "start_time": null,
     "status": "pending"
    },
    "tags": []
   },
   "source": [
    "<a class=\"anchor\" id=\"list_methods\"></a>\n",
    "##  List Methods"
   ]
  },
  {
   "cell_type": "markdown",
   "id": "baa20073",
   "metadata": {
    "papermill": {
     "duration": null,
     "end_time": null,
     "exception": null,
     "start_time": null,
     "status": "pending"
    },
    "tags": []
   },
   "source": [
    "<a class=\"anchor\" id=\"methods_that_modify_a_list\"></a>\n",
    "### Methods That Modify a List"
   ]
  },
  {
   "cell_type": "markdown",
   "id": "2e84d710",
   "metadata": {
    "papermill": {
     "duration": null,
     "end_time": null,
     "exception": null,
     "start_time": null,
     "status": "pending"
    },
    "tags": []
   },
   "source": [
    "Python supplies several built-in methods that can be used to modify lists. Information on these methods is detailed below."
   ]
  },
  {
   "cell_type": "markdown",
   "id": "41cf2d71",
   "metadata": {
    "papermill": {
     "duration": null,
     "end_time": null,
     "exception": null,
     "start_time": null,
     "status": "pending"
    },
    "tags": []
   },
   "source": [
    "> **Note:** The string methods you saw in the previous tutorial did not modify the target string directly. That is because strings are immutable. Instead, string methods return a new string object that is modified as directed by the method. They leave the original target string unchanged:\n",
    "> ```python\n",
    "> >>> s = 'foobar'\n",
    "> >>> t = s.upper()\n",
    "> >>> print(s, t)\n",
    "> foobar FOOBAR\n",
    "> ```\n",
    "> List methods are different. Because lists are mutable, the list methods shown here modify the target list in place."
   ]
  },
  {
   "cell_type": "markdown",
   "id": "4e4c2732",
   "metadata": {
    "papermill": {
     "duration": null,
     "end_time": null,
     "exception": null,
     "start_time": null,
     "status": "pending"
    },
    "tags": []
   },
   "source": [
    "> `a.append(<obj>)`\n",
    ">     \n",
    "> Appends an object to a list."
   ]
  },
  {
   "cell_type": "markdown",
   "id": "550c5d48",
   "metadata": {
    "papermill": {
     "duration": null,
     "end_time": null,
     "exception": null,
     "start_time": null,
     "status": "pending"
    },
    "tags": []
   },
   "source": [
    "`a.append(<obj>)` appends object `<obj>` to the end of list `a`:"
   ]
  },
  {
   "cell_type": "code",
   "execution_count": null,
   "id": "ad645483",
   "metadata": {
    "papermill": {
     "duration": null,
     "end_time": null,
     "exception": null,
     "start_time": null,
     "status": "pending"
    },
    "tags": []
   },
   "outputs": [],
   "source": [
    "x = [1, 2, 3]"
   ]
  },
  {
   "cell_type": "code",
   "execution_count": null,
   "id": "01fa98b7",
   "metadata": {
    "papermill": {
     "duration": null,
     "end_time": null,
     "exception": null,
     "start_time": null,
     "status": "pending"
    },
    "tags": []
   },
   "outputs": [],
   "source": [
    "x.append(3)"
   ]
  },
  {
   "cell_type": "code",
   "execution_count": null,
   "id": "bb65d598",
   "metadata": {
    "papermill": {
     "duration": null,
     "end_time": null,
     "exception": null,
     "start_time": null,
     "status": "pending"
    },
    "tags": []
   },
   "outputs": [],
   "source": [
    "x"
   ]
  },
  {
   "cell_type": "code",
   "execution_count": null,
   "id": "8266e857",
   "metadata": {
    "papermill": {
     "duration": null,
     "end_time": null,
     "exception": null,
     "start_time": null,
     "status": "pending"
    },
    "tags": []
   },
   "outputs": [],
   "source": [
    "a = ['a', 'b']\n",
    "a.append(123)"
   ]
  },
  {
   "cell_type": "code",
   "execution_count": null,
   "id": "aba5bd39",
   "metadata": {
    "papermill": {
     "duration": null,
     "end_time": null,
     "exception": null,
     "start_time": null,
     "status": "pending"
    },
    "tags": []
   },
   "outputs": [],
   "source": [
    "a"
   ]
  },
  {
   "cell_type": "markdown",
   "id": "50691dc8",
   "metadata": {
    "papermill": {
     "duration": null,
     "end_time": null,
     "exception": null,
     "start_time": null,
     "status": "pending"
    },
    "tags": []
   },
   "source": [
    "Remember, list methods modify the target list in place. They do not return a new list:"
   ]
  },
  {
   "cell_type": "code",
   "execution_count": null,
   "id": "09420968",
   "metadata": {
    "papermill": {
     "duration": null,
     "end_time": null,
     "exception": null,
     "start_time": null,
     "status": "pending"
    },
    "tags": []
   },
   "outputs": [],
   "source": [
    "a = ['a', 'b']\n",
    "x = a.append(123)"
   ]
  },
  {
   "cell_type": "code",
   "execution_count": null,
   "id": "d6b46f89",
   "metadata": {
    "papermill": {
     "duration": null,
     "end_time": null,
     "exception": null,
     "start_time": null,
     "status": "pending"
    },
    "tags": []
   },
   "outputs": [],
   "source": [
    "print(x)"
   ]
  },
  {
   "cell_type": "code",
   "execution_count": null,
   "id": "9561eabc",
   "metadata": {
    "papermill": {
     "duration": null,
     "end_time": null,
     "exception": null,
     "start_time": null,
     "status": "pending"
    },
    "tags": []
   },
   "outputs": [],
   "source": [
    "a"
   ]
  },
  {
   "cell_type": "markdown",
   "id": "e629892a",
   "metadata": {
    "papermill": {
     "duration": null,
     "end_time": null,
     "exception": null,
     "start_time": null,
     "status": "pending"
    },
    "tags": []
   },
   "source": [
    "Remember that when the `+` operator is used to concatenate to a list, if the target operand is an iterable, then its elements are broken out and appended to the list individually:"
   ]
  },
  {
   "cell_type": "code",
   "execution_count": null,
   "id": "8b31521c",
   "metadata": {
    "papermill": {
     "duration": null,
     "end_time": null,
     "exception": null,
     "start_time": null,
     "status": "pending"
    },
    "tags": []
   },
   "outputs": [],
   "source": [
    "a = ['a', 'b']"
   ]
  },
  {
   "cell_type": "code",
   "execution_count": null,
   "id": "e3a06737",
   "metadata": {
    "papermill": {
     "duration": null,
     "end_time": null,
     "exception": null,
     "start_time": null,
     "status": "pending"
    },
    "tags": []
   },
   "outputs": [],
   "source": [
    "a + [1, 2, 3]"
   ]
  },
  {
   "cell_type": "markdown",
   "id": "b0351f9b",
   "metadata": {
    "papermill": {
     "duration": null,
     "end_time": null,
     "exception": null,
     "start_time": null,
     "status": "pending"
    },
    "tags": []
   },
   "source": [
    "The `.append()` method does not work that way! If an iterable is appended to a list with `.append()`, it is added as a single object:"
   ]
  },
  {
   "cell_type": "code",
   "execution_count": null,
   "id": "56552eac",
   "metadata": {
    "papermill": {
     "duration": null,
     "end_time": null,
     "exception": null,
     "start_time": null,
     "status": "pending"
    },
    "tags": []
   },
   "outputs": [],
   "source": [
    "a = ['a', 'b']\n",
    "a.append([1, 2, 3])"
   ]
  },
  {
   "cell_type": "code",
   "execution_count": null,
   "id": "ab90dae9",
   "metadata": {
    "papermill": {
     "duration": null,
     "end_time": null,
     "exception": null,
     "start_time": null,
     "status": "pending"
    },
    "tags": []
   },
   "outputs": [],
   "source": [
    "a"
   ]
  },
  {
   "cell_type": "markdown",
   "id": "ad114869",
   "metadata": {
    "papermill": {
     "duration": null,
     "end_time": null,
     "exception": null,
     "start_time": null,
     "status": "pending"
    },
    "tags": []
   },
   "source": [
    "Thus, with `.append()`, you can append a string as a single entity:"
   ]
  },
  {
   "cell_type": "code",
   "execution_count": null,
   "id": "4089c18f",
   "metadata": {
    "papermill": {
     "duration": null,
     "end_time": null,
     "exception": null,
     "start_time": null,
     "status": "pending"
    },
    "tags": []
   },
   "outputs": [],
   "source": [
    "a = ['a', 'b']\n",
    "a.append('foo')"
   ]
  },
  {
   "cell_type": "code",
   "execution_count": null,
   "id": "77f9604f",
   "metadata": {
    "papermill": {
     "duration": null,
     "end_time": null,
     "exception": null,
     "start_time": null,
     "status": "pending"
    },
    "tags": []
   },
   "outputs": [],
   "source": [
    "a"
   ]
  },
  {
   "cell_type": "markdown",
   "id": "20c39f9b",
   "metadata": {
    "papermill": {
     "duration": null,
     "end_time": null,
     "exception": null,
     "start_time": null,
     "status": "pending"
    },
    "tags": []
   },
   "source": [
    "> `a.extend(<iterable>)`\n",
    "> \n",
    "> Extends a list with the objects from an iterable."
   ]
  },
  {
   "cell_type": "markdown",
   "id": "7690d3ad",
   "metadata": {
    "papermill": {
     "duration": null,
     "end_time": null,
     "exception": null,
     "start_time": null,
     "status": "pending"
    },
    "tags": []
   },
   "source": [
    "Yes, this is probably what you think it is. `.extend()` also adds to the end of a list, but the argument is expected to be an iterable. The items in `<iterable>` are added individually:"
   ]
  },
  {
   "cell_type": "code",
   "execution_count": null,
   "id": "efb27de5",
   "metadata": {
    "papermill": {
     "duration": null,
     "end_time": null,
     "exception": null,
     "start_time": null,
     "status": "pending"
    },
    "tags": []
   },
   "outputs": [],
   "source": [
    "a = ['a', 'b']\n",
    "a.extend([1, 2, 3])"
   ]
  },
  {
   "cell_type": "code",
   "execution_count": null,
   "id": "fa37f984",
   "metadata": {
    "papermill": {
     "duration": null,
     "end_time": null,
     "exception": null,
     "start_time": null,
     "status": "pending"
    },
    "tags": []
   },
   "outputs": [],
   "source": [
    "a"
   ]
  },
  {
   "cell_type": "markdown",
   "id": "dde42d66",
   "metadata": {
    "papermill": {
     "duration": null,
     "end_time": null,
     "exception": null,
     "start_time": null,
     "status": "pending"
    },
    "tags": []
   },
   "source": [
    "In other words, `.extend()` behaves like the `+` operator. More precisely, since it modifies the list in place, it behaves like the `+=` operator:"
   ]
  },
  {
   "cell_type": "code",
   "execution_count": null,
   "id": "c8f03127",
   "metadata": {
    "papermill": {
     "duration": null,
     "end_time": null,
     "exception": null,
     "start_time": null,
     "status": "pending"
    },
    "tags": []
   },
   "outputs": [],
   "source": [
    "a = ['a', 'b']\n",
    "a += [1, 2, 3]"
   ]
  },
  {
   "cell_type": "code",
   "execution_count": null,
   "id": "7762bf6a",
   "metadata": {
    "papermill": {
     "duration": null,
     "end_time": null,
     "exception": null,
     "start_time": null,
     "status": "pending"
    },
    "tags": []
   },
   "outputs": [],
   "source": [
    "a"
   ]
  },
  {
   "cell_type": "markdown",
   "id": "1de59d1e",
   "metadata": {
    "papermill": {
     "duration": null,
     "end_time": null,
     "exception": null,
     "start_time": null,
     "status": "pending"
    },
    "tags": []
   },
   "source": [
    "> `a.insert(<index>, <obj>)`\n",
    "> \n",
    "> Inserts an object into a list."
   ]
  },
  {
   "cell_type": "markdown",
   "id": "41184d13",
   "metadata": {
    "papermill": {
     "duration": null,
     "end_time": null,
     "exception": null,
     "start_time": null,
     "status": "pending"
    },
    "tags": []
   },
   "source": [
    "`a.insert(<index>, <obj>)` inserts object `<obj>` into list a at the specified `<index>`. Following the method call, `a[<index>]` is `<obj>`, and the remaining list elements are pushed to the right:"
   ]
  },
  {
   "cell_type": "code",
   "execution_count": null,
   "id": "4fc393be",
   "metadata": {
    "papermill": {
     "duration": null,
     "end_time": null,
     "exception": null,
     "start_time": null,
     "status": "pending"
    },
    "tags": []
   },
   "outputs": [],
   "source": [
    "a = ['foo', 'bar', 'baz', 'qux', 'quux', 'corge']\n",
    "a.insert(3, 3.14159)"
   ]
  },
  {
   "cell_type": "code",
   "execution_count": null,
   "id": "4617fbda",
   "metadata": {
    "papermill": {
     "duration": null,
     "end_time": null,
     "exception": null,
     "start_time": null,
     "status": "pending"
    },
    "tags": []
   },
   "outputs": [],
   "source": [
    "a[3]"
   ]
  },
  {
   "cell_type": "code",
   "execution_count": null,
   "id": "bd11415e",
   "metadata": {
    "papermill": {
     "duration": null,
     "end_time": null,
     "exception": null,
     "start_time": null,
     "status": "pending"
    },
    "tags": []
   },
   "outputs": [],
   "source": [
    "a"
   ]
  },
  {
   "cell_type": "markdown",
   "id": "8721dd65",
   "metadata": {
    "papermill": {
     "duration": null,
     "end_time": null,
     "exception": null,
     "start_time": null,
     "status": "pending"
    },
    "tags": []
   },
   "source": [
    "> `a.remove(<obj>)`\n",
    "> \n",
    "> Removes an object from a list."
   ]
  },
  {
   "cell_type": "markdown",
   "id": "7900c651",
   "metadata": {
    "papermill": {
     "duration": null,
     "end_time": null,
     "exception": null,
     "start_time": null,
     "status": "pending"
    },
    "tags": []
   },
   "source": [
    "`a.remove(<obj>)` removes object `<obj>` from list a. If `<obj>` isn’t in `a`, an exception is raised:"
   ]
  },
  {
   "cell_type": "code",
   "execution_count": null,
   "id": "ba308e99",
   "metadata": {
    "papermill": {
     "duration": null,
     "end_time": null,
     "exception": null,
     "start_time": null,
     "status": "pending"
    },
    "tags": []
   },
   "outputs": [],
   "source": [
    "a = ['foo', 'bar', 'baz', 'qux', 'quux', 'corge']\n",
    "a.remove('baz')"
   ]
  },
  {
   "cell_type": "code",
   "execution_count": null,
   "id": "ee0cb827",
   "metadata": {
    "papermill": {
     "duration": null,
     "end_time": null,
     "exception": null,
     "start_time": null,
     "status": "pending"
    },
    "tags": []
   },
   "outputs": [],
   "source": [
    "a"
   ]
  },
  {
   "cell_type": "code",
   "execution_count": null,
   "id": "a0315f50",
   "metadata": {
    "papermill": {
     "duration": null,
     "end_time": null,
     "exception": null,
     "start_time": null,
     "status": "pending"
    },
    "tags": []
   },
   "outputs": [],
   "source": [
    "a.remove('Bark!')"
   ]
  },
  {
   "cell_type": "markdown",
   "id": "6fc06284",
   "metadata": {
    "papermill": {
     "duration": null,
     "end_time": null,
     "exception": null,
     "start_time": null,
     "status": "pending"
    },
    "tags": []
   },
   "source": [
    "> `a.pop(index=-1)`\n",
    "> \n",
    "> Removes an element from a list."
   ]
  },
  {
   "cell_type": "markdown",
   "id": "4227a183",
   "metadata": {
    "papermill": {
     "duration": null,
     "end_time": null,
     "exception": null,
     "start_time": null,
     "status": "pending"
    },
    "tags": []
   },
   "source": [
    "This method differs from `.remove()` in two ways:\n",
    "\n",
    "- You specify the index of the item to remove, rather than the object itself.\n",
    "- The method returns a value: the item that was removed."
   ]
  },
  {
   "cell_type": "markdown",
   "id": "625fe972",
   "metadata": {
    "papermill": {
     "duration": null,
     "end_time": null,
     "exception": null,
     "start_time": null,
     "status": "pending"
    },
    "tags": []
   },
   "source": [
    "`a.pop()` simply removes the last item in the list:"
   ]
  },
  {
   "cell_type": "code",
   "execution_count": null,
   "id": "8964137f",
   "metadata": {
    "papermill": {
     "duration": null,
     "end_time": null,
     "exception": null,
     "start_time": null,
     "status": "pending"
    },
    "tags": []
   },
   "outputs": [],
   "source": [
    "a = ['foo', 'bar', 'baz', 'qux', 'quux', 'corge']"
   ]
  },
  {
   "cell_type": "code",
   "execution_count": null,
   "id": "a6cae2e6",
   "metadata": {
    "papermill": {
     "duration": null,
     "end_time": null,
     "exception": null,
     "start_time": null,
     "status": "pending"
    },
    "tags": []
   },
   "outputs": [],
   "source": [
    "a.pop()"
   ]
  },
  {
   "cell_type": "code",
   "execution_count": null,
   "id": "0b3117da",
   "metadata": {
    "papermill": {
     "duration": null,
     "end_time": null,
     "exception": null,
     "start_time": null,
     "status": "pending"
    },
    "tags": []
   },
   "outputs": [],
   "source": [
    "a"
   ]
  },
  {
   "cell_type": "code",
   "execution_count": null,
   "id": "9974faa8",
   "metadata": {
    "papermill": {
     "duration": null,
     "end_time": null,
     "exception": null,
     "start_time": null,
     "status": "pending"
    },
    "tags": []
   },
   "outputs": [],
   "source": [
    "a.pop()"
   ]
  },
  {
   "cell_type": "code",
   "execution_count": null,
   "id": "1254a9c5",
   "metadata": {
    "papermill": {
     "duration": null,
     "end_time": null,
     "exception": null,
     "start_time": null,
     "status": "pending"
    },
    "tags": []
   },
   "outputs": [],
   "source": [
    "a"
   ]
  },
  {
   "cell_type": "markdown",
   "id": "294d8822",
   "metadata": {
    "papermill": {
     "duration": null,
     "end_time": null,
     "exception": null,
     "start_time": null,
     "status": "pending"
    },
    "tags": []
   },
   "source": [
    "If the optional `<index>` parameter is specified, the item at that index is removed and returned. `<index>` may be negative, as with string and list indexing:"
   ]
  },
  {
   "cell_type": "code",
   "execution_count": null,
   "id": "b0147161",
   "metadata": {
    "papermill": {
     "duration": null,
     "end_time": null,
     "exception": null,
     "start_time": null,
     "status": "pending"
    },
    "tags": []
   },
   "outputs": [],
   "source": [
    "a = ['foo', 'bar', 'baz', 'qux', 'quux', 'corge']"
   ]
  },
  {
   "cell_type": "code",
   "execution_count": null,
   "id": "0417fbe0",
   "metadata": {
    "papermill": {
     "duration": null,
     "end_time": null,
     "exception": null,
     "start_time": null,
     "status": "pending"
    },
    "tags": []
   },
   "outputs": [],
   "source": [
    "a.pop(1)"
   ]
  },
  {
   "cell_type": "code",
   "execution_count": null,
   "id": "ace15c3b",
   "metadata": {
    "papermill": {
     "duration": null,
     "end_time": null,
     "exception": null,
     "start_time": null,
     "status": "pending"
    },
    "tags": []
   },
   "outputs": [],
   "source": [
    "a"
   ]
  },
  {
   "cell_type": "code",
   "execution_count": null,
   "id": "bb1e6f84",
   "metadata": {
    "papermill": {
     "duration": null,
     "end_time": null,
     "exception": null,
     "start_time": null,
     "status": "pending"
    },
    "tags": []
   },
   "outputs": [],
   "source": [
    "a.pop(-3)"
   ]
  },
  {
   "cell_type": "code",
   "execution_count": null,
   "id": "d5e1a2d0",
   "metadata": {
    "papermill": {
     "duration": null,
     "end_time": null,
     "exception": null,
     "start_time": null,
     "status": "pending"
    },
    "tags": []
   },
   "outputs": [],
   "source": [
    "a"
   ]
  },
  {
   "cell_type": "markdown",
   "id": "7a921ed1",
   "metadata": {
    "papermill": {
     "duration": null,
     "end_time": null,
     "exception": null,
     "start_time": null,
     "status": "pending"
    },
    "tags": []
   },
   "source": [
    "`<index>` defaults to `-1`, so `a.pop(-1)` is equivalent to `a.pop()`."
   ]
  },
  {
   "cell_type": "markdown",
   "id": "15710d32",
   "metadata": {
    "papermill": {
     "duration": null,
     "end_time": null,
     "exception": null,
     "start_time": null,
     "status": "pending"
    },
    "tags": []
   },
   "source": [
    "<a class=\"anchor\" id=\"`tuple`_methods\"></a>\n",
    "## `tuple` Methods"
   ]
  },
  {
   "cell_type": "markdown",
   "id": "29bd731f",
   "metadata": {
    "papermill": {
     "duration": null,
     "end_time": null,
     "exception": null,
     "start_time": null,
     "status": "pending"
    },
    "tags": []
   },
   "source": [
    "Tuples are immutable, so they don't have many built-in methods (and that's why they are a lighter data type compared to lists)."
   ]
  },
  {
   "cell_type": "markdown",
   "id": "676b34a4",
   "metadata": {
    "papermill": {
     "duration": null,
     "end_time": null,
     "exception": null,
     "start_time": null,
     "status": "pending"
    },
    "tags": []
   },
   "source": [
    "> `t.count(<value>)`\n",
    "> \n",
    "> Counts occurrences of `<value>` in the target tuple."
   ]
  },
  {
   "cell_type": "code",
   "execution_count": null,
   "id": "0a4b6f56",
   "metadata": {
    "papermill": {
     "duration": null,
     "end_time": null,
     "exception": null,
     "start_time": null,
     "status": "pending"
    },
    "tags": []
   },
   "outputs": [],
   "source": [
    "t = (1, 1, 1, 2, 2, 3)"
   ]
  },
  {
   "cell_type": "code",
   "execution_count": null,
   "id": "6910dbc7",
   "metadata": {
    "papermill": {
     "duration": null,
     "end_time": null,
     "exception": null,
     "start_time": null,
     "status": "pending"
    },
    "tags": []
   },
   "outputs": [],
   "source": [
    "t.count(1)"
   ]
  },
  {
   "cell_type": "code",
   "execution_count": null,
   "id": "96bd3432",
   "metadata": {
    "papermill": {
     "duration": null,
     "end_time": null,
     "exception": null,
     "start_time": null,
     "status": "pending"
    },
    "tags": []
   },
   "outputs": [],
   "source": [
    "t.count(2)"
   ]
  },
  {
   "cell_type": "markdown",
   "id": "c180ccd3",
   "metadata": {
    "papermill": {
     "duration": null,
     "end_time": null,
     "exception": null,
     "start_time": null,
     "status": "pending"
    },
    "tags": []
   },
   "source": [
    "> `t.index(<value>[, <start>[, <stop>]])`\n",
    "> \n",
    "> Searches the target tuple for a given value.(<value>)"
   ]
  },
  {
   "cell_type": "code",
   "execution_count": null,
   "id": "ed8996a9",
   "metadata": {
    "papermill": {
     "duration": null,
     "end_time": null,
     "exception": null,
     "start_time": null,
     "status": "pending"
    },
    "tags": []
   },
   "outputs": [],
   "source": [
    "t = ['foo', 'bar', 'baz', 'qux', 'quux', 'corge']"
   ]
  },
  {
   "cell_type": "code",
   "execution_count": null,
   "id": "24419c6b",
   "metadata": {
    "papermill": {
     "duration": null,
     "end_time": null,
     "exception": null,
     "start_time": null,
     "status": "pending"
    },
    "tags": []
   },
   "outputs": [],
   "source": [
    "t.index('baz')"
   ]
  },
  {
   "cell_type": "code",
   "execution_count": null,
   "id": "6030e72b",
   "metadata": {
    "papermill": {
     "duration": null,
     "end_time": null,
     "exception": null,
     "start_time": null,
     "status": "pending"
    },
    "tags": []
   },
   "outputs": [],
   "source": [
    "t.index('Bark!')"
   ]
  },
  {
   "cell_type": "markdown",
   "id": "c76af049",
   "metadata": {
    "papermill": {
     "duration": null,
     "end_time": null,
     "exception": null,
     "start_time": null,
     "status": "pending"
    },
    "tags": []
   },
   "source": [
    "<a class=\"anchor\" id=\"dictionary_methods\"></a>\n",
    "## Dictionary Methods"
   ]
  },
  {
   "cell_type": "markdown",
   "id": "463f09e3",
   "metadata": {
    "papermill": {
     "duration": null,
     "end_time": null,
     "exception": null,
     "start_time": null,
     "status": "pending"
    },
    "tags": []
   },
   "source": [
    "As with strings and lists, there are several built-in methods that can be invoked on dictionaries. In fact, in some cases, the list and dictionary methods share the same name. (In the discussion on object-oriented programming, you will see that it is perfectly acceptable for different types to have methods with the same name.)"
   ]
  },
  {
   "cell_type": "markdown",
   "id": "198bf083",
   "metadata": {
    "papermill": {
     "duration": null,
     "end_time": null,
     "exception": null,
     "start_time": null,
     "status": "pending"
    },
    "tags": []
   },
   "source": [
    "The following is an overview of methods that apply to dictionaries:"
   ]
  },
  {
   "cell_type": "markdown",
   "id": "edc4842d",
   "metadata": {
    "papermill": {
     "duration": null,
     "end_time": null,
     "exception": null,
     "start_time": null,
     "status": "pending"
    },
    "tags": []
   },
   "source": [
    "> `d.clear()`\n",
    "> \n",
    "> Clears a dictionary."
   ]
  },
  {
   "cell_type": "markdown",
   "id": "6cc79214",
   "metadata": {
    "papermill": {
     "duration": null,
     "end_time": null,
     "exception": null,
     "start_time": null,
     "status": "pending"
    },
    "tags": []
   },
   "source": [
    "`d.clear()` empties dictionary `d` of all key-value pairs:"
   ]
  },
  {
   "cell_type": "code",
   "execution_count": null,
   "id": "3f1ba673",
   "metadata": {
    "papermill": {
     "duration": null,
     "end_time": null,
     "exception": null,
     "start_time": null,
     "status": "pending"
    },
    "tags": []
   },
   "outputs": [],
   "source": [
    "d = {'a': 10, 'b': 20, 'c': 30}"
   ]
  },
  {
   "cell_type": "code",
   "execution_count": null,
   "id": "04a8434b",
   "metadata": {
    "papermill": {
     "duration": null,
     "end_time": null,
     "exception": null,
     "start_time": null,
     "status": "pending"
    },
    "tags": []
   },
   "outputs": [],
   "source": [
    "d"
   ]
  },
  {
   "cell_type": "code",
   "execution_count": null,
   "id": "43c466b1",
   "metadata": {
    "papermill": {
     "duration": null,
     "end_time": null,
     "exception": null,
     "start_time": null,
     "status": "pending"
    },
    "tags": []
   },
   "outputs": [],
   "source": [
    "d.clear()"
   ]
  },
  {
   "cell_type": "code",
   "execution_count": null,
   "id": "49550fa2",
   "metadata": {
    "papermill": {
     "duration": null,
     "end_time": null,
     "exception": null,
     "start_time": null,
     "status": "pending"
    },
    "tags": []
   },
   "outputs": [],
   "source": [
    "d"
   ]
  },
  {
   "cell_type": "markdown",
   "id": "af45eec3",
   "metadata": {
    "papermill": {
     "duration": null,
     "end_time": null,
     "exception": null,
     "start_time": null,
     "status": "pending"
    },
    "tags": []
   },
   "source": [
    "> `d.get(<key>[, <default>])`\n",
    "> \n",
    "> Returns the value for a key if it exists in the dictionary."
   ]
  },
  {
   "cell_type": "markdown",
   "id": "f6de2913",
   "metadata": {
    "papermill": {
     "duration": null,
     "end_time": null,
     "exception": null,
     "start_time": null,
     "status": "pending"
    },
    "tags": []
   },
   "source": [
    "The Python dictionary `.get()` method provides a convenient way of getting the value of a key from a dictionary without checking ahead of time whether the key exists, and without raising an error."
   ]
  },
  {
   "cell_type": "markdown",
   "id": "3a9a9018",
   "metadata": {
    "papermill": {
     "duration": null,
     "end_time": null,
     "exception": null,
     "start_time": null,
     "status": "pending"
    },
    "tags": []
   },
   "source": [
    "`d.get(<key>)` searches dictionary `d` for `<key>` and returns the associated value if it is found. If `<key>` is not found, it returns `None`:"
   ]
  },
  {
   "cell_type": "code",
   "execution_count": null,
   "id": "91b9ae1a",
   "metadata": {
    "papermill": {
     "duration": null,
     "end_time": null,
     "exception": null,
     "start_time": null,
     "status": "pending"
    },
    "tags": []
   },
   "outputs": [],
   "source": [
    "d = {'a': 10, 'b': 20, 'c': 30}"
   ]
  },
  {
   "cell_type": "code",
   "execution_count": null,
   "id": "f20fd2f4",
   "metadata": {
    "papermill": {
     "duration": null,
     "end_time": null,
     "exception": null,
     "start_time": null,
     "status": "pending"
    },
    "tags": []
   },
   "outputs": [],
   "source": [
    "print(d.get('b'))"
   ]
  },
  {
   "cell_type": "code",
   "execution_count": null,
   "id": "e39f6b5a",
   "metadata": {
    "papermill": {
     "duration": null,
     "end_time": null,
     "exception": null,
     "start_time": null,
     "status": "pending"
    },
    "tags": []
   },
   "outputs": [],
   "source": [
    "print(d.get('z'))"
   ]
  },
  {
   "cell_type": "markdown",
   "id": "1e027b0d",
   "metadata": {
    "papermill": {
     "duration": null,
     "end_time": null,
     "exception": null,
     "start_time": null,
     "status": "pending"
    },
    "tags": []
   },
   "source": [
    "If `<key>` is not found and the optional `<default>` argument is specified, that value is returned instead of `None`:"
   ]
  },
  {
   "cell_type": "code",
   "execution_count": null,
   "id": "b0a10267",
   "metadata": {
    "papermill": {
     "duration": null,
     "end_time": null,
     "exception": null,
     "start_time": null,
     "status": "pending"
    },
    "tags": []
   },
   "outputs": [],
   "source": [
    "print(d.get('z', -1))"
   ]
  },
  {
   "cell_type": "markdown",
   "id": "f8dc4e56",
   "metadata": {
    "papermill": {
     "duration": null,
     "end_time": null,
     "exception": null,
     "start_time": null,
     "status": "pending"
    },
    "tags": []
   },
   "source": [
    "> `d.items()`\n",
    "> \n",
    "> Returns a list of key-value pairs in a dictionary."
   ]
  },
  {
   "cell_type": "markdown",
   "id": "f9627f7e",
   "metadata": {
    "papermill": {
     "duration": null,
     "end_time": null,
     "exception": null,
     "start_time": null,
     "status": "pending"
    },
    "tags": []
   },
   "source": [
    "`d.items()` returns a list of tuples containing the key-value pairs in `d`. The first item in each tuple is the key, and the second item is the key’s value:"
   ]
  },
  {
   "cell_type": "code",
   "execution_count": null,
   "id": "076a199b",
   "metadata": {
    "papermill": {
     "duration": null,
     "end_time": null,
     "exception": null,
     "start_time": null,
     "status": "pending"
    },
    "tags": []
   },
   "outputs": [],
   "source": [
    "d = {'a': 10, 'b': 20, 'c': 30}\n",
    "d"
   ]
  },
  {
   "cell_type": "code",
   "execution_count": null,
   "id": "2afda817",
   "metadata": {
    "papermill": {
     "duration": null,
     "end_time": null,
     "exception": null,
     "start_time": null,
     "status": "pending"
    },
    "tags": []
   },
   "outputs": [],
   "source": [
    "list(d.items())"
   ]
  },
  {
   "cell_type": "code",
   "execution_count": null,
   "id": "78050ffe",
   "metadata": {
    "papermill": {
     "duration": null,
     "end_time": null,
     "exception": null,
     "start_time": null,
     "status": "pending"
    },
    "tags": []
   },
   "outputs": [],
   "source": [
    "list(d.items())[1][0]"
   ]
  },
  {
   "cell_type": "code",
   "execution_count": null,
   "id": "6e7f38b6",
   "metadata": {
    "papermill": {
     "duration": null,
     "end_time": null,
     "exception": null,
     "start_time": null,
     "status": "pending"
    },
    "tags": []
   },
   "outputs": [],
   "source": [
    "list(d.items())[1][1]"
   ]
  },
  {
   "cell_type": "markdown",
   "id": "15f3224e",
   "metadata": {
    "papermill": {
     "duration": null,
     "end_time": null,
     "exception": null,
     "start_time": null,
     "status": "pending"
    },
    "tags": []
   },
   "source": [
    "> `d.keys()`\n",
    "> \n",
    "> Returns a list of keys in a dictionary."
   ]
  },
  {
   "cell_type": "markdown",
   "id": "8c3d4647",
   "metadata": {
    "papermill": {
     "duration": null,
     "end_time": null,
     "exception": null,
     "start_time": null,
     "status": "pending"
    },
    "tags": []
   },
   "source": [
    "`d.keys()` returns a list of all keys in `d`:"
   ]
  },
  {
   "cell_type": "code",
   "execution_count": null,
   "id": "c2b59b50",
   "metadata": {
    "papermill": {
     "duration": null,
     "end_time": null,
     "exception": null,
     "start_time": null,
     "status": "pending"
    },
    "tags": []
   },
   "outputs": [],
   "source": [
    "d = {'a': 10, 'b': 20, 'c': 30}\n",
    "d"
   ]
  },
  {
   "cell_type": "code",
   "execution_count": null,
   "id": "9e660638",
   "metadata": {
    "papermill": {
     "duration": null,
     "end_time": null,
     "exception": null,
     "start_time": null,
     "status": "pending"
    },
    "tags": []
   },
   "outputs": [],
   "source": [
    "list(d.keys())"
   ]
  },
  {
   "cell_type": "markdown",
   "id": "f9306937",
   "metadata": {
    "papermill": {
     "duration": null,
     "end_time": null,
     "exception": null,
     "start_time": null,
     "status": "pending"
    },
    "tags": []
   },
   "source": [
    "> `d.values()`\n",
    "> \n",
    "> Returns a list of values in a dictionary."
   ]
  },
  {
   "cell_type": "markdown",
   "id": "0132fcd3",
   "metadata": {
    "papermill": {
     "duration": null,
     "end_time": null,
     "exception": null,
     "start_time": null,
     "status": "pending"
    },
    "tags": []
   },
   "source": [
    "`d.values()` returns a list of all values in `d`:"
   ]
  },
  {
   "cell_type": "code",
   "execution_count": null,
   "id": "1ec0ff93",
   "metadata": {
    "papermill": {
     "duration": null,
     "end_time": null,
     "exception": null,
     "start_time": null,
     "status": "pending"
    },
    "tags": []
   },
   "outputs": [],
   "source": [
    "d = {'a': 10, 'b': 20, 'c': 30}\n",
    "d"
   ]
  },
  {
   "cell_type": "code",
   "execution_count": null,
   "id": "aa590eec",
   "metadata": {
    "papermill": {
     "duration": null,
     "end_time": null,
     "exception": null,
     "start_time": null,
     "status": "pending"
    },
    "tags": []
   },
   "outputs": [],
   "source": [
    "list(d.values())"
   ]
  },
  {
   "cell_type": "markdown",
   "id": "ff47d05d",
   "metadata": {
    "papermill": {
     "duration": null,
     "end_time": null,
     "exception": null,
     "start_time": null,
     "status": "pending"
    },
    "tags": []
   },
   "source": [
    "Any duplicate values in d will be returned as many times as they occur:"
   ]
  },
  {
   "cell_type": "code",
   "execution_count": null,
   "id": "15db6568",
   "metadata": {
    "papermill": {
     "duration": null,
     "end_time": null,
     "exception": null,
     "start_time": null,
     "status": "pending"
    },
    "tags": []
   },
   "outputs": [],
   "source": [
    "d = {'a': 10, 'b': 10, 'c': 10}\n",
    "d"
   ]
  },
  {
   "cell_type": "code",
   "execution_count": null,
   "id": "abcd6b91",
   "metadata": {
    "papermill": {
     "duration": null,
     "end_time": null,
     "exception": null,
     "start_time": null,
     "status": "pending"
    },
    "tags": []
   },
   "outputs": [],
   "source": [
    "list(d.values())"
   ]
  },
  {
   "cell_type": "markdown",
   "id": "ce8734f3",
   "metadata": {
    "papermill": {
     "duration": null,
     "end_time": null,
     "exception": null,
     "start_time": null,
     "status": "pending"
    },
    "tags": []
   },
   "source": [
    "**Technical Note:** The `.items()`, `.keys()`, and `.values()` methods actually return something called a **view object**. A dictionary view object is more or less like a window on the keys and values. For practical purposes, you can think of these methods as returning lists of the dictionary’s keys and values."
   ]
  },
  {
   "cell_type": "markdown",
   "id": "8a27dca9",
   "metadata": {
    "papermill": {
     "duration": null,
     "end_time": null,
     "exception": null,
     "start_time": null,
     "status": "pending"
    },
    "tags": []
   },
   "source": [
    "> `d.pop(<key>[, <default>])`\n",
    "> \n",
    "> Removes a key from a dictionary, if it is present, and returns its value."
   ]
  },
  {
   "cell_type": "markdown",
   "id": "39ef9594",
   "metadata": {
    "papermill": {
     "duration": null,
     "end_time": null,
     "exception": null,
     "start_time": null,
     "status": "pending"
    },
    "tags": []
   },
   "source": [
    "If `<key>` is present in `d`, `d.pop(<key>)` removes `<key>` and returns its associated value:"
   ]
  },
  {
   "cell_type": "code",
   "execution_count": null,
   "id": "78621156",
   "metadata": {
    "papermill": {
     "duration": null,
     "end_time": null,
     "exception": null,
     "start_time": null,
     "status": "pending"
    },
    "tags": []
   },
   "outputs": [],
   "source": [
    "d = {'a': 10, 'b': 20, 'c': 30}"
   ]
  },
  {
   "cell_type": "code",
   "execution_count": null,
   "id": "7f23a7ba",
   "metadata": {
    "papermill": {
     "duration": null,
     "end_time": null,
     "exception": null,
     "start_time": null,
     "status": "pending"
    },
    "tags": []
   },
   "outputs": [],
   "source": [
    "d.pop('b')"
   ]
  },
  {
   "cell_type": "code",
   "execution_count": null,
   "id": "e3099327",
   "metadata": {
    "papermill": {
     "duration": null,
     "end_time": null,
     "exception": null,
     "start_time": null,
     "status": "pending"
    },
    "tags": []
   },
   "outputs": [],
   "source": [
    "d"
   ]
  },
  {
   "cell_type": "markdown",
   "id": "b065e31a",
   "metadata": {
    "papermill": {
     "duration": null,
     "end_time": null,
     "exception": null,
     "start_time": null,
     "status": "pending"
    },
    "tags": []
   },
   "source": [
    "`d.pop(<key>)` raises a `KeyError` exception if `<key>` is not in `d`:"
   ]
  },
  {
   "cell_type": "code",
   "execution_count": null,
   "id": "7560d9a0",
   "metadata": {
    "papermill": {
     "duration": null,
     "end_time": null,
     "exception": null,
     "start_time": null,
     "status": "pending"
    },
    "tags": []
   },
   "outputs": [],
   "source": [
    "d = {'a': 10, 'b': 20, 'c': 30}"
   ]
  },
  {
   "cell_type": "code",
   "execution_count": null,
   "id": "b9933e39",
   "metadata": {
    "papermill": {
     "duration": null,
     "end_time": null,
     "exception": null,
     "start_time": null,
     "status": "pending"
    },
    "tags": []
   },
   "outputs": [],
   "source": [
    "d.pop('z')"
   ]
  },
  {
   "cell_type": "markdown",
   "id": "97546dc5",
   "metadata": {
    "papermill": {
     "duration": null,
     "end_time": null,
     "exception": null,
     "start_time": null,
     "status": "pending"
    },
    "tags": []
   },
   "source": [
    "If `<key>` is not in d, and the optional `<default>` argument is specified, then that value is returned, and no exception is raised:"
   ]
  },
  {
   "cell_type": "code",
   "execution_count": null,
   "id": "5d306f95",
   "metadata": {
    "papermill": {
     "duration": null,
     "end_time": null,
     "exception": null,
     "start_time": null,
     "status": "pending"
    },
    "tags": []
   },
   "outputs": [],
   "source": [
    "d = {'a': 10, 'b': 20, 'c': 30}"
   ]
  },
  {
   "cell_type": "code",
   "execution_count": null,
   "id": "7f59e3bb",
   "metadata": {
    "papermill": {
     "duration": null,
     "end_time": null,
     "exception": null,
     "start_time": null,
     "status": "pending"
    },
    "tags": []
   },
   "outputs": [],
   "source": [
    "d.pop('z', -1)"
   ]
  },
  {
   "cell_type": "code",
   "execution_count": null,
   "id": "e4ae36e4",
   "metadata": {
    "papermill": {
     "duration": null,
     "end_time": null,
     "exception": null,
     "start_time": null,
     "status": "pending"
    },
    "tags": []
   },
   "outputs": [],
   "source": [
    "d"
   ]
  },
  {
   "cell_type": "markdown",
   "id": "fa9fd5d1",
   "metadata": {
    "papermill": {
     "duration": null,
     "end_time": null,
     "exception": null,
     "start_time": null,
     "status": "pending"
    },
    "tags": []
   },
   "source": [
    "> `d.popitem()`\n",
    "> \n",
    "> Removes a key-value pair from a dictionary."
   ]
  },
  {
   "cell_type": "markdown",
   "id": "ec12a962",
   "metadata": {
    "papermill": {
     "duration": null,
     "end_time": null,
     "exception": null,
     "start_time": null,
     "status": "pending"
    },
    "tags": []
   },
   "source": [
    "`d.popitem()` removes the last key-value pair added from `d` and returns it as a tuple:"
   ]
  },
  {
   "cell_type": "code",
   "execution_count": null,
   "id": "837a5629",
   "metadata": {
    "papermill": {
     "duration": null,
     "end_time": null,
     "exception": null,
     "start_time": null,
     "status": "pending"
    },
    "tags": []
   },
   "outputs": [],
   "source": [
    "d = {'a': 10, 'b': 20, 'c': 30}"
   ]
  },
  {
   "cell_type": "code",
   "execution_count": null,
   "id": "f21cb19b",
   "metadata": {
    "papermill": {
     "duration": null,
     "end_time": null,
     "exception": null,
     "start_time": null,
     "status": "pending"
    },
    "tags": []
   },
   "outputs": [],
   "source": [
    "d.popitem()"
   ]
  },
  {
   "cell_type": "code",
   "execution_count": null,
   "id": "40eb5cb8",
   "metadata": {
    "papermill": {
     "duration": null,
     "end_time": null,
     "exception": null,
     "start_time": null,
     "status": "pending"
    },
    "tags": []
   },
   "outputs": [],
   "source": [
    "d"
   ]
  },
  {
   "cell_type": "code",
   "execution_count": null,
   "id": "13cbd071",
   "metadata": {
    "papermill": {
     "duration": null,
     "end_time": null,
     "exception": null,
     "start_time": null,
     "status": "pending"
    },
    "tags": []
   },
   "outputs": [],
   "source": [
    "d.popitem()"
   ]
  },
  {
   "cell_type": "code",
   "execution_count": null,
   "id": "bf633bc9",
   "metadata": {
    "papermill": {
     "duration": null,
     "end_time": null,
     "exception": null,
     "start_time": null,
     "status": "pending"
    },
    "tags": []
   },
   "outputs": [],
   "source": [
    "d"
   ]
  },
  {
   "cell_type": "markdown",
   "id": "09d16b7b",
   "metadata": {
    "papermill": {
     "duration": null,
     "end_time": null,
     "exception": null,
     "start_time": null,
     "status": "pending"
    },
    "tags": []
   },
   "source": [
    "If `d` is empty, `d.popitem()` raises a `KeyError` exception:"
   ]
  },
  {
   "cell_type": "code",
   "execution_count": null,
   "id": "c10c6f81",
   "metadata": {
    "papermill": {
     "duration": null,
     "end_time": null,
     "exception": null,
     "start_time": null,
     "status": "pending"
    },
    "tags": []
   },
   "outputs": [],
   "source": [
    "d = {}"
   ]
  },
  {
   "cell_type": "code",
   "execution_count": null,
   "id": "6c20a3e5",
   "metadata": {
    "papermill": {
     "duration": null,
     "end_time": null,
     "exception": null,
     "start_time": null,
     "status": "pending"
    },
    "tags": []
   },
   "outputs": [],
   "source": [
    "d.popitem()"
   ]
  },
  {
   "cell_type": "markdown",
   "id": "1ea770c8",
   "metadata": {
    "papermill": {
     "duration": null,
     "end_time": null,
     "exception": null,
     "start_time": null,
     "status": "pending"
    },
    "tags": []
   },
   "source": [
    "> `d.update(<obj>)`\n",
    "> \n",
    "> Merges a dictionary with another dictionary or with an iterable of key-value pairs."
   ]
  },
  {
   "cell_type": "markdown",
   "id": "93a9b240",
   "metadata": {
    "papermill": {
     "duration": null,
     "end_time": null,
     "exception": null,
     "start_time": null,
     "status": "pending"
    },
    "tags": []
   },
   "source": [
    "If `<obj>` is a dictionary, `d.update(<obj>)` merges the entries from `<obj>` into `d`. For each key in `<obj>`:\n",
    "\n",
    "- If the key is not present in `d`, the key-value pair from `<obj>` is added to `d`.\n",
    "- If the key is already present in `d`, the corresponding value in `d` for that key is updated to the value from `<obj>`."
   ]
  },
  {
   "cell_type": "markdown",
   "id": "2c931d1b",
   "metadata": {
    "papermill": {
     "duration": null,
     "end_time": null,
     "exception": null,
     "start_time": null,
     "status": "pending"
    },
    "tags": []
   },
   "source": [
    "Here is an example showing two dictionaries merged together:"
   ]
  },
  {
   "cell_type": "code",
   "execution_count": null,
   "id": "b8396291",
   "metadata": {
    "papermill": {
     "duration": null,
     "end_time": null,
     "exception": null,
     "start_time": null,
     "status": "pending"
    },
    "tags": []
   },
   "outputs": [],
   "source": [
    "d1 = {'a': 10, 'b': 20, 'c': 30}\n",
    "d2 = {'b': 200, 'd': 400}"
   ]
  },
  {
   "cell_type": "code",
   "execution_count": null,
   "id": "794e0373",
   "metadata": {
    "papermill": {
     "duration": null,
     "end_time": null,
     "exception": null,
     "start_time": null,
     "status": "pending"
    },
    "tags": []
   },
   "outputs": [],
   "source": [
    "d1.update(d2)"
   ]
  },
  {
   "cell_type": "code",
   "execution_count": null,
   "id": "0acef047",
   "metadata": {
    "papermill": {
     "duration": null,
     "end_time": null,
     "exception": null,
     "start_time": null,
     "status": "pending"
    },
    "tags": []
   },
   "outputs": [],
   "source": [
    "d1"
   ]
  },
  {
   "cell_type": "markdown",
   "id": "2943e44b",
   "metadata": {
    "papermill": {
     "duration": null,
     "end_time": null,
     "exception": null,
     "start_time": null,
     "status": "pending"
    },
    "tags": []
   },
   "source": [
    "In this example, key `'b'` already exists in `d1`, so its value is updated to `200`, the value for that key from `d2`. However, there is no key `'d'` in `d1`, so that key-value pair is added from `d2`."
   ]
  },
  {
   "cell_type": "markdown",
   "id": "ae1c04c3",
   "metadata": {
    "papermill": {
     "duration": null,
     "end_time": null,
     "exception": null,
     "start_time": null,
     "status": "pending"
    },
    "tags": []
   },
   "source": [
    "`<obj>` may also be a sequence of key-value pairs, similar to when the `dict()` function is used to define a dictionary. For example, `<obj>` can be specified as a list of tuples:"
   ]
  },
  {
   "cell_type": "code",
   "execution_count": null,
   "id": "6403b7ac",
   "metadata": {
    "papermill": {
     "duration": null,
     "end_time": null,
     "exception": null,
     "start_time": null,
     "status": "pending"
    },
    "tags": []
   },
   "outputs": [],
   "source": [
    "d1 = {'a': 10, 'b': 20, 'c': 30}"
   ]
  },
  {
   "cell_type": "code",
   "execution_count": null,
   "id": "ad561af4",
   "metadata": {
    "papermill": {
     "duration": null,
     "end_time": null,
     "exception": null,
     "start_time": null,
     "status": "pending"
    },
    "tags": []
   },
   "outputs": [],
   "source": [
    "d1.update([('b', 200), ('d', 400)])"
   ]
  },
  {
   "cell_type": "code",
   "execution_count": null,
   "id": "a59cdd20",
   "metadata": {
    "papermill": {
     "duration": null,
     "end_time": null,
     "exception": null,
     "start_time": null,
     "status": "pending"
    },
    "tags": []
   },
   "outputs": [],
   "source": [
    "d1"
   ]
  },
  {
   "cell_type": "markdown",
   "id": "f21942c4",
   "metadata": {
    "papermill": {
     "duration": null,
     "end_time": null,
     "exception": null,
     "start_time": null,
     "status": "pending"
    },
    "tags": []
   },
   "source": [
    "Or the values to merge can be specified as a list of keyword arguments:\n",
    "\n"
   ]
  },
  {
   "cell_type": "code",
   "execution_count": null,
   "id": "76f5f6c5",
   "metadata": {
    "papermill": {
     "duration": null,
     "end_time": null,
     "exception": null,
     "start_time": null,
     "status": "pending"
    },
    "tags": []
   },
   "outputs": [],
   "source": [
    "d1 = {'a': 10, 'b': 20, 'c': 30}"
   ]
  },
  {
   "cell_type": "code",
   "execution_count": null,
   "id": "75f55fa0",
   "metadata": {
    "papermill": {
     "duration": null,
     "end_time": null,
     "exception": null,
     "start_time": null,
     "status": "pending"
    },
    "tags": []
   },
   "outputs": [],
   "source": [
    "d1.update(b=200, d=400)"
   ]
  },
  {
   "cell_type": "code",
   "execution_count": null,
   "id": "74de8243",
   "metadata": {
    "papermill": {
     "duration": null,
     "end_time": null,
     "exception": null,
     "start_time": null,
     "status": "pending"
    },
    "tags": []
   },
   "outputs": [],
   "source": [
    "d1"
   ]
  },
  {
   "cell_type": "markdown",
   "id": "b63c3bd7",
   "metadata": {
    "papermill": {
     "duration": null,
     "end_time": null,
     "exception": null,
     "start_time": null,
     "status": "pending"
    },
    "tags": []
   },
   "source": [
    "<a class=\"anchor\" id=\"set_operators_and_methods\"></a>\n",
    "## Set Operators and Methods"
   ]
  },
  {
   "cell_type": "markdown",
   "id": "fd3071c2",
   "metadata": {
    "papermill": {
     "duration": null,
     "end_time": null,
     "exception": null,
     "start_time": null,
     "status": "pending"
    },
    "tags": []
   },
   "source": [
    "Below is a list of the set operations available in Python. Some are performed by operator, some by method, and some by both. The principle outlined above generally applies: where a set is expected, methods will typically accept any iterable as an argument, but operators require actual sets as operands."
   ]
  },
  {
   "cell_type": "markdown",
   "id": "7d5cf2b6",
   "metadata": {
    "papermill": {
     "duration": null,
     "end_time": null,
     "exception": null,
     "start_time": null,
     "status": "pending"
    },
    "tags": []
   },
   "source": [
    "> `x1.union(x2[, x3 ...])`\n",
    "> \n",
    "> `x1 | x2 [| x3 ...]`\n",
    "> \n",
    "> Compute the union of two or more sets."
   ]
  },
  {
   "cell_type": "markdown",
   "id": "43f6b7e0",
   "metadata": {
    "papermill": {
     "duration": null,
     "end_time": null,
     "exception": null,
     "start_time": null,
     "status": "pending"
    },
    "tags": []
   },
   "source": [
    "<img src=\"./images/union.png\" alt=\"set union\" width=300 align=\"center\" />"
   ]
  },
  {
   "cell_type": "markdown",
   "id": "880183d8",
   "metadata": {
    "papermill": {
     "duration": null,
     "end_time": null,
     "exception": null,
     "start_time": null,
     "status": "pending"
    },
    "tags": []
   },
   "source": [
    "`x1.union(x2)` and `x1 | x2` both return the set of all elements in either `x1` or `x2`:"
   ]
  },
  {
   "cell_type": "code",
   "execution_count": null,
   "id": "b1de6df1",
   "metadata": {
    "papermill": {
     "duration": null,
     "end_time": null,
     "exception": null,
     "start_time": null,
     "status": "pending"
    },
    "tags": []
   },
   "outputs": [],
   "source": [
    "x1 = {'foo', 'bar', 'baz'}\n",
    "x2 = {'baz', 'qux', 'quux'}"
   ]
  },
  {
   "cell_type": "code",
   "execution_count": null,
   "id": "2305295c",
   "metadata": {
    "papermill": {
     "duration": null,
     "end_time": null,
     "exception": null,
     "start_time": null,
     "status": "pending"
    },
    "tags": []
   },
   "outputs": [],
   "source": [
    "x1.union(x2)"
   ]
  },
  {
   "cell_type": "code",
   "execution_count": null,
   "id": "78d0a6e2",
   "metadata": {
    "papermill": {
     "duration": null,
     "end_time": null,
     "exception": null,
     "start_time": null,
     "status": "pending"
    },
    "tags": []
   },
   "outputs": [],
   "source": [
    "x1 | x2"
   ]
  },
  {
   "cell_type": "markdown",
   "id": "aa3e30d2",
   "metadata": {
    "papermill": {
     "duration": null,
     "end_time": null,
     "exception": null,
     "start_time": null,
     "status": "pending"
    },
    "tags": []
   },
   "source": [
    "More than two sets may be specified with either the operator or the method:"
   ]
  },
  {
   "cell_type": "code",
   "execution_count": null,
   "id": "d850d90e",
   "metadata": {
    "papermill": {
     "duration": null,
     "end_time": null,
     "exception": null,
     "start_time": null,
     "status": "pending"
    },
    "tags": []
   },
   "outputs": [],
   "source": [
    "a = {1, 2, 3, 4}\n",
    "b = {2, 3, 4, 5}\n",
    "c = {3, 4, 5, 6}\n",
    "d = {4, 5, 6, 7}"
   ]
  },
  {
   "cell_type": "code",
   "execution_count": null,
   "id": "1bba1ab0",
   "metadata": {
    "papermill": {
     "duration": null,
     "end_time": null,
     "exception": null,
     "start_time": null,
     "status": "pending"
    },
    "tags": []
   },
   "outputs": [],
   "source": [
    "a.union(b, c, d)"
   ]
  },
  {
   "cell_type": "code",
   "execution_count": null,
   "id": "f5a046e4",
   "metadata": {
    "papermill": {
     "duration": null,
     "end_time": null,
     "exception": null,
     "start_time": null,
     "status": "pending"
    },
    "tags": []
   },
   "outputs": [],
   "source": [
    "a | b | c | d"
   ]
  },
  {
   "cell_type": "markdown",
   "id": "de52b3d7",
   "metadata": {
    "papermill": {
     "duration": null,
     "end_time": null,
     "exception": null,
     "start_time": null,
     "status": "pending"
    },
    "tags": []
   },
   "source": [
    "The resulting set contains all elements that are present in any of the specified sets."
   ]
  },
  {
   "cell_type": "markdown",
   "id": "afddf056",
   "metadata": {
    "papermill": {
     "duration": null,
     "end_time": null,
     "exception": null,
     "start_time": null,
     "status": "pending"
    },
    "tags": []
   },
   "source": [
    "> `x1.intersection(x2[, x3 ...])`\n",
    "> \n",
    "> `x1 & x2 [& x3 ...]`\n",
    "> \n",
    "> Compute the intersection of two or more sets."
   ]
  },
  {
   "cell_type": "markdown",
   "id": "cba32c9c",
   "metadata": {
    "papermill": {
     "duration": null,
     "end_time": null,
     "exception": null,
     "start_time": null,
     "status": "pending"
    },
    "tags": []
   },
   "source": [
    "<img src=\"./images/intersection.webp\" alt=\"set intersection\" width=300 align=\"center\" />"
   ]
  },
  {
   "cell_type": "markdown",
   "id": "dc0a3467",
   "metadata": {
    "papermill": {
     "duration": null,
     "end_time": null,
     "exception": null,
     "start_time": null,
     "status": "pending"
    },
    "tags": []
   },
   "source": [
    "`x1.intersection(x2)` and `x1 & x2` return the set of elements common to both `x1` and `x2`:"
   ]
  },
  {
   "cell_type": "code",
   "execution_count": null,
   "id": "2dd58f96",
   "metadata": {
    "papermill": {
     "duration": null,
     "end_time": null,
     "exception": null,
     "start_time": null,
     "status": "pending"
    },
    "tags": []
   },
   "outputs": [],
   "source": [
    "x1 = {'foo', 'bar', 'baz'}\n",
    "x2 = {'baz', 'qux', 'quux'}"
   ]
  },
  {
   "cell_type": "code",
   "execution_count": null,
   "id": "f2f95b20",
   "metadata": {
    "papermill": {
     "duration": null,
     "end_time": null,
     "exception": null,
     "start_time": null,
     "status": "pending"
    },
    "tags": []
   },
   "outputs": [],
   "source": [
    "x1.intersection(x2)"
   ]
  },
  {
   "cell_type": "code",
   "execution_count": null,
   "id": "68c68c68",
   "metadata": {
    "papermill": {
     "duration": null,
     "end_time": null,
     "exception": null,
     "start_time": null,
     "status": "pending"
    },
    "tags": []
   },
   "outputs": [],
   "source": [
    "x1 & x2"
   ]
  },
  {
   "cell_type": "markdown",
   "id": "23d90883",
   "metadata": {
    "papermill": {
     "duration": null,
     "end_time": null,
     "exception": null,
     "start_time": null,
     "status": "pending"
    },
    "tags": []
   },
   "source": [
    "You can specify multiple sets with the intersection method and operator, just like you can with set union:"
   ]
  },
  {
   "cell_type": "code",
   "execution_count": null,
   "id": "cfb0e6eb",
   "metadata": {
    "papermill": {
     "duration": null,
     "end_time": null,
     "exception": null,
     "start_time": null,
     "status": "pending"
    },
    "tags": []
   },
   "outputs": [],
   "source": [
    "a = {1, 2, 3, 4}\n",
    "b = {2, 3, 4, 5}\n",
    "c = {3, 4, 5, 6}\n",
    "d = {4, 5, 6, 7}"
   ]
  },
  {
   "cell_type": "code",
   "execution_count": null,
   "id": "851745a2",
   "metadata": {
    "papermill": {
     "duration": null,
     "end_time": null,
     "exception": null,
     "start_time": null,
     "status": "pending"
    },
    "tags": []
   },
   "outputs": [],
   "source": [
    "a.intersection(b, c, d)"
   ]
  },
  {
   "cell_type": "code",
   "execution_count": null,
   "id": "d12539fe",
   "metadata": {
    "papermill": {
     "duration": null,
     "end_time": null,
     "exception": null,
     "start_time": null,
     "status": "pending"
    },
    "tags": []
   },
   "outputs": [],
   "source": [
    "a & b & c & d"
   ]
  },
  {
   "cell_type": "markdown",
   "id": "be5cb0c3",
   "metadata": {
    "papermill": {
     "duration": null,
     "end_time": null,
     "exception": null,
     "start_time": null,
     "status": "pending"
    },
    "tags": []
   },
   "source": [
    "The resulting set contains only elements that are present in all of the specified sets."
   ]
  },
  {
   "cell_type": "markdown",
   "id": "89a6a53d",
   "metadata": {
    "papermill": {
     "duration": null,
     "end_time": null,
     "exception": null,
     "start_time": null,
     "status": "pending"
    },
    "tags": []
   },
   "source": [
    "> `x1.difference(x2[, x3 ...])`\n",
    "> \n",
    "> `x1 - x2 [- x3 ...]`\n",
    "> \n",
    "> Compute the difference between two or more sets."
   ]
  },
  {
   "cell_type": "markdown",
   "id": "860e67c6",
   "metadata": {
    "papermill": {
     "duration": null,
     "end_time": null,
     "exception": null,
     "start_time": null,
     "status": "pending"
    },
    "tags": []
   },
   "source": []
  },
  {
   "cell_type": "markdown",
   "id": "bae5ca46",
   "metadata": {
    "papermill": {
     "duration": null,
     "end_time": null,
     "exception": null,
     "start_time": null,
     "status": "pending"
    },
    "tags": []
   },
   "source": [
    "`x1.difference(x2)` and `x1 - x2` return the set of all elements that are in `x1` but not in `x2`:"
   ]
  },
  {
   "cell_type": "code",
   "execution_count": null,
   "id": "fb1401a8",
   "metadata": {
    "papermill": {
     "duration": null,
     "end_time": null,
     "exception": null,
     "start_time": null,
     "status": "pending"
    },
    "tags": []
   },
   "outputs": [],
   "source": [
    "x1 = {'foo', 'bar', 'baz'}\n",
    "x2 = {'baz', 'qux', 'quux'}"
   ]
  },
  {
   "cell_type": "code",
   "execution_count": null,
   "id": "cb5b344f",
   "metadata": {
    "papermill": {
     "duration": null,
     "end_time": null,
     "exception": null,
     "start_time": null,
     "status": "pending"
    },
    "tags": []
   },
   "outputs": [],
   "source": [
    "x1.difference(x2)"
   ]
  },
  {
   "cell_type": "code",
   "execution_count": null,
   "id": "e9d0860f",
   "metadata": {
    "papermill": {
     "duration": null,
     "end_time": null,
     "exception": null,
     "start_time": null,
     "status": "pending"
    },
    "tags": []
   },
   "outputs": [],
   "source": [
    "x1 - x2"
   ]
  },
  {
   "cell_type": "markdown",
   "id": "0d1424ad",
   "metadata": {
    "papermill": {
     "duration": null,
     "end_time": null,
     "exception": null,
     "start_time": null,
     "status": "pending"
    },
    "tags": []
   },
   "source": [
    "Another way to think of this is that `x1.difference(x2)` and `x1 - x2` return the set that results when any elements in `x2` are removed or subtracted from `x1`."
   ]
  },
  {
   "cell_type": "markdown",
   "id": "8ba45850",
   "metadata": {
    "papermill": {
     "duration": null,
     "end_time": null,
     "exception": null,
     "start_time": null,
     "status": "pending"
    },
    "tags": []
   },
   "source": [
    "Once again, you can specify more than two sets:"
   ]
  },
  {
   "cell_type": "code",
   "execution_count": null,
   "id": "17c0f337",
   "metadata": {
    "papermill": {
     "duration": null,
     "end_time": null,
     "exception": null,
     "start_time": null,
     "status": "pending"
    },
    "tags": []
   },
   "outputs": [],
   "source": [
    "a = {1, 2, 3, 30, 300}\n",
    "b = {10, 20, 30, 40}\n",
    "c = {100, 200, 300, 400}"
   ]
  },
  {
   "cell_type": "code",
   "execution_count": null,
   "id": "6de3222f",
   "metadata": {
    "papermill": {
     "duration": null,
     "end_time": null,
     "exception": null,
     "start_time": null,
     "status": "pending"
    },
    "tags": []
   },
   "outputs": [],
   "source": [
    "a.difference(b, c)"
   ]
  },
  {
   "cell_type": "code",
   "execution_count": null,
   "id": "710db885",
   "metadata": {
    "papermill": {
     "duration": null,
     "end_time": null,
     "exception": null,
     "start_time": null,
     "status": "pending"
    },
    "tags": []
   },
   "outputs": [],
   "source": [
    "a - b - c"
   ]
  },
  {
   "cell_type": "markdown",
   "id": "84aa2e60",
   "metadata": {
    "papermill": {
     "duration": null,
     "end_time": null,
     "exception": null,
     "start_time": null,
     "status": "pending"
    },
    "tags": []
   },
   "source": [
    "When multiple sets are specified, the operation is performed from left to right. In the example above, `a - b` is computed first, resulting in `{1, 2, 3, 300}`. Then `c` is subtracted from that set, leaving `{1, 2, 3}`:"
   ]
  },
  {
   "cell_type": "markdown",
   "id": "b7c20092",
   "metadata": {
    "papermill": {
     "duration": null,
     "end_time": null,
     "exception": null,
     "start_time": null,
     "status": "pending"
    },
    "tags": []
   },
   "source": []
  },
  {
   "cell_type": "markdown",
   "id": "98e44a1a",
   "metadata": {
    "papermill": {
     "duration": null,
     "end_time": null,
     "exception": null,
     "start_time": null,
     "status": "pending"
    },
    "tags": []
   },
   "source": [
    "> `x1.symmetric_difference(x2)`\n",
    "> \n",
    "> `x1 ^ x2 [^ x3 ...]`\n",
    "> \n",
    "> Compute the [symmetric difference](https://en.wikipedia.org/wiki/Symmetric_difference) between sets."
   ]
  },
  {
   "cell_type": "markdown",
   "id": "90a85810",
   "metadata": {
    "papermill": {
     "duration": null,
     "end_time": null,
     "exception": null,
     "start_time": null,
     "status": "pending"
    },
    "tags": []
   },
   "source": []
  },
  {
   "cell_type": "markdown",
   "id": "c3e24f0d",
   "metadata": {
    "papermill": {
     "duration": null,
     "end_time": null,
     "exception": null,
     "start_time": null,
     "status": "pending"
    },
    "tags": []
   },
   "source": [
    "`x1.symmetric_difference(x2)` and `x1 ^ x2` return the set of all elements in either `x1` or `x2`, but not both:"
   ]
  },
  {
   "cell_type": "code",
   "execution_count": null,
   "id": "b8fba893",
   "metadata": {
    "papermill": {
     "duration": null,
     "end_time": null,
     "exception": null,
     "start_time": null,
     "status": "pending"
    },
    "tags": []
   },
   "outputs": [],
   "source": [
    "x1 = {'foo', 'bar', 'baz'}\n",
    "x2 = {'baz', 'qux', 'quux'}"
   ]
  },
  {
   "cell_type": "code",
   "execution_count": null,
   "id": "8f148ee9",
   "metadata": {
    "papermill": {
     "duration": null,
     "end_time": null,
     "exception": null,
     "start_time": null,
     "status": "pending"
    },
    "tags": []
   },
   "outputs": [],
   "source": [
    "x1.symmetric_difference(x2)"
   ]
  },
  {
   "cell_type": "code",
   "execution_count": null,
   "id": "044dd4ed",
   "metadata": {
    "papermill": {
     "duration": null,
     "end_time": null,
     "exception": null,
     "start_time": null,
     "status": "pending"
    },
    "tags": []
   },
   "outputs": [],
   "source": [
    "x1 ^ x2"
   ]
  },
  {
   "cell_type": "markdown",
   "id": "a0447c64",
   "metadata": {
    "papermill": {
     "duration": null,
     "end_time": null,
     "exception": null,
     "start_time": null,
     "status": "pending"
    },
    "tags": []
   },
   "source": [
    "This would be equal to union subtracted by intersection:"
   ]
  },
  {
   "cell_type": "code",
   "execution_count": null,
   "id": "7b0bb32c",
   "metadata": {
    "papermill": {
     "duration": null,
     "end_time": null,
     "exception": null,
     "start_time": null,
     "status": "pending"
    },
    "tags": []
   },
   "outputs": [],
   "source": [
    "(x1 | x2) - (x1 & x2)"
   ]
  },
  {
   "cell_type": "markdown",
   "id": "05369683",
   "metadata": {
    "papermill": {
     "duration": null,
     "end_time": null,
     "exception": null,
     "start_time": null,
     "status": "pending"
    },
    "tags": []
   },
   "source": [
    "The `^` operator also allows more than two sets:"
   ]
  },
  {
   "cell_type": "code",
   "execution_count": null,
   "id": "594f8e1e",
   "metadata": {
    "papermill": {
     "duration": null,
     "end_time": null,
     "exception": null,
     "start_time": null,
     "status": "pending"
    },
    "tags": []
   },
   "outputs": [],
   "source": [
    "a = {1, 2, 3, 4, 5}\n",
    "b = {10, 2, 3, 4, 50}\n",
    "c = {1, 50, 100}"
   ]
  },
  {
   "cell_type": "code",
   "execution_count": null,
   "id": "09a9d7b4",
   "metadata": {
    "papermill": {
     "duration": null,
     "end_time": null,
     "exception": null,
     "start_time": null,
     "status": "pending"
    },
    "tags": []
   },
   "outputs": [],
   "source": [
    "a ^ b ^ c"
   ]
  },
  {
   "cell_type": "markdown",
   "id": "fa22953b",
   "metadata": {
    "papermill": {
     "duration": null,
     "end_time": null,
     "exception": null,
     "start_time": null,
     "status": "pending"
    },
    "tags": []
   },
   "source": [
    "As with the difference operator, when multiple sets are specified, the operation is performed from left to right."
   ]
  },
  {
   "cell_type": "markdown",
   "id": "4a249c11",
   "metadata": {
    "papermill": {
     "duration": null,
     "end_time": null,
     "exception": null,
     "start_time": null,
     "status": "pending"
    },
    "tags": []
   },
   "source": [
    "Curiously, although the `^` operator allows multiple sets, the `.symmetric_difference()` method doesn’t:"
   ]
  },
  {
   "cell_type": "code",
   "execution_count": null,
   "id": "dda228c6",
   "metadata": {
    "papermill": {
     "duration": null,
     "end_time": null,
     "exception": null,
     "start_time": null,
     "status": "pending"
    },
    "tags": []
   },
   "outputs": [],
   "source": [
    "a = {1, 2, 3, 4, 5}\n",
    "b = {10, 2, 3, 4, 50}\n",
    "c = {1, 50, 100}"
   ]
  },
  {
   "cell_type": "code",
   "execution_count": null,
   "id": "fa5b3ba6",
   "metadata": {
    "papermill": {
     "duration": null,
     "end_time": null,
     "exception": null,
     "start_time": null,
     "status": "pending"
    },
    "tags": []
   },
   "outputs": [],
   "source": [
    "a.symmetric_difference(b, c)"
   ]
  },
  {
   "cell_type": "markdown",
   "id": "da6b8a1a",
   "metadata": {
    "papermill": {
     "duration": null,
     "end_time": null,
     "exception": null,
     "start_time": null,
     "status": "pending"
    },
    "tags": []
   },
   "source": [
    "> `x1.isdisjoint(x2)`\n",
    "> \n",
    "> Determines whether or not two sets have any elements in common."
   ]
  },
  {
   "cell_type": "markdown",
   "id": "f6330018",
   "metadata": {
    "papermill": {
     "duration": null,
     "end_time": null,
     "exception": null,
     "start_time": null,
     "status": "pending"
    },
    "tags": []
   },
   "source": [
    "`x1.isdisjoint(x2)` returns True if `x1` and `x2` have no elements in common:"
   ]
  },
  {
   "cell_type": "code",
   "execution_count": null,
   "id": "1181a9a3",
   "metadata": {
    "papermill": {
     "duration": null,
     "end_time": null,
     "exception": null,
     "start_time": null,
     "status": "pending"
    },
    "tags": []
   },
   "outputs": [],
   "source": [
    "x1 = {'foo', 'bar', 'baz'}\n",
    "x2 = {'baz', 'qux', 'quux'}"
   ]
  },
  {
   "cell_type": "code",
   "execution_count": null,
   "id": "64a422ce",
   "metadata": {
    "papermill": {
     "duration": null,
     "end_time": null,
     "exception": null,
     "start_time": null,
     "status": "pending"
    },
    "tags": []
   },
   "outputs": [],
   "source": [
    "x1.isdisjoint(x2)"
   ]
  },
  {
   "cell_type": "code",
   "execution_count": null,
   "id": "f7a9f21c",
   "metadata": {
    "papermill": {
     "duration": null,
     "end_time": null,
     "exception": null,
     "start_time": null,
     "status": "pending"
    },
    "tags": []
   },
   "outputs": [],
   "source": [
    "x2 - {'baz'}"
   ]
  },
  {
   "cell_type": "code",
   "execution_count": null,
   "id": "3c1509c7",
   "metadata": {
    "papermill": {
     "duration": null,
     "end_time": null,
     "exception": null,
     "start_time": null,
     "status": "pending"
    },
    "tags": []
   },
   "outputs": [],
   "source": [
    "x1.isdisjoint(x2 - {'baz'})"
   ]
  },
  {
   "cell_type": "markdown",
   "id": "97f919db",
   "metadata": {
    "papermill": {
     "duration": null,
     "end_time": null,
     "exception": null,
     "start_time": null,
     "status": "pending"
    },
    "tags": []
   },
   "source": [
    "If `x1.isdisjoint(x2)` is True, then `x1 & x2` is the empty set:"
   ]
  },
  {
   "cell_type": "code",
   "execution_count": null,
   "id": "9d26e850",
   "metadata": {
    "papermill": {
     "duration": null,
     "end_time": null,
     "exception": null,
     "start_time": null,
     "status": "pending"
    },
    "tags": []
   },
   "outputs": [],
   "source": [
    "x1 = {1, 3, 5}\n",
    "x2 = {2, 4, 6}"
   ]
  },
  {
   "cell_type": "code",
   "execution_count": null,
   "id": "b9a56712",
   "metadata": {
    "papermill": {
     "duration": null,
     "end_time": null,
     "exception": null,
     "start_time": null,
     "status": "pending"
    },
    "tags": []
   },
   "outputs": [],
   "source": [
    "x1.isdisjoint(x2)"
   ]
  },
  {
   "cell_type": "code",
   "execution_count": null,
   "id": "d4786ffa",
   "metadata": {
    "papermill": {
     "duration": null,
     "end_time": null,
     "exception": null,
     "start_time": null,
     "status": "pending"
    },
    "tags": []
   },
   "outputs": [],
   "source": [
    "x1 & x2"
   ]
  },
  {
   "cell_type": "markdown",
   "id": "977f47ab",
   "metadata": {
    "papermill": {
     "duration": null,
     "end_time": null,
     "exception": null,
     "start_time": null,
     "status": "pending"
    },
    "tags": []
   },
   "source": [
    "> **Note:** There is no operator that corresponds to the `.isdisjoint()` method."
   ]
  },
  {
   "cell_type": "markdown",
   "id": "3edb9ede",
   "metadata": {
    "papermill": {
     "duration": null,
     "end_time": null,
     "exception": null,
     "start_time": null,
     "status": "pending"
    },
    "tags": []
   },
   "source": [
    "> `x1.issubset(x2)`\n",
    "> \n",
    "> `x1 <= x2`\n",
    "> \n",
    "> Determine whether one set is a subset of the other."
   ]
  },
  {
   "cell_type": "markdown",
   "id": "af1a3d69",
   "metadata": {
    "papermill": {
     "duration": null,
     "end_time": null,
     "exception": null,
     "start_time": null,
     "status": "pending"
    },
    "tags": []
   },
   "source": [
    "In set theory, a set `x1` is considered a subset of another set `x2` if every element of `x1` is in `x2`."
   ]
  },
  {
   "cell_type": "markdown",
   "id": "f14b118e",
   "metadata": {
    "papermill": {
     "duration": null,
     "end_time": null,
     "exception": null,
     "start_time": null,
     "status": "pending"
    },
    "tags": []
   },
   "source": [
    "`x1.issubset(x2)` and `x1 <= x2` return `True` if `x1` is a subset of `x2`:"
   ]
  },
  {
   "cell_type": "code",
   "execution_count": null,
   "id": "83c79dd8",
   "metadata": {
    "papermill": {
     "duration": null,
     "end_time": null,
     "exception": null,
     "start_time": null,
     "status": "pending"
    },
    "tags": []
   },
   "outputs": [],
   "source": [
    "x1 = {'foo', 'bar', 'baz'}\n",
    "x1.issubset({'foo', 'bar', 'baz', 'qux', 'quux'})"
   ]
  },
  {
   "cell_type": "code",
   "execution_count": null,
   "id": "29fa1665",
   "metadata": {
    "papermill": {
     "duration": null,
     "end_time": null,
     "exception": null,
     "start_time": null,
     "status": "pending"
    },
    "tags": []
   },
   "outputs": [],
   "source": [
    "x2 = {'baz', 'qux', 'quux'}\n",
    "x1 <= x2"
   ]
  },
  {
   "cell_type": "markdown",
   "id": "3d1b43f1",
   "metadata": {
    "papermill": {
     "duration": null,
     "end_time": null,
     "exception": null,
     "start_time": null,
     "status": "pending"
    },
    "tags": []
   },
   "source": [
    "A set is considered to be a subset of itself:"
   ]
  },
  {
   "cell_type": "code",
   "execution_count": null,
   "id": "0fe60feb",
   "metadata": {
    "papermill": {
     "duration": null,
     "end_time": null,
     "exception": null,
     "start_time": null,
     "status": "pending"
    },
    "tags": []
   },
   "outputs": [],
   "source": [
    "x = {1, 2, 3, 4, 5}\n",
    "x.issubset(x)"
   ]
  },
  {
   "cell_type": "code",
   "execution_count": null,
   "id": "7701f5a9",
   "metadata": {
    "papermill": {
     "duration": null,
     "end_time": null,
     "exception": null,
     "start_time": null,
     "status": "pending"
    },
    "tags": []
   },
   "outputs": [],
   "source": [
    "x <= x"
   ]
  },
  {
   "cell_type": "markdown",
   "id": "9414349f",
   "metadata": {
    "papermill": {
     "duration": null,
     "end_time": null,
     "exception": null,
     "start_time": null,
     "status": "pending"
    },
    "tags": []
   },
   "source": [
    "It seems strange, perhaps. But it fits the definition—every element of `x` is in `x`."
   ]
  },
  {
   "cell_type": "markdown",
   "id": "9a46e04b",
   "metadata": {
    "papermill": {
     "duration": null,
     "end_time": null,
     "exception": null,
     "start_time": null,
     "status": "pending"
    },
    "tags": []
   },
   "source": [
    "> `x1 < x2`\n",
    "> \n",
    "> Determines whether one set is a proper subset of the other."
   ]
  },
  {
   "cell_type": "markdown",
   "id": "b2712a6e",
   "metadata": {
    "papermill": {
     "duration": null,
     "end_time": null,
     "exception": null,
     "start_time": null,
     "status": "pending"
    },
    "tags": []
   },
   "source": [
    "A proper subset is the same as a subset, except that the sets can’t be identical. A set `x1` is considered a proper subset of another set `x2` if every element of `x1` is in `x2`, and `x1` and `x2` are not equal."
   ]
  },
  {
   "cell_type": "markdown",
   "id": "d40d5cb8",
   "metadata": {
    "papermill": {
     "duration": null,
     "end_time": null,
     "exception": null,
     "start_time": null,
     "status": "pending"
    },
    "tags": []
   },
   "source": [
    "`x1 < x2` returns `True` if `x1` is a proper subset of `x2`:"
   ]
  },
  {
   "cell_type": "code",
   "execution_count": null,
   "id": "fce0fd46",
   "metadata": {
    "papermill": {
     "duration": null,
     "end_time": null,
     "exception": null,
     "start_time": null,
     "status": "pending"
    },
    "tags": []
   },
   "outputs": [],
   "source": [
    "x1 = {'foo', 'bar'}\n",
    "x2 = {'foo', 'bar', 'baz'}"
   ]
  },
  {
   "cell_type": "code",
   "execution_count": null,
   "id": "b2dcda69",
   "metadata": {
    "papermill": {
     "duration": null,
     "end_time": null,
     "exception": null,
     "start_time": null,
     "status": "pending"
    },
    "tags": []
   },
   "outputs": [],
   "source": [
    "x1 < x2"
   ]
  },
  {
   "cell_type": "code",
   "execution_count": null,
   "id": "ee6e928b",
   "metadata": {
    "papermill": {
     "duration": null,
     "end_time": null,
     "exception": null,
     "start_time": null,
     "status": "pending"
    },
    "tags": []
   },
   "outputs": [],
   "source": [
    "x1 = {'foo', 'bar', 'baz'}\n",
    "x2 = {'foo', 'bar', 'baz'}"
   ]
  },
  {
   "cell_type": "code",
   "execution_count": null,
   "id": "b753a8d6",
   "metadata": {
    "papermill": {
     "duration": null,
     "end_time": null,
     "exception": null,
     "start_time": null,
     "status": "pending"
    },
    "tags": []
   },
   "outputs": [],
   "source": [
    "x1 < x2"
   ]
  },
  {
   "cell_type": "markdown",
   "id": "02993dce",
   "metadata": {
    "papermill": {
     "duration": null,
     "end_time": null,
     "exception": null,
     "start_time": null,
     "status": "pending"
    },
    "tags": []
   },
   "source": [
    "While a set is considered a subset of itself, it is not a proper subset of itself:"
   ]
  },
  {
   "cell_type": "code",
   "execution_count": null,
   "id": "33b48453",
   "metadata": {
    "papermill": {
     "duration": null,
     "end_time": null,
     "exception": null,
     "start_time": null,
     "status": "pending"
    },
    "tags": []
   },
   "outputs": [],
   "source": [
    "x = {1, 2, 3, 4, 5}"
   ]
  },
  {
   "cell_type": "code",
   "execution_count": null,
   "id": "5fd6b8f6",
   "metadata": {
    "papermill": {
     "duration": null,
     "end_time": null,
     "exception": null,
     "start_time": null,
     "status": "pending"
    },
    "tags": []
   },
   "outputs": [],
   "source": [
    "x <= x"
   ]
  },
  {
   "cell_type": "code",
   "execution_count": null,
   "id": "6dde7f58",
   "metadata": {
    "papermill": {
     "duration": null,
     "end_time": null,
     "exception": null,
     "start_time": null,
     "status": "pending"
    },
    "tags": []
   },
   "outputs": [],
   "source": [
    "x < x"
   ]
  },
  {
   "cell_type": "markdown",
   "id": "d39e4f50",
   "metadata": {
    "papermill": {
     "duration": null,
     "end_time": null,
     "exception": null,
     "start_time": null,
     "status": "pending"
    },
    "tags": []
   },
   "source": [
    "> **Note:** The `<` operator is the only way to test whether a set is a proper subset. There is no corresponding method."
   ]
  },
  {
   "cell_type": "markdown",
   "id": "5244bf02",
   "metadata": {
    "papermill": {
     "duration": null,
     "end_time": null,
     "exception": null,
     "start_time": null,
     "status": "pending"
    },
    "tags": []
   },
   "source": [
    "> `x1.issuperset(x2)`\n",
    "> \n",
    "> `x1 >= x2`\n",
    "> \n",
    "> Determine whether one set is a superset of the other."
   ]
  },
  {
   "cell_type": "markdown",
   "id": "9b4786f0",
   "metadata": {
    "papermill": {
     "duration": null,
     "end_time": null,
     "exception": null,
     "start_time": null,
     "status": "pending"
    },
    "tags": []
   },
   "source": [
    "A superset is the reverse of a subset. A set `x1` is considered a superset of another set `x2` if `x1` contains every element of `x2`."
   ]
  },
  {
   "cell_type": "markdown",
   "id": "f28e7f0e",
   "metadata": {
    "papermill": {
     "duration": null,
     "end_time": null,
     "exception": null,
     "start_time": null,
     "status": "pending"
    },
    "tags": []
   },
   "source": [
    "`x1.issuperset(x2)` and `x1 >= x2` return True if `x1` is a superset of `x2`:"
   ]
  },
  {
   "cell_type": "code",
   "execution_count": null,
   "id": "f57f9ee1",
   "metadata": {
    "papermill": {
     "duration": null,
     "end_time": null,
     "exception": null,
     "start_time": null,
     "status": "pending"
    },
    "tags": []
   },
   "outputs": [],
   "source": [
    "x1 = {'foo', 'bar', 'baz'}"
   ]
  },
  {
   "cell_type": "code",
   "execution_count": null,
   "id": "f5a4b248",
   "metadata": {
    "papermill": {
     "duration": null,
     "end_time": null,
     "exception": null,
     "start_time": null,
     "status": "pending"
    },
    "tags": []
   },
   "outputs": [],
   "source": [
    "x1.issuperset({'foo', 'bar'})"
   ]
  },
  {
   "cell_type": "code",
   "execution_count": null,
   "id": "399ff73e",
   "metadata": {
    "papermill": {
     "duration": null,
     "end_time": null,
     "exception": null,
     "start_time": null,
     "status": "pending"
    },
    "tags": []
   },
   "outputs": [],
   "source": [
    "x2 = {'baz', 'qux', 'quux'}"
   ]
  },
  {
   "cell_type": "code",
   "execution_count": null,
   "id": "c241bb2e",
   "metadata": {
    "papermill": {
     "duration": null,
     "end_time": null,
     "exception": null,
     "start_time": null,
     "status": "pending"
    },
    "tags": []
   },
   "outputs": [],
   "source": [
    "x1 >= x2"
   ]
  },
  {
   "cell_type": "markdown",
   "id": "86466930",
   "metadata": {
    "papermill": {
     "duration": null,
     "end_time": null,
     "exception": null,
     "start_time": null,
     "status": "pending"
    },
    "tags": []
   },
   "source": [
    "You have already seen that a set is considered a subset of itself. A set is also considered a superset of itself:"
   ]
  },
  {
   "cell_type": "code",
   "execution_count": null,
   "id": "313d4488",
   "metadata": {
    "papermill": {
     "duration": null,
     "end_time": null,
     "exception": null,
     "start_time": null,
     "status": "pending"
    },
    "tags": []
   },
   "outputs": [],
   "source": [
    "x = {1, 2, 3, 4, 5}"
   ]
  },
  {
   "cell_type": "code",
   "execution_count": null,
   "id": "ba82de83",
   "metadata": {
    "papermill": {
     "duration": null,
     "end_time": null,
     "exception": null,
     "start_time": null,
     "status": "pending"
    },
    "tags": []
   },
   "outputs": [],
   "source": [
    "x.issuperset(x)"
   ]
  },
  {
   "cell_type": "code",
   "execution_count": null,
   "id": "11187342",
   "metadata": {
    "papermill": {
     "duration": null,
     "end_time": null,
     "exception": null,
     "start_time": null,
     "status": "pending"
    },
    "tags": []
   },
   "outputs": [],
   "source": [
    "x >= x"
   ]
  },
  {
   "cell_type": "markdown",
   "id": "07e480a0",
   "metadata": {
    "papermill": {
     "duration": null,
     "end_time": null,
     "exception": null,
     "start_time": null,
     "status": "pending"
    },
    "tags": []
   },
   "source": [
    "> `x1 > x2`\n",
    "> \n",
    "> Determines whether one set is a proper superset of the other."
   ]
  },
  {
   "cell_type": "markdown",
   "id": "24e44409",
   "metadata": {
    "papermill": {
     "duration": null,
     "end_time": null,
     "exception": null,
     "start_time": null,
     "status": "pending"
    },
    "tags": []
   },
   "source": [
    "A proper superset is the same as a superset, except that the sets can’t be identical. A set `x1` is considered a proper superset of another set `x2` if `x1` contains every element of `x2`, and `x1` and `x2` are not equal."
   ]
  },
  {
   "cell_type": "markdown",
   "id": "20addee0",
   "metadata": {
    "papermill": {
     "duration": null,
     "end_time": null,
     "exception": null,
     "start_time": null,
     "status": "pending"
    },
    "tags": []
   },
   "source": [
    "`x1 > x2` returns `True` if `x1` is a proper superset of `x2`:"
   ]
  },
  {
   "cell_type": "code",
   "execution_count": null,
   "id": "79660588",
   "metadata": {
    "papermill": {
     "duration": null,
     "end_time": null,
     "exception": null,
     "start_time": null,
     "status": "pending"
    },
    "tags": []
   },
   "outputs": [],
   "source": [
    "x1 = {'foo', 'bar', 'baz'}\n",
    "x2 = {'foo', 'bar'}\n",
    "x1 > x2"
   ]
  },
  {
   "cell_type": "code",
   "execution_count": null,
   "id": "fabd9e21",
   "metadata": {
    "papermill": {
     "duration": null,
     "end_time": null,
     "exception": null,
     "start_time": null,
     "status": "pending"
    },
    "tags": []
   },
   "outputs": [],
   "source": [
    "x1 = {'foo', 'bar', 'baz'}\n",
    "x2 = {'foo', 'bar', 'baz'}\n",
    "x1 > x2"
   ]
  },
  {
   "cell_type": "markdown",
   "id": "6b192bb9",
   "metadata": {
    "papermill": {
     "duration": null,
     "end_time": null,
     "exception": null,
     "start_time": null,
     "status": "pending"
    },
    "tags": []
   },
   "source": [
    "A set is not a proper superset of itself:"
   ]
  },
  {
   "cell_type": "code",
   "execution_count": null,
   "id": "c2f567fd",
   "metadata": {
    "papermill": {
     "duration": null,
     "end_time": null,
     "exception": null,
     "start_time": null,
     "status": "pending"
    },
    "tags": []
   },
   "outputs": [],
   "source": [
    "x = {1, 2, 3, 4, 5}\n",
    "x > x"
   ]
  },
  {
   "cell_type": "markdown",
   "id": "9ce3099b",
   "metadata": {
    "papermill": {
     "duration": null,
     "end_time": null,
     "exception": null,
     "start_time": null,
     "status": "pending"
    },
    "tags": []
   },
   "source": [
    "> **Note:** The `>` operator is the only way to test whether a set is a proper superset. There is no corresponding method."
   ]
  },
  {
   "cell_type": "markdown",
   "id": "115c9e1b",
   "metadata": {
    "papermill": {
     "duration": null,
     "end_time": null,
     "exception": null,
     "start_time": null,
     "status": "pending"
    },
    "tags": []
   },
   "source": [
    "<a class=\"anchor\" id=\"modifying_a_set\"></a>\n",
    "### Modifying a Set"
   ]
  },
  {
   "cell_type": "markdown",
   "id": "4ddc8fe9",
   "metadata": {
    "papermill": {
     "duration": null,
     "end_time": null,
     "exception": null,
     "start_time": null,
     "status": "pending"
    },
    "tags": []
   },
   "source": [
    "Although the elements contained in a set must be of immutable type, sets themselves can be modified. Like the operations above, there are a mix of operators and methods that can be used to change the contents of a set."
   ]
  },
  {
   "cell_type": "markdown",
   "id": "5d3c108c",
   "metadata": {
    "papermill": {
     "duration": null,
     "end_time": null,
     "exception": null,
     "start_time": null,
     "status": "pending"
    },
    "tags": []
   },
   "source": [
    "<a class=\"anchor\" id=\"augmented_assignment_operators_and_methods\"></a>\n",
    "#### Augmented Assignment Operators and Methods\n",
    "Each of the union, intersection, difference, and symmetric difference operators listed above has an augmented assignment form that can be used to modify a set. For each, there is a corresponding method as well."
   ]
  },
  {
   "cell_type": "markdown",
   "id": "72b3c3dd",
   "metadata": {
    "papermill": {
     "duration": null,
     "end_time": null,
     "exception": null,
     "start_time": null,
     "status": "pending"
    },
    "tags": []
   },
   "source": [
    "> `x1.update(x2[, x3 ...])`\n",
    "> \n",
    "> `x1 |= x2 [| x3 ...]`\n",
    "> \n",
    "> Modify a set by union."
   ]
  },
  {
   "cell_type": "markdown",
   "id": "ae1cb9c7",
   "metadata": {
    "papermill": {
     "duration": null,
     "end_time": null,
     "exception": null,
     "start_time": null,
     "status": "pending"
    },
    "tags": []
   },
   "source": [
    "`x1.update(x2)` and `x1 |= x2` add to `x1` any elements in `x2` that `x1` does not already have:"
   ]
  },
  {
   "cell_type": "code",
   "execution_count": null,
   "id": "4a40445c",
   "metadata": {
    "papermill": {
     "duration": null,
     "end_time": null,
     "exception": null,
     "start_time": null,
     "status": "pending"
    },
    "tags": []
   },
   "outputs": [],
   "source": [
    "x1 = {'foo', 'bar', 'baz'}\n",
    "x2 = {'foo', 'baz', 'qux'}"
   ]
  },
  {
   "cell_type": "code",
   "execution_count": null,
   "id": "78a03c2c",
   "metadata": {
    "papermill": {
     "duration": null,
     "end_time": null,
     "exception": null,
     "start_time": null,
     "status": "pending"
    },
    "tags": []
   },
   "outputs": [],
   "source": [
    "x1 |= x2\n",
    "x1"
   ]
  },
  {
   "cell_type": "code",
   "execution_count": null,
   "id": "5b885ab3",
   "metadata": {
    "papermill": {
     "duration": null,
     "end_time": null,
     "exception": null,
     "start_time": null,
     "status": "pending"
    },
    "tags": []
   },
   "outputs": [],
   "source": [
    "x1.update(['corge', 'garply'])\n",
    "x1"
   ]
  },
  {
   "cell_type": "markdown",
   "id": "0a8727b6",
   "metadata": {
    "papermill": {
     "duration": null,
     "end_time": null,
     "exception": null,
     "start_time": null,
     "status": "pending"
    },
    "tags": []
   },
   "source": [
    "> `x1.intersection_update(x2[, x3 ...])`\n",
    "> \n",
    "> `x1 &= x2 [& x3 ...]`\n",
    "> \n",
    "> Modify a set by intersection."
   ]
  },
  {
   "cell_type": "markdown",
   "id": "4b6f6e4b",
   "metadata": {
    "papermill": {
     "duration": null,
     "end_time": null,
     "exception": null,
     "start_time": null,
     "status": "pending"
    },
    "tags": []
   },
   "source": [
    "`x1.intersection_update(x2)` and `x1 &= x2` update `x1`, retaining only elements found in both `x1` and `x2`:"
   ]
  },
  {
   "cell_type": "code",
   "execution_count": null,
   "id": "dcf202f5",
   "metadata": {
    "papermill": {
     "duration": null,
     "end_time": null,
     "exception": null,
     "start_time": null,
     "status": "pending"
    },
    "tags": []
   },
   "outputs": [],
   "source": [
    "x1 = {'foo', 'bar', 'baz'}\n",
    "x2 = {'foo', 'baz', 'qux'}"
   ]
  },
  {
   "cell_type": "code",
   "execution_count": null,
   "id": "de99512f",
   "metadata": {
    "papermill": {
     "duration": null,
     "end_time": null,
     "exception": null,
     "start_time": null,
     "status": "pending"
    },
    "tags": []
   },
   "outputs": [],
   "source": [
    "x1 &= x2\n",
    "x1"
   ]
  },
  {
   "cell_type": "code",
   "execution_count": null,
   "id": "dfa4a071",
   "metadata": {
    "papermill": {
     "duration": null,
     "end_time": null,
     "exception": null,
     "start_time": null,
     "status": "pending"
    },
    "tags": []
   },
   "outputs": [],
   "source": [
    "x1.intersection_update(['baz', 'qux'])\n",
    "x1"
   ]
  },
  {
   "cell_type": "markdown",
   "id": "6379055b",
   "metadata": {
    "papermill": {
     "duration": null,
     "end_time": null,
     "exception": null,
     "start_time": null,
     "status": "pending"
    },
    "tags": []
   },
   "source": [
    "> `x1.difference_update(x2[, x3 ...])`\n",
    "> \n",
    "> `x1 -= x2 [| x3 ...]`\n",
    "> \n",
    "> Modify a set by difference."
   ]
  },
  {
   "cell_type": "markdown",
   "id": "1125c2b2",
   "metadata": {
    "papermill": {
     "duration": null,
     "end_time": null,
     "exception": null,
     "start_time": null,
     "status": "pending"
    },
    "tags": []
   },
   "source": [
    "`x1.difference_update(x2)` and `x1 -= x2` update `x1`, removing elements found in `x2`:"
   ]
  },
  {
   "cell_type": "code",
   "execution_count": null,
   "id": "ffff1284",
   "metadata": {
    "papermill": {
     "duration": null,
     "end_time": null,
     "exception": null,
     "start_time": null,
     "status": "pending"
    },
    "tags": []
   },
   "outputs": [],
   "source": [
    "x1 = {'foo', 'bar', 'baz'}\n",
    "x2 = {'foo', 'baz', 'qux'}"
   ]
  },
  {
   "cell_type": "code",
   "execution_count": null,
   "id": "d13b1f3a",
   "metadata": {
    "papermill": {
     "duration": null,
     "end_time": null,
     "exception": null,
     "start_time": null,
     "status": "pending"
    },
    "tags": []
   },
   "outputs": [],
   "source": [
    "x1 -= x2\n",
    "x1"
   ]
  },
  {
   "cell_type": "code",
   "execution_count": null,
   "id": "bf68d89d",
   "metadata": {
    "papermill": {
     "duration": null,
     "end_time": null,
     "exception": null,
     "start_time": null,
     "status": "pending"
    },
    "tags": []
   },
   "outputs": [],
   "source": [
    "x1.difference_update(['foo', 'bar', 'qux'])\n",
    "x1"
   ]
  },
  {
   "cell_type": "markdown",
   "id": "877311b7",
   "metadata": {
    "papermill": {
     "duration": null,
     "end_time": null,
     "exception": null,
     "start_time": null,
     "status": "pending"
    },
    "tags": []
   },
   "source": [
    "> `x1.symmetric_difference_update(x2)`\n",
    "> \n",
    "> `x1 ^= x2`\n",
    "> \n",
    "> Modify a set by symmetric difference."
   ]
  },
  {
   "cell_type": "markdown",
   "id": "64df883c",
   "metadata": {
    "papermill": {
     "duration": null,
     "end_time": null,
     "exception": null,
     "start_time": null,
     "status": "pending"
    },
    "tags": []
   },
   "source": [
    "`x1.symmetric_difference_update(x2)` and `x1 ^= x2` update `x1`, retaining elements found in either `x1` or `x2`, but not both:"
   ]
  },
  {
   "cell_type": "code",
   "execution_count": null,
   "id": "9a152f94",
   "metadata": {
    "papermill": {
     "duration": null,
     "end_time": null,
     "exception": null,
     "start_time": null,
     "status": "pending"
    },
    "tags": []
   },
   "outputs": [],
   "source": [
    "x1 = {'foo', 'bar', 'baz'}\n",
    "x2 = {'foo', 'baz', 'qux'}"
   ]
  },
  {
   "cell_type": "code",
   "execution_count": null,
   "id": "a68f2da7",
   "metadata": {
    "papermill": {
     "duration": null,
     "end_time": null,
     "exception": null,
     "start_time": null,
     "status": "pending"
    },
    "tags": []
   },
   "outputs": [],
   "source": [
    "x1 ^= x2\n",
    "x1"
   ]
  },
  {
   "cell_type": "code",
   "execution_count": null,
   "id": "2ff93439",
   "metadata": {
    "papermill": {
     "duration": null,
     "end_time": null,
     "exception": null,
     "start_time": null,
     "status": "pending"
    },
    "tags": []
   },
   "outputs": [],
   "source": [
    "x1.symmetric_difference_update(['qux', 'corge'])\n",
    "x1"
   ]
  },
  {
   "cell_type": "markdown",
   "id": "03d1d045",
   "metadata": {
    "papermill": {
     "duration": null,
     "end_time": null,
     "exception": null,
     "start_time": null,
     "status": "pending"
    },
    "tags": []
   },
   "source": [
    "<a class=\"anchor\" id=\"other_methods_for_modifying_sets\"></a>\n",
    "### Other Methods For Modifying Sets"
   ]
  },
  {
   "cell_type": "markdown",
   "id": "50f409a9",
   "metadata": {
    "papermill": {
     "duration": null,
     "end_time": null,
     "exception": null,
     "start_time": null,
     "status": "pending"
    },
    "tags": []
   },
   "source": [
    "Aside from the augmented operators above, Python supports several additional methods that modify sets."
   ]
  },
  {
   "cell_type": "markdown",
   "id": "26e2b329",
   "metadata": {
    "papermill": {
     "duration": null,
     "end_time": null,
     "exception": null,
     "start_time": null,
     "status": "pending"
    },
    "tags": []
   },
   "source": [
    "> `x.add(<elem>)`\n",
    "> \n",
    "> Adds an element to a set."
   ]
  },
  {
   "cell_type": "markdown",
   "id": "0ab6e3e2",
   "metadata": {
    "papermill": {
     "duration": null,
     "end_time": null,
     "exception": null,
     "start_time": null,
     "status": "pending"
    },
    "tags": []
   },
   "source": [
    "`x.add(<elem>)` adds `<elem>`, which must be a single immutable object, to `x`:"
   ]
  },
  {
   "cell_type": "code",
   "execution_count": null,
   "id": "d0d29a92",
   "metadata": {
    "papermill": {
     "duration": null,
     "end_time": null,
     "exception": null,
     "start_time": null,
     "status": "pending"
    },
    "tags": []
   },
   "outputs": [],
   "source": [
    "x = {'foo', 'bar', 'baz'}"
   ]
  },
  {
   "cell_type": "code",
   "execution_count": null,
   "id": "267544eb",
   "metadata": {
    "papermill": {
     "duration": null,
     "end_time": null,
     "exception": null,
     "start_time": null,
     "status": "pending"
    },
    "tags": []
   },
   "outputs": [],
   "source": [
    "x.add('qux')\n",
    "x"
   ]
  },
  {
   "cell_type": "markdown",
   "id": "c833336c",
   "metadata": {
    "papermill": {
     "duration": null,
     "end_time": null,
     "exception": null,
     "start_time": null,
     "status": "pending"
    },
    "tags": []
   },
   "source": [
    "> `x.remove(<elem>)`\n",
    "> \n",
    "> Removes an element from a set."
   ]
  },
  {
   "cell_type": "markdown",
   "id": "70a80589",
   "metadata": {
    "papermill": {
     "duration": null,
     "end_time": null,
     "exception": null,
     "start_time": null,
     "status": "pending"
    },
    "tags": []
   },
   "source": [
    "`x.remove(<elem>)` removes `<elem>` from `x`. Python raises an exception if `<elem>` is not in `x`:"
   ]
  },
  {
   "cell_type": "code",
   "execution_count": null,
   "id": "309e50d1",
   "metadata": {
    "papermill": {
     "duration": null,
     "end_time": null,
     "exception": null,
     "start_time": null,
     "status": "pending"
    },
    "tags": []
   },
   "outputs": [],
   "source": [
    "x = {'foo', 'bar', 'baz'}"
   ]
  },
  {
   "cell_type": "code",
   "execution_count": null,
   "id": "00a2f8ea",
   "metadata": {
    "papermill": {
     "duration": null,
     "end_time": null,
     "exception": null,
     "start_time": null,
     "status": "pending"
    },
    "tags": []
   },
   "outputs": [],
   "source": [
    "x.remove('baz')\n",
    "x"
   ]
  },
  {
   "cell_type": "code",
   "execution_count": null,
   "id": "d734fd2c",
   "metadata": {
    "papermill": {
     "duration": null,
     "end_time": null,
     "exception": null,
     "start_time": null,
     "status": "pending"
    },
    "tags": []
   },
   "outputs": [],
   "source": [
    "x.remove('qux')   "
   ]
  },
  {
   "cell_type": "markdown",
   "id": "c5280794",
   "metadata": {
    "papermill": {
     "duration": null,
     "end_time": null,
     "exception": null,
     "start_time": null,
     "status": "pending"
    },
    "tags": []
   },
   "source": [
    "> `x.discard(<elem>)`\n",
    "> \n",
    "> Removes an element from a set."
   ]
  },
  {
   "cell_type": "markdown",
   "id": "1879d0c0",
   "metadata": {
    "papermill": {
     "duration": null,
     "end_time": null,
     "exception": null,
     "start_time": null,
     "status": "pending"
    },
    "tags": []
   },
   "source": [
    "`x.discard(<elem>)` also removes `<elem>` from `x`. However, if `<elem>` is not in `x`, this method quietly does nothing instead of raising an exception:"
   ]
  },
  {
   "cell_type": "code",
   "execution_count": null,
   "id": "509a78c4",
   "metadata": {
    "papermill": {
     "duration": null,
     "end_time": null,
     "exception": null,
     "start_time": null,
     "status": "pending"
    },
    "tags": []
   },
   "outputs": [],
   "source": [
    "x = {'foo', 'bar', 'baz'}"
   ]
  },
  {
   "cell_type": "code",
   "execution_count": null,
   "id": "b3863ec3",
   "metadata": {
    "papermill": {
     "duration": null,
     "end_time": null,
     "exception": null,
     "start_time": null,
     "status": "pending"
    },
    "tags": []
   },
   "outputs": [],
   "source": [
    "x.discard('baz')\n",
    "x"
   ]
  },
  {
   "cell_type": "code",
   "execution_count": null,
   "id": "98591fc4",
   "metadata": {
    "papermill": {
     "duration": null,
     "end_time": null,
     "exception": null,
     "start_time": null,
     "status": "pending"
    },
    "tags": []
   },
   "outputs": [],
   "source": [
    "x.discard('qux')\n",
    "x"
   ]
  },
  {
   "cell_type": "markdown",
   "id": "8eb180e0",
   "metadata": {
    "papermill": {
     "duration": null,
     "end_time": null,
     "exception": null,
     "start_time": null,
     "status": "pending"
    },
    "tags": []
   },
   "source": [
    "> `x.pop()`\n",
    "> \n",
    "> Removes a random element from a set."
   ]
  },
  {
   "cell_type": "markdown",
   "id": "4c2481e7",
   "metadata": {
    "papermill": {
     "duration": null,
     "end_time": null,
     "exception": null,
     "start_time": null,
     "status": "pending"
    },
    "tags": []
   },
   "source": [
    "`x.pop()` removes and returns an arbitrarily chosen element from `x`. If `x` is empty, `x.pop()` raises an exception:"
   ]
  },
  {
   "cell_type": "code",
   "execution_count": null,
   "id": "8e2a6328",
   "metadata": {
    "papermill": {
     "duration": null,
     "end_time": null,
     "exception": null,
     "start_time": null,
     "status": "pending"
    },
    "tags": []
   },
   "outputs": [],
   "source": [
    "x = {'foo', 'bar', 'baz'}"
   ]
  },
  {
   "cell_type": "code",
   "execution_count": null,
   "id": "fff15232",
   "metadata": {
    "papermill": {
     "duration": null,
     "end_time": null,
     "exception": null,
     "start_time": null,
     "status": "pending"
    },
    "tags": []
   },
   "outputs": [],
   "source": [
    "x.pop()"
   ]
  },
  {
   "cell_type": "code",
   "execution_count": null,
   "id": "6fb3f756",
   "metadata": {
    "papermill": {
     "duration": null,
     "end_time": null,
     "exception": null,
     "start_time": null,
     "status": "pending"
    },
    "tags": []
   },
   "outputs": [],
   "source": [
    "x"
   ]
  },
  {
   "cell_type": "code",
   "execution_count": null,
   "id": "b4ecc7e6",
   "metadata": {
    "papermill": {
     "duration": null,
     "end_time": null,
     "exception": null,
     "start_time": null,
     "status": "pending"
    },
    "tags": []
   },
   "outputs": [],
   "source": [
    "x.pop()"
   ]
  },
  {
   "cell_type": "code",
   "execution_count": null,
   "id": "6fa43ad1",
   "metadata": {
    "papermill": {
     "duration": null,
     "end_time": null,
     "exception": null,
     "start_time": null,
     "status": "pending"
    },
    "tags": []
   },
   "outputs": [],
   "source": [
    "x"
   ]
  },
  {
   "cell_type": "code",
   "execution_count": null,
   "id": "5f0dfc58",
   "metadata": {
    "papermill": {
     "duration": null,
     "end_time": null,
     "exception": null,
     "start_time": null,
     "status": "pending"
    },
    "tags": []
   },
   "outputs": [],
   "source": [
    "x.pop()"
   ]
  },
  {
   "cell_type": "code",
   "execution_count": null,
   "id": "a05d245f",
   "metadata": {
    "papermill": {
     "duration": null,
     "end_time": null,
     "exception": null,
     "start_time": null,
     "status": "pending"
    },
    "tags": []
   },
   "outputs": [],
   "source": [
    "x"
   ]
  },
  {
   "cell_type": "code",
   "execution_count": null,
   "id": "9385e19f",
   "metadata": {
    "papermill": {
     "duration": null,
     "end_time": null,
     "exception": null,
     "start_time": null,
     "status": "pending"
    },
    "tags": []
   },
   "outputs": [],
   "source": [
    "x.pop()"
   ]
  },
  {
   "cell_type": "markdown",
   "id": "bf67fe58",
   "metadata": {
    "papermill": {
     "duration": null,
     "end_time": null,
     "exception": null,
     "start_time": null,
     "status": "pending"
    },
    "tags": []
   },
   "source": [
    "> `x.clear()`\n",
    "> \n",
    "> Clears a set."
   ]
  },
  {
   "cell_type": "markdown",
   "id": "2484b9a0",
   "metadata": {
    "papermill": {
     "duration": null,
     "end_time": null,
     "exception": null,
     "start_time": null,
     "status": "pending"
    },
    "tags": []
   },
   "source": [
    "`x.clear()` removes all elements from `x`:"
   ]
  },
  {
   "cell_type": "code",
   "execution_count": null,
   "id": "2e06fbd5",
   "metadata": {
    "papermill": {
     "duration": null,
     "end_time": null,
     "exception": null,
     "start_time": null,
     "status": "pending"
    },
    "tags": []
   },
   "outputs": [],
   "source": [
    "x = {'foo', 'bar', 'baz'}\n",
    "x"
   ]
  },
  {
   "cell_type": "code",
   "execution_count": null,
   "id": "e717bc3a",
   "metadata": {
    "papermill": {
     "duration": null,
     "end_time": null,
     "exception": null,
     "start_time": null,
     "status": "pending"
    },
    "tags": []
   },
   "outputs": [],
   "source": [
    "x.clear()\n",
    "x"
   ]
  }
 ],
 "metadata": {
  "kernelspec": {
   "display_name": "Python 3",
   "language": "python",
   "name": "python3"
  },
  "language_info": {
   "codemirror_mode": {
    "name": "ipython",
    "version": 3
   },
   "file_extension": ".py",
   "mimetype": "text/x-python",
   "name": "python",
   "nbconvert_exporter": "python",
   "pygments_lexer": "ipython3",
   "version": "3.10.12"
  },
  "papermill": {
   "default_parameters": {},
   "duration": 6.2438,
   "end_time": "2023-10-15T12:08:01.899386",
   "environment_variables": {},
   "exception": true,
   "input_path": "__notebook__.ipynb",
   "output_path": "__notebook__.ipynb",
   "parameters": {},
   "start_time": "2023-10-15T12:07:55.655586",
   "version": "2.4.0"
  }
 },
 "nbformat": 4,
 "nbformat_minor": 5
}
