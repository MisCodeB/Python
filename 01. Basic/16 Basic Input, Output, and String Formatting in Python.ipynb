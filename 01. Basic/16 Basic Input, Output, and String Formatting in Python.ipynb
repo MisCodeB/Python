{
 "cells": [
  {
   "cell_type": "markdown",
   "id": "072fa200",
   "metadata": {
    "papermill": {
     "duration": 0.006323,
     "end_time": "2023-10-15T08:46:46.837874",
     "exception": false,
     "start_time": "2023-10-15T08:46:46.831551",
     "status": "completed"
    },
    "tags": []
   },
   "source": []
  },
  {
   "cell_type": "markdown",
   "id": "8fa30c48",
   "metadata": {
    "papermill": {
     "duration": 0.005131,
     "end_time": "2023-10-15T08:46:46.848704",
     "exception": false,
     "start_time": "2023-10-15T08:46:46.843573",
     "status": "completed"
    },
    "tags": []
   },
   "source": [
    "Basic Input, Output, and String Formatting in Python \n"
   ]
  },
  {
   "cell_type": "markdown",
   "id": "b909c3eb",
   "metadata": {
    "papermill": {
     "duration": 0.005289,
     "end_time": "2023-10-15T08:46:46.859468",
     "exception": false,
     "start_time": "2023-10-15T08:46:46.854179",
     "status": "completed"
    },
    "tags": []
   },
   "source": [
    "Table of Contents \n",
    "* [Reading Input From the Keyboard](#reading_input_from_the_keyboard)\n",
    "* [Writing Output to the Console](#writing_output_to_the_console)\n",
    "    * [Unformatted Console Output](#unformatted_console_output)\n",
    "    * [Keyword Arguments to `print()`](#keyword_arguments_to_`print()`)\n",
    "        * [The `sep=` Keyword Argument](#the_`sep=`_keyword_argument)\n",
    "        * [The `end=` Keyword Argument](#the_`end=`_keyword_argument)\n",
    "    * [Output Stream Keyword Arguments](#output_stream_keyword_arguments)\n",
    "* [Formatted String Output](#formatted_string_output)\n",
    "\n",
    "---"
   ]
  },
  {
   "cell_type": "markdown",
   "id": "b01ba08d",
   "metadata": {
    "papermill": {
     "duration": 0.006662,
     "end_time": "2023-10-15T08:46:46.871507",
     "exception": false,
     "start_time": "2023-10-15T08:46:46.864845",
     "status": "completed"
    },
    "tags": []
   },
   "source": [
    "To be useful, a program usually needs to communicate with the outside world by obtaining input data from the user and displaying result data back to the user. This tutorial will introduce you to Python input and output."
   ]
  },
  {
   "cell_type": "markdown",
   "id": "337a1588",
   "metadata": {
    "papermill": {
     "duration": 0.006973,
     "end_time": "2023-10-15T08:46:46.884483",
     "exception": false,
     "start_time": "2023-10-15T08:46:46.877510",
     "status": "completed"
    },
    "tags": []
   },
   "source": [
    "Input may come directly from the user via the keyboard, or from some external source like a file or database. Output can be displayed directly to the console or IDE, to the screen via a Graphical User Interface (GUI), or again to an external source."
   ]
  },
  {
   "cell_type": "markdown",
   "id": "625d4079",
   "metadata": {
    "papermill": {
     "duration": 0.006946,
     "end_time": "2023-10-15T08:46:46.897398",
     "exception": false,
     "start_time": "2023-10-15T08:46:46.890452",
     "status": "completed"
    },
    "tags": []
   },
   "source": [
    "By the end of this section, you’ll know how to:\n",
    "\n",
    "- Take user input from the keyboard with the built-in function `input()`\n",
    "- Display output to the console with the built-in function `print()`\n",
    "- Format string data with the **string modulo operator**"
   ]
  },
  {
   "cell_type": "markdown",
   "id": "1a7b09b5",
   "metadata": {
    "papermill": {
     "duration": 0.005352,
     "end_time": "2023-10-15T08:46:46.909306",
     "exception": false,
     "start_time": "2023-10-15T08:46:46.903954",
     "status": "completed"
    },
    "tags": []
   },
   "source": [
    "<a class=\"anchor\" id=\"reading_input_from_the_keyboard\"></a>\n",
    "## Reading Input From the Keyboard"
   ]
  },
  {
   "cell_type": "markdown",
   "id": "e4e169c5",
   "metadata": {
    "papermill": {
     "duration": 0.005175,
     "end_time": "2023-10-15T08:46:46.920024",
     "exception": false,
     "start_time": "2023-10-15T08:46:46.914849",
     "status": "completed"
    },
    "tags": []
   },
   "source": [
    "Programs often need to obtain data from the user, usually by way of input from the keyboard. The simplest way to accomplish this in Python is with `input()`."
   ]
  },
  {
   "cell_type": "markdown",
   "id": "0059e4ee",
   "metadata": {
    "papermill": {
     "duration": 0.005468,
     "end_time": "2023-10-15T08:46:46.931123",
     "exception": false,
     "start_time": "2023-10-15T08:46:46.925655",
     "status": "completed"
    },
    "tags": []
   },
   "source": [
    "> `input([<prompt>])`\n",
    "> \n",
    "> Reads a line of input from the keyboard."
   ]
  },
  {
   "cell_type": "markdown",
   "id": "1c5c25e3",
   "metadata": {
    "papermill": {
     "duration": 0.005263,
     "end_time": "2023-10-15T08:46:46.941966",
     "exception": false,
     "start_time": "2023-10-15T08:46:46.936703",
     "status": "completed"
    },
    "tags": []
   },
   "source": [
    "`input()` pauses program execution to allow the user to type in a line of input from the keyboard. Once the user presses the _Enter_ key, all characters typed are read and returned as a string:"
   ]
  },
  {
   "cell_type": "code",
   "execution_count": 1,
   "id": "c1780b47",
   "metadata": {
    "execution": {
     "iopub.execute_input": "2023-10-15T08:46:46.955454Z",
     "iopub.status.busy": "2023-10-15T08:46:46.954740Z",
     "iopub.status.idle": "2023-10-15T08:46:47.193910Z",
     "shell.execute_reply": "2023-10-15T08:46:47.192689Z"
    },
    "papermill": {
     "duration": 0.249048,
     "end_time": "2023-10-15T08:46:47.196766",
     "exception": true,
     "start_time": "2023-10-15T08:46:46.947718",
     "status": "failed"
    },
    "tags": []
   },
   "outputs": [
    {
     "ename": "StdinNotImplementedError",
     "evalue": "raw_input was called, but this frontend does not support input requests.",
     "output_type": "error",
     "traceback": [
      "\u001b[0;31m---------------------------------------------------------------------------\u001b[0m",
      "\u001b[0;31mStdinNotImplementedError\u001b[0m                  Traceback (most recent call last)",
      "Cell \u001b[0;32mIn[1], line 1\u001b[0m\n\u001b[0;32m----> 1\u001b[0m s \u001b[38;5;241m=\u001b[39m \u001b[38;5;28;43minput\u001b[39;49m\u001b[43m(\u001b[49m\u001b[43m)\u001b[49m\n\u001b[1;32m      3\u001b[0m s\n",
      "File \u001b[0;32m/opt/conda/lib/python3.10/site-packages/ipykernel/kernelbase.py:1190\u001b[0m, in \u001b[0;36mKernel.raw_input\u001b[0;34m(self, prompt)\u001b[0m\n\u001b[1;32m   1188\u001b[0m \u001b[38;5;28;01mif\u001b[39;00m \u001b[38;5;129;01mnot\u001b[39;00m \u001b[38;5;28mself\u001b[39m\u001b[38;5;241m.\u001b[39m_allow_stdin:\n\u001b[1;32m   1189\u001b[0m     msg \u001b[38;5;241m=\u001b[39m \u001b[38;5;124m\"\u001b[39m\u001b[38;5;124mraw_input was called, but this frontend does not support input requests.\u001b[39m\u001b[38;5;124m\"\u001b[39m\n\u001b[0;32m-> 1190\u001b[0m     \u001b[38;5;28;01mraise\u001b[39;00m StdinNotImplementedError(msg)\n\u001b[1;32m   1191\u001b[0m \u001b[38;5;28;01mreturn\u001b[39;00m \u001b[38;5;28mself\u001b[39m\u001b[38;5;241m.\u001b[39m_input_request(\n\u001b[1;32m   1192\u001b[0m     \u001b[38;5;28mstr\u001b[39m(prompt),\n\u001b[1;32m   1193\u001b[0m     \u001b[38;5;28mself\u001b[39m\u001b[38;5;241m.\u001b[39m_parent_ident[\u001b[38;5;124m\"\u001b[39m\u001b[38;5;124mshell\u001b[39m\u001b[38;5;124m\"\u001b[39m],\n\u001b[1;32m   1194\u001b[0m     \u001b[38;5;28mself\u001b[39m\u001b[38;5;241m.\u001b[39mget_parent(\u001b[38;5;124m\"\u001b[39m\u001b[38;5;124mshell\u001b[39m\u001b[38;5;124m\"\u001b[39m),\n\u001b[1;32m   1195\u001b[0m     password\u001b[38;5;241m=\u001b[39m\u001b[38;5;28;01mFalse\u001b[39;00m,\n\u001b[1;32m   1196\u001b[0m )\n",
      "\u001b[0;31mStdinNotImplementedError\u001b[0m: raw_input was called, but this frontend does not support input requests."
     ]
    }
   ],
   "source": [
    "s = input()\n",
    "\n",
    "s"
   ]
  },
  {
   "cell_type": "markdown",
   "id": "e475574b",
   "metadata": {
    "papermill": {
     "duration": null,
     "end_time": null,
     "exception": null,
     "start_time": null,
     "status": "pending"
    },
    "tags": []
   },
   "source": [
    "Note that the newline generated when the user presses the _Enter_ key isn’t included as part of the return string."
   ]
  },
  {
   "cell_type": "markdown",
   "id": "7e369226",
   "metadata": {
    "papermill": {
     "duration": null,
     "end_time": null,
     "exception": null,
     "start_time": null,
     "status": "pending"
    },
    "tags": []
   },
   "source": [
    "If you include the optional `<prompt>` argument, `input()` displays it as a prompt to the user before pausing to read input:"
   ]
  },
  {
   "cell_type": "code",
   "execution_count": null,
   "id": "96e4f5fc",
   "metadata": {
    "papermill": {
     "duration": null,
     "end_time": null,
     "exception": null,
     "start_time": null,
     "status": "pending"
    },
    "tags": []
   },
   "outputs": [],
   "source": [
    "name = input('What is your name? ')\n",
    "\n",
    "name"
   ]
  },
  {
   "cell_type": "markdown",
   "id": "f850a3c4",
   "metadata": {
    "papermill": {
     "duration": null,
     "end_time": null,
     "exception": null,
     "start_time": null,
     "status": "pending"
    },
    "tags": []
   },
   "source": [
    "`input()` always returns a string. If you want a numeric type, then you need to convert the string to the appropriate type with the `int()`, `float()`, or `complex()` built-in functions:"
   ]
  },
  {
   "cell_type": "code",
   "execution_count": null,
   "id": "ec8c06ec",
   "metadata": {
    "papermill": {
     "duration": null,
     "end_time": null,
     "exception": null,
     "start_time": null,
     "status": "pending"
    },
    "tags": []
   },
   "outputs": [],
   "source": [
    "n = input('Enter a number: ')"
   ]
  },
  {
   "cell_type": "code",
   "execution_count": null,
   "id": "04458331",
   "metadata": {
    "papermill": {
     "duration": null,
     "end_time": null,
     "exception": null,
     "start_time": null,
     "status": "pending"
    },
    "tags": []
   },
   "outputs": [],
   "source": [
    "print(n + 100)"
   ]
  },
  {
   "cell_type": "code",
   "execution_count": null,
   "id": "c85617cf",
   "metadata": {
    "papermill": {
     "duration": null,
     "end_time": null,
     "exception": null,
     "start_time": null,
     "status": "pending"
    },
    "tags": []
   },
   "outputs": [],
   "source": [
    "n = int(input('Enter a number: '))"
   ]
  },
  {
   "cell_type": "code",
   "execution_count": null,
   "id": "d9815f13",
   "metadata": {
    "papermill": {
     "duration": null,
     "end_time": null,
     "exception": null,
     "start_time": null,
     "status": "pending"
    },
    "tags": []
   },
   "outputs": [],
   "source": [
    "print(n + 100)"
   ]
  },
  {
   "cell_type": "markdown",
   "id": "3bdf20d1",
   "metadata": {
    "papermill": {
     "duration": null,
     "end_time": null,
     "exception": null,
     "start_time": null,
     "status": "pending"
    },
    "tags": []
   },
   "source": [
    "In the example above, the expression `n + 100` is invalid because `n` is a string and `100` is an integer. `int()` converts `n` to an integer so the `print()` statement finally succeeds."
   ]
  },
  {
   "cell_type": "markdown",
   "id": "7f9d0679",
   "metadata": {
    "papermill": {
     "duration": null,
     "end_time": null,
     "exception": null,
     "start_time": null,
     "status": "pending"
    },
    "tags": []
   },
   "source": [
    "> **Python Version Note:** Should you find yourself working with Python 2.x code, you might bump into a slight difference in the input functions between Python versions 2 and 3.\n",
    "> \n",
    "> `raw_input()` in Python 2 reads input from the keyboard and returns it. `raw_input()` in Python 2 behaves just like `input()` in Python 3, as described above.\n",
    "> \n",
    "> But Python 2 also has a function called `input()`. In Python 2, `input()` reads input from the keyboard, parses and evaluates it as a Python expression, and then returns the resulting value.\n",
    "> \n",
    "> Python 3 does not provide a single function that does exactly what Python 2’s `input()` does. The effect can be mimicked in Python 3 with the expression `eval(input())`. However, this is considered a security risk because it allows a user to run arbitrary, potentially malicious code.\n",
    "> \n",
    "> For more information on `eval()` and its potential security risks, check out [Python eval(): Evaluate Expressions Dynamically](https://realpython.com/python-eval-function/)."
   ]
  },
  {
   "cell_type": "markdown",
   "id": "d44f6d9f",
   "metadata": {
    "papermill": {
     "duration": null,
     "end_time": null,
     "exception": null,
     "start_time": null,
     "status": "pending"
    },
    "tags": []
   },
   "source": [
    "<a class=\"anchor\" id=\"writing_output_to_the_console\"></a>\n",
    "## Writing Output to the Console"
   ]
  },
  {
   "cell_type": "markdown",
   "id": "78d38e83",
   "metadata": {
    "papermill": {
     "duration": null,
     "end_time": null,
     "exception": null,
     "start_time": null,
     "status": "pending"
    },
    "tags": []
   },
   "source": [
    "In addition to obtaining data from the user, a program will also usually need to present data back to the user. You can display program data to the console in Python with `print()`."
   ]
  },
  {
   "cell_type": "markdown",
   "id": "00711129",
   "metadata": {
    "papermill": {
     "duration": null,
     "end_time": null,
     "exception": null,
     "start_time": null,
     "status": "pending"
    },
    "tags": []
   },
   "source": [
    "<a class=\"anchor\" id=\"unformatted_console_output\"></a>\n",
    "### Unformatted Console Output\n",
    "To display objects to the console, pass them as a comma-separated list of arguments to `print()`."
   ]
  },
  {
   "cell_type": "markdown",
   "id": "f2c16d44",
   "metadata": {
    "papermill": {
     "duration": null,
     "end_time": null,
     "exception": null,
     "start_time": null,
     "status": "pending"
    },
    "tags": []
   },
   "source": [
    "> `print(<obj>, ..., <obj>)`\n",
    "> \n",
    "> Displays a string representation of each <obj> to the console."
   ]
  },
  {
   "cell_type": "markdown",
   "id": "2062c6c4",
   "metadata": {
    "papermill": {
     "duration": null,
     "end_time": null,
     "exception": null,
     "start_time": null,
     "status": "pending"
    },
    "tags": []
   },
   "source": [
    "By default, `print()` separates each object by a single space and appends a newline to the end of the output:"
   ]
  },
  {
   "cell_type": "code",
   "execution_count": null,
   "id": "325c6204",
   "metadata": {
    "papermill": {
     "duration": null,
     "end_time": null,
     "exception": null,
     "start_time": null,
     "status": "pending"
    },
    "tags": []
   },
   "outputs": [],
   "source": [
    "fname = 'Winston'\n",
    "lname = 'Smith'\n",
    "\n",
    "print('Name:', fname, lname)"
   ]
  },
  {
   "cell_type": "markdown",
   "id": "6601ec5f",
   "metadata": {
    "papermill": {
     "duration": null,
     "end_time": null,
     "exception": null,
     "start_time": null,
     "status": "pending"
    },
    "tags": []
   },
   "source": [
    "Any type of object can be specified as an argument to `print()`. If an object isn’t a string, then `print()` converts it to an appropriate string representation displaying it:"
   ]
  },
  {
   "cell_type": "code",
   "execution_count": null,
   "id": "fc08bbe4",
   "metadata": {
    "papermill": {
     "duration": null,
     "end_time": null,
     "exception": null,
     "start_time": null,
     "status": "pending"
    },
    "tags": []
   },
   "outputs": [],
   "source": [
    "a = [1, 2, 3]\n",
    "type(a)"
   ]
  },
  {
   "cell_type": "code",
   "execution_count": null,
   "id": "9f86fabd",
   "metadata": {
    "papermill": {
     "duration": null,
     "end_time": null,
     "exception": null,
     "start_time": null,
     "status": "pending"
    },
    "tags": []
   },
   "outputs": [],
   "source": [
    "b = -12\n",
    "type(b)"
   ]
  },
  {
   "cell_type": "code",
   "execution_count": null,
   "id": "c22155a3",
   "metadata": {
    "papermill": {
     "duration": null,
     "end_time": null,
     "exception": null,
     "start_time": null,
     "status": "pending"
    },
    "tags": []
   },
   "outputs": [],
   "source": [
    "d = {'foo': 1, 'bar': 2}\n",
    "type(d)"
   ]
  },
  {
   "cell_type": "code",
   "execution_count": null,
   "id": "8e0e1f13",
   "metadata": {
    "papermill": {
     "duration": null,
     "end_time": null,
     "exception": null,
     "start_time": null,
     "status": "pending"
    },
    "tags": []
   },
   "outputs": [],
   "source": [
    "type(len)"
   ]
  },
  {
   "cell_type": "code",
   "execution_count": null,
   "id": "98b566b0",
   "metadata": {
    "papermill": {
     "duration": null,
     "end_time": null,
     "exception": null,
     "start_time": null,
     "status": "pending"
    },
    "tags": []
   },
   "outputs": [],
   "source": [
    "print(a, b, d, len)"
   ]
  },
  {
   "cell_type": "markdown",
   "id": "3cf149f6",
   "metadata": {
    "papermill": {
     "duration": null,
     "end_time": null,
     "exception": null,
     "start_time": null,
     "status": "pending"
    },
    "tags": []
   },
   "source": [
    "As you can see, even complex types like lists, dictionaries, and functions can be displayed to the console with `print()`."
   ]
  },
  {
   "cell_type": "markdown",
   "id": "cb6947c2",
   "metadata": {
    "papermill": {
     "duration": null,
     "end_time": null,
     "exception": null,
     "start_time": null,
     "status": "pending"
    },
    "tags": []
   },
   "source": [
    "<a class=\"anchor\" id=\"keyword_arguments_to_`print()`\"></a>\n",
    "### Keyword Arguments to `print()`\n",
    "\n",
    "`print()` takes a few additional arguments that provide modest control over the format of the output. Each of these is a special type of argument called a **keyword argument**. This introductory series will include a section on functions and parameter passing so you can learn more about keyword arguments."
   ]
  },
  {
   "cell_type": "markdown",
   "id": "ccbc6cd0",
   "metadata": {
    "papermill": {
     "duration": null,
     "end_time": null,
     "exception": null,
     "start_time": null,
     "status": "pending"
    },
    "tags": []
   },
   "source": [
    "For now, here’s what you need to know:\n",
    "\n",
    "- Keyword arguments have the form `<keyword>=<value>`.\n",
    "- Any keyword arguments passed to `print()` must come at the end, after the list of objects to display."
   ]
  },
  {
   "cell_type": "markdown",
   "id": "36f42b31",
   "metadata": {
    "papermill": {
     "duration": null,
     "end_time": null,
     "exception": null,
     "start_time": null,
     "status": "pending"
    },
    "tags": []
   },
   "source": [
    "In the following sections, you’ll see how these keyword arguments affect console output produced by `print()`."
   ]
  },
  {
   "cell_type": "code",
   "execution_count": null,
   "id": "55c0b853",
   "metadata": {
    "papermill": {
     "duration": null,
     "end_time": null,
     "exception": null,
     "start_time": null,
     "status": "pending"
    },
    "tags": []
   },
   "outputs": [],
   "source": [
    "print('ali', 'hejazizo', sep='....')"
   ]
  },
  {
   "cell_type": "markdown",
   "id": "089590bb",
   "metadata": {
    "papermill": {
     "duration": null,
     "end_time": null,
     "exception": null,
     "start_time": null,
     "status": "pending"
    },
    "tags": []
   },
   "source": [
    "<a class=\"anchor\" id=\"the_`sep=`_keyword_argument\"></a>\n",
    "#### The `sep=`  Keyword Argument"
   ]
  },
  {
   "cell_type": "markdown",
   "id": "79ad40df",
   "metadata": {
    "papermill": {
     "duration": null,
     "end_time": null,
     "exception": null,
     "start_time": null,
     "status": "pending"
    },
    "tags": []
   },
   "source": [
    "Adding the keyword argument `sep=<str>` causes objects to be separated by the string `<str>` instead of the default single space:"
   ]
  },
  {
   "cell_type": "code",
   "execution_count": null,
   "id": "f77be775",
   "metadata": {
    "papermill": {
     "duration": null,
     "end_time": null,
     "exception": null,
     "start_time": null,
     "status": "pending"
    },
    "tags": []
   },
   "outputs": [],
   "source": [
    "print('foo', 42, 'bar')"
   ]
  },
  {
   "cell_type": "code",
   "execution_count": null,
   "id": "7fe4f6bc",
   "metadata": {
    "papermill": {
     "duration": null,
     "end_time": null,
     "exception": null,
     "start_time": null,
     "status": "pending"
    },
    "tags": []
   },
   "outputs": [],
   "source": [
    "print('foo', 42, 'bar', sep='/')"
   ]
  },
  {
   "cell_type": "code",
   "execution_count": null,
   "id": "9b2c8b28",
   "metadata": {
    "papermill": {
     "duration": null,
     "end_time": null,
     "exception": null,
     "start_time": null,
     "status": "pending"
    },
    "tags": []
   },
   "outputs": [],
   "source": [
    "print('foo', 42, 'bar', sep='...')"
   ]
  },
  {
   "cell_type": "code",
   "execution_count": null,
   "id": "ca73a534",
   "metadata": {
    "papermill": {
     "duration": null,
     "end_time": null,
     "exception": null,
     "start_time": null,
     "status": "pending"
    },
    "tags": []
   },
   "outputs": [],
   "source": [
    "d = {'foo': 1, 'bar': 2, 'baz': 3}\n",
    "for k, v in d.items():\n",
    "    print(k, v, sep=' -> ')"
   ]
  },
  {
   "cell_type": "markdown",
   "id": "ed7b897a",
   "metadata": {
    "papermill": {
     "duration": null,
     "end_time": null,
     "exception": null,
     "start_time": null,
     "status": "pending"
    },
    "tags": []
   },
   "source": [
    "To squish objects together without any space between them, specify `sep=''`:"
   ]
  },
  {
   "cell_type": "code",
   "execution_count": null,
   "id": "4f16794b",
   "metadata": {
    "papermill": {
     "duration": null,
     "end_time": null,
     "exception": null,
     "start_time": null,
     "status": "pending"
    },
    "tags": []
   },
   "outputs": [],
   "source": [
    "print('foo', 42, 'bar', sep='')"
   ]
  },
  {
   "cell_type": "markdown",
   "id": "db341577",
   "metadata": {
    "papermill": {
     "duration": null,
     "end_time": null,
     "exception": null,
     "start_time": null,
     "status": "pending"
    },
    "tags": []
   },
   "source": [
    "You can specify any arbitrary string as the separator with the `sep=` keyword."
   ]
  },
  {
   "cell_type": "markdown",
   "id": "37b2d603",
   "metadata": {
    "papermill": {
     "duration": null,
     "end_time": null,
     "exception": null,
     "start_time": null,
     "status": "pending"
    },
    "tags": []
   },
   "source": [
    "<a class=\"anchor\" id=\"the_`end=`_keyword_argument\"></a>\n",
    "#### The `end=` Keyword Argument\n",
    "The keyword argument `end=<str>` causes output to be terminated by `<str>` instead of the default newline:"
   ]
  },
  {
   "cell_type": "code",
   "execution_count": null,
   "id": "6ffc446e",
   "metadata": {
    "papermill": {
     "duration": null,
     "end_time": null,
     "exception": null,
     "start_time": null,
     "status": "pending"
    },
    "tags": []
   },
   "outputs": [],
   "source": [
    "if True:\n",
    "    print('foo', end='/')\n",
    "    print(42, end='/')\n",
    "    print('bar')"
   ]
  },
  {
   "cell_type": "markdown",
   "id": "487d2f10",
   "metadata": {
    "papermill": {
     "duration": null,
     "end_time": null,
     "exception": null,
     "start_time": null,
     "status": "pending"
    },
    "tags": []
   },
   "source": [
    "For example, if you are displaying values in a loop, you might use `end=` to cause the values to be displayed on one line, rather than on individual lines:"
   ]
  },
  {
   "cell_type": "code",
   "execution_count": null,
   "id": "92612134",
   "metadata": {
    "papermill": {
     "duration": null,
     "end_time": null,
     "exception": null,
     "start_time": null,
     "status": "pending"
    },
    "tags": []
   },
   "outputs": [],
   "source": [
    "for n in range(10):\n",
    "    print(n)"
   ]
  },
  {
   "cell_type": "code",
   "execution_count": null,
   "id": "7708f792",
   "metadata": {
    "papermill": {
     "duration": null,
     "end_time": null,
     "exception": null,
     "start_time": null,
     "status": "pending"
    },
    "tags": []
   },
   "outputs": [],
   "source": [
    "for n in range(31):\n",
    "    print(n, end=(' ' if n % 10 != 0 else '\\n'))"
   ]
  },
  {
   "cell_type": "markdown",
   "id": "49327f3f",
   "metadata": {
    "papermill": {
     "duration": null,
     "end_time": null,
     "exception": null,
     "start_time": null,
     "status": "pending"
    },
    "tags": []
   },
   "source": [
    "Any string may be specified as the output terminator with the `end=` keyword."
   ]
  },
  {
   "cell_type": "markdown",
   "id": "a5eee4cc",
   "metadata": {
    "papermill": {
     "duration": null,
     "end_time": null,
     "exception": null,
     "start_time": null,
     "status": "pending"
    },
    "tags": []
   },
   "source": [
    "<a class=\"anchor\" id=\"output_stream_keyword_arguments\"></a>\n",
    "### Output Stream Keyword Arguments\n",
    "`print()` accepts two additional keyword arguments, both of which affect handling of the output stream:\n",
    "\n",
    "- `file=<stream>`: By default, `print()` sends its output to a default stream called `sys.stdout`, which is usually equivalent to the console. The `file=<stream>` argument causes output to be sent to an alternate stream designated by `<stream>` instead.\n",
    "\n",
    "- `flush=True`: Ordinarily, `print()` buffers its output and only writes to the output stream intermittently. `flush=True` specifies that the output stream is forcibly flushed with each `print()`."
   ]
  },
  {
   "cell_type": "markdown",
   "id": "7476fa91",
   "metadata": {
    "papermill": {
     "duration": null,
     "end_time": null,
     "exception": null,
     "start_time": null,
     "status": "pending"
    },
    "tags": []
   },
   "source": [
    "These two keyword arguments are presented here for the sake of completeness. You probably don’t need to be too concerned about output streams at this point. They are discussed later in this series in the section on File I/O."
   ]
  },
  {
   "cell_type": "markdown",
   "id": "96914045",
   "metadata": {
    "papermill": {
     "duration": null,
     "end_time": null,
     "exception": null,
     "start_time": null,
     "status": "pending"
    },
    "tags": []
   },
   "source": [
    "<a class=\"anchor\" id=\"formatted_string_output\"></a>\n",
    "## Formatted String Output"
   ]
  },
  {
   "cell_type": "markdown",
   "id": "f644dd8e",
   "metadata": {
    "papermill": {
     "duration": null,
     "end_time": null,
     "exception": null,
     "start_time": null,
     "status": "pending"
    },
    "tags": []
   },
   "source": [
    "`print()` supports formatting of console output that is rudimentary at best. You can choose how to separate printed objects, and you can specify what goes at the end of the printed line. That’s about it."
   ]
  },
  {
   "cell_type": "markdown",
   "id": "86899ee6",
   "metadata": {
    "papermill": {
     "duration": null,
     "end_time": null,
     "exception": null,
     "start_time": null,
     "status": "pending"
    },
    "tags": []
   },
   "source": [
    "In many cases, you’ll need more precise control over the appearance of data destined for display. Python provides several ways to format output string data. One of the older ones is the **string modulo operator**."
   ]
  },
  {
   "cell_type": "markdown",
   "id": "86ec6318",
   "metadata": {
    "papermill": {
     "duration": null,
     "end_time": null,
     "exception": null,
     "start_time": null,
     "status": "pending"
    },
    "tags": []
   },
   "source": [
    "In recent versions of Python, there are newer ways to format string data that are arguably superior to the string modulo operator: the **string `.format()` method**, and **f-strings**. You will learn about these in the next section in this series."
   ]
  }
 ],
 "metadata": {
  "kernelspec": {
   "display_name": "Python 3",
   "language": "python",
   "name": "python3"
  },
  "language_info": {
   "codemirror_mode": {
    "name": "ipython",
    "version": 3
   },
   "file_extension": ".py",
   "mimetype": "text/x-python",
   "name": "python",
   "nbconvert_exporter": "python",
   "pygments_lexer": "ipython3",
   "version": "3.10.12"
  },
  "papermill": {
   "default_parameters": {},
   "duration": 3.570081,
   "end_time": "2023-10-15T08:46:47.623924",
   "environment_variables": {},
   "exception": true,
   "input_path": "__notebook__.ipynb",
   "output_path": "__notebook__.ipynb",
   "parameters": {},
   "start_time": "2023-10-15T08:46:44.053843",
   "version": "2.4.0"
  }
 },
 "nbformat": 4,
 "nbformat_minor": 5
}
