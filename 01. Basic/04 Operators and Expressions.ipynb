{
 "cells": [
  {
   "cell_type": "markdown",
   "id": "8f985e06",
   "metadata": {
    "papermill": {
     "duration": 0.016279,
     "end_time": "2023-10-14T20:13:01.648043",
     "exception": false,
     "start_time": "2023-10-14T20:13:01.631764",
     "status": "completed"
    },
    "tags": []
   },
   "source": []
  },
  {
   "cell_type": "markdown",
   "id": "8daef8d0",
   "metadata": {
    "papermill": {
     "duration": 0.014654,
     "end_time": "2023-10-14T20:13:01.678676",
     "exception": false,
     "start_time": "2023-10-14T20:13:01.664022",
     "status": "completed"
    },
    "tags": []
   },
   "source": [
    "Operators and Expressions \n",
    "\n",
    "In Python, operators are special symbols that designate that some sort of computation should be performed. The values that an operator acts on are called **operands**."
   ]
  },
  {
   "cell_type": "markdown",
   "id": "fcca40db",
   "metadata": {
    "papermill": {
     "duration": 0.014552,
     "end_time": "2023-10-14T20:13:01.707389",
     "exception": false,
     "start_time": "2023-10-14T20:13:01.692837",
     "status": "completed"
    },
    "tags": []
   },
   "source": [
    "Table of Contents \n",
    "* [Arithmetic Operators](#arithmetic_operators)\n",
    "* [Comparison Operators](#comparison_operators)\n",
    "    * [Equality Comparison on Floating-Point Values](#equality_comparison_on_floating-point_values)\n",
    "* [Logical Operators](#logical_operators)\n",
    "    * [Logical Expressions Involving Boolean Operands](#logical_expressions_involving_boolean_operands)\n",
    "    * [Evaluation of Non-Boolean Values in Boolean Context](#evaluation_of_non-boolean_values_in_boolean_context)\n",
    "        * [Numeric Value](#numeric_value)\n",
    "        * [String](#string)\n",
    "        * [Built-In Composite Data Object](#built-in_composite_data_object)\n",
    "        * [The `None` Keyword](#the_`none`_keyword)\n",
    "* [Bitwise Operators](#bitwise_operators)\n",
    "* [Identity Operators](#identity_operators)\n",
    "* [Augmented Assignment Operators](#augmented_assignment_operators)\n",
    "* [Conclusion](#conclusion)\n",
    "\n",
    "---"
   ]
  },
  {
   "cell_type": "markdown",
   "id": "2403d80c",
   "metadata": {
    "papermill": {
     "duration": 0.013659,
     "end_time": "2023-10-14T20:13:01.736103",
     "exception": false,
     "start_time": "2023-10-14T20:13:01.722444",
     "status": "completed"
    },
    "tags": []
   },
   "source": [
    "Here is an example:"
   ]
  },
  {
   "cell_type": "code",
   "execution_count": 1,
   "id": "a56a29c3",
   "metadata": {
    "execution": {
     "iopub.execute_input": "2023-10-14T20:13:01.779661Z",
     "iopub.status.busy": "2023-10-14T20:13:01.778114Z",
     "iopub.status.idle": "2023-10-14T20:13:01.788217Z",
     "shell.execute_reply": "2023-10-14T20:13:01.787331Z"
    },
    "papermill": {
     "duration": 0.033611,
     "end_time": "2023-10-14T20:13:01.791582",
     "exception": false,
     "start_time": "2023-10-14T20:13:01.757971",
     "status": "completed"
    },
    "tags": []
   },
   "outputs": [],
   "source": [
    "a = 10\n",
    "b = 20"
   ]
  },
  {
   "cell_type": "code",
   "execution_count": 2,
   "id": "8e06e155",
   "metadata": {
    "execution": {
     "iopub.execute_input": "2023-10-14T20:13:01.923466Z",
     "iopub.status.busy": "2023-10-14T20:13:01.922653Z",
     "iopub.status.idle": "2023-10-14T20:13:01.930418Z",
     "shell.execute_reply": "2023-10-14T20:13:01.929318Z"
    },
    "papermill": {
     "duration": 0.124241,
     "end_time": "2023-10-14T20:13:01.932895",
     "exception": false,
     "start_time": "2023-10-14T20:13:01.808654",
     "status": "completed"
    },
    "tags": []
   },
   "outputs": [
    {
     "data": {
      "text/plain": [
       "30"
      ]
     },
     "execution_count": 2,
     "metadata": {},
     "output_type": "execute_result"
    }
   ],
   "source": [
    "a + b"
   ]
  },
  {
   "cell_type": "markdown",
   "id": "d51a6657",
   "metadata": {
    "papermill": {
     "duration": 0.017334,
     "end_time": "2023-10-14T20:13:01.964898",
     "exception": false,
     "start_time": "2023-10-14T20:13:01.947564",
     "status": "completed"
    },
    "tags": []
   },
   "source": [
    "In this case, the `+` operator adds the operands `a` and `b` together. An operand can be either a literal value or a variable that references an object:"
   ]
  },
  {
   "cell_type": "code",
   "execution_count": 3,
   "id": "f62ff954",
   "metadata": {
    "execution": {
     "iopub.execute_input": "2023-10-14T20:13:01.996413Z",
     "iopub.status.busy": "2023-10-14T20:13:01.995577Z",
     "iopub.status.idle": "2023-10-14T20:13:02.000558Z",
     "shell.execute_reply": "2023-10-14T20:13:01.999686Z"
    },
    "papermill": {
     "duration": 0.023547,
     "end_time": "2023-10-14T20:13:02.002881",
     "exception": false,
     "start_time": "2023-10-14T20:13:01.979334",
     "status": "completed"
    },
    "tags": []
   },
   "outputs": [],
   "source": [
    "a = 10\n",
    "b = 20"
   ]
  },
  {
   "cell_type": "code",
   "execution_count": 4,
   "id": "aad17891",
   "metadata": {
    "execution": {
     "iopub.execute_input": "2023-10-14T20:13:02.034575Z",
     "iopub.status.busy": "2023-10-14T20:13:02.033725Z",
     "iopub.status.idle": "2023-10-14T20:13:02.040645Z",
     "shell.execute_reply": "2023-10-14T20:13:02.039761Z"
    },
    "papermill": {
     "duration": 0.025448,
     "end_time": "2023-10-14T20:13:02.042766",
     "exception": false,
     "start_time": "2023-10-14T20:13:02.017318",
     "status": "completed"
    },
    "tags": []
   },
   "outputs": [
    {
     "data": {
      "text/plain": [
       "25"
      ]
     },
     "execution_count": 4,
     "metadata": {},
     "output_type": "execute_result"
    }
   ],
   "source": [
    "a + b - 5"
   ]
  },
  {
   "cell_type": "markdown",
   "id": "9e94bf91",
   "metadata": {
    "papermill": {
     "duration": 0.014583,
     "end_time": "2023-10-14T20:13:02.072036",
     "exception": false,
     "start_time": "2023-10-14T20:13:02.057453",
     "status": "completed"
    },
    "tags": []
   },
   "source": [
    "A sequence of operands and operators, like `a + b - 5`, is called an **expression**. Python supports many operators for combining data objects into expressions. These are explored below."
   ]
  },
  {
   "cell_type": "markdown",
   "id": "2db8a4eb",
   "metadata": {
    "papermill": {
     "duration": 0.014254,
     "end_time": "2023-10-14T20:13:02.100939",
     "exception": false,
     "start_time": "2023-10-14T20:13:02.086685",
     "status": "completed"
    },
    "tags": []
   },
   "source": [
    "<a class=\"anchor\" id=\"arithmetic_operators\"></a>\n",
    "## Arithmetic Operators"
   ]
  },
  {
   "cell_type": "markdown",
   "id": "75ce484a",
   "metadata": {
    "papermill": {
     "duration": 0.020934,
     "end_time": "2023-10-14T20:13:02.137871",
     "exception": false,
     "start_time": "2023-10-14T20:13:02.116937",
     "status": "completed"
    },
    "tags": []
   },
   "source": [
    "The following table lists the arithmetic operators supported by Python:\n",
    "\n",
    "\n",
    "|Operator | Example | Meaning | Result|\n",
    "|:--|:--|:--|:--|\n",
    "|`+` (unary) |\t`+a`\t| **Unary Positive** | `a` In other words, it doesn’t really do anything. It mostly exists for the sake of completeness, to complement Unary Negation.|\n",
    "|`+` (binary) |\t`a + b`\t| **Addition** |\tSum of `a` and `b` |\n",
    "|`-` (unary) |\t`-a`\t| **Unary Negation** |\tValue equal to `a` but opposite in sign |\n",
    "|`-` (binary) |\t`a - b`\t| **Subtraction** | `b` subtracted from `a` |\n",
    "|`*`|\t`a * b`\t| **Multiplication** | Product of `a` and `b` |\n",
    "|`/`|\t`a / b`\t| **Division** | Quotient when `a` is divided by `b`. The result always has type float. |\n",
    "|`%`|\t`a % b`\t| **Modulo** | Remainder when `a` is divided by `b` |\n",
    "|`//`|\t`a // b`\t| **Floor Division** | (also called Integer Division)\tQuotient when `a` is divided by `b`, rounded to the next smallest whole number |\n",
    "|`**`|\t`a ** b`\t| **Exponentiation** | `a` raised to the power of `b` |"
   ]
  },
  {
   "cell_type": "markdown",
   "id": "8f48a60b",
   "metadata": {
    "papermill": {
     "duration": 0.018584,
     "end_time": "2023-10-14T20:13:02.171660",
     "exception": false,
     "start_time": "2023-10-14T20:13:02.153076",
     "status": "completed"
    },
    "tags": []
   },
   "source": [
    "Here are some examples of these operators in use:"
   ]
  },
  {
   "cell_type": "code",
   "execution_count": 5,
   "id": "f7bf1556",
   "metadata": {
    "execution": {
     "iopub.execute_input": "2023-10-14T20:13:02.214094Z",
     "iopub.status.busy": "2023-10-14T20:13:02.213536Z",
     "iopub.status.idle": "2023-10-14T20:13:02.219501Z",
     "shell.execute_reply": "2023-10-14T20:13:02.217944Z"
    },
    "papermill": {
     "duration": 0.027583,
     "end_time": "2023-10-14T20:13:02.223231",
     "exception": false,
     "start_time": "2023-10-14T20:13:02.195648",
     "status": "completed"
    },
    "tags": []
   },
   "outputs": [],
   "source": [
    "a = 4\n",
    "b = 3"
   ]
  },
  {
   "cell_type": "code",
   "execution_count": 6,
   "id": "697cc045",
   "metadata": {
    "execution": {
     "iopub.execute_input": "2023-10-14T20:13:02.256496Z",
     "iopub.status.busy": "2023-10-14T20:13:02.255771Z",
     "iopub.status.idle": "2023-10-14T20:13:02.262673Z",
     "shell.execute_reply": "2023-10-14T20:13:02.261612Z"
    },
    "papermill": {
     "duration": 0.024985,
     "end_time": "2023-10-14T20:13:02.264792",
     "exception": false,
     "start_time": "2023-10-14T20:13:02.239807",
     "status": "completed"
    },
    "tags": []
   },
   "outputs": [
    {
     "data": {
      "text/plain": [
       "4"
      ]
     },
     "execution_count": 6,
     "metadata": {},
     "output_type": "execute_result"
    }
   ],
   "source": [
    "+a"
   ]
  },
  {
   "cell_type": "code",
   "execution_count": 7,
   "id": "094bb297",
   "metadata": {
    "execution": {
     "iopub.execute_input": "2023-10-14T20:13:02.297955Z",
     "iopub.status.busy": "2023-10-14T20:13:02.297135Z",
     "iopub.status.idle": "2023-10-14T20:13:02.303624Z",
     "shell.execute_reply": "2023-10-14T20:13:02.302774Z"
    },
    "papermill": {
     "duration": 0.025854,
     "end_time": "2023-10-14T20:13:02.305777",
     "exception": false,
     "start_time": "2023-10-14T20:13:02.279923",
     "status": "completed"
    },
    "tags": []
   },
   "outputs": [
    {
     "data": {
      "text/plain": [
       "-3"
      ]
     },
     "execution_count": 7,
     "metadata": {},
     "output_type": "execute_result"
    }
   ],
   "source": [
    "-b"
   ]
  },
  {
   "cell_type": "code",
   "execution_count": 8,
   "id": "74cd1227",
   "metadata": {
    "execution": {
     "iopub.execute_input": "2023-10-14T20:13:02.337125Z",
     "iopub.status.busy": "2023-10-14T20:13:02.336386Z",
     "iopub.status.idle": "2023-10-14T20:13:02.342798Z",
     "shell.execute_reply": "2023-10-14T20:13:02.341768Z"
    },
    "papermill": {
     "duration": 0.02429,
     "end_time": "2023-10-14T20:13:02.344847",
     "exception": false,
     "start_time": "2023-10-14T20:13:02.320557",
     "status": "completed"
    },
    "tags": []
   },
   "outputs": [
    {
     "data": {
      "text/plain": [
       "7"
      ]
     },
     "execution_count": 8,
     "metadata": {},
     "output_type": "execute_result"
    }
   ],
   "source": [
    "a + b"
   ]
  },
  {
   "cell_type": "code",
   "execution_count": 9,
   "id": "6de795c7",
   "metadata": {
    "execution": {
     "iopub.execute_input": "2023-10-14T20:13:02.376618Z",
     "iopub.status.busy": "2023-10-14T20:13:02.375829Z",
     "iopub.status.idle": "2023-10-14T20:13:02.382295Z",
     "shell.execute_reply": "2023-10-14T20:13:02.381422Z"
    },
    "papermill": {
     "duration": 0.02489,
     "end_time": "2023-10-14T20:13:02.384500",
     "exception": false,
     "start_time": "2023-10-14T20:13:02.359610",
     "status": "completed"
    },
    "tags": []
   },
   "outputs": [
    {
     "data": {
      "text/plain": [
       "1"
      ]
     },
     "execution_count": 9,
     "metadata": {},
     "output_type": "execute_result"
    }
   ],
   "source": [
    "a - b"
   ]
  },
  {
   "cell_type": "code",
   "execution_count": 10,
   "id": "006da72b",
   "metadata": {
    "execution": {
     "iopub.execute_input": "2023-10-14T20:13:02.416741Z",
     "iopub.status.busy": "2023-10-14T20:13:02.415945Z",
     "iopub.status.idle": "2023-10-14T20:13:02.422171Z",
     "shell.execute_reply": "2023-10-14T20:13:02.421378Z"
    },
    "papermill": {
     "duration": 0.024995,
     "end_time": "2023-10-14T20:13:02.424106",
     "exception": false,
     "start_time": "2023-10-14T20:13:02.399111",
     "status": "completed"
    },
    "tags": []
   },
   "outputs": [
    {
     "data": {
      "text/plain": [
       "12"
      ]
     },
     "execution_count": 10,
     "metadata": {},
     "output_type": "execute_result"
    }
   ],
   "source": [
    "a * b"
   ]
  },
  {
   "cell_type": "code",
   "execution_count": 11,
   "id": "934baf3b",
   "metadata": {
    "execution": {
     "iopub.execute_input": "2023-10-14T20:13:02.457291Z",
     "iopub.status.busy": "2023-10-14T20:13:02.456551Z",
     "iopub.status.idle": "2023-10-14T20:13:02.462799Z",
     "shell.execute_reply": "2023-10-14T20:13:02.461999Z"
    },
    "papermill": {
     "duration": 0.024655,
     "end_time": "2023-10-14T20:13:02.464849",
     "exception": false,
     "start_time": "2023-10-14T20:13:02.440194",
     "status": "completed"
    },
    "tags": []
   },
   "outputs": [
    {
     "data": {
      "text/plain": [
       "1.3333333333333333"
      ]
     },
     "execution_count": 11,
     "metadata": {},
     "output_type": "execute_result"
    }
   ],
   "source": [
    "a / b"
   ]
  },
  {
   "cell_type": "code",
   "execution_count": 12,
   "id": "158e40d3",
   "metadata": {
    "execution": {
     "iopub.execute_input": "2023-10-14T20:13:02.496834Z",
     "iopub.status.busy": "2023-10-14T20:13:02.496088Z",
     "iopub.status.idle": "2023-10-14T20:13:02.502446Z",
     "shell.execute_reply": "2023-10-14T20:13:02.501595Z"
    },
    "papermill": {
     "duration": 0.02461,
     "end_time": "2023-10-14T20:13:02.504445",
     "exception": false,
     "start_time": "2023-10-14T20:13:02.479835",
     "status": "completed"
    },
    "tags": []
   },
   "outputs": [
    {
     "data": {
      "text/plain": [
       "1"
      ]
     },
     "execution_count": 12,
     "metadata": {},
     "output_type": "execute_result"
    }
   ],
   "source": [
    "a % b"
   ]
  },
  {
   "cell_type": "code",
   "execution_count": 13,
   "id": "c407c054",
   "metadata": {
    "execution": {
     "iopub.execute_input": "2023-10-14T20:13:02.536904Z",
     "iopub.status.busy": "2023-10-14T20:13:02.536138Z",
     "iopub.status.idle": "2023-10-14T20:13:02.543565Z",
     "shell.execute_reply": "2023-10-14T20:13:02.542209Z"
    },
    "papermill": {
     "duration": 0.026679,
     "end_time": "2023-10-14T20:13:02.546253",
     "exception": false,
     "start_time": "2023-10-14T20:13:02.519574",
     "status": "completed"
    },
    "tags": []
   },
   "outputs": [
    {
     "data": {
      "text/plain": [
       "64"
      ]
     },
     "execution_count": 13,
     "metadata": {},
     "output_type": "execute_result"
    }
   ],
   "source": [
    "a ** b"
   ]
  },
  {
   "cell_type": "markdown",
   "id": "9b911f0f",
   "metadata": {
    "papermill": {
     "duration": 0.014847,
     "end_time": "2023-10-14T20:13:02.576421",
     "exception": false,
     "start_time": "2023-10-14T20:13:02.561574",
     "status": "completed"
    },
    "tags": []
   },
   "source": [
    "The result of standard division (`/`) is always a `float`, even if the dividend is evenly divisible by the divisor:"
   ]
  },
  {
   "cell_type": "code",
   "execution_count": 14,
   "id": "b865f32b",
   "metadata": {
    "execution": {
     "iopub.execute_input": "2023-10-14T20:13:02.608300Z",
     "iopub.status.busy": "2023-10-14T20:13:02.607963Z",
     "iopub.status.idle": "2023-10-14T20:13:02.613576Z",
     "shell.execute_reply": "2023-10-14T20:13:02.612562Z"
    },
    "papermill": {
     "duration": 0.023993,
     "end_time": "2023-10-14T20:13:02.615640",
     "exception": false,
     "start_time": "2023-10-14T20:13:02.591647",
     "status": "completed"
    },
    "tags": []
   },
   "outputs": [
    {
     "data": {
      "text/plain": [
       "2.0"
      ]
     },
     "execution_count": 14,
     "metadata": {},
     "output_type": "execute_result"
    }
   ],
   "source": [
    "10 / 5"
   ]
  },
  {
   "cell_type": "code",
   "execution_count": 15,
   "id": "7d0266ec",
   "metadata": {
    "execution": {
     "iopub.execute_input": "2023-10-14T20:13:02.648945Z",
     "iopub.status.busy": "2023-10-14T20:13:02.648407Z",
     "iopub.status.idle": "2023-10-14T20:13:02.656049Z",
     "shell.execute_reply": "2023-10-14T20:13:02.654994Z"
    },
    "papermill": {
     "duration": 0.02719,
     "end_time": "2023-10-14T20:13:02.658032",
     "exception": false,
     "start_time": "2023-10-14T20:13:02.630842",
     "status": "completed"
    },
    "tags": []
   },
   "outputs": [
    {
     "data": {
      "text/plain": [
       "float"
      ]
     },
     "execution_count": 15,
     "metadata": {},
     "output_type": "execute_result"
    }
   ],
   "source": [
    "type(10 / 5)"
   ]
  },
  {
   "cell_type": "markdown",
   "id": "e5db975e",
   "metadata": {
    "papermill": {
     "duration": 0.015054,
     "end_time": "2023-10-14T20:13:02.688773",
     "exception": false,
     "start_time": "2023-10-14T20:13:02.673719",
     "status": "completed"
    },
    "tags": []
   },
   "source": [
    "When the result of floor division (`//`) is positive, it is as though the fractional portion is truncated off, leaving only the integer portion. When the result is negative, the result is rounded down to the next smallest (greater negative) integer:"
   ]
  },
  {
   "cell_type": "code",
   "execution_count": 16,
   "id": "f7222e39",
   "metadata": {
    "execution": {
     "iopub.execute_input": "2023-10-14T20:13:02.721112Z",
     "iopub.status.busy": "2023-10-14T20:13:02.720750Z",
     "iopub.status.idle": "2023-10-14T20:13:02.728294Z",
     "shell.execute_reply": "2023-10-14T20:13:02.726680Z"
    },
    "papermill": {
     "duration": 0.026134,
     "end_time": "2023-10-14T20:13:02.730233",
     "exception": false,
     "start_time": "2023-10-14T20:13:02.704099",
     "status": "completed"
    },
    "tags": []
   },
   "outputs": [
    {
     "data": {
      "text/plain": [
       "2.5"
      ]
     },
     "execution_count": 16,
     "metadata": {},
     "output_type": "execute_result"
    }
   ],
   "source": [
    "10 / 4"
   ]
  },
  {
   "cell_type": "code",
   "execution_count": 17,
   "id": "8da17a95",
   "metadata": {
    "execution": {
     "iopub.execute_input": "2023-10-14T20:13:02.764320Z",
     "iopub.status.busy": "2023-10-14T20:13:02.762686Z",
     "iopub.status.idle": "2023-10-14T20:13:02.770683Z",
     "shell.execute_reply": "2023-10-14T20:13:02.769654Z"
    },
    "papermill": {
     "duration": 0.026894,
     "end_time": "2023-10-14T20:13:02.772516",
     "exception": false,
     "start_time": "2023-10-14T20:13:02.745622",
     "status": "completed"
    },
    "tags": []
   },
   "outputs": [
    {
     "data": {
      "text/plain": [
       "2"
      ]
     },
     "execution_count": 17,
     "metadata": {},
     "output_type": "execute_result"
    }
   ],
   "source": [
    "10 // 4"
   ]
  },
  {
   "cell_type": "code",
   "execution_count": 18,
   "id": "9db5514c",
   "metadata": {
    "execution": {
     "iopub.execute_input": "2023-10-14T20:13:02.806453Z",
     "iopub.status.busy": "2023-10-14T20:13:02.805919Z",
     "iopub.status.idle": "2023-10-14T20:13:02.813306Z",
     "shell.execute_reply": "2023-10-14T20:13:02.812234Z"
    },
    "papermill": {
     "duration": 0.027222,
     "end_time": "2023-10-14T20:13:02.815450",
     "exception": false,
     "start_time": "2023-10-14T20:13:02.788228",
     "status": "completed"
    },
    "tags": []
   },
   "outputs": [
    {
     "data": {
      "text/plain": [
       "-3"
      ]
     },
     "execution_count": 18,
     "metadata": {},
     "output_type": "execute_result"
    }
   ],
   "source": [
    "10 // -4"
   ]
  },
  {
   "cell_type": "code",
   "execution_count": 19,
   "id": "d534dac7",
   "metadata": {
    "execution": {
     "iopub.execute_input": "2023-10-14T20:13:02.851458Z",
     "iopub.status.busy": "2023-10-14T20:13:02.850373Z",
     "iopub.status.idle": "2023-10-14T20:13:02.858099Z",
     "shell.execute_reply": "2023-10-14T20:13:02.857084Z"
    },
    "papermill": {
     "duration": 0.028204,
     "end_time": "2023-10-14T20:13:02.860056",
     "exception": false,
     "start_time": "2023-10-14T20:13:02.831852",
     "status": "completed"
    },
    "tags": []
   },
   "outputs": [
    {
     "data": {
      "text/plain": [
       "-3"
      ]
     },
     "execution_count": 19,
     "metadata": {},
     "output_type": "execute_result"
    }
   ],
   "source": [
    "-10 // 4"
   ]
  },
  {
   "cell_type": "code",
   "execution_count": 20,
   "id": "b93131c1",
   "metadata": {
    "execution": {
     "iopub.execute_input": "2023-10-14T20:13:02.896215Z",
     "iopub.status.busy": "2023-10-14T20:13:02.895441Z",
     "iopub.status.idle": "2023-10-14T20:13:02.901134Z",
     "shell.execute_reply": "2023-10-14T20:13:02.900386Z"
    },
    "papermill": {
     "duration": 0.025188,
     "end_time": "2023-10-14T20:13:02.902920",
     "exception": false,
     "start_time": "2023-10-14T20:13:02.877732",
     "status": "completed"
    },
    "tags": []
   },
   "outputs": [
    {
     "data": {
      "text/plain": [
       "2"
      ]
     },
     "execution_count": 20,
     "metadata": {},
     "output_type": "execute_result"
    }
   ],
   "source": [
    "-10 // -4"
   ]
  },
  {
   "cell_type": "markdown",
   "id": "7bd6755d",
   "metadata": {
    "papermill": {
     "duration": 0.015402,
     "end_time": "2023-10-14T20:13:02.934695",
     "exception": false,
     "start_time": "2023-10-14T20:13:02.919293",
     "status": "completed"
    },
    "tags": []
   },
   "source": [
    "<a class=\"anchor\" id=\"comparison_operators\"></a>\n",
    "## Comparison Operators\n",
    "\n",
    "|Operator |\tExample |\tMeaning |\tResult |\n",
    "|:--|:--|:--|:--|\n",
    "|`==` |\t`a == b` |\t**Equal to** | `True` if the value of `a` is equal to the value of `b`. `False` otherwise |\n",
    "|`!=` |\t`a != b` |\t**Not equal to** | `True` if `a` is not equal to `b`. `False` otherwise |\n",
    "|`<` |\t`a < b` |\t**Less than** | `True` if `a` is less than `b`. `False` otherwise |\n",
    "|`<=` |\t`a <= b` |\t**Less than or equal to** | `True` if `a` is less than or equal to `b`. `False` otherwise |\n",
    "|`>` |\t`a > b` |\t**Greater than** | `True` if `a` is greater than `b`. `False` otherwise |\n",
    "|`>=` |\t`a >= b` |\t**Greater than or equal to** | `True` if `a` is greater than or equal to `b`. `False` otherwise |"
   ]
  },
  {
   "cell_type": "markdown",
   "id": "1b512cec",
   "metadata": {
    "papermill": {
     "duration": 0.015834,
     "end_time": "2023-10-14T20:13:02.966298",
     "exception": false,
     "start_time": "2023-10-14T20:13:02.950464",
     "status": "completed"
    },
    "tags": []
   },
   "source": [
    "Here are examples of the comparison operators in use:"
   ]
  },
  {
   "cell_type": "code",
   "execution_count": 21,
   "id": "6a43a392",
   "metadata": {
    "execution": {
     "iopub.execute_input": "2023-10-14T20:13:03.000530Z",
     "iopub.status.busy": "2023-10-14T20:13:02.999634Z",
     "iopub.status.idle": "2023-10-14T20:13:03.006343Z",
     "shell.execute_reply": "2023-10-14T20:13:03.004470Z"
    },
    "papermill": {
     "duration": 0.02699,
     "end_time": "2023-10-14T20:13:03.009324",
     "exception": false,
     "start_time": "2023-10-14T20:13:02.982334",
     "status": "completed"
    },
    "tags": []
   },
   "outputs": [],
   "source": [
    "a = 10\n",
    "b = 20"
   ]
  },
  {
   "cell_type": "code",
   "execution_count": 22,
   "id": "4a3f0203",
   "metadata": {
    "execution": {
     "iopub.execute_input": "2023-10-14T20:13:03.044480Z",
     "iopub.status.busy": "2023-10-14T20:13:03.044082Z",
     "iopub.status.idle": "2023-10-14T20:13:03.050658Z",
     "shell.execute_reply": "2023-10-14T20:13:03.049512Z"
    },
    "papermill": {
     "duration": 0.026787,
     "end_time": "2023-10-14T20:13:03.053112",
     "exception": false,
     "start_time": "2023-10-14T20:13:03.026325",
     "status": "completed"
    },
    "tags": []
   },
   "outputs": [
    {
     "data": {
      "text/plain": [
       "False"
      ]
     },
     "execution_count": 22,
     "metadata": {},
     "output_type": "execute_result"
    }
   ],
   "source": [
    "a == b"
   ]
  },
  {
   "cell_type": "code",
   "execution_count": 23,
   "id": "440c1659",
   "metadata": {
    "execution": {
     "iopub.execute_input": "2023-10-14T20:13:03.087464Z",
     "iopub.status.busy": "2023-10-14T20:13:03.087043Z",
     "iopub.status.idle": "2023-10-14T20:13:03.094408Z",
     "shell.execute_reply": "2023-10-14T20:13:03.093257Z"
    },
    "papermill": {
     "duration": 0.027051,
     "end_time": "2023-10-14T20:13:03.096559",
     "exception": false,
     "start_time": "2023-10-14T20:13:03.069508",
     "status": "completed"
    },
    "tags": []
   },
   "outputs": [
    {
     "data": {
      "text/plain": [
       "True"
      ]
     },
     "execution_count": 23,
     "metadata": {},
     "output_type": "execute_result"
    }
   ],
   "source": [
    "a != b"
   ]
  },
  {
   "cell_type": "code",
   "execution_count": 24,
   "id": "09202edb",
   "metadata": {
    "execution": {
     "iopub.execute_input": "2023-10-14T20:13:03.131953Z",
     "iopub.status.busy": "2023-10-14T20:13:03.130502Z",
     "iopub.status.idle": "2023-10-14T20:13:03.137717Z",
     "shell.execute_reply": "2023-10-14T20:13:03.136536Z"
    },
    "papermill": {
     "duration": 0.02748,
     "end_time": "2023-10-14T20:13:03.140137",
     "exception": false,
     "start_time": "2023-10-14T20:13:03.112657",
     "status": "completed"
    },
    "tags": []
   },
   "outputs": [
    {
     "data": {
      "text/plain": [
       "True"
      ]
     },
     "execution_count": 24,
     "metadata": {},
     "output_type": "execute_result"
    }
   ],
   "source": [
    "a <= b"
   ]
  },
  {
   "cell_type": "code",
   "execution_count": 25,
   "id": "fb276057",
   "metadata": {
    "execution": {
     "iopub.execute_input": "2023-10-14T20:13:03.179679Z",
     "iopub.status.busy": "2023-10-14T20:13:03.178869Z",
     "iopub.status.idle": "2023-10-14T20:13:03.183984Z",
     "shell.execute_reply": "2023-10-14T20:13:03.183257Z"
    },
    "papermill": {
     "duration": 0.028044,
     "end_time": "2023-10-14T20:13:03.185900",
     "exception": false,
     "start_time": "2023-10-14T20:13:03.157856",
     "status": "completed"
    },
    "tags": []
   },
   "outputs": [
    {
     "data": {
      "text/plain": [
       "False"
      ]
     },
     "execution_count": 25,
     "metadata": {},
     "output_type": "execute_result"
    }
   ],
   "source": [
    "a >= b"
   ]
  },
  {
   "cell_type": "code",
   "execution_count": 26,
   "id": "1678fd2f",
   "metadata": {
    "execution": {
     "iopub.execute_input": "2023-10-14T20:13:03.224384Z",
     "iopub.status.busy": "2023-10-14T20:13:03.223692Z",
     "iopub.status.idle": "2023-10-14T20:13:03.227813Z",
     "shell.execute_reply": "2023-10-14T20:13:03.227011Z"
    },
    "papermill": {
     "duration": 0.026295,
     "end_time": "2023-10-14T20:13:03.229909",
     "exception": false,
     "start_time": "2023-10-14T20:13:03.203614",
     "status": "completed"
    },
    "tags": []
   },
   "outputs": [],
   "source": [
    "a = 30\n",
    "b = 30"
   ]
  },
  {
   "cell_type": "code",
   "execution_count": 27,
   "id": "43a3bf43",
   "metadata": {
    "execution": {
     "iopub.execute_input": "2023-10-14T20:13:03.267204Z",
     "iopub.status.busy": "2023-10-14T20:13:03.266776Z",
     "iopub.status.idle": "2023-10-14T20:13:03.274028Z",
     "shell.execute_reply": "2023-10-14T20:13:03.272659Z"
    },
    "papermill": {
     "duration": 0.028187,
     "end_time": "2023-10-14T20:13:03.276398",
     "exception": false,
     "start_time": "2023-10-14T20:13:03.248211",
     "status": "completed"
    },
    "tags": []
   },
   "outputs": [
    {
     "data": {
      "text/plain": [
       "True"
      ]
     },
     "execution_count": 27,
     "metadata": {},
     "output_type": "execute_result"
    }
   ],
   "source": [
    "a == b"
   ]
  },
  {
   "cell_type": "code",
   "execution_count": 28,
   "id": "a789829e",
   "metadata": {
    "execution": {
     "iopub.execute_input": "2023-10-14T20:13:03.316350Z",
     "iopub.status.busy": "2023-10-14T20:13:03.315892Z",
     "iopub.status.idle": "2023-10-14T20:13:03.324620Z",
     "shell.execute_reply": "2023-10-14T20:13:03.322839Z"
    },
    "papermill": {
     "duration": 0.032368,
     "end_time": "2023-10-14T20:13:03.328121",
     "exception": false,
     "start_time": "2023-10-14T20:13:03.295753",
     "status": "completed"
    },
    "tags": []
   },
   "outputs": [
    {
     "data": {
      "text/plain": [
       "True"
      ]
     },
     "execution_count": 28,
     "metadata": {},
     "output_type": "execute_result"
    }
   ],
   "source": [
    "a <= b"
   ]
  },
  {
   "cell_type": "code",
   "execution_count": 29,
   "id": "4c7ed9da",
   "metadata": {
    "execution": {
     "iopub.execute_input": "2023-10-14T20:13:03.365571Z",
     "iopub.status.busy": "2023-10-14T20:13:03.365140Z",
     "iopub.status.idle": "2023-10-14T20:13:03.372722Z",
     "shell.execute_reply": "2023-10-14T20:13:03.371213Z"
    },
    "papermill": {
     "duration": 0.029387,
     "end_time": "2023-10-14T20:13:03.375266",
     "exception": false,
     "start_time": "2023-10-14T20:13:03.345879",
     "status": "completed"
    },
    "tags": []
   },
   "outputs": [
    {
     "data": {
      "text/plain": [
       "True"
      ]
     },
     "execution_count": 29,
     "metadata": {},
     "output_type": "execute_result"
    }
   ],
   "source": [
    "a >= b"
   ]
  },
  {
   "cell_type": "markdown",
   "id": "1639e60f",
   "metadata": {
    "papermill": {
     "duration": 0.01738,
     "end_time": "2023-10-14T20:13:03.410617",
     "exception": false,
     "start_time": "2023-10-14T20:13:03.393237",
     "status": "completed"
    },
    "tags": []
   },
   "source": [
    "Comparison operators are typically used in Boolean contexts like conditional and loop statements to direct program flow, as you will see later."
   ]
  },
  {
   "cell_type": "markdown",
   "id": "288a63db",
   "metadata": {
    "papermill": {
     "duration": 0.020641,
     "end_time": "2023-10-14T20:13:03.452449",
     "exception": false,
     "start_time": "2023-10-14T20:13:03.431808",
     "status": "completed"
    },
    "tags": []
   },
   "source": [
    "<a class=\"anchor\" id=\"equality_comparison_on_floating-point_values\"></a>\n",
    "### Equality Comparison on Floating-Point Values\n",
    "\n",
    "Recall from the earlier discussion of floating-point numbers that the value stored internally for a float object may not be precisely what you’d think it would be. For that reason, it is poor practice to compare floating-point values for exact equality. Consider this example:"
   ]
  },
  {
   "cell_type": "code",
   "execution_count": 30,
   "id": "d7470b8e",
   "metadata": {
    "execution": {
     "iopub.execute_input": "2023-10-14T20:13:03.490890Z",
     "iopub.status.busy": "2023-10-14T20:13:03.490513Z",
     "iopub.status.idle": "2023-10-14T20:13:03.496740Z",
     "shell.execute_reply": "2023-10-14T20:13:03.495919Z"
    },
    "papermill": {
     "duration": 0.027767,
     "end_time": "2023-10-14T20:13:03.498663",
     "exception": false,
     "start_time": "2023-10-14T20:13:03.470896",
     "status": "completed"
    },
    "tags": []
   },
   "outputs": [
    {
     "data": {
      "text/plain": [
       "False"
      ]
     },
     "execution_count": 30,
     "metadata": {},
     "output_type": "execute_result"
    }
   ],
   "source": [
    "x = 1.1 + 2.2\n",
    "x == 3.3"
   ]
  },
  {
   "cell_type": "markdown",
   "id": "fe9ff16b",
   "metadata": {
    "papermill": {
     "duration": 0.017443,
     "end_time": "2023-10-14T20:13:03.533731",
     "exception": false,
     "start_time": "2023-10-14T20:13:03.516288",
     "status": "completed"
    },
    "tags": []
   },
   "source": [
    "Yikes! The internal representations of the addition operands are not exactly equal to `1.1` and `2.2`, so you cannot rely on x to compare exactly to `3.3`."
   ]
  },
  {
   "cell_type": "markdown",
   "id": "908d8292",
   "metadata": {
    "papermill": {
     "duration": 0.018201,
     "end_time": "2023-10-14T20:13:03.569985",
     "exception": false,
     "start_time": "2023-10-14T20:13:03.551784",
     "status": "completed"
    },
    "tags": []
   },
   "source": [
    "The preferred way to determine whether two floating-point values are “equal” is to compute whether they are close to one another, given some tolerance. Take a look at this example:"
   ]
  },
  {
   "cell_type": "code",
   "execution_count": 31,
   "id": "2d250981",
   "metadata": {
    "execution": {
     "iopub.execute_input": "2023-10-14T20:13:03.609711Z",
     "iopub.status.busy": "2023-10-14T20:13:03.609308Z",
     "iopub.status.idle": "2023-10-14T20:13:03.614095Z",
     "shell.execute_reply": "2023-10-14T20:13:03.612893Z"
    },
    "papermill": {
     "duration": 0.027843,
     "end_time": "2023-10-14T20:13:03.616405",
     "exception": false,
     "start_time": "2023-10-14T20:13:03.588562",
     "status": "completed"
    },
    "tags": []
   },
   "outputs": [],
   "source": [
    "tolerance = 0.00001"
   ]
  },
  {
   "cell_type": "code",
   "execution_count": 32,
   "id": "df31adea",
   "metadata": {
    "execution": {
     "iopub.execute_input": "2023-10-14T20:13:03.657401Z",
     "iopub.status.busy": "2023-10-14T20:13:03.656954Z",
     "iopub.status.idle": "2023-10-14T20:13:03.663999Z",
     "shell.execute_reply": "2023-10-14T20:13:03.662859Z"
    },
    "papermill": {
     "duration": 0.031619,
     "end_time": "2023-10-14T20:13:03.666436",
     "exception": false,
     "start_time": "2023-10-14T20:13:03.634817",
     "status": "completed"
    },
    "tags": []
   },
   "outputs": [
    {
     "data": {
      "text/plain": [
       "True"
      ]
     },
     "execution_count": 32,
     "metadata": {},
     "output_type": "execute_result"
    }
   ],
   "source": [
    "abs(x - 3.3) < tolerance"
   ]
  },
  {
   "cell_type": "markdown",
   "id": "baad537e",
   "metadata": {
    "papermill": {
     "duration": 0.017418,
     "end_time": "2023-10-14T20:13:03.701697",
     "exception": false,
     "start_time": "2023-10-14T20:13:03.684279",
     "status": "completed"
    },
    "tags": []
   },
   "source": [
    "`abs()` returns absolute value. If the absolute value of the difference between the two numbers is less than the specified tolerance, they are close enough to one another to be considered equal."
   ]
  },
  {
   "cell_type": "markdown",
   "id": "da203777",
   "metadata": {
    "papermill": {
     "duration": 0.018145,
     "end_time": "2023-10-14T20:13:03.737663",
     "exception": false,
     "start_time": "2023-10-14T20:13:03.719518",
     "status": "completed"
    },
    "tags": []
   },
   "source": [
    "<a class=\"anchor\" id=\"logical_operators\"></a>\n",
    "## Logical Operators\n",
    "\n",
    "The logical operators `not`, `or`, `and` and modify and join together expressions evaluated in Boolean context to create more complex conditions."
   ]
  },
  {
   "cell_type": "markdown",
   "id": "61d291bf",
   "metadata": {
    "papermill": {
     "duration": 0.017341,
     "end_time": "2023-10-14T20:13:03.772682",
     "exception": false,
     "start_time": "2023-10-14T20:13:03.755341",
     "status": "completed"
    },
    "tags": []
   },
   "source": [
    "<a class=\"anchor\" id=\"logical_expressions_involving_boolean_operands\"></a>\n",
    "### Logical Expressions Involving Boolean Operands\n",
    "\n",
    "As you have seen, some objects and expressions in Python actually are of Boolean type. That is, they are equal to one of the Python objects `True` or `False`."
   ]
  },
  {
   "cell_type": "code",
   "execution_count": 33,
   "id": "787a8cc7",
   "metadata": {
    "execution": {
     "iopub.execute_input": "2023-10-14T20:13:03.810218Z",
     "iopub.status.busy": "2023-10-14T20:13:03.809809Z",
     "iopub.status.idle": "2023-10-14T20:13:03.815546Z",
     "shell.execute_reply": "2023-10-14T20:13:03.814711Z"
    },
    "papermill": {
     "duration": 0.027134,
     "end_time": "2023-10-14T20:13:03.817598",
     "exception": false,
     "start_time": "2023-10-14T20:13:03.790464",
     "status": "completed"
    },
    "tags": []
   },
   "outputs": [
    {
     "data": {
      "text/plain": [
       "True"
      ]
     },
     "execution_count": 33,
     "metadata": {},
     "output_type": "execute_result"
    }
   ],
   "source": [
    "x = 5\n",
    "x < 10"
   ]
  },
  {
   "cell_type": "code",
   "execution_count": 34,
   "id": "4bdfcd67",
   "metadata": {
    "execution": {
     "iopub.execute_input": "2023-10-14T20:13:03.855701Z",
     "iopub.status.busy": "2023-10-14T20:13:03.855260Z",
     "iopub.status.idle": "2023-10-14T20:13:03.862299Z",
     "shell.execute_reply": "2023-10-14T20:13:03.861089Z"
    },
    "papermill": {
     "duration": 0.028198,
     "end_time": "2023-10-14T20:13:03.864315",
     "exception": false,
     "start_time": "2023-10-14T20:13:03.836117",
     "status": "completed"
    },
    "tags": []
   },
   "outputs": [
    {
     "data": {
      "text/plain": [
       "bool"
      ]
     },
     "execution_count": 34,
     "metadata": {},
     "output_type": "execute_result"
    }
   ],
   "source": [
    "type(x < 10)"
   ]
  },
  {
   "cell_type": "markdown",
   "id": "fc0a2979",
   "metadata": {
    "papermill": {
     "duration": 0.017627,
     "end_time": "2023-10-14T20:13:03.900073",
     "exception": false,
     "start_time": "2023-10-14T20:13:03.882446",
     "status": "completed"
    },
    "tags": []
   },
   "source": [
    "|Operator |\tExample\t |Meaning |\n",
    "|:--|:--|:--|\n",
    "|`not` | `not x` | `True` if `x` is `False`. `False` if `x` is `True` (Logically reverses the sense of `x`) |\n",
    "|`or` | `x or y` | `True` if either `x` or `y` is `True`. `False` otherwise. |\n",
    "|`and` | `x and y` | `True` if both `x` and `y` are `True`. `False` otherwise. |"
   ]
  },
  {
   "cell_type": "markdown",
   "id": "f4ad69bc",
   "metadata": {
    "papermill": {
     "duration": 0.017518,
     "end_time": "2023-10-14T20:13:03.935295",
     "exception": false,
     "start_time": "2023-10-14T20:13:03.917777",
     "status": "completed"
    },
    "tags": []
   },
   "source": [
    "Take a look at how they work in practice below."
   ]
  },
  {
   "cell_type": "code",
   "execution_count": 35,
   "id": "51660126",
   "metadata": {
    "execution": {
     "iopub.execute_input": "2023-10-14T20:13:03.972282Z",
     "iopub.status.busy": "2023-10-14T20:13:03.971929Z",
     "iopub.status.idle": "2023-10-14T20:13:03.977125Z",
     "shell.execute_reply": "2023-10-14T20:13:03.976107Z"
    },
    "papermill": {
     "duration": 0.026331,
     "end_time": "2023-10-14T20:13:03.979269",
     "exception": false,
     "start_time": "2023-10-14T20:13:03.952938",
     "status": "completed"
    },
    "tags": []
   },
   "outputs": [],
   "source": [
    "x = 5"
   ]
  },
  {
   "cell_type": "code",
   "execution_count": 36,
   "id": "69a562b7",
   "metadata": {
    "execution": {
     "iopub.execute_input": "2023-10-14T20:13:04.016919Z",
     "iopub.status.busy": "2023-10-14T20:13:04.016575Z",
     "iopub.status.idle": "2023-10-14T20:13:04.022776Z",
     "shell.execute_reply": "2023-10-14T20:13:04.021694Z"
    },
    "papermill": {
     "duration": 0.028321,
     "end_time": "2023-10-14T20:13:04.025202",
     "exception": false,
     "start_time": "2023-10-14T20:13:03.996881",
     "status": "completed"
    },
    "tags": []
   },
   "outputs": [
    {
     "data": {
      "text/plain": [
       "False"
      ]
     },
     "execution_count": 36,
     "metadata": {},
     "output_type": "execute_result"
    }
   ],
   "source": [
    "not x < 10"
   ]
  },
  {
   "cell_type": "code",
   "execution_count": 37,
   "id": "605dda35",
   "metadata": {
    "execution": {
     "iopub.execute_input": "2023-10-14T20:13:04.063929Z",
     "iopub.status.busy": "2023-10-14T20:13:04.062639Z",
     "iopub.status.idle": "2023-10-14T20:13:04.066888Z",
     "shell.execute_reply": "2023-10-14T20:13:04.066218Z"
    },
    "papermill": {
     "duration": 0.025633,
     "end_time": "2023-10-14T20:13:04.068897",
     "exception": false,
     "start_time": "2023-10-14T20:13:04.043264",
     "status": "completed"
    },
    "tags": []
   },
   "outputs": [],
   "source": [
    "x = 5"
   ]
  },
  {
   "cell_type": "code",
   "execution_count": 38,
   "id": "b48d2257",
   "metadata": {
    "execution": {
     "iopub.execute_input": "2023-10-14T20:13:04.106982Z",
     "iopub.status.busy": "2023-10-14T20:13:04.106599Z",
     "iopub.status.idle": "2023-10-14T20:13:04.112339Z",
     "shell.execute_reply": "2023-10-14T20:13:04.111665Z"
    },
    "papermill": {
     "duration": 0.026774,
     "end_time": "2023-10-14T20:13:04.114002",
     "exception": false,
     "start_time": "2023-10-14T20:13:04.087228",
     "status": "completed"
    },
    "tags": []
   },
   "outputs": [
    {
     "data": {
      "text/plain": [
       "True"
      ]
     },
     "execution_count": 38,
     "metadata": {},
     "output_type": "execute_result"
    }
   ],
   "source": [
    "x < 10 or x > 10"
   ]
  },
  {
   "cell_type": "code",
   "execution_count": 39,
   "id": "cc60464e",
   "metadata": {
    "execution": {
     "iopub.execute_input": "2023-10-14T20:13:04.152337Z",
     "iopub.status.busy": "2023-10-14T20:13:04.151938Z",
     "iopub.status.idle": "2023-10-14T20:13:04.157924Z",
     "shell.execute_reply": "2023-10-14T20:13:04.157208Z"
    },
    "papermill": {
     "duration": 0.027671,
     "end_time": "2023-10-14T20:13:04.159782",
     "exception": false,
     "start_time": "2023-10-14T20:13:04.132111",
     "status": "completed"
    },
    "tags": []
   },
   "outputs": [
    {
     "data": {
      "text/plain": [
       "False"
      ]
     },
     "execution_count": 39,
     "metadata": {},
     "output_type": "execute_result"
    }
   ],
   "source": [
    "x < 10 and x > 10"
   ]
  },
  {
   "cell_type": "markdown",
   "id": "83e9b091",
   "metadata": {
    "papermill": {
     "duration": 0.018385,
     "end_time": "2023-10-14T20:13:04.197481",
     "exception": false,
     "start_time": "2023-10-14T20:13:04.179096",
     "status": "completed"
    },
    "tags": []
   },
   "source": [
    "<a class=\"anchor\" id=\"evaluation_of_non-boolean_values_in_boolean_context\"></a>\n",
    "### Evaluation of Non-Boolean Values in Boolean Context\n",
    "\n",
    "Many objects and expressions are not equal to True or False. Nonetheless, they may still be evaluated in Boolean context and determined to be “truthy” or “falsy.”"
   ]
  },
  {
   "cell_type": "markdown",
   "id": "502bd6d1",
   "metadata": {
    "papermill": {
     "duration": 0.018304,
     "end_time": "2023-10-14T20:13:04.234305",
     "exception": false,
     "start_time": "2023-10-14T20:13:04.216001",
     "status": "completed"
    },
    "tags": []
   },
   "source": [
    "So what is true and what isn’t? As a philosophical question, that is outside the scope of this tutorial!"
   ]
  },
  {
   "cell_type": "markdown",
   "id": "2dd83c7c",
   "metadata": {
    "papermill": {
     "duration": 0.019124,
     "end_time": "2023-10-14T20:13:04.272910",
     "exception": false,
     "start_time": "2023-10-14T20:13:04.253786",
     "status": "completed"
    },
    "tags": []
   },
   "source": [
    "But in Python, it is well-defined. All the following are considered false when evaluated in Boolean context:\n",
    "- The Boolean value `False`\n",
    "- Any value that is numerically zero (`0`, `0.0`, `0.0+0.0j`)\n",
    "- An empty string\n",
    "- An object of a built-in composite data type which is empty (see later section)\n",
    "- The special value denoted by the Python keyword `None`"
   ]
  },
  {
   "cell_type": "markdown",
   "id": "27dd78aa",
   "metadata": {
    "papermill": {
     "duration": 0.02064,
     "end_time": "2023-10-14T20:13:04.315308",
     "exception": false,
     "start_time": "2023-10-14T20:13:04.294668",
     "status": "completed"
    },
    "tags": []
   },
   "source": [
    "Virtually any other object built into Python is regarded as `True`."
   ]
  },
  {
   "cell_type": "markdown",
   "id": "6fb6e602",
   "metadata": {
    "papermill": {
     "duration": 0.01958,
     "end_time": "2023-10-14T20:13:04.355176",
     "exception": false,
     "start_time": "2023-10-14T20:13:04.335596",
     "status": "completed"
    },
    "tags": []
   },
   "source": [
    "You can determine the “truthiness” of an object or expression with the built-in `bool()` function. `bool()` returns `True` if its argument is truthy and `False` if it is falsy."
   ]
  },
  {
   "cell_type": "markdown",
   "id": "94e68382",
   "metadata": {
    "papermill": {
     "duration": 0.018294,
     "end_time": "2023-10-14T20:13:04.394100",
     "exception": false,
     "start_time": "2023-10-14T20:13:04.375806",
     "status": "completed"
    },
    "tags": []
   },
   "source": [
    "<a class=\"anchor\" id=\"numeric_value\"></a>\n",
    "#### Numeric Value\n",
    "- A zero value is false.\n",
    "- A non-zero value is true."
   ]
  },
  {
   "cell_type": "code",
   "execution_count": 40,
   "id": "32ba8211",
   "metadata": {
    "execution": {
     "iopub.execute_input": "2023-10-14T20:13:04.437332Z",
     "iopub.status.busy": "2023-10-14T20:13:04.436729Z",
     "iopub.status.idle": "2023-10-14T20:13:04.442209Z",
     "shell.execute_reply": "2023-10-14T20:13:04.441472Z"
    },
    "papermill": {
     "duration": 0.03037,
     "end_time": "2023-10-14T20:13:04.444675",
     "exception": false,
     "start_time": "2023-10-14T20:13:04.414305",
     "status": "completed"
    },
    "tags": []
   },
   "outputs": [
    {
     "name": "stdout",
     "output_type": "stream",
     "text": [
      "False False False\n"
     ]
    }
   ],
   "source": [
    "print(bool(0), bool(0.0), bool(0.0+0j))"
   ]
  },
  {
   "cell_type": "code",
   "execution_count": 41,
   "id": "04fa2036",
   "metadata": {
    "execution": {
     "iopub.execute_input": "2023-10-14T20:13:04.486584Z",
     "iopub.status.busy": "2023-10-14T20:13:04.485762Z",
     "iopub.status.idle": "2023-10-14T20:13:04.491481Z",
     "shell.execute_reply": "2023-10-14T20:13:04.490222Z"
    },
    "papermill": {
     "duration": 0.029065,
     "end_time": "2023-10-14T20:13:04.493655",
     "exception": false,
     "start_time": "2023-10-14T20:13:04.464590",
     "status": "completed"
    },
    "tags": []
   },
   "outputs": [
    {
     "name": "stdout",
     "output_type": "stream",
     "text": [
      "True True True\n"
     ]
    }
   ],
   "source": [
    "print(bool(-3), bool(3.14159), bool(1.0+1j))"
   ]
  },
  {
   "cell_type": "markdown",
   "id": "108207cc",
   "metadata": {
    "papermill": {
     "duration": 0.018569,
     "end_time": "2023-10-14T20:13:04.531022",
     "exception": false,
     "start_time": "2023-10-14T20:13:04.512453",
     "status": "completed"
    },
    "tags": []
   },
   "source": [
    "<a class=\"anchor\" id=\"string\"></a>\n",
    "#### String\n",
    "- An empty string is false.\n",
    "- A non-empty string is true."
   ]
  },
  {
   "cell_type": "code",
   "execution_count": 42,
   "id": "c11c8425",
   "metadata": {
    "execution": {
     "iopub.execute_input": "2023-10-14T20:13:04.572658Z",
     "iopub.status.busy": "2023-10-14T20:13:04.571867Z",
     "iopub.status.idle": "2023-10-14T20:13:04.577036Z",
     "shell.execute_reply": "2023-10-14T20:13:04.576181Z"
    },
    "papermill": {
     "duration": 0.028573,
     "end_time": "2023-10-14T20:13:04.579686",
     "exception": false,
     "start_time": "2023-10-14T20:13:04.551113",
     "status": "completed"
    },
    "tags": []
   },
   "outputs": [
    {
     "name": "stdout",
     "output_type": "stream",
     "text": [
      "False False False\n"
     ]
    }
   ],
   "source": [
    "print(bool(''), bool(\"\"), bool(\"\"\"\"\"\"))"
   ]
  },
  {
   "cell_type": "code",
   "execution_count": 43,
   "id": "b33893e5",
   "metadata": {
    "execution": {
     "iopub.execute_input": "2023-10-14T20:13:04.621684Z",
     "iopub.status.busy": "2023-10-14T20:13:04.621294Z",
     "iopub.status.idle": "2023-10-14T20:13:04.627053Z",
     "shell.execute_reply": "2023-10-14T20:13:04.626019Z"
    },
    "papermill": {
     "duration": 0.029964,
     "end_time": "2023-10-14T20:13:04.629191",
     "exception": false,
     "start_time": "2023-10-14T20:13:04.599227",
     "status": "completed"
    },
    "tags": []
   },
   "outputs": [
    {
     "name": "stdout",
     "output_type": "stream",
     "text": [
      "True True True\n"
     ]
    }
   ],
   "source": [
    "print(bool('foo'), bool(\" \"), bool(''' '''))"
   ]
  },
  {
   "cell_type": "markdown",
   "id": "5cb4c143",
   "metadata": {
    "papermill": {
     "duration": 0.018792,
     "end_time": "2023-10-14T20:13:04.667201",
     "exception": false,
     "start_time": "2023-10-14T20:13:04.648409",
     "status": "completed"
    },
    "tags": []
   },
   "source": [
    "<a class=\"anchor\" id=\"built-in_composite_data_object\"></a>\n",
    "#### Built-In Composite Data Object\n",
    "> Python provides built-in composite data types called `list`, `tuple`, `dict`, and `set` (and some more). These are “container” types that contain other objects. An object of one of these types is considered false if it is empty and true if it is non-empty.\n",
    ">\n",
    ">The examples below demonstrate this for the list type. (Lists are defined in Python with square brackets.)\n",
    ">\n",
    ">For more information on the `list`, `tuple`, `dict`, `set`, etc. types, see the upcoming sections."
   ]
  },
  {
   "cell_type": "code",
   "execution_count": 44,
   "id": "920cd6f6",
   "metadata": {
    "execution": {
     "iopub.execute_input": "2023-10-14T20:13:04.707570Z",
     "iopub.status.busy": "2023-10-14T20:13:04.707202Z",
     "iopub.status.idle": "2023-10-14T20:13:04.713531Z",
     "shell.execute_reply": "2023-10-14T20:13:04.712470Z"
    },
    "papermill": {
     "duration": 0.029807,
     "end_time": "2023-10-14T20:13:04.716215",
     "exception": false,
     "start_time": "2023-10-14T20:13:04.686408",
     "status": "completed"
    },
    "tags": []
   },
   "outputs": [
    {
     "data": {
      "text/plain": [
       "list"
      ]
     },
     "execution_count": 44,
     "metadata": {},
     "output_type": "execute_result"
    }
   ],
   "source": [
    "type([])"
   ]
  },
  {
   "cell_type": "code",
   "execution_count": 45,
   "id": "6b2bcd04",
   "metadata": {
    "execution": {
     "iopub.execute_input": "2023-10-14T20:13:04.758174Z",
     "iopub.status.busy": "2023-10-14T20:13:04.757751Z",
     "iopub.status.idle": "2023-10-14T20:13:04.764720Z",
     "shell.execute_reply": "2023-10-14T20:13:04.763454Z"
    },
    "papermill": {
     "duration": 0.030267,
     "end_time": "2023-10-14T20:13:04.766894",
     "exception": false,
     "start_time": "2023-10-14T20:13:04.736627",
     "status": "completed"
    },
    "tags": []
   },
   "outputs": [
    {
     "data": {
      "text/plain": [
       "False"
      ]
     },
     "execution_count": 45,
     "metadata": {},
     "output_type": "execute_result"
    }
   ],
   "source": [
    "bool([])"
   ]
  },
  {
   "cell_type": "code",
   "execution_count": 46,
   "id": "7d39c24f",
   "metadata": {
    "execution": {
     "iopub.execute_input": "2023-10-14T20:13:04.810547Z",
     "iopub.status.busy": "2023-10-14T20:13:04.810129Z",
     "iopub.status.idle": "2023-10-14T20:13:04.817342Z",
     "shell.execute_reply": "2023-10-14T20:13:04.816124Z"
    },
    "papermill": {
     "duration": 0.031924,
     "end_time": "2023-10-14T20:13:04.819312",
     "exception": false,
     "start_time": "2023-10-14T20:13:04.787388",
     "status": "completed"
    },
    "tags": []
   },
   "outputs": [
    {
     "data": {
      "text/plain": [
       "list"
      ]
     },
     "execution_count": 46,
     "metadata": {},
     "output_type": "execute_result"
    }
   ],
   "source": [
    "type([1, 2, 3])"
   ]
  },
  {
   "cell_type": "code",
   "execution_count": 47,
   "id": "3d977828",
   "metadata": {
    "execution": {
     "iopub.execute_input": "2023-10-14T20:13:04.860820Z",
     "iopub.status.busy": "2023-10-14T20:13:04.859695Z",
     "iopub.status.idle": "2023-10-14T20:13:04.866496Z",
     "shell.execute_reply": "2023-10-14T20:13:04.865615Z"
    },
    "papermill": {
     "duration": 0.029549,
     "end_time": "2023-10-14T20:13:04.868586",
     "exception": false,
     "start_time": "2023-10-14T20:13:04.839037",
     "status": "completed"
    },
    "tags": []
   },
   "outputs": [
    {
     "data": {
      "text/plain": [
       "True"
      ]
     },
     "execution_count": 47,
     "metadata": {},
     "output_type": "execute_result"
    }
   ],
   "source": [
    "bool([1, 2, 3])"
   ]
  },
  {
   "cell_type": "markdown",
   "id": "5fdd3fb1",
   "metadata": {
    "papermill": {
     "duration": 0.020637,
     "end_time": "2023-10-14T20:13:04.909574",
     "exception": false,
     "start_time": "2023-10-14T20:13:04.888937",
     "status": "completed"
    },
    "tags": []
   },
   "source": [
    "<a class=\"anchor\" id=\"the_`none`_keyword\"></a>\n",
    "#### The `None` Keyword\n",
    "- `None` is always false:"
   ]
  },
  {
   "cell_type": "code",
   "execution_count": 48,
   "id": "1ce0d769",
   "metadata": {
    "execution": {
     "iopub.execute_input": "2023-10-14T20:13:04.950092Z",
     "iopub.status.busy": "2023-10-14T20:13:04.949708Z",
     "iopub.status.idle": "2023-10-14T20:13:04.955965Z",
     "shell.execute_reply": "2023-10-14T20:13:04.954980Z"
    },
    "papermill": {
     "duration": 0.028913,
     "end_time": "2023-10-14T20:13:04.957893",
     "exception": false,
     "start_time": "2023-10-14T20:13:04.928980",
     "status": "completed"
    },
    "tags": []
   },
   "outputs": [
    {
     "data": {
      "text/plain": [
       "False"
      ]
     },
     "execution_count": 48,
     "metadata": {},
     "output_type": "execute_result"
    }
   ],
   "source": [
    "bool(None)"
   ]
  },
  {
   "cell_type": "markdown",
   "id": "87334008",
   "metadata": {
    "papermill": {
     "duration": 0.019006,
     "end_time": "2023-10-14T20:13:04.997087",
     "exception": false,
     "start_time": "2023-10-14T20:13:04.978081",
     "status": "completed"
    },
    "tags": []
   },
   "source": [
    "<a class=\"anchor\" id=\"bitwise_operators\"></a>\n",
    "## Bitwise Operators\n",
    "\n",
    "Bitwise operators treat operands as sequences of binary digits and operate on them bit by bit. Bitwise operators will be addressed fully later."
   ]
  },
  {
   "cell_type": "markdown",
   "id": "f6a736e9",
   "metadata": {
    "papermill": {
     "duration": 0.019299,
     "end_time": "2023-10-14T20:13:05.035861",
     "exception": false,
     "start_time": "2023-10-14T20:13:05.016562",
     "status": "completed"
    },
    "tags": []
   },
   "source": [
    "<a class=\"anchor\" id=\"identity_operators\"></a>\n",
    "## Identity Operators\n",
    "\n",
    "Python provides two operators, `is` and `is not`, that determine whether the given operands have the same identity—that is, refer to the same object. This is not the same thing as equality, which means the two operands refer to objects that contain the same data but are not necessarily the same object."
   ]
  },
  {
   "cell_type": "markdown",
   "id": "706cf72a",
   "metadata": {
    "papermill": {
     "duration": 0.020014,
     "end_time": "2023-10-14T20:13:05.075103",
     "exception": false,
     "start_time": "2023-10-14T20:13:05.055089",
     "status": "completed"
    },
    "tags": []
   },
   "source": [
    "Here is an example of two object that are equal but not identical:"
   ]
  },
  {
   "cell_type": "code",
   "execution_count": 49,
   "id": "ce8873b8",
   "metadata": {
    "execution": {
     "iopub.execute_input": "2023-10-14T20:13:05.117467Z",
     "iopub.status.busy": "2023-10-14T20:13:05.116343Z",
     "iopub.status.idle": "2023-10-14T20:13:05.121261Z",
     "shell.execute_reply": "2023-10-14T20:13:05.120263Z"
    },
    "papermill": {
     "duration": 0.028558,
     "end_time": "2023-10-14T20:13:05.123248",
     "exception": false,
     "start_time": "2023-10-14T20:13:05.094690",
     "status": "completed"
    },
    "tags": []
   },
   "outputs": [],
   "source": [
    "x = 1001\n",
    "y = 1000 + 1"
   ]
  },
  {
   "cell_type": "code",
   "execution_count": 50,
   "id": "d54cd8b3",
   "metadata": {
    "execution": {
     "iopub.execute_input": "2023-10-14T20:13:05.164353Z",
     "iopub.status.busy": "2023-10-14T20:13:05.163949Z",
     "iopub.status.idle": "2023-10-14T20:13:05.168812Z",
     "shell.execute_reply": "2023-10-14T20:13:05.167995Z"
    },
    "papermill": {
     "duration": 0.028132,
     "end_time": "2023-10-14T20:13:05.170875",
     "exception": false,
     "start_time": "2023-10-14T20:13:05.142743",
     "status": "completed"
    },
    "tags": []
   },
   "outputs": [
    {
     "name": "stdout",
     "output_type": "stream",
     "text": [
      "1001 1001\n"
     ]
    }
   ],
   "source": [
    "print(x, y)"
   ]
  },
  {
   "cell_type": "code",
   "execution_count": 51,
   "id": "f351f953",
   "metadata": {
    "execution": {
     "iopub.execute_input": "2023-10-14T20:13:05.214015Z",
     "iopub.status.busy": "2023-10-14T20:13:05.213322Z",
     "iopub.status.idle": "2023-10-14T20:13:05.220756Z",
     "shell.execute_reply": "2023-10-14T20:13:05.219090Z"
    },
    "papermill": {
     "duration": 0.031377,
     "end_time": "2023-10-14T20:13:05.223206",
     "exception": false,
     "start_time": "2023-10-14T20:13:05.191829",
     "status": "completed"
    },
    "tags": []
   },
   "outputs": [
    {
     "data": {
      "text/plain": [
       "True"
      ]
     },
     "execution_count": 51,
     "metadata": {},
     "output_type": "execute_result"
    }
   ],
   "source": [
    "x == y"
   ]
  },
  {
   "cell_type": "code",
   "execution_count": 52,
   "id": "98027fb0",
   "metadata": {
    "execution": {
     "iopub.execute_input": "2023-10-14T20:13:05.263902Z",
     "iopub.status.busy": "2023-10-14T20:13:05.263545Z",
     "iopub.status.idle": "2023-10-14T20:13:05.270572Z",
     "shell.execute_reply": "2023-10-14T20:13:05.269588Z"
    },
    "papermill": {
     "duration": 0.029712,
     "end_time": "2023-10-14T20:13:05.272609",
     "exception": false,
     "start_time": "2023-10-14T20:13:05.242897",
     "status": "completed"
    },
    "tags": []
   },
   "outputs": [
    {
     "data": {
      "text/plain": [
       "False"
      ]
     },
     "execution_count": 52,
     "metadata": {},
     "output_type": "execute_result"
    }
   ],
   "source": [
    "x is y"
   ]
  },
  {
   "cell_type": "markdown",
   "id": "ce87ba04",
   "metadata": {
    "papermill": {
     "duration": 0.019866,
     "end_time": "2023-10-14T20:13:05.312828",
     "exception": false,
     "start_time": "2023-10-14T20:13:05.292962",
     "status": "completed"
    },
    "tags": []
   },
   "source": [
    "Here, `x` and `y` both refer to objects whose value is `1001`. They are equal. But they do not reference the same object, as you can verify:"
   ]
  },
  {
   "cell_type": "code",
   "execution_count": 53,
   "id": "00a54175",
   "metadata": {
    "execution": {
     "iopub.execute_input": "2023-10-14T20:13:05.358385Z",
     "iopub.status.busy": "2023-10-14T20:13:05.357968Z",
     "iopub.status.idle": "2023-10-14T20:13:05.364510Z",
     "shell.execute_reply": "2023-10-14T20:13:05.363286Z"
    },
    "papermill": {
     "duration": 0.033048,
     "end_time": "2023-10-14T20:13:05.366717",
     "exception": false,
     "start_time": "2023-10-14T20:13:05.333669",
     "status": "completed"
    },
    "tags": []
   },
   "outputs": [
    {
     "data": {
      "text/plain": [
       "133668935058352"
      ]
     },
     "execution_count": 53,
     "metadata": {},
     "output_type": "execute_result"
    }
   ],
   "source": [
    "id(x)"
   ]
  },
  {
   "cell_type": "code",
   "execution_count": 54,
   "id": "acde2a55",
   "metadata": {
    "execution": {
     "iopub.execute_input": "2023-10-14T20:13:05.408806Z",
     "iopub.status.busy": "2023-10-14T20:13:05.408270Z",
     "iopub.status.idle": "2023-10-14T20:13:05.414371Z",
     "shell.execute_reply": "2023-10-14T20:13:05.413408Z"
    },
    "papermill": {
     "duration": 0.029438,
     "end_time": "2023-10-14T20:13:05.416486",
     "exception": false,
     "start_time": "2023-10-14T20:13:05.387048",
     "status": "completed"
    },
    "tags": []
   },
   "outputs": [
    {
     "data": {
      "text/plain": [
       "133668935058160"
      ]
     },
     "execution_count": 54,
     "metadata": {},
     "output_type": "execute_result"
    }
   ],
   "source": [
    "id(y)"
   ]
  },
  {
   "cell_type": "markdown",
   "id": "0aac517b",
   "metadata": {
    "papermill": {
     "duration": 0.023966,
     "end_time": "2023-10-14T20:13:05.460795",
     "exception": false,
     "start_time": "2023-10-14T20:13:05.436829",
     "status": "completed"
    },
    "tags": []
   },
   "source": [
    "`x` and `y` do not have the same identity, and `x` is `y` returns `False`."
   ]
  },
  {
   "cell_type": "markdown",
   "id": "eb2f336e",
   "metadata": {
    "papermill": {
     "duration": 0.019406,
     "end_time": "2023-10-14T20:13:05.499824",
     "exception": false,
     "start_time": "2023-10-14T20:13:05.480418",
     "status": "completed"
    },
    "tags": []
   },
   "source": [
    "You saw previously that when you make an assignment like `x = y`, Python merely creates a second reference to the same object, and that you could confirm that fact with the `id()` function. You can also confirm it using the `is` operator:"
   ]
  },
  {
   "cell_type": "code",
   "execution_count": 55,
   "id": "2290540e",
   "metadata": {
    "execution": {
     "iopub.execute_input": "2023-10-14T20:13:05.540477Z",
     "iopub.status.busy": "2023-10-14T20:13:05.540128Z",
     "iopub.status.idle": "2023-10-14T20:13:05.544905Z",
     "shell.execute_reply": "2023-10-14T20:13:05.543706Z"
    },
    "papermill": {
     "duration": 0.027808,
     "end_time": "2023-10-14T20:13:05.547190",
     "exception": false,
     "start_time": "2023-10-14T20:13:05.519382",
     "status": "completed"
    },
    "tags": []
   },
   "outputs": [],
   "source": [
    "a = 'I am a string'\n",
    "b = a"
   ]
  },
  {
   "cell_type": "code",
   "execution_count": 56,
   "id": "d283cf10",
   "metadata": {
    "execution": {
     "iopub.execute_input": "2023-10-14T20:13:05.593316Z",
     "iopub.status.busy": "2023-10-14T20:13:05.592639Z",
     "iopub.status.idle": "2023-10-14T20:13:05.598372Z",
     "shell.execute_reply": "2023-10-14T20:13:05.597301Z"
    },
    "papermill": {
     "duration": 0.03188,
     "end_time": "2023-10-14T20:13:05.600829",
     "exception": false,
     "start_time": "2023-10-14T20:13:05.568949",
     "status": "completed"
    },
    "tags": []
   },
   "outputs": [
    {
     "data": {
      "text/plain": [
       "133668934826288"
      ]
     },
     "execution_count": 56,
     "metadata": {},
     "output_type": "execute_result"
    }
   ],
   "source": [
    "id(a)"
   ]
  },
  {
   "cell_type": "code",
   "execution_count": 57,
   "id": "badc9959",
   "metadata": {
    "execution": {
     "iopub.execute_input": "2023-10-14T20:13:05.645453Z",
     "iopub.status.busy": "2023-10-14T20:13:05.644509Z",
     "iopub.status.idle": "2023-10-14T20:13:05.651919Z",
     "shell.execute_reply": "2023-10-14T20:13:05.650769Z"
    },
    "papermill": {
     "duration": 0.032866,
     "end_time": "2023-10-14T20:13:05.655058",
     "exception": false,
     "start_time": "2023-10-14T20:13:05.622192",
     "status": "completed"
    },
    "tags": []
   },
   "outputs": [
    {
     "data": {
      "text/plain": [
       "133668934826288"
      ]
     },
     "execution_count": 57,
     "metadata": {},
     "output_type": "execute_result"
    }
   ],
   "source": [
    "id(b)"
   ]
  },
  {
   "cell_type": "code",
   "execution_count": 58,
   "id": "e05ba905",
   "metadata": {
    "execution": {
     "iopub.execute_input": "2023-10-14T20:13:05.703014Z",
     "iopub.status.busy": "2023-10-14T20:13:05.702406Z",
     "iopub.status.idle": "2023-10-14T20:13:05.709342Z",
     "shell.execute_reply": "2023-10-14T20:13:05.708039Z"
    },
    "papermill": {
     "duration": 0.034142,
     "end_time": "2023-10-14T20:13:05.711619",
     "exception": false,
     "start_time": "2023-10-14T20:13:05.677477",
     "status": "completed"
    },
    "tags": []
   },
   "outputs": [
    {
     "data": {
      "text/plain": [
       "True"
      ]
     },
     "execution_count": 58,
     "metadata": {},
     "output_type": "execute_result"
    }
   ],
   "source": [
    "a is b"
   ]
  },
  {
   "cell_type": "code",
   "execution_count": 59,
   "id": "19f0e14b",
   "metadata": {
    "execution": {
     "iopub.execute_input": "2023-10-14T20:13:05.761525Z",
     "iopub.status.busy": "2023-10-14T20:13:05.760035Z",
     "iopub.status.idle": "2023-10-14T20:13:05.766019Z",
     "shell.execute_reply": "2023-10-14T20:13:05.765242Z"
    },
    "papermill": {
     "duration": 0.033898,
     "end_time": "2023-10-14T20:13:05.768442",
     "exception": false,
     "start_time": "2023-10-14T20:13:05.734544",
     "status": "completed"
    },
    "tags": []
   },
   "outputs": [
    {
     "data": {
      "text/plain": [
       "True"
      ]
     },
     "execution_count": 59,
     "metadata": {},
     "output_type": "execute_result"
    }
   ],
   "source": [
    "a == b"
   ]
  },
  {
   "cell_type": "markdown",
   "id": "aee1978f",
   "metadata": {
    "papermill": {
     "duration": 0.021763,
     "end_time": "2023-10-14T20:13:05.812652",
     "exception": false,
     "start_time": "2023-10-14T20:13:05.790889",
     "status": "completed"
    },
    "tags": []
   },
   "source": [
    "In this case, since `a` and `b` reference the same object, it stands to reason that `a` and `b` would be equal as well."
   ]
  },
  {
   "cell_type": "markdown",
   "id": "a692c679",
   "metadata": {
    "papermill": {
     "duration": 0.022281,
     "end_time": "2023-10-14T20:13:05.858060",
     "exception": false,
     "start_time": "2023-10-14T20:13:05.835779",
     "status": "completed"
    },
    "tags": []
   },
   "source": [
    "Unsurprisingly, the opposite of `is` is `is not`:"
   ]
  },
  {
   "cell_type": "code",
   "execution_count": 60,
   "id": "c71642dc",
   "metadata": {
    "execution": {
     "iopub.execute_input": "2023-10-14T20:13:05.902475Z",
     "iopub.status.busy": "2023-10-14T20:13:05.901833Z",
     "iopub.status.idle": "2023-10-14T20:13:05.906102Z",
     "shell.execute_reply": "2023-10-14T20:13:05.905155Z"
    },
    "papermill": {
     "duration": 0.029203,
     "end_time": "2023-10-14T20:13:05.908309",
     "exception": false,
     "start_time": "2023-10-14T20:13:05.879106",
     "status": "completed"
    },
    "tags": []
   },
   "outputs": [],
   "source": [
    "x = 10\n",
    "y = 20"
   ]
  },
  {
   "cell_type": "code",
   "execution_count": 61,
   "id": "e7729268",
   "metadata": {
    "execution": {
     "iopub.execute_input": "2023-10-14T20:13:05.956992Z",
     "iopub.status.busy": "2023-10-14T20:13:05.956400Z",
     "iopub.status.idle": "2023-10-14T20:13:05.963425Z",
     "shell.execute_reply": "2023-10-14T20:13:05.962064Z"
    },
    "papermill": {
     "duration": 0.033511,
     "end_time": "2023-10-14T20:13:05.965977",
     "exception": false,
     "start_time": "2023-10-14T20:13:05.932466",
     "status": "completed"
    },
    "tags": []
   },
   "outputs": [
    {
     "data": {
      "text/plain": [
       "True"
      ]
     },
     "execution_count": 61,
     "metadata": {},
     "output_type": "execute_result"
    }
   ],
   "source": [
    "x is not y"
   ]
  },
  {
   "cell_type": "markdown",
   "id": "ce6dcfca",
   "metadata": {
    "papermill": {
     "duration": 0.024287,
     "end_time": "2023-10-14T20:13:06.011083",
     "exception": false,
     "start_time": "2023-10-14T20:13:05.986796",
     "status": "completed"
    },
    "tags": []
   },
   "source": [
    "<a class=\"anchor\" id=\"augmented_assignment_operators\"></a>\n",
    "## Augmented Assignment Operators\n",
    "\n",
    "You have seen that a single equal sign (`=`) is used to assign a value to a variable. It is, of course, perfectly viable for the value to the right of the assignment to be an expression containing other variables:"
   ]
  },
  {
   "cell_type": "code",
   "execution_count": 62,
   "id": "23c8246a",
   "metadata": {
    "execution": {
     "iopub.execute_input": "2023-10-14T20:13:06.054891Z",
     "iopub.status.busy": "2023-10-14T20:13:06.054090Z",
     "iopub.status.idle": "2023-10-14T20:13:06.058664Z",
     "shell.execute_reply": "2023-10-14T20:13:06.057602Z"
    },
    "papermill": {
     "duration": 0.029037,
     "end_time": "2023-10-14T20:13:06.060840",
     "exception": false,
     "start_time": "2023-10-14T20:13:06.031803",
     "status": "completed"
    },
    "tags": []
   },
   "outputs": [],
   "source": [
    "a = 10\n",
    "b = 20\n",
    "c = a * 5 + b"
   ]
  },
  {
   "cell_type": "code",
   "execution_count": 63,
   "id": "c64402db",
   "metadata": {
    "execution": {
     "iopub.execute_input": "2023-10-14T20:13:06.104996Z",
     "iopub.status.busy": "2023-10-14T20:13:06.103798Z",
     "iopub.status.idle": "2023-10-14T20:13:06.110266Z",
     "shell.execute_reply": "2023-10-14T20:13:06.109399Z"
    },
    "papermill": {
     "duration": 0.031233,
     "end_time": "2023-10-14T20:13:06.112539",
     "exception": false,
     "start_time": "2023-10-14T20:13:06.081306",
     "status": "completed"
    },
    "tags": []
   },
   "outputs": [
    {
     "data": {
      "text/plain": [
       "70"
      ]
     },
     "execution_count": 63,
     "metadata": {},
     "output_type": "execute_result"
    }
   ],
   "source": [
    "c"
   ]
  },
  {
   "cell_type": "markdown",
   "id": "2bd5e132",
   "metadata": {
    "papermill": {
     "duration": 0.021431,
     "end_time": "2023-10-14T20:13:06.155792",
     "exception": false,
     "start_time": "2023-10-14T20:13:06.134361",
     "status": "completed"
    },
    "tags": []
   },
   "source": [
    "In fact, the expression to the right of the assignment can include references to the variable that is being assigned to:"
   ]
  },
  {
   "cell_type": "markdown",
   "id": "00c51a2b",
   "metadata": {
    "papermill": {
     "duration": 0.023793,
     "end_time": "2023-10-14T20:13:06.205415",
     "exception": false,
     "start_time": "2023-10-14T20:13:06.181622",
     "status": "completed"
    },
    "tags": []
   },
   "source": [
    "Python supports a shorthand augmented assignment notation for these arithmetic and bitwise operators:\n",
    "\n",
    "|Arithmetic|Bitwise|\n",
    "|:--|:--|\n",
    "|`+`| `&` |\n",
    "|`-`|`\\|`|\n",
    "|`*`|`^`|\n",
    "|`/`|`>>`|\n",
    "|`%`|`<<`|\n",
    "|`//`||\n",
    "|`**`||"
   ]
  },
  {
   "cell_type": "markdown",
   "id": "7ba8cd14",
   "metadata": {
    "papermill": {
     "duration": 0.021061,
     "end_time": "2023-10-14T20:13:06.247903",
     "exception": false,
     "start_time": "2023-10-14T20:13:06.226842",
     "status": "completed"
    },
    "tags": []
   },
   "source": [
    "For these operators, the following are equivalent:\n",
    "\n",
    "```python\n",
    "x <op>= y\n",
    "x = x <op> y\n",
    "```"
   ]
  },
  {
   "cell_type": "markdown",
   "id": "4f9b5919",
   "metadata": {
    "papermill": {
     "duration": 0.02095,
     "end_time": "2023-10-14T20:13:06.289970",
     "exception": false,
     "start_time": "2023-10-14T20:13:06.269020",
     "status": "completed"
    },
    "tags": []
   },
   "source": [
    "Take a look at these examples:\n",
    "\n",
    "|Augmented Assignment || Standard Assignment |\n",
    "|:--|:--|:--|\n",
    "|`a += 5` | is equivalent to\t| `a = a + 5`|\n",
    "|`a /= 10` | is equivalent to\t| `a = a / 10`|\n",
    "|`a ^= b` | is equivalent to\t| `a = a ^ b`|"
   ]
  },
  {
   "cell_type": "markdown",
   "id": "e69361f7",
   "metadata": {
    "papermill": {
     "duration": 0.026563,
     "end_time": "2023-10-14T20:13:06.338130",
     "exception": false,
     "start_time": "2023-10-14T20:13:06.311567",
     "status": "completed"
    },
    "tags": []
   },
   "source": [
    "<a class=\"anchor\" id=\"conclusion\"></a>\n",
    "## Conclusion \n",
    "In this section, you learned about the diverse **operators** Python supports to combine objects into **expressions**."
   ]
  },
  {
   "cell_type": "markdown",
   "id": "e9ba37b3",
   "metadata": {
    "papermill": {
     "duration": 0.023316,
     "end_time": "2023-10-14T20:13:06.386687",
     "exception": false,
     "start_time": "2023-10-14T20:13:06.363371",
     "status": "completed"
    },
    "tags": []
   },
   "source": [
    "Most of the examples you have seen so far have involved only simple atomic data, but you saw a brief introduction to the **string** data type. The next tutorial will explore **string** objects in much more detail."
   ]
  }
 ],
 "metadata": {
  "kernelspec": {
   "display_name": "Python 3",
   "language": "python",
   "name": "python3"
  },
  "language_info": {
   "codemirror_mode": {
    "name": "ipython",
    "version": 3
   },
   "file_extension": ".py",
   "mimetype": "text/x-python",
   "name": "python",
   "nbconvert_exporter": "python",
   "pygments_lexer": "ipython3",
   "version": "3.10.12"
  },
  "papermill": {
   "default_parameters": {},
   "duration": 8.998037,
   "end_time": "2023-10-14T20:13:06.836074",
   "environment_variables": {},
   "exception": null,
   "input_path": "__notebook__.ipynb",
   "output_path": "__notebook__.ipynb",
   "parameters": {},
   "start_time": "2023-10-14T20:12:57.838037",
   "version": "2.4.0"
  }
 },
 "nbformat": 4,
 "nbformat_minor": 5
}
