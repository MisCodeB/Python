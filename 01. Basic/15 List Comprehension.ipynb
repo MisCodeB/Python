{
 "cells": [
  {
   "cell_type": "markdown",
   "id": "7c1c6279",
   "metadata": {
    "papermill": {
     "duration": 0.011131,
     "end_time": "2023-10-15T08:42:58.918120",
     "exception": false,
     "start_time": "2023-10-15T08:42:58.906989",
     "status": "completed"
    },
    "tags": []
   },
   "source": []
  },
  {
   "cell_type": "markdown",
   "id": "e37c6033",
   "metadata": {
    "papermill": {
     "duration": 0.011503,
     "end_time": "2023-10-15T08:42:58.940545",
     "exception": false,
     "start_time": "2023-10-15T08:42:58.929042",
     "status": "completed"
    },
    "tags": []
   },
   "source": [
    " When to Use a List Comprehension in Python \n"
   ]
  },
  {
   "cell_type": "code",
   "execution_count": null,
   "id": "cbf7214f",
   "metadata": {
    "papermill": {
     "duration": 0.010892,
     "end_time": "2023-10-15T08:42:58.962624",
     "exception": false,
     "start_time": "2023-10-15T08:42:58.951732",
     "status": "completed"
    },
    "tags": []
   },
   "outputs": [],
   "source": []
  },
  {
   "cell_type": "markdown",
   "id": "38747986",
   "metadata": {
    "papermill": {
     "duration": 0.010403,
     "end_time": "2023-10-15T08:42:58.983597",
     "exception": false,
     "start_time": "2023-10-15T08:42:58.973194",
     "status": "completed"
    },
    "tags": []
   },
   "source": [
    "Table of Contents \n",
    "* [How to Create Lists in Python](#how_to_create_lists_in_python)\n",
    "    * [Using for Loops](#using_for_loops)\n",
    "    * [Using `map()` Objects](#using_`map()`_objects)\n",
    "    * [Using List Comprehensions](#using_list_comprehensions)\n",
    "* [Benefits of Using List Comprehensions](#benefits_of_using_list_comprehensions)\n",
    "* [How to Supercharge Your Comprehensions](#how_to_supercharge_your_comprehensions)\n",
    "    * [Using Conditional Logic](#using_conditional_logic)\n",
    "    * [Using Set and Dictionary Comprehensions](#using_set_and_dictionary_comprehensions)\n",
    "* [When Not to Use a List Comprehension in Python](#when_not_to_use_a_list_comprehension_in_python)\n",
    "    * [Watch Out for Nested Comprehensions](#watch_out_for_nested_comprehensions)\n",
    "* [Conclusion](#conclusion)\n",
    "\n",
    "---"
   ]
  },
  {
   "cell_type": "markdown",
   "id": "82759b1e",
   "metadata": {
    "papermill": {
     "duration": 0.010542,
     "end_time": "2023-10-15T08:42:59.004586",
     "exception": false,
     "start_time": "2023-10-15T08:42:58.994044",
     "status": "completed"
    },
    "tags": []
   },
   "source": [
    "Python is famous for allowing you to write code that’s elegant, easy to write, and almost as easy to read as plain English. One of the language’s most distinctive features is the list comprehension, which you can use to create powerful functionality within a single line of code. However, many developers struggle to fully leverage the more advanced features of a list comprehension in Python. Some programmers even use them too much, which can lead to code that’s less efficient and harder to read."
   ]
  },
  {
   "cell_type": "markdown",
   "id": "60ceec47",
   "metadata": {
    "papermill": {
     "duration": 0.017882,
     "end_time": "2023-10-15T08:42:59.032841",
     "exception": false,
     "start_time": "2023-10-15T08:42:59.014959",
     "status": "completed"
    },
    "tags": []
   },
   "source": [
    "<a class=\"anchor\" id=\"how_to_create_lists_in_python\"></a>\n",
    "## How to Create Lists in Python"
   ]
  },
  {
   "cell_type": "markdown",
   "id": "1a70412a",
   "metadata": {
    "papermill": {
     "duration": 0.010437,
     "end_time": "2023-10-15T08:42:59.054607",
     "exception": false,
     "start_time": "2023-10-15T08:42:59.044170",
     "status": "completed"
    },
    "tags": []
   },
   "source": [
    "There are a few different ways you can create lists in Python. To better understand the trade-offs of using a list comprehension in Python, let’s first see how to create lists with these approaches."
   ]
  },
  {
   "cell_type": "markdown",
   "id": "48f3e4d1",
   "metadata": {
    "papermill": {
     "duration": 0.010128,
     "end_time": "2023-10-15T08:42:59.075043",
     "exception": false,
     "start_time": "2023-10-15T08:42:59.064915",
     "status": "completed"
    },
    "tags": []
   },
   "source": [
    "<a class=\"anchor\" id=\"using_for_loops\"></a>\n",
    "### Using for Loops"
   ]
  },
  {
   "cell_type": "markdown",
   "id": "87e88c55",
   "metadata": {
    "papermill": {
     "duration": 0.010598,
     "end_time": "2023-10-15T08:42:59.096528",
     "exception": false,
     "start_time": "2023-10-15T08:42:59.085930",
     "status": "completed"
    },
    "tags": []
   },
   "source": [
    "The most common type of loop is the for loop. You can use a for loop to create a list of elements in three steps:\n",
    "\n",
    "- Instantiate an empty list.\n",
    "- Loop over an iterable or range of elements.\n",
    "- Append each element to the end of the list."
   ]
  },
  {
   "cell_type": "markdown",
   "id": "d80e438a",
   "metadata": {
    "papermill": {
     "duration": 0.010172,
     "end_time": "2023-10-15T08:42:59.117788",
     "exception": false,
     "start_time": "2023-10-15T08:42:59.107616",
     "status": "completed"
    },
    "tags": []
   },
   "source": [
    "If you want to create a list containing the first ten perfect squares, then you can complete these steps in three lines of code:"
   ]
  },
  {
   "cell_type": "code",
   "execution_count": 1,
   "id": "16d1b90a",
   "metadata": {
    "execution": {
     "iopub.execute_input": "2023-10-15T08:42:59.141263Z",
     "iopub.status.busy": "2023-10-15T08:42:59.140536Z",
     "iopub.status.idle": "2023-10-15T08:42:59.151566Z",
     "shell.execute_reply": "2023-10-15T08:42:59.150690Z"
    },
    "papermill": {
     "duration": 0.024871,
     "end_time": "2023-10-15T08:42:59.153764",
     "exception": false,
     "start_time": "2023-10-15T08:42:59.128893",
     "status": "completed"
    },
    "tags": []
   },
   "outputs": [
    {
     "data": {
      "text/plain": [
       "[0, 1, 4, 9, 16, 25, 36, 49, 64, 81]"
      ]
     },
     "execution_count": 1,
     "metadata": {},
     "output_type": "execute_result"
    }
   ],
   "source": [
    "squares = []\n",
    "for i in range(10):\n",
    "    squares.append(i * i)\n",
    "squares"
   ]
  },
  {
   "cell_type": "markdown",
   "id": "0273e5a3",
   "metadata": {
    "papermill": {
     "duration": 0.010536,
     "end_time": "2023-10-15T08:42:59.237938",
     "exception": false,
     "start_time": "2023-10-15T08:42:59.227402",
     "status": "completed"
    },
    "tags": []
   },
   "source": [
    "Here, you instantiate an empty list, squares. Then, you use a for loop to iterate over `range(10)`. Finally, you multiply each number by itself and append the result to the end of the list."
   ]
  },
  {
   "cell_type": "markdown",
   "id": "7c751d6c",
   "metadata": {
    "papermill": {
     "duration": 0.010775,
     "end_time": "2023-10-15T08:42:59.259372",
     "exception": false,
     "start_time": "2023-10-15T08:42:59.248597",
     "status": "completed"
    },
    "tags": []
   },
   "source": [
    "<a class=\"anchor\" id=\"using_`map()`_objects\"></a>\n",
    "### Using `map()` Objects"
   ]
  },
  {
   "cell_type": "markdown",
   "id": "0645c9fa",
   "metadata": {
    "papermill": {
     "duration": 0.011757,
     "end_time": "2023-10-15T08:42:59.282806",
     "exception": false,
     "start_time": "2023-10-15T08:42:59.271049",
     "status": "completed"
    },
    "tags": []
   },
   "source": [
    "`map()` provides an alternative approach that’s based in functional programming. You pass in a function and an iterable, and `map()` will create an object. This object contains the output you would get from running each iterable element through the supplied function."
   ]
  },
  {
   "cell_type": "markdown",
   "id": "327c7e76",
   "metadata": {
    "papermill": {
     "duration": 0.011067,
     "end_time": "2023-10-15T08:42:59.305102",
     "exception": false,
     "start_time": "2023-10-15T08:42:59.294035",
     "status": "completed"
    },
    "tags": []
   },
   "source": [
    "As an example, consider a situation in which you need to calculate the price after tax for a list of transactions:"
   ]
  },
  {
   "cell_type": "code",
   "execution_count": 2,
   "id": "a82adff4",
   "metadata": {
    "execution": {
     "iopub.execute_input": "2023-10-15T08:42:59.330488Z",
     "iopub.status.busy": "2023-10-15T08:42:59.329866Z",
     "iopub.status.idle": "2023-10-15T08:42:59.333926Z",
     "shell.execute_reply": "2023-10-15T08:42:59.333119Z"
    },
    "papermill": {
     "duration": 0.018734,
     "end_time": "2023-10-15T08:42:59.335969",
     "exception": false,
     "start_time": "2023-10-15T08:42:59.317235",
     "status": "completed"
    },
    "tags": []
   },
   "outputs": [],
   "source": [
    "txns = [1.09, 23.56, 57.84, 4.56, 6.78]\n",
    "TAX_RATE = .08"
   ]
  },
  {
   "cell_type": "code",
   "execution_count": 3,
   "id": "4b7502d0",
   "metadata": {
    "execution": {
     "iopub.execute_input": "2023-10-15T08:42:59.361562Z",
     "iopub.status.busy": "2023-10-15T08:42:59.361151Z",
     "iopub.status.idle": "2023-10-15T08:42:59.366492Z",
     "shell.execute_reply": "2023-10-15T08:42:59.364693Z"
    },
    "papermill": {
     "duration": 0.021798,
     "end_time": "2023-10-15T08:42:59.369712",
     "exception": false,
     "start_time": "2023-10-15T08:42:59.347914",
     "status": "completed"
    },
    "tags": []
   },
   "outputs": [],
   "source": [
    "def get_price_with_tax(txn):\n",
    "    return txn * (1 + TAX_RATE)"
   ]
  },
  {
   "cell_type": "code",
   "execution_count": 4,
   "id": "5c370d60",
   "metadata": {
    "execution": {
     "iopub.execute_input": "2023-10-15T08:42:59.395453Z",
     "iopub.status.busy": "2023-10-15T08:42:59.394800Z",
     "iopub.status.idle": "2023-10-15T08:42:59.402852Z",
     "shell.execute_reply": "2023-10-15T08:42:59.401477Z"
    },
    "papermill": {
     "duration": 0.023843,
     "end_time": "2023-10-15T08:42:59.405702",
     "exception": false,
     "start_time": "2023-10-15T08:42:59.381859",
     "status": "completed"
    },
    "tags": []
   },
   "outputs": [
    {
     "data": {
      "text/plain": [
       "[1.1772000000000002, 25.4448, 62.467200000000005, 4.9248, 7.322400000000001]"
      ]
     },
     "execution_count": 4,
     "metadata": {},
     "output_type": "execute_result"
    }
   ],
   "source": [
    "final_prices = map(get_price_with_tax, txns)\n",
    "list(final_prices)"
   ]
  },
  {
   "cell_type": "markdown",
   "id": "18737972",
   "metadata": {
    "papermill": {
     "duration": 0.011858,
     "end_time": "2023-10-15T08:42:59.428837",
     "exception": false,
     "start_time": "2023-10-15T08:42:59.416979",
     "status": "completed"
    },
    "tags": []
   },
   "source": [
    "Here, you have an iterable txns and a function `get_price_with_tax()`. You pass both of these arguments to `map()`, and store the resulting object in final_prices. You can easily convert this map object into a list using `list()`."
   ]
  },
  {
   "cell_type": "markdown",
   "id": "132b7fac",
   "metadata": {
    "papermill": {
     "duration": 0.01129,
     "end_time": "2023-10-15T08:42:59.451724",
     "exception": false,
     "start_time": "2023-10-15T08:42:59.440434",
     "status": "completed"
    },
    "tags": []
   },
   "source": [
    "<a class=\"anchor\" id=\"using_list_comprehensions\"></a>\n",
    "### Using List Comprehensions"
   ]
  },
  {
   "cell_type": "markdown",
   "id": "e3623373",
   "metadata": {
    "papermill": {
     "duration": 0.011489,
     "end_time": "2023-10-15T08:42:59.475946",
     "exception": false,
     "start_time": "2023-10-15T08:42:59.464457",
     "status": "completed"
    },
    "tags": []
   },
   "source": [
    "List comprehensions are a third way of making lists. With this elegant approach, you could rewrite the for loop from the first example in just a single line of code:"
   ]
  },
  {
   "cell_type": "code",
   "execution_count": 5,
   "id": "cceac447",
   "metadata": {
    "execution": {
     "iopub.execute_input": "2023-10-15T08:42:59.501646Z",
     "iopub.status.busy": "2023-10-15T08:42:59.500981Z",
     "iopub.status.idle": "2023-10-15T08:42:59.508006Z",
     "shell.execute_reply": "2023-10-15T08:42:59.506764Z"
    },
    "papermill": {
     "duration": 0.022439,
     "end_time": "2023-10-15T08:42:59.510449",
     "exception": false,
     "start_time": "2023-10-15T08:42:59.488010",
     "status": "completed"
    },
    "tags": []
   },
   "outputs": [
    {
     "data": {
      "text/plain": [
       "[0, 1, 4, 9, 16, 25, 36, 49, 64, 81]"
      ]
     },
     "execution_count": 5,
     "metadata": {},
     "output_type": "execute_result"
    }
   ],
   "source": [
    "squares = [i * i for i in range(10)]\n",
    "squares"
   ]
  },
  {
   "cell_type": "markdown",
   "id": "8570450a",
   "metadata": {
    "papermill": {
     "duration": 0.011074,
     "end_time": "2023-10-15T08:42:59.532888",
     "exception": false,
     "start_time": "2023-10-15T08:42:59.521814",
     "status": "completed"
    },
    "tags": []
   },
   "source": [
    "Rather than creating an empty list and adding each element to the end, you simply define the list and its contents at the same time by following this format:\n",
    "\n",
    "```python\n",
    "new_list = [expression for member in iterable]\n",
    "```"
   ]
  },
  {
   "cell_type": "markdown",
   "id": "cc942891",
   "metadata": {
    "papermill": {
     "duration": 0.012469,
     "end_time": "2023-10-15T08:42:59.556904",
     "exception": false,
     "start_time": "2023-10-15T08:42:59.544435",
     "status": "completed"
    },
    "tags": []
   },
   "source": [
    "Every list comprehension in Python includes three elements:\n",
    "\n",
    "- **expression** is the member itself, a call to a method, or any other valid expression that returns a value. In the example above, the expression `i * i` is the square of the member value.\n",
    "- **member** is the object or value in the list or iterable. In the example above, the member value is `i`.\n",
    "- **iterable** is a list, set, sequence, generator, or any other object that can return its elements one at a time. In the example above, the iterable is `range(10)`."
   ]
  },
  {
   "cell_type": "markdown",
   "id": "4af6a1a1",
   "metadata": {
    "papermill": {
     "duration": 0.011661,
     "end_time": "2023-10-15T08:42:59.579961",
     "exception": false,
     "start_time": "2023-10-15T08:42:59.568300",
     "status": "completed"
    },
    "tags": []
   },
   "source": [
    "Because the expression requirement is so flexible, a list comprehension in Python works well in many places where you would use `map()`. You can rewrite the pricing example with its own list comprehension:"
   ]
  },
  {
   "cell_type": "code",
   "execution_count": 6,
   "id": "ba523c6b",
   "metadata": {
    "execution": {
     "iopub.execute_input": "2023-10-15T08:42:59.605287Z",
     "iopub.status.busy": "2023-10-15T08:42:59.604898Z",
     "iopub.status.idle": "2023-10-15T08:42:59.609728Z",
     "shell.execute_reply": "2023-10-15T08:42:59.608710Z"
    },
    "papermill": {
     "duration": 0.020438,
     "end_time": "2023-10-15T08:42:59.611738",
     "exception": false,
     "start_time": "2023-10-15T08:42:59.591300",
     "status": "completed"
    },
    "tags": []
   },
   "outputs": [],
   "source": [
    "txns = [1.09, 23.56, 57.84, 4.56, 6.78]\n",
    "TAX_RATE = .08"
   ]
  },
  {
   "cell_type": "code",
   "execution_count": 7,
   "id": "ae8c4f57",
   "metadata": {
    "execution": {
     "iopub.execute_input": "2023-10-15T08:42:59.636228Z",
     "iopub.status.busy": "2023-10-15T08:42:59.635881Z",
     "iopub.status.idle": "2023-10-15T08:42:59.640731Z",
     "shell.execute_reply": "2023-10-15T08:42:59.639705Z"
    },
    "papermill": {
     "duration": 0.019403,
     "end_time": "2023-10-15T08:42:59.642854",
     "exception": false,
     "start_time": "2023-10-15T08:42:59.623451",
     "status": "completed"
    },
    "tags": []
   },
   "outputs": [],
   "source": [
    "def get_price_with_tax(txn):\n",
    "    return txn * (1 + TAX_RATE)"
   ]
  },
  {
   "cell_type": "code",
   "execution_count": 8,
   "id": "4b0770f3",
   "metadata": {
    "execution": {
     "iopub.execute_input": "2023-10-15T08:42:59.667023Z",
     "iopub.status.busy": "2023-10-15T08:42:59.666652Z",
     "iopub.status.idle": "2023-10-15T08:42:59.673353Z",
     "shell.execute_reply": "2023-10-15T08:42:59.672148Z"
    },
    "papermill": {
     "duration": 0.021128,
     "end_time": "2023-10-15T08:42:59.675314",
     "exception": false,
     "start_time": "2023-10-15T08:42:59.654186",
     "status": "completed"
    },
    "tags": []
   },
   "outputs": [
    {
     "data": {
      "text/plain": [
       "[1.1772000000000002, 25.4448, 62.467200000000005, 4.9248, 7.322400000000001]"
      ]
     },
     "execution_count": 8,
     "metadata": {},
     "output_type": "execute_result"
    }
   ],
   "source": [
    "final_prices = [get_price_with_tax(i) for i in txns]\n",
    "final_prices"
   ]
  },
  {
   "cell_type": "markdown",
   "id": "97bfff12",
   "metadata": {
    "papermill": {
     "duration": 0.010967,
     "end_time": "2023-10-15T08:42:59.697703",
     "exception": false,
     "start_time": "2023-10-15T08:42:59.686736",
     "status": "completed"
    },
    "tags": []
   },
   "source": [
    "The only distinction between this implementation and `map()` is that the list comprehension in Python returns a list, not a map object."
   ]
  },
  {
   "cell_type": "markdown",
   "id": "6d9482b0",
   "metadata": {
    "papermill": {
     "duration": 0.01146,
     "end_time": "2023-10-15T08:42:59.720324",
     "exception": false,
     "start_time": "2023-10-15T08:42:59.708864",
     "status": "completed"
    },
    "tags": []
   },
   "source": [
    "<a class=\"anchor\" id=\"benefits_of_using_list_comprehensions\"></a>\n",
    "## Benefits of Using List Comprehensions"
   ]
  },
  {
   "cell_type": "markdown",
   "id": "74b1ae4e",
   "metadata": {
    "papermill": {
     "duration": 0.010938,
     "end_time": "2023-10-15T08:42:59.742649",
     "exception": false,
     "start_time": "2023-10-15T08:42:59.731711",
     "status": "completed"
    },
    "tags": []
   },
   "source": [
    "List comprehensions are often described as being more Pythonic than loops or `map()`. But rather than blindly accepting that assessment, it’s worth it to understand the benefits of using a list comprehension in Python when compared to the alternatives. Later on, you’ll learn about a few scenarios where the alternatives are a better choice."
   ]
  },
  {
   "cell_type": "markdown",
   "id": "8db4aa3c",
   "metadata": {
    "papermill": {
     "duration": 0.011008,
     "end_time": "2023-10-15T08:42:59.764926",
     "exception": false,
     "start_time": "2023-10-15T08:42:59.753918",
     "status": "completed"
    },
    "tags": []
   },
   "source": [
    "One main benefit of using a list comprehension in Python is that it’s a single tool that you can use in many different situations. In addition to standard list creation, list comprehensions can also be used for mapping and filtering. You don’t have to use a different approach for each scenario."
   ]
  },
  {
   "cell_type": "markdown",
   "id": "d8c669db",
   "metadata": {
    "papermill": {
     "duration": 0.01185,
     "end_time": "2023-10-15T08:42:59.788825",
     "exception": false,
     "start_time": "2023-10-15T08:42:59.776975",
     "status": "completed"
    },
    "tags": []
   },
   "source": [
    "This is the main reason why list comprehensions are considered **Pythonic**, as Python embraces simple, powerful tools that you can use in a wide variety of situations. As an added side benefit, whenever you use a list comprehension in Python, you won’t need to remember the proper order of arguments like you would when you call `map()`."
   ]
  },
  {
   "cell_type": "markdown",
   "id": "5bcd61ed",
   "metadata": {
    "papermill": {
     "duration": 0.011065,
     "end_time": "2023-10-15T08:42:59.811584",
     "exception": false,
     "start_time": "2023-10-15T08:42:59.800519",
     "status": "completed"
    },
    "tags": []
   },
   "source": [
    "List comprehensions are also more **declarative** than loops, which means they’re easier to read and understand. Loops require you to focus on how the list is created. You have to manually create an empty list, loop over the elements, and add each of them to the end of the list. With a list comprehension in Python, you can instead focus on what you want to go in the list and trust that Python will take care of how the list construction takes place."
   ]
  },
  {
   "cell_type": "markdown",
   "id": "8a38cb91",
   "metadata": {
    "papermill": {
     "duration": 0.011335,
     "end_time": "2023-10-15T08:42:59.834097",
     "exception": false,
     "start_time": "2023-10-15T08:42:59.822762",
     "status": "completed"
    },
    "tags": []
   },
   "source": [
    "<a class=\"anchor\" id=\"how_to_supercharge_your_comprehensions\"></a>\n",
    "## How to Supercharge Your Comprehensions"
   ]
  },
  {
   "cell_type": "markdown",
   "id": "aa71c58f",
   "metadata": {
    "papermill": {
     "duration": 0.011483,
     "end_time": "2023-10-15T08:42:59.857460",
     "exception": false,
     "start_time": "2023-10-15T08:42:59.845977",
     "status": "completed"
    },
    "tags": []
   },
   "source": [
    "In order to understand the full value that list comprehensions can provide, it’s helpful to understand their range of possible functionality. You’ll also want to understand the changes that are coming to the list comprehension in Python 3.8."
   ]
  },
  {
   "cell_type": "markdown",
   "id": "fc172280",
   "metadata": {
    "papermill": {
     "duration": 0.012075,
     "end_time": "2023-10-15T08:42:59.881201",
     "exception": false,
     "start_time": "2023-10-15T08:42:59.869126",
     "status": "completed"
    },
    "tags": []
   },
   "source": [
    "<a class=\"anchor\" id=\"using_conditional_logic\"></a>\n",
    "### Using Conditional Logic"
   ]
  },
  {
   "cell_type": "markdown",
   "id": "9443ac62",
   "metadata": {
    "papermill": {
     "duration": 0.011597,
     "end_time": "2023-10-15T08:42:59.904655",
     "exception": false,
     "start_time": "2023-10-15T08:42:59.893058",
     "status": "completed"
    },
    "tags": []
   },
   "source": [
    "Earlier, you saw this formula for how to create list comprehensions:\n",
    "\n",
    "```python\n",
    "new_list = [expression for member in iterable]\n",
    "```"
   ]
  },
  {
   "cell_type": "markdown",
   "id": "4282f16e",
   "metadata": {
    "papermill": {
     "duration": 0.010818,
     "end_time": "2023-10-15T08:42:59.926792",
     "exception": false,
     "start_time": "2023-10-15T08:42:59.915974",
     "status": "completed"
    },
    "tags": []
   },
   "source": [
    "While this formula is accurate, it’s also a bit incomplete. A more complete description of the comprehension formula adds support for optional **conditionals**. The most common way to add conditional logic to a list comprehension is to add a conditional to the end of the expression:\n",
    "\n",
    "```python\n",
    "new_list = [expression for member in iterable (if conditional)]\n",
    "```"
   ]
  },
  {
   "cell_type": "markdown",
   "id": "411cef27",
   "metadata": {
    "papermill": {
     "duration": 0.011118,
     "end_time": "2023-10-15T08:42:59.948956",
     "exception": false,
     "start_time": "2023-10-15T08:42:59.937838",
     "status": "completed"
    },
    "tags": []
   },
   "source": [
    "Here, your conditional statement comes just before the closing bracket."
   ]
  },
  {
   "cell_type": "markdown",
   "id": "022a9016",
   "metadata": {
    "papermill": {
     "duration": 0.010765,
     "end_time": "2023-10-15T08:42:59.971093",
     "exception": false,
     "start_time": "2023-10-15T08:42:59.960328",
     "status": "completed"
    },
    "tags": []
   },
   "source": [
    "Conditionals are important because they allow list comprehensions to filter out unwanted values, which would normally require a call to `filter()`:"
   ]
  },
  {
   "cell_type": "code",
   "execution_count": 9,
   "id": "b81feba8",
   "metadata": {
    "execution": {
     "iopub.execute_input": "2023-10-15T08:42:59.995477Z",
     "iopub.status.busy": "2023-10-15T08:42:59.995121Z",
     "iopub.status.idle": "2023-10-15T08:43:00.001682Z",
     "shell.execute_reply": "2023-10-15T08:43:00.000507Z"
    },
    "papermill": {
     "duration": 0.021431,
     "end_time": "2023-10-15T08:43:00.003655",
     "exception": false,
     "start_time": "2023-10-15T08:42:59.982224",
     "status": "completed"
    },
    "tags": []
   },
   "outputs": [
    {
     "data": {
      "text/plain": [
       "['e', 'o', 'e', 'a', 'e', 'a', 'o', 'a']"
      ]
     },
     "execution_count": 9,
     "metadata": {},
     "output_type": "execute_result"
    }
   ],
   "source": [
    "sentence = 'the rocket came back from mars'\n",
    "vowels = [i for i in sentence if i in 'aeiou']\n",
    "vowels"
   ]
  },
  {
   "cell_type": "markdown",
   "id": "2677ee6e",
   "metadata": {
    "papermill": {
     "duration": 0.014734,
     "end_time": "2023-10-15T08:43:00.030462",
     "exception": false,
     "start_time": "2023-10-15T08:43:00.015728",
     "status": "completed"
    },
    "tags": []
   },
   "source": [
    "In this code block, the conditional statement filters out any characters in sentence that aren’t a vowel."
   ]
  },
  {
   "cell_type": "markdown",
   "id": "fe11c04d",
   "metadata": {
    "papermill": {
     "duration": 0.012863,
     "end_time": "2023-10-15T08:43:00.058816",
     "exception": false,
     "start_time": "2023-10-15T08:43:00.045953",
     "status": "completed"
    },
    "tags": []
   },
   "source": [
    "The conditional can test any valid expression. If you need a more complex filter, then you can even move the conditional logic to a separate function:"
   ]
  },
  {
   "cell_type": "code",
   "execution_count": 10,
   "id": "2281d679",
   "metadata": {
    "execution": {
     "iopub.execute_input": "2023-10-15T08:43:00.084662Z",
     "iopub.status.busy": "2023-10-15T08:43:00.084318Z",
     "iopub.status.idle": "2023-10-15T08:43:00.088732Z",
     "shell.execute_reply": "2023-10-15T08:43:00.087608Z"
    },
    "papermill": {
     "duration": 0.019819,
     "end_time": "2023-10-15T08:43:00.090693",
     "exception": false,
     "start_time": "2023-10-15T08:43:00.070874",
     "status": "completed"
    },
    "tags": []
   },
   "outputs": [],
   "source": [
    "sentence = 'The rocket, who was named Ted, came back \\\n",
    "from Mars because he missed his friends.'"
   ]
  },
  {
   "cell_type": "code",
   "execution_count": 11,
   "id": "89146324",
   "metadata": {
    "execution": {
     "iopub.execute_input": "2023-10-15T08:43:00.116210Z",
     "iopub.status.busy": "2023-10-15T08:43:00.115889Z",
     "iopub.status.idle": "2023-10-15T08:43:00.120770Z",
     "shell.execute_reply": "2023-10-15T08:43:00.119590Z"
    },
    "papermill": {
     "duration": 0.019866,
     "end_time": "2023-10-15T08:43:00.122570",
     "exception": false,
     "start_time": "2023-10-15T08:43:00.102704",
     "status": "completed"
    },
    "tags": []
   },
   "outputs": [],
   "source": [
    "def is_consonant(letter):\n",
    "    vowels = 'aeiou'\n",
    "    return letter.isalpha() and letter.lower() not in vowels"
   ]
  },
  {
   "cell_type": "code",
   "execution_count": 12,
   "id": "f1ed51a7",
   "metadata": {
    "execution": {
     "iopub.execute_input": "2023-10-15T08:43:00.147598Z",
     "iopub.status.busy": "2023-10-15T08:43:00.147260Z",
     "iopub.status.idle": "2023-10-15T08:43:00.151074Z",
     "shell.execute_reply": "2023-10-15T08:43:00.150341Z"
    },
    "papermill": {
     "duration": 0.018881,
     "end_time": "2023-10-15T08:43:00.152988",
     "exception": false,
     "start_time": "2023-10-15T08:43:00.134107",
     "status": "completed"
    },
    "tags": []
   },
   "outputs": [],
   "source": [
    "consonants = [i for i in sentence if is_consonant(i)]"
   ]
  },
  {
   "cell_type": "markdown",
   "id": "84d1836e",
   "metadata": {
    "papermill": {
     "duration": 0.011453,
     "end_time": "2023-10-15T08:43:00.176568",
     "exception": false,
     "start_time": "2023-10-15T08:43:00.165115",
     "status": "completed"
    },
    "tags": []
   },
   "source": [
    "Here, you create a complex filter `is_consonant()` and pass this function as the conditional statement for your list comprehension. Note that the member value `i` is also passed as an argument to your function."
   ]
  },
  {
   "cell_type": "markdown",
   "id": "d92ce2eb",
   "metadata": {
    "papermill": {
     "duration": 0.011619,
     "end_time": "2023-10-15T08:43:00.200613",
     "exception": false,
     "start_time": "2023-10-15T08:43:00.188994",
     "status": "completed"
    },
    "tags": []
   },
   "source": [
    "You can place the conditional at the end of the statement for simple filtering, but what if you want to change a member value instead of filtering it out? In this case, it’s useful to place the conditional near the beginning of the expression:\n",
    "\n",
    "```python\n",
    "new_list = [expression (if conditional) for member in iterable]\n",
    "```"
   ]
  },
  {
   "cell_type": "markdown",
   "id": "2b918343",
   "metadata": {
    "papermill": {
     "duration": 0.012604,
     "end_time": "2023-10-15T08:43:00.225831",
     "exception": false,
     "start_time": "2023-10-15T08:43:00.213227",
     "status": "completed"
    },
    "tags": []
   },
   "source": [
    "With this formula, you can use conditional logic to select from multiple possible output options. For example, if you have a list of prices, then you may want to replace negative prices with 0 and leave the positive values unchanged:"
   ]
  },
  {
   "cell_type": "code",
   "execution_count": 13,
   "id": "3a2fff2d",
   "metadata": {
    "execution": {
     "iopub.execute_input": "2023-10-15T08:43:00.251796Z",
     "iopub.status.busy": "2023-10-15T08:43:00.251430Z",
     "iopub.status.idle": "2023-10-15T08:43:00.258548Z",
     "shell.execute_reply": "2023-10-15T08:43:00.257349Z"
    },
    "papermill": {
     "duration": 0.023036,
     "end_time": "2023-10-15T08:43:00.260809",
     "exception": false,
     "start_time": "2023-10-15T08:43:00.237773",
     "status": "completed"
    },
    "tags": []
   },
   "outputs": [
    {
     "data": {
      "text/plain": [
       "[1.25, 0, 10.22, 3.78, 0, 1.16]"
      ]
     },
     "execution_count": 13,
     "metadata": {},
     "output_type": "execute_result"
    }
   ],
   "source": [
    "original_prices = [1.25, -9.45, 10.22, 3.78, -5.92, 1.16]\n",
    "prices = [i if i > 0 else 0 for i in original_prices]\n",
    "prices"
   ]
  },
  {
   "cell_type": "markdown",
   "id": "368925fd",
   "metadata": {
    "papermill": {
     "duration": 0.011664,
     "end_time": "2023-10-15T08:43:00.285515",
     "exception": false,
     "start_time": "2023-10-15T08:43:00.273851",
     "status": "completed"
    },
    "tags": []
   },
   "source": [
    "Here, your expression `i` contains a conditional statement, if `i > 0` else `0`. This tells Python to output the value of `i` if the number is positive, but to change `i` to `0` if the number is negative. If this seems overwhelming, then it may be helpful to view the conditional logic as its own function:"
   ]
  },
  {
   "cell_type": "code",
   "execution_count": 14,
   "id": "2872e020",
   "metadata": {
    "execution": {
     "iopub.execute_input": "2023-10-15T08:43:00.310690Z",
     "iopub.status.busy": "2023-10-15T08:43:00.310329Z",
     "iopub.status.idle": "2023-10-15T08:43:00.316875Z",
     "shell.execute_reply": "2023-10-15T08:43:00.316094Z"
    },
    "papermill": {
     "duration": 0.021372,
     "end_time": "2023-10-15T08:43:00.318691",
     "exception": false,
     "start_time": "2023-10-15T08:43:00.297319",
     "status": "completed"
    },
    "tags": []
   },
   "outputs": [
    {
     "data": {
      "text/plain": [
       "[1.25, 0, 10.22, 3.78, 0, 1.16]"
      ]
     },
     "execution_count": 14,
     "metadata": {},
     "output_type": "execute_result"
    }
   ],
   "source": [
    "def get_price(price):\n",
    "    return price if price > 0 else 0\n",
    "prices = [get_price(i) for i in original_prices]\n",
    "prices"
   ]
  },
  {
   "cell_type": "markdown",
   "id": "76e3725d",
   "metadata": {
    "papermill": {
     "duration": 0.011778,
     "end_time": "2023-10-15T08:43:00.342519",
     "exception": false,
     "start_time": "2023-10-15T08:43:00.330741",
     "status": "completed"
    },
    "tags": []
   },
   "source": [
    "Now, your conditional statement is contained within `get_price()`, and you can use it as part of your list comprehension expression."
   ]
  },
  {
   "cell_type": "markdown",
   "id": "62c7bce1",
   "metadata": {
    "papermill": {
     "duration": 0.011509,
     "end_time": "2023-10-15T08:43:00.366022",
     "exception": false,
     "start_time": "2023-10-15T08:43:00.354513",
     "status": "completed"
    },
    "tags": []
   },
   "source": [
    "<a class=\"anchor\" id=\"using_set_and_dictionary_comprehensions\"></a>\n",
    "### Using Set and Dictionary Comprehensions"
   ]
  },
  {
   "cell_type": "markdown",
   "id": "fd6cc326",
   "metadata": {
    "papermill": {
     "duration": 0.011724,
     "end_time": "2023-10-15T08:43:00.389618",
     "exception": false,
     "start_time": "2023-10-15T08:43:00.377894",
     "status": "completed"
    },
    "tags": []
   },
   "source": [
    "While the list comprehension in Python is a common tool, you can also create set and dictionary comprehensions. A **set** comprehension is almost exactly the same as a list comprehension in Python. The difference is that set comprehensions make sure the output contains no duplicates. You can create a set comprehension by using curly braces instead of brackets:"
   ]
  },
  {
   "cell_type": "code",
   "execution_count": 15,
   "id": "4096f898",
   "metadata": {
    "execution": {
     "iopub.execute_input": "2023-10-15T08:43:00.415883Z",
     "iopub.status.busy": "2023-10-15T08:43:00.415558Z",
     "iopub.status.idle": "2023-10-15T08:43:00.421891Z",
     "shell.execute_reply": "2023-10-15T08:43:00.421041Z"
    },
    "papermill": {
     "duration": 0.021968,
     "end_time": "2023-10-15T08:43:00.424168",
     "exception": false,
     "start_time": "2023-10-15T08:43:00.402200",
     "status": "completed"
    },
    "tags": []
   },
   "outputs": [
    {
     "data": {
      "text/plain": [
       "{'a', 'e', 'i', 'u'}"
      ]
     },
     "execution_count": 15,
     "metadata": {},
     "output_type": "execute_result"
    }
   ],
   "source": [
    "quote = \"life, uh, finds a way\"\n",
    "unique_vowels = {i for i in quote if i in 'aeiou'}\n",
    "unique_vowels"
   ]
  },
  {
   "cell_type": "markdown",
   "id": "4693e712",
   "metadata": {
    "papermill": {
     "duration": 0.011751,
     "end_time": "2023-10-15T08:43:00.448124",
     "exception": false,
     "start_time": "2023-10-15T08:43:00.436373",
     "status": "completed"
    },
    "tags": []
   },
   "source": [
    "Your set comprehension outputs all the unique vowels it found in `quote`. Unlike lists, sets don’t guarantee that items will be saved in any particular order. This is why the first member of the set is `a`, even though the first vowel in quote is `i`."
   ]
  },
  {
   "cell_type": "markdown",
   "id": "14ac90ca",
   "metadata": {
    "papermill": {
     "duration": 0.011743,
     "end_time": "2023-10-15T08:43:00.471913",
     "exception": false,
     "start_time": "2023-10-15T08:43:00.460170",
     "status": "completed"
    },
    "tags": []
   },
   "source": [
    "**Dictionary comprehensions** are similar, with the additional requirement of defining a key:"
   ]
  },
  {
   "cell_type": "code",
   "execution_count": 16,
   "id": "7854b215",
   "metadata": {
    "execution": {
     "iopub.execute_input": "2023-10-15T08:43:00.497700Z",
     "iopub.status.busy": "2023-10-15T08:43:00.497323Z",
     "iopub.status.idle": "2023-10-15T08:43:00.504348Z",
     "shell.execute_reply": "2023-10-15T08:43:00.503302Z"
    },
    "papermill": {
     "duration": 0.022594,
     "end_time": "2023-10-15T08:43:00.506505",
     "exception": false,
     "start_time": "2023-10-15T08:43:00.483911",
     "status": "completed"
    },
    "tags": []
   },
   "outputs": [
    {
     "data": {
      "text/plain": [
       "{0: 0, 1: 1, 2: 4, 3: 9, 4: 16, 5: 25, 6: 36, 7: 49, 8: 64, 9: 81}"
      ]
     },
     "execution_count": 16,
     "metadata": {},
     "output_type": "execute_result"
    }
   ],
   "source": [
    "squares = {i: i * i for i in range(10)}\n",
    "squares"
   ]
  },
  {
   "cell_type": "markdown",
   "id": "0450defc",
   "metadata": {
    "papermill": {
     "duration": 0.011595,
     "end_time": "2023-10-15T08:43:00.530426",
     "exception": false,
     "start_time": "2023-10-15T08:43:00.518831",
     "status": "completed"
    },
    "tags": []
   },
   "source": [
    "To create the squares dictionary, you use curly braces (`{}`) as well as a key-value pair (`i: i * i`) in your expression."
   ]
  },
  {
   "cell_type": "markdown",
   "id": "6a28d8d9",
   "metadata": {
    "papermill": {
     "duration": 0.012395,
     "end_time": "2023-10-15T08:43:00.554879",
     "exception": false,
     "start_time": "2023-10-15T08:43:00.542484",
     "status": "completed"
    },
    "tags": []
   },
   "source": [
    "<a class=\"anchor\" id=\"when_not_to_use_a_list_comprehension_in_python\"></a>\n",
    "## When Not to Use a List Comprehension in Python"
   ]
  },
  {
   "cell_type": "markdown",
   "id": "b465f5ff",
   "metadata": {
    "papermill": {
     "duration": 0.012069,
     "end_time": "2023-10-15T08:43:00.580432",
     "exception": false,
     "start_time": "2023-10-15T08:43:00.568363",
     "status": "completed"
    },
    "tags": []
   },
   "source": [
    "List comprehensions are useful and can help you write elegant code that’s easy to read and debug, but they’re not the right choice for all circumstances. They might make your code run more slowly or use more memory. If your code is less performant or harder to understand, then it’s probably better to choose an alternative."
   ]
  },
  {
   "cell_type": "markdown",
   "id": "4b9a98a8",
   "metadata": {
    "papermill": {
     "duration": 0.011804,
     "end_time": "2023-10-15T08:43:00.604380",
     "exception": false,
     "start_time": "2023-10-15T08:43:00.592576",
     "status": "completed"
    },
    "tags": []
   },
   "source": [
    "<a class=\"anchor\" id=\"watch_out_for_nested_comprehensions\"></a>\n",
    "### Watch Out for Nested Comprehensions"
   ]
  },
  {
   "cell_type": "markdown",
   "id": "7e88d2bd",
   "metadata": {
    "papermill": {
     "duration": 0.011621,
     "end_time": "2023-10-15T08:43:00.628212",
     "exception": false,
     "start_time": "2023-10-15T08:43:00.616591",
     "status": "completed"
    },
    "tags": []
   },
   "source": [
    "Comprehensions can be **nested** to create combinations of lists, dictionaries, and sets within a collection. For example, say a climate laboratory is tracking the high temperature in five different cities for the first week of June. The perfect data structure for storing this data could be a Python list comprehension nested within a dictionary comprehension:"
   ]
  },
  {
   "cell_type": "code",
   "execution_count": 17,
   "id": "9230e78a",
   "metadata": {
    "execution": {
     "iopub.execute_input": "2023-10-15T08:43:00.654444Z",
     "iopub.status.busy": "2023-10-15T08:43:00.654050Z",
     "iopub.status.idle": "2023-10-15T08:43:00.661849Z",
     "shell.execute_reply": "2023-10-15T08:43:00.660806Z"
    },
    "papermill": {
     "duration": 0.023305,
     "end_time": "2023-10-15T08:43:00.663965",
     "exception": false,
     "start_time": "2023-10-15T08:43:00.640660",
     "status": "completed"
    },
    "tags": []
   },
   "outputs": [
    {
     "data": {
      "text/plain": [
       "{'Austin': [0, 0, 0, 0, 0, 0, 0],\n",
       " 'Tacoma': [0, 0, 0, 0, 0, 0, 0],\n",
       " 'Topeka': [0, 0, 0, 0, 0, 0, 0],\n",
       " 'Sacramento': [0, 0, 0, 0, 0, 0, 0],\n",
       " 'Charlotte': [0, 0, 0, 0, 0, 0, 0]}"
      ]
     },
     "execution_count": 17,
     "metadata": {},
     "output_type": "execute_result"
    }
   ],
   "source": [
    "cities = ['Austin', 'Tacoma', 'Topeka', 'Sacramento', 'Charlotte']\n",
    "temps = {city: [0 for _ in range(7)] for city in cities}\n",
    "temps"
   ]
  },
  {
   "cell_type": "markdown",
   "id": "ae01d67f",
   "metadata": {
    "papermill": {
     "duration": 0.012884,
     "end_time": "2023-10-15T08:43:00.689705",
     "exception": false,
     "start_time": "2023-10-15T08:43:00.676821",
     "status": "completed"
    },
    "tags": []
   },
   "source": [
    "You create the outer collection temps with a dictionary comprehension. The expression is a key-value pair, which contains yet another comprehension. This code will quickly generate a list of data for each city in `cities`."
   ]
  },
  {
   "cell_type": "markdown",
   "id": "d3119bb0",
   "metadata": {
    "papermill": {
     "duration": 0.012536,
     "end_time": "2023-10-15T08:43:00.716102",
     "exception": false,
     "start_time": "2023-10-15T08:43:00.703566",
     "status": "completed"
    },
    "tags": []
   },
   "source": [
    "Nested lists are a common way to create **matrices**, which are often used for mathematical purposes. Take a look at the code block below:"
   ]
  },
  {
   "cell_type": "code",
   "execution_count": 18,
   "id": "ac32801c",
   "metadata": {
    "execution": {
     "iopub.execute_input": "2023-10-15T08:43:00.741890Z",
     "iopub.status.busy": "2023-10-15T08:43:00.741550Z",
     "iopub.status.idle": "2023-10-15T08:43:00.748398Z",
     "shell.execute_reply": "2023-10-15T08:43:00.747370Z"
    },
    "papermill": {
     "duration": 0.022631,
     "end_time": "2023-10-15T08:43:00.750770",
     "exception": false,
     "start_time": "2023-10-15T08:43:00.728139",
     "status": "completed"
    },
    "tags": []
   },
   "outputs": [
    {
     "data": {
      "text/plain": [
       "[[0, 1, 2, 3, 4],\n",
       " [0, 1, 2, 3, 4],\n",
       " [0, 1, 2, 3, 4],\n",
       " [0, 1, 2, 3, 4],\n",
       " [0, 1, 2, 3, 4],\n",
       " [0, 1, 2, 3, 4]]"
      ]
     },
     "execution_count": 18,
     "metadata": {},
     "output_type": "execute_result"
    }
   ],
   "source": [
    "matrix = [[i for i in range(5)] for _ in range(6)]\n",
    "matrix"
   ]
  },
  {
   "cell_type": "markdown",
   "id": "4764cc8f",
   "metadata": {
    "papermill": {
     "duration": 0.012098,
     "end_time": "2023-10-15T08:43:00.775702",
     "exception": false,
     "start_time": "2023-10-15T08:43:00.763604",
     "status": "completed"
    },
    "tags": []
   },
   "source": [
    "The outer list comprehension `[... for _ in range(6)]` creates six rows, while the inner list comprehension `[i for i in range(5)]` fills each of these rows with values."
   ]
  },
  {
   "cell_type": "markdown",
   "id": "cef3c1e8",
   "metadata": {
    "papermill": {
     "duration": 0.01213,
     "end_time": "2023-10-15T08:43:00.800290",
     "exception": false,
     "start_time": "2023-10-15T08:43:00.788160",
     "status": "completed"
    },
    "tags": []
   },
   "source": [
    "So far, the purpose of each nested comprehension is pretty intuitive. However, there are other situations, such as **flattening** nested lists, where the logic arguably makes your code more confusing. Take this example, which uses a nested list comprehension to flatten a matrix:"
   ]
  },
  {
   "cell_type": "code",
   "execution_count": 19,
   "id": "2d750ffc",
   "metadata": {
    "execution": {
     "iopub.execute_input": "2023-10-15T08:43:00.826593Z",
     "iopub.status.busy": "2023-10-15T08:43:00.826226Z",
     "iopub.status.idle": "2023-10-15T08:43:00.833190Z",
     "shell.execute_reply": "2023-10-15T08:43:00.832183Z"
    },
    "papermill": {
     "duration": 0.022761,
     "end_time": "2023-10-15T08:43:00.835288",
     "exception": false,
     "start_time": "2023-10-15T08:43:00.812527",
     "status": "completed"
    },
    "tags": []
   },
   "outputs": [
    {
     "data": {
      "text/plain": [
       "[0,\n",
       " 1,\n",
       " 2,\n",
       " 3,\n",
       " 4,\n",
       " 0,\n",
       " 1,\n",
       " 2,\n",
       " 3,\n",
       " 4,\n",
       " 0,\n",
       " 1,\n",
       " 2,\n",
       " 3,\n",
       " 4,\n",
       " 0,\n",
       " 1,\n",
       " 2,\n",
       " 3,\n",
       " 4,\n",
       " 0,\n",
       " 1,\n",
       " 2,\n",
       " 3,\n",
       " 4,\n",
       " 0,\n",
       " 1,\n",
       " 2,\n",
       " 3,\n",
       " 4]"
      ]
     },
     "execution_count": 19,
     "metadata": {},
     "output_type": "execute_result"
    }
   ],
   "source": [
    "flat = [num for row in matrix for num in row]\n",
    "flat"
   ]
  },
  {
   "cell_type": "markdown",
   "id": "00b94b08",
   "metadata": {
    "papermill": {
     "duration": 0.012736,
     "end_time": "2023-10-15T08:43:00.860584",
     "exception": false,
     "start_time": "2023-10-15T08:43:00.847848",
     "status": "completed"
    },
    "tags": []
   },
   "source": [
    "The code to flatten the matrix is concise, but it may not be so intuitive to understand how it works. On the other hand, if you were to use `for` loops to flatten the same matrix, then your code will be much more straightforward:"
   ]
  },
  {
   "cell_type": "code",
   "execution_count": 20,
   "id": "2cfa5e47",
   "metadata": {
    "execution": {
     "iopub.execute_input": "2023-10-15T08:43:00.888107Z",
     "iopub.status.busy": "2023-10-15T08:43:00.887778Z",
     "iopub.status.idle": "2023-10-15T08:43:00.892509Z",
     "shell.execute_reply": "2023-10-15T08:43:00.891350Z"
    },
    "papermill": {
     "duration": 0.0213,
     "end_time": "2023-10-15T08:43:00.894918",
     "exception": false,
     "start_time": "2023-10-15T08:43:00.873618",
     "status": "completed"
    },
    "tags": []
   },
   "outputs": [],
   "source": [
    "matrix = [\n",
    "    [0, 0, 0],\n",
    "    [1, 1, 1],\n",
    "    [2, 2, 2],\n",
    "]"
   ]
  },
  {
   "cell_type": "code",
   "execution_count": 21,
   "id": "26240e29",
   "metadata": {
    "execution": {
     "iopub.execute_input": "2023-10-15T08:43:00.922813Z",
     "iopub.status.busy": "2023-10-15T08:43:00.922480Z",
     "iopub.status.idle": "2023-10-15T08:43:00.927060Z",
     "shell.execute_reply": "2023-10-15T08:43:00.925947Z"
    },
    "papermill": {
     "duration": 0.02087,
     "end_time": "2023-10-15T08:43:00.929196",
     "exception": false,
     "start_time": "2023-10-15T08:43:00.908326",
     "status": "completed"
    },
    "tags": []
   },
   "outputs": [],
   "source": [
    "flat = []\n",
    "for row in matrix:\n",
    "    for num in row:\n",
    "        flat.append(num)"
   ]
  },
  {
   "cell_type": "code",
   "execution_count": 22,
   "id": "55c4fb07",
   "metadata": {
    "execution": {
     "iopub.execute_input": "2023-10-15T08:43:00.957816Z",
     "iopub.status.busy": "2023-10-15T08:43:00.957220Z",
     "iopub.status.idle": "2023-10-15T08:43:00.962211Z",
     "shell.execute_reply": "2023-10-15T08:43:00.961560Z"
    },
    "papermill": {
     "duration": 0.022002,
     "end_time": "2023-10-15T08:43:00.963998",
     "exception": false,
     "start_time": "2023-10-15T08:43:00.941996",
     "status": "completed"
    },
    "tags": []
   },
   "outputs": [
    {
     "data": {
      "text/plain": [
       "[0, 0, 0, 1, 1, 1, 2, 2, 2]"
      ]
     },
     "execution_count": 22,
     "metadata": {},
     "output_type": "execute_result"
    }
   ],
   "source": [
    "flat"
   ]
  },
  {
   "cell_type": "markdown",
   "id": "54eb0dd7",
   "metadata": {
    "papermill": {
     "duration": 0.012383,
     "end_time": "2023-10-15T08:43:00.989210",
     "exception": false,
     "start_time": "2023-10-15T08:43:00.976827",
     "status": "completed"
    },
    "tags": []
   },
   "source": [
    "Now you can see that the code traverses one row of the matrix at a time, pulling out all the elements in that row before moving on to the next one."
   ]
  },
  {
   "cell_type": "markdown",
   "id": "a2c12183",
   "metadata": {
    "papermill": {
     "duration": 0.01367,
     "end_time": "2023-10-15T08:43:01.015955",
     "exception": false,
     "start_time": "2023-10-15T08:43:01.002285",
     "status": "completed"
    },
    "tags": []
   },
   "source": [
    "While the single-line nested list comprehension might seem more Pythonic, what’s most important is to write code that your team can easily understand and modify. When you choose your approach, you’ll have to make a judgment call based on whether you think the comprehension helps or hurts readability."
   ]
  },
  {
   "cell_type": "markdown",
   "id": "ec22d309",
   "metadata": {
    "papermill": {
     "duration": 0.01301,
     "end_time": "2023-10-15T08:43:01.043397",
     "exception": false,
     "start_time": "2023-10-15T08:43:01.030387",
     "status": "completed"
    },
    "tags": []
   },
   "source": [
    "<a class=\"anchor\" id=\"conclusion\"></a>\n",
    "## Conclusion \n"
   ]
  },
  {
   "cell_type": "markdown",
   "id": "9157be14",
   "metadata": {
    "papermill": {
     "duration": 0.012877,
     "end_time": "2023-10-15T08:43:01.070356",
     "exception": false,
     "start_time": "2023-10-15T08:43:01.057479",
     "status": "completed"
    },
    "tags": []
   },
   "source": [
    "In this tutorial, you learned how to use a list comprehension in Python to accomplish complex tasks without making your code overly complicated."
   ]
  },
  {
   "cell_type": "markdown",
   "id": "29873271",
   "metadata": {
    "papermill": {
     "duration": 0.012573,
     "end_time": "2023-10-15T08:43:01.097368",
     "exception": false,
     "start_time": "2023-10-15T08:43:01.084795",
     "status": "completed"
    },
    "tags": []
   },
   "source": [
    "Now you can:\n",
    "\n",
    "- Simplify loops and `map()` calls with declarative **list comprehensions**\n",
    "- Supercharge your comprehensions with **conditional logic**\n",
    "- Create **set** and **dictionary** comprehensions\n",
    "- Determine when code clarity or performance dictates an **alternative approach**"
   ]
  },
  {
   "cell_type": "markdown",
   "id": "17d66b47",
   "metadata": {
    "papermill": {
     "duration": 0.012867,
     "end_time": "2023-10-15T08:43:01.123713",
     "exception": false,
     "start_time": "2023-10-15T08:43:01.110846",
     "status": "completed"
    },
    "tags": []
   },
   "source": [
    "Whenever you have to choose a list creation method, try multiple implementations and consider what’s easiest to read and understand in your specific scenario. If performance is important, then you can use profiling tools to give you actionable data instead of relying on hunches or guesses about what works the best."
   ]
  },
  {
   "cell_type": "markdown",
   "id": "043198dc",
   "metadata": {
    "papermill": {
     "duration": 0.01304,
     "end_time": "2023-10-15T08:43:01.150083",
     "exception": false,
     "start_time": "2023-10-15T08:43:01.137043",
     "status": "completed"
    },
    "tags": []
   },
   "source": [
    "Remember that while Python list comprehensions get a lot of attention, your intuition and ability to use data when it counts will help you write clean code that serves the task at hand. This, ultimately, is the key to making your code Pythonic!"
   ]
  }
 ],
 "metadata": {
  "kernelspec": {
   "display_name": "Python 3",
   "language": "python",
   "name": "python3"
  },
  "language_info": {
   "codemirror_mode": {
    "name": "ipython",
    "version": 3
   },
   "file_extension": ".py",
   "mimetype": "text/x-python",
   "name": "python",
   "nbconvert_exporter": "python",
   "pygments_lexer": "ipython3",
   "version": "3.10.12"
  },
  "papermill": {
   "default_parameters": {},
   "duration": 6.077188,
   "end_time": "2023-10-15T08:43:01.583223",
   "environment_variables": {},
   "exception": null,
   "input_path": "__notebook__.ipynb",
   "output_path": "__notebook__.ipynb",
   "parameters": {},
   "start_time": "2023-10-15T08:42:55.506035",
   "version": "2.4.0"
  }
 },
 "nbformat": 4,
 "nbformat_minor": 5
}
