{
 "cells": [
  {
   "cell_type": "markdown",
   "id": "16333f0d",
   "metadata": {
    "papermill": {
     "duration": 0.036196,
     "end_time": "2023-10-15T05:36:46.221802",
     "exception": false,
     "start_time": "2023-10-15T05:36:46.185606",
     "status": "completed"
    },
    "tags": []
   },
   "source": []
  },
  {
   "cell_type": "markdown",
   "id": "550a7b9a",
   "metadata": {
    "papermill": {
     "duration": 0.128302,
     "end_time": "2023-10-15T05:36:46.383280",
     "exception": false,
     "start_time": "2023-10-15T05:36:46.254978",
     "status": "completed"
    },
    "tags": []
   },
   "source": [
    "Lists and Tuples in Python \n"
   ]
  },
  {
   "cell_type": "markdown",
   "id": "19ac6810",
   "metadata": {
    "papermill": {
     "duration": 0.034288,
     "end_time": "2023-10-15T05:36:46.450752",
     "exception": false,
     "start_time": "2023-10-15T05:36:46.416464",
     "status": "completed"
    },
    "tags": []
   },
   "source": [
    "Table of Contents \n",
    "* [Python Lists](#python_lists)\n",
    "    * [1. Lists Are Ordered](#1._lists_are_ordered)\n",
    "    * [2. Lists Can Contain Arbitrary Objects](#2._lists_can_contain_arbitrary_objects)\n",
    "    * [3. List Elements Can Be Accessed by Index](#3._list_elements_can_be_accessed_by_index)\n",
    "    * [4. Lists Can Be Nested](#4._lists_can_be_nested)\n",
    "    * [5. Lists Are Mutable](#5._lists_are_mutable)\n",
    "        * [Modifying a Single List Value](#modifying_a_single_list_value)\n",
    "        * [Modifying Multiple List Values](#modifying_multiple_list_values)\n",
    "        * [Prepending or Appending Items to a List](#prepending_or_appending_items_to_a_list)\n",
    "    * [6. Lists Are Dynamic](#6._lists_are_dynamic)\n",
    "* [Python Tuples](#python_tuples)\n",
    "    * [Defining and Using Tuples](#defining_and_using_tuples)\n",
    "    * [Tuple Assignment, Packing, and Unpacking](#tuple_assignment,_packing,_and_unpacking)\n",
    "* [Conclusion](#conclusion)\n",
    "\n",
    "---"
   ]
  },
  {
   "cell_type": "markdown",
   "id": "f255a93c",
   "metadata": {
    "papermill": {
     "duration": 0.032969,
     "end_time": "2023-10-15T05:36:46.517541",
     "exception": false,
     "start_time": "2023-10-15T05:36:46.484572",
     "status": "completed"
    },
    "tags": []
   },
   "source": [
    "Lists and tuples are arguably Python’s most versatile, useful data types. You will find them in virtually every nontrivial Python program.\n",
    "\n",
    "* [Python Lists](#lists)\n",
    "* [Python Tuples](#tuples)"
   ]
  },
  {
   "cell_type": "markdown",
   "id": "3b61dfc8",
   "metadata": {
    "papermill": {
     "duration": 0.033168,
     "end_time": "2023-10-15T05:36:46.583784",
     "exception": false,
     "start_time": "2023-10-15T05:36:46.550616",
     "status": "completed"
    },
    "tags": []
   },
   "source": [
    "<a class=\"anchor\" id=\"python_lists\"></a>\n",
    "## Python Lists\n",
    "In short, a list is a collection of arbitrary objects, somewhat akin to an array in many other programming languages but more flexible. Lists are defined in Python by enclosing a comma-separated sequence of objects in square brackets (`[]`), as shown below:"
   ]
  },
  {
   "cell_type": "code",
   "execution_count": 1,
   "id": "da9b73df",
   "metadata": {
    "execution": {
     "iopub.execute_input": "2023-10-15T05:36:46.655626Z",
     "iopub.status.busy": "2023-10-15T05:36:46.654192Z",
     "iopub.status.idle": "2023-10-15T05:36:46.665871Z",
     "shell.execute_reply": "2023-10-15T05:36:46.664203Z"
    },
    "papermill": {
     "duration": 0.051181,
     "end_time": "2023-10-15T05:36:46.668472",
     "exception": false,
     "start_time": "2023-10-15T05:36:46.617291",
     "status": "completed"
    },
    "tags": []
   },
   "outputs": [],
   "source": [
    "a = ['foo', 'bar', 'baz', 'qux']"
   ]
  },
  {
   "cell_type": "code",
   "execution_count": 2,
   "id": "768b8289",
   "metadata": {
    "execution": {
     "iopub.execute_input": "2023-10-15T05:36:46.738025Z",
     "iopub.status.busy": "2023-10-15T05:36:46.737628Z",
     "iopub.status.idle": "2023-10-15T05:36:46.743888Z",
     "shell.execute_reply": "2023-10-15T05:36:46.743180Z"
    },
    "papermill": {
     "duration": 0.043825,
     "end_time": "2023-10-15T05:36:46.746413",
     "exception": false,
     "start_time": "2023-10-15T05:36:46.702588",
     "status": "completed"
    },
    "tags": []
   },
   "outputs": [
    {
     "data": {
      "text/plain": [
       "['foo', 'bar', 'baz', 'qux']"
      ]
     },
     "execution_count": 2,
     "metadata": {},
     "output_type": "execute_result"
    }
   ],
   "source": [
    "a"
   ]
  },
  {
   "cell_type": "markdown",
   "id": "ae21dd6e",
   "metadata": {
    "papermill": {
     "duration": 0.033179,
     "end_time": "2023-10-15T05:36:46.814016",
     "exception": false,
     "start_time": "2023-10-15T05:36:46.780837",
     "status": "completed"
    },
    "tags": []
   },
   "source": [
    "The important characteristics of Python lists are as follows:\n",
    "\n",
    "- Lists are ordered.\n",
    "- Lists can contain any arbitrary objects.\n",
    "- List elements can be accessed by index.\n",
    "- Lists can be nested to arbitrary depth.\n",
    "- Lists are mutable.\n",
    "- Lists are dynamic.\n",
    "\n",
    "Each of these features is examined in more detail below."
   ]
  },
  {
   "cell_type": "markdown",
   "id": "c650335d",
   "metadata": {
    "papermill": {
     "duration": 0.033453,
     "end_time": "2023-10-15T05:36:46.881044",
     "exception": false,
     "start_time": "2023-10-15T05:36:46.847591",
     "status": "completed"
    },
    "tags": []
   },
   "source": [
    "<a class=\"anchor\" id=\"1._lists_are_ordered\"></a>\n",
    "### 1. Lists Are Ordered\n",
    "\n",
    "A list is not merely a collection of objects. It is an ordered collection of objects. The order in which you specify the elements when you define a list is an innate characteristic of that list and is maintained for that list’s lifetime. (You will see a Python data type that is not ordered in the next tutorial on dictionaries.)"
   ]
  },
  {
   "cell_type": "code",
   "execution_count": 3,
   "id": "9b816da8",
   "metadata": {
    "execution": {
     "iopub.execute_input": "2023-10-15T05:36:46.950985Z",
     "iopub.status.busy": "2023-10-15T05:36:46.950367Z",
     "iopub.status.idle": "2023-10-15T05:36:46.956500Z",
     "shell.execute_reply": "2023-10-15T05:36:46.955339Z"
    },
    "papermill": {
     "duration": 0.043144,
     "end_time": "2023-10-15T05:36:46.958901",
     "exception": false,
     "start_time": "2023-10-15T05:36:46.915757",
     "status": "completed"
    },
    "tags": []
   },
   "outputs": [
    {
     "name": "stdout",
     "output_type": "stream",
     "text": [
      "False\n",
      "False\n"
     ]
    }
   ],
   "source": [
    "x = [1, 2, 3]\n",
    "y = [3, 2, 1]\n",
    "\n",
    "print(x == y)\n",
    "print(x is y)"
   ]
  },
  {
   "cell_type": "code",
   "execution_count": 4,
   "id": "e62c11ea",
   "metadata": {
    "execution": {
     "iopub.execute_input": "2023-10-15T05:36:47.028529Z",
     "iopub.status.busy": "2023-10-15T05:36:47.028125Z",
     "iopub.status.idle": "2023-10-15T05:36:47.033631Z",
     "shell.execute_reply": "2023-10-15T05:36:47.032583Z"
    },
    "papermill": {
     "duration": 0.043446,
     "end_time": "2023-10-15T05:36:47.036290",
     "exception": false,
     "start_time": "2023-10-15T05:36:46.992844",
     "status": "completed"
    },
    "tags": []
   },
   "outputs": [
    {
     "name": "stdout",
     "output_type": "stream",
     "text": [
      "True\n",
      "False\n"
     ]
    }
   ],
   "source": [
    "x = [1, 2, 3]\n",
    "y = [1, 2, 3]\n",
    "\n",
    "print(x == y)\n",
    "print(x is y)"
   ]
  },
  {
   "cell_type": "code",
   "execution_count": 5,
   "id": "f6eb5c6d",
   "metadata": {
    "execution": {
     "iopub.execute_input": "2023-10-15T05:36:47.105879Z",
     "iopub.status.busy": "2023-10-15T05:36:47.105475Z",
     "iopub.status.idle": "2023-10-15T05:36:47.111517Z",
     "shell.execute_reply": "2023-10-15T05:36:47.110436Z"
    },
    "papermill": {
     "duration": 0.043104,
     "end_time": "2023-10-15T05:36:47.113538",
     "exception": false,
     "start_time": "2023-10-15T05:36:47.070434",
     "status": "completed"
    },
    "tags": []
   },
   "outputs": [
    {
     "name": "stdout",
     "output_type": "stream",
     "text": [
      "True\n",
      "True\n"
     ]
    }
   ],
   "source": [
    "x = [1, 2, 3]\n",
    "y = x\n",
    "\n",
    "print(x == y)\n",
    "print(x is y)"
   ]
  },
  {
   "cell_type": "markdown",
   "id": "81d9f112",
   "metadata": {
    "papermill": {
     "duration": 0.033817,
     "end_time": "2023-10-15T05:36:47.181810",
     "exception": false,
     "start_time": "2023-10-15T05:36:47.147993",
     "status": "completed"
    },
    "tags": []
   },
   "source": [
    "Lists that have the same elements in a different order are not the same:"
   ]
  },
  {
   "cell_type": "code",
   "execution_count": 6,
   "id": "395794f3",
   "metadata": {
    "execution": {
     "iopub.execute_input": "2023-10-15T05:36:47.252262Z",
     "iopub.status.busy": "2023-10-15T05:36:47.251479Z",
     "iopub.status.idle": "2023-10-15T05:36:47.258352Z",
     "shell.execute_reply": "2023-10-15T05:36:47.257274Z"
    },
    "papermill": {
     "duration": 0.044802,
     "end_time": "2023-10-15T05:36:47.260359",
     "exception": false,
     "start_time": "2023-10-15T05:36:47.215557",
     "status": "completed"
    },
    "tags": []
   },
   "outputs": [
    {
     "data": {
      "text/plain": [
       "False"
      ]
     },
     "execution_count": 6,
     "metadata": {},
     "output_type": "execute_result"
    }
   ],
   "source": [
    "a = ['foo', 'bar', 'baz', 'qux']\n",
    "b = ['baz', 'qux', 'bar', 'foo']\n",
    "a == b"
   ]
  },
  {
   "cell_type": "code",
   "execution_count": 7,
   "id": "36d14e81",
   "metadata": {
    "execution": {
     "iopub.execute_input": "2023-10-15T05:36:47.330560Z",
     "iopub.status.busy": "2023-10-15T05:36:47.330056Z",
     "iopub.status.idle": "2023-10-15T05:36:47.336551Z",
     "shell.execute_reply": "2023-10-15T05:36:47.335546Z"
    },
    "papermill": {
     "duration": 0.044011,
     "end_time": "2023-10-15T05:36:47.338417",
     "exception": false,
     "start_time": "2023-10-15T05:36:47.294406",
     "status": "completed"
    },
    "tags": []
   },
   "outputs": [
    {
     "data": {
      "text/plain": [
       "False"
      ]
     },
     "execution_count": 7,
     "metadata": {},
     "output_type": "execute_result"
    }
   ],
   "source": [
    "a is b"
   ]
  },
  {
   "cell_type": "code",
   "execution_count": 8,
   "id": "b58f8c7c",
   "metadata": {
    "execution": {
     "iopub.execute_input": "2023-10-15T05:36:47.410028Z",
     "iopub.status.busy": "2023-10-15T05:36:47.409331Z",
     "iopub.status.idle": "2023-10-15T05:36:47.415687Z",
     "shell.execute_reply": "2023-10-15T05:36:47.414391Z"
    },
    "papermill": {
     "duration": 0.045929,
     "end_time": "2023-10-15T05:36:47.417703",
     "exception": false,
     "start_time": "2023-10-15T05:36:47.371774",
     "status": "completed"
    },
    "tags": []
   },
   "outputs": [
    {
     "data": {
      "text/plain": [
       "False"
      ]
     },
     "execution_count": 8,
     "metadata": {},
     "output_type": "execute_result"
    }
   ],
   "source": [
    "[1, 2, 3, 4] == [4, 1, 3, 2]"
   ]
  },
  {
   "cell_type": "markdown",
   "id": "8fef0634",
   "metadata": {
    "papermill": {
     "duration": 0.033956,
     "end_time": "2023-10-15T05:36:47.485322",
     "exception": false,
     "start_time": "2023-10-15T05:36:47.451366",
     "status": "completed"
    },
    "tags": []
   },
   "source": [
    "<a class=\"anchor\" id=\"2._lists_can_contain_arbitrary_objects\"></a>\n",
    "### 2. Lists Can Contain Arbitrary Objects\n",
    "\n",
    "A list can contain any assortment of objects. The elements of a list can all be the same type:"
   ]
  },
  {
   "cell_type": "code",
   "execution_count": 9,
   "id": "6c7fd822",
   "metadata": {
    "execution": {
     "iopub.execute_input": "2023-10-15T05:36:47.557276Z",
     "iopub.status.busy": "2023-10-15T05:36:47.556464Z",
     "iopub.status.idle": "2023-10-15T05:36:47.560623Z",
     "shell.execute_reply": "2023-10-15T05:36:47.559855Z"
    },
    "papermill": {
     "duration": 0.042579,
     "end_time": "2023-10-15T05:36:47.562577",
     "exception": false,
     "start_time": "2023-10-15T05:36:47.519998",
     "status": "completed"
    },
    "tags": []
   },
   "outputs": [],
   "source": [
    "a = [2, 4, 6, 8]"
   ]
  },
  {
   "cell_type": "markdown",
   "id": "e458a9e9",
   "metadata": {
    "papermill": {
     "duration": 0.035386,
     "end_time": "2023-10-15T05:36:47.632353",
     "exception": false,
     "start_time": "2023-10-15T05:36:47.596967",
     "status": "completed"
    },
    "tags": []
   },
   "source": [
    "Or the elements can be of varying types:"
   ]
  },
  {
   "cell_type": "code",
   "execution_count": 10,
   "id": "be03a6db",
   "metadata": {
    "execution": {
     "iopub.execute_input": "2023-10-15T05:36:47.704591Z",
     "iopub.status.busy": "2023-10-15T05:36:47.703779Z",
     "iopub.status.idle": "2023-10-15T05:36:47.708030Z",
     "shell.execute_reply": "2023-10-15T05:36:47.707320Z"
    },
    "papermill": {
     "duration": 0.043022,
     "end_time": "2023-10-15T05:36:47.709878",
     "exception": false,
     "start_time": "2023-10-15T05:36:47.666856",
     "status": "completed"
    },
    "tags": []
   },
   "outputs": [],
   "source": [
    "a = [21.42, 'foobar', 3, 4, 'bark', False, 3.14159]"
   ]
  },
  {
   "cell_type": "markdown",
   "id": "c6fc574f",
   "metadata": {
    "papermill": {
     "duration": 0.033613,
     "end_time": "2023-10-15T05:36:47.777306",
     "exception": false,
     "start_time": "2023-10-15T05:36:47.743693",
     "status": "completed"
    },
    "tags": []
   },
   "source": [
    "Lists can even contain complex objects, like functions, classes, and modules, which you will learn about in upcoming sections:"
   ]
  },
  {
   "cell_type": "code",
   "execution_count": 11,
   "id": "91455330",
   "metadata": {
    "execution": {
     "iopub.execute_input": "2023-10-15T05:36:47.847318Z",
     "iopub.status.busy": "2023-10-15T05:36:47.846576Z",
     "iopub.status.idle": "2023-10-15T05:36:47.851627Z",
     "shell.execute_reply": "2023-10-15T05:36:47.850973Z"
    },
    "papermill": {
     "duration": 0.042341,
     "end_time": "2023-10-15T05:36:47.853312",
     "exception": false,
     "start_time": "2023-10-15T05:36:47.810971",
     "status": "completed"
    },
    "tags": []
   },
   "outputs": [
    {
     "data": {
      "text/plain": [
       "int"
      ]
     },
     "execution_count": 11,
     "metadata": {},
     "output_type": "execute_result"
    }
   ],
   "source": [
    "int"
   ]
  },
  {
   "cell_type": "code",
   "execution_count": 12,
   "id": "803793a3",
   "metadata": {
    "execution": {
     "iopub.execute_input": "2023-10-15T05:36:47.923401Z",
     "iopub.status.busy": "2023-10-15T05:36:47.922662Z",
     "iopub.status.idle": "2023-10-15T05:36:47.928225Z",
     "shell.execute_reply": "2023-10-15T05:36:47.927517Z"
    },
    "papermill": {
     "duration": 0.042745,
     "end_time": "2023-10-15T05:36:47.929936",
     "exception": false,
     "start_time": "2023-10-15T05:36:47.887191",
     "status": "completed"
    },
    "tags": []
   },
   "outputs": [
    {
     "data": {
      "text/plain": [
       "<function len(obj, /)>"
      ]
     },
     "execution_count": 12,
     "metadata": {},
     "output_type": "execute_result"
    }
   ],
   "source": [
    "len"
   ]
  },
  {
   "cell_type": "code",
   "execution_count": 13,
   "id": "42c721fe",
   "metadata": {
    "execution": {
     "iopub.execute_input": "2023-10-15T05:36:48.004701Z",
     "iopub.status.busy": "2023-10-15T05:36:48.003565Z",
     "iopub.status.idle": "2023-10-15T05:36:48.009007Z",
     "shell.execute_reply": "2023-10-15T05:36:48.008199Z"
    },
    "papermill": {
     "duration": 0.043988,
     "end_time": "2023-10-15T05:36:48.011066",
     "exception": false,
     "start_time": "2023-10-15T05:36:47.967078",
     "status": "completed"
    },
    "tags": []
   },
   "outputs": [],
   "source": [
    "def foo():\n",
    "    pass"
   ]
  },
  {
   "cell_type": "code",
   "execution_count": 14,
   "id": "e3b133c3",
   "metadata": {
    "execution": {
     "iopub.execute_input": "2023-10-15T05:36:48.083407Z",
     "iopub.status.busy": "2023-10-15T05:36:48.082695Z",
     "iopub.status.idle": "2023-10-15T05:36:48.089261Z",
     "shell.execute_reply": "2023-10-15T05:36:48.088176Z"
    },
    "papermill": {
     "duration": 0.045446,
     "end_time": "2023-10-15T05:36:48.091381",
     "exception": false,
     "start_time": "2023-10-15T05:36:48.045935",
     "status": "completed"
    },
    "tags": []
   },
   "outputs": [
    {
     "data": {
      "text/plain": [
       "<function __main__.foo()>"
      ]
     },
     "execution_count": 14,
     "metadata": {},
     "output_type": "execute_result"
    }
   ],
   "source": [
    "foo"
   ]
  },
  {
   "cell_type": "code",
   "execution_count": 15,
   "id": "8d05ee23",
   "metadata": {
    "execution": {
     "iopub.execute_input": "2023-10-15T05:36:48.162790Z",
     "iopub.status.busy": "2023-10-15T05:36:48.162086Z",
     "iopub.status.idle": "2023-10-15T05:36:48.168251Z",
     "shell.execute_reply": "2023-10-15T05:36:48.167320Z"
    },
    "papermill": {
     "duration": 0.043958,
     "end_time": "2023-10-15T05:36:48.170021",
     "exception": false,
     "start_time": "2023-10-15T05:36:48.126063",
     "status": "completed"
    },
    "tags": []
   },
   "outputs": [
    {
     "data": {
      "text/plain": [
       "<module 'math' from '/opt/conda/lib/python3.10/lib-dynload/math.cpython-310-x86_64-linux-gnu.so'>"
      ]
     },
     "execution_count": 15,
     "metadata": {},
     "output_type": "execute_result"
    }
   ],
   "source": [
    "import math\n",
    "math"
   ]
  },
  {
   "cell_type": "code",
   "execution_count": 16,
   "id": "691b1a31",
   "metadata": {
    "execution": {
     "iopub.execute_input": "2023-10-15T05:36:48.241295Z",
     "iopub.status.busy": "2023-10-15T05:36:48.240617Z",
     "iopub.status.idle": "2023-10-15T05:36:48.245186Z",
     "shell.execute_reply": "2023-10-15T05:36:48.244482Z"
    },
    "papermill": {
     "duration": 0.042135,
     "end_time": "2023-10-15T05:36:48.247009",
     "exception": false,
     "start_time": "2023-10-15T05:36:48.204874",
     "status": "completed"
    },
    "tags": []
   },
   "outputs": [],
   "source": [
    "a = [int, len, foo, math]"
   ]
  },
  {
   "cell_type": "code",
   "execution_count": 17,
   "id": "595cc71b",
   "metadata": {
    "execution": {
     "iopub.execute_input": "2023-10-15T05:36:48.318925Z",
     "iopub.status.busy": "2023-10-15T05:36:48.318277Z",
     "iopub.status.idle": "2023-10-15T05:36:48.325206Z",
     "shell.execute_reply": "2023-10-15T05:36:48.324236Z"
    },
    "papermill": {
     "duration": 0.045517,
     "end_time": "2023-10-15T05:36:48.327216",
     "exception": false,
     "start_time": "2023-10-15T05:36:48.281699",
     "status": "completed"
    },
    "tags": []
   },
   "outputs": [
    {
     "data": {
      "text/plain": [
       "[int,\n",
       " <function len(obj, /)>,\n",
       " <function __main__.foo()>,\n",
       " <module 'math' from '/opt/conda/lib/python3.10/lib-dynload/math.cpython-310-x86_64-linux-gnu.so'>]"
      ]
     },
     "execution_count": 17,
     "metadata": {},
     "output_type": "execute_result"
    }
   ],
   "source": [
    "a"
   ]
  },
  {
   "cell_type": "markdown",
   "id": "5853358e",
   "metadata": {
    "papermill": {
     "duration": 0.035632,
     "end_time": "2023-10-15T05:36:48.397715",
     "exception": false,
     "start_time": "2023-10-15T05:36:48.362083",
     "status": "completed"
    },
    "tags": []
   },
   "source": [
    "A list can contain any number of objects, from zero to as many as your computer’s memory will allow:"
   ]
  },
  {
   "cell_type": "code",
   "execution_count": 18,
   "id": "d5dcff64",
   "metadata": {
    "execution": {
     "iopub.execute_input": "2023-10-15T05:36:48.469466Z",
     "iopub.status.busy": "2023-10-15T05:36:48.469043Z",
     "iopub.status.idle": "2023-10-15T05:36:48.474690Z",
     "shell.execute_reply": "2023-10-15T05:36:48.473713Z"
    },
    "papermill": {
     "duration": 0.045026,
     "end_time": "2023-10-15T05:36:48.477012",
     "exception": false,
     "start_time": "2023-10-15T05:36:48.431986",
     "status": "completed"
    },
    "tags": []
   },
   "outputs": [
    {
     "data": {
      "text/plain": [
       "[]"
      ]
     },
     "execution_count": 18,
     "metadata": {},
     "output_type": "execute_result"
    }
   ],
   "source": [
    "a = []\n",
    "a"
   ]
  },
  {
   "cell_type": "code",
   "execution_count": 19,
   "id": "4ef778dc",
   "metadata": {
    "execution": {
     "iopub.execute_input": "2023-10-15T05:36:48.548797Z",
     "iopub.status.busy": "2023-10-15T05:36:48.548410Z",
     "iopub.status.idle": "2023-10-15T05:36:48.554365Z",
     "shell.execute_reply": "2023-10-15T05:36:48.553333Z"
    },
    "papermill": {
     "duration": 0.043885,
     "end_time": "2023-10-15T05:36:48.556195",
     "exception": false,
     "start_time": "2023-10-15T05:36:48.512310",
     "status": "completed"
    },
    "tags": []
   },
   "outputs": [
    {
     "data": {
      "text/plain": [
       "['foo']"
      ]
     },
     "execution_count": 19,
     "metadata": {},
     "output_type": "execute_result"
    }
   ],
   "source": [
    "a = [ 'foo' ]\n",
    "a"
   ]
  },
  {
   "cell_type": "code",
   "execution_count": 20,
   "id": "e2d417ce",
   "metadata": {
    "execution": {
     "iopub.execute_input": "2023-10-15T05:36:48.629765Z",
     "iopub.status.busy": "2023-10-15T05:36:48.628809Z",
     "iopub.status.idle": "2023-10-15T05:36:48.636831Z",
     "shell.execute_reply": "2023-10-15T05:36:48.635696Z"
    },
    "papermill": {
     "duration": 0.047,
     "end_time": "2023-10-15T05:36:48.638906",
     "exception": false,
     "start_time": "2023-10-15T05:36:48.591906",
     "status": "completed"
    },
    "tags": []
   },
   "outputs": [],
   "source": [
    "a = [0, 1, 2, 3, 4, 5, 6, 7, 8, 9, 10, 11, 12, 13, 14, 15, 16, 17, 18, 19, 20,\n",
    "21, 22, 23, 24, 25, 26, 27, 28, 29, 30, 31, 32, 33, 34, 35, 36, 37, 38, 39, 40,\n",
    "41, 42, 43, 44, 45, 46, 47, 48, 49, 50, 51, 52, 53, 54, 55, 56, 57, 58, 59, 60,\n",
    "61, 62, 63, 64, 65, 66, 67, 68, 69, 70, 71, 72, 73, 74, 75, 76, 77, 78, 79, 80,\n",
    "81, 82, 83, 84, 85, 86, 87, 88, 89, 90, 91, 92, 93, 94, 95, 96, 97, 98, 99, 100]"
   ]
  },
  {
   "cell_type": "markdown",
   "id": "945c94cf",
   "metadata": {
    "papermill": {
     "duration": 0.035718,
     "end_time": "2023-10-15T05:36:48.711228",
     "exception": false,
     "start_time": "2023-10-15T05:36:48.675510",
     "status": "completed"
    },
    "tags": []
   },
   "source": [
    "> A list with a single object is sometimes referred to as a singleton list."
   ]
  },
  {
   "cell_type": "markdown",
   "id": "30cbc805",
   "metadata": {
    "papermill": {
     "duration": 0.035149,
     "end_time": "2023-10-15T05:36:48.781503",
     "exception": false,
     "start_time": "2023-10-15T05:36:48.746354",
     "status": "completed"
    },
    "tags": []
   },
   "source": [
    "List objects needn’t be unique. A given object can appear in a list multiple times:\n",
    "\n"
   ]
  },
  {
   "cell_type": "code",
   "execution_count": 21,
   "id": "b3fe41a5",
   "metadata": {
    "execution": {
     "iopub.execute_input": "2023-10-15T05:36:48.854521Z",
     "iopub.status.busy": "2023-10-15T05:36:48.854066Z",
     "iopub.status.idle": "2023-10-15T05:36:48.858820Z",
     "shell.execute_reply": "2023-10-15T05:36:48.857664Z"
    },
    "papermill": {
     "duration": 0.044074,
     "end_time": "2023-10-15T05:36:48.860962",
     "exception": false,
     "start_time": "2023-10-15T05:36:48.816888",
     "status": "completed"
    },
    "tags": []
   },
   "outputs": [],
   "source": [
    "a = ['bark', 'meow', 'woof', 'bark', 'cheep', 'bark']"
   ]
  },
  {
   "cell_type": "markdown",
   "id": "25b75e9b",
   "metadata": {
    "papermill": {
     "duration": 0.035171,
     "end_time": "2023-10-15T05:36:48.931766",
     "exception": false,
     "start_time": "2023-10-15T05:36:48.896595",
     "status": "completed"
    },
    "tags": []
   },
   "source": [
    "<a class=\"anchor\" id=\"3._list_elements_can_be_accessed_by_index\"></a>\n",
    "### 3. List Elements Can Be Accessed by Index\n",
    "\n",
    "Individual elements in a list can be accessed using an index in square brackets. This is exactly analogous to accessing individual characters in a string. List indexing is zero-based as it is with strings."
   ]
  },
  {
   "cell_type": "markdown",
   "id": "140e4617",
   "metadata": {
    "papermill": {
     "duration": 0.035859,
     "end_time": "2023-10-15T05:36:49.003239",
     "exception": false,
     "start_time": "2023-10-15T05:36:48.967380",
     "status": "completed"
    },
    "tags": []
   },
   "source": [
    "Consider the following list:"
   ]
  },
  {
   "cell_type": "code",
   "execution_count": 22,
   "id": "075aa719",
   "metadata": {
    "execution": {
     "iopub.execute_input": "2023-10-15T05:36:49.076492Z",
     "iopub.status.busy": "2023-10-15T05:36:49.076054Z",
     "iopub.status.idle": "2023-10-15T05:36:49.080611Z",
     "shell.execute_reply": "2023-10-15T05:36:49.079425Z"
    },
    "papermill": {
     "duration": 0.044353,
     "end_time": "2023-10-15T05:36:49.082845",
     "exception": false,
     "start_time": "2023-10-15T05:36:49.038492",
     "status": "completed"
    },
    "tags": []
   },
   "outputs": [],
   "source": [
    "a = ['foo', 'bar', 'baz', 'qux', 'quux', 'corge']"
   ]
  },
  {
   "cell_type": "markdown",
   "id": "a3c33692",
   "metadata": {
    "papermill": {
     "duration": 0.035796,
     "end_time": "2023-10-15T05:36:49.155333",
     "exception": false,
     "start_time": "2023-10-15T05:36:49.119537",
     "status": "completed"
    },
    "tags": []
   },
   "source": []
  },
  {
   "cell_type": "markdown",
   "id": "7b928b54",
   "metadata": {
    "papermill": {
     "duration": 0.035361,
     "end_time": "2023-10-15T05:36:49.227420",
     "exception": false,
     "start_time": "2023-10-15T05:36:49.192059",
     "status": "completed"
    },
    "tags": []
   },
   "source": []
  },
  {
   "cell_type": "markdown",
   "id": "10a006fb",
   "metadata": {
    "papermill": {
     "duration": 0.035561,
     "end_time": "2023-10-15T05:36:49.299327",
     "exception": false,
     "start_time": "2023-10-15T05:36:49.263766",
     "status": "completed"
    },
    "tags": []
   },
   "source": [
    "Here is Python code to access some elements of a:"
   ]
  },
  {
   "cell_type": "code",
   "execution_count": 23,
   "id": "a08e2f19",
   "metadata": {
    "execution": {
     "iopub.execute_input": "2023-10-15T05:36:49.374447Z",
     "iopub.status.busy": "2023-10-15T05:36:49.374026Z",
     "iopub.status.idle": "2023-10-15T05:36:49.379989Z",
     "shell.execute_reply": "2023-10-15T05:36:49.378944Z"
    },
    "papermill": {
     "duration": 0.047376,
     "end_time": "2023-10-15T05:36:49.382288",
     "exception": false,
     "start_time": "2023-10-15T05:36:49.334912",
     "status": "completed"
    },
    "tags": []
   },
   "outputs": [
    {
     "data": {
      "text/plain": [
       "'foo'"
      ]
     },
     "execution_count": 23,
     "metadata": {},
     "output_type": "execute_result"
    }
   ],
   "source": [
    "a[0]"
   ]
  },
  {
   "cell_type": "code",
   "execution_count": 24,
   "id": "4f386523",
   "metadata": {
    "execution": {
     "iopub.execute_input": "2023-10-15T05:36:49.455605Z",
     "iopub.status.busy": "2023-10-15T05:36:49.455207Z",
     "iopub.status.idle": "2023-10-15T05:36:49.460724Z",
     "shell.execute_reply": "2023-10-15T05:36:49.459988Z"
    },
    "papermill": {
     "duration": 0.044502,
     "end_time": "2023-10-15T05:36:49.462488",
     "exception": false,
     "start_time": "2023-10-15T05:36:49.417986",
     "status": "completed"
    },
    "tags": []
   },
   "outputs": [
    {
     "data": {
      "text/plain": [
       "'baz'"
      ]
     },
     "execution_count": 24,
     "metadata": {},
     "output_type": "execute_result"
    }
   ],
   "source": [
    "a[2]"
   ]
  },
  {
   "cell_type": "code",
   "execution_count": 25,
   "id": "cdadd26c",
   "metadata": {
    "execution": {
     "iopub.execute_input": "2023-10-15T05:36:49.536534Z",
     "iopub.status.busy": "2023-10-15T05:36:49.536077Z",
     "iopub.status.idle": "2023-10-15T05:36:49.542879Z",
     "shell.execute_reply": "2023-10-15T05:36:49.541877Z"
    },
    "papermill": {
     "duration": 0.045838,
     "end_time": "2023-10-15T05:36:49.544997",
     "exception": false,
     "start_time": "2023-10-15T05:36:49.499159",
     "status": "completed"
    },
    "tags": []
   },
   "outputs": [
    {
     "data": {
      "text/plain": [
       "'corge'"
      ]
     },
     "execution_count": 25,
     "metadata": {},
     "output_type": "execute_result"
    }
   ],
   "source": [
    "a[5]"
   ]
  },
  {
   "cell_type": "markdown",
   "id": "5733c682",
   "metadata": {
    "papermill": {
     "duration": 0.036054,
     "end_time": "2023-10-15T05:36:49.616977",
     "exception": false,
     "start_time": "2023-10-15T05:36:49.580923",
     "status": "completed"
    },
    "tags": []
   },
   "source": [
    "Virtually everything about string indexing works similarly for lists. For example, a negative list index counts from the end of the list:"
   ]
  },
  {
   "cell_type": "markdown",
   "id": "5a0b608a",
   "metadata": {
    "papermill": {
     "duration": 0.036016,
     "end_time": "2023-10-15T05:36:49.691862",
     "exception": false,
     "start_time": "2023-10-15T05:36:49.655846",
     "status": "completed"
    },
    "tags": []
   },
   "source": []
  },
  {
   "cell_type": "code",
   "execution_count": 26,
   "id": "f240bc3f",
   "metadata": {
    "execution": {
     "iopub.execute_input": "2023-10-15T05:36:49.764777Z",
     "iopub.status.busy": "2023-10-15T05:36:49.764390Z",
     "iopub.status.idle": "2023-10-15T05:36:49.770558Z",
     "shell.execute_reply": "2023-10-15T05:36:49.769537Z"
    },
    "papermill": {
     "duration": 0.04513,
     "end_time": "2023-10-15T05:36:49.772494",
     "exception": false,
     "start_time": "2023-10-15T05:36:49.727364",
     "status": "completed"
    },
    "tags": []
   },
   "outputs": [
    {
     "data": {
      "text/plain": [
       "'corge'"
      ]
     },
     "execution_count": 26,
     "metadata": {},
     "output_type": "execute_result"
    }
   ],
   "source": [
    "a[-1]"
   ]
  },
  {
   "cell_type": "code",
   "execution_count": 27,
   "id": "593a8b66",
   "metadata": {
    "execution": {
     "iopub.execute_input": "2023-10-15T05:36:49.845535Z",
     "iopub.status.busy": "2023-10-15T05:36:49.845140Z",
     "iopub.status.idle": "2023-10-15T05:36:49.851482Z",
     "shell.execute_reply": "2023-10-15T05:36:49.850501Z"
    },
    "papermill": {
     "duration": 0.045305,
     "end_time": "2023-10-15T05:36:49.853373",
     "exception": false,
     "start_time": "2023-10-15T05:36:49.808068",
     "status": "completed"
    },
    "tags": []
   },
   "outputs": [
    {
     "data": {
      "text/plain": [
       "'quux'"
      ]
     },
     "execution_count": 27,
     "metadata": {},
     "output_type": "execute_result"
    }
   ],
   "source": [
    "a[-2]"
   ]
  },
  {
   "cell_type": "code",
   "execution_count": 28,
   "id": "3e3131e1",
   "metadata": {
    "execution": {
     "iopub.execute_input": "2023-10-15T05:36:49.927069Z",
     "iopub.status.busy": "2023-10-15T05:36:49.926667Z",
     "iopub.status.idle": "2023-10-15T05:36:49.932770Z",
     "shell.execute_reply": "2023-10-15T05:36:49.931755Z"
    },
    "papermill": {
     "duration": 0.045079,
     "end_time": "2023-10-15T05:36:49.934690",
     "exception": false,
     "start_time": "2023-10-15T05:36:49.889611",
     "status": "completed"
    },
    "tags": []
   },
   "outputs": [
    {
     "data": {
      "text/plain": [
       "'bar'"
      ]
     },
     "execution_count": 28,
     "metadata": {},
     "output_type": "execute_result"
    }
   ],
   "source": [
    "a[-5]"
   ]
  },
  {
   "cell_type": "markdown",
   "id": "aab6a851",
   "metadata": {
    "papermill": {
     "duration": 0.035482,
     "end_time": "2023-10-15T05:36:50.006333",
     "exception": false,
     "start_time": "2023-10-15T05:36:49.970851",
     "status": "completed"
    },
    "tags": []
   },
   "source": [
    "Slicing also works. If a is a list, the expression `a[m:n]` returns the portion of a from index `m` to, but not including, index `n`:"
   ]
  },
  {
   "cell_type": "code",
   "execution_count": 29,
   "id": "c8c73b6b",
   "metadata": {
    "execution": {
     "iopub.execute_input": "2023-10-15T05:36:50.079753Z",
     "iopub.status.busy": "2023-10-15T05:36:50.078916Z",
     "iopub.status.idle": "2023-10-15T05:36:50.083778Z",
     "shell.execute_reply": "2023-10-15T05:36:50.082679Z"
    },
    "papermill": {
     "duration": 0.044159,
     "end_time": "2023-10-15T05:36:50.085905",
     "exception": false,
     "start_time": "2023-10-15T05:36:50.041746",
     "status": "completed"
    },
    "tags": []
   },
   "outputs": [],
   "source": [
    "a = ['foo', 'bar', 'baz', 'qux', 'quux', 'corge']"
   ]
  },
  {
   "cell_type": "code",
   "execution_count": 30,
   "id": "955682cf",
   "metadata": {
    "execution": {
     "iopub.execute_input": "2023-10-15T05:36:50.160569Z",
     "iopub.status.busy": "2023-10-15T05:36:50.160122Z",
     "iopub.status.idle": "2023-10-15T05:36:50.166684Z",
     "shell.execute_reply": "2023-10-15T05:36:50.165591Z"
    },
    "papermill": {
     "duration": 0.046807,
     "end_time": "2023-10-15T05:36:50.168969",
     "exception": false,
     "start_time": "2023-10-15T05:36:50.122162",
     "status": "completed"
    },
    "tags": []
   },
   "outputs": [
    {
     "data": {
      "text/plain": [
       "['baz', 'qux', 'quux']"
      ]
     },
     "execution_count": 30,
     "metadata": {},
     "output_type": "execute_result"
    }
   ],
   "source": [
    "a[2:5]"
   ]
  },
  {
   "cell_type": "markdown",
   "id": "cbaee576",
   "metadata": {
    "papermill": {
     "duration": 0.036691,
     "end_time": "2023-10-15T05:36:50.242627",
     "exception": false,
     "start_time": "2023-10-15T05:36:50.205936",
     "status": "completed"
    },
    "tags": []
   },
   "source": [
    "Other features of string slicing work analogously for list slicing as well:\n",
    "\n",
    "- Both positive and negative indices can be specified:"
   ]
  },
  {
   "cell_type": "code",
   "execution_count": 31,
   "id": "1a38863e",
   "metadata": {
    "execution": {
     "iopub.execute_input": "2023-10-15T05:36:50.319652Z",
     "iopub.status.busy": "2023-10-15T05:36:50.319246Z",
     "iopub.status.idle": "2023-10-15T05:36:50.325197Z",
     "shell.execute_reply": "2023-10-15T05:36:50.324148Z"
    },
    "papermill": {
     "duration": 0.047205,
     "end_time": "2023-10-15T05:36:50.327257",
     "exception": false,
     "start_time": "2023-10-15T05:36:50.280052",
     "status": "completed"
    },
    "tags": []
   },
   "outputs": [
    {
     "data": {
      "text/plain": [
       "['bar', 'baz', 'qux']"
      ]
     },
     "execution_count": 31,
     "metadata": {},
     "output_type": "execute_result"
    }
   ],
   "source": [
    "a[-5:-2]"
   ]
  },
  {
   "cell_type": "code",
   "execution_count": 32,
   "id": "9348d161",
   "metadata": {
    "execution": {
     "iopub.execute_input": "2023-10-15T05:36:50.405327Z",
     "iopub.status.busy": "2023-10-15T05:36:50.404870Z",
     "iopub.status.idle": "2023-10-15T05:36:50.411742Z",
     "shell.execute_reply": "2023-10-15T05:36:50.410442Z"
    },
    "papermill": {
     "duration": 0.048118,
     "end_time": "2023-10-15T05:36:50.413839",
     "exception": false,
     "start_time": "2023-10-15T05:36:50.365721",
     "status": "completed"
    },
    "tags": []
   },
   "outputs": [
    {
     "data": {
      "text/plain": [
       "['bar', 'baz', 'qux']"
      ]
     },
     "execution_count": 32,
     "metadata": {},
     "output_type": "execute_result"
    }
   ],
   "source": [
    "a[1:4]"
   ]
  },
  {
   "cell_type": "code",
   "execution_count": 33,
   "id": "0d3cdb02",
   "metadata": {
    "execution": {
     "iopub.execute_input": "2023-10-15T05:36:50.493986Z",
     "iopub.status.busy": "2023-10-15T05:36:50.493233Z",
     "iopub.status.idle": "2023-10-15T05:36:50.500158Z",
     "shell.execute_reply": "2023-10-15T05:36:50.499330Z"
    },
    "papermill": {
     "duration": 0.05078,
     "end_time": "2023-10-15T05:36:50.501975",
     "exception": false,
     "start_time": "2023-10-15T05:36:50.451195",
     "status": "completed"
    },
    "tags": []
   },
   "outputs": [
    {
     "data": {
      "text/plain": [
       "True"
      ]
     },
     "execution_count": 33,
     "metadata": {},
     "output_type": "execute_result"
    }
   ],
   "source": [
    "a[-5:-2] == a[1:4]"
   ]
  },
  {
   "cell_type": "markdown",
   "id": "8c735ed6",
   "metadata": {
    "papermill": {
     "duration": 0.130843,
     "end_time": "2023-10-15T05:36:50.669420",
     "exception": false,
     "start_time": "2023-10-15T05:36:50.538577",
     "status": "completed"
    },
    "tags": []
   },
   "source": [
    "- Omitting the first index starts the slice at the beginning of the list, and omitting the second index extends the slice to the end of the list:"
   ]
  },
  {
   "cell_type": "code",
   "execution_count": 34,
   "id": "b1571800",
   "metadata": {
    "execution": {
     "iopub.execute_input": "2023-10-15T05:36:50.745317Z",
     "iopub.status.busy": "2023-10-15T05:36:50.744862Z",
     "iopub.status.idle": "2023-10-15T05:36:50.751945Z",
     "shell.execute_reply": "2023-10-15T05:36:50.751130Z"
    },
    "papermill": {
     "duration": 0.047497,
     "end_time": "2023-10-15T05:36:50.754003",
     "exception": false,
     "start_time": "2023-10-15T05:36:50.706506",
     "status": "completed"
    },
    "tags": []
   },
   "outputs": [
    {
     "data": {
      "text/plain": [
       "(['foo', 'bar', 'baz', 'qux'], ['foo', 'bar', 'baz', 'qux'])"
      ]
     },
     "execution_count": 34,
     "metadata": {},
     "output_type": "execute_result"
    }
   ],
   "source": [
    "a[:4], a[0:4]"
   ]
  },
  {
   "cell_type": "code",
   "execution_count": 35,
   "id": "4dfe0c46",
   "metadata": {
    "execution": {
     "iopub.execute_input": "2023-10-15T05:36:50.831505Z",
     "iopub.status.busy": "2023-10-15T05:36:50.830722Z",
     "iopub.status.idle": "2023-10-15T05:36:50.837506Z",
     "shell.execute_reply": "2023-10-15T05:36:50.836429Z"
    },
    "papermill": {
     "duration": 0.048045,
     "end_time": "2023-10-15T05:36:50.839926",
     "exception": false,
     "start_time": "2023-10-15T05:36:50.791881",
     "status": "completed"
    },
    "tags": []
   },
   "outputs": [
    {
     "data": {
      "text/plain": [
       "(['baz', 'qux', 'quux', 'corge'], ['baz', 'qux', 'quux', 'corge'])"
      ]
     },
     "execution_count": 35,
     "metadata": {},
     "output_type": "execute_result"
    }
   ],
   "source": [
    "a[2:], a[2:len(a)]"
   ]
  },
  {
   "cell_type": "code",
   "execution_count": 36,
   "id": "1db6abe4",
   "metadata": {
    "execution": {
     "iopub.execute_input": "2023-10-15T05:36:50.924866Z",
     "iopub.status.busy": "2023-10-15T05:36:50.923999Z",
     "iopub.status.idle": "2023-10-15T05:36:50.930229Z",
     "shell.execute_reply": "2023-10-15T05:36:50.929386Z"
    },
    "papermill": {
     "duration": 0.052085,
     "end_time": "2023-10-15T05:36:50.931944",
     "exception": false,
     "start_time": "2023-10-15T05:36:50.879859",
     "status": "completed"
    },
    "tags": []
   },
   "outputs": [
    {
     "data": {
      "text/plain": [
       "['foo', 'bar', 'baz', 'qux', 'quux', 'corge']"
      ]
     },
     "execution_count": 36,
     "metadata": {},
     "output_type": "execute_result"
    }
   ],
   "source": [
    "a[:4] + a[4:]"
   ]
  },
  {
   "cell_type": "code",
   "execution_count": 37,
   "id": "df58c76b",
   "metadata": {
    "execution": {
     "iopub.execute_input": "2023-10-15T05:36:51.010735Z",
     "iopub.status.busy": "2023-10-15T05:36:51.009872Z",
     "iopub.status.idle": "2023-10-15T05:36:51.015770Z",
     "shell.execute_reply": "2023-10-15T05:36:51.015060Z"
    },
    "papermill": {
     "duration": 0.047081,
     "end_time": "2023-10-15T05:36:51.017584",
     "exception": false,
     "start_time": "2023-10-15T05:36:50.970503",
     "status": "completed"
    },
    "tags": []
   },
   "outputs": [
    {
     "data": {
      "text/plain": [
       "True"
      ]
     },
     "execution_count": 37,
     "metadata": {},
     "output_type": "execute_result"
    }
   ],
   "source": [
    "a[:4] + a[4:] == a"
   ]
  },
  {
   "cell_type": "markdown",
   "id": "e7786eef",
   "metadata": {
    "papermill": {
     "duration": 0.038356,
     "end_time": "2023-10-15T05:36:51.093750",
     "exception": false,
     "start_time": "2023-10-15T05:36:51.055394",
     "status": "completed"
    },
    "tags": []
   },
   "source": [
    "- You can specify a stride—either positive or negative:"
   ]
  },
  {
   "cell_type": "code",
   "execution_count": 38,
   "id": "8827ae44",
   "metadata": {
    "execution": {
     "iopub.execute_input": "2023-10-15T05:36:51.171029Z",
     "iopub.status.busy": "2023-10-15T05:36:51.170273Z",
     "iopub.status.idle": "2023-10-15T05:36:51.176011Z",
     "shell.execute_reply": "2023-10-15T05:36:51.175061Z"
    },
    "papermill": {
     "duration": 0.046347,
     "end_time": "2023-10-15T05:36:51.177867",
     "exception": false,
     "start_time": "2023-10-15T05:36:51.131520",
     "status": "completed"
    },
    "tags": []
   },
   "outputs": [
    {
     "data": {
      "text/plain": [
       "['foo', 'baz', 'quux']"
      ]
     },
     "execution_count": 38,
     "metadata": {},
     "output_type": "execute_result"
    }
   ],
   "source": [
    "a[0:6:2]"
   ]
  },
  {
   "cell_type": "code",
   "execution_count": 39,
   "id": "70ab2574",
   "metadata": {
    "execution": {
     "iopub.execute_input": "2023-10-15T05:36:51.257177Z",
     "iopub.status.busy": "2023-10-15T05:36:51.256770Z",
     "iopub.status.idle": "2023-10-15T05:36:51.263574Z",
     "shell.execute_reply": "2023-10-15T05:36:51.262162Z"
    },
    "papermill": {
     "duration": 0.050776,
     "end_time": "2023-10-15T05:36:51.266008",
     "exception": false,
     "start_time": "2023-10-15T05:36:51.215232",
     "status": "completed"
    },
    "tags": []
   },
   "outputs": [
    {
     "data": {
      "text/plain": [
       "['bar', 'qux', 'corge']"
      ]
     },
     "execution_count": 39,
     "metadata": {},
     "output_type": "execute_result"
    }
   ],
   "source": [
    "a[1:6:2]"
   ]
  },
  {
   "cell_type": "code",
   "execution_count": 40,
   "id": "97f6bdd3",
   "metadata": {
    "execution": {
     "iopub.execute_input": "2023-10-15T05:36:51.349395Z",
     "iopub.status.busy": "2023-10-15T05:36:51.348787Z",
     "iopub.status.idle": "2023-10-15T05:36:51.354803Z",
     "shell.execute_reply": "2023-10-15T05:36:51.354037Z"
    },
    "papermill": {
     "duration": 0.047687,
     "end_time": "2023-10-15T05:36:51.356840",
     "exception": false,
     "start_time": "2023-10-15T05:36:51.309153",
     "status": "completed"
    },
    "tags": []
   },
   "outputs": [
    {
     "data": {
      "text/plain": [
       "['corge', 'qux', 'bar']"
      ]
     },
     "execution_count": 40,
     "metadata": {},
     "output_type": "execute_result"
    }
   ],
   "source": [
    "a[6:0:-2]"
   ]
  },
  {
   "cell_type": "markdown",
   "id": "a531fae6",
   "metadata": {
    "papermill": {
     "duration": 0.037881,
     "end_time": "2023-10-15T05:36:51.434134",
     "exception": false,
     "start_time": "2023-10-15T05:36:51.396253",
     "status": "completed"
    },
    "tags": []
   },
   "source": [
    "- The syntax for reversing a list works the same way it does for strings:"
   ]
  },
  {
   "cell_type": "code",
   "execution_count": 41,
   "id": "33bf9e6a",
   "metadata": {
    "execution": {
     "iopub.execute_input": "2023-10-15T05:36:51.511935Z",
     "iopub.status.busy": "2023-10-15T05:36:51.511509Z",
     "iopub.status.idle": "2023-10-15T05:36:51.517276Z",
     "shell.execute_reply": "2023-10-15T05:36:51.516539Z"
    },
    "papermill": {
     "duration": 0.046741,
     "end_time": "2023-10-15T05:36:51.518939",
     "exception": false,
     "start_time": "2023-10-15T05:36:51.472198",
     "status": "completed"
    },
    "tags": []
   },
   "outputs": [
    {
     "data": {
      "text/plain": [
       "['corge', 'quux', 'qux', 'baz', 'bar', 'foo']"
      ]
     },
     "execution_count": 41,
     "metadata": {},
     "output_type": "execute_result"
    }
   ],
   "source": [
    "a[::-1]"
   ]
  },
  {
   "cell_type": "markdown",
   "id": "ea3c9a21",
   "metadata": {
    "papermill": {
     "duration": 0.038007,
     "end_time": "2023-10-15T05:36:51.594557",
     "exception": false,
     "start_time": "2023-10-15T05:36:51.556550",
     "status": "completed"
    },
    "tags": []
   },
   "source": [
    "The `[:]` syntax works for lists. However, there is an important difference between how this operation works with a list and how it works with a string."
   ]
  },
  {
   "cell_type": "code",
   "execution_count": 42,
   "id": "7e07da6b",
   "metadata": {
    "execution": {
     "iopub.execute_input": "2023-10-15T05:36:51.700801Z",
     "iopub.status.busy": "2023-10-15T05:36:51.700026Z",
     "iopub.status.idle": "2023-10-15T05:36:51.703994Z",
     "shell.execute_reply": "2023-10-15T05:36:51.703314Z"
    },
    "papermill": {
     "duration": 0.051501,
     "end_time": "2023-10-15T05:36:51.706105",
     "exception": false,
     "start_time": "2023-10-15T05:36:51.654604",
     "status": "completed"
    },
    "tags": []
   },
   "outputs": [],
   "source": [
    "s = 'foobar'"
   ]
  },
  {
   "cell_type": "code",
   "execution_count": 43,
   "id": "2fdd88b6",
   "metadata": {
    "execution": {
     "iopub.execute_input": "2023-10-15T05:36:51.802495Z",
     "iopub.status.busy": "2023-10-15T05:36:51.801364Z",
     "iopub.status.idle": "2023-10-15T05:36:51.808493Z",
     "shell.execute_reply": "2023-10-15T05:36:51.807388Z"
    },
    "papermill": {
     "duration": 0.068005,
     "end_time": "2023-10-15T05:36:51.811572",
     "exception": false,
     "start_time": "2023-10-15T05:36:51.743567",
     "status": "completed"
    },
    "tags": []
   },
   "outputs": [
    {
     "data": {
      "text/plain": [
       "'foobar'"
      ]
     },
     "execution_count": 43,
     "metadata": {},
     "output_type": "execute_result"
    }
   ],
   "source": [
    "s[:]"
   ]
  },
  {
   "cell_type": "code",
   "execution_count": 44,
   "id": "925a5652",
   "metadata": {
    "execution": {
     "iopub.execute_input": "2023-10-15T05:36:51.923512Z",
     "iopub.status.busy": "2023-10-15T05:36:51.923055Z",
     "iopub.status.idle": "2023-10-15T05:36:51.929576Z",
     "shell.execute_reply": "2023-10-15T05:36:51.928498Z"
    },
    "papermill": {
     "duration": 0.069471,
     "end_time": "2023-10-15T05:36:51.931433",
     "exception": false,
     "start_time": "2023-10-15T05:36:51.861962",
     "status": "completed"
    },
    "tags": []
   },
   "outputs": [
    {
     "data": {
      "text/plain": [
       "True"
      ]
     },
     "execution_count": 44,
     "metadata": {},
     "output_type": "execute_result"
    }
   ],
   "source": [
    "s[:] is s"
   ]
  },
  {
   "cell_type": "markdown",
   "id": "8bb2d9ad",
   "metadata": {
    "papermill": {
     "duration": 0.038493,
     "end_time": "2023-10-15T05:36:52.008564",
     "exception": false,
     "start_time": "2023-10-15T05:36:51.970071",
     "status": "completed"
    },
    "tags": []
   },
   "source": [
    "Conversely, if a is a list, `a[:]` returns a new object that is a copy of `a`:"
   ]
  },
  {
   "cell_type": "code",
   "execution_count": 45,
   "id": "95f1788a",
   "metadata": {
    "execution": {
     "iopub.execute_input": "2023-10-15T05:36:52.106627Z",
     "iopub.status.busy": "2023-10-15T05:36:52.106201Z",
     "iopub.status.idle": "2023-10-15T05:36:52.111797Z",
     "shell.execute_reply": "2023-10-15T05:36:52.110776Z"
    },
    "papermill": {
     "duration": 0.056931,
     "end_time": "2023-10-15T05:36:52.114001",
     "exception": false,
     "start_time": "2023-10-15T05:36:52.057070",
     "status": "completed"
    },
    "tags": []
   },
   "outputs": [],
   "source": [
    "a = ['foo', 'bar', 'baz', 'qux', 'quux', 'corge']"
   ]
  },
  {
   "cell_type": "code",
   "execution_count": 46,
   "id": "992530aa",
   "metadata": {
    "execution": {
     "iopub.execute_input": "2023-10-15T05:36:52.193940Z",
     "iopub.status.busy": "2023-10-15T05:36:52.193493Z",
     "iopub.status.idle": "2023-10-15T05:36:52.199668Z",
     "shell.execute_reply": "2023-10-15T05:36:52.198894Z"
    },
    "papermill": {
     "duration": 0.047996,
     "end_time": "2023-10-15T05:36:52.201386",
     "exception": false,
     "start_time": "2023-10-15T05:36:52.153390",
     "status": "completed"
    },
    "tags": []
   },
   "outputs": [
    {
     "data": {
      "text/plain": [
       "['foo', 'bar', 'baz', 'qux', 'quux', 'corge']"
      ]
     },
     "execution_count": 46,
     "metadata": {},
     "output_type": "execute_result"
    }
   ],
   "source": [
    "a[:]"
   ]
  },
  {
   "cell_type": "code",
   "execution_count": 47,
   "id": "94a2ecc0",
   "metadata": {
    "execution": {
     "iopub.execute_input": "2023-10-15T05:36:52.280995Z",
     "iopub.status.busy": "2023-10-15T05:36:52.280597Z",
     "iopub.status.idle": "2023-10-15T05:36:52.286553Z",
     "shell.execute_reply": "2023-10-15T05:36:52.285516Z"
    },
    "papermill": {
     "duration": 0.048945,
     "end_time": "2023-10-15T05:36:52.288743",
     "exception": false,
     "start_time": "2023-10-15T05:36:52.239798",
     "status": "completed"
    },
    "tags": []
   },
   "outputs": [
    {
     "data": {
      "text/plain": [
       "False"
      ]
     },
     "execution_count": 47,
     "metadata": {},
     "output_type": "execute_result"
    }
   ],
   "source": [
    "a[:] is a"
   ]
  },
  {
   "cell_type": "markdown",
   "id": "df7910ba",
   "metadata": {
    "papermill": {
     "duration": 0.038358,
     "end_time": "2023-10-15T05:36:52.365530",
     "exception": false,
     "start_time": "2023-10-15T05:36:52.327172",
     "status": "completed"
    },
    "tags": []
   },
   "source": [
    "Several Python operators and built-in functions can also be used with lists in ways that are analogous to strings:"
   ]
  },
  {
   "cell_type": "markdown",
   "id": "1bc3cbb5",
   "metadata": {
    "papermill": {
     "duration": 0.037813,
     "end_time": "2023-10-15T05:36:52.441237",
     "exception": false,
     "start_time": "2023-10-15T05:36:52.403424",
     "status": "completed"
    },
    "tags": []
   },
   "source": [
    "- The `in` and `not in` operators:"
   ]
  },
  {
   "cell_type": "code",
   "execution_count": 48,
   "id": "eba8ff00",
   "metadata": {
    "execution": {
     "iopub.execute_input": "2023-10-15T05:36:52.521589Z",
     "iopub.status.busy": "2023-10-15T05:36:52.520518Z",
     "iopub.status.idle": "2023-10-15T05:36:52.525990Z",
     "shell.execute_reply": "2023-10-15T05:36:52.525310Z"
    },
    "papermill": {
     "duration": 0.048189,
     "end_time": "2023-10-15T05:36:52.527780",
     "exception": false,
     "start_time": "2023-10-15T05:36:52.479591",
     "status": "completed"
    },
    "tags": []
   },
   "outputs": [
    {
     "data": {
      "text/plain": [
       "True"
      ]
     },
     "execution_count": 48,
     "metadata": {},
     "output_type": "execute_result"
    }
   ],
   "source": [
    "'qux' in a"
   ]
  },
  {
   "cell_type": "code",
   "execution_count": 49,
   "id": "6af9c34e",
   "metadata": {
    "execution": {
     "iopub.execute_input": "2023-10-15T05:36:52.608667Z",
     "iopub.status.busy": "2023-10-15T05:36:52.607796Z",
     "iopub.status.idle": "2023-10-15T05:36:52.614621Z",
     "shell.execute_reply": "2023-10-15T05:36:52.613873Z"
    },
    "papermill": {
     "duration": 0.048606,
     "end_time": "2023-10-15T05:36:52.616389",
     "exception": false,
     "start_time": "2023-10-15T05:36:52.567783",
     "status": "completed"
    },
    "tags": []
   },
   "outputs": [
    {
     "data": {
      "text/plain": [
       "True"
      ]
     },
     "execution_count": 49,
     "metadata": {},
     "output_type": "execute_result"
    }
   ],
   "source": [
    "'thud' not in a"
   ]
  },
  {
   "cell_type": "markdown",
   "id": "5762430b",
   "metadata": {
    "papermill": {
     "duration": 0.038734,
     "end_time": "2023-10-15T05:36:52.695013",
     "exception": false,
     "start_time": "2023-10-15T05:36:52.656279",
     "status": "completed"
    },
    "tags": []
   },
   "source": [
    "- The concatenation (`+`) and replication (`*`) operators:"
   ]
  },
  {
   "cell_type": "code",
   "execution_count": 50,
   "id": "c8606084",
   "metadata": {
    "execution": {
     "iopub.execute_input": "2023-10-15T05:36:52.774910Z",
     "iopub.status.busy": "2023-10-15T05:36:52.774005Z",
     "iopub.status.idle": "2023-10-15T05:36:52.780226Z",
     "shell.execute_reply": "2023-10-15T05:36:52.779279Z"
    },
    "papermill": {
     "duration": 0.048424,
     "end_time": "2023-10-15T05:36:52.782036",
     "exception": false,
     "start_time": "2023-10-15T05:36:52.733612",
     "status": "completed"
    },
    "tags": []
   },
   "outputs": [
    {
     "data": {
      "text/plain": [
       "['foo', 'bar', 'baz', 'qux', 'quux', 'corge']"
      ]
     },
     "execution_count": 50,
     "metadata": {},
     "output_type": "execute_result"
    }
   ],
   "source": [
    "a"
   ]
  },
  {
   "cell_type": "code",
   "execution_count": 51,
   "id": "5dc7cf74",
   "metadata": {
    "execution": {
     "iopub.execute_input": "2023-10-15T05:36:52.866460Z",
     "iopub.status.busy": "2023-10-15T05:36:52.865030Z",
     "iopub.status.idle": "2023-10-15T05:36:52.873238Z",
     "shell.execute_reply": "2023-10-15T05:36:52.871811Z"
    },
    "papermill": {
     "duration": 0.053521,
     "end_time": "2023-10-15T05:36:52.875493",
     "exception": false,
     "start_time": "2023-10-15T05:36:52.821972",
     "status": "completed"
    },
    "tags": []
   },
   "outputs": [
    {
     "data": {
      "text/plain": [
       "['foo', 'bar', 'baz', 'qux', 'quux', 'corge', 'grault', 'garply']"
      ]
     },
     "execution_count": 51,
     "metadata": {},
     "output_type": "execute_result"
    }
   ],
   "source": [
    "a + ['grault', 'garply']"
   ]
  },
  {
   "cell_type": "code",
   "execution_count": 52,
   "id": "ac095737",
   "metadata": {
    "execution": {
     "iopub.execute_input": "2023-10-15T05:36:52.955764Z",
     "iopub.status.busy": "2023-10-15T05:36:52.954768Z",
     "iopub.status.idle": "2023-10-15T05:36:52.960853Z",
     "shell.execute_reply": "2023-10-15T05:36:52.960164Z"
    },
    "papermill": {
     "duration": 0.048147,
     "end_time": "2023-10-15T05:36:52.962665",
     "exception": false,
     "start_time": "2023-10-15T05:36:52.914518",
     "status": "completed"
    },
    "tags": []
   },
   "outputs": [
    {
     "data": {
      "text/plain": [
       "['foo',\n",
       " 'bar',\n",
       " 'baz',\n",
       " 'qux',\n",
       " 'quux',\n",
       " 'corge',\n",
       " 'foo',\n",
       " 'bar',\n",
       " 'baz',\n",
       " 'qux',\n",
       " 'quux',\n",
       " 'corge']"
      ]
     },
     "execution_count": 52,
     "metadata": {},
     "output_type": "execute_result"
    }
   ],
   "source": [
    "a * 2"
   ]
  },
  {
   "cell_type": "markdown",
   "id": "619c3abc",
   "metadata": {
    "papermill": {
     "duration": 0.038843,
     "end_time": "2023-10-15T05:36:53.040588",
     "exception": false,
     "start_time": "2023-10-15T05:36:53.001745",
     "status": "completed"
    },
    "tags": []
   },
   "source": [
    "- The `len()`, `min()`, and `max(`) functions:"
   ]
  },
  {
   "cell_type": "code",
   "execution_count": 53,
   "id": "08f548bd",
   "metadata": {
    "execution": {
     "iopub.execute_input": "2023-10-15T05:36:53.123136Z",
     "iopub.status.busy": "2023-10-15T05:36:53.122334Z",
     "iopub.status.idle": "2023-10-15T05:36:53.129980Z",
     "shell.execute_reply": "2023-10-15T05:36:53.128688Z"
    },
    "papermill": {
     "duration": 0.053225,
     "end_time": "2023-10-15T05:36:53.132627",
     "exception": false,
     "start_time": "2023-10-15T05:36:53.079402",
     "status": "completed"
    },
    "tags": []
   },
   "outputs": [
    {
     "data": {
      "text/plain": [
       "['foo', 'bar', 'baz', 'qux', 'quux', 'corge']"
      ]
     },
     "execution_count": 53,
     "metadata": {},
     "output_type": "execute_result"
    }
   ],
   "source": [
    "a"
   ]
  },
  {
   "cell_type": "code",
   "execution_count": 54,
   "id": "5304b750",
   "metadata": {
    "execution": {
     "iopub.execute_input": "2023-10-15T05:36:53.214210Z",
     "iopub.status.busy": "2023-10-15T05:36:53.213477Z",
     "iopub.status.idle": "2023-10-15T05:36:53.218893Z",
     "shell.execute_reply": "2023-10-15T05:36:53.218234Z"
    },
    "papermill": {
     "duration": 0.048355,
     "end_time": "2023-10-15T05:36:53.220569",
     "exception": false,
     "start_time": "2023-10-15T05:36:53.172214",
     "status": "completed"
    },
    "tags": []
   },
   "outputs": [
    {
     "data": {
      "text/plain": [
       "6"
      ]
     },
     "execution_count": 54,
     "metadata": {},
     "output_type": "execute_result"
    }
   ],
   "source": [
    "len(a)"
   ]
  },
  {
   "cell_type": "code",
   "execution_count": 55,
   "id": "3bca6713",
   "metadata": {
    "execution": {
     "iopub.execute_input": "2023-10-15T05:36:53.302243Z",
     "iopub.status.busy": "2023-10-15T05:36:53.301807Z",
     "iopub.status.idle": "2023-10-15T05:36:53.308182Z",
     "shell.execute_reply": "2023-10-15T05:36:53.307122Z"
    },
    "papermill": {
     "duration": 0.050299,
     "end_time": "2023-10-15T05:36:53.310233",
     "exception": false,
     "start_time": "2023-10-15T05:36:53.259934",
     "status": "completed"
    },
    "tags": []
   },
   "outputs": [
    {
     "data": {
      "text/plain": [
       "'bar'"
      ]
     },
     "execution_count": 55,
     "metadata": {},
     "output_type": "execute_result"
    }
   ],
   "source": [
    "min(a)"
   ]
  },
  {
   "cell_type": "code",
   "execution_count": 56,
   "id": "62dfa2e2",
   "metadata": {
    "execution": {
     "iopub.execute_input": "2023-10-15T05:36:53.391733Z",
     "iopub.status.busy": "2023-10-15T05:36:53.391039Z",
     "iopub.status.idle": "2023-10-15T05:36:53.396863Z",
     "shell.execute_reply": "2023-10-15T05:36:53.395864Z"
    },
    "papermill": {
     "duration": 0.048905,
     "end_time": "2023-10-15T05:36:53.398864",
     "exception": false,
     "start_time": "2023-10-15T05:36:53.349959",
     "status": "completed"
    },
    "tags": []
   },
   "outputs": [
    {
     "data": {
      "text/plain": [
       "'qux'"
      ]
     },
     "execution_count": 56,
     "metadata": {},
     "output_type": "execute_result"
    }
   ],
   "source": [
    "max(a)"
   ]
  },
  {
   "cell_type": "markdown",
   "id": "db46b57a",
   "metadata": {
    "papermill": {
     "duration": 0.039753,
     "end_time": "2023-10-15T05:36:53.478201",
     "exception": false,
     "start_time": "2023-10-15T05:36:53.438448",
     "status": "completed"
    },
    "tags": []
   },
   "source": [
    "It’s not an accident that strings and lists behave so similarly. They are both special cases of a more general object type called an iterable, which you will encounter in more detail in the upcoming tutorial on definite iteration."
   ]
  },
  {
   "cell_type": "markdown",
   "id": "9117cd7f",
   "metadata": {
    "papermill": {
     "duration": 0.039127,
     "end_time": "2023-10-15T05:36:53.557386",
     "exception": false,
     "start_time": "2023-10-15T05:36:53.518259",
     "status": "completed"
    },
    "tags": []
   },
   "source": [
    "By the way, in each example above, the list is always assigned to a variable before an operation is performed on it. But you can operate on a list literal as well:"
   ]
  },
  {
   "cell_type": "code",
   "execution_count": 57,
   "id": "7d8362ae",
   "metadata": {
    "execution": {
     "iopub.execute_input": "2023-10-15T05:36:53.639016Z",
     "iopub.status.busy": "2023-10-15T05:36:53.638330Z",
     "iopub.status.idle": "2023-10-15T05:36:53.644480Z",
     "shell.execute_reply": "2023-10-15T05:36:53.643486Z"
    },
    "papermill": {
     "duration": 0.049611,
     "end_time": "2023-10-15T05:36:53.646683",
     "exception": false,
     "start_time": "2023-10-15T05:36:53.597072",
     "status": "completed"
    },
    "tags": []
   },
   "outputs": [
    {
     "data": {
      "text/plain": [
       "'baz'"
      ]
     },
     "execution_count": 57,
     "metadata": {},
     "output_type": "execute_result"
    }
   ],
   "source": [
    "['foo', 'bar', 'baz', 'qux', 'quux', 'corge'][2]"
   ]
  },
  {
   "cell_type": "code",
   "execution_count": 58,
   "id": "bb12d474",
   "metadata": {
    "execution": {
     "iopub.execute_input": "2023-10-15T05:36:53.736357Z",
     "iopub.status.busy": "2023-10-15T05:36:53.735626Z",
     "iopub.status.idle": "2023-10-15T05:36:53.741458Z",
     "shell.execute_reply": "2023-10-15T05:36:53.740676Z"
    },
    "papermill": {
     "duration": 0.050385,
     "end_time": "2023-10-15T05:36:53.743298",
     "exception": false,
     "start_time": "2023-10-15T05:36:53.692913",
     "status": "completed"
    },
    "tags": []
   },
   "outputs": [
    {
     "data": {
      "text/plain": [
       "['corge', 'quux', 'qux', 'baz', 'bar', 'foo']"
      ]
     },
     "execution_count": 58,
     "metadata": {},
     "output_type": "execute_result"
    }
   ],
   "source": [
    "['foo', 'bar', 'baz', 'qux', 'quux', 'corge'][::-1]"
   ]
  },
  {
   "cell_type": "code",
   "execution_count": 59,
   "id": "15227f6e",
   "metadata": {
    "execution": {
     "iopub.execute_input": "2023-10-15T05:36:53.828730Z",
     "iopub.status.busy": "2023-10-15T05:36:53.828017Z",
     "iopub.status.idle": "2023-10-15T05:36:53.833388Z",
     "shell.execute_reply": "2023-10-15T05:36:53.832671Z"
    },
    "papermill": {
     "duration": 0.049398,
     "end_time": "2023-10-15T05:36:53.835088",
     "exception": false,
     "start_time": "2023-10-15T05:36:53.785690",
     "status": "completed"
    },
    "tags": []
   },
   "outputs": [
    {
     "data": {
      "text/plain": [
       "True"
      ]
     },
     "execution_count": 59,
     "metadata": {},
     "output_type": "execute_result"
    }
   ],
   "source": [
    "'quux' in ['foo', 'bar', 'baz', 'qux', 'quux', 'corge']"
   ]
  },
  {
   "cell_type": "code",
   "execution_count": 60,
   "id": "4f554677",
   "metadata": {
    "execution": {
     "iopub.execute_input": "2023-10-15T05:36:53.919431Z",
     "iopub.status.busy": "2023-10-15T05:36:53.918718Z",
     "iopub.status.idle": "2023-10-15T05:36:53.924032Z",
     "shell.execute_reply": "2023-10-15T05:36:53.923374Z"
    },
    "papermill": {
     "duration": 0.04994,
     "end_time": "2023-10-15T05:36:53.925761",
     "exception": false,
     "start_time": "2023-10-15T05:36:53.875821",
     "status": "completed"
    },
    "tags": []
   },
   "outputs": [
    {
     "data": {
      "text/plain": [
       "['foo', 'bar', 'baz', 'qux', 'quux', 'corge']"
      ]
     },
     "execution_count": 60,
     "metadata": {},
     "output_type": "execute_result"
    }
   ],
   "source": [
    "['foo', 'bar', 'baz'] + ['qux', 'quux', 'corge']"
   ]
  },
  {
   "cell_type": "code",
   "execution_count": 61,
   "id": "ef0eb5f1",
   "metadata": {
    "execution": {
     "iopub.execute_input": "2023-10-15T05:36:54.011213Z",
     "iopub.status.busy": "2023-10-15T05:36:54.010497Z",
     "iopub.status.idle": "2023-10-15T05:36:54.016267Z",
     "shell.execute_reply": "2023-10-15T05:36:54.015218Z"
    },
    "papermill": {
     "duration": 0.050715,
     "end_time": "2023-10-15T05:36:54.018241",
     "exception": false,
     "start_time": "2023-10-15T05:36:53.967526",
     "status": "completed"
    },
    "tags": []
   },
   "outputs": [
    {
     "data": {
      "text/plain": [
       "6"
      ]
     },
     "execution_count": 61,
     "metadata": {},
     "output_type": "execute_result"
    }
   ],
   "source": [
    "len(['foo', 'bar', 'baz', 'qux', 'quux', 'corge'][::-1])"
   ]
  },
  {
   "cell_type": "markdown",
   "id": "c0ebe46b",
   "metadata": {
    "papermill": {
     "duration": 0.039956,
     "end_time": "2023-10-15T05:36:54.098948",
     "exception": false,
     "start_time": "2023-10-15T05:36:54.058992",
     "status": "completed"
    },
    "tags": []
   },
   "source": [
    "For that matter, you can do likewise with a string literal:"
   ]
  },
  {
   "cell_type": "code",
   "execution_count": 62,
   "id": "5833ab10",
   "metadata": {
    "execution": {
     "iopub.execute_input": "2023-10-15T05:36:54.184353Z",
     "iopub.status.busy": "2023-10-15T05:36:54.183906Z",
     "iopub.status.idle": "2023-10-15T05:36:54.190278Z",
     "shell.execute_reply": "2023-10-15T05:36:54.189152Z"
    },
    "papermill": {
     "duration": 0.053188,
     "end_time": "2023-10-15T05:36:54.192141",
     "exception": false,
     "start_time": "2023-10-15T05:36:54.138953",
     "status": "completed"
    },
    "tags": []
   },
   "outputs": [
    {
     "data": {
      "text/plain": [
       "'.thgir eb tsum ti ,ti syas noelopaN edarmoC fI'"
      ]
     },
     "execution_count": 62,
     "metadata": {},
     "output_type": "execute_result"
    }
   ],
   "source": [
    "'If Comrade Napoleon says it, it must be right.'[::-1]"
   ]
  },
  {
   "cell_type": "markdown",
   "id": "e531b471",
   "metadata": {
    "papermill": {
     "duration": 0.040192,
     "end_time": "2023-10-15T05:36:54.272552",
     "exception": false,
     "start_time": "2023-10-15T05:36:54.232360",
     "status": "completed"
    },
    "tags": []
   },
   "source": [
    "<a class=\"anchor\" id=\"4._lists_can_be_nested\"></a>\n",
    "### 4. Lists Can Be Nested\n",
    "\n",
    "You have seen that an element in a list can be any sort of object. That includes another list. A list can contain sublists, which in turn can contain sublists themselves, and so on to arbitrary depth."
   ]
  },
  {
   "cell_type": "markdown",
   "id": "b3ab55fa",
   "metadata": {
    "papermill": {
     "duration": 0.040121,
     "end_time": "2023-10-15T05:36:54.356204",
     "exception": false,
     "start_time": "2023-10-15T05:36:54.316083",
     "status": "completed"
    },
    "tags": []
   },
   "source": [
    "Consider this (admittedly contrived) example:"
   ]
  },
  {
   "cell_type": "code",
   "execution_count": 63,
   "id": "3d2c3fa0",
   "metadata": {
    "execution": {
     "iopub.execute_input": "2023-10-15T05:36:54.440658Z",
     "iopub.status.busy": "2023-10-15T05:36:54.439416Z",
     "iopub.status.idle": "2023-10-15T05:36:54.444104Z",
     "shell.execute_reply": "2023-10-15T05:36:54.443430Z"
    },
    "papermill": {
     "duration": 0.049446,
     "end_time": "2023-10-15T05:36:54.445861",
     "exception": false,
     "start_time": "2023-10-15T05:36:54.396415",
     "status": "completed"
    },
    "tags": []
   },
   "outputs": [],
   "source": [
    "x = ['a', ['bb', ['ccc', 'ddd'], 'ee', 'ff'], 'g', ['hh', 'ii'], 'j']"
   ]
  },
  {
   "cell_type": "markdown",
   "id": "61f2bde5",
   "metadata": {
    "papermill": {
     "duration": 0.040236,
     "end_time": "2023-10-15T05:36:54.526311",
     "exception": false,
     "start_time": "2023-10-15T05:36:54.486075",
     "status": "completed"
    },
    "tags": []
   },
   "source": [
    "The object structure that x references is diagrammed below:"
   ]
  },
  {
   "cell_type": "markdown",
   "id": "7edef4e2",
   "metadata": {
    "papermill": {
     "duration": 0.040041,
     "end_time": "2023-10-15T05:36:54.607073",
     "exception": false,
     "start_time": "2023-10-15T05:36:54.567032",
     "status": "completed"
    },
    "tags": []
   },
   "source": []
  },
  {
   "cell_type": "markdown",
   "id": "2f3faf7a",
   "metadata": {
    "papermill": {
     "duration": 0.042512,
     "end_time": "2023-10-15T05:36:54.689792",
     "exception": false,
     "start_time": "2023-10-15T05:36:54.647280",
     "status": "completed"
    },
    "tags": []
   },
   "source": [
    "`x[0]`, `x[2]`, and `x[4]` are strings, each one character long:"
   ]
  },
  {
   "cell_type": "code",
   "execution_count": 64,
   "id": "07b15638",
   "metadata": {
    "execution": {
     "iopub.execute_input": "2023-10-15T05:36:54.772553Z",
     "iopub.status.busy": "2023-10-15T05:36:54.772078Z",
     "iopub.status.idle": "2023-10-15T05:36:54.778471Z",
     "shell.execute_reply": "2023-10-15T05:36:54.777535Z"
    },
    "papermill": {
     "duration": 0.050722,
     "end_time": "2023-10-15T05:36:54.780578",
     "exception": false,
     "start_time": "2023-10-15T05:36:54.729856",
     "status": "completed"
    },
    "tags": []
   },
   "outputs": [
    {
     "data": {
      "text/plain": [
       "('a', 'g', 'j')"
      ]
     },
     "execution_count": 64,
     "metadata": {},
     "output_type": "execute_result"
    }
   ],
   "source": [
    "x[0], x[2], x[4]"
   ]
  },
  {
   "cell_type": "markdown",
   "id": "1858a892",
   "metadata": {
    "papermill": {
     "duration": 0.03988,
     "end_time": "2023-10-15T05:36:54.860940",
     "exception": false,
     "start_time": "2023-10-15T05:36:54.821060",
     "status": "completed"
    },
    "tags": []
   },
   "source": [
    "But `x[1]` and `x[3]` are sublists:"
   ]
  },
  {
   "cell_type": "code",
   "execution_count": 65,
   "id": "0d002e50",
   "metadata": {
    "execution": {
     "iopub.execute_input": "2023-10-15T05:36:54.943474Z",
     "iopub.status.busy": "2023-10-15T05:36:54.943036Z",
     "iopub.status.idle": "2023-10-15T05:36:54.950183Z",
     "shell.execute_reply": "2023-10-15T05:36:54.949077Z"
    },
    "papermill": {
     "duration": 0.050748,
     "end_time": "2023-10-15T05:36:54.952266",
     "exception": false,
     "start_time": "2023-10-15T05:36:54.901518",
     "status": "completed"
    },
    "tags": []
   },
   "outputs": [
    {
     "data": {
      "text/plain": [
       "['bb', ['ccc', 'ddd'], 'ee', 'ff']"
      ]
     },
     "execution_count": 65,
     "metadata": {},
     "output_type": "execute_result"
    }
   ],
   "source": [
    "x[1]"
   ]
  },
  {
   "cell_type": "code",
   "execution_count": 66,
   "id": "86022cb2",
   "metadata": {
    "execution": {
     "iopub.execute_input": "2023-10-15T05:36:55.043263Z",
     "iopub.status.busy": "2023-10-15T05:36:55.042572Z",
     "iopub.status.idle": "2023-10-15T05:36:55.048467Z",
     "shell.execute_reply": "2023-10-15T05:36:55.047465Z"
    },
    "papermill": {
     "duration": 0.051912,
     "end_time": "2023-10-15T05:36:55.050443",
     "exception": false,
     "start_time": "2023-10-15T05:36:54.998531",
     "status": "completed"
    },
    "tags": []
   },
   "outputs": [
    {
     "data": {
      "text/plain": [
       "['hh', 'ii']"
      ]
     },
     "execution_count": 66,
     "metadata": {},
     "output_type": "execute_result"
    }
   ],
   "source": [
    "x[3]"
   ]
  },
  {
   "cell_type": "markdown",
   "id": "83fcecdb",
   "metadata": {
    "papermill": {
     "duration": 0.039958,
     "end_time": "2023-10-15T05:36:55.131285",
     "exception": false,
     "start_time": "2023-10-15T05:36:55.091327",
     "status": "completed"
    },
    "tags": []
   },
   "source": [
    "To access the items in a sublist, simply append an additional index:"
   ]
  },
  {
   "cell_type": "code",
   "execution_count": 67,
   "id": "a0a8fc07",
   "metadata": {
    "execution": {
     "iopub.execute_input": "2023-10-15T05:36:55.213976Z",
     "iopub.status.busy": "2023-10-15T05:36:55.213224Z",
     "iopub.status.idle": "2023-10-15T05:36:55.220482Z",
     "shell.execute_reply": "2023-10-15T05:36:55.219551Z"
    },
    "papermill": {
     "duration": 0.049938,
     "end_time": "2023-10-15T05:36:55.222246",
     "exception": false,
     "start_time": "2023-10-15T05:36:55.172308",
     "status": "completed"
    },
    "tags": []
   },
   "outputs": [
    {
     "data": {
      "text/plain": [
       "['bb', ['ccc', 'ddd'], 'ee', 'ff']"
      ]
     },
     "execution_count": 67,
     "metadata": {},
     "output_type": "execute_result"
    }
   ],
   "source": [
    "x[1]"
   ]
  },
  {
   "cell_type": "code",
   "execution_count": 68,
   "id": "750d543e",
   "metadata": {
    "execution": {
     "iopub.execute_input": "2023-10-15T05:36:55.398345Z",
     "iopub.status.busy": "2023-10-15T05:36:55.397920Z",
     "iopub.status.idle": "2023-10-15T05:36:55.403244Z",
     "shell.execute_reply": "2023-10-15T05:36:55.402490Z"
    },
    "papermill": {
     "duration": 0.141728,
     "end_time": "2023-10-15T05:36:55.404929",
     "exception": false,
     "start_time": "2023-10-15T05:36:55.263201",
     "status": "completed"
    },
    "tags": []
   },
   "outputs": [
    {
     "data": {
      "text/plain": [
       "'bb'"
      ]
     },
     "execution_count": 68,
     "metadata": {},
     "output_type": "execute_result"
    }
   ],
   "source": [
    "x[1][0]"
   ]
  },
  {
   "cell_type": "code",
   "execution_count": 69,
   "id": "1de4eb4d",
   "metadata": {
    "execution": {
     "iopub.execute_input": "2023-10-15T05:36:55.489200Z",
     "iopub.status.busy": "2023-10-15T05:36:55.488530Z",
     "iopub.status.idle": "2023-10-15T05:36:55.495531Z",
     "shell.execute_reply": "2023-10-15T05:36:55.494420Z"
    },
    "papermill": {
     "duration": 0.051836,
     "end_time": "2023-10-15T05:36:55.497844",
     "exception": false,
     "start_time": "2023-10-15T05:36:55.446008",
     "status": "completed"
    },
    "tags": []
   },
   "outputs": [
    {
     "data": {
      "text/plain": [
       "['ccc', 'ddd']"
      ]
     },
     "execution_count": 69,
     "metadata": {},
     "output_type": "execute_result"
    }
   ],
   "source": [
    "x[1][1]"
   ]
  },
  {
   "cell_type": "code",
   "execution_count": 70,
   "id": "d90da7d4",
   "metadata": {
    "execution": {
     "iopub.execute_input": "2023-10-15T05:36:55.581959Z",
     "iopub.status.busy": "2023-10-15T05:36:55.581558Z",
     "iopub.status.idle": "2023-10-15T05:36:55.587759Z",
     "shell.execute_reply": "2023-10-15T05:36:55.586782Z"
    },
    "papermill": {
     "duration": 0.050653,
     "end_time": "2023-10-15T05:36:55.589662",
     "exception": false,
     "start_time": "2023-10-15T05:36:55.539009",
     "status": "completed"
    },
    "tags": []
   },
   "outputs": [
    {
     "data": {
      "text/plain": [
       "'ee'"
      ]
     },
     "execution_count": 70,
     "metadata": {},
     "output_type": "execute_result"
    }
   ],
   "source": [
    "x[1][2]"
   ]
  },
  {
   "cell_type": "code",
   "execution_count": 71,
   "id": "2da8f7fb",
   "metadata": {
    "execution": {
     "iopub.execute_input": "2023-10-15T05:36:55.676913Z",
     "iopub.status.busy": "2023-10-15T05:36:55.676498Z",
     "iopub.status.idle": "2023-10-15T05:36:55.683302Z",
     "shell.execute_reply": "2023-10-15T05:36:55.682183Z"
    },
    "papermill": {
     "duration": 0.054213,
     "end_time": "2023-10-15T05:36:55.685231",
     "exception": false,
     "start_time": "2023-10-15T05:36:55.631018",
     "status": "completed"
    },
    "tags": []
   },
   "outputs": [
    {
     "data": {
      "text/plain": [
       "'ff'"
      ]
     },
     "execution_count": 71,
     "metadata": {},
     "output_type": "execute_result"
    }
   ],
   "source": [
    "x[1][3]"
   ]
  },
  {
   "cell_type": "code",
   "execution_count": 72,
   "id": "70130f3b",
   "metadata": {
    "execution": {
     "iopub.execute_input": "2023-10-15T05:36:55.772867Z",
     "iopub.status.busy": "2023-10-15T05:36:55.771792Z",
     "iopub.status.idle": "2023-10-15T05:36:55.778325Z",
     "shell.execute_reply": "2023-10-15T05:36:55.777305Z"
    },
    "papermill": {
     "duration": 0.052228,
     "end_time": "2023-10-15T05:36:55.780273",
     "exception": false,
     "start_time": "2023-10-15T05:36:55.728045",
     "status": "completed"
    },
    "tags": []
   },
   "outputs": [
    {
     "data": {
      "text/plain": [
       "['hh', 'ii']"
      ]
     },
     "execution_count": 72,
     "metadata": {},
     "output_type": "execute_result"
    }
   ],
   "source": [
    "x[3]"
   ]
  },
  {
   "cell_type": "markdown",
   "id": "f02e0830",
   "metadata": {
    "papermill": {
     "duration": 0.04071,
     "end_time": "2023-10-15T05:36:55.862860",
     "exception": false,
     "start_time": "2023-10-15T05:36:55.822150",
     "status": "completed"
    },
    "tags": []
   },
   "source": [
    "`x[1][1]` is yet another sublist, so adding one more index accesses its elements:"
   ]
  },
  {
   "cell_type": "code",
   "execution_count": 73,
   "id": "9473464d",
   "metadata": {
    "execution": {
     "iopub.execute_input": "2023-10-15T05:36:55.947516Z",
     "iopub.status.busy": "2023-10-15T05:36:55.947066Z",
     "iopub.status.idle": "2023-10-15T05:36:55.953288Z",
     "shell.execute_reply": "2023-10-15T05:36:55.952227Z"
    },
    "papermill": {
     "duration": 0.051058,
     "end_time": "2023-10-15T05:36:55.955400",
     "exception": false,
     "start_time": "2023-10-15T05:36:55.904342",
     "status": "completed"
    },
    "tags": []
   },
   "outputs": [
    {
     "data": {
      "text/plain": [
       "['ccc', 'ddd']"
      ]
     },
     "execution_count": 73,
     "metadata": {},
     "output_type": "execute_result"
    }
   ],
   "source": [
    "x[1][1]"
   ]
  },
  {
   "cell_type": "code",
   "execution_count": 74,
   "id": "5e2dfa80",
   "metadata": {
    "execution": {
     "iopub.execute_input": "2023-10-15T05:36:56.041701Z",
     "iopub.status.busy": "2023-10-15T05:36:56.041282Z",
     "iopub.status.idle": "2023-10-15T05:36:56.047864Z",
     "shell.execute_reply": "2023-10-15T05:36:56.046734Z"
    },
    "papermill": {
     "duration": 0.051823,
     "end_time": "2023-10-15T05:36:56.050060",
     "exception": false,
     "start_time": "2023-10-15T05:36:55.998237",
     "status": "completed"
    },
    "tags": []
   },
   "outputs": [
    {
     "data": {
      "text/plain": [
       "'ccc'"
      ]
     },
     "execution_count": 74,
     "metadata": {},
     "output_type": "execute_result"
    }
   ],
   "source": [
    "x[1][1][0]"
   ]
  },
  {
   "cell_type": "code",
   "execution_count": 75,
   "id": "210792f7",
   "metadata": {
    "execution": {
     "iopub.execute_input": "2023-10-15T05:36:56.137296Z",
     "iopub.status.busy": "2023-10-15T05:36:56.136429Z",
     "iopub.status.idle": "2023-10-15T05:36:56.143041Z",
     "shell.execute_reply": "2023-10-15T05:36:56.141935Z"
    },
    "papermill": {
     "duration": 0.051807,
     "end_time": "2023-10-15T05:36:56.145066",
     "exception": false,
     "start_time": "2023-10-15T05:36:56.093259",
     "status": "completed"
    },
    "tags": []
   },
   "outputs": [
    {
     "data": {
      "text/plain": [
       "'ddd'"
      ]
     },
     "execution_count": 75,
     "metadata": {},
     "output_type": "execute_result"
    }
   ],
   "source": [
    "x[1][1][1]"
   ]
  },
  {
   "cell_type": "markdown",
   "id": "28f16985",
   "metadata": {
    "papermill": {
     "duration": 0.041491,
     "end_time": "2023-10-15T05:36:56.228860",
     "exception": false,
     "start_time": "2023-10-15T05:36:56.187369",
     "status": "completed"
    },
    "tags": []
   },
   "source": [
    "There is no limit, short of the extent of your computer’s memory, to the depth or complexity with which lists can be nested in this way."
   ]
  },
  {
   "cell_type": "markdown",
   "id": "84e2a9dc",
   "metadata": {
    "papermill": {
     "duration": 0.046341,
     "end_time": "2023-10-15T05:36:56.320267",
     "exception": false,
     "start_time": "2023-10-15T05:36:56.273926",
     "status": "completed"
    },
    "tags": []
   },
   "source": [
    "All the usual syntax regarding indices and slicing applies to sublists as well:"
   ]
  },
  {
   "cell_type": "code",
   "execution_count": 76,
   "id": "1237a3da",
   "metadata": {
    "execution": {
     "iopub.execute_input": "2023-10-15T05:36:56.407084Z",
     "iopub.status.busy": "2023-10-15T05:36:56.406337Z",
     "iopub.status.idle": "2023-10-15T05:36:56.411758Z",
     "shell.execute_reply": "2023-10-15T05:36:56.411108Z"
    },
    "papermill": {
     "duration": 0.051656,
     "end_time": "2023-10-15T05:36:56.413531",
     "exception": false,
     "start_time": "2023-10-15T05:36:56.361875",
     "status": "completed"
    },
    "tags": []
   },
   "outputs": [
    {
     "data": {
      "text/plain": [
       "'ddd'"
      ]
     },
     "execution_count": 76,
     "metadata": {},
     "output_type": "execute_result"
    }
   ],
   "source": [
    "x[1][1][-1]"
   ]
  },
  {
   "cell_type": "code",
   "execution_count": 77,
   "id": "bc45eefe",
   "metadata": {
    "execution": {
     "iopub.execute_input": "2023-10-15T05:36:56.502403Z",
     "iopub.status.busy": "2023-10-15T05:36:56.501772Z",
     "iopub.status.idle": "2023-10-15T05:36:56.508923Z",
     "shell.execute_reply": "2023-10-15T05:36:56.508167Z"
    },
    "papermill": {
     "duration": 0.053141,
     "end_time": "2023-10-15T05:36:56.510714",
     "exception": false,
     "start_time": "2023-10-15T05:36:56.457573",
     "status": "completed"
    },
    "tags": []
   },
   "outputs": [
    {
     "data": {
      "text/plain": [
       "[['ccc', 'ddd'], 'ee']"
      ]
     },
     "execution_count": 77,
     "metadata": {},
     "output_type": "execute_result"
    }
   ],
   "source": [
    "x[1][1:3]"
   ]
  },
  {
   "cell_type": "code",
   "execution_count": 78,
   "id": "f6288cd8",
   "metadata": {
    "execution": {
     "iopub.execute_input": "2023-10-15T05:36:56.599531Z",
     "iopub.status.busy": "2023-10-15T05:36:56.598619Z",
     "iopub.status.idle": "2023-10-15T05:36:56.606308Z",
     "shell.execute_reply": "2023-10-15T05:36:56.605248Z"
    },
    "papermill": {
     "duration": 0.053841,
     "end_time": "2023-10-15T05:36:56.608152",
     "exception": false,
     "start_time": "2023-10-15T05:36:56.554311",
     "status": "completed"
    },
    "tags": []
   },
   "outputs": [
    {
     "data": {
      "text/plain": [
       "['ii', 'hh']"
      ]
     },
     "execution_count": 78,
     "metadata": {},
     "output_type": "execute_result"
    }
   ],
   "source": [
    "x[3][::-1]"
   ]
  },
  {
   "cell_type": "markdown",
   "id": "fdf23c5b",
   "metadata": {
    "papermill": {
     "duration": 0.044029,
     "end_time": "2023-10-15T05:36:56.695205",
     "exception": false,
     "start_time": "2023-10-15T05:36:56.651176",
     "status": "completed"
    },
    "tags": []
   },
   "source": [
    "However, be aware that operators and functions apply to only the list at the level you specify and are not recursive. Consider what happens when you query the length of `x` using `len()`:"
   ]
  },
  {
   "cell_type": "code",
   "execution_count": 79,
   "id": "2e591a5c",
   "metadata": {
    "execution": {
     "iopub.execute_input": "2023-10-15T05:36:56.785696Z",
     "iopub.status.busy": "2023-10-15T05:36:56.785022Z",
     "iopub.status.idle": "2023-10-15T05:36:56.791804Z",
     "shell.execute_reply": "2023-10-15T05:36:56.790860Z"
    },
    "papermill": {
     "duration": 0.055438,
     "end_time": "2023-10-15T05:36:56.793786",
     "exception": false,
     "start_time": "2023-10-15T05:36:56.738348",
     "status": "completed"
    },
    "tags": []
   },
   "outputs": [
    {
     "data": {
      "text/plain": [
       "['a', ['bb', ['ccc', 'ddd'], 'ee', 'ff'], 'g', ['hh', 'ii'], 'j']"
      ]
     },
     "execution_count": 79,
     "metadata": {},
     "output_type": "execute_result"
    }
   ],
   "source": [
    "x"
   ]
  },
  {
   "cell_type": "code",
   "execution_count": 80,
   "id": "8a83d40f",
   "metadata": {
    "execution": {
     "iopub.execute_input": "2023-10-15T05:36:56.882287Z",
     "iopub.status.busy": "2023-10-15T05:36:56.881838Z",
     "iopub.status.idle": "2023-10-15T05:36:56.887985Z",
     "shell.execute_reply": "2023-10-15T05:36:56.886984Z"
    },
    "papermill": {
     "duration": 0.052811,
     "end_time": "2023-10-15T05:36:56.890173",
     "exception": false,
     "start_time": "2023-10-15T05:36:56.837362",
     "status": "completed"
    },
    "tags": []
   },
   "outputs": [
    {
     "data": {
      "text/plain": [
       "5"
      ]
     },
     "execution_count": 80,
     "metadata": {},
     "output_type": "execute_result"
    }
   ],
   "source": [
    "len(x)"
   ]
  },
  {
   "cell_type": "code",
   "execution_count": 81,
   "id": "ea42ab5a",
   "metadata": {
    "execution": {
     "iopub.execute_input": "2023-10-15T05:36:56.978298Z",
     "iopub.status.busy": "2023-10-15T05:36:56.977827Z",
     "iopub.status.idle": "2023-10-15T05:36:56.984390Z",
     "shell.execute_reply": "2023-10-15T05:36:56.983349Z"
    },
    "papermill": {
     "duration": 0.052954,
     "end_time": "2023-10-15T05:36:56.986342",
     "exception": false,
     "start_time": "2023-10-15T05:36:56.933388",
     "status": "completed"
    },
    "tags": []
   },
   "outputs": [
    {
     "data": {
      "text/plain": [
       "'a'"
      ]
     },
     "execution_count": 81,
     "metadata": {},
     "output_type": "execute_result"
    }
   ],
   "source": [
    "x[0]"
   ]
  },
  {
   "cell_type": "code",
   "execution_count": 82,
   "id": "948d7ad7",
   "metadata": {
    "execution": {
     "iopub.execute_input": "2023-10-15T05:36:57.075196Z",
     "iopub.status.busy": "2023-10-15T05:36:57.074725Z",
     "iopub.status.idle": "2023-10-15T05:36:57.081470Z",
     "shell.execute_reply": "2023-10-15T05:36:57.080414Z"
    },
    "papermill": {
     "duration": 0.053013,
     "end_time": "2023-10-15T05:36:57.083392",
     "exception": false,
     "start_time": "2023-10-15T05:36:57.030379",
     "status": "completed"
    },
    "tags": []
   },
   "outputs": [
    {
     "data": {
      "text/plain": [
       "['bb', ['ccc', 'ddd'], 'ee', 'ff']"
      ]
     },
     "execution_count": 82,
     "metadata": {},
     "output_type": "execute_result"
    }
   ],
   "source": [
    "x[1]"
   ]
  },
  {
   "cell_type": "code",
   "execution_count": 83,
   "id": "745a711d",
   "metadata": {
    "execution": {
     "iopub.execute_input": "2023-10-15T05:36:57.172483Z",
     "iopub.status.busy": "2023-10-15T05:36:57.172080Z",
     "iopub.status.idle": "2023-10-15T05:36:57.178207Z",
     "shell.execute_reply": "2023-10-15T05:36:57.177167Z"
    },
    "papermill": {
     "duration": 0.053466,
     "end_time": "2023-10-15T05:36:57.180333",
     "exception": false,
     "start_time": "2023-10-15T05:36:57.126867",
     "status": "completed"
    },
    "tags": []
   },
   "outputs": [
    {
     "data": {
      "text/plain": [
       "'g'"
      ]
     },
     "execution_count": 83,
     "metadata": {},
     "output_type": "execute_result"
    }
   ],
   "source": [
    "x[2]"
   ]
  },
  {
   "cell_type": "code",
   "execution_count": 84,
   "id": "9cb9aa8c",
   "metadata": {
    "execution": {
     "iopub.execute_input": "2023-10-15T05:36:57.268987Z",
     "iopub.status.busy": "2023-10-15T05:36:57.268422Z",
     "iopub.status.idle": "2023-10-15T05:36:57.275206Z",
     "shell.execute_reply": "2023-10-15T05:36:57.274083Z"
    },
    "papermill": {
     "duration": 0.053472,
     "end_time": "2023-10-15T05:36:57.277060",
     "exception": false,
     "start_time": "2023-10-15T05:36:57.223588",
     "status": "completed"
    },
    "tags": []
   },
   "outputs": [
    {
     "data": {
      "text/plain": [
       "['hh', 'ii']"
      ]
     },
     "execution_count": 84,
     "metadata": {},
     "output_type": "execute_result"
    }
   ],
   "source": [
    "x[3]"
   ]
  },
  {
   "cell_type": "code",
   "execution_count": 85,
   "id": "d6c8dbcb",
   "metadata": {
    "execution": {
     "iopub.execute_input": "2023-10-15T05:36:57.367509Z",
     "iopub.status.busy": "2023-10-15T05:36:57.367086Z",
     "iopub.status.idle": "2023-10-15T05:36:57.373615Z",
     "shell.execute_reply": "2023-10-15T05:36:57.372767Z"
    },
    "papermill": {
     "duration": 0.054582,
     "end_time": "2023-10-15T05:36:57.375454",
     "exception": false,
     "start_time": "2023-10-15T05:36:57.320872",
     "status": "completed"
    },
    "tags": []
   },
   "outputs": [
    {
     "data": {
      "text/plain": [
       "'j'"
      ]
     },
     "execution_count": 85,
     "metadata": {},
     "output_type": "execute_result"
    }
   ],
   "source": [
    "x[4]"
   ]
  },
  {
   "cell_type": "markdown",
   "id": "dabd742a",
   "metadata": {
    "papermill": {
     "duration": 0.046214,
     "end_time": "2023-10-15T05:36:57.469875",
     "exception": false,
     "start_time": "2023-10-15T05:36:57.423661",
     "status": "completed"
    },
    "tags": []
   },
   "source": [
    "`x` has only five elements—three strings and two sublists. The individual elements in the sublists don’t count toward `x`’s length."
   ]
  },
  {
   "cell_type": "markdown",
   "id": "26d034c9",
   "metadata": {
    "papermill": {
     "duration": 0.045297,
     "end_time": "2023-10-15T05:36:57.562846",
     "exception": false,
     "start_time": "2023-10-15T05:36:57.517549",
     "status": "completed"
    },
    "tags": []
   },
   "source": [
    "You’d encounter a similar situation when using the in operator:"
   ]
  },
  {
   "cell_type": "code",
   "execution_count": 86,
   "id": "e1030487",
   "metadata": {
    "execution": {
     "iopub.execute_input": "2023-10-15T05:36:57.659301Z",
     "iopub.status.busy": "2023-10-15T05:36:57.658794Z",
     "iopub.status.idle": "2023-10-15T05:36:57.667634Z",
     "shell.execute_reply": "2023-10-15T05:36:57.665967Z"
    },
    "papermill": {
     "duration": 0.060128,
     "end_time": "2023-10-15T05:36:57.670760",
     "exception": false,
     "start_time": "2023-10-15T05:36:57.610632",
     "status": "completed"
    },
    "tags": []
   },
   "outputs": [
    {
     "data": {
      "text/plain": [
       "False"
      ]
     },
     "execution_count": 86,
     "metadata": {},
     "output_type": "execute_result"
    }
   ],
   "source": [
    "'ddd' in x"
   ]
  },
  {
   "cell_type": "code",
   "execution_count": 87,
   "id": "4a35f15c",
   "metadata": {
    "execution": {
     "iopub.execute_input": "2023-10-15T05:36:57.767827Z",
     "iopub.status.busy": "2023-10-15T05:36:57.767423Z",
     "iopub.status.idle": "2023-10-15T05:36:57.775332Z",
     "shell.execute_reply": "2023-10-15T05:36:57.774102Z"
    },
    "papermill": {
     "duration": 0.058932,
     "end_time": "2023-10-15T05:36:57.777628",
     "exception": false,
     "start_time": "2023-10-15T05:36:57.718696",
     "status": "completed"
    },
    "tags": []
   },
   "outputs": [
    {
     "data": {
      "text/plain": [
       "False"
      ]
     },
     "execution_count": 87,
     "metadata": {},
     "output_type": "execute_result"
    }
   ],
   "source": [
    "'ddd' in x[1]"
   ]
  },
  {
   "cell_type": "code",
   "execution_count": 88,
   "id": "4ff07018",
   "metadata": {
    "execution": {
     "iopub.execute_input": "2023-10-15T05:36:57.868662Z",
     "iopub.status.busy": "2023-10-15T05:36:57.868228Z",
     "iopub.status.idle": "2023-10-15T05:36:57.875002Z",
     "shell.execute_reply": "2023-10-15T05:36:57.873975Z"
    },
    "papermill": {
     "duration": 0.053912,
     "end_time": "2023-10-15T05:36:57.877133",
     "exception": false,
     "start_time": "2023-10-15T05:36:57.823221",
     "status": "completed"
    },
    "tags": []
   },
   "outputs": [
    {
     "data": {
      "text/plain": [
       "True"
      ]
     },
     "execution_count": 88,
     "metadata": {},
     "output_type": "execute_result"
    }
   ],
   "source": [
    "'ddd' in x[1][1]"
   ]
  },
  {
   "cell_type": "markdown",
   "id": "aaaa2688",
   "metadata": {
    "papermill": {
     "duration": 0.043288,
     "end_time": "2023-10-15T05:36:58.055931",
     "exception": false,
     "start_time": "2023-10-15T05:36:58.012643",
     "status": "completed"
    },
    "tags": []
   },
   "source": [
    "`'ddd'` is not one of the elements in `x` or `x[1]`. It is only directly an element in the sublist `x[1][1]`. An individual element in a sublist does not count as an element of the parent `list(s)`."
   ]
  },
  {
   "cell_type": "markdown",
   "id": "c60e448a",
   "metadata": {
    "papermill": {
     "duration": 0.044139,
     "end_time": "2023-10-15T05:36:58.143825",
     "exception": false,
     "start_time": "2023-10-15T05:36:58.099686",
     "status": "completed"
    },
    "tags": []
   },
   "source": [
    "<a class=\"anchor\" id=\"5._lists_are_mutable\"></a>\n",
    "### 5. Lists Are Mutable\n",
    "Most of the data types you have encountered so far have been atomic types. Integer or float objects, for example, are primitive units that can’t be further broken down. These types are immutable, meaning that they can’t be changed once they have been assigned. It doesn’t make much sense to think of changing the value of an integer. If you want a different integer, you just assign a different one."
   ]
  },
  {
   "cell_type": "markdown",
   "id": "1802fc9e",
   "metadata": {
    "papermill": {
     "duration": 0.044068,
     "end_time": "2023-10-15T05:36:58.233374",
     "exception": false,
     "start_time": "2023-10-15T05:36:58.189306",
     "status": "completed"
    },
    "tags": []
   },
   "source": [
    "By contrast, the string type is a composite type. Strings are reducible to smaller parts—the component characters. It might make sense to think of changing the characters in a string. But you can’t. In Python, strings are also immutable."
   ]
  },
  {
   "cell_type": "markdown",
   "id": "5d4f2c2e",
   "metadata": {
    "papermill": {
     "duration": 0.044072,
     "end_time": "2023-10-15T05:36:58.322568",
     "exception": false,
     "start_time": "2023-10-15T05:36:58.278496",
     "status": "completed"
    },
    "tags": []
   },
   "source": [
    "The list is the first mutable data type you have encountered. Once a list has been created, elements can be added, deleted, shifted, and moved around at will. Python provides a wide range of ways to modify lists."
   ]
  },
  {
   "cell_type": "markdown",
   "id": "2f5e967a",
   "metadata": {
    "papermill": {
     "duration": 0.046959,
     "end_time": "2023-10-15T05:36:58.415038",
     "exception": false,
     "start_time": "2023-10-15T05:36:58.368079",
     "status": "completed"
    },
    "tags": []
   },
   "source": [
    "<a class=\"anchor\" id=\"modifying_a_single_list_value\"></a>\n",
    "#### Modifying a Single List Value\n",
    "A single value in a list can be replaced by indexing and simple assignment:"
   ]
  },
  {
   "cell_type": "code",
   "execution_count": 89,
   "id": "5e5e6f11",
   "metadata": {
    "execution": {
     "iopub.execute_input": "2023-10-15T05:36:58.507812Z",
     "iopub.status.busy": "2023-10-15T05:36:58.507382Z",
     "iopub.status.idle": "2023-10-15T05:36:58.512519Z",
     "shell.execute_reply": "2023-10-15T05:36:58.511517Z"
    },
    "papermill": {
     "duration": 0.053521,
     "end_time": "2023-10-15T05:36:58.514559",
     "exception": false,
     "start_time": "2023-10-15T05:36:58.461038",
     "status": "completed"
    },
    "tags": []
   },
   "outputs": [],
   "source": [
    "a = ['foo', 'bar', 'baz', 'qux', 'quux', 'corge']"
   ]
  },
  {
   "cell_type": "code",
   "execution_count": 90,
   "id": "a76836f0",
   "metadata": {
    "execution": {
     "iopub.execute_input": "2023-10-15T05:36:58.607720Z",
     "iopub.status.busy": "2023-10-15T05:36:58.607306Z",
     "iopub.status.idle": "2023-10-15T05:36:58.613304Z",
     "shell.execute_reply": "2023-10-15T05:36:58.612309Z"
    },
    "papermill": {
     "duration": 0.054709,
     "end_time": "2023-10-15T05:36:58.615003",
     "exception": false,
     "start_time": "2023-10-15T05:36:58.560294",
     "status": "completed"
    },
    "tags": []
   },
   "outputs": [
    {
     "data": {
      "text/plain": [
       "['foo', 'bar', 'baz', 'qux', 'quux', 'corge']"
      ]
     },
     "execution_count": 90,
     "metadata": {},
     "output_type": "execute_result"
    }
   ],
   "source": [
    "a"
   ]
  },
  {
   "cell_type": "code",
   "execution_count": 91,
   "id": "3a21acd4",
   "metadata": {
    "execution": {
     "iopub.execute_input": "2023-10-15T05:36:58.708068Z",
     "iopub.status.busy": "2023-10-15T05:36:58.707680Z",
     "iopub.status.idle": "2023-10-15T05:36:58.711972Z",
     "shell.execute_reply": "2023-10-15T05:36:58.711156Z"
    },
    "papermill": {
     "duration": 0.054496,
     "end_time": "2023-10-15T05:36:58.713876",
     "exception": false,
     "start_time": "2023-10-15T05:36:58.659380",
     "status": "completed"
    },
    "tags": []
   },
   "outputs": [],
   "source": [
    "a[2] = 10"
   ]
  },
  {
   "cell_type": "code",
   "execution_count": 92,
   "id": "a0bed27e",
   "metadata": {
    "execution": {
     "iopub.execute_input": "2023-10-15T05:36:58.805058Z",
     "iopub.status.busy": "2023-10-15T05:36:58.804630Z",
     "iopub.status.idle": "2023-10-15T05:36:58.809471Z",
     "shell.execute_reply": "2023-10-15T05:36:58.808399Z"
    },
    "papermill": {
     "duration": 0.053399,
     "end_time": "2023-10-15T05:36:58.811627",
     "exception": false,
     "start_time": "2023-10-15T05:36:58.758228",
     "status": "completed"
    },
    "tags": []
   },
   "outputs": [],
   "source": [
    "a[-1] = 20"
   ]
  },
  {
   "cell_type": "code",
   "execution_count": 93,
   "id": "78f0609e",
   "metadata": {
    "execution": {
     "iopub.execute_input": "2023-10-15T05:36:58.902193Z",
     "iopub.status.busy": "2023-10-15T05:36:58.901742Z",
     "iopub.status.idle": "2023-10-15T05:36:58.908420Z",
     "shell.execute_reply": "2023-10-15T05:36:58.907593Z"
    },
    "papermill": {
     "duration": 0.05406,
     "end_time": "2023-10-15T05:36:58.910204",
     "exception": false,
     "start_time": "2023-10-15T05:36:58.856144",
     "status": "completed"
    },
    "tags": []
   },
   "outputs": [
    {
     "data": {
      "text/plain": [
       "['foo', 'bar', 10, 'qux', 'quux', 20]"
      ]
     },
     "execution_count": 93,
     "metadata": {},
     "output_type": "execute_result"
    }
   ],
   "source": [
    "a"
   ]
  },
  {
   "cell_type": "markdown",
   "id": "e07646cc",
   "metadata": {
    "papermill": {
     "duration": 0.044046,
     "end_time": "2023-10-15T05:36:58.998634",
     "exception": false,
     "start_time": "2023-10-15T05:36:58.954588",
     "status": "completed"
    },
    "tags": []
   },
   "source": [
    "You may recall from the section on Strings and Character Data in Python that you can’t do this with a string:"
   ]
  },
  {
   "cell_type": "code",
   "execution_count": 94,
   "id": "db96efca",
   "metadata": {
    "execution": {
     "iopub.execute_input": "2023-10-15T05:36:59.088192Z",
     "iopub.status.busy": "2023-10-15T05:36:59.087775Z",
     "iopub.status.idle": "2023-10-15T05:36:59.092195Z",
     "shell.execute_reply": "2023-10-15T05:36:59.091159Z"
    },
    "papermill": {
     "duration": 0.05152,
     "end_time": "2023-10-15T05:36:59.094057",
     "exception": false,
     "start_time": "2023-10-15T05:36:59.042537",
     "status": "completed"
    },
    "tags": []
   },
   "outputs": [],
   "source": [
    "s = 'foobarbaz'"
   ]
  },
  {
   "cell_type": "code",
   "execution_count": 95,
   "id": "d0e61160",
   "metadata": {
    "execution": {
     "iopub.execute_input": "2023-10-15T05:36:59.183982Z",
     "iopub.status.busy": "2023-10-15T05:36:59.183562Z",
     "iopub.status.idle": "2023-10-15T05:36:59.442232Z",
     "shell.execute_reply": "2023-10-15T05:36:59.440670Z"
    },
    "papermill": {
     "duration": 0.30616,
     "end_time": "2023-10-15T05:36:59.443959",
     "exception": true,
     "start_time": "2023-10-15T05:36:59.137799",
     "status": "failed"
    },
    "tags": []
   },
   "outputs": [
    {
     "ename": "TypeError",
     "evalue": "'str' object does not support item assignment",
     "output_type": "error",
     "traceback": [
      "\u001b[0;31m---------------------------------------------------------------------------\u001b[0m",
      "\u001b[0;31mTypeError\u001b[0m                                 Traceback (most recent call last)",
      "Cell \u001b[0;32mIn[95], line 1\u001b[0m\n\u001b[0;32m----> 1\u001b[0m \u001b[43ms\u001b[49m\u001b[43m[\u001b[49m\u001b[38;5;241;43m2\u001b[39;49m\u001b[43m]\u001b[49m \u001b[38;5;241m=\u001b[39m \u001b[38;5;124m'\u001b[39m\u001b[38;5;124mx\u001b[39m\u001b[38;5;124m'\u001b[39m\n",
      "\u001b[0;31mTypeError\u001b[0m: 'str' object does not support item assignment"
     ]
    }
   ],
   "source": [
    "s[2] = 'x'"
   ]
  },
  {
   "cell_type": "markdown",
   "id": "e64e0a41",
   "metadata": {
    "papermill": {
     "duration": null,
     "end_time": null,
     "exception": null,
     "start_time": null,
     "status": "pending"
    },
    "tags": []
   },
   "source": [
    "A list item can be deleted with the `del` command:"
   ]
  },
  {
   "cell_type": "code",
   "execution_count": null,
   "id": "f6afeb24",
   "metadata": {
    "papermill": {
     "duration": null,
     "end_time": null,
     "exception": null,
     "start_time": null,
     "status": "pending"
    },
    "tags": []
   },
   "outputs": [],
   "source": [
    "a = ['foo', 'bar', 'baz', 'qux', 'quux', 'corge']"
   ]
  },
  {
   "cell_type": "code",
   "execution_count": null,
   "id": "62cc000a",
   "metadata": {
    "papermill": {
     "duration": null,
     "end_time": null,
     "exception": null,
     "start_time": null,
     "status": "pending"
    },
    "tags": []
   },
   "outputs": [],
   "source": [
    "del a[3]"
   ]
  },
  {
   "cell_type": "code",
   "execution_count": null,
   "id": "df17d41e",
   "metadata": {
    "papermill": {
     "duration": null,
     "end_time": null,
     "exception": null,
     "start_time": null,
     "status": "pending"
    },
    "tags": []
   },
   "outputs": [],
   "source": [
    "a"
   ]
  },
  {
   "cell_type": "markdown",
   "id": "624e31c9",
   "metadata": {
    "papermill": {
     "duration": null,
     "end_time": null,
     "exception": null,
     "start_time": null,
     "status": "pending"
    },
    "tags": []
   },
   "source": [
    "<a class=\"anchor\" id=\"modifying_multiple_list_values\"></a>\n",
    "#### Modifying Multiple List Values\n",
    "\n",
    "What if you want to change several contiguous elements in a list at one time? Python allows this with slice assignment, which has the following syntax:\n",
    "\n",
    "```python\n",
    "a[m:n] = <iterable>\n",
    "```"
   ]
  },
  {
   "cell_type": "markdown",
   "id": "33a91935",
   "metadata": {
    "papermill": {
     "duration": null,
     "end_time": null,
     "exception": null,
     "start_time": null,
     "status": "pending"
    },
    "tags": []
   },
   "source": [
    "Again, for the moment, think of an iterable as a list. This assignment replaces the specified slice of a with `<iterable>`:"
   ]
  },
  {
   "cell_type": "code",
   "execution_count": null,
   "id": "0544ba55",
   "metadata": {
    "papermill": {
     "duration": null,
     "end_time": null,
     "exception": null,
     "start_time": null,
     "status": "pending"
    },
    "tags": []
   },
   "outputs": [],
   "source": [
    "a = ['foo', 'bar', 'baz', 'qux', 'quux', 'corge']"
   ]
  },
  {
   "cell_type": "code",
   "execution_count": null,
   "id": "ad6d9524",
   "metadata": {
    "papermill": {
     "duration": null,
     "end_time": null,
     "exception": null,
     "start_time": null,
     "status": "pending"
    },
    "tags": []
   },
   "outputs": [],
   "source": [
    "a[1:4]"
   ]
  },
  {
   "cell_type": "code",
   "execution_count": null,
   "id": "d8386003",
   "metadata": {
    "papermill": {
     "duration": null,
     "end_time": null,
     "exception": null,
     "start_time": null,
     "status": "pending"
    },
    "tags": []
   },
   "outputs": [],
   "source": [
    "a[1:4] = [1.1, 2.2, 3.3, 4.4, 5.5]"
   ]
  },
  {
   "cell_type": "code",
   "execution_count": null,
   "id": "6f223f34",
   "metadata": {
    "papermill": {
     "duration": null,
     "end_time": null,
     "exception": null,
     "start_time": null,
     "status": "pending"
    },
    "tags": []
   },
   "outputs": [],
   "source": [
    "a"
   ]
  },
  {
   "cell_type": "code",
   "execution_count": null,
   "id": "0eb49127",
   "metadata": {
    "papermill": {
     "duration": null,
     "end_time": null,
     "exception": null,
     "start_time": null,
     "status": "pending"
    },
    "tags": []
   },
   "outputs": [],
   "source": [
    "a[1:6]"
   ]
  },
  {
   "cell_type": "code",
   "execution_count": null,
   "id": "c4d18af9",
   "metadata": {
    "papermill": {
     "duration": null,
     "end_time": null,
     "exception": null,
     "start_time": null,
     "status": "pending"
    },
    "tags": []
   },
   "outputs": [],
   "source": [
    "a[1:6] = ['Bark!']"
   ]
  },
  {
   "cell_type": "code",
   "execution_count": null,
   "id": "498f0ff4",
   "metadata": {
    "papermill": {
     "duration": null,
     "end_time": null,
     "exception": null,
     "start_time": null,
     "status": "pending"
    },
    "tags": []
   },
   "outputs": [],
   "source": [
    "a"
   ]
  },
  {
   "cell_type": "markdown",
   "id": "243119d8",
   "metadata": {
    "papermill": {
     "duration": null,
     "end_time": null,
     "exception": null,
     "start_time": null,
     "status": "pending"
    },
    "tags": []
   },
   "source": [
    "The number of elements inserted need not be equal to the number replaced. Python just grows or shrinks the list as needed."
   ]
  },
  {
   "cell_type": "markdown",
   "id": "c3d31a2a",
   "metadata": {
    "papermill": {
     "duration": null,
     "end_time": null,
     "exception": null,
     "start_time": null,
     "status": "pending"
    },
    "tags": []
   },
   "source": [
    "You can insert multiple elements in place of a single element—just use a slice that denotes only one element:"
   ]
  },
  {
   "cell_type": "code",
   "execution_count": null,
   "id": "e6f260fc",
   "metadata": {
    "papermill": {
     "duration": null,
     "end_time": null,
     "exception": null,
     "start_time": null,
     "status": "pending"
    },
    "tags": []
   },
   "outputs": [],
   "source": [
    "a = [1, 2, 3]"
   ]
  },
  {
   "cell_type": "code",
   "execution_count": null,
   "id": "f4a0b2e8",
   "metadata": {
    "papermill": {
     "duration": null,
     "end_time": null,
     "exception": null,
     "start_time": null,
     "status": "pending"
    },
    "tags": []
   },
   "outputs": [],
   "source": [
    "a[1:2] = [2.1, 2.2, 2.3]"
   ]
  },
  {
   "cell_type": "code",
   "execution_count": null,
   "id": "febfb055",
   "metadata": {
    "papermill": {
     "duration": null,
     "end_time": null,
     "exception": null,
     "start_time": null,
     "status": "pending"
    },
    "tags": []
   },
   "outputs": [],
   "source": [
    "a"
   ]
  },
  {
   "cell_type": "markdown",
   "id": "7752dcd8",
   "metadata": {
    "papermill": {
     "duration": null,
     "end_time": null,
     "exception": null,
     "start_time": null,
     "status": "pending"
    },
    "tags": []
   },
   "source": [
    "Note that this is not the same as replacing the single element with a list:"
   ]
  },
  {
   "cell_type": "code",
   "execution_count": null,
   "id": "c24752f6",
   "metadata": {
    "papermill": {
     "duration": null,
     "end_time": null,
     "exception": null,
     "start_time": null,
     "status": "pending"
    },
    "tags": []
   },
   "outputs": [],
   "source": [
    "a = [1, 2, 3]"
   ]
  },
  {
   "cell_type": "code",
   "execution_count": null,
   "id": "1fd6bf1e",
   "metadata": {
    "papermill": {
     "duration": null,
     "end_time": null,
     "exception": null,
     "start_time": null,
     "status": "pending"
    },
    "tags": []
   },
   "outputs": [],
   "source": [
    "a[1] = [2.1, 2.2, 2.3]"
   ]
  },
  {
   "cell_type": "code",
   "execution_count": null,
   "id": "3a1d04cf",
   "metadata": {
    "papermill": {
     "duration": null,
     "end_time": null,
     "exception": null,
     "start_time": null,
     "status": "pending"
    },
    "tags": []
   },
   "outputs": [],
   "source": [
    "a"
   ]
  },
  {
   "cell_type": "markdown",
   "id": "70ba5acd",
   "metadata": {
    "papermill": {
     "duration": null,
     "end_time": null,
     "exception": null,
     "start_time": null,
     "status": "pending"
    },
    "tags": []
   },
   "source": [
    "You can also insert elements into a list without removing anything. Simply specify a slice of the form `[n:n]` (a zero-length slice) at the desired index:"
   ]
  },
  {
   "cell_type": "code",
   "execution_count": null,
   "id": "cecfab07",
   "metadata": {
    "papermill": {
     "duration": null,
     "end_time": null,
     "exception": null,
     "start_time": null,
     "status": "pending"
    },
    "tags": []
   },
   "outputs": [],
   "source": [
    "a = [1, 2, 7, 8]"
   ]
  },
  {
   "cell_type": "code",
   "execution_count": null,
   "id": "06c600ef",
   "metadata": {
    "papermill": {
     "duration": null,
     "end_time": null,
     "exception": null,
     "start_time": null,
     "status": "pending"
    },
    "tags": []
   },
   "outputs": [],
   "source": [
    "a[2:2] = [3, 4, 5, 6]"
   ]
  },
  {
   "cell_type": "code",
   "execution_count": null,
   "id": "2ec79269",
   "metadata": {
    "papermill": {
     "duration": null,
     "end_time": null,
     "exception": null,
     "start_time": null,
     "status": "pending"
    },
    "tags": []
   },
   "outputs": [],
   "source": [
    "a"
   ]
  },
  {
   "cell_type": "markdown",
   "id": "3f947a65",
   "metadata": {
    "papermill": {
     "duration": null,
     "end_time": null,
     "exception": null,
     "start_time": null,
     "status": "pending"
    },
    "tags": []
   },
   "source": [
    "You can delete multiple elements out of the middle of a list by assigning the appropriate slice to an empty list. You can also use the del statement with the same slice:"
   ]
  },
  {
   "cell_type": "code",
   "execution_count": null,
   "id": "98d37570",
   "metadata": {
    "papermill": {
     "duration": null,
     "end_time": null,
     "exception": null,
     "start_time": null,
     "status": "pending"
    },
    "tags": []
   },
   "outputs": [],
   "source": [
    "a = ['foo', 'bar', 'baz', 'qux', 'quux', 'corge']"
   ]
  },
  {
   "cell_type": "code",
   "execution_count": null,
   "id": "68802850",
   "metadata": {
    "papermill": {
     "duration": null,
     "end_time": null,
     "exception": null,
     "start_time": null,
     "status": "pending"
    },
    "tags": []
   },
   "outputs": [],
   "source": [
    "a[1:5] = []"
   ]
  },
  {
   "cell_type": "code",
   "execution_count": null,
   "id": "e0a075ee",
   "metadata": {
    "papermill": {
     "duration": null,
     "end_time": null,
     "exception": null,
     "start_time": null,
     "status": "pending"
    },
    "tags": []
   },
   "outputs": [],
   "source": [
    "a"
   ]
  },
  {
   "cell_type": "code",
   "execution_count": null,
   "id": "5b853fe2",
   "metadata": {
    "papermill": {
     "duration": null,
     "end_time": null,
     "exception": null,
     "start_time": null,
     "status": "pending"
    },
    "tags": []
   },
   "outputs": [],
   "source": [
    "a = ['foo', 'bar', 'baz', 'qux', 'quux', 'corge']"
   ]
  },
  {
   "cell_type": "code",
   "execution_count": null,
   "id": "d4ef5337",
   "metadata": {
    "papermill": {
     "duration": null,
     "end_time": null,
     "exception": null,
     "start_time": null,
     "status": "pending"
    },
    "tags": []
   },
   "outputs": [],
   "source": [
    "del a[1:5]"
   ]
  },
  {
   "cell_type": "code",
   "execution_count": null,
   "id": "cfbb07d3",
   "metadata": {
    "papermill": {
     "duration": null,
     "end_time": null,
     "exception": null,
     "start_time": null,
     "status": "pending"
    },
    "tags": []
   },
   "outputs": [],
   "source": [
    "a"
   ]
  },
  {
   "cell_type": "markdown",
   "id": "add80833",
   "metadata": {
    "papermill": {
     "duration": null,
     "end_time": null,
     "exception": null,
     "start_time": null,
     "status": "pending"
    },
    "tags": []
   },
   "source": [
    "<a class=\"anchor\" id=\"prepending_or_appending_items_to_a_list\"></a>\n",
    "#### Prepending or Appending Items to a List\n",
    "\n",
    "Additional items can be added to the start or end of a list using the + concatenation operator or the `+=` augmented assignment operator:"
   ]
  },
  {
   "cell_type": "code",
   "execution_count": null,
   "id": "bf7dc4f9",
   "metadata": {
    "papermill": {
     "duration": null,
     "end_time": null,
     "exception": null,
     "start_time": null,
     "status": "pending"
    },
    "tags": []
   },
   "outputs": [],
   "source": [
    "a = ['foo', 'bar', 'baz', 'qux', 'quux', 'corge']"
   ]
  },
  {
   "cell_type": "code",
   "execution_count": null,
   "id": "e7c84135",
   "metadata": {
    "papermill": {
     "duration": null,
     "end_time": null,
     "exception": null,
     "start_time": null,
     "status": "pending"
    },
    "tags": []
   },
   "outputs": [],
   "source": [
    "a += ['grault', 'garply']"
   ]
  },
  {
   "cell_type": "code",
   "execution_count": null,
   "id": "fd29c12d",
   "metadata": {
    "papermill": {
     "duration": null,
     "end_time": null,
     "exception": null,
     "start_time": null,
     "status": "pending"
    },
    "tags": []
   },
   "outputs": [],
   "source": [
    "a"
   ]
  },
  {
   "cell_type": "code",
   "execution_count": null,
   "id": "e09c43ce",
   "metadata": {
    "papermill": {
     "duration": null,
     "end_time": null,
     "exception": null,
     "start_time": null,
     "status": "pending"
    },
    "tags": []
   },
   "outputs": [],
   "source": [
    "a = ['foo', 'bar', 'baz', 'qux', 'quux', 'corge']"
   ]
  },
  {
   "cell_type": "code",
   "execution_count": null,
   "id": "919e5871",
   "metadata": {
    "papermill": {
     "duration": null,
     "end_time": null,
     "exception": null,
     "start_time": null,
     "status": "pending"
    },
    "tags": []
   },
   "outputs": [],
   "source": [
    "a = [10, 20] + a"
   ]
  },
  {
   "cell_type": "code",
   "execution_count": null,
   "id": "dd106a26",
   "metadata": {
    "papermill": {
     "duration": null,
     "end_time": null,
     "exception": null,
     "start_time": null,
     "status": "pending"
    },
    "tags": []
   },
   "outputs": [],
   "source": [
    "a"
   ]
  },
  {
   "cell_type": "markdown",
   "id": "5e76cb29",
   "metadata": {
    "papermill": {
     "duration": null,
     "end_time": null,
     "exception": null,
     "start_time": null,
     "status": "pending"
    },
    "tags": []
   },
   "source": [
    "Note that a list must be concatenated with another list, so if you want to add only one element, you need to specify it as a singleton list:"
   ]
  },
  {
   "cell_type": "code",
   "execution_count": null,
   "id": "ebe3047e",
   "metadata": {
    "papermill": {
     "duration": null,
     "end_time": null,
     "exception": null,
     "start_time": null,
     "status": "pending"
    },
    "tags": []
   },
   "outputs": [],
   "source": [
    "a = ['foo', 'bar', 'baz', 'qux', 'quux', 'corge']\n",
    "a += 20 "
   ]
  },
  {
   "cell_type": "code",
   "execution_count": null,
   "id": "e5368d2c",
   "metadata": {
    "papermill": {
     "duration": null,
     "end_time": null,
     "exception": null,
     "start_time": null,
     "status": "pending"
    },
    "tags": []
   },
   "outputs": [],
   "source": [
    "a += [20]"
   ]
  },
  {
   "cell_type": "code",
   "execution_count": null,
   "id": "b239dbae",
   "metadata": {
    "papermill": {
     "duration": null,
     "end_time": null,
     "exception": null,
     "start_time": null,
     "status": "pending"
    },
    "tags": []
   },
   "outputs": [],
   "source": [
    "a"
   ]
  },
  {
   "cell_type": "markdown",
   "id": "943f277f",
   "metadata": {
    "papermill": {
     "duration": null,
     "end_time": null,
     "exception": null,
     "start_time": null,
     "status": "pending"
    },
    "tags": []
   },
   "source": [
    "> **Note:** Technically, it isn’t quite correct to say a list must be concatenated with another list. More precisely, a list must be concatenated with an object that is iterable. Of course, lists are iterable, so it works to concatenate a list with another list.\n",
    ">\n",
    ">Strings are iterable also. But watch what happens when you concatenate a string onto a list:\n",
    ">```python\n",
    "a = ['foo', 'bar', 'baz', 'qux', 'quux']\n",
    "a += 'corge'\n",
    "a\n",
    ">```\n",
    ">This result is perhaps not quite what you expected. When a string is iterated through, the result is a list of its component characters. In the above example, what gets concatenated onto list a is a list of the characters in the string `'corge'`.\n",
    ">\n",
    ">If you really want to add just the single string 'corge' to the end of the list, you need to specify it as a singleton list:\n",
    ">```python\n",
    "a = ['foo', 'bar', 'baz', 'qux', 'quux']\n",
    "a += ['corge']\n",
    "a\n",
    ">```\n",
    "> If this seems mysterious, don’t fret too much. You’ll learn about the ins and outs of iterables in the tutorial on definite iteration."
   ]
  },
  {
   "cell_type": "markdown",
   "id": "31d90fd9",
   "metadata": {
    "papermill": {
     "duration": null,
     "end_time": null,
     "exception": null,
     "start_time": null,
     "status": "pending"
    },
    "tags": []
   },
   "source": [
    "<a class=\"anchor\" id=\"6._lists_are_dynamic\"></a>\n",
    "### 6. Lists Are Dynamic\n",
    "This tutorial began with a list of six defining characteristics of Python lists. The last one is that lists are dynamic. You have seen many examples of this in the sections above. When items are added to a list, it grows as needed:"
   ]
  },
  {
   "cell_type": "code",
   "execution_count": null,
   "id": "eb81ac73",
   "metadata": {
    "papermill": {
     "duration": null,
     "end_time": null,
     "exception": null,
     "start_time": null,
     "status": "pending"
    },
    "tags": []
   },
   "outputs": [],
   "source": [
    "a = ['foo', 'bar', 'baz', 'qux', 'quux', 'corge']"
   ]
  },
  {
   "cell_type": "code",
   "execution_count": null,
   "id": "bbfb738e",
   "metadata": {
    "papermill": {
     "duration": null,
     "end_time": null,
     "exception": null,
     "start_time": null,
     "status": "pending"
    },
    "tags": []
   },
   "outputs": [],
   "source": [
    "a[2:2] = [1, 2, 3]"
   ]
  },
  {
   "cell_type": "code",
   "execution_count": null,
   "id": "e97fed7a",
   "metadata": {
    "papermill": {
     "duration": null,
     "end_time": null,
     "exception": null,
     "start_time": null,
     "status": "pending"
    },
    "tags": []
   },
   "outputs": [],
   "source": [
    "a += [3.14159]"
   ]
  },
  {
   "cell_type": "code",
   "execution_count": null,
   "id": "bfeb17b6",
   "metadata": {
    "papermill": {
     "duration": null,
     "end_time": null,
     "exception": null,
     "start_time": null,
     "status": "pending"
    },
    "tags": []
   },
   "outputs": [],
   "source": [
    "a"
   ]
  },
  {
   "cell_type": "markdown",
   "id": "84202f2d",
   "metadata": {
    "papermill": {
     "duration": null,
     "end_time": null,
     "exception": null,
     "start_time": null,
     "status": "pending"
    },
    "tags": []
   },
   "source": [
    "Similarly, a list shrinks to accommodate the removal of items:"
   ]
  },
  {
   "cell_type": "code",
   "execution_count": null,
   "id": "6bab5f60",
   "metadata": {
    "papermill": {
     "duration": null,
     "end_time": null,
     "exception": null,
     "start_time": null,
     "status": "pending"
    },
    "tags": []
   },
   "outputs": [],
   "source": [
    "a = ['foo', 'bar', 'baz', 'qux', 'quux', 'corge']"
   ]
  },
  {
   "cell_type": "code",
   "execution_count": null,
   "id": "d54eb7a5",
   "metadata": {
    "papermill": {
     "duration": null,
     "end_time": null,
     "exception": null,
     "start_time": null,
     "status": "pending"
    },
    "tags": []
   },
   "outputs": [],
   "source": [
    "a[2:3] = []"
   ]
  },
  {
   "cell_type": "code",
   "execution_count": null,
   "id": "d363f6c1",
   "metadata": {
    "papermill": {
     "duration": null,
     "end_time": null,
     "exception": null,
     "start_time": null,
     "status": "pending"
    },
    "tags": []
   },
   "outputs": [],
   "source": [
    "del a[0]"
   ]
  },
  {
   "cell_type": "code",
   "execution_count": null,
   "id": "c332cf06",
   "metadata": {
    "papermill": {
     "duration": null,
     "end_time": null,
     "exception": null,
     "start_time": null,
     "status": "pending"
    },
    "scrolled": true,
    "tags": []
   },
   "outputs": [],
   "source": [
    "a"
   ]
  },
  {
   "cell_type": "markdown",
   "id": "28acf1e6",
   "metadata": {
    "papermill": {
     "duration": null,
     "end_time": null,
     "exception": null,
     "start_time": null,
     "status": "pending"
    },
    "tags": []
   },
   "source": [
    "<a class=\"anchor\" id=\"python_tuples\"></a>\n",
    "## Python Tuples\n",
    "\n",
    "Python provides another type that is an ordered collection of objects, called a tuple."
   ]
  },
  {
   "cell_type": "markdown",
   "id": "95a59436",
   "metadata": {
    "papermill": {
     "duration": null,
     "end_time": null,
     "exception": null,
     "start_time": null,
     "status": "pending"
    },
    "tags": []
   },
   "source": [
    "<a class=\"anchor\" id=\"defining_and_using_tuples\"></a>\n",
    "### Defining and Using Tuples\n",
    "Tuples are identical to lists in all respects, except for the following properties:\n",
    "\n",
    "- Tuples are defined by enclosing the elements in parentheses (`()`) instead of square brackets `[]`).\n",
    "- Tuples are immutable."
   ]
  },
  {
   "cell_type": "markdown",
   "id": "d8163169",
   "metadata": {
    "papermill": {
     "duration": null,
     "end_time": null,
     "exception": null,
     "start_time": null,
     "status": "pending"
    },
    "tags": []
   },
   "source": [
    "Here is a short example showing a tuple definition, indexing, and slicing:"
   ]
  },
  {
   "cell_type": "code",
   "execution_count": null,
   "id": "b4b24017",
   "metadata": {
    "papermill": {
     "duration": null,
     "end_time": null,
     "exception": null,
     "start_time": null,
     "status": "pending"
    },
    "tags": []
   },
   "outputs": [],
   "source": [
    "t = ('foo', 'bar', 'baz', 'qux', 'quux', 'corge')"
   ]
  },
  {
   "cell_type": "code",
   "execution_count": null,
   "id": "959108a4",
   "metadata": {
    "papermill": {
     "duration": null,
     "end_time": null,
     "exception": null,
     "start_time": null,
     "status": "pending"
    },
    "tags": []
   },
   "outputs": [],
   "source": [
    "t"
   ]
  },
  {
   "cell_type": "code",
   "execution_count": null,
   "id": "c03dce58",
   "metadata": {
    "papermill": {
     "duration": null,
     "end_time": null,
     "exception": null,
     "start_time": null,
     "status": "pending"
    },
    "tags": []
   },
   "outputs": [],
   "source": [
    "t[0]"
   ]
  },
  {
   "cell_type": "code",
   "execution_count": null,
   "id": "5ee191c0",
   "metadata": {
    "papermill": {
     "duration": null,
     "end_time": null,
     "exception": null,
     "start_time": null,
     "status": "pending"
    },
    "tags": []
   },
   "outputs": [],
   "source": [
    "t[-1]"
   ]
  },
  {
   "cell_type": "code",
   "execution_count": null,
   "id": "ade239ae",
   "metadata": {
    "papermill": {
     "duration": null,
     "end_time": null,
     "exception": null,
     "start_time": null,
     "status": "pending"
    },
    "tags": []
   },
   "outputs": [],
   "source": [
    "t[1::2]"
   ]
  },
  {
   "cell_type": "markdown",
   "id": "21530758",
   "metadata": {
    "papermill": {
     "duration": null,
     "end_time": null,
     "exception": null,
     "start_time": null,
     "status": "pending"
    },
    "tags": []
   },
   "source": [
    "Never fear! Our favorite string and list reversal mechanism works for tuples as well:"
   ]
  },
  {
   "cell_type": "code",
   "execution_count": null,
   "id": "f7dcfdf2",
   "metadata": {
    "papermill": {
     "duration": null,
     "end_time": null,
     "exception": null,
     "start_time": null,
     "status": "pending"
    },
    "tags": []
   },
   "outputs": [],
   "source": [
    "t[::-1]"
   ]
  },
  {
   "cell_type": "markdown",
   "id": "8e24cacd",
   "metadata": {
    "papermill": {
     "duration": null,
     "end_time": null,
     "exception": null,
     "start_time": null,
     "status": "pending"
    },
    "tags": []
   },
   "source": [
    "> Note: Even though tuples are defined using parentheses, you still index and slice tuples using square brackets, just as for strings and lists."
   ]
  },
  {
   "cell_type": "markdown",
   "id": "41e2bf00",
   "metadata": {
    "papermill": {
     "duration": null,
     "end_time": null,
     "exception": null,
     "start_time": null,
     "status": "pending"
    },
    "tags": []
   },
   "source": [
    "Everything you’ve learned about lists—they are ordered, they can contain arbitrary objects, they can be indexed and sliced, they can be nested—is true of tuples as well. But they can’t be modified:"
   ]
  },
  {
   "cell_type": "code",
   "execution_count": null,
   "id": "c9df7f93",
   "metadata": {
    "papermill": {
     "duration": null,
     "end_time": null,
     "exception": null,
     "start_time": null,
     "status": "pending"
    },
    "tags": []
   },
   "outputs": [],
   "source": [
    "t = ('foo', 'bar', 'baz', 'qux', 'quux', 'corge')\n",
    "t[2] = 'Bark!'"
   ]
  },
  {
   "cell_type": "markdown",
   "id": "3d1589d3",
   "metadata": {
    "papermill": {
     "duration": null,
     "end_time": null,
     "exception": null,
     "start_time": null,
     "status": "pending"
    },
    "tags": []
   },
   "source": [
    "Why use a tuple instead of a list?\n",
    "\n",
    "- Program execution is faster when manipulating a tuple than it is for the equivalent list. (This is probably not going to be noticeable when the list or tuple is small.)\n",
    "\n",
    "- Sometimes you don’t want data to be modified. If the values in the collection are meant to remain constant for the life of the program, using a tuple instead of a list guards against accidental modification.\n",
    "\n",
    "- There is another Python data type that you will encounter shortly called a dictionary, which requires as one of its components a value that is of an immutable type. A tuple can be used for this purpose, whereas a list can’t be."
   ]
  },
  {
   "cell_type": "markdown",
   "id": "721b4031",
   "metadata": {
    "papermill": {
     "duration": null,
     "end_time": null,
     "exception": null,
     "start_time": null,
     "status": "pending"
    },
    "tags": []
   },
   "source": [
    "In a Python REPL session, you can display the values of several objects simultaneously by entering them directly at the `>>>` prompt, separated by commas:"
   ]
  },
  {
   "cell_type": "code",
   "execution_count": null,
   "id": "a0df6201",
   "metadata": {
    "papermill": {
     "duration": null,
     "end_time": null,
     "exception": null,
     "start_time": null,
     "status": "pending"
    },
    "tags": []
   },
   "outputs": [],
   "source": [
    "a = 'foo'"
   ]
  },
  {
   "cell_type": "code",
   "execution_count": null,
   "id": "34ab42f3",
   "metadata": {
    "papermill": {
     "duration": null,
     "end_time": null,
     "exception": null,
     "start_time": null,
     "status": "pending"
    },
    "tags": []
   },
   "outputs": [],
   "source": [
    "b = 42"
   ]
  },
  {
   "cell_type": "code",
   "execution_count": null,
   "id": "2ad88e13",
   "metadata": {
    "papermill": {
     "duration": null,
     "end_time": null,
     "exception": null,
     "start_time": null,
     "status": "pending"
    },
    "tags": []
   },
   "outputs": [],
   "source": [
    "a, 3.14159, b"
   ]
  },
  {
   "cell_type": "markdown",
   "id": "d5d0ad04",
   "metadata": {
    "papermill": {
     "duration": null,
     "end_time": null,
     "exception": null,
     "start_time": null,
     "status": "pending"
    },
    "tags": []
   },
   "source": [
    "Python displays the response in parentheses because it is implicitly interpreting the input as a tuple."
   ]
  },
  {
   "cell_type": "markdown",
   "id": "f3b3e3b3",
   "metadata": {
    "papermill": {
     "duration": null,
     "end_time": null,
     "exception": null,
     "start_time": null,
     "status": "pending"
    },
    "tags": []
   },
   "source": [
    "There is one peculiarity regarding tuple definition that you should be aware of. There is no ambiguity when defining an empty tuple, nor one with two or more elements. Python knows you are defining a tuple:"
   ]
  },
  {
   "cell_type": "code",
   "execution_count": null,
   "id": "e6a07ca3",
   "metadata": {
    "papermill": {
     "duration": null,
     "end_time": null,
     "exception": null,
     "start_time": null,
     "status": "pending"
    },
    "tags": []
   },
   "outputs": [],
   "source": [
    "t = ()\n",
    "type(t)"
   ]
  },
  {
   "cell_type": "code",
   "execution_count": null,
   "id": "7829e250",
   "metadata": {
    "papermill": {
     "duration": null,
     "end_time": null,
     "exception": null,
     "start_time": null,
     "status": "pending"
    },
    "tags": []
   },
   "outputs": [],
   "source": [
    "t = (1, 2)\n",
    "type(t)"
   ]
  },
  {
   "cell_type": "code",
   "execution_count": null,
   "id": "2f1ad5a2",
   "metadata": {
    "papermill": {
     "duration": null,
     "end_time": null,
     "exception": null,
     "start_time": null,
     "status": "pending"
    },
    "tags": []
   },
   "outputs": [],
   "source": [
    "t = (1, 2, 3, 4, 5)\n",
    "type(t)"
   ]
  },
  {
   "cell_type": "markdown",
   "id": "7c2c0bbe",
   "metadata": {
    "papermill": {
     "duration": null,
     "end_time": null,
     "exception": null,
     "start_time": null,
     "status": "pending"
    },
    "tags": []
   },
   "source": [
    "But what happens when you try to define a tuple with one item:"
   ]
  },
  {
   "cell_type": "code",
   "execution_count": null,
   "id": "ac9519d0",
   "metadata": {
    "papermill": {
     "duration": null,
     "end_time": null,
     "exception": null,
     "start_time": null,
     "status": "pending"
    },
    "tags": []
   },
   "outputs": [],
   "source": [
    "t = (2)\n",
    "type(t)"
   ]
  },
  {
   "cell_type": "markdown",
   "id": "07d5ecd4",
   "metadata": {
    "papermill": {
     "duration": null,
     "end_time": null,
     "exception": null,
     "start_time": null,
     "status": "pending"
    },
    "tags": []
   },
   "source": [
    "Doh! Since parentheses are also used to define operator precedence in expressions, Python evaluates the expression `(2)` as simply the integer `2` and creates an int object. To tell Python that you really want to define a singleton tuple, include a trailing comma `(,)` just before the closing parenthesis:"
   ]
  },
  {
   "cell_type": "code",
   "execution_count": null,
   "id": "82ea7765",
   "metadata": {
    "papermill": {
     "duration": null,
     "end_time": null,
     "exception": null,
     "start_time": null,
     "status": "pending"
    },
    "tags": []
   },
   "outputs": [],
   "source": [
    "t = (2,)\n",
    "type(t)"
   ]
  },
  {
   "cell_type": "code",
   "execution_count": null,
   "id": "a6481a63",
   "metadata": {
    "papermill": {
     "duration": null,
     "end_time": null,
     "exception": null,
     "start_time": null,
     "status": "pending"
    },
    "tags": []
   },
   "outputs": [],
   "source": [
    "t[0]"
   ]
  },
  {
   "cell_type": "code",
   "execution_count": null,
   "id": "bc9ff005",
   "metadata": {
    "papermill": {
     "duration": null,
     "end_time": null,
     "exception": null,
     "start_time": null,
     "status": "pending"
    },
    "tags": []
   },
   "outputs": [],
   "source": [
    "t[-1]"
   ]
  },
  {
   "cell_type": "markdown",
   "id": "d1cfe4f7",
   "metadata": {
    "papermill": {
     "duration": null,
     "end_time": null,
     "exception": null,
     "start_time": null,
     "status": "pending"
    },
    "tags": []
   },
   "source": [
    "You probably won’t need to define a singleton tuple often, but there has to be a way."
   ]
  },
  {
   "cell_type": "markdown",
   "id": "d51d4d83",
   "metadata": {
    "papermill": {
     "duration": null,
     "end_time": null,
     "exception": null,
     "start_time": null,
     "status": "pending"
    },
    "tags": []
   },
   "source": [
    "When you display a singleton tuple, Python includes the comma, to remind you that it’s a tuple:"
   ]
  },
  {
   "cell_type": "code",
   "execution_count": null,
   "id": "7c75d1bb",
   "metadata": {
    "papermill": {
     "duration": null,
     "end_time": null,
     "exception": null,
     "start_time": null,
     "status": "pending"
    },
    "tags": []
   },
   "outputs": [],
   "source": [
    "t"
   ]
  },
  {
   "cell_type": "markdown",
   "id": "bc199174",
   "metadata": {
    "papermill": {
     "duration": null,
     "end_time": null,
     "exception": null,
     "start_time": null,
     "status": "pending"
    },
    "tags": []
   },
   "source": [
    "<a class=\"anchor\" id=\"tuple_assignment,_packing,_and_unpacking\"></a>\n",
    "### Tuple Assignment, Packing, and Unpacking\n",
    "\n",
    "As you have already seen above, a literal tuple containing several items can be assigned to a single object:"
   ]
  },
  {
   "cell_type": "code",
   "execution_count": null,
   "id": "693fd330",
   "metadata": {
    "papermill": {
     "duration": null,
     "end_time": null,
     "exception": null,
     "start_time": null,
     "status": "pending"
    },
    "tags": []
   },
   "outputs": [],
   "source": [
    "t = ('foo', 'bar', 'baz', 'qux')"
   ]
  },
  {
   "cell_type": "markdown",
   "id": "6f8b3e23",
   "metadata": {
    "papermill": {
     "duration": null,
     "end_time": null,
     "exception": null,
     "start_time": null,
     "status": "pending"
    },
    "tags": []
   },
   "source": []
  },
  {
   "cell_type": "code",
   "execution_count": null,
   "id": "2050346b",
   "metadata": {
    "papermill": {
     "duration": null,
     "end_time": null,
     "exception": null,
     "start_time": null,
     "status": "pending"
    },
    "tags": []
   },
   "outputs": [],
   "source": [
    "t"
   ]
  },
  {
   "cell_type": "code",
   "execution_count": null,
   "id": "dffdb898",
   "metadata": {
    "papermill": {
     "duration": null,
     "end_time": null,
     "exception": null,
     "start_time": null,
     "status": "pending"
    },
    "tags": []
   },
   "outputs": [],
   "source": [
    "t[0]"
   ]
  },
  {
   "cell_type": "code",
   "execution_count": null,
   "id": "8fae4620",
   "metadata": {
    "papermill": {
     "duration": null,
     "end_time": null,
     "exception": null,
     "start_time": null,
     "status": "pending"
    },
    "tags": []
   },
   "outputs": [],
   "source": [
    "t[-1]"
   ]
  },
  {
   "cell_type": "markdown",
   "id": "c6293e43",
   "metadata": {
    "papermill": {
     "duration": null,
     "end_time": null,
     "exception": null,
     "start_time": null,
     "status": "pending"
    },
    "tags": []
   },
   "source": [
    "If that “packed” object is subsequently assigned to a new tuple, the individual items are “unpacked” into the objects in the tuple:"
   ]
  },
  {
   "cell_type": "markdown",
   "id": "cb4d6a4e",
   "metadata": {
    "papermill": {
     "duration": null,
     "end_time": null,
     "exception": null,
     "start_time": null,
     "status": "pending"
    },
    "tags": []
   },
   "source": []
  },
  {
   "cell_type": "code",
   "execution_count": null,
   "id": "deda39d0",
   "metadata": {
    "papermill": {
     "duration": null,
     "end_time": null,
     "exception": null,
     "start_time": null,
     "status": "pending"
    },
    "tags": []
   },
   "outputs": [],
   "source": [
    "(s1, s2, s3, s4) = t"
   ]
  },
  {
   "cell_type": "code",
   "execution_count": null,
   "id": "8216be83",
   "metadata": {
    "papermill": {
     "duration": null,
     "end_time": null,
     "exception": null,
     "start_time": null,
     "status": "pending"
    },
    "tags": []
   },
   "outputs": [],
   "source": [
    "s1"
   ]
  },
  {
   "cell_type": "code",
   "execution_count": null,
   "id": "b1d6edab",
   "metadata": {
    "papermill": {
     "duration": null,
     "end_time": null,
     "exception": null,
     "start_time": null,
     "status": "pending"
    },
    "tags": []
   },
   "outputs": [],
   "source": [
    "s2"
   ]
  },
  {
   "cell_type": "code",
   "execution_count": null,
   "id": "52420c87",
   "metadata": {
    "papermill": {
     "duration": null,
     "end_time": null,
     "exception": null,
     "start_time": null,
     "status": "pending"
    },
    "tags": []
   },
   "outputs": [],
   "source": [
    "s3"
   ]
  },
  {
   "cell_type": "code",
   "execution_count": null,
   "id": "3cc0fd65",
   "metadata": {
    "papermill": {
     "duration": null,
     "end_time": null,
     "exception": null,
     "start_time": null,
     "status": "pending"
    },
    "tags": []
   },
   "outputs": [],
   "source": [
    "s4"
   ]
  },
  {
   "cell_type": "markdown",
   "id": "efa8e980",
   "metadata": {
    "papermill": {
     "duration": null,
     "end_time": null,
     "exception": null,
     "start_time": null,
     "status": "pending"
    },
    "tags": []
   },
   "source": [
    "When unpacking, the number of variables on the left must match the number of values in the tuple:"
   ]
  },
  {
   "cell_type": "code",
   "execution_count": null,
   "id": "d19bd7f0",
   "metadata": {
    "papermill": {
     "duration": null,
     "end_time": null,
     "exception": null,
     "start_time": null,
     "status": "pending"
    },
    "tags": []
   },
   "outputs": [],
   "source": [
    "(s1, s2, s3) = t        "
   ]
  },
  {
   "cell_type": "code",
   "execution_count": null,
   "id": "eb9eb602",
   "metadata": {
    "papermill": {
     "duration": null,
     "end_time": null,
     "exception": null,
     "start_time": null,
     "status": "pending"
    },
    "tags": []
   },
   "outputs": [],
   "source": [
    "(s1, s2, s3, s4, s5) = t"
   ]
  },
  {
   "cell_type": "markdown",
   "id": "39cceff6",
   "metadata": {
    "papermill": {
     "duration": null,
     "end_time": null,
     "exception": null,
     "start_time": null,
     "status": "pending"
    },
    "tags": []
   },
   "source": [
    "Packing and unpacking can be combined into one statement to make a compound assignment:"
   ]
  },
  {
   "cell_type": "code",
   "execution_count": null,
   "id": "dd7556b5",
   "metadata": {
    "papermill": {
     "duration": null,
     "end_time": null,
     "exception": null,
     "start_time": null,
     "status": "pending"
    },
    "tags": []
   },
   "outputs": [],
   "source": [
    "(s1, s2, s3, s4) = ('foo', 'bar', 'baz', 'qux')"
   ]
  },
  {
   "cell_type": "code",
   "execution_count": null,
   "id": "4d1c1f71",
   "metadata": {
    "papermill": {
     "duration": null,
     "end_time": null,
     "exception": null,
     "start_time": null,
     "status": "pending"
    },
    "tags": []
   },
   "outputs": [],
   "source": [
    "s1"
   ]
  },
  {
   "cell_type": "code",
   "execution_count": null,
   "id": "feaa62fc",
   "metadata": {
    "papermill": {
     "duration": null,
     "end_time": null,
     "exception": null,
     "start_time": null,
     "status": "pending"
    },
    "tags": []
   },
   "outputs": [],
   "source": [
    "s2"
   ]
  },
  {
   "cell_type": "code",
   "execution_count": null,
   "id": "01643c3c",
   "metadata": {
    "papermill": {
     "duration": null,
     "end_time": null,
     "exception": null,
     "start_time": null,
     "status": "pending"
    },
    "tags": []
   },
   "outputs": [],
   "source": [
    "s3"
   ]
  },
  {
   "cell_type": "code",
   "execution_count": null,
   "id": "55a4fc46",
   "metadata": {
    "papermill": {
     "duration": null,
     "end_time": null,
     "exception": null,
     "start_time": null,
     "status": "pending"
    },
    "tags": []
   },
   "outputs": [],
   "source": [
    "s4"
   ]
  },
  {
   "cell_type": "markdown",
   "id": "2bf1dc4e",
   "metadata": {
    "papermill": {
     "duration": null,
     "end_time": null,
     "exception": null,
     "start_time": null,
     "status": "pending"
    },
    "tags": []
   },
   "source": [
    "Again, the number of elements in the tuple on the left of the assignment must equal the number on the right:"
   ]
  },
  {
   "cell_type": "code",
   "execution_count": null,
   "id": "b7e8ea32",
   "metadata": {
    "papermill": {
     "duration": null,
     "end_time": null,
     "exception": null,
     "start_time": null,
     "status": "pending"
    },
    "tags": []
   },
   "outputs": [],
   "source": [
    "(s1, s2, s3, s4, s5) = ('foo', 'bar', 'baz', 'qux')"
   ]
  },
  {
   "cell_type": "markdown",
   "id": "af7db6a9",
   "metadata": {
    "papermill": {
     "duration": null,
     "end_time": null,
     "exception": null,
     "start_time": null,
     "status": "pending"
    },
    "tags": []
   },
   "source": [
    "In assignments like this and a small handful of other situations, Python allows the parentheses that are usually used for denoting a tuple to be left out:"
   ]
  },
  {
   "cell_type": "code",
   "execution_count": null,
   "id": "9bb16140",
   "metadata": {
    "papermill": {
     "duration": null,
     "end_time": null,
     "exception": null,
     "start_time": null,
     "status": "pending"
    },
    "tags": []
   },
   "outputs": [],
   "source": [
    "t = 1, 2, 3\n",
    "t"
   ]
  },
  {
   "cell_type": "code",
   "execution_count": null,
   "id": "50085553",
   "metadata": {
    "papermill": {
     "duration": null,
     "end_time": null,
     "exception": null,
     "start_time": null,
     "status": "pending"
    },
    "tags": []
   },
   "outputs": [],
   "source": [
    "x1, x2, x3 = t\n",
    "x1, x2, x3"
   ]
  },
  {
   "cell_type": "code",
   "execution_count": null,
   "id": "b37110a0",
   "metadata": {
    "papermill": {
     "duration": null,
     "end_time": null,
     "exception": null,
     "start_time": null,
     "status": "pending"
    },
    "tags": []
   },
   "outputs": [],
   "source": [
    "x1, x2, x3 = 4, 5, 6\n",
    "x1, x2, x3"
   ]
  },
  {
   "cell_type": "code",
   "execution_count": null,
   "id": "5076ac1e",
   "metadata": {
    "papermill": {
     "duration": null,
     "end_time": null,
     "exception": null,
     "start_time": null,
     "status": "pending"
    },
    "tags": []
   },
   "outputs": [],
   "source": [
    "t = 2,\n",
    "t"
   ]
  },
  {
   "cell_type": "markdown",
   "id": "0cc19d47",
   "metadata": {
    "papermill": {
     "duration": null,
     "end_time": null,
     "exception": null,
     "start_time": null,
     "status": "pending"
    },
    "tags": []
   },
   "source": [
    "It works the same whether the parentheses are included or not, so if you have any doubt as to whether they’re needed, go ahead and include them."
   ]
  },
  {
   "cell_type": "markdown",
   "id": "82345e53",
   "metadata": {
    "papermill": {
     "duration": null,
     "end_time": null,
     "exception": null,
     "start_time": null,
     "status": "pending"
    },
    "tags": []
   },
   "source": [
    "Tuple assignment allows for a curious bit of idiomatic Python. Frequently when programming, you have two variables whose values you need to swap. In most programming languages, it is necessary to store one of the values in a temporary variable while the swap occurs like this:"
   ]
  },
  {
   "cell_type": "code",
   "execution_count": null,
   "id": "b58d3aa2",
   "metadata": {
    "papermill": {
     "duration": null,
     "end_time": null,
     "exception": null,
     "start_time": null,
     "status": "pending"
    },
    "tags": []
   },
   "outputs": [],
   "source": [
    "a = 'foo'\n",
    "b = 'bar'\n",
    "a, b"
   ]
  },
  {
   "cell_type": "code",
   "execution_count": null,
   "id": "879be3b6",
   "metadata": {
    "papermill": {
     "duration": null,
     "end_time": null,
     "exception": null,
     "start_time": null,
     "status": "pending"
    },
    "tags": []
   },
   "outputs": [],
   "source": [
    "temp = a\n",
    "a = b\n",
    "b = temp\n",
    "a, b"
   ]
  },
  {
   "cell_type": "markdown",
   "id": "380ee8aa",
   "metadata": {
    "papermill": {
     "duration": null,
     "end_time": null,
     "exception": null,
     "start_time": null,
     "status": "pending"
    },
    "tags": []
   },
   "source": [
    "In Python, the swap can be done with a single tuple assignment:"
   ]
  },
  {
   "cell_type": "code",
   "execution_count": null,
   "id": "057990d2",
   "metadata": {
    "papermill": {
     "duration": null,
     "end_time": null,
     "exception": null,
     "start_time": null,
     "status": "pending"
    },
    "tags": []
   },
   "outputs": [],
   "source": [
    "a = 'foo'\n",
    "b = 'bar'\n",
    "a, b"
   ]
  },
  {
   "cell_type": "code",
   "execution_count": null,
   "id": "37bbd833",
   "metadata": {
    "papermill": {
     "duration": null,
     "end_time": null,
     "exception": null,
     "start_time": null,
     "status": "pending"
    },
    "tags": []
   },
   "outputs": [],
   "source": [
    "a, b = b, a"
   ]
  },
  {
   "cell_type": "code",
   "execution_count": null,
   "id": "619b45e8",
   "metadata": {
    "papermill": {
     "duration": null,
     "end_time": null,
     "exception": null,
     "start_time": null,
     "status": "pending"
    },
    "tags": []
   },
   "outputs": [],
   "source": [
    "a, b"
   ]
  },
  {
   "cell_type": "markdown",
   "id": "660ad7b5",
   "metadata": {
    "papermill": {
     "duration": null,
     "end_time": null,
     "exception": null,
     "start_time": null,
     "status": "pending"
    },
    "tags": []
   },
   "source": [
    "As anyone who has ever had to swap values using a temporary variable knows, being able to do it this way in Python is the pinnacle of modern technological achievement. It will never get better than this."
   ]
  },
  {
   "cell_type": "code",
   "execution_count": null,
   "id": "63a9be33",
   "metadata": {
    "papermill": {
     "duration": null,
     "end_time": null,
     "exception": null,
     "start_time": null,
     "status": "pending"
    },
    "tags": []
   },
   "outputs": [],
   "source": [
    "x = (1, 2, 3)"
   ]
  },
  {
   "cell_type": "code",
   "execution_count": null,
   "id": "6eda5153",
   "metadata": {
    "papermill": {
     "duration": null,
     "end_time": null,
     "exception": null,
     "start_time": null,
     "status": "pending"
    },
    "tags": []
   },
   "outputs": [],
   "source": [
    "x[0]"
   ]
  },
  {
   "cell_type": "markdown",
   "id": "7a1a4693",
   "metadata": {
    "papermill": {
     "duration": null,
     "end_time": null,
     "exception": null,
     "start_time": null,
     "status": "pending"
    },
    "tags": []
   },
   "source": [
    "<a class=\"anchor\" id=\"conclusion\"></a>\n",
    "## Conclusion \n",
    "This tutorial covered the basic properties of Python **lists** and **tuples**, and how to manipulate them. You will use these extensively in your Python programming."
   ]
  },
  {
   "cell_type": "markdown",
   "id": "dd805877",
   "metadata": {
    "papermill": {
     "duration": null,
     "end_time": null,
     "exception": null,
     "start_time": null,
     "status": "pending"
    },
    "tags": []
   },
   "source": [
    "One of the chief characteristics of a list is that it is ordered. The order of the elements in a list is an intrinsic property of that list and does not change, unless the list itself is modified. (The same is true of tuples, except of course they can’t be modified.)"
   ]
  },
  {
   "cell_type": "markdown",
   "id": "3ee0a0df",
   "metadata": {
    "papermill": {
     "duration": null,
     "end_time": null,
     "exception": null,
     "start_time": null,
     "status": "pending"
    },
    "tags": []
   },
   "source": [
    "The next tutorial will introduce you to the Python **dictionary**: a composite data type that is unordered. Read on!"
   ]
  }
 ],
 "metadata": {
  "kernelspec": {
   "display_name": "Python 3",
   "language": "python",
   "name": "python3"
  },
  "language_info": {
   "codemirror_mode": {
    "name": "ipython",
    "version": 3
   },
   "file_extension": ".py",
   "mimetype": "text/x-python",
   "name": "python",
   "nbconvert_exporter": "python",
   "pygments_lexer": "ipython3",
   "version": "3.10.12"
  },
  "papermill": {
   "default_parameters": {},
   "duration": 17.093545,
   "end_time": "2023-10-15T05:36:59.910331",
   "environment_variables": {},
   "exception": true,
   "input_path": "__notebook__.ipynb",
   "output_path": "__notebook__.ipynb",
   "parameters": {},
   "start_time": "2023-10-15T05:36:42.816786",
   "version": "2.4.0"
  }
 },
 "nbformat": 4,
 "nbformat_minor": 5
}
