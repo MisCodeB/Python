{
 "cells": [
  {
   "cell_type": "markdown",
   "id": "707b5787",
   "metadata": {
    "papermill": {
     "duration": 0.003882,
     "end_time": "2023-10-15T05:40:49.271734",
     "exception": false,
     "start_time": "2023-10-15T05:40:49.267852",
     "status": "completed"
    },
    "tags": []
   },
   "source": []
  },
  {
   "cell_type": "markdown",
   "id": "2c363e02",
   "metadata": {
    "papermill": {
     "duration": 0.002785,
     "end_time": "2023-10-15T05:40:49.277519",
     "exception": false,
     "start_time": "2023-10-15T05:40:49.274734",
     "status": "completed"
    },
    "tags": []
   },
   "source": [
    " Lists: Under the Hood \n"
   ]
  },
  {
   "cell_type": "code",
   "execution_count": null,
   "id": "bc6bf636",
   "metadata": {
    "papermill": {
     "duration": 0.002801,
     "end_time": "2023-10-15T05:40:49.283358",
     "exception": false,
     "start_time": "2023-10-15T05:40:49.280557",
     "status": "completed"
    },
    "tags": []
   },
   "outputs": [],
   "source": []
  },
  {
   "cell_type": "markdown",
   "id": "a2462dc2",
   "metadata": {
    "papermill": {
     "duration": 0.003539,
     "end_time": "2023-10-15T05:40:49.290027",
     "exception": false,
     "start_time": "2023-10-15T05:40:49.286488",
     "status": "completed"
    },
    "tags": []
   },
   "source": [
    "Table of Contents \n",
    "* [Space/Time Complexity](#space/time_complexity)\n",
    "    * [Time Complexity](#time_complexity)\n",
    "        * [File Transfer Problem](#file_transfer_problem)\n",
    "        * [Common Big-Os](#common_big-os)\n",
    "        * [Examples](#examples)\n",
    "    * [Space Complexity](#space_complexity)\n",
    "* [Array](#array)\n",
    "* [Linked List](#linked_list)\n",
    "* [Array vs. Linked List](#array_vs._linked_list)\n",
    "\n",
    "---"
   ]
  },
  {
   "cell_type": "markdown",
   "id": "072a79b9",
   "metadata": {
    "papermill": {
     "duration": 0.002778,
     "end_time": "2023-10-15T05:40:49.296217",
     "exception": false,
     "start_time": "2023-10-15T05:40:49.293439",
     "status": "completed"
    },
    "tags": []
   },
   "source": [
    "<a class=\"anchor\" id=\"big-o\"></a>\n",
    "\n",
    "# Big-O"
   ]
  },
  {
   "cell_type": "markdown",
   "id": "7b2e476d",
   "metadata": {
    "papermill": {
     "duration": 0.002831,
     "end_time": "2023-10-15T05:40:49.302098",
     "exception": false,
     "start_time": "2023-10-15T05:40:49.299267",
     "status": "completed"
    },
    "tags": []
   },
   "source": [
    "<a class=\"anchor\" id=\"space/time_complexity\"></a>\n",
    "\n",
    "## Space/Time Complexity"
   ]
  },
  {
   "cell_type": "markdown",
   "id": "f34833d6",
   "metadata": {
    "papermill": {
     "duration": 0.002863,
     "end_time": "2023-10-15T05:40:49.307961",
     "exception": false,
     "start_time": "2023-10-15T05:40:49.305098",
     "status": "completed"
    },
    "tags": []
   },
   "source": [
    "<a class=\"anchor\" id=\"time_complexity\"></a>\n",
    "\n",
    "### Time Complexity"
   ]
  },
  {
   "cell_type": "markdown",
   "id": "4811abff",
   "metadata": {
    "papermill": {
     "duration": 0.002729,
     "end_time": "2023-10-15T05:40:49.313640",
     "exception": false,
     "start_time": "2023-10-15T05:40:49.310911",
     "status": "completed"
    },
    "tags": []
   },
   "source": [
    "<a class=\"anchor\" id=\"file_transfer_problem\"></a>\n",
    "\n",
    "#### File Transfer Problem"
   ]
  },
  {
   "cell_type": "markdown",
   "id": "5b9598cd",
   "metadata": {
    "papermill": {
     "duration": 0.002751,
     "end_time": "2023-10-15T05:40:49.319419",
     "exception": false,
     "start_time": "2023-10-15T05:40:49.316668",
     "status": "completed"
    },
    "tags": []
   },
   "source": [
    "**How to transfer a file?**\n",
    "1. plane: O(1)\n",
    "2. email: O(s)"
   ]
  },
  {
   "cell_type": "markdown",
   "id": "70400dc6",
   "metadata": {
    "papermill": {
     "duration": 0.002911,
     "end_time": "2023-10-15T05:40:49.325270",
     "exception": false,
     "start_time": "2023-10-15T05:40:49.322359",
     "status": "completed"
    },
    "tags": []
   },
   "source": [
    "<a class=\"anchor\" id=\"common_big-os\"></a>\n",
    "\n",
    "#### Common Big-Os\n",
    "- O(1)\n",
    "- O(Log N)\n",
    "- O(N)\n",
    "- O(N Log N)\n",
    "- O(N^2)\n",
    "- O(2^N)"
   ]
  },
  {
   "cell_type": "markdown",
   "id": "deeb0659",
   "metadata": {
    "papermill": {
     "duration": 0.002864,
     "end_time": "2023-10-15T05:40:49.331153",
     "exception": false,
     "start_time": "2023-10-15T05:40:49.328289",
     "status": "completed"
    },
    "tags": []
   },
   "source": [
    "<a class=\"anchor\" id=\"examples\"></a>\n",
    "\n",
    "#### Examples"
   ]
  },
  {
   "cell_type": "markdown",
   "id": "66e101a6",
   "metadata": {
    "papermill": {
     "duration": 0.002845,
     "end_time": "2023-10-15T05:40:49.336974",
     "exception": false,
     "start_time": "2023-10-15T05:40:49.334129",
     "status": "completed"
    },
    "tags": []
   },
   "source": [
    "```python\n",
    "for i in range(n):\n",
    "    for j in range(n):\n",
    "        # O(1) operation here\n",
    "```"
   ]
  },
  {
   "cell_type": "markdown",
   "id": "431bcda3",
   "metadata": {
    "papermill": {
     "duration": 0.00282,
     "end_time": "2023-10-15T05:40:49.342796",
     "exception": false,
     "start_time": "2023-10-15T05:40:49.339976",
     "status": "completed"
    },
    "tags": []
   },
   "source": [
    "```python\n",
    "for i in range(n):\n",
    "    for j in range(m):\n",
    "        # O(1) operation here\n",
    "```"
   ]
  },
  {
   "cell_type": "markdown",
   "id": "535206ce",
   "metadata": {
    "papermill": {
     "duration": 0.002912,
     "end_time": "2023-10-15T05:40:49.348756",
     "exception": false,
     "start_time": "2023-10-15T05:40:49.345844",
     "status": "completed"
    },
    "tags": []
   },
   "source": [
    "**Linear Search**\n",
    "```python\n",
    "for item in mylist:\n",
    "    if item == \"target\":\n",
    "        print(\"found it\")\n",
    "```"
   ]
  },
  {
   "cell_type": "markdown",
   "id": "ef9e807f",
   "metadata": {
    "papermill": {
     "duration": 0.002794,
     "end_time": "2023-10-15T05:40:49.354614",
     "exception": false,
     "start_time": "2023-10-15T05:40:49.351820",
     "status": "completed"
    },
    "tags": []
   },
   "source": [
    "**Binary Search**"
   ]
  },
  {
   "cell_type": "markdown",
   "id": "5337a11b",
   "metadata": {
    "papermill": {
     "duration": 0.002953,
     "end_time": "2023-10-15T05:40:49.360637",
     "exception": false,
     "start_time": "2023-10-15T05:40:49.357684",
     "status": "completed"
    },
    "tags": []
   },
   "source": []
  },
  {
   "cell_type": "markdown",
   "id": "4655a137",
   "metadata": {
    "papermill": {
     "duration": 0.002866,
     "end_time": "2023-10-15T05:40:49.366612",
     "exception": false,
     "start_time": "2023-10-15T05:40:49.363746",
     "status": "completed"
    },
    "tags": []
   },
   "source": []
  },
  {
   "cell_type": "markdown",
   "id": "7779d4f7",
   "metadata": {
    "papermill": {
     "duration": 0.002916,
     "end_time": "2023-10-15T05:40:49.372623",
     "exception": false,
     "start_time": "2023-10-15T05:40:49.369707",
     "status": "completed"
    },
    "tags": []
   },
   "source": [
    "<a class=\"anchor\" id=\"space_complexity\"></a>\n",
    "\n",
    "### Space Complexity"
   ]
  },
  {
   "cell_type": "markdown",
   "id": "907bbf8f",
   "metadata": {
    "papermill": {
     "duration": 0.002762,
     "end_time": "2023-10-15T05:40:49.378350",
     "exception": false,
     "start_time": "2023-10-15T05:40:49.375588",
     "status": "completed"
    },
    "tags": []
   },
   "source": [
    "Similar to time complexity, Space complexity refers to the total amount of memory space used by an algorithm/program, including the space of input values for execution."
   ]
  },
  {
   "cell_type": "markdown",
   "id": "c3aff45e",
   "metadata": {
    "papermill": {
     "duration": 0.003004,
     "end_time": "2023-10-15T05:40:49.384386",
     "exception": false,
     "start_time": "2023-10-15T05:40:49.381382",
     "status": "completed"
    },
    "tags": []
   },
   "source": [
    "<a class=\"anchor\" id=\"array\"></a>\n",
    "\n",
    "## Array"
   ]
  },
  {
   "cell_type": "markdown",
   "id": "5e47df41",
   "metadata": {
    "papermill": {
     "duration": 0.002983,
     "end_time": "2023-10-15T05:40:49.390406",
     "exception": false,
     "start_time": "2023-10-15T05:40:49.387423",
     "status": "completed"
    },
    "tags": []
   },
   "source": [
    "An array is defined as a set of a definite number of homogeneous elements or data items. It means an array can contain one type of data only, either all integers, all floating-point numbers, or all characters.\n",
    "\n",
    "Declaration of an array is as follows:\n",
    "\n",
    "C:\n",
    "```C\n",
    "int a [10];\n",
    "```\n",
    "\n",
    "Python:\n",
    "```python\n",
    "mylist = []\n",
    "```"
   ]
  },
  {
   "cell_type": "markdown",
   "id": "5757398a",
   "metadata": {
    "papermill": {
     "duration": 0.002984,
     "end_time": "2023-10-15T05:40:49.396481",
     "exception": false,
     "start_time": "2023-10-15T05:40:49.393497",
     "status": "completed"
    },
    "tags": []
   },
   "source": [
    "The individual elements of an array can be accessed by describing the name of the array, followed by index or subscript (determining the location of the element in the array) inside the square brackets.\n",
    "\n",
    "For example, to retrieve 5th element of the array, we need to write a statement `a[4]`."
   ]
  },
  {
   "cell_type": "markdown",
   "id": "8c10ac05",
   "metadata": {
    "papermill": {
     "duration": 0.002917,
     "end_time": "2023-10-15T05:40:49.402586",
     "exception": false,
     "start_time": "2023-10-15T05:40:49.399669",
     "status": "completed"
    },
    "tags": []
   },
   "source": []
  },
  {
   "cell_type": "markdown",
   "id": "0e3ef078",
   "metadata": {
    "papermill": {
     "duration": 0.002935,
     "end_time": "2023-10-15T05:40:49.408607",
     "exception": false,
     "start_time": "2023-10-15T05:40:49.405672",
     "status": "completed"
    },
    "tags": []
   },
   "source": [
    "<a class=\"anchor\" id=\"linked_list\"></a>\n",
    "\n",
    "## Linked List"
   ]
  },
  {
   "cell_type": "markdown",
   "id": "96ea9e80",
   "metadata": {
    "papermill": {
     "duration": 0.002828,
     "end_time": "2023-10-15T05:40:49.414561",
     "exception": false,
     "start_time": "2023-10-15T05:40:49.411733",
     "status": "completed"
    },
    "tags": []
   },
   "source": [
    "Linked list is a particular list of some data elements linked to one other. In this every element point to the next element which represents the logical ordering. Each element is called a node, which has two parts"
   ]
  },
  {
   "cell_type": "markdown",
   "id": "c4448bfe",
   "metadata": {
    "papermill": {
     "duration": 0.002877,
     "end_time": "2023-10-15T05:40:49.420494",
     "exception": false,
     "start_time": "2023-10-15T05:40:49.417617",
     "status": "completed"
    },
    "tags": []
   },
   "source": [
    "**INFO** part which stores the information and **POINTER** which points to the next element. As you know for storing address, we have a unique data structures in C called pointers. Hence the second field of the list must be a pointer type."
   ]
  },
  {
   "cell_type": "markdown",
   "id": "cb183244",
   "metadata": {
    "papermill": {
     "duration": 0.002781,
     "end_time": "2023-10-15T05:40:49.426248",
     "exception": false,
     "start_time": "2023-10-15T05:40:49.423467",
     "status": "completed"
    },
    "tags": []
   },
   "source": []
  },
  {
   "cell_type": "markdown",
   "id": "823fd85f",
   "metadata": {
    "papermill": {
     "duration": 0.002968,
     "end_time": "2023-10-15T05:40:49.432204",
     "exception": false,
     "start_time": "2023-10-15T05:40:49.429236",
     "status": "completed"
    },
    "tags": []
   },
   "source": []
  },
  {
   "cell_type": "markdown",
   "id": "5b680f52",
   "metadata": {
    "papermill": {
     "duration": 0.002895,
     "end_time": "2023-10-15T05:40:49.438130",
     "exception": false,
     "start_time": "2023-10-15T05:40:49.435235",
     "status": "completed"
    },
    "tags": []
   },
   "source": [
    "<a class=\"anchor\" id=\"array_vs._linked_list\"></a>\n",
    "\n",
    "## Array vs. Linked List"
   ]
  },
  {
   "cell_type": "markdown",
   "id": "f43b6d12",
   "metadata": {
    "papermill": {
     "duration": 0.002999,
     "end_time": "2023-10-15T05:40:49.444203",
     "exception": false,
     "start_time": "2023-10-15T05:40:49.441204",
     "status": "completed"
    },
    "tags": []
   },
   "source": [
    "|Basis for Comparison|Array|Linked List|\n",
    "|:--|:--|:--|\n",
    "|**Basic**|It is a consistent set of a fixed number of data items. |It is an ordered set comprising a variable number of data items.|\n",
    "|**Size**|\tSpecified during declaration.|\tNo need to specify; grow and shrink during execution.|\n",
    "|**Storage**| Allocation|\tElement location is allocated during compile time.\tElement position is assigned during run time.|\n",
    "|**Order of the elements**|\tStored consecutively|\tStored randomly|\n",
    "|**Accessing the element**|\tDirect or randomly accessed, i.e., Specify the array index or subscript.|\tSequentially accessed, i.e., Traverse starting from the first node in the list by the pointer.|\n",
    "|**Insertion and deletion of element**|\tSlow relatively as shifting is required.|Easier, fast and efficient.\n",
    "|**Searching**|\tBinary search and linear search|Linear search|\n",
    "|**Memory required**|\tLess|\tMore|\n",
    "|**Memory Utilization**|\tIneffective|\tEfficient|"
   ]
  }
 ],
 "metadata": {
  "kernelspec": {
   "display_name": "Python 3",
   "language": "python",
   "name": "python3"
  },
  "language_info": {
   "codemirror_mode": {
    "name": "ipython",
    "version": 3
   },
   "file_extension": ".py",
   "mimetype": "text/x-python",
   "name": "python",
   "nbconvert_exporter": "python",
   "pygments_lexer": "ipython3",
   "version": "3.10.12"
  },
  "papermill": {
   "default_parameters": {},
   "duration": 2.918392,
   "end_time": "2023-10-15T05:40:49.766644",
   "environment_variables": {},
   "exception": null,
   "input_path": "__notebook__.ipynb",
   "output_path": "__notebook__.ipynb",
   "parameters": {},
   "start_time": "2023-10-15T05:40:46.848252",
   "version": "2.4.0"
  }
 },
 "nbformat": 4,
 "nbformat_minor": 5
}
