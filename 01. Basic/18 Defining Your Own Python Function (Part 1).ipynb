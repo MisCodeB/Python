{
 "cells": [
  {
   "cell_type": "markdown",
   "id": "823ff337",
   "metadata": {
    "papermill": {
     "duration": 0.04047,
     "end_time": "2023-10-15T10:56:04.754802",
     "exception": false,
     "start_time": "2023-10-15T10:56:04.714332",
     "status": "completed"
    },
    "tags": []
   },
   "source": []
  },
  {
   "cell_type": "markdown",
   "id": "c00e3fb6",
   "metadata": {
    "papermill": {
     "duration": 0.038831,
     "end_time": "2023-10-15T10:56:04.825547",
     "exception": false,
     "start_time": "2023-10-15T10:56:04.786716",
     "status": "completed"
    },
    "tags": []
   },
   "source": [
    "#  Defining Your Own Python Function \n"
   ]
  },
  {
   "cell_type": "markdown",
   "id": "3a2d6185",
   "metadata": {
    "papermill": {
     "duration": 0.036993,
     "end_time": "2023-10-15T10:56:04.962058",
     "exception": false,
     "start_time": "2023-10-15T10:56:04.925065",
     "status": "completed"
    },
    "tags": []
   },
   "source": [
    "##  Table of Contents \n",
    "* [Functions in Python](#functions_in_python)\n",
    "* [The Importance of Python Functions](#the_importance_of_python_functions)\n",
    "    * [Abstraction and Reusability](#abstraction_and_reusability)\n",
    "    * [Modularity](#modularity)\n",
    "    * [Namespace Separation](#namespace_separation)\n",
    "* [Function Calls and Definition](#function_calls_and_definition)\n",
    "* [Argument Passing](#argument_passing)\n",
    "    * [Positional Arguments](#positional_arguments)\n",
    "    * [Keyword Arguments](#keyword_arguments)\n",
    "    * [Default Parameters](#default_parameters)\n",
    "* [Mutable Default Parameter Values](#mutable_default_parameter_values)\n",
    "* [Pass-By-Value vs Pass-By-Reference](#pass-by-value_vs_pass-by-reference)\n",
    "    * [Argument Passing Summary](#argument_passing_summary)\n",
    "    * [Side Effects](#side_effects)\n",
    "* [The return Statement](#the_return_statement)\n",
    "    * [Exiting a Function](#exiting_a_function)\n",
    "    * [Returning Data to the Caller](#returning_data_to_the_caller)\n",
    "    * [Revisiting Side Effects](#revisiting_side_effects)\n",
    "* [Conclusion](#conclusion)\n",
    "\n",
    "---"
   ]
  },
  {
   "cell_type": "markdown",
   "id": "e9c16cfe",
   "metadata": {
    "papermill": {
     "duration": 0.036262,
     "end_time": "2023-10-15T10:56:05.034031",
     "exception": false,
     "start_time": "2023-10-15T10:56:04.997769",
     "status": "completed"
    },
    "tags": []
   },
   "source": [
    "Throughout the previous sections in this series, you’ve seen many examples demonstrating the use of built-in Python functions. In this tutorial, you’ll learn how to **define your own Python function**. You’ll learn when to divide your program into separate user-defined functions and what tools you’ll need to do this."
   ]
  },
  {
   "cell_type": "markdown",
   "id": "8dcf3192",
   "metadata": {
    "papermill": {
     "duration": 0.031288,
     "end_time": "2023-10-15T10:56:05.097340",
     "exception": false,
     "start_time": "2023-10-15T10:56:05.066052",
     "status": "completed"
    },
    "tags": []
   },
   "source": [
    "Here’s what you’ll learn in this tutorial:\n",
    "\n",
    "- How **functions** work in Python and why they’re beneficial\n",
    "- How to **define and call** your own Python function\n",
    "- Mechanisms for **passing arguments** to your function\n",
    "- How to **return data** from your function back to the calling environment"
   ]
  },
  {
   "cell_type": "markdown",
   "id": "4977b0d8",
   "metadata": {
    "papermill": {
     "duration": 0.030629,
     "end_time": "2023-10-15T10:56:05.158931",
     "exception": false,
     "start_time": "2023-10-15T10:56:05.128302",
     "status": "completed"
    },
    "tags": []
   },
   "source": [
    "<a class=\"anchor\" id=\"functions_in_python\"></a>\n",
    "## Functions in Python"
   ]
  },
  {
   "cell_type": "markdown",
   "id": "c9f2d3fe",
   "metadata": {
    "papermill": {
     "duration": 0.030733,
     "end_time": "2023-10-15T10:56:05.221312",
     "exception": false,
     "start_time": "2023-10-15T10:56:05.190579",
     "status": "completed"
    },
    "tags": []
   },
   "source": [
    "You may be familiar with the mathematical concept of a **function**. A function is a relationship or mapping between one or more inputs and a set of outputs. In mathematics, a function is typically represented like this:\n",
    "\n",
    "$$\n",
    "z = f(x, y)\n",
    "$$"
   ]
  },
  {
   "cell_type": "markdown",
   "id": "47f21f93",
   "metadata": {
    "papermill": {
     "duration": 0.031687,
     "end_time": "2023-10-15T10:56:05.284826",
     "exception": false,
     "start_time": "2023-10-15T10:56:05.253139",
     "status": "completed"
    },
    "tags": []
   },
   "source": [
    "Here, `f` is a function that operates on the inputs `x` and `y`. The output of the function is `z`. However, programming functions are much more generalized and versatile than this mathematical definition. In fact, appropriate function definition and use is so critical to proper software development that virtually all modern programming languages support both built-in and user-defined functions."
   ]
  },
  {
   "cell_type": "markdown",
   "id": "26c47979",
   "metadata": {
    "papermill": {
     "duration": 0.031643,
     "end_time": "2023-10-15T10:56:05.348624",
     "exception": false,
     "start_time": "2023-10-15T10:56:05.316981",
     "status": "completed"
    },
    "tags": []
   },
   "source": [
    "In programming, a **function** is a self-contained block of code that encapsulates a specific task or related group of tasks. In previous tutorials in this series, you’ve been introduced to some of the built-in functions provided by Python. `id()`, for example, takes one argument and returns that object’s unique integer identifier:"
   ]
  },
  {
   "cell_type": "code",
   "execution_count": 1,
   "id": "3f4a7295",
   "metadata": {
    "execution": {
     "iopub.execute_input": "2023-10-15T10:56:05.414492Z",
     "iopub.status.busy": "2023-10-15T10:56:05.413647Z",
     "iopub.status.idle": "2023-10-15T10:56:05.422482Z",
     "shell.execute_reply": "2023-10-15T10:56:05.421775Z"
    },
    "papermill": {
     "duration": 0.04469,
     "end_time": "2023-10-15T10:56:05.424670",
     "exception": false,
     "start_time": "2023-10-15T10:56:05.379980",
     "status": "completed"
    },
    "tags": []
   },
   "outputs": [],
   "source": [
    "s = 'foobar'"
   ]
  },
  {
   "cell_type": "code",
   "execution_count": 2,
   "id": "eab52561",
   "metadata": {
    "execution": {
     "iopub.execute_input": "2023-10-15T10:56:05.491043Z",
     "iopub.status.busy": "2023-10-15T10:56:05.490289Z",
     "iopub.status.idle": "2023-10-15T10:56:05.497702Z",
     "shell.execute_reply": "2023-10-15T10:56:05.496624Z"
    },
    "papermill": {
     "duration": 0.043226,
     "end_time": "2023-10-15T10:56:05.499971",
     "exception": false,
     "start_time": "2023-10-15T10:56:05.456745",
     "status": "completed"
    },
    "tags": []
   },
   "outputs": [
    {
     "data": {
      "text/plain": [
       "135155375545968"
      ]
     },
     "execution_count": 2,
     "metadata": {},
     "output_type": "execute_result"
    }
   ],
   "source": [
    "id(s)"
   ]
  },
  {
   "cell_type": "markdown",
   "id": "72f4f826",
   "metadata": {
    "papermill": {
     "duration": 0.031126,
     "end_time": "2023-10-15T10:56:05.562448",
     "exception": false,
     "start_time": "2023-10-15T10:56:05.531322",
     "status": "completed"
    },
    "tags": []
   },
   "source": [
    "`len()` returns the length of the argument passed to it:"
   ]
  },
  {
   "cell_type": "code",
   "execution_count": 3,
   "id": "d243d530",
   "metadata": {
    "execution": {
     "iopub.execute_input": "2023-10-15T10:56:05.627302Z",
     "iopub.status.busy": "2023-10-15T10:56:05.626438Z",
     "iopub.status.idle": "2023-10-15T10:56:05.634904Z",
     "shell.execute_reply": "2023-10-15T10:56:05.633502Z"
    },
    "papermill": {
     "duration": 0.043623,
     "end_time": "2023-10-15T10:56:05.637381",
     "exception": false,
     "start_time": "2023-10-15T10:56:05.593758",
     "status": "completed"
    },
    "tags": []
   },
   "outputs": [
    {
     "data": {
      "text/plain": [
       "4"
      ]
     },
     "execution_count": 3,
     "metadata": {},
     "output_type": "execute_result"
    }
   ],
   "source": [
    "a = ['foo', 'bar', 'baz', 'qux']\n",
    "len(a)"
   ]
  },
  {
   "cell_type": "markdown",
   "id": "378ea879",
   "metadata": {
    "papermill": {
     "duration": 0.03236,
     "end_time": "2023-10-15T10:56:05.701559",
     "exception": false,
     "start_time": "2023-10-15T10:56:05.669199",
     "status": "completed"
    },
    "tags": []
   },
   "source": [
    "`any()` takes an iterable as its argument and returns `True` if any of the items in the iterable are truthy and `False` otherwise:"
   ]
  },
  {
   "cell_type": "code",
   "execution_count": 4,
   "id": "cb3c35b5",
   "metadata": {
    "execution": {
     "iopub.execute_input": "2023-10-15T10:56:05.767171Z",
     "iopub.status.busy": "2023-10-15T10:56:05.766772Z",
     "iopub.status.idle": "2023-10-15T10:56:05.773755Z",
     "shell.execute_reply": "2023-10-15T10:56:05.772616Z"
    },
    "papermill": {
     "duration": 0.04195,
     "end_time": "2023-10-15T10:56:05.775880",
     "exception": false,
     "start_time": "2023-10-15T10:56:05.733930",
     "status": "completed"
    },
    "tags": []
   },
   "outputs": [
    {
     "data": {
      "text/plain": [
       "False"
      ]
     },
     "execution_count": 4,
     "metadata": {},
     "output_type": "execute_result"
    }
   ],
   "source": [
    "any([False, False, False])"
   ]
  },
  {
   "cell_type": "code",
   "execution_count": 5,
   "id": "931efb55",
   "metadata": {
    "execution": {
     "iopub.execute_input": "2023-10-15T10:56:05.842248Z",
     "iopub.status.busy": "2023-10-15T10:56:05.841316Z",
     "iopub.status.idle": "2023-10-15T10:56:05.848144Z",
     "shell.execute_reply": "2023-10-15T10:56:05.847405Z"
    },
    "papermill": {
     "duration": 0.041792,
     "end_time": "2023-10-15T10:56:05.849946",
     "exception": false,
     "start_time": "2023-10-15T10:56:05.808154",
     "status": "completed"
    },
    "tags": []
   },
   "outputs": [
    {
     "data": {
      "text/plain": [
       "True"
      ]
     },
     "execution_count": 5,
     "metadata": {},
     "output_type": "execute_result"
    }
   ],
   "source": [
    "any([False, True, False])"
   ]
  },
  {
   "cell_type": "code",
   "execution_count": 6,
   "id": "bce04018",
   "metadata": {
    "execution": {
     "iopub.execute_input": "2023-10-15T10:56:05.915595Z",
     "iopub.status.busy": "2023-10-15T10:56:05.914380Z",
     "iopub.status.idle": "2023-10-15T10:56:05.922504Z",
     "shell.execute_reply": "2023-10-15T10:56:05.921328Z"
    },
    "papermill": {
     "duration": 0.043305,
     "end_time": "2023-10-15T10:56:05.924794",
     "exception": false,
     "start_time": "2023-10-15T10:56:05.881489",
     "status": "completed"
    },
    "tags": []
   },
   "outputs": [
    {
     "data": {
      "text/plain": [
       "False"
      ]
     },
     "execution_count": 6,
     "metadata": {},
     "output_type": "execute_result"
    }
   ],
   "source": [
    "any(['bar' == 'baz', len('foo') == 4, 'qux' in {'foo', 'bar', 'baz'}])"
   ]
  },
  {
   "cell_type": "code",
   "execution_count": 7,
   "id": "8589f57e",
   "metadata": {
    "execution": {
     "iopub.execute_input": "2023-10-15T10:56:05.990560Z",
     "iopub.status.busy": "2023-10-15T10:56:05.990166Z",
     "iopub.status.idle": "2023-10-15T10:56:05.997119Z",
     "shell.execute_reply": "2023-10-15T10:56:05.995948Z"
    },
    "papermill": {
     "duration": 0.043462,
     "end_time": "2023-10-15T10:56:05.999680",
     "exception": false,
     "start_time": "2023-10-15T10:56:05.956218",
     "status": "completed"
    },
    "tags": []
   },
   "outputs": [
    {
     "data": {
      "text/plain": [
       "True"
      ]
     },
     "execution_count": 7,
     "metadata": {},
     "output_type": "execute_result"
    }
   ],
   "source": [
    "any(['bar' == 'baz', len('foo') == 3, 'qux' in {'foo', 'bar', 'baz'}])"
   ]
  },
  {
   "cell_type": "markdown",
   "id": "86eb7d75",
   "metadata": {
    "papermill": {
     "duration": 0.031566,
     "end_time": "2023-10-15T10:56:06.067990",
     "exception": false,
     "start_time": "2023-10-15T10:56:06.036424",
     "status": "completed"
    },
    "tags": []
   },
   "source": [
    "Each of these built-in functions performs a specific task. The code that accomplishes the task is defined somewhere, but you don’t need to know where or even how the code works. All you need to know about is the function’s interface:\n",
    "\n",
    "1. What **arguments** (if any) it takes\n",
    "2. What **values** (if any) it returns"
   ]
  },
  {
   "cell_type": "markdown",
   "id": "8a4ac6e1",
   "metadata": {
    "papermill": {
     "duration": 0.031397,
     "end_time": "2023-10-15T10:56:06.131172",
     "exception": false,
     "start_time": "2023-10-15T10:56:06.099775",
     "status": "completed"
    },
    "tags": []
   },
   "source": [
    "Then you call the function and pass the appropriate arguments. Program execution goes off to the designated body of code and does its useful thing. When the function is finished, execution returns to your code where it left off. The function may or may not return data for your code to use, as the examples above do."
   ]
  },
  {
   "cell_type": "markdown",
   "id": "e3e7d83c",
   "metadata": {
    "papermill": {
     "duration": 0.03265,
     "end_time": "2023-10-15T10:56:06.195825",
     "exception": false,
     "start_time": "2023-10-15T10:56:06.163175",
     "status": "completed"
    },
    "tags": []
   },
   "source": [
    "When you define your own Python function, it works just the same. From somewhere in your code, you’ll call your Python function and program execution will transfer to the body of code that makes up the function."
   ]
  },
  {
   "cell_type": "markdown",
   "id": "c37644f0",
   "metadata": {
    "papermill": {
     "duration": 0.032201,
     "end_time": "2023-10-15T10:56:06.259853",
     "exception": false,
     "start_time": "2023-10-15T10:56:06.227652",
     "status": "completed"
    },
    "tags": []
   },
   "source": [
    "> **Note:** In this case, you will know where the code is and exactly how it works because you wrote it!"
   ]
  },
  {
   "cell_type": "markdown",
   "id": "7b613544",
   "metadata": {
    "papermill": {
     "duration": 0.031385,
     "end_time": "2023-10-15T10:56:06.323793",
     "exception": false,
     "start_time": "2023-10-15T10:56:06.292408",
     "status": "completed"
    },
    "tags": []
   },
   "source": [
    "When the function is finished, execution returns to the location where the function was called. Depending on how you designed the function’s interface, data may be passed in when the function is called, and return values may be passed back when it finishes."
   ]
  },
  {
   "cell_type": "markdown",
   "id": "1537bec9",
   "metadata": {
    "papermill": {
     "duration": 0.031635,
     "end_time": "2023-10-15T10:56:06.387217",
     "exception": false,
     "start_time": "2023-10-15T10:56:06.355582",
     "status": "completed"
    },
    "tags": []
   },
   "source": [
    "<a class=\"anchor\" id=\"the_importance_of_python_functions\"></a>\n",
    "## The Importance of Python Functions"
   ]
  },
  {
   "cell_type": "markdown",
   "id": "74f7bdc7",
   "metadata": {
    "papermill": {
     "duration": 0.03168,
     "end_time": "2023-10-15T10:56:06.452050",
     "exception": false,
     "start_time": "2023-10-15T10:56:06.420370",
     "status": "completed"
    },
    "tags": []
   },
   "source": [
    "Virtually all programming languages used today support a form of user-defined functions, although they aren’t always called functions. In other languages, you may see them referred to as one of the following:\n",
    "\n",
    "- **Subroutines**\n",
    "- **Procedures**\n",
    "- **Methods**\n",
    "- **Subprograms**"
   ]
  },
  {
   "cell_type": "markdown",
   "id": "d6fbd294",
   "metadata": {
    "papermill": {
     "duration": 0.031648,
     "end_time": "2023-10-15T10:56:06.515602",
     "exception": false,
     "start_time": "2023-10-15T10:56:06.483954",
     "status": "completed"
    },
    "tags": []
   },
   "source": [
    "So, why bother defining functions? There are several very good reasons. Let’s go over a few now."
   ]
  },
  {
   "cell_type": "markdown",
   "id": "ff9fdfe4",
   "metadata": {
    "papermill": {
     "duration": 0.031395,
     "end_time": "2023-10-15T10:56:06.578915",
     "exception": false,
     "start_time": "2023-10-15T10:56:06.547520",
     "status": "completed"
    },
    "tags": []
   },
   "source": [
    "<a class=\"anchor\" id=\"abstraction_and_reusability\"></a>\n",
    "### Abstraction and Reusability"
   ]
  },
  {
   "cell_type": "markdown",
   "id": "1837c094",
   "metadata": {
    "papermill": {
     "duration": 0.031628,
     "end_time": "2023-10-15T10:56:06.642360",
     "exception": false,
     "start_time": "2023-10-15T10:56:06.610732",
     "status": "completed"
    },
    "tags": []
   },
   "source": [
    "Suppose you write some code that does something useful. As you continue development, you find that the task performed by that code is one you need often, in many different locations within your application. What should you do? Well, you could just replicate the code over and over again, using your editor’s copy-and-paste capability."
   ]
  },
  {
   "cell_type": "markdown",
   "id": "1a07c349",
   "metadata": {
    "papermill": {
     "duration": 0.033587,
     "end_time": "2023-10-15T10:56:06.707615",
     "exception": false,
     "start_time": "2023-10-15T10:56:06.674028",
     "status": "completed"
    },
    "tags": []
   },
   "source": [
    "Later on, you’ll probably decide that the code in question needs to be modified. You’ll either find something wrong with it that needs to be fixed, or you’ll want to enhance it in some way. If copies of the code are scattered all over your application, then you’ll need to make the necessary changes in every location."
   ]
  },
  {
   "cell_type": "markdown",
   "id": "cd06aa6a",
   "metadata": {
    "papermill": {
     "duration": 0.031292,
     "end_time": "2023-10-15T10:56:06.771689",
     "exception": false,
     "start_time": "2023-10-15T10:56:06.740397",
     "status": "completed"
    },
    "tags": []
   },
   "source": [
    "> **Note:** At first blush, that may seem like a reasonable solution, but in the long term, it’s likely to be a maintenance nightmare! While your code editor may help by providing a search-and-replace function, this method is error-prone, and you could easily introduce bugs into your code that will be difficult to find."
   ]
  },
  {
   "cell_type": "markdown",
   "id": "1d310196",
   "metadata": {
    "papermill": {
     "duration": 0.031358,
     "end_time": "2023-10-15T10:56:06.835002",
     "exception": false,
     "start_time": "2023-10-15T10:56:06.803644",
     "status": "completed"
    },
    "tags": []
   },
   "source": [
    "A better solution is to **define a Python function that performs the task**. Anywhere in your application that you need to accomplish the task, you simply call the function. Down the line, if you decide to change how it works, then you only need to change the code in one location, which is the place where the function is defined. The changes will automatically be picked up anywhere the function is called."
   ]
  },
  {
   "cell_type": "markdown",
   "id": "99bf548a",
   "metadata": {
    "papermill": {
     "duration": 0.031457,
     "end_time": "2023-10-15T10:56:06.898326",
     "exception": false,
     "start_time": "2023-10-15T10:56:06.866869",
     "status": "completed"
    },
    "tags": []
   },
   "source": [
    "The **abstraction of functionality** into a function definition is an example of the Don’t Repeat Yourself (DRY) Principle of software development. This is arguably the strongest motivation for using functions."
   ]
  },
  {
   "cell_type": "markdown",
   "id": "ce392e17",
   "metadata": {
    "papermill": {
     "duration": 0.031265,
     "end_time": "2023-10-15T10:56:06.961314",
     "exception": false,
     "start_time": "2023-10-15T10:56:06.930049",
     "status": "completed"
    },
    "tags": []
   },
   "source": [
    "<a class=\"anchor\" id=\"modularity\"></a>\n",
    "### Modularity"
   ]
  },
  {
   "cell_type": "markdown",
   "id": "a9369ded",
   "metadata": {
    "papermill": {
     "duration": 0.047576,
     "end_time": "2023-10-15T10:56:07.043802",
     "exception": false,
     "start_time": "2023-10-15T10:56:06.996226",
     "status": "completed"
    },
    "tags": []
   },
   "source": [
    "Functions allow **complex processes** to be broken up into smaller steps. Imagine, for example, that you have a program that reads in a file, processes the file contents, and then writes an output file. Your code could look like this:\n",
    "\n",
    "```python\n",
    "# Main program\n",
    "\n",
    "# Code to read file in\n",
    "<statement>\n",
    "<statement>\n",
    "<statement>\n",
    "<statement>\n",
    "\n",
    "# Code to process file\n",
    "<statement>\n",
    "<statement>\n",
    "<statement>\n",
    "<statement>\n",
    "\n",
    "# Code to write file out\n",
    "<statement>\n",
    "<statement>\n",
    "<statement>\n",
    "<statement>\n",
    "```"
   ]
  },
  {
   "cell_type": "markdown",
   "id": "a4f32f71",
   "metadata": {
    "papermill": {
     "duration": 0.032114,
     "end_time": "2023-10-15T10:56:07.117298",
     "exception": false,
     "start_time": "2023-10-15T10:56:07.085184",
     "status": "completed"
    },
    "tags": []
   },
   "source": [
    "In this example, the main program is a bunch of code strung together in a long sequence, with whitespace and comments to help organize it. However, if the code were to get much lengthier and more complex, then you’d have an increasingly difficult time wrapping your head around it."
   ]
  },
  {
   "cell_type": "markdown",
   "id": "538a4601",
   "metadata": {
    "papermill": {
     "duration": 0.038394,
     "end_time": "2023-10-15T10:56:07.188096",
     "exception": false,
     "start_time": "2023-10-15T10:56:07.149702",
     "status": "completed"
    },
    "tags": []
   },
   "source": [
    "Alternatively, you could structure the code more like the following:\n",
    "\n",
    "```python\n",
    "def read_file():\n",
    "    # Code to read file in\n",
    "    <statement>\n",
    "    <statement>\n",
    "    <statement>\n",
    "    <statement>\n",
    "\n",
    "def process_file():\n",
    "    # Code to process file\n",
    "    <statement>\n",
    "    <statement>\n",
    "    <statement>\n",
    "    <statement>\n",
    "\n",
    "def write_file():\n",
    "    # Code to write file out\n",
    "    <statement>\n",
    "    <statement>\n",
    "    <statement>\n",
    "    <statement>\n",
    "\n",
    "\n",
    "# Main program\n",
    "read_file()\n",
    "process_file()\n",
    "write_file()\n",
    "```"
   ]
  },
  {
   "cell_type": "markdown",
   "id": "787edeb7",
   "metadata": {
    "papermill": {
     "duration": 0.033607,
     "end_time": "2023-10-15T10:56:07.262721",
     "exception": false,
     "start_time": "2023-10-15T10:56:07.229114",
     "status": "completed"
    },
    "tags": []
   },
   "source": [
    "This example is **modularized**. Instead of all the code being strung together, it’s broken out into separate functions, each of which focuses on a specific task. Those tasks are _read_, _process_, and _write_. The main program now simply needs to call each of these in turn."
   ]
  },
  {
   "cell_type": "markdown",
   "id": "322120b1",
   "metadata": {
    "papermill": {
     "duration": 0.037359,
     "end_time": "2023-10-15T10:56:07.339966",
     "exception": false,
     "start_time": "2023-10-15T10:56:07.302607",
     "status": "completed"
    },
    "tags": []
   },
   "source": [
    "> **Note:** The `def` keyword introduces a new Python function definition. You’ll learn all about this very soon."
   ]
  },
  {
   "cell_type": "markdown",
   "id": "0e60ba60",
   "metadata": {
    "papermill": {
     "duration": 0.040463,
     "end_time": "2023-10-15T10:56:07.423552",
     "exception": false,
     "start_time": "2023-10-15T10:56:07.383089",
     "status": "completed"
    },
    "tags": []
   },
   "source": [
    "In life, you do this sort of thing all the time, even if you don’t explicitly think of it that way. If you wanted to move some shelves full of stuff from one side of your garage to the other, then you hopefully wouldn’t just stand there and aimlessly think, “Oh, geez. I need to move all that stuff over there! How do I do that???” You’d divide the job into manageable steps:\n",
    "\n",
    "1. **Take** all the stuff off the shelves.\n",
    "2. **Take** the shelves apart.\n",
    "3. **Carry** the shelf parts across the garage to the new location.\n",
    "4. **Re-assemble** the shelves.\n",
    "5. **Carry** the stuff across the garage.\n",
    "6. **Put** the stuff back on the shelves."
   ]
  },
  {
   "cell_type": "markdown",
   "id": "0359c217",
   "metadata": {
    "papermill": {
     "duration": 0.034048,
     "end_time": "2023-10-15T10:56:07.495440",
     "exception": false,
     "start_time": "2023-10-15T10:56:07.461392",
     "status": "completed"
    },
    "tags": []
   },
   "source": [
    "Breaking a large task into smaller, bite-sized sub-tasks helps make the large task easier to think about and manage. As programs become more complicated, it becomes increasingly beneficial to modularize them in this way."
   ]
  },
  {
   "cell_type": "markdown",
   "id": "e8e7f184",
   "metadata": {
    "papermill": {
     "duration": 0.031647,
     "end_time": "2023-10-15T10:56:07.560039",
     "exception": false,
     "start_time": "2023-10-15T10:56:07.528392",
     "status": "completed"
    },
    "tags": []
   },
   "source": [
    "<a class=\"anchor\" id=\"namespace_separation\"></a>\n",
    "### Namespace Separation"
   ]
  },
  {
   "cell_type": "markdown",
   "id": "04ba9cf6",
   "metadata": {
    "papermill": {
     "duration": 0.032769,
     "end_time": "2023-10-15T10:56:07.625941",
     "exception": false,
     "start_time": "2023-10-15T10:56:07.593172",
     "status": "completed"
    },
    "tags": []
   },
   "source": [
    "A **namespace** is a region of a program in which **identifiers** have meaning. As you’ll see below, when a Python function is called, a new namespace is created for that function, one that is distinct from all other namespaces that already exist."
   ]
  },
  {
   "cell_type": "markdown",
   "id": "fbd18a92",
   "metadata": {
    "papermill": {
     "duration": 0.031784,
     "end_time": "2023-10-15T10:56:07.691810",
     "exception": false,
     "start_time": "2023-10-15T10:56:07.660026",
     "status": "completed"
    },
    "tags": []
   },
   "source": [
    "The practical upshot of this is that variables can be defined and used within a Python function even if they have the same name as variables defined in other functions or in the main program. In these cases, there will be no confusion or interference because they’re kept in separate namespaces."
   ]
  },
  {
   "cell_type": "markdown",
   "id": "36e82bc1",
   "metadata": {
    "papermill": {
     "duration": 0.032041,
     "end_time": "2023-10-15T10:56:07.756370",
     "exception": false,
     "start_time": "2023-10-15T10:56:07.724329",
     "status": "completed"
    },
    "tags": []
   },
   "source": [
    "This means that when you write code within a function, you can use variable names and identifiers without worrying about whether they’re already used elsewhere outside the function. This helps minimize errors in code considerably."
   ]
  },
  {
   "cell_type": "markdown",
   "id": "e687b605",
   "metadata": {
    "papermill": {
     "duration": 0.032175,
     "end_time": "2023-10-15T10:56:07.823123",
     "exception": false,
     "start_time": "2023-10-15T10:56:07.790948",
     "status": "completed"
    },
    "tags": []
   },
   "source": [
    "> **Note:** You’ll learn much more about namespaces later in the next section."
   ]
  },
  {
   "cell_type": "markdown",
   "id": "80b94ef9",
   "metadata": {
    "papermill": {
     "duration": 0.031908,
     "end_time": "2023-10-15T10:56:07.887626",
     "exception": false,
     "start_time": "2023-10-15T10:56:07.855718",
     "status": "completed"
    },
    "tags": []
   },
   "source": [
    "Hopefully, you’re sufficiently convinced of the virtues of functions and eager to create some! Let’s see how."
   ]
  },
  {
   "cell_type": "markdown",
   "id": "4aff69f4",
   "metadata": {
    "papermill": {
     "duration": 0.031769,
     "end_time": "2023-10-15T10:56:07.951588",
     "exception": false,
     "start_time": "2023-10-15T10:56:07.919819",
     "status": "completed"
    },
    "tags": []
   },
   "source": [
    "<a class=\"anchor\" id=\"function_calls_and_definition\"></a>\n",
    "## Function Calls and Definition"
   ]
  },
  {
   "cell_type": "markdown",
   "id": "bb50aebe",
   "metadata": {
    "papermill": {
     "duration": 0.033828,
     "end_time": "2023-10-15T10:56:08.017791",
     "exception": false,
     "start_time": "2023-10-15T10:56:07.983963",
     "status": "completed"
    },
    "tags": []
   },
   "source": [
    "The usual syntax for defining a Python function is as follows:\n",
    "\n",
    "```python\n",
    "def <function_name>([<parameters>]):\n",
    "    <statement(s)>\n",
    "```"
   ]
  },
  {
   "cell_type": "markdown",
   "id": "f7874aab",
   "metadata": {
    "papermill": {
     "duration": 0.032866,
     "end_time": "2023-10-15T10:56:08.085835",
     "exception": false,
     "start_time": "2023-10-15T10:56:08.052969",
     "status": "completed"
    },
    "tags": []
   },
   "source": [
    "The components of the definition are explained in the table below:\n",
    "\n",
    "| Component | Meaning |\n",
    "|:--|:--|\n",
    "| `def` | The keyword that informs Python that a function is being defined\n",
    "| `<function_name>` | A valid Python identifier that names the function\n",
    "| `<parameters>` | An optional, comma-separated list of parameters that may be passed to the function\n",
    "| `:`\t| Punctuation that denotes the end of the Python function header (the name and parameter list)\n",
    "| `<statement(s)>` | A block of valid Python statements"
   ]
  },
  {
   "cell_type": "markdown",
   "id": "5bffc329",
   "metadata": {
    "papermill": {
     "duration": 0.031736,
     "end_time": "2023-10-15T10:56:08.150445",
     "exception": false,
     "start_time": "2023-10-15T10:56:08.118709",
     "status": "completed"
    },
    "tags": []
   },
   "source": [
    "The final item, `<statement(s)>`, is called the **body** of the function. The body is a block of statements that will be executed when the function is called. The body of a Python function is defined by indentation in accordance with the **off-side rule**. This is the same as code blocks associated with a control structure, like an `if` or `while` statement."
   ]
  },
  {
   "cell_type": "markdown",
   "id": "df02092a",
   "metadata": {
    "papermill": {
     "duration": 0.032604,
     "end_time": "2023-10-15T10:56:08.215083",
     "exception": false,
     "start_time": "2023-10-15T10:56:08.182479",
     "status": "completed"
    },
    "tags": []
   },
   "source": [
    "The syntax for calling a Python function is as follows:\n",
    "\n",
    "```python\n",
    "<function_name>([<arguments>])\n",
    "```"
   ]
  },
  {
   "cell_type": "markdown",
   "id": "6458d9ad",
   "metadata": {
    "papermill": {
     "duration": 0.032749,
     "end_time": "2023-10-15T10:56:08.280675",
     "exception": false,
     "start_time": "2023-10-15T10:56:08.247926",
     "status": "completed"
    },
    "tags": []
   },
   "source": [
    "`<arguments>` are the values passed into the function. They correspond to the `<parameters>` in the Python function definition. You can define a function that doesn’t take any arguments, but the parentheses are still required. Both a function definition and a function call must always include parentheses, even if they’re empty."
   ]
  },
  {
   "cell_type": "markdown",
   "id": "41a99567",
   "metadata": {
    "papermill": {
     "duration": 0.032178,
     "end_time": "2023-10-15T10:56:08.345096",
     "exception": false,
     "start_time": "2023-10-15T10:56:08.312918",
     "status": "completed"
    },
    "tags": []
   },
   "source": [
    "As usual, you’ll start with a small example and add complexity from there. Keeping the time-honored mathematical tradition in mind, you’ll call your first Python function `f()`. Here’s a script file, `foo.py`, that defines and calls `f()`:"
   ]
  },
  {
   "cell_type": "code",
   "execution_count": 8,
   "id": "e6a3ce95",
   "metadata": {
    "execution": {
     "iopub.execute_input": "2023-10-15T10:56:08.412625Z",
     "iopub.status.busy": "2023-10-15T10:56:08.412278Z",
     "iopub.status.idle": "2023-10-15T10:56:08.419181Z",
     "shell.execute_reply": "2023-10-15T10:56:08.417590Z"
    },
    "papermill": {
     "duration": 0.044899,
     "end_time": "2023-10-15T10:56:08.422096",
     "exception": false,
     "start_time": "2023-10-15T10:56:08.377197",
     "status": "completed"
    },
    "tags": []
   },
   "outputs": [
    {
     "name": "stdout",
     "output_type": "stream",
     "text": [
      "Before calling f()\n",
      "-- Inside f()\n",
      "After calling f()\n"
     ]
    }
   ],
   "source": [
    "def f():\n",
    "    s = '-- Inside f()'\n",
    "    print(s)\n",
    "\n",
    "print('Before calling f()')\n",
    "f()\n",
    "print('After calling f()')"
   ]
  },
  {
   "cell_type": "markdown",
   "id": "c47863d2",
   "metadata": {
    "papermill": {
     "duration": 0.036131,
     "end_time": "2023-10-15T10:56:08.492713",
     "exception": false,
     "start_time": "2023-10-15T10:56:08.456582",
     "status": "completed"
    },
    "tags": []
   },
   "source": [
    "Here’s how this code works:\n",
    "\n",
    "- **Line 1** uses the def keyword to indicate that a function is being defined. Execution of the `def` statement merely creates the definition of `f()`. All the following lines that are indented (lines 2 to 3) become part of the body of `f()` and are stored as its definition, but they aren’t executed yet.\n",
    "\n",
    "- **Line 4** is a bit of whitespace between the function definition and the first line of the main program. While it isn’t syntactically necessary, it is nice to have.\n",
    "\n",
    "- **Line 5** is the first statement that isn’t indented because it isn’t a part of the definition of `f()`. It’s the start of the main program. When the main program executes, this statement is executed first.\n",
    "\n",
    "- **Line 6** is a call to `f()`. Note that empty parentheses are always required in both a function definition and a function call, even when there are no parameters or arguments. Execution proceeds to `f()` and the statements in the body of `f()` are executed.\n",
    "\n",
    "- **Line 7** is the next line to execute once the body of `f()` has finished. Execution returns to this `print()` statement."
   ]
  },
  {
   "cell_type": "markdown",
   "id": "a7556bd0",
   "metadata": {
    "papermill": {
     "duration": 0.032074,
     "end_time": "2023-10-15T10:56:08.559694",
     "exception": false,
     "start_time": "2023-10-15T10:56:08.527620",
     "status": "completed"
    },
    "tags": []
   },
   "source": [
    "The sequence of execution (or **control flow**) for `foo.py` is shown in the following diagram:"
   ]
  },
  {
   "cell_type": "markdown",
   "id": "ea137f65",
   "metadata": {
    "papermill": {
     "duration": 0.031888,
     "end_time": "2023-10-15T10:56:08.623374",
     "exception": false,
     "start_time": "2023-10-15T10:56:08.591486",
     "status": "completed"
    },
    "tags": []
   },
   "source": []
  },
  {
   "cell_type": "markdown",
   "id": "745c9681",
   "metadata": {
    "papermill": {
     "duration": 0.032001,
     "end_time": "2023-10-15T10:56:08.688040",
     "exception": false,
     "start_time": "2023-10-15T10:56:08.656039",
     "status": "completed"
    },
    "tags": []
   },
   "source": [
    "When `foo.py` is run from a command prompt, the result is as follows:\n",
    "\n",
    "```bash\n",
    "$ pytohn foo.py\n",
    "Before calling f()\n",
    "-- Inside f()\n",
    "After calling f()\n",
    "```"
   ]
  },
  {
   "cell_type": "markdown",
   "id": "ad3b4075",
   "metadata": {
    "papermill": {
     "duration": 0.031816,
     "end_time": "2023-10-15T10:56:08.753519",
     "exception": false,
     "start_time": "2023-10-15T10:56:08.721703",
     "status": "completed"
    },
    "tags": []
   },
   "source": [
    "Occasionally, you may want to define an empty function that does nothing. This is referred to as a **stub**, which is usually a temporary placeholder for a Python function that will be fully implemented at a later time. Just as a block in a control structure can’t be empty, neither can the body of a function. To define a stub function, use the `pass` statement:"
   ]
  },
  {
   "cell_type": "code",
   "execution_count": 9,
   "id": "40b2ef4b",
   "metadata": {
    "execution": {
     "iopub.execute_input": "2023-10-15T10:56:08.821932Z",
     "iopub.status.busy": "2023-10-15T10:56:08.821498Z",
     "iopub.status.idle": "2023-10-15T10:56:08.826321Z",
     "shell.execute_reply": "2023-10-15T10:56:08.825310Z"
    },
    "papermill": {
     "duration": 0.042684,
     "end_time": "2023-10-15T10:56:08.828782",
     "exception": false,
     "start_time": "2023-10-15T10:56:08.786098",
     "status": "completed"
    },
    "tags": []
   },
   "outputs": [],
   "source": [
    "def f():\n",
    "    pass"
   ]
  },
  {
   "cell_type": "code",
   "execution_count": 10,
   "id": "e3786a9e",
   "metadata": {
    "execution": {
     "iopub.execute_input": "2023-10-15T10:56:08.896805Z",
     "iopub.status.busy": "2023-10-15T10:56:08.896336Z",
     "iopub.status.idle": "2023-10-15T10:56:08.901749Z",
     "shell.execute_reply": "2023-10-15T10:56:08.900381Z"
    },
    "papermill": {
     "duration": 0.041791,
     "end_time": "2023-10-15T10:56:08.904288",
     "exception": false,
     "start_time": "2023-10-15T10:56:08.862497",
     "status": "completed"
    },
    "tags": []
   },
   "outputs": [],
   "source": [
    "f()"
   ]
  },
  {
   "cell_type": "markdown",
   "id": "ecf6dd1c",
   "metadata": {
    "papermill": {
     "duration": 0.032071,
     "end_time": "2023-10-15T10:56:08.969478",
     "exception": false,
     "start_time": "2023-10-15T10:56:08.937407",
     "status": "completed"
    },
    "tags": []
   },
   "source": [
    "As you can see above, a call to a stub function is syntactically valid but doesn’t do anything."
   ]
  },
  {
   "cell_type": "markdown",
   "id": "e3d7af33",
   "metadata": {
    "papermill": {
     "duration": 0.03256,
     "end_time": "2023-10-15T10:56:09.034723",
     "exception": false,
     "start_time": "2023-10-15T10:56:09.002163",
     "status": "completed"
    },
    "tags": []
   },
   "source": [
    "> Stub is a function definition that has correct function name, the correct number of parameters and produces dummy result of the correct type.\n",
    ">\n",
    "> It helps to write the test and serves as a kind of scaffolding to make it possible to run the examples even before the function design is complete"
   ]
  },
  {
   "cell_type": "markdown",
   "id": "d881f38f",
   "metadata": {
    "papermill": {
     "duration": 0.03223,
     "end_time": "2023-10-15T10:56:09.100615",
     "exception": false,
     "start_time": "2023-10-15T10:56:09.068385",
     "status": "completed"
    },
    "tags": []
   },
   "source": [
    "<a class=\"anchor\" id=\"argument_passing\"></a>\n",
    "## Argument Passing"
   ]
  },
  {
   "cell_type": "markdown",
   "id": "cb44546d",
   "metadata": {
    "papermill": {
     "duration": 0.032298,
     "end_time": "2023-10-15T10:56:09.164925",
     "exception": false,
     "start_time": "2023-10-15T10:56:09.132627",
     "status": "completed"
    },
    "tags": []
   },
   "source": [
    "So far in this tutorial, the functions you’ve defined haven’t taken any arguments. That can sometimes be useful, and you’ll occasionally write such functions. More often, though, you’ll want to **pass data into a function** so that its behavior can vary from one invocation to the next. Let’s see how to do that."
   ]
  },
  {
   "cell_type": "code",
   "execution_count": 11,
   "id": "db5aa99a",
   "metadata": {
    "execution": {
     "iopub.execute_input": "2023-10-15T10:56:09.233911Z",
     "iopub.status.busy": "2023-10-15T10:56:09.233377Z",
     "iopub.status.idle": "2023-10-15T10:56:09.238904Z",
     "shell.execute_reply": "2023-10-15T10:56:09.237826Z"
    },
    "papermill": {
     "duration": 0.042962,
     "end_time": "2023-10-15T10:56:09.241070",
     "exception": false,
     "start_time": "2023-10-15T10:56:09.198108",
     "status": "completed"
    },
    "tags": []
   },
   "outputs": [],
   "source": [
    "# formal parameters\n",
    "# function definition\n",
    "def concat(a, b, separator):\n",
    "    print(f\"{a}{separator}{b}\")"
   ]
  },
  {
   "cell_type": "code",
   "execution_count": 12,
   "id": "e15359ea",
   "metadata": {
    "execution": {
     "iopub.execute_input": "2023-10-15T10:56:09.309705Z",
     "iopub.status.busy": "2023-10-15T10:56:09.309216Z",
     "iopub.status.idle": "2023-10-15T10:56:09.314956Z",
     "shell.execute_reply": "2023-10-15T10:56:09.313492Z"
    },
    "papermill": {
     "duration": 0.043209,
     "end_time": "2023-10-15T10:56:09.317574",
     "exception": false,
     "start_time": "2023-10-15T10:56:09.274365",
     "status": "completed"
    },
    "tags": []
   },
   "outputs": [
    {
     "name": "stdout",
     "output_type": "stream",
     "text": [
      "ali ____ hejazi\n"
     ]
    }
   ],
   "source": [
    "# actual parameters\n",
    "# function call\n",
    "concat('ali', 'hejazi', ' ____ ')"
   ]
  },
  {
   "cell_type": "code",
   "execution_count": 13,
   "id": "91a3ff3a",
   "metadata": {
    "execution": {
     "iopub.execute_input": "2023-10-15T10:56:09.384490Z",
     "iopub.status.busy": "2023-10-15T10:56:09.384005Z",
     "iopub.status.idle": "2023-10-15T10:56:09.392586Z",
     "shell.execute_reply": "2023-10-15T10:56:09.390761Z"
    },
    "papermill": {
     "duration": 0.044836,
     "end_time": "2023-10-15T10:56:09.394936",
     "exception": true,
     "start_time": "2023-10-15T10:56:09.350100",
     "status": "failed"
    },
    "tags": []
   },
   "outputs": [
    {
     "ename": "SyntaxError",
     "evalue": "invalid syntax (1878494428.py, line 1)",
     "output_type": "error",
     "traceback": [
      "\u001b[0;36m  Cell \u001b[0;32mIn[13], line 1\u001b[0;36m\u001b[0m\n\u001b[0;31m    0 a 'ali'\u001b[0m\n\u001b[0m      ^\u001b[0m\n\u001b[0;31mSyntaxError\u001b[0m\u001b[0;31m:\u001b[0m invalid syntax\n"
     ]
    }
   ],
   "source": [
    "0 a 'ali'\n",
    "1 b 'hejazi'\n",
    "2 separator ' ___ '"
   ]
  },
  {
   "cell_type": "markdown",
   "id": "a349299f",
   "metadata": {
    "papermill": {
     "duration": null,
     "end_time": null,
     "exception": null,
     "start_time": null,
     "status": "pending"
    },
    "tags": []
   },
   "source": [
    "<a class=\"anchor\" id=\"positional_arguments\"></a>\n",
    "### Positional Arguments"
   ]
  },
  {
   "cell_type": "markdown",
   "id": "8b01a101",
   "metadata": {
    "papermill": {
     "duration": null,
     "end_time": null,
     "exception": null,
     "start_time": null,
     "status": "pending"
    },
    "tags": []
   },
   "source": [
    "The most straightforward way to pass arguments to a Python function is with **positional arguments** (also called **required arguments**). In the function definition, you specify a comma-separated list of parameters inside the parentheses:"
   ]
  },
  {
   "cell_type": "code",
   "execution_count": null,
   "id": "7f482dc5",
   "metadata": {
    "papermill": {
     "duration": null,
     "end_time": null,
     "exception": null,
     "start_time": null,
     "status": "pending"
    },
    "tags": []
   },
   "outputs": [],
   "source": [
    "def f(qty, item, price):\n",
    "    print(f'{qty} {item} cost ${price:.2f}')"
   ]
  },
  {
   "cell_type": "markdown",
   "id": "38034bfb",
   "metadata": {
    "papermill": {
     "duration": null,
     "end_time": null,
     "exception": null,
     "start_time": null,
     "status": "pending"
    },
    "tags": []
   },
   "source": [
    "When the function is called, you specify a corresponding list of arguments:"
   ]
  },
  {
   "cell_type": "code",
   "execution_count": null,
   "id": "814bd78d",
   "metadata": {
    "papermill": {
     "duration": null,
     "end_time": null,
     "exception": null,
     "start_time": null,
     "status": "pending"
    },
    "tags": []
   },
   "outputs": [],
   "source": [
    "f(6, 'bananas', x)"
   ]
  },
  {
   "cell_type": "markdown",
   "id": "c230a404",
   "metadata": {
    "papermill": {
     "duration": null,
     "end_time": null,
     "exception": null,
     "start_time": null,
     "status": "pending"
    },
    "tags": []
   },
   "source": [
    "The parameters (`qty`, `item`, and `price`) behave like **variables** that are defined locally to the function. When the function is called, the arguments that are passed (`6`, `'bananas'`, and `1.74`) are **bound** to the parameters in order, as though by variable assignment:"
   ]
  },
  {
   "cell_type": "markdown",
   "id": "28faba65",
   "metadata": {
    "papermill": {
     "duration": null,
     "end_time": null,
     "exception": null,
     "start_time": null,
     "status": "pending"
    },
    "tags": []
   },
   "source": [
    "| Parameter\t| | Argument |\n",
    "|:--|:--|:--|\n",
    "| `qty` | ← | `6` |\n",
    "| `item` | ← | `bananas` |\n",
    "| `price` | ← | `1.74` |"
   ]
  },
  {
   "cell_type": "markdown",
   "id": "667d1efd",
   "metadata": {
    "papermill": {
     "duration": null,
     "end_time": null,
     "exception": null,
     "start_time": null,
     "status": "pending"
    },
    "tags": []
   },
   "source": [
    "In some programming texts, the parameters given in the function definition are referred to as **formal parameters**, and the arguments in the function call are referred to as **actual parameters**:"
   ]
  },
  {
   "cell_type": "markdown",
   "id": "0dd0bfa0",
   "metadata": {
    "papermill": {
     "duration": null,
     "end_time": null,
     "exception": null,
     "start_time": null,
     "status": "pending"
    },
    "tags": []
   },
   "source": [
    "Although positional arguments are the most straightforward way to pass data to a function, they also afford the least flexibility. For starters, the **order** of the arguments in the call must match the order of the parameters in the definition. There’s nothing to stop you from specifying positional arguments out of order, of course:"
   ]
  },
  {
   "cell_type": "markdown",
   "id": "29ed6895",
   "metadata": {
    "papermill": {
     "duration": null,
     "end_time": null,
     "exception": null,
     "start_time": null,
     "status": "pending"
    },
    "tags": []
   },
   "source": [
    "<img src=\"./images/func-arguments.webp\" alt=\"function control flow\" width=400 align=\"center\" />"
   ]
  },
  {
   "cell_type": "code",
   "execution_count": null,
   "id": "c32147fe",
   "metadata": {
    "papermill": {
     "duration": null,
     "end_time": null,
     "exception": null,
     "start_time": null,
     "status": "pending"
    },
    "tags": []
   },
   "outputs": [],
   "source": [
    "f('bananas', 1.74, 6)"
   ]
  },
  {
   "cell_type": "markdown",
   "id": "ed30e15f",
   "metadata": {
    "papermill": {
     "duration": null,
     "end_time": null,
     "exception": null,
     "start_time": null,
     "status": "pending"
    },
    "tags": []
   },
   "source": [
    "The function may even still run, as it did in the example above, but it’s very unlikely to produce the correct results. It’s the responsibility of the programmer who defines the function to document what the **appropriate arguments** should be, and it’s the responsibility of the user of the function to be aware of that information and abide by it."
   ]
  },
  {
   "cell_type": "markdown",
   "id": "a785a932",
   "metadata": {
    "papermill": {
     "duration": null,
     "end_time": null,
     "exception": null,
     "start_time": null,
     "status": "pending"
    },
    "tags": []
   },
   "source": [
    "With positional arguments, the arguments in the call and the parameters in the definition must agree not only in order but in **number** as well. That’s the reason positional arguments are also referred to as required arguments. You can’t leave any out when calling the function:"
   ]
  },
  {
   "cell_type": "code",
   "execution_count": null,
   "id": "9582709b",
   "metadata": {
    "papermill": {
     "duration": null,
     "end_time": null,
     "exception": null,
     "start_time": null,
     "status": "pending"
    },
    "tags": []
   },
   "outputs": [],
   "source": [
    "# Too few arguments\n",
    "f(6, 'bananas')"
   ]
  },
  {
   "cell_type": "markdown",
   "id": "21549393",
   "metadata": {
    "papermill": {
     "duration": null,
     "end_time": null,
     "exception": null,
     "start_time": null,
     "status": "pending"
    },
    "tags": []
   },
   "source": [
    "Nor can you specify extra ones:"
   ]
  },
  {
   "cell_type": "code",
   "execution_count": null,
   "id": "9dd69cea",
   "metadata": {
    "papermill": {
     "duration": null,
     "end_time": null,
     "exception": null,
     "start_time": null,
     "status": "pending"
    },
    "tags": []
   },
   "outputs": [],
   "source": [
    "# Too many arguments\n",
    "f(6, 'bananas', 1.74, 'kumquats')"
   ]
  },
  {
   "cell_type": "markdown",
   "id": "eedc26e6",
   "metadata": {
    "papermill": {
     "duration": null,
     "end_time": null,
     "exception": null,
     "start_time": null,
     "status": "pending"
    },
    "tags": []
   },
   "source": [
    "Positional arguments are conceptually straightforward to use, but they’re not very forgiving. You must specify the same number of arguments in the function call as there are parameters in the definition, and in exactly the same order. In the sections that follow, you’ll see some argument-passing techniques that relax these restrictions."
   ]
  },
  {
   "cell_type": "markdown",
   "id": "c05afa63",
   "metadata": {
    "papermill": {
     "duration": null,
     "end_time": null,
     "exception": null,
     "start_time": null,
     "status": "pending"
    },
    "tags": []
   },
   "source": [
    "<a class=\"anchor\" id=\"keyword_arguments\"></a>\n",
    "### Keyword Arguments"
   ]
  },
  {
   "cell_type": "markdown",
   "id": "c4017013",
   "metadata": {
    "papermill": {
     "duration": null,
     "end_time": null,
     "exception": null,
     "start_time": null,
     "status": "pending"
    },
    "tags": []
   },
   "source": [
    "When you’re calling a function, you can specify arguments in the form ‍`<keyword>=<value>‍`. In that case, each `<keyword>` must match a parameter in the Python function definition. For example, the previously defined function `f()` may be called with keyword arguments as follows:"
   ]
  },
  {
   "cell_type": "code",
   "execution_count": null,
   "id": "11bcd106",
   "metadata": {
    "papermill": {
     "duration": null,
     "end_time": null,
     "exception": null,
     "start_time": null,
     "status": "pending"
    },
    "tags": []
   },
   "outputs": [],
   "source": [
    "f(qty=6, item='bananas', price=1.74)"
   ]
  },
  {
   "cell_type": "markdown",
   "id": "55c83f7c",
   "metadata": {
    "papermill": {
     "duration": null,
     "end_time": null,
     "exception": null,
     "start_time": null,
     "status": "pending"
    },
    "tags": []
   },
   "source": [
    "Referencing a keyword that doesn’t match any of the declared parameters generates an exception:"
   ]
  },
  {
   "cell_type": "code",
   "execution_count": null,
   "id": "6a3b643a",
   "metadata": {
    "papermill": {
     "duration": null,
     "end_time": null,
     "exception": null,
     "start_time": null,
     "status": "pending"
    },
    "tags": []
   },
   "outputs": [],
   "source": [
    "f(qty=6, item='bananas', price=1.74)"
   ]
  },
  {
   "cell_type": "markdown",
   "id": "0cf46f0d",
   "metadata": {
    "papermill": {
     "duration": null,
     "end_time": null,
     "exception": null,
     "start_time": null,
     "status": "pending"
    },
    "tags": []
   },
   "source": [
    "Using keyword arguments lifts the restriction on argument order. Each keyword argument explicitly designates a specific parameter by name, so you can specify them in any order and Python will still know which argument goes with which parameter:"
   ]
  },
  {
   "cell_type": "code",
   "execution_count": null,
   "id": "d0d55873",
   "metadata": {
    "papermill": {
     "duration": null,
     "end_time": null,
     "exception": null,
     "start_time": null,
     "status": "pending"
    },
    "tags": []
   },
   "outputs": [],
   "source": [
    "f(item='bananas', price=1.74, qty=6)"
   ]
  },
  {
   "cell_type": "markdown",
   "id": "0127553d",
   "metadata": {
    "papermill": {
     "duration": null,
     "end_time": null,
     "exception": null,
     "start_time": null,
     "status": "pending"
    },
    "tags": []
   },
   "source": [
    "Like with positional arguments, though, the number of arguments and parameters must still match:"
   ]
  },
  {
   "cell_type": "code",
   "execution_count": null,
   "id": "16fe30d6",
   "metadata": {
    "papermill": {
     "duration": null,
     "end_time": null,
     "exception": null,
     "start_time": null,
     "status": "pending"
    },
    "tags": []
   },
   "outputs": [],
   "source": [
    "# Still too few arguments\n",
    "f(qty=6, item='bananas')"
   ]
  },
  {
   "cell_type": "markdown",
   "id": "fee229f4",
   "metadata": {
    "papermill": {
     "duration": null,
     "end_time": null,
     "exception": null,
     "start_time": null,
     "status": "pending"
    },
    "tags": []
   },
   "source": [
    "So, keyword arguments allow flexibility in the order that function arguments are specified, but the number of arguments is still rigid."
   ]
  },
  {
   "cell_type": "markdown",
   "id": "fa0d5f65",
   "metadata": {
    "papermill": {
     "duration": null,
     "end_time": null,
     "exception": null,
     "start_time": null,
     "status": "pending"
    },
    "tags": []
   },
   "source": [
    "You can call a function using both positional and keyword arguments:"
   ]
  },
  {
   "cell_type": "code",
   "execution_count": null,
   "id": "2d8d38df",
   "metadata": {
    "papermill": {
     "duration": null,
     "end_time": null,
     "exception": null,
     "start_time": null,
     "status": "pending"
    },
    "tags": []
   },
   "outputs": [],
   "source": [
    "f(6, price=1.74, item='bananas')"
   ]
  },
  {
   "cell_type": "code",
   "execution_count": null,
   "id": "f5db539d",
   "metadata": {
    "papermill": {
     "duration": null,
     "end_time": null,
     "exception": null,
     "start_time": null,
     "status": "pending"
    },
    "tags": []
   },
   "outputs": [],
   "source": [
    "f(6, 'bananas', price=1.74)"
   ]
  },
  {
   "cell_type": "markdown",
   "id": "893f4764",
   "metadata": {
    "papermill": {
     "duration": null,
     "end_time": null,
     "exception": null,
     "start_time": null,
     "status": "pending"
    },
    "tags": []
   },
   "source": [
    "When positional and keyword arguments are both present, all the positional arguments must come first:"
   ]
  },
  {
   "cell_type": "code",
   "execution_count": null,
   "id": "02ffeb6f",
   "metadata": {
    "papermill": {
     "duration": null,
     "end_time": null,
     "exception": null,
     "start_time": null,
     "status": "pending"
    },
    "tags": []
   },
   "outputs": [],
   "source": [
    "f(6, item='bananas', 1.74)"
   ]
  },
  {
   "cell_type": "markdown",
   "id": "cd2e469c",
   "metadata": {
    "papermill": {
     "duration": null,
     "end_time": null,
     "exception": null,
     "start_time": null,
     "status": "pending"
    },
    "tags": []
   },
   "source": [
    "Once you’ve specified a keyword argument, there can’t be any positional arguments to the right of it."
   ]
  },
  {
   "cell_type": "markdown",
   "id": "7eaded57",
   "metadata": {
    "papermill": {
     "duration": null,
     "end_time": null,
     "exception": null,
     "start_time": null,
     "status": "pending"
    },
    "tags": []
   },
   "source": [
    "<a class=\"anchor\" id=\"default_parameters\"></a>\n",
    "### Default Parameters"
   ]
  },
  {
   "cell_type": "markdown",
   "id": "b54d2eda",
   "metadata": {
    "papermill": {
     "duration": null,
     "end_time": null,
     "exception": null,
     "start_time": null,
     "status": "pending"
    },
    "tags": []
   },
   "source": [
    "If a parameter specified in a Python function definition has the form `<name>=<value>`, then `<value>` becomes a default value for that parameter. Parameters defined this way are referred to as **default or optional parameters**. An example of a function definition with default parameters is shown below:"
   ]
  },
  {
   "cell_type": "code",
   "execution_count": null,
   "id": "d62933ec",
   "metadata": {
    "papermill": {
     "duration": null,
     "end_time": null,
     "exception": null,
     "start_time": null,
     "status": "pending"
    },
    "tags": []
   },
   "outputs": [],
   "source": [
    "def f(qty=6, item='bananas', price=1.74):\n",
    "    print(f'{qty} {item} cost ${price:.2f}')"
   ]
  },
  {
   "cell_type": "markdown",
   "id": "5c029947",
   "metadata": {
    "papermill": {
     "duration": null,
     "end_time": null,
     "exception": null,
     "start_time": null,
     "status": "pending"
    },
    "tags": []
   },
   "source": [
    "When this version of `f()` is called, any argument that’s left out assumes its default value:"
   ]
  },
  {
   "cell_type": "code",
   "execution_count": null,
   "id": "8e391260",
   "metadata": {
    "papermill": {
     "duration": null,
     "end_time": null,
     "exception": null,
     "start_time": null,
     "status": "pending"
    },
    "tags": []
   },
   "outputs": [],
   "source": [
    "f(4, 'apples', 2.24)"
   ]
  },
  {
   "cell_type": "code",
   "execution_count": null,
   "id": "115b3a27",
   "metadata": {
    "papermill": {
     "duration": null,
     "end_time": null,
     "exception": null,
     "start_time": null,
     "status": "pending"
    },
    "tags": []
   },
   "outputs": [],
   "source": [
    "f(4, 'apples')"
   ]
  },
  {
   "cell_type": "code",
   "execution_count": null,
   "id": "bde5090b",
   "metadata": {
    "papermill": {
     "duration": null,
     "end_time": null,
     "exception": null,
     "start_time": null,
     "status": "pending"
    },
    "tags": []
   },
   "outputs": [],
   "source": [
    "f(4)"
   ]
  },
  {
   "cell_type": "code",
   "execution_count": null,
   "id": "7f7e1d4e",
   "metadata": {
    "papermill": {
     "duration": null,
     "end_time": null,
     "exception": null,
     "start_time": null,
     "status": "pending"
    },
    "tags": []
   },
   "outputs": [],
   "source": [
    "f()"
   ]
  },
  {
   "cell_type": "code",
   "execution_count": null,
   "id": "45c66961",
   "metadata": {
    "papermill": {
     "duration": null,
     "end_time": null,
     "exception": null,
     "start_time": null,
     "status": "pending"
    },
    "tags": []
   },
   "outputs": [],
   "source": [
    "f(item='kumquats', qty=9)"
   ]
  },
  {
   "cell_type": "code",
   "execution_count": null,
   "id": "fbd286a9",
   "metadata": {
    "papermill": {
     "duration": null,
     "end_time": null,
     "exception": null,
     "start_time": null,
     "status": "pending"
    },
    "tags": []
   },
   "outputs": [],
   "source": [
    "f(price=2.29)"
   ]
  },
  {
   "cell_type": "markdown",
   "id": "3a1954e8",
   "metadata": {
    "papermill": {
     "duration": null,
     "end_time": null,
     "exception": null,
     "start_time": null,
     "status": "pending"
    },
    "tags": []
   },
   "source": [
    "**In summary:**\n",
    "\n",
    "- **Positional arguments** must agree in order and number with the parameters declared in the function definition.\n",
    "- **Keyword arguments** must agree with declared parameters in number, but they may be specified in arbitrary order.\n",
    "- **Default parameters** allow some arguments to be omitted when the function is called."
   ]
  },
  {
   "cell_type": "markdown",
   "id": "bc64dbad",
   "metadata": {
    "papermill": {
     "duration": null,
     "end_time": null,
     "exception": null,
     "start_time": null,
     "status": "pending"
    },
    "tags": []
   },
   "source": [
    "<a class=\"anchor\" id=\"mutable_default_parameter_values\"></a>\n",
    "## Mutable Default Parameter Values"
   ]
  },
  {
   "cell_type": "markdown",
   "id": "62443ee5",
   "metadata": {
    "papermill": {
     "duration": null,
     "end_time": null,
     "exception": null,
     "start_time": null,
     "status": "pending"
    },
    "tags": []
   },
   "source": [
    "Things can get weird if you specify a default parameter value that is a **mutable object**. Consider this Python function definition:"
   ]
  },
  {
   "cell_type": "code",
   "execution_count": null,
   "id": "3aefdd1d",
   "metadata": {
    "papermill": {
     "duration": null,
     "end_time": null,
     "exception": null,
     "start_time": null,
     "status": "pending"
    },
    "tags": []
   },
   "outputs": [],
   "source": [
    "def f(my_list=[]):\n",
    "    my_list.append('###')\n",
    "    return my_list"
   ]
  },
  {
   "cell_type": "markdown",
   "id": "de8f3639",
   "metadata": {
    "papermill": {
     "duration": null,
     "end_time": null,
     "exception": null,
     "start_time": null,
     "status": "pending"
    },
    "tags": []
   },
   "source": [
    "`f()` takes a single list parameter, appends the string `'###'` to the end of the list, and returns the result:"
   ]
  },
  {
   "cell_type": "code",
   "execution_count": null,
   "id": "afdcaa00",
   "metadata": {
    "papermill": {
     "duration": null,
     "end_time": null,
     "exception": null,
     "start_time": null,
     "status": "pending"
    },
    "tags": []
   },
   "outputs": [],
   "source": [
    "f(['foo', 'bar', 'baz'])"
   ]
  },
  {
   "cell_type": "code",
   "execution_count": null,
   "id": "2b4be1dd",
   "metadata": {
    "papermill": {
     "duration": null,
     "end_time": null,
     "exception": null,
     "start_time": null,
     "status": "pending"
    },
    "tags": []
   },
   "outputs": [],
   "source": [
    "f([1, 2, 3, 4, 5])"
   ]
  },
  {
   "cell_type": "markdown",
   "id": "86dd5b42",
   "metadata": {
    "papermill": {
     "duration": null,
     "end_time": null,
     "exception": null,
     "start_time": null,
     "status": "pending"
    },
    "tags": []
   },
   "source": [
    "The default value for parameter `my_list` is the empty list, so if `f()` is called without any arguments, then the return value is a list with the single element `'###'`:"
   ]
  },
  {
   "cell_type": "code",
   "execution_count": null,
   "id": "19121ee0",
   "metadata": {
    "papermill": {
     "duration": null,
     "end_time": null,
     "exception": null,
     "start_time": null,
     "status": "pending"
    },
    "tags": []
   },
   "outputs": [],
   "source": [
    "f()"
   ]
  },
  {
   "cell_type": "markdown",
   "id": "d4f0a317",
   "metadata": {
    "papermill": {
     "duration": null,
     "end_time": null,
     "exception": null,
     "start_time": null,
     "status": "pending"
    },
    "tags": []
   },
   "source": [
    "Everything makes sense so far. Now, what would you expect to happen if `f()` is called without any parameters a second and a third time? Let’s see:"
   ]
  },
  {
   "cell_type": "code",
   "execution_count": null,
   "id": "bda9ed51",
   "metadata": {
    "papermill": {
     "duration": null,
     "end_time": null,
     "exception": null,
     "start_time": null,
     "status": "pending"
    },
    "tags": []
   },
   "outputs": [],
   "source": [
    "f()"
   ]
  },
  {
   "cell_type": "code",
   "execution_count": null,
   "id": "60d0396c",
   "metadata": {
    "papermill": {
     "duration": null,
     "end_time": null,
     "exception": null,
     "start_time": null,
     "status": "pending"
    },
    "tags": []
   },
   "outputs": [],
   "source": [
    "f()"
   ]
  },
  {
   "cell_type": "markdown",
   "id": "ff9bf36e",
   "metadata": {
    "papermill": {
     "duration": null,
     "end_time": null,
     "exception": null,
     "start_time": null,
     "status": "pending"
    },
    "tags": []
   },
   "source": [
    "Oops! You might have expected each subsequent call to also return the singleton list `['###']`, just like the first. Instead, the return value keeps growing. What happened?"
   ]
  },
  {
   "cell_type": "markdown",
   "id": "ee0f77f7",
   "metadata": {
    "papermill": {
     "duration": null,
     "end_time": null,
     "exception": null,
     "start_time": null,
     "status": "pending"
    },
    "tags": []
   },
   "source": [
    "In Python, default parameter values are **defined only once** when the function is defined (that is, when the def statement is executed). The default value isn’t re-defined each time the function is called. Thus, each time you call `f()` without a parameter, you’re performing `.append()` on the same list."
   ]
  },
  {
   "cell_type": "markdown",
   "id": "2835c95b",
   "metadata": {
    "papermill": {
     "duration": null,
     "end_time": null,
     "exception": null,
     "start_time": null,
     "status": "pending"
    },
    "tags": []
   },
   "source": [
    "You can demonstrate this with `id()`:"
   ]
  },
  {
   "cell_type": "code",
   "execution_count": null,
   "id": "ca4cd10c",
   "metadata": {
    "papermill": {
     "duration": null,
     "end_time": null,
     "exception": null,
     "start_time": null,
     "status": "pending"
    },
    "tags": []
   },
   "outputs": [],
   "source": [
    "def f(my_list=[]):\n",
    "    print(id(my_list))\n",
    "    my_list.append('###')\n",
    "    return my_list"
   ]
  },
  {
   "cell_type": "code",
   "execution_count": null,
   "id": "657ecfbb",
   "metadata": {
    "papermill": {
     "duration": null,
     "end_time": null,
     "exception": null,
     "start_time": null,
     "status": "pending"
    },
    "tags": []
   },
   "outputs": [],
   "source": [
    "f()"
   ]
  },
  {
   "cell_type": "code",
   "execution_count": null,
   "id": "f284673b",
   "metadata": {
    "papermill": {
     "duration": null,
     "end_time": null,
     "exception": null,
     "start_time": null,
     "status": "pending"
    },
    "tags": []
   },
   "outputs": [],
   "source": [
    "f()"
   ]
  },
  {
   "cell_type": "code",
   "execution_count": null,
   "id": "0576a428",
   "metadata": {
    "papermill": {
     "duration": null,
     "end_time": null,
     "exception": null,
     "start_time": null,
     "status": "pending"
    },
    "tags": []
   },
   "outputs": [],
   "source": [
    "f()"
   ]
  },
  {
   "cell_type": "markdown",
   "id": "89dfce05",
   "metadata": {
    "papermill": {
     "duration": null,
     "end_time": null,
     "exception": null,
     "start_time": null,
     "status": "pending"
    },
    "tags": []
   },
   "source": [
    "The **object identifier** displayed confirms that, when `my_list` is allowed to default, the value is the same object with each call. Since lists are mutable, each subsequent `.append()` call causes the list to get longer. This is a common and pretty well-documented pitfall when you’re using a mutable object as a parameter’s default value. It potentially leads to confusing code behavior, and is probably best avoided."
   ]
  },
  {
   "cell_type": "markdown",
   "id": "320e195e",
   "metadata": {
    "papermill": {
     "duration": null,
     "end_time": null,
     "exception": null,
     "start_time": null,
     "status": "pending"
    },
    "tags": []
   },
   "source": [
    "As a workaround, consider using a default argument value that signals **no argument has been specified**. Most any value would work, but `None` is a common choice. When the sentinel value indicates no argument is given, create a new empty list inside the function:"
   ]
  },
  {
   "cell_type": "code",
   "execution_count": null,
   "id": "36078f28",
   "metadata": {
    "papermill": {
     "duration": null,
     "end_time": null,
     "exception": null,
     "start_time": null,
     "status": "pending"
    },
    "tags": []
   },
   "outputs": [],
   "source": [
    "def f(my_list=None):\n",
    "    if my_list is None:\n",
    "        my_list = []\n",
    "    my_list.append('###')\n",
    "    return my_list"
   ]
  },
  {
   "cell_type": "code",
   "execution_count": null,
   "id": "3cc8396b",
   "metadata": {
    "papermill": {
     "duration": null,
     "end_time": null,
     "exception": null,
     "start_time": null,
     "status": "pending"
    },
    "tags": []
   },
   "outputs": [],
   "source": [
    "f()"
   ]
  },
  {
   "cell_type": "code",
   "execution_count": null,
   "id": "80ffda6c",
   "metadata": {
    "papermill": {
     "duration": null,
     "end_time": null,
     "exception": null,
     "start_time": null,
     "status": "pending"
    },
    "tags": []
   },
   "outputs": [],
   "source": [
    "f()"
   ]
  },
  {
   "cell_type": "code",
   "execution_count": null,
   "id": "cee280be",
   "metadata": {
    "papermill": {
     "duration": null,
     "end_time": null,
     "exception": null,
     "start_time": null,
     "status": "pending"
    },
    "tags": []
   },
   "outputs": [],
   "source": [
    "f()"
   ]
  },
  {
   "cell_type": "code",
   "execution_count": null,
   "id": "d98cfc35",
   "metadata": {
    "papermill": {
     "duration": null,
     "end_time": null,
     "exception": null,
     "start_time": null,
     "status": "pending"
    },
    "tags": []
   },
   "outputs": [],
   "source": [
    "f(['foo', 'bar', 'baz'])"
   ]
  },
  {
   "cell_type": "code",
   "execution_count": null,
   "id": "c9481fa5",
   "metadata": {
    "papermill": {
     "duration": null,
     "end_time": null,
     "exception": null,
     "start_time": null,
     "status": "pending"
    },
    "tags": []
   },
   "outputs": [],
   "source": [
    "f([1, 2, 3, 4, 5])"
   ]
  },
  {
   "cell_type": "markdown",
   "id": "699364c8",
   "metadata": {
    "papermill": {
     "duration": null,
     "end_time": null,
     "exception": null,
     "start_time": null,
     "status": "pending"
    },
    "tags": []
   },
   "source": [
    "Note how this ensures that `my_list` now truly defaults to an empty list whenever `f()` is called without an argument."
   ]
  },
  {
   "cell_type": "markdown",
   "id": "456b3aa9",
   "metadata": {
    "papermill": {
     "duration": null,
     "end_time": null,
     "exception": null,
     "start_time": null,
     "status": "pending"
    },
    "tags": []
   },
   "source": [
    "<a class=\"anchor\" id=\"pass-by-value_vs_pass-by-reference\"></a>\n",
    "## Pass-By-Value vs Pass-By-Reference"
   ]
  },
  {
   "cell_type": "markdown",
   "id": "acce6473",
   "metadata": {
    "papermill": {
     "duration": null,
     "end_time": null,
     "exception": null,
     "start_time": null,
     "status": "pending"
    },
    "tags": []
   },
   "source": [
    "In programming language design, there are two common paradigms for passing an argument to a function:\n",
    "\n",
    "- **Pass-by-value:** A copy of the argument is passed to the function.\n",
    "- **Pass-by-reference:** A reference to the argument is passed to the function."
   ]
  },
  {
   "cell_type": "markdown",
   "id": "cdb49e8e",
   "metadata": {
    "papermill": {
     "duration": null,
     "end_time": null,
     "exception": null,
     "start_time": null,
     "status": "pending"
    },
    "tags": []
   },
   "source": [
    "Other mechanisms exist, but they are essentially variations on these two."
   ]
  },
  {
   "cell_type": "markdown",
   "id": "4c5f83d8",
   "metadata": {
    "papermill": {
     "duration": null,
     "end_time": null,
     "exception": null,
     "start_time": null,
     "status": "pending"
    },
    "tags": []
   },
   "source": [
    "Are parameters in Python pass-by-value or pass-by-reference? The answer is they’re neither, exactly. That’s because a reference doesn’t mean quite the same thing in Python as it does in Pascal."
   ]
  },
  {
   "cell_type": "markdown",
   "id": "deed00f6",
   "metadata": {
    "papermill": {
     "duration": null,
     "end_time": null,
     "exception": null,
     "start_time": null,
     "status": "pending"
    },
    "tags": []
   },
   "source": [
    "Recall that in Python, every piece of data is an **object**. A reference points to an object, not a specific memory location. That means assignment isn’t interpreted the same way in Python as it is in a programming language such as Pascal. Consider the following pair of statements in Pascal:\n",
    "\n",
    "```pascal\n",
    "x := 5\n",
    "x := 10\n",
    "```"
   ]
  },
  {
   "cell_type": "markdown",
   "id": "2b3007ff",
   "metadata": {
    "papermill": {
     "duration": null,
     "end_time": null,
     "exception": null,
     "start_time": null,
     "status": "pending"
    },
    "tags": []
   },
   "source": [
    "These are interpreted this way:\n",
    "\n",
    "- **The variable `x`** references a specific memory location.\n",
    "- **The first statement** puts the value 5 in that location.\n",
    "- **The next statement** overwrites the 5 and puts 10 there instead."
   ]
  },
  {
   "cell_type": "markdown",
   "id": "ab19cc4c",
   "metadata": {
    "papermill": {
     "duration": null,
     "end_time": null,
     "exception": null,
     "start_time": null,
     "status": "pending"
    },
    "tags": []
   },
   "source": [
    "By contrast, in Python, the analogous assignment statements are as follows:\n",
    "\n",
    "```python\n",
    "x = 5\n",
    "x = 10\n",
    "```"
   ]
  },
  {
   "cell_type": "markdown",
   "id": "97e66a7f",
   "metadata": {
    "papermill": {
     "duration": null,
     "end_time": null,
     "exception": null,
     "start_time": null,
     "status": "pending"
    },
    "tags": []
   },
   "source": [
    "These assignment statements have the following meaning:\n",
    "\n",
    "- **The first statement** causes `x` to point to an object whose value is `5`.\n",
    "- **The next statement** reassigns `x` as a new reference to a different object whose value is `10`. Stated another way, the second assignment rebinds `x` to a different object with value `10`."
   ]
  },
  {
   "cell_type": "markdown",
   "id": "2daa69d1",
   "metadata": {
    "papermill": {
     "duration": null,
     "end_time": null,
     "exception": null,
     "start_time": null,
     "status": "pending"
    },
    "tags": []
   },
   "source": [
    "In Python, when you pass an argument to a function, a similar **rebinding** occurs. Consider this example:"
   ]
  },
  {
   "cell_type": "code",
   "execution_count": null,
   "id": "1f9e05eb",
   "metadata": {
    "papermill": {
     "duration": null,
     "end_time": null,
     "exception": null,
     "start_time": null,
     "status": "pending"
    },
    "tags": []
   },
   "outputs": [],
   "source": [
    "def f(fx):\n",
    "    fx = 10\n",
    "\n",
    "x = 5\n",
    "f(x)\n",
    "print(x)"
   ]
  },
  {
   "cell_type": "markdown",
   "id": "9e7f5ab5",
   "metadata": {
    "papermill": {
     "duration": null,
     "end_time": null,
     "exception": null,
     "start_time": null,
     "status": "pending"
    },
    "tags": []
   },
   "source": [
    "In the main program, the statement `x = 5` on line 5 creates a reference named `x` bound to an object whose value is `5`. `f()` is then called on line 7, with `x` as an argument. When `f()` first starts, a new reference called `fx` is created, which initially points to the same `5` object as `x` does:"
   ]
  },
  {
   "cell_type": "markdown",
   "id": "c23c1e0a",
   "metadata": {
    "papermill": {
     "duration": null,
     "end_time": null,
     "exception": null,
     "start_time": null,
     "status": "pending"
    },
    "tags": []
   },
   "source": [
    "<img src=\"./images/variable-passing-func-1.webp\" alt=\"function passing values\" width=400 align=\"center\" />"
   ]
  },
  {
   "cell_type": "markdown",
   "id": "034ac30f",
   "metadata": {
    "papermill": {
     "duration": null,
     "end_time": null,
     "exception": null,
     "start_time": null,
     "status": "pending"
    },
    "tags": []
   },
   "source": [
    "However, when the statement `fx = 10` on line 2 is executed, `f()` rebinds `fx` to a new object whose value is `10`. The two references, `x` and `fx`, are uncoupled from one another. Nothing else that `f()` does will affect `x`, and when `f()` terminates, `x` will still point to the object `5`, as it did prior to the function call:"
   ]
  },
  {
   "cell_type": "markdown",
   "id": "07e98e58",
   "metadata": {
    "papermill": {
     "duration": null,
     "end_time": null,
     "exception": null,
     "start_time": null,
     "status": "pending"
    },
    "tags": []
   },
   "source": []
  },
  {
   "cell_type": "markdown",
   "id": "1b4c2392",
   "metadata": {
    "papermill": {
     "duration": null,
     "end_time": null,
     "exception": null,
     "start_time": null,
     "status": "pending"
    },
    "tags": []
   },
   "source": [
    "You can confirm all this using `id()`. Here’s a slightly augmented version of the above example that displays the numeric identifiers of the objects involved:"
   ]
  },
  {
   "cell_type": "code",
   "execution_count": null,
   "id": "9a9e5d11",
   "metadata": {
    "papermill": {
     "duration": null,
     "end_time": null,
     "exception": null,
     "start_time": null,
     "status": "pending"
    },
    "tags": []
   },
   "outputs": [],
   "source": [
    "def f(fx):\n",
    "    print('fx =', fx, '/ id(fx) = ', id(fx))\n",
    "    fx = 10\n",
    "    print('fx =', fx, '/ id(fx) = ', id(fx))"
   ]
  },
  {
   "cell_type": "code",
   "execution_count": null,
   "id": "a4a4838b",
   "metadata": {
    "papermill": {
     "duration": null,
     "end_time": null,
     "exception": null,
     "start_time": null,
     "status": "pending"
    },
    "tags": []
   },
   "outputs": [],
   "source": [
    "x = 5\n",
    "print('x =', x, '/ id(x) = ', id(x))"
   ]
  },
  {
   "cell_type": "code",
   "execution_count": null,
   "id": "ca5f1a0e",
   "metadata": {
    "papermill": {
     "duration": null,
     "end_time": null,
     "exception": null,
     "start_time": null,
     "status": "pending"
    },
    "tags": []
   },
   "outputs": [],
   "source": [
    "f(x)"
   ]
  },
  {
   "cell_type": "code",
   "execution_count": null,
   "id": "8258b6d7",
   "metadata": {
    "papermill": {
     "duration": null,
     "end_time": null,
     "exception": null,
     "start_time": null,
     "status": "pending"
    },
    "tags": []
   },
   "outputs": [],
   "source": [
    "print('x =', x, '/ id(x) = ', id(x))"
   ]
  },
  {
   "cell_type": "markdown",
   "id": "6117e65b",
   "metadata": {
    "papermill": {
     "duration": null,
     "end_time": null,
     "exception": null,
     "start_time": null,
     "status": "pending"
    },
    "tags": []
   },
   "source": [
    "When `f()` first starts, `fx` and `x` both point to the same object, whose `id()` is `1357924048`. After `f()` executes the statement `fx = 10` on line 3, `fx` points to a different object whose `id()` is `1357924128`. The connection to the original object in the calling environment is lost."
   ]
  },
  {
   "cell_type": "markdown",
   "id": "2db137a8",
   "metadata": {
    "papermill": {
     "duration": null,
     "end_time": null,
     "exception": null,
     "start_time": null,
     "status": "pending"
    },
    "tags": []
   },
   "source": [
    "Argument passing in Python is somewhat of a hybrid between pass-by-value and pass-by-reference. What gets passed to the function is a reference to an object, but the reference is passed by value."
   ]
  },
  {
   "cell_type": "markdown",
   "id": "933d82b9",
   "metadata": {
    "papermill": {
     "duration": null,
     "end_time": null,
     "exception": null,
     "start_time": null,
     "status": "pending"
    },
    "tags": []
   },
   "source": [
    "> **Note:** Python’s argument-passing mechanism has been called **pass-by-assignment**. This is because parameter names are bound to objects on function entry in Python, and assignment is also the process of binding a name to an object. You may also see the terms pass-by-object, pass-by-object-reference, or pass-by-sharing."
   ]
  },
  {
   "cell_type": "markdown",
   "id": "f4b08dbf",
   "metadata": {
    "papermill": {
     "duration": null,
     "end_time": null,
     "exception": null,
     "start_time": null,
     "status": "pending"
    },
    "tags": []
   },
   "source": [
    "The key takeaway here is that a Python function can’t change the value of an argument by reassigning the corresponding parameter to something else. The following example demonstrates this:"
   ]
  },
  {
   "cell_type": "code",
   "execution_count": null,
   "id": "99a80b10",
   "metadata": {
    "papermill": {
     "duration": null,
     "end_time": null,
     "exception": null,
     "start_time": null,
     "status": "pending"
    },
    "tags": []
   },
   "outputs": [],
   "source": [
    "def f(x):\n",
    "    x = 'foo'"
   ]
  },
  {
   "cell_type": "code",
   "execution_count": null,
   "id": "617dc904",
   "metadata": {
    "papermill": {
     "duration": null,
     "end_time": null,
     "exception": null,
     "start_time": null,
     "status": "pending"
    },
    "tags": []
   },
   "outputs": [],
   "source": [
    "for i in (\n",
    "        40,\n",
    "        dict(foo=1, bar=2),\n",
    "        {1, 2, 3},\n",
    "        'bar',\n",
    "        ['foo', 'bar', 'baz']\n",
    "    ):\n",
    "    f(i)\n",
    "    print(i)"
   ]
  },
  {
   "cell_type": "markdown",
   "id": "e2cc0618",
   "metadata": {
    "papermill": {
     "duration": null,
     "end_time": null,
     "exception": null,
     "start_time": null,
     "status": "pending"
    },
    "tags": []
   },
   "source": [
    "Here, objects of type int, `dict`, `set`, `str`, and `list` are passed to `f()` as arguments. `f()` tries to assign each to the string object 'foo', but as you can see, once back in the calling environment, they are all unchanged. As soon as `f()` executes the assignment `x = 'foo'`, the reference is **rebound**, and the connection to the original object is lost."
   ]
  },
  {
   "cell_type": "markdown",
   "id": "bb0cc366",
   "metadata": {
    "papermill": {
     "duration": null,
     "end_time": null,
     "exception": null,
     "start_time": null,
     "status": "pending"
    },
    "tags": []
   },
   "source": [
    "Does that mean a Python function can never modify its arguments at all? Actually, no, that isn’t the case! Watch what happens here:"
   ]
  },
  {
   "cell_type": "code",
   "execution_count": null,
   "id": "7a8a9267",
   "metadata": {
    "papermill": {
     "duration": null,
     "end_time": null,
     "exception": null,
     "start_time": null,
     "status": "pending"
    },
    "tags": []
   },
   "outputs": [],
   "source": [
    "def f(x):\n",
    "    x[0] = '---'"
   ]
  },
  {
   "cell_type": "code",
   "execution_count": null,
   "id": "ee9eb0e5",
   "metadata": {
    "papermill": {
     "duration": null,
     "end_time": null,
     "exception": null,
     "start_time": null,
     "status": "pending"
    },
    "tags": []
   },
   "outputs": [],
   "source": [
    "my_list = ['foo', 'bar', 'baz', 'qux']"
   ]
  },
  {
   "cell_type": "code",
   "execution_count": null,
   "id": "693add4c",
   "metadata": {
    "papermill": {
     "duration": null,
     "end_time": null,
     "exception": null,
     "start_time": null,
     "status": "pending"
    },
    "tags": []
   },
   "outputs": [],
   "source": [
    "f(my_list)"
   ]
  },
  {
   "cell_type": "code",
   "execution_count": null,
   "id": "695cac7a",
   "metadata": {
    "papermill": {
     "duration": null,
     "end_time": null,
     "exception": null,
     "start_time": null,
     "status": "pending"
    },
    "tags": []
   },
   "outputs": [],
   "source": [
    "my_list"
   ]
  },
  {
   "cell_type": "markdown",
   "id": "3b496de4",
   "metadata": {
    "papermill": {
     "duration": null,
     "end_time": null,
     "exception": null,
     "start_time": null,
     "status": "pending"
    },
    "tags": []
   },
   "source": [
    "In this case, the argument to `f()` is a list. When `f()` is called, a reference to my_list is passed. You’ve already seen that `f()` can’t reassign `my_list` wholesale. If `x` were assigned to something else, then it would be bound to a different object, and the connection to `my_list` would be lost."
   ]
  },
  {
   "cell_type": "markdown",
   "id": "3fd15269",
   "metadata": {
    "papermill": {
     "duration": null,
     "end_time": null,
     "exception": null,
     "start_time": null,
     "status": "pending"
    },
    "tags": []
   },
   "source": [
    "However, `f()` can use the reference to make modifications inside `my_list`. Here, `f()` has modified the first element. You can see that once the function returns, `my_list` has, in fact, been changed in the calling environment. The same concept applies to a dictionary:"
   ]
  },
  {
   "cell_type": "code",
   "execution_count": null,
   "id": "9e74e505",
   "metadata": {
    "papermill": {
     "duration": null,
     "end_time": null,
     "exception": null,
     "start_time": null,
     "status": "pending"
    },
    "tags": []
   },
   "outputs": [],
   "source": [
    "def f(x):\n",
    "    x['bar'] = 22"
   ]
  },
  {
   "cell_type": "code",
   "execution_count": null,
   "id": "98488252",
   "metadata": {
    "papermill": {
     "duration": null,
     "end_time": null,
     "exception": null,
     "start_time": null,
     "status": "pending"
    },
    "tags": []
   },
   "outputs": [],
   "source": [
    "my_dict = {'foo': 1, 'bar': 2, 'baz': 3}"
   ]
  },
  {
   "cell_type": "code",
   "execution_count": null,
   "id": "27420d45",
   "metadata": {
    "papermill": {
     "duration": null,
     "end_time": null,
     "exception": null,
     "start_time": null,
     "status": "pending"
    },
    "tags": []
   },
   "outputs": [],
   "source": [
    "f(my_dict)"
   ]
  },
  {
   "cell_type": "code",
   "execution_count": null,
   "id": "6dd18a18",
   "metadata": {
    "papermill": {
     "duration": null,
     "end_time": null,
     "exception": null,
     "start_time": null,
     "status": "pending"
    },
    "tags": []
   },
   "outputs": [],
   "source": [
    "my_dict"
   ]
  },
  {
   "cell_type": "markdown",
   "id": "b451fe8b",
   "metadata": {
    "papermill": {
     "duration": null,
     "end_time": null,
     "exception": null,
     "start_time": null,
     "status": "pending"
    },
    "tags": []
   },
   "source": [
    "Here, `f()` uses `x` as a reference to make a change inside `my_dict`. That change is reflected in the calling environment after `f()` returns."
   ]
  },
  {
   "cell_type": "markdown",
   "id": "7abbfab0",
   "metadata": {
    "papermill": {
     "duration": null,
     "end_time": null,
     "exception": null,
     "start_time": null,
     "status": "pending"
    },
    "tags": []
   },
   "source": [
    "<a class=\"anchor\" id=\"argument_passing_summary\"></a>\n",
    "### Argument Passing Summary"
   ]
  },
  {
   "cell_type": "markdown",
   "id": "86b9d77d",
   "metadata": {
    "papermill": {
     "duration": null,
     "end_time": null,
     "exception": null,
     "start_time": null,
     "status": "pending"
    },
    "tags": []
   },
   "source": [
    "Argument passing in Python can be summarized as follows. **Passing an immutable object**, like an `int`, `str`, `tuple`, or `frozenset`, to a Python function acts like pass-by-value. The function can’t modify the object in the calling environment."
   ]
  },
  {
   "cell_type": "markdown",
   "id": "c25c43eb",
   "metadata": {
    "papermill": {
     "duration": null,
     "end_time": null,
     "exception": null,
     "start_time": null,
     "status": "pending"
    },
    "tags": []
   },
   "source": [
    "**Passing a mutable object** such as a `list`, `dict`, or `set` acts somewhat—but not exactly—like pass-by-reference. The function can’t reassign the object wholesale, but it can change items in place within the object, and these changes will be reflected in the calling environment."
   ]
  },
  {
   "cell_type": "markdown",
   "id": "5fd5c854",
   "metadata": {
    "papermill": {
     "duration": null,
     "end_time": null,
     "exception": null,
     "start_time": null,
     "status": "pending"
    },
    "tags": []
   },
   "source": [
    "<a class=\"anchor\" id=\"side_effects\"></a>\n",
    "### Side Effects"
   ]
  },
  {
   "cell_type": "markdown",
   "id": "9fce1500",
   "metadata": {
    "papermill": {
     "duration": null,
     "end_time": null,
     "exception": null,
     "start_time": null,
     "status": "pending"
    },
    "tags": []
   },
   "source": [
    "So, in Python, it’s possible for you to modify an argument from within a function so that the change is reflected in the calling environment. But should you do this? This is an example of what’s referred to in programming lingo as a **side effect**."
   ]
  },
  {
   "cell_type": "markdown",
   "id": "4e04670e",
   "metadata": {
    "papermill": {
     "duration": null,
     "end_time": null,
     "exception": null,
     "start_time": null,
     "status": "pending"
    },
    "tags": []
   },
   "source": [
    "More generally, a Python function is said to cause a side effect if it modifies its calling environment in any way. Changing the value of a function argument is just one of the possibilities."
   ]
  },
  {
   "cell_type": "markdown",
   "id": "fe9a1508",
   "metadata": {
    "papermill": {
     "duration": null,
     "end_time": null,
     "exception": null,
     "start_time": null,
     "status": "pending"
    },
    "tags": []
   },
   "source": [
    "> **Note:** You’re probably familiar with side effects from the field of human health, where the term typically refers to an **unintended consequence** of medication. Often, the consequence is undesirable, like vomiting or sedation. On the other hand, side effects can be used intentionally. For example, some medications cause appetite stimulation, which can be used to an advantage, even if that isn’t the medication’s primary intent.\n",
    "> \n",
    "> The concept is similar in programming. If a side effect is a well-documented part of the function specification, and the user of the function is expressly aware of when and how the calling environment might be modified, then it can be okay. But a programmer may not always properly document side effects, or they may not even be aware that side effects are occurring."
   ]
  },
  {
   "cell_type": "markdown",
   "id": "6be1c9de",
   "metadata": {
    "papermill": {
     "duration": null,
     "end_time": null,
     "exception": null,
     "start_time": null,
     "status": "pending"
    },
    "tags": []
   },
   "source": [
    "When they’re hidden or unexpected, side effects can lead to program errors that are very difficult to track down. Generally, it’s best to avoid them."
   ]
  },
  {
   "cell_type": "markdown",
   "id": "a1497ff9",
   "metadata": {
    "papermill": {
     "duration": null,
     "end_time": null,
     "exception": null,
     "start_time": null,
     "status": "pending"
    },
    "tags": []
   },
   "source": [
    "<a class=\"anchor\" id=\"the_return_statement\"></a>\n",
    "## The return Statement"
   ]
  },
  {
   "cell_type": "markdown",
   "id": "bac95aa3",
   "metadata": {
    "papermill": {
     "duration": null,
     "end_time": null,
     "exception": null,
     "start_time": null,
     "status": "pending"
    },
    "tags": []
   },
   "source": [
    "What’s a Python function to do then? After all, in many cases, if a function doesn’t cause some change in the calling environment, then there isn’t much point in calling it at all. How should a function affect its caller?"
   ]
  },
  {
   "cell_type": "markdown",
   "id": "6d6cfa9f",
   "metadata": {
    "papermill": {
     "duration": null,
     "end_time": null,
     "exception": null,
     "start_time": null,
     "status": "pending"
    },
    "tags": []
   },
   "source": [
    "Well, one possibility is to use **function return values**. A `return` statement in a Python function serves two purposes:\n",
    "\n",
    "1. It immediately terminates the function and passes execution control back to the caller.\n",
    "2. It provides a mechanism by which the function can pass data back to the caller."
   ]
  },
  {
   "cell_type": "markdown",
   "id": "9a82074c",
   "metadata": {
    "papermill": {
     "duration": null,
     "end_time": null,
     "exception": null,
     "start_time": null,
     "status": "pending"
    },
    "tags": []
   },
   "source": [
    "<a class=\"anchor\" id=\"exiting_a_function\"></a>\n",
    "### Exiting a Function"
   ]
  },
  {
   "cell_type": "markdown",
   "id": "d912add4",
   "metadata": {
    "papermill": {
     "duration": null,
     "end_time": null,
     "exception": null,
     "start_time": null,
     "status": "pending"
    },
    "tags": []
   },
   "source": [
    "Within a function, a `return` statement causes immediate exit from the Python function and transfer of execution back to the caller:"
   ]
  },
  {
   "cell_type": "code",
   "execution_count": null,
   "id": "3af12c56",
   "metadata": {
    "papermill": {
     "duration": null,
     "end_time": null,
     "exception": null,
     "start_time": null,
     "status": "pending"
    },
    "tags": []
   },
   "outputs": [],
   "source": [
    "def f():\n",
    "    print('foo')\n",
    "    print('bar')\n",
    "    return"
   ]
  },
  {
   "cell_type": "code",
   "execution_count": null,
   "id": "7cd360d2",
   "metadata": {
    "papermill": {
     "duration": null,
     "end_time": null,
     "exception": null,
     "start_time": null,
     "status": "pending"
    },
    "tags": []
   },
   "outputs": [],
   "source": [
    "f()"
   ]
  },
  {
   "cell_type": "markdown",
   "id": "003240cc",
   "metadata": {
    "papermill": {
     "duration": null,
     "end_time": null,
     "exception": null,
     "start_time": null,
     "status": "pending"
    },
    "tags": []
   },
   "source": [
    "In this example, the `return` statement is actually superfluous. A function will return to the caller when it **falls off the end**—that is, after the last statement of the function body is executed. So, this function would behave identically without the `return` statement."
   ]
  },
  {
   "cell_type": "markdown",
   "id": "d43a7ba9",
   "metadata": {
    "papermill": {
     "duration": null,
     "end_time": null,
     "exception": null,
     "start_time": null,
     "status": "pending"
    },
    "tags": []
   },
   "source": [
    "However, `return` statements don’t need to be at the end of a function. They can appear anywhere in a function body, and even multiple times. Consider this example:"
   ]
  },
  {
   "cell_type": "code",
   "execution_count": null,
   "id": "a66a8439",
   "metadata": {
    "papermill": {
     "duration": null,
     "end_time": null,
     "exception": null,
     "start_time": null,
     "status": "pending"
    },
    "tags": []
   },
   "outputs": [],
   "source": [
    "def f(x):\n",
    "    if x < 0:\n",
    "        return \"x is less than zero\"\n",
    "    if x > 100:\n",
    "        return \"x is greater than 100\"\n",
    "    \n",
    "    return x"
   ]
  },
  {
   "cell_type": "code",
   "execution_count": null,
   "id": "5e8f8712",
   "metadata": {
    "papermill": {
     "duration": null,
     "end_time": null,
     "exception": null,
     "start_time": null,
     "status": "pending"
    },
    "tags": []
   },
   "outputs": [],
   "source": [
    "print(f(-3))\n",
    "print(f(105))\n",
    "print(f(64))"
   ]
  },
  {
   "cell_type": "markdown",
   "id": "a7368f06",
   "metadata": {
    "papermill": {
     "duration": null,
     "end_time": null,
     "exception": null,
     "start_time": null,
     "status": "pending"
    },
    "tags": []
   },
   "source": [
    "The first two calls to `f()` don’t cause any output, because a `return` statement is executed and the function exits prematurely, before the `print()` statement on line 6 is reached."
   ]
  },
  {
   "cell_type": "markdown",
   "id": "74a30013",
   "metadata": {
    "papermill": {
     "duration": null,
     "end_time": null,
     "exception": null,
     "start_time": null,
     "status": "pending"
    },
    "tags": []
   },
   "source": [
    "This sort of paradigm can be useful for **error checking** in a function. You can check several error conditions at the start of the function, with `return` statements that bail out if there’s a problem:\n",
    "\n",
    "```python\n",
    "def f():\n",
    "    if error_cond1:\n",
    "        return\n",
    "    if error_cond2:\n",
    "        return\n",
    "    if error_cond3:\n",
    "        return\n",
    "\n",
    "    <normal processing>\n",
    "```"
   ]
  },
  {
   "cell_type": "markdown",
   "id": "8fc1220a",
   "metadata": {
    "papermill": {
     "duration": null,
     "end_time": null,
     "exception": null,
     "start_time": null,
     "status": "pending"
    },
    "tags": []
   },
   "source": [
    "If none of the error conditions are encountered, then the function can proceed with its normal processing."
   ]
  },
  {
   "cell_type": "markdown",
   "id": "00e1f76b",
   "metadata": {
    "papermill": {
     "duration": null,
     "end_time": null,
     "exception": null,
     "start_time": null,
     "status": "pending"
    },
    "tags": []
   },
   "source": [
    "<a class=\"anchor\" id=\"returning_data_to_the_caller\"></a>\n",
    "### Returning Data to the Caller"
   ]
  },
  {
   "cell_type": "markdown",
   "id": "9e89b2e7",
   "metadata": {
    "papermill": {
     "duration": null,
     "end_time": null,
     "exception": null,
     "start_time": null,
     "status": "pending"
    },
    "tags": []
   },
   "source": [
    "In addition to exiting a function, the `return` statement is also used to pass data back to the caller. If a `return` statement inside a Python function is followed by an expression, then in the calling environment, the function call evaluates to the value of that expression:"
   ]
  },
  {
   "cell_type": "code",
   "execution_count": null,
   "id": "901ffb91",
   "metadata": {
    "papermill": {
     "duration": null,
     "end_time": null,
     "exception": null,
     "start_time": null,
     "status": "pending"
    },
    "tags": []
   },
   "outputs": [],
   "source": [
    "def f():\n",
    "    return 'foo'\n",
    "\n",
    "\n",
    "s = f()\n",
    "s"
   ]
  },
  {
   "cell_type": "markdown",
   "id": "89688795",
   "metadata": {
    "papermill": {
     "duration": null,
     "end_time": null,
     "exception": null,
     "start_time": null,
     "status": "pending"
    },
    "tags": []
   },
   "source": [
    "Here, the value of the expression `f()` on line 5 is `'foo'`, which is subsequently assigned to variable `s`."
   ]
  },
  {
   "cell_type": "markdown",
   "id": "6db5559f",
   "metadata": {
    "papermill": {
     "duration": null,
     "end_time": null,
     "exception": null,
     "start_time": null,
     "status": "pending"
    },
    "tags": []
   },
   "source": [
    "A function can return any type of **object**. In Python, that means pretty much anything whatsoever. In the calling environment, the function call can be used syntactically in any way that makes sense for the type of object the function returns."
   ]
  },
  {
   "cell_type": "markdown",
   "id": "1fec4d98",
   "metadata": {
    "papermill": {
     "duration": null,
     "end_time": null,
     "exception": null,
     "start_time": null,
     "status": "pending"
    },
    "tags": []
   },
   "source": [
    "For example, in this code, `f()` returns a dictionary. In the calling environment then, the expression `f()` represents a dictionary, and `f()['baz']` is a valid key reference into that dictionary:"
   ]
  },
  {
   "cell_type": "code",
   "execution_count": null,
   "id": "844e82e2",
   "metadata": {
    "papermill": {
     "duration": null,
     "end_time": null,
     "exception": null,
     "start_time": null,
     "status": "pending"
    },
    "tags": []
   },
   "outputs": [],
   "source": [
    "def f():\n",
    "    return dict(foo=1, bar=2, baz=3)"
   ]
  },
  {
   "cell_type": "code",
   "execution_count": null,
   "id": "3189adf7",
   "metadata": {
    "papermill": {
     "duration": null,
     "end_time": null,
     "exception": null,
     "start_time": null,
     "status": "pending"
    },
    "tags": []
   },
   "outputs": [],
   "source": [
    "f()"
   ]
  },
  {
   "cell_type": "code",
   "execution_count": null,
   "id": "1acde2ab",
   "metadata": {
    "papermill": {
     "duration": null,
     "end_time": null,
     "exception": null,
     "start_time": null,
     "status": "pending"
    },
    "tags": []
   },
   "outputs": [],
   "source": [
    "f()['baz']"
   ]
  },
  {
   "cell_type": "markdown",
   "id": "10103aa5",
   "metadata": {
    "papermill": {
     "duration": null,
     "end_time": null,
     "exception": null,
     "start_time": null,
     "status": "pending"
    },
    "tags": []
   },
   "source": [
    "In the next example, `f()` returns a string that you can slice like any other string:"
   ]
  },
  {
   "cell_type": "code",
   "execution_count": null,
   "id": "92d114e0",
   "metadata": {
    "papermill": {
     "duration": null,
     "end_time": null,
     "exception": null,
     "start_time": null,
     "status": "pending"
    },
    "tags": []
   },
   "outputs": [],
   "source": [
    "def f():\n",
    "    return 'foobar'"
   ]
  },
  {
   "cell_type": "code",
   "execution_count": null,
   "id": "0014aacc",
   "metadata": {
    "papermill": {
     "duration": null,
     "end_time": null,
     "exception": null,
     "start_time": null,
     "status": "pending"
    },
    "tags": []
   },
   "outputs": [],
   "source": [
    "f()[2:4]"
   ]
  },
  {
   "cell_type": "markdown",
   "id": "07a58306",
   "metadata": {
    "papermill": {
     "duration": null,
     "end_time": null,
     "exception": null,
     "start_time": null,
     "status": "pending"
    },
    "tags": []
   },
   "source": [
    "Here, `f()` returns a list that can be indexed or sliced:"
   ]
  },
  {
   "cell_type": "code",
   "execution_count": null,
   "id": "dfd6f3b6",
   "metadata": {
    "papermill": {
     "duration": null,
     "end_time": null,
     "exception": null,
     "start_time": null,
     "status": "pending"
    },
    "tags": []
   },
   "outputs": [],
   "source": [
    "def f():\n",
    "    return ['foo', 'bar', 'baz', 'qux']"
   ]
  },
  {
   "cell_type": "code",
   "execution_count": null,
   "id": "fe1e7327",
   "metadata": {
    "papermill": {
     "duration": null,
     "end_time": null,
     "exception": null,
     "start_time": null,
     "status": "pending"
    },
    "tags": []
   },
   "outputs": [],
   "source": [
    "f()"
   ]
  },
  {
   "cell_type": "code",
   "execution_count": null,
   "id": "dfd9cfa9",
   "metadata": {
    "papermill": {
     "duration": null,
     "end_time": null,
     "exception": null,
     "start_time": null,
     "status": "pending"
    },
    "tags": []
   },
   "outputs": [],
   "source": [
    "f()[2]"
   ]
  },
  {
   "cell_type": "code",
   "execution_count": null,
   "id": "a0ea04de",
   "metadata": {
    "papermill": {
     "duration": null,
     "end_time": null,
     "exception": null,
     "start_time": null,
     "status": "pending"
    },
    "tags": []
   },
   "outputs": [],
   "source": [
    "f()[::-1]"
   ]
  },
  {
   "cell_type": "markdown",
   "id": "74955d3f",
   "metadata": {
    "papermill": {
     "duration": null,
     "end_time": null,
     "exception": null,
     "start_time": null,
     "status": "pending"
    },
    "tags": []
   },
   "source": [
    "If multiple comma-separated expressions are specified in a `return` statement, then they’re packed and returned as a `tuple`:"
   ]
  },
  {
   "cell_type": "code",
   "execution_count": null,
   "id": "fb7d81b8",
   "metadata": {
    "papermill": {
     "duration": null,
     "end_time": null,
     "exception": null,
     "start_time": null,
     "status": "pending"
    },
    "tags": []
   },
   "outputs": [],
   "source": [
    "def f():\n",
    "    return 'foo', 'bar', 'baz', 'qux'"
   ]
  },
  {
   "cell_type": "code",
   "execution_count": null,
   "id": "661d1410",
   "metadata": {
    "papermill": {
     "duration": null,
     "end_time": null,
     "exception": null,
     "start_time": null,
     "status": "pending"
    },
    "tags": []
   },
   "outputs": [],
   "source": [
    "type(f())"
   ]
  },
  {
   "cell_type": "code",
   "execution_count": null,
   "id": "cad5fde7",
   "metadata": {
    "papermill": {
     "duration": null,
     "end_time": null,
     "exception": null,
     "start_time": null,
     "status": "pending"
    },
    "tags": []
   },
   "outputs": [],
   "source": [
    "t = f()\n",
    "t"
   ]
  },
  {
   "cell_type": "code",
   "execution_count": null,
   "id": "07dce17a",
   "metadata": {
    "papermill": {
     "duration": null,
     "end_time": null,
     "exception": null,
     "start_time": null,
     "status": "pending"
    },
    "tags": []
   },
   "outputs": [],
   "source": [
    "a, b, c, d = f()\n",
    "print(f'a = {a}, b = {b}, c = {c}, d = {d}')"
   ]
  },
  {
   "cell_type": "markdown",
   "id": "26df593c",
   "metadata": {
    "papermill": {
     "duration": null,
     "end_time": null,
     "exception": null,
     "start_time": null,
     "status": "pending"
    },
    "tags": []
   },
   "source": [
    "When no return value is given, a Python function returns the special Python value `None`:"
   ]
  },
  {
   "cell_type": "code",
   "execution_count": null,
   "id": "f7b7604c",
   "metadata": {
    "papermill": {
     "duration": null,
     "end_time": null,
     "exception": null,
     "start_time": null,
     "status": "pending"
    },
    "tags": []
   },
   "outputs": [],
   "source": [
    "def f():\n",
    "    return"
   ]
  },
  {
   "cell_type": "code",
   "execution_count": null,
   "id": "64d3275d",
   "metadata": {
    "papermill": {
     "duration": null,
     "end_time": null,
     "exception": null,
     "start_time": null,
     "status": "pending"
    },
    "tags": []
   },
   "outputs": [],
   "source": [
    "print(f())"
   ]
  },
  {
   "cell_type": "markdown",
   "id": "6a6467e8",
   "metadata": {
    "papermill": {
     "duration": null,
     "end_time": null,
     "exception": null,
     "start_time": null,
     "status": "pending"
    },
    "tags": []
   },
   "source": [
    "The same thing happens if the function body doesn’t contain a `return` statement at all and the function falls off the end:"
   ]
  },
  {
   "cell_type": "code",
   "execution_count": null,
   "id": "8965cb66",
   "metadata": {
    "papermill": {
     "duration": null,
     "end_time": null,
     "exception": null,
     "start_time": null,
     "status": "pending"
    },
    "tags": []
   },
   "outputs": [],
   "source": [
    "def g():\n",
    "    pass"
   ]
  },
  {
   "cell_type": "code",
   "execution_count": null,
   "id": "5f7159c9",
   "metadata": {
    "papermill": {
     "duration": null,
     "end_time": null,
     "exception": null,
     "start_time": null,
     "status": "pending"
    },
    "tags": []
   },
   "outputs": [],
   "source": [
    "print(g())"
   ]
  },
  {
   "cell_type": "markdown",
   "id": "e5b4919f",
   "metadata": {
    "papermill": {
     "duration": null,
     "end_time": null,
     "exception": null,
     "start_time": null,
     "status": "pending"
    },
    "tags": []
   },
   "source": [
    "Recall that `None` is falsy when evaluated in a Boolean context."
   ]
  },
  {
   "cell_type": "markdown",
   "id": "f806a245",
   "metadata": {
    "papermill": {
     "duration": null,
     "end_time": null,
     "exception": null,
     "start_time": null,
     "status": "pending"
    },
    "tags": []
   },
   "source": [
    "Since functions that exit through a bare `return` statement or fall off the end return `None`, a call to such a function can be used in a Boolean context:"
   ]
  },
  {
   "cell_type": "code",
   "execution_count": null,
   "id": "d1a11367",
   "metadata": {
    "papermill": {
     "duration": null,
     "end_time": null,
     "exception": null,
     "start_time": null,
     "status": "pending"
    },
    "tags": []
   },
   "outputs": [],
   "source": [
    "def f():\n",
    "    return"
   ]
  },
  {
   "cell_type": "code",
   "execution_count": null,
   "id": "d64cfe45",
   "metadata": {
    "papermill": {
     "duration": null,
     "end_time": null,
     "exception": null,
     "start_time": null,
     "status": "pending"
    },
    "tags": []
   },
   "outputs": [],
   "source": [
    "def g():\n",
    "    pass"
   ]
  },
  {
   "cell_type": "code",
   "execution_count": null,
   "id": "edff0cae",
   "metadata": {
    "papermill": {
     "duration": null,
     "end_time": null,
     "exception": null,
     "start_time": null,
     "status": "pending"
    },
    "tags": []
   },
   "outputs": [],
   "source": [
    "if f() or g():\n",
    "    print('yes')\n",
    "else:\n",
    "    print('no')"
   ]
  },
  {
   "cell_type": "markdown",
   "id": "0459942c",
   "metadata": {
    "papermill": {
     "duration": null,
     "end_time": null,
     "exception": null,
     "start_time": null,
     "status": "pending"
    },
    "tags": []
   },
   "source": [
    "Here, calls to both `f()` and `g()` are falsy, so `f()` or `g()` is as well, and the `else` clause executes."
   ]
  },
  {
   "cell_type": "markdown",
   "id": "b556ef65",
   "metadata": {
    "papermill": {
     "duration": null,
     "end_time": null,
     "exception": null,
     "start_time": null,
     "status": "pending"
    },
    "tags": []
   },
   "source": [
    "<a class=\"anchor\" id=\"revisiting_side_effects\"></a>\n",
    "### Revisiting Side Effects"
   ]
  },
  {
   "cell_type": "markdown",
   "id": "e89813f7",
   "metadata": {
    "papermill": {
     "duration": null,
     "end_time": null,
     "exception": null,
     "start_time": null,
     "status": "pending"
    },
    "tags": []
   },
   "source": [
    "Suppose you want to write a function that takes an integer argument and doubles it. That is, you want to pass an integer variable to the function, and when the function returns, the value of the variable in the calling environment should be twice what it was. In Pascal, you could accomplish this using pass-by-reference:\n",
    "\n",
    "```pascal\n",
    "procedure double(var x : integer);\n",
    "begin\n",
    "    x := x * 2;\n",
    "end;\n",
    "\n",
    "var\n",
    "    x : integer;\n",
    "\n",
    "begin\n",
    "    x := 5;\n",
    "    writeln('Before procedure call: ', x);\n",
    "    double(x);\n",
    "    writeln('After procedure call:  ', x);\n",
    "end.\n",
    "```"
   ]
  },
  {
   "cell_type": "markdown",
   "id": "a8568006",
   "metadata": {
    "papermill": {
     "duration": null,
     "end_time": null,
     "exception": null,
     "start_time": null,
     "status": "pending"
    },
    "tags": []
   },
   "source": [
    "Executing this code produces the following output, which verifies that `double()` does indeed modify `x` in the calling environment:\n",
    "\n",
    "```pascal\n",
    "Before procedure call: 5\n",
    "After procedure call:  10\n",
    "```"
   ]
  },
  {
   "cell_type": "markdown",
   "id": "4bf2d8dc",
   "metadata": {
    "papermill": {
     "duration": null,
     "end_time": null,
     "exception": null,
     "start_time": null,
     "status": "pending"
    },
    "tags": []
   },
   "source": [
    "In Python, this won’t work. As you now know, Python integers are immutable, so a Python function can’t change an integer argument by side effect:"
   ]
  },
  {
   "cell_type": "code",
   "execution_count": null,
   "id": "146b9f5d",
   "metadata": {
    "papermill": {
     "duration": null,
     "end_time": null,
     "exception": null,
     "start_time": null,
     "status": "pending"
    },
    "tags": []
   },
   "outputs": [],
   "source": [
    "def double(x):\n",
    "    x *= 2"
   ]
  },
  {
   "cell_type": "code",
   "execution_count": null,
   "id": "2d84facd",
   "metadata": {
    "papermill": {
     "duration": null,
     "end_time": null,
     "exception": null,
     "start_time": null,
     "status": "pending"
    },
    "tags": []
   },
   "outputs": [],
   "source": [
    "x = 5"
   ]
  },
  {
   "cell_type": "code",
   "execution_count": null,
   "id": "0a752ee9",
   "metadata": {
    "papermill": {
     "duration": null,
     "end_time": null,
     "exception": null,
     "start_time": null,
     "status": "pending"
    },
    "tags": []
   },
   "outputs": [],
   "source": [
    "double(x)"
   ]
  },
  {
   "cell_type": "code",
   "execution_count": null,
   "id": "c3dcf25a",
   "metadata": {
    "papermill": {
     "duration": null,
     "end_time": null,
     "exception": null,
     "start_time": null,
     "status": "pending"
    },
    "tags": []
   },
   "outputs": [],
   "source": [
    "x"
   ]
  },
  {
   "cell_type": "markdown",
   "id": "8352559a",
   "metadata": {
    "papermill": {
     "duration": null,
     "end_time": null,
     "exception": null,
     "start_time": null,
     "status": "pending"
    },
    "tags": []
   },
   "source": [
    "However, you can use a return value to obtain a similar effect. Simply write `double()` so that it takes an integer argument, doubles it, and returns the doubled value. Then, the caller is responsible for the assignment that modifies the original value:"
   ]
  },
  {
   "cell_type": "code",
   "execution_count": null,
   "id": "da77d105",
   "metadata": {
    "papermill": {
     "duration": null,
     "end_time": null,
     "exception": null,
     "start_time": null,
     "status": "pending"
    },
    "tags": []
   },
   "outputs": [],
   "source": [
    "def double(x):\n",
    "    return x * 2 "
   ]
  },
  {
   "cell_type": "code",
   "execution_count": null,
   "id": "ab6f0958",
   "metadata": {
    "papermill": {
     "duration": null,
     "end_time": null,
     "exception": null,
     "start_time": null,
     "status": "pending"
    },
    "tags": []
   },
   "outputs": [],
   "source": [
    "x = 5"
   ]
  },
  {
   "cell_type": "code",
   "execution_count": null,
   "id": "3a9a41fd",
   "metadata": {
    "papermill": {
     "duration": null,
     "end_time": null,
     "exception": null,
     "start_time": null,
     "status": "pending"
    },
    "tags": []
   },
   "outputs": [],
   "source": [
    "x = double(x)"
   ]
  },
  {
   "cell_type": "code",
   "execution_count": null,
   "id": "62cf4035",
   "metadata": {
    "papermill": {
     "duration": null,
     "end_time": null,
     "exception": null,
     "start_time": null,
     "status": "pending"
    },
    "tags": []
   },
   "outputs": [],
   "source": [
    "x"
   ]
  },
  {
   "cell_type": "markdown",
   "id": "bd1779c2",
   "metadata": {
    "papermill": {
     "duration": null,
     "end_time": null,
     "exception": null,
     "start_time": null,
     "status": "pending"
    },
    "tags": []
   },
   "source": [
    "This is arguably preferable to modifying by side effect. It’s very clear that `x` is being modified in the calling environment because the caller is doing so itself. Anyway, it’s the only option, because modification by side effect doesn’t work in this case."
   ]
  },
  {
   "cell_type": "markdown",
   "id": "b8a2c1c2",
   "metadata": {
    "papermill": {
     "duration": null,
     "end_time": null,
     "exception": null,
     "start_time": null,
     "status": "pending"
    },
    "tags": []
   },
   "source": [
    "Still, even in cases where it’s possible to modify an argument by side effect, using a return value may still be clearer. Suppose you want to double every item in a list. Because lists are mutable, you could define a Python function that modifies the list in place:"
   ]
  },
  {
   "cell_type": "code",
   "execution_count": null,
   "id": "885f4370",
   "metadata": {
    "papermill": {
     "duration": null,
     "end_time": null,
     "exception": null,
     "start_time": null,
     "status": "pending"
    },
    "tags": []
   },
   "outputs": [],
   "source": [
    "def double_list(x):\n",
    "    i = 0\n",
    "    while i < len(x):\n",
    "        x[i] *= 2\n",
    "        i += 1"
   ]
  },
  {
   "cell_type": "code",
   "execution_count": null,
   "id": "0eb95671",
   "metadata": {
    "papermill": {
     "duration": null,
     "end_time": null,
     "exception": null,
     "start_time": null,
     "status": "pending"
    },
    "tags": []
   },
   "outputs": [],
   "source": [
    "a = [1, 2, 3, 4, 5]"
   ]
  },
  {
   "cell_type": "code",
   "execution_count": null,
   "id": "d71e865f",
   "metadata": {
    "papermill": {
     "duration": null,
     "end_time": null,
     "exception": null,
     "start_time": null,
     "status": "pending"
    },
    "tags": []
   },
   "outputs": [],
   "source": [
    "double_list(a)"
   ]
  },
  {
   "cell_type": "code",
   "execution_count": null,
   "id": "e920adbb",
   "metadata": {
    "papermill": {
     "duration": null,
     "end_time": null,
     "exception": null,
     "start_time": null,
     "status": "pending"
    },
    "tags": []
   },
   "outputs": [],
   "source": [
    "a"
   ]
  },
  {
   "cell_type": "markdown",
   "id": "4563e0d5",
   "metadata": {
    "papermill": {
     "duration": null,
     "end_time": null,
     "exception": null,
     "start_time": null,
     "status": "pending"
    },
    "tags": []
   },
   "source": [
    "Unlike `double()` in the previous example, `double_list() `actually works as intended. If the documentation for the function clearly states that the list argument’s contents are changed, then this may be a reasonable implementation."
   ]
  },
  {
   "cell_type": "markdown",
   "id": "0cd8cdf4",
   "metadata": {
    "papermill": {
     "duration": null,
     "end_time": null,
     "exception": null,
     "start_time": null,
     "status": "pending"
    },
    "tags": []
   },
   "source": [
    "However, you can also write `double_list()` to pass the desired list back by return value and allow the caller to make the assignment, similar to how `double()` was re-written in the previous example:"
   ]
  },
  {
   "cell_type": "code",
   "execution_count": null,
   "id": "70aa444a",
   "metadata": {
    "papermill": {
     "duration": null,
     "end_time": null,
     "exception": null,
     "start_time": null,
     "status": "pending"
    },
    "tags": []
   },
   "outputs": [],
   "source": [
    "def double_list(x):\n",
    "    r = []\n",
    "    for i in x:\n",
    "        r.append(i * 2)\n",
    "    return r"
   ]
  },
  {
   "cell_type": "code",
   "execution_count": null,
   "id": "6a509258",
   "metadata": {
    "papermill": {
     "duration": null,
     "end_time": null,
     "exception": null,
     "start_time": null,
     "status": "pending"
    },
    "tags": []
   },
   "outputs": [],
   "source": [
    "a = [1, 2, 3, 4, 5]"
   ]
  },
  {
   "cell_type": "code",
   "execution_count": null,
   "id": "309cf927",
   "metadata": {
    "papermill": {
     "duration": null,
     "end_time": null,
     "exception": null,
     "start_time": null,
     "status": "pending"
    },
    "tags": []
   },
   "outputs": [],
   "source": [
    "a = double_list(a)"
   ]
  },
  {
   "cell_type": "code",
   "execution_count": null,
   "id": "ba0ab374",
   "metadata": {
    "papermill": {
     "duration": null,
     "end_time": null,
     "exception": null,
     "start_time": null,
     "status": "pending"
    },
    "tags": []
   },
   "outputs": [],
   "source": [
    "a"
   ]
  },
  {
   "cell_type": "markdown",
   "id": "90b80935",
   "metadata": {
    "papermill": {
     "duration": null,
     "end_time": null,
     "exception": null,
     "start_time": null,
     "status": "pending"
    },
    "tags": []
   },
   "source": [
    "Either approach works. Side effects aren’t necessarily consummate evil, and they have their place, but because virtually anything can be returned from a function, the same thing can usually be accomplished through return values as well."
   ]
  },
  {
   "cell_type": "markdown",
   "id": "2e164255",
   "metadata": {
    "papermill": {
     "duration": null,
     "end_time": null,
     "exception": null,
     "start_time": null,
     "status": "pending"
    },
    "tags": []
   },
   "source": [
    "> **Note:** Be aware that in the second version of `double_list` where you use another list to store doubled values, you are actually doubling the required memory as you are storing two list at the same time in memory until it gets reassigned. So the first version using side effects is actually more memory efficient."
   ]
  },
  {
   "cell_type": "markdown",
   "id": "1c715033",
   "metadata": {
    "papermill": {
     "duration": null,
     "end_time": null,
     "exception": null,
     "start_time": null,
     "status": "pending"
    },
    "tags": []
   },
   "source": [
    "<a class=\"anchor\" id=\"conclusion\"></a>\n",
    "## Conclusion "
   ]
  },
  {
   "cell_type": "markdown",
   "id": "d71d3aa0",
   "metadata": {
    "papermill": {
     "duration": null,
     "end_time": null,
     "exception": null,
     "start_time": null,
     "status": "pending"
    },
    "tags": []
   },
   "source": [
    "You’ve learned:\n",
    "\n",
    "- How to create a **user-defined function** in Python\n",
    "- Several different ways you can pass **arguments** to a function\n",
    "- How you can **return** data from a function to its caller"
   ]
  },
  {
   "cell_type": "markdown",
   "id": "f3e284d0",
   "metadata": {
    "papermill": {
     "duration": null,
     "end_time": null,
     "exception": null,
     "start_time": null,
     "status": "pending"
    },
    "tags": []
   },
   "source": [
    "Next up in this series, you’ll explore some more complex topics such as variable length arguments"
   ]
  }
 ],
 "metadata": {
  "kernelspec": {
   "display_name": "Python 3",
   "language": "python",
   "name": "python3"
  },
  "language_info": {
   "codemirror_mode": {
    "name": "ipython",
    "version": 3
   },
   "file_extension": ".py",
   "mimetype": "text/x-python",
   "name": "python",
   "nbconvert_exporter": "python",
   "pygments_lexer": "ipython3",
   "version": "3.10.12"
  },
  "papermill": {
   "default_parameters": {},
   "duration": 9.673132,
   "end_time": "2023-10-15T10:56:09.853646",
   "environment_variables": {},
   "exception": true,
   "input_path": "__notebook__.ipynb",
   "output_path": "__notebook__.ipynb",
   "parameters": {},
   "start_time": "2023-10-15T10:56:00.180514",
   "version": "2.4.0"
  }
 },
 "nbformat": 4,
 "nbformat_minor": 5
}
