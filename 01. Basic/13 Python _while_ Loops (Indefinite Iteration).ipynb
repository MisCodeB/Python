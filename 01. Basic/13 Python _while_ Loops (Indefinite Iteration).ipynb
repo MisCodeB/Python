{
 "cells": [
  {
   "cell_type": "markdown",
   "id": "d7a54691",
   "metadata": {
    "papermill": {
     "duration": 0.011834,
     "end_time": "2023-10-15T08:07:57.061489",
     "exception": false,
     "start_time": "2023-10-15T08:07:57.049655",
     "status": "completed"
    },
    "tags": []
   },
   "source": []
  },
  {
   "cell_type": "markdown",
   "id": "0f0ea2a9",
   "metadata": {
    "papermill": {
     "duration": 0.010767,
     "end_time": "2023-10-15T08:07:57.087425",
     "exception": false,
     "start_time": "2023-10-15T08:07:57.076658",
     "status": "completed"
    },
    "tags": []
   },
   "source": [
    "Python \"while\" Loops (Indefinite Iteration) \n"
   ]
  },
  {
   "cell_type": "code",
   "execution_count": null,
   "id": "c359e0c7",
   "metadata": {
    "papermill": {
     "duration": 0.010378,
     "end_time": "2023-10-15T08:07:57.108633",
     "exception": false,
     "start_time": "2023-10-15T08:07:57.098255",
     "status": "completed"
    },
    "tags": []
   },
   "outputs": [],
   "source": []
  },
  {
   "cell_type": "markdown",
   "id": "accf62da",
   "metadata": {
    "papermill": {
     "duration": 0.010415,
     "end_time": "2023-10-15T08:07:57.129805",
     "exception": false,
     "start_time": "2023-10-15T08:07:57.119390",
     "status": "completed"
    },
    "tags": []
   },
   "source": [
    "Table of Contents \n",
    "* [The `while` Loop](#the_`while`_loop)\n",
    "* [The Python `break` and `continue` Statements](#the_python_`break`_and_`continue`_statements)\n",
    "* [The `else` Clause](#the_`else`_clause)\n",
    "* [Infinite Loops](#infinite_loops)\n",
    "* [Nested `while` Loops](#nested_`while`_loops)\n",
    "* [One-Line `while` Loops](#one-line_`while`_loops)\n",
    "* [Conclusion](#conclusion)\n",
    "\n",
    "---"
   ]
  },
  {
   "cell_type": "markdown",
   "id": "7c08e0e7",
   "metadata": {
    "papermill": {
     "duration": 0.01049,
     "end_time": "2023-10-15T08:07:57.151052",
     "exception": false,
     "start_time": "2023-10-15T08:07:57.140562",
     "status": "completed"
    },
    "tags": []
   },
   "source": [
    "**Iteration** means executing the same block of code over and over, potentially many times. A programming structure that implements iteration is called a **loop**."
   ]
  },
  {
   "cell_type": "markdown",
   "id": "c29a26c6",
   "metadata": {
    "papermill": {
     "duration": 0.010623,
     "end_time": "2023-10-15T08:07:57.172790",
     "exception": false,
     "start_time": "2023-10-15T08:07:57.162167",
     "status": "completed"
    },
    "tags": []
   },
   "source": [
    "In programming, there are two types of iteration, indefinite and definite:\n",
    "\n",
    "- With **indefinite iteration**, the number of times the loop is executed isn’t specified explicitly in advance. Rather, the designated block is executed repeatedly as long as some condition is met.\n",
    "\n",
    "- With **definite iteration**, the number of times the designated block will be executed is specified explicitly at the time the loop starts."
   ]
  },
  {
   "cell_type": "markdown",
   "id": "36630542",
   "metadata": {
    "papermill": {
     "duration": 0.010301,
     "end_time": "2023-10-15T08:07:57.193757",
     "exception": false,
     "start_time": "2023-10-15T08:07:57.183456",
     "status": "completed"
    },
    "tags": []
   },
   "source": [
    "In this section, you’ll:\n",
    "\n",
    "- Learn about the while loop, the Python control structure used for indefinite iteration\n",
    "- See how to break out of a loop or loop iteration prematurely\n",
    "- Explore infinite loops"
   ]
  },
  {
   "cell_type": "markdown",
   "id": "17ffe26d",
   "metadata": {
    "papermill": {
     "duration": 0.010512,
     "end_time": "2023-10-15T08:07:57.214933",
     "exception": false,
     "start_time": "2023-10-15T08:07:57.204421",
     "status": "completed"
    },
    "tags": []
   },
   "source": [
    "When you’re finished, you should have a good grasp of how to use indefinite iteration in Python."
   ]
  },
  {
   "cell_type": "markdown",
   "id": "129bc7ef",
   "metadata": {
    "papermill": {
     "duration": 0.010611,
     "end_time": "2023-10-15T08:07:57.236685",
     "exception": false,
     "start_time": "2023-10-15T08:07:57.226074",
     "status": "completed"
    },
    "tags": []
   },
   "source": [
    "<a class=\"anchor\" id=\"the_`while`_loop\"></a>\n",
    "## The `while` Loop"
   ]
  },
  {
   "cell_type": "markdown",
   "id": "91aabc7f",
   "metadata": {
    "papermill": {
     "duration": 0.010547,
     "end_time": "2023-10-15T08:07:57.258184",
     "exception": false,
     "start_time": "2023-10-15T08:07:57.247637",
     "status": "completed"
    },
    "tags": []
   },
   "source": [
    "Let’s see how Python’s `while` statement is used to construct loops. We’ll start simple and embellish as we go."
   ]
  },
  {
   "cell_type": "markdown",
   "id": "e991099f",
   "metadata": {
    "papermill": {
     "duration": 0.010488,
     "end_time": "2023-10-15T08:07:57.279434",
     "exception": false,
     "start_time": "2023-10-15T08:07:57.268946",
     "status": "completed"
    },
    "tags": []
   },
   "source": [
    "The format of a rudimentary `while` loop is shown below:\n",
    "    \n",
    "```python\n",
    "while <expr>:\n",
    "    <statement(s)>\n",
    "```"
   ]
  },
  {
   "cell_type": "markdown",
   "id": "3e42c095",
   "metadata": {
    "papermill": {
     "duration": 0.103667,
     "end_time": "2023-10-15T08:07:57.393870",
     "exception": false,
     "start_time": "2023-10-15T08:07:57.290203",
     "status": "completed"
    },
    "tags": []
   },
   "source": [
    "> **Remember:** All control structures in Python use indentation to define blocks. See the discussion on grouping statements in the previous section to review."
   ]
  },
  {
   "cell_type": "markdown",
   "id": "fa6bb60e",
   "metadata": {
    "papermill": {
     "duration": 0.010793,
     "end_time": "2023-10-15T08:07:57.416067",
     "exception": false,
     "start_time": "2023-10-15T08:07:57.405274",
     "status": "completed"
    },
    "tags": []
   },
   "source": [
    "The controlling expression, `<expr>`, typically involves one or more variables that are initialized prior to starting the loop and then modified somewhere in the loop body."
   ]
  },
  {
   "cell_type": "markdown",
   "id": "b1a2f8ab",
   "metadata": {
    "papermill": {
     "duration": 0.010681,
     "end_time": "2023-10-15T08:07:57.437876",
     "exception": false,
     "start_time": "2023-10-15T08:07:57.427195",
     "status": "completed"
    },
    "tags": []
   },
   "source": [
    "When a while loop is encountered, `<expr>` is first evaluated in Boolean context. If it is true, the loop body is executed. Then `<expr>` is checked again, and if still true, the body is executed again. This continues until `<expr>` becomes false, at which point program execution proceeds to the first statement beyond the loop body."
   ]
  },
  {
   "cell_type": "markdown",
   "id": "a45d70d8",
   "metadata": {
    "papermill": {
     "duration": 0.010797,
     "end_time": "2023-10-15T08:07:57.459870",
     "exception": false,
     "start_time": "2023-10-15T08:07:57.449073",
     "status": "completed"
    },
    "tags": []
   },
   "source": [
    "Consider this loop:"
   ]
  },
  {
   "cell_type": "code",
   "execution_count": 1,
   "id": "bfea811a",
   "metadata": {
    "execution": {
     "iopub.execute_input": "2023-10-15T08:07:57.484223Z",
     "iopub.status.busy": "2023-10-15T08:07:57.483787Z",
     "iopub.status.idle": "2023-10-15T08:07:57.496440Z",
     "shell.execute_reply": "2023-10-15T08:07:57.495363Z"
    },
    "papermill": {
     "duration": 0.028244,
     "end_time": "2023-10-15T08:07:57.499194",
     "exception": false,
     "start_time": "2023-10-15T08:07:57.470950",
     "status": "completed"
    },
    "tags": []
   },
   "outputs": [
    {
     "name": "stdout",
     "output_type": "stream",
     "text": [
      "4\n",
      "3\n",
      "2\n",
      "1\n",
      "0\n"
     ]
    }
   ],
   "source": [
    "n = 5\n",
    "while n > 0:\n",
    "    n -= 1\n",
    "    print(n)"
   ]
  },
  {
   "cell_type": "markdown",
   "id": "6ecf6c1c",
   "metadata": {
    "papermill": {
     "duration": 0.014234,
     "end_time": "2023-10-15T08:07:57.524784",
     "exception": false,
     "start_time": "2023-10-15T08:07:57.510550",
     "status": "completed"
    },
    "tags": []
   },
   "source": [
    "Here’s what’s happening in this example:\n",
    "\n",
    "- n is initially `5`. The expression in the while statement header on line 2 is `n > 0`, which is true, so the loop body executes. Inside the loop body on line 3, `n` is decremented by 1 to 4, and then printed.\n",
    "\n",
    "- When the body of the loop has finished, program execution returns to the top of the loop at line 2, and the expression is evaluated again. It is still true, so the body executes again, and `3` is printed.\n",
    "\n",
    "- This continues until `n` becomes `0`. At that point, when the expression is tested, it is false, and the loop terminates. Execution would resume at the first statement following the loop body, but there isn’t one in this case."
   ]
  },
  {
   "cell_type": "markdown",
   "id": "9aeb0c9a",
   "metadata": {
    "papermill": {
     "duration": 0.010731,
     "end_time": "2023-10-15T08:07:57.546690",
     "exception": false,
     "start_time": "2023-10-15T08:07:57.535959",
     "status": "completed"
    },
    "tags": []
   },
   "source": [
    "Note that the controlling expression of the `while` loop is tested first, before anything else happens. If it’s false to start with, the loop body will never be executed at all:"
   ]
  },
  {
   "cell_type": "code",
   "execution_count": 2,
   "id": "d1e2a02f",
   "metadata": {
    "execution": {
     "iopub.execute_input": "2023-10-15T08:07:57.571205Z",
     "iopub.status.busy": "2023-10-15T08:07:57.570453Z",
     "iopub.status.idle": "2023-10-15T08:07:57.575220Z",
     "shell.execute_reply": "2023-10-15T08:07:57.574033Z"
    },
    "papermill": {
     "duration": 0.019312,
     "end_time": "2023-10-15T08:07:57.577232",
     "exception": false,
     "start_time": "2023-10-15T08:07:57.557920",
     "status": "completed"
    },
    "tags": []
   },
   "outputs": [],
   "source": [
    "n = 0\n",
    "while n > 0:\n",
    "    n -= 1\n",
    "    print(n)"
   ]
  },
  {
   "cell_type": "markdown",
   "id": "fd44a1d5",
   "metadata": {
    "papermill": {
     "duration": 0.010703,
     "end_time": "2023-10-15T08:07:57.599759",
     "exception": false,
     "start_time": "2023-10-15T08:07:57.589056",
     "status": "completed"
    },
    "tags": []
   },
   "source": [
    "In the example above, when the loop is encountered, `n` is `0`. The controlling expression `n > 0` is already false, so the loop body never executes."
   ]
  },
  {
   "cell_type": "markdown",
   "id": "22371ee1",
   "metadata": {
    "papermill": {
     "duration": 0.010517,
     "end_time": "2023-10-15T08:07:57.621142",
     "exception": false,
     "start_time": "2023-10-15T08:07:57.610625",
     "status": "completed"
    },
    "tags": []
   },
   "source": [
    "Here’s another `while` loop involving a list, rather than a numeric comparison:"
   ]
  },
  {
   "cell_type": "code",
   "execution_count": 3,
   "id": "5f6c1e5e",
   "metadata": {
    "execution": {
     "iopub.execute_input": "2023-10-15T08:07:57.644786Z",
     "iopub.status.busy": "2023-10-15T08:07:57.644407Z",
     "iopub.status.idle": "2023-10-15T08:07:57.649498Z",
     "shell.execute_reply": "2023-10-15T08:07:57.648738Z"
    },
    "papermill": {
     "duration": 0.020077,
     "end_time": "2023-10-15T08:07:57.652024",
     "exception": false,
     "start_time": "2023-10-15T08:07:57.631947",
     "status": "completed"
    },
    "tags": []
   },
   "outputs": [
    {
     "name": "stdout",
     "output_type": "stream",
     "text": [
      "baz\n",
      "bar\n",
      "foo\n"
     ]
    }
   ],
   "source": [
    "a = ['foo', 'bar', 'baz']\n",
    "while a:\n",
    "    print(a.pop(-1))"
   ]
  },
  {
   "cell_type": "markdown",
   "id": "f3370b15",
   "metadata": {
    "papermill": {
     "duration": 0.011405,
     "end_time": "2023-10-15T08:07:57.674494",
     "exception": false,
     "start_time": "2023-10-15T08:07:57.663089",
     "status": "completed"
    },
    "tags": []
   },
   "source": [
    "When a list is evaluated in Boolean context, it is truthy if it has elements in it and falsy if it is empty. In this example, a is true as long as it has elements in it. Once all the items have been removed with the `.pop()` method and the list is empty, `a` is false, and the loop terminates."
   ]
  },
  {
   "cell_type": "code",
   "execution_count": 4,
   "id": "678c64ed",
   "metadata": {
    "execution": {
     "iopub.execute_input": "2023-10-15T08:07:57.700507Z",
     "iopub.status.busy": "2023-10-15T08:07:57.699792Z",
     "iopub.status.idle": "2023-10-15T08:07:57.703785Z",
     "shell.execute_reply": "2023-10-15T08:07:57.703073Z"
    },
    "papermill": {
     "duration": 0.018561,
     "end_time": "2023-10-15T08:07:57.705480",
     "exception": false,
     "start_time": "2023-10-15T08:07:57.686919",
     "status": "completed"
    },
    "tags": []
   },
   "outputs": [],
   "source": [
    "x = 5\n",
    "if x < 5:\n",
    "    print('here')"
   ]
  },
  {
   "cell_type": "code",
   "execution_count": 5,
   "id": "1ce5e525",
   "metadata": {
    "execution": {
     "iopub.execute_input": "2023-10-15T08:07:57.730430Z",
     "iopub.status.busy": "2023-10-15T08:07:57.729825Z",
     "iopub.status.idle": "2023-10-15T08:07:57.734055Z",
     "shell.execute_reply": "2023-10-15T08:07:57.733360Z"
    },
    "papermill": {
     "duration": 0.018802,
     "end_time": "2023-10-15T08:07:57.735846",
     "exception": false,
     "start_time": "2023-10-15T08:07:57.717044",
     "status": "completed"
    },
    "tags": []
   },
   "outputs": [],
   "source": [
    "x = 5\n",
    "while x < 5:\n",
    "    print('here')"
   ]
  },
  {
   "cell_type": "markdown",
   "id": "7175e336",
   "metadata": {
    "papermill": {
     "duration": 0.010741,
     "end_time": "2023-10-15T08:07:57.757736",
     "exception": false,
     "start_time": "2023-10-15T08:07:57.746995",
     "status": "completed"
    },
    "tags": []
   },
   "source": [
    "<a class=\"anchor\" id=\"the_python_`break`_and_`continue`_statements\"></a>\n",
    "## The Python `break` and `continue` Statements"
   ]
  },
  {
   "cell_type": "code",
   "execution_count": 6,
   "id": "39defa8d",
   "metadata": {
    "execution": {
     "iopub.execute_input": "2023-10-15T08:07:57.782076Z",
     "iopub.status.busy": "2023-10-15T08:07:57.781179Z",
     "iopub.status.idle": "2023-10-15T08:07:57.787839Z",
     "shell.execute_reply": "2023-10-15T08:07:57.786399Z"
    },
    "papermill": {
     "duration": 0.021092,
     "end_time": "2023-10-15T08:07:57.789985",
     "exception": false,
     "start_time": "2023-10-15T08:07:57.768893",
     "status": "completed"
    },
    "tags": []
   },
   "outputs": [
    {
     "name": "stdout",
     "output_type": "stream",
     "text": [
      "x is 5\n"
     ]
    }
   ],
   "source": [
    "x = 5\n",
    "\n",
    "if x == 5:\n",
    "    print('x is 5')\n",
    "elif x > 6:\n",
    "    print('x is greater than 6')\n",
    "else:\n",
    "    print('else')"
   ]
  },
  {
   "cell_type": "markdown",
   "id": "5166bef6",
   "metadata": {
    "papermill": {
     "duration": 0.011531,
     "end_time": "2023-10-15T08:07:57.812607",
     "exception": false,
     "start_time": "2023-10-15T08:07:57.801076",
     "status": "completed"
    },
    "tags": []
   },
   "source": [
    "In each example you have seen so far, the entire body of the `while` loop is executed on each iteration. Python provides two keywords that terminate a loop iteration prematurely:\n",
    "\n",
    "- The Python **break** statement immediately terminates a loop entirely. Program execution proceeds to the first statement following the loop body.\n",
    "\n",
    "- The Python **continue** statement immediately terminates the current loop iteration. Execution jumps to the top of the loop, and the controlling expression is re-evaluated to determine whether the loop will execute again or terminate."
   ]
  },
  {
   "cell_type": "markdown",
   "id": "23b6cfb2",
   "metadata": {
    "papermill": {
     "duration": 0.011129,
     "end_time": "2023-10-15T08:07:57.835037",
     "exception": false,
     "start_time": "2023-10-15T08:07:57.823908",
     "status": "completed"
    },
    "tags": []
   },
   "source": [
    "The distinction between `break` and `continue` is demonstrated in the following diagram:\n",
    "\n",
    "<img src=\"./images/break-continue.png\" alt=\"break vs continue\" width=400 align=\"center\" />"
   ]
  },
  {
   "cell_type": "markdown",
   "id": "4998a13c",
   "metadata": {
    "papermill": {
     "duration": 0.010947,
     "end_time": "2023-10-15T08:07:57.857108",
     "exception": false,
     "start_time": "2023-10-15T08:07:57.846161",
     "status": "completed"
    },
    "tags": []
   },
   "source": [
    "For example:"
   ]
  },
  {
   "cell_type": "code",
   "execution_count": 7,
   "id": "c8ce4282",
   "metadata": {
    "execution": {
     "iopub.execute_input": "2023-10-15T08:07:57.881087Z",
     "iopub.status.busy": "2023-10-15T08:07:57.880418Z",
     "iopub.status.idle": "2023-10-15T08:07:57.886805Z",
     "shell.execute_reply": "2023-10-15T08:07:57.885523Z"
    },
    "papermill": {
     "duration": 0.02077,
     "end_time": "2023-10-15T08:07:57.888907",
     "exception": false,
     "start_time": "2023-10-15T08:07:57.868137",
     "status": "completed"
    },
    "tags": []
   },
   "outputs": [
    {
     "name": "stdout",
     "output_type": "stream",
     "text": [
      "4\n",
      "3\n",
      "Loop ended.\n"
     ]
    }
   ],
   "source": [
    "n = 5\n",
    "while n > 0:\n",
    "    n -= 1\n",
    "    if n == 2:\n",
    "        break\n",
    "    print(n)\n",
    "print('Loop ended.')"
   ]
  },
  {
   "cell_type": "markdown",
   "id": "21669ef2",
   "metadata": {
    "papermill": {
     "duration": 0.011295,
     "end_time": "2023-10-15T08:07:57.911489",
     "exception": false,
     "start_time": "2023-10-15T08:07:57.900194",
     "status": "completed"
    },
    "tags": []
   },
   "source": [
    "When `n` becomes `2`, the `break` statement is executed. The loop is terminated completely, and program execution jumps to the `print()` statement on line 7."
   ]
  },
  {
   "cell_type": "markdown",
   "id": "519a2eed",
   "metadata": {
    "papermill": {
     "duration": 0.010848,
     "end_time": "2023-10-15T08:07:57.933951",
     "exception": false,
     "start_time": "2023-10-15T08:07:57.923103",
     "status": "completed"
    },
    "tags": []
   },
   "source": [
    "The next block of code below, is identical except for a `continue` statement in place of the `break`:"
   ]
  },
  {
   "cell_type": "code",
   "execution_count": 8,
   "id": "f4c3c1ed",
   "metadata": {
    "execution": {
     "iopub.execute_input": "2023-10-15T08:07:57.958542Z",
     "iopub.status.busy": "2023-10-15T08:07:57.958184Z",
     "iopub.status.idle": "2023-10-15T08:07:57.963444Z",
     "shell.execute_reply": "2023-10-15T08:07:57.962339Z"
    },
    "papermill": {
     "duration": 0.020038,
     "end_time": "2023-10-15T08:07:57.965619",
     "exception": false,
     "start_time": "2023-10-15T08:07:57.945581",
     "status": "completed"
    },
    "tags": []
   },
   "outputs": [
    {
     "name": "stdout",
     "output_type": "stream",
     "text": [
      "4\n",
      "3\n",
      "1\n",
      "0\n",
      "Loop ended.\n"
     ]
    }
   ],
   "source": [
    "n = 5\n",
    "while n > 0:\n",
    "    n -= 1\n",
    "    if n == 2:\n",
    "        continue\n",
    "    print(n)\n",
    "print('Loop ended.')"
   ]
  },
  {
   "cell_type": "markdown",
   "id": "746e3541",
   "metadata": {
    "papermill": {
     "duration": 0.011269,
     "end_time": "2023-10-15T08:07:57.988216",
     "exception": false,
     "start_time": "2023-10-15T08:07:57.976947",
     "status": "completed"
    },
    "tags": []
   },
   "source": [
    "This time, when `n` is `2`, the `continue` statement causes termination of that iteration. Thus, `2` isn’t printed. Execution returns to the top of the loop, the condition is re-evaluated, and it is still true. The loop resumes, terminating when `n` becomes `0`, as previously."
   ]
  },
  {
   "cell_type": "markdown",
   "id": "c6f83e96",
   "metadata": {
    "papermill": {
     "duration": 0.019263,
     "end_time": "2023-10-15T08:07:58.019081",
     "exception": false,
     "start_time": "2023-10-15T08:07:57.999818",
     "status": "completed"
    },
    "tags": []
   },
   "source": [
    "<a class=\"anchor\" id=\"the_`else`_clause\"></a>\n",
    "## The `else` Clause"
   ]
  },
  {
   "cell_type": "markdown",
   "id": "ee398ed6",
   "metadata": {
    "papermill": {
     "duration": 0.011364,
     "end_time": "2023-10-15T08:07:58.042130",
     "exception": false,
     "start_time": "2023-10-15T08:07:58.030766",
     "status": "completed"
    },
    "tags": []
   },
   "source": [
    "Python allows an optional `else` clause at the end of a `while` loop. This is a unique feature of Python, not found in most other programming languages. The syntax is shown below:\n",
    "\n",
    "```python\n",
    "while <expr>:\n",
    "    <statement(s)>\n",
    "else:\n",
    "    <additional_statement(s)>\n",
    "```"
   ]
  },
  {
   "cell_type": "markdown",
   "id": "b387eed7",
   "metadata": {
    "papermill": {
     "duration": 0.011131,
     "end_time": "2023-10-15T08:07:58.064769",
     "exception": false,
     "start_time": "2023-10-15T08:07:58.053638",
     "status": "completed"
    },
    "tags": []
   },
   "source": [
    "The `<additional_statement(s)>` specified in the `else` clause will be executed when the while loop terminates."
   ]
  },
  {
   "cell_type": "markdown",
   "id": "68a16f76",
   "metadata": {
    "papermill": {
     "duration": 0.011379,
     "end_time": "2023-10-15T08:07:58.088468",
     "exception": false,
     "start_time": "2023-10-15T08:07:58.077089",
     "status": "completed"
    },
    "tags": []
   },
   "source": [
    "About now, you may be thinking, \"How is that useful?\" You could accomplish the same thing by putting those statements immediately after the `while` loop, without the `else`:\n",
    "\n",
    "```python\n",
    "while <expr>:\n",
    "    <statement(s)>\n",
    "<additional_statement(s)>\n",
    "```"
   ]
  },
  {
   "cell_type": "markdown",
   "id": "72992095",
   "metadata": {
    "papermill": {
     "duration": 0.011283,
     "end_time": "2023-10-15T08:07:58.111157",
     "exception": false,
     "start_time": "2023-10-15T08:07:58.099874",
     "status": "completed"
    },
    "tags": []
   },
   "source": [
    "What’s the difference?\n",
    "\n",
    "In the latter case, without the `else` clause, `<additional_statement(s)>` will be executed after the `while` loop terminates, no matter what."
   ]
  },
  {
   "cell_type": "markdown",
   "id": "e4ba87b9",
   "metadata": {
    "papermill": {
     "duration": 0.011209,
     "end_time": "2023-10-15T08:07:58.133869",
     "exception": false,
     "start_time": "2023-10-15T08:07:58.122660",
     "status": "completed"
    },
    "tags": []
   },
   "source": [
    "When `<additional_statement(s)>` are placed in an `else` clause, they will be executed only if the loop terminates \"by exhaustion\"—that is, if the loop iterates until the controlling condition becomes false. If the loop is exited by a `break` statement, the `else` clause won’t be executed."
   ]
  },
  {
   "cell_type": "markdown",
   "id": "531ab8fc",
   "metadata": {
    "papermill": {
     "duration": 0.011221,
     "end_time": "2023-10-15T08:07:58.156581",
     "exception": false,
     "start_time": "2023-10-15T08:07:58.145360",
     "status": "completed"
    },
    "tags": []
   },
   "source": [
    "Consider the following example:"
   ]
  },
  {
   "cell_type": "code",
   "execution_count": 9,
   "id": "c92e76bc",
   "metadata": {
    "execution": {
     "iopub.execute_input": "2023-10-15T08:07:58.181444Z",
     "iopub.status.busy": "2023-10-15T08:07:58.181038Z",
     "iopub.status.idle": "2023-10-15T08:07:58.187214Z",
     "shell.execute_reply": "2023-10-15T08:07:58.185990Z"
    },
    "papermill": {
     "duration": 0.021689,
     "end_time": "2023-10-15T08:07:58.189793",
     "exception": false,
     "start_time": "2023-10-15T08:07:58.168104",
     "status": "completed"
    },
    "tags": []
   },
   "outputs": [
    {
     "name": "stdout",
     "output_type": "stream",
     "text": [
      "4\n",
      "3\n",
      "2\n",
      "1\n",
      "0\n",
      "Loop done.\n"
     ]
    }
   ],
   "source": [
    "n = 5\n",
    "while n > 0:\n",
    "    n -= 1\n",
    "    print(n)\n",
    "else:\n",
    "    print('Loop done.')"
   ]
  },
  {
   "cell_type": "markdown",
   "id": "bf594c67",
   "metadata": {
    "papermill": {
     "duration": 0.011325,
     "end_time": "2023-10-15T08:07:58.213202",
     "exception": false,
     "start_time": "2023-10-15T08:07:58.201877",
     "status": "completed"
    },
    "tags": []
   },
   "source": [
    "In this case, the loop repeated until the condition was exhausted: `n` became `0`, so `n > 0` became false. Because the loop lived out its natural life, so to speak, the `else` clause was executed. Now observe the difference here:"
   ]
  },
  {
   "cell_type": "code",
   "execution_count": 10,
   "id": "41e6623f",
   "metadata": {
    "execution": {
     "iopub.execute_input": "2023-10-15T08:07:58.239221Z",
     "iopub.status.busy": "2023-10-15T08:07:58.238135Z",
     "iopub.status.idle": "2023-10-15T08:07:58.244775Z",
     "shell.execute_reply": "2023-10-15T08:07:58.243496Z"
    },
    "papermill": {
     "duration": 0.022299,
     "end_time": "2023-10-15T08:07:58.247184",
     "exception": false,
     "start_time": "2023-10-15T08:07:58.224885",
     "status": "completed"
    },
    "tags": []
   },
   "outputs": [
    {
     "name": "stdout",
     "output_type": "stream",
     "text": [
      "4\n",
      "3\n",
      "2\n"
     ]
    }
   ],
   "source": [
    "n = 5\n",
    "while n > 0:\n",
    "    n -= 1\n",
    "    print(n)\n",
    "    if n == 2:\n",
    "        break\n",
    "else:\n",
    "    print('Loop done.')"
   ]
  },
  {
   "cell_type": "markdown",
   "id": "44c1484c",
   "metadata": {
    "papermill": {
     "duration": 0.011553,
     "end_time": "2023-10-15T08:07:58.270677",
     "exception": false,
     "start_time": "2023-10-15T08:07:58.259124",
     "status": "completed"
    },
    "tags": []
   },
   "source": [
    "This loop is terminated prematurely with break, so the ‍else clause isn’t executed."
   ]
  },
  {
   "cell_type": "markdown",
   "id": "e1fd9886",
   "metadata": {
    "papermill": {
     "duration": 0.011344,
     "end_time": "2023-10-15T08:07:58.293710",
     "exception": false,
     "start_time": "2023-10-15T08:07:58.282366",
     "status": "completed"
    },
    "tags": []
   },
   "source": [
    "It may seem as if the meaning of the word `else` doesn’t quite fit the `while` loop as well as it does the if statement. Guido van Rossum, the creator of Python, has actually said that, if he had it to do over again, he’d leave the while loop’s `else` clause out of the language."
   ]
  },
  {
   "cell_type": "markdown",
   "id": "57f10e4e",
   "metadata": {
    "papermill": {
     "duration": 0.011382,
     "end_time": "2023-10-15T08:07:58.316774",
     "exception": false,
     "start_time": "2023-10-15T08:07:58.305392",
     "status": "completed"
    },
    "tags": []
   },
   "source": [
    "One of the following interpretations might help to make it more intuitive:\n",
    "\n",
    "- Think of the header of the loop (`while n > 0`) as an `if` statement (`if n > 0`) that gets executed over and over, with the `else` clause finally being executed when the condition becomes false.\n",
    "\n",
    "- Think of `else` as though it were `nobreak`, in that the block that follows gets executed if there wasn’t a break."
   ]
  },
  {
   "cell_type": "markdown",
   "id": "9b9a1991",
   "metadata": {
    "papermill": {
     "duration": 0.01138,
     "end_time": "2023-10-15T08:07:58.340188",
     "exception": false,
     "start_time": "2023-10-15T08:07:58.328808",
     "status": "completed"
    },
    "tags": []
   },
   "source": [
    "If you don’t find either of these interpretations helpful, then feel free to ignore them."
   ]
  },
  {
   "cell_type": "markdown",
   "id": "1ca42e35",
   "metadata": {
    "papermill": {
     "duration": 0.011525,
     "end_time": "2023-10-15T08:07:58.363346",
     "exception": false,
     "start_time": "2023-10-15T08:07:58.351821",
     "status": "completed"
    },
    "tags": []
   },
   "source": [
    "When might an `else` clause on a while loop be useful? One common situation is if you are searching a list for a specific item. You can use `break` to exit the loop if the item is found, and the `else` clause can contain code that is meant to be executed if the item isn’t found:"
   ]
  },
  {
   "cell_type": "code",
   "execution_count": 11,
   "id": "a704a29f",
   "metadata": {
    "execution": {
     "iopub.execute_input": "2023-10-15T08:07:58.389229Z",
     "iopub.status.busy": "2023-10-15T08:07:58.388003Z",
     "iopub.status.idle": "2023-10-15T08:07:58.393849Z",
     "shell.execute_reply": "2023-10-15T08:07:58.392685Z"
    },
    "papermill": {
     "duration": 0.020891,
     "end_time": "2023-10-15T08:07:58.395732",
     "exception": false,
     "start_time": "2023-10-15T08:07:58.374841",
     "status": "completed"
    },
    "tags": []
   },
   "outputs": [
    {
     "name": "stdout",
     "output_type": "stream",
     "text": [
      "5\n",
      "4\n",
      "3\n"
     ]
    }
   ],
   "source": [
    "n = 5\n",
    "while n > 0:\n",
    "    print(n)\n",
    "    \n",
    "    if n % 3 == 0:\n",
    "        break\n",
    "    n -= 1\n",
    "else:\n",
    "    print('found')"
   ]
  },
  {
   "cell_type": "code",
   "execution_count": 12,
   "id": "57d172fe",
   "metadata": {
    "execution": {
     "iopub.execute_input": "2023-10-15T08:07:58.423381Z",
     "iopub.status.busy": "2023-10-15T08:07:58.422998Z",
     "iopub.status.idle": "2023-10-15T08:07:58.428129Z",
     "shell.execute_reply": "2023-10-15T08:07:58.427163Z"
    },
    "papermill": {
     "duration": 0.021627,
     "end_time": "2023-10-15T08:07:58.430182",
     "exception": false,
     "start_time": "2023-10-15T08:07:58.408555",
     "status": "completed"
    },
    "tags": []
   },
   "outputs": [
    {
     "name": "stdout",
     "output_type": "stream",
     "text": [
      "3\n",
      "2\n",
      "1\n",
      "loop finished\n"
     ]
    }
   ],
   "source": [
    "while n > 0:\n",
    "    print(n)\n",
    "    n -= 1\n",
    "\n",
    "print('loop finished')"
   ]
  },
  {
   "cell_type": "code",
   "execution_count": 13,
   "id": "904985f0",
   "metadata": {
    "execution": {
     "iopub.execute_input": "2023-10-15T08:07:58.457110Z",
     "iopub.status.busy": "2023-10-15T08:07:58.456739Z",
     "iopub.status.idle": "2023-10-15T08:07:58.462213Z",
     "shell.execute_reply": "2023-10-15T08:07:58.461602Z"
    },
    "papermill": {
     "duration": 0.021749,
     "end_time": "2023-10-15T08:07:58.464506",
     "exception": false,
     "start_time": "2023-10-15T08:07:58.442757",
     "status": "completed"
    },
    "tags": []
   },
   "outputs": [
    {
     "name": "stdout",
     "output_type": "stream",
     "text": [
      "Corge not found in list.\n"
     ]
    }
   ],
   "source": [
    "a = ['foo', 'bar', 'baz', 'qux']\n",
    "s = 'Corge'\n",
    "\n",
    "i = 0\n",
    "while i < len(a):\n",
    "    if a[i] == s:\n",
    "        # Processing for item found\n",
    "        break\n",
    "    i += 1\n",
    "else:\n",
    "    # Processing for item not found\n",
    "    print(s, 'not found in list.')"
   ]
  },
  {
   "cell_type": "markdown",
   "id": "76949de9",
   "metadata": {
    "papermill": {
     "duration": 0.012042,
     "end_time": "2023-10-15T08:07:58.489077",
     "exception": false,
     "start_time": "2023-10-15T08:07:58.477035",
     "status": "completed"
    },
    "tags": []
   },
   "source": [
    "> **Note:** The code shown above is useful to illustrate the concept, but you’d actually be very unlikely to search a list that way.\n",
    "> \n",
    "> First of all, lists are usually processed with definite iteration, not a `while` loop. Definite iteration is covered in the next tutorial in this series.\n",
    "> \n",
    "> Secondly, Python provides built-in ways to search for an item in a list. You can use the `in` operator:\n",
    "> \n",
    "> ```python\n",
    ">>> if s in a:\n",
    "...     print(s, 'found in list.')\n",
    "... else:\n",
    "...     print(s, 'not found in list.')\n",
    "...\n",
    "corge not found in list.\n",
    "> ```\n",
    "> The `list.index()` method would also work. This method raises a `ValueError` exception if the item isn’t found in the list, so you need to understand exception handling to use it. In Python, you use a `try` statement to handle an exception. An example is given below:\n",
    "> \n",
    "> ```python\n",
    ">>> try:\n",
    "...     print(a.index('corge'))\n",
    "... except ValueError:\n",
    "...     print(s, 'not found in list.')\n",
    "...\n",
    "corge not found in list.\n",
    "> ```\n",
    "> You will learn about exception handling later in this series."
   ]
  },
  {
   "cell_type": "markdown",
   "id": "fb5569a3",
   "metadata": {
    "papermill": {
     "duration": 0.012138,
     "end_time": "2023-10-15T08:07:58.513548",
     "exception": false,
     "start_time": "2023-10-15T08:07:58.501410",
     "status": "completed"
    },
    "tags": []
   },
   "source": [
    "An `else` clause with a `while` loop is a bit of an oddity, not often seen. But don’t shy away from it if you find a situation in which you feel it adds clarity to your code!"
   ]
  },
  {
   "cell_type": "markdown",
   "id": "de3976ba",
   "metadata": {
    "papermill": {
     "duration": 0.01256,
     "end_time": "2023-10-15T08:07:58.539016",
     "exception": false,
     "start_time": "2023-10-15T08:07:58.526456",
     "status": "completed"
    },
    "tags": []
   },
   "source": [
    "<a class=\"anchor\" id=\"infinite_loops\"></a>\n",
    "## Infinite Loops"
   ]
  },
  {
   "cell_type": "markdown",
   "id": "5ea212f7",
   "metadata": {
    "papermill": {
     "duration": 0.011978,
     "end_time": "2023-10-15T08:07:58.563499",
     "exception": false,
     "start_time": "2023-10-15T08:07:58.551521",
     "status": "completed"
    },
    "tags": []
   },
   "source": [
    "Suppose you write a `while` loop that theoretically never ends. Sounds weird, right?"
   ]
  },
  {
   "cell_type": "markdown",
   "id": "0243a35d",
   "metadata": {
    "papermill": {
     "duration": 0.012147,
     "end_time": "2023-10-15T08:07:58.588109",
     "exception": false,
     "start_time": "2023-10-15T08:07:58.575962",
     "status": "completed"
    },
    "tags": []
   },
   "source": [
    "Consider this example:\n",
    "\n",
    "```python\n",
    ">>> while True:\n",
    "...     print('foo')\n",
    "...\n",
    "foo\n",
    "foo\n",
    "foo\n",
    "  .\n",
    "  .\n",
    "  .\n",
    "foo\n",
    "foo\n",
    "foo\n",
    "KeyboardInterrupt\n",
    "Traceback (most recent call last):\n",
    "```"
   ]
  },
  {
   "cell_type": "markdown",
   "id": "de49b47e",
   "metadata": {
    "papermill": {
     "duration": 0.011883,
     "end_time": "2023-10-15T08:07:58.612433",
     "exception": false,
     "start_time": "2023-10-15T08:07:58.600550",
     "status": "completed"
    },
    "tags": []
   },
   "source": [
    "This code was terminated by `Ctrl+C`, which generates an interrupt from the keyboard. Otherwise, it would have gone on unendingly. Many foo output lines have been removed and replaced by the vertical ellipsis in the output shown."
   ]
  },
  {
   "cell_type": "markdown",
   "id": "a77f67b6",
   "metadata": {
    "papermill": {
     "duration": 0.012079,
     "end_time": "2023-10-15T08:07:58.636711",
     "exception": false,
     "start_time": "2023-10-15T08:07:58.624632",
     "status": "completed"
    },
    "tags": []
   },
   "source": [
    "Clearly, `True` will never be false, or we’re all in very big trouble. Thus, `while True`: initiates an infinite loop that will theoretically run forever."
   ]
  },
  {
   "cell_type": "markdown",
   "id": "c1f15119",
   "metadata": {
    "papermill": {
     "duration": 0.012769,
     "end_time": "2023-10-15T08:07:58.661817",
     "exception": false,
     "start_time": "2023-10-15T08:07:58.649048",
     "status": "completed"
    },
    "tags": []
   },
   "source": [
    "Maybe that doesn’t sound like something you’d want to do, but this pattern is actually quite common. For example, you might write code for a service that starts up and runs forever accepting service requests. “Forever” in this context means until you shut it down, or until the heat death of the universe, whichever comes first."
   ]
  },
  {
   "cell_type": "markdown",
   "id": "23b98677",
   "metadata": {
    "papermill": {
     "duration": 0.011973,
     "end_time": "2023-10-15T08:07:58.686527",
     "exception": false,
     "start_time": "2023-10-15T08:07:58.674554",
     "status": "completed"
    },
    "tags": []
   },
   "source": [
    "More prosaically, remember that loops can be broken out of with the `break` statement. It may be more straightforward to terminate a loop based on conditions recognized within the loop body, rather than on a condition evaluated at the top."
   ]
  },
  {
   "cell_type": "markdown",
   "id": "1ce4aeb9",
   "metadata": {
    "papermill": {
     "duration": 0.011632,
     "end_time": "2023-10-15T08:07:58.710232",
     "exception": false,
     "start_time": "2023-10-15T08:07:58.698600",
     "status": "completed"
    },
    "tags": []
   },
   "source": [
    "You can also specify multiple break statements in a loop:\n",
    "```python\n",
    "while True:\n",
    "    if <expr1>:  # One condition for loop termination\n",
    "        break\n",
    "    ...\n",
    "    if <expr2>:  # Another termination condition\n",
    "        break\n",
    "    ...\n",
    "    if <expr3>:  # Yet another\n",
    "        break\n",
    "```"
   ]
  },
  {
   "cell_type": "markdown",
   "id": "5bc9f892",
   "metadata": {
    "papermill": {
     "duration": 0.011917,
     "end_time": "2023-10-15T08:07:58.734390",
     "exception": false,
     "start_time": "2023-10-15T08:07:58.722473",
     "status": "completed"
    },
    "tags": []
   },
   "source": [
    "In cases like this, where there are multiple reasons to end the loop, it is often cleaner to `break` out from several different locations, rather than try to specify all the termination conditions in the loop header."
   ]
  },
  {
   "cell_type": "markdown",
   "id": "49d6cbeb",
   "metadata": {
    "papermill": {
     "duration": 0.012058,
     "end_time": "2023-10-15T08:07:58.759694",
     "exception": false,
     "start_time": "2023-10-15T08:07:58.747636",
     "status": "completed"
    },
    "tags": []
   },
   "source": [
    "Infinite loops can be very useful. Just remember that you must ensure the loop gets broken out of at some point, so it doesn’t truly become infinite."
   ]
  },
  {
   "cell_type": "markdown",
   "id": "9a0676b0",
   "metadata": {
    "papermill": {
     "duration": 0.011975,
     "end_time": "2023-10-15T08:07:58.784021",
     "exception": false,
     "start_time": "2023-10-15T08:07:58.772046",
     "status": "completed"
    },
    "tags": []
   },
   "source": [
    "<a class=\"anchor\" id=\"nested_`while`_loops\"></a>\n",
    "## Nested `while` Loops"
   ]
  },
  {
   "cell_type": "markdown",
   "id": "c0da7ffd",
   "metadata": {
    "papermill": {
     "duration": 0.011994,
     "end_time": "2023-10-15T08:07:58.808425",
     "exception": false,
     "start_time": "2023-10-15T08:07:58.796431",
     "status": "completed"
    },
    "tags": []
   },
   "source": [
    "In general, Python control structures can be nested within one another. For example, `if/elif/else` conditional statements can be nested:"
   ]
  },
  {
   "cell_type": "code",
   "execution_count": 14,
   "id": "70a6dd95",
   "metadata": {
    "execution": {
     "iopub.execute_input": "2023-10-15T08:07:58.835089Z",
     "iopub.status.busy": "2023-10-15T08:07:58.834685Z",
     "iopub.status.idle": "2023-10-15T08:07:58.841984Z",
     "shell.execute_reply": "2023-10-15T08:07:58.840590Z"
    },
    "papermill": {
     "duration": 0.023038,
     "end_time": "2023-10-15T08:07:58.843902",
     "exception": false,
     "start_time": "2023-10-15T08:07:58.820864",
     "status": "completed"
    },
    "tags": []
   },
   "outputs": [
    {
     "name": "stdout",
     "output_type": "stream",
     "text": [
      "son\n"
     ]
    }
   ],
   "source": [
    "age = 12\n",
    "gender = 'M'\n",
    "\n",
    "if age < 18:\n",
    "    if gender == 'M':\n",
    "        print('son')\n",
    "    else:\n",
    "        print('daughter')\n",
    "elif age >= 18 and age < 65:\n",
    "    if gender == 'M':\n",
    "        print('father')\n",
    "    else:\n",
    "        print('mother')\n",
    "else:\n",
    "    if gender == 'M':\n",
    "        print('grandfather')\n",
    "    else:\n",
    "        print('grandmother')"
   ]
  },
  {
   "cell_type": "markdown",
   "id": "54fb8b7d",
   "metadata": {
    "papermill": {
     "duration": 0.013121,
     "end_time": "2023-10-15T08:07:58.870128",
     "exception": false,
     "start_time": "2023-10-15T08:07:58.857007",
     "status": "completed"
    },
    "tags": []
   },
   "source": [
    "Similarly, a `while` loop can be contained within another `while` loop, as shown here:"
   ]
  },
  {
   "cell_type": "code",
   "execution_count": 15,
   "id": "61c0f13a",
   "metadata": {
    "execution": {
     "iopub.execute_input": "2023-10-15T08:07:58.897785Z",
     "iopub.status.busy": "2023-10-15T08:07:58.897443Z",
     "iopub.status.idle": "2023-10-15T08:07:58.902589Z",
     "shell.execute_reply": "2023-10-15T08:07:58.901945Z"
    },
    "papermill": {
     "duration": 0.021592,
     "end_time": "2023-10-15T08:07:58.904808",
     "exception": false,
     "start_time": "2023-10-15T08:07:58.883216",
     "status": "completed"
    },
    "tags": []
   },
   "outputs": [
    {
     "name": "stdout",
     "output_type": "stream",
     "text": [
      "foo\n",
      "> baz\n",
      "> qux\n",
      "bar\n",
      "> baz\n",
      "> qux\n"
     ]
    }
   ],
   "source": [
    "a = ['foo', 'bar']\n",
    "while len(a):\n",
    "    print(a[0])\n",
    "    del a[0]\n",
    "    \n",
    "    b = ['baz', 'qux']\n",
    "    while len(b):\n",
    "        print('>', b[0])\n",
    "        del b[0]"
   ]
  },
  {
   "cell_type": "markdown",
   "id": "e5b8b9f6",
   "metadata": {
    "papermill": {
     "duration": 0.013223,
     "end_time": "2023-10-15T08:07:58.930867",
     "exception": false,
     "start_time": "2023-10-15T08:07:58.917644",
     "status": "completed"
    },
    "tags": []
   },
   "source": [
    "A `break` or `continue` statement found within nested loops applies to the nearest enclosing loop:\n",
    "\n",
    "```python\n",
    "while <expr1>:\n",
    "    statement\n",
    "    statement\n",
    "\n",
    "    while <expr2>:\n",
    "        statement\n",
    "        statement\n",
    "        break  # Applies to while <expr2>: loop\n",
    "\n",
    "    break  # Applies to while <expr1>: loop\n",
    "```"
   ]
  },
  {
   "cell_type": "markdown",
   "id": "363858ea",
   "metadata": {
    "papermill": {
     "duration": 0.012318,
     "end_time": "2023-10-15T08:07:58.956084",
     "exception": false,
     "start_time": "2023-10-15T08:07:58.943766",
     "status": "completed"
    },
    "tags": []
   },
   "source": [
    "Additionally, while loops can be nested inside `if/elif/else` statements, and vice versa:\n",
    "\n",
    "```python\n",
    "if <expr>:\n",
    "    statement\n",
    "    while <expr>:\n",
    "        statement\n",
    "        statement\n",
    "else:\n",
    "    while <expr>:\n",
    "        statement\n",
    "        statement\n",
    "    statement\n",
    "```"
   ]
  },
  {
   "cell_type": "markdown",
   "id": "3e852551",
   "metadata": {
    "papermill": {
     "duration": 0.012912,
     "end_time": "2023-10-15T08:07:58.981583",
     "exception": false,
     "start_time": "2023-10-15T08:07:58.968671",
     "status": "completed"
    },
    "tags": []
   },
   "source": [
    "```python\n",
    "while <expr>:\n",
    "    if <expr>:\n",
    "        statement\n",
    "    elif <expr>:\n",
    "        statement\n",
    "    else:\n",
    "        statement\n",
    "\n",
    "    if <expr>:\n",
    "        statement\n",
    "```"
   ]
  },
  {
   "cell_type": "markdown",
   "id": "5096dba7",
   "metadata": {
    "papermill": {
     "duration": 0.014179,
     "end_time": "2023-10-15T08:07:59.008394",
     "exception": false,
     "start_time": "2023-10-15T08:07:58.994215",
     "status": "completed"
    },
    "tags": []
   },
   "source": [
    "In fact, all the Python control structures can be intermingled with one another to whatever extent you need. That is as it should be. Imagine how frustrating it would be if there were unexpected restrictions like “A `while` loop can’t be contained within an `if` statement” or “`while` loops can only be nested inside one another at most four deep.” You’d have a very difficult time remembering them all."
   ]
  },
  {
   "cell_type": "markdown",
   "id": "0e8e65d0",
   "metadata": {
    "papermill": {
     "duration": 0.012678,
     "end_time": "2023-10-15T08:07:59.039204",
     "exception": false,
     "start_time": "2023-10-15T08:07:59.026526",
     "status": "completed"
    },
    "tags": []
   },
   "source": [
    "<a class=\"anchor\" id=\"one-line_`while`_loops\"></a>\n",
    "## One-Line `while` Loops"
   ]
  },
  {
   "cell_type": "markdown",
   "id": "28a454e0",
   "metadata": {
    "papermill": {
     "duration": 0.012369,
     "end_time": "2023-10-15T08:07:59.064447",
     "exception": false,
     "start_time": "2023-10-15T08:07:59.052078",
     "status": "completed"
    },
    "tags": []
   },
   "source": [
    "As with an `if` statement, a `while` loop can be specified on one line. If there are multiple statements in the block that makes up the loop body, they can be separated by semicolons (`;`):"
   ]
  },
  {
   "cell_type": "code",
   "execution_count": 16,
   "id": "4075039a",
   "metadata": {
    "execution": {
     "iopub.execute_input": "2023-10-15T08:07:59.092352Z",
     "iopub.status.busy": "2023-10-15T08:07:59.091955Z",
     "iopub.status.idle": "2023-10-15T08:07:59.096554Z",
     "shell.execute_reply": "2023-10-15T08:07:59.095809Z"
    },
    "papermill": {
     "duration": 0.021321,
     "end_time": "2023-10-15T08:07:59.098893",
     "exception": false,
     "start_time": "2023-10-15T08:07:59.077572",
     "status": "completed"
    },
    "tags": []
   },
   "outputs": [
    {
     "name": "stdout",
     "output_type": "stream",
     "text": [
      "4\n",
      "3\n",
      "2\n",
      "1\n",
      "0\n"
     ]
    }
   ],
   "source": [
    "n = 5\n",
    "while n > 0: n -= 1; print(n)"
   ]
  },
  {
   "cell_type": "markdown",
   "id": "cd53ae1e",
   "metadata": {
    "papermill": {
     "duration": 0.012459,
     "end_time": "2023-10-15T08:07:59.124498",
     "exception": false,
     "start_time": "2023-10-15T08:07:59.112039",
     "status": "completed"
    },
    "tags": []
   },
   "source": [
    "This only works with simple statements though. You can’t combine two compound statements into one line. Thus, you can specify a `while` loop all on one line as above, and you write an `if` statement on one line:"
   ]
  },
  {
   "cell_type": "code",
   "execution_count": 17,
   "id": "190e95ff",
   "metadata": {
    "execution": {
     "iopub.execute_input": "2023-10-15T08:07:59.151623Z",
     "iopub.status.busy": "2023-10-15T08:07:59.151240Z",
     "iopub.status.idle": "2023-10-15T08:07:59.156612Z",
     "shell.execute_reply": "2023-10-15T08:07:59.155512Z"
    },
    "papermill": {
     "duration": 0.021196,
     "end_time": "2023-10-15T08:07:59.158518",
     "exception": false,
     "start_time": "2023-10-15T08:07:59.137322",
     "status": "completed"
    },
    "tags": []
   },
   "outputs": [
    {
     "name": "stdout",
     "output_type": "stream",
     "text": [
      "foo\n"
     ]
    }
   ],
   "source": [
    "if True: print('foo')"
   ]
  },
  {
   "cell_type": "markdown",
   "id": "d851e40f",
   "metadata": {
    "papermill": {
     "duration": 0.012686,
     "end_time": "2023-10-15T08:07:59.184621",
     "exception": false,
     "start_time": "2023-10-15T08:07:59.171935",
     "status": "completed"
    },
    "tags": []
   },
   "source": [
    "But you can’t do this:"
   ]
  },
  {
   "cell_type": "code",
   "execution_count": 18,
   "id": "a445fbf7",
   "metadata": {
    "execution": {
     "iopub.execute_input": "2023-10-15T08:07:59.211860Z",
     "iopub.status.busy": "2023-10-15T08:07:59.211501Z",
     "iopub.status.idle": "2023-10-15T08:07:59.218053Z",
     "shell.execute_reply": "2023-10-15T08:07:59.216730Z"
    },
    "papermill": {
     "duration": 0.022553,
     "end_time": "2023-10-15T08:07:59.220096",
     "exception": true,
     "start_time": "2023-10-15T08:07:59.197543",
     "status": "failed"
    },
    "tags": []
   },
   "outputs": [
    {
     "ename": "SyntaxError",
     "evalue": "invalid syntax (4954557.py, line 1)",
     "output_type": "error",
     "traceback": [
      "\u001b[0;36m  Cell \u001b[0;32mIn[18], line 1\u001b[0;36m\u001b[0m\n\u001b[0;31m    while n > 0: n -= 1; if True: print('foo')\u001b[0m\n\u001b[0m                         ^\u001b[0m\n\u001b[0;31mSyntaxError\u001b[0m\u001b[0;31m:\u001b[0m invalid syntax\n"
     ]
    }
   ],
   "source": [
    "while n > 0: n -= 1; if True: print('foo')"
   ]
  },
  {
   "cell_type": "markdown",
   "id": "33f828f6",
   "metadata": {
    "papermill": {
     "duration": null,
     "end_time": null,
     "exception": null,
     "start_time": null,
     "status": "pending"
    },
    "tags": []
   },
   "source": [
    "Remember that [PEP 8](https://www.python.org/dev/peps/pep-0008/#other-recommendations) discourages multiple statements on one line. So you probably shouldn’t be doing any of this very often anyhow."
   ]
  },
  {
   "cell_type": "markdown",
   "id": "9bafd37d",
   "metadata": {
    "papermill": {
     "duration": null,
     "end_time": null,
     "exception": null,
     "start_time": null,
     "status": "pending"
    },
    "tags": []
   },
   "source": [
    "<a class=\"anchor\" id=\"conclusion\"></a>\n",
    "## Conclusion \n"
   ]
  },
  {
   "cell_type": "markdown",
   "id": "3c3da0eb",
   "metadata": {
    "papermill": {
     "duration": null,
     "end_time": null,
     "exception": null,
     "start_time": null,
     "status": "pending"
    },
    "tags": []
   },
   "source": [
    "In this tutorial, you learned about **indefinite iteration** using the Python while loop. You’re now able to:\n",
    "\n",
    "- Construct basic and complex `while` loops\n",
    "- Interrupt loop execution with `break` and `continue`\n",
    "- Use the `else` clause with a while loop\n",
    "- Deal with infinite loops"
   ]
  },
  {
   "cell_type": "markdown",
   "id": "1bc4385a",
   "metadata": {
    "papermill": {
     "duration": null,
     "end_time": null,
     "exception": null,
     "start_time": null,
     "status": "pending"
    },
    "tags": []
   },
   "source": [
    "You should now have a good grasp of how to execute a piece of code repetitively."
   ]
  },
  {
   "cell_type": "markdown",
   "id": "26a849d1",
   "metadata": {
    "papermill": {
     "duration": null,
     "end_time": null,
     "exception": null,
     "start_time": null,
     "status": "pending"
    },
    "tags": []
   },
   "source": [
    "The next section covers **definite iteration** with for loops—recurrent execution where the number of repetitions is specified explicitly."
   ]
  }
 ],
 "metadata": {
  "kernelspec": {
   "display_name": "Python 3",
   "language": "python",
   "name": "python3"
  },
  "language_info": {
   "codemirror_mode": {
    "name": "ipython",
    "version": 3
   },
   "file_extension": ".py",
   "mimetype": "text/x-python",
   "name": "python",
   "nbconvert_exporter": "python",
   "pygments_lexer": "ipython3",
   "version": "3.10.12"
  },
  "papermill": {
   "default_parameters": {},
   "duration": 5.926237,
   "end_time": "2023-10-15T08:07:59.654417",
   "environment_variables": {},
   "exception": true,
   "input_path": "__notebook__.ipynb",
   "output_path": "__notebook__.ipynb",
   "parameters": {},
   "start_time": "2023-10-15T08:07:53.728180",
   "version": "2.4.0"
  }
 },
 "nbformat": 4,
 "nbformat_minor": 5
}
