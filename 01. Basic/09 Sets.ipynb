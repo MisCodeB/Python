{
 "cells": [
  {
   "cell_type": "markdown",
   "id": "ba4109c4",
   "metadata": {
    "papermill": {
     "duration": 0.008156,
     "end_time": "2023-10-15T07:29:55.940846",
     "exception": false,
     "start_time": "2023-10-15T07:29:55.932690",
     "status": "completed"
    },
    "tags": []
   },
   "source": []
  },
  {
   "cell_type": "markdown",
   "id": "da8a33ad",
   "metadata": {
    "papermill": {
     "duration": 0.00745,
     "end_time": "2023-10-15T07:29:55.956188",
     "exception": false,
     "start_time": "2023-10-15T07:29:55.948738",
     "status": "completed"
    },
    "tags": []
   },
   "source": [
    "Set \n",
    "\n",
    "In mathematics, a rigorous definition of a set can be abstract and difficult to grasp. Practically though, a set can be thought of simply as a well-defined collection of distinct objects, typically called **elements** or **members**."
   ]
  },
  {
   "cell_type": "markdown",
   "id": "e8fa1c06",
   "metadata": {
    "papermill": {
     "duration": 0.007364,
     "end_time": "2023-10-15T07:29:55.971246",
     "exception": false,
     "start_time": "2023-10-15T07:29:55.963882",
     "status": "completed"
    },
    "tags": []
   },
   "source": [
    "Table of Contents \n",
    "* [Defining a Set](#defining_a_set)\n",
    "* [Set Size and Membership](#set_size_and_membership)\n",
    "* [Conclusion](#conclusion)\n",
    "\n",
    "---"
   ]
  },
  {
   "cell_type": "markdown",
   "id": "832d5c30",
   "metadata": {
    "papermill": {
     "duration": 0.007384,
     "end_time": "2023-10-15T07:29:55.986333",
     "exception": false,
     "start_time": "2023-10-15T07:29:55.978949",
     "status": "completed"
    },
    "tags": []
   },
   "source": [
    "Grouping objects into a set can be useful in programming as well, and Python provides a built-in set type to do so. Sets are distinguished from other object types by the unique operations that can be performed on them."
   ]
  },
  {
   "cell_type": "markdown",
   "id": "18377114",
   "metadata": {
    "papermill": {
     "duration": 0.007362,
     "end_time": "2023-10-15T07:29:56.001368",
     "exception": false,
     "start_time": "2023-10-15T07:29:55.994006",
     "status": "completed"
    },
    "tags": []
   },
   "source": [
    "<a class=\"anchor\" id=\"defining_a_set\"></a>\n",
    "## Defining a Set\n",
    "\n",
    "Python’s built-in set type has the following characteristics:\n",
    "\n",
    "- Sets are unordered.\n",
    "- Set elements are unique. Duplicate elements are not allowed.\n",
    "- A set itself may be modified, but the elements contained in the set must be of an immutable type."
   ]
  },
  {
   "cell_type": "markdown",
   "id": "c0235073",
   "metadata": {
    "papermill": {
     "duration": 0.00768,
     "end_time": "2023-10-15T07:29:56.016750",
     "exception": false,
     "start_time": "2023-10-15T07:29:56.009070",
     "status": "completed"
    },
    "tags": []
   },
   "source": [
    "Let’s see what all that means, and how you can work with sets in Python.\n",
    "\n",
    "A set can be created in two ways. First, you can define a set with the built-in `set()` function:\n",
    "\n",
    "```python\n",
    "x = set(<iter>)\n",
    "```"
   ]
  },
  {
   "cell_type": "code",
   "execution_count": 1,
   "id": "06d63db0",
   "metadata": {
    "execution": {
     "iopub.execute_input": "2023-10-15T07:29:56.034431Z",
     "iopub.status.busy": "2023-10-15T07:29:56.034100Z",
     "iopub.status.idle": "2023-10-15T07:29:56.042351Z",
     "shell.execute_reply": "2023-10-15T07:29:56.041330Z"
    },
    "papermill": {
     "duration": 0.019703,
     "end_time": "2023-10-15T07:29:56.044275",
     "exception": false,
     "start_time": "2023-10-15T07:29:56.024572",
     "status": "completed"
    },
    "tags": []
   },
   "outputs": [],
   "source": [
    "x = {3, 8, 1}"
   ]
  },
  {
   "cell_type": "markdown",
   "id": "9bad35b5",
   "metadata": {
    "papermill": {
     "duration": 0.008135,
     "end_time": "2023-10-15T07:29:56.060600",
     "exception": false,
     "start_time": "2023-10-15T07:29:56.052465",
     "status": "completed"
    },
    "tags": []
   },
   "source": [
    "In this case, the argument `<iter>` is an iterable—again, for the moment, think list or tuple—that generates the list of objects to be included in the set. This is analogous to the `<iter>` argument given to the `.extend()` list method:"
   ]
  },
  {
   "cell_type": "code",
   "execution_count": 2,
   "id": "dc433558",
   "metadata": {
    "execution": {
     "iopub.execute_input": "2023-10-15T07:29:56.079048Z",
     "iopub.status.busy": "2023-10-15T07:29:56.078417Z",
     "iopub.status.idle": "2023-10-15T07:29:56.085578Z",
     "shell.execute_reply": "2023-10-15T07:29:56.084415Z"
    },
    "papermill": {
     "duration": 0.01902,
     "end_time": "2023-10-15T07:29:56.087608",
     "exception": false,
     "start_time": "2023-10-15T07:29:56.068588",
     "status": "completed"
    },
    "tags": []
   },
   "outputs": [
    {
     "data": {
      "text/plain": [
       "{'bar', 'baz', 'foo', 'qux'}"
      ]
     },
     "execution_count": 2,
     "metadata": {},
     "output_type": "execute_result"
    }
   ],
   "source": [
    "x = set(['foo', 'bar', 'baz', 'foo', 'qux'])\n",
    "x"
   ]
  },
  {
   "cell_type": "code",
   "execution_count": 3,
   "id": "53a1a859",
   "metadata": {
    "execution": {
     "iopub.execute_input": "2023-10-15T07:29:56.107241Z",
     "iopub.status.busy": "2023-10-15T07:29:56.106686Z",
     "iopub.status.idle": "2023-10-15T07:29:56.111746Z",
     "shell.execute_reply": "2023-10-15T07:29:56.110834Z"
    },
    "papermill": {
     "duration": 0.01735,
     "end_time": "2023-10-15T07:29:56.113567",
     "exception": false,
     "start_time": "2023-10-15T07:29:56.096217",
     "status": "completed"
    },
    "tags": []
   },
   "outputs": [
    {
     "data": {
      "text/plain": [
       "{'bar', 'baz', 'foo', 'qux'}"
      ]
     },
     "execution_count": 3,
     "metadata": {},
     "output_type": "execute_result"
    }
   ],
   "source": [
    "x = set(('foo', 'bar', 'baz', 'foo', 'qux'))\n",
    "x"
   ]
  },
  {
   "cell_type": "markdown",
   "id": "32c1587b",
   "metadata": {
    "papermill": {
     "duration": 0.00867,
     "end_time": "2023-10-15T07:29:56.130927",
     "exception": false,
     "start_time": "2023-10-15T07:29:56.122257",
     "status": "completed"
    },
    "tags": []
   },
   "source": [
    "Strings are also iterable, so a string can be passed to `set()` as well. You have already seen that `list(s)` generates a list of the characters in the string `s`. Similarly, `set(s)` generates a set of the characters in `s`:"
   ]
  },
  {
   "cell_type": "code",
   "execution_count": 4,
   "id": "b308d870",
   "metadata": {
    "execution": {
     "iopub.execute_input": "2023-10-15T07:29:56.149687Z",
     "iopub.status.busy": "2023-10-15T07:29:56.149078Z",
     "iopub.status.idle": "2023-10-15T07:29:56.152667Z",
     "shell.execute_reply": "2023-10-15T07:29:56.152024Z"
    },
    "papermill": {
     "duration": 0.015482,
     "end_time": "2023-10-15T07:29:56.154771",
     "exception": false,
     "start_time": "2023-10-15T07:29:56.139289",
     "status": "completed"
    },
    "tags": []
   },
   "outputs": [],
   "source": [
    "s = 'quux'"
   ]
  },
  {
   "cell_type": "code",
   "execution_count": 5,
   "id": "5047b8dc",
   "metadata": {
    "execution": {
     "iopub.execute_input": "2023-10-15T07:29:56.232626Z",
     "iopub.status.busy": "2023-10-15T07:29:56.232051Z",
     "iopub.status.idle": "2023-10-15T07:29:56.237348Z",
     "shell.execute_reply": "2023-10-15T07:29:56.236417Z"
    },
    "papermill": {
     "duration": 0.016978,
     "end_time": "2023-10-15T07:29:56.239247",
     "exception": false,
     "start_time": "2023-10-15T07:29:56.222269",
     "status": "completed"
    },
    "tags": []
   },
   "outputs": [
    {
     "data": {
      "text/plain": [
       "['q', 'u', 'u', 'x']"
      ]
     },
     "execution_count": 5,
     "metadata": {},
     "output_type": "execute_result"
    }
   ],
   "source": [
    "list(s)"
   ]
  },
  {
   "cell_type": "code",
   "execution_count": 6,
   "id": "715f6003",
   "metadata": {
    "execution": {
     "iopub.execute_input": "2023-10-15T07:29:56.257629Z",
     "iopub.status.busy": "2023-10-15T07:29:56.257280Z",
     "iopub.status.idle": "2023-10-15T07:29:56.263417Z",
     "shell.execute_reply": "2023-10-15T07:29:56.262247Z"
    },
    "papermill": {
     "duration": 0.01772,
     "end_time": "2023-10-15T07:29:56.265427",
     "exception": false,
     "start_time": "2023-10-15T07:29:56.247707",
     "status": "completed"
    },
    "tags": []
   },
   "outputs": [
    {
     "data": {
      "text/plain": [
       "{'q', 'u', 'x'}"
      ]
     },
     "execution_count": 6,
     "metadata": {},
     "output_type": "execute_result"
    }
   ],
   "source": [
    "set(s)"
   ]
  },
  {
   "cell_type": "markdown",
   "id": "0c2c7379",
   "metadata": {
    "papermill": {
     "duration": 0.008128,
     "end_time": "2023-10-15T07:29:56.282212",
     "exception": false,
     "start_time": "2023-10-15T07:29:56.274084",
     "status": "completed"
    },
    "tags": []
   },
   "source": [
    "You can see that the resulting sets are unordered: the original order, as specified in the definition, is not necessarily preserved. Additionally, duplicate values are only represented in the set once, as with the string `'foo'` in the first two examples and the letter `'u'` in the third."
   ]
  },
  {
   "cell_type": "markdown",
   "id": "b9c20933",
   "metadata": {
    "papermill": {
     "duration": 0.008083,
     "end_time": "2023-10-15T07:29:56.298635",
     "exception": false,
     "start_time": "2023-10-15T07:29:56.290552",
     "status": "completed"
    },
    "tags": []
   },
   "source": [
    "Alternately, a set can be defined with curly braces (`{}`):\n",
    "\n",
    "```python\n",
    "x = {<obj>, <obj>, ..., <obj>}\n",
    "```"
   ]
  },
  {
   "cell_type": "markdown",
   "id": "49966424",
   "metadata": {
    "papermill": {
     "duration": 0.008071,
     "end_time": "2023-10-15T07:29:56.315010",
     "exception": false,
     "start_time": "2023-10-15T07:29:56.306939",
     "status": "completed"
    },
    "tags": []
   },
   "source": [
    "When a set is defined this way, each `<obj>` becomes a distinct element of the set, even if it is an iterable. This behavior is similar to that of the `.append()` list method."
   ]
  },
  {
   "cell_type": "markdown",
   "id": "6839d014",
   "metadata": {
    "papermill": {
     "duration": 0.008083,
     "end_time": "2023-10-15T07:29:56.331482",
     "exception": false,
     "start_time": "2023-10-15T07:29:56.323399",
     "status": "completed"
    },
    "tags": []
   },
   "source": [
    "Thus, the sets shown above can also be defined like this:"
   ]
  },
  {
   "cell_type": "code",
   "execution_count": 7,
   "id": "71ebd0f5",
   "metadata": {
    "execution": {
     "iopub.execute_input": "2023-10-15T07:29:56.349880Z",
     "iopub.status.busy": "2023-10-15T07:29:56.349518Z",
     "iopub.status.idle": "2023-10-15T07:29:56.356121Z",
     "shell.execute_reply": "2023-10-15T07:29:56.355075Z"
    },
    "papermill": {
     "duration": 0.018278,
     "end_time": "2023-10-15T07:29:56.358204",
     "exception": false,
     "start_time": "2023-10-15T07:29:56.339926",
     "status": "completed"
    },
    "tags": []
   },
   "outputs": [
    {
     "data": {
      "text/plain": [
       "{'bar', 'baz', 'foo', 'qux'}"
      ]
     },
     "execution_count": 7,
     "metadata": {},
     "output_type": "execute_result"
    }
   ],
   "source": [
    "x = {'foo', 'bar', 'baz', 'foo', 'qux'}\n",
    "x"
   ]
  },
  {
   "cell_type": "code",
   "execution_count": 8,
   "id": "878aabde",
   "metadata": {
    "execution": {
     "iopub.execute_input": "2023-10-15T07:29:56.377356Z",
     "iopub.status.busy": "2023-10-15T07:29:56.377015Z",
     "iopub.status.idle": "2023-10-15T07:29:56.383769Z",
     "shell.execute_reply": "2023-10-15T07:29:56.382498Z"
    },
    "papermill": {
     "duration": 0.018768,
     "end_time": "2023-10-15T07:29:56.385869",
     "exception": false,
     "start_time": "2023-10-15T07:29:56.367101",
     "status": "completed"
    },
    "tags": []
   },
   "outputs": [
    {
     "data": {
      "text/plain": [
       "{'q', 'u', 'x'}"
      ]
     },
     "execution_count": 8,
     "metadata": {},
     "output_type": "execute_result"
    }
   ],
   "source": [
    "x = {'q', 'u', 'u', 'x'}\n",
    "x"
   ]
  },
  {
   "cell_type": "markdown",
   "id": "9b41aa28",
   "metadata": {
    "papermill": {
     "duration": 0.012636,
     "end_time": "2023-10-15T07:29:56.408669",
     "exception": false,
     "start_time": "2023-10-15T07:29:56.396033",
     "status": "completed"
    },
    "tags": []
   },
   "source": [
    "To recap:\n",
    "\n",
    "- The argument to `set()` is an iterable. It generates a list of elements to be placed into the set.\n",
    "- The objects in curly braces are placed into the set intact, even if they are iterable."
   ]
  },
  {
   "cell_type": "markdown",
   "id": "0080cac3",
   "metadata": {
    "papermill": {
     "duration": 0.008551,
     "end_time": "2023-10-15T07:29:56.426030",
     "exception": false,
     "start_time": "2023-10-15T07:29:56.417479",
     "status": "completed"
    },
    "tags": []
   },
   "source": [
    "Observe the difference between these two set definitions:"
   ]
  },
  {
   "cell_type": "code",
   "execution_count": 9,
   "id": "79b1a63b",
   "metadata": {
    "execution": {
     "iopub.execute_input": "2023-10-15T07:29:56.445520Z",
     "iopub.status.busy": "2023-10-15T07:29:56.444780Z",
     "iopub.status.idle": "2023-10-15T07:29:56.449963Z",
     "shell.execute_reply": "2023-10-15T07:29:56.449266Z"
    },
    "papermill": {
     "duration": 0.016895,
     "end_time": "2023-10-15T07:29:56.451600",
     "exception": false,
     "start_time": "2023-10-15T07:29:56.434705",
     "status": "completed"
    },
    "tags": []
   },
   "outputs": [
    {
     "data": {
      "text/plain": [
       "{'foo'}"
      ]
     },
     "execution_count": 9,
     "metadata": {},
     "output_type": "execute_result"
    }
   ],
   "source": [
    "{'foo'}"
   ]
  },
  {
   "cell_type": "code",
   "execution_count": 10,
   "id": "b7c26f6a",
   "metadata": {
    "execution": {
     "iopub.execute_input": "2023-10-15T07:29:56.471992Z",
     "iopub.status.busy": "2023-10-15T07:29:56.471223Z",
     "iopub.status.idle": "2023-10-15T07:29:56.476604Z",
     "shell.execute_reply": "2023-10-15T07:29:56.475846Z"
    },
    "papermill": {
     "duration": 0.017818,
     "end_time": "2023-10-15T07:29:56.478504",
     "exception": false,
     "start_time": "2023-10-15T07:29:56.460686",
     "status": "completed"
    },
    "tags": []
   },
   "outputs": [
    {
     "data": {
      "text/plain": [
       "{'f', 'o'}"
      ]
     },
     "execution_count": 10,
     "metadata": {},
     "output_type": "execute_result"
    }
   ],
   "source": [
    "set('foo')"
   ]
  },
  {
   "cell_type": "markdown",
   "id": "97f6c372",
   "metadata": {
    "papermill": {
     "duration": 0.008878,
     "end_time": "2023-10-15T07:29:56.496697",
     "exception": false,
     "start_time": "2023-10-15T07:29:56.487819",
     "status": "completed"
    },
    "tags": []
   },
   "source": [
    "A set can be empty. However, recall that Python interprets empty curly braces (`{}`) as an empty dictionary, so the only way to define an empty set is with the `set()` function:"
   ]
  },
  {
   "cell_type": "code",
   "execution_count": 11,
   "id": "289b382b",
   "metadata": {
    "execution": {
     "iopub.execute_input": "2023-10-15T07:29:56.516928Z",
     "iopub.status.busy": "2023-10-15T07:29:56.516281Z",
     "iopub.status.idle": "2023-10-15T07:29:56.522302Z",
     "shell.execute_reply": "2023-10-15T07:29:56.521414Z"
    },
    "papermill": {
     "duration": 0.018251,
     "end_time": "2023-10-15T07:29:56.524197",
     "exception": false,
     "start_time": "2023-10-15T07:29:56.505946",
     "status": "completed"
    },
    "tags": []
   },
   "outputs": [
    {
     "data": {
      "text/plain": [
       "set"
      ]
     },
     "execution_count": 11,
     "metadata": {},
     "output_type": "execute_result"
    }
   ],
   "source": [
    "x = set()\n",
    "type(x)"
   ]
  },
  {
   "cell_type": "code",
   "execution_count": 12,
   "id": "0aa9df1d",
   "metadata": {
    "execution": {
     "iopub.execute_input": "2023-10-15T07:29:56.544329Z",
     "iopub.status.busy": "2023-10-15T07:29:56.543946Z",
     "iopub.status.idle": "2023-10-15T07:29:56.550253Z",
     "shell.execute_reply": "2023-10-15T07:29:56.548965Z"
    },
    "papermill": {
     "duration": 0.018534,
     "end_time": "2023-10-15T07:29:56.552084",
     "exception": false,
     "start_time": "2023-10-15T07:29:56.533550",
     "status": "completed"
    },
    "tags": []
   },
   "outputs": [
    {
     "data": {
      "text/plain": [
       "set()"
      ]
     },
     "execution_count": 12,
     "metadata": {},
     "output_type": "execute_result"
    }
   ],
   "source": [
    "x"
   ]
  },
  {
   "cell_type": "code",
   "execution_count": 13,
   "id": "a4ef0c9c",
   "metadata": {
    "execution": {
     "iopub.execute_input": "2023-10-15T07:29:56.572599Z",
     "iopub.status.busy": "2023-10-15T07:29:56.572250Z",
     "iopub.status.idle": "2023-10-15T07:29:56.578286Z",
     "shell.execute_reply": "2023-10-15T07:29:56.577326Z"
    },
    "papermill": {
     "duration": 0.018799,
     "end_time": "2023-10-15T07:29:56.580360",
     "exception": false,
     "start_time": "2023-10-15T07:29:56.561561",
     "status": "completed"
    },
    "tags": []
   },
   "outputs": [
    {
     "data": {
      "text/plain": [
       "dict"
      ]
     },
     "execution_count": 13,
     "metadata": {},
     "output_type": "execute_result"
    }
   ],
   "source": [
    "x = {}\n",
    "type(x)"
   ]
  },
  {
   "cell_type": "markdown",
   "id": "5549558d",
   "metadata": {
    "papermill": {
     "duration": 0.009146,
     "end_time": "2023-10-15T07:29:56.599322",
     "exception": false,
     "start_time": "2023-10-15T07:29:56.590176",
     "status": "completed"
    },
    "tags": []
   },
   "source": [
    "An empty set is falsy in a Boolean context:"
   ]
  },
  {
   "cell_type": "code",
   "execution_count": 14,
   "id": "b1470802",
   "metadata": {
    "execution": {
     "iopub.execute_input": "2023-10-15T07:29:56.620047Z",
     "iopub.status.busy": "2023-10-15T07:29:56.619321Z",
     "iopub.status.idle": "2023-10-15T07:29:56.624325Z",
     "shell.execute_reply": "2023-10-15T07:29:56.623687Z"
    },
    "papermill": {
     "duration": 0.017247,
     "end_time": "2023-10-15T07:29:56.625956",
     "exception": false,
     "start_time": "2023-10-15T07:29:56.608709",
     "status": "completed"
    },
    "tags": []
   },
   "outputs": [
    {
     "data": {
      "text/plain": [
       "False"
      ]
     },
     "execution_count": 14,
     "metadata": {},
     "output_type": "execute_result"
    }
   ],
   "source": [
    "x = set()\n",
    "bool(x)"
   ]
  },
  {
   "cell_type": "code",
   "execution_count": 15,
   "id": "86852d1a",
   "metadata": {
    "execution": {
     "iopub.execute_input": "2023-10-15T07:29:56.647229Z",
     "iopub.status.busy": "2023-10-15T07:29:56.646157Z",
     "iopub.status.idle": "2023-10-15T07:29:56.651309Z",
     "shell.execute_reply": "2023-10-15T07:29:56.650667Z"
    },
    "papermill": {
     "duration": 0.017494,
     "end_time": "2023-10-15T07:29:56.652988",
     "exception": false,
     "start_time": "2023-10-15T07:29:56.635494",
     "status": "completed"
    },
    "tags": []
   },
   "outputs": [
    {
     "data": {
      "text/plain": [
       "1"
      ]
     },
     "execution_count": 15,
     "metadata": {},
     "output_type": "execute_result"
    }
   ],
   "source": [
    "x or 1"
   ]
  },
  {
   "cell_type": "code",
   "execution_count": 16,
   "id": "cea455ee",
   "metadata": {
    "execution": {
     "iopub.execute_input": "2023-10-15T07:29:56.675159Z",
     "iopub.status.busy": "2023-10-15T07:29:56.674062Z",
     "iopub.status.idle": "2023-10-15T07:29:56.680449Z",
     "shell.execute_reply": "2023-10-15T07:29:56.679460Z"
    },
    "papermill": {
     "duration": 0.019449,
     "end_time": "2023-10-15T07:29:56.682380",
     "exception": false,
     "start_time": "2023-10-15T07:29:56.662931",
     "status": "completed"
    },
    "tags": []
   },
   "outputs": [
    {
     "data": {
      "text/plain": [
       "set()"
      ]
     },
     "execution_count": 16,
     "metadata": {},
     "output_type": "execute_result"
    }
   ],
   "source": [
    "x and 1"
   ]
  },
  {
   "cell_type": "markdown",
   "id": "832cb510",
   "metadata": {
    "papermill": {
     "duration": 0.009792,
     "end_time": "2023-10-15T07:29:56.702270",
     "exception": false,
     "start_time": "2023-10-15T07:29:56.692478",
     "status": "completed"
    },
    "tags": []
   },
   "source": [
    "You might think the most intuitive sets would contain similar objects—for example, even numbers or surnames:"
   ]
  },
  {
   "cell_type": "code",
   "execution_count": 17,
   "id": "eeeefeed",
   "metadata": {
    "execution": {
     "iopub.execute_input": "2023-10-15T07:29:56.724126Z",
     "iopub.status.busy": "2023-10-15T07:29:56.723680Z",
     "iopub.status.idle": "2023-10-15T07:29:56.728454Z",
     "shell.execute_reply": "2023-10-15T07:29:56.727288Z"
    },
    "papermill": {
     "duration": 0.018129,
     "end_time": "2023-10-15T07:29:56.730488",
     "exception": false,
     "start_time": "2023-10-15T07:29:56.712359",
     "status": "completed"
    },
    "tags": []
   },
   "outputs": [],
   "source": [
    "s1 = {2, 4, 6, 8, 10}\n",
    "s2 = {'Smith', 'McArthur', 'Wilson', 'Johansson'}"
   ]
  },
  {
   "cell_type": "markdown",
   "id": "53a4c5ac",
   "metadata": {
    "papermill": {
     "duration": 0.009592,
     "end_time": "2023-10-15T07:29:56.750147",
     "exception": false,
     "start_time": "2023-10-15T07:29:56.740555",
     "status": "completed"
    },
    "tags": []
   },
   "source": [
    "Python does not require this, though. The elements in a set can be objects of different types:"
   ]
  },
  {
   "cell_type": "code",
   "execution_count": 18,
   "id": "befbe308",
   "metadata": {
    "execution": {
     "iopub.execute_input": "2023-10-15T07:29:56.771821Z",
     "iopub.status.busy": "2023-10-15T07:29:56.771259Z",
     "iopub.status.idle": "2023-10-15T07:29:56.776447Z",
     "shell.execute_reply": "2023-10-15T07:29:56.775831Z"
    },
    "papermill": {
     "duration": 0.018313,
     "end_time": "2023-10-15T07:29:56.778260",
     "exception": false,
     "start_time": "2023-10-15T07:29:56.759947",
     "status": "completed"
    },
    "tags": []
   },
   "outputs": [
    {
     "data": {
      "text/plain": [
       "{3.14159, 42, None, 'foo'}"
      ]
     },
     "execution_count": 18,
     "metadata": {},
     "output_type": "execute_result"
    }
   ],
   "source": [
    "x = {42, 'foo', 3.14159, None}\n",
    "x"
   ]
  },
  {
   "cell_type": "markdown",
   "id": "993f334f",
   "metadata": {
    "papermill": {
     "duration": 0.009734,
     "end_time": "2023-10-15T07:29:56.798132",
     "exception": false,
     "start_time": "2023-10-15T07:29:56.788398",
     "status": "completed"
    },
    "tags": []
   },
   "source": [
    "Don’t forget that set elements must be immutable (you will later learn that the objects must actually be hashable). For example, a tuple may be included in a set:"
   ]
  },
  {
   "cell_type": "code",
   "execution_count": 19,
   "id": "ea6498f2",
   "metadata": {
    "execution": {
     "iopub.execute_input": "2023-10-15T07:29:56.820151Z",
     "iopub.status.busy": "2023-10-15T07:29:56.819343Z",
     "iopub.status.idle": "2023-10-15T07:29:56.825484Z",
     "shell.execute_reply": "2023-10-15T07:29:56.824430Z"
    },
    "papermill": {
     "duration": 0.019095,
     "end_time": "2023-10-15T07:29:56.827211",
     "exception": false,
     "start_time": "2023-10-15T07:29:56.808116",
     "status": "completed"
    },
    "tags": []
   },
   "outputs": [
    {
     "data": {
      "text/plain": [
       "{(1, 2, 3), 3.14159, 42, 'foo'}"
      ]
     },
     "execution_count": 19,
     "metadata": {},
     "output_type": "execute_result"
    }
   ],
   "source": [
    "x = {42, 'foo', (1, 2, 3), 3.14159}\n",
    "x"
   ]
  },
  {
   "cell_type": "markdown",
   "id": "fd90a848",
   "metadata": {
    "papermill": {
     "duration": 0.011718,
     "end_time": "2023-10-15T07:29:56.849277",
     "exception": false,
     "start_time": "2023-10-15T07:29:56.837559",
     "status": "completed"
    },
    "tags": []
   },
   "source": [
    "But lists and dictionaries are mutable, so they can’t be set elements:"
   ]
  },
  {
   "cell_type": "code",
   "execution_count": 20,
   "id": "5334a244",
   "metadata": {
    "execution": {
     "iopub.execute_input": "2023-10-15T07:29:56.871484Z",
     "iopub.status.busy": "2023-10-15T07:29:56.871118Z",
     "iopub.status.idle": "2023-10-15T07:29:57.123941Z",
     "shell.execute_reply": "2023-10-15T07:29:57.122525Z"
    },
    "papermill": {
     "duration": 0.266185,
     "end_time": "2023-10-15T07:29:57.125916",
     "exception": true,
     "start_time": "2023-10-15T07:29:56.859731",
     "status": "failed"
    },
    "tags": []
   },
   "outputs": [
    {
     "ename": "TypeError",
     "evalue": "unhashable type: 'list'",
     "output_type": "error",
     "traceback": [
      "\u001b[0;31m---------------------------------------------------------------------------\u001b[0m",
      "\u001b[0;31mTypeError\u001b[0m                                 Traceback (most recent call last)",
      "Cell \u001b[0;32mIn[20], line 2\u001b[0m\n\u001b[1;32m      1\u001b[0m a \u001b[38;5;241m=\u001b[39m [\u001b[38;5;241m1\u001b[39m, \u001b[38;5;241m2\u001b[39m, \u001b[38;5;241m3\u001b[39m]\n\u001b[0;32m----> 2\u001b[0m {a}\n",
      "\u001b[0;31mTypeError\u001b[0m: unhashable type: 'list'"
     ]
    }
   ],
   "source": [
    "a = [1, 2, 3]\n",
    "{a}"
   ]
  },
  {
   "cell_type": "code",
   "execution_count": null,
   "id": "46c8fda1",
   "metadata": {
    "papermill": {
     "duration": null,
     "end_time": null,
     "exception": null,
     "start_time": null,
     "status": "pending"
    },
    "tags": []
   },
   "outputs": [],
   "source": [
    "d = {'a': 1, 'b': 2}\n",
    "{d}"
   ]
  },
  {
   "cell_type": "markdown",
   "id": "cfe55d0c",
   "metadata": {
    "papermill": {
     "duration": null,
     "end_time": null,
     "exception": null,
     "start_time": null,
     "status": "pending"
    },
    "tags": []
   },
   "source": [
    "<a class=\"anchor\" id=\"set_size_and_membership\"></a>\n",
    "## Set Size and Membership\n",
    "\n",
    "The `len()` function returns the number of elements in a set, and the `in` and `not in` operators can be used to test for membership:"
   ]
  },
  {
   "cell_type": "code",
   "execution_count": null,
   "id": "1790c8b2",
   "metadata": {
    "papermill": {
     "duration": null,
     "end_time": null,
     "exception": null,
     "start_time": null,
     "status": "pending"
    },
    "tags": []
   },
   "outputs": [],
   "source": [
    "x = {'foo', 'bar', 'baz'}"
   ]
  },
  {
   "cell_type": "code",
   "execution_count": null,
   "id": "d7083937",
   "metadata": {
    "papermill": {
     "duration": null,
     "end_time": null,
     "exception": null,
     "start_time": null,
     "status": "pending"
    },
    "tags": []
   },
   "outputs": [],
   "source": [
    "len(x)"
   ]
  },
  {
   "cell_type": "code",
   "execution_count": null,
   "id": "253f2bc0",
   "metadata": {
    "papermill": {
     "duration": null,
     "end_time": null,
     "exception": null,
     "start_time": null,
     "status": "pending"
    },
    "tags": []
   },
   "outputs": [],
   "source": [
    "'bar' in x"
   ]
  },
  {
   "cell_type": "code",
   "execution_count": null,
   "id": "8b20a489",
   "metadata": {
    "papermill": {
     "duration": null,
     "end_time": null,
     "exception": null,
     "start_time": null,
     "status": "pending"
    },
    "tags": []
   },
   "outputs": [],
   "source": [
    "'qux' in x"
   ]
  },
  {
   "cell_type": "markdown",
   "id": "139c8209",
   "metadata": {
    "papermill": {
     "duration": null,
     "end_time": null,
     "exception": null,
     "start_time": null,
     "status": "pending"
    },
    "tags": []
   },
   "source": [
    "## Immutable set with `frozenset`"
   ]
  },
  {
   "cell_type": "markdown",
   "id": "7ea3cb46",
   "metadata": {
    "papermill": {
     "duration": null,
     "end_time": null,
     "exception": null,
     "start_time": null,
     "status": "pending"
    },
    "tags": []
   },
   "source": [
    "The `frozenset()` function returns an immutable frozenset object initialized with elements from the given iterable."
   ]
  },
  {
   "cell_type": "markdown",
   "id": "b2e5b1b4",
   "metadata": {
    "papermill": {
     "duration": null,
     "end_time": null,
     "exception": null,
     "start_time": null,
     "status": "pending"
    },
    "tags": []
   },
   "source": [
    "The syntax of `frozenset()` function is:\n",
    "\n",
    "```python\n",
    "frozenset([iterable])\n",
    "```\n",
    "\n",
    "- `iterable` (Optional) - the iterable which contains elements to initialize the frozenset with.\n",
    "- Iterable can be set, dictionary, tuple, etc."
   ]
  },
  {
   "cell_type": "code",
   "execution_count": null,
   "id": "89307dfe",
   "metadata": {
    "papermill": {
     "duration": null,
     "end_time": null,
     "exception": null,
     "start_time": null,
     "status": "pending"
    },
    "tags": []
   },
   "outputs": [],
   "source": [
    "fs = frozenset([1, 2, 3])"
   ]
  },
  {
   "cell_type": "markdown",
   "id": "95d0d2f5",
   "metadata": {
    "papermill": {
     "duration": null,
     "end_time": null,
     "exception": null,
     "start_time": null,
     "status": "pending"
    },
    "tags": []
   },
   "source": [
    "Frozen set is just an immutable version of a Python set object. While elements of a set can be modified at any time, elements of the frozen set remain the same after creation."
   ]
  },
  {
   "cell_type": "code",
   "execution_count": null,
   "id": "156841b0",
   "metadata": {
    "papermill": {
     "duration": null,
     "end_time": null,
     "exception": null,
     "start_time": null,
     "status": "pending"
    },
    "tags": []
   },
   "outputs": [],
   "source": [
    "# sets are mutable\n",
    "s = set([1, 2, 3])"
   ]
  },
  {
   "cell_type": "code",
   "execution_count": null,
   "id": "ca403f02",
   "metadata": {
    "papermill": {
     "duration": null,
     "end_time": null,
     "exception": null,
     "start_time": null,
     "status": "pending"
    },
    "tags": []
   },
   "outputs": [],
   "source": [
    "s.remove(1)"
   ]
  },
  {
   "cell_type": "code",
   "execution_count": null,
   "id": "3c6d4853",
   "metadata": {
    "papermill": {
     "duration": null,
     "end_time": null,
     "exception": null,
     "start_time": null,
     "status": "pending"
    },
    "tags": []
   },
   "outputs": [],
   "source": [
    "s"
   ]
  },
  {
   "cell_type": "code",
   "execution_count": null,
   "id": "c7ca2d8d",
   "metadata": {
    "papermill": {
     "duration": null,
     "end_time": null,
     "exception": null,
     "start_time": null,
     "status": "pending"
    },
    "tags": []
   },
   "outputs": [],
   "source": [
    "# frozensets are immutable\n",
    "fs.remove(1)"
   ]
  },
  {
   "cell_type": "markdown",
   "id": "b58df6c8",
   "metadata": {
    "papermill": {
     "duration": null,
     "end_time": null,
     "exception": null,
     "start_time": null,
     "status": "pending"
    },
    "tags": []
   },
   "source": [
    "Due to this, frozen sets can be used as keys in Dictionary or as elements of another set. But like sets, it is not ordered (the elements can be set at any index)."
   ]
  },
  {
   "cell_type": "code",
   "execution_count": null,
   "id": "e83c4bb3",
   "metadata": {
    "papermill": {
     "duration": null,
     "end_time": null,
     "exception": null,
     "start_time": null,
     "status": "pending"
    },
    "tags": []
   },
   "outputs": [],
   "source": [
    "d = {\n",
    "    frozenset([1, 2, 3]): 'Ali',\n",
    "}"
   ]
  },
  {
   "cell_type": "markdown",
   "id": "23d66847",
   "metadata": {
    "papermill": {
     "duration": null,
     "end_time": null,
     "exception": null,
     "start_time": null,
     "status": "pending"
    },
    "tags": []
   },
   "source": [
    "<a class=\"anchor\" id=\"conclusion\"></a>\n",
    "## Conclusion \n",
    "\n",
    "In this tutorial, you learned how to define set objects in Python, and you became familiar with the functions, operators, and methods that can be used to work with sets."
   ]
  },
  {
   "cell_type": "markdown",
   "id": "c38d8119",
   "metadata": {
    "papermill": {
     "duration": null,
     "end_time": null,
     "exception": null,
     "start_time": null,
     "status": "pending"
    },
    "tags": []
   },
   "source": [
    "You should now be comfortable with the basic built-in data types that Python provides."
   ]
  },
  {
   "cell_type": "markdown",
   "id": "67c57153",
   "metadata": {
    "papermill": {
     "duration": null,
     "end_time": null,
     "exception": null,
     "start_time": null,
     "status": "pending"
    },
    "tags": []
   },
   "source": [
    "Next, you will begin to explore how the code that operates on those objects is organized and structured in a Python program."
   ]
  }
 ],
 "metadata": {
  "kernelspec": {
   "display_name": "Python 3",
   "language": "python",
   "name": "python3"
  },
  "language_info": {
   "codemirror_mode": {
    "name": "ipython",
    "version": 3
   },
   "file_extension": ".py",
   "mimetype": "text/x-python",
   "name": "python",
   "nbconvert_exporter": "python",
   "pygments_lexer": "ipython3",
   "version": "3.10.12"
  },
  "papermill": {
   "default_parameters": {},
   "duration": 4.639201,
   "end_time": "2023-10-15T07:29:57.555779",
   "environment_variables": {},
   "exception": true,
   "input_path": "__notebook__.ipynb",
   "output_path": "__notebook__.ipynb",
   "parameters": {},
   "start_time": "2023-10-15T07:29:52.916578",
   "version": "2.4.0"
  }
 },
 "nbformat": 4,
 "nbformat_minor": 5
}
