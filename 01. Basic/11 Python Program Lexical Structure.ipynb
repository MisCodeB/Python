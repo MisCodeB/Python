{
 "cells": [
  {
   "cell_type": "markdown",
   "id": "9ade83a7",
   "metadata": {
    "papermill": {
     "duration": 0.022886,
     "end_time": "2023-10-15T07:51:50.831127",
     "exception": false,
     "start_time": "2023-10-15T07:51:50.808241",
     "status": "completed"
    },
    "tags": []
   },
   "source": []
  },
  {
   "cell_type": "markdown",
   "id": "1e5634bc",
   "metadata": {
    "papermill": {
     "duration": 0.021259,
     "end_time": "2023-10-15T07:51:50.876288",
     "exception": false,
     "start_time": "2023-10-15T07:51:50.855029",
     "status": "completed"
    },
    "tags": []
   },
   "source": [
    "Python Program Lexical Structure \n",
    "\n",
    "You have now covered Python variables, operators, and data types in depth, and you’ve seen quite a bit of example code. Up to now, the code has consisted of short individual statements, simply assigning objects to variables or displaying values.\n",
    "\n",
    "But you want to do more than just define data and display it! Let’s start arranging code into more complex groupings."
   ]
  },
  {
   "cell_type": "markdown",
   "id": "bf81ce36",
   "metadata": {
    "papermill": {
     "duration": 0.021429,
     "end_time": "2023-10-15T07:51:50.919715",
     "exception": false,
     "start_time": "2023-10-15T07:51:50.898286",
     "status": "completed"
    },
    "tags": []
   },
   "source": [
    "Table of Contents \n",
    "* [Python Statements](#python_statements)\n",
    "* [Line Continuation](#line_continuation)\n",
    "    * [Implicit Line Continuation](#implicit_line_continuation)\n",
    "        * [Parentheses](#parentheses)\n",
    "        * [Curly Braces](#curly_braces)\n",
    "        * [Square Brackets](#square_brackets)\n",
    "    * [Explicit Line Continuation](#explicit_line_continuation)\n",
    "* [Multiple Statements Per Line](#multiple_statements_per_line)\n",
    "* [Comments](#comments)\n",
    "* [Whitespace](#whitespace)\n",
    "* [Whitespace as Indentation](#whitespace_as_indentation)\n",
    "* [ Conclusion](#<img_src=\"../../images/logos/checkmark.png\"_width=\"20\"/>_conclusion)\n",
    "\n",
    "---"
   ]
  },
  {
   "cell_type": "markdown",
   "id": "a787ef6d",
   "metadata": {
    "papermill": {
     "duration": 0.11806,
     "end_time": "2023-10-15T07:51:51.059667",
     "exception": false,
     "start_time": "2023-10-15T07:51:50.941607",
     "status": "completed"
    },
    "tags": []
   },
   "source": [
    "<a class=\"anchor\" id=\"python_statements\"></a>\n",
    "## Python Statements\n",
    "\n",
    "Statements are the basic units of instruction that the Python interpreter parses and processes. In general, the interpreter executes statements sequentially, one after the next as it encounters them. (You will see in the next tutorial on conditional statements that it is possible to alter this behavior.)"
   ]
  },
  {
   "cell_type": "markdown",
   "id": "bd144186",
   "metadata": {
    "papermill": {
     "duration": 0.021901,
     "end_time": "2023-10-15T07:51:51.103652",
     "exception": false,
     "start_time": "2023-10-15T07:51:51.081751",
     "status": "completed"
    },
    "tags": []
   },
   "source": [
    "In a REPL session, statements are executed as they are typed in, until the interpreter is terminated. When you execute a script file, the interpreter reads statements from the file and executes them until end-of-file is encountered."
   ]
  },
  {
   "cell_type": "markdown",
   "id": "af64902f",
   "metadata": {
    "papermill": {
     "duration": 0.022217,
     "end_time": "2023-10-15T07:51:51.148112",
     "exception": false,
     "start_time": "2023-10-15T07:51:51.125895",
     "status": "completed"
    },
    "tags": []
   },
   "source": [
    "Python programs are typically organized with one statement per line. In other words, each statement occupies a single line, with the end of the statement delimited by the newline character that marks the end of the line. The majority of the examples so far in this tutorial series have followed this pattern:"
   ]
  },
  {
   "cell_type": "code",
   "execution_count": 1,
   "id": "63440103",
   "metadata": {
    "execution": {
     "iopub.execute_input": "2023-10-15T07:51:51.199334Z",
     "iopub.status.busy": "2023-10-15T07:51:51.198858Z",
     "iopub.status.idle": "2023-10-15T07:51:51.210875Z",
     "shell.execute_reply": "2023-10-15T07:51:51.209194Z"
    },
    "papermill": {
     "duration": 0.038825,
     "end_time": "2023-10-15T07:51:51.212894",
     "exception": false,
     "start_time": "2023-10-15T07:51:51.174069",
     "status": "completed"
    },
    "tags": []
   },
   "outputs": [
    {
     "name": "stdout",
     "output_type": "stream",
     "text": [
      "Hello, World!\n"
     ]
    }
   ],
   "source": [
    "print('Hello, World!')"
   ]
  },
  {
   "cell_type": "code",
   "execution_count": 2,
   "id": "eb323e31",
   "metadata": {
    "execution": {
     "iopub.execute_input": "2023-10-15T07:51:51.260842Z",
     "iopub.status.busy": "2023-10-15T07:51:51.260282Z",
     "iopub.status.idle": "2023-10-15T07:51:51.265913Z",
     "shell.execute_reply": "2023-10-15T07:51:51.264977Z"
    },
    "papermill": {
     "duration": 0.032533,
     "end_time": "2023-10-15T07:51:51.268177",
     "exception": false,
     "start_time": "2023-10-15T07:51:51.235644",
     "status": "completed"
    },
    "tags": []
   },
   "outputs": [
    {
     "name": "stdout",
     "output_type": "stream",
     "text": [
      "[2]\n"
     ]
    }
   ],
   "source": [
    "x = [1, 2, 3]\n",
    "print(x[1:2])"
   ]
  },
  {
   "cell_type": "markdown",
   "id": "0314535f",
   "metadata": {
    "papermill": {
     "duration": 0.02258,
     "end_time": "2023-10-15T07:51:51.313589",
     "exception": false,
     "start_time": "2023-10-15T07:51:51.291009",
     "status": "completed"
    },
    "tags": []
   },
   "source": [
    "<a class=\"anchor\" id=\"line_continuation\"></a>\n",
    "## Line Continuation\n",
    "\n",
    "Suppose a single statement in your Python code is especially long. For example, you may have an assignment statement with many terms:"
   ]
  },
  {
   "cell_type": "code",
   "execution_count": 3,
   "id": "0c518cb0",
   "metadata": {
    "execution": {
     "iopub.execute_input": "2023-10-15T07:51:51.360022Z",
     "iopub.status.busy": "2023-10-15T07:51:51.359017Z",
     "iopub.status.idle": "2023-10-15T07:51:51.363193Z",
     "shell.execute_reply": "2023-10-15T07:51:51.362458Z"
    },
    "papermill": {
     "duration": 0.029541,
     "end_time": "2023-10-15T07:51:51.365075",
     "exception": false,
     "start_time": "2023-10-15T07:51:51.335534",
     "status": "completed"
    },
    "tags": []
   },
   "outputs": [],
   "source": [
    "person1_age = 42\n",
    "person2_age = 16\n",
    "person3_age = 71"
   ]
  },
  {
   "cell_type": "code",
   "execution_count": 4,
   "id": "54799399",
   "metadata": {
    "execution": {
     "iopub.execute_input": "2023-10-15T07:51:51.412475Z",
     "iopub.status.busy": "2023-10-15T07:51:51.411719Z",
     "iopub.status.idle": "2023-10-15T07:51:51.419627Z",
     "shell.execute_reply": "2023-10-15T07:51:51.418701Z"
    },
    "papermill": {
     "duration": 0.033893,
     "end_time": "2023-10-15T07:51:51.421738",
     "exception": false,
     "start_time": "2023-10-15T07:51:51.387845",
     "status": "completed"
    },
    "tags": []
   },
   "outputs": [
    {
     "data": {
      "text/plain": [
       "True"
      ]
     },
     "execution_count": 4,
     "metadata": {},
     "output_type": "execute_result"
    }
   ],
   "source": [
    "someone_is_of_working_age = (person1_age >= 18 and person1_age <= 65) or (person2_age >= 18 and person2_age <= 65) or (person3_age >= 18 and person3_age <= 65)\n",
    "someone_is_of_working_age"
   ]
  },
  {
   "cell_type": "markdown",
   "id": "02a60611",
   "metadata": {
    "papermill": {
     "duration": 0.0223,
     "end_time": "2023-10-15T07:51:51.466711",
     "exception": false,
     "start_time": "2023-10-15T07:51:51.444411",
     "status": "completed"
    },
    "tags": []
   },
   "source": [
    "Or perhaps you are defining a lengthy nested list:"
   ]
  },
  {
   "cell_type": "code",
   "execution_count": 5,
   "id": "91544519",
   "metadata": {
    "execution": {
     "iopub.execute_input": "2023-10-15T07:51:51.513655Z",
     "iopub.status.busy": "2023-10-15T07:51:51.512929Z",
     "iopub.status.idle": "2023-10-15T07:51:51.521145Z",
     "shell.execute_reply": "2023-10-15T07:51:51.519880Z"
    },
    "papermill": {
     "duration": 0.034532,
     "end_time": "2023-10-15T07:51:51.523717",
     "exception": false,
     "start_time": "2023-10-15T07:51:51.489185",
     "status": "completed"
    },
    "tags": []
   },
   "outputs": [
    {
     "data": {
      "text/plain": [
       "[[1, 2, 3, 4, 5],\n",
       " [6, 7, 8, 9, 10],\n",
       " [11, 12, 13, 14, 15],\n",
       " [16, 17, 18, 19, 20],\n",
       " [21, 22, 23, 24, 25]]"
      ]
     },
     "execution_count": 5,
     "metadata": {},
     "output_type": "execute_result"
    }
   ],
   "source": [
    "a = [[1, 2, 3, 4, 5], [6, 7, 8, 9, 10], [11, 12, 13, 14, 15], [16, 17, 18, 19, 20], [21, 22, 23, 24, 25]]\n",
    "a"
   ]
  },
  {
   "cell_type": "markdown",
   "id": "8ac7e387",
   "metadata": {
    "papermill": {
     "duration": 0.023101,
     "end_time": "2023-10-15T07:51:51.570300",
     "exception": false,
     "start_time": "2023-10-15T07:51:51.547199",
     "status": "completed"
    },
    "tags": []
   },
   "source": [
    "You’ll notice that these statements are too long to fit in your browser window, and the browser is forced to render the code blocks with horizontal scroll bars. You may find that irritating. (You have our apologies—these examples are presented that way to make the point. It won’t happen again.)"
   ]
  },
  {
   "cell_type": "markdown",
   "id": "8e3a97c9",
   "metadata": {
    "papermill": {
     "duration": 0.02232,
     "end_time": "2023-10-15T07:51:51.615448",
     "exception": false,
     "start_time": "2023-10-15T07:51:51.593128",
     "status": "completed"
    },
    "tags": []
   },
   "source": [
    "It is equally frustrating when lengthy statements like these are contained in a script file. Most editors can be configured to wrap text, so that the ends of long lines are at least visible and don’t disappear out the right edge of the editor window. But the wrapping doesn’t necessarily occur in logical locations that enhance readability:"
   ]
  },
  {
   "cell_type": "markdown",
   "id": "fdfca68c",
   "metadata": {
    "papermill": {
     "duration": 0.022238,
     "end_time": "2023-10-15T07:51:51.660437",
     "exception": false,
     "start_time": "2023-10-15T07:51:51.638199",
     "status": "completed"
    },
    "tags": []
   },
   "source": []
  },
  {
   "cell_type": "markdown",
   "id": "92d02343",
   "metadata": {
    "papermill": {
     "duration": 0.021922,
     "end_time": "2023-10-15T07:51:51.706021",
     "exception": false,
     "start_time": "2023-10-15T07:51:51.684099",
     "status": "completed"
    },
    "tags": []
   },
   "source": [
    "Excessively long lines of code are generally considered poor practice. In fact, there is an official [Style Guide for Python Code](https://www.python.org/dev/peps/pep-0008) put forth by the Python Software Foundation, and one of its stipulations is that the [maximum line length](https://www.python.org/dev/peps/pep-0008/#maximum-line-length) in Python code should be 79 characters."
   ]
  },
  {
   "cell_type": "markdown",
   "id": "3f1803e4",
   "metadata": {
    "papermill": {
     "duration": 0.022325,
     "end_time": "2023-10-15T07:51:51.750738",
     "exception": false,
     "start_time": "2023-10-15T07:51:51.728413",
     "status": "completed"
    },
    "tags": []
   },
   "source": [
    "> **Note:** The **Style Guide for Python Code** is also referred to as **PEP 8**. PEP stands for Python Enhancement Proposal. PEPs are documents that contain details about features, standards, design issues, general guidelines, and information relating to Python. For more information, see the Python Software Foundation [Index of PEPs](https://www.python.org/dev/peps)."
   ]
  },
  {
   "cell_type": "markdown",
   "id": "f7b22d22",
   "metadata": {
    "papermill": {
     "duration": 0.022137,
     "end_time": "2023-10-15T07:51:51.795468",
     "exception": false,
     "start_time": "2023-10-15T07:51:51.773331",
     "status": "completed"
    },
    "tags": []
   },
   "source": [
    "As code becomes more complex, statements will on occasion unavoidably grow long. To maintain readability, you should break them up into parts across several lines. But you can’t just split a statement whenever and wherever you like. Unless told otherwise, the interpreter assumes that a newline character terminates a statement. If the statement isn’t syntactically correct at that point, an exception is raised:"
   ]
  },
  {
   "cell_type": "code",
   "execution_count": 6,
   "id": "4ce05d1a",
   "metadata": {
    "execution": {
     "iopub.execute_input": "2023-10-15T07:51:51.842948Z",
     "iopub.status.busy": "2023-10-15T07:51:51.842533Z",
     "iopub.status.idle": "2023-10-15T07:51:51.850392Z",
     "shell.execute_reply": "2023-10-15T07:51:51.848834Z"
    },
    "papermill": {
     "duration": 0.033902,
     "end_time": "2023-10-15T07:51:51.852081",
     "exception": true,
     "start_time": "2023-10-15T07:51:51.818179",
     "status": "failed"
    },
    "tags": []
   },
   "outputs": [
    {
     "ename": "SyntaxError",
     "evalue": "invalid syntax (1911760183.py, line 1)",
     "output_type": "error",
     "traceback": [
      "\u001b[0;36m  Cell \u001b[0;32mIn[6], line 1\u001b[0;36m\u001b[0m\n\u001b[0;31m    someone_is_of_working_age = person1_age >= 18 and person1_age <= 65 or\u001b[0m\n\u001b[0m                                                                          ^\u001b[0m\n\u001b[0;31mSyntaxError\u001b[0m\u001b[0;31m:\u001b[0m invalid syntax\n"
     ]
    }
   ],
   "source": [
    "someone_is_of_working_age = person1_age >= 18 and person1_age <= 65 or"
   ]
  },
  {
   "cell_type": "markdown",
   "id": "f8a2f5bc",
   "metadata": {
    "papermill": {
     "duration": null,
     "end_time": null,
     "exception": null,
     "start_time": null,
     "status": "pending"
    },
    "tags": []
   },
   "source": [
    "In Python code, a statement can be continued from one line to the next in two different ways: implicit and explicit line continuation."
   ]
  },
  {
   "cell_type": "markdown",
   "id": "a1fd932b",
   "metadata": {
    "papermill": {
     "duration": null,
     "end_time": null,
     "exception": null,
     "start_time": null,
     "status": "pending"
    },
    "tags": []
   },
   "source": [
    "<a class=\"anchor\" id=\"implicit_line_continuation\"></a>\n",
    "### Implicit Line Continuation\n",
    "\n",
    "This is the more straightforward technique for line continuation, and the one that is preferred according to PEP 8."
   ]
  },
  {
   "cell_type": "markdown",
   "id": "b69cbf8e",
   "metadata": {
    "papermill": {
     "duration": null,
     "end_time": null,
     "exception": null,
     "start_time": null,
     "status": "pending"
    },
    "tags": []
   },
   "source": [
    "Any statement containing opening parentheses (`'('`), brackets (`'['`), or curly braces (`'{'`) is presumed to be incomplete until all matching parentheses, brackets, and braces have been encountered. Until then, the statement can be implicitly continued across lines without raising an error."
   ]
  },
  {
   "cell_type": "markdown",
   "id": "d5464d57",
   "metadata": {
    "papermill": {
     "duration": null,
     "end_time": null,
     "exception": null,
     "start_time": null,
     "status": "pending"
    },
    "tags": []
   },
   "source": [
    "For example, the nested list definition from above can be made much more readable using implicit line continuation because of the open brackets:"
   ]
  },
  {
   "cell_type": "code",
   "execution_count": null,
   "id": "4f4e3a25",
   "metadata": {
    "execution": {
     "iopub.execute_input": "2023-10-15T07:51:29.482193Z",
     "iopub.status.busy": "2023-10-15T07:51:29.481312Z",
     "iopub.status.idle": "2023-10-15T07:51:29.487563Z",
     "shell.execute_reply": "2023-10-15T07:51:29.486840Z",
     "shell.execute_reply.started": "2023-10-15T07:51:29.482140Z"
    },
    "papermill": {
     "duration": null,
     "end_time": null,
     "exception": null,
     "start_time": null,
     "status": "pending"
    },
    "tags": []
   },
   "outputs": [],
   "source": [
    "a = [\n",
    "    [1, 2, 3, 4, 5],\n",
    "    [6, 7, 8, 9, 10],\n",
    "    [11, 12, 13, 14, 15],\n",
    "    [16, 17, 18, 19, 20],\n",
    "    [21, 22, 23, 24, 25]\n",
    "]"
   ]
  },
  {
   "cell_type": "code",
   "execution_count": null,
   "id": "46fdd93b",
   "metadata": {
    "execution": {
     "iopub.execute_input": "2023-10-15T07:51:29.496720Z",
     "iopub.status.busy": "2023-10-15T07:51:29.495869Z",
     "iopub.status.idle": "2023-10-15T07:51:29.502680Z",
     "shell.execute_reply": "2023-10-15T07:51:29.501981Z",
     "shell.execute_reply.started": "2023-10-15T07:51:29.496689Z"
    },
    "papermill": {
     "duration": null,
     "end_time": null,
     "exception": null,
     "start_time": null,
     "status": "pending"
    },
    "tags": []
   },
   "outputs": [],
   "source": [
    "a"
   ]
  },
  {
   "cell_type": "markdown",
   "id": "9a0fe6b8",
   "metadata": {
    "papermill": {
     "duration": null,
     "end_time": null,
     "exception": null,
     "start_time": null,
     "status": "pending"
    },
    "tags": []
   },
   "source": [
    "A long expression can also be continued across multiple lines by wrapping it in grouping parentheses. PEP 8 explicitly advocates using parentheses in this manner when appropriate:"
   ]
  },
  {
   "cell_type": "code",
   "execution_count": null,
   "id": "b3570309",
   "metadata": {
    "execution": {
     "iopub.execute_input": "2023-10-15T07:51:29.515947Z",
     "iopub.status.busy": "2023-10-15T07:51:29.515577Z",
     "iopub.status.idle": "2023-10-15T07:51:29.520397Z",
     "shell.execute_reply": "2023-10-15T07:51:29.519299Z",
     "shell.execute_reply.started": "2023-10-15T07:51:29.515917Z"
    },
    "papermill": {
     "duration": null,
     "end_time": null,
     "exception": null,
     "start_time": null,
     "status": "pending"
    },
    "tags": []
   },
   "outputs": [],
   "source": [
    "someone_is_of_working_age = (\n",
    "    (person1_age >= 18 and person1_age <= 65)\n",
    "    or (person2_age >= 18 and person2_age <= 65)\n",
    "    or (person3_age >= 18 and person3_age <= 65)\n",
    ")"
   ]
  },
  {
   "cell_type": "code",
   "execution_count": null,
   "id": "1adcc09d",
   "metadata": {
    "execution": {
     "iopub.execute_input": "2023-10-15T07:51:29.531524Z",
     "iopub.status.busy": "2023-10-15T07:51:29.530663Z",
     "iopub.status.idle": "2023-10-15T07:51:29.536957Z",
     "shell.execute_reply": "2023-10-15T07:51:29.536270Z",
     "shell.execute_reply.started": "2023-10-15T07:51:29.531488Z"
    },
    "papermill": {
     "duration": null,
     "end_time": null,
     "exception": null,
     "start_time": null,
     "status": "pending"
    },
    "tags": []
   },
   "outputs": [],
   "source": [
    "someone_is_of_working_age"
   ]
  },
  {
   "cell_type": "markdown",
   "id": "25270c8a",
   "metadata": {
    "papermill": {
     "duration": null,
     "end_time": null,
     "exception": null,
     "start_time": null,
     "status": "pending"
    },
    "tags": []
   },
   "source": [
    "If you need to continue a statement across multiple lines, it is usually possible to use implicit line continuation to do so. This is because parentheses, brackets, and curly braces appear so frequently in Python syntax:"
   ]
  },
  {
   "cell_type": "markdown",
   "id": "327dbcf0",
   "metadata": {
    "papermill": {
     "duration": null,
     "end_time": null,
     "exception": null,
     "start_time": null,
     "status": "pending"
    },
    "tags": []
   },
   "source": [
    "<a class=\"anchor\" id=\"parentheses\"></a>\n",
    "#### Parentheses\n",
    "\n",
    "- Expression grouping"
   ]
  },
  {
   "cell_type": "code",
   "execution_count": null,
   "id": "b8a8f403",
   "metadata": {
    "execution": {
     "iopub.execute_input": "2023-10-15T07:51:29.594832Z",
     "iopub.status.busy": "2023-10-15T07:51:29.594242Z",
     "iopub.status.idle": "2023-10-15T07:51:29.598999Z",
     "shell.execute_reply": "2023-10-15T07:51:29.598174Z",
     "shell.execute_reply.started": "2023-10-15T07:51:29.594800Z"
    },
    "papermill": {
     "duration": null,
     "end_time": null,
     "exception": null,
     "start_time": null,
     "status": "pending"
    },
    "tags": []
   },
   "outputs": [],
   "source": [
    "x = (\n",
    "    1 + 2\n",
    "    + 3 + 4\n",
    "    + 5 + 6\n",
    ")"
   ]
  },
  {
   "cell_type": "code",
   "execution_count": null,
   "id": "82883b5e",
   "metadata": {
    "execution": {
     "iopub.execute_input": "2023-10-15T07:51:29.601428Z",
     "iopub.status.busy": "2023-10-15T07:51:29.600541Z",
     "iopub.status.idle": "2023-10-15T07:51:29.614453Z",
     "shell.execute_reply": "2023-10-15T07:51:29.613520Z",
     "shell.execute_reply.started": "2023-10-15T07:51:29.601385Z"
    },
    "papermill": {
     "duration": null,
     "end_time": null,
     "exception": null,
     "start_time": null,
     "status": "pending"
    },
    "tags": []
   },
   "outputs": [],
   "source": [
    "x"
   ]
  },
  {
   "cell_type": "markdown",
   "id": "5b236d03",
   "metadata": {
    "papermill": {
     "duration": null,
     "end_time": null,
     "exception": null,
     "start_time": null,
     "status": "pending"
    },
    "tags": []
   },
   "source": [
    "- Function call (functions will be covered later)"
   ]
  },
  {
   "cell_type": "code",
   "execution_count": null,
   "id": "7f5f0671",
   "metadata": {
    "execution": {
     "iopub.execute_input": "2023-10-15T07:51:29.616067Z",
     "iopub.status.busy": "2023-10-15T07:51:29.615600Z",
     "iopub.status.idle": "2023-10-15T07:51:29.628276Z",
     "shell.execute_reply": "2023-10-15T07:51:29.627398Z",
     "shell.execute_reply.started": "2023-10-15T07:51:29.616038Z"
    },
    "papermill": {
     "duration": null,
     "end_time": null,
     "exception": null,
     "start_time": null,
     "status": "pending"
    },
    "tags": []
   },
   "outputs": [],
   "source": [
    "print(\n",
    "    'foo',\n",
    "    'bar',\n",
    "    'baz'\n",
    ")"
   ]
  },
  {
   "cell_type": "markdown",
   "id": "fc64ae0c",
   "metadata": {
    "papermill": {
     "duration": null,
     "end_time": null,
     "exception": null,
     "start_time": null,
     "status": "pending"
    },
    "tags": []
   },
   "source": [
    "- Method call (methods will be covered later)"
   ]
  },
  {
   "cell_type": "code",
   "execution_count": null,
   "id": "7e8f8747",
   "metadata": {
    "execution": {
     "iopub.execute_input": "2023-10-15T07:51:29.630488Z",
     "iopub.status.busy": "2023-10-15T07:51:29.630029Z",
     "iopub.status.idle": "2023-10-15T07:51:29.641619Z",
     "shell.execute_reply": "2023-10-15T07:51:29.640739Z",
     "shell.execute_reply.started": "2023-10-15T07:51:29.630458Z"
    },
    "papermill": {
     "duration": null,
     "end_time": null,
     "exception": null,
     "start_time": null,
     "status": "pending"
    },
    "tags": []
   },
   "outputs": [],
   "source": [
    "'abc'.center(\n",
    "    9,\n",
    "    '-'\n",
    ")"
   ]
  },
  {
   "cell_type": "markdown",
   "id": "c928e2fb",
   "metadata": {
    "papermill": {
     "duration": null,
     "end_time": null,
     "exception": null,
     "start_time": null,
     "status": "pending"
    },
    "tags": []
   },
   "source": [
    "- Tuple definition"
   ]
  },
  {
   "cell_type": "code",
   "execution_count": null,
   "id": "45a15aa7",
   "metadata": {
    "execution": {
     "iopub.execute_input": "2023-10-15T07:51:29.643331Z",
     "iopub.status.busy": "2023-10-15T07:51:29.642886Z",
     "iopub.status.idle": "2023-10-15T07:51:29.652704Z",
     "shell.execute_reply": "2023-10-15T07:51:29.651735Z",
     "shell.execute_reply.started": "2023-10-15T07:51:29.643305Z"
    },
    "papermill": {
     "duration": null,
     "end_time": null,
     "exception": null,
     "start_time": null,
     "status": "pending"
    },
    "tags": []
   },
   "outputs": [],
   "source": [
    "t = (\n",
    "    'a', 'b',\n",
    "    'c', 'd'\n",
    ")"
   ]
  },
  {
   "cell_type": "markdown",
   "id": "f0a6bee2",
   "metadata": {
    "papermill": {
     "duration": null,
     "end_time": null,
     "exception": null,
     "start_time": null,
     "status": "pending"
    },
    "tags": []
   },
   "source": [
    "<a class=\"anchor\" id=\"curly_braces\"></a>\n",
    "#### Curly Braces"
   ]
  },
  {
   "cell_type": "markdown",
   "id": "7a09c32b",
   "metadata": {
    "papermill": {
     "duration": null,
     "end_time": null,
     "exception": null,
     "start_time": null,
     "status": "pending"
    },
    "tags": []
   },
   "source": [
    "- Dictionary definition"
   ]
  },
  {
   "cell_type": "code",
   "execution_count": null,
   "id": "fdc4f655",
   "metadata": {
    "execution": {
     "iopub.execute_input": "2023-10-15T07:51:29.655030Z",
     "iopub.status.busy": "2023-10-15T07:51:29.654395Z",
     "iopub.status.idle": "2023-10-15T07:51:29.664274Z",
     "shell.execute_reply": "2023-10-15T07:51:29.663189Z",
     "shell.execute_reply.started": "2023-10-15T07:51:29.655001Z"
    },
    "papermill": {
     "duration": null,
     "end_time": null,
     "exception": null,
     "start_time": null,
     "status": "pending"
    },
    "tags": []
   },
   "outputs": [],
   "source": [
    "d = {\n",
    "    'a': 1,\n",
    "    'b': 2\n",
    "}"
   ]
  },
  {
   "cell_type": "markdown",
   "id": "eddd3aaf",
   "metadata": {
    "papermill": {
     "duration": null,
     "end_time": null,
     "exception": null,
     "start_time": null,
     "status": "pending"
    },
    "tags": []
   },
   "source": [
    "- Set definition"
   ]
  },
  {
   "cell_type": "code",
   "execution_count": null,
   "id": "c22029ed",
   "metadata": {
    "execution": {
     "iopub.execute_input": "2023-10-15T07:51:29.666933Z",
     "iopub.status.busy": "2023-10-15T07:51:29.666132Z",
     "iopub.status.idle": "2023-10-15T07:51:29.676971Z",
     "shell.execute_reply": "2023-10-15T07:51:29.675797Z",
     "shell.execute_reply.started": "2023-10-15T07:51:29.666902Z"
    },
    "papermill": {
     "duration": null,
     "end_time": null,
     "exception": null,
     "start_time": null,
     "status": "pending"
    },
    "tags": []
   },
   "outputs": [],
   "source": [
    "x1 = {\n",
    "    'foo',\n",
    "    'bar',\n",
    "    'baz'\n",
    "}"
   ]
  },
  {
   "cell_type": "markdown",
   "id": "f7a39fa2",
   "metadata": {
    "papermill": {
     "duration": null,
     "end_time": null,
     "exception": null,
     "start_time": null,
     "status": "pending"
    },
    "tags": []
   },
   "source": [
    "<a class=\"anchor\" id=\"square_brackets\"></a>\n",
    "#### Square Brackets"
   ]
  },
  {
   "cell_type": "markdown",
   "id": "badadebc",
   "metadata": {
    "papermill": {
     "duration": null,
     "end_time": null,
     "exception": null,
     "start_time": null,
     "status": "pending"
    },
    "tags": []
   },
   "source": [
    "- List definition"
   ]
  },
  {
   "cell_type": "code",
   "execution_count": null,
   "id": "c8e90584",
   "metadata": {
    "execution": {
     "iopub.execute_input": "2023-10-15T07:51:29.679447Z",
     "iopub.status.busy": "2023-10-15T07:51:29.678391Z",
     "iopub.status.idle": "2023-10-15T07:51:29.695680Z",
     "shell.execute_reply": "2023-10-15T07:51:29.694608Z",
     "shell.execute_reply.started": "2023-10-15T07:51:29.679413Z"
    },
    "papermill": {
     "duration": null,
     "end_time": null,
     "exception": null,
     "start_time": null,
     "status": "pending"
    },
    "tags": []
   },
   "outputs": [],
   "source": [
    "a = [\n",
    "    'foo', 'bar',\n",
    "    'baz', 'qux'\n",
    "]"
   ]
  },
  {
   "cell_type": "markdown",
   "id": "20a7e1b0",
   "metadata": {
    "papermill": {
     "duration": null,
     "end_time": null,
     "exception": null,
     "start_time": null,
     "status": "pending"
    },
    "tags": []
   },
   "source": [
    "- Indexing"
   ]
  },
  {
   "cell_type": "code",
   "execution_count": null,
   "id": "d30e2401",
   "metadata": {
    "execution": {
     "iopub.execute_input": "2023-10-15T07:51:29.697911Z",
     "iopub.status.busy": "2023-10-15T07:51:29.697526Z",
     "iopub.status.idle": "2023-10-15T07:51:29.709505Z",
     "shell.execute_reply": "2023-10-15T07:51:29.708469Z",
     "shell.execute_reply.started": "2023-10-15T07:51:29.697881Z"
    },
    "papermill": {
     "duration": null,
     "end_time": null,
     "exception": null,
     "start_time": null,
     "status": "pending"
    },
    "tags": []
   },
   "outputs": [],
   "source": [
    "a[\n",
    " 1\n",
    "]"
   ]
  },
  {
   "cell_type": "markdown",
   "id": "6e82f86d",
   "metadata": {
    "papermill": {
     "duration": null,
     "end_time": null,
     "exception": null,
     "start_time": null,
     "status": "pending"
    },
    "tags": []
   },
   "source": [
    "- Slicing"
   ]
  },
  {
   "cell_type": "code",
   "execution_count": null,
   "id": "7cf024b4",
   "metadata": {
    "execution": {
     "iopub.execute_input": "2023-10-15T07:51:29.711914Z",
     "iopub.status.busy": "2023-10-15T07:51:29.710776Z",
     "iopub.status.idle": "2023-10-15T07:51:29.722961Z",
     "shell.execute_reply": "2023-10-15T07:51:29.722041Z",
     "shell.execute_reply.started": "2023-10-15T07:51:29.711874Z"
    },
    "papermill": {
     "duration": null,
     "end_time": null,
     "exception": null,
     "start_time": null,
     "status": "pending"
    },
    "tags": []
   },
   "outputs": [],
   "source": [
    "a[\n",
    " 1:2\n",
    "]"
   ]
  },
  {
   "cell_type": "markdown",
   "id": "c6e461e1",
   "metadata": {
    "papermill": {
     "duration": null,
     "end_time": null,
     "exception": null,
     "start_time": null,
     "status": "pending"
    },
    "tags": []
   },
   "source": [
    "- Dictionary key reference"
   ]
  },
  {
   "cell_type": "code",
   "execution_count": null,
   "id": "e882f96f",
   "metadata": {
    "execution": {
     "iopub.execute_input": "2023-10-15T07:51:29.726328Z",
     "iopub.status.busy": "2023-10-15T07:51:29.725345Z",
     "iopub.status.idle": "2023-10-15T07:51:29.737155Z",
     "shell.execute_reply": "2023-10-15T07:51:29.735964Z",
     "shell.execute_reply.started": "2023-10-15T07:51:29.726282Z"
    },
    "papermill": {
     "duration": null,
     "end_time": null,
     "exception": null,
     "start_time": null,
     "status": "pending"
    },
    "tags": []
   },
   "outputs": [],
   "source": [
    "d[\n",
    " 'b'\n",
    "]"
   ]
  },
  {
   "cell_type": "markdown",
   "id": "c0882b70",
   "metadata": {
    "papermill": {
     "duration": null,
     "end_time": null,
     "exception": null,
     "start_time": null,
     "status": "pending"
    },
    "tags": []
   },
   "source": [
    "> **Note:** Just because something is syntactically allowed, it doesn’t mean you should do it. Some of the examples above would not typically be recommended. Splitting indexing, slicing, or dictionary key reference across lines, in particular, would be unusual. But you can consider it if you can make a good argument that it enhances readability."
   ]
  },
  {
   "cell_type": "markdown",
   "id": "6f54421a",
   "metadata": {
    "papermill": {
     "duration": null,
     "end_time": null,
     "exception": null,
     "start_time": null,
     "status": "pending"
    },
    "tags": []
   },
   "source": [
    "Remember that if there are multiple parentheses, brackets, or curly braces, then implicit line continuation is in effect until they are all closed:"
   ]
  },
  {
   "cell_type": "code",
   "execution_count": null,
   "id": "bdc3ff80",
   "metadata": {
    "execution": {
     "iopub.execute_input": "2023-10-15T07:51:29.739925Z",
     "iopub.status.busy": "2023-10-15T07:51:29.738554Z",
     "iopub.status.idle": "2023-10-15T07:51:29.749159Z",
     "shell.execute_reply": "2023-10-15T07:51:29.748206Z",
     "shell.execute_reply.started": "2023-10-15T07:51:29.739879Z"
    },
    "papermill": {
     "duration": null,
     "end_time": null,
     "exception": null,
     "start_time": null,
     "status": "pending"
    },
    "tags": []
   },
   "outputs": [],
   "source": [
    "a = [\n",
    "    [\n",
    "        ['foo', 'bar'],\n",
    "        [1, 2, 3]\n",
    "    ],\n",
    "    {1, 3, 5},\n",
    "    {\n",
    "        'a': 1,\n",
    "        'b': 2\n",
    "    }\n",
    "]"
   ]
  },
  {
   "cell_type": "code",
   "execution_count": null,
   "id": "51c123eb",
   "metadata": {
    "execution": {
     "iopub.execute_input": "2023-10-15T07:51:29.751599Z",
     "iopub.status.busy": "2023-10-15T07:51:29.751302Z",
     "iopub.status.idle": "2023-10-15T07:51:29.763423Z",
     "shell.execute_reply": "2023-10-15T07:51:29.762680Z",
     "shell.execute_reply.started": "2023-10-15T07:51:29.751571Z"
    },
    "papermill": {
     "duration": null,
     "end_time": null,
     "exception": null,
     "start_time": null,
     "status": "pending"
    },
    "tags": []
   },
   "outputs": [],
   "source": [
    "a"
   ]
  },
  {
   "cell_type": "markdown",
   "id": "8cc7c2b6",
   "metadata": {
    "papermill": {
     "duration": null,
     "end_time": null,
     "exception": null,
     "start_time": null,
     "status": "pending"
    },
    "tags": []
   },
   "source": [
    "Note how line continuation and judicious use of indentation can be used to clarify the nested structure of the list."
   ]
  },
  {
   "cell_type": "markdown",
   "id": "dd8b8575",
   "metadata": {
    "papermill": {
     "duration": null,
     "end_time": null,
     "exception": null,
     "start_time": null,
     "status": "pending"
    },
    "tags": []
   },
   "source": [
    "<a class=\"anchor\" id=\"explicit_line_continuation\"></a>\n",
    "### Explicit Line Continuation"
   ]
  },
  {
   "cell_type": "markdown",
   "id": "9211f92e",
   "metadata": {
    "papermill": {
     "duration": null,
     "end_time": null,
     "exception": null,
     "start_time": null,
     "status": "pending"
    },
    "tags": []
   },
   "source": [
    "In cases where implicit line continuation is not readily available or practicable, there is another option. This is referred to as explicit line continuation or explicit line joining."
   ]
  },
  {
   "cell_type": "markdown",
   "id": "c4bf009a",
   "metadata": {
    "papermill": {
     "duration": null,
     "end_time": null,
     "exception": null,
     "start_time": null,
     "status": "pending"
    },
    "tags": []
   },
   "source": [
    "Ordinarily, a newline character (which you get when you press _Enter_ on your keyboard) indicates the end of a line. If the statement is not complete by that point, Python will raise a SyntaxError exception:"
   ]
  },
  {
   "cell_type": "code",
   "execution_count": null,
   "id": "6b66591f",
   "metadata": {
    "execution": {
     "iopub.execute_input": "2023-10-15T07:51:29.765339Z",
     "iopub.status.busy": "2023-10-15T07:51:29.764656Z",
     "iopub.status.idle": "2023-10-15T07:51:29.775057Z",
     "shell.execute_reply": "2023-10-15T07:51:29.773608Z",
     "shell.execute_reply.started": "2023-10-15T07:51:29.765312Z"
    },
    "papermill": {
     "duration": null,
     "end_time": null,
     "exception": null,
     "start_time": null,
     "status": "pending"
    },
    "tags": []
   },
   "outputs": [],
   "source": [
    "s ="
   ]
  },
  {
   "cell_type": "code",
   "execution_count": null,
   "id": "fba915ab",
   "metadata": {
    "execution": {
     "iopub.execute_input": "2023-10-15T07:51:29.780322Z",
     "iopub.status.busy": "2023-10-15T07:51:29.780035Z",
     "iopub.status.idle": "2023-10-15T07:51:29.788937Z",
     "shell.execute_reply": "2023-10-15T07:51:29.787422Z",
     "shell.execute_reply.started": "2023-10-15T07:51:29.780295Z"
    },
    "papermill": {
     "duration": null,
     "end_time": null,
     "exception": null,
     "start_time": null,
     "status": "pending"
    },
    "tags": []
   },
   "outputs": [],
   "source": [
    "x = 1 + 2 +"
   ]
  },
  {
   "cell_type": "markdown",
   "id": "c460df75",
   "metadata": {
    "papermill": {
     "duration": null,
     "end_time": null,
     "exception": null,
     "start_time": null,
     "status": "pending"
    },
    "tags": []
   },
   "source": [
    "To indicate explicit line continuation, you can specify a backslash (`\\`) character as the final character on the line. In that case, Python ignores the following newline, and the statement is effectively continued on next line:"
   ]
  },
  {
   "cell_type": "code",
   "execution_count": null,
   "id": "c1e9f80e",
   "metadata": {
    "execution": {
     "iopub.execute_input": "2023-10-15T07:51:29.799518Z",
     "iopub.status.busy": "2023-10-15T07:51:29.798672Z",
     "iopub.status.idle": "2023-10-15T07:51:29.803771Z",
     "shell.execute_reply": "2023-10-15T07:51:29.802985Z",
     "shell.execute_reply.started": "2023-10-15T07:51:29.799484Z"
    },
    "papermill": {
     "duration": null,
     "end_time": null,
     "exception": null,
     "start_time": null,
     "status": "pending"
    },
    "tags": []
   },
   "outputs": [],
   "source": [
    "s = \\\n",
    "'Hello, World!'"
   ]
  },
  {
   "cell_type": "code",
   "execution_count": null,
   "id": "a97685c3",
   "metadata": {
    "execution": {
     "iopub.execute_input": "2023-10-15T07:51:29.805946Z",
     "iopub.status.busy": "2023-10-15T07:51:29.805537Z",
     "iopub.status.idle": "2023-10-15T07:51:29.820363Z",
     "shell.execute_reply": "2023-10-15T07:51:29.819234Z",
     "shell.execute_reply.started": "2023-10-15T07:51:29.805914Z"
    },
    "papermill": {
     "duration": null,
     "end_time": null,
     "exception": null,
     "start_time": null,
     "status": "pending"
    },
    "tags": []
   },
   "outputs": [],
   "source": [
    "s"
   ]
  },
  {
   "cell_type": "code",
   "execution_count": null,
   "id": "bb79129e",
   "metadata": {
    "execution": {
     "iopub.execute_input": "2023-10-15T07:51:29.822631Z",
     "iopub.status.busy": "2023-10-15T07:51:29.822109Z",
     "iopub.status.idle": "2023-10-15T07:51:29.830450Z",
     "shell.execute_reply": "2023-10-15T07:51:29.829472Z",
     "shell.execute_reply.started": "2023-10-15T07:51:29.822585Z"
    },
    "papermill": {
     "duration": null,
     "end_time": null,
     "exception": null,
     "start_time": null,
     "status": "pending"
    },
    "tags": []
   },
   "outputs": [],
   "source": [
    "x = 1 + 2 \\\n",
    "    + 3 + 4 \\\n",
    "    + 5 + 6"
   ]
  },
  {
   "cell_type": "code",
   "execution_count": null,
   "id": "23e2b86a",
   "metadata": {
    "execution": {
     "iopub.execute_input": "2023-10-15T07:51:29.846813Z",
     "iopub.status.busy": "2023-10-15T07:51:29.846102Z",
     "iopub.status.idle": "2023-10-15T07:51:29.854292Z",
     "shell.execute_reply": "2023-10-15T07:51:29.853083Z",
     "shell.execute_reply.started": "2023-10-15T07:51:29.846753Z"
    },
    "papermill": {
     "duration": null,
     "end_time": null,
     "exception": null,
     "start_time": null,
     "status": "pending"
    },
    "tags": []
   },
   "outputs": [],
   "source": [
    "x"
   ]
  },
  {
   "cell_type": "markdown",
   "id": "a74dd91a",
   "metadata": {
    "papermill": {
     "duration": null,
     "end_time": null,
     "exception": null,
     "start_time": null,
     "status": "pending"
    },
    "tags": []
   },
   "source": [
    "**Note that the backslash character must be the last character on the line. Not even whitespace is allowed after it:**"
   ]
  },
  {
   "cell_type": "code",
   "execution_count": null,
   "id": "dc42f076",
   "metadata": {
    "execution": {
     "iopub.execute_input": "2023-10-15T07:51:29.857230Z",
     "iopub.status.busy": "2023-10-15T07:51:29.856526Z",
     "iopub.status.idle": "2023-10-15T07:51:29.866704Z",
     "shell.execute_reply": "2023-10-15T07:51:29.865260Z",
     "shell.execute_reply.started": "2023-10-15T07:51:29.857189Z"
    },
    "papermill": {
     "duration": null,
     "end_time": null,
     "exception": null,
     "start_time": null,
     "status": "pending"
    },
    "tags": []
   },
   "outputs": [],
   "source": [
    "# You can't see it, but there is a space character following the \\ here:\n",
    "s = \\ "
   ]
  },
  {
   "cell_type": "markdown",
   "id": "c61b8e9c",
   "metadata": {
    "papermill": {
     "duration": null,
     "end_time": null,
     "exception": null,
     "start_time": null,
     "status": "pending"
    },
    "tags": []
   },
   "source": [
    "Again, PEP 8 recommends using explicit line continuation only when implicit line continuation is not feasible."
   ]
  },
  {
   "cell_type": "markdown",
   "id": "904a80f2",
   "metadata": {
    "papermill": {
     "duration": null,
     "end_time": null,
     "exception": null,
     "start_time": null,
     "status": "pending"
    },
    "tags": []
   },
   "source": [
    "<a class=\"anchor\" id=\"multiple_statements_per_line\"></a>\n",
    "## Multiple Statements Per Line\n",
    "\n",
    "Multiple statements may occur on one line, if they are separated by a semicolon (`;`) character:"
   ]
  },
  {
   "cell_type": "code",
   "execution_count": null,
   "id": "c83fcef1",
   "metadata": {
    "execution": {
     "iopub.execute_input": "2023-10-15T07:51:29.877920Z",
     "iopub.status.busy": "2023-10-15T07:51:29.876727Z",
     "iopub.status.idle": "2023-10-15T07:51:29.882353Z",
     "shell.execute_reply": "2023-10-15T07:51:29.881182Z",
     "shell.execute_reply.started": "2023-10-15T07:51:29.877881Z"
    },
    "papermill": {
     "duration": null,
     "end_time": null,
     "exception": null,
     "start_time": null,
     "status": "pending"
    },
    "tags": []
   },
   "outputs": [],
   "source": [
    "x = 1; y = 2; z = 3"
   ]
  },
  {
   "cell_type": "code",
   "execution_count": null,
   "id": "f2ca06e3",
   "metadata": {
    "execution": {
     "iopub.execute_input": "2023-10-15T07:51:29.902068Z",
     "iopub.status.busy": "2023-10-15T07:51:29.901669Z",
     "iopub.status.idle": "2023-10-15T07:51:29.908256Z",
     "shell.execute_reply": "2023-10-15T07:51:29.907121Z",
     "shell.execute_reply.started": "2023-10-15T07:51:29.902037Z"
    },
    "papermill": {
     "duration": null,
     "end_time": null,
     "exception": null,
     "start_time": null,
     "status": "pending"
    },
    "tags": []
   },
   "outputs": [],
   "source": [
    "print(x); print(y); print(z)"
   ]
  },
  {
   "cell_type": "markdown",
   "id": "48fc974e",
   "metadata": {
    "papermill": {
     "duration": null,
     "end_time": null,
     "exception": null,
     "start_time": null,
     "status": "pending"
    },
    "tags": []
   },
   "source": [
    "Stylistically, this is generally frowned upon, and [PEP 8 expressly discourages it](https://www.python.org/dev/peps/pep-0008/?#other-recommendations). There might be situations where it improves readability, but it usually doesn’t. In fact, it often isn’t necessary. The following statements are functionally equivalent to the example above, but would be considered more typical Python code:"
   ]
  },
  {
   "cell_type": "code",
   "execution_count": null,
   "id": "473b9e33",
   "metadata": {
    "execution": {
     "iopub.execute_input": "2023-10-15T07:51:29.911110Z",
     "iopub.status.busy": "2023-10-15T07:51:29.910325Z",
     "iopub.status.idle": "2023-10-15T07:51:29.919248Z",
     "shell.execute_reply": "2023-10-15T07:51:29.917926Z",
     "shell.execute_reply.started": "2023-10-15T07:51:29.911067Z"
    },
    "papermill": {
     "duration": null,
     "end_time": null,
     "exception": null,
     "start_time": null,
     "status": "pending"
    },
    "tags": []
   },
   "outputs": [],
   "source": [
    "x, y, z = 1, 2, 3"
   ]
  },
  {
   "cell_type": "code",
   "execution_count": null,
   "id": "fb733f9d",
   "metadata": {
    "execution": {
     "iopub.execute_input": "2023-10-15T07:51:29.921664Z",
     "iopub.status.busy": "2023-10-15T07:51:29.920747Z",
     "iopub.status.idle": "2023-10-15T07:51:29.933344Z",
     "shell.execute_reply": "2023-10-15T07:51:29.932112Z",
     "shell.execute_reply.started": "2023-10-15T07:51:29.921624Z"
    },
    "papermill": {
     "duration": null,
     "end_time": null,
     "exception": null,
     "start_time": null,
     "status": "pending"
    },
    "tags": []
   },
   "outputs": [],
   "source": [
    "print(x, y, z, sep='\\n')"
   ]
  },
  {
   "cell_type": "markdown",
   "id": "0cd59bce",
   "metadata": {
    "papermill": {
     "duration": null,
     "end_time": null,
     "exception": null,
     "start_time": null,
     "status": "pending"
    },
    "tags": []
   },
   "source": [
    "> The term **Pythonic** refers to code that adheres to generally accepted common guidelines for readability and “best” use of idiomatic Python. When someone says code is not Pythonic, they are implying that it does not express the programmer’s intent as well as might otherwise be done in Python. Thus, the code is probably not as readable as it could be to someone who is fluent in Python."
   ]
  },
  {
   "cell_type": "markdown",
   "id": "0a8348cc",
   "metadata": {
    "papermill": {
     "duration": null,
     "end_time": null,
     "exception": null,
     "start_time": null,
     "status": "pending"
    },
    "tags": []
   },
   "source": [
    "If you find your code has multiple statements on a line, there is probably a more Pythonic way to write it. But again, if you think it’s appropriate or enhances readability, you should feel free to do it."
   ]
  },
  {
   "cell_type": "markdown",
   "id": "1d8d29db",
   "metadata": {
    "papermill": {
     "duration": null,
     "end_time": null,
     "exception": null,
     "start_time": null,
     "status": "pending"
    },
    "tags": []
   },
   "source": [
    "<a class=\"anchor\" id=\"comments\"></a>\n",
    "## Comments\n",
    "\n",
    "In Python, the hash character (`#`) signifies a comment. The interpreter will ignore everything from the hash character through the end of that line:"
   ]
  },
  {
   "cell_type": "code",
   "execution_count": null,
   "id": "01ccafab",
   "metadata": {
    "execution": {
     "iopub.execute_input": "2023-10-15T07:51:29.938507Z",
     "iopub.status.busy": "2023-10-15T07:51:29.937909Z",
     "iopub.status.idle": "2023-10-15T07:51:29.946554Z",
     "shell.execute_reply": "2023-10-15T07:51:29.945144Z",
     "shell.execute_reply.started": "2023-10-15T07:51:29.938465Z"
    },
    "papermill": {
     "duration": null,
     "end_time": null,
     "exception": null,
     "start_time": null,
     "status": "pending"
    },
    "tags": []
   },
   "outputs": [],
   "source": [
    "a = ['foo', 'bar', 'baz']  # I am a comment."
   ]
  },
  {
   "cell_type": "code",
   "execution_count": null,
   "id": "1f3ed1ed",
   "metadata": {
    "execution": {
     "iopub.execute_input": "2023-10-15T07:51:29.965079Z",
     "iopub.status.busy": "2023-10-15T07:51:29.964441Z",
     "iopub.status.idle": "2023-10-15T07:51:29.971748Z",
     "shell.execute_reply": "2023-10-15T07:51:29.970970Z",
     "shell.execute_reply.started": "2023-10-15T07:51:29.965025Z"
    },
    "papermill": {
     "duration": null,
     "end_time": null,
     "exception": null,
     "start_time": null,
     "status": "pending"
    },
    "tags": []
   },
   "outputs": [],
   "source": [
    "a"
   ]
  },
  {
   "cell_type": "markdown",
   "id": "30b16f73",
   "metadata": {
    "papermill": {
     "duration": null,
     "end_time": null,
     "exception": null,
     "start_time": null,
     "status": "pending"
    },
    "tags": []
   },
   "source": [
    "If the first non-whitespace character on the line is a hash, the entire line is effectively ignored:"
   ]
  },
  {
   "cell_type": "code",
   "execution_count": null,
   "id": "f0951faf",
   "metadata": {
    "execution": {
     "iopub.execute_input": "2023-10-15T07:51:29.974474Z",
     "iopub.status.busy": "2023-10-15T07:51:29.973802Z",
     "iopub.status.idle": "2023-10-15T07:51:29.984010Z",
     "shell.execute_reply": "2023-10-15T07:51:29.983021Z",
     "shell.execute_reply.started": "2023-10-15T07:51:29.974433Z"
    },
    "papermill": {
     "duration": null,
     "end_time": null,
     "exception": null,
     "start_time": null,
     "status": "pending"
    },
    "tags": []
   },
   "outputs": [],
   "source": [
    "# I am a comment.\n",
    "    # I am too."
   ]
  },
  {
   "cell_type": "markdown",
   "id": "36abbd9c",
   "metadata": {
    "papermill": {
     "duration": null,
     "end_time": null,
     "exception": null,
     "start_time": null,
     "status": "pending"
    },
    "tags": []
   },
   "source": [
    "Naturally, a hash character inside a string literal is protected, and does not indicate a comment:"
   ]
  },
  {
   "cell_type": "code",
   "execution_count": null,
   "id": "22f95eb7",
   "metadata": {
    "execution": {
     "iopub.execute_input": "2023-10-15T07:51:29.986366Z",
     "iopub.status.busy": "2023-10-15T07:51:29.985479Z",
     "iopub.status.idle": "2023-10-15T07:51:29.996189Z",
     "shell.execute_reply": "2023-10-15T07:51:29.995067Z",
     "shell.execute_reply.started": "2023-10-15T07:51:29.986333Z"
    },
    "papermill": {
     "duration": null,
     "end_time": null,
     "exception": null,
     "start_time": null,
     "status": "pending"
    },
    "tags": []
   },
   "outputs": [],
   "source": [
    "a = 'foobar # I am *not* a comment.'\n",
    "a"
   ]
  },
  {
   "cell_type": "markdown",
   "id": "f70c8ba5",
   "metadata": {
    "papermill": {
     "duration": null,
     "end_time": null,
     "exception": null,
     "start_time": null,
     "status": "pending"
    },
    "tags": []
   },
   "source": [
    "A comment is just ignored, so what purpose does it serve? Comments give you a way to attach explanatory detail to your code:"
   ]
  },
  {
   "cell_type": "code",
   "execution_count": null,
   "id": "ad616f26",
   "metadata": {
    "execution": {
     "iopub.execute_input": "2023-10-15T07:51:30.017248Z",
     "iopub.status.busy": "2023-10-15T07:51:30.016904Z",
     "iopub.status.idle": "2023-10-15T07:51:30.021822Z",
     "shell.execute_reply": "2023-10-15T07:51:30.020975Z",
     "shell.execute_reply.started": "2023-10-15T07:51:30.017221Z"
    },
    "papermill": {
     "duration": null,
     "end_time": null,
     "exception": null,
     "start_time": null,
     "status": "pending"
    },
    "tags": []
   },
   "outputs": [],
   "source": [
    "# Calculate and display the area of a circle.\n",
    "pi = 3.1415926536\n",
    "r = 12.35"
   ]
  },
  {
   "cell_type": "code",
   "execution_count": null,
   "id": "0b6090a2",
   "metadata": {
    "execution": {
     "iopub.execute_input": "2023-10-15T07:51:30.044538Z",
     "iopub.status.busy": "2023-10-15T07:51:30.043910Z",
     "iopub.status.idle": "2023-10-15T07:51:30.049177Z",
     "shell.execute_reply": "2023-10-15T07:51:30.048180Z",
     "shell.execute_reply.started": "2023-10-15T07:51:30.044494Z"
    },
    "papermill": {
     "duration": null,
     "end_time": null,
     "exception": null,
     "start_time": null,
     "status": "pending"
    },
    "tags": []
   },
   "outputs": [],
   "source": [
    "area = pi * (r ** 2)"
   ]
  },
  {
   "cell_type": "code",
   "execution_count": null,
   "id": "d5c2057a",
   "metadata": {
    "execution": {
     "iopub.execute_input": "2023-10-15T07:51:30.051188Z",
     "iopub.status.busy": "2023-10-15T07:51:30.050870Z",
     "iopub.status.idle": "2023-10-15T07:51:30.062454Z",
     "shell.execute_reply": "2023-10-15T07:51:30.061315Z",
     "shell.execute_reply.started": "2023-10-15T07:51:30.051161Z"
    },
    "papermill": {
     "duration": null,
     "end_time": null,
     "exception": null,
     "start_time": null,
     "status": "pending"
    },
    "tags": []
   },
   "outputs": [],
   "source": [
    "print('The area of a circle with radius', r, 'is', area)"
   ]
  },
  {
   "cell_type": "markdown",
   "id": "01a570f5",
   "metadata": {
    "papermill": {
     "duration": null,
     "end_time": null,
     "exception": null,
     "start_time": null,
     "status": "pending"
    },
    "tags": []
   },
   "source": [
    "Up to now, your Python coding has consisted mostly of short, isolated REPL sessions. In that setting, the need for comments is pretty minimal. Eventually, you will develop larger applications contained across multiple script files, and comments will become increasingly important."
   ]
  },
  {
   "cell_type": "markdown",
   "id": "ec7483b9",
   "metadata": {
    "papermill": {
     "duration": null,
     "end_time": null,
     "exception": null,
     "start_time": null,
     "status": "pending"
    },
    "tags": []
   },
   "source": [
    "Good commenting makes the intent of your code clear at a glance when someone else reads it, or even when you yourself read it. Ideally, you should strive to write code that is as clear, concise, and self-explanatory as possible. But there will be times that you will make design or implementation decisions that are not readily obvious from the code itself. That is where commenting comes in. Good code explains how; good comments explain why."
   ]
  },
  {
   "cell_type": "markdown",
   "id": "fd8693af",
   "metadata": {
    "papermill": {
     "duration": null,
     "end_time": null,
     "exception": null,
     "start_time": null,
     "status": "pending"
    },
    "tags": []
   },
   "source": [
    "Comments can be included within implicit line continuation:"
   ]
  },
  {
   "cell_type": "code",
   "execution_count": null,
   "id": "e6d7f330",
   "metadata": {
    "execution": {
     "iopub.execute_input": "2023-10-15T07:51:30.065358Z",
     "iopub.status.busy": "2023-10-15T07:51:30.064604Z",
     "iopub.status.idle": "2023-10-15T07:51:30.073308Z",
     "shell.execute_reply": "2023-10-15T07:51:30.072580Z",
     "shell.execute_reply.started": "2023-10-15T07:51:30.065318Z"
    },
    "papermill": {
     "duration": null,
     "end_time": null,
     "exception": null,
     "start_time": null,
     "status": "pending"
    },
    "tags": []
   },
   "outputs": [],
   "source": [
    "x = (1 + 2           # I am a comment.\n",
    "     + 3 + 4         # Me too.\n",
    "     + 5 + 6)"
   ]
  },
  {
   "cell_type": "code",
   "execution_count": null,
   "id": "72288a8e",
   "metadata": {
    "execution": {
     "iopub.execute_input": "2023-10-15T07:51:30.080991Z",
     "iopub.status.busy": "2023-10-15T07:51:30.080373Z",
     "iopub.status.idle": "2023-10-15T07:51:30.087775Z",
     "shell.execute_reply": "2023-10-15T07:51:30.086702Z",
     "shell.execute_reply.started": "2023-10-15T07:51:30.080947Z"
    },
    "papermill": {
     "duration": null,
     "end_time": null,
     "exception": null,
     "start_time": null,
     "status": "pending"
    },
    "tags": []
   },
   "outputs": [],
   "source": [
    "x"
   ]
  },
  {
   "cell_type": "code",
   "execution_count": null,
   "id": "bd5d6bda",
   "metadata": {
    "execution": {
     "iopub.execute_input": "2023-10-15T07:51:30.112153Z",
     "iopub.status.busy": "2023-10-15T07:51:30.111432Z",
     "iopub.status.idle": "2023-10-15T07:51:30.117016Z",
     "shell.execute_reply": "2023-10-15T07:51:30.116088Z",
     "shell.execute_reply.started": "2023-10-15T07:51:30.112111Z"
    },
    "papermill": {
     "duration": null,
     "end_time": null,
     "exception": null,
     "start_time": null,
     "status": "pending"
    },
    "tags": []
   },
   "outputs": [],
   "source": [
    "a = [\n",
    "    'foo', 'bar',    # Me three.\n",
    "    'baz', 'qux'\n",
    "]"
   ]
  },
  {
   "cell_type": "code",
   "execution_count": null,
   "id": "e7b1b66a",
   "metadata": {
    "execution": {
     "iopub.execute_input": "2023-10-15T07:51:30.119406Z",
     "iopub.status.busy": "2023-10-15T07:51:30.119016Z",
     "iopub.status.idle": "2023-10-15T07:51:30.130047Z",
     "shell.execute_reply": "2023-10-15T07:51:30.129025Z",
     "shell.execute_reply.started": "2023-10-15T07:51:30.119370Z"
    },
    "papermill": {
     "duration": null,
     "end_time": null,
     "exception": null,
     "start_time": null,
     "status": "pending"
    },
    "tags": []
   },
   "outputs": [],
   "source": [
    "a"
   ]
  },
  {
   "cell_type": "markdown",
   "id": "e6431414",
   "metadata": {
    "papermill": {
     "duration": null,
     "end_time": null,
     "exception": null,
     "start_time": null,
     "status": "pending"
    },
    "tags": []
   },
   "source": [
    "But recall that explicit line continuation requires the backslash character to be the last character on the line. Thus, a comment can’t follow afterward:"
   ]
  },
  {
   "cell_type": "code",
   "execution_count": null,
   "id": "660534c6",
   "metadata": {
    "execution": {
     "iopub.execute_input": "2023-10-15T07:51:30.135106Z",
     "iopub.status.busy": "2023-10-15T07:51:30.134334Z",
     "iopub.status.idle": "2023-10-15T07:51:30.142457Z",
     "shell.execute_reply": "2023-10-15T07:51:30.141241Z",
     "shell.execute_reply.started": "2023-10-15T07:51:30.135074Z"
    },
    "papermill": {
     "duration": null,
     "end_time": null,
     "exception": null,
     "start_time": null,
     "status": "pending"
    },
    "tags": []
   },
   "outputs": [],
   "source": [
    "x = 1 + 2 + \\   # I wish to be comment, but I'm not."
   ]
  },
  {
   "cell_type": "markdown",
   "id": "2c371748",
   "metadata": {
    "papermill": {
     "duration": null,
     "end_time": null,
     "exception": null,
     "start_time": null,
     "status": "pending"
    },
    "tags": []
   },
   "source": [
    "What if you want to add a comment that is several lines long? Many programming languages provide a syntax for multiline comments (also called block comments). For example, in C and Java, comments are delimited by the tokens `/*` and `*/`. The text contained within those delimiters can span multiple lines:\n",
    "\n",
    "```c\n",
    "/*\n",
    "[This is not Python!]\n",
    "\n",
    "Initialize the value for radius of circle.\n",
    "\n",
    "Then calculate the area of the circle\n",
    "and display the result to the console.\n",
    "*/\n",
    "```"
   ]
  },
  {
   "cell_type": "markdown",
   "id": "513e1be7",
   "metadata": {
    "papermill": {
     "duration": null,
     "end_time": null,
     "exception": null,
     "start_time": null,
     "status": "pending"
    },
    "tags": []
   },
   "source": [
    "Python doesn’t explicitly provide anything analogous to this for creating multiline block comments. To create a block comment, you would usually just begin each line with a hash character:"
   ]
  },
  {
   "cell_type": "code",
   "execution_count": null,
   "id": "6d5c9cc3",
   "metadata": {
    "execution": {
     "iopub.execute_input": "2023-10-15T07:51:30.160494Z",
     "iopub.status.busy": "2023-10-15T07:51:30.159879Z",
     "iopub.status.idle": "2023-10-15T07:51:30.167017Z",
     "shell.execute_reply": "2023-10-15T07:51:30.165866Z",
     "shell.execute_reply.started": "2023-10-15T07:51:30.160450Z"
    },
    "papermill": {
     "duration": null,
     "end_time": null,
     "exception": null,
     "start_time": null,
     "status": "pending"
    },
    "tags": []
   },
   "outputs": [],
   "source": [
    "# Initialize value for radius of circle.\n",
    "#\n",
    "# Then calculate the area of the circle\n",
    "# and display the result to the console.\n",
    "\n",
    "pi = 3.1415926536\n",
    "r = 12.35\n",
    "\n",
    "area = pi * (r ** 2)\n",
    "\n",
    "print('The area of a circle with radius', r, 'is', area)"
   ]
  },
  {
   "cell_type": "markdown",
   "id": "13ba35d6",
   "metadata": {
    "papermill": {
     "duration": null,
     "end_time": null,
     "exception": null,
     "start_time": null,
     "status": "pending"
    },
    "tags": []
   },
   "source": [
    "However, for code in a script file, there is technically an alternative."
   ]
  },
  {
   "cell_type": "markdown",
   "id": "aafc4955",
   "metadata": {
    "papermill": {
     "duration": null,
     "end_time": null,
     "exception": null,
     "start_time": null,
     "status": "pending"
    },
    "tags": []
   },
   "source": [
    "You saw above that when the interpreter parses code in a script file, it ignores a string literal (or any literal, for that matter) if it appears as statement by itself. More precisely, a literal isn’t ignored entirely: the interpreter sees it and parses it, but doesn’t do anything with it. Thus, a string literal on a line by itself can serve as a comment. Since a triple-quoted string can span multiple lines, it can effectively function as a multiline comment."
   ]
  },
  {
   "cell_type": "markdown",
   "id": "d2aeda76",
   "metadata": {
    "papermill": {
     "duration": null,
     "end_time": null,
     "exception": null,
     "start_time": null,
     "status": "pending"
    },
    "tags": []
   },
   "source": [
    "Consider this script file (name it `foo.py` for example):"
   ]
  },
  {
   "cell_type": "code",
   "execution_count": null,
   "id": "8f4477ad",
   "metadata": {
    "execution": {
     "iopub.execute_input": "2023-10-15T07:51:30.169872Z",
     "iopub.status.busy": "2023-10-15T07:51:30.169142Z",
     "iopub.status.idle": "2023-10-15T07:51:30.178672Z",
     "shell.execute_reply": "2023-10-15T07:51:30.177707Z",
     "shell.execute_reply.started": "2023-10-15T07:51:30.169832Z"
    },
    "papermill": {
     "duration": null,
     "end_time": null,
     "exception": null,
     "start_time": null,
     "status": "pending"
    },
    "tags": []
   },
   "outputs": [],
   "source": [
    "\"\"\"Initialize value for radius of circle.\n",
    "\n",
    "Then calculate the area of the circle\n",
    "and display the result to the console.\n",
    "\"\"\"\n",
    "\n",
    "pi = 3.1415926536\n",
    "r = 12.35\n",
    "\n",
    "area = pi * (r ** 2)\n",
    "\n",
    "print('The area of a circle with radius', r, 'is', area)"
   ]
  },
  {
   "cell_type": "markdown",
   "id": "1ad136e8",
   "metadata": {
    "papermill": {
     "duration": null,
     "end_time": null,
     "exception": null,
     "start_time": null,
     "status": "pending"
    },
    "tags": []
   },
   "source": [
    "When this script is run, the output appears as follows:\n",
    "\n",
    "```bash\n",
    "python foo.py\n",
    "The area of a circle with radius 12.35 is 479.163565508706\n",
    "```"
   ]
  },
  {
   "cell_type": "markdown",
   "id": "23a7c74e",
   "metadata": {
    "papermill": {
     "duration": null,
     "end_time": null,
     "exception": null,
     "start_time": null,
     "status": "pending"
    },
    "tags": []
   },
   "source": [
    "The triple-quoted string is not displayed and doesn’t change the way the script executes in any way. It effectively constitutes a multiline block comment."
   ]
  },
  {
   "cell_type": "markdown",
   "id": "540e3354",
   "metadata": {
    "papermill": {
     "duration": null,
     "end_time": null,
     "exception": null,
     "start_time": null,
     "status": "pending"
    },
    "tags": []
   },
   "source": [
    "Although this works (and was once put forth as a Python programming tip by Guido himself), PEP 8 actually recommends against it. The reason for this appears to be because of a special Python construct called the **docstring**. A docstring is a special comment at the beginning of a user-defined function that documents the function’s behavior. Docstrings are typically specified as triple-quoted string comments, so PEP 8 recommends that other [block comments](https://www.python.org/dev/peps/pep-0008/?#block-comments) in Python code be designated the usual way, with a hash character at the start of each line."
   ]
  },
  {
   "cell_type": "markdown",
   "id": "34d3189b",
   "metadata": {
    "papermill": {
     "duration": null,
     "end_time": null,
     "exception": null,
     "start_time": null,
     "status": "pending"
    },
    "tags": []
   },
   "source": [
    "However, as you are developing code, if you want a quick and dirty way to comment out as section of code temporarily for experimentation, you may find it convenient to wrap the code in triple quotes."
   ]
  },
  {
   "cell_type": "markdown",
   "id": "eb1205d6",
   "metadata": {
    "papermill": {
     "duration": null,
     "end_time": null,
     "exception": null,
     "start_time": null,
     "status": "pending"
    },
    "tags": []
   },
   "source": [
    "> You will learn more about docstrings in the upcoming tutorial on functions in Python."
   ]
  },
  {
   "cell_type": "markdown",
   "id": "6d56c0e8",
   "metadata": {
    "papermill": {
     "duration": null,
     "end_time": null,
     "exception": null,
     "start_time": null,
     "status": "pending"
    },
    "tags": []
   },
   "source": [
    "<a class=\"anchor\" id=\"whitespace\"></a>\n",
    "## Whitespace\n",
    "\n",
    "When parsing code, the Python interpreter breaks the input up into tokens. Informally, tokens are just the language elements that you have seen so far: identifiers, keywords, literals, and operators."
   ]
  },
  {
   "cell_type": "markdown",
   "id": "2c896383",
   "metadata": {
    "papermill": {
     "duration": null,
     "end_time": null,
     "exception": null,
     "start_time": null,
     "status": "pending"
    },
    "tags": []
   },
   "source": [
    "Typically, what separates tokens from one another is whitespace: blank characters that provide empty space to improve readability. The most common whitespace characters are the following:\n",
    "\n",
    "|Character| ASCII Code |Literal Expression|\n",
    "|:--|:--|:--|\n",
    "|space| `32` `(0x20)` |`' '`|\n",
    "|tab| `9` `(0x9)` |`'\\t'`|\n",
    "|newline| `10` `(0xa)` |`'\\n'`|"
   ]
  },
  {
   "cell_type": "markdown",
   "id": "acdfbdce",
   "metadata": {
    "papermill": {
     "duration": null,
     "end_time": null,
     "exception": null,
     "start_time": null,
     "status": "pending"
    },
    "tags": []
   },
   "source": [
    "There are other somewhat outdated ASCII whitespace characters such as line feed and form feed, as well as some very esoteric Unicode characters that provide whitespace. But for present purposes, whitespace usually means a space, tab, or newline."
   ]
  },
  {
   "cell_type": "code",
   "execution_count": null,
   "id": "1a91ca84",
   "metadata": {
    "execution": {
     "iopub.execute_input": "2023-10-15T07:51:30.196412Z",
     "iopub.status.busy": "2023-10-15T07:51:30.195488Z",
     "iopub.status.idle": "2023-10-15T07:51:30.200478Z",
     "shell.execute_reply": "2023-10-15T07:51:30.199389Z",
     "shell.execute_reply.started": "2023-10-15T07:51:30.196377Z"
    },
    "papermill": {
     "duration": null,
     "end_time": null,
     "exception": null,
     "start_time": null,
     "status": "pending"
    },
    "tags": []
   },
   "outputs": [],
   "source": [
    "x = 3\n",
    "x=2"
   ]
  },
  {
   "cell_type": "markdown",
   "id": "4421711f",
   "metadata": {
    "papermill": {
     "duration": null,
     "end_time": null,
     "exception": null,
     "start_time": null,
     "status": "pending"
    },
    "tags": []
   },
   "source": [
    "Whitespace is mostly ignored, and mostly not required, by the Python interpreter. When it is clear where one token ends and the next one starts, whitespace can be omitted. This is usually the case when special non-alphanumeric characters are involved:"
   ]
  },
  {
   "cell_type": "code",
   "execution_count": null,
   "id": "86ecbcff",
   "metadata": {
    "execution": {
     "iopub.execute_input": "2023-10-15T07:51:30.230227Z",
     "iopub.status.busy": "2023-10-15T07:51:30.229237Z",
     "iopub.status.idle": "2023-10-15T07:51:30.237312Z",
     "shell.execute_reply": "2023-10-15T07:51:30.236267Z",
     "shell.execute_reply.started": "2023-10-15T07:51:30.230150Z"
    },
    "papermill": {
     "duration": null,
     "end_time": null,
     "exception": null,
     "start_time": null,
     "status": "pending"
    },
    "tags": []
   },
   "outputs": [],
   "source": [
    "x=3;y=12\n",
    "x+y"
   ]
  },
  {
   "cell_type": "code",
   "execution_count": null,
   "id": "9005223f",
   "metadata": {
    "execution": {
     "iopub.execute_input": "2023-10-15T07:51:30.239627Z",
     "iopub.status.busy": "2023-10-15T07:51:30.238611Z",
     "iopub.status.idle": "2023-10-15T07:51:30.252662Z",
     "shell.execute_reply": "2023-10-15T07:51:30.251218Z",
     "shell.execute_reply.started": "2023-10-15T07:51:30.239598Z"
    },
    "papermill": {
     "duration": null,
     "end_time": null,
     "exception": null,
     "start_time": null,
     "status": "pending"
    },
    "tags": []
   },
   "outputs": [],
   "source": [
    "(x==3)and(x<y)"
   ]
  },
  {
   "cell_type": "code",
   "execution_count": null,
   "id": "8c8fdc45",
   "metadata": {
    "execution": {
     "iopub.execute_input": "2023-10-15T07:51:30.255981Z",
     "iopub.status.busy": "2023-10-15T07:51:30.254904Z",
     "iopub.status.idle": "2023-10-15T07:51:30.268717Z",
     "shell.execute_reply": "2023-10-15T07:51:30.267580Z",
     "shell.execute_reply.started": "2023-10-15T07:51:30.255933Z"
    },
    "papermill": {
     "duration": null,
     "end_time": null,
     "exception": null,
     "start_time": null,
     "status": "pending"
    },
    "tags": []
   },
   "outputs": [],
   "source": [
    "a=['foo','bar','baz']\n",
    "a"
   ]
  },
  {
   "cell_type": "code",
   "execution_count": null,
   "id": "8576d38f",
   "metadata": {
    "execution": {
     "iopub.execute_input": "2023-10-15T07:51:30.277300Z",
     "iopub.status.busy": "2023-10-15T07:51:30.276860Z",
     "iopub.status.idle": "2023-10-15T07:51:30.285177Z",
     "shell.execute_reply": "2023-10-15T07:51:30.283874Z",
     "shell.execute_reply.started": "2023-10-15T07:51:30.277270Z"
    },
    "papermill": {
     "duration": null,
     "end_time": null,
     "exception": null,
     "start_time": null,
     "status": "pending"
    },
    "tags": []
   },
   "outputs": [],
   "source": [
    "d={'foo':3,'bar':4}\n",
    "d"
   ]
  },
  {
   "cell_type": "code",
   "execution_count": null,
   "id": "2851f90e",
   "metadata": {
    "execution": {
     "iopub.execute_input": "2023-10-15T07:51:30.304389Z",
     "iopub.status.busy": "2023-10-15T07:51:30.303698Z",
     "iopub.status.idle": "2023-10-15T07:51:30.311980Z",
     "shell.execute_reply": "2023-10-15T07:51:30.310846Z",
     "shell.execute_reply.started": "2023-10-15T07:51:30.304342Z"
    },
    "papermill": {
     "duration": null,
     "end_time": null,
     "exception": null,
     "start_time": null,
     "status": "pending"
    },
    "tags": []
   },
   "outputs": [],
   "source": [
    "x,y,z='foo',14,21.1\n",
    "(x,y,z)"
   ]
  },
  {
   "cell_type": "code",
   "execution_count": null,
   "id": "8f128e6d",
   "metadata": {
    "execution": {
     "iopub.execute_input": "2023-10-15T07:51:30.314329Z",
     "iopub.status.busy": "2023-10-15T07:51:30.313761Z",
     "iopub.status.idle": "2023-10-15T07:51:30.323973Z",
     "shell.execute_reply": "2023-10-15T07:51:30.322888Z",
     "shell.execute_reply.started": "2023-10-15T07:51:30.314299Z"
    },
    "papermill": {
     "duration": null,
     "end_time": null,
     "exception": null,
     "start_time": null,
     "status": "pending"
    },
    "tags": []
   },
   "outputs": [],
   "source": [
    "z='foo'\"bar\"'baz'#Comment\n",
    "z"
   ]
  },
  {
   "cell_type": "markdown",
   "id": "622a8d40",
   "metadata": {
    "papermill": {
     "duration": null,
     "end_time": null,
     "exception": null,
     "start_time": null,
     "status": "pending"
    },
    "tags": []
   },
   "source": [
    "Every one of the statements above has no whitespace at all, and the interpreter handles them all fine. That’s not to say that you should write them that way though. Judicious use of whitespace almost always enhances readability, and your code should typically include some. Compare the following code fragments:"
   ]
  },
  {
   "cell_type": "code",
   "execution_count": null,
   "id": "33dab2c3",
   "metadata": {
    "execution": {
     "iopub.execute_input": "2023-10-15T07:51:30.327687Z",
     "iopub.status.busy": "2023-10-15T07:51:30.327324Z",
     "iopub.status.idle": "2023-10-15T07:51:30.334840Z",
     "shell.execute_reply": "2023-10-15T07:51:30.333878Z",
     "shell.execute_reply.started": "2023-10-15T07:51:30.327657Z"
    },
    "papermill": {
     "duration": null,
     "end_time": null,
     "exception": null,
     "start_time": null,
     "status": "pending"
    },
    "tags": []
   },
   "outputs": [],
   "source": [
    "value1=100\n",
    "value2=200\n",
    "v=(value1>=0)and(value1<value2)"
   ]
  },
  {
   "cell_type": "code",
   "execution_count": null,
   "id": "eb1e0901",
   "metadata": {
    "execution": {
     "iopub.execute_input": "2023-10-15T07:51:30.355133Z",
     "iopub.status.busy": "2023-10-15T07:51:30.354188Z",
     "iopub.status.idle": "2023-10-15T07:51:30.359266Z",
     "shell.execute_reply": "2023-10-15T07:51:30.358024Z",
     "shell.execute_reply.started": "2023-10-15T07:51:30.355099Z"
    },
    "papermill": {
     "duration": null,
     "end_time": null,
     "exception": null,
     "start_time": null,
     "status": "pending"
    },
    "tags": []
   },
   "outputs": [],
   "source": [
    "value1 = 100\n",
    "value2 = 200\n",
    "v = (value1 >= 0) and (value1 < value2)"
   ]
  },
  {
   "cell_type": "markdown",
   "id": "84dc82d6",
   "metadata": {
    "papermill": {
     "duration": null,
     "end_time": null,
     "exception": null,
     "start_time": null,
     "status": "pending"
    },
    "tags": []
   },
   "source": [
    "Most people would likely find that the added whitespace in the second example makes it easier to read. On the other hand, you could probably find a few who would prefer the first example. To some extent, it is a matter of personal preference. But there are standards for [whitespace in expressions and statements](https://www.python.org/dev/peps/pep-0008/?#whitespace-in-expressions-and-statements) put forth in PEP 8, and you should strongly consider adhering to them as much as possible."
   ]
  },
  {
   "cell_type": "code",
   "execution_count": null,
   "id": "d216c967",
   "metadata": {
    "execution": {
     "iopub.execute_input": "2023-10-15T07:51:30.361186Z",
     "iopub.status.busy": "2023-10-15T07:51:30.360696Z",
     "iopub.status.idle": "2023-10-15T07:51:30.370568Z",
     "shell.execute_reply": "2023-10-15T07:51:30.369760Z",
     "shell.execute_reply.started": "2023-10-15T07:51:30.361158Z"
    },
    "papermill": {
     "duration": null,
     "end_time": null,
     "exception": null,
     "start_time": null,
     "status": "pending"
    },
    "tags": []
   },
   "outputs": [],
   "source": [
    "x = (1, )"
   ]
  },
  {
   "cell_type": "markdown",
   "id": "8643567a",
   "metadata": {
    "papermill": {
     "duration": null,
     "end_time": null,
     "exception": null,
     "start_time": null,
     "status": "pending"
    },
    "tags": []
   },
   "source": [
    "> Note: You can juxtapose string literals, with or without whitespace:\n",
    ">\n",
    "```python\n",
    ">>> s = \"foo\"'bar''''baz'''\n",
    ">>> s\n",
    "'foobarbaz'\n",
    "\n",
    ">>> s = 'foo' \"bar\" '''baz'''\n",
    ">>> s\n",
    "'foobarbaz'\n",
    "```\n",
    "> The effect is concatenation, exactly as though you had used the + operator."
   ]
  },
  {
   "cell_type": "markdown",
   "id": "e3b4e8f2",
   "metadata": {
    "papermill": {
     "duration": null,
     "end_time": null,
     "exception": null,
     "start_time": null,
     "status": "pending"
    },
    "tags": []
   },
   "source": [
    "In Python, whitespace is generally only required when it is necessary to distinguish one token from the next. This is most common when one or both tokens are an identifier or keyword."
   ]
  },
  {
   "cell_type": "markdown",
   "id": "78695f2b",
   "metadata": {
    "papermill": {
     "duration": null,
     "end_time": null,
     "exception": null,
     "start_time": null,
     "status": "pending"
    },
    "tags": []
   },
   "source": [
    "For example, in the following case, whitespace is needed to separate the identifier `s` from the keyword `in`:"
   ]
  },
  {
   "cell_type": "code",
   "execution_count": null,
   "id": "aeeb38ff",
   "metadata": {
    "execution": {
     "iopub.execute_input": "2023-10-15T07:51:30.380569Z",
     "iopub.status.busy": "2023-10-15T07:51:30.379294Z",
     "iopub.status.idle": "2023-10-15T07:51:30.384509Z",
     "shell.execute_reply": "2023-10-15T07:51:30.383430Z",
     "shell.execute_reply.started": "2023-10-15T07:51:30.380523Z"
    },
    "papermill": {
     "duration": null,
     "end_time": null,
     "exception": null,
     "start_time": null,
     "status": "pending"
    },
    "tags": []
   },
   "outputs": [],
   "source": [
    "s = 'bar'"
   ]
  },
  {
   "cell_type": "code",
   "execution_count": null,
   "id": "a2d29b34",
   "metadata": {
    "execution": {
     "iopub.execute_input": "2023-10-15T07:51:30.386763Z",
     "iopub.status.busy": "2023-10-15T07:51:30.386269Z",
     "iopub.status.idle": "2023-10-15T07:51:30.398895Z",
     "shell.execute_reply": "2023-10-15T07:51:30.397818Z",
     "shell.execute_reply.started": "2023-10-15T07:51:30.386733Z"
    },
    "papermill": {
     "duration": null,
     "end_time": null,
     "exception": null,
     "start_time": null,
     "status": "pending"
    },
    "tags": []
   },
   "outputs": [],
   "source": [
    "s in ['foo', 'bar', 'baz']"
   ]
  },
  {
   "cell_type": "code",
   "execution_count": null,
   "id": "9b9820e2",
   "metadata": {
    "execution": {
     "iopub.execute_input": "2023-10-15T07:51:30.416750Z",
     "iopub.status.busy": "2023-10-15T07:51:30.416217Z",
     "iopub.status.idle": "2023-10-15T07:51:30.435434Z",
     "shell.execute_reply": "2023-10-15T07:51:30.434261Z",
     "shell.execute_reply.started": "2023-10-15T07:51:30.416722Z"
    },
    "papermill": {
     "duration": null,
     "end_time": null,
     "exception": null,
     "start_time": null,
     "status": "pending"
    },
    "tags": []
   },
   "outputs": [],
   "source": [
    "sin ['foo', 'bar', 'baz']"
   ]
  },
  {
   "cell_type": "markdown",
   "id": "1ee39100",
   "metadata": {
    "papermill": {
     "duration": null,
     "end_time": null,
     "exception": null,
     "start_time": null,
     "status": "pending"
    },
    "tags": []
   },
   "source": [
    "Here is an example where whitespace is required to distinguish between the identifier `y` and the numeric constant `20`:     "
   ]
  },
  {
   "cell_type": "code",
   "execution_count": null,
   "id": "dd7552be",
   "metadata": {
    "execution": {
     "iopub.status.busy": "2023-10-15T07:51:30.436526Z",
     "iopub.status.idle": "2023-10-15T07:51:30.437069Z",
     "shell.execute_reply": "2023-10-15T07:51:30.436752Z",
     "shell.execute_reply.started": "2023-10-15T07:51:30.436732Z"
    },
    "papermill": {
     "duration": null,
     "end_time": null,
     "exception": null,
     "start_time": null,
     "status": "pending"
    },
    "tags": []
   },
   "outputs": [],
   "source": [
    "y is 20"
   ]
  },
  {
   "cell_type": "code",
   "execution_count": null,
   "id": "c729f942",
   "metadata": {
    "execution": {
     "iopub.execute_input": "2023-10-15T07:51:30.454559Z",
     "iopub.status.busy": "2023-10-15T07:51:30.454231Z",
     "iopub.status.idle": "2023-10-15T07:51:30.459913Z",
     "shell.execute_reply": "2023-10-15T07:51:30.458814Z",
     "shell.execute_reply.started": "2023-10-15T07:51:30.454533Z"
    },
    "papermill": {
     "duration": null,
     "end_time": null,
     "exception": null,
     "start_time": null,
     "status": "pending"
    },
    "tags": []
   },
   "outputs": [],
   "source": [
    "y is20"
   ]
  },
  {
   "cell_type": "markdown",
   "id": "bc7ece26",
   "metadata": {
    "papermill": {
     "duration": null,
     "end_time": null,
     "exception": null,
     "start_time": null,
     "status": "pending"
    },
    "tags": []
   },
   "source": [
    "In this example, whitespace is needed between two keywords:"
   ]
  },
  {
   "cell_type": "code",
   "execution_count": null,
   "id": "faafd689",
   "metadata": {
    "execution": {
     "iopub.status.busy": "2023-10-15T07:51:30.460795Z",
     "iopub.status.idle": "2023-10-15T07:51:30.461419Z",
     "shell.execute_reply": "2023-10-15T07:51:30.461257Z",
     "shell.execute_reply.started": "2023-10-15T07:51:30.461235Z"
    },
    "papermill": {
     "duration": null,
     "end_time": null,
     "exception": null,
     "start_time": null,
     "status": "pending"
    },
    "tags": []
   },
   "outputs": [],
   "source": [
    "'qux' not in ['foo', 'bar', 'baz']"
   ]
  },
  {
   "cell_type": "code",
   "execution_count": null,
   "id": "f9e1be6e",
   "metadata": {
    "execution": {
     "iopub.execute_input": "2023-10-15T07:51:30.477333Z",
     "iopub.status.busy": "2023-10-15T07:51:30.476694Z",
     "iopub.status.idle": "2023-10-15T07:51:30.483447Z",
     "shell.execute_reply": "2023-10-15T07:51:30.482062Z",
     "shell.execute_reply.started": "2023-10-15T07:51:30.477290Z"
    },
    "papermill": {
     "duration": null,
     "end_time": null,
     "exception": null,
     "start_time": null,
     "status": "pending"
    },
    "tags": []
   },
   "outputs": [],
   "source": [
    "'qux' notin ['foo', 'bar', 'baz']"
   ]
  },
  {
   "cell_type": "markdown",
   "id": "4bef29a4",
   "metadata": {
    "papermill": {
     "duration": null,
     "end_time": null,
     "exception": null,
     "start_time": null,
     "status": "pending"
    },
    "tags": []
   },
   "source": [
    "Running identifiers or keywords together fools the interpreter into thinking you are referring to a different token than you intended: `sin`, `is20`, and `notin`, in the examples above."
   ]
  },
  {
   "cell_type": "markdown",
   "id": "36c9ab1e",
   "metadata": {
    "papermill": {
     "duration": null,
     "end_time": null,
     "exception": null,
     "start_time": null,
     "status": "pending"
    },
    "tags": []
   },
   "source": [
    "Running identifiers or keywords together fools the interpreter into thinking you are referring to a different token than you intended: sin, is20, and notin, in the examples above."
   ]
  },
  {
   "cell_type": "markdown",
   "id": "d1ceae30",
   "metadata": {
    "papermill": {
     "duration": null,
     "end_time": null,
     "exception": null,
     "start_time": null,
     "status": "pending"
    },
    "tags": []
   },
   "source": [
    "All this tends to be rather academic because it isn’t something you’ll likely need to think about much. Instances where whitespace is necessary tend to be intuitive, and you’ll probably just do it by second nature."
   ]
  },
  {
   "cell_type": "markdown",
   "id": "eeac0415",
   "metadata": {
    "papermill": {
     "duration": null,
     "end_time": null,
     "exception": null,
     "start_time": null,
     "status": "pending"
    },
    "tags": []
   },
   "source": [
    "You should use whitespace where it isn’t strictly necessary as well to enhance readability. Ideally, you should follow the guidelines in PEP 8."
   ]
  },
  {
   "cell_type": "markdown",
   "id": "d217e1f6",
   "metadata": {
    "papermill": {
     "duration": null,
     "end_time": null,
     "exception": null,
     "start_time": null,
     "status": "pending"
    },
    "tags": []
   },
   "source": [
    "> **Deep Dive: Fortran and Whitespace**\n",
    ">\n",
    ">The earliest versions of Fortran, one of the first programming languages created, were designed so that all whitespace was completely ignored. Whitespace characters could be optionally included or omitted virtually anywhere—between identifiers and reserved words, and even in the middle of identifiers and reserved words.\n",
    ">\n",
    ">For example, if your Fortran code contained a variable named total, any of the following would be a valid statement to assign it the value 50:\n",
    ">\n",
    "```fortran\n",
    "total = 50\n",
    "to tal = 50\n",
    "t o t a l=5 0\n",
    "```\n",
    ">This was meant as a convenience, but in retrospect it is widely regarded as overkill. It often resulted in code that was difficult to read. Worse yet, it potentially led to code that did not execute correctly.\n",
    ">\n",
    ">Consider this tale from NASA in the 1960s. A Mission Control Center orbit computation program written in Fortran was supposed to contain the following line of code:\n",
    ">\n",
    "```fortran\n",
    "DO 10 I = 1,100\n",
    "```\n",
    ">In the Fortran dialect used by NASA at that time, the code shown introduces a loop, a construct that executes a body of code repeatedly. (You will learn about loops in Python in two future tutorials on definite and indefinite iteration).\n",
    ">\n",
    ">Unfortunately, this line of code ended up in the program instead:\n",
    ">\n",
    "```fortran\n",
    "DO 10 I = 1.100\n",
    "```\n",
    "> If you have a difficult time seeing the difference, don’t feel too bad. It took the NASA programmer a couple weeks to notice that there is a period between `1` and `100` instead of a comma. Because the Fortran compiler ignored whitespace, `DO 10 I` was taken to be a variable name, and the statement `DO 10 I = 1.100` resulted in assigning `1.100` to a variable called `DO10I` instead of introducing a loop.\n",
    ">\n",
    "> Some versions of the story claim that a Mercury rocket was lost because of this error, but that is evidently a myth. It did apparently cause inaccurate data for some time, though, before the programmer spotted the error.\n",
    ">\n",
    ">Virtually all modern programming languages have chosen not to go this far with ignoring whitespace."
   ]
  },
  {
   "cell_type": "markdown",
   "id": "ba46a2ca",
   "metadata": {
    "papermill": {
     "duration": null,
     "end_time": null,
     "exception": null,
     "start_time": null,
     "status": "pending"
    },
    "tags": []
   },
   "source": [
    "<a class=\"anchor\" id=\"whitespace_as_indentation\"></a>\n",
    "## Whitespace as Indentation\n",
    "\n",
    "There is one more important situation in which whitespace is significant in Python code. Indentation—whitespace that appears to the left of the first token on a line—has very special meaning."
   ]
  },
  {
   "cell_type": "markdown",
   "id": "a1cb4024",
   "metadata": {
    "papermill": {
     "duration": null,
     "end_time": null,
     "exception": null,
     "start_time": null,
     "status": "pending"
    },
    "tags": []
   },
   "source": [
    "In most interpreted languages, leading whitespace before statements is ignored. For example, consider this Windows Command Prompt session:\n",
    "\n",
    "```bash\n",
    "$ echo foo\n",
    "foo\n",
    "$          echo foo\n",
    "foo\n",
    "```"
   ]
  },
  {
   "cell_type": "markdown",
   "id": "d1fb2dca",
   "metadata": {
    "papermill": {
     "duration": null,
     "end_time": null,
     "exception": null,
     "start_time": null,
     "status": "pending"
    },
    "tags": []
   },
   "source": [
    "> **Note:** In a Command Prompt window, the echo command displays its arguments to the console, like the `print()` function in Python. Similar behavior can be observed from a terminal window in macOS or Linux."
   ]
  },
  {
   "cell_type": "markdown",
   "id": "2c21c9ca",
   "metadata": {
    "papermill": {
     "duration": null,
     "end_time": null,
     "exception": null,
     "start_time": null,
     "status": "pending"
    },
    "tags": []
   },
   "source": [
    "In the second statement, four space characters are inserted to the left of the echo command. But the result is the same. The interpreter ignores the leading whitespace and executes the same command, echo foo, just as it does when the leading whitespace is absent."
   ]
  },
  {
   "cell_type": "markdown",
   "id": "5bd07b13",
   "metadata": {
    "papermill": {
     "duration": null,
     "end_time": null,
     "exception": null,
     "start_time": null,
     "status": "pending"
    },
    "tags": []
   },
   "source": [
    "Now try more or less the same thing with the Python interpreter:\n",
    "\n",
    "```python\n",
    ">>> print('foo')\n",
    "foo\n",
    ">>>     print('foo')\n",
    "\n",
    "SyntaxError: unexpected indent\n",
    "```"
   ]
  },
  {
   "cell_type": "markdown",
   "id": "d2fb36c1",
   "metadata": {
    "papermill": {
     "duration": null,
     "end_time": null,
     "exception": null,
     "start_time": null,
     "status": "pending"
    },
    "tags": []
   },
   "source": [
    "> **Note:** Running the above code in jupyter notebook does not raise an error as jupyter notebook ignores the whitespaces at the start of a single line command."
   ]
  },
  {
   "cell_type": "markdown",
   "id": "85e79be4",
   "metadata": {
    "papermill": {
     "duration": null,
     "end_time": null,
     "exception": null,
     "start_time": null,
     "status": "pending"
    },
    "tags": []
   },
   "source": [
    "Say what? Unexpected indent? The leading whitespace before the second `print()` statement causes a `SyntaxError` exception!"
   ]
  },
  {
   "cell_type": "markdown",
   "id": "b23f3d4a",
   "metadata": {
    "papermill": {
     "duration": null,
     "end_time": null,
     "exception": null,
     "start_time": null,
     "status": "pending"
    },
    "tags": []
   },
   "source": [
    "In Python, indentation is not ignored. Leading whitespace is used to compute a line’s indentation level, which in turn is used to determine grouping of statements. As yet, you have not needed to group statements, but that will change in the next tutorial with the introduction of control structures."
   ]
  },
  {
   "cell_type": "markdown",
   "id": "fe6123af",
   "metadata": {
    "papermill": {
     "duration": null,
     "end_time": null,
     "exception": null,
     "start_time": null,
     "status": "pending"
    },
    "tags": []
   },
   "source": [
    "Until then, be aware that leading whitespace matters."
   ]
  },
  {
   "cell_type": "markdown",
   "id": "3d0869ad",
   "metadata": {
    "papermill": {
     "duration": null,
     "end_time": null,
     "exception": null,
     "start_time": null,
     "status": "pending"
    },
    "tags": []
   },
   "source": [
    "<a class=\"anchor\" id=\"conclusion\"></a>\n",
    "## <img src=\"../../images/logos/checkmark.png\" width=\"20\"/> Conclusion \n",
    "\n",
    "This tutorial introduced you to Python program lexical structure. You learned what constitutes a valid Python **statement** and how to use **implicit** and **explicit line continuation** to write a statement that spans multiple lines. You also learned about commenting Python code, and about use of whitespace to enhance readability."
   ]
  },
  {
   "cell_type": "markdown",
   "id": "39501824",
   "metadata": {
    "papermill": {
     "duration": null,
     "end_time": null,
     "exception": null,
     "start_time": null,
     "status": "pending"
    },
    "tags": []
   },
   "source": [
    "Next, you will learn how to group statements into more complex decision-making constructs using **conditional statements**."
   ]
  }
 ],
 "metadata": {
  "kernelspec": {
   "display_name": "Python 3",
   "language": "python",
   "name": "python3"
  },
  "language_info": {
   "codemirror_mode": {
    "name": "ipython",
    "version": 3
   },
   "file_extension": ".py",
   "mimetype": "text/x-python",
   "name": "python",
   "nbconvert_exporter": "python",
   "pygments_lexer": "ipython3",
   "version": "3.10.12"
  },
  "papermill": {
   "default_parameters": {},
   "duration": 5.166093,
   "end_time": "2023-10-15T07:51:52.296590",
   "environment_variables": {},
   "exception": true,
   "input_path": "__notebook__.ipynb",
   "output_path": "__notebook__.ipynb",
   "parameters": {},
   "start_time": "2023-10-15T07:51:47.130497",
   "version": "2.4.0"
  }
 },
 "nbformat": 4,
 "nbformat_minor": 5
}
