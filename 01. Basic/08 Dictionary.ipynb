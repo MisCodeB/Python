{
 "cells": [
  {
   "cell_type": "markdown",
   "id": "bb53ef7e",
   "metadata": {
    "papermill": {
     "duration": 0.012733,
     "end_time": "2023-10-15T07:26:22.272637",
     "exception": false,
     "start_time": "2023-10-15T07:26:22.259904",
     "status": "completed"
    },
    "tags": []
   },
   "source": []
  },
  {
   "cell_type": "markdown",
   "id": "95a1800b",
   "metadata": {
    "papermill": {
     "duration": 0.011893,
     "end_time": "2023-10-15T07:26:22.296853",
     "exception": false,
     "start_time": "2023-10-15T07:26:22.284960",
     "status": "completed"
    },
    "tags": []
   },
   "source": [
    "Dictionary \n",
    "\n",
    "Python provides another composite data type called a dictionary, which is similar to a list in that it is a collection of objects."
   ]
  },
  {
   "cell_type": "markdown",
   "id": "74a0f55d",
   "metadata": {
    "papermill": {
     "duration": 0.012312,
     "end_time": "2023-10-15T07:26:22.321376",
     "exception": false,
     "start_time": "2023-10-15T07:26:22.309064",
     "status": "completed"
    },
    "tags": []
   },
   "source": [
    "Table of Contents \n",
    "* [Defining a Dictionary](#defining_a_dictionary)\n",
    "* [Accessing Dictionary Values](#accessing_dictionary_values)\n",
    "* [Dictionary Keys vs. List Indices](#dictionary_keys_vs._list_indices)\n",
    "* [Building a Dictionary Incrementally](#building_a_dictionary_incrementally)\n",
    "* [Restrictions on Dictionary Keys](#restrictions_on_dictionary_keys)\n",
    "* [Restrictions on Dictionary Values](#restrictions_on_dictionary_values)\n",
    "* [Conclusion](#conclusion)\n",
    "\n",
    "---"
   ]
  },
  {
   "cell_type": "markdown",
   "id": "57d7e8c4",
   "metadata": {
    "papermill": {
     "duration": 0.011986,
     "end_time": "2023-10-15T07:26:22.345430",
     "exception": false,
     "start_time": "2023-10-15T07:26:22.333444",
     "status": "completed"
    },
    "tags": []
   },
   "source": [
    "Dictionaries and lists share the following characteristics:\n",
    "\n",
    "- Both are mutable.\n",
    "- Both are dynamic. They can grow and shrink as needed.\n",
    "- Both can be nested. A list can contain another list. A dictionary can contain another dictionary. A dictionary can also contain a list, and vice versa."
   ]
  },
  {
   "cell_type": "markdown",
   "id": "3571ae7b",
   "metadata": {
    "papermill": {
     "duration": 0.011854,
     "end_time": "2023-10-15T07:26:22.369404",
     "exception": false,
     "start_time": "2023-10-15T07:26:22.357550",
     "status": "completed"
    },
    "tags": []
   },
   "source": [
    "Dictionaries differ from lists primarily in how elements are accessed:\n",
    "\n",
    "- List elements are accessed by their position in the list, via indexing.\n",
    "- Dictionary elements are accessed via keys."
   ]
  },
  {
   "cell_type": "markdown",
   "id": "d44df0d8",
   "metadata": {
    "papermill": {
     "duration": 0.011865,
     "end_time": "2023-10-15T07:26:22.393223",
     "exception": false,
     "start_time": "2023-10-15T07:26:22.381358",
     "status": "completed"
    },
    "tags": []
   },
   "source": [
    "<a class=\"anchor\" id=\"defining_a_dictionary\"></a>\n",
    "## Defining a Dictionary\n",
    "Dictionaries are Python’s implementation of a data structure that is more generally known as an associative array. A dictionary consists of a collection of key-value pairs. Each key-value pair maps the key to its associated value."
   ]
  },
  {
   "cell_type": "markdown",
   "id": "37e429dd",
   "metadata": {
    "papermill": {
     "duration": 0.011694,
     "end_time": "2023-10-15T07:26:22.416782",
     "exception": false,
     "start_time": "2023-10-15T07:26:22.405088",
     "status": "completed"
    },
    "tags": []
   },
   "source": [
    "You can define a dictionary by enclosing a comma-separated list of key-value pairs in curly braces (`{}`). A colon (`:`) separates each key from its associated value:\n",
    "\n",
    "```python\n",
    "d = {\n",
    "    <key>: <value>,\n",
    "    <key>: <value>,\n",
    "      .\n",
    "      .\n",
    "      .\n",
    "    <key>: <value>\n",
    "}\n",
    "```"
   ]
  },
  {
   "cell_type": "markdown",
   "id": "8767aa4e",
   "metadata": {
    "papermill": {
     "duration": 0.011795,
     "end_time": "2023-10-15T07:26:22.440596",
     "exception": false,
     "start_time": "2023-10-15T07:26:22.428801",
     "status": "completed"
    },
    "tags": []
   },
   "source": [
    "The following defines a dictionary that maps a location to the name of its corresponding Major League Baseball team:"
   ]
  },
  {
   "cell_type": "code",
   "execution_count": 1,
   "id": "770fb691",
   "metadata": {
    "execution": {
     "iopub.execute_input": "2023-10-15T07:26:22.526088Z",
     "iopub.status.busy": "2023-10-15T07:26:22.525379Z",
     "iopub.status.idle": "2023-10-15T07:26:22.534251Z",
     "shell.execute_reply": "2023-10-15T07:26:22.533205Z"
    },
    "papermill": {
     "duration": 0.083138,
     "end_time": "2023-10-15T07:26:22.536574",
     "exception": false,
     "start_time": "2023-10-15T07:26:22.453436",
     "status": "completed"
    },
    "tags": []
   },
   "outputs": [],
   "source": [
    "MLB_team = {\n",
    "    'Colorado' : 'Rockies',\n",
    "    'Boston'   : 'Red Sox',\n",
    "    'Minnesota': 'Twins',\n",
    "    'Milwaukee': 'Brewers',\n",
    "    'Seattle'  : 'Mariners'\n",
    "}"
   ]
  },
  {
   "cell_type": "markdown",
   "id": "2736e32d",
   "metadata": {
    "papermill": {
     "duration": 0.012087,
     "end_time": "2023-10-15T07:26:22.561349",
     "exception": false,
     "start_time": "2023-10-15T07:26:22.549262",
     "status": "completed"
    },
    "tags": []
   },
   "source": []
  },
  {
   "cell_type": "markdown",
   "id": "80a5d230",
   "metadata": {
    "papermill": {
     "duration": 0.012389,
     "end_time": "2023-10-15T07:26:22.586018",
     "exception": false,
     "start_time": "2023-10-15T07:26:22.573629",
     "status": "completed"
    },
    "tags": []
   },
   "source": [
    "You can also construct a dictionary with the built-in `dict()` function. The argument to `dict()` should be a sequence of key-value pairs. A list of tuples works well for this:\n",
    "\n",
    "```python\n",
    "d = dict([\n",
    "    (<key>, <value>),\n",
    "    (<key>, <value),\n",
    "      .\n",
    "      .\n",
    "      .\n",
    "    (<key>, <value>)\n",
    "])\n",
    "```"
   ]
  },
  {
   "cell_type": "markdown",
   "id": "1328b0b6",
   "metadata": {
    "papermill": {
     "duration": 0.011881,
     "end_time": "2023-10-15T07:26:22.610293",
     "exception": false,
     "start_time": "2023-10-15T07:26:22.598412",
     "status": "completed"
    },
    "tags": []
   },
   "source": [
    "`MLB_team` can then also be defined this way:"
   ]
  },
  {
   "cell_type": "code",
   "execution_count": 2,
   "id": "1ab61645",
   "metadata": {
    "execution": {
     "iopub.execute_input": "2023-10-15T07:26:22.636181Z",
     "iopub.status.busy": "2023-10-15T07:26:22.635576Z",
     "iopub.status.idle": "2023-10-15T07:26:22.640071Z",
     "shell.execute_reply": "2023-10-15T07:26:22.639287Z"
    },
    "papermill": {
     "duration": 0.019378,
     "end_time": "2023-10-15T07:26:22.641685",
     "exception": false,
     "start_time": "2023-10-15T07:26:22.622307",
     "status": "completed"
    },
    "tags": []
   },
   "outputs": [],
   "source": [
    "MLB_team = dict([\n",
    "    ('Colorado', 'Rockies'),\n",
    "    ('Boston', 'Red Sox'),\n",
    "    ('Minnesota', 'Twins'),\n",
    "    ('Milwaukee', 'Brewers'),\n",
    "    ('Seattle', 'Mariners')\n",
    "])"
   ]
  },
  {
   "cell_type": "markdown",
   "id": "8e662e30",
   "metadata": {
    "papermill": {
     "duration": 0.015954,
     "end_time": "2023-10-15T07:26:22.673697",
     "exception": false,
     "start_time": "2023-10-15T07:26:22.657743",
     "status": "completed"
    },
    "tags": []
   },
   "source": [
    "If the key values are simple strings, they can be specified as keyword arguments. So here is yet another way to define `MLB_team`:"
   ]
  },
  {
   "cell_type": "code",
   "execution_count": 3,
   "id": "3242898b",
   "metadata": {
    "execution": {
     "iopub.execute_input": "2023-10-15T07:26:22.701461Z",
     "iopub.status.busy": "2023-10-15T07:26:22.700754Z",
     "iopub.status.idle": "2023-10-15T07:26:22.704656Z",
     "shell.execute_reply": "2023-10-15T07:26:22.703996Z"
    },
    "papermill": {
     "duration": 0.019613,
     "end_time": "2023-10-15T07:26:22.706494",
     "exception": false,
     "start_time": "2023-10-15T07:26:22.686881",
     "status": "completed"
    },
    "tags": []
   },
   "outputs": [],
   "source": [
    "MLB_team = dict(\n",
    "    Colorado='Rockies',\n",
    "    Boston='Red Sox',\n",
    "    Minnesota='Twins',\n",
    "    Milwaukee='Brewers',\n",
    "    Seattle='Mariners'\n",
    ")"
   ]
  },
  {
   "cell_type": "markdown",
   "id": "8fa99c23",
   "metadata": {
    "papermill": {
     "duration": 0.012745,
     "end_time": "2023-10-15T07:26:22.732178",
     "exception": false,
     "start_time": "2023-10-15T07:26:22.719433",
     "status": "completed"
    },
    "tags": []
   },
   "source": [
    "Once you’ve defined a dictionary, you can display its contents, the same as you can do for a list. All three of the definitions shown above appear as follows when displayed:"
   ]
  },
  {
   "cell_type": "code",
   "execution_count": 4,
   "id": "427710fe",
   "metadata": {
    "execution": {
     "iopub.execute_input": "2023-10-15T07:26:22.761034Z",
     "iopub.status.busy": "2023-10-15T07:26:22.760358Z",
     "iopub.status.idle": "2023-10-15T07:26:22.765867Z",
     "shell.execute_reply": "2023-10-15T07:26:22.765255Z"
    },
    "papermill": {
     "duration": 0.021981,
     "end_time": "2023-10-15T07:26:22.767609",
     "exception": false,
     "start_time": "2023-10-15T07:26:22.745628",
     "status": "completed"
    },
    "tags": []
   },
   "outputs": [
    {
     "data": {
      "text/plain": [
       "dict"
      ]
     },
     "execution_count": 4,
     "metadata": {},
     "output_type": "execute_result"
    }
   ],
   "source": [
    "type(MLB_team)"
   ]
  },
  {
   "cell_type": "code",
   "execution_count": 5,
   "id": "66e55c13",
   "metadata": {
    "execution": {
     "iopub.execute_input": "2023-10-15T07:26:22.795673Z",
     "iopub.status.busy": "2023-10-15T07:26:22.795045Z",
     "iopub.status.idle": "2023-10-15T07:26:22.800056Z",
     "shell.execute_reply": "2023-10-15T07:26:22.799345Z"
    },
    "papermill": {
     "duration": 0.021185,
     "end_time": "2023-10-15T07:26:22.801771",
     "exception": false,
     "start_time": "2023-10-15T07:26:22.780586",
     "status": "completed"
    },
    "tags": []
   },
   "outputs": [
    {
     "data": {
      "text/plain": [
       "{'Colorado': 'Rockies',\n",
       " 'Boston': 'Red Sox',\n",
       " 'Minnesota': 'Twins',\n",
       " 'Milwaukee': 'Brewers',\n",
       " 'Seattle': 'Mariners'}"
      ]
     },
     "execution_count": 5,
     "metadata": {},
     "output_type": "execute_result"
    }
   ],
   "source": [
    "MLB_team"
   ]
  },
  {
   "cell_type": "markdown",
   "id": "0caaa34a",
   "metadata": {
    "papermill": {
     "duration": 0.012647,
     "end_time": "2023-10-15T07:26:22.827305",
     "exception": false,
     "start_time": "2023-10-15T07:26:22.814658",
     "status": "completed"
    },
    "tags": []
   },
   "source": [
    "The entries in the dictionary display in the order they were defined. But that is irrelevant when it comes to retrieving them. Dictionary elements are not accessed by numerical index:"
   ]
  },
  {
   "cell_type": "code",
   "execution_count": 6,
   "id": "c8d4e066",
   "metadata": {
    "execution": {
     "iopub.execute_input": "2023-10-15T07:26:22.854653Z",
     "iopub.status.busy": "2023-10-15T07:26:22.854015Z",
     "iopub.status.idle": "2023-10-15T07:26:23.108569Z",
     "shell.execute_reply": "2023-10-15T07:26:23.107086Z"
    },
    "papermill": {
     "duration": 0.270384,
     "end_time": "2023-10-15T07:26:23.110521",
     "exception": true,
     "start_time": "2023-10-15T07:26:22.840137",
     "status": "failed"
    },
    "tags": []
   },
   "outputs": [
    {
     "ename": "KeyError",
     "evalue": "1",
     "output_type": "error",
     "traceback": [
      "\u001b[0;31m---------------------------------------------------------------------------\u001b[0m",
      "\u001b[0;31mKeyError\u001b[0m                                  Traceback (most recent call last)",
      "Cell \u001b[0;32mIn[6], line 1\u001b[0m\n\u001b[0;32m----> 1\u001b[0m \u001b[43mMLB_team\u001b[49m\u001b[43m[\u001b[49m\u001b[38;5;241;43m1\u001b[39;49m\u001b[43m]\u001b[49m\n",
      "\u001b[0;31mKeyError\u001b[0m: 1"
     ]
    }
   ],
   "source": [
    "MLB_team[1]"
   ]
  },
  {
   "cell_type": "markdown",
   "id": "8a4323a3",
   "metadata": {
    "papermill": {
     "duration": null,
     "end_time": null,
     "exception": null,
     "start_time": null,
     "status": "pending"
    },
    "tags": []
   },
   "source": [
    "<a class=\"anchor\" id=\"accessing_dictionary_values\"></a>\n",
    "## Accessing Dictionary Values\n",
    "\n",
    "Of course, dictionary elements must be accessible somehow. If you don’t get them by index, then how do you get them?"
   ]
  },
  {
   "cell_type": "markdown",
   "id": "bce4006e",
   "metadata": {
    "papermill": {
     "duration": null,
     "end_time": null,
     "exception": null,
     "start_time": null,
     "status": "pending"
    },
    "tags": []
   },
   "source": [
    "A value is retrieved from a dictionary by specifying its corresponding key in square brackets (`[]`):"
   ]
  },
  {
   "cell_type": "code",
   "execution_count": null,
   "id": "52bb48c0",
   "metadata": {
    "papermill": {
     "duration": null,
     "end_time": null,
     "exception": null,
     "start_time": null,
     "status": "pending"
    },
    "tags": []
   },
   "outputs": [],
   "source": [
    "MLB_team['Minnesota']"
   ]
  },
  {
   "cell_type": "code",
   "execution_count": null,
   "id": "094984c8",
   "metadata": {
    "papermill": {
     "duration": null,
     "end_time": null,
     "exception": null,
     "start_time": null,
     "status": "pending"
    },
    "tags": []
   },
   "outputs": [],
   "source": [
    "MLB_team['Colorado']"
   ]
  },
  {
   "cell_type": "markdown",
   "id": "d968961a",
   "metadata": {
    "papermill": {
     "duration": null,
     "end_time": null,
     "exception": null,
     "start_time": null,
     "status": "pending"
    },
    "tags": []
   },
   "source": [
    "If you refer to a key that is not in the dictionary, Python raises an exception:"
   ]
  },
  {
   "cell_type": "code",
   "execution_count": null,
   "id": "a41de857",
   "metadata": {
    "papermill": {
     "duration": null,
     "end_time": null,
     "exception": null,
     "start_time": null,
     "status": "pending"
    },
    "tags": []
   },
   "outputs": [],
   "source": [
    "MLB_team['Toronto']"
   ]
  },
  {
   "cell_type": "markdown",
   "id": "22815dab",
   "metadata": {
    "papermill": {
     "duration": null,
     "end_time": null,
     "exception": null,
     "start_time": null,
     "status": "pending"
    },
    "tags": []
   },
   "source": [
    "Adding an entry to an existing dictionary is simply a matter of assigning a new key and value:"
   ]
  },
  {
   "cell_type": "code",
   "execution_count": null,
   "id": "f2a28e34",
   "metadata": {
    "papermill": {
     "duration": null,
     "end_time": null,
     "exception": null,
     "start_time": null,
     "status": "pending"
    },
    "tags": []
   },
   "outputs": [],
   "source": [
    "MLB_team['Kansas City'] = 'Royals'\n",
    "MLB_team"
   ]
  },
  {
   "cell_type": "markdown",
   "id": "968eb26b",
   "metadata": {
    "papermill": {
     "duration": null,
     "end_time": null,
     "exception": null,
     "start_time": null,
     "status": "pending"
    },
    "tags": []
   },
   "source": [
    "If you want to update an entry, you can just assign a new value to an existing key:"
   ]
  },
  {
   "cell_type": "code",
   "execution_count": null,
   "id": "ca7f439d",
   "metadata": {
    "papermill": {
     "duration": null,
     "end_time": null,
     "exception": null,
     "start_time": null,
     "status": "pending"
    },
    "tags": []
   },
   "outputs": [],
   "source": [
    "MLB_team['Seattle'] = 'Seahawks'\n",
    "MLB_team"
   ]
  },
  {
   "cell_type": "markdown",
   "id": "74dda57d",
   "metadata": {
    "papermill": {
     "duration": null,
     "end_time": null,
     "exception": null,
     "start_time": null,
     "status": "pending"
    },
    "tags": []
   },
   "source": [
    "To delete an entry, use the `del` statement, specifying the key to delete:"
   ]
  },
  {
   "cell_type": "code",
   "execution_count": null,
   "id": "9fc5f8f6",
   "metadata": {
    "papermill": {
     "duration": null,
     "end_time": null,
     "exception": null,
     "start_time": null,
     "status": "pending"
    },
    "tags": []
   },
   "outputs": [],
   "source": [
    "del MLB_team['Seattle']\n",
    "MLB_team"
   ]
  },
  {
   "cell_type": "markdown",
   "id": "5e75bb1e",
   "metadata": {
    "papermill": {
     "duration": null,
     "end_time": null,
     "exception": null,
     "start_time": null,
     "status": "pending"
    },
    "tags": []
   },
   "source": [
    "<a class=\"anchor\" id=\"dictionary_keys_vs._list_indices\"></a>\n",
    "## Dictionary Keys vs. List Indices\n",
    "You may have noticed that the interpreter raises the same exception, KeyError, when a dictionary is accessed with either an undefined key or by a numeric index:"
   ]
  },
  {
   "cell_type": "code",
   "execution_count": null,
   "id": "751b6b16",
   "metadata": {
    "papermill": {
     "duration": null,
     "end_time": null,
     "exception": null,
     "start_time": null,
     "status": "pending"
    },
    "tags": []
   },
   "outputs": [],
   "source": [
    "MLB_team['Toronto']"
   ]
  },
  {
   "cell_type": "code",
   "execution_count": null,
   "id": "637b9407",
   "metadata": {
    "papermill": {
     "duration": null,
     "end_time": null,
     "exception": null,
     "start_time": null,
     "status": "pending"
    },
    "tags": []
   },
   "outputs": [],
   "source": [
    "MLB_team[1]"
   ]
  },
  {
   "cell_type": "markdown",
   "id": "d40b6e5b",
   "metadata": {
    "papermill": {
     "duration": null,
     "end_time": null,
     "exception": null,
     "start_time": null,
     "status": "pending"
    },
    "tags": []
   },
   "source": [
    "In fact, it’s the same error. In the latter case, `[1]` looks like a numerical index, but it isn’t."
   ]
  },
  {
   "cell_type": "markdown",
   "id": "c06717df",
   "metadata": {
    "papermill": {
     "duration": null,
     "end_time": null,
     "exception": null,
     "start_time": null,
     "status": "pending"
    },
    "tags": []
   },
   "source": [
    "You will see later in this tutorial that an object of any immutable type can be used as a dictionary key. Accordingly, there is no reason you can’t use integers:"
   ]
  },
  {
   "cell_type": "code",
   "execution_count": null,
   "id": "2f24bd8b",
   "metadata": {
    "papermill": {
     "duration": null,
     "end_time": null,
     "exception": null,
     "start_time": null,
     "status": "pending"
    },
    "tags": []
   },
   "outputs": [],
   "source": [
    "d = {0: 'a', 1: 'b', 2: 'c', 3: 'd'}\n",
    "d"
   ]
  },
  {
   "cell_type": "code",
   "execution_count": null,
   "id": "8b23960f",
   "metadata": {
    "papermill": {
     "duration": null,
     "end_time": null,
     "exception": null,
     "start_time": null,
     "status": "pending"
    },
    "tags": []
   },
   "outputs": [],
   "source": [
    "d[0]"
   ]
  },
  {
   "cell_type": "code",
   "execution_count": null,
   "id": "6b18fcbe",
   "metadata": {
    "papermill": {
     "duration": null,
     "end_time": null,
     "exception": null,
     "start_time": null,
     "status": "pending"
    },
    "tags": []
   },
   "outputs": [],
   "source": [
    "d[2]"
   ]
  },
  {
   "cell_type": "markdown",
   "id": "cc3782de",
   "metadata": {
    "papermill": {
     "duration": null,
     "end_time": null,
     "exception": null,
     "start_time": null,
     "status": "pending"
    },
    "tags": []
   },
   "source": [
    "In the expressions `MLB_team[1]`, `d[0]`, and `d[2]`, the numbers in square brackets appear as though they might be indices. But they have nothing to do with the order of the items in the dictionary. Python is interpreting them as dictionary keys. If you define this same dictionary in reverse order, you still get the same values using the same keys:"
   ]
  },
  {
   "cell_type": "code",
   "execution_count": null,
   "id": "3d14e982",
   "metadata": {
    "papermill": {
     "duration": null,
     "end_time": null,
     "exception": null,
     "start_time": null,
     "status": "pending"
    },
    "tags": []
   },
   "outputs": [],
   "source": [
    "d = {3: 'd', 2: 'c', 1: 'b', 0: 'a'}\n",
    "d"
   ]
  },
  {
   "cell_type": "code",
   "execution_count": null,
   "id": "c6fbfc80",
   "metadata": {
    "papermill": {
     "duration": null,
     "end_time": null,
     "exception": null,
     "start_time": null,
     "status": "pending"
    },
    "tags": []
   },
   "outputs": [],
   "source": [
    "d[0]"
   ]
  },
  {
   "cell_type": "code",
   "execution_count": null,
   "id": "c9aa1ed6",
   "metadata": {
    "papermill": {
     "duration": null,
     "end_time": null,
     "exception": null,
     "start_time": null,
     "status": "pending"
    },
    "tags": []
   },
   "outputs": [],
   "source": [
    "d[2]"
   ]
  },
  {
   "cell_type": "markdown",
   "id": "f6dc2f56",
   "metadata": {
    "papermill": {
     "duration": null,
     "end_time": null,
     "exception": null,
     "start_time": null,
     "status": "pending"
    },
    "tags": []
   },
   "source": [
    "The syntax may look similar, but you can’t treat a dictionary like a list:"
   ]
  },
  {
   "cell_type": "code",
   "execution_count": null,
   "id": "e3e829cb",
   "metadata": {
    "papermill": {
     "duration": null,
     "end_time": null,
     "exception": null,
     "start_time": null,
     "status": "pending"
    },
    "tags": []
   },
   "outputs": [],
   "source": [
    "type(d)"
   ]
  },
  {
   "cell_type": "code",
   "execution_count": null,
   "id": "4ec52c68",
   "metadata": {
    "papermill": {
     "duration": null,
     "end_time": null,
     "exception": null,
     "start_time": null,
     "status": "pending"
    },
    "tags": []
   },
   "outputs": [],
   "source": [
    "d[-1]"
   ]
  },
  {
   "cell_type": "code",
   "execution_count": null,
   "id": "cfd80f67",
   "metadata": {
    "papermill": {
     "duration": null,
     "end_time": null,
     "exception": null,
     "start_time": null,
     "status": "pending"
    },
    "tags": []
   },
   "outputs": [],
   "source": [
    "d[0:2]"
   ]
  },
  {
   "cell_type": "markdown",
   "id": "dd37f1bb",
   "metadata": {
    "papermill": {
     "duration": null,
     "end_time": null,
     "exception": null,
     "start_time": null,
     "status": "pending"
    },
    "tags": []
   },
   "source": [
    "> **Note:** Although access to items in a dictionary does not depend on order, Python does guarantee that the order of items in a dictionary is preserved. When displayed, items will appear in the order they were defined, and iteration through the keys will occur in that order as well. Items added to a dictionary are added at the end. If items are deleted, the order of the remaining items is retained.\n",
    ">\n",
    ">You can only count on this preservation of order very recently. It was [added as a part of the Python language specification in version 3.7](https://realpython.com/python37-new-features/#the-order-of-dictionaries-is-guaranteed). However, it was true as of version 3.6 as well—by happenstance as a result of the implementation but not guaranteed by the language specification."
   ]
  },
  {
   "cell_type": "markdown",
   "id": "73132405",
   "metadata": {
    "papermill": {
     "duration": null,
     "end_time": null,
     "exception": null,
     "start_time": null,
     "status": "pending"
    },
    "tags": []
   },
   "source": [
    "<a class=\"anchor\" id=\"building_a_dictionary_incrementally\"></a>\n",
    "## Building a Dictionary Incrementally\n",
    "\n",
    "Defining a dictionary using curly braces and a list of key-value pairs, as shown above, is fine if you know all the keys and values in advance. But what if you want to build a dictionary on the fly?"
   ]
  },
  {
   "cell_type": "markdown",
   "id": "d9362bc8",
   "metadata": {
    "papermill": {
     "duration": null,
     "end_time": null,
     "exception": null,
     "start_time": null,
     "status": "pending"
    },
    "tags": []
   },
   "source": [
    "You can start by creating an empty dictionary, which is specified by empty curly braces. Then you can add new keys and values one at a time:"
   ]
  },
  {
   "cell_type": "code",
   "execution_count": null,
   "id": "438d83e4",
   "metadata": {
    "papermill": {
     "duration": null,
     "end_time": null,
     "exception": null,
     "start_time": null,
     "status": "pending"
    },
    "tags": []
   },
   "outputs": [],
   "source": [
    "person = {}\n",
    "type(person)"
   ]
  },
  {
   "cell_type": "code",
   "execution_count": null,
   "id": "6faceef1",
   "metadata": {
    "papermill": {
     "duration": null,
     "end_time": null,
     "exception": null,
     "start_time": null,
     "status": "pending"
    },
    "tags": []
   },
   "outputs": [],
   "source": [
    "person['fname'] = 'Joe'\n",
    "person['lname'] = 'Fonebone'\n",
    "person['age'] = 51\n",
    "person['spouse'] = 'Edna'\n",
    "person['children'] = ['Ralph', 'Betty', 'Joey']\n",
    "person['pets'] = {'dog': 'Fido', 'cat': 'Sox'}"
   ]
  },
  {
   "cell_type": "markdown",
   "id": "06764520",
   "metadata": {
    "papermill": {
     "duration": null,
     "end_time": null,
     "exception": null,
     "start_time": null,
     "status": "pending"
    },
    "tags": []
   },
   "source": [
    "Once the dictionary is created in this way, its values are accessed the same way as any other dictionary:"
   ]
  },
  {
   "cell_type": "code",
   "execution_count": null,
   "id": "8faca5dc",
   "metadata": {
    "papermill": {
     "duration": null,
     "end_time": null,
     "exception": null,
     "start_time": null,
     "status": "pending"
    },
    "tags": []
   },
   "outputs": [],
   "source": [
    "person"
   ]
  },
  {
   "cell_type": "code",
   "execution_count": null,
   "id": "100b814c",
   "metadata": {
    "papermill": {
     "duration": null,
     "end_time": null,
     "exception": null,
     "start_time": null,
     "status": "pending"
    },
    "tags": []
   },
   "outputs": [],
   "source": [
    "person['fname']"
   ]
  },
  {
   "cell_type": "code",
   "execution_count": null,
   "id": "db6250b9",
   "metadata": {
    "papermill": {
     "duration": null,
     "end_time": null,
     "exception": null,
     "start_time": null,
     "status": "pending"
    },
    "tags": []
   },
   "outputs": [],
   "source": [
    "person['age']"
   ]
  },
  {
   "cell_type": "code",
   "execution_count": null,
   "id": "c52bdedc",
   "metadata": {
    "papermill": {
     "duration": null,
     "end_time": null,
     "exception": null,
     "start_time": null,
     "status": "pending"
    },
    "tags": []
   },
   "outputs": [],
   "source": [
    "person['children']"
   ]
  },
  {
   "cell_type": "markdown",
   "id": "ba8ce1e1",
   "metadata": {
    "papermill": {
     "duration": null,
     "end_time": null,
     "exception": null,
     "start_time": null,
     "status": "pending"
    },
    "tags": []
   },
   "source": [
    "Retrieving the values in the sublist or subdictionary requires an additional index or key:"
   ]
  },
  {
   "cell_type": "code",
   "execution_count": null,
   "id": "5825cffc",
   "metadata": {
    "papermill": {
     "duration": null,
     "end_time": null,
     "exception": null,
     "start_time": null,
     "status": "pending"
    },
    "tags": []
   },
   "outputs": [],
   "source": [
    "person['children'][-1]"
   ]
  },
  {
   "cell_type": "code",
   "execution_count": null,
   "id": "728f47b7",
   "metadata": {
    "papermill": {
     "duration": null,
     "end_time": null,
     "exception": null,
     "start_time": null,
     "status": "pending"
    },
    "tags": []
   },
   "outputs": [],
   "source": [
    "person['pets']['cat']"
   ]
  },
  {
   "cell_type": "markdown",
   "id": "0ce77c91",
   "metadata": {
    "papermill": {
     "duration": null,
     "end_time": null,
     "exception": null,
     "start_time": null,
     "status": "pending"
    },
    "tags": []
   },
   "source": [
    "This example exhibits another feature of dictionaries: the values contained in the dictionary don’t need to be the same type. In person, some of the values are strings, one is an integer, one is a list, and one is another dictionary."
   ]
  },
  {
   "cell_type": "markdown",
   "id": "c0c4cad8",
   "metadata": {
    "papermill": {
     "duration": null,
     "end_time": null,
     "exception": null,
     "start_time": null,
     "status": "pending"
    },
    "tags": []
   },
   "source": [
    "Just as the values in a dictionary don’t need to be of the same type, the keys don’t either:"
   ]
  },
  {
   "cell_type": "code",
   "execution_count": null,
   "id": "cb601c8c",
   "metadata": {
    "papermill": {
     "duration": null,
     "end_time": null,
     "exception": null,
     "start_time": null,
     "status": "pending"
    },
    "tags": []
   },
   "outputs": [],
   "source": [
    "foo = {42: 'aaa', 2.78: 'bbb', True: 'ccc'}\n",
    "foo"
   ]
  },
  {
   "cell_type": "code",
   "execution_count": null,
   "id": "9b74c607",
   "metadata": {
    "papermill": {
     "duration": null,
     "end_time": null,
     "exception": null,
     "start_time": null,
     "status": "pending"
    },
    "tags": []
   },
   "outputs": [],
   "source": [
    "foo[42]"
   ]
  },
  {
   "cell_type": "code",
   "execution_count": null,
   "id": "7beb20d5",
   "metadata": {
    "papermill": {
     "duration": null,
     "end_time": null,
     "exception": null,
     "start_time": null,
     "status": "pending"
    },
    "tags": []
   },
   "outputs": [],
   "source": [
    "foo[2.78]"
   ]
  },
  {
   "cell_type": "code",
   "execution_count": null,
   "id": "d8637a57",
   "metadata": {
    "papermill": {
     "duration": null,
     "end_time": null,
     "exception": null,
     "start_time": null,
     "status": "pending"
    },
    "tags": []
   },
   "outputs": [],
   "source": [
    "foo[True]"
   ]
  },
  {
   "cell_type": "markdown",
   "id": "dd92c885",
   "metadata": {
    "papermill": {
     "duration": null,
     "end_time": null,
     "exception": null,
     "start_time": null,
     "status": "pending"
    },
    "tags": []
   },
   "source": [
    "Here, one of the keys is an integer, one is a float, and one is a Boolean. It’s not obvious how this would be useful, but you never know."
   ]
  },
  {
   "cell_type": "markdown",
   "id": "ea2267c4",
   "metadata": {
    "papermill": {
     "duration": null,
     "end_time": null,
     "exception": null,
     "start_time": null,
     "status": "pending"
    },
    "tags": []
   },
   "source": [
    "Notice how versatile Python dictionaries are. In MLB_team, the same piece of information (the baseball team name) is kept for each of several different geographical locations. person, on the other hand, stores varying types of data for a single person."
   ]
  },
  {
   "cell_type": "markdown",
   "id": "39ddd761",
   "metadata": {
    "papermill": {
     "duration": null,
     "end_time": null,
     "exception": null,
     "start_time": null,
     "status": "pending"
    },
    "tags": []
   },
   "source": [
    "You can use dictionaries for a wide range of purposes because there are so few limitations on the keys and values that are allowed. But there are some. Read on!"
   ]
  },
  {
   "cell_type": "markdown",
   "id": "edd87345",
   "metadata": {
    "papermill": {
     "duration": null,
     "end_time": null,
     "exception": null,
     "start_time": null,
     "status": "pending"
    },
    "tags": []
   },
   "source": [
    "<a class=\"anchor\" id=\"restrictions_on_dictionary_keys\"></a>\n",
    "## Restrictions on Dictionary Keys\n",
    "\n",
    "Almost any type of value can be used as a dictionary key in Python. You just saw this example, where integer, float, and Boolean objects are used as keys:"
   ]
  },
  {
   "cell_type": "code",
   "execution_count": null,
   "id": "41595e93",
   "metadata": {
    "papermill": {
     "duration": null,
     "end_time": null,
     "exception": null,
     "start_time": null,
     "status": "pending"
    },
    "tags": []
   },
   "outputs": [],
   "source": [
    "foo = {42: 'aaa', 2.78: 'bbb', True: 'ccc'}\n",
    "foo"
   ]
  },
  {
   "cell_type": "markdown",
   "id": "4754d7de",
   "metadata": {
    "papermill": {
     "duration": null,
     "end_time": null,
     "exception": null,
     "start_time": null,
     "status": "pending"
    },
    "tags": []
   },
   "source": [
    "You can even use built-in objects like types and functions:"
   ]
  },
  {
   "cell_type": "code",
   "execution_count": null,
   "id": "7a65f986",
   "metadata": {
    "papermill": {
     "duration": null,
     "end_time": null,
     "exception": null,
     "start_time": null,
     "status": "pending"
    },
    "tags": []
   },
   "outputs": [],
   "source": [
    "d = {int: 1, float: 2, bool: 3}\n",
    "d"
   ]
  },
  {
   "cell_type": "code",
   "execution_count": null,
   "id": "02af3f53",
   "metadata": {
    "papermill": {
     "duration": null,
     "end_time": null,
     "exception": null,
     "start_time": null,
     "status": "pending"
    },
    "tags": []
   },
   "outputs": [],
   "source": [
    "d[float]"
   ]
  },
  {
   "cell_type": "code",
   "execution_count": null,
   "id": "b807676e",
   "metadata": {
    "papermill": {
     "duration": null,
     "end_time": null,
     "exception": null,
     "start_time": null,
     "status": "pending"
    },
    "tags": []
   },
   "outputs": [],
   "source": [
    "d = {bin: 1, hex: 2, oct: 3}\n",
    "d[oct]"
   ]
  },
  {
   "cell_type": "markdown",
   "id": "814ce571",
   "metadata": {
    "papermill": {
     "duration": null,
     "end_time": null,
     "exception": null,
     "start_time": null,
     "status": "pending"
    },
    "tags": []
   },
   "source": [
    "However, there are a couple restrictions that dictionary keys must abide by."
   ]
  },
  {
   "cell_type": "markdown",
   "id": "49c44ce3",
   "metadata": {
    "papermill": {
     "duration": null,
     "end_time": null,
     "exception": null,
     "start_time": null,
     "status": "pending"
    },
    "tags": []
   },
   "source": [
    "First, a given key can appear in a dictionary only once. Duplicate keys are not allowed. A dictionary maps each key to a corresponding value, so it doesn’t make sense to map a particular key more than once."
   ]
  },
  {
   "cell_type": "markdown",
   "id": "288c3405",
   "metadata": {
    "papermill": {
     "duration": null,
     "end_time": null,
     "exception": null,
     "start_time": null,
     "status": "pending"
    },
    "tags": []
   },
   "source": [
    "You saw above that when you assign a value to an already existing dictionary key, it does not add the key a second time, but replaces the existing value:"
   ]
  },
  {
   "cell_type": "code",
   "execution_count": null,
   "id": "879b863d",
   "metadata": {
    "papermill": {
     "duration": null,
     "end_time": null,
     "exception": null,
     "start_time": null,
     "status": "pending"
    },
    "tags": []
   },
   "outputs": [],
   "source": [
    "MLB_team = {\n",
    "    'Colorado' : 'Rockies',\n",
    "    'Boston'   : 'Red Sox',\n",
    "    'Minnesota': 'Twins',\n",
    "    'Milwaukee': 'Brewers',\n",
    "    'Seattle'  : 'Mariners'\n",
    "}"
   ]
  },
  {
   "cell_type": "code",
   "execution_count": null,
   "id": "de826010",
   "metadata": {
    "papermill": {
     "duration": null,
     "end_time": null,
     "exception": null,
     "start_time": null,
     "status": "pending"
    },
    "tags": []
   },
   "outputs": [],
   "source": [
    "MLB_team['Minnesota'] = 'Timberwolves'\n",
    "MLB_team"
   ]
  },
  {
   "cell_type": "markdown",
   "id": "248af067",
   "metadata": {
    "papermill": {
     "duration": null,
     "end_time": null,
     "exception": null,
     "start_time": null,
     "status": "pending"
    },
    "tags": []
   },
   "source": [
    "Similarly, if you specify a key a second time during the initial creation of a dictionary, the second occurrence will override the first:"
   ]
  },
  {
   "cell_type": "code",
   "execution_count": null,
   "id": "ea40ef72",
   "metadata": {
    "papermill": {
     "duration": null,
     "end_time": null,
     "exception": null,
     "start_time": null,
     "status": "pending"
    },
    "tags": []
   },
   "outputs": [],
   "source": [
    "MLB_team = {\n",
    "    'Colorado' : 'Rockies',\n",
    "    'Boston'   : 'Red Sox',\n",
    "    'Minnesota': 'Timberwolves',\n",
    "    'Milwaukee': 'Brewers',\n",
    "    'Seattle'  : 'Mariners',\n",
    "    'Minnesota': 'Twins'\n",
    "}\n",
    "MLB_team"
   ]
  },
  {
   "cell_type": "markdown",
   "id": "b9acdd84",
   "metadata": {
    "papermill": {
     "duration": null,
     "end_time": null,
     "exception": null,
     "start_time": null,
     "status": "pending"
    },
    "tags": []
   },
   "source": [
    "Secondly, a dictionary key must be of a type that is immutable. You have already seen examples where several of the immutable types you are familiar with—integer, float, string, and Boolean—have served as dictionary keys."
   ]
  },
  {
   "cell_type": "markdown",
   "id": "8d12b668",
   "metadata": {
    "papermill": {
     "duration": null,
     "end_time": null,
     "exception": null,
     "start_time": null,
     "status": "pending"
    },
    "tags": []
   },
   "source": [
    "A tuple can also be a dictionary key, because tuples are immutable:"
   ]
  },
  {
   "cell_type": "code",
   "execution_count": null,
   "id": "ef729c6b",
   "metadata": {
    "papermill": {
     "duration": null,
     "end_time": null,
     "exception": null,
     "start_time": null,
     "status": "pending"
    },
    "tags": []
   },
   "outputs": [],
   "source": [
    "d = {(1, 1): 'a', (1, 2): 'b', (2, 1): 'c', (2, 2): 'd'}"
   ]
  },
  {
   "cell_type": "code",
   "execution_count": null,
   "id": "e20651b7",
   "metadata": {
    "papermill": {
     "duration": null,
     "end_time": null,
     "exception": null,
     "start_time": null,
     "status": "pending"
    },
    "tags": []
   },
   "outputs": [],
   "source": [
    "d[(1,1)]"
   ]
  },
  {
   "cell_type": "code",
   "execution_count": null,
   "id": "5db714e5",
   "metadata": {
    "papermill": {
     "duration": null,
     "end_time": null,
     "exception": null,
     "start_time": null,
     "status": "pending"
    },
    "tags": []
   },
   "outputs": [],
   "source": [
    "d[(2,1)]"
   ]
  },
  {
   "cell_type": "markdown",
   "id": "49e01ce9",
   "metadata": {
    "papermill": {
     "duration": null,
     "end_time": null,
     "exception": null,
     "start_time": null,
     "status": "pending"
    },
    "tags": []
   },
   "source": [
    "> Recall from the discussion on tuples that one rationale for using a tuple instead of a list is that there are circumstances where an immutable type is required. This is one of them."
   ]
  },
  {
   "cell_type": "markdown",
   "id": "ab78c7a3",
   "metadata": {
    "papermill": {
     "duration": null,
     "end_time": null,
     "exception": null,
     "start_time": null,
     "status": "pending"
    },
    "tags": []
   },
   "source": [
    "However, neither a list nor another dictionary can serve as a dictionary key, because lists and dictionaries are mutable:"
   ]
  },
  {
   "cell_type": "code",
   "execution_count": null,
   "id": "3ac5618e",
   "metadata": {
    "papermill": {
     "duration": null,
     "end_time": null,
     "exception": null,
     "start_time": null,
     "status": "pending"
    },
    "tags": []
   },
   "outputs": [],
   "source": [
    "d = {[1, 1]: 'a', [1, 2]: 'b', [2, 1]: 'c', [2, 2]: 'd'}"
   ]
  },
  {
   "cell_type": "markdown",
   "id": "9acb0bbf",
   "metadata": {
    "papermill": {
     "duration": null,
     "end_time": null,
     "exception": null,
     "start_time": null,
     "status": "pending"
    },
    "tags": []
   },
   "source": [
    "> **Technical Note:** Why does the error message say “unhashable”?\n",
    ">\n",
    "> Technically, it is not quite correct to say an object must be immutable to be used as a dictionary key. More precisely, an object must be hashable, which means it can be passed to a hash function. A hash function takes data of arbitrary size and maps it to a relatively simpler fixed-size value called a hash value (or simply hash), which is used for table lookup and comparison.\n",
    "> \n",
    "> Python’s built-in `hash()` function returns the hash value for an object which is hashable, and raises an exception for an object which isn’t:\n",
    ">\n",
    "```python\n",
    ">>> hash('foo')\n",
    "11132615637596761\n",
    "\n",
    ">>> hash([1, 2, 3])\n",
    "Traceback (most recent call last):\n",
    "  File \"<stdin>\", line 1, in <module>\n",
    "TypeError: unhashable type: 'list'\n",
    "```\n",
    ">\n",
    "> All of the built-in immutable types you have learned about so far are hashable, and the mutable container types (lists and dictionaries) are not. So for present purposes, you can think of hashable and immutable as more or less synonymous.\n",
    "> \n",
    "> In future tutorials, you will encounter mutable objects which are also hashable."
   ]
  },
  {
   "cell_type": "markdown",
   "id": "8840e214",
   "metadata": {
    "papermill": {
     "duration": null,
     "end_time": null,
     "exception": null,
     "start_time": null,
     "status": "pending"
    },
    "tags": []
   },
   "source": [
    "<a class=\"anchor\" id=\"restrictions_on_dictionary_values\"></a>\n",
    "## Restrictions on Dictionary Values\n",
    "By contrast, there are no restrictions on dictionary values. Literally none at all. A dictionary value can be any type of object Python supports, including mutable types like lists and dictionaries, and user-defined objects, which you will learn about in upcoming tutorials."
   ]
  },
  {
   "cell_type": "markdown",
   "id": "b1387a20",
   "metadata": {
    "papermill": {
     "duration": null,
     "end_time": null,
     "exception": null,
     "start_time": null,
     "status": "pending"
    },
    "tags": []
   },
   "source": [
    "There is also no restriction against a particular value appearing in a dictionary multiple times:"
   ]
  },
  {
   "cell_type": "code",
   "execution_count": null,
   "id": "13ca857d",
   "metadata": {
    "papermill": {
     "duration": null,
     "end_time": null,
     "exception": null,
     "start_time": null,
     "status": "pending"
    },
    "tags": []
   },
   "outputs": [],
   "source": [
    "d = {0: 'a', 1: 'a', 2: 'a', 3: 'a'}\n",
    "d"
   ]
  },
  {
   "cell_type": "code",
   "execution_count": null,
   "id": "9b03a119",
   "metadata": {
    "papermill": {
     "duration": null,
     "end_time": null,
     "exception": null,
     "start_time": null,
     "status": "pending"
    },
    "tags": []
   },
   "outputs": [],
   "source": [
    "d[0] == d[1] == d[2]"
   ]
  },
  {
   "cell_type": "markdown",
   "id": "224fd9eb",
   "metadata": {
    "papermill": {
     "duration": null,
     "end_time": null,
     "exception": null,
     "start_time": null,
     "status": "pending"
    },
    "tags": []
   },
   "source": [
    "<a class=\"anchor\" id=\"conclusion\"></a>\n",
    "## Conclusion \n",
    "In this tutorial, you covered the basic properties of the Python **dictionary** and learned how to access and manipulate dictionary data."
   ]
  },
  {
   "cell_type": "markdown",
   "id": "c6c47900",
   "metadata": {
    "papermill": {
     "duration": null,
     "end_time": null,
     "exception": null,
     "start_time": null,
     "status": "pending"
    },
    "tags": []
   },
   "source": [
    "**Lists** and **dictionaries** are two of the most frequently used Python types. As you have seen, they have several similarities, but differ in how their elements are accessed. Lists elements are accessed by numerical index based on order, and dictionary elements are accessed by key"
   ]
  },
  {
   "cell_type": "markdown",
   "id": "f853bfd0",
   "metadata": {
    "papermill": {
     "duration": null,
     "end_time": null,
     "exception": null,
     "start_time": null,
     "status": "pending"
    },
    "tags": []
   },
   "source": [
    "Because of this difference, lists and dictionaries tend to be appropriate for different circumstances. You should now have a good feel for which, if either, would be best for a given situation."
   ]
  },
  {
   "cell_type": "markdown",
   "id": "a56e34cd",
   "metadata": {
    "papermill": {
     "duration": null,
     "end_time": null,
     "exception": null,
     "start_time": null,
     "status": "pending"
    },
    "tags": []
   },
   "source": [
    "Next you will learn about Python **sets**. The set is another composite data type, but it is quite different from either a list or dictionary."
   ]
  }
 ],
 "metadata": {
  "kernelspec": {
   "display_name": "Python 3",
   "language": "python",
   "name": "python3"
  },
  "language_info": {
   "codemirror_mode": {
    "name": "ipython",
    "version": 3
   },
   "file_extension": ".py",
   "mimetype": "text/x-python",
   "name": "python",
   "nbconvert_exporter": "python",
   "pygments_lexer": "ipython3",
   "version": "3.10.12"
  },
  "papermill": {
   "default_parameters": {},
   "duration": 4.341689,
   "end_time": "2023-10-15T07:26:23.543674",
   "environment_variables": {},
   "exception": true,
   "input_path": "__notebook__.ipynb",
   "output_path": "__notebook__.ipynb",
   "parameters": {},
   "start_time": "2023-10-15T07:26:19.201985",
   "version": "2.4.0"
  }
 },
 "nbformat": 4,
 "nbformat_minor": 5
}
