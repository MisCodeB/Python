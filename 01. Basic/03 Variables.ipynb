{
 "cells": [
  {
   "cell_type": "markdown",
   "id": "c7a612ab",
   "metadata": {
    "papermill": {
     "duration": 0.012599,
     "end_time": "2023-10-14T20:06:01.963703",
     "exception": false,
     "start_time": "2023-10-14T20:06:01.951104",
     "status": "completed"
    },
    "tags": []
   },
   "source": []
  },
  {
   "cell_type": "markdown",
   "id": "cc85eb84",
   "metadata": {
    "papermill": {
     "duration": 0.012262,
     "end_time": "2023-10-14T20:06:01.988023",
     "exception": false,
     "start_time": "2023-10-14T20:06:01.975761",
     "status": "completed"
    },
    "tags": []
   },
   "source": [
    " Variables in Python \n",
    "\n",
    "In the previous tutorial on Basic Data Types in Python, you saw how values of various Python data types can be created. But so far, all the values shown have been literal or constant values:"
   ]
  },
  {
   "cell_type": "markdown",
   "id": "9caf55b0",
   "metadata": {
    "papermill": {
     "duration": 0.012379,
     "end_time": "2023-10-14T20:06:02.013022",
     "exception": false,
     "start_time": "2023-10-14T20:06:02.000643",
     "status": "completed"
    },
    "tags": []
   },
   "source": [
    " Table of Contents \n",
    "* [Variable Assignment](#variable_assignment)\n",
    "* [Variable Types in Python](#variable_types_in_python)\n",
    "* [Object References](#object_references)\n",
    "* [Object Identity](#object_identity)\n",
    "* [Variable Names](#variable_names)\n",
    "* [Reserved Words (Keywords)](#reserved_words_(keywords))\n",
    "* [Conclusion](#conclusion)\n",
    "\n",
    "---"
   ]
  },
  {
   "cell_type": "code",
   "execution_count": 1,
   "id": "639ca3ef",
   "metadata": {
    "execution": {
     "iopub.execute_input": "2023-10-14T20:06:02.040463Z",
     "iopub.status.busy": "2023-10-14T20:06:02.039664Z",
     "iopub.status.idle": "2023-10-14T20:06:02.050335Z",
     "shell.execute_reply": "2023-10-14T20:06:02.049268Z"
    },
    "papermill": {
     "duration": 0.02693,
     "end_time": "2023-10-14T20:06:02.052535",
     "exception": false,
     "start_time": "2023-10-14T20:06:02.025605",
     "status": "completed"
    },
    "tags": []
   },
   "outputs": [
    {
     "name": "stdout",
     "output_type": "stream",
     "text": [
      "5.3\n"
     ]
    }
   ],
   "source": [
    "print(5.3)"
   ]
  },
  {
   "cell_type": "markdown",
   "id": "30dc18d2",
   "metadata": {
    "papermill": {
     "duration": 0.011718,
     "end_time": "2023-10-14T20:06:02.076794",
     "exception": false,
     "start_time": "2023-10-14T20:06:02.065076",
     "status": "completed"
    },
    "tags": []
   },
   "source": [
    "If you’re writing more complex code, your program will need data that can change as program execution proceeds."
   ]
  },
  {
   "cell_type": "markdown",
   "id": "52108f0d",
   "metadata": {
    "papermill": {
     "duration": 0.011515,
     "end_time": "2023-10-14T20:06:02.100201",
     "exception": false,
     "start_time": "2023-10-14T20:06:02.088686",
     "status": "completed"
    },
    "tags": []
   },
   "source": [
    "<a class=\"anchor\" id=\"variable_assignment\"></a>\n",
    "## Variable Assignment\n",
    "\n",
    "Think of a variable as a name attached to a particular object. In Python, variables need not be declared or defined in advance, as is the case in many other programming languages. To create a variable, you just assign it a value and then start using it. Assignment is done with a single equals sign (`=`):"
   ]
  },
  {
   "cell_type": "code",
   "execution_count": 2,
   "id": "073204ae",
   "metadata": {
    "execution": {
     "iopub.execute_input": "2023-10-14T20:06:02.126760Z",
     "iopub.status.busy": "2023-10-14T20:06:02.126411Z",
     "iopub.status.idle": "2023-10-14T20:06:02.131046Z",
     "shell.execute_reply": "2023-10-14T20:06:02.129949Z"
    },
    "papermill": {
     "duration": 0.020996,
     "end_time": "2023-10-14T20:06:02.132922",
     "exception": false,
     "start_time": "2023-10-14T20:06:02.111926",
     "status": "completed"
    },
    "tags": []
   },
   "outputs": [],
   "source": [
    "n = 300"
   ]
  },
  {
   "cell_type": "markdown",
   "id": "a3cda6de",
   "metadata": {
    "papermill": {
     "duration": 0.01203,
     "end_time": "2023-10-14T20:06:02.157069",
     "exception": false,
     "start_time": "2023-10-14T20:06:02.145039",
     "status": "completed"
    },
    "tags": []
   },
   "source": [
    "This is read or interpreted as “n is assigned the value 300.” Once this is done, n can be used in a statement or expression, and its value will be substituted:"
   ]
  },
  {
   "cell_type": "code",
   "execution_count": 3,
   "id": "ef17fe34",
   "metadata": {
    "execution": {
     "iopub.execute_input": "2023-10-14T20:06:02.184394Z",
     "iopub.status.busy": "2023-10-14T20:06:02.184053Z",
     "iopub.status.idle": "2023-10-14T20:06:02.188907Z",
     "shell.execute_reply": "2023-10-14T20:06:02.188124Z"
    },
    "papermill": {
     "duration": 0.020025,
     "end_time": "2023-10-14T20:06:02.190770",
     "exception": false,
     "start_time": "2023-10-14T20:06:02.170745",
     "status": "completed"
    },
    "tags": []
   },
   "outputs": [
    {
     "name": "stdout",
     "output_type": "stream",
     "text": [
      "300\n"
     ]
    }
   ],
   "source": [
    "print(n)"
   ]
  },
  {
   "cell_type": "markdown",
   "id": "a1cc2701",
   "metadata": {
    "papermill": {
     "duration": 0.011887,
     "end_time": "2023-10-14T20:06:02.272231",
     "exception": false,
     "start_time": "2023-10-14T20:06:02.260344",
     "status": "completed"
    },
    "tags": []
   },
   "source": [
    "Just as a literal value can be displayed directly from the interpreter prompt in a REPL session without the need for `print()`, so can a variable:"
   ]
  },
  {
   "cell_type": "code",
   "execution_count": 4,
   "id": "86a236c2",
   "metadata": {
    "execution": {
     "iopub.execute_input": "2023-10-14T20:06:02.297882Z",
     "iopub.status.busy": "2023-10-14T20:06:02.297529Z",
     "iopub.status.idle": "2023-10-14T20:06:02.304391Z",
     "shell.execute_reply": "2023-10-14T20:06:02.303236Z"
    },
    "papermill": {
     "duration": 0.022484,
     "end_time": "2023-10-14T20:06:02.306781",
     "exception": false,
     "start_time": "2023-10-14T20:06:02.284297",
     "status": "completed"
    },
    "tags": []
   },
   "outputs": [
    {
     "data": {
      "text/plain": [
       "300"
      ]
     },
     "execution_count": 4,
     "metadata": {},
     "output_type": "execute_result"
    }
   ],
   "source": [
    "n"
   ]
  },
  {
   "cell_type": "markdown",
   "id": "bb13d5e4",
   "metadata": {
    "papermill": {
     "duration": 0.012057,
     "end_time": "2023-10-14T20:06:02.331308",
     "exception": false,
     "start_time": "2023-10-14T20:06:02.319251",
     "status": "completed"
    },
    "tags": []
   },
   "source": [
    "Later, if you change the value of `n` and use it again, the new value will be substituted instead:"
   ]
  },
  {
   "cell_type": "code",
   "execution_count": 5,
   "id": "f9267524",
   "metadata": {
    "execution": {
     "iopub.execute_input": "2023-10-14T20:06:02.358306Z",
     "iopub.status.busy": "2023-10-14T20:06:02.357226Z",
     "iopub.status.idle": "2023-10-14T20:06:02.362315Z",
     "shell.execute_reply": "2023-10-14T20:06:02.361282Z"
    },
    "papermill": {
     "duration": 0.020601,
     "end_time": "2023-10-14T20:06:02.364345",
     "exception": false,
     "start_time": "2023-10-14T20:06:02.343744",
     "status": "completed"
    },
    "tags": []
   },
   "outputs": [],
   "source": [
    "n = 1000"
   ]
  },
  {
   "cell_type": "code",
   "execution_count": 6,
   "id": "ce4fcf45",
   "metadata": {
    "execution": {
     "iopub.execute_input": "2023-10-14T20:06:02.391198Z",
     "iopub.status.busy": "2023-10-14T20:06:02.390854Z",
     "iopub.status.idle": "2023-10-14T20:06:02.395795Z",
     "shell.execute_reply": "2023-10-14T20:06:02.394839Z"
    },
    "papermill": {
     "duration": 0.020938,
     "end_time": "2023-10-14T20:06:02.397993",
     "exception": false,
     "start_time": "2023-10-14T20:06:02.377055",
     "status": "completed"
    },
    "tags": []
   },
   "outputs": [
    {
     "name": "stdout",
     "output_type": "stream",
     "text": [
      "1000\n"
     ]
    }
   ],
   "source": [
    "print(n)"
   ]
  },
  {
   "cell_type": "code",
   "execution_count": 7,
   "id": "538712c7",
   "metadata": {
    "execution": {
     "iopub.execute_input": "2023-10-14T20:06:02.424950Z",
     "iopub.status.busy": "2023-10-14T20:06:02.424054Z",
     "iopub.status.idle": "2023-10-14T20:06:02.430739Z",
     "shell.execute_reply": "2023-10-14T20:06:02.429734Z"
    },
    "papermill": {
     "duration": 0.022562,
     "end_time": "2023-10-14T20:06:02.433072",
     "exception": false,
     "start_time": "2023-10-14T20:06:02.410510",
     "status": "completed"
    },
    "tags": []
   },
   "outputs": [
    {
     "data": {
      "text/plain": [
       "1000"
      ]
     },
     "execution_count": 7,
     "metadata": {},
     "output_type": "execute_result"
    }
   ],
   "source": [
    "n"
   ]
  },
  {
   "cell_type": "markdown",
   "id": "ac9329c3",
   "metadata": {
    "papermill": {
     "duration": 0.013042,
     "end_time": "2023-10-14T20:06:02.460432",
     "exception": false,
     "start_time": "2023-10-14T20:06:02.447390",
     "status": "completed"
    },
    "tags": []
   },
   "source": [
    "Python also allows chained assignment, which makes it possible to assign the same value to several variables simultaneously:"
   ]
  },
  {
   "cell_type": "code",
   "execution_count": 8,
   "id": "2c2d9363",
   "metadata": {
    "execution": {
     "iopub.execute_input": "2023-10-14T20:06:02.489757Z",
     "iopub.status.busy": "2023-10-14T20:06:02.489441Z",
     "iopub.status.idle": "2023-10-14T20:06:02.493414Z",
     "shell.execute_reply": "2023-10-14T20:06:02.492586Z"
    },
    "papermill": {
     "duration": 0.020299,
     "end_time": "2023-10-14T20:06:02.495372",
     "exception": false,
     "start_time": "2023-10-14T20:06:02.475073",
     "status": "completed"
    },
    "tags": []
   },
   "outputs": [],
   "source": [
    "a = b = c = 300"
   ]
  },
  {
   "cell_type": "code",
   "execution_count": 9,
   "id": "70f93533",
   "metadata": {
    "execution": {
     "iopub.execute_input": "2023-10-14T20:06:02.524180Z",
     "iopub.status.busy": "2023-10-14T20:06:02.523313Z",
     "iopub.status.idle": "2023-10-14T20:06:02.528515Z",
     "shell.execute_reply": "2023-10-14T20:06:02.527374Z"
    },
    "papermill": {
     "duration": 0.022499,
     "end_time": "2023-10-14T20:06:02.530936",
     "exception": false,
     "start_time": "2023-10-14T20:06:02.508437",
     "status": "completed"
    },
    "tags": []
   },
   "outputs": [
    {
     "name": "stdout",
     "output_type": "stream",
     "text": [
      "300 300 300\n"
     ]
    }
   ],
   "source": [
    "print(a, b, c)"
   ]
  },
  {
   "cell_type": "markdown",
   "id": "ae580a53",
   "metadata": {
    "papermill": {
     "duration": 0.012678,
     "end_time": "2023-10-14T20:06:02.557123",
     "exception": false,
     "start_time": "2023-10-14T20:06:02.544445",
     "status": "completed"
    },
    "tags": []
   },
   "source": [
    "The chained assignment above assigns 300 to the variables `a`, `b`, and `c` simultaneously."
   ]
  },
  {
   "cell_type": "markdown",
   "id": "3f3aa19d",
   "metadata": {
    "papermill": {
     "duration": 0.012842,
     "end_time": "2023-10-14T20:06:02.583476",
     "exception": false,
     "start_time": "2023-10-14T20:06:02.570634",
     "status": "completed"
    },
    "tags": []
   },
   "source": [
    "<a class=\"anchor\" id=\"variable_types_in_python\"></a>\n",
    "## Variable Types in Python\n",
    "\n",
    "In many programming languages, variables are statically typed. That means a variable is initially declared to have a specific data type, and any value assigned to it during its lifetime must always have that type."
   ]
  },
  {
   "cell_type": "markdown",
   "id": "75b40ceb",
   "metadata": {
    "papermill": {
     "duration": 0.013009,
     "end_time": "2023-10-14T20:06:02.609652",
     "exception": false,
     "start_time": "2023-10-14T20:06:02.596643",
     "status": "completed"
    },
    "tags": []
   },
   "source": [
    "Variables in Python are not subject to this restriction. In Python, a variable may be assigned a value of one type and then later re-assigned a value of a different type:"
   ]
  },
  {
   "cell_type": "code",
   "execution_count": 10,
   "id": "61d5ea10",
   "metadata": {
    "execution": {
     "iopub.execute_input": "2023-10-14T20:06:02.638933Z",
     "iopub.status.busy": "2023-10-14T20:06:02.637930Z",
     "iopub.status.idle": "2023-10-14T20:06:02.642257Z",
     "shell.execute_reply": "2023-10-14T20:06:02.641427Z"
    },
    "papermill": {
     "duration": 0.021084,
     "end_time": "2023-10-14T20:06:02.644351",
     "exception": false,
     "start_time": "2023-10-14T20:06:02.623267",
     "status": "completed"
    },
    "tags": []
   },
   "outputs": [],
   "source": [
    "var = 23.5"
   ]
  },
  {
   "cell_type": "code",
   "execution_count": 11,
   "id": "984a4b0f",
   "metadata": {
    "execution": {
     "iopub.execute_input": "2023-10-14T20:06:02.676153Z",
     "iopub.status.busy": "2023-10-14T20:06:02.674895Z",
     "iopub.status.idle": "2023-10-14T20:06:02.682041Z",
     "shell.execute_reply": "2023-10-14T20:06:02.681233Z"
    },
    "papermill": {
     "duration": 0.024456,
     "end_time": "2023-10-14T20:06:02.683850",
     "exception": false,
     "start_time": "2023-10-14T20:06:02.659394",
     "status": "completed"
    },
    "tags": []
   },
   "outputs": [
    {
     "data": {
      "text/plain": [
       "float"
      ]
     },
     "execution_count": 11,
     "metadata": {},
     "output_type": "execute_result"
    }
   ],
   "source": [
    "type(var)"
   ]
  },
  {
   "cell_type": "code",
   "execution_count": 12,
   "id": "de8d0294",
   "metadata": {
    "execution": {
     "iopub.execute_input": "2023-10-14T20:06:02.711375Z",
     "iopub.status.busy": "2023-10-14T20:06:02.711012Z",
     "iopub.status.idle": "2023-10-14T20:06:02.716019Z",
     "shell.execute_reply": "2023-10-14T20:06:02.714941Z"
    },
    "papermill": {
     "duration": 0.021457,
     "end_time": "2023-10-14T20:06:02.718268",
     "exception": false,
     "start_time": "2023-10-14T20:06:02.696811",
     "status": "completed"
    },
    "tags": []
   },
   "outputs": [
    {
     "name": "stdout",
     "output_type": "stream",
     "text": [
      "23.5\n"
     ]
    }
   ],
   "source": [
    "print(var)"
   ]
  },
  {
   "cell_type": "code",
   "execution_count": 13,
   "id": "86437a64",
   "metadata": {
    "execution": {
     "iopub.execute_input": "2023-10-14T20:06:02.746962Z",
     "iopub.status.busy": "2023-10-14T20:06:02.746601Z",
     "iopub.status.idle": "2023-10-14T20:06:02.750334Z",
     "shell.execute_reply": "2023-10-14T20:06:02.749532Z"
    },
    "papermill": {
     "duration": 0.020181,
     "end_time": "2023-10-14T20:06:02.752271",
     "exception": false,
     "start_time": "2023-10-14T20:06:02.732090",
     "status": "completed"
    },
    "tags": []
   },
   "outputs": [],
   "source": [
    "var = \"Now I'm a string\""
   ]
  },
  {
   "cell_type": "code",
   "execution_count": 14,
   "id": "b6fbe4c9",
   "metadata": {
    "execution": {
     "iopub.execute_input": "2023-10-14T20:06:02.781071Z",
     "iopub.status.busy": "2023-10-14T20:06:02.780236Z",
     "iopub.status.idle": "2023-10-14T20:06:02.785200Z",
     "shell.execute_reply": "2023-10-14T20:06:02.784251Z"
    },
    "papermill": {
     "duration": 0.021737,
     "end_time": "2023-10-14T20:06:02.787227",
     "exception": false,
     "start_time": "2023-10-14T20:06:02.765490",
     "status": "completed"
    },
    "tags": []
   },
   "outputs": [
    {
     "name": "stdout",
     "output_type": "stream",
     "text": [
      "Now I'm a string\n"
     ]
    }
   ],
   "source": [
    "print(var)"
   ]
  },
  {
   "cell_type": "markdown",
   "id": "e22dd03b",
   "metadata": {
    "papermill": {
     "duration": 0.012963,
     "end_time": "2023-10-14T20:06:02.813890",
     "exception": false,
     "start_time": "2023-10-14T20:06:02.800927",
     "status": "completed"
    },
    "tags": []
   },
   "source": [
    "<a class=\"anchor\" id=\"object_references\"></a>\n",
    "## Object References\n",
    "\n",
    "What is actually happening when you make a variable assignment? This is an important question in Python, because the answer differs somewhat from what you’d find in many other programming languages."
   ]
  },
  {
   "cell_type": "markdown",
   "id": "0d13d117",
   "metadata": {
    "papermill": {
     "duration": 0.0129,
     "end_time": "2023-10-14T20:06:02.840587",
     "exception": false,
     "start_time": "2023-10-14T20:06:02.827687",
     "status": "completed"
    },
    "tags": []
   },
   "source": [
    "Python is a highly [object-oriented language](https://realpython.com/python3-object-oriented-programming/). In fact, virtually every item of data in a Python program is an object of a specific type or class. (This point will be reiterated many times over the course of these tutorials.)"
   ]
  },
  {
   "cell_type": "markdown",
   "id": "8d15f541",
   "metadata": {
    "papermill": {
     "duration": 0.014091,
     "end_time": "2023-10-14T20:06:02.867708",
     "exception": false,
     "start_time": "2023-10-14T20:06:02.853617",
     "status": "completed"
    },
    "tags": []
   },
   "source": [
    "Consider this code:"
   ]
  },
  {
   "cell_type": "code",
   "execution_count": 15,
   "id": "0a102fe7",
   "metadata": {
    "execution": {
     "iopub.execute_input": "2023-10-14T20:06:02.896764Z",
     "iopub.status.busy": "2023-10-14T20:06:02.896389Z",
     "iopub.status.idle": "2023-10-14T20:06:02.900570Z",
     "shell.execute_reply": "2023-10-14T20:06:02.899919Z"
    },
    "papermill": {
     "duration": 0.02093,
     "end_time": "2023-10-14T20:06:02.902654",
     "exception": false,
     "start_time": "2023-10-14T20:06:02.881724",
     "status": "completed"
    },
    "tags": []
   },
   "outputs": [
    {
     "name": "stdout",
     "output_type": "stream",
     "text": [
      "300\n"
     ]
    }
   ],
   "source": [
    "print(300)"
   ]
  },
  {
   "cell_type": "markdown",
   "id": "57524136",
   "metadata": {
    "papermill": {
     "duration": 0.013444,
     "end_time": "2023-10-14T20:06:02.929423",
     "exception": false,
     "start_time": "2023-10-14T20:06:02.915979",
     "status": "completed"
    },
    "tags": []
   },
   "source": [
    "When presented with the statement `print(300)`, the interpreter does the following:\n",
    "\n",
    "- Creates an integer object\n",
    "- Gives it the value `300`\n",
    "- Displays it to the console"
   ]
  },
  {
   "cell_type": "markdown",
   "id": "030c00a8",
   "metadata": {
    "papermill": {
     "duration": 0.013031,
     "end_time": "2023-10-14T20:06:02.956054",
     "exception": false,
     "start_time": "2023-10-14T20:06:02.943023",
     "status": "completed"
    },
    "tags": []
   },
   "source": [
    "You can see that an integer object is created using the built-in `type()` function:"
   ]
  },
  {
   "cell_type": "code",
   "execution_count": 16,
   "id": "da0ad1b2",
   "metadata": {
    "execution": {
     "iopub.execute_input": "2023-10-14T20:06:02.985348Z",
     "iopub.status.busy": "2023-10-14T20:06:02.985001Z",
     "iopub.status.idle": "2023-10-14T20:06:02.990431Z",
     "shell.execute_reply": "2023-10-14T20:06:02.989687Z"
    },
    "papermill": {
     "duration": 0.023348,
     "end_time": "2023-10-14T20:06:02.992590",
     "exception": false,
     "start_time": "2023-10-14T20:06:02.969242",
     "status": "completed"
    },
    "tags": []
   },
   "outputs": [
    {
     "data": {
      "text/plain": [
       "int"
      ]
     },
     "execution_count": 16,
     "metadata": {},
     "output_type": "execute_result"
    }
   ],
   "source": [
    "type(300)"
   ]
  },
  {
   "cell_type": "markdown",
   "id": "7e9f0ec9",
   "metadata": {
    "papermill": {
     "duration": 0.013374,
     "end_time": "2023-10-14T20:06:03.019475",
     "exception": false,
     "start_time": "2023-10-14T20:06:03.006101",
     "status": "completed"
    },
    "tags": []
   },
   "source": [
    "A Python variable is a symbolic name that is a reference or [pointer](https://realpython.com/pointers-in-python/) to an object. Once an object is assigned to a variable, you can refer to the object by that name. But the data itself is still contained within the object."
   ]
  },
  {
   "cell_type": "markdown",
   "id": "68fb5986",
   "metadata": {
    "papermill": {
     "duration": 0.013312,
     "end_time": "2023-10-14T20:06:03.046959",
     "exception": false,
     "start_time": "2023-10-14T20:06:03.033647",
     "status": "completed"
    },
    "tags": []
   },
   "source": [
    "For example:"
   ]
  },
  {
   "cell_type": "code",
   "execution_count": 17,
   "id": "92f950bb",
   "metadata": {
    "execution": {
     "iopub.execute_input": "2023-10-14T20:06:03.076267Z",
     "iopub.status.busy": "2023-10-14T20:06:03.075477Z",
     "iopub.status.idle": "2023-10-14T20:06:03.079520Z",
     "shell.execute_reply": "2023-10-14T20:06:03.078819Z"
    },
    "papermill": {
     "duration": 0.020578,
     "end_time": "2023-10-14T20:06:03.081530",
     "exception": false,
     "start_time": "2023-10-14T20:06:03.060952",
     "status": "completed"
    },
    "tags": []
   },
   "outputs": [],
   "source": [
    "n = 300"
   ]
  },
  {
   "cell_type": "markdown",
   "id": "9f2b6976",
   "metadata": {
    "papermill": {
     "duration": 0.013197,
     "end_time": "2023-10-14T20:06:03.108525",
     "exception": false,
     "start_time": "2023-10-14T20:06:03.095328",
     "status": "completed"
    },
    "tags": []
   },
   "source": [
    "This assignment creates an integer object with the value `300` and assigns the variable `n` to point to that object."
   ]
  },
  {
   "cell_type": "markdown",
   "id": "c592e474",
   "metadata": {
    "papermill": {
     "duration": 0.01355,
     "end_time": "2023-10-14T20:06:03.135615",
     "exception": false,
     "start_time": "2023-10-14T20:06:03.122065",
     "status": "completed"
    },
    "tags": []
   },
   "source": []
  },
  {
   "cell_type": "markdown",
   "id": "c4245d94",
   "metadata": {
    "papermill": {
     "duration": 0.013166,
     "end_time": "2023-10-14T20:06:03.162301",
     "exception": false,
     "start_time": "2023-10-14T20:06:03.149135",
     "status": "completed"
    },
    "tags": []
   },
   "source": [
    "The following code verifies that `n` points to an integer object:"
   ]
  },
  {
   "cell_type": "code",
   "execution_count": 18,
   "id": "7af4818c",
   "metadata": {
    "execution": {
     "iopub.execute_input": "2023-10-14T20:06:03.191485Z",
     "iopub.status.busy": "2023-10-14T20:06:03.190859Z",
     "iopub.status.idle": "2023-10-14T20:06:03.195650Z",
     "shell.execute_reply": "2023-10-14T20:06:03.194937Z"
    },
    "papermill": {
     "duration": 0.021635,
     "end_time": "2023-10-14T20:06:03.197441",
     "exception": false,
     "start_time": "2023-10-14T20:06:03.175806",
     "status": "completed"
    },
    "tags": []
   },
   "outputs": [
    {
     "data": {
      "text/plain": [
       "int"
      ]
     },
     "execution_count": 18,
     "metadata": {},
     "output_type": "execute_result"
    }
   ],
   "source": [
    "type(n)"
   ]
  },
  {
   "cell_type": "markdown",
   "id": "ab006b76",
   "metadata": {
    "papermill": {
     "duration": 0.013171,
     "end_time": "2023-10-14T20:06:03.224574",
     "exception": false,
     "start_time": "2023-10-14T20:06:03.211403",
     "status": "completed"
    },
    "tags": []
   },
   "source": [
    "Now consider the following statement:"
   ]
  },
  {
   "cell_type": "code",
   "execution_count": 19,
   "id": "cf69f551",
   "metadata": {
    "execution": {
     "iopub.execute_input": "2023-10-14T20:06:03.253675Z",
     "iopub.status.busy": "2023-10-14T20:06:03.253107Z",
     "iopub.status.idle": "2023-10-14T20:06:03.257959Z",
     "shell.execute_reply": "2023-10-14T20:06:03.256595Z"
    },
    "papermill": {
     "duration": 0.022196,
     "end_time": "2023-10-14T20:06:03.260319",
     "exception": false,
     "start_time": "2023-10-14T20:06:03.238123",
     "status": "completed"
    },
    "tags": []
   },
   "outputs": [],
   "source": [
    "m = n"
   ]
  },
  {
   "cell_type": "markdown",
   "id": "cda59462",
   "metadata": {
    "papermill": {
     "duration": 0.013273,
     "end_time": "2023-10-14T20:06:03.287636",
     "exception": false,
     "start_time": "2023-10-14T20:06:03.274363",
     "status": "completed"
    },
    "tags": []
   },
   "source": [
    "What happens when it is executed? Python does not create another object. It simply creates a new symbolic name or reference, `m`, which points to the same object that `n` points to."
   ]
  },
  {
   "cell_type": "markdown",
   "id": "1792f1eb",
   "metadata": {
    "papermill": {
     "duration": 0.013202,
     "end_time": "2023-10-14T20:06:03.314599",
     "exception": false,
     "start_time": "2023-10-14T20:06:03.301397",
     "status": "completed"
    },
    "tags": []
   },
   "source": []
  },
  {
   "cell_type": "markdown",
   "id": "a948cd31",
   "metadata": {
    "papermill": {
     "duration": 0.013244,
     "end_time": "2023-10-14T20:06:03.341441",
     "exception": false,
     "start_time": "2023-10-14T20:06:03.328197",
     "status": "completed"
    },
    "tags": []
   },
   "source": [
    "Next, suppose you do this:"
   ]
  },
  {
   "cell_type": "code",
   "execution_count": 20,
   "id": "98618cbb",
   "metadata": {
    "execution": {
     "iopub.execute_input": "2023-10-14T20:06:03.371960Z",
     "iopub.status.busy": "2023-10-14T20:06:03.371004Z",
     "iopub.status.idle": "2023-10-14T20:06:03.375918Z",
     "shell.execute_reply": "2023-10-14T20:06:03.375181Z"
    },
    "papermill": {
     "duration": 0.022907,
     "end_time": "2023-10-14T20:06:03.377886",
     "exception": false,
     "start_time": "2023-10-14T20:06:03.354979",
     "status": "completed"
    },
    "tags": []
   },
   "outputs": [],
   "source": [
    "m = 400"
   ]
  },
  {
   "cell_type": "markdown",
   "id": "b4f4480d",
   "metadata": {
    "papermill": {
     "duration": 0.014255,
     "end_time": "2023-10-14T20:06:03.405856",
     "exception": false,
     "start_time": "2023-10-14T20:06:03.391601",
     "status": "completed"
    },
    "tags": []
   },
   "source": [
    "Now Python creates a new integer object with the value 400, and m becomes a reference to it."
   ]
  },
  {
   "cell_type": "markdown",
   "id": "ba700f19",
   "metadata": {
    "papermill": {
     "duration": 0.013557,
     "end_time": "2023-10-14T20:06:03.433635",
     "exception": false,
     "start_time": "2023-10-14T20:06:03.420078",
     "status": "completed"
    },
    "tags": []
   },
   "source": []
  },
  {
   "cell_type": "markdown",
   "id": "641f9850",
   "metadata": {
    "papermill": {
     "duration": 0.013686,
     "end_time": "2023-10-14T20:06:03.460954",
     "exception": false,
     "start_time": "2023-10-14T20:06:03.447268",
     "status": "completed"
    },
    "tags": []
   },
   "source": [
    "Lastly, suppose this statement is executed next:"
   ]
  },
  {
   "cell_type": "code",
   "execution_count": 21,
   "id": "4730cbcc",
   "metadata": {
    "execution": {
     "iopub.execute_input": "2023-10-14T20:06:03.489996Z",
     "iopub.status.busy": "2023-10-14T20:06:03.489406Z",
     "iopub.status.idle": "2023-10-14T20:06:03.493766Z",
     "shell.execute_reply": "2023-10-14T20:06:03.492715Z"
    },
    "papermill": {
     "duration": 0.021359,
     "end_time": "2023-10-14T20:06:03.495899",
     "exception": false,
     "start_time": "2023-10-14T20:06:03.474540",
     "status": "completed"
    },
    "tags": []
   },
   "outputs": [],
   "source": [
    "n = \"foo\""
   ]
  },
  {
   "cell_type": "markdown",
   "id": "a8ec8409",
   "metadata": {
    "papermill": {
     "duration": 0.013874,
     "end_time": "2023-10-14T20:06:03.524032",
     "exception": false,
     "start_time": "2023-10-14T20:06:03.510158",
     "status": "completed"
    },
    "tags": []
   },
   "source": [
    "Now Python creates a string object with the value `\"foo\"` and makes `n` reference that."
   ]
  },
  {
   "cell_type": "markdown",
   "id": "fcd777ca",
   "metadata": {
    "papermill": {
     "duration": 0.013605,
     "end_time": "2023-10-14T20:06:03.551384",
     "exception": false,
     "start_time": "2023-10-14T20:06:03.537779",
     "status": "completed"
    },
    "tags": []
   },
   "source": []
  },
  {
   "cell_type": "markdown",
   "id": "23ef4f00",
   "metadata": {
    "papermill": {
     "duration": 0.014964,
     "end_time": "2023-10-14T20:06:03.580011",
     "exception": false,
     "start_time": "2023-10-14T20:06:03.565047",
     "status": "completed"
    },
    "tags": []
   },
   "source": [
    "There is no longer any reference to the integer object 300. It is orphaned, and there is no way to access it."
   ]
  },
  {
   "cell_type": "markdown",
   "id": "30f6c1ab",
   "metadata": {
    "papermill": {
     "duration": 0.014555,
     "end_time": "2023-10-14T20:06:03.608519",
     "exception": false,
     "start_time": "2023-10-14T20:06:03.593964",
     "status": "completed"
    },
    "tags": []
   },
   "source": [
    "Tutorials in this series will occasionally refer to the lifetime of an object. An object’s life begins when it is created, at which time at least one reference to it is created. During an object’s lifetime, additional references to it may be created, as you saw above, and references to it may be deleted as well. An object stays alive, as it were, so long as there is at least one reference to it."
   ]
  },
  {
   "cell_type": "markdown",
   "id": "b3d8b2cc",
   "metadata": {
    "papermill": {
     "duration": 0.014703,
     "end_time": "2023-10-14T20:06:03.636964",
     "exception": false,
     "start_time": "2023-10-14T20:06:03.622261",
     "status": "completed"
    },
    "tags": []
   },
   "source": [
    "When the number of references to an object drops to zero, it is no longer accessible. At that point, its lifetime is over. Python will eventually notice that it is inaccessible and reclaim the allocated memory so it can be used for something else. In computer lingo, this process is referred to as [garbage collection](https://en.wikipedia.org/wiki/Garbage_collection_%28computer_science%29)."
   ]
  },
  {
   "cell_type": "markdown",
   "id": "3134d289",
   "metadata": {
    "papermill": {
     "duration": 0.017138,
     "end_time": "2023-10-14T20:06:03.668310",
     "exception": false,
     "start_time": "2023-10-14T20:06:03.651172",
     "status": "completed"
    },
    "tags": []
   },
   "source": [
    "<a class=\"anchor\" id=\"object_identity\"></a>\n",
    "## Object Identity\n",
    "\n",
    "In Python, every object that is created is given a number that uniquely identifies it. It is guaranteed that no two objects will have the same identifier during any period in which their lifetimes overlap. Once an object’s reference count drops to zero and it is garbage collected, as happened to the `300` object above, then its identifying number becomes available and may be used again."
   ]
  },
  {
   "cell_type": "code",
   "execution_count": 22,
   "id": "8d3ce387",
   "metadata": {
    "execution": {
     "iopub.execute_input": "2023-10-14T20:06:03.697504Z",
     "iopub.status.busy": "2023-10-14T20:06:03.697169Z",
     "iopub.status.idle": "2023-10-14T20:06:03.701287Z",
     "shell.execute_reply": "2023-10-14T20:06:03.700248Z"
    },
    "papermill": {
     "duration": 0.021418,
     "end_time": "2023-10-14T20:06:03.703453",
     "exception": false,
     "start_time": "2023-10-14T20:06:03.682035",
     "status": "completed"
    },
    "tags": []
   },
   "outputs": [],
   "source": [
    "n = 300"
   ]
  },
  {
   "cell_type": "markdown",
   "id": "8513bea1",
   "metadata": {
    "papermill": {
     "duration": 0.013394,
     "end_time": "2023-10-14T20:06:03.730746",
     "exception": false,
     "start_time": "2023-10-14T20:06:03.717352",
     "status": "completed"
    },
    "tags": []
   },
   "source": [
    "The built-in Python function `id()` returns an object’s integer identifier. Using the `id()` function, you can verify that two variables indeed point to the same object:"
   ]
  },
  {
   "cell_type": "code",
   "execution_count": 23,
   "id": "8e9b9c79",
   "metadata": {
    "execution": {
     "iopub.execute_input": "2023-10-14T20:06:03.760853Z",
     "iopub.status.busy": "2023-10-14T20:06:03.760191Z",
     "iopub.status.idle": "2023-10-14T20:06:03.764620Z",
     "shell.execute_reply": "2023-10-14T20:06:03.763463Z"
    },
    "papermill": {
     "duration": 0.022012,
     "end_time": "2023-10-14T20:06:03.766624",
     "exception": false,
     "start_time": "2023-10-14T20:06:03.744612",
     "status": "completed"
    },
    "tags": []
   },
   "outputs": [],
   "source": [
    "n = 300\n",
    "m = n"
   ]
  },
  {
   "cell_type": "code",
   "execution_count": 24,
   "id": "1e6f07ca",
   "metadata": {
    "execution": {
     "iopub.execute_input": "2023-10-14T20:06:03.795902Z",
     "iopub.status.busy": "2023-10-14T20:06:03.795367Z",
     "iopub.status.idle": "2023-10-14T20:06:03.799833Z",
     "shell.execute_reply": "2023-10-14T20:06:03.799159Z"
    },
    "papermill": {
     "duration": 0.02132,
     "end_time": "2023-10-14T20:06:03.801809",
     "exception": false,
     "start_time": "2023-10-14T20:06:03.780489",
     "status": "completed"
    },
    "tags": []
   },
   "outputs": [
    {
     "data": {
      "text/plain": [
       "140716242747088"
      ]
     },
     "execution_count": 24,
     "metadata": {},
     "output_type": "execute_result"
    }
   ],
   "source": [
    "id(n)"
   ]
  },
  {
   "cell_type": "code",
   "execution_count": 25,
   "id": "4bab7d26",
   "metadata": {
    "execution": {
     "iopub.execute_input": "2023-10-14T20:06:03.831847Z",
     "iopub.status.busy": "2023-10-14T20:06:03.831201Z",
     "iopub.status.idle": "2023-10-14T20:06:03.837246Z",
     "shell.execute_reply": "2023-10-14T20:06:03.835805Z"
    },
    "papermill": {
     "duration": 0.023476,
     "end_time": "2023-10-14T20:06:03.839499",
     "exception": false,
     "start_time": "2023-10-14T20:06:03.816023",
     "status": "completed"
    },
    "tags": []
   },
   "outputs": [
    {
     "data": {
      "text/plain": [
       "140716242747088"
      ]
     },
     "execution_count": 25,
     "metadata": {},
     "output_type": "execute_result"
    }
   ],
   "source": [
    "id(m)"
   ]
  },
  {
   "cell_type": "code",
   "execution_count": 26,
   "id": "4eabfa8c",
   "metadata": {
    "execution": {
     "iopub.execute_input": "2023-10-14T20:06:03.870078Z",
     "iopub.status.busy": "2023-10-14T20:06:03.869688Z",
     "iopub.status.idle": "2023-10-14T20:06:03.874768Z",
     "shell.execute_reply": "2023-10-14T20:06:03.873937Z"
    },
    "papermill": {
     "duration": 0.022367,
     "end_time": "2023-10-14T20:06:03.876585",
     "exception": false,
     "start_time": "2023-10-14T20:06:03.854218",
     "status": "completed"
    },
    "tags": []
   },
   "outputs": [
    {
     "data": {
      "text/plain": [
       "True"
      ]
     },
     "execution_count": 26,
     "metadata": {},
     "output_type": "execute_result"
    }
   ],
   "source": [
    "m is n"
   ]
  },
  {
   "cell_type": "code",
   "execution_count": 27,
   "id": "8c73d606",
   "metadata": {
    "execution": {
     "iopub.execute_input": "2023-10-14T20:06:03.907610Z",
     "iopub.status.busy": "2023-10-14T20:06:03.906314Z",
     "iopub.status.idle": "2023-10-14T20:06:03.910843Z",
     "shell.execute_reply": "2023-10-14T20:06:03.910121Z"
    },
    "papermill": {
     "duration": 0.021892,
     "end_time": "2023-10-14T20:06:03.912699",
     "exception": false,
     "start_time": "2023-10-14T20:06:03.890807",
     "status": "completed"
    },
    "tags": []
   },
   "outputs": [],
   "source": [
    "m = 300"
   ]
  },
  {
   "cell_type": "code",
   "execution_count": 28,
   "id": "3037c326",
   "metadata": {
    "execution": {
     "iopub.execute_input": "2023-10-14T20:06:03.942841Z",
     "iopub.status.busy": "2023-10-14T20:06:03.942229Z",
     "iopub.status.idle": "2023-10-14T20:06:03.947915Z",
     "shell.execute_reply": "2023-10-14T20:06:03.946938Z"
    },
    "papermill": {
     "duration": 0.022983,
     "end_time": "2023-10-14T20:06:03.949903",
     "exception": false,
     "start_time": "2023-10-14T20:06:03.926920",
     "status": "completed"
    },
    "tags": []
   },
   "outputs": [
    {
     "data": {
      "text/plain": [
       "140716242746928"
      ]
     },
     "execution_count": 28,
     "metadata": {},
     "output_type": "execute_result"
    }
   ],
   "source": [
    "id(m)"
   ]
  },
  {
   "cell_type": "code",
   "execution_count": 29,
   "id": "51042f55",
   "metadata": {
    "execution": {
     "iopub.execute_input": "2023-10-14T20:06:03.981558Z",
     "iopub.status.busy": "2023-10-14T20:06:03.980825Z",
     "iopub.status.idle": "2023-10-14T20:06:03.985415Z",
     "shell.execute_reply": "2023-10-14T20:06:03.984406Z"
    },
    "papermill": {
     "duration": 0.0232,
     "end_time": "2023-10-14T20:06:03.987506",
     "exception": false,
     "start_time": "2023-10-14T20:06:03.964306",
     "status": "completed"
    },
    "tags": []
   },
   "outputs": [],
   "source": [
    "m = 400"
   ]
  },
  {
   "cell_type": "code",
   "execution_count": 30,
   "id": "39e0bfcf",
   "metadata": {
    "execution": {
     "iopub.execute_input": "2023-10-14T20:06:04.018613Z",
     "iopub.status.busy": "2023-10-14T20:06:04.017637Z",
     "iopub.status.idle": "2023-10-14T20:06:04.023030Z",
     "shell.execute_reply": "2023-10-14T20:06:04.022300Z"
    },
    "papermill": {
     "duration": 0.02284,
     "end_time": "2023-10-14T20:06:04.024929",
     "exception": false,
     "start_time": "2023-10-14T20:06:04.002089",
     "status": "completed"
    },
    "tags": []
   },
   "outputs": [
    {
     "data": {
      "text/plain": [
       "140716242747280"
      ]
     },
     "execution_count": 30,
     "metadata": {},
     "output_type": "execute_result"
    }
   ],
   "source": [
    "id(m)"
   ]
  },
  {
   "cell_type": "markdown",
   "id": "5d9ec687",
   "metadata": {
    "papermill": {
     "duration": 0.014695,
     "end_time": "2023-10-14T20:06:04.054956",
     "exception": false,
     "start_time": "2023-10-14T20:06:04.040261",
     "status": "completed"
    },
    "tags": []
   },
   "source": [
    "After the assignment `m = n`, m and n both point to the same object, confirmed by the fact that `id(m)` and `id(n)` return the same number. Once `m` is reassigned to `400`, `m` and `n` point to different objects with different identities."
   ]
  },
  {
   "cell_type": "markdown",
   "id": "a305c494",
   "metadata": {
    "papermill": {
     "duration": 0.014034,
     "end_time": "2023-10-14T20:06:04.083733",
     "exception": false,
     "start_time": "2023-10-14T20:06:04.069699",
     "status": "completed"
    },
    "tags": []
   },
   "source": [
    "> **Deep Dive: Caching Small Integer Values**\n",
    ">\n",
    "> From what you now know about variable assignment and object references in Python, the following probably won’t surprise you:\n",
    ">\n",
    ">```bash\n",
    ">>> m = 300\n",
    ">>> n = 300\n",
    ">>> id(m)\n",
    "60062304\n",
    ">>> id(n)\n",
    "60062896\n",
    "> ```\n",
    "> With the statement m = 300, Python creates an integer object with the value 300 and sets m as a reference to it. n is then similarly assigned to an integer object with value 300—but not the same object. Thus, they have different identities, which you can verify from the values returned by id().\n",
    ">\n",
    ">But consider this:\n",
    ">\n",
    ">```bash\n",
    ">>> m = 30\n",
    ">>> n = 30\n",
    ">>> id(m)\n",
    "1405569120\n",
    ">>> id(n)\n",
    "1405569120\n",
    ">```\n",
    ">\n",
    "> Here, m and n are separately assigned to integer objects having value 30. But in this case, id(m) and id(n) are identical!\n",
    "> \n",
    "> For purposes of optimization, the interpreter creates objects for the integers in the range `[-5, 256]` at startup, and then reuses them during program execution. Thus, when you assign separate variables to an integer value in this range, they will actually reference the same object."
   ]
  },
  {
   "cell_type": "markdown",
   "id": "9020ed18",
   "metadata": {
    "papermill": {
     "duration": 0.014204,
     "end_time": "2023-10-14T20:06:04.112202",
     "exception": false,
     "start_time": "2023-10-14T20:06:04.097998",
     "status": "completed"
    },
    "tags": []
   },
   "source": [
    "<a class=\"anchor\" id=\"variable_names\"></a>\n",
    "## Variable Names\n",
    "\n",
    "The examples you have seen so far have used short, terse variable names like `m` and `n`. But variable names can be more verbose. In fact, it is usually beneficial if they are because it makes the purpose of the variable more evident at first glance."
   ]
  },
  {
   "cell_type": "markdown",
   "id": "b30d6ad1",
   "metadata": {
    "papermill": {
     "duration": 0.01475,
     "end_time": "2023-10-14T20:06:04.141186",
     "exception": false,
     "start_time": "2023-10-14T20:06:04.126436",
     "status": "completed"
    },
    "tags": []
   },
   "source": [
    "Officially, variable names in Python can be any length and can consist of uppercase and lowercase letters (`A-Z, a-z`), digits (`0-9`), and the underscore character (`_`). An additional restriction is that, although a variable name can contain digits, the first character of a variable name cannot be a digit."
   ]
  },
  {
   "cell_type": "markdown",
   "id": "025b875c",
   "metadata": {
    "papermill": {
     "duration": 0.013986,
     "end_time": "2023-10-14T20:06:04.169469",
     "exception": false,
     "start_time": "2023-10-14T20:06:04.155483",
     "status": "completed"
    },
    "tags": []
   },
   "source": [
    "For example, all of the following are valid variable names:"
   ]
  },
  {
   "cell_type": "code",
   "execution_count": 31,
   "id": "a1d56a0e",
   "metadata": {
    "execution": {
     "iopub.execute_input": "2023-10-14T20:06:04.201426Z",
     "iopub.status.busy": "2023-10-14T20:06:04.200688Z",
     "iopub.status.idle": "2023-10-14T20:06:04.205246Z",
     "shell.execute_reply": "2023-10-14T20:06:04.204497Z"
    },
    "papermill": {
     "duration": 0.022607,
     "end_time": "2023-10-14T20:06:04.207209",
     "exception": false,
     "start_time": "2023-10-14T20:06:04.184602",
     "status": "completed"
    },
    "tags": []
   },
   "outputs": [],
   "source": [
    "name = \"Bob\"\n",
    "Age = 54\n",
    "has_W2 = True"
   ]
  },
  {
   "cell_type": "code",
   "execution_count": 32,
   "id": "32f880d7",
   "metadata": {
    "execution": {
     "iopub.execute_input": "2023-10-14T20:06:04.238053Z",
     "iopub.status.busy": "2023-10-14T20:06:04.237324Z",
     "iopub.status.idle": "2023-10-14T20:06:04.243099Z",
     "shell.execute_reply": "2023-10-14T20:06:04.242130Z"
    },
    "papermill": {
     "duration": 0.023637,
     "end_time": "2023-10-14T20:06:04.245189",
     "exception": false,
     "start_time": "2023-10-14T20:06:04.221552",
     "status": "completed"
    },
    "tags": []
   },
   "outputs": [
    {
     "name": "stdout",
     "output_type": "stream",
     "text": [
      "Bob 54 True\n"
     ]
    }
   ],
   "source": [
    "print(name, Age, has_W2)"
   ]
  },
  {
   "cell_type": "markdown",
   "id": "9dc70ff8",
   "metadata": {
    "papermill": {
     "duration": 0.014164,
     "end_time": "2023-10-14T20:06:04.274219",
     "exception": false,
     "start_time": "2023-10-14T20:06:04.260055",
     "status": "completed"
    },
    "tags": []
   },
   "source": [
    "But this one is not, because a variable name can’t begin with a digit:"
   ]
  },
  {
   "cell_type": "code",
   "execution_count": 33,
   "id": "3dc6a7e9",
   "metadata": {
    "execution": {
     "iopub.execute_input": "2023-10-14T20:06:04.305470Z",
     "iopub.status.busy": "2023-10-14T20:06:04.305075Z",
     "iopub.status.idle": "2023-10-14T20:06:04.311099Z",
     "shell.execute_reply": "2023-10-14T20:06:04.309551Z"
    },
    "papermill": {
     "duration": 0.023824,
     "end_time": "2023-10-14T20:06:04.312776",
     "exception": true,
     "start_time": "2023-10-14T20:06:04.288952",
     "status": "failed"
    },
    "tags": []
   },
   "outputs": [
    {
     "ename": "SyntaxError",
     "evalue": "invalid decimal literal (4226384492.py, line 1)",
     "output_type": "error",
     "traceback": [
      "\u001b[0;36m  Cell \u001b[0;32mIn[33], line 1\u001b[0;36m\u001b[0m\n\u001b[0;31m    1099_filed = False\u001b[0m\n\u001b[0m        ^\u001b[0m\n\u001b[0;31mSyntaxError\u001b[0m\u001b[0;31m:\u001b[0m invalid decimal literal\n"
     ]
    }
   ],
   "source": [
    "1099_filed = False"
   ]
  },
  {
   "cell_type": "markdown",
   "id": "ccb53ccf",
   "metadata": {
    "papermill": {
     "duration": null,
     "end_time": null,
     "exception": null,
     "start_time": null,
     "status": "pending"
    },
    "tags": []
   },
   "source": [
    "Note that case is significant. Lowercase and uppercase letters are not the same. Use of the underscore character is significant as well. Each of the following defines a different variable:"
   ]
  },
  {
   "cell_type": "code",
   "execution_count": null,
   "id": "476b1394",
   "metadata": {
    "papermill": {
     "duration": null,
     "end_time": null,
     "exception": null,
     "start_time": null,
     "status": "pending"
    },
    "tags": []
   },
   "outputs": [],
   "source": [
    "age = 1\n",
    "Age = 2\n",
    "aGe = 3\n",
    "AGE = 4\n",
    "a_g_e = 5\n",
    "_age = 6\n",
    "age_ = 7\n",
    "_AGE_ = 8"
   ]
  },
  {
   "cell_type": "code",
   "execution_count": null,
   "id": "91cdc3a9",
   "metadata": {
    "papermill": {
     "duration": null,
     "end_time": null,
     "exception": null,
     "start_time": null,
     "status": "pending"
    },
    "tags": []
   },
   "outputs": [],
   "source": [
    "print(age, Age, aGe, AGE, a_g_e, _age, age_, _AGE_)"
   ]
  },
  {
   "cell_type": "markdown",
   "id": "7b42ba76",
   "metadata": {
    "papermill": {
     "duration": null,
     "end_time": null,
     "exception": null,
     "start_time": null,
     "status": "pending"
    },
    "tags": []
   },
   "source": [
    "There is nothing stopping you from creating two different variables in the same program called `age` and `Age`, or for that matter `agE`. But it is probably ill-advised. It would certainly be likely to confuse anyone trying to read your code, and even you yourself, after you’d been away from it awhile."
   ]
  },
  {
   "cell_type": "markdown",
   "id": "19f48d72",
   "metadata": {
    "papermill": {
     "duration": null,
     "end_time": null,
     "exception": null,
     "start_time": null,
     "status": "pending"
    },
    "tags": []
   },
   "source": [
    "It is worthwhile to give a variable a name that is descriptive enough to make clear what it is being used for. For example, suppose you are tallying the number of people who have graduated college. You could conceivably choose any of the following:"
   ]
  },
  {
   "cell_type": "code",
   "execution_count": null,
   "id": "f9318fee",
   "metadata": {
    "papermill": {
     "duration": null,
     "end_time": null,
     "exception": null,
     "start_time": null,
     "status": "pending"
    },
    "tags": []
   },
   "outputs": [],
   "source": [
    "numberofcollegegraduates = 2500\n",
    "NUMBEROFCOLLEGEGRADUATES = 2500\n",
    "numberOfCollegeGraduates = 2500\n",
    "NumberOfCollegeGraduates = 2500\n",
    "number_of_college_graduates = 2500"
   ]
  },
  {
   "cell_type": "code",
   "execution_count": null,
   "id": "bd9fbf02",
   "metadata": {
    "papermill": {
     "duration": null,
     "end_time": null,
     "exception": null,
     "start_time": null,
     "status": "pending"
    },
    "tags": []
   },
   "outputs": [],
   "source": [
    "print(numberofcollegegraduates, NUMBEROFCOLLEGEGRADUATES,\n",
    "numberOfCollegeGraduates, NumberOfCollegeGraduates,\n",
    "number_of_college_graduates)"
   ]
  },
  {
   "cell_type": "markdown",
   "id": "4ae704f7",
   "metadata": {
    "papermill": {
     "duration": null,
     "end_time": null,
     "exception": null,
     "start_time": null,
     "status": "pending"
    },
    "tags": []
   },
   "source": [
    "All of them are probably better choices than n, or ncg, or the like. At least you can tell from the name what the value of the variable is supposed to represent."
   ]
  },
  {
   "cell_type": "markdown",
   "id": "5c4ee68b",
   "metadata": {
    "papermill": {
     "duration": null,
     "end_time": null,
     "exception": null,
     "start_time": null,
     "status": "pending"
    },
    "tags": []
   },
   "source": [
    "On the other hand, they aren’t all necessarily equally legible. As with many things, it is a matter of personal preference, but most people would find the first two examples, where the letters are all shoved together, to be harder to read, particularly the one in all capital letters. The most commonly used methods of constructing a multi-word variable name are the last three examples:\n",
    "\n",
    "- **Camel Case:** Second and subsequent words are capitalized, to make word boundaries easier to see. (Presumably, it struck someone at some point that the capital letters strewn throughout the variable name vaguely resemble camel humps.)\n",
    "    - Example: `numberOfCollegeGraduates`\n",
    "- **Pascal Case:** Identical to Camel Case, except the first word is also capitalized.\n",
    "    - Example: `NumberOfCollegeGraduates`\n",
    "- **Snake Case:** Words are separated by underscores.\n",
    "    - Example: `number_of_college_graduates`\n",
    "    "
   ]
  },
  {
   "cell_type": "markdown",
   "id": "fae9ad19",
   "metadata": {
    "papermill": {
     "duration": null,
     "end_time": null,
     "exception": null,
     "start_time": null,
     "status": "pending"
    },
    "tags": []
   },
   "source": [
    "Programmers debate hotly, with surprising fervor, which of these is preferable. Decent arguments can be made for all of them. You will see later that variables aren’t the only things that can be given names. You can also name functions, classes, modules, and so on. The rules that apply to variable names also apply to identifiers, the more general term for names given to program objects."
   ]
  },
  {
   "cell_type": "markdown",
   "id": "67681e2a",
   "metadata": {
    "papermill": {
     "duration": null,
     "end_time": null,
     "exception": null,
     "start_time": null,
     "status": "pending"
    },
    "tags": []
   },
   "source": [
    "The [Style Guide for Python Code](https://www.python.org/dev/peps/pep-0008/), also known as [PEP 8](https://www.python.org/dev/peps/pep-0008/#naming-conventions), contains Naming Conventions that list suggested standards for names of different object types. PEP 8 includes the following recommendations:\n",
    "\n",
    "- **Snake Case** should be used for functions and variable names.\n",
    "- **Pascal Case** should be used for class names. (PEP 8 refers to this as the “CapWords” convention.)"
   ]
  },
  {
   "cell_type": "markdown",
   "id": "896a9016",
   "metadata": {
    "papermill": {
     "duration": null,
     "end_time": null,
     "exception": null,
     "start_time": null,
     "status": "pending"
    },
    "tags": []
   },
   "source": [
    "<a class=\"anchor\" id=\"reserved_words_(keywords)\"></a>\n",
    "## Reserved Words (Keywords)\n",
    "There is one more restriction on identifier names. The Python language reserves a small set of keywords that designate special language functionality. No object can have the same name as a reserved word."
   ]
  },
  {
   "cell_type": "markdown",
   "id": "28a91734",
   "metadata": {
    "papermill": {
     "duration": null,
     "end_time": null,
     "exception": null,
     "start_time": null,
     "status": "pending"
    },
    "tags": []
   },
   "source": [
    "In Python 3.6, there are 33 reserved keywords:"
   ]
  },
  {
   "cell_type": "markdown",
   "id": "0d58af4e",
   "metadata": {
    "papermill": {
     "duration": null,
     "end_time": null,
     "exception": null,
     "start_time": null,
     "status": "pending"
    },
    "tags": []
   },
   "source": [
    "| Python Keywords| | | |\n",
    "|:--|:--|:--|:--|\n",
    "|`False`|`def`|`if`|`raise`|\n",
    "|`None`|`del`|`import`|`return`|\n",
    "|`True`|`elif`|`in`|`try`|\n",
    "|`and`|`else`|`is`|`while`|\n",
    "|`as`|`except`|`lambda`|`with`|\n",
    "|`assert`|`finally`|`nonlocal`|`yield`|\n",
    "|`break`|`for`|`not`|\n",
    "|`class`|`from`|`or`|\n",
    "|`continue`|`global`|`pass`|"
   ]
  },
  {
   "cell_type": "markdown",
   "id": "8396ca73",
   "metadata": {
    "papermill": {
     "duration": null,
     "end_time": null,
     "exception": null,
     "start_time": null,
     "status": "pending"
    },
    "tags": []
   },
   "source": [
    "You can see this list any time by typing `help(\"keywords\")` to the Python interpreter. Reserved words are case-sensitive and must be used exactly as shown. They are all entirely lowercase, except for `False`, `None`, and `True`."
   ]
  },
  {
   "cell_type": "code",
   "execution_count": null,
   "id": "3b4adc4c",
   "metadata": {
    "papermill": {
     "duration": null,
     "end_time": null,
     "exception": null,
     "start_time": null,
     "status": "pending"
    },
    "tags": []
   },
   "outputs": [],
   "source": [
    "help('keywords')"
   ]
  },
  {
   "cell_type": "markdown",
   "id": "01c7ef03",
   "metadata": {
    "papermill": {
     "duration": null,
     "end_time": null,
     "exception": null,
     "start_time": null,
     "status": "pending"
    },
    "tags": []
   },
   "source": [
    "Trying to create a variable with the same name as any reserved word results in an error:"
   ]
  },
  {
   "cell_type": "code",
   "execution_count": null,
   "id": "59e6845a",
   "metadata": {
    "papermill": {
     "duration": null,
     "end_time": null,
     "exception": null,
     "start_time": null,
     "status": "pending"
    },
    "tags": []
   },
   "outputs": [],
   "source": [
    "for = 3"
   ]
  },
  {
   "cell_type": "markdown",
   "id": "a0a33b5c",
   "metadata": {
    "papermill": {
     "duration": null,
     "end_time": null,
     "exception": null,
     "start_time": null,
     "status": "pending"
    },
    "tags": []
   },
   "source": [
    "<a class=\"anchor\" id=\"conclusion\"></a>\n",
    "## Conclusion \n",
    "\n",
    "This section covered the basics of Python **variables**, including object references and identity, and naming of Python identifiers."
   ]
  },
  {
   "cell_type": "markdown",
   "id": "3ddbcee1",
   "metadata": {
    "papermill": {
     "duration": null,
     "end_time": null,
     "exception": null,
     "start_time": null,
     "status": "pending"
    },
    "tags": []
   },
   "source": [
    "You now have a good understanding of some of Python’s data types and know how to create variables that reference objects of those types."
   ]
  },
  {
   "cell_type": "markdown",
   "id": "6d1058af",
   "metadata": {
    "papermill": {
     "duration": null,
     "end_time": null,
     "exception": null,
     "start_time": null,
     "status": "pending"
    },
    "tags": []
   },
   "source": [
    "Next, you will see how to combine data objects into **expressions** involving various **operations**."
   ]
  }
 ],
 "metadata": {
  "kernelspec": {
   "display_name": "Python 3",
   "language": "python",
   "name": "python3"
  },
  "language_info": {
   "codemirror_mode": {
    "name": "ipython",
    "version": 3
   },
   "file_extension": ".py",
   "mimetype": "text/x-python",
   "name": "python",
   "nbconvert_exporter": "python",
   "pygments_lexer": "ipython3",
   "version": "3.10.12"
  },
  "papermill": {
   "default_parameters": {},
   "duration": 5.888092,
   "end_time": "2023-10-14T20:06:04.647216",
   "environment_variables": {},
   "exception": true,
   "input_path": "__notebook__.ipynb",
   "output_path": "__notebook__.ipynb",
   "parameters": {},
   "start_time": "2023-10-14T20:05:58.759124",
   "version": "2.4.0"
  }
 },
 "nbformat": 4,
 "nbformat_minor": 5
}
