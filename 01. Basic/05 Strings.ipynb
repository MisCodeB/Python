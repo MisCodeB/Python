{
 "cells": [
  {
   "cell_type": "markdown",
   "id": "2784a1c7",
   "metadata": {
    "papermill": {
     "duration": 0.021941,
     "end_time": "2023-10-15T05:29:49.452396",
     "exception": false,
     "start_time": "2023-10-15T05:29:49.430455",
     "status": "completed"
    },
    "tags": []
   },
   "source": []
  },
  {
   "cell_type": "markdown",
   "id": "eaacc9cf",
   "metadata": {
    "papermill": {
     "duration": 0.020616,
     "end_time": "2023-10-15T05:29:49.495312",
     "exception": false,
     "start_time": "2023-10-15T05:29:49.474696",
     "status": "completed"
    },
    "tags": []
   },
   "source": [
    "Strings \n",
    "\n",
    "In the section on Basic Data Types in Python, you learned how to define **strings**: objects that contain sequences of character data. Processing character data is integral to programming. It is a rare application that doesn’t need to manipulate strings at least to some extent."
   ]
  },
  {
   "cell_type": "markdown",
   "id": "d21b77ea",
   "metadata": {
    "papermill": {
     "duration": 0.020628,
     "end_time": "2023-10-15T05:29:49.536698",
     "exception": false,
     "start_time": "2023-10-15T05:29:49.516070",
     "status": "completed"
    },
    "tags": []
   },
   "source": [
    " Table of Contents \n",
    "* [String Manipulation](#string_manipulation)\n",
    "    * [String Operators](#string_operators)\n",
    "    * [The * Operator](#the_*_operator)\n",
    "    * [The in Operator](#the_in_operator)\n",
    "    * [Built-in String Functions](#built-in_string_functions)\n",
    "        * [`ord(c)`](#`ord(c)`)\n",
    "        * [`chr(n)`](#`chr(n)`)\n",
    "        * [len(s)](#len(s))\n",
    "        * [`str(obj)`](#`str(obj)`)\n",
    "* [String Indexing](#string_indexing)\n",
    "* [String Slicing](#string_slicing)\n",
    "    * [Specifying a Stride in a String Slice](#specifying_a_stride_in_a_string_slice)\n",
    "    * [Interpolating Variables Into a String](#interpolating_variables_into_a_string)\n",
    "    * [Modifying Strings](#modifying_strings)\n",
    "* [Conclusion](#conclusion)\n",
    "\n",
    "---"
   ]
  },
  {
   "cell_type": "markdown",
   "id": "d6a8615d",
   "metadata": {
    "papermill": {
     "duration": 0.021279,
     "end_time": "2023-10-15T05:29:49.636292",
     "exception": false,
     "start_time": "2023-10-15T05:29:49.615013",
     "status": "completed"
    },
    "tags": []
   },
   "source": [
    "<a class=\"anchor\" id=\"string_manipulation\"></a>\n",
    "## String Manipulation\n",
    "\n",
    "The sections below highlight the operators, methods, and functions that are available for working with strings."
   ]
  },
  {
   "cell_type": "markdown",
   "id": "d9d59c6c",
   "metadata": {
    "papermill": {
     "duration": 0.02128,
     "end_time": "2023-10-15T05:29:49.679393",
     "exception": false,
     "start_time": "2023-10-15T05:29:49.658113",
     "status": "completed"
    },
    "tags": []
   },
   "source": [
    "<a class=\"anchor\" id=\"string_operators\"></a>\n",
    "### String Operators\n",
    "\n",
    "You have already seen the operators `+` and `*` applied to numeric operands in the section on Operators and Expressions in Python. These two operators can be applied to strings as well."
   ]
  },
  {
   "cell_type": "code",
   "execution_count": 1,
   "id": "8c1d02b5",
   "metadata": {
    "execution": {
     "iopub.execute_input": "2023-10-15T05:29:49.724206Z",
     "iopub.status.busy": "2023-10-15T05:29:49.723733Z",
     "iopub.status.idle": "2023-10-15T05:29:49.732436Z",
     "shell.execute_reply": "2023-10-15T05:29:49.731600Z"
    },
    "papermill": {
     "duration": 0.033511,
     "end_time": "2023-10-15T05:29:49.734415",
     "exception": false,
     "start_time": "2023-10-15T05:29:49.700904",
     "status": "completed"
    },
    "tags": []
   },
   "outputs": [],
   "source": [
    "s = 'foo'\n",
    "t = 'bar'\n",
    "u = 'baz'"
   ]
  },
  {
   "cell_type": "code",
   "execution_count": 2,
   "id": "6b1a8156",
   "metadata": {
    "execution": {
     "iopub.execute_input": "2023-10-15T05:29:49.778916Z",
     "iopub.status.busy": "2023-10-15T05:29:49.778581Z",
     "iopub.status.idle": "2023-10-15T05:29:49.785228Z",
     "shell.execute_reply": "2023-10-15T05:29:49.784205Z"
    },
    "papermill": {
     "duration": 0.031608,
     "end_time": "2023-10-15T05:29:49.787698",
     "exception": false,
     "start_time": "2023-10-15T05:29:49.756090",
     "status": "completed"
    },
    "tags": []
   },
   "outputs": [
    {
     "data": {
      "text/plain": [
       "'foobar'"
      ]
     },
     "execution_count": 2,
     "metadata": {},
     "output_type": "execute_result"
    }
   ],
   "source": [
    "s + t"
   ]
  },
  {
   "cell_type": "code",
   "execution_count": 3,
   "id": "fa647eac",
   "metadata": {
    "execution": {
     "iopub.execute_input": "2023-10-15T05:29:49.833464Z",
     "iopub.status.busy": "2023-10-15T05:29:49.832269Z",
     "iopub.status.idle": "2023-10-15T05:29:49.838775Z",
     "shell.execute_reply": "2023-10-15T05:29:49.838064Z"
    },
    "papermill": {
     "duration": 0.031411,
     "end_time": "2023-10-15T05:29:49.840862",
     "exception": false,
     "start_time": "2023-10-15T05:29:49.809451",
     "status": "completed"
    },
    "tags": []
   },
   "outputs": [
    {
     "data": {
      "text/plain": [
       "'foobarbaz'"
      ]
     },
     "execution_count": 3,
     "metadata": {},
     "output_type": "execute_result"
    }
   ],
   "source": [
    "s + t + u"
   ]
  },
  {
   "cell_type": "code",
   "execution_count": 4,
   "id": "2caee0e5",
   "metadata": {
    "execution": {
     "iopub.execute_input": "2023-10-15T05:29:49.886249Z",
     "iopub.status.busy": "2023-10-15T05:29:49.885325Z",
     "iopub.status.idle": "2023-10-15T05:29:49.891619Z",
     "shell.execute_reply": "2023-10-15T05:29:49.890368Z"
    },
    "papermill": {
     "duration": 0.03181,
     "end_time": "2023-10-15T05:29:49.894389",
     "exception": false,
     "start_time": "2023-10-15T05:29:49.862579",
     "status": "completed"
    },
    "tags": []
   },
   "outputs": [
    {
     "name": "stdout",
     "output_type": "stream",
     "text": [
      "Go team!!!\n"
     ]
    }
   ],
   "source": [
    "print('Go team' + '!!!')"
   ]
  },
  {
   "cell_type": "markdown",
   "id": "82881aff",
   "metadata": {
    "papermill": {
     "duration": 0.021361,
     "end_time": "2023-10-15T05:29:49.939182",
     "exception": false,
     "start_time": "2023-10-15T05:29:49.917821",
     "status": "completed"
    },
    "tags": []
   },
   "source": [
    "<a class=\"anchor\" id=\"the_*_operator\"></a>\n",
    "### The * Operator\n",
    "\n",
    "The `*` operator creates multiple copies of a string. If `s` is a string and `n` is an integer, either of the following expressions returns a string consisting of `n` concatenated copies of `s`:\n",
    "\n",
    "```python\n",
    "s * n\n",
    "n * s\n",
    "```"
   ]
  },
  {
   "cell_type": "markdown",
   "id": "131b7bb0",
   "metadata": {
    "papermill": {
     "duration": 0.02119,
     "end_time": "2023-10-15T05:29:49.982035",
     "exception": false,
     "start_time": "2023-10-15T05:29:49.960845",
     "status": "completed"
    },
    "tags": []
   },
   "source": [
    "Here are examples of both forms:"
   ]
  },
  {
   "cell_type": "code",
   "execution_count": 5,
   "id": "814b4365",
   "metadata": {
    "execution": {
     "iopub.execute_input": "2023-10-15T05:29:50.027215Z",
     "iopub.status.busy": "2023-10-15T05:29:50.026832Z",
     "iopub.status.idle": "2023-10-15T05:29:50.030418Z",
     "shell.execute_reply": "2023-10-15T05:29:50.029777Z"
    },
    "papermill": {
     "duration": 0.028438,
     "end_time": "2023-10-15T05:29:50.032178",
     "exception": false,
     "start_time": "2023-10-15T05:29:50.003740",
     "status": "completed"
    },
    "tags": []
   },
   "outputs": [],
   "source": [
    "s = 'foo.'"
   ]
  },
  {
   "cell_type": "code",
   "execution_count": 6,
   "id": "f666ee5f",
   "metadata": {
    "execution": {
     "iopub.execute_input": "2023-10-15T05:29:50.077089Z",
     "iopub.status.busy": "2023-10-15T05:29:50.076729Z",
     "iopub.status.idle": "2023-10-15T05:29:50.082657Z",
     "shell.execute_reply": "2023-10-15T05:29:50.081678Z"
    },
    "papermill": {
     "duration": 0.030618,
     "end_time": "2023-10-15T05:29:50.084606",
     "exception": false,
     "start_time": "2023-10-15T05:29:50.053988",
     "status": "completed"
    },
    "tags": []
   },
   "outputs": [
    {
     "data": {
      "text/plain": [
       "'foo.foo.foo.foo.'"
      ]
     },
     "execution_count": 6,
     "metadata": {},
     "output_type": "execute_result"
    }
   ],
   "source": [
    "s * 4"
   ]
  },
  {
   "cell_type": "code",
   "execution_count": 7,
   "id": "02f90146",
   "metadata": {
    "execution": {
     "iopub.execute_input": "2023-10-15T05:29:50.129856Z",
     "iopub.status.busy": "2023-10-15T05:29:50.129280Z",
     "iopub.status.idle": "2023-10-15T05:29:50.133780Z",
     "shell.execute_reply": "2023-10-15T05:29:50.133194Z"
    },
    "papermill": {
     "duration": 0.028785,
     "end_time": "2023-10-15T05:29:50.135428",
     "exception": false,
     "start_time": "2023-10-15T05:29:50.106643",
     "status": "completed"
    },
    "tags": []
   },
   "outputs": [
    {
     "data": {
      "text/plain": [
       "'foo.foo.foo.foo.'"
      ]
     },
     "execution_count": 7,
     "metadata": {},
     "output_type": "execute_result"
    }
   ],
   "source": [
    "4 * s"
   ]
  },
  {
   "cell_type": "markdown",
   "id": "fd335a74",
   "metadata": {
    "papermill": {
     "duration": 0.021237,
     "end_time": "2023-10-15T05:29:50.178323",
     "exception": false,
     "start_time": "2023-10-15T05:29:50.157086",
     "status": "completed"
    },
    "tags": []
   },
   "source": [
    "The multiplier operand `n` must be an integer. You’d think it would be required to be a positive integer, but amusingly, it can be zero or negative, in which case the result is an empty string:"
   ]
  },
  {
   "cell_type": "code",
   "execution_count": 8,
   "id": "2b3c176d",
   "metadata": {
    "execution": {
     "iopub.execute_input": "2023-10-15T05:29:50.230237Z",
     "iopub.status.busy": "2023-10-15T05:29:50.229613Z",
     "iopub.status.idle": "2023-10-15T05:29:50.234939Z",
     "shell.execute_reply": "2023-10-15T05:29:50.234011Z"
    },
    "papermill": {
     "duration": 0.02977,
     "end_time": "2023-10-15T05:29:50.236717",
     "exception": false,
     "start_time": "2023-10-15T05:29:50.206947",
     "status": "completed"
    },
    "tags": []
   },
   "outputs": [
    {
     "data": {
      "text/plain": [
       "''"
      ]
     },
     "execution_count": 8,
     "metadata": {},
     "output_type": "execute_result"
    }
   ],
   "source": [
    "'foo' * -8"
   ]
  },
  {
   "cell_type": "markdown",
   "id": "29a9ef2a",
   "metadata": {
    "papermill": {
     "duration": 0.022036,
     "end_time": "2023-10-15T05:29:50.280583",
     "exception": false,
     "start_time": "2023-10-15T05:29:50.258547",
     "status": "completed"
    },
    "tags": []
   },
   "source": [
    "If you were to create a string variable and initialize it to the empty string by assigning it the value `'foo' * -8`, anyone would rightly think you were a bit daft. But it would work."
   ]
  },
  {
   "cell_type": "markdown",
   "id": "1754f393",
   "metadata": {
    "papermill": {
     "duration": 0.02274,
     "end_time": "2023-10-15T05:29:50.325210",
     "exception": false,
     "start_time": "2023-10-15T05:29:50.302470",
     "status": "completed"
    },
    "tags": []
   },
   "source": [
    "<a class=\"anchor\" id=\"the_in_operator\"></a>\n",
    "### The in Operator\n",
    "\n",
    "Python also provides a membership operator that can be used with strings. The in operator returns `True` if the first operand is contained within the second, and `False` otherwise:"
   ]
  },
  {
   "cell_type": "code",
   "execution_count": 9,
   "id": "ea07ed27",
   "metadata": {
    "execution": {
     "iopub.execute_input": "2023-10-15T05:29:50.370763Z",
     "iopub.status.busy": "2023-10-15T05:29:50.370398Z",
     "iopub.status.idle": "2023-10-15T05:29:50.374477Z",
     "shell.execute_reply": "2023-10-15T05:29:50.373817Z"
    },
    "papermill": {
     "duration": 0.029152,
     "end_time": "2023-10-15T05:29:50.376116",
     "exception": false,
     "start_time": "2023-10-15T05:29:50.346964",
     "status": "completed"
    },
    "tags": []
   },
   "outputs": [],
   "source": [
    "s = 'foo'"
   ]
  },
  {
   "cell_type": "code",
   "execution_count": 10,
   "id": "364a9dd1",
   "metadata": {
    "execution": {
     "iopub.execute_input": "2023-10-15T05:29:50.422939Z",
     "iopub.status.busy": "2023-10-15T05:29:50.421868Z",
     "iopub.status.idle": "2023-10-15T05:29:50.427016Z",
     "shell.execute_reply": "2023-10-15T05:29:50.426391Z"
    },
    "papermill": {
     "duration": 0.029768,
     "end_time": "2023-10-15T05:29:50.428689",
     "exception": false,
     "start_time": "2023-10-15T05:29:50.398921",
     "status": "completed"
    },
    "tags": []
   },
   "outputs": [
    {
     "data": {
      "text/plain": [
       "True"
      ]
     },
     "execution_count": 10,
     "metadata": {},
     "output_type": "execute_result"
    }
   ],
   "source": [
    "s in 'That\\'s food for thought.'"
   ]
  },
  {
   "cell_type": "code",
   "execution_count": 11,
   "id": "073474f6",
   "metadata": {
    "execution": {
     "iopub.execute_input": "2023-10-15T05:29:50.475038Z",
     "iopub.status.busy": "2023-10-15T05:29:50.473988Z",
     "iopub.status.idle": "2023-10-15T05:29:50.480555Z",
     "shell.execute_reply": "2023-10-15T05:29:50.479528Z"
    },
    "papermill": {
     "duration": 0.03161,
     "end_time": "2023-10-15T05:29:50.482520",
     "exception": false,
     "start_time": "2023-10-15T05:29:50.450910",
     "status": "completed"
    },
    "tags": []
   },
   "outputs": [
    {
     "data": {
      "text/plain": [
       "False"
      ]
     },
     "execution_count": 11,
     "metadata": {},
     "output_type": "execute_result"
    }
   ],
   "source": [
    "s in 'That\\'s good for now.'"
   ]
  },
  {
   "cell_type": "markdown",
   "id": "81741828",
   "metadata": {
    "papermill": {
     "duration": 0.022207,
     "end_time": "2023-10-15T05:29:50.527152",
     "exception": false,
     "start_time": "2023-10-15T05:29:50.504945",
     "status": "completed"
    },
    "tags": []
   },
   "source": [
    "There is also a `not in` operator, which does the opposite:"
   ]
  },
  {
   "cell_type": "code",
   "execution_count": 12,
   "id": "ae21293f",
   "metadata": {
    "execution": {
     "iopub.execute_input": "2023-10-15T05:29:50.573218Z",
     "iopub.status.busy": "2023-10-15T05:29:50.572856Z",
     "iopub.status.idle": "2023-10-15T05:29:50.578494Z",
     "shell.execute_reply": "2023-10-15T05:29:50.577530Z"
    },
    "papermill": {
     "duration": 0.03104,
     "end_time": "2023-10-15T05:29:50.580457",
     "exception": false,
     "start_time": "2023-10-15T05:29:50.549417",
     "status": "completed"
    },
    "tags": []
   },
   "outputs": [
    {
     "data": {
      "text/plain": [
       "True"
      ]
     },
     "execution_count": 12,
     "metadata": {},
     "output_type": "execute_result"
    }
   ],
   "source": [
    "'z' not in 'abc'"
   ]
  },
  {
   "cell_type": "code",
   "execution_count": 13,
   "id": "1b9b4473",
   "metadata": {
    "execution": {
     "iopub.execute_input": "2023-10-15T05:29:50.626935Z",
     "iopub.status.busy": "2023-10-15T05:29:50.626248Z",
     "iopub.status.idle": "2023-10-15T05:29:50.632047Z",
     "shell.execute_reply": "2023-10-15T05:29:50.631331Z"
    },
    "papermill": {
     "duration": 0.031501,
     "end_time": "2023-10-15T05:29:50.634101",
     "exception": false,
     "start_time": "2023-10-15T05:29:50.602600",
     "status": "completed"
    },
    "tags": []
   },
   "outputs": [
    {
     "data": {
      "text/plain": [
       "True"
      ]
     },
     "execution_count": 13,
     "metadata": {},
     "output_type": "execute_result"
    }
   ],
   "source": [
    "'z' in 'xyz'"
   ]
  },
  {
   "cell_type": "markdown",
   "id": "d397a2fb",
   "metadata": {
    "papermill": {
     "duration": 0.022498,
     "end_time": "2023-10-15T05:29:50.679002",
     "exception": false,
     "start_time": "2023-10-15T05:29:50.656504",
     "status": "completed"
    },
    "tags": []
   },
   "source": [
    "<a class=\"anchor\" id=\"built-in_string_functions\"></a>\n",
    "### Built-in String Functions\n",
    "\n",
    "As you saw in the tutorial on Basic Data Types in Python, Python provides many functions that are built-in to the interpreter and always available. Here are a few that work with strings:\n",
    "\n",
    "\n",
    "|Function | Description|\n",
    "|:--|:--|\n",
    "|`chr()` | Converts an integer to a character |\n",
    "|`ord()` | Converts a character to an integer |\n",
    "|`len()` | Returns the length of a string |\n",
    "|`str()` | Returns a string representation of an object |"
   ]
  },
  {
   "cell_type": "markdown",
   "id": "9a69ab5e",
   "metadata": {
    "papermill": {
     "duration": 0.022062,
     "end_time": "2023-10-15T05:29:50.723033",
     "exception": false,
     "start_time": "2023-10-15T05:29:50.700971",
     "status": "completed"
    },
    "tags": []
   },
   "source": [
    "These are explored more fully below."
   ]
  },
  {
   "cell_type": "code",
   "execution_count": 14,
   "id": "1a3b52c9",
   "metadata": {
    "execution": {
     "iopub.execute_input": "2023-10-15T05:29:50.771702Z",
     "iopub.status.busy": "2023-10-15T05:29:50.771152Z",
     "iopub.status.idle": "2023-10-15T05:29:50.776812Z",
     "shell.execute_reply": "2023-10-15T05:29:50.776023Z"
    },
    "papermill": {
     "duration": 0.031337,
     "end_time": "2023-10-15T05:29:50.778619",
     "exception": false,
     "start_time": "2023-10-15T05:29:50.747282",
     "status": "completed"
    },
    "tags": []
   },
   "outputs": [
    {
     "data": {
      "text/plain": [
       "63"
      ]
     },
     "execution_count": 14,
     "metadata": {},
     "output_type": "execute_result"
    }
   ],
   "source": [
    "ord('?')"
   ]
  },
  {
   "cell_type": "markdown",
   "id": "9fff818d",
   "metadata": {
    "papermill": {
     "duration": 0.022566,
     "end_time": "2023-10-15T05:29:50.823656",
     "exception": false,
     "start_time": "2023-10-15T05:29:50.801090",
     "status": "completed"
    },
    "tags": []
   },
   "source": [
    "<a class=\"anchor\" id=\"`ord(c)`\"></a>\n",
    "#### `ord(c)`\n",
    "> Returns an integer value for the given character."
   ]
  },
  {
   "cell_type": "markdown",
   "id": "f1fc0b74",
   "metadata": {
    "papermill": {
     "duration": 0.021899,
     "end_time": "2023-10-15T05:29:50.867692",
     "exception": false,
     "start_time": "2023-10-15T05:29:50.845793",
     "status": "completed"
    },
    "tags": []
   },
   "source": [
    "At the most basic level, computers store all information as numbers. To represent character data, a translation scheme is used which maps each character to its representative number."
   ]
  },
  {
   "cell_type": "markdown",
   "id": "4a42c3a5",
   "metadata": {
    "papermill": {
     "duration": 0.022185,
     "end_time": "2023-10-15T05:29:50.911998",
     "exception": false,
     "start_time": "2023-10-15T05:29:50.889813",
     "status": "completed"
    },
    "tags": []
   },
   "source": [
    "The simplest scheme in common use is called [ASCII](https://en.wikipedia.org/wiki/ASCII). It covers the common Latin characters you are probably most accustomed to working with. For these characters, ord(c) returns the ASCII value for character c:"
   ]
  },
  {
   "cell_type": "code",
   "execution_count": 15,
   "id": "cdac6986",
   "metadata": {
    "execution": {
     "iopub.execute_input": "2023-10-15T05:29:50.958200Z",
     "iopub.status.busy": "2023-10-15T05:29:50.957618Z",
     "iopub.status.idle": "2023-10-15T05:29:50.963236Z",
     "shell.execute_reply": "2023-10-15T05:29:50.962432Z"
    },
    "papermill": {
     "duration": 0.030724,
     "end_time": "2023-10-15T05:29:50.964961",
     "exception": false,
     "start_time": "2023-10-15T05:29:50.934237",
     "status": "completed"
    },
    "tags": []
   },
   "outputs": [
    {
     "data": {
      "text/plain": [
       "97"
      ]
     },
     "execution_count": 15,
     "metadata": {},
     "output_type": "execute_result"
    }
   ],
   "source": [
    "ord('a')"
   ]
  },
  {
   "cell_type": "code",
   "execution_count": 16,
   "id": "19aafcab",
   "metadata": {
    "execution": {
     "iopub.execute_input": "2023-10-15T05:29:51.011242Z",
     "iopub.status.busy": "2023-10-15T05:29:51.010664Z",
     "iopub.status.idle": "2023-10-15T05:29:51.016327Z",
     "shell.execute_reply": "2023-10-15T05:29:51.015543Z"
    },
    "papermill": {
     "duration": 0.03122,
     "end_time": "2023-10-15T05:29:51.018093",
     "exception": false,
     "start_time": "2023-10-15T05:29:50.986873",
     "status": "completed"
    },
    "tags": []
   },
   "outputs": [
    {
     "data": {
      "text/plain": [
       "35"
      ]
     },
     "execution_count": 16,
     "metadata": {},
     "output_type": "execute_result"
    }
   ],
   "source": [
    "ord('#')"
   ]
  },
  {
   "cell_type": "markdown",
   "id": "34590f02",
   "metadata": {
    "papermill": {
     "duration": 0.021879,
     "end_time": "2023-10-15T05:29:51.062642",
     "exception": false,
     "start_time": "2023-10-15T05:29:51.040763",
     "status": "completed"
    },
    "tags": []
   },
   "source": [
    "ASCII is fine as far as it goes. But there are many different languages in use in the world and countless symbols and glyphs that appear in digital media. The full set of characters that potentially may need to be represented in computer code far surpasses the ordinary Latin letters, numbers, and symbols you usually see."
   ]
  },
  {
   "cell_type": "markdown",
   "id": "9fbe1af7",
   "metadata": {
    "papermill": {
     "duration": 0.021941,
     "end_time": "2023-10-15T05:29:51.106923",
     "exception": false,
     "start_time": "2023-10-15T05:29:51.084982",
     "status": "completed"
    },
    "tags": []
   },
   "source": [
    "[Unicode](http://www.unicode.org/standard/WhatIsUnicode.html) is an ambitious standard that attempts to provide a numeric code for every possible character, in every possible language, on every possible platform. Python 3 supports Unicode extensively, including allowing Unicode characters within strings."
   ]
  },
  {
   "cell_type": "markdown",
   "id": "98ba548d",
   "metadata": {
    "papermill": {
     "duration": 0.02199,
     "end_time": "2023-10-15T05:29:51.151131",
     "exception": false,
     "start_time": "2023-10-15T05:29:51.129141",
     "status": "completed"
    },
    "tags": []
   },
   "source": [
    "As long as you stay in the domain of the common characters, there is little practical difference between ASCII and Unicode. But the `ord()` function will return numeric values for [Unicode characters](https://realpython.com/courses/python-unicode/) as well:"
   ]
  },
  {
   "cell_type": "code",
   "execution_count": 17,
   "id": "166f07fd",
   "metadata": {
    "execution": {
     "iopub.execute_input": "2023-10-15T05:29:51.197392Z",
     "iopub.status.busy": "2023-10-15T05:29:51.196795Z",
     "iopub.status.idle": "2023-10-15T05:29:51.202547Z",
     "shell.execute_reply": "2023-10-15T05:29:51.201787Z"
    },
    "papermill": {
     "duration": 0.031039,
     "end_time": "2023-10-15T05:29:51.204281",
     "exception": false,
     "start_time": "2023-10-15T05:29:51.173242",
     "status": "completed"
    },
    "tags": []
   },
   "outputs": [
    {
     "data": {
      "text/plain": [
       "8364"
      ]
     },
     "execution_count": 17,
     "metadata": {},
     "output_type": "execute_result"
    }
   ],
   "source": [
    "ord('€')"
   ]
  },
  {
   "cell_type": "code",
   "execution_count": 18,
   "id": "9781e7ab",
   "metadata": {
    "execution": {
     "iopub.execute_input": "2023-10-15T05:29:51.250780Z",
     "iopub.status.busy": "2023-10-15T05:29:51.250437Z",
     "iopub.status.idle": "2023-10-15T05:29:51.255688Z",
     "shell.execute_reply": "2023-10-15T05:29:51.254842Z"
    },
    "papermill": {
     "duration": 0.030597,
     "end_time": "2023-10-15T05:29:51.257446",
     "exception": false,
     "start_time": "2023-10-15T05:29:51.226849",
     "status": "completed"
    },
    "tags": []
   },
   "outputs": [
    {
     "data": {
      "text/plain": [
       "8721"
      ]
     },
     "execution_count": 18,
     "metadata": {},
     "output_type": "execute_result"
    }
   ],
   "source": [
    "ord('∑')"
   ]
  },
  {
   "cell_type": "markdown",
   "id": "d6423241",
   "metadata": {
    "papermill": {
     "duration": 0.022564,
     "end_time": "2023-10-15T05:29:51.303046",
     "exception": false,
     "start_time": "2023-10-15T05:29:51.280482",
     "status": "completed"
    },
    "tags": []
   },
   "source": [
    "<a class=\"anchor\" id=\"`chr(n)`\"></a>\n",
    "#### `chr(n)`\n",
    "\n",
    "> Returns a character value for the given integer."
   ]
  },
  {
   "cell_type": "markdown",
   "id": "f03c6d3a",
   "metadata": {
    "papermill": {
     "duration": 0.022247,
     "end_time": "2023-10-15T05:29:51.347801",
     "exception": false,
     "start_time": "2023-10-15T05:29:51.325554",
     "status": "completed"
    },
    "tags": []
   },
   "source": [
    "`chr()` does the reverse of `ord()`. Given a numeric value `n`, `chr(n)` returns a string representing the character that corresponds to `n`:"
   ]
  },
  {
   "cell_type": "code",
   "execution_count": 19,
   "id": "77940712",
   "metadata": {
    "execution": {
     "iopub.execute_input": "2023-10-15T05:29:51.396824Z",
     "iopub.status.busy": "2023-10-15T05:29:51.395765Z",
     "iopub.status.idle": "2023-10-15T05:29:51.401221Z",
     "shell.execute_reply": "2023-10-15T05:29:51.400388Z"
    },
    "papermill": {
     "duration": 0.031697,
     "end_time": "2023-10-15T05:29:51.403017",
     "exception": false,
     "start_time": "2023-10-15T05:29:51.371320",
     "status": "completed"
    },
    "tags": []
   },
   "outputs": [
    {
     "data": {
      "text/plain": [
       "'a'"
      ]
     },
     "execution_count": 19,
     "metadata": {},
     "output_type": "execute_result"
    }
   ],
   "source": [
    "chr(97)"
   ]
  },
  {
   "cell_type": "code",
   "execution_count": 20,
   "id": "5910254e",
   "metadata": {
    "execution": {
     "iopub.execute_input": "2023-10-15T05:29:51.451319Z",
     "iopub.status.busy": "2023-10-15T05:29:51.450740Z",
     "iopub.status.idle": "2023-10-15T05:29:51.455740Z",
     "shell.execute_reply": "2023-10-15T05:29:51.454965Z"
    },
    "papermill": {
     "duration": 0.031297,
     "end_time": "2023-10-15T05:29:51.457512",
     "exception": false,
     "start_time": "2023-10-15T05:29:51.426215",
     "status": "completed"
    },
    "tags": []
   },
   "outputs": [
    {
     "data": {
      "text/plain": [
       "'#'"
      ]
     },
     "execution_count": 20,
     "metadata": {},
     "output_type": "execute_result"
    }
   ],
   "source": [
    "chr(35)"
   ]
  },
  {
   "cell_type": "markdown",
   "id": "51c45089",
   "metadata": {
    "papermill": {
     "duration": 0.022681,
     "end_time": "2023-10-15T05:29:51.503097",
     "exception": false,
     "start_time": "2023-10-15T05:29:51.480416",
     "status": "completed"
    },
    "tags": []
   },
   "source": [
    "`chr()` handles Unicode characters as well:"
   ]
  },
  {
   "cell_type": "code",
   "execution_count": 21,
   "id": "f377e8dc",
   "metadata": {
    "execution": {
     "iopub.execute_input": "2023-10-15T05:29:51.550243Z",
     "iopub.status.busy": "2023-10-15T05:29:51.549871Z",
     "iopub.status.idle": "2023-10-15T05:29:51.555340Z",
     "shell.execute_reply": "2023-10-15T05:29:51.554692Z"
    },
    "papermill": {
     "duration": 0.031027,
     "end_time": "2023-10-15T05:29:51.556939",
     "exception": false,
     "start_time": "2023-10-15T05:29:51.525912",
     "status": "completed"
    },
    "tags": []
   },
   "outputs": [
    {
     "data": {
      "text/plain": [
       "'€'"
      ]
     },
     "execution_count": 21,
     "metadata": {},
     "output_type": "execute_result"
    }
   ],
   "source": [
    "chr(8364)"
   ]
  },
  {
   "cell_type": "code",
   "execution_count": 22,
   "id": "c5896567",
   "metadata": {
    "execution": {
     "iopub.execute_input": "2023-10-15T05:29:51.605155Z",
     "iopub.status.busy": "2023-10-15T05:29:51.604096Z",
     "iopub.status.idle": "2023-10-15T05:29:51.610082Z",
     "shell.execute_reply": "2023-10-15T05:29:51.608862Z"
    },
    "papermill": {
     "duration": 0.031815,
     "end_time": "2023-10-15T05:29:51.611976",
     "exception": false,
     "start_time": "2023-10-15T05:29:51.580161",
     "status": "completed"
    },
    "tags": []
   },
   "outputs": [
    {
     "data": {
      "text/plain": [
       "'∑'"
      ]
     },
     "execution_count": 22,
     "metadata": {},
     "output_type": "execute_result"
    }
   ],
   "source": [
    "chr(8721)"
   ]
  },
  {
   "cell_type": "markdown",
   "id": "505a71db",
   "metadata": {
    "papermill": {
     "duration": 0.023506,
     "end_time": "2023-10-15T05:29:51.658553",
     "exception": false,
     "start_time": "2023-10-15T05:29:51.635047",
     "status": "completed"
    },
    "tags": []
   },
   "source": [
    "<a class=\"anchor\" id=\"len(s)\"></a>\n",
    "#### `len(s)`\n",
    "\n",
    "> With `len()`, you can check Python string length. `len(s)` returns the number of characters in `s`:"
   ]
  },
  {
   "cell_type": "code",
   "execution_count": 23,
   "id": "7d5abe1e",
   "metadata": {
    "execution": {
     "iopub.execute_input": "2023-10-15T05:29:51.708065Z",
     "iopub.status.busy": "2023-10-15T05:29:51.707707Z",
     "iopub.status.idle": "2023-10-15T05:29:51.713400Z",
     "shell.execute_reply": "2023-10-15T05:29:51.712572Z"
    },
    "papermill": {
     "duration": 0.032407,
     "end_time": "2023-10-15T05:29:51.715460",
     "exception": false,
     "start_time": "2023-10-15T05:29:51.683053",
     "status": "completed"
    },
    "tags": []
   },
   "outputs": [
    {
     "data": {
      "text/plain": [
       "14"
      ]
     },
     "execution_count": 23,
     "metadata": {},
     "output_type": "execute_result"
    }
   ],
   "source": [
    "s = 'I am a string.'\n",
    "len(s)"
   ]
  },
  {
   "cell_type": "markdown",
   "id": "5da7dcc7",
   "metadata": {
    "papermill": {
     "duration": 0.023008,
     "end_time": "2023-10-15T05:29:51.762284",
     "exception": false,
     "start_time": "2023-10-15T05:29:51.739276",
     "status": "completed"
    },
    "tags": []
   },
   "source": [
    "<a class=\"anchor\" id=\"`str(obj)`\"></a>\n",
    "#### `str(obj)`\n",
    "\n",
    "> Returns a string representation of an object."
   ]
  },
  {
   "cell_type": "code",
   "execution_count": 24,
   "id": "694bfa49",
   "metadata": {
    "execution": {
     "iopub.execute_input": "2023-10-15T05:29:51.810354Z",
     "iopub.status.busy": "2023-10-15T05:29:51.810000Z",
     "iopub.status.idle": "2023-10-15T05:29:51.814846Z",
     "shell.execute_reply": "2023-10-15T05:29:51.814163Z"
    },
    "papermill": {
     "duration": 0.031083,
     "end_time": "2023-10-15T05:29:51.816598",
     "exception": false,
     "start_time": "2023-10-15T05:29:51.785515",
     "status": "completed"
    },
    "tags": []
   },
   "outputs": [
    {
     "data": {
      "text/plain": [
       "'2'"
      ]
     },
     "execution_count": 24,
     "metadata": {},
     "output_type": "execute_result"
    }
   ],
   "source": [
    "str(2)"
   ]
  },
  {
   "cell_type": "markdown",
   "id": "033f0552",
   "metadata": {
    "papermill": {
     "duration": 0.022702,
     "end_time": "2023-10-15T05:29:51.862555",
     "exception": false,
     "start_time": "2023-10-15T05:29:51.839853",
     "status": "completed"
    },
    "tags": []
   },
   "source": [
    "Virtually any object in Python can be rendered as a string. `str(obj)` returns the string representation of object obj:"
   ]
  },
  {
   "cell_type": "code",
   "execution_count": 25,
   "id": "f182465a",
   "metadata": {
    "execution": {
     "iopub.execute_input": "2023-10-15T05:29:51.911110Z",
     "iopub.status.busy": "2023-10-15T05:29:51.910247Z",
     "iopub.status.idle": "2023-10-15T05:29:51.916189Z",
     "shell.execute_reply": "2023-10-15T05:29:51.915198Z"
    },
    "papermill": {
     "duration": 0.032421,
     "end_time": "2023-10-15T05:29:51.918238",
     "exception": false,
     "start_time": "2023-10-15T05:29:51.885817",
     "status": "completed"
    },
    "tags": []
   },
   "outputs": [
    {
     "data": {
      "text/plain": [
       "'49.2'"
      ]
     },
     "execution_count": 25,
     "metadata": {},
     "output_type": "execute_result"
    }
   ],
   "source": [
    "str(49.2)"
   ]
  },
  {
   "cell_type": "code",
   "execution_count": 26,
   "id": "ef8da41a",
   "metadata": {
    "execution": {
     "iopub.execute_input": "2023-10-15T05:29:51.966743Z",
     "iopub.status.busy": "2023-10-15T05:29:51.966369Z",
     "iopub.status.idle": "2023-10-15T05:29:51.972494Z",
     "shell.execute_reply": "2023-10-15T05:29:51.971555Z"
    },
    "papermill": {
     "duration": 0.032466,
     "end_time": "2023-10-15T05:29:51.974456",
     "exception": false,
     "start_time": "2023-10-15T05:29:51.941990",
     "status": "completed"
    },
    "tags": []
   },
   "outputs": [
    {
     "data": {
      "text/plain": [
       "'(3+4j)'"
      ]
     },
     "execution_count": 26,
     "metadata": {},
     "output_type": "execute_result"
    }
   ],
   "source": [
    "str(3+4j)"
   ]
  },
  {
   "cell_type": "code",
   "execution_count": 27,
   "id": "ff586e11",
   "metadata": {
    "execution": {
     "iopub.execute_input": "2023-10-15T05:29:52.023437Z",
     "iopub.status.busy": "2023-10-15T05:29:52.022618Z",
     "iopub.status.idle": "2023-10-15T05:29:52.027792Z",
     "shell.execute_reply": "2023-10-15T05:29:52.027126Z"
    },
    "papermill": {
     "duration": 0.031928,
     "end_time": "2023-10-15T05:29:52.029974",
     "exception": false,
     "start_time": "2023-10-15T05:29:51.998046",
     "status": "completed"
    },
    "tags": []
   },
   "outputs": [
    {
     "data": {
      "text/plain": [
       "'32'"
      ]
     },
     "execution_count": 27,
     "metadata": {},
     "output_type": "execute_result"
    }
   ],
   "source": [
    "str(3 + 29)"
   ]
  },
  {
   "cell_type": "code",
   "execution_count": 28,
   "id": "5652f4e4",
   "metadata": {
    "execution": {
     "iopub.execute_input": "2023-10-15T05:29:52.080693Z",
     "iopub.status.busy": "2023-10-15T05:29:52.079744Z",
     "iopub.status.idle": "2023-10-15T05:29:52.084781Z",
     "shell.execute_reply": "2023-10-15T05:29:52.084087Z"
    },
    "papermill": {
     "duration": 0.032235,
     "end_time": "2023-10-15T05:29:52.086634",
     "exception": false,
     "start_time": "2023-10-15T05:29:52.054399",
     "status": "completed"
    },
    "tags": []
   },
   "outputs": [
    {
     "data": {
      "text/plain": [
       "'foo'"
      ]
     },
     "execution_count": 28,
     "metadata": {},
     "output_type": "execute_result"
    }
   ],
   "source": [
    "str('foo')"
   ]
  },
  {
   "cell_type": "markdown",
   "id": "67ef0055",
   "metadata": {
    "papermill": {
     "duration": 0.023092,
     "end_time": "2023-10-15T05:29:52.133650",
     "exception": false,
     "start_time": "2023-10-15T05:29:52.110558",
     "status": "completed"
    },
    "tags": []
   },
   "source": [
    "<a class=\"anchor\" id=\"string_indexing\"></a>\n",
    "## String Indexing\n",
    "\n",
    "Often in programming languages, individual items in an ordered set of data can be accessed directly using a numeric index or key value. This process is referred to as indexing."
   ]
  },
  {
   "cell_type": "markdown",
   "id": "c980b8b5",
   "metadata": {
    "papermill": {
     "duration": 0.023055,
     "end_time": "2023-10-15T05:29:52.180246",
     "exception": false,
     "start_time": "2023-10-15T05:29:52.157191",
     "status": "completed"
    },
    "tags": []
   },
   "source": [
    "In Python, strings are ordered sequences of character data, and thus can be indexed in this way. Individual characters in a string can be accessed by specifying the string name followed by a number in square brackets (`[]`)."
   ]
  },
  {
   "cell_type": "markdown",
   "id": "5b229636",
   "metadata": {
    "papermill": {
     "duration": 0.023687,
     "end_time": "2023-10-15T05:29:52.227291",
     "exception": false,
     "start_time": "2023-10-15T05:29:52.203604",
     "status": "completed"
    },
    "tags": []
   },
   "source": [
    "String indexing in Python is zero-based: the first character in the string has index 0, the next has index 1, and so on. The index of the last character will be the length of the string minus one."
   ]
  },
  {
   "cell_type": "markdown",
   "id": "59e86bd4",
   "metadata": {
    "papermill": {
     "duration": 0.023112,
     "end_time": "2023-10-15T05:29:52.273963",
     "exception": false,
     "start_time": "2023-10-15T05:29:52.250851",
     "status": "completed"
    },
    "tags": []
   },
   "source": [
    "For example, a schematic diagram of the indices of the string 'foobar' would look like this:"
   ]
  },
  {
   "cell_type": "markdown",
   "id": "7abe67dd",
   "metadata": {
    "papermill": {
     "duration": 0.023008,
     "end_time": "2023-10-15T05:29:52.320331",
     "exception": false,
     "start_time": "2023-10-15T05:29:52.297323",
     "status": "completed"
    },
    "tags": []
   },
   "source": []
  },
  {
   "cell_type": "markdown",
   "id": "c92a1860",
   "metadata": {
    "papermill": {
     "duration": 0.023736,
     "end_time": "2023-10-15T05:29:52.367611",
     "exception": false,
     "start_time": "2023-10-15T05:29:52.343875",
     "status": "completed"
    },
    "tags": []
   },
   "source": [
    "The individual characters can be accessed by index as follows:"
   ]
  },
  {
   "cell_type": "code",
   "execution_count": 29,
   "id": "7292acd5",
   "metadata": {
    "execution": {
     "iopub.execute_input": "2023-10-15T05:29:52.418815Z",
     "iopub.status.busy": "2023-10-15T05:29:52.418124Z",
     "iopub.status.idle": "2023-10-15T05:29:52.422367Z",
     "shell.execute_reply": "2023-10-15T05:29:52.421456Z"
    },
    "papermill": {
     "duration": 0.03103,
     "end_time": "2023-10-15T05:29:52.424351",
     "exception": false,
     "start_time": "2023-10-15T05:29:52.393321",
     "status": "completed"
    },
    "tags": []
   },
   "outputs": [],
   "source": [
    "s = 'foobar'"
   ]
  },
  {
   "cell_type": "code",
   "execution_count": 30,
   "id": "03db42a1",
   "metadata": {
    "execution": {
     "iopub.execute_input": "2023-10-15T05:29:52.472839Z",
     "iopub.status.busy": "2023-10-15T05:29:52.472254Z",
     "iopub.status.idle": "2023-10-15T05:29:52.476953Z",
     "shell.execute_reply": "2023-10-15T05:29:52.476318Z"
    },
    "papermill": {
     "duration": 0.030772,
     "end_time": "2023-10-15T05:29:52.478586",
     "exception": false,
     "start_time": "2023-10-15T05:29:52.447814",
     "status": "completed"
    },
    "tags": []
   },
   "outputs": [
    {
     "data": {
      "text/plain": [
       "'f'"
      ]
     },
     "execution_count": 30,
     "metadata": {},
     "output_type": "execute_result"
    }
   ],
   "source": [
    "s[0]"
   ]
  },
  {
   "cell_type": "code",
   "execution_count": 31,
   "id": "80f2ad57",
   "metadata": {
    "execution": {
     "iopub.execute_input": "2023-10-15T05:29:52.527290Z",
     "iopub.status.busy": "2023-10-15T05:29:52.526699Z",
     "iopub.status.idle": "2023-10-15T05:29:52.532275Z",
     "shell.execute_reply": "2023-10-15T05:29:52.531362Z"
    },
    "papermill": {
     "duration": 0.032014,
     "end_time": "2023-10-15T05:29:52.533986",
     "exception": false,
     "start_time": "2023-10-15T05:29:52.501972",
     "status": "completed"
    },
    "tags": []
   },
   "outputs": [
    {
     "data": {
      "text/plain": [
       "'o'"
      ]
     },
     "execution_count": 31,
     "metadata": {},
     "output_type": "execute_result"
    }
   ],
   "source": [
    "s[1]"
   ]
  },
  {
   "cell_type": "code",
   "execution_count": 32,
   "id": "00e37f5b",
   "metadata": {
    "execution": {
     "iopub.execute_input": "2023-10-15T05:29:52.582795Z",
     "iopub.status.busy": "2023-10-15T05:29:52.582225Z",
     "iopub.status.idle": "2023-10-15T05:29:52.587512Z",
     "shell.execute_reply": "2023-10-15T05:29:52.586549Z"
    },
    "papermill": {
     "duration": 0.031859,
     "end_time": "2023-10-15T05:29:52.589394",
     "exception": false,
     "start_time": "2023-10-15T05:29:52.557535",
     "status": "completed"
    },
    "tags": []
   },
   "outputs": [
    {
     "data": {
      "text/plain": [
       "'b'"
      ]
     },
     "execution_count": 32,
     "metadata": {},
     "output_type": "execute_result"
    }
   ],
   "source": [
    "s[3]"
   ]
  },
  {
   "cell_type": "code",
   "execution_count": 33,
   "id": "130b6de1",
   "metadata": {
    "execution": {
     "iopub.execute_input": "2023-10-15T05:29:52.639209Z",
     "iopub.status.busy": "2023-10-15T05:29:52.638531Z",
     "iopub.status.idle": "2023-10-15T05:29:52.643278Z",
     "shell.execute_reply": "2023-10-15T05:29:52.642649Z"
    },
    "papermill": {
     "duration": 0.031404,
     "end_time": "2023-10-15T05:29:52.645025",
     "exception": false,
     "start_time": "2023-10-15T05:29:52.613621",
     "status": "completed"
    },
    "tags": []
   },
   "outputs": [
    {
     "data": {
      "text/plain": [
       "6"
      ]
     },
     "execution_count": 33,
     "metadata": {},
     "output_type": "execute_result"
    }
   ],
   "source": [
    "len(s)"
   ]
  },
  {
   "cell_type": "code",
   "execution_count": 34,
   "id": "ec4e7f66",
   "metadata": {
    "execution": {
     "iopub.execute_input": "2023-10-15T05:29:52.694661Z",
     "iopub.status.busy": "2023-10-15T05:29:52.694313Z",
     "iopub.status.idle": "2023-10-15T05:29:52.700578Z",
     "shell.execute_reply": "2023-10-15T05:29:52.699583Z"
    },
    "papermill": {
     "duration": 0.033422,
     "end_time": "2023-10-15T05:29:52.702608",
     "exception": false,
     "start_time": "2023-10-15T05:29:52.669186",
     "status": "completed"
    },
    "tags": []
   },
   "outputs": [
    {
     "data": {
      "text/plain": [
       "'r'"
      ]
     },
     "execution_count": 34,
     "metadata": {},
     "output_type": "execute_result"
    }
   ],
   "source": [
    "s[len(s)-1]"
   ]
  },
  {
   "cell_type": "markdown",
   "id": "08f70fa7",
   "metadata": {
    "papermill": {
     "duration": 0.023552,
     "end_time": "2023-10-15T05:29:52.750076",
     "exception": false,
     "start_time": "2023-10-15T05:29:52.726524",
     "status": "completed"
    },
    "tags": []
   },
   "source": [
    "Attempting to index beyond the end of the string results in an error:"
   ]
  },
  {
   "cell_type": "code",
   "execution_count": 35,
   "id": "5005bf8d",
   "metadata": {
    "execution": {
     "iopub.execute_input": "2023-10-15T05:29:52.800175Z",
     "iopub.status.busy": "2023-10-15T05:29:52.799793Z",
     "iopub.status.idle": "2023-10-15T05:29:53.046002Z",
     "shell.execute_reply": "2023-10-15T05:29:53.044471Z"
    },
    "papermill": {
     "duration": 0.272853,
     "end_time": "2023-10-15T05:29:53.047679",
     "exception": true,
     "start_time": "2023-10-15T05:29:52.774826",
     "status": "failed"
    },
    "tags": []
   },
   "outputs": [
    {
     "ename": "IndexError",
     "evalue": "string index out of range",
     "output_type": "error",
     "traceback": [
      "\u001b[0;31m---------------------------------------------------------------------------\u001b[0m",
      "\u001b[0;31mIndexError\u001b[0m                                Traceback (most recent call last)",
      "Cell \u001b[0;32mIn[35], line 1\u001b[0m\n\u001b[0;32m----> 1\u001b[0m \u001b[43ms\u001b[49m\u001b[43m[\u001b[49m\u001b[38;5;241;43m6\u001b[39;49m\u001b[43m]\u001b[49m\n",
      "\u001b[0;31mIndexError\u001b[0m: string index out of range"
     ]
    }
   ],
   "source": [
    "s[6]"
   ]
  },
  {
   "cell_type": "markdown",
   "id": "6a6e0243",
   "metadata": {
    "papermill": {
     "duration": null,
     "end_time": null,
     "exception": null,
     "start_time": null,
     "status": "pending"
    },
    "tags": []
   },
   "source": [
    "String indices can also be specified with negative numbers, in which case indexing occurs from the end of the string backward: `-1` refers to the last character, `-2` the second-to-last character, and so on. Here is the same diagram showing both the positive and negative indices into the string `'foobar'`:\n"
   ]
  },
  {
   "cell_type": "markdown",
   "id": "c6e003b2",
   "metadata": {
    "papermill": {
     "duration": null,
     "end_time": null,
     "exception": null,
     "start_time": null,
     "status": "pending"
    },
    "tags": []
   },
   "source": [
    "Here are some examples of negative indexing:"
   ]
  },
  {
   "cell_type": "code",
   "execution_count": null,
   "id": "bd0c3f9f",
   "metadata": {
    "execution": {
     "iopub.status.busy": "2023-10-15T05:28:47.875711Z",
     "iopub.status.idle": "2023-10-15T05:28:47.876530Z",
     "shell.execute_reply": "2023-10-15T05:28:47.876243Z",
     "shell.execute_reply.started": "2023-10-15T05:28:47.876216Z"
    },
    "papermill": {
     "duration": null,
     "end_time": null,
     "exception": null,
     "start_time": null,
     "status": "pending"
    },
    "tags": []
   },
   "outputs": [],
   "source": [
    "s = 'foobar'"
   ]
  },
  {
   "cell_type": "code",
   "execution_count": null,
   "id": "38a77eb2",
   "metadata": {
    "execution": {
     "iopub.status.busy": "2023-10-15T05:28:47.877963Z",
     "iopub.status.idle": "2023-10-15T05:28:47.878715Z",
     "shell.execute_reply": "2023-10-15T05:28:47.878478Z",
     "shell.execute_reply.started": "2023-10-15T05:28:47.878452Z"
    },
    "papermill": {
     "duration": null,
     "end_time": null,
     "exception": null,
     "start_time": null,
     "status": "pending"
    },
    "tags": []
   },
   "outputs": [],
   "source": [
    "s[-1]"
   ]
  },
  {
   "cell_type": "code",
   "execution_count": null,
   "id": "2b9723af",
   "metadata": {
    "execution": {
     "iopub.status.busy": "2023-10-15T05:28:47.880184Z",
     "iopub.status.idle": "2023-10-15T05:28:47.880948Z",
     "shell.execute_reply": "2023-10-15T05:28:47.880704Z",
     "shell.execute_reply.started": "2023-10-15T05:28:47.880678Z"
    },
    "papermill": {
     "duration": null,
     "end_time": null,
     "exception": null,
     "start_time": null,
     "status": "pending"
    },
    "tags": []
   },
   "outputs": [],
   "source": [
    "s[-2]"
   ]
  },
  {
   "cell_type": "code",
   "execution_count": null,
   "id": "ac0840e5",
   "metadata": {
    "execution": {
     "iopub.status.busy": "2023-10-15T05:28:47.882317Z",
     "iopub.status.idle": "2023-10-15T05:28:47.883086Z",
     "shell.execute_reply": "2023-10-15T05:28:47.882851Z",
     "shell.execute_reply.started": "2023-10-15T05:28:47.882825Z"
    },
    "papermill": {
     "duration": null,
     "end_time": null,
     "exception": null,
     "start_time": null,
     "status": "pending"
    },
    "tags": []
   },
   "outputs": [],
   "source": [
    "len(s)"
   ]
  },
  {
   "cell_type": "code",
   "execution_count": null,
   "id": "90aa3850",
   "metadata": {
    "execution": {
     "iopub.status.busy": "2023-10-15T05:28:47.884465Z",
     "iopub.status.idle": "2023-10-15T05:28:47.885265Z",
     "shell.execute_reply": "2023-10-15T05:28:47.884971Z",
     "shell.execute_reply.started": "2023-10-15T05:28:47.884946Z"
    },
    "papermill": {
     "duration": null,
     "end_time": null,
     "exception": null,
     "start_time": null,
     "status": "pending"
    },
    "tags": []
   },
   "outputs": [],
   "source": [
    "s[-len(s)]"
   ]
  },
  {
   "cell_type": "markdown",
   "id": "82011d36",
   "metadata": {
    "papermill": {
     "duration": null,
     "end_time": null,
     "exception": null,
     "start_time": null,
     "status": "pending"
    },
    "tags": []
   },
   "source": [
    "Attempting to index with negative numbers beyond the start of the string results in an error:"
   ]
  },
  {
   "cell_type": "code",
   "execution_count": null,
   "id": "ec7175e1",
   "metadata": {
    "execution": {
     "iopub.status.busy": "2023-10-15T05:28:47.886630Z",
     "iopub.status.idle": "2023-10-15T05:28:47.887400Z",
     "shell.execute_reply": "2023-10-15T05:28:47.887147Z",
     "shell.execute_reply.started": "2023-10-15T05:28:47.887122Z"
    },
    "papermill": {
     "duration": null,
     "end_time": null,
     "exception": null,
     "start_time": null,
     "status": "pending"
    },
    "tags": []
   },
   "outputs": [],
   "source": [
    "s[-7]"
   ]
  },
  {
   "cell_type": "markdown",
   "id": "84905d1e",
   "metadata": {
    "papermill": {
     "duration": null,
     "end_time": null,
     "exception": null,
     "start_time": null,
     "status": "pending"
    },
    "tags": []
   },
   "source": [
    "For any non-empty string `s`, `s[len(s)-1]` and `s[-1]` both return the last character. There isn’t any index that makes sense for an empty string."
   ]
  },
  {
   "cell_type": "markdown",
   "id": "3ffd2f38",
   "metadata": {
    "papermill": {
     "duration": null,
     "end_time": null,
     "exception": null,
     "start_time": null,
     "status": "pending"
    },
    "tags": []
   },
   "source": [
    "<a class=\"anchor\" id=\"string_slicing\"></a>\n",
    "## String Slicing\n",
    "\n",
    "Python also allows a form of indexing syntax that extracts substrings from a string, known as string slicing. If `s` is a string, an expression of the form `s[m:n]` returns the portion of `s` starting with position `m`, and up to but not including position `n`:"
   ]
  },
  {
   "cell_type": "code",
   "execution_count": null,
   "id": "a594aec2",
   "metadata": {
    "execution": {
     "iopub.status.busy": "2023-10-15T05:28:47.888768Z",
     "iopub.status.idle": "2023-10-15T05:28:47.889113Z",
     "shell.execute_reply": "2023-10-15T05:28:47.888971Z",
     "shell.execute_reply.started": "2023-10-15T05:28:47.888955Z"
    },
    "papermill": {
     "duration": null,
     "end_time": null,
     "exception": null,
     "start_time": null,
     "status": "pending"
    },
    "tags": []
   },
   "outputs": [],
   "source": [
    "s = 'foobar'"
   ]
  },
  {
   "cell_type": "code",
   "execution_count": null,
   "id": "3ac2389b",
   "metadata": {
    "execution": {
     "iopub.execute_input": "2023-10-15T05:28:47.901288Z",
     "iopub.status.busy": "2023-10-15T05:28:47.900973Z",
     "iopub.status.idle": "2023-10-15T05:28:47.908096Z",
     "shell.execute_reply": "2023-10-15T05:28:47.907011Z",
     "shell.execute_reply.started": "2023-10-15T05:28:47.901262Z"
    },
    "papermill": {
     "duration": null,
     "end_time": null,
     "exception": null,
     "start_time": null,
     "status": "pending"
    },
    "tags": []
   },
   "outputs": [],
   "source": [
    "s[2:5]"
   ]
  },
  {
   "cell_type": "markdown",
   "id": "2ce2d7e9",
   "metadata": {
    "papermill": {
     "duration": null,
     "end_time": null,
     "exception": null,
     "start_time": null,
     "status": "pending"
    },
    "tags": []
   },
   "source": [
    "> **Remember:** String indices are zero-based. The first character in a string has index `0`. This applies to both standard indexing and slicing."
   ]
  },
  {
   "cell_type": "markdown",
   "id": "65dfe6ef",
   "metadata": {
    "papermill": {
     "duration": null,
     "end_time": null,
     "exception": null,
     "start_time": null,
     "status": "pending"
    },
    "tags": []
   },
   "source": [
    "Again, the second index specifies the first character that is not included in the result—the character `'r'` (`s[5]`) in the example above. That may seem slightly unintuitive, but it produces this result which makes sense: the expression `s[m:n]` will return a substring that is `n - m` characters in length, in this case, `5 - 2 = 3`."
   ]
  },
  {
   "cell_type": "markdown",
   "id": "a33fbcb1",
   "metadata": {
    "papermill": {
     "duration": null,
     "end_time": null,
     "exception": null,
     "start_time": null,
     "status": "pending"
    },
    "tags": []
   },
   "source": [
    "If you omit the first index, the slice starts at the beginning of the string. Thus, `s[:m]` and `s[0:m]` are equivalent:"
   ]
  },
  {
   "cell_type": "code",
   "execution_count": null,
   "id": "523c52d2",
   "metadata": {
    "execution": {
     "iopub.execute_input": "2023-10-15T05:28:47.910770Z",
     "iopub.status.busy": "2023-10-15T05:28:47.909880Z",
     "iopub.status.idle": "2023-10-15T05:28:47.918457Z",
     "shell.execute_reply": "2023-10-15T05:28:47.917503Z",
     "shell.execute_reply.started": "2023-10-15T05:28:47.910738Z"
    },
    "papermill": {
     "duration": null,
     "end_time": null,
     "exception": null,
     "start_time": null,
     "status": "pending"
    },
    "tags": []
   },
   "outputs": [],
   "source": [
    "s = 'foobar'"
   ]
  },
  {
   "cell_type": "code",
   "execution_count": null,
   "id": "886684e0",
   "metadata": {
    "execution": {
     "iopub.execute_input": "2023-10-15T05:28:47.933053Z",
     "iopub.status.busy": "2023-10-15T05:28:47.932647Z",
     "iopub.status.idle": "2023-10-15T05:28:47.939570Z",
     "shell.execute_reply": "2023-10-15T05:28:47.938639Z",
     "shell.execute_reply.started": "2023-10-15T05:28:47.933019Z"
    },
    "papermill": {
     "duration": null,
     "end_time": null,
     "exception": null,
     "start_time": null,
     "status": "pending"
    },
    "tags": []
   },
   "outputs": [],
   "source": [
    "s[:4]"
   ]
  },
  {
   "cell_type": "code",
   "execution_count": null,
   "id": "52fd7058",
   "metadata": {
    "execution": {
     "iopub.execute_input": "2023-10-15T05:28:47.942149Z",
     "iopub.status.busy": "2023-10-15T05:28:47.941482Z",
     "iopub.status.idle": "2023-10-15T05:28:47.951528Z",
     "shell.execute_reply": "2023-10-15T05:28:47.950486Z",
     "shell.execute_reply.started": "2023-10-15T05:28:47.942105Z"
    },
    "papermill": {
     "duration": null,
     "end_time": null,
     "exception": null,
     "start_time": null,
     "status": "pending"
    },
    "tags": []
   },
   "outputs": [],
   "source": [
    "s[0:4]"
   ]
  },
  {
   "cell_type": "markdown",
   "id": "fe9f8aa6",
   "metadata": {
    "papermill": {
     "duration": null,
     "end_time": null,
     "exception": null,
     "start_time": null,
     "status": "pending"
    },
    "tags": []
   },
   "source": [
    "Similarly, if you omit the second index as in `s[n:]`, the slice extends from the first index through the end of the string. This is a nice, concise alternative to the more cumbersome `s[n:len(s)]`:"
   ]
  },
  {
   "cell_type": "code",
   "execution_count": null,
   "id": "0b0af53a",
   "metadata": {
    "execution": {
     "iopub.execute_input": "2023-10-15T05:28:47.959497Z",
     "iopub.status.busy": "2023-10-15T05:28:47.958568Z",
     "iopub.status.idle": "2023-10-15T05:28:47.964768Z",
     "shell.execute_reply": "2023-10-15T05:28:47.963953Z",
     "shell.execute_reply.started": "2023-10-15T05:28:47.959462Z"
    },
    "papermill": {
     "duration": null,
     "end_time": null,
     "exception": null,
     "start_time": null,
     "status": "pending"
    },
    "tags": []
   },
   "outputs": [],
   "source": [
    "s = 'foobar'"
   ]
  },
  {
   "cell_type": "code",
   "execution_count": null,
   "id": "aaf7e096",
   "metadata": {
    "execution": {
     "iopub.execute_input": "2023-10-15T05:28:47.984121Z",
     "iopub.status.busy": "2023-10-15T05:28:47.983131Z",
     "iopub.status.idle": "2023-10-15T05:28:47.990041Z",
     "shell.execute_reply": "2023-10-15T05:28:47.989138Z",
     "shell.execute_reply.started": "2023-10-15T05:28:47.984082Z"
    },
    "papermill": {
     "duration": null,
     "end_time": null,
     "exception": null,
     "start_time": null,
     "status": "pending"
    },
    "tags": []
   },
   "outputs": [],
   "source": [
    "s[2:]"
   ]
  },
  {
   "cell_type": "code",
   "execution_count": null,
   "id": "61822646",
   "metadata": {
    "execution": {
     "iopub.execute_input": "2023-10-15T05:28:47.992135Z",
     "iopub.status.busy": "2023-10-15T05:28:47.991610Z",
     "iopub.status.idle": "2023-10-15T05:28:48.004013Z",
     "shell.execute_reply": "2023-10-15T05:28:48.002847Z",
     "shell.execute_reply.started": "2023-10-15T05:28:47.992107Z"
    },
    "papermill": {
     "duration": null,
     "end_time": null,
     "exception": null,
     "start_time": null,
     "status": "pending"
    },
    "tags": []
   },
   "outputs": [],
   "source": [
    "s[2:len(s)]"
   ]
  },
  {
   "cell_type": "markdown",
   "id": "b195b429",
   "metadata": {
    "papermill": {
     "duration": null,
     "end_time": null,
     "exception": null,
     "start_time": null,
     "status": "pending"
    },
    "tags": []
   },
   "source": [
    "For any string `s` and any integer `n` (`0 ≤ n ≤ len(s)`), `s[:n]` + `s[n:]` will be equal to `s`:"
   ]
  },
  {
   "cell_type": "code",
   "execution_count": null,
   "id": "17bfcc14",
   "metadata": {
    "execution": {
     "iopub.execute_input": "2023-10-15T05:28:48.012514Z",
     "iopub.status.busy": "2023-10-15T05:28:48.012095Z",
     "iopub.status.idle": "2023-10-15T05:28:48.018250Z",
     "shell.execute_reply": "2023-10-15T05:28:48.017342Z",
     "shell.execute_reply.started": "2023-10-15T05:28:48.012482Z"
    },
    "papermill": {
     "duration": null,
     "end_time": null,
     "exception": null,
     "start_time": null,
     "status": "pending"
    },
    "tags": []
   },
   "outputs": [],
   "source": [
    "s = 'foobar'"
   ]
  },
  {
   "cell_type": "code",
   "execution_count": null,
   "id": "97f8990d",
   "metadata": {
    "execution": {
     "iopub.execute_input": "2023-10-15T05:28:48.020818Z",
     "iopub.status.busy": "2023-10-15T05:28:48.020414Z",
     "iopub.status.idle": "2023-10-15T05:28:48.037156Z",
     "shell.execute_reply": "2023-10-15T05:28:48.036326Z",
     "shell.execute_reply.started": "2023-10-15T05:28:48.020780Z"
    },
    "papermill": {
     "duration": null,
     "end_time": null,
     "exception": null,
     "start_time": null,
     "status": "pending"
    },
    "tags": []
   },
   "outputs": [],
   "source": [
    "s[:4] + s[4:]"
   ]
  },
  {
   "cell_type": "code",
   "execution_count": null,
   "id": "358504a1",
   "metadata": {
    "execution": {
     "iopub.execute_input": "2023-10-15T05:28:48.041802Z",
     "iopub.status.busy": "2023-10-15T05:28:48.041135Z",
     "iopub.status.idle": "2023-10-15T05:28:48.050043Z",
     "shell.execute_reply": "2023-10-15T05:28:48.048879Z",
     "shell.execute_reply.started": "2023-10-15T05:28:48.041769Z"
    },
    "papermill": {
     "duration": null,
     "end_time": null,
     "exception": null,
     "start_time": null,
     "status": "pending"
    },
    "tags": []
   },
   "outputs": [],
   "source": [
    "s[:4] + s[4:] == s"
   ]
  },
  {
   "cell_type": "markdown",
   "id": "f6602980",
   "metadata": {
    "papermill": {
     "duration": null,
     "end_time": null,
     "exception": null,
     "start_time": null,
     "status": "pending"
    },
    "tags": []
   },
   "source": [
    "Omitting both indices returns the original string, in its entirety. Literally. It’s not a copy, it’s a reference to the original string:"
   ]
  },
  {
   "cell_type": "code",
   "execution_count": null,
   "id": "4f686a2a",
   "metadata": {
    "execution": {
     "iopub.execute_input": "2023-10-15T05:28:48.069332Z",
     "iopub.status.busy": "2023-10-15T05:28:48.068954Z",
     "iopub.status.idle": "2023-10-15T05:28:48.074470Z",
     "shell.execute_reply": "2023-10-15T05:28:48.073390Z",
     "shell.execute_reply.started": "2023-10-15T05:28:48.069300Z"
    },
    "papermill": {
     "duration": null,
     "end_time": null,
     "exception": null,
     "start_time": null,
     "status": "pending"
    },
    "tags": []
   },
   "outputs": [],
   "source": [
    "s = 'foobar'\n",
    "t = s[:]"
   ]
  },
  {
   "cell_type": "code",
   "execution_count": null,
   "id": "7c0a30ac",
   "metadata": {
    "execution": {
     "iopub.execute_input": "2023-10-15T05:28:48.076962Z",
     "iopub.status.busy": "2023-10-15T05:28:48.076575Z",
     "iopub.status.idle": "2023-10-15T05:28:48.088276Z",
     "shell.execute_reply": "2023-10-15T05:28:48.087564Z",
     "shell.execute_reply.started": "2023-10-15T05:28:48.076926Z"
    },
    "papermill": {
     "duration": null,
     "end_time": null,
     "exception": null,
     "start_time": null,
     "status": "pending"
    },
    "tags": []
   },
   "outputs": [],
   "source": [
    "id(s)"
   ]
  },
  {
   "cell_type": "code",
   "execution_count": null,
   "id": "ac905690",
   "metadata": {
    "execution": {
     "iopub.execute_input": "2023-10-15T05:28:48.158324Z",
     "iopub.status.busy": "2023-10-15T05:28:48.157612Z",
     "iopub.status.idle": "2023-10-15T05:28:48.165140Z",
     "shell.execute_reply": "2023-10-15T05:28:48.164306Z",
     "shell.execute_reply.started": "2023-10-15T05:28:48.158282Z"
    },
    "papermill": {
     "duration": null,
     "end_time": null,
     "exception": null,
     "start_time": null,
     "status": "pending"
    },
    "tags": []
   },
   "outputs": [],
   "source": [
    "id(t)"
   ]
  },
  {
   "cell_type": "code",
   "execution_count": null,
   "id": "b04001e5",
   "metadata": {
    "execution": {
     "iopub.execute_input": "2023-10-15T05:28:48.167990Z",
     "iopub.status.busy": "2023-10-15T05:28:48.167031Z",
     "iopub.status.idle": "2023-10-15T05:28:48.178422Z",
     "shell.execute_reply": "2023-10-15T05:28:48.177521Z",
     "shell.execute_reply.started": "2023-10-15T05:28:48.167951Z"
    },
    "papermill": {
     "duration": null,
     "end_time": null,
     "exception": null,
     "start_time": null,
     "status": "pending"
    },
    "tags": []
   },
   "outputs": [],
   "source": [
    "s is t"
   ]
  },
  {
   "cell_type": "markdown",
   "id": "a29eaef5",
   "metadata": {
    "papermill": {
     "duration": null,
     "end_time": null,
     "exception": null,
     "start_time": null,
     "status": "pending"
    },
    "tags": []
   },
   "source": [
    "If the first index in a slice is greater than or equal to the second index, Python returns an empty string. This is yet another obfuscated way to generate an empty string, in case you were looking for one:"
   ]
  },
  {
   "cell_type": "code",
   "execution_count": null,
   "id": "380f7f25",
   "metadata": {
    "execution": {
     "iopub.execute_input": "2023-10-15T05:28:48.189591Z",
     "iopub.status.busy": "2023-10-15T05:28:48.189035Z",
     "iopub.status.idle": "2023-10-15T05:28:48.195395Z",
     "shell.execute_reply": "2023-10-15T05:28:48.194746Z",
     "shell.execute_reply.started": "2023-10-15T05:28:48.189557Z"
    },
    "papermill": {
     "duration": null,
     "end_time": null,
     "exception": null,
     "start_time": null,
     "status": "pending"
    },
    "tags": []
   },
   "outputs": [],
   "source": [
    "s[2:2]"
   ]
  },
  {
   "cell_type": "code",
   "execution_count": null,
   "id": "a3ba8ef9",
   "metadata": {
    "execution": {
     "iopub.execute_input": "2023-10-15T05:28:48.197838Z",
     "iopub.status.busy": "2023-10-15T05:28:48.196900Z",
     "iopub.status.idle": "2023-10-15T05:28:48.209220Z",
     "shell.execute_reply": "2023-10-15T05:28:48.208417Z",
     "shell.execute_reply.started": "2023-10-15T05:28:48.197809Z"
    },
    "papermill": {
     "duration": null,
     "end_time": null,
     "exception": null,
     "start_time": null,
     "status": "pending"
    },
    "tags": []
   },
   "outputs": [],
   "source": [
    "s[4:2]"
   ]
  },
  {
   "cell_type": "markdown",
   "id": "9b33b8d8",
   "metadata": {
    "papermill": {
     "duration": null,
     "end_time": null,
     "exception": null,
     "start_time": null,
     "status": "pending"
    },
    "tags": []
   },
   "source": [
    "Negative indices can be used with slicing as well. `-1` refers to the last character, `-2` the second-to-last, and so on, just as with simple indexing. The diagram below shows how to slice the substring `'oob'` from the string `'foobar'` using both positive and negative indices:"
   ]
  },
  {
   "cell_type": "markdown",
   "id": "dc13c0df",
   "metadata": {
    "papermill": {
     "duration": null,
     "end_time": null,
     "exception": null,
     "start_time": null,
     "status": "pending"
    },
    "tags": []
   },
   "source": []
  },
  {
   "cell_type": "markdown",
   "id": "fa9e2993",
   "metadata": {
    "papermill": {
     "duration": null,
     "end_time": null,
     "exception": null,
     "start_time": null,
     "status": "pending"
    },
    "tags": []
   },
   "source": [
    "Here is the corresponding Python code:"
   ]
  },
  {
   "cell_type": "code",
   "execution_count": null,
   "id": "1d208120",
   "metadata": {
    "execution": {
     "iopub.execute_input": "2023-10-15T05:28:48.223455Z",
     "iopub.status.busy": "2023-10-15T05:28:48.222509Z",
     "iopub.status.idle": "2023-10-15T05:28:48.227727Z",
     "shell.execute_reply": "2023-10-15T05:28:48.226658Z",
     "shell.execute_reply.started": "2023-10-15T05:28:48.223416Z"
    },
    "papermill": {
     "duration": null,
     "end_time": null,
     "exception": null,
     "start_time": null,
     "status": "pending"
    },
    "tags": []
   },
   "outputs": [],
   "source": [
    "s = 'foobar'"
   ]
  },
  {
   "cell_type": "code",
   "execution_count": null,
   "id": "65e5faa0",
   "metadata": {
    "execution": {
     "iopub.execute_input": "2023-10-15T05:28:48.260045Z",
     "iopub.status.busy": "2023-10-15T05:28:48.259253Z",
     "iopub.status.idle": "2023-10-15T05:28:48.266340Z",
     "shell.execute_reply": "2023-10-15T05:28:48.265402Z",
     "shell.execute_reply.started": "2023-10-15T05:28:48.260013Z"
    },
    "papermill": {
     "duration": null,
     "end_time": null,
     "exception": null,
     "start_time": null,
     "status": "pending"
    },
    "tags": []
   },
   "outputs": [],
   "source": [
    "s[-5:-2]"
   ]
  },
  {
   "cell_type": "code",
   "execution_count": null,
   "id": "2ed7003b",
   "metadata": {
    "execution": {
     "iopub.execute_input": "2023-10-15T05:28:48.268156Z",
     "iopub.status.busy": "2023-10-15T05:28:48.267847Z",
     "iopub.status.idle": "2023-10-15T05:28:48.279113Z",
     "shell.execute_reply": "2023-10-15T05:28:48.278442Z",
     "shell.execute_reply.started": "2023-10-15T05:28:48.268123Z"
    },
    "papermill": {
     "duration": null,
     "end_time": null,
     "exception": null,
     "start_time": null,
     "status": "pending"
    },
    "tags": []
   },
   "outputs": [],
   "source": [
    "s[1:4]"
   ]
  },
  {
   "cell_type": "code",
   "execution_count": null,
   "id": "123fdbf4",
   "metadata": {
    "execution": {
     "iopub.execute_input": "2023-10-15T05:28:48.290423Z",
     "iopub.status.busy": "2023-10-15T05:28:48.289597Z",
     "iopub.status.idle": "2023-10-15T05:28:48.297160Z",
     "shell.execute_reply": "2023-10-15T05:28:48.296187Z",
     "shell.execute_reply.started": "2023-10-15T05:28:48.290377Z"
    },
    "papermill": {
     "duration": null,
     "end_time": null,
     "exception": null,
     "start_time": null,
     "status": "pending"
    },
    "tags": []
   },
   "outputs": [],
   "source": [
    "s[-5:-2] == s[1:4]"
   ]
  },
  {
   "cell_type": "markdown",
   "id": "875bbbe9",
   "metadata": {
    "papermill": {
     "duration": null,
     "end_time": null,
     "exception": null,
     "start_time": null,
     "status": "pending"
    },
    "tags": []
   },
   "source": [
    "<a class=\"anchor\" id=\"specifying_a_stride_in_a_string_slice\"></a>\n",
    "### Specifying a Stride in a String Slice\n",
    "\n",
    "There is one more variant of the slicing syntax to discuss. Adding an additional : and a third index designates a stride (also called a step), which indicates how many characters to jump after retrieving each character in the slice."
   ]
  },
  {
   "cell_type": "markdown",
   "id": "efb891ef",
   "metadata": {
    "papermill": {
     "duration": null,
     "end_time": null,
     "exception": null,
     "start_time": null,
     "status": "pending"
    },
    "tags": []
   },
   "source": [
    "For example, for the string `'foobar'`, the slice `0:6:2` starts with the first character and ends with the last character (the whole string), and every second character is skipped. This is shown in the following diagram:"
   ]
  },
  {
   "cell_type": "markdown",
   "id": "0c4ce531",
   "metadata": {
    "papermill": {
     "duration": null,
     "end_time": null,
     "exception": null,
     "start_time": null,
     "status": "pending"
    },
    "tags": []
   },
   "source": []
  },
  {
   "cell_type": "markdown",
   "id": "42e99712",
   "metadata": {
    "papermill": {
     "duration": null,
     "end_time": null,
     "exception": null,
     "start_time": null,
     "status": "pending"
    },
    "tags": []
   },
   "source": [
    "Similarly, `1:6:2` specifies a slice starting with the second character (index 1) and ending with the last character, and again the stride value 2 causes every other character to be skipped:"
   ]
  },
  {
   "cell_type": "markdown",
   "id": "101a13ff",
   "metadata": {
    "papermill": {
     "duration": null,
     "end_time": null,
     "exception": null,
     "start_time": null,
     "status": "pending"
    },
    "tags": []
   },
   "source": []
  },
  {
   "cell_type": "markdown",
   "id": "0463ca4b",
   "metadata": {
    "papermill": {
     "duration": null,
     "end_time": null,
     "exception": null,
     "start_time": null,
     "status": "pending"
    },
    "tags": []
   },
   "source": [
    "The illustrative REPL code is shown here:"
   ]
  },
  {
   "cell_type": "code",
   "execution_count": null,
   "id": "2e5485b5",
   "metadata": {
    "execution": {
     "iopub.execute_input": "2023-10-15T05:28:48.299176Z",
     "iopub.status.busy": "2023-10-15T05:28:48.298771Z",
     "iopub.status.idle": "2023-10-15T05:28:48.310599Z",
     "shell.execute_reply": "2023-10-15T05:28:48.309405Z",
     "shell.execute_reply.started": "2023-10-15T05:28:48.299144Z"
    },
    "papermill": {
     "duration": null,
     "end_time": null,
     "exception": null,
     "start_time": null,
     "status": "pending"
    },
    "tags": []
   },
   "outputs": [],
   "source": [
    "s = 'foobar'"
   ]
  },
  {
   "cell_type": "code",
   "execution_count": null,
   "id": "4e6ee81f",
   "metadata": {
    "execution": {
     "iopub.execute_input": "2023-10-15T05:28:48.322220Z",
     "iopub.status.busy": "2023-10-15T05:28:48.321301Z",
     "iopub.status.idle": "2023-10-15T05:28:48.327949Z",
     "shell.execute_reply": "2023-10-15T05:28:48.327011Z",
     "shell.execute_reply.started": "2023-10-15T05:28:48.322183Z"
    },
    "papermill": {
     "duration": null,
     "end_time": null,
     "exception": null,
     "start_time": null,
     "status": "pending"
    },
    "tags": []
   },
   "outputs": [],
   "source": [
    "s[0:6:2]"
   ]
  },
  {
   "cell_type": "code",
   "execution_count": null,
   "id": "c4e75218",
   "metadata": {
    "execution": {
     "iopub.execute_input": "2023-10-15T05:28:48.330681Z",
     "iopub.status.busy": "2023-10-15T05:28:48.329958Z",
     "iopub.status.idle": "2023-10-15T05:28:48.343139Z",
     "shell.execute_reply": "2023-10-15T05:28:48.341820Z",
     "shell.execute_reply.started": "2023-10-15T05:28:48.330640Z"
    },
    "papermill": {
     "duration": null,
     "end_time": null,
     "exception": null,
     "start_time": null,
     "status": "pending"
    },
    "tags": []
   },
   "outputs": [],
   "source": [
    "s[1:6:2]"
   ]
  },
  {
   "cell_type": "markdown",
   "id": "abd55523",
   "metadata": {
    "papermill": {
     "duration": null,
     "end_time": null,
     "exception": null,
     "start_time": null,
     "status": "pending"
    },
    "tags": []
   },
   "source": [
    "As with any slicing, the first and second indices can be omitted, and default to the first and last characters respectively:"
   ]
  },
  {
   "cell_type": "code",
   "execution_count": null,
   "id": "71c92b40",
   "metadata": {
    "execution": {
     "iopub.execute_input": "2023-10-15T05:28:48.348134Z",
     "iopub.status.busy": "2023-10-15T05:28:48.347672Z",
     "iopub.status.idle": "2023-10-15T05:28:48.355964Z",
     "shell.execute_reply": "2023-10-15T05:28:48.354844Z",
     "shell.execute_reply.started": "2023-10-15T05:28:48.348087Z"
    },
    "papermill": {
     "duration": null,
     "end_time": null,
     "exception": null,
     "start_time": null,
     "status": "pending"
    },
    "tags": []
   },
   "outputs": [],
   "source": [
    "s = '12345' * 5\n",
    "s"
   ]
  },
  {
   "cell_type": "code",
   "execution_count": null,
   "id": "ab1488b0",
   "metadata": {
    "execution": {
     "iopub.execute_input": "2023-10-15T05:28:48.373645Z",
     "iopub.status.busy": "2023-10-15T05:28:48.372799Z",
     "iopub.status.idle": "2023-10-15T05:28:48.379679Z",
     "shell.execute_reply": "2023-10-15T05:28:48.378518Z",
     "shell.execute_reply.started": "2023-10-15T05:28:48.373576Z"
    },
    "papermill": {
     "duration": null,
     "end_time": null,
     "exception": null,
     "start_time": null,
     "status": "pending"
    },
    "tags": []
   },
   "outputs": [],
   "source": [
    "s[::5]"
   ]
  },
  {
   "cell_type": "code",
   "execution_count": null,
   "id": "7210b1b2",
   "metadata": {
    "execution": {
     "iopub.execute_input": "2023-10-15T05:28:48.382902Z",
     "iopub.status.busy": "2023-10-15T05:28:48.381829Z",
     "iopub.status.idle": "2023-10-15T05:28:48.393404Z",
     "shell.execute_reply": "2023-10-15T05:28:48.392536Z",
     "shell.execute_reply.started": "2023-10-15T05:28:48.382870Z"
    },
    "papermill": {
     "duration": null,
     "end_time": null,
     "exception": null,
     "start_time": null,
     "status": "pending"
    },
    "tags": []
   },
   "outputs": [],
   "source": [
    "s[4::5]"
   ]
  },
  {
   "cell_type": "markdown",
   "id": "f35fc2f9",
   "metadata": {
    "papermill": {
     "duration": null,
     "end_time": null,
     "exception": null,
     "start_time": null,
     "status": "pending"
    },
    "tags": []
   },
   "source": [
    "You can specify a negative stride value as well, in which case Python steps backward through the string. In that case, the starting/first index should be greater than the ending/second index:"
   ]
  },
  {
   "cell_type": "code",
   "execution_count": null,
   "id": "23a86a50",
   "metadata": {
    "execution": {
     "iopub.execute_input": "2023-10-15T05:28:48.398819Z",
     "iopub.status.busy": "2023-10-15T05:28:48.397965Z",
     "iopub.status.idle": "2023-10-15T05:28:48.405567Z",
     "shell.execute_reply": "2023-10-15T05:28:48.404738Z",
     "shell.execute_reply.started": "2023-10-15T05:28:48.398781Z"
    },
    "papermill": {
     "duration": null,
     "end_time": null,
     "exception": null,
     "start_time": null,
     "status": "pending"
    },
    "tags": []
   },
   "outputs": [],
   "source": [
    "s = 'foobar'"
   ]
  },
  {
   "cell_type": "code",
   "execution_count": null,
   "id": "23f1b236",
   "metadata": {
    "execution": {
     "iopub.execute_input": "2023-10-15T05:28:48.408601Z",
     "iopub.status.busy": "2023-10-15T05:28:48.407629Z",
     "iopub.status.idle": "2023-10-15T05:28:48.420871Z",
     "shell.execute_reply": "2023-10-15T05:28:48.419409Z",
     "shell.execute_reply.started": "2023-10-15T05:28:48.408558Z"
    },
    "papermill": {
     "duration": null,
     "end_time": null,
     "exception": null,
     "start_time": null,
     "status": "pending"
    },
    "tags": []
   },
   "outputs": [],
   "source": [
    "s[5:0:-2]"
   ]
  },
  {
   "cell_type": "markdown",
   "id": "872d1649",
   "metadata": {
    "papermill": {
     "duration": null,
     "end_time": null,
     "exception": null,
     "start_time": null,
     "status": "pending"
    },
    "tags": []
   },
   "source": [
    "In the above example, `5:0:-2` means “start at the last character and step backward by 2, up to but not including the first character.”"
   ]
  },
  {
   "cell_type": "markdown",
   "id": "1866e974",
   "metadata": {
    "papermill": {
     "duration": null,
     "end_time": null,
     "exception": null,
     "start_time": null,
     "status": "pending"
    },
    "tags": []
   },
   "source": [
    "When you are stepping backward, if the first and second indices are omitted, the defaults are reversed in an intuitive way: the first index defaults to the end of the string, and the second index defaults to the beginning. Here is an example:"
   ]
  },
  {
   "cell_type": "code",
   "execution_count": null,
   "id": "cde802e7",
   "metadata": {
    "execution": {
     "iopub.execute_input": "2023-10-15T05:28:48.425836Z",
     "iopub.status.busy": "2023-10-15T05:28:48.425133Z",
     "iopub.status.idle": "2023-10-15T05:28:48.433859Z",
     "shell.execute_reply": "2023-10-15T05:28:48.432903Z",
     "shell.execute_reply.started": "2023-10-15T05:28:48.425803Z"
    },
    "papermill": {
     "duration": null,
     "end_time": null,
     "exception": null,
     "start_time": null,
     "status": "pending"
    },
    "tags": []
   },
   "outputs": [],
   "source": [
    "s = '12345' * 5\n",
    "s"
   ]
  },
  {
   "cell_type": "code",
   "execution_count": null,
   "id": "90c92730",
   "metadata": {
    "execution": {
     "iopub.execute_input": "2023-10-15T05:28:48.452748Z",
     "iopub.status.busy": "2023-10-15T05:28:48.452313Z",
     "iopub.status.idle": "2023-10-15T05:28:48.459931Z",
     "shell.execute_reply": "2023-10-15T05:28:48.458838Z",
     "shell.execute_reply.started": "2023-10-15T05:28:48.452716Z"
    },
    "papermill": {
     "duration": null,
     "end_time": null,
     "exception": null,
     "start_time": null,
     "status": "pending"
    },
    "tags": []
   },
   "outputs": [],
   "source": [
    "s[::-5]"
   ]
  },
  {
   "cell_type": "markdown",
   "id": "7d36b490",
   "metadata": {
    "papermill": {
     "duration": null,
     "end_time": null,
     "exception": null,
     "start_time": null,
     "status": "pending"
    },
    "tags": []
   },
   "source": [
    "This is a common paradigm for reversing a string:"
   ]
  },
  {
   "cell_type": "code",
   "execution_count": null,
   "id": "8f93b838",
   "metadata": {
    "execution": {
     "iopub.execute_input": "2023-10-15T05:28:48.462224Z",
     "iopub.status.busy": "2023-10-15T05:28:48.461823Z",
     "iopub.status.idle": "2023-10-15T05:28:48.473788Z",
     "shell.execute_reply": "2023-10-15T05:28:48.472670Z",
     "shell.execute_reply.started": "2023-10-15T05:28:48.462185Z"
    },
    "papermill": {
     "duration": null,
     "end_time": null,
     "exception": null,
     "start_time": null,
     "status": "pending"
    },
    "tags": []
   },
   "outputs": [],
   "source": [
    "s = 'If Comrade Napoleon says it, it must be right.'\n",
    "s[::-1]"
   ]
  },
  {
   "cell_type": "markdown",
   "id": "d964c601",
   "metadata": {
    "papermill": {
     "duration": null,
     "end_time": null,
     "exception": null,
     "start_time": null,
     "status": "pending"
    },
    "tags": []
   },
   "source": [
    "<a class=\"anchor\" id=\"interpolating_variables_into_a_string\"></a>\n",
    "### Interpolating Variables Into a String\n",
    "\n",
    "In Python version 3.6, a new string formatting mechanism was introduced. This feature is formally named the Formatted String Literal, but is more usually referred to by its nickname **f-string**."
   ]
  },
  {
   "cell_type": "markdown",
   "id": "4d661a4a",
   "metadata": {
    "papermill": {
     "duration": null,
     "end_time": null,
     "exception": null,
     "start_time": null,
     "status": "pending"
    },
    "tags": []
   },
   "source": [
    "One simple feature of f-strings you can start using right away is variable interpolation. You can specify a variable name directly within an f-string literal, and Python will replace the name with the corresponding value."
   ]
  },
  {
   "cell_type": "markdown",
   "id": "c4d147d2",
   "metadata": {
    "papermill": {
     "duration": null,
     "end_time": null,
     "exception": null,
     "start_time": null,
     "status": "pending"
    },
    "tags": []
   },
   "source": [
    "For example, suppose you want to display the result of an arithmetic calculation. You can do this with a straightforward `print()` statement, separating numeric values and string literals by commas:"
   ]
  },
  {
   "cell_type": "code",
   "execution_count": null,
   "id": "cf86f134",
   "metadata": {
    "execution": {
     "iopub.execute_input": "2023-10-15T05:28:48.480099Z",
     "iopub.status.busy": "2023-10-15T05:28:48.479665Z",
     "iopub.status.idle": "2023-10-15T05:28:48.484523Z",
     "shell.execute_reply": "2023-10-15T05:28:48.483481Z",
     "shell.execute_reply.started": "2023-10-15T05:28:48.480067Z"
    },
    "papermill": {
     "duration": null,
     "end_time": null,
     "exception": null,
     "start_time": null,
     "status": "pending"
    },
    "tags": []
   },
   "outputs": [],
   "source": [
    "n = 20\n",
    "m = 25\n",
    "prod = n * m"
   ]
  },
  {
   "cell_type": "code",
   "execution_count": null,
   "id": "f7873869",
   "metadata": {
    "execution": {
     "iopub.execute_input": "2023-10-15T05:28:48.486620Z",
     "iopub.status.busy": "2023-10-15T05:28:48.485931Z",
     "iopub.status.idle": "2023-10-15T05:28:48.498684Z",
     "shell.execute_reply": "2023-10-15T05:28:48.497579Z",
     "shell.execute_reply.started": "2023-10-15T05:28:48.486590Z"
    },
    "papermill": {
     "duration": null,
     "end_time": null,
     "exception": null,
     "start_time": null,
     "status": "pending"
    },
    "tags": []
   },
   "outputs": [],
   "source": [
    "print('The product of', n, 'and', m, 'is', prod)"
   ]
  },
  {
   "cell_type": "markdown",
   "id": "1b6f7e65",
   "metadata": {
    "papermill": {
     "duration": null,
     "end_time": null,
     "exception": null,
     "start_time": null,
     "status": "pending"
    },
    "tags": []
   },
   "source": [
    "But this is cumbersome. To accomplish the same thing using an f-string:\n",
    "\n",
    "- Specify either a lowercase `f` or uppercase `F` directly before the opening quote of the string literal. This tells Python it is an f-string instead of a standard string.\n",
    "- Specify any variables to be interpolated in curly braces (`{}`)."
   ]
  },
  {
   "cell_type": "markdown",
   "id": "dbc47c60",
   "metadata": {
    "papermill": {
     "duration": null,
     "end_time": null,
     "exception": null,
     "start_time": null,
     "status": "pending"
    },
    "tags": []
   },
   "source": [
    "Recast using an f-string, the above example looks much cleaner:"
   ]
  },
  {
   "cell_type": "code",
   "execution_count": null,
   "id": "bf4cd183",
   "metadata": {
    "execution": {
     "iopub.execute_input": "2023-10-15T05:28:48.509275Z",
     "iopub.status.busy": "2023-10-15T05:28:48.508937Z",
     "iopub.status.idle": "2023-10-15T05:28:48.513930Z",
     "shell.execute_reply": "2023-10-15T05:28:48.512769Z",
     "shell.execute_reply.started": "2023-10-15T05:28:48.509247Z"
    },
    "papermill": {
     "duration": null,
     "end_time": null,
     "exception": null,
     "start_time": null,
     "status": "pending"
    },
    "tags": []
   },
   "outputs": [],
   "source": [
    "n = 20\n",
    "m = 25\n",
    "prod = n * m"
   ]
  },
  {
   "cell_type": "code",
   "execution_count": null,
   "id": "ad58540a",
   "metadata": {
    "execution": {
     "iopub.execute_input": "2023-10-15T05:28:48.542764Z",
     "iopub.status.busy": "2023-10-15T05:28:48.541997Z",
     "iopub.status.idle": "2023-10-15T05:28:48.547784Z",
     "shell.execute_reply": "2023-10-15T05:28:48.546792Z",
     "shell.execute_reply.started": "2023-10-15T05:28:48.542714Z"
    },
    "papermill": {
     "duration": null,
     "end_time": null,
     "exception": null,
     "start_time": null,
     "status": "pending"
    },
    "tags": []
   },
   "outputs": [],
   "source": [
    "print(f'The product of {n} and {m} is {prod}')"
   ]
  },
  {
   "cell_type": "markdown",
   "id": "a34f5009",
   "metadata": {
    "papermill": {
     "duration": null,
     "end_time": null,
     "exception": null,
     "start_time": null,
     "status": "pending"
    },
    "tags": []
   },
   "source": [
    "Any of Python’s three quoting mechanisms can be used to define an f-string:"
   ]
  },
  {
   "cell_type": "code",
   "execution_count": null,
   "id": "15336f05",
   "metadata": {
    "execution": {
     "iopub.execute_input": "2023-10-15T05:28:48.549631Z",
     "iopub.status.busy": "2023-10-15T05:28:48.549310Z",
     "iopub.status.idle": "2023-10-15T05:28:48.561183Z",
     "shell.execute_reply": "2023-10-15T05:28:48.560384Z",
     "shell.execute_reply.started": "2023-10-15T05:28:48.549605Z"
    },
    "papermill": {
     "duration": null,
     "end_time": null,
     "exception": null,
     "start_time": null,
     "status": "pending"
    },
    "tags": []
   },
   "outputs": [],
   "source": [
    "var = 'Bark'"
   ]
  },
  {
   "cell_type": "code",
   "execution_count": null,
   "id": "f8fea7bd",
   "metadata": {
    "execution": {
     "iopub.execute_input": "2023-10-15T05:28:48.573348Z",
     "iopub.status.busy": "2023-10-15T05:28:48.573012Z",
     "iopub.status.idle": "2023-10-15T05:28:48.578468Z",
     "shell.execute_reply": "2023-10-15T05:28:48.577407Z",
     "shell.execute_reply.started": "2023-10-15T05:28:48.573322Z"
    },
    "papermill": {
     "duration": null,
     "end_time": null,
     "exception": null,
     "start_time": null,
     "status": "pending"
    },
    "tags": []
   },
   "outputs": [],
   "source": [
    "print(f'A dog says {var}!')"
   ]
  },
  {
   "cell_type": "code",
   "execution_count": null,
   "id": "a3e5e7de",
   "metadata": {
    "execution": {
     "iopub.execute_input": "2023-10-15T05:28:48.581190Z",
     "iopub.status.busy": "2023-10-15T05:28:48.580788Z",
     "iopub.status.idle": "2023-10-15T05:28:48.590479Z",
     "shell.execute_reply": "2023-10-15T05:28:48.589422Z",
     "shell.execute_reply.started": "2023-10-15T05:28:48.581151Z"
    },
    "papermill": {
     "duration": null,
     "end_time": null,
     "exception": null,
     "start_time": null,
     "status": "pending"
    },
    "tags": []
   },
   "outputs": [],
   "source": [
    "print(f\"A dog says {var}!\")"
   ]
  },
  {
   "cell_type": "code",
   "execution_count": null,
   "id": "e7b2b57a",
   "metadata": {
    "execution": {
     "iopub.execute_input": "2023-10-15T05:28:48.609636Z",
     "iopub.status.busy": "2023-10-15T05:28:48.607216Z",
     "iopub.status.idle": "2023-10-15T05:28:48.614328Z",
     "shell.execute_reply": "2023-10-15T05:28:48.613664Z",
     "shell.execute_reply.started": "2023-10-15T05:28:48.609594Z"
    },
    "papermill": {
     "duration": null,
     "end_time": null,
     "exception": null,
     "start_time": null,
     "status": "pending"
    },
    "tags": []
   },
   "outputs": [],
   "source": [
    "print(f'''A dog says {var}!''')"
   ]
  },
  {
   "cell_type": "markdown",
   "id": "1e421d1f",
   "metadata": {
    "papermill": {
     "duration": null,
     "end_time": null,
     "exception": null,
     "start_time": null,
     "status": "pending"
    },
    "tags": []
   },
   "source": [
    "<a class=\"anchor\" id=\"modifying_strings\"></a>\n",
    "### Modifying Strings\n",
    "\n",
    "In a nutshell, you can’t. Strings are one of the data types Python considers immutable, meaning not able to be changed. In fact, all the data types you have seen so far are immutable. (Python does provide data types that are mutable, as you will soon see.)"
   ]
  },
  {
   "cell_type": "markdown",
   "id": "29564c79",
   "metadata": {
    "papermill": {
     "duration": null,
     "end_time": null,
     "exception": null,
     "start_time": null,
     "status": "pending"
    },
    "tags": []
   },
   "source": [
    "A statement like this will cause an error:"
   ]
  },
  {
   "cell_type": "code",
   "execution_count": null,
   "id": "6d68c7de",
   "metadata": {
    "execution": {
     "iopub.execute_input": "2023-10-15T05:28:48.635727Z",
     "iopub.status.busy": "2023-10-15T05:28:48.634851Z",
     "iopub.status.idle": "2023-10-15T05:28:48.640527Z",
     "shell.execute_reply": "2023-10-15T05:28:48.639408Z",
     "shell.execute_reply.started": "2023-10-15T05:28:48.635690Z"
    },
    "papermill": {
     "duration": null,
     "end_time": null,
     "exception": null,
     "start_time": null,
     "status": "pending"
    },
    "tags": []
   },
   "outputs": [],
   "source": [
    "s = 'foobar'"
   ]
  },
  {
   "cell_type": "code",
   "execution_count": null,
   "id": "ab08ec3f",
   "metadata": {
    "execution": {
     "iopub.execute_input": "2023-10-15T05:28:48.642625Z",
     "iopub.status.busy": "2023-10-15T05:28:48.642278Z",
     "iopub.status.idle": "2023-10-15T05:28:48.669102Z",
     "shell.execute_reply": "2023-10-15T05:28:48.667656Z",
     "shell.execute_reply.started": "2023-10-15T05:28:48.642597Z"
    },
    "papermill": {
     "duration": null,
     "end_time": null,
     "exception": null,
     "start_time": null,
     "status": "pending"
    },
    "tags": []
   },
   "outputs": [],
   "source": [
    "s[3] = 'x'"
   ]
  },
  {
   "cell_type": "markdown",
   "id": "60142644",
   "metadata": {
    "papermill": {
     "duration": null,
     "end_time": null,
     "exception": null,
     "start_time": null,
     "status": "pending"
    },
    "tags": []
   },
   "source": [
    "In truth, there really isn’t much need to modify strings. You can usually easily accomplish what you want by generating a copy of the original string that has the desired change in place. There are very many ways to do this in Python. Here is one possibility:"
   ]
  },
  {
   "cell_type": "code",
   "execution_count": null,
   "id": "923a8610",
   "metadata": {
    "execution": {
     "iopub.status.busy": "2023-10-15T05:28:48.670070Z",
     "iopub.status.idle": "2023-10-15T05:28:48.670515Z",
     "shell.execute_reply": "2023-10-15T05:28:48.670286Z",
     "shell.execute_reply.started": "2023-10-15T05:28:48.670269Z"
    },
    "papermill": {
     "duration": null,
     "end_time": null,
     "exception": null,
     "start_time": null,
     "status": "pending"
    },
    "tags": []
   },
   "outputs": [],
   "source": [
    "s = s[:3] + 'x' + s[4:]"
   ]
  },
  {
   "cell_type": "code",
   "execution_count": null,
   "id": "a633a0bc",
   "metadata": {
    "execution": {
     "iopub.status.busy": "2023-10-15T05:28:48.671611Z",
     "iopub.status.idle": "2023-10-15T05:28:48.672138Z",
     "shell.execute_reply": "2023-10-15T05:28:48.671899Z",
     "shell.execute_reply.started": "2023-10-15T05:28:48.671874Z"
    },
    "papermill": {
     "duration": null,
     "end_time": null,
     "exception": null,
     "start_time": null,
     "status": "pending"
    },
    "tags": []
   },
   "outputs": [],
   "source": [
    "s"
   ]
  },
  {
   "cell_type": "markdown",
   "id": "08151043",
   "metadata": {
    "papermill": {
     "duration": null,
     "end_time": null,
     "exception": null,
     "start_time": null,
     "status": "pending"
    },
    "tags": []
   },
   "source": [
    "<a class=\"anchor\" id=\"conclusion\"></a>\n",
    "## Conclusion \n",
    "This tutorial provided an in-depth look at the many different mechanisms Python provides for string handling, including string operators, built-in functions, indexing, slicing, and built-in methods. You also were introduced to the bytes and bytearray types."
   ]
  },
  {
   "cell_type": "markdown",
   "id": "561e7a7e",
   "metadata": {
    "papermill": {
     "duration": null,
     "end_time": null,
     "exception": null,
     "start_time": null,
     "status": "pending"
    },
    "tags": []
   },
   "source": [
    "These types are the first types you have examined that are composite—built from a collection of smaller parts. Python provides several composite built-in types. In the next tutorial, you will explore two of the most frequently used: `lists` and `tuples`."
   ]
  }
 ],
 "metadata": {
  "kernelspec": {
   "display_name": "Python 3",
   "language": "python",
   "name": "python3"
  },
  "language_info": {
   "codemirror_mode": {
    "name": "ipython",
    "version": 3
   },
   "file_extension": ".py",
   "mimetype": "text/x-python",
   "name": "python",
   "nbconvert_exporter": "python",
   "pygments_lexer": "ipython3",
   "version": "3.10.12"
  },
  "papermill": {
   "default_parameters": {},
   "duration": 7.03125,
   "end_time": "2023-10-15T05:29:53.391613",
   "environment_variables": {},
   "exception": true,
   "input_path": "__notebook__.ipynb",
   "output_path": "__notebook__.ipynb",
   "parameters": {},
   "start_time": "2023-10-15T05:29:46.360363",
   "version": "2.4.0"
  }
 },
 "nbformat": 4,
 "nbformat_minor": 5
}
