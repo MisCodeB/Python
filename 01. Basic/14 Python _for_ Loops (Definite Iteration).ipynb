{
 "cells": [
  {
   "cell_type": "markdown",
   "id": "08db1006",
   "metadata": {
    "papermill": {
     "duration": 0.017243,
     "end_time": "2023-10-15T08:15:42.967593",
     "exception": false,
     "start_time": "2023-10-15T08:15:42.950350",
     "status": "completed"
    },
    "tags": []
   },
   "source": []
  },
  {
   "cell_type": "markdown",
   "id": "e7e89b49",
   "metadata": {
    "papermill": {
     "duration": 0.018409,
     "end_time": "2023-10-15T08:15:43.003037",
     "exception": false,
     "start_time": "2023-10-15T08:15:42.984628",
     "status": "completed"
    },
    "tags": []
   },
   "source": [
    "Python \"for\" Loops (Definite Iteration) \n"
   ]
  },
  {
   "cell_type": "markdown",
   "id": "7a8f8e78",
   "metadata": {
    "papermill": {
     "duration": 0.016738,
     "end_time": "2023-10-15T08:15:43.036693",
     "exception": false,
     "start_time": "2023-10-15T08:15:43.019955",
     "status": "completed"
    },
    "tags": []
   },
   "source": [
    "Table of Contents \n",
    "* [A Survey of Definite Iteration in Programming](#a_survey_of_definite_iteration_in_programming)\n",
    "    * [Numeric Range Loop](#numeric_range_loop)\n",
    "    * [Three-Expression Loop](#three-expression_loop)\n",
    "    * [Collection-Based or Iterator-Based Loop](#collection-based_or_iterator-based_loop)\n",
    "    * [The Python for Loop](#the_python_for_loop)\n",
    "    * [Iterables](#iterables)\n",
    "    * [Iterators](#iterators)\n",
    "* [The Guts of the Python for Loop](#the_guts_of_the_python_for_loop)\n",
    "* [Iterating Through a Dictionary](#iterating_through_a_dictionary)\n",
    "* [The `range()` Function](#the_`range()`_function)\n",
    "* [Altering `for` Loop Behavior](#altering_`for`_loop_behavior)\n",
    "    * [The break and continue Statements](#the_break_and_continue_statements)\n",
    "    * [The `else` Clause](#the_`else`_clause)\n",
    "* [Conclusion](#conclusion)\n",
    "\n",
    "---"
   ]
  },
  {
   "cell_type": "markdown",
   "id": "362b9b8e",
   "metadata": {
    "papermill": {
     "duration": 0.017543,
     "end_time": "2023-10-15T08:15:43.074616",
     "exception": false,
     "start_time": "2023-10-15T08:15:43.057073",
     "status": "completed"
    },
    "tags": []
   },
   "source": [
    "This tutorial will show you how to perform **definite iteration** with a Python for loop."
   ]
  },
  {
   "cell_type": "markdown",
   "id": "0ce39eb0",
   "metadata": {
    "papermill": {
     "duration": 0.079122,
     "end_time": "2023-10-15T08:15:43.170705",
     "exception": false,
     "start_time": "2023-10-15T08:15:43.091583",
     "status": "completed"
    },
    "tags": []
   },
   "source": [
    "In the previous tutorial in this introductory series, you learned the following:\n",
    "\n",
    "- Repetitive execution of the same block of code over and over is referred to as iteration.\n",
    "- There are two types of **iteration**:\n",
    "    - **Definite** iteration, in which the number of repetitions is specified explicitly in advance\n",
    "    - **Indefinite** iteration, in which the code block executes until some condition is met\n",
    "\n",
    "- In Python, indefinite iteration is performed with a `while` loop."
   ]
  },
  {
   "cell_type": "markdown",
   "id": "5142c8ec",
   "metadata": {
    "papermill": {
     "duration": 0.016522,
     "end_time": "2023-10-15T08:15:43.204057",
     "exception": false,
     "start_time": "2023-10-15T08:15:43.187535",
     "status": "completed"
    },
    "tags": []
   },
   "source": [
    "Here’s what you’ll cover in this tutorial:\n",
    "\n",
    "- You’ll start with a comparison of some different paradigms used by programming languages to implement definite iteration.\n",
    "- Then you will learn about **iterables** and **iterators**, two concepts that form the basis of definite iteration in Python.\n",
    "- Finally, you’ll tie it all together and learn about Python’s for loops."
   ]
  },
  {
   "cell_type": "markdown",
   "id": "ad81d004",
   "metadata": {
    "papermill": {
     "duration": 0.024961,
     "end_time": "2023-10-15T08:15:43.245986",
     "exception": false,
     "start_time": "2023-10-15T08:15:43.221025",
     "status": "completed"
    },
    "tags": []
   },
   "source": [
    "Then you will learn about iterables and iterators, two concepts that form the basis of definite iteration in Python."
   ]
  },
  {
   "cell_type": "markdown",
   "id": "b5a9bd5b",
   "metadata": {
    "papermill": {
     "duration": 0.016857,
     "end_time": "2023-10-15T08:15:43.280017",
     "exception": false,
     "start_time": "2023-10-15T08:15:43.263160",
     "status": "completed"
    },
    "tags": []
   },
   "source": [
    "Finally, you’ll tie it all together and learn about Python’s for loops."
   ]
  },
  {
   "cell_type": "markdown",
   "id": "e007b2fc",
   "metadata": {
    "papermill": {
     "duration": 0.016797,
     "end_time": "2023-10-15T08:15:43.313674",
     "exception": false,
     "start_time": "2023-10-15T08:15:43.296877",
     "status": "completed"
    },
    "tags": []
   },
   "source": [
    "<a class=\"anchor\" id=\"a_survey_of_definite_iteration_in_programming\"></a>\n",
    "## A Survey of Definite Iteration in Programming"
   ]
  },
  {
   "cell_type": "markdown",
   "id": "57ef11d7",
   "metadata": {
    "papermill": {
     "duration": 0.016829,
     "end_time": "2023-10-15T08:15:43.347497",
     "exception": false,
     "start_time": "2023-10-15T08:15:43.330668",
     "status": "completed"
    },
    "tags": []
   },
   "source": [
    "Definite iteration loops are frequently referred to as ‍`for` loops because for is the keyword that is used to introduce them in nearly all programming languages, including Python.\n",
    "\n",
    "Historically, programming languages have offered a few assorted flavors of for loop. These are briefly described in the following sections."
   ]
  },
  {
   "cell_type": "markdown",
   "id": "d3586649",
   "metadata": {
    "papermill": {
     "duration": 0.016935,
     "end_time": "2023-10-15T08:15:43.381737",
     "exception": false,
     "start_time": "2023-10-15T08:15:43.364802",
     "status": "completed"
    },
    "tags": []
   },
   "source": [
    "<a class=\"anchor\" id=\"numeric_range_loop\"></a>\n",
    "### Numeric Range Loop"
   ]
  },
  {
   "cell_type": "markdown",
   "id": "517f2573",
   "metadata": {
    "papermill": {
     "duration": 0.016854,
     "end_time": "2023-10-15T08:15:43.415600",
     "exception": false,
     "start_time": "2023-10-15T08:15:43.398746",
     "status": "completed"
    },
    "tags": []
   },
   "source": [
    "The most basic for loop is a simple numeric range statement with start and end values. The exact format varies depending on the language but typically looks something like this:\n",
    "\n",
    "‍‍‍```\n",
    "for i = 1 to 10\n",
    "    <loop body>\n",
    "```"
   ]
  },
  {
   "cell_type": "markdown",
   "id": "918ceab6",
   "metadata": {
    "papermill": {
     "duration": 0.016785,
     "end_time": "2023-10-15T08:15:43.449584",
     "exception": false,
     "start_time": "2023-10-15T08:15:43.432799",
     "status": "completed"
    },
    "tags": []
   },
   "source": [
    "Here, the body of the loop is executed ten times. The variable i assumes the value `1` on the first iteration, `2` on the second, and so on. This sort of `for` loop is used in the languages BASIC, Algol, and Pascal."
   ]
  },
  {
   "cell_type": "markdown",
   "id": "cfbae86c",
   "metadata": {
    "papermill": {
     "duration": 0.016881,
     "end_time": "2023-10-15T08:15:43.483504",
     "exception": false,
     "start_time": "2023-10-15T08:15:43.466623",
     "status": "completed"
    },
    "tags": []
   },
   "source": [
    "<a class=\"anchor\" id=\"three-expression_loop\"></a>\n",
    "### Three-Expression Loop"
   ]
  },
  {
   "cell_type": "markdown",
   "id": "26ea8be6",
   "metadata": {
    "papermill": {
     "duration": 0.016765,
     "end_time": "2023-10-15T08:15:43.517274",
     "exception": false,
     "start_time": "2023-10-15T08:15:43.500509",
     "status": "completed"
    },
    "tags": []
   },
   "source": [
    "Another form of for loop popularized by the C programming language contains three parts:\n",
    "\n",
    "- An initialization\n",
    "- An expression specifying an ending condition\n",
    "- An action to be performed at the end of each iteration.\n",
    "\n",
    "This type of loop has the following form:\n",
    "```c\n",
    "for (i = 1; i <= 10; i++)\n",
    "    <loop body>\n",
    "```"
   ]
  },
  {
   "cell_type": "markdown",
   "id": "04bb4b05",
   "metadata": {
    "papermill": {
     "duration": 0.017077,
     "end_time": "2023-10-15T08:15:43.551455",
     "exception": false,
     "start_time": "2023-10-15T08:15:43.534378",
     "status": "completed"
    },
    "tags": []
   },
   "source": [
    "> **Technical Note:** In the C programming language, `i++` increments the variable `i`. It is roughly equivalent to `i += 1` in Python."
   ]
  },
  {
   "cell_type": "markdown",
   "id": "772ee9b8",
   "metadata": {
    "papermill": {
     "duration": 0.016643,
     "end_time": "2023-10-15T08:15:43.585083",
     "exception": false,
     "start_time": "2023-10-15T08:15:43.568440",
     "status": "completed"
    },
    "tags": []
   },
   "source": [
    "This loop is interpreted as follows:\n",
    "\n",
    "- Initialize `i` to `1`.\n",
    "- Continue looping as long as `i <= 10`.\n",
    "- Increment `i` by `1` after each loop iteration."
   ]
  },
  {
   "cell_type": "markdown",
   "id": "41e18e56",
   "metadata": {
    "papermill": {
     "duration": 0.016512,
     "end_time": "2023-10-15T08:15:43.618740",
     "exception": false,
     "start_time": "2023-10-15T08:15:43.602228",
     "status": "completed"
    },
    "tags": []
   },
   "source": [
    "Three-expression for loops are popular because the expressions specified for the three parts can be nearly anything, so this has quite a bit more flexibility than the simpler numeric range form shown above. These `for` loops are also featured in the C++, Java, PHP, and Perl languages."
   ]
  },
  {
   "cell_type": "markdown",
   "id": "efc2f1df",
   "metadata": {
    "papermill": {
     "duration": 0.016597,
     "end_time": "2023-10-15T08:15:43.652186",
     "exception": false,
     "start_time": "2023-10-15T08:15:43.635589",
     "status": "completed"
    },
    "tags": []
   },
   "source": [
    "<a class=\"anchor\" id=\"collection-based_or_iterator-based_loop\"></a>\n",
    "### Collection-Based or Iterator-Based Loop"
   ]
  },
  {
   "cell_type": "markdown",
   "id": "52ccf3ea",
   "metadata": {
    "papermill": {
     "duration": 0.016731,
     "end_time": "2023-10-15T08:15:43.686026",
     "exception": false,
     "start_time": "2023-10-15T08:15:43.669295",
     "status": "completed"
    },
    "tags": []
   },
   "source": [
    "This type of loop iterates over a collection of objects, rather than specifying numeric values or conditions:\n",
    "\n",
    "```python\n",
    "for i in <collection>\n",
    "    <loop body>\n",
    "```"
   ]
  },
  {
   "cell_type": "markdown",
   "id": "48442e39",
   "metadata": {
    "papermill": {
     "duration": 0.016567,
     "end_time": "2023-10-15T08:15:43.719427",
     "exception": false,
     "start_time": "2023-10-15T08:15:43.702860",
     "status": "completed"
    },
    "tags": []
   },
   "source": [
    "Each time through the loop, the variable `i` takes on the value of the next object in `<collection>`. This type of for loop is arguably the most generalized and abstract. Perl and PHP also support this type of loop, but it is introduced by the keyword `foreach` instead of `for`."
   ]
  },
  {
   "cell_type": "markdown",
   "id": "50337692",
   "metadata": {
    "papermill": {
     "duration": 0.016785,
     "end_time": "2023-10-15T08:15:43.753059",
     "exception": false,
     "start_time": "2023-10-15T08:15:43.736274",
     "status": "completed"
    },
    "tags": []
   },
   "source": [
    "> **Further Reading:** See the [For loop](https://en.wikipedia.org/wiki/For_loop) Wikipedia page for an in-depth look at the implementation of definite iteration across programming languages."
   ]
  },
  {
   "cell_type": "markdown",
   "id": "58ca5dbf",
   "metadata": {
    "papermill": {
     "duration": 0.016568,
     "end_time": "2023-10-15T08:15:43.786768",
     "exception": false,
     "start_time": "2023-10-15T08:15:43.770200",
     "status": "completed"
    },
    "tags": []
   },
   "source": [
    "<a class=\"anchor\" id=\"the_python_for_loop\"></a>\n",
    "### The Python for Loop"
   ]
  },
  {
   "cell_type": "markdown",
   "id": "cb74d74b",
   "metadata": {
    "papermill": {
     "duration": 0.016662,
     "end_time": "2023-10-15T08:15:43.820506",
     "exception": false,
     "start_time": "2023-10-15T08:15:43.803844",
     "status": "completed"
    },
    "tags": []
   },
   "source": [
    "Of the loop types listed above, Python only implements the last: collection-based iteration. At first blush, that may seem like a raw deal, but rest assured that Python’s implementation of definite iteration is so versatile that you won’t end up feeling cheated!"
   ]
  },
  {
   "cell_type": "markdown",
   "id": "2db58036",
   "metadata": {
    "papermill": {
     "duration": 0.01684,
     "end_time": "2023-10-15T08:15:43.855466",
     "exception": false,
     "start_time": "2023-10-15T08:15:43.838626",
     "status": "completed"
    },
    "tags": []
   },
   "source": [
    "Shortly, you’ll dig into the guts of Python’s `for` loop in detail. But for now, let’s start with a quick prototype and example, just to get acquainted."
   ]
  },
  {
   "cell_type": "markdown",
   "id": "cd2576eb",
   "metadata": {
    "papermill": {
     "duration": 0.016791,
     "end_time": "2023-10-15T08:15:43.889462",
     "exception": false,
     "start_time": "2023-10-15T08:15:43.872671",
     "status": "completed"
    },
    "tags": []
   },
   "source": [
    "Python’s for loop looks like this:\n",
    "```python\n",
    "for <var> in <iterable>:\n",
    "    <statement(s)>\n",
    "```"
   ]
  },
  {
   "cell_type": "markdown",
   "id": "ee4882c7",
   "metadata": {
    "papermill": {
     "duration": 0.01672,
     "end_time": "2023-10-15T08:15:43.923362",
     "exception": false,
     "start_time": "2023-10-15T08:15:43.906642",
     "status": "completed"
    },
    "tags": []
   },
   "source": [
    "`<iterable>` is a collection of objects—for example, a list or tuple. The `<statement(s)>` in the loop body are denoted by indentation, as with all Python control structures, and are executed once for each item in `<iterable>`. The loop variable `<var>` takes on the value of the next element in `<iterable>` each time through the loop."
   ]
  },
  {
   "cell_type": "markdown",
   "id": "a6b3887d",
   "metadata": {
    "papermill": {
     "duration": 0.017259,
     "end_time": "2023-10-15T08:15:43.957604",
     "exception": false,
     "start_time": "2023-10-15T08:15:43.940345",
     "status": "completed"
    },
    "tags": []
   },
   "source": [
    "Here is a representative example:"
   ]
  },
  {
   "cell_type": "code",
   "execution_count": 1,
   "id": "575c27cd",
   "metadata": {
    "execution": {
     "iopub.execute_input": "2023-10-15T08:15:43.994038Z",
     "iopub.status.busy": "2023-10-15T08:15:43.993541Z",
     "iopub.status.idle": "2023-10-15T08:15:44.003360Z",
     "shell.execute_reply": "2023-10-15T08:15:44.002378Z"
    },
    "papermill": {
     "duration": 0.030603,
     "end_time": "2023-10-15T08:15:44.005257",
     "exception": false,
     "start_time": "2023-10-15T08:15:43.974654",
     "status": "completed"
    },
    "tags": []
   },
   "outputs": [
    {
     "name": "stdout",
     "output_type": "stream",
     "text": [
      "foo\n",
      "bar\n",
      "baz\n"
     ]
    }
   ],
   "source": [
    "a = ['foo', 'bar', 'baz']\n",
    "for i in a:\n",
    "    print(i)"
   ]
  },
  {
   "cell_type": "markdown",
   "id": "9ff84c51",
   "metadata": {
    "papermill": {
     "duration": 0.016741,
     "end_time": "2023-10-15T08:15:44.039237",
     "exception": false,
     "start_time": "2023-10-15T08:15:44.022496",
     "status": "completed"
    },
    "tags": []
   },
   "source": [
    "In this example, `<iterable>` is the list `a`, and `<var>` is the variable `i`. Each time through the loop, `i` takes on a successive item in `a`, so `print()` displays the values `'foo'`, `'bar'`, and `'baz'`, respectively. A `for` loop like this is the Pythonic way to process the items in an iterable."
   ]
  },
  {
   "cell_type": "markdown",
   "id": "0266c313",
   "metadata": {
    "papermill": {
     "duration": 0.017039,
     "end_time": "2023-10-15T08:15:44.073305",
     "exception": false,
     "start_time": "2023-10-15T08:15:44.056266",
     "status": "completed"
    },
    "tags": []
   },
   "source": [
    "But what exactly is an iterable? Before examining `for` loops further, it will be beneficial to delve more deeply into what iterables are in Python."
   ]
  },
  {
   "cell_type": "markdown",
   "id": "d72cf8bd",
   "metadata": {
    "papermill": {
     "duration": 0.017427,
     "end_time": "2023-10-15T08:15:44.108282",
     "exception": false,
     "start_time": "2023-10-15T08:15:44.090855",
     "status": "completed"
    },
    "tags": []
   },
   "source": [
    "<a class=\"anchor\" id=\"iterables\"></a>\n",
    "### Iterables\n",
    "In Python, **iterable** means an object can be used in iteration. The term is used as:\n",
    "\n",
    "- **An adjective:** An object may be described as iterable.\n",
    "- **A noun:** An object may be characterized as an iterable."
   ]
  },
  {
   "cell_type": "markdown",
   "id": "cc8baf6f",
   "metadata": {
    "papermill": {
     "duration": 0.017437,
     "end_time": "2023-10-15T08:15:44.142828",
     "exception": false,
     "start_time": "2023-10-15T08:15:44.125391",
     "status": "completed"
    },
    "tags": []
   },
   "source": [
    "If an object is iterable, it can be passed to the built-in Python function `iter()`, which returns something called an **iterator**. Yes, the terminology gets a bit repetitive. Hang in there. It all works out in the end."
   ]
  },
  {
   "cell_type": "markdown",
   "id": "81c903fa",
   "metadata": {
    "papermill": {
     "duration": 0.016849,
     "end_time": "2023-10-15T08:15:44.176674",
     "exception": false,
     "start_time": "2023-10-15T08:15:44.159825",
     "status": "completed"
    },
    "tags": []
   },
   "source": [
    "Each of the objects in the following example is an iterable and returns some type of iterator when passed to `iter()`:"
   ]
  },
  {
   "cell_type": "code",
   "execution_count": 2,
   "id": "cc675e8f",
   "metadata": {
    "execution": {
     "iopub.execute_input": "2023-10-15T08:15:44.212714Z",
     "iopub.status.busy": "2023-10-15T08:15:44.212352Z",
     "iopub.status.idle": "2023-10-15T08:15:44.219556Z",
     "shell.execute_reply": "2023-10-15T08:15:44.218381Z"
    },
    "papermill": {
     "duration": 0.027859,
     "end_time": "2023-10-15T08:15:44.221510",
     "exception": false,
     "start_time": "2023-10-15T08:15:44.193651",
     "status": "completed"
    },
    "tags": []
   },
   "outputs": [
    {
     "data": {
      "text/plain": [
       "<str_iterator at 0x7ba0c5bd4f40>"
      ]
     },
     "execution_count": 2,
     "metadata": {},
     "output_type": "execute_result"
    }
   ],
   "source": [
    "iter('foobar')                             # String"
   ]
  },
  {
   "cell_type": "code",
   "execution_count": 3,
   "id": "8159b6c7",
   "metadata": {
    "execution": {
     "iopub.execute_input": "2023-10-15T08:15:44.257753Z",
     "iopub.status.busy": "2023-10-15T08:15:44.257410Z",
     "iopub.status.idle": "2023-10-15T08:15:44.263552Z",
     "shell.execute_reply": "2023-10-15T08:15:44.262490Z"
    },
    "papermill": {
     "duration": 0.026547,
     "end_time": "2023-10-15T08:15:44.265403",
     "exception": false,
     "start_time": "2023-10-15T08:15:44.238856",
     "status": "completed"
    },
    "tags": []
   },
   "outputs": [
    {
     "data": {
      "text/plain": [
       "<list_iterator at 0x7ba0c5bd7940>"
      ]
     },
     "execution_count": 3,
     "metadata": {},
     "output_type": "execute_result"
    }
   ],
   "source": [
    "iter(['foo', 'bar', 'baz'])                # List"
   ]
  },
  {
   "cell_type": "code",
   "execution_count": 4,
   "id": "ef3aa530",
   "metadata": {
    "execution": {
     "iopub.execute_input": "2023-10-15T08:15:44.301806Z",
     "iopub.status.busy": "2023-10-15T08:15:44.301451Z",
     "iopub.status.idle": "2023-10-15T08:15:44.307355Z",
     "shell.execute_reply": "2023-10-15T08:15:44.306396Z"
    },
    "papermill": {
     "duration": 0.026687,
     "end_time": "2023-10-15T08:15:44.309611",
     "exception": false,
     "start_time": "2023-10-15T08:15:44.282924",
     "status": "completed"
    },
    "tags": []
   },
   "outputs": [
    {
     "data": {
      "text/plain": [
       "<tuple_iterator at 0x7ba0c5bd7970>"
      ]
     },
     "execution_count": 4,
     "metadata": {},
     "output_type": "execute_result"
    }
   ],
   "source": [
    "iter(('foo', 'bar', 'baz'))                # Tuple"
   ]
  },
  {
   "cell_type": "code",
   "execution_count": 5,
   "id": "4c54aed3",
   "metadata": {
    "execution": {
     "iopub.execute_input": "2023-10-15T08:15:44.346839Z",
     "iopub.status.busy": "2023-10-15T08:15:44.346511Z",
     "iopub.status.idle": "2023-10-15T08:15:44.352676Z",
     "shell.execute_reply": "2023-10-15T08:15:44.351984Z"
    },
    "papermill": {
     "duration": 0.027131,
     "end_time": "2023-10-15T08:15:44.354486",
     "exception": false,
     "start_time": "2023-10-15T08:15:44.327355",
     "status": "completed"
    },
    "tags": []
   },
   "outputs": [
    {
     "data": {
      "text/plain": [
       "<set_iterator at 0x7ba0c5b015c0>"
      ]
     },
     "execution_count": 5,
     "metadata": {},
     "output_type": "execute_result"
    }
   ],
   "source": [
    "iter({'foo', 'bar', 'baz'})                # Set"
   ]
  },
  {
   "cell_type": "code",
   "execution_count": 6,
   "id": "ff39bcf5",
   "metadata": {
    "execution": {
     "iopub.execute_input": "2023-10-15T08:15:44.391284Z",
     "iopub.status.busy": "2023-10-15T08:15:44.390970Z",
     "iopub.status.idle": "2023-10-15T08:15:44.396462Z",
     "shell.execute_reply": "2023-10-15T08:15:44.395575Z"
    },
    "papermill": {
     "duration": 0.026522,
     "end_time": "2023-10-15T08:15:44.398604",
     "exception": false,
     "start_time": "2023-10-15T08:15:44.372082",
     "status": "completed"
    },
    "tags": []
   },
   "outputs": [
    {
     "data": {
      "text/plain": [
       "<dict_keyiterator at 0x7ba0c5bfd0d0>"
      ]
     },
     "execution_count": 6,
     "metadata": {},
     "output_type": "execute_result"
    }
   ],
   "source": [
    "iter({'foo': 1, 'bar': 2, 'baz': 3})       # Dict"
   ]
  },
  {
   "cell_type": "markdown",
   "id": "b3d739d7",
   "metadata": {
    "papermill": {
     "duration": 0.017823,
     "end_time": "2023-10-15T08:15:44.434390",
     "exception": false,
     "start_time": "2023-10-15T08:15:44.416567",
     "status": "completed"
    },
    "tags": []
   },
   "source": [
    "These object types, on the other hand, aren’t iterable:"
   ]
  },
  {
   "cell_type": "code",
   "execution_count": 7,
   "id": "4e4d4c83",
   "metadata": {
    "execution": {
     "iopub.execute_input": "2023-10-15T08:15:44.473235Z",
     "iopub.status.busy": "2023-10-15T08:15:44.472833Z",
     "iopub.status.idle": "2023-10-15T08:15:44.729252Z",
     "shell.execute_reply": "2023-10-15T08:15:44.727793Z"
    },
    "papermill": {
     "duration": 0.27787,
     "end_time": "2023-10-15T08:15:44.731047",
     "exception": true,
     "start_time": "2023-10-15T08:15:44.453177",
     "status": "failed"
    },
    "tags": []
   },
   "outputs": [
    {
     "ename": "TypeError",
     "evalue": "'int' object is not iterable",
     "output_type": "error",
     "traceback": [
      "\u001b[0;31m---------------------------------------------------------------------------\u001b[0m",
      "\u001b[0;31mTypeError\u001b[0m                                 Traceback (most recent call last)",
      "Cell \u001b[0;32mIn[7], line 1\u001b[0m\n\u001b[0;32m----> 1\u001b[0m \u001b[38;5;28;43miter\u001b[39;49m\u001b[43m(\u001b[49m\u001b[38;5;241;43m42\u001b[39;49m\u001b[43m)\u001b[49m                                   \u001b[38;5;66;03m# Integer    \u001b[39;00m\n",
      "\u001b[0;31mTypeError\u001b[0m: 'int' object is not iterable"
     ]
    }
   ],
   "source": [
    "iter(42)                                   # Integer    "
   ]
  },
  {
   "cell_type": "code",
   "execution_count": null,
   "id": "69253023",
   "metadata": {
    "papermill": {
     "duration": null,
     "end_time": null,
     "exception": null,
     "start_time": null,
     "status": "pending"
    },
    "tags": []
   },
   "outputs": [],
   "source": [
    "iter(3.1)                                  # Float"
   ]
  },
  {
   "cell_type": "code",
   "execution_count": null,
   "id": "b90cec10",
   "metadata": {
    "papermill": {
     "duration": null,
     "end_time": null,
     "exception": null,
     "start_time": null,
     "status": "pending"
    },
    "tags": []
   },
   "outputs": [],
   "source": [
    "iter(len)                                  # Built-in function"
   ]
  },
  {
   "cell_type": "markdown",
   "id": "d18fb9a1",
   "metadata": {
    "papermill": {
     "duration": null,
     "end_time": null,
     "exception": null,
     "start_time": null,
     "status": "pending"
    },
    "tags": []
   },
   "source": [
    "All the data types you have encountered so far that are collection or container types are iterable. These include the string, list, tuple, dict, set, and frozenset types."
   ]
  },
  {
   "cell_type": "markdown",
   "id": "896cba37",
   "metadata": {
    "papermill": {
     "duration": null,
     "end_time": null,
     "exception": null,
     "start_time": null,
     "status": "pending"
    },
    "tags": []
   },
   "source": [
    "But these are by no means the only types that you can iterate over. Many objects that are built into Python or defined in modules are designed to be iterable. For example, open files in Python are iterable. As you will see soon in the section on file I/O, iterating over an open file object reads data from the file."
   ]
  },
  {
   "cell_type": "markdown",
   "id": "05aa4a62",
   "metadata": {
    "papermill": {
     "duration": null,
     "end_time": null,
     "exception": null,
     "start_time": null,
     "status": "pending"
    },
    "tags": []
   },
   "source": [
    "In fact, almost any object in Python can be made iterable. Even user-defined objects can be designed in such a way that they can be iterated over. (You will find out how that is done in the upcoming article on object-oriented programming.)"
   ]
  },
  {
   "cell_type": "markdown",
   "id": "e6de10d2",
   "metadata": {
    "papermill": {
     "duration": null,
     "end_time": null,
     "exception": null,
     "start_time": null,
     "status": "pending"
    },
    "tags": []
   },
   "source": [
    "<a class=\"anchor\" id=\"iterators\"></a>\n",
    "### Iterators"
   ]
  },
  {
   "cell_type": "markdown",
   "id": "5558ba69",
   "metadata": {
    "papermill": {
     "duration": null,
     "end_time": null,
     "exception": null,
     "start_time": null,
     "status": "pending"
    },
    "tags": []
   },
   "source": [
    "Okay, now you know what it means for an object to be iterable, and you know how to use `iter()` to obtain an iterator from it. Once you’ve got an iterator, what can you do with it?"
   ]
  },
  {
   "cell_type": "markdown",
   "id": "67028aa6",
   "metadata": {
    "papermill": {
     "duration": null,
     "end_time": null,
     "exception": null,
     "start_time": null,
     "status": "pending"
    },
    "tags": []
   },
   "source": [
    "An iterator is essentially a value producer that yields successive values from its associated iterable object. The built-in function `next()` is used to obtain the next value from in iterator."
   ]
  },
  {
   "cell_type": "markdown",
   "id": "97ff3ab9",
   "metadata": {
    "papermill": {
     "duration": null,
     "end_time": null,
     "exception": null,
     "start_time": null,
     "status": "pending"
    },
    "tags": []
   },
   "source": [
    "Here is an example using the same list as above:"
   ]
  },
  {
   "cell_type": "code",
   "execution_count": null,
   "id": "29e7e85b",
   "metadata": {
    "papermill": {
     "duration": null,
     "end_time": null,
     "exception": null,
     "start_time": null,
     "status": "pending"
    },
    "tags": []
   },
   "outputs": [],
   "source": [
    "a = ['foo', 'bar', 'baz']"
   ]
  },
  {
   "cell_type": "code",
   "execution_count": null,
   "id": "f6aa26ca",
   "metadata": {
    "papermill": {
     "duration": null,
     "end_time": null,
     "exception": null,
     "start_time": null,
     "status": "pending"
    },
    "tags": []
   },
   "outputs": [],
   "source": [
    "itr = iter(a)\n",
    "itr"
   ]
  },
  {
   "cell_type": "code",
   "execution_count": null,
   "id": "4becfc5d",
   "metadata": {
    "papermill": {
     "duration": null,
     "end_time": null,
     "exception": null,
     "start_time": null,
     "status": "pending"
    },
    "tags": []
   },
   "outputs": [],
   "source": [
    "next(itr)"
   ]
  },
  {
   "cell_type": "code",
   "execution_count": null,
   "id": "16b44e8f",
   "metadata": {
    "papermill": {
     "duration": null,
     "end_time": null,
     "exception": null,
     "start_time": null,
     "status": "pending"
    },
    "tags": []
   },
   "outputs": [],
   "source": [
    "next(itr)"
   ]
  },
  {
   "cell_type": "code",
   "execution_count": null,
   "id": "3ecb3b65",
   "metadata": {
    "papermill": {
     "duration": null,
     "end_time": null,
     "exception": null,
     "start_time": null,
     "status": "pending"
    },
    "tags": []
   },
   "outputs": [],
   "source": [
    "next(itr)"
   ]
  },
  {
   "cell_type": "markdown",
   "id": "407fd7ec",
   "metadata": {
    "papermill": {
     "duration": null,
     "end_time": null,
     "exception": null,
     "start_time": null,
     "status": "pending"
    },
    "tags": []
   },
   "source": [
    "In this example, `a` is an iterable list and `itr` is the associated iterator, obtained with `iter()`. Each `next(itr)` call obtains the next value from `itr`."
   ]
  },
  {
   "cell_type": "markdown",
   "id": "d52cae6a",
   "metadata": {
    "papermill": {
     "duration": null,
     "end_time": null,
     "exception": null,
     "start_time": null,
     "status": "pending"
    },
    "tags": []
   },
   "source": [
    "Notice how an iterator retains its state internally. It knows which values have been obtained already, so when you call `next()`, it knows what value to return next."
   ]
  },
  {
   "cell_type": "markdown",
   "id": "7518ff51",
   "metadata": {
    "papermill": {
     "duration": null,
     "end_time": null,
     "exception": null,
     "start_time": null,
     "status": "pending"
    },
    "tags": []
   },
   "source": [
    "What happens when the iterator runs out of values? Let’s make one more `next()` call on the iterator above:"
   ]
  },
  {
   "cell_type": "code",
   "execution_count": null,
   "id": "2075f8c4",
   "metadata": {
    "papermill": {
     "duration": null,
     "end_time": null,
     "exception": null,
     "start_time": null,
     "status": "pending"
    },
    "tags": []
   },
   "outputs": [],
   "source": [
    "next(itr)"
   ]
  },
  {
   "cell_type": "markdown",
   "id": "d2f6964e",
   "metadata": {
    "papermill": {
     "duration": null,
     "end_time": null,
     "exception": null,
     "start_time": null,
     "status": "pending"
    },
    "tags": []
   },
   "source": [
    "If all the values from an iterator have been returned already, a subsequent `next()` call raises a `StopIteration` exception. Any further attempts to obtain values from the iterator will fail."
   ]
  },
  {
   "cell_type": "markdown",
   "id": "a74a40ed",
   "metadata": {
    "papermill": {
     "duration": null,
     "end_time": null,
     "exception": null,
     "start_time": null,
     "status": "pending"
    },
    "tags": []
   },
   "source": [
    "You can only obtain values from an iterator in one direction. You can’t go backward. There is no `prev()` function. But you can define two independent iterators on the same iterable object:"
   ]
  },
  {
   "cell_type": "code",
   "execution_count": null,
   "id": "4a740d53",
   "metadata": {
    "papermill": {
     "duration": null,
     "end_time": null,
     "exception": null,
     "start_time": null,
     "status": "pending"
    },
    "tags": []
   },
   "outputs": [],
   "source": [
    "a"
   ]
  },
  {
   "cell_type": "code",
   "execution_count": null,
   "id": "f0475075",
   "metadata": {
    "papermill": {
     "duration": null,
     "end_time": null,
     "exception": null,
     "start_time": null,
     "status": "pending"
    },
    "tags": []
   },
   "outputs": [],
   "source": [
    "itr1 = iter(a)\n",
    "itr2 = iter(a)"
   ]
  },
  {
   "cell_type": "code",
   "execution_count": null,
   "id": "516464c9",
   "metadata": {
    "papermill": {
     "duration": null,
     "end_time": null,
     "exception": null,
     "start_time": null,
     "status": "pending"
    },
    "tags": []
   },
   "outputs": [],
   "source": [
    "next(itr1)"
   ]
  },
  {
   "cell_type": "code",
   "execution_count": null,
   "id": "56fb8101",
   "metadata": {
    "papermill": {
     "duration": null,
     "end_time": null,
     "exception": null,
     "start_time": null,
     "status": "pending"
    },
    "tags": []
   },
   "outputs": [],
   "source": [
    "next(itr1)"
   ]
  },
  {
   "cell_type": "code",
   "execution_count": null,
   "id": "3ca72afb",
   "metadata": {
    "papermill": {
     "duration": null,
     "end_time": null,
     "exception": null,
     "start_time": null,
     "status": "pending"
    },
    "tags": []
   },
   "outputs": [],
   "source": [
    "next(itr1)"
   ]
  },
  {
   "cell_type": "code",
   "execution_count": null,
   "id": "12e7aeef",
   "metadata": {
    "papermill": {
     "duration": null,
     "end_time": null,
     "exception": null,
     "start_time": null,
     "status": "pending"
    },
    "tags": []
   },
   "outputs": [],
   "source": [
    "next(itr2)"
   ]
  },
  {
   "cell_type": "markdown",
   "id": "4341edf7",
   "metadata": {
    "papermill": {
     "duration": null,
     "end_time": null,
     "exception": null,
     "start_time": null,
     "status": "pending"
    },
    "tags": []
   },
   "source": [
    "Even when iterator `itr1` is already at the end of the list, `itr2` is still at the beginning. Each iterator maintains its own internal state, independent of the other."
   ]
  },
  {
   "cell_type": "markdown",
   "id": "b7805b75",
   "metadata": {
    "papermill": {
     "duration": null,
     "end_time": null,
     "exception": null,
     "start_time": null,
     "status": "pending"
    },
    "tags": []
   },
   "source": [
    "If you want to grab all the values from an iterator at once, you can use the built-in `list()` function. Among other possible uses, `list()` takes an iterator as its argument, and returns a list consisting of all the values that the iterator yielded:"
   ]
  },
  {
   "cell_type": "code",
   "execution_count": null,
   "id": "2461e594",
   "metadata": {
    "papermill": {
     "duration": null,
     "end_time": null,
     "exception": null,
     "start_time": null,
     "status": "pending"
    },
    "tags": []
   },
   "outputs": [],
   "source": [
    "a = ['foo', 'bar', 'baz']\n",
    "itr = iter(a)\n",
    "list(itr)"
   ]
  },
  {
   "cell_type": "markdown",
   "id": "1a99ab74",
   "metadata": {
    "papermill": {
     "duration": null,
     "end_time": null,
     "exception": null,
     "start_time": null,
     "status": "pending"
    },
    "tags": []
   },
   "source": [
    "Similarly, the built-in `tuple()` and `set()` functions return a tuple and a set, respectively, from all the values an iterator yields:"
   ]
  },
  {
   "cell_type": "code",
   "execution_count": null,
   "id": "9a5d5b80",
   "metadata": {
    "papermill": {
     "duration": null,
     "end_time": null,
     "exception": null,
     "start_time": null,
     "status": "pending"
    },
    "tags": []
   },
   "outputs": [],
   "source": [
    "a = ['foo', 'bar', 'baz']"
   ]
  },
  {
   "cell_type": "code",
   "execution_count": null,
   "id": "78750bd0",
   "metadata": {
    "papermill": {
     "duration": null,
     "end_time": null,
     "exception": null,
     "start_time": null,
     "status": "pending"
    },
    "tags": []
   },
   "outputs": [],
   "source": [
    "itr = iter(a)\n",
    "tuple(itr)"
   ]
  },
  {
   "cell_type": "code",
   "execution_count": null,
   "id": "9b24585e",
   "metadata": {
    "papermill": {
     "duration": null,
     "end_time": null,
     "exception": null,
     "start_time": null,
     "status": "pending"
    },
    "tags": []
   },
   "outputs": [],
   "source": [
    "itr = iter(a)\n",
    "set(itr)"
   ]
  },
  {
   "cell_type": "markdown",
   "id": "2cceee70",
   "metadata": {
    "papermill": {
     "duration": null,
     "end_time": null,
     "exception": null,
     "start_time": null,
     "status": "pending"
    },
    "tags": []
   },
   "source": [
    "It isn’t necessarily advised to make a habit of this. Part of the elegance of iterators is that they are “lazy.” That means that when you create an iterator, it doesn’t generate all the items it can yield just then. It waits until you ask for them with `next()`. Items are not created until they are requested."
   ]
  },
  {
   "cell_type": "markdown",
   "id": "49007000",
   "metadata": {
    "papermill": {
     "duration": null,
     "end_time": null,
     "exception": null,
     "start_time": null,
     "status": "pending"
    },
    "tags": []
   },
   "source": [
    "When you use `list()`, `tuple()`, or the like, you are forcing the iterator to generate all its values at once, so they can all be returned. If the total number of objects the iterator returns is very large, that may take a long time."
   ]
  },
  {
   "cell_type": "markdown",
   "id": "7878504c",
   "metadata": {
    "papermill": {
     "duration": null,
     "end_time": null,
     "exception": null,
     "start_time": null,
     "status": "pending"
    },
    "tags": []
   },
   "source": [
    "> **Further Reading:** It is possible to create an iterator in Python that returns an endless series of objects using generator functions and `itertools`. If you try to grab all the values at once from an endless iterator, the program will hang. Generators and `itertools` will be covered later in advanced section."
   ]
  },
  {
   "cell_type": "markdown",
   "id": "6d6a6f33",
   "metadata": {
    "papermill": {
     "duration": null,
     "end_time": null,
     "exception": null,
     "start_time": null,
     "status": "pending"
    },
    "tags": []
   },
   "source": [
    "<a class=\"anchor\" id=\"the_guts_of_the_python_for_loop\"></a>\n",
    "## The Guts of the Python for Loop"
   ]
  },
  {
   "cell_type": "markdown",
   "id": "4a8ded20",
   "metadata": {
    "papermill": {
     "duration": null,
     "end_time": null,
     "exception": null,
     "start_time": null,
     "status": "pending"
    },
    "tags": []
   },
   "source": [
    "You now have been introduced to all the concepts you need to fully understand how Python’s for loop works. Before proceeding, let’s review the relevant terms:\n",
    "\n",
    "|**Term**|**Meaning** |\n",
    "|:--|:--|\n",
    "|**Iteration**| The process of looping through the objects or items in a collection |\n",
    "|**Iterable**| An object (or the adjective used to describe an object) that can be iterated over |\n",
    "|**Iterator**| The object that produces successive items or values from its associated iterable |\n",
    "|**`iter()`**|\tThe built-in function used to obtain an iterator from an iterable |"
   ]
  },
  {
   "cell_type": "markdown",
   "id": "5fa86547",
   "metadata": {
    "papermill": {
     "duration": null,
     "end_time": null,
     "exception": null,
     "start_time": null,
     "status": "pending"
    },
    "tags": []
   },
   "source": [
    "Now, consider again the simple `for` loop presented at the start of this tutorial:"
   ]
  },
  {
   "cell_type": "code",
   "execution_count": null,
   "id": "b9c563b9",
   "metadata": {
    "papermill": {
     "duration": null,
     "end_time": null,
     "exception": null,
     "start_time": null,
     "status": "pending"
    },
    "tags": []
   },
   "outputs": [],
   "source": [
    "a = ['foo', 'bar', 'baz']\n",
    "for i in a:\n",
    "    print(i)"
   ]
  },
  {
   "cell_type": "markdown",
   "id": "8b68c3ac",
   "metadata": {
    "papermill": {
     "duration": null,
     "end_time": null,
     "exception": null,
     "start_time": null,
     "status": "pending"
    },
    "tags": []
   },
   "source": [
    "This loop can be described entirely in terms of the concepts you have just learned about. To carry out the iteration this for loop describes, Python does the following:\n",
    "\n",
    "- Calls `iter()` to obtain an iterator for `a`\n",
    "- Calls `next()` repeatedly to obtain each item from the iterator in turn\n",
    "- Terminates the loop when `next()` raises the `StopIteration` exception"
   ]
  },
  {
   "cell_type": "markdown",
   "id": "d53c4f46",
   "metadata": {
    "papermill": {
     "duration": null,
     "end_time": null,
     "exception": null,
     "start_time": null,
     "status": "pending"
    },
    "tags": []
   },
   "source": [
    "The loop body is executed once for each item `next()` returns, with loop variable `i` set to the given item for each iteration."
   ]
  },
  {
   "cell_type": "markdown",
   "id": "b335d8b2",
   "metadata": {
    "papermill": {
     "duration": null,
     "end_time": null,
     "exception": null,
     "start_time": null,
     "status": "pending"
    },
    "tags": []
   },
   "source": []
  },
  {
   "cell_type": "markdown",
   "id": "c273e6f8",
   "metadata": {
    "papermill": {
     "duration": null,
     "end_time": null,
     "exception": null,
     "start_time": null,
     "status": "pending"
    },
    "tags": []
   },
   "source": [
    "Perhaps this seems like a lot of unnecessary monkey business, but the benefit is substantial. Python treats looping over all iterables in exactly this way, and in Python, iterables and iterators abound:\n",
    "\n",
    "- Many built-in and library objects are iterable.\n",
    "- There is a Standard Library module called `itertools` containing many functions that return iterables.\n",
    "- User-defined objects created with Python’s object-oriented capability can be made to be iterable.\n",
    "- Python features a construct called a generator that allows you to create your own iterator in a simple, straightforward way."
   ]
  },
  {
   "cell_type": "markdown",
   "id": "8da3456b",
   "metadata": {
    "papermill": {
     "duration": null,
     "end_time": null,
     "exception": null,
     "start_time": null,
     "status": "pending"
    },
    "tags": []
   },
   "source": [
    "You will discover more about all the above throughout this section. They can all be the target of a `for` loop, and the syntax is the same across the board. It’s elegant in its simplicity and eminently versatile."
   ]
  },
  {
   "cell_type": "markdown",
   "id": "2e12e0f1",
   "metadata": {
    "papermill": {
     "duration": null,
     "end_time": null,
     "exception": null,
     "start_time": null,
     "status": "pending"
    },
    "tags": []
   },
   "source": [
    "<a class=\"anchor\" id=\"iterating_through_a_dictionary\"></a>\n",
    "## Iterating Through a Dictionary"
   ]
  },
  {
   "cell_type": "markdown",
   "id": "81007a6a",
   "metadata": {
    "papermill": {
     "duration": null,
     "end_time": null,
     "exception": null,
     "start_time": null,
     "status": "pending"
    },
    "tags": []
   },
   "source": [
    "You saw earlier that an iterator can be obtained from a dictionary with `iter()`, so you know dictionaries must be iterable. What happens when you loop through a dictionary? Let’s see:"
   ]
  },
  {
   "cell_type": "code",
   "execution_count": null,
   "id": "9b024dbd",
   "metadata": {
    "papermill": {
     "duration": null,
     "end_time": null,
     "exception": null,
     "start_time": null,
     "status": "pending"
    },
    "tags": []
   },
   "outputs": [],
   "source": [
    "d = {\n",
    "    'one': 1,\n",
    "    'two': 2,\n",
    "    'three': 3,\n",
    "}"
   ]
  },
  {
   "cell_type": "code",
   "execution_count": null,
   "id": "581697bd",
   "metadata": {
    "papermill": {
     "duration": null,
     "end_time": null,
     "exception": null,
     "start_time": null,
     "status": "pending"
    },
    "tags": []
   },
   "outputs": [],
   "source": [
    "d = {'foo': 1, 'bar': 2, 'baz': 3}\n",
    "for k in d:\n",
    "    print(k)"
   ]
  },
  {
   "cell_type": "markdown",
   "id": "c4393826",
   "metadata": {
    "papermill": {
     "duration": null,
     "end_time": null,
     "exception": null,
     "start_time": null,
     "status": "pending"
    },
    "tags": []
   },
   "source": [
    "As you can see, when a `for` loop iterates through a dictionary, the loop variable is assigned to the dictionary’s keys."
   ]
  },
  {
   "cell_type": "markdown",
   "id": "94f195c0",
   "metadata": {
    "papermill": {
     "duration": null,
     "end_time": null,
     "exception": null,
     "start_time": null,
     "status": "pending"
    },
    "tags": []
   },
   "source": [
    "To access the dictionary values within the loop, you can make a dictionary reference using the key as usual:"
   ]
  },
  {
   "cell_type": "code",
   "execution_count": null,
   "id": "8b5d08f1",
   "metadata": {
    "papermill": {
     "duration": null,
     "end_time": null,
     "exception": null,
     "start_time": null,
     "status": "pending"
    },
    "tags": []
   },
   "outputs": [],
   "source": [
    "for k in d:\n",
    "    print(d[k])"
   ]
  },
  {
   "cell_type": "markdown",
   "id": "cb2136f6",
   "metadata": {
    "papermill": {
     "duration": null,
     "end_time": null,
     "exception": null,
     "start_time": null,
     "status": "pending"
    },
    "tags": []
   },
   "source": [
    "You can also iterate through a dictionary’s values directly by using `.values()`:"
   ]
  },
  {
   "cell_type": "code",
   "execution_count": null,
   "id": "d471e861",
   "metadata": {
    "papermill": {
     "duration": null,
     "end_time": null,
     "exception": null,
     "start_time": null,
     "status": "pending"
    },
    "tags": []
   },
   "outputs": [],
   "source": [
    "for v in d.values():\n",
    "    print(v)"
   ]
  },
  {
   "cell_type": "markdown",
   "id": "786888ca",
   "metadata": {
    "papermill": {
     "duration": null,
     "end_time": null,
     "exception": null,
     "start_time": null,
     "status": "pending"
    },
    "tags": []
   },
   "source": [
    "In fact, you can iterate through both the keys and values of a dictionary simultaneously. That is because the loop variable of a `for` loop isn’t limited to just a single variable. It can also be a tuple, in which case the assignments are made from the items in the iterable using packing and unpacking, just as with an assignment statement:"
   ]
  },
  {
   "cell_type": "code",
   "execution_count": null,
   "id": "61a4b6f0",
   "metadata": {
    "papermill": {
     "duration": null,
     "end_time": null,
     "exception": null,
     "start_time": null,
     "status": "pending"
    },
    "tags": []
   },
   "outputs": [],
   "source": [
    "i, j = (1, 2)\n",
    "print(i, j)"
   ]
  },
  {
   "cell_type": "code",
   "execution_count": null,
   "id": "204e8bd4",
   "metadata": {
    "papermill": {
     "duration": null,
     "end_time": null,
     "exception": null,
     "start_time": null,
     "status": "pending"
    },
    "tags": []
   },
   "outputs": [],
   "source": [
    "for i, j in [(1, 2), (3, 4), (5, 6)]:\n",
    "    print(i, j)"
   ]
  },
  {
   "cell_type": "markdown",
   "id": "b9240a58",
   "metadata": {
    "papermill": {
     "duration": null,
     "end_time": null,
     "exception": null,
     "start_time": null,
     "status": "pending"
    },
    "tags": []
   },
   "source": [
    "The Pythonic way to iterate through a dictionary accessing both the keys and values looks like this:"
   ]
  },
  {
   "cell_type": "code",
   "execution_count": null,
   "id": "c2f95790",
   "metadata": {
    "papermill": {
     "duration": null,
     "end_time": null,
     "exception": null,
     "start_time": null,
     "status": "pending"
    },
    "tags": []
   },
   "outputs": [],
   "source": [
    "d = {'foo': 1, 'bar': 2, 'baz': 3}\n",
    "for k, v in d.items():\n",
    "    print('k =', k, ', v =', v)"
   ]
  },
  {
   "cell_type": "markdown",
   "id": "8bec583b",
   "metadata": {
    "papermill": {
     "duration": null,
     "end_time": null,
     "exception": null,
     "start_time": null,
     "status": "pending"
    },
    "tags": []
   },
   "source": [
    "> **Note:** Behind the scene for dictionary `.keys`, `.values`, and `.items` will be covered after the object oriented programming (OOP) series and after you get to know how methods work in OOP."
   ]
  },
  {
   "cell_type": "markdown",
   "id": "49e9207f",
   "metadata": {
    "papermill": {
     "duration": null,
     "end_time": null,
     "exception": null,
     "start_time": null,
     "status": "pending"
    },
    "tags": []
   },
   "source": [
    "<a class=\"anchor\" id=\"the_`range()`_function\"></a>\n",
    "## The `range()` Function"
   ]
  },
  {
   "cell_type": "markdown",
   "id": "315e3889",
   "metadata": {
    "papermill": {
     "duration": null,
     "end_time": null,
     "exception": null,
     "start_time": null,
     "status": "pending"
    },
    "tags": []
   },
   "source": [
    "In the first section of this tutorial, you saw a type of for loop called a [numeric range loop](#numeric-range-loop), in which starting and ending numeric values are specified. Although this form of for loop isn’t directly built into Python, it is easily arrived at."
   ]
  },
  {
   "cell_type": "markdown",
   "id": "8c781478",
   "metadata": {
    "papermill": {
     "duration": null,
     "end_time": null,
     "exception": null,
     "start_time": null,
     "status": "pending"
    },
    "tags": []
   },
   "source": [
    "For example, if you wanted to iterate through the values from `0` to `4`, you could simply do this:"
   ]
  },
  {
   "cell_type": "code",
   "execution_count": null,
   "id": "c53722a6",
   "metadata": {
    "papermill": {
     "duration": null,
     "end_time": null,
     "exception": null,
     "start_time": null,
     "status": "pending"
    },
    "tags": []
   },
   "outputs": [],
   "source": [
    "for n in (0, 1, 2, 3, 4):\n",
    "    print(n)"
   ]
  },
  {
   "cell_type": "markdown",
   "id": "1bfcc71d",
   "metadata": {
    "papermill": {
     "duration": null,
     "end_time": null,
     "exception": null,
     "start_time": null,
     "status": "pending"
    },
    "tags": []
   },
   "source": [
    "This solution isn’t too bad when there are just a few numbers. But if the number range were much larger, it would become tedious pretty quickly."
   ]
  },
  {
   "cell_type": "markdown",
   "id": "30310645",
   "metadata": {
    "papermill": {
     "duration": null,
     "end_time": null,
     "exception": null,
     "start_time": null,
     "status": "pending"
    },
    "tags": []
   },
   "source": [
    "Happily, Python provides a better option—the built-in `range()` function, which returns an iterable that yields a sequence of integers."
   ]
  },
  {
   "cell_type": "markdown",
   "id": "afc4cf32",
   "metadata": {
    "papermill": {
     "duration": null,
     "end_time": null,
     "exception": null,
     "start_time": null,
     "status": "pending"
    },
    "tags": []
   },
   "source": [
    "`range(<end>)` returns an iterable that yields integers starting with `0`, up to but not including `<end>`:"
   ]
  },
  {
   "cell_type": "code",
   "execution_count": null,
   "id": "0c0095e4",
   "metadata": {
    "papermill": {
     "duration": null,
     "end_time": null,
     "exception": null,
     "start_time": null,
     "status": "pending"
    },
    "tags": []
   },
   "outputs": [],
   "source": [
    "x = range(5)\n",
    "x"
   ]
  },
  {
   "cell_type": "code",
   "execution_count": null,
   "id": "13e2aa7d",
   "metadata": {
    "papermill": {
     "duration": null,
     "end_time": null,
     "exception": null,
     "start_time": null,
     "status": "pending"
    },
    "tags": []
   },
   "outputs": [],
   "source": [
    "type(x)"
   ]
  },
  {
   "cell_type": "markdown",
   "id": "d633202f",
   "metadata": {
    "papermill": {
     "duration": null,
     "end_time": null,
     "exception": null,
     "start_time": null,
     "status": "pending"
    },
    "tags": []
   },
   "source": [
    "Note that `range()` returns an object of class `range`, not a list or tuple of the values. Because a `range` object is an iterable, you can obtain the values by iterating over them with a `for` loop:"
   ]
  },
  {
   "cell_type": "code",
   "execution_count": null,
   "id": "6e8a7d4b",
   "metadata": {
    "papermill": {
     "duration": null,
     "end_time": null,
     "exception": null,
     "start_time": null,
     "status": "pending"
    },
    "tags": []
   },
   "outputs": [],
   "source": [
    "for n in x:\n",
    "    print(n)"
   ]
  },
  {
   "cell_type": "markdown",
   "id": "71d6e7da",
   "metadata": {
    "papermill": {
     "duration": null,
     "end_time": null,
     "exception": null,
     "start_time": null,
     "status": "pending"
    },
    "tags": []
   },
   "source": [
    "You could also snag all the values at once with `list()` or `tuple()`. In a REPL session, that can be a convenient way to quickly display what the values are:"
   ]
  },
  {
   "cell_type": "code",
   "execution_count": null,
   "id": "2f8f2ef2",
   "metadata": {
    "papermill": {
     "duration": null,
     "end_time": null,
     "exception": null,
     "start_time": null,
     "status": "pending"
    },
    "tags": []
   },
   "outputs": [],
   "source": [
    "list(x)"
   ]
  },
  {
   "cell_type": "code",
   "execution_count": null,
   "id": "9ec46d54",
   "metadata": {
    "papermill": {
     "duration": null,
     "end_time": null,
     "exception": null,
     "start_time": null,
     "status": "pending"
    },
    "tags": []
   },
   "outputs": [],
   "source": [
    "tuple(x)"
   ]
  },
  {
   "cell_type": "markdown",
   "id": "b0643f7b",
   "metadata": {
    "papermill": {
     "duration": null,
     "end_time": null,
     "exception": null,
     "start_time": null,
     "status": "pending"
    },
    "tags": []
   },
   "source": [
    "However, when `range()` is used in code that is part of a larger application, it is typically considered poor practice to use `list()` or `tuple()` in this way. Like iterators, `range` objects are lazy—the values in the specified range are not generated until they are requested. Using `list()` or `tuple()` on a range object forces all the values to be returned at once. This is rarely necessary, and if the list is long, it can waste time and memory."
   ]
  },
  {
   "cell_type": "markdown",
   "id": "e5c6c854",
   "metadata": {
    "papermill": {
     "duration": null,
     "end_time": null,
     "exception": null,
     "start_time": null,
     "status": "pending"
    },
    "tags": []
   },
   "source": [
    "`range(<begin>, <end>, <stride>)` returns an iterable that yields integers starting with `<begin>`, up to but not including `<end>`. If specified, `<stride>` indicates an amount to skip between values (analogous to the stride value used for string and list slicing):"
   ]
  },
  {
   "cell_type": "code",
   "execution_count": null,
   "id": "c07108a1",
   "metadata": {
    "papermill": {
     "duration": null,
     "end_time": null,
     "exception": null,
     "start_time": null,
     "status": "pending"
    },
    "tags": []
   },
   "outputs": [],
   "source": [
    "list(range(5, 20, 3))"
   ]
  },
  {
   "cell_type": "markdown",
   "id": "5ac9d32c",
   "metadata": {
    "papermill": {
     "duration": null,
     "end_time": null,
     "exception": null,
     "start_time": null,
     "status": "pending"
    },
    "tags": []
   },
   "source": [
    "If `<stride>` is omitted, it defaults to `1`:"
   ]
  },
  {
   "cell_type": "code",
   "execution_count": null,
   "id": "2070c638",
   "metadata": {
    "papermill": {
     "duration": null,
     "end_time": null,
     "exception": null,
     "start_time": null,
     "status": "pending"
    },
    "tags": []
   },
   "outputs": [],
   "source": [
    "list(range(5, 10, 1))"
   ]
  },
  {
   "cell_type": "code",
   "execution_count": null,
   "id": "a1f3dfcd",
   "metadata": {
    "papermill": {
     "duration": null,
     "end_time": null,
     "exception": null,
     "start_time": null,
     "status": "pending"
    },
    "tags": []
   },
   "outputs": [],
   "source": [
    "list(range(5, 10))"
   ]
  },
  {
   "cell_type": "markdown",
   "id": "2dcf7be6",
   "metadata": {
    "papermill": {
     "duration": null,
     "end_time": null,
     "exception": null,
     "start_time": null,
     "status": "pending"
    },
    "tags": []
   },
   "source": [
    "All the parameters specified to `range()` must be integers, but any of them can be negative. Naturally, if `<begin>` is greater than `<end>`, `<stride>` must be negative (if you want any results):"
   ]
  },
  {
   "cell_type": "code",
   "execution_count": null,
   "id": "ab44a2f2",
   "metadata": {
    "papermill": {
     "duration": null,
     "end_time": null,
     "exception": null,
     "start_time": null,
     "status": "pending"
    },
    "tags": []
   },
   "outputs": [],
   "source": [
    "list(range(-5, 5))"
   ]
  },
  {
   "cell_type": "code",
   "execution_count": null,
   "id": "a0d4b470",
   "metadata": {
    "papermill": {
     "duration": null,
     "end_time": null,
     "exception": null,
     "start_time": null,
     "status": "pending"
    },
    "tags": []
   },
   "outputs": [],
   "source": [
    "list(range(5, -5))"
   ]
  },
  {
   "cell_type": "code",
   "execution_count": null,
   "id": "870f21c2",
   "metadata": {
    "papermill": {
     "duration": null,
     "end_time": null,
     "exception": null,
     "start_time": null,
     "status": "pending"
    },
    "tags": []
   },
   "outputs": [],
   "source": [
    "list(range(5, -5, -1))"
   ]
  },
  {
   "cell_type": "markdown",
   "id": "8b68aa7c",
   "metadata": {
    "papermill": {
     "duration": null,
     "end_time": null,
     "exception": null,
     "start_time": null,
     "status": "pending"
    },
    "tags": []
   },
   "source": [
    "> **Technical Note:** Strictly speaking, `range()` isn’t exactly a built-in function. It is implemented as a callable class that creates an immutable sequence type. But for practical purposes, it behaves like a built-in function. This will be covered later after covering OOP."
   ]
  },
  {
   "cell_type": "markdown",
   "id": "540cc99c",
   "metadata": {
    "papermill": {
     "duration": null,
     "end_time": null,
     "exception": null,
     "start_time": null,
     "status": "pending"
    },
    "tags": []
   },
   "source": [
    "<a class=\"anchor\" id=\"altering_`for`_loop_behavior\"></a>\n",
    "## Altering `for` Loop Behavior"
   ]
  },
  {
   "cell_type": "markdown",
   "id": "a8f5e987",
   "metadata": {
    "papermill": {
     "duration": null,
     "end_time": null,
     "exception": null,
     "start_time": null,
     "status": "pending"
    },
    "tags": []
   },
   "source": [
    "You saw in the previous tutorial in the previous sections how execution of a `while` loop can be interrupted with `break` and `continue` statements and modified with an `else` clause. These capabilities are available with the `for` loop as well."
   ]
  },
  {
   "cell_type": "markdown",
   "id": "2dd6a920",
   "metadata": {
    "papermill": {
     "duration": null,
     "end_time": null,
     "exception": null,
     "start_time": null,
     "status": "pending"
    },
    "tags": []
   },
   "source": [
    "<a class=\"anchor\" id=\"the_break_and_continue_statements\"></a>\n",
    "### The break and continue Statements"
   ]
  },
  {
   "cell_type": "markdown",
   "id": "63f61724",
   "metadata": {
    "papermill": {
     "duration": null,
     "end_time": null,
     "exception": null,
     "start_time": null,
     "status": "pending"
    },
    "tags": []
   },
   "source": [
    "`break` and `continue` work the same way with `for` loops as with `while` loops. `break` terminates the loop completely and proceeds to the first statement following the loop:"
   ]
  },
  {
   "cell_type": "code",
   "execution_count": null,
   "id": "442cdcfe",
   "metadata": {
    "papermill": {
     "duration": null,
     "end_time": null,
     "exception": null,
     "start_time": null,
     "status": "pending"
    },
    "tags": []
   },
   "outputs": [],
   "source": [
    "for i in ['foo', 'bar', 'baz', 'qux']:\n",
    "    if 'b' in i:\n",
    "        break\n",
    "    print(i)"
   ]
  },
  {
   "cell_type": "markdown",
   "id": "371e62ce",
   "metadata": {
    "papermill": {
     "duration": null,
     "end_time": null,
     "exception": null,
     "start_time": null,
     "status": "pending"
    },
    "tags": []
   },
   "source": [
    "`continue` terminates the current iteration and proceeds to the next iteration:"
   ]
  },
  {
   "cell_type": "code",
   "execution_count": null,
   "id": "a670851d",
   "metadata": {
    "papermill": {
     "duration": null,
     "end_time": null,
     "exception": null,
     "start_time": null,
     "status": "pending"
    },
    "tags": []
   },
   "outputs": [],
   "source": [
    "for i in ['foo', 'bar', 'baz', 'qux']:\n",
    "    if 'b' in i:\n",
    "        continue\n",
    "    print(i)"
   ]
  },
  {
   "cell_type": "markdown",
   "id": "bd0fb456",
   "metadata": {
    "papermill": {
     "duration": null,
     "end_time": null,
     "exception": null,
     "start_time": null,
     "status": "pending"
    },
    "tags": []
   },
   "source": [
    "<a class=\"anchor\" id=\"the_`else`_clause\"></a>\n",
    "### The `else` Clause"
   ]
  },
  {
   "cell_type": "markdown",
   "id": "bdd2ef38",
   "metadata": {
    "papermill": {
     "duration": null,
     "end_time": null,
     "exception": null,
     "start_time": null,
     "status": "pending"
    },
    "tags": []
   },
   "source": [
    "A `for` loop can have an `else` clause as well. The interpretation is analogous to that of a `while` loop. The `else` clause will be executed if the loop terminates through exhaustion of the iterable:"
   ]
  },
  {
   "cell_type": "code",
   "execution_count": null,
   "id": "20df6d2b",
   "metadata": {
    "papermill": {
     "duration": null,
     "end_time": null,
     "exception": null,
     "start_time": null,
     "status": "pending"
    },
    "tags": []
   },
   "outputs": [],
   "source": [
    "for i in ['foo', 'bar', 'baz', 'qux']:\n",
    "    print(i)\n",
    "else:\n",
    "    print('Done.')  # Will execute"
   ]
  },
  {
   "cell_type": "markdown",
   "id": "855a0e00",
   "metadata": {
    "papermill": {
     "duration": null,
     "end_time": null,
     "exception": null,
     "start_time": null,
     "status": "pending"
    },
    "tags": []
   },
   "source": [
    "The `else` clause won’t be executed if the list is broken out of with a `break` statement:"
   ]
  },
  {
   "cell_type": "code",
   "execution_count": null,
   "id": "3a859477",
   "metadata": {
    "papermill": {
     "duration": null,
     "end_time": null,
     "exception": null,
     "start_time": null,
     "status": "pending"
    },
    "tags": []
   },
   "outputs": [],
   "source": [
    "for i in ['foo', 'bar', 'baz', 'qux']:\n",
    "    if i == 'bar':\n",
    "        break\n",
    "    print(i)\n",
    "else:\n",
    "    print('Done.')  # Will not execute"
   ]
  },
  {
   "cell_type": "markdown",
   "id": "6fa4a312",
   "metadata": {
    "papermill": {
     "duration": null,
     "end_time": null,
     "exception": null,
     "start_time": null,
     "status": "pending"
    },
    "tags": []
   },
   "source": [
    "<a class=\"anchor\" id=\"conclusion\"></a>\n",
    "## Conclusion \n",
    "This section presented the `for` loop, the workhorse of **definite iteration** in Python."
   ]
  },
  {
   "cell_type": "markdown",
   "id": "623d0693",
   "metadata": {
    "papermill": {
     "duration": null,
     "end_time": null,
     "exception": null,
     "start_time": null,
     "status": "pending"
    },
    "tags": []
   },
   "source": [
    "You also learned about the inner workings of **iterables** and **iterators**, two important object types that underlie definite iteration, but also figure prominently in a wide variety of other Python code."
   ]
  },
  {
   "cell_type": "code",
   "execution_count": null,
   "id": "49480c70",
   "metadata": {
    "papermill": {
     "duration": null,
     "end_time": null,
     "exception": null,
     "start_time": null,
     "status": "pending"
    },
    "tags": []
   },
   "outputs": [],
   "source": [
    "if x == 2:\n",
    "    pass"
   ]
  },
  {
   "cell_type": "markdown",
   "id": "c9aab319",
   "metadata": {
    "papermill": {
     "duration": null,
     "end_time": null,
     "exception": null,
     "start_time": null,
     "status": "pending"
    },
    "tags": []
   },
   "source": [
    "In the next two sections in this introductory series, you will shift gears a little and explore how Python programs can interact with the user via **input** from the keyboard and **output** to the console."
   ]
  }
 ],
 "metadata": {
  "kernelspec": {
   "display_name": "Python 3",
   "language": "python",
   "name": "python3"
  },
  "language_info": {
   "codemirror_mode": {
    "name": "ipython",
    "version": 3
   },
   "file_extension": ".py",
   "mimetype": "text/x-python",
   "name": "python",
   "nbconvert_exporter": "python",
   "pygments_lexer": "ipython3",
   "version": "3.10.12"
  },
  "papermill": {
   "default_parameters": {},
   "duration": 5.518983,
   "end_time": "2023-10-15T08:15:45.169188",
   "environment_variables": {},
   "exception": true,
   "input_path": "__notebook__.ipynb",
   "output_path": "__notebook__.ipynb",
   "parameters": {},
   "start_time": "2023-10-15T08:15:39.650205",
   "version": "2.4.0"
  }
 },
 "nbformat": 4,
 "nbformat_minor": 5
}
