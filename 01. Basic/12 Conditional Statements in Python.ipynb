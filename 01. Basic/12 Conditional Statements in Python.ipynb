{
 "cells": [
  {
   "cell_type": "markdown",
   "id": "020e1068",
   "metadata": {
    "papermill": {
     "duration": 0.01677,
     "end_time": "2023-10-15T08:04:43.749579",
     "exception": false,
     "start_time": "2023-10-15T08:04:43.732809",
     "status": "completed"
    },
    "tags": []
   },
   "source": []
  },
  {
   "cell_type": "markdown",
   "id": "f7313d9a",
   "metadata": {
    "papermill": {
     "duration": 0.015475,
     "end_time": "2023-10-15T08:04:43.780962",
     "exception": false,
     "start_time": "2023-10-15T08:04:43.765487",
     "status": "completed"
    },
    "tags": []
   },
   "source": [
    "Conditional Statements in Python \n"
   ]
  },
  {
   "cell_type": "markdown",
   "id": "ce99361a",
   "metadata": {
    "papermill": {
     "duration": 0.016346,
     "end_time": "2023-10-15T08:04:43.813659",
     "exception": false,
     "start_time": "2023-10-15T08:04:43.797313",
     "status": "completed"
    },
    "tags": []
   },
   "source": [
    "Table of Contents \n",
    "* [Introduction to the `if` Statement](#introduction_to_the_`if`_statement)\n",
    "* [Grouping Statements: Indentation and Blocks](#grouping_statements:_indentation_and_blocks)\n",
    "    * [Python: It’s All About the Indentation](#python:_it’s_all_about_the_indentation)\n",
    "    * [What Do Other Languages Do?](#what_do_other_languages_do?)\n",
    "    * [Which Is Better?](#which_is_better?)\n",
    "* [The `else` and `elif` Clauses](#the_`else`_and_`elif`_clauses)\n",
    "* [One-Line `if` Statements](#one-line_`if`_statements)\n",
    "* [Conditional Expressions (Python’s Ternary Operator)](#conditional_expressions_(python’s_ternary_operator))\n",
    "* [The Python `pass` Statement](#the_python_`pass`_statement)\n",
    "* [Conclusion](#conclusion)\n",
    "\n",
    "---"
   ]
  },
  {
   "cell_type": "markdown",
   "id": "15a84a3c",
   "metadata": {
    "papermill": {
     "duration": 0.015268,
     "end_time": "2023-10-15T08:04:43.845108",
     "exception": false,
     "start_time": "2023-10-15T08:04:43.829840",
     "status": "completed"
    },
    "tags": []
   },
   "source": [
    "From the previous tutorials in this series, you now have quite a bit of Python code under your belt. Everything you have seen so far has consisted of **sequential execution** , in which statements are always performed one after the next, in exactly the order specified."
   ]
  },
  {
   "cell_type": "markdown",
   "id": "6311ea16",
   "metadata": {
    "papermill": {
     "duration": 0.015184,
     "end_time": "2023-10-15T08:04:43.876627",
     "exception": false,
     "start_time": "2023-10-15T08:04:43.861443",
     "status": "completed"
    },
    "tags": []
   },
   "source": [
    "But the world is often more complicated than that. Frequently, a program needs to skip over some statements, execute a series of statements repetitively, or choose between alternate sets of statements to execute."
   ]
  },
  {
   "cell_type": "markdown",
   "id": "72eddd52",
   "metadata": {
    "papermill": {
     "duration": 0.075544,
     "end_time": "2023-10-15T08:04:43.967746",
     "exception": false,
     "start_time": "2023-10-15T08:04:43.892202",
     "status": "completed"
    },
    "tags": []
   },
   "source": [
    "That is where **control structures** come in. A control structure directs the order of execution of the statements in a program (referred to as the program’s control flow)."
   ]
  },
  {
   "cell_type": "markdown",
   "id": "3bafca2c",
   "metadata": {
    "papermill": {
     "duration": 0.015489,
     "end_time": "2023-10-15T08:04:44.000594",
     "exception": false,
     "start_time": "2023-10-15T08:04:43.985105",
     "status": "completed"
    },
    "tags": []
   },
   "source": [
    "In the real world, we commonly must evaluate information around us and then choose one course of action or another based on what we observe:\n",
    "\n",
    "> If the weather is nice, then I’ll mow the lawn. (It’s implied that if the weather isn’t nice, then I won’t mow the lawn.)"
   ]
  },
  {
   "cell_type": "markdown",
   "id": "d7deccf6",
   "metadata": {
    "papermill": {
     "duration": 0.01571,
     "end_time": "2023-10-15T08:04:44.031973",
     "exception": false,
     "start_time": "2023-10-15T08:04:44.016263",
     "status": "completed"
    },
    "tags": []
   },
   "source": [
    "In a Python program, the if statement is how you perform this sort of decision-making. It allows for **conditional** execution of a statement or group of statements based on the value of an expression."
   ]
  },
  {
   "cell_type": "markdown",
   "id": "f94b5f88",
   "metadata": {
    "papermill": {
     "duration": 0.015424,
     "end_time": "2023-10-15T08:04:44.063318",
     "exception": false,
     "start_time": "2023-10-15T08:04:44.047894",
     "status": "completed"
    },
    "tags": []
   },
   "source": [
    "The outline of this section is as follows:\n",
    "\n",
    "- First, you’ll get a quick overview of the `if` statement in its simplest form.\n",
    "- Next, using the if statement as a model, you’ll see why control structures require some mechanism for grouping statements together into **compound statements** or **blocks**. You’ll learn how this is done in Python.\n",
    "- Lastly, you’ll tie it all together and learn how to write complex decision-making code."
   ]
  },
  {
   "cell_type": "markdown",
   "id": "f35cb086",
   "metadata": {
    "papermill": {
     "duration": 0.015539,
     "end_time": "2023-10-15T08:04:44.094561",
     "exception": false,
     "start_time": "2023-10-15T08:04:44.079022",
     "status": "completed"
    },
    "tags": []
   },
   "source": [
    "<a class=\"anchor\" id=\"introduction_to_the_`if`_statement\"></a>\n",
    "## Introduction to the `if` Statement"
   ]
  },
  {
   "cell_type": "markdown",
   "id": "32ae4666",
   "metadata": {
    "papermill": {
     "duration": 0.015565,
     "end_time": "2023-10-15T08:04:44.125799",
     "exception": false,
     "start_time": "2023-10-15T08:04:44.110234",
     "status": "completed"
    },
    "tags": []
   },
   "source": [
    "We’ll start by looking at the most basic type of `if` statement. In its simplest form, it looks like this:\n",
    "\n",
    "```python\n",
    "if <expr>:\n",
    "    <statement>\n",
    "```"
   ]
  },
  {
   "cell_type": "markdown",
   "id": "6d6bdaf0",
   "metadata": {
    "papermill": {
     "duration": 0.015533,
     "end_time": "2023-10-15T08:04:44.157026",
     "exception": false,
     "start_time": "2023-10-15T08:04:44.141493",
     "status": "completed"
    },
    "tags": []
   },
   "source": [
    "In the form shown above:\n",
    "\n",
    "- `<expr>` is an expression evaluated in a Boolean context, as discussed in the section on Logical Operators in the Operators and Expressions section.\n",
    "- `<statement>` is a valid Python statement, which must be indented. (You will see why very soon.)"
   ]
  },
  {
   "cell_type": "markdown",
   "id": "9fdb0803",
   "metadata": {
    "papermill": {
     "duration": 0.015439,
     "end_time": "2023-10-15T08:04:44.188088",
     "exception": false,
     "start_time": "2023-10-15T08:04:44.172649",
     "status": "completed"
    },
    "tags": []
   },
   "source": [
    "If `<expr>` is true (evaluates to a value that is “truthy”), then `<statement>` is executed. If `<expr>` is false, then `<statement>` is skipped over and not executed."
   ]
  },
  {
   "cell_type": "markdown",
   "id": "755c3689",
   "metadata": {
    "papermill": {
     "duration": 0.01538,
     "end_time": "2023-10-15T08:04:44.219188",
     "exception": false,
     "start_time": "2023-10-15T08:04:44.203808",
     "status": "completed"
    },
    "tags": []
   },
   "source": [
    "Note that the colon (`:`) following `<expr>` is required. Some programming languages require `<expr>` to be enclosed in parentheses, but Python does not."
   ]
  },
  {
   "cell_type": "markdown",
   "id": "ffab65fa",
   "metadata": {
    "papermill": {
     "duration": 0.015464,
     "end_time": "2023-10-15T08:04:44.250354",
     "exception": false,
     "start_time": "2023-10-15T08:04:44.234890",
     "status": "completed"
    },
    "tags": []
   },
   "source": [
    "Here are several examples of this type of `if` statement:"
   ]
  },
  {
   "cell_type": "code",
   "execution_count": 1,
   "id": "5cd3ffd8",
   "metadata": {
    "execution": {
     "iopub.execute_input": "2023-10-15T08:04:44.284428Z",
     "iopub.status.busy": "2023-10-15T08:04:44.283611Z",
     "iopub.status.idle": "2023-10-15T08:04:44.292556Z",
     "shell.execute_reply": "2023-10-15T08:04:44.291753Z"
    },
    "papermill": {
     "duration": 0.028705,
     "end_time": "2023-10-15T08:04:44.294716",
     "exception": false,
     "start_time": "2023-10-15T08:04:44.266011",
     "status": "completed"
    },
    "tags": []
   },
   "outputs": [],
   "source": [
    "x = 0\n",
    "y = 5"
   ]
  },
  {
   "cell_type": "code",
   "execution_count": 2,
   "id": "80b0439f",
   "metadata": {
    "execution": {
     "iopub.execute_input": "2023-10-15T08:04:44.329385Z",
     "iopub.status.busy": "2023-10-15T08:04:44.328640Z",
     "iopub.status.idle": "2023-10-15T08:04:44.334842Z",
     "shell.execute_reply": "2023-10-15T08:04:44.333806Z"
    },
    "papermill": {
     "duration": 0.025874,
     "end_time": "2023-10-15T08:04:44.336962",
     "exception": false,
     "start_time": "2023-10-15T08:04:44.311088",
     "status": "completed"
    },
    "tags": []
   },
   "outputs": [
    {
     "name": "stdout",
     "output_type": "stream",
     "text": [
      "yes\n"
     ]
    }
   ],
   "source": [
    "if x < y:                            # Truthy\n",
    "    print('yes')"
   ]
  },
  {
   "cell_type": "code",
   "execution_count": 3,
   "id": "d35dae66",
   "metadata": {
    "execution": {
     "iopub.execute_input": "2023-10-15T08:04:44.371475Z",
     "iopub.status.busy": "2023-10-15T08:04:44.370738Z",
     "iopub.status.idle": "2023-10-15T08:04:44.375235Z",
     "shell.execute_reply": "2023-10-15T08:04:44.374533Z"
    },
    "papermill": {
     "duration": 0.02396,
     "end_time": "2023-10-15T08:04:44.377252",
     "exception": false,
     "start_time": "2023-10-15T08:04:44.353292",
     "status": "completed"
    },
    "tags": []
   },
   "outputs": [],
   "source": [
    "if y < x:                            # Falsy\n",
    "    print('yes')"
   ]
  },
  {
   "cell_type": "code",
   "execution_count": 4,
   "id": "7b85c3a1",
   "metadata": {
    "execution": {
     "iopub.execute_input": "2023-10-15T08:04:44.414332Z",
     "iopub.status.busy": "2023-10-15T08:04:44.413601Z",
     "iopub.status.idle": "2023-10-15T08:04:44.418011Z",
     "shell.execute_reply": "2023-10-15T08:04:44.417330Z"
    },
    "papermill": {
     "duration": 0.024092,
     "end_time": "2023-10-15T08:04:44.419933",
     "exception": false,
     "start_time": "2023-10-15T08:04:44.395841",
     "status": "completed"
    },
    "tags": []
   },
   "outputs": [],
   "source": [
    "if x:                                # Falsy\n",
    "    print('yes')"
   ]
  },
  {
   "cell_type": "code",
   "execution_count": 5,
   "id": "b4082032",
   "metadata": {
    "execution": {
     "iopub.execute_input": "2023-10-15T08:04:44.454132Z",
     "iopub.status.busy": "2023-10-15T08:04:44.453523Z",
     "iopub.status.idle": "2023-10-15T08:04:44.459163Z",
     "shell.execute_reply": "2023-10-15T08:04:44.457967Z"
    },
    "papermill": {
     "duration": 0.025187,
     "end_time": "2023-10-15T08:04:44.461294",
     "exception": false,
     "start_time": "2023-10-15T08:04:44.436107",
     "status": "completed"
    },
    "tags": []
   },
   "outputs": [
    {
     "name": "stdout",
     "output_type": "stream",
     "text": [
      "yes\n"
     ]
    }
   ],
   "source": [
    "if y:                                # Truthy\n",
    "    print('yes')"
   ]
  },
  {
   "cell_type": "code",
   "execution_count": 6,
   "id": "e3fa7ff3",
   "metadata": {
    "execution": {
     "iopub.execute_input": "2023-10-15T08:04:44.495958Z",
     "iopub.status.busy": "2023-10-15T08:04:44.495595Z",
     "iopub.status.idle": "2023-10-15T08:04:44.499998Z",
     "shell.execute_reply": "2023-10-15T08:04:44.499037Z"
    },
    "papermill": {
     "duration": 0.02506,
     "end_time": "2023-10-15T08:04:44.502740",
     "exception": false,
     "start_time": "2023-10-15T08:04:44.477680",
     "status": "completed"
    },
    "tags": []
   },
   "outputs": [
    {
     "name": "stdout",
     "output_type": "stream",
     "text": [
      "yes\n"
     ]
    }
   ],
   "source": [
    "if x or y:                           # Truthy\n",
    "    print('yes')"
   ]
  },
  {
   "cell_type": "code",
   "execution_count": 7,
   "id": "c3271912",
   "metadata": {
    "execution": {
     "iopub.execute_input": "2023-10-15T08:04:44.538617Z",
     "iopub.status.busy": "2023-10-15T08:04:44.538284Z",
     "iopub.status.idle": "2023-10-15T08:04:44.542713Z",
     "shell.execute_reply": "2023-10-15T08:04:44.541771Z"
    },
    "papermill": {
     "duration": 0.024658,
     "end_time": "2023-10-15T08:04:44.544599",
     "exception": false,
     "start_time": "2023-10-15T08:04:44.519941",
     "status": "completed"
    },
    "tags": []
   },
   "outputs": [],
   "source": [
    "if x and y:                          # Falsy\n",
    "    print('yes')"
   ]
  },
  {
   "cell_type": "code",
   "execution_count": 8,
   "id": "527e3cf4",
   "metadata": {
    "execution": {
     "iopub.execute_input": "2023-10-15T08:04:44.578921Z",
     "iopub.status.busy": "2023-10-15T08:04:44.578570Z",
     "iopub.status.idle": "2023-10-15T08:04:44.583956Z",
     "shell.execute_reply": "2023-10-15T08:04:44.582859Z"
    },
    "papermill": {
     "duration": 0.024907,
     "end_time": "2023-10-15T08:04:44.585994",
     "exception": false,
     "start_time": "2023-10-15T08:04:44.561087",
     "status": "completed"
    },
    "tags": []
   },
   "outputs": [
    {
     "name": "stdout",
     "output_type": "stream",
     "text": [
      "yes\n"
     ]
    }
   ],
   "source": [
    "if 'aul' in 'grault':                # Truthy\n",
    "    print('yes')"
   ]
  },
  {
   "cell_type": "code",
   "execution_count": 9,
   "id": "401332b4",
   "metadata": {
    "execution": {
     "iopub.execute_input": "2023-10-15T08:04:44.622114Z",
     "iopub.status.busy": "2023-10-15T08:04:44.621186Z",
     "iopub.status.idle": "2023-10-15T08:04:44.625495Z",
     "shell.execute_reply": "2023-10-15T08:04:44.624816Z"
    },
    "papermill": {
     "duration": 0.023905,
     "end_time": "2023-10-15T08:04:44.627237",
     "exception": false,
     "start_time": "2023-10-15T08:04:44.603332",
     "status": "completed"
    },
    "tags": []
   },
   "outputs": [],
   "source": [
    "if 'quux' in ['foo', 'bar', 'baz']:  # Falsy\n",
    "    print('yes')"
   ]
  },
  {
   "cell_type": "code",
   "execution_count": 10,
   "id": "fb55a66c",
   "metadata": {
    "execution": {
     "iopub.execute_input": "2023-10-15T08:04:44.662225Z",
     "iopub.status.busy": "2023-10-15T08:04:44.661367Z",
     "iopub.status.idle": "2023-10-15T08:04:44.665432Z",
     "shell.execute_reply": "2023-10-15T08:04:44.664745Z"
    },
    "papermill": {
     "duration": 0.023369,
     "end_time": "2023-10-15T08:04:44.667212",
     "exception": false,
     "start_time": "2023-10-15T08:04:44.643843",
     "status": "completed"
    },
    "tags": []
   },
   "outputs": [],
   "source": [
    "if 10 in [1, 2, 3, 4]:\n",
    "    print('hi')"
   ]
  },
  {
   "cell_type": "markdown",
   "id": "1a42b0ac",
   "metadata": {
    "papermill": {
     "duration": 0.016238,
     "end_time": "2023-10-15T08:04:44.700243",
     "exception": false,
     "start_time": "2023-10-15T08:04:44.684005",
     "status": "completed"
    },
    "tags": []
   },
   "source": [
    "<a class=\"anchor\" id=\"grouping_statements:_indentation_and_blocks\"></a>\n",
    "## Grouping Statements: Indentation and Blocks"
   ]
  },
  {
   "cell_type": "markdown",
   "id": "1277ee83",
   "metadata": {
    "papermill": {
     "duration": 0.016182,
     "end_time": "2023-10-15T08:04:44.733597",
     "exception": false,
     "start_time": "2023-10-15T08:04:44.717415",
     "status": "completed"
    },
    "tags": []
   },
   "source": [
    "So far, so good.\n",
    "\n",
    "But let’s say you want to evaluate a condition and then do more than one thing if it is true:\n",
    "\n",
    "> If the weather is nice, then I will:\n",
    "> \n",
    "> - Mow the lawn\n",
    "> - Weed the garden\n",
    "> - Take the dog for a walk\n",
    "> \n",
    "> (If the weather isn’t nice, then I won’t do any of these things.)"
   ]
  },
  {
   "cell_type": "markdown",
   "id": "572e7061",
   "metadata": {
    "papermill": {
     "duration": 0.016089,
     "end_time": "2023-10-15T08:04:44.766356",
     "exception": false,
     "start_time": "2023-10-15T08:04:44.750267",
     "status": "completed"
    },
    "tags": []
   },
   "source": [
    "In all the examples shown above, each `if <expr>`: has been followed by only a single `<statement>`. There needs to be some way to say \"If `<expr>` is true, do all of the following things.\""
   ]
  },
  {
   "cell_type": "markdown",
   "id": "743ef473",
   "metadata": {
    "papermill": {
     "duration": 0.016212,
     "end_time": "2023-10-15T08:04:44.798986",
     "exception": false,
     "start_time": "2023-10-15T08:04:44.782774",
     "status": "completed"
    },
    "tags": []
   },
   "source": [
    "The usual approach taken by most programming languages is to define a syntactic device that groups multiple statements into one **compound statement** or **block**. A block is regarded syntactically as a single entity. When it is the target of an `if` statement, and `<expr>` is true, then all the statements in the block are executed. If `<expr>` is false, then none of them are."
   ]
  },
  {
   "cell_type": "markdown",
   "id": "222eb6ae",
   "metadata": {
    "papermill": {
     "duration": 0.016082,
     "end_time": "2023-10-15T08:04:44.831983",
     "exception": false,
     "start_time": "2023-10-15T08:04:44.815901",
     "status": "completed"
    },
    "tags": []
   },
   "source": [
    "Virtually all programming languages provide the capability to define blocks, but they don’t all provide it in the same way. Let’s see how Python does it."
   ]
  },
  {
   "cell_type": "markdown",
   "id": "7a5b21a9",
   "metadata": {
    "papermill": {
     "duration": 0.017109,
     "end_time": "2023-10-15T08:04:44.865610",
     "exception": false,
     "start_time": "2023-10-15T08:04:44.848501",
     "status": "completed"
    },
    "tags": []
   },
   "source": [
    "<a class=\"anchor\" id=\"python:_it’s_all_about_the_indentation\"></a>\n",
    "### Python: It’s All About the Indentation"
   ]
  },
  {
   "cell_type": "markdown",
   "id": "34172638",
   "metadata": {
    "papermill": {
     "duration": 0.016268,
     "end_time": "2023-10-15T08:04:44.898505",
     "exception": false,
     "start_time": "2023-10-15T08:04:44.882237",
     "status": "completed"
    },
    "tags": []
   },
   "source": [
    "Python follows a convention known as the [off-side rule](https://en.wikipedia.org/wiki/Off-side_rule), a term coined by British computer scientist Peter J. Landin. (The term is taken from the offside law in association football.) Languages that adhere to the off-side rule define blocks by indentation. Python is one of a relatively small set of [off-side rule languages](https://en.wikipedia.org/wiki/Off-side_rule#Off-side_rule_languages)."
   ]
  },
  {
   "cell_type": "markdown",
   "id": "100b1082",
   "metadata": {
    "papermill": {
     "duration": 0.01711,
     "end_time": "2023-10-15T08:04:44.932421",
     "exception": false,
     "start_time": "2023-10-15T08:04:44.915311",
     "status": "completed"
    },
    "tags": []
   },
   "source": [
    "Recall from the previous section on Python program structure that indentation has special significance in a Python program. Now you know why: indentation is used to define compound statements or blocks. In a Python program, contiguous statements that are indented to the same level are considered to be part of the same block."
   ]
  },
  {
   "cell_type": "markdown",
   "id": "a7f4170a",
   "metadata": {
    "papermill": {
     "duration": 0.016264,
     "end_time": "2023-10-15T08:04:44.965258",
     "exception": false,
     "start_time": "2023-10-15T08:04:44.948994",
     "status": "completed"
    },
    "tags": []
   },
   "source": [
    "Thus, a compound `if` statement in Python looks like this:\n",
    "\n",
    "```python\n",
    "if <expr>:\n",
    "    <statement>\n",
    "    <statement>\n",
    "    ...\n",
    "    <statement>\n",
    "<following_statement>\n",
    "```"
   ]
  },
  {
   "cell_type": "markdown",
   "id": "8251c961",
   "metadata": {
    "papermill": {
     "duration": 0.016059,
     "end_time": "2023-10-15T08:04:44.997793",
     "exception": false,
     "start_time": "2023-10-15T08:04:44.981734",
     "status": "completed"
    },
    "tags": []
   },
   "source": [
    "Here, all the statements at the matching indentation level (lines 2 to 5) are considered part of the same block. The entire block is executed if `<expr>` is true, or skipped over if `<expr>` is false. Either way, execution proceeds with `<following_statement>` (line 6) afterward.\n",
    "\n"
   ]
  },
  {
   "cell_type": "markdown",
   "id": "59ebe2cc",
   "metadata": {
    "papermill": {
     "duration": 0.016635,
     "end_time": "2023-10-15T08:04:45.030848",
     "exception": false,
     "start_time": "2023-10-15T08:04:45.014213",
     "status": "completed"
    },
    "tags": []
   },
   "source": [
    "Notice that there is no token that denotes the end of the block. Rather, the end of the block is indicated by a line that is indented less than the lines of the block itself."
   ]
  },
  {
   "cell_type": "markdown",
   "id": "9edd9931",
   "metadata": {
    "papermill": {
     "duration": 0.016327,
     "end_time": "2023-10-15T08:04:45.063904",
     "exception": false,
     "start_time": "2023-10-15T08:04:45.047577",
     "status": "completed"
    },
    "tags": []
   },
   "source": [
    "> **Note:** In the Python documentation, a group of statements defined by indentation is often referred to as a **suite**. This tutorial series uses the terms block and suite interchangeably."
   ]
  },
  {
   "cell_type": "markdown",
   "id": "68c1ba25",
   "metadata": {
    "papermill": {
     "duration": 0.01606,
     "end_time": "2023-10-15T08:04:45.096400",
     "exception": false,
     "start_time": "2023-10-15T08:04:45.080340",
     "status": "completed"
    },
    "tags": []
   },
   "source": [
    "Consider the following code:"
   ]
  },
  {
   "cell_type": "code",
   "execution_count": 11,
   "id": "92bb780c",
   "metadata": {
    "execution": {
     "iopub.execute_input": "2023-10-15T08:04:45.131443Z",
     "iopub.status.busy": "2023-10-15T08:04:45.130708Z",
     "iopub.status.idle": "2023-10-15T08:04:45.136124Z",
     "shell.execute_reply": "2023-10-15T08:04:45.134871Z"
    },
    "papermill": {
     "duration": 0.02523,
     "end_time": "2023-10-15T08:04:45.138051",
     "exception": false,
     "start_time": "2023-10-15T08:04:45.112821",
     "status": "completed"
    },
    "tags": []
   },
   "outputs": [
    {
     "name": "stdout",
     "output_type": "stream",
     "text": [
      "After conditional\n"
     ]
    }
   ],
   "source": [
    "if 'foo' in ['bar', 'baz', 'qux']:\n",
    "    print('Expression was true')\n",
    "    print('Executing statement in suite')\n",
    "    print('...')\n",
    "    print('Done.')\n",
    "    \n",
    "print('After conditional')"
   ]
  },
  {
   "cell_type": "markdown",
   "id": "7af39491",
   "metadata": {
    "papermill": {
     "duration": 0.016472,
     "end_time": "2023-10-15T08:04:45.171996",
     "exception": false,
     "start_time": "2023-10-15T08:04:45.155524",
     "status": "completed"
    },
    "tags": []
   },
   "source": [
    "The four `print()` statements on lines 2 to 5 are indented to the same level as one another. They constitute the block that would be executed if the condition were true. But it is false, so all the statements in the block are skipped. After the end of the compound `if` statement has been reached (whether the statements in the block on lines 2 to 5 are executed or not), execution proceeds to the first statement having a lesser indentation level: the `print()` statement on line 6."
   ]
  },
  {
   "cell_type": "markdown",
   "id": "8a4a2d3c",
   "metadata": {
    "papermill": {
     "duration": 0.01638,
     "end_time": "2023-10-15T08:04:45.204996",
     "exception": false,
     "start_time": "2023-10-15T08:04:45.188616",
     "status": "completed"
    },
    "tags": []
   },
   "source": [
    "Blocks can be nested to arbitrary depth. Each indent defines a new block, and each outdent ends the preceding block. The resulting structure is straightforward, consistent, and intuitive."
   ]
  },
  {
   "cell_type": "markdown",
   "id": "a0157e8c",
   "metadata": {
    "papermill": {
     "duration": 0.01644,
     "end_time": "2023-10-15T08:04:45.237954",
     "exception": false,
     "start_time": "2023-10-15T08:04:45.221514",
     "status": "completed"
    },
    "tags": []
   },
   "source": [
    "Here is a more complicated `if` block: "
   ]
  },
  {
   "cell_type": "code",
   "execution_count": 12,
   "id": "94dc74c2",
   "metadata": {
    "execution": {
     "iopub.execute_input": "2023-10-15T08:04:45.273130Z",
     "iopub.status.busy": "2023-10-15T08:04:45.272746Z",
     "iopub.status.idle": "2023-10-15T08:04:45.278032Z",
     "shell.execute_reply": "2023-10-15T08:04:45.277287Z"
    },
    "papermill": {
     "duration": 0.025563,
     "end_time": "2023-10-15T08:04:45.280477",
     "exception": false,
     "start_time": "2023-10-15T08:04:45.254914",
     "status": "completed"
    },
    "tags": []
   },
   "outputs": [
    {
     "name": "stdout",
     "output_type": "stream",
     "text": [
      "Outer condition is true\n",
      "Between inner conditions\n",
      "Inner condition 2\n",
      "End of outer condition\n",
      "After outer condition\n"
     ]
    }
   ],
   "source": [
    "# Does line execute?                        Yes    No\n",
    "#                                           ---    --\n",
    "if 'foo' in ['foo', 'bar', 'baz']:        #  x\n",
    "    print('Outer condition is true')      #  x\n",
    "\n",
    "    if 10 > 20:                           #  x\n",
    "        print('Inner condition 1')        #        x\n",
    "\n",
    "    print('Between inner conditions')     #  x\n",
    "\n",
    "    if 10 < 20:                           #  x\n",
    "        print('Inner condition 2')        #  x\n",
    "\n",
    "    print('End of outer condition')       #  x\n",
    "print('After outer condition')            #  x"
   ]
  },
  {
   "cell_type": "markdown",
   "id": "29bb7d3d",
   "metadata": {
    "papermill": {
     "duration": 0.016803,
     "end_time": "2023-10-15T08:04:45.314209",
     "exception": false,
     "start_time": "2023-10-15T08:04:45.297406",
     "status": "completed"
    },
    "tags": []
   },
   "source": [
    "<a class=\"anchor\" id=\"what_do_other_languages_do?\"></a>\n",
    "### What Do Other Languages Do?"
   ]
  },
  {
   "cell_type": "markdown",
   "id": "fcf7db51",
   "metadata": {
    "papermill": {
     "duration": 0.016677,
     "end_time": "2023-10-15T08:04:45.347816",
     "exception": false,
     "start_time": "2023-10-15T08:04:45.331139",
     "status": "completed"
    },
    "tags": []
   },
   "source": [
    "Perhaps you’re curious what the alternatives are. How are blocks defined in languages that don’t adhere to the off-side rule?"
   ]
  },
  {
   "cell_type": "markdown",
   "id": "c63f7d9f",
   "metadata": {
    "papermill": {
     "duration": 0.01664,
     "end_time": "2023-10-15T08:04:45.381524",
     "exception": false,
     "start_time": "2023-10-15T08:04:45.364884",
     "status": "completed"
    },
    "tags": []
   },
   "source": [
    "The tactic used by most programming languages is to designate special tokens that mark the start and end of a block. For example, in Perl blocks are defined with pairs of curly braces (`{}`) like this:\n",
    "\n",
    "```perl\n",
    "# (This is Perl, not Python)\n",
    "if (<expr>) {\n",
    "    <statement>;\n",
    "    <statement>;\n",
    "    ...\n",
    "    <statement>;\n",
    "}\n",
    "<following_statement>;\n",
    "```"
   ]
  },
  {
   "cell_type": "markdown",
   "id": "cf1a5b34",
   "metadata": {
    "papermill": {
     "duration": 0.016656,
     "end_time": "2023-10-15T08:04:45.416903",
     "exception": false,
     "start_time": "2023-10-15T08:04:45.400247",
     "status": "completed"
    },
    "tags": []
   },
   "source": [
    "C/C++, Java, and a whole host of other languages use curly braces in this way.\n",
    "\n"
   ]
  },
  {
   "cell_type": "markdown",
   "id": "a60ecf98",
   "metadata": {
    "papermill": {
     "duration": 0.016463,
     "end_time": "2023-10-15T08:04:45.450132",
     "exception": false,
     "start_time": "2023-10-15T08:04:45.433669",
     "status": "completed"
    },
    "tags": []
   },
   "source": [
    "Other languages, such as Algol and Pascal, use keywords `begin` and `end` to enclose blocks."
   ]
  },
  {
   "cell_type": "markdown",
   "id": "7759ead5",
   "metadata": {
    "papermill": {
     "duration": 0.017076,
     "end_time": "2023-10-15T08:04:45.483994",
     "exception": false,
     "start_time": "2023-10-15T08:04:45.466918",
     "status": "completed"
    },
    "tags": []
   },
   "source": [
    "<a class=\"anchor\" id=\"which_is_better?\"></a>\n",
    "### Which Is Better?"
   ]
  },
  {
   "cell_type": "markdown",
   "id": "7798b612",
   "metadata": {
    "papermill": {
     "duration": 0.017297,
     "end_time": "2023-10-15T08:04:45.518470",
     "exception": false,
     "start_time": "2023-10-15T08:04:45.501173",
     "status": "completed"
    },
    "tags": []
   },
   "source": [
    "Better is in the eye of the beholder. On the whole, programmers tend to feel rather strongly about how they do things. Debate about the merits of the off-side rule can run pretty hot."
   ]
  },
  {
   "cell_type": "markdown",
   "id": "220c2c27",
   "metadata": {
    "papermill": {
     "duration": 0.016477,
     "end_time": "2023-10-15T08:04:45.551772",
     "exception": false,
     "start_time": "2023-10-15T08:04:45.535295",
     "status": "completed"
    },
    "tags": []
   },
   "source": [
    "On the plus side:\n",
    "\n",
    "- Python’s use of indentation is clean, concise, and consistent.\n",
    "- In programming languages that do not use the off-side rule, indentation of code is completely independent of block definition and code function. It’s possible to write code that is indented in a manner that does not actually match how the code executes, thus creating a mistaken impression when a person just glances at it. This sort of mistake is virtually impossible to make in Python.\n",
    "- Use of indentation to define blocks forces you to maintain code formatting standards you probably should be using anyway."
   ]
  },
  {
   "cell_type": "markdown",
   "id": "8e0b49e2",
   "metadata": {
    "papermill": {
     "duration": 0.016351,
     "end_time": "2023-10-15T08:04:45.584813",
     "exception": false,
     "start_time": "2023-10-15T08:04:45.568462",
     "status": "completed"
    },
    "tags": []
   },
   "source": [
    "On the negative side:\n",
    "\n",
    "- Many programmers don’t like to be forced to do things a certain way. They tend to have strong opinions about what looks good and what doesn’t, and they don’t like to be shoehorned into a specific choice.\n",
    "- Some editors insert a mix of space and tab characters to the left of indented lines, which makes it difficult for the Python interpreter to determine indentation levels. On the other hand, it is frequently possible to configure editors not to do this. It generally isn’t considered desirable to have a mix of tabs and spaces in source code anyhow, no matter the language."
   ]
  },
  {
   "cell_type": "markdown",
   "id": "617bafea",
   "metadata": {
    "papermill": {
     "duration": 0.017131,
     "end_time": "2023-10-15T08:04:45.619088",
     "exception": false,
     "start_time": "2023-10-15T08:04:45.601957",
     "status": "completed"
    },
    "tags": []
   },
   "source": [
    "Like it or not, if you’re programming in Python, you’re stuck with the off-side rule. All control structures in Python use it, as you will see in several future tutorials."
   ]
  },
  {
   "cell_type": "markdown",
   "id": "7c52734b",
   "metadata": {
    "papermill": {
     "duration": 0.016827,
     "end_time": "2023-10-15T08:04:45.653065",
     "exception": false,
     "start_time": "2023-10-15T08:04:45.636238",
     "status": "completed"
    },
    "tags": []
   },
   "source": [
    "For what it’s worth, many programmers who have been used to languages with more traditional means of block definition have initially recoiled at Python’s way but have gotten comfortable with it and have even grown to prefer it."
   ]
  },
  {
   "cell_type": "markdown",
   "id": "ae0dc11c",
   "metadata": {
    "papermill": {
     "duration": 0.016861,
     "end_time": "2023-10-15T08:04:45.686912",
     "exception": false,
     "start_time": "2023-10-15T08:04:45.670051",
     "status": "completed"
    },
    "tags": []
   },
   "source": [
    "<a class=\"anchor\" id=\"the_`else`_and_`elif`_clauses\"></a>\n",
    "## The `else` and `elif` Clauses"
   ]
  },
  {
   "cell_type": "markdown",
   "id": "5c2361c7",
   "metadata": {
    "papermill": {
     "duration": 0.016566,
     "end_time": "2023-10-15T08:04:45.720309",
     "exception": false,
     "start_time": "2023-10-15T08:04:45.703743",
     "status": "completed"
    },
    "tags": []
   },
   "source": [
    "Now you know how to use an `if` statement to conditionally execute a single statement or a block of several statements. It’s time to find out what else you can do."
   ]
  },
  {
   "cell_type": "markdown",
   "id": "fc250575",
   "metadata": {
    "papermill": {
     "duration": 0.016909,
     "end_time": "2023-10-15T08:04:45.754031",
     "exception": false,
     "start_time": "2023-10-15T08:04:45.737122",
     "status": "completed"
    },
    "tags": []
   },
   "source": [
    "Sometimes, you want to evaluate a condition and take one path if it is true but specify an alternative path if it is not. This is accomplished with an `else` clause:\n",
    "\n",
    "```python\n",
    "if <expr>:\n",
    "    <statement(s)>\n",
    "else:\n",
    "    <statement(s)>\n",
    "```"
   ]
  },
  {
   "cell_type": "markdown",
   "id": "1d1c2dca",
   "metadata": {
    "papermill": {
     "duration": 0.016626,
     "end_time": "2023-10-15T08:04:45.787634",
     "exception": false,
     "start_time": "2023-10-15T08:04:45.771008",
     "status": "completed"
    },
    "tags": []
   },
   "source": [
    "If `<expr>` is true, the first suite is executed, and the second is skipped. If `<expr>` is false, the first suite is skipped and the second is executed. Either way, execution then resumes after the second suite. Both suites are defined by indentation, as described above."
   ]
  },
  {
   "cell_type": "markdown",
   "id": "3426879c",
   "metadata": {
    "papermill": {
     "duration": 0.016878,
     "end_time": "2023-10-15T08:04:45.821569",
     "exception": false,
     "start_time": "2023-10-15T08:04:45.804691",
     "status": "completed"
    },
    "tags": []
   },
   "source": [
    "In this example, `x` is less than `50`, so the first suite (lines 4 to 5) are executed, and the second suite (lines 7 to 8) are skipped:"
   ]
  },
  {
   "cell_type": "code",
   "execution_count": 13,
   "id": "12303e3f",
   "metadata": {
    "execution": {
     "iopub.execute_input": "2023-10-15T08:04:45.857429Z",
     "iopub.status.busy": "2023-10-15T08:04:45.856841Z",
     "iopub.status.idle": "2023-10-15T08:04:45.861994Z",
     "shell.execute_reply": "2023-10-15T08:04:45.860846Z"
    },
    "papermill": {
     "duration": 0.025513,
     "end_time": "2023-10-15T08:04:45.863940",
     "exception": false,
     "start_time": "2023-10-15T08:04:45.838427",
     "status": "completed"
    },
    "tags": []
   },
   "outputs": [
    {
     "name": "stdout",
     "output_type": "stream",
     "text": [
      "(first suite)\n",
      "x is small\n"
     ]
    }
   ],
   "source": [
    "x = 20\n",
    "\n",
    "if x < 50:\n",
    "    print('(first suite)')\n",
    "    print('x is small')\n",
    "else:\n",
    "    print('(second suite)')\n",
    "    print('x is large')"
   ]
  },
  {
   "cell_type": "markdown",
   "id": "9bb27f1b",
   "metadata": {
    "papermill": {
     "duration": 0.016584,
     "end_time": "2023-10-15T08:04:45.897502",
     "exception": false,
     "start_time": "2023-10-15T08:04:45.880918",
     "status": "completed"
    },
    "tags": []
   },
   "source": [
    "Here, on the other hand, `x` is greater than `50`, so the first suite is passed over, and the second suite executed:"
   ]
  },
  {
   "cell_type": "code",
   "execution_count": 14,
   "id": "b910631d",
   "metadata": {
    "execution": {
     "iopub.execute_input": "2023-10-15T08:04:45.933119Z",
     "iopub.status.busy": "2023-10-15T08:04:45.932560Z",
     "iopub.status.idle": "2023-10-15T08:04:45.938065Z",
     "shell.execute_reply": "2023-10-15T08:04:45.937038Z"
    },
    "papermill": {
     "duration": 0.026,
     "end_time": "2023-10-15T08:04:45.940276",
     "exception": false,
     "start_time": "2023-10-15T08:04:45.914276",
     "status": "completed"
    },
    "tags": []
   },
   "outputs": [
    {
     "name": "stdout",
     "output_type": "stream",
     "text": [
      "(second suite)\n",
      "x is large\n"
     ]
    }
   ],
   "source": [
    "x = 120\n",
    "\n",
    "if x < 50:\n",
    "    print('(first suite)')\n",
    "    print('x is small')\n",
    "else:\n",
    "    print('(second suite)')\n",
    "    print('x is large')"
   ]
  },
  {
   "cell_type": "markdown",
   "id": "eb923c50",
   "metadata": {
    "papermill": {
     "duration": 0.016664,
     "end_time": "2023-10-15T08:04:45.974306",
     "exception": false,
     "start_time": "2023-10-15T08:04:45.957642",
     "status": "completed"
    },
    "tags": []
   },
   "source": [
    "There is also syntax for branching execution based on several alternatives. For this, use one or more `elif` (short for `else if`) clauses. Python evaluates each `<expr>` in turn and executes the suite corresponding to the first that is true. If none of the expressions are true, and an `else` clause is specified, then its suite is executed:\n",
    "\n",
    "```python\n",
    "if <expr>:\n",
    "    <statement(s)>\n",
    "elif <expr>:\n",
    "    <statement(s)>\n",
    "elif <expr>:\n",
    "    <statement(s)>\n",
    "    ...\n",
    "else:\n",
    "    <statement(s)>\n",
    "```"
   ]
  },
  {
   "cell_type": "markdown",
   "id": "bfd6f4f8",
   "metadata": {
    "papermill": {
     "duration": 0.016567,
     "end_time": "2023-10-15T08:04:46.007596",
     "exception": false,
     "start_time": "2023-10-15T08:04:45.991029",
     "status": "completed"
    },
    "tags": []
   },
   "source": [
    "An arbitrary number of `elif` clauses can be specified. The `else` clause is optional. If it is present, there can be only one, and it must be specified last:"
   ]
  },
  {
   "cell_type": "code",
   "execution_count": 15,
   "id": "0b022b24",
   "metadata": {
    "execution": {
     "iopub.execute_input": "2023-10-15T08:04:46.043746Z",
     "iopub.status.busy": "2023-10-15T08:04:46.043093Z",
     "iopub.status.idle": "2023-10-15T08:04:46.049565Z",
     "shell.execute_reply": "2023-10-15T08:04:46.048389Z"
    },
    "papermill": {
     "duration": 0.026791,
     "end_time": "2023-10-15T08:04:46.051554",
     "exception": false,
     "start_time": "2023-10-15T08:04:46.024763",
     "status": "completed"
    },
    "tags": []
   },
   "outputs": [
    {
     "name": "stdout",
     "output_type": "stream",
     "text": [
      "Hello Joe\n"
     ]
    }
   ],
   "source": [
    "name = 'Joe'\n",
    "if name == 'Fred':\n",
    "    print('Hello Fred')\n",
    "elif name == 'Xander':\n",
    "    print('Hello Xander')\n",
    "elif name == 'Joe':\n",
    "    print('Hello Joe')\n",
    "elif name == 'Arnold':\n",
    "    print('Hello Arnold')\n",
    "else:\n",
    "    print(\"I don't know who you are!\")"
   ]
  },
  {
   "cell_type": "markdown",
   "id": "1811b104",
   "metadata": {
    "papermill": {
     "duration": 0.016758,
     "end_time": "2023-10-15T08:04:46.085971",
     "exception": false,
     "start_time": "2023-10-15T08:04:46.069213",
     "status": "completed"
    },
    "tags": []
   },
   "source": [
    "At most, one of the code blocks specified will be executed. If an `else` clause isn’t included, and all the conditions are false, then none of the blocks will be executed."
   ]
  },
  {
   "cell_type": "markdown",
   "id": "194bd906",
   "metadata": {
    "papermill": {
     "duration": 0.016579,
     "end_time": "2023-10-15T08:04:46.119435",
     "exception": false,
     "start_time": "2023-10-15T08:04:46.102856",
     "status": "completed"
    },
    "tags": []
   },
   "source": [
    "> **Note:** Using a lengthy `if/elif/else` series can be a little inelegant, especially when the actions are simple statements like `print()`. In many cases, there may be a more Pythonic way to accomplish the same thing.\n",
    "> \n",
    "> Here’s one possible alternative to the example above using f-string:"
   ]
  },
  {
   "cell_type": "code",
   "execution_count": 16,
   "id": "8c588287",
   "metadata": {
    "execution": {
     "iopub.execute_input": "2023-10-15T08:04:46.155893Z",
     "iopub.status.busy": "2023-10-15T08:04:46.155549Z",
     "iopub.status.idle": "2023-10-15T08:04:46.161014Z",
     "shell.execute_reply": "2023-10-15T08:04:46.159926Z"
    },
    "papermill": {
     "duration": 0.025566,
     "end_time": "2023-10-15T08:04:46.162838",
     "exception": false,
     "start_time": "2023-10-15T08:04:46.137272",
     "status": "completed"
    },
    "tags": []
   },
   "outputs": [
    {
     "name": "stdout",
     "output_type": "stream",
     "text": [
      "Hello Joe\n"
     ]
    }
   ],
   "source": [
    "name = 'Joe'\n",
    "\n",
    "if name in ['Fred', 'Xander', 'Joe', 'Arnold']:\n",
    "    print(f'Hello {name}')\n",
    "else:\n",
    "    print(\"I don't know who you are!\")"
   ]
  },
  {
   "cell_type": "markdown",
   "id": "d04b905c",
   "metadata": {
    "papermill": {
     "duration": 0.016739,
     "end_time": "2023-10-15T08:04:46.196652",
     "exception": false,
     "start_time": "2023-10-15T08:04:46.179913",
     "status": "completed"
    },
    "tags": []
   },
   "source": [
    "An `if` statement with `elif` clauses uses short-circuit evaluation, analogous to what you saw with the `and` and `or` operators. Once one of the expressions is found to be true and its block is executed, none of the remaining expressions are tested. This is demonstrated below:"
   ]
  },
  {
   "cell_type": "code",
   "execution_count": 17,
   "id": "577375f2",
   "metadata": {
    "execution": {
     "iopub.execute_input": "2023-10-15T08:04:46.232612Z",
     "iopub.status.busy": "2023-10-15T08:04:46.232098Z",
     "iopub.status.idle": "2023-10-15T08:04:46.491769Z",
     "shell.execute_reply": "2023-10-15T08:04:46.489980Z"
    },
    "papermill": {
     "duration": 0.28005,
     "end_time": "2023-10-15T08:04:46.493716",
     "exception": true,
     "start_time": "2023-10-15T08:04:46.213666",
     "status": "failed"
    },
    "tags": []
   },
   "outputs": [
    {
     "ename": "NameError",
     "evalue": "name 'var' is not defined",
     "output_type": "error",
     "traceback": [
      "\u001b[0;31m---------------------------------------------------------------------------\u001b[0m",
      "\u001b[0;31mNameError\u001b[0m                                 Traceback (most recent call last)",
      "Cell \u001b[0;32mIn[17], line 1\u001b[0m\n\u001b[0;32m----> 1\u001b[0m \u001b[43mvar\u001b[49m  \u001b[38;5;66;03m# Not defined\u001b[39;00m\n",
      "\u001b[0;31mNameError\u001b[0m: name 'var' is not defined"
     ]
    }
   ],
   "source": [
    "var  # Not defined"
   ]
  },
  {
   "cell_type": "code",
   "execution_count": null,
   "id": "0f416d6a",
   "metadata": {
    "papermill": {
     "duration": null,
     "end_time": null,
     "exception": null,
     "start_time": null,
     "status": "pending"
    },
    "tags": []
   },
   "outputs": [],
   "source": [
    "if 'a' in 'bar':\n",
    "    print('foo')\n",
    "elif 1/0:\n",
    "    print(\"This won't happen\")\n",
    "elif var:\n",
    "    print(\"This won't either\")"
   ]
  },
  {
   "cell_type": "markdown",
   "id": "b54a7139",
   "metadata": {
    "papermill": {
     "duration": null,
     "end_time": null,
     "exception": null,
     "start_time": null,
     "status": "pending"
    },
    "tags": []
   },
   "source": [
    "The second expression contains a division by zero, and the third references an undefined variable `var`. Either would raise an error, but neither is evaluated because the first condition specified is true."
   ]
  },
  {
   "cell_type": "markdown",
   "id": "62ef7be0",
   "metadata": {
    "papermill": {
     "duration": null,
     "end_time": null,
     "exception": null,
     "start_time": null,
     "status": "pending"
    },
    "tags": []
   },
   "source": [
    "<a class=\"anchor\" id=\"one-line_`if`_statements\"></a>\n",
    "## One-Line `if` Statements"
   ]
  },
  {
   "cell_type": "markdown",
   "id": "879344e8",
   "metadata": {
    "papermill": {
     "duration": null,
     "end_time": null,
     "exception": null,
     "start_time": null,
     "status": "pending"
    },
    "tags": []
   },
   "source": [
    "It is customary to write if `<expr>` on one line and `<statement>` indented on the following line like this:\n",
    "\n",
    "```python\n",
    "if <expr>:\n",
    "    <statement>\n",
    "```"
   ]
  },
  {
   "cell_type": "markdown",
   "id": "8b9a1bc1",
   "metadata": {
    "papermill": {
     "duration": null,
     "end_time": null,
     "exception": null,
     "start_time": null,
     "status": "pending"
    },
    "tags": []
   },
   "source": [
    "But it is permissible to write an entire if statement on one line. The following is functionally equivalent to the example above:\n",
    "\n",
    "```python\n",
    "if <expr>: <statement>\n",
    "```"
   ]
  },
  {
   "cell_type": "markdown",
   "id": "78723572",
   "metadata": {
    "papermill": {
     "duration": null,
     "end_time": null,
     "exception": null,
     "start_time": null,
     "status": "pending"
    },
    "tags": []
   },
   "source": [
    "There can even be more than one `<statement>` on the same line, separated by semicolons:\n",
    "\n",
    "```python\n",
    "if <expr>: <statement_1>; <statement_2>; ...; <statement_n>\n",
    "```"
   ]
  },
  {
   "cell_type": "markdown",
   "id": "62ba4bb7",
   "metadata": {
    "papermill": {
     "duration": null,
     "end_time": null,
     "exception": null,
     "start_time": null,
     "status": "pending"
    },
    "tags": []
   },
   "source": [
    "But what does this mean? There are two possible interpretations:"
   ]
  },
  {
   "cell_type": "markdown",
   "id": "e8293430",
   "metadata": {
    "papermill": {
     "duration": null,
     "end_time": null,
     "exception": null,
     "start_time": null,
     "status": "pending"
    },
    "tags": []
   },
   "source": [
    "1. If `<expr>` is true, execute `<statement_1>`.\n",
    "\n",
    "Then, execute `<statement_2> ... <statement_n>` unconditionally, irrespective of whether `<expr>` is true or not.\n",
    "\n",
    "2. If `<expr>` is true, execute all of `<statement_1> ... <statement_n>`. Otherwise, don’t execute any of them."
   ]
  },
  {
   "cell_type": "markdown",
   "id": "628344d7",
   "metadata": {
    "papermill": {
     "duration": null,
     "end_time": null,
     "exception": null,
     "start_time": null,
     "status": "pending"
    },
    "tags": []
   },
   "source": [
    "Python takes the latter interpretation. The semicolon separating the `<statements>` has higher precedence than the colon following `<expr>`—in computer lingo, the semicolon is said to bind more tightly than the colon. Thus, the `<statements>` are treated as a suite, and either all of them are executed, or none of them are:"
   ]
  },
  {
   "cell_type": "code",
   "execution_count": null,
   "id": "b5f3fc34",
   "metadata": {
    "papermill": {
     "duration": null,
     "end_time": null,
     "exception": null,
     "start_time": null,
     "status": "pending"
    },
    "tags": []
   },
   "outputs": [],
   "source": [
    "if 'f' in 'foo': print('1'); print('2'); print('3')"
   ]
  },
  {
   "cell_type": "code",
   "execution_count": null,
   "id": "8dee8fea",
   "metadata": {
    "papermill": {
     "duration": null,
     "end_time": null,
     "exception": null,
     "start_time": null,
     "status": "pending"
    },
    "tags": []
   },
   "outputs": [],
   "source": [
    "if 'z' in 'foo': print('1'); print('2'); print('3')"
   ]
  },
  {
   "cell_type": "markdown",
   "id": "6ea8fc2b",
   "metadata": {
    "papermill": {
     "duration": null,
     "end_time": null,
     "exception": null,
     "start_time": null,
     "status": "pending"
    },
    "tags": []
   },
   "source": [
    "Multiple statements may be specified on the same line as an `elif` or `else` clause as well:"
   ]
  },
  {
   "cell_type": "code",
   "execution_count": null,
   "id": "0c14ab92",
   "metadata": {
    "papermill": {
     "duration": null,
     "end_time": null,
     "exception": null,
     "start_time": null,
     "status": "pending"
    },
    "tags": []
   },
   "outputs": [],
   "source": [
    "x = 2\n",
    "if x == 1: print('foo'); print('bar'); print('baz')\n",
    "elif x == 2: print('qux'); print('quux')\n",
    "else: print('corge'); print('grault')"
   ]
  },
  {
   "cell_type": "code",
   "execution_count": null,
   "id": "b07f1574",
   "metadata": {
    "papermill": {
     "duration": null,
     "end_time": null,
     "exception": null,
     "start_time": null,
     "status": "pending"
    },
    "tags": []
   },
   "outputs": [],
   "source": [
    "x = 3\n",
    "if x == 1: print('foo'); print('bar'); print('baz')\n",
    "elif x == 2: print('qux'); print('quux')\n",
    "else: print('corge'); print('grault')"
   ]
  },
  {
   "cell_type": "markdown",
   "id": "e2fc5341",
   "metadata": {
    "papermill": {
     "duration": null,
     "end_time": null,
     "exception": null,
     "start_time": null,
     "status": "pending"
    },
    "tags": []
   },
   "source": [
    "While all of this works, and the interpreter allows it, it is generally discouraged on the grounds that it leads to poor readability, particularly for complex `if` statements. [PEP 8](https://www.python.org/dev/peps/pep-0008/#other-recommendations) specifically recommends against it."
   ]
  },
  {
   "cell_type": "markdown",
   "id": "df1fa3dd",
   "metadata": {
    "papermill": {
     "duration": null,
     "end_time": null,
     "exception": null,
     "start_time": null,
     "status": "pending"
    },
    "tags": []
   },
   "source": [
    "As usual, it is somewhat a matter of taste. Most people would find the following more visually appealing and easier to understand at first glance than the example above:"
   ]
  },
  {
   "cell_type": "code",
   "execution_count": null,
   "id": "ba5f5d81",
   "metadata": {
    "papermill": {
     "duration": null,
     "end_time": null,
     "exception": null,
     "start_time": null,
     "status": "pending"
    },
    "tags": []
   },
   "outputs": [],
   "source": [
    "x = 3\n",
    "if x == 1:\n",
    "    print('foo')\n",
    "    print('bar')\n",
    "    print('baz')\n",
    "elif x == 2:\n",
    "    print('qux')\n",
    "    print('quux')\n",
    "else:\n",
    "    print('corge')\n",
    "    print('grault')"
   ]
  },
  {
   "cell_type": "markdown",
   "id": "3db72f85",
   "metadata": {
    "papermill": {
     "duration": null,
     "end_time": null,
     "exception": null,
     "start_time": null,
     "status": "pending"
    },
    "tags": []
   },
   "source": [
    "If an `if` statement is simple enough, though, putting it all on one line may be reasonable. Something like this probably wouldn’t raise anyone’s hackles too much:\n",
    "\n",
    "```python\n",
    "debugging = True  # Set to True to turn debugging on.\n",
    "\n",
    "    .\n",
    "    .\n",
    "    .\n",
    "\n",
    "if debugging: print('About to call function foo()')\n",
    "foo()\n",
    "```"
   ]
  },
  {
   "cell_type": "code",
   "execution_count": null,
   "id": "39052319",
   "metadata": {
    "papermill": {
     "duration": null,
     "end_time": null,
     "exception": null,
     "start_time": null,
     "status": "pending"
    },
    "tags": []
   },
   "outputs": [],
   "source": [
    "if x < 5:\n",
    "    print('True')\n",
    "else:\n",
    "    print('False')"
   ]
  },
  {
   "cell_type": "markdown",
   "id": "4fff49f9",
   "metadata": {
    "papermill": {
     "duration": null,
     "end_time": null,
     "exception": null,
     "start_time": null,
     "status": "pending"
    },
    "tags": []
   },
   "source": [
    "<a class=\"anchor\" id=\"conditional_expressions_(python’s_ternary_operator)\"></a>\n",
    "## Conditional Expressions (Python’s Ternary Operator)"
   ]
  },
  {
   "cell_type": "markdown",
   "id": "ffd44c0a",
   "metadata": {
    "papermill": {
     "duration": null,
     "end_time": null,
     "exception": null,
     "start_time": null,
     "status": "pending"
    },
    "tags": []
   },
   "source": [
    "conditional expression. (It is also referred to as a conditional operator or ternary operator in various places in the Python documentation.) Conditional expressions were proposed for addition to the language in [PEP 308](https://www.python.org/dev/peps/pep-0308) and green-lighted by Guido in 2005."
   ]
  },
  {
   "cell_type": "markdown",
   "id": "b4cf35d6",
   "metadata": {
    "papermill": {
     "duration": null,
     "end_time": null,
     "exception": null,
     "start_time": null,
     "status": "pending"
    },
    "tags": []
   },
   "source": [
    "In its simplest form, the syntax of the conditional expression is as follows:\n",
    "\n",
    "```python\n",
    "<expr1> if <conditional_expr> else <expr2>\n",
    "```"
   ]
  },
  {
   "cell_type": "markdown",
   "id": "9bae3d44",
   "metadata": {
    "papermill": {
     "duration": null,
     "end_time": null,
     "exception": null,
     "start_time": null,
     "status": "pending"
    },
    "tags": []
   },
   "source": [
    "This is different from the `if` statement forms listed above because it is not a control structure that directs the flow of program execution. It acts more like an operator that defines an expression. In the above example, `<conditional_expr>` is evaluated first. If it is true, the expression evaluates to `<expr1>`. If it is false, the expression evaluates to `<expr2>`."
   ]
  },
  {
   "cell_type": "markdown",
   "id": "d46d6570",
   "metadata": {
    "papermill": {
     "duration": null,
     "end_time": null,
     "exception": null,
     "start_time": null,
     "status": "pending"
    },
    "tags": []
   },
   "source": [
    "Notice the non-obvious order: the middle expression is evaluated first, and based on that result, one of the expressions on the ends is returned. Here are some examples that will hopefully help clarify:"
   ]
  },
  {
   "cell_type": "code",
   "execution_count": null,
   "id": "0a5b3fd9",
   "metadata": {
    "papermill": {
     "duration": null,
     "end_time": null,
     "exception": null,
     "start_time": null,
     "status": "pending"
    },
    "tags": []
   },
   "outputs": [],
   "source": [
    "raining = False\n",
    "print(\"Let's go to the\", 'beach' if not raining else 'library')"
   ]
  },
  {
   "cell_type": "code",
   "execution_count": null,
   "id": "60b63dcb",
   "metadata": {
    "papermill": {
     "duration": null,
     "end_time": null,
     "exception": null,
     "start_time": null,
     "status": "pending"
    },
    "tags": []
   },
   "outputs": [],
   "source": [
    "raining = True\n",
    "print(\"Let's go to the\", 'beach' if not raining else 'library')"
   ]
  },
  {
   "cell_type": "code",
   "execution_count": null,
   "id": "c56ad427",
   "metadata": {
    "papermill": {
     "duration": null,
     "end_time": null,
     "exception": null,
     "start_time": null,
     "status": "pending"
    },
    "tags": []
   },
   "outputs": [],
   "source": [
    "age = 12\n",
    "s = 'minor' if age < 21 else 'adult'\n",
    "s"
   ]
  },
  {
   "cell_type": "code",
   "execution_count": null,
   "id": "8f827c50",
   "metadata": {
    "papermill": {
     "duration": null,
     "end_time": null,
     "exception": null,
     "start_time": null,
     "status": "pending"
    },
    "tags": []
   },
   "outputs": [],
   "source": [
    "'yes' if ('qux' in ['foo', 'bar', 'baz']) else 'no'"
   ]
  },
  {
   "cell_type": "markdown",
   "id": "a4811e53",
   "metadata": {
    "papermill": {
     "duration": null,
     "end_time": null,
     "exception": null,
     "start_time": null,
     "status": "pending"
    },
    "tags": []
   },
   "source": [
    "> **Note:** Python’s conditional expression is similar to the `<conditional_expr> ? <expr1> : <expr2>` syntax used by many other languages—C, Perl and Java to name a few. In fact, the `?:` operator is commonly called the ternary operator in those languages, which is probably the reason Python’s conditional expression is sometimes referred to as the Python ternary operator.\n",
    "> \n",
    "> You can see in PEP 308 that the `<conditional_expr> ? <expr1> : <expr2>` syntax was considered for Python but ultimately rejected in favor of the syntax shown above."
   ]
  },
  {
   "cell_type": "markdown",
   "id": "b3f9cc48",
   "metadata": {
    "papermill": {
     "duration": null,
     "end_time": null,
     "exception": null,
     "start_time": null,
     "status": "pending"
    },
    "tags": []
   },
   "source": [
    "A common use of the conditional expression is to select variable assignment. For example, suppose you want to find the larger of two numbers. Of course, there is a built-in function `max()` that does just this (and more) that you could use. But suppose you want to write your own code from scratch."
   ]
  },
  {
   "cell_type": "markdown",
   "id": "3e8532b0",
   "metadata": {
    "papermill": {
     "duration": null,
     "end_time": null,
     "exception": null,
     "start_time": null,
     "status": "pending"
    },
    "tags": []
   },
   "source": [
    "You could use a standard `if` statement with an `else` clause:\n",
    "\n",
    "```python\n",
    "if a > b:\n",
    "    m = a\n",
    "else:\n",
    "    m = b\n",
    "```"
   ]
  },
  {
   "cell_type": "markdown",
   "id": "890e1695",
   "metadata": {
    "papermill": {
     "duration": null,
     "end_time": null,
     "exception": null,
     "start_time": null,
     "status": "pending"
    },
    "tags": []
   },
   "source": [
    "But a conditional expression is shorter and arguably more readable as well:\n",
    "\n",
    "```python\n",
    "m = a if a > b else b\n",
    "```"
   ]
  },
  {
   "cell_type": "markdown",
   "id": "7272e3ea",
   "metadata": {
    "papermill": {
     "duration": null,
     "end_time": null,
     "exception": null,
     "start_time": null,
     "status": "pending"
    },
    "tags": []
   },
   "source": [
    "Remember that the conditional expression behaves like an expression syntactically. It can be used as part of a longer expression. The conditional expression has lower precedence than virtually all the other operators, so parentheses are needed to group it by itself."
   ]
  },
  {
   "cell_type": "markdown",
   "id": "7425df42",
   "metadata": {
    "papermill": {
     "duration": null,
     "end_time": null,
     "exception": null,
     "start_time": null,
     "status": "pending"
    },
    "tags": []
   },
   "source": [
    "In the following example, the `+` operator binds more tightly than the conditional expression, so `1 + x` and `y + 2` are evaluated first, followed by the conditional expression. The parentheses in the second case are unnecessary and do not change the result:"
   ]
  },
  {
   "cell_type": "code",
   "execution_count": null,
   "id": "9272a9df",
   "metadata": {
    "papermill": {
     "duration": null,
     "end_time": null,
     "exception": null,
     "start_time": null,
     "status": "pending"
    },
    "tags": []
   },
   "outputs": [],
   "source": [
    "x = y = 40\n",
    "z = 1 + x if x > y else y + 2\n",
    "z"
   ]
  },
  {
   "cell_type": "code",
   "execution_count": null,
   "id": "49087e58",
   "metadata": {
    "papermill": {
     "duration": null,
     "end_time": null,
     "exception": null,
     "start_time": null,
     "status": "pending"
    },
    "tags": []
   },
   "outputs": [],
   "source": [
    "z = (1 + x) if x > y else (y + 2)\n",
    "z"
   ]
  },
  {
   "cell_type": "markdown",
   "id": "e201d6ae",
   "metadata": {
    "papermill": {
     "duration": null,
     "end_time": null,
     "exception": null,
     "start_time": null,
     "status": "pending"
    },
    "tags": []
   },
   "source": [
    "If you want the conditional expression to be evaluated first, you need to surround it with grouping parentheses. In the next example, (`x if x > y else y`) is evaluated first. The result is `y`, which is `40`, so `z` is assigned `1 + 40 + 2 = 43`:"
   ]
  },
  {
   "cell_type": "code",
   "execution_count": null,
   "id": "97cc09b0",
   "metadata": {
    "papermill": {
     "duration": null,
     "end_time": null,
     "exception": null,
     "start_time": null,
     "status": "pending"
    },
    "tags": []
   },
   "outputs": [],
   "source": [
    "x = y = 40"
   ]
  },
  {
   "cell_type": "code",
   "execution_count": null,
   "id": "de86cea1",
   "metadata": {
    "papermill": {
     "duration": null,
     "end_time": null,
     "exception": null,
     "start_time": null,
     "status": "pending"
    },
    "tags": []
   },
   "outputs": [],
   "source": [
    "z = 1 + (x if x > y else y) + 2\n",
    "z"
   ]
  },
  {
   "cell_type": "markdown",
   "id": "2ea2735a",
   "metadata": {
    "papermill": {
     "duration": null,
     "end_time": null,
     "exception": null,
     "start_time": null,
     "status": "pending"
    },
    "tags": []
   },
   "source": [
    "If you are using a conditional expression as part of a larger expression, it probably is a good idea to use grouping parentheses for clarification even if they are not needed."
   ]
  },
  {
   "cell_type": "markdown",
   "id": "13388890",
   "metadata": {
    "papermill": {
     "duration": null,
     "end_time": null,
     "exception": null,
     "start_time": null,
     "status": "pending"
    },
    "tags": []
   },
   "source": [
    "Conditional expressions also use [short-circuit evaluation](https://realpython.com/python-operators-expressions/#compound-logical-expressions-and-short-circuit-evaluation) like compound logical expressions. Portions of a conditional expression are not evaluated if they don’t need to be.\n",
    "\n",
    "In the expression `<expr1> if <conditional_expr> else <expr2>`:\n",
    "\n",
    "- If `<conditional_expr>` is true, `<expr1>` is returned and `<expr2>` is not evaluated.\n",
    "- If `<conditional_expr>` is false, `<expr2>` is returned and `<expr1>` is not evaluated."
   ]
  },
  {
   "cell_type": "markdown",
   "id": "5043c80c",
   "metadata": {
    "papermill": {
     "duration": null,
     "end_time": null,
     "exception": null,
     "start_time": null,
     "status": "pending"
    },
    "tags": []
   },
   "source": [
    "As before, you can verify this by using terms that would raise an error:"
   ]
  },
  {
   "cell_type": "code",
   "execution_count": null,
   "id": "36b3b73e",
   "metadata": {
    "papermill": {
     "duration": null,
     "end_time": null,
     "exception": null,
     "start_time": null,
     "status": "pending"
    },
    "tags": []
   },
   "outputs": [],
   "source": [
    "'foo' if True else 1/0"
   ]
  },
  {
   "cell_type": "code",
   "execution_count": null,
   "id": "787f4ff9",
   "metadata": {
    "papermill": {
     "duration": null,
     "end_time": null,
     "exception": null,
     "start_time": null,
     "status": "pending"
    },
    "tags": []
   },
   "outputs": [],
   "source": [
    "1/0 if False else 'bar'"
   ]
  },
  {
   "cell_type": "markdown",
   "id": "94a93b8b",
   "metadata": {
    "papermill": {
     "duration": null,
     "end_time": null,
     "exception": null,
     "start_time": null,
     "status": "pending"
    },
    "tags": []
   },
   "source": [
    "In both cases, the `1/0` terms are not evaluated, so no exception is raised."
   ]
  },
  {
   "cell_type": "markdown",
   "id": "33950960",
   "metadata": {
    "papermill": {
     "duration": null,
     "end_time": null,
     "exception": null,
     "start_time": null,
     "status": "pending"
    },
    "tags": []
   },
   "source": [
    "Conditional expressions can also be chained together, as a sort of alternative `if/elif/else` structure, as shown here:"
   ]
  },
  {
   "cell_type": "code",
   "execution_count": null,
   "id": "a2da6bcd",
   "metadata": {
    "papermill": {
     "duration": null,
     "end_time": null,
     "exception": null,
     "start_time": null,
     "status": "pending"
    },
    "tags": []
   },
   "outputs": [],
   "source": [
    "s = ('foo' if (x == 1) else\n",
    "     'bar' if (x == 2) else\n",
    "     'baz' if (x == 3) else\n",
    "     'qux' if (x == 4) else\n",
    "     'quux'\n",
    ")"
   ]
  },
  {
   "cell_type": "code",
   "execution_count": null,
   "id": "a36f334f",
   "metadata": {
    "papermill": {
     "duration": null,
     "end_time": null,
     "exception": null,
     "start_time": null,
     "status": "pending"
    },
    "tags": []
   },
   "outputs": [],
   "source": [
    "s"
   ]
  },
  {
   "cell_type": "markdown",
   "id": "dc88f442",
   "metadata": {
    "papermill": {
     "duration": null,
     "end_time": null,
     "exception": null,
     "start_time": null,
     "status": "pending"
    },
    "tags": []
   },
   "source": [
    "It’s not clear that this has any significant advantage over the corresponding `if/elif/else` statement, but it is syntactically correct Python."
   ]
  },
  {
   "cell_type": "markdown",
   "id": "f191682f",
   "metadata": {
    "papermill": {
     "duration": null,
     "end_time": null,
     "exception": null,
     "start_time": null,
     "status": "pending"
    },
    "tags": []
   },
   "source": [
    "<a class=\"anchor\" id=\"the_python_`pass`_statement\"></a>\n",
    "## The Python `pass` Statement"
   ]
  },
  {
   "cell_type": "markdown",
   "id": "b49bb14f",
   "metadata": {
    "papermill": {
     "duration": null,
     "end_time": null,
     "exception": null,
     "start_time": null,
     "status": "pending"
    },
    "tags": []
   },
   "source": [
    "Occasionally, you may find that you want to write what is called a code stub: a placeholder for where you will eventually put a block of code that you haven’t implemented yet."
   ]
  },
  {
   "cell_type": "code",
   "execution_count": null,
   "id": "675b13f5",
   "metadata": {
    "papermill": {
     "duration": null,
     "end_time": null,
     "exception": null,
     "start_time": null,
     "status": "pending"
    },
    "tags": []
   },
   "outputs": [],
   "source": [
    "name = 'Ali'\n",
    "\n",
    "if name == 'Ali':\n",
    "    # TODO: add name to database\n",
    "    pass\n",
    "else:\n",
    "    # TODO: warn user about registeration\n",
    "    pass\n",
    "\n",
    "print('here')"
   ]
  },
  {
   "cell_type": "markdown",
   "id": "cce78b85",
   "metadata": {
    "papermill": {
     "duration": null,
     "end_time": null,
     "exception": null,
     "start_time": null,
     "status": "pending"
    },
    "tags": []
   },
   "source": [
    "In languages where token delimiters are used to define blocks, like the curly braces in Perl and C, empty delimiters can be used to define a code stub. For example, the following is legitimate Perl or C code:\n",
    "\n",
    "```c\n",
    "# This is not Python\n",
    "if (x)\n",
    "{\n",
    "}\n",
    "```"
   ]
  },
  {
   "cell_type": "markdown",
   "id": "34b11f72",
   "metadata": {
    "papermill": {
     "duration": null,
     "end_time": null,
     "exception": null,
     "start_time": null,
     "status": "pending"
    },
    "tags": []
   },
   "source": [
    "Here, the empty curly braces define an empty block. Perl or C will evaluate the expression `x`, and then even if it is true, quietly do nothing."
   ]
  },
  {
   "cell_type": "markdown",
   "id": "a943f95e",
   "metadata": {
    "papermill": {
     "duration": null,
     "end_time": null,
     "exception": null,
     "start_time": null,
     "status": "pending"
    },
    "tags": []
   },
   "source": [
    "Because Python uses indentation instead of delimiters, it is not possible to specify an empty block. If you introduce an `if` statement with `if <expr>:`, something has to come after it, either on the same line or indented on the following line. Consider the following code (if you try it you will get `IndentationError`:"
   ]
  },
  {
   "cell_type": "code",
   "execution_count": null,
   "id": "e7d22cca",
   "metadata": {
    "papermill": {
     "duration": null,
     "end_time": null,
     "exception": null,
     "start_time": null,
     "status": "pending"
    },
    "tags": []
   },
   "outputs": [],
   "source": [
    "if True:\n",
    "\n",
    "print('foo')"
   ]
  },
  {
   "cell_type": "markdown",
   "id": "001a21fa",
   "metadata": {
    "papermill": {
     "duration": null,
     "end_time": null,
     "exception": null,
     "start_time": null,
     "status": "pending"
    },
    "tags": []
   },
   "source": [
    "The Python `pass` statement solves this problem. It doesn’t change program behavior at all. It is used as a placeholder to keep the interpreter happy in any situation where a statement is syntactically required, but you don’t really want to do anything:"
   ]
  },
  {
   "cell_type": "code",
   "execution_count": null,
   "id": "62e6aa56",
   "metadata": {
    "papermill": {
     "duration": null,
     "end_time": null,
     "exception": null,
     "start_time": null,
     "status": "pending"
    },
    "tags": []
   },
   "outputs": [],
   "source": [
    "if True:\n",
    "    pass\n",
    "\n",
    "print('foo')"
   ]
  },
  {
   "cell_type": "markdown",
   "id": "366592c8",
   "metadata": {
    "papermill": {
     "duration": null,
     "end_time": null,
     "exception": null,
     "start_time": null,
     "status": "pending"
    },
    "tags": []
   },
   "source": [
    "<a class=\"anchor\" id=\"conclusion\"></a>\n",
    "## Conclusion \n"
   ]
  },
  {
   "cell_type": "markdown",
   "id": "cd1283bc",
   "metadata": {
    "papermill": {
     "duration": null,
     "end_time": null,
     "exception": null,
     "start_time": null,
     "status": "pending"
    },
    "tags": []
   },
   "source": [
    "With the completion of this tutorial, you are beginning to write Python code that goes beyond simple sequential execution:\n",
    "\n",
    "- You were introduced to the concept of **control structures**. These are compound statements that alter program **control flow**—the order of execution of program statements.\n",
    "- You learned how to group individual statements together into a **block** or **suite**.\n",
    "- You encountered your first control structure, the if statement, which makes it possible to **conditionally** execute a statement or block based on evaluation of program data."
   ]
  },
  {
   "cell_type": "markdown",
   "id": "5300fa2a",
   "metadata": {
    "papermill": {
     "duration": null,
     "end_time": null,
     "exception": null,
     "start_time": null,
     "status": "pending"
    },
    "tags": []
   },
   "source": [
    "All of these concepts are crucial to developing more complex Python code."
   ]
  },
  {
   "cell_type": "markdown",
   "id": "02379e8c",
   "metadata": {
    "papermill": {
     "duration": null,
     "end_time": null,
     "exception": null,
     "start_time": null,
     "status": "pending"
    },
    "tags": []
   },
   "source": [
    "The next two tutorials will present two new control structures: the while statement and the for statement. These structures facilitate **iteration**, execution of a statement or block of statements repeatedly."
   ]
  }
 ],
 "metadata": {
  "kernelspec": {
   "display_name": "Python 3",
   "language": "python",
   "name": "python3"
  },
  "language_info": {
   "codemirror_mode": {
    "name": "ipython",
    "version": 3
   },
   "file_extension": ".py",
   "mimetype": "text/x-python",
   "name": "python",
   "nbconvert_exporter": "python",
   "pygments_lexer": "ipython3",
   "version": "3.10.12"
  },
  "papermill": {
   "default_parameters": {},
   "duration": 6.39635,
   "end_time": "2023-10-15T08:04:46.931709",
   "environment_variables": {},
   "exception": true,
   "input_path": "__notebook__.ipynb",
   "output_path": "__notebook__.ipynb",
   "parameters": {},
   "start_time": "2023-10-15T08:04:40.535359",
   "version": "2.4.0"
  }
 },
 "nbformat": 4,
 "nbformat_minor": 5
}
