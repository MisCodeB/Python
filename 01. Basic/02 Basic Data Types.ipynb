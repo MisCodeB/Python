{
 "cells": [
  {
   "cell_type": "markdown",
   "id": "347d44fa",
   "metadata": {
    "papermill": {
     "duration": 0.01586,
     "end_time": "2023-10-15T10:48:12.341911",
     "exception": false,
     "start_time": "2023-10-15T10:48:12.326051",
     "status": "completed"
    },
    "tags": []
   },
   "source": []
  },
  {
   "cell_type": "markdown",
   "id": "5fecfc0f",
   "metadata": {
    "papermill": {
     "duration": 0.013593,
     "end_time": "2023-10-15T10:48:12.369217",
     "exception": false,
     "start_time": "2023-10-15T10:48:12.355624",
     "status": "completed"
    },
    "tags": []
   },
   "source": [
    "Basic Data Types \n"
   ]
  },
  {
   "cell_type": "markdown",
   "id": "aa41b5f3",
   "metadata": {
    "papermill": {
     "duration": 0.014348,
     "end_time": "2023-10-15T10:48:12.397911",
     "exception": false,
     "start_time": "2023-10-15T10:48:12.383563",
     "status": "completed"
    },
    "tags": []
   },
   "source": [
    "Table of Contents \n",
    "* [Integers](#integers)\n",
    "* [Floating-Point Numbers](#floating-point_numbers)\n",
    "* [Complex Numbers](#complex_numbers)\n",
    "        * [FAQ](#faq)\n",
    "* [Strings](#strings)\n",
    "    * [Escape Sequences in Strings](#escape_sequences_in_strings)\n",
    "        * [Suppressing Special Character Meaning](#suppressing_special_character_meaning)\n",
    "    * [Applying Special Meaning to Characters](#applying_special_meaning_to_characters)\n",
    "    * [Raw Strings](#raw_strings)\n",
    "    * [Triple-Quoted Strings](#triple-quoted_strings)\n",
    "* [Boolean Type, Boolean Context, and “Truthiness”](#boolean_type,_boolean_context,_and_“truthiness”)\n",
    "* [Built-In Functions](#built-in_functions)\n",
    "    * [Math](#math)\n",
    "    * [Type Conversion](#type_conversion)\n",
    "    * [Iterables and Iterators](#iterables_and_iterators)\n",
    "    * [Composite Data Type](#composite_data_type)\n",
    "    * [Classes, Attributes, and Inheritance](#classes,_attributes,_and_inheritance)\n",
    "    * [Input/Output](#input/output)\n",
    "    * [Variables, References, and Scope](#variables,_references,_and_scope)\n",
    "    * [Miscellaneous](#miscellaneous)\n",
    "* [ Conclusion](#<img_src=\"../../images/logos/checkmark.png\"_width=\"20\"/>_conclusion)\n",
    "\n",
    "---"
   ]
  },
  {
   "cell_type": "markdown",
   "id": "f0aaaf37",
   "metadata": {
    "papermill": {
     "duration": 0.014391,
     "end_time": "2023-10-15T10:48:12.425782",
     "exception": false,
     "start_time": "2023-10-15T10:48:12.411391",
     "status": "completed"
    },
    "tags": []
   },
   "source": [
    "Now you know how to interact with the Python interpreter and execute Python code. It’s time to dig into the Python language. First up is a discussion of the basic data types that are built into Python."
   ]
  },
  {
   "cell_type": "markdown",
   "id": "2bdedaf7",
   "metadata": {
    "papermill": {
     "duration": 0.012999,
     "end_time": "2023-10-15T10:48:12.452309",
     "exception": false,
     "start_time": "2023-10-15T10:48:12.439310",
     "status": "completed"
    },
    "tags": []
   },
   "source": [
    "<a class=\"anchor\" id=\"integers\"></a>\n",
    "## Integers"
   ]
  },
  {
   "cell_type": "markdown",
   "id": "7cfb6bd9",
   "metadata": {
    "papermill": {
     "duration": 0.0138,
     "end_time": "2023-10-15T10:48:12.480130",
     "exception": false,
     "start_time": "2023-10-15T10:48:12.466330",
     "status": "completed"
    },
    "tags": []
   },
   "source": [
    "In Python 3, there is effectively no limit to how long an integer value can be. Of course, it is constrained by the amount of memory your system has, as are all things, but beyond that an integer can be as long as you need it to be:"
   ]
  },
  {
   "cell_type": "code",
   "execution_count": 1,
   "id": "f9a02aa7",
   "metadata": {
    "execution": {
     "iopub.execute_input": "2023-10-15T10:48:12.509412Z",
     "iopub.status.busy": "2023-10-15T10:48:12.508896Z",
     "iopub.status.idle": "2023-10-15T10:48:12.521185Z",
     "shell.execute_reply": "2023-10-15T10:48:12.520117Z"
    },
    "papermill": {
     "duration": 0.02994,
     "end_time": "2023-10-15T10:48:12.523652",
     "exception": false,
     "start_time": "2023-10-15T10:48:12.493712",
     "status": "completed"
    },
    "tags": []
   },
   "outputs": [
    {
     "data": {
      "text/plain": [
       "28"
      ]
     },
     "execution_count": 1,
     "metadata": {},
     "output_type": "execute_result"
    }
   ],
   "source": [
    "import sys\n",
    "sys.getsizeof(1)"
   ]
  },
  {
   "cell_type": "code",
   "execution_count": 2,
   "id": "ba60ee45",
   "metadata": {
    "execution": {
     "iopub.execute_input": "2023-10-15T10:48:12.618849Z",
     "iopub.status.busy": "2023-10-15T10:48:12.617791Z",
     "iopub.status.idle": "2023-10-15T10:48:12.623834Z",
     "shell.execute_reply": "2023-10-15T10:48:12.622841Z"
    },
    "papermill": {
     "duration": 0.087518,
     "end_time": "2023-10-15T10:48:12.626189",
     "exception": false,
     "start_time": "2023-10-15T10:48:12.538671",
     "status": "completed"
    },
    "tags": []
   },
   "outputs": [
    {
     "name": "stdout",
     "output_type": "stream",
     "text": [
      "123123123123123123123123123123123123123123123123\n"
     ]
    }
   ],
   "source": [
    "print(123123123123123123123123123123123123123123123123)"
   ]
  },
  {
   "cell_type": "markdown",
   "id": "e5acdfc2",
   "metadata": {
    "papermill": {
     "duration": 0.013365,
     "end_time": "2023-10-15T10:48:12.653402",
     "exception": false,
     "start_time": "2023-10-15T10:48:12.640037",
     "status": "completed"
    },
    "tags": []
   },
   "source": [
    "Python interprets a sequence of decimal digits without any prefix to be a decimal number:"
   ]
  },
  {
   "cell_type": "code",
   "execution_count": 3,
   "id": "adaa79a5",
   "metadata": {
    "execution": {
     "iopub.execute_input": "2023-10-15T10:48:12.682371Z",
     "iopub.status.busy": "2023-10-15T10:48:12.681974Z",
     "iopub.status.idle": "2023-10-15T10:48:12.686383Z",
     "shell.execute_reply": "2023-10-15T10:48:12.685293Z"
    },
    "papermill": {
     "duration": 0.021862,
     "end_time": "2023-10-15T10:48:12.688935",
     "exception": false,
     "start_time": "2023-10-15T10:48:12.667073",
     "status": "completed"
    },
    "tags": []
   },
   "outputs": [
    {
     "name": "stdout",
     "output_type": "stream",
     "text": [
      "10\n"
     ]
    }
   ],
   "source": [
    "print(10)"
   ]
  },
  {
   "cell_type": "markdown",
   "id": "0630edf5",
   "metadata": {
    "papermill": {
     "duration": 0.014898,
     "end_time": "2023-10-15T10:48:12.717738",
     "exception": false,
     "start_time": "2023-10-15T10:48:12.702840",
     "status": "completed"
    },
    "tags": []
   },
   "source": [
    "The following strings can be prepended to an integer value to indicate a base other than 10:"
   ]
  },
  {
   "cell_type": "markdown",
   "id": "e110dbbc",
   "metadata": {
    "papermill": {
     "duration": 0.015732,
     "end_time": "2023-10-15T10:48:12.748325",
     "exception": false,
     "start_time": "2023-10-15T10:48:12.732593",
     "status": "completed"
    },
    "tags": []
   },
   "source": [
    "|Prefix|Interpretation|Base|\n",
    "|:--|:--|:--|\n",
    "|`0b` (zero + lowercase letter `'b'`) |Binary|2|\n",
    "|`0B` (zero + uppercase letter `'B'`) |Binary |2|\n",
    "|`0o` (zero + lowercase letter `'o'`) |Octal|8|\n",
    "|`0O` (zero + uppercase letter `'O'`) |Octal |8|\n",
    "|`0x` (zero + lowercase letter `'x'`) |Hexadecimal|16|\n",
    "|`0X` (zero + uppercase letter `'X'`) |Hexadecimal |16|"
   ]
  },
  {
   "cell_type": "code",
   "execution_count": 4,
   "id": "19ea71d4",
   "metadata": {
    "execution": {
     "iopub.execute_input": "2023-10-15T10:48:12.777674Z",
     "iopub.status.busy": "2023-10-15T10:48:12.777104Z",
     "iopub.status.idle": "2023-10-15T10:48:12.781536Z",
     "shell.execute_reply": "2023-10-15T10:48:12.780300Z"
    },
    "papermill": {
     "duration": 0.021956,
     "end_time": "2023-10-15T10:48:12.784140",
     "exception": false,
     "start_time": "2023-10-15T10:48:12.762184",
     "status": "completed"
    },
    "tags": []
   },
   "outputs": [
    {
     "name": "stdout",
     "output_type": "stream",
     "text": [
      "8\n"
     ]
    }
   ],
   "source": [
    "# octal\n",
    "print(0o10)"
   ]
  },
  {
   "cell_type": "code",
   "execution_count": 5,
   "id": "e198e35a",
   "metadata": {
    "execution": {
     "iopub.execute_input": "2023-10-15T10:48:12.815395Z",
     "iopub.status.busy": "2023-10-15T10:48:12.814709Z",
     "iopub.status.idle": "2023-10-15T10:48:12.819209Z",
     "shell.execute_reply": "2023-10-15T10:48:12.818092Z"
    },
    "papermill": {
     "duration": 0.022742,
     "end_time": "2023-10-15T10:48:12.820972",
     "exception": false,
     "start_time": "2023-10-15T10:48:12.798230",
     "status": "completed"
    },
    "tags": []
   },
   "outputs": [
    {
     "name": "stdout",
     "output_type": "stream",
     "text": [
      "16\n"
     ]
    }
   ],
   "source": [
    "# Hexadecimal\n",
    "print(0x10)"
   ]
  },
  {
   "cell_type": "code",
   "execution_count": 6,
   "id": "dad69e04",
   "metadata": {
    "execution": {
     "iopub.execute_input": "2023-10-15T10:48:12.851134Z",
     "iopub.status.busy": "2023-10-15T10:48:12.850468Z",
     "iopub.status.idle": "2023-10-15T10:48:12.854971Z",
     "shell.execute_reply": "2023-10-15T10:48:12.853911Z"
    },
    "papermill": {
     "duration": 0.021481,
     "end_time": "2023-10-15T10:48:12.856689",
     "exception": false,
     "start_time": "2023-10-15T10:48:12.835208",
     "status": "completed"
    },
    "tags": []
   },
   "outputs": [
    {
     "name": "stdout",
     "output_type": "stream",
     "text": [
      "2\n"
     ]
    }
   ],
   "source": [
    "# Binary\n",
    "print(0b10)"
   ]
  },
  {
   "cell_type": "markdown",
   "id": "ce90b308",
   "metadata": {
    "papermill": {
     "duration": 0.013921,
     "end_time": "2023-10-15T10:48:12.884686",
     "exception": false,
     "start_time": "2023-10-15T10:48:12.870765",
     "status": "completed"
    },
    "tags": []
   },
   "source": [
    "For more information on integer values with non-decimal bases, see the following Wikipedia sites: [Binary](https://en.wikipedia.org/wiki/Binary_number), [Octal](https://en.wikipedia.org/wiki/Octal), and [Hexadecimal](https://en.wikipedia.org/wiki/Hexadecimal)."
   ]
  },
  {
   "cell_type": "markdown",
   "id": "c6c6bb0f",
   "metadata": {
    "papermill": {
     "duration": 0.01423,
     "end_time": "2023-10-15T10:48:12.913600",
     "exception": false,
     "start_time": "2023-10-15T10:48:12.899370",
     "status": "completed"
    },
    "tags": []
   },
   "source": [
    "The underlying type of a Python integer, irrespective of the base used to specify it, is called int:"
   ]
  },
  {
   "cell_type": "code",
   "execution_count": 7,
   "id": "c441e0c0",
   "metadata": {
    "execution": {
     "iopub.execute_input": "2023-10-15T10:48:12.944107Z",
     "iopub.status.busy": "2023-10-15T10:48:12.943476Z",
     "iopub.status.idle": "2023-10-15T10:48:12.948784Z",
     "shell.execute_reply": "2023-10-15T10:48:12.948051Z"
    },
    "papermill": {
     "duration": 0.022686,
     "end_time": "2023-10-15T10:48:12.950581",
     "exception": false,
     "start_time": "2023-10-15T10:48:12.927895",
     "status": "completed"
    },
    "tags": []
   },
   "outputs": [
    {
     "data": {
      "text/plain": [
       "int"
      ]
     },
     "execution_count": 7,
     "metadata": {},
     "output_type": "execute_result"
    }
   ],
   "source": [
    "type(10)"
   ]
  },
  {
   "cell_type": "code",
   "execution_count": 8,
   "id": "95117575",
   "metadata": {
    "execution": {
     "iopub.execute_input": "2023-10-15T10:48:12.981407Z",
     "iopub.status.busy": "2023-10-15T10:48:12.980386Z",
     "iopub.status.idle": "2023-10-15T10:48:12.986713Z",
     "shell.execute_reply": "2023-10-15T10:48:12.985749Z"
    },
    "papermill": {
     "duration": 0.02366,
     "end_time": "2023-10-15T10:48:12.988537",
     "exception": false,
     "start_time": "2023-10-15T10:48:12.964877",
     "status": "completed"
    },
    "tags": []
   },
   "outputs": [
    {
     "data": {
      "text/plain": [
       "int"
      ]
     },
     "execution_count": 8,
     "metadata": {},
     "output_type": "execute_result"
    }
   ],
   "source": [
    "type(0o10)"
   ]
  },
  {
   "cell_type": "code",
   "execution_count": 9,
   "id": "4f10c815",
   "metadata": {
    "execution": {
     "iopub.execute_input": "2023-10-15T10:48:13.020889Z",
     "iopub.status.busy": "2023-10-15T10:48:13.020204Z",
     "iopub.status.idle": "2023-10-15T10:48:13.025042Z",
     "shell.execute_reply": "2023-10-15T10:48:13.024401Z"
    },
    "papermill": {
     "duration": 0.023097,
     "end_time": "2023-10-15T10:48:13.026803",
     "exception": false,
     "start_time": "2023-10-15T10:48:13.003706",
     "status": "completed"
    },
    "tags": []
   },
   "outputs": [
    {
     "data": {
      "text/plain": [
       "int"
      ]
     },
     "execution_count": 9,
     "metadata": {},
     "output_type": "execute_result"
    }
   ],
   "source": [
    "type(0x10)"
   ]
  },
  {
   "cell_type": "markdown",
   "id": "e958f234",
   "metadata": {
    "papermill": {
     "duration": 0.014157,
     "end_time": "2023-10-15T10:48:13.055470",
     "exception": false,
     "start_time": "2023-10-15T10:48:13.041313",
     "status": "completed"
    },
    "tags": []
   },
   "source": [
    "> **Note:** This is a good time to mention that if you want to display a value while in a REPL session, you don’t need to use the `print()` function. Just typing the value at the `>>>` prompt and hitting _Enter_ will display it:\n",
    ">\n",
    ">```bash\n",
    ">>> 10\n",
    "10\n",
    ">>> 0x10\n",
    "16\n",
    ">>> 0b10\n",
    "2\n",
    ">```\n",
    "Many of the examples in this tutorial series will use this feature.\n",
    ">\n",
    "> Note that this does not work inside a script file. A value appearing on a line by itself in a script file will not do anything."
   ]
  },
  {
   "cell_type": "markdown",
   "id": "5d800285",
   "metadata": {
    "papermill": {
     "duration": 0.014136,
     "end_time": "2023-10-15T10:48:13.084058",
     "exception": false,
     "start_time": "2023-10-15T10:48:13.069922",
     "status": "completed"
    },
    "tags": []
   },
   "source": [
    "<a class=\"anchor\" id=\"floating-point_numbers\"></a>\n",
    "## Floating-Point Numbers\n",
    "\n",
    "The float type in Python designates a floating-point number. `float` values are specified with a decimal point. Optionally, the character `e` or `E` followed by a positive or negative integer may be appended to specify [scientific notation](https://en.wikipedia.org/wiki/Scientific_notation):"
   ]
  },
  {
   "cell_type": "code",
   "execution_count": 10,
   "id": "b2f621b3",
   "metadata": {
    "execution": {
     "iopub.execute_input": "2023-10-15T10:48:13.115359Z",
     "iopub.status.busy": "2023-10-15T10:48:13.114707Z",
     "iopub.status.idle": "2023-10-15T10:48:13.120721Z",
     "shell.execute_reply": "2023-10-15T10:48:13.119629Z"
    },
    "papermill": {
     "duration": 0.023824,
     "end_time": "2023-10-15T10:48:13.122788",
     "exception": false,
     "start_time": "2023-10-15T10:48:13.098964",
     "status": "completed"
    },
    "tags": []
   },
   "outputs": [
    {
     "data": {
      "text/plain": [
       "4.2"
      ]
     },
     "execution_count": 10,
     "metadata": {},
     "output_type": "execute_result"
    }
   ],
   "source": [
    "4.2"
   ]
  },
  {
   "cell_type": "code",
   "execution_count": 11,
   "id": "81e09ab7",
   "metadata": {
    "execution": {
     "iopub.execute_input": "2023-10-15T10:48:13.153685Z",
     "iopub.status.busy": "2023-10-15T10:48:13.153320Z",
     "iopub.status.idle": "2023-10-15T10:48:13.159335Z",
     "shell.execute_reply": "2023-10-15T10:48:13.158378Z"
    },
    "papermill": {
     "duration": 0.024232,
     "end_time": "2023-10-15T10:48:13.161636",
     "exception": false,
     "start_time": "2023-10-15T10:48:13.137404",
     "status": "completed"
    },
    "tags": []
   },
   "outputs": [
    {
     "data": {
      "text/plain": [
       "float"
      ]
     },
     "execution_count": 11,
     "metadata": {},
     "output_type": "execute_result"
    }
   ],
   "source": [
    "type(4.2)"
   ]
  },
  {
   "cell_type": "code",
   "execution_count": 12,
   "id": "2e775aa6",
   "metadata": {
    "execution": {
     "iopub.execute_input": "2023-10-15T10:48:13.194339Z",
     "iopub.status.busy": "2023-10-15T10:48:13.193934Z",
     "iopub.status.idle": "2023-10-15T10:48:13.200632Z",
     "shell.execute_reply": "2023-10-15T10:48:13.199541Z"
    },
    "papermill": {
     "duration": 0.025635,
     "end_time": "2023-10-15T10:48:13.202620",
     "exception": false,
     "start_time": "2023-10-15T10:48:13.176985",
     "status": "completed"
    },
    "tags": []
   },
   "outputs": [
    {
     "data": {
      "text/plain": [
       "4.0"
      ]
     },
     "execution_count": 12,
     "metadata": {},
     "output_type": "execute_result"
    }
   ],
   "source": [
    "4."
   ]
  },
  {
   "cell_type": "code",
   "execution_count": 13,
   "id": "ccf3076c",
   "metadata": {
    "execution": {
     "iopub.execute_input": "2023-10-15T10:48:13.234874Z",
     "iopub.status.busy": "2023-10-15T10:48:13.234228Z",
     "iopub.status.idle": "2023-10-15T10:48:13.240115Z",
     "shell.execute_reply": "2023-10-15T10:48:13.239103Z"
    },
    "papermill": {
     "duration": 0.02434,
     "end_time": "2023-10-15T10:48:13.242092",
     "exception": false,
     "start_time": "2023-10-15T10:48:13.217752",
     "status": "completed"
    },
    "tags": []
   },
   "outputs": [
    {
     "data": {
      "text/plain": [
       "0.2"
      ]
     },
     "execution_count": 13,
     "metadata": {},
     "output_type": "execute_result"
    }
   ],
   "source": [
    ".2"
   ]
  },
  {
   "cell_type": "code",
   "execution_count": 14,
   "id": "51c6bd16",
   "metadata": {
    "execution": {
     "iopub.execute_input": "2023-10-15T10:48:13.274417Z",
     "iopub.status.busy": "2023-10-15T10:48:13.274083Z",
     "iopub.status.idle": "2023-10-15T10:48:13.279587Z",
     "shell.execute_reply": "2023-10-15T10:48:13.278596Z"
    },
    "papermill": {
     "duration": 0.024243,
     "end_time": "2023-10-15T10:48:13.281601",
     "exception": false,
     "start_time": "2023-10-15T10:48:13.257358",
     "status": "completed"
    },
    "tags": []
   },
   "outputs": [
    {
     "data": {
      "text/plain": [
       "4000000.0"
      ]
     },
     "execution_count": 14,
     "metadata": {},
     "output_type": "execute_result"
    }
   ],
   "source": [
    ".4e7"
   ]
  },
  {
   "cell_type": "code",
   "execution_count": 15,
   "id": "92afc237",
   "metadata": {
    "execution": {
     "iopub.execute_input": "2023-10-15T10:48:13.313659Z",
     "iopub.status.busy": "2023-10-15T10:48:13.313106Z",
     "iopub.status.idle": "2023-10-15T10:48:13.319097Z",
     "shell.execute_reply": "2023-10-15T10:48:13.318102Z"
    },
    "papermill": {
     "duration": 0.024983,
     "end_time": "2023-10-15T10:48:13.321674",
     "exception": false,
     "start_time": "2023-10-15T10:48:13.296691",
     "status": "completed"
    },
    "tags": []
   },
   "outputs": [
    {
     "data": {
      "text/plain": [
       "float"
      ]
     },
     "execution_count": 15,
     "metadata": {},
     "output_type": "execute_result"
    }
   ],
   "source": [
    "type(.4e7)"
   ]
  },
  {
   "cell_type": "code",
   "execution_count": 16,
   "id": "ce0add80",
   "metadata": {
    "execution": {
     "iopub.execute_input": "2023-10-15T10:48:13.355230Z",
     "iopub.status.busy": "2023-10-15T10:48:13.354866Z",
     "iopub.status.idle": "2023-10-15T10:48:13.360183Z",
     "shell.execute_reply": "2023-10-15T10:48:13.359205Z"
    },
    "papermill": {
     "duration": 0.024002,
     "end_time": "2023-10-15T10:48:13.362091",
     "exception": false,
     "start_time": "2023-10-15T10:48:13.338089",
     "status": "completed"
    },
    "tags": []
   },
   "outputs": [
    {
     "data": {
      "text/plain": [
       "0.00042"
      ]
     },
     "execution_count": 16,
     "metadata": {},
     "output_type": "execute_result"
    }
   ],
   "source": [
    "4.2e-4"
   ]
  },
  {
   "cell_type": "markdown",
   "id": "02999bd8",
   "metadata": {
    "papermill": {
     "duration": 0.014852,
     "end_time": "2023-10-15T10:48:13.392771",
     "exception": false,
     "start_time": "2023-10-15T10:48:13.377919",
     "status": "completed"
    },
    "tags": []
   },
   "source": [
    "> Deep Dive: **Floating-Point Representation**\n",
    ">\n",
    "> The following is a bit more in-depth information on how Python represents floating-point numbers internally. You can readily use floating-point numbers in Python without understanding them to this level, so don’t worry if this seems overly complicated. The information is presented here in case you are curious.\n",
    ">\n",
    "> Almost all platforms represent Python float values as 64-bit “double-precision” values, according to the [IEEE 754](https://en.wikipedia.org/wiki/IEEE_754_revision) standard. In that case, the maximum value a floating-point number can have is approximately $1.8 \\times 10^{308}$. Python will indicate a number greater than that by the string inf:\n",
    ">\n",
    "> ```bash\n",
    ">>> 1.79e308\n",
    "1.79e+308\n",
    ">>> 1.8e308\n",
    "inf\n",
    "> ```\n",
    "> The closest a nonzero number can be to zero is approximately $5.0 \\times 10^{-324}$. Anything closer to zero than that is effectively zero:\n",
    "> \n",
    "> ```bash\n",
    ">>> 5e-324\n",
    "5e-324\n",
    ">>> 1e-325\n",
    "0.0\n",
    "> ```\n",
    "> Floating point numbers are represented internally as binary (base-2) fractions. Most decimal fractions cannot be represented exactly as binary fractions, so in most cases the internal representation of a floating-point number is an approximation of the actual value. In practice, the difference between the actual value and the represented value is very small and should not usually cause significant problems."
   ]
  },
  {
   "cell_type": "markdown",
   "id": "b12dc5e5",
   "metadata": {
    "papermill": {
     "duration": 0.014715,
     "end_time": "2023-10-15T10:48:13.422815",
     "exception": false,
     "start_time": "2023-10-15T10:48:13.408100",
     "status": "completed"
    },
    "tags": []
   },
   "source": [
    "> **Further Reading:** For additional information on floating-point representation in Python and the potential pitfalls involved, see [Floating Point Arithmetic: Issues and Limitations](https://docs.python.org/3.6/tutorial/floatingpoint.html) in the Python documentation."
   ]
  },
  {
   "cell_type": "markdown",
   "id": "3b142b7e",
   "metadata": {
    "papermill": {
     "duration": 0.014844,
     "end_time": "2023-10-15T10:48:13.452911",
     "exception": false,
     "start_time": "2023-10-15T10:48:13.438067",
     "status": "completed"
    },
    "tags": []
   },
   "source": [
    "<a class=\"anchor\" id=\"complex_numbers\"></a>\n",
    "## Complex Numbers\n",
    "\n",
    "Complex numbers are specified as `<real part>+<imaginary part>j`. For example:"
   ]
  },
  {
   "cell_type": "code",
   "execution_count": 17,
   "id": "94b11877",
   "metadata": {
    "execution": {
     "iopub.execute_input": "2023-10-15T10:48:13.485361Z",
     "iopub.status.busy": "2023-10-15T10:48:13.484967Z",
     "iopub.status.idle": "2023-10-15T10:48:13.490439Z",
     "shell.execute_reply": "2023-10-15T10:48:13.489561Z"
    },
    "papermill": {
     "duration": 0.024193,
     "end_time": "2023-10-15T10:48:13.492408",
     "exception": false,
     "start_time": "2023-10-15T10:48:13.468215",
     "status": "completed"
    },
    "tags": []
   },
   "outputs": [
    {
     "data": {
      "text/plain": [
       "(2+3j)"
      ]
     },
     "execution_count": 17,
     "metadata": {},
     "output_type": "execute_result"
    }
   ],
   "source": [
    "2+3j"
   ]
  },
  {
   "cell_type": "code",
   "execution_count": 18,
   "id": "433bce3d",
   "metadata": {
    "execution": {
     "iopub.execute_input": "2023-10-15T10:48:13.524749Z",
     "iopub.status.busy": "2023-10-15T10:48:13.524350Z",
     "iopub.status.idle": "2023-10-15T10:48:13.531347Z",
     "shell.execute_reply": "2023-10-15T10:48:13.530275Z"
    },
    "papermill": {
     "duration": 0.025579,
     "end_time": "2023-10-15T10:48:13.533434",
     "exception": false,
     "start_time": "2023-10-15T10:48:13.507855",
     "status": "completed"
    },
    "tags": []
   },
   "outputs": [
    {
     "data": {
      "text/plain": [
       "complex"
      ]
     },
     "execution_count": 18,
     "metadata": {},
     "output_type": "execute_result"
    }
   ],
   "source": [
    "type(2+3j)"
   ]
  },
  {
   "cell_type": "markdown",
   "id": "9e05823c",
   "metadata": {
    "papermill": {
     "duration": 0.01515,
     "end_time": "2023-10-15T10:48:13.564278",
     "exception": false,
     "start_time": "2023-10-15T10:48:13.549128",
     "status": "completed"
    },
    "tags": []
   },
   "source": [
    "<a class=\"anchor\" id=\"faq\"></a>\n",
    "#### FAQ\n",
    "\n",
    "1. What's the difference between floating point and an integer?\n",
    "\n",
    "An integer has no decimals in it, a floating point number can display digits past the decimal point.\n",
    "\n",
    "2. Why doesn't `0.1 + 0.2 - 0.3` equal `0.0` ?\n",
    "\n",
    "This has to do with floating point accuracy and computer's abilities to represent numbers in memory. For a full breakdown, check out: https://docs.python.org/2/tutorial/floatingpoint.html"
   ]
  },
  {
   "cell_type": "code",
   "execution_count": 19,
   "id": "3a2c557e",
   "metadata": {
    "execution": {
     "iopub.execute_input": "2023-10-15T10:48:13.596725Z",
     "iopub.status.busy": "2023-10-15T10:48:13.596400Z",
     "iopub.status.idle": "2023-10-15T10:48:13.602311Z",
     "shell.execute_reply": "2023-10-15T10:48:13.601267Z"
    },
    "papermill": {
     "duration": 0.024318,
     "end_time": "2023-10-15T10:48:13.604085",
     "exception": false,
     "start_time": "2023-10-15T10:48:13.579767",
     "status": "completed"
    },
    "tags": []
   },
   "outputs": [
    {
     "data": {
      "text/plain": [
       "False"
      ]
     },
     "execution_count": 19,
     "metadata": {},
     "output_type": "execute_result"
    }
   ],
   "source": [
    "# Why is this False? Refer to FAQ above.\n",
    "0.1 + 0.2 - 0.3 == 0.0"
   ]
  },
  {
   "cell_type": "markdown",
   "id": "4b123eec",
   "metadata": {
    "papermill": {
     "duration": 0.015166,
     "end_time": "2023-10-15T10:48:13.634935",
     "exception": false,
     "start_time": "2023-10-15T10:48:13.619769",
     "status": "completed"
    },
    "tags": []
   },
   "source": [
    "<a class=\"anchor\" id=\"strings\"></a>\n",
    "## Strings\n",
    "\n",
    "Strings are sequences of character data. The string type in Python is called `str`."
   ]
  },
  {
   "cell_type": "markdown",
   "id": "d5d8a248",
   "metadata": {
    "papermill": {
     "duration": 0.015157,
     "end_time": "2023-10-15T10:48:13.665662",
     "exception": false,
     "start_time": "2023-10-15T10:48:13.650505",
     "status": "completed"
    },
    "tags": []
   },
   "source": [
    "String literals may be delimited using either single or double quotes. All the characters between the opening delimiter and matching closing delimiter are part of the string:"
   ]
  },
  {
   "cell_type": "code",
   "execution_count": 20,
   "id": "0c0e30a8",
   "metadata": {
    "execution": {
     "iopub.execute_input": "2023-10-15T10:48:13.699797Z",
     "iopub.status.busy": "2023-10-15T10:48:13.699460Z",
     "iopub.status.idle": "2023-10-15T10:48:13.704300Z",
     "shell.execute_reply": "2023-10-15T10:48:13.703166Z"
    },
    "papermill": {
     "duration": 0.02443,
     "end_time": "2023-10-15T10:48:13.706575",
     "exception": false,
     "start_time": "2023-10-15T10:48:13.682145",
     "status": "completed"
    },
    "tags": []
   },
   "outputs": [
    {
     "name": "stdout",
     "output_type": "stream",
     "text": [
      "I am a string.\n"
     ]
    }
   ],
   "source": [
    "print(\"I am a string.\")"
   ]
  },
  {
   "cell_type": "code",
   "execution_count": 21,
   "id": "0a83d5c6",
   "metadata": {
    "execution": {
     "iopub.execute_input": "2023-10-15T10:48:13.741786Z",
     "iopub.status.busy": "2023-10-15T10:48:13.741244Z",
     "iopub.status.idle": "2023-10-15T10:48:13.747614Z",
     "shell.execute_reply": "2023-10-15T10:48:13.746588Z"
    },
    "papermill": {
     "duration": 0.026781,
     "end_time": "2023-10-15T10:48:13.749658",
     "exception": false,
     "start_time": "2023-10-15T10:48:13.722877",
     "status": "completed"
    },
    "tags": []
   },
   "outputs": [
    {
     "data": {
      "text/plain": [
       "str"
      ]
     },
     "execution_count": 21,
     "metadata": {},
     "output_type": "execute_result"
    }
   ],
   "source": [
    "type(\"I am a string.\")"
   ]
  },
  {
   "cell_type": "code",
   "execution_count": 22,
   "id": "dd8be308",
   "metadata": {
    "execution": {
     "iopub.execute_input": "2023-10-15T10:48:13.783758Z",
     "iopub.status.busy": "2023-10-15T10:48:13.783425Z",
     "iopub.status.idle": "2023-10-15T10:48:13.788974Z",
     "shell.execute_reply": "2023-10-15T10:48:13.787732Z"
    },
    "papermill": {
     "duration": 0.02553,
     "end_time": "2023-10-15T10:48:13.791303",
     "exception": false,
     "start_time": "2023-10-15T10:48:13.765773",
     "status": "completed"
    },
    "tags": []
   },
   "outputs": [
    {
     "name": "stdout",
     "output_type": "stream",
     "text": [
      "I am too.\n"
     ]
    }
   ],
   "source": [
    "print('I am too.')"
   ]
  },
  {
   "cell_type": "code",
   "execution_count": 23,
   "id": "12431d8c",
   "metadata": {
    "execution": {
     "iopub.execute_input": "2023-10-15T10:48:13.826812Z",
     "iopub.status.busy": "2023-10-15T10:48:13.826437Z",
     "iopub.status.idle": "2023-10-15T10:48:13.833107Z",
     "shell.execute_reply": "2023-10-15T10:48:13.832085Z"
    },
    "papermill": {
     "duration": 0.02639,
     "end_time": "2023-10-15T10:48:13.835083",
     "exception": false,
     "start_time": "2023-10-15T10:48:13.808693",
     "status": "completed"
    },
    "tags": []
   },
   "outputs": [
    {
     "data": {
      "text/plain": [
       "str"
      ]
     },
     "execution_count": 23,
     "metadata": {},
     "output_type": "execute_result"
    }
   ],
   "source": [
    "type('I am too.')"
   ]
  },
  {
   "cell_type": "markdown",
   "id": "72259066",
   "metadata": {
    "papermill": {
     "duration": 0.016576,
     "end_time": "2023-10-15T10:48:13.868205",
     "exception": false,
     "start_time": "2023-10-15T10:48:13.851629",
     "status": "completed"
    },
    "tags": []
   },
   "source": [
    "A string in Python can contain as many characters as you wish. The only limit is your machine’s memory resources. A string can also be empty:"
   ]
  },
  {
   "cell_type": "code",
   "execution_count": 24,
   "id": "4409e82b",
   "metadata": {
    "execution": {
     "iopub.execute_input": "2023-10-15T10:48:13.904205Z",
     "iopub.status.busy": "2023-10-15T10:48:13.903594Z",
     "iopub.status.idle": "2023-10-15T10:48:13.909470Z",
     "shell.execute_reply": "2023-10-15T10:48:13.908537Z"
    },
    "papermill": {
     "duration": 0.026395,
     "end_time": "2023-10-15T10:48:13.911398",
     "exception": false,
     "start_time": "2023-10-15T10:48:13.885003",
     "status": "completed"
    },
    "tags": []
   },
   "outputs": [
    {
     "data": {
      "text/plain": [
       "''"
      ]
     },
     "execution_count": 24,
     "metadata": {},
     "output_type": "execute_result"
    }
   ],
   "source": [
    "\"\""
   ]
  },
  {
   "cell_type": "markdown",
   "id": "01a1893f",
   "metadata": {
    "papermill": {
     "duration": 0.016569,
     "end_time": "2023-10-15T10:48:13.945661",
     "exception": false,
     "start_time": "2023-10-15T10:48:13.929092",
     "status": "completed"
    },
    "tags": []
   },
   "source": [
    "What if you want to include a quote character as part of the string itself? Your first impulse might be to try something like this:"
   ]
  },
  {
   "cell_type": "code",
   "execution_count": 25,
   "id": "97859534",
   "metadata": {
    "execution": {
     "iopub.execute_input": "2023-10-15T10:48:13.982324Z",
     "iopub.status.busy": "2023-10-15T10:48:13.981979Z",
     "iopub.status.idle": "2023-10-15T10:48:13.987669Z",
     "shell.execute_reply": "2023-10-15T10:48:13.986171Z"
    },
    "papermill": {
     "duration": 0.026518,
     "end_time": "2023-10-15T10:48:13.989525",
     "exception": true,
     "start_time": "2023-10-15T10:48:13.963007",
     "status": "failed"
    },
    "tags": []
   },
   "outputs": [
    {
     "ename": "SyntaxError",
     "evalue": "unterminated string literal (detected at line 1) (1099109788.py, line 1)",
     "output_type": "error",
     "traceback": [
      "\u001b[0;36m  Cell \u001b[0;32mIn[25], line 1\u001b[0;36m\u001b[0m\n\u001b[0;31m    print('This string contains a single quote (') character.')\u001b[0m\n\u001b[0m                                                             ^\u001b[0m\n\u001b[0;31mSyntaxError\u001b[0m\u001b[0;31m:\u001b[0m unterminated string literal (detected at line 1)\n"
     ]
    }
   ],
   "source": [
    "print('This string contains a single quote (') character.')"
   ]
  },
  {
   "cell_type": "markdown",
   "id": "2cb058b9",
   "metadata": {
    "papermill": {
     "duration": null,
     "end_time": null,
     "exception": null,
     "start_time": null,
     "status": "pending"
    },
    "tags": []
   },
   "source": [
    "As you can see, that doesn’t work so well. The string in this example opens with a single quote, so Python assumes the next single quote, the one in parentheses which was intended to be part of the string, is the closing delimiter. The final single quote is then a stray and causes the syntax error shown."
   ]
  },
  {
   "cell_type": "markdown",
   "id": "0e959d91",
   "metadata": {
    "papermill": {
     "duration": null,
     "end_time": null,
     "exception": null,
     "start_time": null,
     "status": "pending"
    },
    "tags": []
   },
   "source": [
    "If you want to include either type of quote character within the string, the simplest way is to delimit the string with the other type. If a string is to contain a single quote, delimit it with double quotes and vice versa:"
   ]
  },
  {
   "cell_type": "code",
   "execution_count": null,
   "id": "dbc12b54",
   "metadata": {
    "papermill": {
     "duration": null,
     "end_time": null,
     "exception": null,
     "start_time": null,
     "status": "pending"
    },
    "tags": []
   },
   "outputs": [],
   "source": [
    "print(\"This string contains a single quote (') character.\")"
   ]
  },
  {
   "cell_type": "code",
   "execution_count": null,
   "id": "05bc08ff",
   "metadata": {
    "papermill": {
     "duration": null,
     "end_time": null,
     "exception": null,
     "start_time": null,
     "status": "pending"
    },
    "tags": []
   },
   "outputs": [],
   "source": [
    "print('This string contains a double quote (\") character.')"
   ]
  },
  {
   "cell_type": "markdown",
   "id": "5729c2ea",
   "metadata": {
    "papermill": {
     "duration": null,
     "end_time": null,
     "exception": null,
     "start_time": null,
     "status": "pending"
    },
    "tags": []
   },
   "source": [
    "<a class=\"anchor\" id=\"escape_sequences_in_strings\"></a>\n",
    "### Escape Sequences in Strings\n",
    "Sometimes, you want Python to interpret a character or sequence of characters within a string differently. This may occur in one of two ways:\n",
    "- You may want to suppress the special interpretation that certain characters are usually given within a string.\n",
    "- You may want to apply special interpretation to characters in a string which would normally be taken literally."
   ]
  },
  {
   "cell_type": "markdown",
   "id": "1680dc17",
   "metadata": {
    "papermill": {
     "duration": null,
     "end_time": null,
     "exception": null,
     "start_time": null,
     "status": "pending"
    },
    "tags": []
   },
   "source": [
    "You can accomplish this using a backslash (`\\`) character. A backslash character in a string indicates that one or more characters that follow it should be treated specially. (This is referred to as an escape sequence, because the backslash causes the subsequent character sequence to “escape” its usual meaning.)"
   ]
  },
  {
   "cell_type": "markdown",
   "id": "bd8b34ad",
   "metadata": {
    "papermill": {
     "duration": null,
     "end_time": null,
     "exception": null,
     "start_time": null,
     "status": "pending"
    },
    "tags": []
   },
   "source": [
    "Let’s see how this works."
   ]
  },
  {
   "cell_type": "markdown",
   "id": "a0f7c825",
   "metadata": {
    "papermill": {
     "duration": null,
     "end_time": null,
     "exception": null,
     "start_time": null,
     "status": "pending"
    },
    "tags": []
   },
   "source": [
    "<a class=\"anchor\" id=\"suppressing_special_character_meaning\"></a>\n",
    "#### Suppressing Special Character Meaning\n"
   ]
  },
  {
   "cell_type": "markdown",
   "id": "7c3760d2",
   "metadata": {
    "papermill": {
     "duration": null,
     "end_time": null,
     "exception": null,
     "start_time": null,
     "status": "pending"
    },
    "tags": []
   },
   "source": [
    "You have already seen the problems you can come up against when you try to include quote characters in a string. If a string is delimited by single quotes, you can’t directly specify a single quote character as part of the string because, for that string, the single quote has special meaning—it terminates the string:"
   ]
  },
  {
   "cell_type": "code",
   "execution_count": null,
   "id": "c023d3bf",
   "metadata": {
    "papermill": {
     "duration": null,
     "end_time": null,
     "exception": null,
     "start_time": null,
     "status": "pending"
    },
    "tags": []
   },
   "outputs": [],
   "source": [
    "print('This string contains a single quote (') character.')"
   ]
  },
  {
   "cell_type": "markdown",
   "id": "894e466d",
   "metadata": {
    "papermill": {
     "duration": null,
     "end_time": null,
     "exception": null,
     "start_time": null,
     "status": "pending"
    },
    "tags": []
   },
   "source": [
    "Specifying a backslash in front of the quote character in a string “escapes” it and causes Python to suppress its usual special meaning. It is then interpreted simply as a literal single quote character:"
   ]
  },
  {
   "cell_type": "code",
   "execution_count": null,
   "id": "8f137f69",
   "metadata": {
    "papermill": {
     "duration": null,
     "end_time": null,
     "exception": null,
     "start_time": null,
     "status": "pending"
    },
    "tags": []
   },
   "outputs": [],
   "source": [
    "print('This string contains a single quote (\\') character.')"
   ]
  },
  {
   "cell_type": "markdown",
   "id": "f8f1014c",
   "metadata": {
    "papermill": {
     "duration": null,
     "end_time": null,
     "exception": null,
     "start_time": null,
     "status": "pending"
    },
    "tags": []
   },
   "source": [
    "The same works in a string delimited by double quotes as well:"
   ]
  },
  {
   "cell_type": "code",
   "execution_count": null,
   "id": "61afd282",
   "metadata": {
    "papermill": {
     "duration": null,
     "end_time": null,
     "exception": null,
     "start_time": null,
     "status": "pending"
    },
    "tags": []
   },
   "outputs": [],
   "source": [
    "print(\"This string contains a double quote (\\\") character.\")"
   ]
  },
  {
   "cell_type": "markdown",
   "id": "085103ea",
   "metadata": {
    "papermill": {
     "duration": null,
     "end_time": null,
     "exception": null,
     "start_time": null,
     "status": "pending"
    },
    "tags": []
   },
   "source": [
    "The following is a table of escape sequences which cause Python to suppress the usual special interpretation of a character in a string:\n",
    "\n",
    "|Escape Sequence | Usual Interpretation of Character(s) After Backslash| “Escaped” Interpretation |\n",
    "|:--|:--|:--|\n",
    "|`\\'` | Terminates string with single quote opening delimiter | Literal single quote (`'`) character|\n",
    "|`\\\"` | Terminates string with double quote opening delimiter | Literal double quote (`\"`) character|\n",
    "|`\\\\` | Introduces escape sequence | Literal backslash (`\\`) character | "
   ]
  },
  {
   "cell_type": "markdown",
   "id": "233531ee",
   "metadata": {
    "papermill": {
     "duration": null,
     "end_time": null,
     "exception": null,
     "start_time": null,
     "status": "pending"
    },
    "tags": []
   },
   "source": [
    "Ordinarily, a newline character terminates line input. So pressing _Enter_ in the middle of a string will cause Python to think it is incomplete:"
   ]
  },
  {
   "cell_type": "code",
   "execution_count": null,
   "id": "50b332a4",
   "metadata": {
    "papermill": {
     "duration": null,
     "end_time": null,
     "exception": null,
     "start_time": null,
     "status": "pending"
    },
    "tags": []
   },
   "outputs": [],
   "source": [
    "print('a"
   ]
  },
  {
   "cell_type": "markdown",
   "id": "e7b8f733",
   "metadata": {
    "papermill": {
     "duration": null,
     "end_time": null,
     "exception": null,
     "start_time": null,
     "status": "pending"
    },
    "tags": []
   },
   "source": [
    "To break up a string over more than one line, include a backslash before each newline, and the newlines will be ignored:"
   ]
  },
  {
   "cell_type": "code",
   "execution_count": null,
   "id": "514509b7",
   "metadata": {
    "papermill": {
     "duration": null,
     "end_time": null,
     "exception": null,
     "start_time": null,
     "status": "pending"
    },
    "tags": []
   },
   "outputs": [],
   "source": [
    "print('asldjflasdjfl\\\n",
    "asdjflasdjflasdjflas\\\n",
    "jflasdjfl329723947239\\\n",
    "47asdjfalsjflsdfjlajf\\\n",
    "slasdfj')"
   ]
  },
  {
   "cell_type": "code",
   "execution_count": null,
   "id": "ff67ed17",
   "metadata": {
    "papermill": {
     "duration": null,
     "end_time": null,
     "exception": null,
     "start_time": null,
     "status": "pending"
    },
    "tags": []
   },
   "outputs": [],
   "source": [
    "print('a\\\n",
    "b\\\n",
    "c')"
   ]
  },
  {
   "cell_type": "code",
   "execution_count": null,
   "id": "47511bec",
   "metadata": {
    "papermill": {
     "duration": null,
     "end_time": null,
     "exception": null,
     "start_time": null,
     "status": "pending"
    },
    "tags": []
   },
   "outputs": [],
   "source": [
    "print('a very very very \\\n",
    "very very very \\\n",
    "very long string.')"
   ]
  },
  {
   "cell_type": "markdown",
   "id": "6c244a00",
   "metadata": {
    "papermill": {
     "duration": null,
     "end_time": null,
     "exception": null,
     "start_time": null,
     "status": "pending"
    },
    "tags": []
   },
   "source": [
    "To include a literal backslash in a string, escape it with a backslash:"
   ]
  },
  {
   "cell_type": "code",
   "execution_count": null,
   "id": "2af88220",
   "metadata": {
    "papermill": {
     "duration": null,
     "end_time": null,
     "exception": null,
     "start_time": null,
     "status": "pending"
    },
    "tags": []
   },
   "outputs": [],
   "source": [
    "print('foo\\\\bar')"
   ]
  },
  {
   "cell_type": "markdown",
   "id": "df1346b2",
   "metadata": {
    "papermill": {
     "duration": null,
     "end_time": null,
     "exception": null,
     "start_time": null,
     "status": "pending"
    },
    "tags": []
   },
   "source": [
    "<a class=\"anchor\" id=\"applying_special_meaning_to_characters\"></a>\n",
    "### Applying Special Meaning to Characters\n",
    "\n",
    "Next, suppose you need to create a string that contains a tab character in it. Some text editors may allow you to insert a tab character directly into your code. But many programmers consider that poor practice, for several reasons:\n",
    "\n",
    "- The computer can distinguish between a tab character and a sequence of space characters, but you can’t. To a human reading the code, tab and space characters are visually indistinguishable.\n",
    "- Some text editors are configured to automatically eliminate tab characters by expanding them to the appropriate number of spaces.\n",
    "- Some Python REPL environments will not insert tabs into code."
   ]
  },
  {
   "cell_type": "markdown",
   "id": "6d377f22",
   "metadata": {
    "papermill": {
     "duration": null,
     "end_time": null,
     "exception": null,
     "start_time": null,
     "status": "pending"
    },
    "tags": []
   },
   "source": [
    "In Python (and almost all other common computer languages), a tab character can be specified by the escape sequence `\\t`:"
   ]
  },
  {
   "cell_type": "code",
   "execution_count": null,
   "id": "b5d68ca3",
   "metadata": {
    "papermill": {
     "duration": null,
     "end_time": null,
     "exception": null,
     "start_time": null,
     "status": "pending"
    },
    "tags": []
   },
   "outputs": [],
   "source": [
    "print('fooo\\tbar')"
   ]
  },
  {
   "cell_type": "markdown",
   "id": "301e6f39",
   "metadata": {
    "papermill": {
     "duration": null,
     "end_time": null,
     "exception": null,
     "start_time": null,
     "status": "pending"
    },
    "tags": []
   },
   "source": [
    "The escape sequence `\\t` causes the `t` character to lose its usual meaning, that of a literal t. Instead, the combination is interpreted as a tab character."
   ]
  },
  {
   "cell_type": "markdown",
   "id": "b984fd19",
   "metadata": {
    "papermill": {
     "duration": null,
     "end_time": null,
     "exception": null,
     "start_time": null,
     "status": "pending"
    },
    "tags": []
   },
   "source": [
    "Here is a list of escape sequences that cause Python to apply special meaning instead of interpreting literally:"
   ]
  },
  {
   "cell_type": "markdown",
   "id": "15202de2",
   "metadata": {
    "papermill": {
     "duration": null,
     "end_time": null,
     "exception": null,
     "start_time": null,
     "status": "pending"
    },
    "tags": []
   },
   "source": [
    "|Escape Sequence | “Escaped” Interpretation |\n",
    "|:--|:--|\n",
    "|`\\a` |\tASCII Bell (BEL) character |\n",
    "|`\\b` |\tASCII Backspace (BS) character |\n",
    "|`\\f` |\tASCII Formfeed (FF) character |\n",
    "|`\\n` |\tASCII Linefeed (LF) character |\n",
    "|`\\N{<name>}` |\tCharacter from Unicode database with given `<name>` |\n",
    "|`\\r` |\tASCII Carriage Return (CR) character |\n",
    "|`\\t` |\tASCII Horizontal Tab (TAB) character |\n",
    "|`\\uxxxx` |\tUnicode character with 16-bit hex value `xxxx` |\n",
    "|`\\Uxxxxxxxx` |\tUnicode character with 32-bit hex value `xxxxxxxx` |\n",
    "|`\\v` |\tASCII Vertical Tab (VT) character |\n",
    "|`\\ooo` |\tCharacter with octal value ooo |\n",
    "|`\\xhh` |\tCharacter with hex value hh |"
   ]
  },
  {
   "cell_type": "code",
   "execution_count": null,
   "id": "d5a2375a",
   "metadata": {
    "papermill": {
     "duration": null,
     "end_time": null,
     "exception": null,
     "start_time": null,
     "status": "pending"
    },
    "tags": []
   },
   "outputs": [],
   "source": [
    "print(\"a\\tb\")"
   ]
  },
  {
   "cell_type": "code",
   "execution_count": null,
   "id": "fbcadaf4",
   "metadata": {
    "papermill": {
     "duration": null,
     "end_time": null,
     "exception": null,
     "start_time": null,
     "status": "pending"
    },
    "tags": []
   },
   "outputs": [],
   "source": [
    "print(\"a\\141\\x61\")"
   ]
  },
  {
   "cell_type": "code",
   "execution_count": null,
   "id": "a2533aeb",
   "metadata": {
    "papermill": {
     "duration": null,
     "end_time": null,
     "exception": null,
     "start_time": null,
     "status": "pending"
    },
    "tags": []
   },
   "outputs": [],
   "source": [
    "print(\"a\\nb\")"
   ]
  },
  {
   "cell_type": "code",
   "execution_count": null,
   "id": "769ea2b8",
   "metadata": {
    "papermill": {
     "duration": null,
     "end_time": null,
     "exception": null,
     "start_time": null,
     "status": "pending"
    },
    "tags": []
   },
   "outputs": [],
   "source": [
    "print('\\u2192 \\N{rightwards arrow}')"
   ]
  },
  {
   "cell_type": "code",
   "execution_count": null,
   "id": "35c67615",
   "metadata": {
    "papermill": {
     "duration": null,
     "end_time": null,
     "exception": null,
     "start_time": null,
     "status": "pending"
    },
    "tags": []
   },
   "outputs": [],
   "source": [
    "print(\"\\u0033\")"
   ]
  },
  {
   "cell_type": "markdown",
   "id": "89e954fe",
   "metadata": {
    "papermill": {
     "duration": null,
     "end_time": null,
     "exception": null,
     "start_time": null,
     "status": "pending"
    },
    "tags": []
   },
   "source": [
    "This type of escape sequence is typically used to insert characters that are not readily generated from the keyboard or are not easily readable or printable."
   ]
  },
  {
   "cell_type": "markdown",
   "id": "0cdb2c0d",
   "metadata": {
    "papermill": {
     "duration": null,
     "end_time": null,
     "exception": null,
     "start_time": null,
     "status": "pending"
    },
    "tags": []
   },
   "source": [
    "> **Note:** See the [list of Unicode Characters](https://en.wikipedia.org/wiki/List_of_Unicode_characters)."
   ]
  },
  {
   "cell_type": "markdown",
   "id": "a63901fa",
   "metadata": {
    "papermill": {
     "duration": null,
     "end_time": null,
     "exception": null,
     "start_time": null,
     "status": "pending"
    },
    "tags": []
   },
   "source": [
    "<a class=\"anchor\" id=\"raw_strings\"></a>\n",
    "### Raw Strings\n",
    "\n",
    "A raw string literal is preceded by r or R, which specifies that escape sequences in the associated string are not translated. The backslash character is left in the string:"
   ]
  },
  {
   "cell_type": "code",
   "execution_count": null,
   "id": "5049ee82",
   "metadata": {
    "papermill": {
     "duration": null,
     "end_time": null,
     "exception": null,
     "start_time": null,
     "status": "pending"
    },
    "tags": []
   },
   "outputs": [],
   "source": [
    "print('foo\\nbar')"
   ]
  },
  {
   "cell_type": "code",
   "execution_count": null,
   "id": "e8ed9941",
   "metadata": {
    "papermill": {
     "duration": null,
     "end_time": null,
     "exception": null,
     "start_time": null,
     "status": "pending"
    },
    "tags": []
   },
   "outputs": [],
   "source": [
    "print(r'foo\\nbar')"
   ]
  },
  {
   "cell_type": "code",
   "execution_count": null,
   "id": "65c43dad",
   "metadata": {
    "papermill": {
     "duration": null,
     "end_time": null,
     "exception": null,
     "start_time": null,
     "status": "pending"
    },
    "tags": []
   },
   "outputs": [],
   "source": [
    "print('foo\\\\bar')"
   ]
  },
  {
   "cell_type": "code",
   "execution_count": null,
   "id": "81d95f1f",
   "metadata": {
    "papermill": {
     "duration": null,
     "end_time": null,
     "exception": null,
     "start_time": null,
     "status": "pending"
    },
    "tags": []
   },
   "outputs": [],
   "source": [
    "print(R'foo\\\\bar')"
   ]
  },
  {
   "cell_type": "markdown",
   "id": "7889f4f1",
   "metadata": {
    "papermill": {
     "duration": null,
     "end_time": null,
     "exception": null,
     "start_time": null,
     "status": "pending"
    },
    "tags": []
   },
   "source": [
    "<a class=\"anchor\" id=\"triple-quoted_strings\"></a>\n",
    "### Triple-Quoted Strings\n",
    "\n",
    "There is yet another way of delimiting strings in Python. Triple-quoted strings are delimited by matching groups of three single quotes or three double quotes. Escape sequences still work in triple-quoted strings, but single quotes, double quotes, and newlines can be included without escaping them. This provides a convenient way to create a string with both single and double quotes in it:"
   ]
  },
  {
   "cell_type": "code",
   "execution_count": null,
   "id": "41461c07",
   "metadata": {
    "papermill": {
     "duration": null,
     "end_time": null,
     "exception": null,
     "start_time": null,
     "status": "pending"
    },
    "tags": []
   },
   "outputs": [],
   "source": [
    "print('''This string has a single (') and a double (\") quote.''')"
   ]
  },
  {
   "cell_type": "markdown",
   "id": "617d61be",
   "metadata": {
    "papermill": {
     "duration": null,
     "end_time": null,
     "exception": null,
     "start_time": null,
     "status": "pending"
    },
    "tags": []
   },
   "source": [
    "Because newlines can be included without escaping them, this also allows for multiline strings:"
   ]
  },
  {
   "cell_type": "code",
   "execution_count": null,
   "id": "505b9521",
   "metadata": {
    "papermill": {
     "duration": null,
     "end_time": null,
     "exception": null,
     "start_time": null,
     "status": "pending"
    },
    "tags": []
   },
   "outputs": [],
   "source": [
    "print(\"\"\"This is a\n",
    "string that spans\n",
    "across several lines\n",
    "\"\"\")"
   ]
  },
  {
   "cell_type": "markdown",
   "id": "8e6862b7",
   "metadata": {
    "papermill": {
     "duration": null,
     "end_time": null,
     "exception": null,
     "start_time": null,
     "status": "pending"
    },
    "tags": []
   },
   "source": [
    "<a class=\"anchor\" id=\"boolean_type,_boolean_context,_and_“truthiness”\"></a>\n",
    "## Boolean Type, Boolean Context, and “Truthiness”"
   ]
  },
  {
   "cell_type": "markdown",
   "id": "e3cf08da",
   "metadata": {
    "papermill": {
     "duration": null,
     "end_time": null,
     "exception": null,
     "start_time": null,
     "status": "pending"
    },
    "tags": []
   },
   "source": [
    "Python 3 provides a Boolean data type. Objects of Boolean type may have one of two values, True or False:"
   ]
  },
  {
   "cell_type": "code",
   "execution_count": null,
   "id": "08b3311c",
   "metadata": {
    "papermill": {
     "duration": null,
     "end_time": null,
     "exception": null,
     "start_time": null,
     "status": "pending"
    },
    "tags": []
   },
   "outputs": [],
   "source": [
    "type(True)"
   ]
  },
  {
   "cell_type": "code",
   "execution_count": null,
   "id": "1826cb4a",
   "metadata": {
    "papermill": {
     "duration": null,
     "end_time": null,
     "exception": null,
     "start_time": null,
     "status": "pending"
    },
    "tags": []
   },
   "outputs": [],
   "source": [
    "type(False)"
   ]
  },
  {
   "cell_type": "markdown",
   "id": "6f204563",
   "metadata": {
    "papermill": {
     "duration": null,
     "end_time": null,
     "exception": null,
     "start_time": null,
     "status": "pending"
    },
    "tags": []
   },
   "source": [
    "As you will see in upcoming section, expressions in Python are often evaluated in Boolean context, meaning they are interpreted to represent truth or falsehood. A value that is true in Boolean context is sometimes said to be “truthy,” and one that is false in Boolean context is said to be “falsy.” (You may also see “falsy” spelled “falsey.”)"
   ]
  },
  {
   "cell_type": "markdown",
   "id": "2ebe63a4",
   "metadata": {
    "papermill": {
     "duration": null,
     "end_time": null,
     "exception": null,
     "start_time": null,
     "status": "pending"
    },
    "tags": []
   },
   "source": [
    "The “truthiness” of an object of Boolean type is self-evident: Boolean objects that are equal to True are truthy (`True`), and those equal to False are falsy (`False`). But non-Boolean objects can be evaluated in Boolean context as well and determined to be true or false."
   ]
  },
  {
   "cell_type": "markdown",
   "id": "8dfb221c",
   "metadata": {
    "papermill": {
     "duration": null,
     "end_time": null,
     "exception": null,
     "start_time": null,
     "status": "pending"
    },
    "tags": []
   },
   "source": [
    "You will learn more about evaluation of objects in Boolean context when you encounter logical operators in the upcoming sections on operators and expressions in Python."
   ]
  },
  {
   "cell_type": "markdown",
   "id": "046e6c9b",
   "metadata": {
    "papermill": {
     "duration": null,
     "end_time": null,
     "exception": null,
     "start_time": null,
     "status": "pending"
    },
    "tags": []
   },
   "source": [
    "<a class=\"anchor\" id=\"built-in_functions\"></a>\n",
    "## Built-In Functions\n",
    "\n",
    "The Python interpreter supports many functions that are built-in: sixty-eight, as of Python 3.6. You will cover many of these in the following discussions, as they come up in context."
   ]
  },
  {
   "cell_type": "markdown",
   "id": "a10f45d2",
   "metadata": {
    "papermill": {
     "duration": null,
     "end_time": null,
     "exception": null,
     "start_time": null,
     "status": "pending"
    },
    "tags": []
   },
   "source": [
    "For now, a brief overview follows, just to give a feel for what is available. See the [Python documentation on built-in functions](https://docs.python.org/3.6/library/functions.html) for more detail. Many of the following descriptions refer to topics and concepts that will be discussed in future tutorials."
   ]
  },
  {
   "cell_type": "markdown",
   "id": "6aed6a7c",
   "metadata": {
    "papermill": {
     "duration": null,
     "end_time": null,
     "exception": null,
     "start_time": null,
     "status": "pending"
    },
    "tags": []
   },
   "source": [
    "<a class=\"anchor\" id=\"math\"></a>\n",
    "### Math\n",
    "\n",
    "|Function | Description |\n",
    "|:--|:--|\n",
    "|`abs()`\t| Returns absolute value of a number |\n",
    "|`divmod()`\t| Returns quotient and remainder of integer division |\n",
    "|`max()`\t| Returns the largest of the given arguments or items in an iterable |\n",
    "|`min()`\t| Returns the smallest of the given arguments or items in an iterable |\n",
    "|`pow()`\t| Raises a number to a power |\n",
    "|`round()`\t| Rounds a floating-point value |\n",
    "|`sum()`\t| Sums the items of an iterable |"
   ]
  },
  {
   "cell_type": "markdown",
   "id": "dec40000",
   "metadata": {
    "papermill": {
     "duration": null,
     "end_time": null,
     "exception": null,
     "start_time": null,
     "status": "pending"
    },
    "tags": []
   },
   "source": [
    "<a class=\"anchor\" id=\"type_conversion\"></a>\n",
    "### Type Conversion\n",
    "\n",
    "| Function | Description |\n",
    "|:--|:--|\n",
    "|`ascii()` |\tReturns a string containing a printable representation of an object |\n",
    "|`bin()` |\tConverts an integer to a binary string |\n",
    "|`bool()` |\tConverts an argument to a Boolean value |\n",
    "|`chr()` |\tReturns string representation of character given by integer argument |\n",
    "|`complex()` |\tReturns a complex number constructed from arguments |\n",
    "|`float()` |\tReturns a floating-point object constructed from a number or string |\n",
    "|`hex()` |\tConverts an integer to a hexadecimal string |\n",
    "|`int()` |\tReturns an integer object constructed from a number or string |\n",
    "|`oct()` |\tConverts an integer to an octal string |\n",
    "|`ord()` |\tReturns integer representation of a character |\n",
    "|`repr()` |\tReturns a string containing a printable representation of an object |\n",
    "|`str()` |\tReturns a string version of an object |\n",
    "|`type()` |\tReturns the type of an object or creates a new type object |"
   ]
  },
  {
   "cell_type": "markdown",
   "id": "d95cf5ad",
   "metadata": {
    "papermill": {
     "duration": null,
     "end_time": null,
     "exception": null,
     "start_time": null,
     "status": "pending"
    },
    "tags": []
   },
   "source": [
    "<a class=\"anchor\" id=\"iterables_and_iterators\"></a>\n",
    "### Iterables and Iterators\n",
    "|Function | Description|\n",
    "|:--|:--|\n",
    "|`all()`| Returns True if all elements of an iterable are true|\n",
    "|`any()`| Returns True if any elements of an iterable are true|\n",
    "|`enumerate()`| Returns a list of tuples containing indices and values from an iterable|\n",
    "|`filter()`| Filters elements from an iterable|\n",
    "|`iter()`| Returns an iterator object|\n",
    "|`len()`| Returns the length of an object|\n",
    "|`map()`| Applies a function to every item of an iterable|\n",
    "|`next()`| Retrieves the next item from an iterator|\n",
    "|`range()`| Generates a range of integer values|\n",
    "|`reversed()`| Returns a reverse iterator|\n",
    "|`slice()`| Returns a slice object|\n",
    "|`sorted()`| Returns a sorted list from an iterable|\n",
    "|`zip()`| Creates an iterator that aggregates elements from iterables|"
   ]
  },
  {
   "cell_type": "markdown",
   "id": "b3a9a722",
   "metadata": {
    "papermill": {
     "duration": null,
     "end_time": null,
     "exception": null,
     "start_time": null,
     "status": "pending"
    },
    "tags": []
   },
   "source": [
    "<a class=\"anchor\" id=\"composite_data_type\"></a>\n",
    "### Composite Data Type\n",
    "|Function | Description|\n",
    "|:--|:--|\n",
    "| `bytearray()` | \tCreates and returns an object of the bytearray class |\n",
    "| `bytes()` | \tCreates and returns a bytes object (similar to bytearray, but immutable) |\n",
    "| `dict()` | \tCreates a dict object |\n",
    "| `frozenset()` | \tCreates a frozenset object |\n",
    "| `list()` | \tCreates a list object |\n",
    "| `object()` | \tCreates a new featureless object |\n",
    "| `set()` | \tCreates a set object |\n",
    "| `tuple()` | \tCreates a tuple object |"
   ]
  },
  {
   "cell_type": "markdown",
   "id": "453ab41d",
   "metadata": {
    "papermill": {
     "duration": null,
     "end_time": null,
     "exception": null,
     "start_time": null,
     "status": "pending"
    },
    "tags": []
   },
   "source": [
    "<a class=\"anchor\" id=\"classes,_attributes,_and_inheritance\"></a>\n",
    "### Classes, Attributes, and Inheritance\n",
    "|Function | Description|\n",
    "|:--|:--|\n",
    "| `classmethod()` |\tReturns a class method for a function |\n",
    "| `delattr()` |\tDeletes an attribute from an object |\n",
    "| `getattr()` |\tReturns the value of a named attribute of an object |\n",
    "| `hasattr()` |\tReturns True if an object has a given attribute |\n",
    "| `isinstance()` |\tDetermines whether an object is an instance of a given class |\n",
    "| `issubclass()` |\tDetermines whether a class is a subclass of a given class |\n",
    "| `property()` |\tReturns a property value of a class |\n",
    "| `setattr()` |\tSets the value of a named attribute of an object |\n",
    "| `super()` |\tReturns a proxy object that delegates method calls to a parent or sibling class |"
   ]
  },
  {
   "cell_type": "markdown",
   "id": "32cc5f60",
   "metadata": {
    "papermill": {
     "duration": null,
     "end_time": null,
     "exception": null,
     "start_time": null,
     "status": "pending"
    },
    "tags": []
   },
   "source": [
    "<a class=\"anchor\" id=\"input/output\"></a>\n",
    "### Input/Output\n",
    "|Function | Description|\n",
    "|:--|:--|\n",
    "|`format()` |\tConverts a value to a formatted representation |\n",
    "|`input()` |\tReads input from the console |\n",
    "|`open()` |\tOpens a file and returns a file object |\n",
    "|`print()` |\tPrints to a text stream or the console |"
   ]
  },
  {
   "cell_type": "markdown",
   "id": "949a813b",
   "metadata": {
    "papermill": {
     "duration": null,
     "end_time": null,
     "exception": null,
     "start_time": null,
     "status": "pending"
    },
    "tags": []
   },
   "source": [
    "<a class=\"anchor\" id=\"variables,_references,_and_scope\"></a>\n",
    "### Variables, References, and Scope\n",
    "|Function | Description|\n",
    "|:--|:--|\n",
    "|`dir()` | Returns a list of names in current local scope or a list of object attributes |\n",
    "|`globals()` | Returns a dictionary representing the current global symbol table |\n",
    "|`id()` | Returns the identity of an object |\n",
    "|`locals()` | Updates and returns a dictionary representing current local symbol table |\n",
    "|`vars()` | Returns __dict__ attribute for a module, class, or object |"
   ]
  },
  {
   "cell_type": "markdown",
   "id": "c6c8f8b3",
   "metadata": {
    "papermill": {
     "duration": null,
     "end_time": null,
     "exception": null,
     "start_time": null,
     "status": "pending"
    },
    "tags": []
   },
   "source": [
    "<a class=\"anchor\" id=\"miscellaneous\"></a>\n",
    "### Miscellaneous\n",
    "|Function | Description|\n",
    "|:--|:--|\n",
    "|`callable()` | Returns True if object appears callable |\n",
    "|`compile()` | Compiles source into a code or AST object |\n",
    "|`eval()` | Evaluates a Python expression |\n",
    "|`exec()` | Implements dynamic execution of Python code |\n",
    "|`hash()` | Returns the hash value of an object |\n",
    "|`help()` | Invokes the built-in help system |\n",
    "|`memoryview()` | Returns a memory view object |\n",
    "|`staticmethod()` | Returns a static method for a function |\n",
    "|`__import__()` | Invoked by the import statement |"
   ]
  },
  {
   "cell_type": "markdown",
   "id": "5472af65",
   "metadata": {
    "papermill": {
     "duration": null,
     "end_time": null,
     "exception": null,
     "start_time": null,
     "status": "pending"
    },
    "tags": []
   },
   "source": [
    "<a class=\"anchor\" id=\"conclusion\"></a>\n",
    "##  Conclusion \n",
    "In this section, you learned about the built-in data types and functions Python provides.\n",
    "\n",
    "The examples given so far have all manipulated and displayed only constant values. In most programs, you are usually going to want to create objects that change in value as the program executes.\n",
    "\n",
    "Head to the next section to learn about Python variables."
   ]
  }
 ],
 "metadata": {
  "kernelspec": {
   "display_name": "Python 3",
   "language": "python",
   "name": "python3"
  },
  "language_info": {
   "codemirror_mode": {
    "name": "ipython",
    "version": 3
   },
   "file_extension": ".py",
   "mimetype": "text/x-python",
   "name": "python",
   "nbconvert_exporter": "python",
   "pygments_lexer": "ipython3",
   "version": "3.10.12"
  },
  "papermill": {
   "default_parameters": {},
   "duration": 5.44579,
   "end_time": "2023-10-15T10:48:14.426901",
   "environment_variables": {},
   "exception": true,
   "input_path": "__notebook__.ipynb",
   "output_path": "__notebook__.ipynb",
   "parameters": {},
   "start_time": "2023-10-15T10:48:08.981111",
   "version": "2.4.0"
  }
 },
 "nbformat": 4,
 "nbformat_minor": 5
}
