{
 "cells": [
  {
   "cell_type": "markdown",
   "id": "0dfc1881",
   "metadata": {
    "papermill": {
     "duration": 0.035348,
     "end_time": "2023-10-15T08:54:48.066971",
     "exception": false,
     "start_time": "2023-10-15T08:54:48.031623",
     "status": "completed"
    },
    "tags": []
   },
   "source": []
  },
  {
   "cell_type": "markdown",
   "id": "965c0e6a",
   "metadata": {
    "papermill": {
     "duration": 0.036608,
     "end_time": "2023-10-15T08:54:48.203552",
     "exception": false,
     "start_time": "2023-10-15T08:54:48.166944",
     "status": "completed"
    },
    "tags": []
   },
   "source": [
    " Newer Python String Format Techniques \n"
   ]
  },
  {
   "cell_type": "code",
   "execution_count": null,
   "id": "df7b4b3c",
   "metadata": {
    "papermill": {
     "duration": 0.037438,
     "end_time": "2023-10-15T08:54:48.278714",
     "exception": false,
     "start_time": "2023-10-15T08:54:48.241276",
     "status": "completed"
    },
    "tags": []
   },
   "outputs": [],
   "source": []
  },
  {
   "cell_type": "markdown",
   "id": "f8ab41ab",
   "metadata": {
    "papermill": {
     "duration": 0.034789,
     "end_time": "2023-10-15T08:54:48.348803",
     "exception": false,
     "start_time": "2023-10-15T08:54:48.314014",
     "status": "completed"
    },
    "tags": []
   },
   "source": [
    " Table of Contents \n",
    "* [The Python String `.format()` Method](#the_python_string_`.format()`_method)\n",
    "* [The String `.format()` Method: Arguments](#the_string_`.format()`_method:_arguments)\n",
    "    * [Positional Arguments](#positional_arguments)\n",
    "    * [Keyword Arguments](#keyword_arguments)\n",
    "* [The String `.format()` Method: Simple Replacement Fields](#the_string_`.format()`_method:_simple_replacement_fields)\n",
    "    * [The `<name>` Component](#the_`<name>`_component)\n",
    "    * [The `<conversion>` Component](#the_`<conversion>`_component)\n",
    "    * [The `<format_spec>` Component](#the_`<format_spec>`_component)\n",
    "        * [The `<type>` Subcomponent](#the_`<type>`_subcomponent)\n",
    "        * [The `<fill>` and `<align>` Subcomponents](#the_`<fill>`_and_`<align>`_subcomponents)\n",
    "        * [The `<sign>` Subcomponent](#the_`<sign>`_subcomponent)\n",
    "        * [The `#`` Subcomponent](#the_`#``_subcomponent)\n",
    "        * [The `0 `Subcomponent](#the_`0_`subcomponent)\n",
    "        * [The `<width>` Subcomponent](#the_`<width>`_subcomponent)\n",
    "        * [The `<group>` Subcomponent](#the_`<group>`_subcomponent)\n",
    "        * [The `.<prec>` Subcomponent](#the_`.<prec>`_subcomponent)\n",
    "* [The Python Formatted String Literal (f-String)](#the_python_formatted_string_literal_(f-string))\n",
    "    * [Why `str.format()` Isn’t Great](#why_`str.format()`_isn’t_great)\n",
    "    * [f-String Syntax](#f-string_syntax)\n",
    "    * [f-String Expression Limitations](#f-string_expression_limitations)\n",
    "    * [f-String Formatting](#f-string_formatting)\n",
    "* [Python f-string benchmarks](#python_f-string_benchmarks)\n",
    "* [Conclusion](#conclusion)\n",
    "* [Further Reading](#further_reading)\n",
    "\n",
    "---"
   ]
  },
  {
   "cell_type": "markdown",
   "id": "a9efccd8",
   "metadata": {
    "papermill": {
     "duration": 0.035056,
     "end_time": "2023-10-15T08:54:48.418829",
     "exception": false,
     "start_time": "2023-10-15T08:54:48.383773",
     "status": "completed"
    },
    "tags": []
   },
   "source": [
    "The **string modulo operator** is useful, and it’s good for you to be familiar with it because you’re likely to encounter it in older Python code. However, there are two newer ways that you can use Python to format strings that are arguably more preferable."
   ]
  },
  {
   "cell_type": "markdown",
   "id": "dbd1bae8",
   "metadata": {
    "papermill": {
     "duration": 0.034467,
     "end_time": "2023-10-15T08:54:48.488257",
     "exception": false,
     "start_time": "2023-10-15T08:54:48.453790",
     "status": "completed"
    },
    "tags": []
   },
   "source": [
    "In this section, you’ll learn about:\n",
    "\n",
    "- The **string `.format()` method**\n",
    "- The **formatted string literal**, or **f-string**"
   ]
  },
  {
   "cell_type": "markdown",
   "id": "0a143b05",
   "metadata": {
    "papermill": {
     "duration": 0.034548,
     "end_time": "2023-10-15T08:54:48.558426",
     "exception": false,
     "start_time": "2023-10-15T08:54:48.523878",
     "status": "completed"
    },
    "tags": []
   },
   "source": [
    "You’ll learn about these formatting techniques in detail and add them to your Python string formatting toolkit. Note that there’s a standard module called string containing a class called `Template`, which provides some `string` formatting through interpolation. The string modulo operator provides more or less the same functionality, so you won’t cover `string.Template` here."
   ]
  },
  {
   "cell_type": "markdown",
   "id": "d71b41f6",
   "metadata": {
    "papermill": {
     "duration": 0.034869,
     "end_time": "2023-10-15T08:54:48.628545",
     "exception": false,
     "start_time": "2023-10-15T08:54:48.593676",
     "status": "completed"
    },
    "tags": []
   },
   "source": [
    "<a class=\"anchor\" id=\"the_python_string_`.format()`_method\"></a>\n",
    "## The Python String `.format()` Method\n",
    "The Python string `.format()` method was introduced in version 2.6. It’s similar in many ways to the string modulo operator, but `.format()` goes well beyond in versatility. The general form of a Python `.format()` call is shown below:\n",
    "\n",
    "```python\n",
    "<template>.format(<positional_argument(s)>, <keyword_argument(s)>)\n",
    "```"
   ]
  },
  {
   "cell_type": "markdown",
   "id": "6b1a345d",
   "metadata": {
    "papermill": {
     "duration": 0.03721,
     "end_time": "2023-10-15T08:54:48.700978",
     "exception": false,
     "start_time": "2023-10-15T08:54:48.663768",
     "status": "completed"
    },
    "tags": []
   },
   "source": [
    "Note that this is a method, not an operator (You will learn methods in details in OOP, for now just know that you call methods on objects). You call the method on `<template>`, which is a string containing replacement fields. The `<positional_arguments>` and `<keyword_arguments>` to the method specify values that are inserted into `<template>` in place of the replacement fields. The resulting formatted string is the method’s return value."
   ]
  },
  {
   "cell_type": "markdown",
   "id": "99f8cdc5",
   "metadata": {
    "papermill": {
     "duration": 0.035723,
     "end_time": "2023-10-15T08:54:48.772257",
     "exception": false,
     "start_time": "2023-10-15T08:54:48.736534",
     "status": "completed"
    },
    "tags": []
   },
   "source": [
    "In the `<template>` string, replacement fields are enclosed in curly braces (`{}`). Anything not contained in curly braces is literal text that’s copied directly from the template to the output. If you need to include a literal curly bracket character, like `{` or `}`, in the template string, then you can escape this character by doubling it:"
   ]
  },
  {
   "cell_type": "code",
   "execution_count": 1,
   "id": "ce48c658",
   "metadata": {
    "execution": {
     "iopub.execute_input": "2023-10-15T08:54:48.845116Z",
     "iopub.status.busy": "2023-10-15T08:54:48.844742Z",
     "iopub.status.idle": "2023-10-15T08:54:48.855025Z",
     "shell.execute_reply": "2023-10-15T08:54:48.854351Z"
    },
    "papermill": {
     "duration": 0.049471,
     "end_time": "2023-10-15T08:54:48.856840",
     "exception": false,
     "start_time": "2023-10-15T08:54:48.807369",
     "status": "completed"
    },
    "tags": []
   },
   "outputs": [
    {
     "data": {
      "text/plain": [
       "'{ foo }'"
      ]
     },
     "execution_count": 1,
     "metadata": {},
     "output_type": "execute_result"
    }
   ],
   "source": [
    "'{{ {0} }}'.format('foo')"
   ]
  },
  {
   "cell_type": "markdown",
   "id": "291fd215",
   "metadata": {
    "papermill": {
     "duration": 0.036627,
     "end_time": "2023-10-15T08:54:48.929227",
     "exception": false,
     "start_time": "2023-10-15T08:54:48.892600",
     "status": "completed"
    },
    "tags": []
   },
   "source": [
    "Now the curly braces are included in your output."
   ]
  },
  {
   "cell_type": "markdown",
   "id": "e0bbf039",
   "metadata": {
    "papermill": {
     "duration": 0.034978,
     "end_time": "2023-10-15T08:54:49.000998",
     "exception": false,
     "start_time": "2023-10-15T08:54:48.966020",
     "status": "completed"
    },
    "tags": []
   },
   "source": [
    "<a class=\"anchor\" id=\"the_string_`.format()`_method:_arguments\"></a>\n",
    "## The String `.format()` Method: Arguments"
   ]
  },
  {
   "cell_type": "markdown",
   "id": "953faeee",
   "metadata": {
    "papermill": {
     "duration": 0.035247,
     "end_time": "2023-10-15T08:54:49.071788",
     "exception": false,
     "start_time": "2023-10-15T08:54:49.036541",
     "status": "completed"
    },
    "tags": []
   },
   "source": [
    "Let’s start with a quick example to get you acquainted before you dive into more detail on how to use this method in Python to format strings."
   ]
  },
  {
   "cell_type": "markdown",
   "id": "50001c39",
   "metadata": {
    "papermill": {
     "duration": 0.03492,
     "end_time": "2023-10-15T08:54:49.142479",
     "exception": false,
     "start_time": "2023-10-15T08:54:49.107559",
     "status": "completed"
    },
    "tags": []
   },
   "source": [
    "Here’s an example from on how to use the string modulo operator (You don't have to learn it):"
   ]
  },
  {
   "cell_type": "code",
   "execution_count": 2,
   "id": "11defca9",
   "metadata": {
    "execution": {
     "iopub.execute_input": "2023-10-15T08:54:49.217322Z",
     "iopub.status.busy": "2023-10-15T08:54:49.216980Z",
     "iopub.status.idle": "2023-10-15T08:54:49.222025Z",
     "shell.execute_reply": "2023-10-15T08:54:49.220962Z"
    },
    "papermill": {
     "duration": 0.045454,
     "end_time": "2023-10-15T08:54:49.224033",
     "exception": false,
     "start_time": "2023-10-15T08:54:49.178579",
     "status": "completed"
    },
    "tags": []
   },
   "outputs": [
    {
     "name": "stdout",
     "output_type": "stream",
     "text": [
      "6 bananas cost $1.74\n"
     ]
    }
   ],
   "source": [
    "print('%d %s cost $%.2f' % (6, 'bananas', 1.74)) "
   ]
  },
  {
   "cell_type": "markdown",
   "id": "3d4ca225",
   "metadata": {
    "papermill": {
     "duration": 0.036451,
     "end_time": "2023-10-15T08:54:49.296344",
     "exception": false,
     "start_time": "2023-10-15T08:54:49.259893",
     "status": "completed"
    },
    "tags": []
   },
   "source": [
    "Here, you used the string modulo operator in Python to format the string. Now, you can use Python’s string `.format()` method to obtain the same result, like this:"
   ]
  },
  {
   "cell_type": "code",
   "execution_count": 3,
   "id": "8e3fe9d6",
   "metadata": {
    "execution": {
     "iopub.execute_input": "2023-10-15T08:54:49.369446Z",
     "iopub.status.busy": "2023-10-15T08:54:49.368543Z",
     "iopub.status.idle": "2023-10-15T08:54:49.374761Z",
     "shell.execute_reply": "2023-10-15T08:54:49.373696Z"
    },
    "papermill": {
     "duration": 0.044821,
     "end_time": "2023-10-15T08:54:49.376710",
     "exception": false,
     "start_time": "2023-10-15T08:54:49.331889",
     "status": "completed"
    },
    "tags": []
   },
   "outputs": [
    {
     "name": "stdout",
     "output_type": "stream",
     "text": [
      "6 bananas cost $1.74\n"
     ]
    }
   ],
   "source": [
    "print('{0} {1} cost ${2}'.format(6, 'bananas', 1.74))"
   ]
  },
  {
   "cell_type": "markdown",
   "id": "2f176302",
   "metadata": {
    "papermill": {
     "duration": 0.03542,
     "end_time": "2023-10-15T08:54:49.449726",
     "exception": false,
     "start_time": "2023-10-15T08:54:49.414306",
     "status": "completed"
    },
    "tags": []
   },
   "source": [
    "In this example, `<template>` is the string `'{0} {1} cost ${2}'`. The replacement fields are `{0}`, `{1}`, and `{2}`, which contain numbers that correspond to the zero-based positional arguments `6`, `'bananas'`, and `1.74`. Each positional argument is inserted into the template in place of its corresponding replacement field:"
   ]
  },
  {
   "cell_type": "markdown",
   "id": "0319158a",
   "metadata": {
    "papermill": {
     "duration": 0.035605,
     "end_time": "2023-10-15T08:54:49.521056",
     "exception": false,
     "start_time": "2023-10-15T08:54:49.485451",
     "status": "completed"
    },
    "tags": []
   },
   "source": []
  },
  {
   "cell_type": "markdown",
   "id": "f558241d",
   "metadata": {
    "papermill": {
     "duration": 0.036322,
     "end_time": "2023-10-15T08:54:49.593468",
     "exception": false,
     "start_time": "2023-10-15T08:54:49.557146",
     "status": "completed"
    },
    "tags": []
   },
   "source": [
    "The next example uses **keyword arguments** (you will learn about keyword and positional arguments in the section on defining your own functions) instead of positional parameters to produce the same result:"
   ]
  },
  {
   "cell_type": "code",
   "execution_count": 4,
   "id": "c40607d1",
   "metadata": {
    "execution": {
     "iopub.execute_input": "2023-10-15T08:54:49.668186Z",
     "iopub.status.busy": "2023-10-15T08:54:49.667764Z",
     "iopub.status.idle": "2023-10-15T08:54:49.673956Z",
     "shell.execute_reply": "2023-10-15T08:54:49.672963Z"
    },
    "papermill": {
     "duration": 0.045294,
     "end_time": "2023-10-15T08:54:49.675891",
     "exception": false,
     "start_time": "2023-10-15T08:54:49.630597",
     "status": "completed"
    },
    "tags": []
   },
   "outputs": [
    {
     "data": {
      "text/plain": [
       "'my name is ali and my friend name is Parsa'"
      ]
     },
     "execution_count": 4,
     "metadata": {},
     "output_type": "execute_result"
    }
   ],
   "source": [
    "\"my name is {my_name} and my friend name is {friend_name}\".format(friend_name='Parsa', my_name='ali')"
   ]
  },
  {
   "cell_type": "code",
   "execution_count": 5,
   "id": "21e41da0",
   "metadata": {
    "execution": {
     "iopub.execute_input": "2023-10-15T08:54:49.751855Z",
     "iopub.status.busy": "2023-10-15T08:54:49.751491Z",
     "iopub.status.idle": "2023-10-15T08:54:49.755987Z",
     "shell.execute_reply": "2023-10-15T08:54:49.755357Z"
    },
    "papermill": {
     "duration": 0.043445,
     "end_time": "2023-10-15T08:54:49.757627",
     "exception": false,
     "start_time": "2023-10-15T08:54:49.714182",
     "status": "completed"
    },
    "tags": []
   },
   "outputs": [
    {
     "name": "stdout",
     "output_type": "stream",
     "text": [
      "6 bananas cost $1.74\n"
     ]
    }
   ],
   "source": [
    "print(\n",
    "    '{quantity} {item} cost ${price}'.format(\n",
    "        quantity=6,\n",
    "        item='bananas',\n",
    "        price=1.74\n",
    "    )\n",
    ")"
   ]
  },
  {
   "cell_type": "markdown",
   "id": "1721bc36",
   "metadata": {
    "papermill": {
     "duration": 0.036057,
     "end_time": "2023-10-15T08:54:49.829610",
     "exception": false,
     "start_time": "2023-10-15T08:54:49.793553",
     "status": "completed"
    },
    "tags": []
   },
   "source": [
    "In this case, the replacement fields are `{quantity}`, `{item}`, and `{price}`. These fields specify keywords that correspond to the keyword arguments `quantity=6`, `item='bananas'`, and `price=1.74`. Each keyword value is inserted into the template in place of its corresponding replacement field:"
   ]
  },
  {
   "cell_type": "markdown",
   "id": "ff03fd67",
   "metadata": {
    "papermill": {
     "duration": 0.03623,
     "end_time": "2023-10-15T08:54:49.902095",
     "exception": false,
     "start_time": "2023-10-15T08:54:49.865865",
     "status": "completed"
    },
    "tags": []
   },
   "source": []
  },
  {
   "cell_type": "markdown",
   "id": "b4e117a6",
   "metadata": {
    "papermill": {
     "duration": 0.036003,
     "end_time": "2023-10-15T08:54:49.975430",
     "exception": false,
     "start_time": "2023-10-15T08:54:49.939427",
     "status": "completed"
    },
    "tags": []
   },
   "source": [
    "You’ll learn more about positional and keywords arguments there in the next section in this introductory series, which explores functions and argument passing. For now, the two sections that follow will show you how these are used with the Python ‍‍`.format()` method."
   ]
  },
  {
   "cell_type": "markdown",
   "id": "4753c9b6",
   "metadata": {
    "papermill": {
     "duration": 0.035928,
     "end_time": "2023-10-15T08:54:50.047690",
     "exception": false,
     "start_time": "2023-10-15T08:54:50.011762",
     "status": "completed"
    },
    "tags": []
   },
   "source": [
    "<a class=\"anchor\" id=\"positional_arguments\"></a>\n",
    "### Positional Arguments"
   ]
  },
  {
   "cell_type": "markdown",
   "id": "34513f45",
   "metadata": {
    "papermill": {
     "duration": 0.036151,
     "end_time": "2023-10-15T08:54:50.121074",
     "exception": false,
     "start_time": "2023-10-15T08:54:50.084923",
     "status": "completed"
    },
    "tags": []
   },
   "source": [
    "Positional arguments are inserted into the template in place of **numbered replacement fields**. Like list indexing, the numbering of replacement fields is zero-based. The first positional argument is numbered `0`, the second is numbered `1`, and so on:"
   ]
  },
  {
   "cell_type": "code",
   "execution_count": 6,
   "id": "426c7579",
   "metadata": {
    "execution": {
     "iopub.execute_input": "2023-10-15T08:54:50.195653Z",
     "iopub.status.busy": "2023-10-15T08:54:50.195292Z",
     "iopub.status.idle": "2023-10-15T08:54:50.201603Z",
     "shell.execute_reply": "2023-10-15T08:54:50.200737Z"
    },
    "papermill": {
     "duration": 0.04609,
     "end_time": "2023-10-15T08:54:50.203504",
     "exception": false,
     "start_time": "2023-10-15T08:54:50.157414",
     "status": "completed"
    },
    "tags": []
   },
   "outputs": [
    {
     "data": {
      "text/plain": [
       "'foo/bar/baz'"
      ]
     },
     "execution_count": 6,
     "metadata": {},
     "output_type": "execute_result"
    }
   ],
   "source": [
    "'{0}/{1}/{2}'.format('foo', 'bar', 'baz')"
   ]
  },
  {
   "cell_type": "markdown",
   "id": "ceade08b",
   "metadata": {
    "papermill": {
     "duration": 0.036041,
     "end_time": "2023-10-15T08:54:50.276288",
     "exception": false,
     "start_time": "2023-10-15T08:54:50.240247",
     "status": "completed"
    },
    "tags": []
   },
   "source": [
    "Note that replacement fields don’t have to appear in the template in numerical order. They can be specified in any order, and they can appear more than once:"
   ]
  },
  {
   "cell_type": "code",
   "execution_count": 7,
   "id": "fd030b6a",
   "metadata": {
    "execution": {
     "iopub.execute_input": "2023-10-15T08:54:50.351127Z",
     "iopub.status.busy": "2023-10-15T08:54:50.350393Z",
     "iopub.status.idle": "2023-10-15T08:54:50.357363Z",
     "shell.execute_reply": "2023-10-15T08:54:50.356205Z"
    },
    "papermill": {
     "duration": 0.046778,
     "end_time": "2023-10-15T08:54:50.359564",
     "exception": false,
     "start_time": "2023-10-15T08:54:50.312786",
     "status": "completed"
    },
    "tags": []
   },
   "outputs": [
    {
     "data": {
      "text/plain": [
       "'baz.bar.foo/foofoo.barbar.bazbaz'"
      ]
     },
     "execution_count": 7,
     "metadata": {},
     "output_type": "execute_result"
    }
   ],
   "source": [
    "'{2}.{1}.{0}/{0}{0}.{1}{1}.{2}{2}'.format('foo', 'bar', 'baz')"
   ]
  },
  {
   "cell_type": "markdown",
   "id": "0b8a1afb",
   "metadata": {
    "papermill": {
     "duration": 0.035977,
     "end_time": "2023-10-15T08:54:50.432692",
     "exception": false,
     "start_time": "2023-10-15T08:54:50.396715",
     "status": "completed"
    },
    "tags": []
   },
   "source": [
    "When you specify a replacement field number that’s out of range, you’ll get an error. In the following example, the positional arguments are numbered `0`, `1`, and `2`, but you specify `{3}` in the template:"
   ]
  },
  {
   "cell_type": "code",
   "execution_count": 8,
   "id": "f037d356",
   "metadata": {
    "execution": {
     "iopub.execute_input": "2023-10-15T08:54:50.506705Z",
     "iopub.status.busy": "2023-10-15T08:54:50.506377Z",
     "iopub.status.idle": "2023-10-15T08:54:50.763789Z",
     "shell.execute_reply": "2023-10-15T08:54:50.762771Z"
    },
    "papermill": {
     "duration": 0.296566,
     "end_time": "2023-10-15T08:54:50.765409",
     "exception": true,
     "start_time": "2023-10-15T08:54:50.468843",
     "status": "failed"
    },
    "tags": []
   },
   "outputs": [
    {
     "ename": "IndexError",
     "evalue": "Replacement index 3 out of range for positional args tuple",
     "output_type": "error",
     "traceback": [
      "\u001b[0;31m---------------------------------------------------------------------------\u001b[0m",
      "\u001b[0;31mIndexError\u001b[0m                                Traceback (most recent call last)",
      "Cell \u001b[0;32mIn[8], line 1\u001b[0m\n\u001b[0;32m----> 1\u001b[0m \u001b[38;5;124;43m'\u001b[39;49m\u001b[38;5;132;43;01m{3}\u001b[39;49;00m\u001b[38;5;124;43m'\u001b[39;49m\u001b[38;5;241;43m.\u001b[39;49m\u001b[43mformat\u001b[49m\u001b[43m(\u001b[49m\u001b[38;5;124;43m'\u001b[39;49m\u001b[38;5;124;43mfoo\u001b[39;49m\u001b[38;5;124;43m'\u001b[39;49m\u001b[43m,\u001b[49m\u001b[43m \u001b[49m\u001b[38;5;124;43m'\u001b[39;49m\u001b[38;5;124;43mbar\u001b[39;49m\u001b[38;5;124;43m'\u001b[39;49m\u001b[43m,\u001b[49m\u001b[43m \u001b[49m\u001b[38;5;124;43m'\u001b[39;49m\u001b[38;5;124;43mbaz\u001b[39;49m\u001b[38;5;124;43m'\u001b[39;49m\u001b[43m)\u001b[49m\n",
      "\u001b[0;31mIndexError\u001b[0m: Replacement index 3 out of range for positional args tuple"
     ]
    }
   ],
   "source": [
    "'{3}'.format('foo', 'bar', 'baz')"
   ]
  },
  {
   "cell_type": "markdown",
   "id": "8512d0f3",
   "metadata": {
    "papermill": {
     "duration": null,
     "end_time": null,
     "exception": null,
     "start_time": null,
     "status": "pending"
    },
    "tags": []
   },
   "source": [
    "This raises an `IndexError` exception (There will be a dedicated section on Exceptions in python)."
   ]
  },
  {
   "cell_type": "markdown",
   "id": "ac0183d9",
   "metadata": {
    "papermill": {
     "duration": null,
     "end_time": null,
     "exception": null,
     "start_time": null,
     "status": "pending"
    },
    "tags": []
   },
   "source": [
    "Starting with Python 3.1, you can omit the numbers in the replacement fields, in which case the interpreter assumes sequential order. This is referred to as **automatic field numbering**:"
   ]
  },
  {
   "cell_type": "code",
   "execution_count": null,
   "id": "4500c6c5",
   "metadata": {
    "papermill": {
     "duration": null,
     "end_time": null,
     "exception": null,
     "start_time": null,
     "status": "pending"
    },
    "tags": []
   },
   "outputs": [],
   "source": [
    "'{}/{}/{}'.format('foo', 'bar', 'baz')"
   ]
  },
  {
   "cell_type": "markdown",
   "id": "f824ae42",
   "metadata": {
    "papermill": {
     "duration": null,
     "end_time": null,
     "exception": null,
     "start_time": null,
     "status": "pending"
    },
    "tags": []
   },
   "source": [
    "When you specify automatic field numbering, you must provide at least as many arguments as there are replacement fields:"
   ]
  },
  {
   "cell_type": "code",
   "execution_count": null,
   "id": "d04df73b",
   "metadata": {
    "papermill": {
     "duration": null,
     "end_time": null,
     "exception": null,
     "start_time": null,
     "status": "pending"
    },
    "tags": []
   },
   "outputs": [],
   "source": [
    "'{}{}{}{}'.format('foo','bar','baz')"
   ]
  },
  {
   "cell_type": "markdown",
   "id": "dc850c4f",
   "metadata": {
    "papermill": {
     "duration": null,
     "end_time": null,
     "exception": null,
     "start_time": null,
     "status": "pending"
    },
    "tags": []
   },
   "source": [
    "In this case, there are four replacement fields in the template but only three arguments, so an `IndexError` exception occurs. On the other hand, it’s fine if the arguments outnumber the replacement fields. The excess arguments simply aren’t used:"
   ]
  },
  {
   "cell_type": "code",
   "execution_count": null,
   "id": "e40ea844",
   "metadata": {
    "papermill": {
     "duration": null,
     "end_time": null,
     "exception": null,
     "start_time": null,
     "status": "pending"
    },
    "tags": []
   },
   "outputs": [],
   "source": [
    "'{}{}'.format('foo', 'bar', 'baz')"
   ]
  },
  {
   "cell_type": "markdown",
   "id": "7d0a5f94",
   "metadata": {
    "papermill": {
     "duration": null,
     "end_time": null,
     "exception": null,
     "start_time": null,
     "status": "pending"
    },
    "tags": []
   },
   "source": [
    "Here, the argument 'baz' is ignored."
   ]
  },
  {
   "cell_type": "markdown",
   "id": "91d73d94",
   "metadata": {
    "papermill": {
     "duration": null,
     "end_time": null,
     "exception": null,
     "start_time": null,
     "status": "pending"
    },
    "tags": []
   },
   "source": [
    "Note that you can’t intermingle these two techniques:"
   ]
  },
  {
   "cell_type": "code",
   "execution_count": null,
   "id": "b8f5c959",
   "metadata": {
    "papermill": {
     "duration": null,
     "end_time": null,
     "exception": null,
     "start_time": null,
     "status": "pending"
    },
    "tags": []
   },
   "outputs": [],
   "source": [
    "'{1}{}{0}'.format('foo','bar','baz')"
   ]
  },
  {
   "cell_type": "markdown",
   "id": "2df13c6c",
   "metadata": {
    "papermill": {
     "duration": null,
     "end_time": null,
     "exception": null,
     "start_time": null,
     "status": "pending"
    },
    "tags": []
   },
   "source": [
    "When you use Python to format strings with positional arguments, you must choose between either automatic or explicit replacement field numbering."
   ]
  },
  {
   "cell_type": "markdown",
   "id": "1e9c73f1",
   "metadata": {
    "papermill": {
     "duration": null,
     "end_time": null,
     "exception": null,
     "start_time": null,
     "status": "pending"
    },
    "tags": []
   },
   "source": [
    "<a class=\"anchor\" id=\"keyword_arguments\"></a>\n",
    "### Keyword Arguments"
   ]
  },
  {
   "cell_type": "markdown",
   "id": "1efb9c57",
   "metadata": {
    "papermill": {
     "duration": null,
     "end_time": null,
     "exception": null,
     "start_time": null,
     "status": "pending"
    },
    "tags": []
   },
   "source": [
    "Keyword arguments are inserted into the template string in place of **keyword replacement fields with the same name**:"
   ]
  },
  {
   "cell_type": "code",
   "execution_count": null,
   "id": "c785afda",
   "metadata": {
    "papermill": {
     "duration": null,
     "end_time": null,
     "exception": null,
     "start_time": null,
     "status": "pending"
    },
    "tags": []
   },
   "outputs": [],
   "source": [
    "'{x}/{y}/{z}'.format(x='foo', y='bar', z='baz')"
   ]
  },
  {
   "cell_type": "markdown",
   "id": "e9002419",
   "metadata": {
    "papermill": {
     "duration": null,
     "end_time": null,
     "exception": null,
     "start_time": null,
     "status": "pending"
    },
    "tags": []
   },
   "source": [
    "In this example, the values of the keyword arguments ‍`x‍‍`, `y`, and `z` take the place of the replacement fields `{x}`, `{y}`, and `{z}`, respectively."
   ]
  },
  {
   "cell_type": "markdown",
   "id": "46b80207",
   "metadata": {
    "papermill": {
     "duration": null,
     "end_time": null,
     "exception": null,
     "start_time": null,
     "status": "pending"
    },
    "tags": []
   },
   "source": [
    "If you refer to a keyword argument that’s missing, then you’ll see an error:"
   ]
  },
  {
   "cell_type": "code",
   "execution_count": null,
   "id": "0166d733",
   "metadata": {
    "papermill": {
     "duration": null,
     "end_time": null,
     "exception": null,
     "start_time": null,
     "status": "pending"
    },
    "tags": []
   },
   "outputs": [],
   "source": [
    "'{x}/{y}/{w}'.format(x='foo', y='bar', z='baz')"
   ]
  },
  {
   "cell_type": "markdown",
   "id": "7938ac6e",
   "metadata": {
    "papermill": {
     "duration": null,
     "end_time": null,
     "exception": null,
     "start_time": null,
     "status": "pending"
    },
    "tags": []
   },
   "source": [
    "Here, you specify replacement field `{w}`, but there’s no corresponding keyword argument named `w`. Python raises a `KeyError` exception."
   ]
  },
  {
   "cell_type": "markdown",
   "id": "f3d8009c",
   "metadata": {
    "papermill": {
     "duration": null,
     "end_time": null,
     "exception": null,
     "start_time": null,
     "status": "pending"
    },
    "tags": []
   },
   "source": [
    "While you have to specify positional arguments in sequential order, but you can specify keyword arguments in any arbitrary order:"
   ]
  },
  {
   "cell_type": "code",
   "execution_count": null,
   "id": "65861840",
   "metadata": {
    "papermill": {
     "duration": null,
     "end_time": null,
     "exception": null,
     "start_time": null,
     "status": "pending"
    },
    "tags": []
   },
   "outputs": [],
   "source": [
    "'{0}/{1}/{2}'.format('foo', 'bar', 'baz')"
   ]
  },
  {
   "cell_type": "code",
   "execution_count": null,
   "id": "44fdc346",
   "metadata": {
    "papermill": {
     "duration": null,
     "end_time": null,
     "exception": null,
     "start_time": null,
     "status": "pending"
    },
    "tags": []
   },
   "outputs": [],
   "source": [
    "'{0}/{1}/{2}'.format('bar', 'baz', 'foo')"
   ]
  },
  {
   "cell_type": "code",
   "execution_count": null,
   "id": "828ee884",
   "metadata": {
    "papermill": {
     "duration": null,
     "end_time": null,
     "exception": null,
     "start_time": null,
     "status": "pending"
    },
    "tags": []
   },
   "outputs": [],
   "source": [
    "'{x}/{y}/{z}'.format(x='foo', y='bar', z='baz')"
   ]
  },
  {
   "cell_type": "code",
   "execution_count": null,
   "id": "799b507a",
   "metadata": {
    "papermill": {
     "duration": null,
     "end_time": null,
     "exception": null,
     "start_time": null,
     "status": "pending"
    },
    "tags": []
   },
   "outputs": [],
   "source": [
    "'{x}/{y}/{z}'.format(y='bar', z='baz', x='foo')"
   ]
  },
  {
   "cell_type": "markdown",
   "id": "321cb32c",
   "metadata": {
    "papermill": {
     "duration": null,
     "end_time": null,
     "exception": null,
     "start_time": null,
     "status": "pending"
    },
    "tags": []
   },
   "source": [
    "You can specify both positional and keyword arguments in one Python `.format()` call. Just note that, if you do so, then all the **positional arguments must appear before any of the keyword arguments**:"
   ]
  },
  {
   "cell_type": "code",
   "execution_count": null,
   "id": "6e578330",
   "metadata": {
    "papermill": {
     "duration": null,
     "end_time": null,
     "exception": null,
     "start_time": null,
     "status": "pending"
    },
    "tags": []
   },
   "outputs": [],
   "source": [
    "'{0}{x}{1}'.format('foo', 'bar', x='baz')"
   ]
  },
  {
   "cell_type": "code",
   "execution_count": null,
   "id": "444a57a1",
   "metadata": {
    "papermill": {
     "duration": null,
     "end_time": null,
     "exception": null,
     "start_time": null,
     "status": "pending"
    },
    "tags": []
   },
   "outputs": [],
   "source": [
    "'{0}{x}{1}'.format('foo', x='baz', 'bar')"
   ]
  },
  {
   "cell_type": "markdown",
   "id": "428e45fd",
   "metadata": {
    "papermill": {
     "duration": null,
     "end_time": null,
     "exception": null,
     "start_time": null,
     "status": "pending"
    },
    "tags": []
   },
   "source": [
    "In fact, the requirement that all positional arguments appear before any keyword arguments doesn’t apply only to Python format methods. This is generally true of any function or method call. You’ll learn more about this in the next section in this series, which explores functions and function calls."
   ]
  },
  {
   "cell_type": "markdown",
   "id": "89e50908",
   "metadata": {
    "papermill": {
     "duration": null,
     "end_time": null,
     "exception": null,
     "start_time": null,
     "status": "pending"
    },
    "tags": []
   },
   "source": [
    "In all the examples shown so far, the values you passed to the Python `.format()` method have been literal values, but you may specify variables as well:"
   ]
  },
  {
   "cell_type": "code",
   "execution_count": null,
   "id": "608e209a",
   "metadata": {
    "papermill": {
     "duration": null,
     "end_time": null,
     "exception": null,
     "start_time": null,
     "status": "pending"
    },
    "tags": []
   },
   "outputs": [],
   "source": [
    "x = 'foo'\n",
    "y = 'bar'\n",
    "z = 'baz'"
   ]
  },
  {
   "cell_type": "code",
   "execution_count": null,
   "id": "88ae175e",
   "metadata": {
    "papermill": {
     "duration": null,
     "end_time": null,
     "exception": null,
     "start_time": null,
     "status": "pending"
    },
    "tags": []
   },
   "outputs": [],
   "source": [
    "'{0}/{1}/{s}'.format(x, y, s=z)"
   ]
  },
  {
   "cell_type": "markdown",
   "id": "177e344c",
   "metadata": {
    "papermill": {
     "duration": null,
     "end_time": null,
     "exception": null,
     "start_time": null,
     "status": "pending"
    },
    "tags": []
   },
   "source": [
    "In this case, you pass the variables `x` and `y` as positional parameter values and `z` as a keyword parameter value."
   ]
  },
  {
   "cell_type": "markdown",
   "id": "7840ed0b",
   "metadata": {
    "papermill": {
     "duration": null,
     "end_time": null,
     "exception": null,
     "start_time": null,
     "status": "pending"
    },
    "tags": []
   },
   "source": [
    "<a class=\"anchor\" id=\"the_string_`.format()`_method:_simple_replacement_fields\"></a>\n",
    "## The String `.format()` Method: Simple Replacement Fields"
   ]
  },
  {
   "cell_type": "markdown",
   "id": "95a2b211",
   "metadata": {
    "papermill": {
     "duration": null,
     "end_time": null,
     "exception": null,
     "start_time": null,
     "status": "pending"
    },
    "tags": []
   },
   "source": [
    "As you’ve seen, when you call Python’s `.format()` method, the `<template>` string contains replacement fields. These indicate where in the template to insert the arguments to the method. A replacement field consists of three components:\n",
    "\n",
    "> `{[<name>][!<conversion>][:<format_spec>]}`"
   ]
  },
  {
   "cell_type": "markdown",
   "id": "22dc5ecf",
   "metadata": {
    "papermill": {
     "duration": null,
     "end_time": null,
     "exception": null,
     "start_time": null,
     "status": "pending"
    },
    "tags": []
   },
   "source": [
    "These components are interpreted as follows:\n",
    "\n",
    "|Component | Meaning|\n",
    "|:--|:--|\n",
    "|`<name>` | Specifies the source of the value to be formatted |\n",
    "|`<conversion>` | Indicates which standard Python function to use to perform the conversion |\n",
    "|`<format_spec>` | Specifies more detail about how the value should be converted |"
   ]
  },
  {
   "cell_type": "markdown",
   "id": "4d4aa7c5",
   "metadata": {
    "papermill": {
     "duration": null,
     "end_time": null,
     "exception": null,
     "start_time": null,
     "status": "pending"
    },
    "tags": []
   },
   "source": [
    "Each component is optional and may be omitted. Let’s take a look at each component in more depth."
   ]
  },
  {
   "cell_type": "markdown",
   "id": "77dd7c84",
   "metadata": {
    "papermill": {
     "duration": null,
     "end_time": null,
     "exception": null,
     "start_time": null,
     "status": "pending"
    },
    "tags": []
   },
   "source": [
    "<a class=\"anchor\" id=\"the_`<name>`_component\"></a>\n",
    "### The `<name>` Component"
   ]
  },
  {
   "cell_type": "markdown",
   "id": "13743188",
   "metadata": {
    "papermill": {
     "duration": null,
     "end_time": null,
     "exception": null,
     "start_time": null,
     "status": "pending"
    },
    "tags": []
   },
   "source": [
    "The `<name>` component is the first portion of a replacement field:\n",
    "\n",
    "> `{[<name>][!<conversion>][:<format_spec>]}`"
   ]
  },
  {
   "cell_type": "markdown",
   "id": "ff4a7ab8",
   "metadata": {
    "papermill": {
     "duration": null,
     "end_time": null,
     "exception": null,
     "start_time": null,
     "status": "pending"
    },
    "tags": []
   },
   "source": [
    "`<name>` indicates which argument from the argument list is inserted into the Python format string in the given location. It’s either a number for a positional argument or a keyword for a keyword argument. In the following example, the `<name>` components of the replacement fields are `0`, `1`, and `baz`, respectively:"
   ]
  },
  {
   "cell_type": "code",
   "execution_count": null,
   "id": "49c92e64",
   "metadata": {
    "papermill": {
     "duration": null,
     "end_time": null,
     "exception": null,
     "start_time": null,
     "status": "pending"
    },
    "tags": []
   },
   "outputs": [],
   "source": [
    "x, y, z = 1, 2, 3\n",
    "'{0}, {1}, {baz}'.format(x, y, baz=z)"
   ]
  },
  {
   "cell_type": "markdown",
   "id": "8364cebe",
   "metadata": {
    "papermill": {
     "duration": null,
     "end_time": null,
     "exception": null,
     "start_time": null,
     "status": "pending"
    },
    "tags": []
   },
   "source": [
    "If an argument is a list, then you can use indices with <name> to access the list’s elements:"
   ]
  },
  {
   "cell_type": "code",
   "execution_count": null,
   "id": "76361b6b",
   "metadata": {
    "papermill": {
     "duration": null,
     "end_time": null,
     "exception": null,
     "start_time": null,
     "status": "pending"
    },
    "tags": []
   },
   "outputs": [],
   "source": [
    "a = ['foo', 'bar', 'baz']"
   ]
  },
  {
   "cell_type": "code",
   "execution_count": null,
   "id": "5ea6c057",
   "metadata": {
    "papermill": {
     "duration": null,
     "end_time": null,
     "exception": null,
     "start_time": null,
     "status": "pending"
    },
    "tags": []
   },
   "outputs": [],
   "source": [
    "# with .format\n",
    "'{0[0]}, {0[2]}'.format(a)"
   ]
  },
  {
   "cell_type": "code",
   "execution_count": null,
   "id": "204a40ff",
   "metadata": {
    "papermill": {
     "duration": null,
     "end_time": null,
     "exception": null,
     "start_time": null,
     "status": "pending"
    },
    "tags": []
   },
   "outputs": [],
   "source": [
    "# with list\n",
    "'{my_list[0]}, {my_list[2]}'.format(my_list=a)"
   ]
  },
  {
   "cell_type": "markdown",
   "id": "128404f7",
   "metadata": {
    "papermill": {
     "duration": null,
     "end_time": null,
     "exception": null,
     "start_time": null,
     "status": "pending"
    },
    "tags": []
   },
   "source": [
    "Similarly, you can use a key reference with `<name>` if the corresponding argument is a dictionary:"
   ]
  },
  {
   "cell_type": "code",
   "execution_count": null,
   "id": "2177549d",
   "metadata": {
    "papermill": {
     "duration": null,
     "end_time": null,
     "exception": null,
     "start_time": null,
     "status": "pending"
    },
    "tags": []
   },
   "outputs": [],
   "source": [
    "d = {'key1': 'foo', 'key2': 'bar'}"
   ]
  },
  {
   "cell_type": "code",
   "execution_count": null,
   "id": "71dad3f6",
   "metadata": {
    "papermill": {
     "duration": null,
     "end_time": null,
     "exception": null,
     "start_time": null,
     "status": "pending"
    },
    "tags": []
   },
   "outputs": [],
   "source": [
    "d['key1']"
   ]
  },
  {
   "cell_type": "code",
   "execution_count": null,
   "id": "559ccfee",
   "metadata": {
    "papermill": {
     "duration": null,
     "end_time": null,
     "exception": null,
     "start_time": null,
     "status": "pending"
    },
    "tags": []
   },
   "outputs": [],
   "source": [
    "# with .format\n",
    "'{0[key1]}'.format(d)"
   ]
  },
  {
   "cell_type": "code",
   "execution_count": null,
   "id": "3e327894",
   "metadata": {
    "papermill": {
     "duration": null,
     "end_time": null,
     "exception": null,
     "start_time": null,
     "status": "pending"
    },
    "tags": []
   },
   "outputs": [],
   "source": [
    "d['key2']"
   ]
  },
  {
   "cell_type": "code",
   "execution_count": null,
   "id": "7049018b",
   "metadata": {
    "papermill": {
     "duration": null,
     "end_time": null,
     "exception": null,
     "start_time": null,
     "status": "pending"
    },
    "tags": []
   },
   "outputs": [],
   "source": [
    "'{my_dict[key2]}'.format(my_dict=d)"
   ]
  },
  {
   "cell_type": "markdown",
   "id": "d58035ef",
   "metadata": {
    "papermill": {
     "duration": null,
     "end_time": null,
     "exception": null,
     "start_time": null,
     "status": "pending"
    },
    "tags": []
   },
   "source": [
    "You can also reference **object attributes** from within a replacement field. In the previous tutorial in this series, you learned that virtually every item of data in Python is an **object**. Objects may have **attributes** assigned to them that are accessed using dot notation:\n",
    "\n",
    "```python\n",
    "obj.attr\n",
    "```"
   ]
  },
  {
   "cell_type": "markdown",
   "id": "3377a1b8",
   "metadata": {
    "papermill": {
     "duration": null,
     "end_time": null,
     "exception": null,
     "start_time": null,
     "status": "pending"
    },
    "tags": []
   },
   "source": [
    "Here, `obj` is an object with an attribute named `attr`. You use dot notation to access the object’s attribute. Let’s see an example. Complex numbers in Python have attributes named `.real` and `.imag` that represent the real and imaginary portions of the number. You can access these using dot notation as well:"
   ]
  },
  {
   "cell_type": "code",
   "execution_count": null,
   "id": "e2542d0a",
   "metadata": {
    "papermill": {
     "duration": null,
     "end_time": null,
     "exception": null,
     "start_time": null,
     "status": "pending"
    },
    "tags": []
   },
   "outputs": [],
   "source": [
    "z = 3+5j"
   ]
  },
  {
   "cell_type": "code",
   "execution_count": null,
   "id": "83ede76c",
   "metadata": {
    "papermill": {
     "duration": null,
     "end_time": null,
     "exception": null,
     "start_time": null,
     "status": "pending"
    },
    "tags": []
   },
   "outputs": [],
   "source": [
    "type(z)"
   ]
  },
  {
   "cell_type": "code",
   "execution_count": null,
   "id": "cb8cfea2",
   "metadata": {
    "papermill": {
     "duration": null,
     "end_time": null,
     "exception": null,
     "start_time": null,
     "status": "pending"
    },
    "tags": []
   },
   "outputs": [],
   "source": [
    "z.real"
   ]
  },
  {
   "cell_type": "code",
   "execution_count": null,
   "id": "503d54c1",
   "metadata": {
    "papermill": {
     "duration": null,
     "end_time": null,
     "exception": null,
     "start_time": null,
     "status": "pending"
    },
    "tags": []
   },
   "outputs": [],
   "source": [
    "z.imag"
   ]
  },
  {
   "cell_type": "markdown",
   "id": "c2725ece",
   "metadata": {
    "papermill": {
     "duration": null,
     "end_time": null,
     "exception": null,
     "start_time": null,
     "status": "pending"
    },
    "tags": []
   },
   "source": [
    "There are several upcoming tutorials in this series on object-oriented programming, in which you’ll learn a great deal more about object attributes like these."
   ]
  },
  {
   "cell_type": "markdown",
   "id": "019d01c0",
   "metadata": {
    "papermill": {
     "duration": null,
     "end_time": null,
     "exception": null,
     "start_time": null,
     "status": "pending"
    },
    "tags": []
   },
   "source": [
    "The relevance of object attributes in this context is that you can specify them in a Python `.format()` replacement field:"
   ]
  },
  {
   "cell_type": "code",
   "execution_count": null,
   "id": "a8d0e067",
   "metadata": {
    "papermill": {
     "duration": null,
     "end_time": null,
     "exception": null,
     "start_time": null,
     "status": "pending"
    },
    "tags": []
   },
   "outputs": [],
   "source": [
    "z"
   ]
  },
  {
   "cell_type": "code",
   "execution_count": null,
   "id": "30652337",
   "metadata": {
    "papermill": {
     "duration": null,
     "end_time": null,
     "exception": null,
     "start_time": null,
     "status": "pending"
    },
    "tags": []
   },
   "outputs": [],
   "source": [
    "'real = {0.real}, imag = {0.imag}'.format(z)"
   ]
  },
  {
   "cell_type": "markdown",
   "id": "ce132ca4",
   "metadata": {
    "papermill": {
     "duration": null,
     "end_time": null,
     "exception": null,
     "start_time": null,
     "status": "pending"
    },
    "tags": []
   },
   "source": [
    "As you can see, it’s relatively straightforward in Python to format components of complex objects using the `.format()` method."
   ]
  },
  {
   "cell_type": "markdown",
   "id": "79168d43",
   "metadata": {
    "papermill": {
     "duration": null,
     "end_time": null,
     "exception": null,
     "start_time": null,
     "status": "pending"
    },
    "tags": []
   },
   "source": [
    "<a class=\"anchor\" id=\"the_`<conversion>`_component\"></a>\n",
    "### The `<conversion>` Component"
   ]
  },
  {
   "cell_type": "markdown",
   "id": "583afcfa",
   "metadata": {
    "papermill": {
     "duration": null,
     "end_time": null,
     "exception": null,
     "start_time": null,
     "status": "pending"
    },
    "tags": []
   },
   "source": [
    "The `<conversion>` component is the middle portion of a replacement field:\n",
    "\n",
    "> `{[<name>][!<conversion>][:<format_spec>]}`"
   ]
  },
  {
   "cell_type": "markdown",
   "id": "b06f36be",
   "metadata": {
    "papermill": {
     "duration": null,
     "end_time": null,
     "exception": null,
     "start_time": null,
     "status": "pending"
    },
    "tags": []
   },
   "source": [
    "Python can format an object as a string using three different built-in functions:\n",
    "\n",
    "1. `str()`\n",
    "2. `repr()`\n",
    "3. `ascii()`"
   ]
  },
  {
   "cell_type": "markdown",
   "id": "f5ef9280",
   "metadata": {
    "papermill": {
     "duration": null,
     "end_time": null,
     "exception": null,
     "start_time": null,
     "status": "pending"
    },
    "tags": []
   },
   "source": [
    "By default, the Python `.format()` method uses `str()`, but in some instances, you may want to force `.format()` to use one of the other two. You can do this with the `<conversion>` component of a replacement field. The possible values for `<conversion>` are shown in the table below:\n",
    "\n",
    "|Value | Meaning|\n",
    "|:--|:--|\n",
    "|`!s` | Convert with `str()` |\n",
    "|`!r` | Convert with `repr()` |\n",
    "|`!a` | Convert with `ascii()` |"
   ]
  },
  {
   "cell_type": "markdown",
   "id": "71ebe206",
   "metadata": {
    "papermill": {
     "duration": null,
     "end_time": null,
     "exception": null,
     "start_time": null,
     "status": "pending"
    },
    "tags": []
   },
   "source": [
    "The following examples force Python to perform string conversion using `str()`, `repr()`, and `ascii()`, respectively:"
   ]
  },
  {
   "cell_type": "code",
   "execution_count": null,
   "id": "4c2d0b6c",
   "metadata": {
    "papermill": {
     "duration": null,
     "end_time": null,
     "exception": null,
     "start_time": null,
     "status": "pending"
    },
    "tags": []
   },
   "outputs": [],
   "source": [
    "'{0!s}'.format(42)"
   ]
  },
  {
   "cell_type": "code",
   "execution_count": null,
   "id": "76f5980a",
   "metadata": {
    "papermill": {
     "duration": null,
     "end_time": null,
     "exception": null,
     "start_time": null,
     "status": "pending"
    },
    "tags": []
   },
   "outputs": [],
   "source": [
    "'{0!r}'.format(42)"
   ]
  },
  {
   "cell_type": "code",
   "execution_count": null,
   "id": "9bd6196e",
   "metadata": {
    "papermill": {
     "duration": null,
     "end_time": null,
     "exception": null,
     "start_time": null,
     "status": "pending"
    },
    "tags": []
   },
   "outputs": [],
   "source": [
    "'{0!a}'.format(42)"
   ]
  },
  {
   "cell_type": "markdown",
   "id": "027cead1",
   "metadata": {
    "papermill": {
     "duration": null,
     "end_time": null,
     "exception": null,
     "start_time": null,
     "status": "pending"
    },
    "tags": []
   },
   "source": [
    "In many cases, the result is the same regardless of which conversion function you use, as you can see in the example above. That being said, you won’t often need the `<conversion>` component, so you won’t spend a lot of time on it here. However, there are situations where it makes a difference, so it’s good to be aware that you have the capability to force a specific conversion function if you need to."
   ]
  },
  {
   "cell_type": "markdown",
   "id": "5f10e98b",
   "metadata": {
    "papermill": {
     "duration": null,
     "end_time": null,
     "exception": null,
     "start_time": null,
     "status": "pending"
    },
    "tags": []
   },
   "source": [
    "<a class=\"anchor\" id=\"the_`<format_spec>`_component\"></a>\n",
    "### The `<format_spec>` Component"
   ]
  },
  {
   "cell_type": "markdown",
   "id": "bdfd7b38",
   "metadata": {
    "papermill": {
     "duration": null,
     "end_time": null,
     "exception": null,
     "start_time": null,
     "status": "pending"
    },
    "tags": []
   },
   "source": [
    "The `<format_spec>` component is the last portion of a replacement field:\n",
    "\n",
    "> `{[<name>][!<conversion>][:<format_spec>]}`"
   ]
  },
  {
   "cell_type": "markdown",
   "id": "e114860e",
   "metadata": {
    "papermill": {
     "duration": null,
     "end_time": null,
     "exception": null,
     "start_time": null,
     "status": "pending"
    },
    "tags": []
   },
   "source": [
    "`<format_spec>` represents the guts of the Python `.format()` method’s functionality. It contains information that exerts fine control over how values are formatted prior to being inserted into the template string. The general form is this:\n",
    "\n",
    "> `:[[<fill>]<align>][<sign>][#][0][<width>][<group>][.<prec>][<type>]`"
   ]
  },
  {
   "cell_type": "markdown",
   "id": "0543c499",
   "metadata": {
    "papermill": {
     "duration": null,
     "end_time": null,
     "exception": null,
     "start_time": null,
     "status": "pending"
    },
    "tags": []
   },
   "source": [
    "The ten subcomponents of `<format_spec>` are specified in the order shown. They control formatting as described in the table below:\n",
    "\n",
    "|Subcomponent | Effect|\n",
    "|:--|:--|\n",
    "|`:` | Separates the <format_spec> from the rest of the replacement field|\n",
    "|`<fill>` | Specifies how to pad values that don’t occupy the entire field width|\n",
    "|`<align>` | Specifies how to justify values that don’t occupy the entire field width|\n",
    "|`<sign>` | Controls whether a leading sign is included for numeric values|\n",
    "|`#` | Selects an alternate output form for certain presentation types|\n",
    "|`0` | Causes values to be padded on the left with zeros instead of ASCII space characters|\n",
    "|`<width>` | Specifies the minimum width of the output|\n",
    "|`<group>` | Specifies a grouping character for numeric output|\n",
    "|`.<prec>` | Specifies the number of digits after the decimal point for floating-point presentation types, and the maximum output width for string presentations types |\n",
    "|`<type>` | Specifies the presentation type, which is the type of conversion performed on the corresponding argument|"
   ]
  },
  {
   "cell_type": "markdown",
   "id": "ce06c16f",
   "metadata": {
    "papermill": {
     "duration": null,
     "end_time": null,
     "exception": null,
     "start_time": null,
     "status": "pending"
    },
    "tags": []
   },
   "source": [
    "These functions are analogous to the components you’ll find in the string modulo operator’s conversion specifier, but with somewhat greater capability. You’ll see their capabilities explained more fully in the following sections."
   ]
  },
  {
   "cell_type": "markdown",
   "id": "fee00d10",
   "metadata": {
    "papermill": {
     "duration": null,
     "end_time": null,
     "exception": null,
     "start_time": null,
     "status": "pending"
    },
    "tags": []
   },
   "source": [
    "<a class=\"anchor\" id=\"the_`<type>`_subcomponent\"></a>\n",
    "#### The `<type>` Subcomponent"
   ]
  },
  {
   "cell_type": "markdown",
   "id": "0a9e7bc8",
   "metadata": {
    "papermill": {
     "duration": null,
     "end_time": null,
     "exception": null,
     "start_time": null,
     "status": "pending"
    },
    "tags": []
   },
   "source": [
    "Let’s start with `<type>`, which is the final portion of `<format_spec>`. The `<type>` subcomponent specifies the presentation type, which is the type of conversion that’s performed on the corresponding value to produce the output. The possible values are shown below:\n",
    "\n",
    "\n",
    "| Value | Presentation Type |\n",
    "|:--|:--|\n",
    "| `b` | Binary integer |\n",
    "| `c` | Single character |\n",
    "| `d` | Decimal integer |\n",
    "| `e` or `E` | Exponential |\n",
    "| `f` or `F` | Floating point |\n",
    "| `g` or `G` | Floating point or Exponential |\n",
    "| `o` | Octal integer |\n",
    "| `s` | String |\n",
    "| `x or X` | Hexadecimal integer |\n",
    "| `%` | Percentage |"
   ]
  },
  {
   "cell_type": "markdown",
   "id": "8447b666",
   "metadata": {
    "papermill": {
     "duration": null,
     "end_time": null,
     "exception": null,
     "start_time": null,
     "status": "pending"
    },
    "tags": []
   },
   "source": [
    "These are like the conversion types used with the string modulo operator, and in many cases, they function the same."
   ]
  },
  {
   "cell_type": "code",
   "execution_count": null,
   "id": "cd5e3655",
   "metadata": {
    "papermill": {
     "duration": null,
     "end_time": null,
     "exception": null,
     "start_time": null,
     "status": "pending"
    },
    "tags": []
   },
   "outputs": [],
   "source": [
    "'{:d}'.format(42)"
   ]
  },
  {
   "cell_type": "code",
   "execution_count": null,
   "id": "a95425ca",
   "metadata": {
    "papermill": {
     "duration": null,
     "end_time": null,
     "exception": null,
     "start_time": null,
     "status": "pending"
    },
    "tags": []
   },
   "outputs": [],
   "source": [
    "'{:f}'.format(2.1)"
   ]
  },
  {
   "cell_type": "code",
   "execution_count": null,
   "id": "fc2beb2d",
   "metadata": {
    "papermill": {
     "duration": null,
     "end_time": null,
     "exception": null,
     "start_time": null,
     "status": "pending"
    },
    "tags": []
   },
   "outputs": [],
   "source": [
    "'{:s}'.format('foobar')"
   ]
  },
  {
   "cell_type": "code",
   "execution_count": null,
   "id": "341e760a",
   "metadata": {
    "papermill": {
     "duration": null,
     "end_time": null,
     "exception": null,
     "start_time": null,
     "status": "pending"
    },
    "tags": []
   },
   "outputs": [],
   "source": [
    "'{:x}'.format(31)"
   ]
  },
  {
   "cell_type": "markdown",
   "id": "a4ac236a",
   "metadata": {
    "papermill": {
     "duration": null,
     "end_time": null,
     "exception": null,
     "start_time": null,
     "status": "pending"
    },
    "tags": []
   },
   "source": [
    "<a class=\"anchor\" id=\"the_`<fill>`_and_`<align>`_subcomponents\"></a>\n",
    "#### The `<fill>` and `<align>` Subcomponents"
   ]
  },
  {
   "cell_type": "markdown",
   "id": "c866ef8d",
   "metadata": {
    "papermill": {
     "duration": null,
     "end_time": null,
     "exception": null,
     "start_time": null,
     "status": "pending"
    },
    "tags": []
   },
   "source": [
    "`<fill>` and `<align>` control how formatted output is padded and positioned within the specified field width. These subcomponents only have meaning when the formatted field value doesn’t occupy the entire field width, which can only happen if a minimum field width is specified with `<width>`. If `<width>` isn’t specified, then `<fill>` and `<align>` are effectively ignored. You’ll cover `<width>` later on in this tutorial."
   ]
  },
  {
   "cell_type": "markdown",
   "id": "43294cae",
   "metadata": {
    "papermill": {
     "duration": null,
     "end_time": null,
     "exception": null,
     "start_time": null,
     "status": "pending"
    },
    "tags": []
   },
   "source": [
    "Here are the possible values for the `<align>` subcomponent:\n",
    "\n",
    "- `<`\n",
    "- `>`\n",
    "- `^`\n",
    "- `=`"
   ]
  },
  {
   "cell_type": "markdown",
   "id": "007b78d2",
   "metadata": {
    "papermill": {
     "duration": null,
     "end_time": null,
     "exception": null,
     "start_time": null,
     "status": "pending"
    },
    "tags": []
   },
   "source": [
    "A value using the less than sign (`<`) indicates that the output is left-justified:"
   ]
  },
  {
   "cell_type": "code",
   "execution_count": null,
   "id": "e749a323",
   "metadata": {
    "papermill": {
     "duration": null,
     "end_time": null,
     "exception": null,
     "start_time": null,
     "status": "pending"
    },
    "tags": []
   },
   "outputs": [],
   "source": [
    "'{0:<8s}'.format('foo')"
   ]
  },
  {
   "cell_type": "code",
   "execution_count": null,
   "id": "4398682b",
   "metadata": {
    "papermill": {
     "duration": null,
     "end_time": null,
     "exception": null,
     "start_time": null,
     "status": "pending"
    },
    "tags": []
   },
   "outputs": [],
   "source": [
    "'{0:<8d}'.format(123)"
   ]
  },
  {
   "cell_type": "markdown",
   "id": "dbf8bc90",
   "metadata": {
    "papermill": {
     "duration": null,
     "end_time": null,
     "exception": null,
     "start_time": null,
     "status": "pending"
    },
    "tags": []
   },
   "source": [
    "This behavior is the default for string values."
   ]
  },
  {
   "cell_type": "markdown",
   "id": "5ea0322d",
   "metadata": {
    "papermill": {
     "duration": null,
     "end_time": null,
     "exception": null,
     "start_time": null,
     "status": "pending"
    },
    "tags": []
   },
   "source": [
    "A value using the greater than sign (`>`) indicates that the output should be right-justified:"
   ]
  },
  {
   "cell_type": "code",
   "execution_count": null,
   "id": "e218bd65",
   "metadata": {
    "papermill": {
     "duration": null,
     "end_time": null,
     "exception": null,
     "start_time": null,
     "status": "pending"
    },
    "tags": []
   },
   "outputs": [],
   "source": [
    "'{0:>8s}'.format('foo')"
   ]
  },
  {
   "cell_type": "code",
   "execution_count": null,
   "id": "1fac8b64",
   "metadata": {
    "papermill": {
     "duration": null,
     "end_time": null,
     "exception": null,
     "start_time": null,
     "status": "pending"
    },
    "tags": []
   },
   "outputs": [],
   "source": [
    "'{0:>8d}'.format(123)"
   ]
  },
  {
   "cell_type": "markdown",
   "id": "18ad2ad1",
   "metadata": {
    "papermill": {
     "duration": null,
     "end_time": null,
     "exception": null,
     "start_time": null,
     "status": "pending"
    },
    "tags": []
   },
   "source": [
    "This behavior is the default for numeric values."
   ]
  },
  {
   "cell_type": "markdown",
   "id": "d1b52706",
   "metadata": {
    "papermill": {
     "duration": null,
     "end_time": null,
     "exception": null,
     "start_time": null,
     "status": "pending"
    },
    "tags": []
   },
   "source": [
    "A value using a caret (`^`) indicates that the output should be centered in the output field:"
   ]
  },
  {
   "cell_type": "code",
   "execution_count": null,
   "id": "d6714922",
   "metadata": {
    "papermill": {
     "duration": null,
     "end_time": null,
     "exception": null,
     "start_time": null,
     "status": "pending"
    },
    "tags": []
   },
   "outputs": [],
   "source": [
    "'{0:^10s}'.format('foo')"
   ]
  },
  {
   "cell_type": "code",
   "execution_count": null,
   "id": "f978927c",
   "metadata": {
    "papermill": {
     "duration": null,
     "end_time": null,
     "exception": null,
     "start_time": null,
     "status": "pending"
    },
    "tags": []
   },
   "outputs": [],
   "source": [
    "'{0:^8d}'.format(123)"
   ]
  },
  {
   "cell_type": "markdown",
   "id": "fb51ea55",
   "metadata": {
    "papermill": {
     "duration": null,
     "end_time": null,
     "exception": null,
     "start_time": null,
     "status": "pending"
    },
    "tags": []
   },
   "source": [
    "Finally, you can also specify a value using the equals sign (`=`) for the `<align>` subcomponent. This only has meaning for numeric values, and only when a sign is included in the output."
   ]
  },
  {
   "cell_type": "markdown",
   "id": "7a468430",
   "metadata": {
    "papermill": {
     "duration": null,
     "end_time": null,
     "exception": null,
     "start_time": null,
     "status": "pending"
    },
    "tags": []
   },
   "source": [
    "When numeric output includes a sign, it’s normally placed directly to the left of the first digit in the number, as shown above. If `<align>` is set to the equals sign (`=`), then the sign appears at the left edge of the output field, and padding is placed in between the sign and the number:"
   ]
  },
  {
   "cell_type": "code",
   "execution_count": null,
   "id": "852c30a6",
   "metadata": {
    "papermill": {
     "duration": null,
     "end_time": null,
     "exception": null,
     "start_time": null,
     "status": "pending"
    },
    "tags": []
   },
   "outputs": [],
   "source": [
    "'{0:+8d}'.format(123)"
   ]
  },
  {
   "cell_type": "code",
   "execution_count": null,
   "id": "847d7d27",
   "metadata": {
    "papermill": {
     "duration": null,
     "end_time": null,
     "exception": null,
     "start_time": null,
     "status": "pending"
    },
    "tags": []
   },
   "outputs": [],
   "source": [
    "'{0:=+8d}'.format(123)"
   ]
  },
  {
   "cell_type": "code",
   "execution_count": null,
   "id": "a6383411",
   "metadata": {
    "papermill": {
     "duration": null,
     "end_time": null,
     "exception": null,
     "start_time": null,
     "status": "pending"
    },
    "tags": []
   },
   "outputs": [],
   "source": [
    "'{0:+8d}'.format(-123)"
   ]
  },
  {
   "cell_type": "code",
   "execution_count": null,
   "id": "f7981732",
   "metadata": {
    "papermill": {
     "duration": null,
     "end_time": null,
     "exception": null,
     "start_time": null,
     "status": "pending"
    },
    "tags": []
   },
   "outputs": [],
   "source": [
    "'{0:=+8d}'.format(-123)"
   ]
  },
  {
   "cell_type": "markdown",
   "id": "cefeb179",
   "metadata": {
    "papermill": {
     "duration": null,
     "end_time": null,
     "exception": null,
     "start_time": null,
     "status": "pending"
    },
    "tags": []
   },
   "source": [
    "You’ll cover the `<sign>` component in detail in the next section."
   ]
  },
  {
   "cell_type": "markdown",
   "id": "dae87685",
   "metadata": {
    "papermill": {
     "duration": null,
     "end_time": null,
     "exception": null,
     "start_time": null,
     "status": "pending"
    },
    "tags": []
   },
   "source": [
    "`<fill>` specifies how to fill in extra space when the formatted value doesn’t completely fill the output width. It can be any character except for curly braces (`{}`). (If you really feel compelled to pad a field with curly braces, then you’ll just have to find another way!)"
   ]
  },
  {
   "cell_type": "markdown",
   "id": "8bb49c6f",
   "metadata": {
    "papermill": {
     "duration": null,
     "end_time": null,
     "exception": null,
     "start_time": null,
     "status": "pending"
    },
    "tags": []
   },
   "source": [
    "Some examples of the use of `<fill>` are shown below:"
   ]
  },
  {
   "cell_type": "code",
   "execution_count": null,
   "id": "cf60a464",
   "metadata": {
    "papermill": {
     "duration": null,
     "end_time": null,
     "exception": null,
     "start_time": null,
     "status": "pending"
    },
    "tags": []
   },
   "outputs": [],
   "source": [
    "'{0:->8s}'.format('foo')"
   ]
  },
  {
   "cell_type": "code",
   "execution_count": null,
   "id": "ec3ced4c",
   "metadata": {
    "papermill": {
     "duration": null,
     "end_time": null,
     "exception": null,
     "start_time": null,
     "status": "pending"
    },
    "tags": []
   },
   "outputs": [],
   "source": [
    "'{0:#<8d}'.format(123)"
   ]
  },
  {
   "cell_type": "code",
   "execution_count": null,
   "id": "bd390636",
   "metadata": {
    "papermill": {
     "duration": null,
     "end_time": null,
     "exception": null,
     "start_time": null,
     "status": "pending"
    },
    "tags": []
   },
   "outputs": [],
   "source": [
    "'{0:*^8s}'.format('foo')"
   ]
  },
  {
   "cell_type": "markdown",
   "id": "4ace5660",
   "metadata": {
    "papermill": {
     "duration": null,
     "end_time": null,
     "exception": null,
     "start_time": null,
     "status": "pending"
    },
    "tags": []
   },
   "source": [
    "If you specify a value for `<fill>`, then you should also include a value for `<align>` as well."
   ]
  },
  {
   "cell_type": "code",
   "execution_count": null,
   "id": "2193aced",
   "metadata": {
    "papermill": {
     "duration": null,
     "end_time": null,
     "exception": null,
     "start_time": null,
     "status": "pending"
    },
    "tags": []
   },
   "outputs": [],
   "source": [
    "# raises an error as fill is specified but align is not\n",
    "'{0:*8s}'.format('foo')"
   ]
  },
  {
   "cell_type": "markdown",
   "id": "2fe81cf2",
   "metadata": {
    "papermill": {
     "duration": null,
     "end_time": null,
     "exception": null,
     "start_time": null,
     "status": "pending"
    },
    "tags": []
   },
   "source": [
    "<a class=\"anchor\" id=\"the_`<sign>`_subcomponent\"></a>\n",
    "#### The `<sign>` Subcomponent"
   ]
  },
  {
   "cell_type": "markdown",
   "id": "990ceef6",
   "metadata": {
    "papermill": {
     "duration": null,
     "end_time": null,
     "exception": null,
     "start_time": null,
     "status": "pending"
    },
    "tags": []
   },
   "source": [
    "You can control whether a sign appears in numeric output with the `<sign>` component. For example, in the following, the plus sign (`+`) specified in the `<format_spec>` indicates that the value should always be displayed with a leading sign:"
   ]
  },
  {
   "cell_type": "code",
   "execution_count": null,
   "id": "059e8880",
   "metadata": {
    "papermill": {
     "duration": null,
     "end_time": null,
     "exception": null,
     "start_time": null,
     "status": "pending"
    },
    "tags": []
   },
   "outputs": [],
   "source": [
    "'{0:+6d}'.format(123)"
   ]
  },
  {
   "cell_type": "code",
   "execution_count": null,
   "id": "1535c885",
   "metadata": {
    "papermill": {
     "duration": null,
     "end_time": null,
     "exception": null,
     "start_time": null,
     "status": "pending"
    },
    "tags": []
   },
   "outputs": [],
   "source": [
    "'{0:+6d}'.format(-123)"
   ]
  },
  {
   "cell_type": "markdown",
   "id": "aa2a0dc5",
   "metadata": {
    "papermill": {
     "duration": null,
     "end_time": null,
     "exception": null,
     "start_time": null,
     "status": "pending"
    },
    "tags": []
   },
   "source": [
    "Here, you use the plus sign (`+`), so a sign will always be included for both positive and negative values. If you use the minus sign (`-`), then only negative numeric values will include a leading sign, and positive values won’t:"
   ]
  },
  {
   "cell_type": "code",
   "execution_count": null,
   "id": "fe65983b",
   "metadata": {
    "papermill": {
     "duration": null,
     "end_time": null,
     "exception": null,
     "start_time": null,
     "status": "pending"
    },
    "tags": []
   },
   "outputs": [],
   "source": [
    "'{0:-6d}'.format(123)"
   ]
  },
  {
   "cell_type": "code",
   "execution_count": null,
   "id": "f7056cd8",
   "metadata": {
    "papermill": {
     "duration": null,
     "end_time": null,
     "exception": null,
     "start_time": null,
     "status": "pending"
    },
    "tags": []
   },
   "outputs": [],
   "source": [
    "'{0:-6d}'.format(-123)"
   ]
  },
  {
   "cell_type": "markdown",
   "id": "5daa516a",
   "metadata": {
    "papermill": {
     "duration": null,
     "end_time": null,
     "exception": null,
     "start_time": null,
     "status": "pending"
    },
    "tags": []
   },
   "source": [
    "When you use a single space (`' '`), it means a sign is included for negative values, and an ASCII space character for positive values:"
   ]
  },
  {
   "cell_type": "code",
   "execution_count": null,
   "id": "a4fe19f3",
   "metadata": {
    "papermill": {
     "duration": null,
     "end_time": null,
     "exception": null,
     "start_time": null,
     "status": "pending"
    },
    "tags": []
   },
   "outputs": [],
   "source": [
    "'{0:*> 6d}'.format(123)"
   ]
  },
  {
   "cell_type": "code",
   "execution_count": null,
   "id": "4ef5d451",
   "metadata": {
    "papermill": {
     "duration": null,
     "end_time": null,
     "exception": null,
     "start_time": null,
     "status": "pending"
    },
    "tags": []
   },
   "outputs": [],
   "source": [
    "'{0:*>6d}'.format(123)"
   ]
  },
  {
   "cell_type": "code",
   "execution_count": null,
   "id": "bb4dc5cc",
   "metadata": {
    "papermill": {
     "duration": null,
     "end_time": null,
     "exception": null,
     "start_time": null,
     "status": "pending"
    },
    "tags": []
   },
   "outputs": [],
   "source": [
    "'{0:*> 6d}'.format(-123)"
   ]
  },
  {
   "cell_type": "markdown",
   "id": "780b3e5b",
   "metadata": {
    "papermill": {
     "duration": null,
     "end_time": null,
     "exception": null,
     "start_time": null,
     "status": "pending"
    },
    "tags": []
   },
   "source": [
    "Since the space character is the default fill character, you’d only notice the effect of this if an alternate `<fill>` character is specified."
   ]
  },
  {
   "cell_type": "markdown",
   "id": "cb9a3609",
   "metadata": {
    "papermill": {
     "duration": null,
     "end_time": null,
     "exception": null,
     "start_time": null,
     "status": "pending"
    },
    "tags": []
   },
   "source": [
    "Lastly, recall from above that when you specify the equals sign (`=`) for `<align>` and you include a `<sign>` specifier, the padding goes between the sign and the value, rather than to the left of the sign."
   ]
  },
  {
   "cell_type": "markdown",
   "id": "64fdd040",
   "metadata": {
    "papermill": {
     "duration": null,
     "end_time": null,
     "exception": null,
     "start_time": null,
     "status": "pending"
    },
    "tags": []
   },
   "source": [
    "<a class=\"anchor\" id=\"the_`#``_subcomponent\"></a>\n",
    "#### The `#`` Subcomponent"
   ]
  },
  {
   "cell_type": "markdown",
   "id": "a926c8b2",
   "metadata": {
    "papermill": {
     "duration": null,
     "end_time": null,
     "exception": null,
     "start_time": null,
     "status": "pending"
    },
    "tags": []
   },
   "source": [
    "When you specify a hash character (`#`) in `<format_spec>`, Python will select an alternate output form for certain presentation types. This is analogous to the `#` conversion flag for the string modulo operator. For binary, octal, and hexadecimal presentation types, the hash character (`#`) causes inclusion of an explicit base indicator to the left of the value:"
   ]
  },
  {
   "cell_type": "code",
   "execution_count": null,
   "id": "981b7476",
   "metadata": {
    "papermill": {
     "duration": null,
     "end_time": null,
     "exception": null,
     "start_time": null,
     "status": "pending"
    },
    "tags": []
   },
   "outputs": [],
   "source": [
    "'{0:b}, {0:#b}'.format(16)"
   ]
  },
  {
   "cell_type": "code",
   "execution_count": null,
   "id": "d63e128f",
   "metadata": {
    "papermill": {
     "duration": null,
     "end_time": null,
     "exception": null,
     "start_time": null,
     "status": "pending"
    },
    "tags": []
   },
   "outputs": [],
   "source": [
    "'{0:o}, {0:#o}'.format(16)"
   ]
  },
  {
   "cell_type": "code",
   "execution_count": null,
   "id": "59f24d29",
   "metadata": {
    "papermill": {
     "duration": null,
     "end_time": null,
     "exception": null,
     "start_time": null,
     "status": "pending"
    },
    "tags": []
   },
   "outputs": [],
   "source": [
    "'{0:x}, {0:#x}'.format(16)"
   ]
  },
  {
   "cell_type": "markdown",
   "id": "c1193e8d",
   "metadata": {
    "papermill": {
     "duration": null,
     "end_time": null,
     "exception": null,
     "start_time": null,
     "status": "pending"
    },
    "tags": []
   },
   "source": [
    "As you can see, the base indicator can be `0b`, `0o`, or `0x`."
   ]
  },
  {
   "cell_type": "markdown",
   "id": "2fcab686",
   "metadata": {
    "papermill": {
     "duration": null,
     "end_time": null,
     "exception": null,
     "start_time": null,
     "status": "pending"
    },
    "tags": []
   },
   "source": [
    "For floating-point or exponential presentation types, the hash character forces the output to contain a decimal point, even if the output consists of a whole number:"
   ]
  },
  {
   "cell_type": "code",
   "execution_count": null,
   "id": "82e2a2e8",
   "metadata": {
    "papermill": {
     "duration": null,
     "end_time": null,
     "exception": null,
     "start_time": null,
     "status": "pending"
    },
    "tags": []
   },
   "outputs": [],
   "source": [
    "'{0:.0f}, {0:#.0f}'.format(123)"
   ]
  },
  {
   "cell_type": "code",
   "execution_count": null,
   "id": "4ebdd9d1",
   "metadata": {
    "papermill": {
     "duration": null,
     "end_time": null,
     "exception": null,
     "start_time": null,
     "status": "pending"
    },
    "tags": []
   },
   "outputs": [],
   "source": [
    "'{0:.0e}, {0:#.0e}'.format(123)"
   ]
  },
  {
   "cell_type": "markdown",
   "id": "37d72e26",
   "metadata": {
    "papermill": {
     "duration": null,
     "end_time": null,
     "exception": null,
     "start_time": null,
     "status": "pending"
    },
    "tags": []
   },
   "source": [
    "For any presentation type other than those shown above, the hash character (`#`) has no effect."
   ]
  },
  {
   "cell_type": "markdown",
   "id": "0f7bf53a",
   "metadata": {
    "papermill": {
     "duration": null,
     "end_time": null,
     "exception": null,
     "start_time": null,
     "status": "pending"
    },
    "tags": []
   },
   "source": [
    "<a class=\"anchor\" id=\"the_`0_`subcomponent\"></a>\n",
    "#### The `0 `Subcomponent"
   ]
  },
  {
   "cell_type": "markdown",
   "id": "06bc0e0b",
   "metadata": {
    "papermill": {
     "duration": null,
     "end_time": null,
     "exception": null,
     "start_time": null,
     "status": "pending"
    },
    "tags": []
   },
   "source": [
    "If output is smaller than the indicated field width and you specify the digit zero (`0`) in `<format_spec>`, then values will be padded on the left with zeros instead of ASCII space characters:"
   ]
  },
  {
   "cell_type": "code",
   "execution_count": null,
   "id": "6b8d43a2",
   "metadata": {
    "papermill": {
     "duration": null,
     "end_time": null,
     "exception": null,
     "start_time": null,
     "status": "pending"
    },
    "tags": []
   },
   "outputs": [],
   "source": [
    "'{0:05d}'.format(123)"
   ]
  },
  {
   "cell_type": "code",
   "execution_count": null,
   "id": "243cd530",
   "metadata": {
    "papermill": {
     "duration": null,
     "end_time": null,
     "exception": null,
     "start_time": null,
     "status": "pending"
    },
    "tags": []
   },
   "outputs": [],
   "source": [
    "'{0:08.1f}'.format(12.3)"
   ]
  },
  {
   "cell_type": "markdown",
   "id": "bd917b26",
   "metadata": {
    "papermill": {
     "duration": null,
     "end_time": null,
     "exception": null,
     "start_time": null,
     "status": "pending"
    },
    "tags": []
   },
   "source": [
    "You’ll typically use this for numeric values, as shown above. However, it works for string values as well:"
   ]
  },
  {
   "cell_type": "code",
   "execution_count": null,
   "id": "342e9900",
   "metadata": {
    "papermill": {
     "duration": null,
     "end_time": null,
     "exception": null,
     "start_time": null,
     "status": "pending"
    },
    "tags": []
   },
   "outputs": [],
   "source": [
    "'{0:>06s}'.format('foo')"
   ]
  },
  {
   "cell_type": "markdown",
   "id": "f1a4d6fc",
   "metadata": {
    "papermill": {
     "duration": null,
     "end_time": null,
     "exception": null,
     "start_time": null,
     "status": "pending"
    },
    "tags": []
   },
   "source": [
    "If you specify both `<fill>` and `<align>`, then `<fill>` overrides `0`:"
   ]
  },
  {
   "cell_type": "code",
   "execution_count": null,
   "id": "7ac7def7",
   "metadata": {
    "papermill": {
     "duration": null,
     "end_time": null,
     "exception": null,
     "start_time": null,
     "status": "pending"
    },
    "tags": []
   },
   "outputs": [],
   "source": [
    "'{0:*>05d}'.format(123)"
   ]
  },
  {
   "cell_type": "markdown",
   "id": "a88710cb",
   "metadata": {
    "papermill": {
     "duration": null,
     "end_time": null,
     "exception": null,
     "start_time": null,
     "status": "pending"
    },
    "tags": []
   },
   "source": [
    "`<fill>` and `0` essentially control the same thing, so there really isn’t any need to specify both. In fact, `0` is really superfluous, and was probably included as a convenience for developers who are familiar with the string modulo operator’s similar `0` conversion flag."
   ]
  },
  {
   "cell_type": "markdown",
   "id": "9fd22576",
   "metadata": {
    "papermill": {
     "duration": null,
     "end_time": null,
     "exception": null,
     "start_time": null,
     "status": "pending"
    },
    "tags": []
   },
   "source": [
    "<a class=\"anchor\" id=\"the_`<width>`_subcomponent\"></a>\n",
    "#### The `<width>` Subcomponent"
   ]
  },
  {
   "cell_type": "markdown",
   "id": "b0eb31d2",
   "metadata": {
    "papermill": {
     "duration": null,
     "end_time": null,
     "exception": null,
     "start_time": null,
     "status": "pending"
    },
    "tags": []
   },
   "source": [
    "`<width>` specifies the minimum width of the output field:"
   ]
  },
  {
   "cell_type": "code",
   "execution_count": null,
   "id": "4447b0cb",
   "metadata": {
    "papermill": {
     "duration": null,
     "end_time": null,
     "exception": null,
     "start_time": null,
     "status": "pending"
    },
    "tags": []
   },
   "outputs": [],
   "source": [
    "'{0:8s}'.format('foo')"
   ]
  },
  {
   "cell_type": "code",
   "execution_count": null,
   "id": "0b65ae4c",
   "metadata": {
    "papermill": {
     "duration": null,
     "end_time": null,
     "exception": null,
     "start_time": null,
     "status": "pending"
    },
    "tags": []
   },
   "outputs": [],
   "source": [
    "'{0:8d}'.format(123)"
   ]
  },
  {
   "cell_type": "markdown",
   "id": "f2f9fe2e",
   "metadata": {
    "papermill": {
     "duration": null,
     "end_time": null,
     "exception": null,
     "start_time": null,
     "status": "pending"
    },
    "tags": []
   },
   "source": [
    "Note that this is a **minimum field width**. Suppose you specify a value that’s longer than the minimum:"
   ]
  },
  {
   "cell_type": "code",
   "execution_count": null,
   "id": "0460e6ac",
   "metadata": {
    "papermill": {
     "duration": null,
     "end_time": null,
     "exception": null,
     "start_time": null,
     "status": "pending"
    },
    "tags": []
   },
   "outputs": [],
   "source": [
    "'{0:2s}'.format('foobar')"
   ]
  },
  {
   "cell_type": "markdown",
   "id": "2485dbd5",
   "metadata": {
    "papermill": {
     "duration": null,
     "end_time": null,
     "exception": null,
     "start_time": null,
     "status": "pending"
    },
    "tags": []
   },
   "source": [
    "In this case, `<width>` is effectively ignored."
   ]
  },
  {
   "cell_type": "markdown",
   "id": "0b5b1f7d",
   "metadata": {
    "papermill": {
     "duration": null,
     "end_time": null,
     "exception": null,
     "start_time": null,
     "status": "pending"
    },
    "tags": []
   },
   "source": [
    "<a class=\"anchor\" id=\"the_`<group>`_subcomponent\"></a>\n",
    "#### The `<group>` Subcomponent"
   ]
  },
  {
   "cell_type": "markdown",
   "id": "f0a8a18b",
   "metadata": {
    "papermill": {
     "duration": null,
     "end_time": null,
     "exception": null,
     "start_time": null,
     "status": "pending"
    },
    "tags": []
   },
   "source": [
    "`<group>` allows you to include a grouping separator character in numeric output. For decimal and floating-point presentation types, `<group>` may be specified as either a comma character (`,`) or an underscore character (`_`). That character then separates each group of three digits in the output:"
   ]
  },
  {
   "cell_type": "code",
   "execution_count": null,
   "id": "a098a42d",
   "metadata": {
    "papermill": {
     "duration": null,
     "end_time": null,
     "exception": null,
     "start_time": null,
     "status": "pending"
    },
    "tags": []
   },
   "outputs": [],
   "source": [
    "'{0:,d}'.format(1234567)"
   ]
  },
  {
   "cell_type": "code",
   "execution_count": null,
   "id": "e5fe2ffe",
   "metadata": {
    "papermill": {
     "duration": null,
     "end_time": null,
     "exception": null,
     "start_time": null,
     "status": "pending"
    },
    "tags": []
   },
   "outputs": [],
   "source": [
    "'{0:_d}'.format(1234567)"
   ]
  },
  {
   "cell_type": "code",
   "execution_count": null,
   "id": "59c32910",
   "metadata": {
    "papermill": {
     "duration": null,
     "end_time": null,
     "exception": null,
     "start_time": null,
     "status": "pending"
    },
    "tags": []
   },
   "outputs": [],
   "source": [
    "'{0:,.2f}'.format(1234567.89)"
   ]
  },
  {
   "cell_type": "code",
   "execution_count": null,
   "id": "de50c0c9",
   "metadata": {
    "papermill": {
     "duration": null,
     "end_time": null,
     "exception": null,
     "start_time": null,
     "status": "pending"
    },
    "tags": []
   },
   "outputs": [],
   "source": [
    "'{0:_.2f}'.format(1234567.89)"
   ]
  },
  {
   "cell_type": "markdown",
   "id": "cca9fcf2",
   "metadata": {
    "papermill": {
     "duration": null,
     "end_time": null,
     "exception": null,
     "start_time": null,
     "status": "pending"
    },
    "tags": []
   },
   "source": [
    "A `<group>` value using an underscore (`_`) may also be specified with the binary, octal, and hexadecimal presentation types. In that case, each group of four digits is separated by an underscore character in the output:"
   ]
  },
  {
   "cell_type": "code",
   "execution_count": null,
   "id": "037142b4",
   "metadata": {
    "papermill": {
     "duration": null,
     "end_time": null,
     "exception": null,
     "start_time": null,
     "status": "pending"
    },
    "tags": []
   },
   "outputs": [],
   "source": [
    "'{0:_b}'.format(0b111010100001)"
   ]
  },
  {
   "cell_type": "code",
   "execution_count": null,
   "id": "01e6c30f",
   "metadata": {
    "papermill": {
     "duration": null,
     "end_time": null,
     "exception": null,
     "start_time": null,
     "status": "pending"
    },
    "tags": []
   },
   "outputs": [],
   "source": [
    "'{0:#_b}'.format(0b111010100001)"
   ]
  },
  {
   "cell_type": "code",
   "execution_count": null,
   "id": "fbab4c9b",
   "metadata": {
    "papermill": {
     "duration": null,
     "end_time": null,
     "exception": null,
     "start_time": null,
     "status": "pending"
    },
    "tags": []
   },
   "outputs": [],
   "source": [
    "'{0:_x}'.format(0xae123fcc8ab2)"
   ]
  },
  {
   "cell_type": "code",
   "execution_count": null,
   "id": "733d2c85",
   "metadata": {
    "papermill": {
     "duration": null,
     "end_time": null,
     "exception": null,
     "start_time": null,
     "status": "pending"
    },
    "tags": []
   },
   "outputs": [],
   "source": [
    "'{0:#_x}'.format(0xae123fcc8ab2)"
   ]
  },
  {
   "cell_type": "markdown",
   "id": "6908862a",
   "metadata": {
    "papermill": {
     "duration": null,
     "end_time": null,
     "exception": null,
     "start_time": null,
     "status": "pending"
    },
    "tags": []
   },
   "source": [
    "If you try to specify `<group>` with any presentation type other than those listed above, then your code will raise an exception."
   ]
  },
  {
   "cell_type": "markdown",
   "id": "da86cf1e",
   "metadata": {
    "papermill": {
     "duration": null,
     "end_time": null,
     "exception": null,
     "start_time": null,
     "status": "pending"
    },
    "tags": []
   },
   "source": [
    "<a class=\"anchor\" id=\"the_`.<prec>`_subcomponent\"></a>\n",
    "#### The `.<prec>` Subcomponent"
   ]
  },
  {
   "cell_type": "markdown",
   "id": "0c0987e8",
   "metadata": {
    "papermill": {
     "duration": null,
     "end_time": null,
     "exception": null,
     "start_time": null,
     "status": "pending"
    },
    "tags": []
   },
   "source": [
    "`.<prec>` specifies the number of digits after the decimal point for floating point presentation types:"
   ]
  },
  {
   "cell_type": "code",
   "execution_count": null,
   "id": "2f230a23",
   "metadata": {
    "papermill": {
     "duration": null,
     "end_time": null,
     "exception": null,
     "start_time": null,
     "status": "pending"
    },
    "tags": []
   },
   "outputs": [],
   "source": [
    "'{0:8.2f}'.format(1234.5678)"
   ]
  },
  {
   "cell_type": "code",
   "execution_count": null,
   "id": "c484043e",
   "metadata": {
    "papermill": {
     "duration": null,
     "end_time": null,
     "exception": null,
     "start_time": null,
     "status": "pending"
    },
    "tags": []
   },
   "outputs": [],
   "source": [
    "'{0:8.4f}'.format(1.23)"
   ]
  },
  {
   "cell_type": "code",
   "execution_count": null,
   "id": "25c307c3",
   "metadata": {
    "papermill": {
     "duration": null,
     "end_time": null,
     "exception": null,
     "start_time": null,
     "status": "pending"
    },
    "tags": []
   },
   "outputs": [],
   "source": [
    "'{0:8.2e}'.format(1234.5678)"
   ]
  },
  {
   "cell_type": "code",
   "execution_count": null,
   "id": "abdd9af0",
   "metadata": {
    "papermill": {
     "duration": null,
     "end_time": null,
     "exception": null,
     "start_time": null,
     "status": "pending"
    },
    "tags": []
   },
   "outputs": [],
   "source": [
    "'{0:8.4e}'.format(1.23)"
   ]
  },
  {
   "cell_type": "markdown",
   "id": "141910ef",
   "metadata": {
    "papermill": {
     "duration": null,
     "end_time": null,
     "exception": null,
     "start_time": null,
     "status": "pending"
    },
    "tags": []
   },
   "source": [
    "For string types, `.<prec>` specifies the maximum width of the converted output:"
   ]
  },
  {
   "cell_type": "code",
   "execution_count": null,
   "id": "6872fd7b",
   "metadata": {
    "papermill": {
     "duration": null,
     "end_time": null,
     "exception": null,
     "start_time": null,
     "status": "pending"
    },
    "tags": []
   },
   "outputs": [],
   "source": [
    "'{:.4s}'.format('foobar')"
   ]
  },
  {
   "cell_type": "markdown",
   "id": "3862cced",
   "metadata": {
    "papermill": {
     "duration": null,
     "end_time": null,
     "exception": null,
     "start_time": null,
     "status": "pending"
    },
    "tags": []
   },
   "source": [
    "If the output would be longer than the value specified, then it will be truncated."
   ]
  },
  {
   "cell_type": "markdown",
   "id": "6ad1222f",
   "metadata": {
    "papermill": {
     "duration": null,
     "end_time": null,
     "exception": null,
     "start_time": null,
     "status": "pending"
    },
    "tags": []
   },
   "source": [
    "<a class=\"anchor\" id=\"the_python_formatted_string_literal_(f-string)\"></a>\n",
    "## The Python Formatted String Literal (f-String)"
   ]
  },
  {
   "cell_type": "markdown",
   "id": "1552bf70",
   "metadata": {
    "papermill": {
     "duration": null,
     "end_time": null,
     "exception": null,
     "start_time": null,
     "status": "pending"
    },
    "tags": []
   },
   "source": [
    "In version 3.6, a new Python string formatting syntax was introduced, called the **formatted string literal**. These are also informally called **f-strings**, a term that was initially coined in [PEP 498](https://www.python.org/dev/peps/pep-0498), where they were first proposed."
   ]
  },
  {
   "cell_type": "markdown",
   "id": "25bc30f3",
   "metadata": {
    "papermill": {
     "duration": null,
     "end_time": null,
     "exception": null,
     "start_time": null,
     "status": "pending"
    },
    "tags": []
   },
   "source": [
    "<a class=\"anchor\" id=\"why_`str.format()`_isn’t_great\"></a>\n",
    "### Why `str.format()` Isn’t Great"
   ]
  },
  {
   "cell_type": "markdown",
   "id": "e864c8be",
   "metadata": {
    "papermill": {
     "duration": null,
     "end_time": null,
     "exception": null,
     "start_time": null,
     "status": "pending"
    },
    "tags": []
   },
   "source": [
    "Code using `str.format()` is much more easily readable than code using `%`-formatting, but `str.format()` can still be quite verbose when you are dealing with multiple parameters and longer strings. Take a look at this:"
   ]
  },
  {
   "cell_type": "code",
   "execution_count": null,
   "id": "183b3abc",
   "metadata": {
    "papermill": {
     "duration": null,
     "end_time": null,
     "exception": null,
     "start_time": null,
     "status": "pending"
    },
    "tags": []
   },
   "outputs": [],
   "source": [
    "first_name = \"Eric\"\n",
    "last_name = \"Idle\"\n",
    "age = 74\n",
    "profession = \"comedian\"\n",
    "affiliation = \"Monty Python\"\n",
    "print((\"Hello, {first_name} {last_name}. You are {age}. \" + \n",
    "       \"You are a {profession}. You were a member of {affiliation}.\") \\\n",
    "       .format(first_name=first_name, last_name=last_name, age=age, \\\n",
    "               profession=profession, affiliation=affiliation))"
   ]
  },
  {
   "cell_type": "markdown",
   "id": "859e2973",
   "metadata": {
    "papermill": {
     "duration": null,
     "end_time": null,
     "exception": null,
     "start_time": null,
     "status": "pending"
    },
    "tags": []
   },
   "source": [
    "If you had the variables you wanted to pass to `.format()` in a dictionary, then you could just unpack it with `.format(**some_dict)` and reference the values by key in the string, but there has got to be a better way to do this."
   ]
  },
  {
   "cell_type": "markdown",
   "id": "6985ccf6",
   "metadata": {
    "papermill": {
     "duration": null,
     "end_time": null,
     "exception": null,
     "start_time": null,
     "status": "pending"
    },
    "tags": []
   },
   "source": [
    "<a class=\"anchor\" id=\"f-string_syntax\"></a>\n",
    "### f-String Syntax"
   ]
  },
  {
   "cell_type": "markdown",
   "id": "08db7730",
   "metadata": {
    "papermill": {
     "duration": null,
     "end_time": null,
     "exception": null,
     "start_time": null,
     "status": "pending"
    },
    "tags": []
   },
   "source": [
    "An f-string looks very much like a typical Python string except that it’s prepended by the character `f`:"
   ]
  },
  {
   "cell_type": "code",
   "execution_count": null,
   "id": "f9520f18",
   "metadata": {
    "papermill": {
     "duration": null,
     "end_time": null,
     "exception": null,
     "start_time": null,
     "status": "pending"
    },
    "tags": []
   },
   "outputs": [],
   "source": [
    "f'foo bar baz'"
   ]
  },
  {
   "cell_type": "markdown",
   "id": "3adfc371",
   "metadata": {
    "papermill": {
     "duration": null,
     "end_time": null,
     "exception": null,
     "start_time": null,
     "status": "pending"
    },
    "tags": []
   },
   "source": [
    "You can also use an uppercase `F`:"
   ]
  },
  {
   "cell_type": "code",
   "execution_count": null,
   "id": "98129415",
   "metadata": {
    "papermill": {
     "duration": null,
     "end_time": null,
     "exception": null,
     "start_time": null,
     "status": "pending"
    },
    "tags": []
   },
   "outputs": [],
   "source": [
    "F'qux quux'"
   ]
  },
  {
   "cell_type": "code",
   "execution_count": null,
   "id": "66658a75",
   "metadata": {
    "papermill": {
     "duration": null,
     "end_time": null,
     "exception": null,
     "start_time": null,
     "status": "pending"
    },
    "tags": []
   },
   "outputs": [],
   "source": [
    "f'foo'"
   ]
  },
  {
   "cell_type": "code",
   "execution_count": null,
   "id": "812dfdec",
   "metadata": {
    "papermill": {
     "duration": null,
     "end_time": null,
     "exception": null,
     "start_time": null,
     "status": "pending"
    },
    "tags": []
   },
   "outputs": [],
   "source": [
    "f\"bar\""
   ]
  },
  {
   "cell_type": "code",
   "execution_count": null,
   "id": "df5e6cb4",
   "metadata": {
    "papermill": {
     "duration": null,
     "end_time": null,
     "exception": null,
     "start_time": null,
     "status": "pending"
    },
    "tags": []
   },
   "outputs": [],
   "source": [
    "f'''baz'''"
   ]
  },
  {
   "cell_type": "markdown",
   "id": "82c897c9",
   "metadata": {
    "papermill": {
     "duration": null,
     "end_time": null,
     "exception": null,
     "start_time": null,
     "status": "pending"
    },
    "tags": []
   },
   "source": [
    "The magic of f-strings is that you can embed Python expressions directly inside them. Any portion of an f-string that’s enclosed in curly braces (`{}`) is treated as an **expression**. The expression is evaluated and converted to string representation, and the result is interpolated into the original string in that location:"
   ]
  },
  {
   "cell_type": "code",
   "execution_count": null,
   "id": "28389a93",
   "metadata": {
    "papermill": {
     "duration": null,
     "end_time": null,
     "exception": null,
     "start_time": null,
     "status": "pending"
    },
    "tags": []
   },
   "outputs": [],
   "source": [
    "s = 'bar'"
   ]
  },
  {
   "cell_type": "code",
   "execution_count": null,
   "id": "1a65faf9",
   "metadata": {
    "papermill": {
     "duration": null,
     "end_time": null,
     "exception": null,
     "start_time": null,
     "status": "pending"
    },
    "tags": []
   },
   "outputs": [],
   "source": [
    "print(f'foo.{s}.baz')"
   ]
  },
  {
   "cell_type": "markdown",
   "id": "b70de323",
   "metadata": {
    "papermill": {
     "duration": null,
     "end_time": null,
     "exception": null,
     "start_time": null,
     "status": "pending"
    },
    "tags": []
   },
   "source": [
    "The interpreter treats the remainder of the f-string—anything not inside curly braces—just as it would an ordinary string. For example, escape sequences are processed as expected:"
   ]
  },
  {
   "cell_type": "code",
   "execution_count": null,
   "id": "90307166",
   "metadata": {
    "papermill": {
     "duration": null,
     "end_time": null,
     "exception": null,
     "start_time": null,
     "status": "pending"
    },
    "tags": []
   },
   "outputs": [],
   "source": [
    "s = 'bar'"
   ]
  },
  {
   "cell_type": "code",
   "execution_count": null,
   "id": "a4478533",
   "metadata": {
    "papermill": {
     "duration": null,
     "end_time": null,
     "exception": null,
     "start_time": null,
     "status": "pending"
    },
    "tags": []
   },
   "outputs": [],
   "source": [
    "print(f'foo\\n{s}\\nbaz')"
   ]
  },
  {
   "cell_type": "markdown",
   "id": "dd334af5",
   "metadata": {
    "papermill": {
     "duration": null,
     "end_time": null,
     "exception": null,
     "start_time": null,
     "status": "pending"
    },
    "tags": []
   },
   "source": [
    "Here’s the example from earlier using an f-string:"
   ]
  },
  {
   "cell_type": "code",
   "execution_count": null,
   "id": "b4462dd4",
   "metadata": {
    "papermill": {
     "duration": null,
     "end_time": null,
     "exception": null,
     "start_time": null,
     "status": "pending"
    },
    "tags": []
   },
   "outputs": [],
   "source": [
    "quantity = 6\n",
    "item = 'bananas'\n",
    "price = 1.74"
   ]
  },
  {
   "cell_type": "code",
   "execution_count": null,
   "id": "43f87623",
   "metadata": {
    "papermill": {
     "duration": null,
     "end_time": null,
     "exception": null,
     "start_time": null,
     "status": "pending"
    },
    "tags": []
   },
   "outputs": [],
   "source": [
    "print(f'{quantity} {item} cost ${price}')"
   ]
  },
  {
   "cell_type": "markdown",
   "id": "ca7aada7",
   "metadata": {
    "papermill": {
     "duration": null,
     "end_time": null,
     "exception": null,
     "start_time": null,
     "status": "pending"
    },
    "tags": []
   },
   "source": [
    "This is equivalent to the following:"
   ]
  },
  {
   "cell_type": "code",
   "execution_count": null,
   "id": "f671bdc8",
   "metadata": {
    "papermill": {
     "duration": null,
     "end_time": null,
     "exception": null,
     "start_time": null,
     "status": "pending"
    },
    "tags": []
   },
   "outputs": [],
   "source": [
    "quantity = 6\n",
    "item = 'bananas'\n",
    "price = 1.74"
   ]
  },
  {
   "cell_type": "code",
   "execution_count": null,
   "id": "eb45e229",
   "metadata": {
    "papermill": {
     "duration": null,
     "end_time": null,
     "exception": null,
     "start_time": null,
     "status": "pending"
    },
    "tags": []
   },
   "outputs": [],
   "source": [
    "print('{0} {1} cost ${2}'.format(quantity, item, price))"
   ]
  },
  {
   "cell_type": "markdown",
   "id": "e335e5ad",
   "metadata": {
    "papermill": {
     "duration": null,
     "end_time": null,
     "exception": null,
     "start_time": null,
     "status": "pending"
    },
    "tags": []
   },
   "source": [
    "Expressions embedded in f-strings can be almost arbitrarily complex. The examples below show some of the possibilities:"
   ]
  },
  {
   "cell_type": "markdown",
   "id": "858430b0",
   "metadata": {
    "papermill": {
     "duration": null,
     "end_time": null,
     "exception": null,
     "start_time": null,
     "status": "pending"
    },
    "tags": []
   },
   "source": [
    "- Variables"
   ]
  },
  {
   "cell_type": "code",
   "execution_count": null,
   "id": "bea2738c",
   "metadata": {
    "papermill": {
     "duration": null,
     "end_time": null,
     "exception": null,
     "start_time": null,
     "status": "pending"
    },
    "tags": []
   },
   "outputs": [],
   "source": [
    "quantity, item, price = 6, 'bananas', 1.74\n",
    "f'{quantity} {item} cost ${price}'"
   ]
  },
  {
   "cell_type": "markdown",
   "id": "43f3df5e",
   "metadata": {
    "papermill": {
     "duration": null,
     "end_time": null,
     "exception": null,
     "start_time": null,
     "status": "pending"
    },
    "tags": []
   },
   "source": [
    "- Arithmetic expressions"
   ]
  },
  {
   "cell_type": "code",
   "execution_count": null,
   "id": "1160d584",
   "metadata": {
    "papermill": {
     "duration": null,
     "end_time": null,
     "exception": null,
     "start_time": null,
     "status": "pending"
    },
    "tags": []
   },
   "outputs": [],
   "source": [
    "quantity, item, price = 6, 'bananas', 1.74\n",
    "print(f'Price per item is ${price/quantity}')"
   ]
  },
  {
   "cell_type": "code",
   "execution_count": null,
   "id": "addff7ef",
   "metadata": {
    "papermill": {
     "duration": null,
     "end_time": null,
     "exception": null,
     "start_time": null,
     "status": "pending"
    },
    "tags": []
   },
   "outputs": [],
   "source": [
    "x = 6\n",
    "print(f'{x} cubed is {x**3}')"
   ]
  },
  {
   "cell_type": "markdown",
   "id": "d76f5774",
   "metadata": {
    "papermill": {
     "duration": null,
     "end_time": null,
     "exception": null,
     "start_time": null,
     "status": "pending"
    },
    "tags": []
   },
   "source": [
    "- Objects of composite types"
   ]
  },
  {
   "cell_type": "code",
   "execution_count": null,
   "id": "74998017",
   "metadata": {
    "papermill": {
     "duration": null,
     "end_time": null,
     "exception": null,
     "start_time": null,
     "status": "pending"
    },
    "tags": []
   },
   "outputs": [],
   "source": [
    "a = ['foo', 'bar', 'baz']\n",
    "d = {'foo': 1, 'bar': 2}"
   ]
  },
  {
   "cell_type": "code",
   "execution_count": null,
   "id": "d078271d",
   "metadata": {
    "papermill": {
     "duration": null,
     "end_time": null,
     "exception": null,
     "start_time": null,
     "status": "pending"
    },
    "tags": []
   },
   "outputs": [],
   "source": [
    "print(f'a = {a} | d = {d}')"
   ]
  },
  {
   "cell_type": "markdown",
   "id": "0c914413",
   "metadata": {
    "papermill": {
     "duration": null,
     "end_time": null,
     "exception": null,
     "start_time": null,
     "status": "pending"
    },
    "tags": []
   },
   "source": [
    "- Indexing, slicing, and key references"
   ]
  },
  {
   "cell_type": "code",
   "execution_count": null,
   "id": "c357ac4a",
   "metadata": {
    "papermill": {
     "duration": null,
     "end_time": null,
     "exception": null,
     "start_time": null,
     "status": "pending"
    },
    "tags": []
   },
   "outputs": [],
   "source": [
    "a = ['foo', 'bar', 'baz']\n",
    "d = {'foo': 1, 'bar': 2}"
   ]
  },
  {
   "cell_type": "code",
   "execution_count": null,
   "id": "f507c669",
   "metadata": {
    "papermill": {
     "duration": null,
     "end_time": null,
     "exception": null,
     "start_time": null,
     "status": "pending"
    },
    "tags": []
   },
   "outputs": [],
   "source": [
    "print(f'First item in list a = {a[0]}')"
   ]
  },
  {
   "cell_type": "code",
   "execution_count": null,
   "id": "947a5f74",
   "metadata": {
    "papermill": {
     "duration": null,
     "end_time": null,
     "exception": null,
     "start_time": null,
     "status": "pending"
    },
    "tags": []
   },
   "outputs": [],
   "source": [
    "print(f'Last two items in list a = {a[-2:]}')"
   ]
  },
  {
   "cell_type": "code",
   "execution_count": null,
   "id": "a0063e53",
   "metadata": {
    "papermill": {
     "duration": null,
     "end_time": null,
     "exception": null,
     "start_time": null,
     "status": "pending"
    },
    "tags": []
   },
   "outputs": [],
   "source": [
    "print(f'List a reversed = {a[::-1]}')"
   ]
  },
  {
   "cell_type": "code",
   "execution_count": null,
   "id": "be7d83b7",
   "metadata": {
    "papermill": {
     "duration": null,
     "end_time": null,
     "exception": null,
     "start_time": null,
     "status": "pending"
    },
    "tags": []
   },
   "outputs": [],
   "source": [
    "print(f\"Dict value for key 'bar' is {d['bar']}\")"
   ]
  },
  {
   "cell_type": "markdown",
   "id": "96934ed3",
   "metadata": {
    "papermill": {
     "duration": null,
     "end_time": null,
     "exception": null,
     "start_time": null,
     "status": "pending"
    },
    "tags": []
   },
   "source": [
    "- Function and method calls"
   ]
  },
  {
   "cell_type": "code",
   "execution_count": null,
   "id": "5b248c54",
   "metadata": {
    "papermill": {
     "duration": null,
     "end_time": null,
     "exception": null,
     "start_time": null,
     "status": "pending"
    },
    "tags": []
   },
   "outputs": [],
   "source": [
    "a = ['foo', 'bar', 'baz', 'qux', 'quux']\n",
    "print(f'List a has {len(a)} items')"
   ]
  },
  {
   "cell_type": "code",
   "execution_count": null,
   "id": "95d7c581",
   "metadata": {
    "papermill": {
     "duration": null,
     "end_time": null,
     "exception": null,
     "start_time": null,
     "status": "pending"
    },
    "tags": []
   },
   "outputs": [],
   "source": [
    "s = 'foobar'\n",
    "f'--- {s.upper()} ---'"
   ]
  },
  {
   "cell_type": "code",
   "execution_count": null,
   "id": "47d40f38",
   "metadata": {
    "papermill": {
     "duration": null,
     "end_time": null,
     "exception": null,
     "start_time": null,
     "status": "pending"
    },
    "tags": []
   },
   "outputs": [],
   "source": [
    "d = {'foo': 1, 'bar': 2}\n",
    "print(f\"Dict value for key 'bar' is {d.get('bar')}\")"
   ]
  },
  {
   "cell_type": "markdown",
   "id": "917b419b",
   "metadata": {
    "papermill": {
     "duration": null,
     "end_time": null,
     "exception": null,
     "start_time": null,
     "status": "pending"
    },
    "tags": []
   },
   "source": [
    "- Conditional expressions"
   ]
  },
  {
   "cell_type": "code",
   "execution_count": null,
   "id": "88a08c81",
   "metadata": {
    "papermill": {
     "duration": null,
     "end_time": null,
     "exception": null,
     "start_time": null,
     "status": "pending"
    },
    "tags": []
   },
   "outputs": [],
   "source": [
    "x = 3\n",
    "y = 7\n",
    "print(f'The larger of {x} and {y} is {x if x > y else y}')"
   ]
  },
  {
   "cell_type": "code",
   "execution_count": null,
   "id": "ca36a657",
   "metadata": {
    "papermill": {
     "duration": null,
     "end_time": null,
     "exception": null,
     "start_time": null,
     "status": "pending"
    },
    "tags": []
   },
   "outputs": [],
   "source": [
    "age = 13\n",
    "f'I am {\"a minor\" if age < 18 else \"an adult\"}.'"
   ]
  },
  {
   "cell_type": "markdown",
   "id": "ef7e5bb7",
   "metadata": {
    "papermill": {
     "duration": null,
     "end_time": null,
     "exception": null,
     "start_time": null,
     "status": "pending"
    },
    "tags": []
   },
   "source": [
    "- Object attributes"
   ]
  },
  {
   "cell_type": "code",
   "execution_count": null,
   "id": "d6dc841a",
   "metadata": {
    "papermill": {
     "duration": null,
     "end_time": null,
     "exception": null,
     "start_time": null,
     "status": "pending"
    },
    "tags": []
   },
   "outputs": [],
   "source": [
    "z = 3+5j\n",
    "z"
   ]
  },
  {
   "cell_type": "code",
   "execution_count": null,
   "id": "64bdd0c9",
   "metadata": {
    "papermill": {
     "duration": null,
     "end_time": null,
     "exception": null,
     "start_time": null,
     "status": "pending"
    },
    "tags": []
   },
   "outputs": [],
   "source": [
    "print(f'real = {z.real}, imag = {z.imag}')"
   ]
  },
  {
   "cell_type": "markdown",
   "id": "29d9966d",
   "metadata": {
    "papermill": {
     "duration": null,
     "end_time": null,
     "exception": null,
     "start_time": null,
     "status": "pending"
    },
    "tags": []
   },
   "source": [
    "To include a literal curly brace in an f-string, escape it by doubling it, the same as you would in a template string for Python’s `.format()` method:"
   ]
  },
  {
   "cell_type": "code",
   "execution_count": null,
   "id": "ca55d60d",
   "metadata": {
    "papermill": {
     "duration": null,
     "end_time": null,
     "exception": null,
     "start_time": null,
     "status": "pending"
    },
    "tags": []
   },
   "outputs": [],
   "source": [
    "z = 'foobar'\n",
    "f'{{ {z[::-1]} }}'"
   ]
  },
  {
   "cell_type": "markdown",
   "id": "935ce9c6",
   "metadata": {
    "papermill": {
     "duration": null,
     "end_time": null,
     "exception": null,
     "start_time": null,
     "status": "pending"
    },
    "tags": []
   },
   "source": [
    "You may prefix an f-string with `'r'` or `'R'` to indicate that it is a raw f-string. In that case, backslash sequences are left intact, just like with an ordinary string:"
   ]
  },
  {
   "cell_type": "code",
   "execution_count": null,
   "id": "68048052",
   "metadata": {
    "papermill": {
     "duration": null,
     "end_time": null,
     "exception": null,
     "start_time": null,
     "status": "pending"
    },
    "tags": []
   },
   "outputs": [],
   "source": [
    "z = 'bar'"
   ]
  },
  {
   "cell_type": "code",
   "execution_count": null,
   "id": "64911198",
   "metadata": {
    "papermill": {
     "duration": null,
     "end_time": null,
     "exception": null,
     "start_time": null,
     "status": "pending"
    },
    "tags": []
   },
   "outputs": [],
   "source": [
    "print(f'foo\\n{z}\\nbaz')"
   ]
  },
  {
   "cell_type": "code",
   "execution_count": null,
   "id": "4305b3b5",
   "metadata": {
    "papermill": {
     "duration": null,
     "end_time": null,
     "exception": null,
     "start_time": null,
     "status": "pending"
    },
    "tags": []
   },
   "outputs": [],
   "source": [
    "print(rf'foo\\n{z}\\nbaz')"
   ]
  },
  {
   "cell_type": "code",
   "execution_count": null,
   "id": "42035f08",
   "metadata": {
    "papermill": {
     "duration": null,
     "end_time": null,
     "exception": null,
     "start_time": null,
     "status": "pending"
    },
    "tags": []
   },
   "outputs": [],
   "source": [
    "print(fr'foo\\n{z}\\nbaz')"
   ]
  },
  {
   "cell_type": "markdown",
   "id": "ddf88b27",
   "metadata": {
    "papermill": {
     "duration": null,
     "end_time": null,
     "exception": null,
     "start_time": null,
     "status": "pending"
    },
    "tags": []
   },
   "source": [
    "Note that you can specify the `'r'` first and then the `'f'`, or vice-versa."
   ]
  },
  {
   "cell_type": "markdown",
   "id": "cc9f1b82",
   "metadata": {
    "papermill": {
     "duration": null,
     "end_time": null,
     "exception": null,
     "start_time": null,
     "status": "pending"
    },
    "tags": []
   },
   "source": [
    "<a class=\"anchor\" id=\"f-string_expression_limitations\"></a>\n",
    "### f-String Expression Limitations"
   ]
  },
  {
   "cell_type": "markdown",
   "id": "e1683250",
   "metadata": {
    "papermill": {
     "duration": null,
     "end_time": null,
     "exception": null,
     "start_time": null,
     "status": "pending"
    },
    "tags": []
   },
   "source": [
    "There are a few minor **restrictions** on f-string expression. These aren’t too limiting, but you should know what they are. First, an f-string expression **can’t be empty**:"
   ]
  },
  {
   "cell_type": "code",
   "execution_count": null,
   "id": "4e483347",
   "metadata": {
    "papermill": {
     "duration": null,
     "end_time": null,
     "exception": null,
     "start_time": null,
     "status": "pending"
    },
    "tags": []
   },
   "outputs": [],
   "source": [
    "f'foo{}bar'"
   ]
  },
  {
   "cell_type": "markdown",
   "id": "e804fbeb",
   "metadata": {
    "papermill": {
     "duration": null,
     "end_time": null,
     "exception": null,
     "start_time": null,
     "status": "pending"
    },
    "tags": []
   },
   "source": [
    "It isn’t obvious why you’d want to do this. But if you feel compelled to try, then just know that it won’t work."
   ]
  },
  {
   "cell_type": "markdown",
   "id": "916a254e",
   "metadata": {
    "papermill": {
     "duration": null,
     "end_time": null,
     "exception": null,
     "start_time": null,
     "status": "pending"
    },
    "tags": []
   },
   "source": [
    "Additionally, an f-string expression **can’t contain a backslash (`\\`) character**. Among other things, that means you can’t use a backslash escape sequence in an f-string expression:"
   ]
  },
  {
   "cell_type": "code",
   "execution_count": null,
   "id": "6b4dfa5e",
   "metadata": {
    "papermill": {
     "duration": null,
     "end_time": null,
     "exception": null,
     "start_time": null,
     "status": "pending"
    },
    "tags": []
   },
   "outputs": [],
   "source": [
    "print(f'foo{\"\\n\"}bar \\\\')"
   ]
  },
  {
   "cell_type": "code",
   "execution_count": null,
   "id": "1fa5ede1",
   "metadata": {
    "papermill": {
     "duration": null,
     "end_time": null,
     "exception": null,
     "start_time": null,
     "status": "pending"
    },
    "tags": []
   },
   "outputs": [],
   "source": [
    "print(f'foo{\\'}bar')"
   ]
  },
  {
   "cell_type": "markdown",
   "id": "8a959497",
   "metadata": {
    "papermill": {
     "duration": null,
     "end_time": null,
     "exception": null,
     "start_time": null,
     "status": "pending"
    },
    "tags": []
   },
   "source": [
    "You can get around this limitation by creating a temporary variable that contains the escape sequence you want to insert:"
   ]
  },
  {
   "cell_type": "code",
   "execution_count": null,
   "id": "2532858c",
   "metadata": {
    "papermill": {
     "duration": null,
     "end_time": null,
     "exception": null,
     "start_time": null,
     "status": "pending"
    },
    "tags": []
   },
   "outputs": [],
   "source": [
    "nl = '\\n'\n",
    "print(f'foo{nl}bar')"
   ]
  },
  {
   "cell_type": "code",
   "execution_count": null,
   "id": "04b89bf9",
   "metadata": {
    "papermill": {
     "duration": null,
     "end_time": null,
     "exception": null,
     "start_time": null,
     "status": "pending"
    },
    "tags": []
   },
   "outputs": [],
   "source": [
    "quote = '\\''\n",
    "print(f'foo{quote}bar')"
   ]
  },
  {
   "cell_type": "markdown",
   "id": "305412f1",
   "metadata": {
    "papermill": {
     "duration": null,
     "end_time": null,
     "exception": null,
     "start_time": null,
     "status": "pending"
    },
    "tags": []
   },
   "source": [
    "Lastly, an expression in an f-string that is triple-quoted **can’t contain comments**:"
   ]
  },
  {
   "cell_type": "code",
   "execution_count": null,
   "id": "29a0d5e6",
   "metadata": {
    "papermill": {
     "duration": null,
     "end_time": null,
     "exception": null,
     "start_time": null,
     "status": "pending"
    },
    "tags": []
   },
   "outputs": [],
   "source": [
    "z = 'bar'"
   ]
  },
  {
   "cell_type": "code",
   "execution_count": null,
   "id": "9e5bb7a8",
   "metadata": {
    "papermill": {
     "duration": null,
     "end_time": null,
     "exception": null,
     "start_time": null,
     "status": "pending"
    },
    "tags": []
   },
   "outputs": [],
   "source": [
    "print(f'''foo{\n",
    "z\n",
    "}baz''')"
   ]
  },
  {
   "cell_type": "code",
   "execution_count": null,
   "id": "3158741a",
   "metadata": {
    "papermill": {
     "duration": null,
     "end_time": null,
     "exception": null,
     "start_time": null,
     "status": "pending"
    },
    "tags": []
   },
   "outputs": [],
   "source": [
    "print(f'''foo{\n",
    "z    # Comment\n",
    "}''')"
   ]
  },
  {
   "cell_type": "markdown",
   "id": "cb1d065e",
   "metadata": {
    "papermill": {
     "duration": null,
     "end_time": null,
     "exception": null,
     "start_time": null,
     "status": "pending"
    },
    "tags": []
   },
   "source": [
    "Note, however, that the multiline f-string may contain embedded newlines."
   ]
  },
  {
   "cell_type": "markdown",
   "id": "7ee00b78",
   "metadata": {
    "papermill": {
     "duration": null,
     "end_time": null,
     "exception": null,
     "start_time": null,
     "status": "pending"
    },
    "tags": []
   },
   "source": [
    "<a class=\"anchor\" id=\"f-string_formatting\"></a>\n",
    "### f-String Formatting"
   ]
  },
  {
   "cell_type": "markdown",
   "id": "b1f6d5b7",
   "metadata": {
    "papermill": {
     "duration": null,
     "end_time": null,
     "exception": null,
     "start_time": null,
     "status": "pending"
    },
    "tags": []
   },
   "source": [
    "Like Python’s `.format()` method, f-strings support extensive **modifiers** that control the final appearance of the output string. There’s more good news, too. If you’ve mastered the Python `.format()` method, then **you already know how to use Python to format f-strings!**"
   ]
  },
  {
   "cell_type": "markdown",
   "id": "e4800931",
   "metadata": {
    "papermill": {
     "duration": null,
     "end_time": null,
     "exception": null,
     "start_time": null,
     "status": "pending"
    },
    "tags": []
   },
   "source": [
    "Expressions in f-strings can be modified by a `<conversion>` or `<format_spec>`, just like replacement fields used in the `.format()` template. The syntax is identical. In fact, in both cases Python will format the replacement field using the same internal function. In the following example, `!r` is specified as a `<conversion>` component in the `.format()` template string:"
   ]
  },
  {
   "cell_type": "code",
   "execution_count": null,
   "id": "30404022",
   "metadata": {
    "papermill": {
     "duration": null,
     "end_time": null,
     "exception": null,
     "start_time": null,
     "status": "pending"
    },
    "tags": []
   },
   "outputs": [],
   "source": [
    "s = 'foo'\n",
    "'{0!r}'.format(s)"
   ]
  },
  {
   "cell_type": "markdown",
   "id": "27b8fb16",
   "metadata": {
    "papermill": {
     "duration": null,
     "end_time": null,
     "exception": null,
     "start_time": null,
     "status": "pending"
    },
    "tags": []
   },
   "source": [
    "This forces conversion to be performed by repr(). You can get essentially the same code using an f-string instead:"
   ]
  },
  {
   "cell_type": "code",
   "execution_count": null,
   "id": "27c724f0",
   "metadata": {
    "papermill": {
     "duration": null,
     "end_time": null,
     "exception": null,
     "start_time": null,
     "status": "pending"
    },
    "tags": []
   },
   "outputs": [],
   "source": [
    "s = 'foo'\n",
    "f'{s!r}'"
   ]
  },
  {
   "cell_type": "markdown",
   "id": "d6ac220c",
   "metadata": {
    "papermill": {
     "duration": null,
     "end_time": null,
     "exception": null,
     "start_time": null,
     "status": "pending"
    },
    "tags": []
   },
   "source": [
    "All the `<format_spec>` components that work with `.format()` also work with f-strings:"
   ]
  },
  {
   "cell_type": "code",
   "execution_count": null,
   "id": "c3bb9375",
   "metadata": {
    "papermill": {
     "duration": null,
     "end_time": null,
     "exception": null,
     "start_time": null,
     "status": "pending"
    },
    "tags": []
   },
   "outputs": [],
   "source": [
    "n = 123\n",
    "'{:=+8}'.format(n)"
   ]
  },
  {
   "cell_type": "code",
   "execution_count": null,
   "id": "6e3d68c3",
   "metadata": {
    "papermill": {
     "duration": null,
     "end_time": null,
     "exception": null,
     "start_time": null,
     "status": "pending"
    },
    "tags": []
   },
   "outputs": [],
   "source": [
    "f'{n:=+8}'"
   ]
  },
  {
   "cell_type": "code",
   "execution_count": null,
   "id": "01438158",
   "metadata": {
    "papermill": {
     "duration": null,
     "end_time": null,
     "exception": null,
     "start_time": null,
     "status": "pending"
    },
    "tags": []
   },
   "outputs": [],
   "source": [
    "s = 'foo'\n",
    "'{0:*^8}'.format(s)"
   ]
  },
  {
   "cell_type": "code",
   "execution_count": null,
   "id": "aea54244",
   "metadata": {
    "papermill": {
     "duration": null,
     "end_time": null,
     "exception": null,
     "start_time": null,
     "status": "pending"
    },
    "tags": []
   },
   "outputs": [],
   "source": [
    "f'{s:*^8}'"
   ]
  },
  {
   "cell_type": "code",
   "execution_count": null,
   "id": "20ae7513",
   "metadata": {
    "papermill": {
     "duration": null,
     "end_time": null,
     "exception": null,
     "start_time": null,
     "status": "pending"
    },
    "tags": []
   },
   "outputs": [],
   "source": [
    "n = 0b111010100001\n",
    "'{0:#_b}'.format(n)"
   ]
  },
  {
   "cell_type": "code",
   "execution_count": null,
   "id": "5b142161",
   "metadata": {
    "papermill": {
     "duration": null,
     "end_time": null,
     "exception": null,
     "start_time": null,
     "status": "pending"
    },
    "tags": []
   },
   "outputs": [],
   "source": [
    "f'{n:#_b}'"
   ]
  },
  {
   "cell_type": "markdown",
   "id": "7572e137",
   "metadata": {
    "papermill": {
     "duration": null,
     "end_time": null,
     "exception": null,
     "start_time": null,
     "status": "pending"
    },
    "tags": []
   },
   "source": [
    "f-strings and Python’s `.format()` method are, more or less, two different ways of doing the same thing, with f-strings being a more concise shorthand. The following expressions are essentially the same:\n",
    "\n",
    "```python\n",
    "f'{<expr>!<conversion>:<format_spec>}'\n",
    "\n",
    "'{0!<conversion>:<format_spec>}'.format(<expr>)\n",
    "```"
   ]
  },
  {
   "cell_type": "markdown",
   "id": "70119c61",
   "metadata": {
    "papermill": {
     "duration": null,
     "end_time": null,
     "exception": null,
     "start_time": null,
     "status": "pending"
    },
    "tags": []
   },
   "source": [
    "<a class=\"anchor\" id=\"python_f-string_benchmarks\"></a>\n",
    "## Python f-string benchmarks\n",
    "Python 3.6 f-strings have been shown to be the fastest string formatting method in microbenchmarks by Python core dev [Raymond Hettinger](https://twitter.com/raymondh):"
   ]
  },
  {
   "cell_type": "markdown",
   "id": "dd79e5eb",
   "metadata": {
    "papermill": {
     "duration": null,
     "end_time": null,
     "exception": null,
     "start_time": null,
     "status": "pending"
    },
    "tags": []
   },
   "source": [
    "<img src=\"./images/f-strings-speed.png\" alt=\"f-string speed comparison\" width=400 align=\"center\" />"
   ]
  },
  {
   "cell_type": "code",
   "execution_count": null,
   "id": "516d42d3",
   "metadata": {
    "papermill": {
     "duration": null,
     "end_time": null,
     "exception": null,
     "start_time": null,
     "status": "pending"
    },
    "tags": []
   },
   "outputs": [],
   "source": [
    "s = 'some text'\n",
    "t = '999999'"
   ]
  },
  {
   "cell_type": "code",
   "execution_count": null,
   "id": "9047c336",
   "metadata": {
    "papermill": {
     "duration": null,
     "end_time": null,
     "exception": null,
     "start_time": null,
     "status": "pending"
    },
    "tags": []
   },
   "outputs": [],
   "source": [
    "# f-string\n",
    "%timeit f'{s} {t}'"
   ]
  },
  {
   "cell_type": "code",
   "execution_count": null,
   "id": "1f4dd9c7",
   "metadata": {
    "papermill": {
     "duration": null,
     "end_time": null,
     "exception": null,
     "start_time": null,
     "status": "pending"
    },
    "tags": []
   },
   "outputs": [],
   "source": [
    "# string concatenation\n",
    "%timeit s + ' ' + t"
   ]
  },
  {
   "cell_type": "code",
   "execution_count": null,
   "id": "6263ff57",
   "metadata": {
    "papermill": {
     "duration": null,
     "end_time": null,
     "exception": null,
     "start_time": null,
     "status": "pending"
    },
    "tags": []
   },
   "outputs": [],
   "source": [
    "# join method\n",
    "%timeit ' '.join((s, t))"
   ]
  },
  {
   "cell_type": "code",
   "execution_count": null,
   "id": "898e8ed7",
   "metadata": {
    "papermill": {
     "duration": null,
     "end_time": null,
     "exception": null,
     "start_time": null,
     "status": "pending"
    },
    "tags": []
   },
   "outputs": [],
   "source": [
    "# string module operator\n",
    "%timeit '%s %s' % (s, t)"
   ]
  },
  {
   "cell_type": "code",
   "execution_count": null,
   "id": "ab003fcf",
   "metadata": {
    "papermill": {
     "duration": null,
     "end_time": null,
     "exception": null,
     "start_time": null,
     "status": "pending"
    },
    "tags": []
   },
   "outputs": [],
   "source": [
    "# .format method\n",
    "%timeit '{} {}'.format(s, t)"
   ]
  },
  {
   "cell_type": "code",
   "execution_count": null,
   "id": "4456e3ee",
   "metadata": {
    "papermill": {
     "duration": null,
     "end_time": null,
     "exception": null,
     "start_time": null,
     "status": "pending"
    },
    "tags": []
   },
   "outputs": [],
   "source": [
    "from string import Template"
   ]
  },
  {
   "cell_type": "code",
   "execution_count": null,
   "id": "52d66ae3",
   "metadata": {
    "papermill": {
     "duration": null,
     "end_time": null,
     "exception": null,
     "start_time": null,
     "status": "pending"
    },
    "tags": []
   },
   "outputs": [],
   "source": [
    "# string Template()\n",
    "%timeit Template('$s $t').substitute(s=s, t=t)"
   ]
  },
  {
   "cell_type": "markdown",
   "id": "d6d49dfd",
   "metadata": {
    "papermill": {
     "duration": null,
     "end_time": null,
     "exception": null,
     "start_time": null,
     "status": "pending"
    },
    "tags": []
   },
   "source": [
    "In relative speed factors, that’s:\n",
    "    \n",
    "- f-string: `1.0`\n",
    "- concatenate string: `1.33`\n",
    "- `.join()` sequence of strings: `1.73`\n",
    "- `%s` formatting operator: `2.40`\n",
    "- `.format()` method: `3.62`\n",
    "- `Template()` method: `11.48`"
   ]
  },
  {
   "cell_type": "markdown",
   "id": "5bedbdbd",
   "metadata": {
    "papermill": {
     "duration": null,
     "end_time": null,
     "exception": null,
     "start_time": null,
     "status": "pending"
    },
    "tags": []
   },
   "source": [
    "The reason for this speedy performance was described by Python core dev [Serhiy Storchaka](https://twitter.com/SerhiyStorchaka):"
   ]
  },
  {
   "cell_type": "markdown",
   "id": "38b4513a",
   "metadata": {
    "papermill": {
     "duration": null,
     "end_time": null,
     "exception": null,
     "start_time": null,
     "status": "pending"
    },
    "tags": []
   },
   "source": [
    "<img src=\"./images/f-strings-fast.png\" alt=\"why f-strings are so fast\" width=400 align=\"center\" />"
   ]
  },
  {
   "cell_type": "markdown",
   "id": "63a947af",
   "metadata": {
    "papermill": {
     "duration": null,
     "end_time": null,
     "exception": null,
     "start_time": null,
     "status": "pending"
    },
    "tags": []
   },
   "source": [
    "<a class=\"anchor\" id=\"conclusion\"></a>\n",
    "## Conclusion \n"
   ]
  },
  {
   "cell_type": "markdown",
   "id": "d5efb28a",
   "metadata": {
    "papermill": {
     "duration": null,
     "end_time": null,
     "exception": null,
     "start_time": null,
     "status": "pending"
    },
    "tags": []
   },
   "source": [
    "In this tutorial, you mastered two additional techniques that you can use in Python to format string data. You should now have all the tools you need to prepare string data for output or display!"
   ]
  },
  {
   "cell_type": "markdown",
   "id": "31dda0df",
   "metadata": {
    "papermill": {
     "duration": null,
     "end_time": null,
     "exception": null,
     "start_time": null,
     "status": "pending"
    },
    "tags": []
   },
   "source": [
    "You might be wondering which Python formatting technique you should use. Under what circumstances would you choose `.format()` over the **f-string**? See Python String Formatting Best Practices for some considerations to take into account."
   ]
  },
  {
   "cell_type": "markdown",
   "id": "f1bbe6ee",
   "metadata": {
    "papermill": {
     "duration": null,
     "end_time": null,
     "exception": null,
     "start_time": null,
     "status": "pending"
    },
    "tags": []
   },
   "source": [
    "In the next section, you’re going to learn more about **functions** in Python. Throughout this tutorial series, you’ve seen many examples of Python’s **built-in functions**. In Python, as in most programming languages, you can define your own custom **user-defined functions** as well. If you can’t wait to learn how then continue on to the next section!"
   ]
  },
  {
   "cell_type": "markdown",
   "id": "dec7ed10",
   "metadata": {
    "papermill": {
     "duration": null,
     "end_time": null,
     "exception": null,
     "start_time": null,
     "status": "pending"
    },
    "tags": []
   },
   "source": [
    "<a class=\"anchor\" id=\"further_reading\"></a>\n",
    "## Further Reading\n",
    "If you’d like to read an extended discussion about string interpolation, take a look at [PEP 502](https://www.python.org/dev/peps/pep-0502/). Also, the [PEP 536](https://www.python.org/dev/peps/pep-0536/) draft has some more thoughts about the future of f-strings."
   ]
  },
  {
   "cell_type": "markdown",
   "id": "f225a1a2",
   "metadata": {
    "papermill": {
     "duration": null,
     "end_time": null,
     "exception": null,
     "start_time": null,
     "status": "pending"
    },
    "tags": []
   },
   "source": [
    "For more fun with strings, check out the following articles:\n",
    "\n",
    "- [Python String Formatting Best Practices](https://realpython.com/python-string-formatting/) by Dan Bader\n",
    "- [Practical Introduction to Web Scraping in Python](https://realpython.com/python-web-scraping-practical-introduction/) by Colin OKeefe"
   ]
  }
 ],
 "metadata": {
  "kernelspec": {
   "display_name": "Python 3",
   "language": "python",
   "name": "python3"
  },
  "language_info": {
   "codemirror_mode": {
    "name": "ipython",
    "version": 3
   },
   "file_extension": ".py",
   "mimetype": "text/x-python",
   "name": "python",
   "nbconvert_exporter": "python",
   "pygments_lexer": "ipython3",
   "version": "3.10.12"
  },
  "papermill": {
   "default_parameters": {},
   "duration": 6.388867,
   "end_time": "2023-10-15T08:54:51.222222",
   "environment_variables": {},
   "exception": true,
   "input_path": "__notebook__.ipynb",
   "output_path": "__notebook__.ipynb",
   "parameters": {},
   "start_time": "2023-10-15T08:54:44.833355",
   "version": "2.4.0"
  }
 },
 "nbformat": 4,
 "nbformat_minor": 5
}
