{
 "cells": [
  {
   "cell_type": "markdown",
   "id": "880d5e0f",
   "metadata": {
    "papermill": {
     "duration": 0.019787,
     "end_time": "2023-10-15T11:07:08.026878",
     "exception": false,
     "start_time": "2023-10-15T11:07:08.007091",
     "status": "completed"
    },
    "tags": []
   },
   "source": []
  },
  {
   "cell_type": "markdown",
   "id": "5ac7711f",
   "metadata": {
    "papermill": {
     "duration": 0.018571,
     "end_time": "2023-10-15T11:07:08.066507",
     "exception": false,
     "start_time": "2023-10-15T11:07:08.047936",
     "status": "completed"
    },
    "tags": []
   },
   "source": [
    "#  Namespaces and Scope in Python \n"
   ]
  },
  {
   "cell_type": "markdown",
   "id": "6a9755fe",
   "metadata": {
    "papermill": {
     "duration": 0.018679,
     "end_time": "2023-10-15T11:07:08.104097",
     "exception": false,
     "start_time": "2023-10-15T11:07:08.085418",
     "status": "completed"
    },
    "tags": []
   },
   "source": [
    "##  Table of Contents \n",
    "* [Namespaces in Python](#namespaces_in_python)\n",
    "    * [The Built-In Namespace](#the_built-in_namespace)\n",
    "    * [The Global Namespace](#the_global_namespace)\n",
    "    * [The Local and Enclosing Namespaces](#the_local_and_enclosing_namespaces)\n",
    "* [Variable Scope](#variable_scope)\n",
    "    * [Examples](#examples)\n",
    "        * [Example 1: Single Definition](#example_1:_single_definition)\n",
    "        * [Example 2: Double Definition](#example_2:_double_definition)\n",
    "        * [Example 3: Triple Definition](#example_3:_triple_definition)\n",
    "        * [Example 4: No Definition](#example_4:_no_definition)\n",
    "* [Python Namespace Dictionaries](#python_namespace_dictionaries)\n",
    "    * [The `globals()` function](#the_`globals()`_function)\n",
    "    * [The `locals()` function](#the_`locals()`_function)\n",
    "* [Modify Variables Out of Scope](#modify_variables_out_of_scope)\n",
    "    * [The `global` Declaration](#the_`global`_declaration)\n",
    "    * [The `nonlocal` Declaration](#the_`nonlocal`_declaration)\n",
    "    * [Best Practices](#best_practices)\n",
    "* [ Conclusion](#<img_src=\"../../images/logos/checkmark.png\"_width=\"20\"/>_conclusion)\n",
    "\n",
    "---"
   ]
  },
  {
   "cell_type": "markdown",
   "id": "80177ea6",
   "metadata": {
    "papermill": {
     "duration": 0.018975,
     "end_time": "2023-10-15T11:07:08.142284",
     "exception": false,
     "start_time": "2023-10-15T11:07:08.123309",
     "status": "completed"
    },
    "tags": []
   },
   "source": [
    "This tutorial covers Python **namespaces**, the structures used to organize the symbolic names assigned to objects in a Python program."
   ]
  },
  {
   "cell_type": "markdown",
   "id": "5762db49",
   "metadata": {
    "papermill": {
     "duration": 0.019128,
     "end_time": "2023-10-15T11:07:08.240550",
     "exception": false,
     "start_time": "2023-10-15T11:07:08.221422",
     "status": "completed"
    },
    "tags": []
   },
   "source": [
    "The previous tutorials in this series have emphasized the importance of **objects** in Python. Objects are everywhere! Virtually everything that your Python program creates or acts on is an object."
   ]
  },
  {
   "cell_type": "markdown",
   "id": "665b7efd",
   "metadata": {
    "papermill": {
     "duration": 0.018833,
     "end_time": "2023-10-15T11:07:08.291147",
     "exception": false,
     "start_time": "2023-10-15T11:07:08.272314",
     "status": "completed"
    },
    "tags": []
   },
   "source": [
    "An **assignment statement** creates a **symbolic name** that you can use to reference an object. The statement `x = 'foo'` creates a symbolic name `x` that refers to the string object `'foo'`."
   ]
  },
  {
   "cell_type": "markdown",
   "id": "11cbb096",
   "metadata": {
    "papermill": {
     "duration": 0.018635,
     "end_time": "2023-10-15T11:07:08.328743",
     "exception": false,
     "start_time": "2023-10-15T11:07:08.310108",
     "status": "completed"
    },
    "tags": []
   },
   "source": [
    "In a program of any complexity, you’ll create hundreds or thousands of such names, each pointing to a specific object. How does Python keep track of all these names so that they don’t interfere with one another?"
   ]
  },
  {
   "cell_type": "markdown",
   "id": "6cd469d1",
   "metadata": {
    "papermill": {
     "duration": 0.018792,
     "end_time": "2023-10-15T11:07:08.366539",
     "exception": false,
     "start_time": "2023-10-15T11:07:08.347747",
     "status": "completed"
    },
    "tags": []
   },
   "source": [
    "**In this tutorial, you’ll learn:**\n",
    "\n",
    "- How Python organizes symbolic names and objects in **namespaces**\n",
    "- When Python creates a new namespace\n",
    "- How namespaces are implemented\n",
    "- How **variable scope** determines symbolic name visibility"
   ]
  },
  {
   "cell_type": "markdown",
   "id": "a9fcd254",
   "metadata": {
    "papermill": {
     "duration": 0.018747,
     "end_time": "2023-10-15T11:07:08.404344",
     "exception": false,
     "start_time": "2023-10-15T11:07:08.385597",
     "status": "completed"
    },
    "tags": []
   },
   "source": [
    "<a class=\"anchor\" id=\"namespaces_in_python\"></a>\n",
    "## Namespaces in Python"
   ]
  },
  {
   "cell_type": "markdown",
   "id": "4f0c64de",
   "metadata": {
    "papermill": {
     "duration": 0.018972,
     "end_time": "2023-10-15T11:07:08.442368",
     "exception": false,
     "start_time": "2023-10-15T11:07:08.423396",
     "status": "completed"
    },
    "tags": []
   },
   "source": [
    "A namespace is a collection of currently defined symbolic names along with information about the object that each name references. You can think of a namespace as a dictionary in which the keys are the object names and the values are the objects themselves. Each key-value pair maps a name to its corresponding object.\n",
    "\n",
    "> Namespaces are one honking great idea—let’s do more of those!\n",
    "> \n",
    "> — _The Zen of Python, by Tim Peters_"
   ]
  },
  {
   "cell_type": "markdown",
   "id": "42cfcd50",
   "metadata": {
    "papermill": {
     "duration": 0.018589,
     "end_time": "2023-10-15T11:07:08.480308",
     "exception": false,
     "start_time": "2023-10-15T11:07:08.461719",
     "status": "completed"
    },
    "tags": []
   },
   "source": [
    "As Tim Peters suggests, namespaces aren’t just great. They’re honking great, and Python uses them extensively. In a Python program, there are four types of namespaces:\n",
    "\n",
    "1. Built-In\n",
    "2. Global\n",
    "3. Enclosing\n",
    "4. Local"
   ]
  },
  {
   "cell_type": "markdown",
   "id": "92405732",
   "metadata": {
    "papermill": {
     "duration": 0.01979,
     "end_time": "2023-10-15T11:07:08.519505",
     "exception": false,
     "start_time": "2023-10-15T11:07:08.499715",
     "status": "completed"
    },
    "tags": []
   },
   "source": [
    "These have differing lifetimes. As Python executes a program, it creates namespaces as necessary and deletes them when they’re no longer needed. Typically, many namespaces will exist at any given time."
   ]
  },
  {
   "cell_type": "markdown",
   "id": "9aa61b5b",
   "metadata": {
    "papermill": {
     "duration": 0.019224,
     "end_time": "2023-10-15T11:07:08.558755",
     "exception": false,
     "start_time": "2023-10-15T11:07:08.539531",
     "status": "completed"
    },
    "tags": []
   },
   "source": [
    "<a class=\"anchor\" id=\"the_built-in_namespace\"></a>\n",
    "### The Built-In Namespace"
   ]
  },
  {
   "cell_type": "markdown",
   "id": "f72f2348",
   "metadata": {
    "papermill": {
     "duration": 0.018563,
     "end_time": "2023-10-15T11:07:08.596249",
     "exception": false,
     "start_time": "2023-10-15T11:07:08.577686",
     "status": "completed"
    },
    "tags": []
   },
   "source": [
    "The **built-in namespace** contains the names of all of Python’s built-in objects. These are available at all times when Python is running. You can list the objects in the built-in namespace with the following command:"
   ]
  },
  {
   "cell_type": "code",
   "execution_count": 1,
   "id": "24b4b18a",
   "metadata": {
    "execution": {
     "iopub.execute_input": "2023-10-15T11:07:08.637331Z",
     "iopub.status.busy": "2023-10-15T11:07:08.636624Z",
     "iopub.status.idle": "2023-10-15T11:07:08.644908Z",
     "shell.execute_reply": "2023-10-15T11:07:08.644089Z"
    },
    "papermill": {
     "duration": 0.031765,
     "end_time": "2023-10-15T11:07:08.647088",
     "exception": false,
     "start_time": "2023-10-15T11:07:08.615323",
     "status": "completed"
    },
    "tags": []
   },
   "outputs": [],
   "source": [
    "import builtins"
   ]
  },
  {
   "cell_type": "code",
   "execution_count": 2,
   "id": "e469a081",
   "metadata": {
    "execution": {
     "iopub.execute_input": "2023-10-15T11:07:08.687894Z",
     "iopub.status.busy": "2023-10-15T11:07:08.687201Z",
     "iopub.status.idle": "2023-10-15T11:07:08.690814Z",
     "shell.execute_reply": "2023-10-15T11:07:08.690145Z"
    },
    "papermill": {
     "duration": 0.025847,
     "end_time": "2023-10-15T11:07:08.692607",
     "exception": false,
     "start_time": "2023-10-15T11:07:08.666760",
     "status": "completed"
    },
    "tags": []
   },
   "outputs": [],
   "source": [
    "# dir(__builtins__)"
   ]
  },
  {
   "cell_type": "markdown",
   "id": "a6c6a141",
   "metadata": {
    "papermill": {
     "duration": 0.018674,
     "end_time": "2023-10-15T11:07:08.730720",
     "exception": false,
     "start_time": "2023-10-15T11:07:08.712046",
     "status": "completed"
    },
    "tags": []
   },
   "source": [
    "You’ll see some objects here that you may recognize from previous sections—for example, the `StopIteration` exception, built-in functions like `max()` and `len()`, and object types like `int` and `str`."
   ]
  },
  {
   "cell_type": "markdown",
   "id": "e8421693",
   "metadata": {
    "papermill": {
     "duration": 0.018922,
     "end_time": "2023-10-15T11:07:08.768760",
     "exception": false,
     "start_time": "2023-10-15T11:07:08.749838",
     "status": "completed"
    },
    "tags": []
   },
   "source": [
    "The Python interpreter creates the built-in namespace when it starts up. This namespace remains in existence until the interpreter terminates."
   ]
  },
  {
   "cell_type": "markdown",
   "id": "14a63eaf",
   "metadata": {
    "papermill": {
     "duration": 0.019191,
     "end_time": "2023-10-15T11:07:08.807010",
     "exception": false,
     "start_time": "2023-10-15T11:07:08.787819",
     "status": "completed"
    },
    "tags": []
   },
   "source": [
    "<a class=\"anchor\" id=\"the_global_namespace\"></a>\n",
    "### The Global Namespace"
   ]
  },
  {
   "cell_type": "markdown",
   "id": "b60f5505",
   "metadata": {
    "papermill": {
     "duration": 0.018855,
     "end_time": "2023-10-15T11:07:08.845070",
     "exception": false,
     "start_time": "2023-10-15T11:07:08.826215",
     "status": "completed"
    },
    "tags": []
   },
   "source": [
    "The **global namespace** contains any names defined at the level of the main program. Python creates the global namespace when the main program body starts, and it remains in existence until the interpreter terminates."
   ]
  },
  {
   "cell_type": "markdown",
   "id": "947082bb",
   "metadata": {
    "papermill": {
     "duration": 0.018971,
     "end_time": "2023-10-15T11:07:08.883007",
     "exception": false,
     "start_time": "2023-10-15T11:07:08.864036",
     "status": "completed"
    },
    "tags": []
   },
   "source": [
    "Strictly speaking, this may not be the only global namespace that exists. The interpreter also creates a global namespace for any **module** that your program loads with the import statement. Further information on main functions and modules in Python will be covered later after OOP."
   ]
  },
  {
   "cell_type": "markdown",
   "id": "6fa4d3a9",
   "metadata": {
    "papermill": {
     "duration": 0.018717,
     "end_time": "2023-10-15T11:07:08.920926",
     "exception": false,
     "start_time": "2023-10-15T11:07:08.902209",
     "status": "completed"
    },
    "tags": []
   },
   "source": [
    "You’ll explore modules in more detail in a future tutorial in this series. For the moment, when you see the term global namespace, think of the one belonging to the main program."
   ]
  },
  {
   "cell_type": "markdown",
   "id": "c7e3f587",
   "metadata": {
    "papermill": {
     "duration": 0.018582,
     "end_time": "2023-10-15T11:07:08.958536",
     "exception": false,
     "start_time": "2023-10-15T11:07:08.939954",
     "status": "completed"
    },
    "tags": []
   },
   "source": [
    "<a class=\"anchor\" id=\"the_local_and_enclosing_namespaces\"></a>\n",
    "### The Local and Enclosing Namespaces"
   ]
  },
  {
   "cell_type": "markdown",
   "id": "aa9a1e61",
   "metadata": {
    "papermill": {
     "duration": 0.018764,
     "end_time": "2023-10-15T11:07:08.996341",
     "exception": false,
     "start_time": "2023-10-15T11:07:08.977577",
     "status": "completed"
    },
    "tags": []
   },
   "source": [
    "As you learned in the previous tutorial on functions, the interpreter creates a new namespace whenever a function executes. That namespace is local to the function and remains in existence until the function terminates."
   ]
  },
  {
   "cell_type": "markdown",
   "id": "5c70a99d",
   "metadata": {
    "papermill": {
     "duration": 0.018605,
     "end_time": "2023-10-15T11:07:09.033942",
     "exception": false,
     "start_time": "2023-10-15T11:07:09.015337",
     "status": "completed"
    },
    "tags": []
   },
   "source": [
    "Functions don’t exist independently from one another only at the level of the main program. You can also define one function inside another:"
   ]
  },
  {
   "cell_type": "code",
   "execution_count": 3,
   "id": "7d6f7f8f",
   "metadata": {
    "execution": {
     "iopub.execute_input": "2023-10-15T11:07:09.073729Z",
     "iopub.status.busy": "2023-10-15T11:07:09.073065Z",
     "iopub.status.idle": "2023-10-15T11:07:09.078589Z",
     "shell.execute_reply": "2023-10-15T11:07:09.077742Z"
    },
    "papermill": {
     "duration": 0.027697,
     "end_time": "2023-10-15T11:07:09.080508",
     "exception": false,
     "start_time": "2023-10-15T11:07:09.052811",
     "status": "completed"
    },
    "tags": []
   },
   "outputs": [
    {
     "name": "stdout",
     "output_type": "stream",
     "text": [
      "Start f()\n",
      "Start g()\n",
      "End g()\n",
      "End f()\n"
     ]
    }
   ],
   "source": [
    "def f():\n",
    "    print('Start f()')\n",
    "\n",
    "    def g():\n",
    "        print('Start g()')\n",
    "        print('End g()')\n",
    "        return\n",
    "\n",
    "    g()\n",
    "\n",
    "    print('End f()')\n",
    "    return\n",
    "\n",
    "\n",
    "f()"
   ]
  },
  {
   "cell_type": "markdown",
   "id": "1ba4a57c",
   "metadata": {
    "papermill": {
     "duration": 0.019008,
     "end_time": "2023-10-15T11:07:09.119038",
     "exception": false,
     "start_time": "2023-10-15T11:07:09.100030",
     "status": "completed"
    },
    "tags": []
   },
   "source": [
    "In this example, function `g()` is defined within the body of `f()`. Here’s what’s happening in this code:"
   ]
  },
  {
   "cell_type": "markdown",
   "id": "e2d2ea2c",
   "metadata": {
    "papermill": {
     "duration": 0.019283,
     "end_time": "2023-10-15T11:07:09.157736",
     "exception": false,
     "start_time": "2023-10-15T11:07:09.138453",
     "status": "completed"
    },
    "tags": []
   },
   "source": [
    "- **Lines 1 to 12** define `f()`, the **enclosing** function.\n",
    "- **Lines 4 to 7** define `g()`, the **enclosed** function.\n",
    "- On **line 15**, the main program calls `f()`.\n",
    "- On **line 9**, `f()` calls `g()`."
   ]
  },
  {
   "cell_type": "markdown",
   "id": "02cef6b3",
   "metadata": {
    "papermill": {
     "duration": 0.019181,
     "end_time": "2023-10-15T11:07:09.196410",
     "exception": false,
     "start_time": "2023-10-15T11:07:09.177229",
     "status": "completed"
    },
    "tags": []
   },
   "source": [
    "When the main program calls `f()`, Python creates a new namespace for `f()`. Similarly, when `f()` calls `g()`, `g()` gets its own separate namespace. The namespace created for g() is the **local namespace**, and the namespace created for `f()` is the **enclosing namespace**."
   ]
  },
  {
   "cell_type": "markdown",
   "id": "eef25427",
   "metadata": {
    "papermill": {
     "duration": 0.019058,
     "end_time": "2023-10-15T11:07:09.234938",
     "exception": false,
     "start_time": "2023-10-15T11:07:09.215880",
     "status": "completed"
    },
    "tags": []
   },
   "source": [
    "Each of these namespaces remains in existence until its respective function terminates. Python might not immediately reclaim the memory allocated for those namespaces when their functions terminate, but all references to the objects they contain cease to be valid."
   ]
  },
  {
   "cell_type": "code",
   "execution_count": 4,
   "id": "595e6573",
   "metadata": {
    "execution": {
     "iopub.execute_input": "2023-10-15T11:07:09.275449Z",
     "iopub.status.busy": "2023-10-15T11:07:09.274825Z",
     "iopub.status.idle": "2023-10-15T11:07:09.278839Z",
     "shell.execute_reply": "2023-10-15T11:07:09.278162Z"
    },
    "papermill": {
     "duration": 0.026673,
     "end_time": "2023-10-15T11:07:09.280702",
     "exception": false,
     "start_time": "2023-10-15T11:07:09.254029",
     "status": "completed"
    },
    "tags": []
   },
   "outputs": [],
   "source": [
    "x = 2\n",
    "def f():\n",
    "    x = 3\n",
    "    def g():\n",
    "        x = 2\n",
    "        print('here')\n",
    "        \n",
    "    g()"
   ]
  },
  {
   "cell_type": "code",
   "execution_count": 5,
   "id": "9879987f",
   "metadata": {
    "execution": {
     "iopub.execute_input": "2023-10-15T11:07:09.324056Z",
     "iopub.status.busy": "2023-10-15T11:07:09.323401Z",
     "iopub.status.idle": "2023-10-15T11:07:09.328306Z",
     "shell.execute_reply": "2023-10-15T11:07:09.327169Z"
    },
    "papermill": {
     "duration": 0.028513,
     "end_time": "2023-10-15T11:07:09.330256",
     "exception": false,
     "start_time": "2023-10-15T11:07:09.301743",
     "status": "completed"
    },
    "tags": []
   },
   "outputs": [
    {
     "name": "stdout",
     "output_type": "stream",
     "text": [
      "here\n"
     ]
    }
   ],
   "source": [
    "f()"
   ]
  },
  {
   "cell_type": "markdown",
   "id": "7334cf63",
   "metadata": {
    "papermill": {
     "duration": 0.019214,
     "end_time": "2023-10-15T11:07:09.369157",
     "exception": false,
     "start_time": "2023-10-15T11:07:09.349943",
     "status": "completed"
    },
    "tags": []
   },
   "source": [
    "<a class=\"anchor\" id=\"variable_scope\"></a>\n",
    "## Variable Scope"
   ]
  },
  {
   "cell_type": "markdown",
   "id": "f476abcc",
   "metadata": {
    "papermill": {
     "duration": 0.019003,
     "end_time": "2023-10-15T11:07:09.407704",
     "exception": false,
     "start_time": "2023-10-15T11:07:09.388701",
     "status": "completed"
    },
    "tags": []
   },
   "source": [
    "The existence of multiple, distinct namespaces means several different instances of a particular name can exist simultaneously while a Python program runs. As long as each instance is in a different namespace, they’re all maintained separately and won’t interfere with one another."
   ]
  },
  {
   "cell_type": "markdown",
   "id": "700fa43a",
   "metadata": {
    "papermill": {
     "duration": 0.019002,
     "end_time": "2023-10-15T11:07:09.446134",
     "exception": false,
     "start_time": "2023-10-15T11:07:09.427132",
     "status": "completed"
    },
    "tags": []
   },
   "source": [
    "But that raises a question: Suppose you refer to the name `x` in your code, and `x` exists in several namespaces. How does Python know which one you mean?"
   ]
  },
  {
   "cell_type": "markdown",
   "id": "718b8c4e",
   "metadata": {
    "papermill": {
     "duration": 0.019167,
     "end_time": "2023-10-15T11:07:09.484821",
     "exception": false,
     "start_time": "2023-10-15T11:07:09.465654",
     "status": "completed"
    },
    "tags": []
   },
   "source": [
    "The answer lies in the concept of **scope**. The scope of a name is the region of a program in which that name has meaning. The interpreter determines this at runtime based on where the name definition occurs and where in the code the name is referenced."
   ]
  },
  {
   "cell_type": "markdown",
   "id": "850ad9b6",
   "metadata": {
    "papermill": {
     "duration": 0.021761,
     "end_time": "2023-10-15T11:07:09.526078",
     "exception": false,
     "start_time": "2023-10-15T11:07:09.504317",
     "status": "completed"
    },
    "tags": []
   },
   "source": [
    "> **Further Reading:** See the Wikipedia page on [scope in computer programming](https://en.wikipedia.org/wiki/Scope_(computer_science)) for a very thorough discussion of variable scope in programming languages."
   ]
  },
  {
   "cell_type": "markdown",
   "id": "406e4e85",
   "metadata": {
    "papermill": {
     "duration": 0.019032,
     "end_time": "2023-10-15T11:07:09.564587",
     "exception": false,
     "start_time": "2023-10-15T11:07:09.545555",
     "status": "completed"
    },
    "tags": []
   },
   "source": [
    "To return to the above question, if your code refers to the name `x`, then Python searches for `x` in the following namespaces in the order shown:\n",
    "\n",
    "1. **Local**: If you refer to `x` inside a function, then the interpreter first searches for it in the innermost scope that’s local to that function.\n",
    "2. **Enclosing**: If `x` isn’t in the local scope but appears in a function that resides inside another function, then the interpreter searches in the enclosing function’s scope.\n",
    "3. **Global**: If neither of the above searches is fruitful, then the interpreter looks in the global scope next.\n",
    "4. **Built-in**: If it can’t find x anywhere else, then the interpreter tries the built-in scope."
   ]
  },
  {
   "cell_type": "markdown",
   "id": "02e2223a",
   "metadata": {
    "papermill": {
     "duration": 0.019364,
     "end_time": "2023-10-15T11:07:09.603453",
     "exception": false,
     "start_time": "2023-10-15T11:07:09.584089",
     "status": "completed"
    },
    "tags": []
   },
   "source": [
    "This is the **LEGB rule** as it’s commonly called in Python literature (although the term doesn’t actually appear in the Python documentation). The interpreter searches for a name from the inside out, looking in the **l**ocal, **e**nclosing, **g**lobal, and finally the **b**uilt-in scope:"
   ]
  },
  {
   "cell_type": "markdown",
   "id": "47635168",
   "metadata": {
    "papermill": {
     "duration": 0.032406,
     "end_time": "2023-10-15T11:07:09.655163",
     "exception": false,
     "start_time": "2023-10-15T11:07:09.622757",
     "status": "completed"
    },
    "tags": []
   },
   "source": []
  },
  {
   "cell_type": "markdown",
   "id": "5431e29d",
   "metadata": {
    "papermill": {
     "duration": 0.026508,
     "end_time": "2023-10-15T11:07:09.702922",
     "exception": false,
     "start_time": "2023-10-15T11:07:09.676414",
     "status": "completed"
    },
    "tags": []
   },
   "source": [
    "If the interpreter doesn’t find the name in any of these locations, then Python raises a `NameError` exception."
   ]
  },
  {
   "cell_type": "markdown",
   "id": "0886b1d6",
   "metadata": {
    "papermill": {
     "duration": 0.01946,
     "end_time": "2023-10-15T11:07:09.742077",
     "exception": false,
     "start_time": "2023-10-15T11:07:09.722617",
     "status": "completed"
    },
    "tags": []
   },
   "source": [
    "<a class=\"anchor\" id=\"examples\"></a>\n",
    "### Examples"
   ]
  },
  {
   "cell_type": "markdown",
   "id": "4666a7e2",
   "metadata": {
    "papermill": {
     "duration": 0.020225,
     "end_time": "2023-10-15T11:07:09.781665",
     "exception": false,
     "start_time": "2023-10-15T11:07:09.761440",
     "status": "completed"
    },
    "tags": []
   },
   "source": [
    "Several examples of the LEGB rule appear below. In each case, the innermost enclosed function `g()` attempts to display the value of a variable named `x` to the console. Notice how each example prints a different value for `x` depending on its scope."
   ]
  },
  {
   "cell_type": "markdown",
   "id": "454f743a",
   "metadata": {
    "papermill": {
     "duration": 0.019681,
     "end_time": "2023-10-15T11:07:09.822138",
     "exception": false,
     "start_time": "2023-10-15T11:07:09.802457",
     "status": "completed"
    },
    "tags": []
   },
   "source": [
    "<a class=\"anchor\" id=\"example_1:_single_definition\"></a>\n",
    "#### Example 1: Single Definition"
   ]
  },
  {
   "cell_type": "markdown",
   "id": "f562677f",
   "metadata": {
    "papermill": {
     "duration": 0.01943,
     "end_time": "2023-10-15T11:07:09.865835",
     "exception": false,
     "start_time": "2023-10-15T11:07:09.846405",
     "status": "completed"
    },
    "tags": []
   },
   "source": [
    "In the first example, `x` is defined in only one location. It’s outside both `f()` and `g()`, so it resides in the global scope:"
   ]
  },
  {
   "cell_type": "code",
   "execution_count": 6,
   "id": "78441cbb",
   "metadata": {
    "execution": {
     "iopub.execute_input": "2023-10-15T11:07:09.907981Z",
     "iopub.status.busy": "2023-10-15T11:07:09.907095Z",
     "iopub.status.idle": "2023-10-15T11:07:09.913846Z",
     "shell.execute_reply": "2023-10-15T11:07:09.912841Z"
    },
    "papermill": {
     "duration": 0.030332,
     "end_time": "2023-10-15T11:07:09.915967",
     "exception": false,
     "start_time": "2023-10-15T11:07:09.885635",
     "status": "completed"
    },
    "tags": []
   },
   "outputs": [
    {
     "name": "stdout",
     "output_type": "stream",
     "text": [
      "global\n"
     ]
    }
   ],
   "source": [
    "x = 'global'\n",
    "\n",
    "def f():\n",
    "\n",
    "    def g():\n",
    "        print(x)\n",
    "\n",
    "    g()\n",
    "\n",
    "\n",
    "f()"
   ]
  },
  {
   "cell_type": "markdown",
   "id": "be8fd2b0",
   "metadata": {
    "papermill": {
     "duration": 0.019639,
     "end_time": "2023-10-15T11:07:09.956441",
     "exception": false,
     "start_time": "2023-10-15T11:07:09.936802",
     "status": "completed"
    },
    "tags": []
   },
   "source": [
    "The `print()` statement on **line 6** can refer to only one possible `x`. It displays the `x` object defined in the global namespace, which is the string `'global'`."
   ]
  },
  {
   "cell_type": "markdown",
   "id": "d969e156",
   "metadata": {
    "papermill": {
     "duration": 0.026608,
     "end_time": "2023-10-15T11:07:10.002908",
     "exception": false,
     "start_time": "2023-10-15T11:07:09.976300",
     "status": "completed"
    },
    "tags": []
   },
   "source": [
    "<a class=\"anchor\" id=\"example_2:_double_definition\"></a>\n",
    "#### Example 2: Double Definition"
   ]
  },
  {
   "cell_type": "markdown",
   "id": "950d1220",
   "metadata": {
    "papermill": {
     "duration": 0.020958,
     "end_time": "2023-10-15T11:07:10.051268",
     "exception": false,
     "start_time": "2023-10-15T11:07:10.030310",
     "status": "completed"
    },
    "tags": []
   },
   "source": [
    "In the next example, the definition of `x` appears in two places, one outside `f()` and one inside `f()` but outside `g()`:"
   ]
  },
  {
   "cell_type": "code",
   "execution_count": 7,
   "id": "6aefad74",
   "metadata": {
    "execution": {
     "iopub.execute_input": "2023-10-15T11:07:10.095724Z",
     "iopub.status.busy": "2023-10-15T11:07:10.094878Z",
     "iopub.status.idle": "2023-10-15T11:07:10.101531Z",
     "shell.execute_reply": "2023-10-15T11:07:10.100324Z"
    },
    "papermill": {
     "duration": 0.030203,
     "end_time": "2023-10-15T11:07:10.103586",
     "exception": false,
     "start_time": "2023-10-15T11:07:10.073383",
     "status": "completed"
    },
    "tags": []
   },
   "outputs": [
    {
     "name": "stdout",
     "output_type": "stream",
     "text": [
      "enclosing\n"
     ]
    }
   ],
   "source": [
    "x = 'global'\n",
    "\n",
    "def f():\n",
    "    x = 'enclosing'\n",
    "\n",
    "    def g():\n",
    "        print(x)\n",
    "\n",
    "    g()\n",
    "\n",
    "\n",
    "f()"
   ]
  },
  {
   "cell_type": "markdown",
   "id": "f3fcaf7a",
   "metadata": {
    "papermill": {
     "duration": 0.020042,
     "end_time": "2023-10-15T11:07:10.143437",
     "exception": false,
     "start_time": "2023-10-15T11:07:10.123395",
     "status": "completed"
    },
    "tags": []
   },
   "source": [
    "As in the previous example, `g()` refers to `x`. But this time, it has two definitions to choose from:\n",
    "\n",
    "- **Line 1** defines `x` in the global scope.\n",
    "- **Line 4** defines `x` again in the enclosing scope."
   ]
  },
  {
   "cell_type": "markdown",
   "id": "74126549",
   "metadata": {
    "papermill": {
     "duration": 0.019218,
     "end_time": "2023-10-15T11:07:10.182565",
     "exception": false,
     "start_time": "2023-10-15T11:07:10.163347",
     "status": "completed"
    },
    "tags": []
   },
   "source": [
    "According to the LEGB rule, the interpreter finds the value from the enclosing scope before looking in the global scope. So the `print()` statement on **line 7** displays `'enclosing'` instead of `'global'`."
   ]
  },
  {
   "cell_type": "markdown",
   "id": "7bdeed5b",
   "metadata": {
    "papermill": {
     "duration": 0.019086,
     "end_time": "2023-10-15T11:07:10.221059",
     "exception": false,
     "start_time": "2023-10-15T11:07:10.201973",
     "status": "completed"
    },
    "tags": []
   },
   "source": [
    "<a class=\"anchor\" id=\"example_3:_triple_definition\"></a>\n",
    "#### Example 3: Triple Definition"
   ]
  },
  {
   "cell_type": "markdown",
   "id": "7e704ffd",
   "metadata": {
    "papermill": {
     "duration": 0.019712,
     "end_time": "2023-10-15T11:07:10.260624",
     "exception": false,
     "start_time": "2023-10-15T11:07:10.240912",
     "status": "completed"
    },
    "tags": []
   },
   "source": [
    "Next is a situation in which `x` is defined here, there, and everywhere. One definition is outside `f()`, another one is inside `f()` but outside `g()`, and a third is inside `g()`:"
   ]
  },
  {
   "cell_type": "code",
   "execution_count": 8,
   "id": "0d8ed45b",
   "metadata": {
    "execution": {
     "iopub.execute_input": "2023-10-15T11:07:10.302288Z",
     "iopub.status.busy": "2023-10-15T11:07:10.301350Z",
     "iopub.status.idle": "2023-10-15T11:07:10.307851Z",
     "shell.execute_reply": "2023-10-15T11:07:10.306711Z"
    },
    "papermill": {
     "duration": 0.029393,
     "end_time": "2023-10-15T11:07:10.309745",
     "exception": false,
     "start_time": "2023-10-15T11:07:10.280352",
     "status": "completed"
    },
    "tags": []
   },
   "outputs": [
    {
     "name": "stdout",
     "output_type": "stream",
     "text": [
      "local\n"
     ]
    }
   ],
   "source": [
    "x = 'global'\n",
    "\n",
    "def f():\n",
    "    x = 'enclosing'\n",
    "\n",
    "    def g():\n",
    "        x = 'local'\n",
    "        print(x)\n",
    "\n",
    "    g()\n",
    "\n",
    "\n",
    "f()"
   ]
  },
  {
   "cell_type": "markdown",
   "id": "e40db381",
   "metadata": {
    "papermill": {
     "duration": 0.019781,
     "end_time": "2023-10-15T11:07:10.349343",
     "exception": false,
     "start_time": "2023-10-15T11:07:10.329562",
     "status": "completed"
    },
    "tags": []
   },
   "source": [
    "Now the `print()` statement on **line 8** has to distinguish between three different possibilities:\n",
    "\n",
    "- **Line 1** defines `x` in the global scope.\n",
    "- **Line 4** defines `x` again in the enclosing scope.\n",
    "- **Line 7** defines `x` a third time in the scope that’s local to `g()`."
   ]
  },
  {
   "cell_type": "markdown",
   "id": "b016317d",
   "metadata": {
    "papermill": {
     "duration": 0.019639,
     "end_time": "2023-10-15T11:07:10.388908",
     "exception": false,
     "start_time": "2023-10-15T11:07:10.369269",
     "status": "completed"
    },
    "tags": []
   },
   "source": [
    "Here, the LEGB rule dictates that `g()` sees its own locally defined value of `x` first. So the `print()` statement displays `'local'`."
   ]
  },
  {
   "cell_type": "markdown",
   "id": "d858b882",
   "metadata": {
    "papermill": {
     "duration": 0.019468,
     "end_time": "2023-10-15T11:07:10.427961",
     "exception": false,
     "start_time": "2023-10-15T11:07:10.408493",
     "status": "completed"
    },
    "tags": []
   },
   "source": [
    "<a class=\"anchor\" id=\"example_4:_no_definition\"></a>\n",
    "#### Example 4: No Definition"
   ]
  },
  {
   "cell_type": "markdown",
   "id": "e9ad05f8",
   "metadata": {
    "papermill": {
     "duration": 0.019441,
     "end_time": "2023-10-15T11:07:10.467300",
     "exception": false,
     "start_time": "2023-10-15T11:07:10.447859",
     "status": "completed"
    },
    "tags": []
   },
   "source": [
    "Last, we have a case in which `g()` tries to print the value of `y`, but `y` isn’t defined anywhere. That won’t work at all:"
   ]
  },
  {
   "cell_type": "code",
   "execution_count": 9,
   "id": "72133127",
   "metadata": {
    "execution": {
     "iopub.execute_input": "2023-10-15T11:07:10.509723Z",
     "iopub.status.busy": "2023-10-15T11:07:10.509007Z",
     "iopub.status.idle": "2023-10-15T11:07:10.792597Z",
     "shell.execute_reply": "2023-10-15T11:07:10.791136Z"
    },
    "papermill": {
     "duration": 0.306565,
     "end_time": "2023-10-15T11:07:10.794125",
     "exception": true,
     "start_time": "2023-10-15T11:07:10.487560",
     "status": "failed"
    },
    "tags": []
   },
   "outputs": [
    {
     "ename": "NameError",
     "evalue": "name 'y' is not defined",
     "output_type": "error",
     "traceback": [
      "\u001b[0;31m---------------------------------------------------------------------------\u001b[0m",
      "\u001b[0;31mNameError\u001b[0m                                 Traceback (most recent call last)",
      "Cell \u001b[0;32mIn[9], line 9\u001b[0m\n\u001b[1;32m      4\u001b[0m         \u001b[38;5;28mprint\u001b[39m(y)\n\u001b[1;32m      6\u001b[0m     g()\n\u001b[0;32m----> 9\u001b[0m \u001b[43mf\u001b[49m\u001b[43m(\u001b[49m\u001b[43m)\u001b[49m\n",
      "Cell \u001b[0;32mIn[9], line 6\u001b[0m, in \u001b[0;36mf\u001b[0;34m()\u001b[0m\n\u001b[1;32m      3\u001b[0m \u001b[38;5;28;01mdef\u001b[39;00m \u001b[38;5;21mg\u001b[39m():\n\u001b[1;32m      4\u001b[0m     \u001b[38;5;28mprint\u001b[39m(y)\n\u001b[0;32m----> 6\u001b[0m \u001b[43mg\u001b[49m\u001b[43m(\u001b[49m\u001b[43m)\u001b[49m\n",
      "Cell \u001b[0;32mIn[9], line 4\u001b[0m, in \u001b[0;36mf.<locals>.g\u001b[0;34m()\u001b[0m\n\u001b[1;32m      3\u001b[0m \u001b[38;5;28;01mdef\u001b[39;00m \u001b[38;5;21mg\u001b[39m():\n\u001b[0;32m----> 4\u001b[0m     \u001b[38;5;28mprint\u001b[39m(\u001b[43my\u001b[49m)\n",
      "\u001b[0;31mNameError\u001b[0m: name 'y' is not defined"
     ]
    }
   ],
   "source": [
    "def f():\n",
    "\n",
    "    def g():\n",
    "        print(y)\n",
    "\n",
    "    g()\n",
    "\n",
    "\n",
    "f()"
   ]
  },
  {
   "cell_type": "markdown",
   "id": "75bfec9b",
   "metadata": {
    "papermill": {
     "duration": null,
     "end_time": null,
     "exception": null,
     "start_time": null,
     "status": "pending"
    },
    "tags": []
   },
   "source": [
    "This time, Python doesn’t find `x` in any of the namespaces, so the `print()` statement on line 4 generates a `NameError` exception."
   ]
  },
  {
   "cell_type": "markdown",
   "id": "d0411105",
   "metadata": {
    "papermill": {
     "duration": null,
     "end_time": null,
     "exception": null,
     "start_time": null,
     "status": "pending"
    },
    "tags": []
   },
   "source": [
    "<a class=\"anchor\" id=\"python_namespace_dictionaries\"></a>\n",
    "## Python Namespace Dictionaries"
   ]
  },
  {
   "cell_type": "markdown",
   "id": "84117026",
   "metadata": {
    "papermill": {
     "duration": null,
     "end_time": null,
     "exception": null,
     "start_time": null,
     "status": "pending"
    },
    "tags": []
   },
   "source": [
    "Earlier in this tutorial, when namespaces were first introduced, you were encouraged to think of a namespace as a dictionary in which the keys are the object names and the values are the objects themselves. In fact, for global and local namespaces, that’s precisely what they are! Python really does implement these namespaces as dictionaries."
   ]
  },
  {
   "cell_type": "markdown",
   "id": "24d33ff3",
   "metadata": {
    "papermill": {
     "duration": null,
     "end_time": null,
     "exception": null,
     "start_time": null,
     "status": "pending"
    },
    "tags": []
   },
   "source": [
    "> **Note:** The built-in namespace doesn’t behave like a dictionary. Python implements it as a module. We will cover modules later."
   ]
  },
  {
   "cell_type": "markdown",
   "id": "f2d10813",
   "metadata": {
    "papermill": {
     "duration": null,
     "end_time": null,
     "exception": null,
     "start_time": null,
     "status": "pending"
    },
    "tags": []
   },
   "source": [
    "Python provides built-in functions called `globals()` and `locals()` that allow you to access global and local namespace dictionaries."
   ]
  },
  {
   "cell_type": "markdown",
   "id": "233ff985",
   "metadata": {
    "papermill": {
     "duration": null,
     "end_time": null,
     "exception": null,
     "start_time": null,
     "status": "pending"
    },
    "tags": []
   },
   "source": [
    "<a class=\"anchor\" id=\"the_`globals()`_function\"></a>\n",
    "### The `globals()` function"
   ]
  },
  {
   "cell_type": "markdown",
   "id": "31c3eb31",
   "metadata": {
    "papermill": {
     "duration": null,
     "end_time": null,
     "exception": null,
     "start_time": null,
     "status": "pending"
    },
    "tags": []
   },
   "source": [
    "The built-in function `globals()` returns a reference to the current global namespace dictionary. You can use it to access the objects in the global namespace. Here’s an example of what it looks like when the main program starts:"
   ]
  },
  {
   "cell_type": "code",
   "execution_count": null,
   "id": "b901b0cb",
   "metadata": {
    "papermill": {
     "duration": null,
     "end_time": null,
     "exception": null,
     "start_time": null,
     "status": "pending"
    },
    "tags": []
   },
   "outputs": [],
   "source": [
    "type(globals())"
   ]
  },
  {
   "cell_type": "code",
   "execution_count": null,
   "id": "5af93033",
   "metadata": {
    "papermill": {
     "duration": null,
     "end_time": null,
     "exception": null,
     "start_time": null,
     "status": "pending"
    },
    "tags": []
   },
   "outputs": [],
   "source": [
    "globals()"
   ]
  },
  {
   "cell_type": "markdown",
   "id": "352f7a6f",
   "metadata": {
    "papermill": {
     "duration": null,
     "end_time": null,
     "exception": null,
     "start_time": null,
     "status": "pending"
    },
    "tags": []
   },
   "source": [
    "As you can see, the interpreter has put several entries in `globals()` already. Depending on your Python version and operating system, it may look a little different in your environment. But it should be similar."
   ]
  },
  {
   "cell_type": "markdown",
   "id": "a83e0735",
   "metadata": {
    "papermill": {
     "duration": null,
     "end_time": null,
     "exception": null,
     "start_time": null,
     "status": "pending"
    },
    "tags": []
   },
   "source": [
    "Now watch what happens when you define a variable in the global scope:"
   ]
  },
  {
   "cell_type": "code",
   "execution_count": null,
   "id": "94efbf04",
   "metadata": {
    "papermill": {
     "duration": null,
     "end_time": null,
     "exception": null,
     "start_time": null,
     "status": "pending"
    },
    "tags": []
   },
   "outputs": [],
   "source": [
    "x = 'foo'"
   ]
  },
  {
   "cell_type": "code",
   "execution_count": null,
   "id": "a0791ce2",
   "metadata": {
    "papermill": {
     "duration": null,
     "end_time": null,
     "exception": null,
     "start_time": null,
     "status": "pending"
    },
    "tags": []
   },
   "outputs": [],
   "source": [
    "globals()"
   ]
  },
  {
   "cell_type": "markdown",
   "id": "c174acd8",
   "metadata": {
    "papermill": {
     "duration": null,
     "end_time": null,
     "exception": null,
     "start_time": null,
     "status": "pending"
    },
    "tags": []
   },
   "source": [
    "After the assignment statement `x = 'foo'`, a new item appears in the global namespace dictionary. The dictionary key is the object’s name, `x`, and the dictionary value is the object’s value, `'foo'`."
   ]
  },
  {
   "cell_type": "markdown",
   "id": "612c956f",
   "metadata": {
    "papermill": {
     "duration": null,
     "end_time": null,
     "exception": null,
     "start_time": null,
     "status": "pending"
    },
    "tags": []
   },
   "source": [
    "You would typically access this object in the usual way, by referring to its symbolic name, `x`. But you can also access it indirectly through the global namespace dictionary:"
   ]
  },
  {
   "cell_type": "code",
   "execution_count": null,
   "id": "c9e08a33",
   "metadata": {
    "papermill": {
     "duration": null,
     "end_time": null,
     "exception": null,
     "start_time": null,
     "status": "pending"
    },
    "tags": []
   },
   "outputs": [],
   "source": [
    "x"
   ]
  },
  {
   "cell_type": "code",
   "execution_count": null,
   "id": "8702d3b7",
   "metadata": {
    "papermill": {
     "duration": null,
     "end_time": null,
     "exception": null,
     "start_time": null,
     "status": "pending"
    },
    "tags": []
   },
   "outputs": [],
   "source": [
    "globals()['x']"
   ]
  },
  {
   "cell_type": "code",
   "execution_count": null,
   "id": "0ab8b797",
   "metadata": {
    "papermill": {
     "duration": null,
     "end_time": null,
     "exception": null,
     "start_time": null,
     "status": "pending"
    },
    "tags": []
   },
   "outputs": [],
   "source": [
    "x is globals()['x']"
   ]
  },
  {
   "cell_type": "markdown",
   "id": "1e5e89f9",
   "metadata": {
    "papermill": {
     "duration": null,
     "end_time": null,
     "exception": null,
     "start_time": null,
     "status": "pending"
    },
    "tags": []
   },
   "source": [
    "The `is` comparison on **line 6** confirms that these are in fact the same object."
   ]
  },
  {
   "cell_type": "markdown",
   "id": "2ea2ba0b",
   "metadata": {
    "papermill": {
     "duration": null,
     "end_time": null,
     "exception": null,
     "start_time": null,
     "status": "pending"
    },
    "tags": []
   },
   "source": [
    "You can create and modify entries in the global namespace using the `globals()` function as well:"
   ]
  },
  {
   "cell_type": "code",
   "execution_count": null,
   "id": "087b7ec9",
   "metadata": {
    "papermill": {
     "duration": null,
     "end_time": null,
     "exception": null,
     "start_time": null,
     "status": "pending"
    },
    "tags": []
   },
   "outputs": [],
   "source": [
    "globals()['y'] = 100"
   ]
  },
  {
   "cell_type": "code",
   "execution_count": null,
   "id": "8de84105",
   "metadata": {
    "papermill": {
     "duration": null,
     "end_time": null,
     "exception": null,
     "start_time": null,
     "status": "pending"
    },
    "tags": []
   },
   "outputs": [],
   "source": [
    "globals()"
   ]
  },
  {
   "cell_type": "code",
   "execution_count": null,
   "id": "c0184289",
   "metadata": {
    "papermill": {
     "duration": null,
     "end_time": null,
     "exception": null,
     "start_time": null,
     "status": "pending"
    },
    "tags": []
   },
   "outputs": [],
   "source": [
    "y"
   ]
  },
  {
   "cell_type": "code",
   "execution_count": null,
   "id": "d4defdad",
   "metadata": {
    "papermill": {
     "duration": null,
     "end_time": null,
     "exception": null,
     "start_time": null,
     "status": "pending"
    },
    "tags": []
   },
   "outputs": [],
   "source": [
    "globals()['y'] = 3.14159"
   ]
  },
  {
   "cell_type": "code",
   "execution_count": null,
   "id": "425b1b27",
   "metadata": {
    "papermill": {
     "duration": null,
     "end_time": null,
     "exception": null,
     "start_time": null,
     "status": "pending"
    },
    "tags": []
   },
   "outputs": [],
   "source": [
    "y"
   ]
  },
  {
   "cell_type": "markdown",
   "id": "8283ea7a",
   "metadata": {
    "papermill": {
     "duration": null,
     "end_time": null,
     "exception": null,
     "start_time": null,
     "status": "pending"
    },
    "tags": []
   },
   "source": [
    "The statement on **line 1** has the same effect as the assignment statement `y = 100`. The statement on **line 12** is equivalent to `y = 3.14159`."
   ]
  },
  {
   "cell_type": "markdown",
   "id": "e8f947f4",
   "metadata": {
    "papermill": {
     "duration": null,
     "end_time": null,
     "exception": null,
     "start_time": null,
     "status": "pending"
    },
    "tags": []
   },
   "source": [
    "It’s a little off the beaten path to create and modify objects in the global scope this way when simple assignment statements will do. But it works, and it illustrates the concept nicely."
   ]
  },
  {
   "cell_type": "markdown",
   "id": "bfb4f9f6",
   "metadata": {
    "papermill": {
     "duration": null,
     "end_time": null,
     "exception": null,
     "start_time": null,
     "status": "pending"
    },
    "tags": []
   },
   "source": [
    "<a class=\"anchor\" id=\"the_`locals()`_function\"></a>\n",
    "### The `locals()` function"
   ]
  },
  {
   "cell_type": "markdown",
   "id": "8c9d1de1",
   "metadata": {
    "papermill": {
     "duration": null,
     "end_time": null,
     "exception": null,
     "start_time": null,
     "status": "pending"
    },
    "tags": []
   },
   "source": [
    "Python also provides a corresponding built-in function called `locals()`. It’s similar to `globals()` but accesses objects in the local namespace instead:"
   ]
  },
  {
   "cell_type": "code",
   "execution_count": null,
   "id": "0b3307c6",
   "metadata": {
    "papermill": {
     "duration": null,
     "end_time": null,
     "exception": null,
     "start_time": null,
     "status": "pending"
    },
    "tags": []
   },
   "outputs": [],
   "source": [
    "def f(x, y):\n",
    "    s = 'foo'\n",
    "    print(locals())"
   ]
  },
  {
   "cell_type": "code",
   "execution_count": null,
   "id": "886b77ca",
   "metadata": {
    "papermill": {
     "duration": null,
     "end_time": null,
     "exception": null,
     "start_time": null,
     "status": "pending"
    },
    "tags": []
   },
   "outputs": [],
   "source": [
    "f(10, 0.5)"
   ]
  },
  {
   "cell_type": "markdown",
   "id": "ec68ed77",
   "metadata": {
    "papermill": {
     "duration": null,
     "end_time": null,
     "exception": null,
     "start_time": null,
     "status": "pending"
    },
    "tags": []
   },
   "source": [
    "When called within `f()`, `locals()` returns a dictionary representing the function’s local namespace. Notice that, in addition to the locally defined variable `s`, the local namespace includes the function parameters `x` and `y` since these are local to `f()` as well."
   ]
  },
  {
   "cell_type": "markdown",
   "id": "b049599b",
   "metadata": {
    "papermill": {
     "duration": null,
     "end_time": null,
     "exception": null,
     "start_time": null,
     "status": "pending"
    },
    "tags": []
   },
   "source": [
    "If you call `locals()` outside a function in the main program, then it behaves the same as `globals()`."
   ]
  },
  {
   "cell_type": "code",
   "execution_count": null,
   "id": "57f0559d",
   "metadata": {
    "papermill": {
     "duration": null,
     "end_time": null,
     "exception": null,
     "start_time": null,
     "status": "pending"
    },
    "tags": []
   },
   "outputs": [],
   "source": [
    "# locals()"
   ]
  },
  {
   "cell_type": "markdown",
   "id": "9470fef2",
   "metadata": {
    "papermill": {
     "duration": null,
     "end_time": null,
     "exception": null,
     "start_time": null,
     "status": "pending"
    },
    "tags": []
   },
   "source": [
    "> Deep Dive: A Subtle Difference Between `globals()` and `locals()`\n",
    "There’s one small difference between globals() and locals() that’s useful to know about.\n",
    "> \n",
    "> `globals()` returns an actual reference to the dictionary that contains the global namespace. That means if you call `globals()`, save the return value, and subsequently define additional variables, then those new variables will show up in the dictionary that the saved return value points to:\n",
    ">\n",
    "```python\n",
    ">>> g = globals()\n",
    ">>> g\n",
    "{'__name__': '__main__', '__doc__': None, '__package__': None,\n",
    "'__loader__': <class '_frozen_importlib.BuiltinImporter'>, '__spec__': None,\n",
    "'__annotations__': {}, '__builtins__': <module 'builtins' (built-in)>,\n",
    "'g': {...}}\n",
    "\n",
    ">>> x = 'foo'\n",
    ">>> y = 29\n",
    ">>> g\n",
    "{'__name__': '__main__', '__doc__': None, '__package__': None,\n",
    "'__loader__': <class '_frozen_importlib.BuiltinImporter'>, '__spec__': None,\n",
    "'__annotations__': {}, '__builtins__': <module 'builtins' (built-in)>,\n",
    "'g': {...}, 'x': 'foo', 'y': 29}\n",
    "```\n",
    "> Here, `g` is a reference to the global namespace dictionary. After the assignment statements on **lines 8 and 9**, `x` and `y` appear in the dictionary that `g` points to.\n",
    "> \n",
    "> `locals()`, on the other hand, returns a dictionary that is a current copy of the local namespace, not a reference to it. Further additions to the local namespace won’t affect a previous return value from `locals()` until you call it again. Also, you can’t modify objects in the actual local namespace using the return value from `locals()`:\n",
    "```python\n",
    ">>> def f():\n",
    "...     s = 'foo'\n",
    "...     loc = locals()\n",
    "...     print(loc)\n",
    "...\n",
    "...     x = 20\n",
    "...     print(loc)\n",
    "...\n",
    "...     loc['s'] = 'bar'\n",
    "...     print(s)\n",
    "...\n",
    "\n",
    ">>> f()\n",
    "{'s': 'foo'}\n",
    "{'s': 'foo'}\n",
    "foo\n",
    "```\n",
    "> In this example, loc points to the return value from `locals()`, which is a copy of the local namespace. The statement `x = 20` on **line 6** adds `x` to the local namespace but _not_ to the copy that `loc` points to. Similarly, the statement on line 9 modifies the value for key `'s'` in the copy that `loc` points to, but this has no effect on the value of `s` in the actual local namespace.\n",
    "> \n",
    "> It’s a subtle difference, but it could cause you trouble if you don’t remember it."
   ]
  },
  {
   "cell_type": "markdown",
   "id": "c1293f15",
   "metadata": {
    "papermill": {
     "duration": null,
     "end_time": null,
     "exception": null,
     "start_time": null,
     "status": "pending"
    },
    "tags": []
   },
   "source": [
    "<a class=\"anchor\" id=\"modify_variables_out_of_scope\"></a>\n",
    "## Modify Variables Out of Scope"
   ]
  },
  {
   "cell_type": "markdown",
   "id": "23a5e6cd",
   "metadata": {
    "papermill": {
     "duration": null,
     "end_time": null,
     "exception": null,
     "start_time": null,
     "status": "pending"
    },
    "tags": []
   },
   "source": [
    "Earlier in this series, in the tutorial on user-defined Python functions, you learned that argument passing in Python is a bit like pass-by-value and a bit like pass-by-reference. Sometimes a function can modify its argument in the calling environment by making changes to the corresponding parameter, and sometimes it can’t:\n",
    "\n",
    "- An **immutable** argument can never be modified by a function.\n",
    "- A **mutable** argument can’t be redefined wholesale, but it can be modified in place."
   ]
  },
  {
   "cell_type": "markdown",
   "id": "c80562da",
   "metadata": {
    "papermill": {
     "duration": null,
     "end_time": null,
     "exception": null,
     "start_time": null,
     "status": "pending"
    },
    "tags": []
   },
   "source": [
    "A similar situation exists when a function tries to modify a variable outside its local scope. A function can’t modify an immutable object outside its local scope at all:"
   ]
  },
  {
   "cell_type": "code",
   "execution_count": null,
   "id": "805dc642",
   "metadata": {
    "papermill": {
     "duration": null,
     "end_time": null,
     "exception": null,
     "start_time": null,
     "status": "pending"
    },
    "tags": []
   },
   "outputs": [],
   "source": [
    "x = 20\n",
    "def f():\n",
    "    x = 40\n",
    "    print(x)"
   ]
  },
  {
   "cell_type": "code",
   "execution_count": null,
   "id": "27058825",
   "metadata": {
    "papermill": {
     "duration": null,
     "end_time": null,
     "exception": null,
     "start_time": null,
     "status": "pending"
    },
    "tags": []
   },
   "outputs": [],
   "source": [
    "f()"
   ]
  },
  {
   "cell_type": "code",
   "execution_count": null,
   "id": "ca66d8d9",
   "metadata": {
    "papermill": {
     "duration": null,
     "end_time": null,
     "exception": null,
     "start_time": null,
     "status": "pending"
    },
    "tags": []
   },
   "outputs": [],
   "source": [
    "x"
   ]
  },
  {
   "cell_type": "markdown",
   "id": "a8002746",
   "metadata": {
    "papermill": {
     "duration": null,
     "end_time": null,
     "exception": null,
     "start_time": null,
     "status": "pending"
    },
    "tags": []
   },
   "source": [
    "When `f()` executes the assignment `x = 40` on **line 3**, it creates a new local reference to an integer object whose value is 40. At that point, `f()` loses the reference to the object named `x` in the global namespace. So the assignment statement doesn’t affect the global object."
   ]
  },
  {
   "cell_type": "markdown",
   "id": "bf980db8",
   "metadata": {
    "papermill": {
     "duration": null,
     "end_time": null,
     "exception": null,
     "start_time": null,
     "status": "pending"
    },
    "tags": []
   },
   "source": [
    "Note that when `f()` executes `print(x)` on **line 4**, it displays `40`, the value of its own local `x`. But after `f()` terminates, `x` in the global scope is still `20`."
   ]
  },
  {
   "cell_type": "markdown",
   "id": "c4d4f60b",
   "metadata": {
    "papermill": {
     "duration": null,
     "end_time": null,
     "exception": null,
     "start_time": null,
     "status": "pending"
    },
    "tags": []
   },
   "source": [
    "A function can modify an object of mutable type that’s outside its local scope if it modifies the object in place:"
   ]
  },
  {
   "cell_type": "code",
   "execution_count": null,
   "id": "ee80a08d",
   "metadata": {
    "papermill": {
     "duration": null,
     "end_time": null,
     "exception": null,
     "start_time": null,
     "status": "pending"
    },
    "tags": []
   },
   "outputs": [],
   "source": [
    "my_list = ['foo', 'bar', 'baz']\n",
    "def f():\n",
    "    my_list[1] = 'quux'"
   ]
  },
  {
   "cell_type": "code",
   "execution_count": null,
   "id": "550260a3",
   "metadata": {
    "papermill": {
     "duration": null,
     "end_time": null,
     "exception": null,
     "start_time": null,
     "status": "pending"
    },
    "tags": []
   },
   "outputs": [],
   "source": [
    "f()"
   ]
  },
  {
   "cell_type": "code",
   "execution_count": null,
   "id": "9a265215",
   "metadata": {
    "papermill": {
     "duration": null,
     "end_time": null,
     "exception": null,
     "start_time": null,
     "status": "pending"
    },
    "tags": []
   },
   "outputs": [],
   "source": [
    "my_list"
   ]
  },
  {
   "cell_type": "markdown",
   "id": "0e127147",
   "metadata": {
    "papermill": {
     "duration": null,
     "end_time": null,
     "exception": null,
     "start_time": null,
     "status": "pending"
    },
    "tags": []
   },
   "source": [
    "In this case, `my_list` is a list, and lists are mutable. `f()` can make changes inside `my_list` even though it’s outside the local scope."
   ]
  },
  {
   "cell_type": "markdown",
   "id": "565cbc31",
   "metadata": {
    "papermill": {
     "duration": null,
     "end_time": null,
     "exception": null,
     "start_time": null,
     "status": "pending"
    },
    "tags": []
   },
   "source": [
    "But if `f()` tries to reassign my_list entirely, then it will create a new local object and won’t modify the global `my_list`:"
   ]
  },
  {
   "cell_type": "code",
   "execution_count": null,
   "id": "1bb39850",
   "metadata": {
    "papermill": {
     "duration": null,
     "end_time": null,
     "exception": null,
     "start_time": null,
     "status": "pending"
    },
    "tags": []
   },
   "outputs": [],
   "source": [
    "my_list = ['foo', 'bar', 'baz']\n",
    "def f():\n",
    "    my_list = ['qux', 'quux']"
   ]
  },
  {
   "cell_type": "code",
   "execution_count": null,
   "id": "3d955da2",
   "metadata": {
    "papermill": {
     "duration": null,
     "end_time": null,
     "exception": null,
     "start_time": null,
     "status": "pending"
    },
    "tags": []
   },
   "outputs": [],
   "source": [
    "f()"
   ]
  },
  {
   "cell_type": "code",
   "execution_count": null,
   "id": "d1f64386",
   "metadata": {
    "papermill": {
     "duration": null,
     "end_time": null,
     "exception": null,
     "start_time": null,
     "status": "pending"
    },
    "tags": []
   },
   "outputs": [],
   "source": [
    "my_list"
   ]
  },
  {
   "cell_type": "markdown",
   "id": "a58d750f",
   "metadata": {
    "papermill": {
     "duration": null,
     "end_time": null,
     "exception": null,
     "start_time": null,
     "status": "pending"
    },
    "tags": []
   },
   "source": [
    "This is similar to what happens when `f()` tries to modify a mutable function argument."
   ]
  },
  {
   "cell_type": "markdown",
   "id": "c2bc49bc",
   "metadata": {
    "papermill": {
     "duration": null,
     "end_time": null,
     "exception": null,
     "start_time": null,
     "status": "pending"
    },
    "tags": []
   },
   "source": [
    "<a class=\"anchor\" id=\"the_`global`_declaration\"></a>\n",
    "### The `global` Declaration"
   ]
  },
  {
   "cell_type": "code",
   "execution_count": null,
   "id": "4de3e15e",
   "metadata": {
    "papermill": {
     "duration": null,
     "end_time": null,
     "exception": null,
     "start_time": null,
     "status": "pending"
    },
    "tags": []
   },
   "outputs": [],
   "source": [
    "def add(a, b):\n",
    "    x = 3\n",
    "    str(2)"
   ]
  },
  {
   "cell_type": "markdown",
   "id": "e8d7db28",
   "metadata": {
    "papermill": {
     "duration": null,
     "end_time": null,
     "exception": null,
     "start_time": null,
     "status": "pending"
    },
    "tags": []
   },
   "source": [
    "What if you really do need to modify a value in the global scope from within `f()`? This is possible in Python using the `global` declaration:"
   ]
  },
  {
   "cell_type": "markdown",
   "id": "741970b6",
   "metadata": {
    "papermill": {
     "duration": null,
     "end_time": null,
     "exception": null,
     "start_time": null,
     "status": "pending"
    },
    "tags": []
   },
   "source": [
    "The global `x` statement indicates that while `f()` executes, references to the name `x` will refer to the `x` that is in the global namespace. That means the assignment `x = 40` doesn’t create a new reference. It assigns a new value to `x` in the global scope instead:"
   ]
  },
  {
   "cell_type": "markdown",
   "id": "7862de8b",
   "metadata": {
    "papermill": {
     "duration": null,
     "end_time": null,
     "exception": null,
     "start_time": null,
     "status": "pending"
    },
    "tags": []
   },
   "source": [
    "<img src=\"./images/global.webp\" alt=\"global keyword\" width=200 align=\"center\" />"
   ]
  },
  {
   "cell_type": "markdown",
   "id": "6c8add35",
   "metadata": {
    "papermill": {
     "duration": null,
     "end_time": null,
     "exception": null,
     "start_time": null,
     "status": "pending"
    },
    "tags": []
   },
   "source": [
    "As you’ve already seen, `globals()` returns a reference to the global namespace dictionary. If you wanted to, instead of using a global statement, you could accomplish the same thing using `globals()`:"
   ]
  },
  {
   "cell_type": "code",
   "execution_count": null,
   "id": "edad0c0a",
   "metadata": {
    "papermill": {
     "duration": null,
     "end_time": null,
     "exception": null,
     "start_time": null,
     "status": "pending"
    },
    "tags": []
   },
   "outputs": [],
   "source": [
    "x = 20\n",
    "def f():\n",
    "    globals()['x'] = 40\n",
    "    print(x)"
   ]
  },
  {
   "cell_type": "code",
   "execution_count": null,
   "id": "9b4469cd",
   "metadata": {
    "papermill": {
     "duration": null,
     "end_time": null,
     "exception": null,
     "start_time": null,
     "status": "pending"
    },
    "tags": []
   },
   "outputs": [],
   "source": [
    "f()"
   ]
  },
  {
   "cell_type": "code",
   "execution_count": null,
   "id": "1415bbea",
   "metadata": {
    "papermill": {
     "duration": null,
     "end_time": null,
     "exception": null,
     "start_time": null,
     "status": "pending"
    },
    "tags": []
   },
   "outputs": [],
   "source": [
    "x"
   ]
  },
  {
   "cell_type": "markdown",
   "id": "a4842698",
   "metadata": {
    "papermill": {
     "duration": null,
     "end_time": null,
     "exception": null,
     "start_time": null,
     "status": "pending"
    },
    "tags": []
   },
   "source": [
    "There isn’t much reason to do it this way since the `global` declaration arguably makes the intent clearer. But it does provide another illustration of how `globals()` works."
   ]
  },
  {
   "cell_type": "markdown",
   "id": "67fac6a7",
   "metadata": {
    "papermill": {
     "duration": null,
     "end_time": null,
     "exception": null,
     "start_time": null,
     "status": "pending"
    },
    "tags": []
   },
   "source": [
    "If the name specified in the `global` declaration doesn’t exist in the global scope when the function starts, then a combination of the `global` statement and an assignment will create it:"
   ]
  },
  {
   "cell_type": "code",
   "execution_count": null,
   "id": "5eee5bbb",
   "metadata": {
    "papermill": {
     "duration": null,
     "end_time": null,
     "exception": null,
     "start_time": null,
     "status": "pending"
    },
    "tags": []
   },
   "outputs": [],
   "source": [
    "z"
   ]
  },
  {
   "cell_type": "code",
   "execution_count": null,
   "id": "1f4a23e4",
   "metadata": {
    "papermill": {
     "duration": null,
     "end_time": null,
     "exception": null,
     "start_time": null,
     "status": "pending"
    },
    "tags": []
   },
   "outputs": [],
   "source": [
    "def g():\n",
    "    global z\n",
    "    z = 20"
   ]
  },
  {
   "cell_type": "code",
   "execution_count": null,
   "id": "f0a2c138",
   "metadata": {
    "papermill": {
     "duration": null,
     "end_time": null,
     "exception": null,
     "start_time": null,
     "status": "pending"
    },
    "tags": []
   },
   "outputs": [],
   "source": [
    "g()"
   ]
  },
  {
   "cell_type": "code",
   "execution_count": null,
   "id": "882bc834",
   "metadata": {
    "papermill": {
     "duration": null,
     "end_time": null,
     "exception": null,
     "start_time": null,
     "status": "pending"
    },
    "tags": []
   },
   "outputs": [],
   "source": [
    "z"
   ]
  },
  {
   "cell_type": "markdown",
   "id": "466f4027",
   "metadata": {
    "papermill": {
     "duration": null,
     "end_time": null,
     "exception": null,
     "start_time": null,
     "status": "pending"
    },
    "tags": []
   },
   "source": [
    "In this case, there’s no object named `z` in the global scope when `g()` starts, but `g()` creates one with the global `y` statement on **line 8**."
   ]
  },
  {
   "cell_type": "markdown",
   "id": "8acaa7d5",
   "metadata": {
    "papermill": {
     "duration": null,
     "end_time": null,
     "exception": null,
     "start_time": null,
     "status": "pending"
    },
    "tags": []
   },
   "source": [
    "You can also specify several comma-separated names in a single `global` declaration:"
   ]
  },
  {
   "cell_type": "code",
   "execution_count": null,
   "id": "2d6a1641",
   "metadata": {
    "papermill": {
     "duration": null,
     "end_time": null,
     "exception": null,
     "start_time": null,
     "status": "pending"
    },
    "tags": []
   },
   "outputs": [],
   "source": [
    "x, y, z = 10, 20, 30\n",
    "\n",
    "def f():\n",
    "    global x, y, z"
   ]
  },
  {
   "cell_type": "markdown",
   "id": "b4cf5420",
   "metadata": {
    "papermill": {
     "duration": null,
     "end_time": null,
     "exception": null,
     "start_time": null,
     "status": "pending"
    },
    "tags": []
   },
   "source": [
    "Here, `x`, `y`, and `z` are all declared to refer to objects in the global scope by the single `global` statement on **line 4**."
   ]
  },
  {
   "cell_type": "markdown",
   "id": "4d820cdc",
   "metadata": {
    "papermill": {
     "duration": null,
     "end_time": null,
     "exception": null,
     "start_time": null,
     "status": "pending"
    },
    "tags": []
   },
   "source": [
    "A name specified in a `global` declaration can’t appear in the function prior to the `global` statement:"
   ]
  },
  {
   "cell_type": "code",
   "execution_count": null,
   "id": "d2b85f2c",
   "metadata": {
    "papermill": {
     "duration": null,
     "end_time": null,
     "exception": null,
     "start_time": null,
     "status": "pending"
    },
    "tags": []
   },
   "outputs": [],
   "source": [
    "def f():\n",
    "    print(x)\n",
    "    global x"
   ]
  },
  {
   "cell_type": "markdown",
   "id": "c69c7a81",
   "metadata": {
    "papermill": {
     "duration": null,
     "end_time": null,
     "exception": null,
     "start_time": null,
     "status": "pending"
    },
    "tags": []
   },
   "source": [
    "The intent of the global `x` statement on **line 3** is to make references to `x` refer to an object in the global scope. But the `print()` statement on **line 2** refers to `x` to prior to the `global` declaration. This raises a `SyntaxError` exception."
   ]
  },
  {
   "cell_type": "markdown",
   "id": "cf890105",
   "metadata": {
    "papermill": {
     "duration": null,
     "end_time": null,
     "exception": null,
     "start_time": null,
     "status": "pending"
    },
    "tags": []
   },
   "source": [
    "<a class=\"anchor\" id=\"the_`nonlocal`_declaration\"></a>\n",
    "### The `nonlocal` Declaration"
   ]
  },
  {
   "cell_type": "markdown",
   "id": "475bd2b6",
   "metadata": {
    "papermill": {
     "duration": null,
     "end_time": null,
     "exception": null,
     "start_time": null,
     "status": "pending"
    },
    "tags": []
   },
   "source": [
    "A similar situation exists with nested function definitions. The `global` declaration allows a function to access and modify an object in the global scope. What if an enclosed function needs to modify an object in the enclosing scope? Consider this example:"
   ]
  },
  {
   "cell_type": "code",
   "execution_count": null,
   "id": "655cc934",
   "metadata": {
    "papermill": {
     "duration": null,
     "end_time": null,
     "exception": null,
     "start_time": null,
     "status": "pending"
    },
    "tags": []
   },
   "outputs": [],
   "source": [
    "def f():\n",
    "    x = 20\n",
    "\n",
    "    def g():\n",
    "        x = 40\n",
    "\n",
    "    g()\n",
    "    print(x)\n",
    "\n",
    "\n",
    "f()"
   ]
  },
  {
   "cell_type": "markdown",
   "id": "bff58394",
   "metadata": {
    "papermill": {
     "duration": null,
     "end_time": null,
     "exception": null,
     "start_time": null,
     "status": "pending"
    },
    "tags": []
   },
   "source": [
    "In this case, the first definition of `x` is in the enclosing scope, not the global scope. Just as `g()` can’t directly modify a variable in the global scope, neither can it modify `x` in the enclosing function’s scope. Following the assignment `x = 40` on **line 5**, `x` in the enclosing scope remains `20`."
   ]
  },
  {
   "cell_type": "markdown",
   "id": "a063db17",
   "metadata": {
    "papermill": {
     "duration": null,
     "end_time": null,
     "exception": null,
     "start_time": null,
     "status": "pending"
    },
    "tags": []
   },
   "source": [
    "The `global` keyword isn’t a solution for this situation:"
   ]
  },
  {
   "cell_type": "code",
   "execution_count": null,
   "id": "a2e0811a",
   "metadata": {
    "papermill": {
     "duration": null,
     "end_time": null,
     "exception": null,
     "start_time": null,
     "status": "pending"
    },
    "tags": []
   },
   "outputs": [],
   "source": [
    "def f():\n",
    "    x = 20\n",
    "\n",
    "    def g():\n",
    "        global x\n",
    "        x = 40\n",
    "\n",
    "    g()\n",
    "    print(x)\n",
    "\n",
    "\n",
    "f()"
   ]
  },
  {
   "cell_type": "markdown",
   "id": "91a05fdb",
   "metadata": {
    "papermill": {
     "duration": null,
     "end_time": null,
     "exception": null,
     "start_time": null,
     "status": "pending"
    },
    "tags": []
   },
   "source": [
    "Since `x` is in the enclosing function’s scope, not the global scope, the `global` keyword doesn’t work here. After `g()` terminates, `x` in the enclosing scope remains `20`."
   ]
  },
  {
   "cell_type": "markdown",
   "id": "66f65978",
   "metadata": {
    "papermill": {
     "duration": null,
     "end_time": null,
     "exception": null,
     "start_time": null,
     "status": "pending"
    },
    "tags": []
   },
   "source": [
    "In fact, in this example, the global `x` statement not only fails to provide access to `x` in the enclosing scope, but it also creates an object called `x` in the global scope whose value is `40`:"
   ]
  },
  {
   "cell_type": "code",
   "execution_count": null,
   "id": "b1fe3f87",
   "metadata": {
    "papermill": {
     "duration": null,
     "end_time": null,
     "exception": null,
     "start_time": null,
     "status": "pending"
    },
    "tags": []
   },
   "outputs": [],
   "source": [
    "def f():\n",
    "    x = 20\n",
    "\n",
    "    def g():\n",
    "        global x\n",
    "        x = 40\n",
    "\n",
    "    g()\n",
    "    print(x)"
   ]
  },
  {
   "cell_type": "code",
   "execution_count": null,
   "id": "7bd9e650",
   "metadata": {
    "papermill": {
     "duration": null,
     "end_time": null,
     "exception": null,
     "start_time": null,
     "status": "pending"
    },
    "tags": []
   },
   "outputs": [],
   "source": [
    "f()"
   ]
  },
  {
   "cell_type": "code",
   "execution_count": null,
   "id": "98a6814f",
   "metadata": {
    "papermill": {
     "duration": null,
     "end_time": null,
     "exception": null,
     "start_time": null,
     "status": "pending"
    },
    "tags": []
   },
   "outputs": [],
   "source": [
    "x"
   ]
  },
  {
   "cell_type": "markdown",
   "id": "d3000f73",
   "metadata": {
    "papermill": {
     "duration": null,
     "end_time": null,
     "exception": null,
     "start_time": null,
     "status": "pending"
    },
    "tags": []
   },
   "source": [
    "To modify `x` in the enclosing scope from inside `g()`, you need the analogous keyword `nonlocal`. Names specified after the `nonlocal` keyword refer to variables in the nearest enclosing scope:"
   ]
  },
  {
   "cell_type": "code",
   "execution_count": null,
   "id": "1afd0da3",
   "metadata": {
    "papermill": {
     "duration": null,
     "end_time": null,
     "exception": null,
     "start_time": null,
     "status": "pending"
    },
    "tags": []
   },
   "outputs": [],
   "source": [
    "def f():\n",
    "    x = 20\n",
    "\n",
    "    def g():\n",
    "        nonlocal x\n",
    "        x = 40\n",
    "\n",
    "    g()\n",
    "    print(x)"
   ]
  },
  {
   "cell_type": "code",
   "execution_count": null,
   "id": "1ae7ea94",
   "metadata": {
    "papermill": {
     "duration": null,
     "end_time": null,
     "exception": null,
     "start_time": null,
     "status": "pending"
    },
    "tags": []
   },
   "outputs": [],
   "source": [
    "f()"
   ]
  },
  {
   "cell_type": "markdown",
   "id": "b1c0ce5f",
   "metadata": {
    "papermill": {
     "duration": null,
     "end_time": null,
     "exception": null,
     "start_time": null,
     "status": "pending"
    },
    "tags": []
   },
   "source": [
    "After the nonlocal `x` statement on **line 5**, when `g()` refers to `x`, it refers to the `x` in the nearest enclosing scope, whose definition is in `f()` on **line 2**:"
   ]
  },
  {
   "cell_type": "markdown",
   "id": "20f3d206",
   "metadata": {
    "papermill": {
     "duration": null,
     "end_time": null,
     "exception": null,
     "start_time": null,
     "status": "pending"
    },
    "tags": []
   },
   "source": []
  },
  {
   "cell_type": "markdown",
   "id": "996ecf17",
   "metadata": {
    "papermill": {
     "duration": null,
     "end_time": null,
     "exception": null,
     "start_time": null,
     "status": "pending"
    },
    "tags": []
   },
   "source": [
    "The `print()` statement at the end of `f()` on **line 9** confirms that the call to `g()` has changed the value of `x` in the enclosing scope to `40`."
   ]
  },
  {
   "cell_type": "markdown",
   "id": "01edea9c",
   "metadata": {
    "papermill": {
     "duration": null,
     "end_time": null,
     "exception": null,
     "start_time": null,
     "status": "pending"
    },
    "tags": []
   },
   "source": [
    "<a class=\"anchor\" id=\"best_practices\"></a>\n",
    "### Best Practices"
   ]
  },
  {
   "cell_type": "markdown",
   "id": "0b791209",
   "metadata": {
    "papermill": {
     "duration": null,
     "end_time": null,
     "exception": null,
     "start_time": null,
     "status": "pending"
    },
    "tags": []
   },
   "source": [
    "Even though Python provides the `global` and `nonlocal` keywords, it’s not advisable to use them."
   ]
  },
  {
   "cell_type": "markdown",
   "id": "7704bb43",
   "metadata": {
    "papermill": {
     "duration": null,
     "end_time": null,
     "exception": null,
     "start_time": null,
     "status": "pending"
    },
    "tags": []
   },
   "source": [
    "When a function modifies data outside the local scope, either with the `global` or `nonlocal` keyword or by directly modifying a mutable type in place, it’s a kind of side effect similar to when a function modifies one of its arguments. Widespread modification of global variables is generally considered unwise, not only in Python but also in other programming languages."
   ]
  },
  {
   "cell_type": "markdown",
   "id": "8f99f1cb",
   "metadata": {
    "papermill": {
     "duration": null,
     "end_time": null,
     "exception": null,
     "start_time": null,
     "status": "pending"
    },
    "tags": []
   },
   "source": [
    "In Python, using the `global` keyword at least makes it explicit that the function is modifying a global variable. In many languages, a function can modify a global variable just by assignment, without announcing it in any way. This can make it very difficult to track down where global data is being modified."
   ]
  },
  {
   "cell_type": "markdown",
   "id": "00d95abd",
   "metadata": {
    "papermill": {
     "duration": null,
     "end_time": null,
     "exception": null,
     "start_time": null,
     "status": "pending"
    },
    "tags": []
   },
   "source": [
    "All in all, modifying variables outside the local scope usually isn’t necessary. There’s almost always a better way, usually with function return values."
   ]
  },
  {
   "cell_type": "code",
   "execution_count": null,
   "id": "bff23025",
   "metadata": {
    "papermill": {
     "duration": null,
     "end_time": null,
     "exception": null,
     "start_time": null,
     "status": "pending"
    },
    "tags": []
   },
   "outputs": [],
   "source": [
    "x = 4\n",
    "def f():\n",
    "    print(x)\n",
    "    x = 3\n",
    "    print(x)   "
   ]
  },
  {
   "cell_type": "code",
   "execution_count": null,
   "id": "2bcbab6d",
   "metadata": {
    "papermill": {
     "duration": null,
     "end_time": null,
     "exception": null,
     "start_time": null,
     "status": "pending"
    },
    "tags": []
   },
   "outputs": [],
   "source": [
    "f()"
   ]
  },
  {
   "cell_type": "markdown",
   "id": "0f68e3e3",
   "metadata": {
    "papermill": {
     "duration": null,
     "end_time": null,
     "exception": null,
     "start_time": null,
     "status": "pending"
    },
    "tags": []
   },
   "source": [
    "<a class=\"anchor\" id=\"conclusion\"></a>\n",
    "##  Conclusion \n"
   ]
  },
  {
   "cell_type": "markdown",
   "id": "23cd9ab7",
   "metadata": {
    "papermill": {
     "duration": null,
     "end_time": null,
     "exception": null,
     "start_time": null,
     "status": "pending"
    },
    "tags": []
   },
   "source": [
    "Virtually everything that a Python program uses or acts on is an object. Even a short program will create many different objects. In a more complex program, they’ll probably number in the thousands. Python has to keep track of all these objects and their names, and it does so with **namespaces**."
   ]
  },
  {
   "cell_type": "markdown",
   "id": "faf5c471",
   "metadata": {
    "papermill": {
     "duration": null,
     "end_time": null,
     "exception": null,
     "start_time": null,
     "status": "pending"
    },
    "tags": []
   },
   "source": [
    "**In this tutorial, you learned:**\n",
    "\n",
    "- What the different **namespaces** are in Python\n",
    "- When Python creates a new namespace\n",
    "- What structure Python uses to implement namespaces\n",
    "- How namespaces define **scope** in a Python program"
   ]
  },
  {
   "cell_type": "markdown",
   "id": "cb1cb8f9",
   "metadata": {
    "papermill": {
     "duration": null,
     "end_time": null,
     "exception": null,
     "start_time": null,
     "status": "pending"
    },
    "tags": []
   },
   "source": [
    "Many programming techniques take advantage of the fact that every function in Python has its own namespace. Later in other sections, you’ll explore two of these techniques: **functional programming** and **recursion**."
   ]
  }
 ],
 "metadata": {
  "kernelspec": {
   "display_name": "Python 3",
   "language": "python",
   "name": "python3"
  },
  "language_info": {
   "codemirror_mode": {
    "name": "ipython",
    "version": 3
   },
   "file_extension": ".py",
   "mimetype": "text/x-python",
   "name": "python",
   "nbconvert_exporter": "python",
   "pygments_lexer": "ipython3",
   "version": "3.10.12"
  },
  "papermill": {
   "default_parameters": {},
   "duration": 6.392514,
   "end_time": "2023-10-15T11:07:11.234284",
   "environment_variables": {},
   "exception": true,
   "input_path": "__notebook__.ipynb",
   "output_path": "__notebook__.ipynb",
   "parameters": {},
   "start_time": "2023-10-15T11:07:04.841770",
   "version": "2.4.0"
  }
 },
 "nbformat": 4,
 "nbformat_minor": 5
}
