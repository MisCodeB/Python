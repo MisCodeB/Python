{
 "cells": [
  {
   "cell_type": "markdown",
   "id": "46b2e570",
   "metadata": {
    "papermill": {
     "duration": 0.015855,
     "end_time": "2023-10-14T20:01:03.602577",
     "exception": false,
     "start_time": "2023-10-14T20:01:03.586722",
     "status": "completed"
    },
    "tags": []
   },
   "source": []
  },
  {
   "cell_type": "markdown",
   "id": "e2b11e02",
   "metadata": {
    "papermill": {
     "duration": 0.008042,
     "end_time": "2023-10-14T20:01:03.626156",
     "exception": false,
     "start_time": "2023-10-14T20:01:03.618114",
     "status": "completed"
    },
    "tags": []
   },
   "source": [
    " Interacting with Python \n"
   ]
  },
  {
   "cell_type": "markdown",
   "id": "47adbf8f",
   "metadata": {
    "papermill": {
     "duration": 0.007468,
     "end_time": "2023-10-14T20:01:03.641939",
     "exception": false,
     "start_time": "2023-10-14T20:01:03.634471",
     "status": "completed"
    },
    "tags": []
   },
   "source": [
    " Table of Contents \n",
    "* [Hello, World!](#hello,_world!)\n",
    "* [Different Ways to Execute Python Code](#different_ways_to_execute_python_code)\n",
    "    * [1. Using the Python Interpreter Interactively](#1._using_the_python_interpreter_interactively)\n",
    "        * [Starting the Interpreter](#starting_the_interpreter)\n",
    "        * [Executing Python Code](#executing_python_code)\n",
    "        * [Exiting the Interpreter](#exiting_the_interpreter)\n",
    "    * [2. IPython](#2._ipython)\n",
    "    * [3. Notebook](#3._notebook)\n",
    "    * [4. Online Python REPL Sites](#4._online_python_repl_sites)\n",
    "    * [5. Running a Python Script from the Command Line](#5._running_a_python_script_from_the_command_line)\n",
    "    * [6. Interacting with Python through an IDE](#6._interacting_with_python_through_an_ide)\n",
    "    * [7. Text Editors](#7._text_editors)\n",
    "* Conclusion](#<img_src=\"../../images/logos/checkmark.png\"_width=\"20\"/>_conclusion)\n",
    "* [FAQ](#faq)\n",
    "\n",
    "---"
   ]
  },
  {
   "cell_type": "markdown",
   "id": "624384cf",
   "metadata": {
    "papermill": {
     "duration": 0.007467,
     "end_time": "2023-10-14T20:01:03.657156",
     "exception": false,
     "start_time": "2023-10-14T20:01:03.649689",
     "status": "completed"
    },
    "tags": []
   },
   "source": [
    "At this point, you should have a working Python 3 interpreter at hand. If you need help getting Python set up correctly, please refer to the previous section on how to interact with Conda."
   ]
  },
  {
   "cell_type": "markdown",
   "id": "d0ac8285",
   "metadata": {
    "papermill": {
     "duration": 0.007563,
     "end_time": "2023-10-14T20:01:03.673505",
     "exception": false,
     "start_time": "2023-10-14T20:01:03.665942",
     "status": "completed"
    },
    "tags": []
   },
   "source": [
    "There are several ways to run Python code.\n",
    "- First let's discuss the various options for development environments. There are 3 main types of environments:\n",
    "    * Text Editors\n",
    "    * Full IDEs\n",
    "    * Notebook Environments\n",
    "    \n",
    "    \n",
    "**Note:** Development environments are a personal choice highly dependent on personal preference."
   ]
  },
  {
   "cell_type": "markdown",
   "id": "1bf34371",
   "metadata": {
    "papermill": {
     "duration": 0.007635,
     "end_time": "2023-10-14T20:01:03.688904",
     "exception": false,
     "start_time": "2023-10-14T20:01:03.681269",
     "status": "completed"
    },
    "tags": []
   },
   "source": [
    "<a class=\"anchor\" id=\"hello,_world!\"></a>\n",
    "## Hello, World!\n",
    "\n",
    "There is a long-standing custom in the field of computer programming that the first code written in a newly installed language is a short program that simply displays the string Hello, World! to the console."
   ]
  },
  {
   "cell_type": "markdown",
   "id": "113556b8",
   "metadata": {
    "papermill": {
     "duration": 0.007438,
     "end_time": "2023-10-14T20:01:03.704044",
     "exception": false,
     "start_time": "2023-10-14T20:01:03.696606",
     "status": "completed"
    },
    "tags": []
   },
   "source": [
    "> **Note:** Note: This is a time-honored tradition dating back to the 1970s. See [Hello, World!](https://en.wikipedia.org/wiki/%22Hello,_World!%22_program) for a brief history. You seriously risk upsetting the qi of the universe if you don’t abide by this custom."
   ]
  },
  {
   "cell_type": "markdown",
   "id": "88189718",
   "metadata": {
    "papermill": {
     "duration": 0.007454,
     "end_time": "2023-10-14T20:01:03.719184",
     "exception": false,
     "start_time": "2023-10-14T20:01:03.711730",
     "status": "completed"
    },
    "tags": []
   },
   "source": [
    "The simplest Python 3 code to display `Hello, World!` is:\n",
    "\n",
    "```python\n",
    "print(\"Hello World\")\n",
    "```\n",
    "\n",
    "You will explore several different ways to execute this code above."
   ]
  },
  {
   "cell_type": "markdown",
   "id": "4861ad9b",
   "metadata": {
    "papermill": {
     "duration": 0.010296,
     "end_time": "2023-10-14T20:01:03.737099",
     "exception": false,
     "start_time": "2023-10-14T20:01:03.726803",
     "status": "completed"
    },
    "tags": []
   },
   "source": [
    "<a class=\"anchor\" id=\"different_ways_to_execute_python_code\"></a>\n",
    "## Different Ways to Execute Python Code"
   ]
  },
  {
   "cell_type": "markdown",
   "id": "08672790",
   "metadata": {
    "papermill": {
     "duration": 0.008051,
     "end_time": "2023-10-14T20:01:03.752942",
     "exception": false,
     "start_time": "2023-10-14T20:01:03.744891",
     "status": "completed"
    },
    "tags": []
   },
   "source": [
    "<a class=\"anchor\" id=\"1._using_the_python_interpreter_interactively\"></a>\n",
    "### 1. Using the Python Interpreter Interactively\n",
    "\n",
    "The most straightforward way to start talking to Python is in an interactive [Read-Eval-Print Loop (REPL)](https://en.wikipedia.org/wiki/Read%E2%80%93eval%E2%80%93print_loop) environment. That simply means starting up the interpreter and typing commands to it directly. The interpreter:\n",
    "\n",
    "- **R**eads the command you enter\n",
    "- **E**valuates and executes the command\n",
    "- **P**rints the output (if any) to the console\n",
    "- **L**oops back and repeats the process\n",
    "\n",
    "The session continues in this manner until you instruct the interpreter to terminate. Most of the example code in this tutorial series is presented as REPL interaction."
   ]
  },
  {
   "cell_type": "markdown",
   "id": "52d96023",
   "metadata": {
    "papermill": {
     "duration": 0.007559,
     "end_time": "2023-10-14T20:01:03.768425",
     "exception": false,
     "start_time": "2023-10-14T20:01:03.760866",
     "status": "completed"
    },
    "tags": []
   },
   "source": [
    "<a class=\"anchor\" id=\"starting_the_interpreter\"></a>\n",
    "#### Starting the Interpreter\n",
    "\n",
    "you can open a terminal window and run the interpreter from the command line. How you go about opening a terminal window varies depending on which operating system you’re using:\n",
    "\n",
    "- In Windows, it is called **Command Prompt**.\n",
    "- In macOS or Linux, it should be called **Terminal**."
   ]
  },
  {
   "cell_type": "markdown",
   "id": "c5afe239",
   "metadata": {
    "papermill": {
     "duration": 0.007501,
     "end_time": "2023-10-14T20:01:03.783619",
     "exception": false,
     "start_time": "2023-10-14T20:01:03.776118",
     "status": "completed"
    },
    "tags": []
   },
   "source": [
    "Once a terminal window is open, if paths have been set up properly by the Python install process, you should be able to just type `python`. Then, you should see a response from the Python interpreter.\n",
    "\n",
    "```bash\n",
    "(base) ~ % python\n",
    "Python 3.6.0 (v3.6.0:41df79263a11, Dec 23 2016, 07:18:10) [MSC v.1900 32 bit (Intel)] on win32\n",
    "Type \"help\", \"copyright\", \"credits\" or \"license\" for more information.\n",
    ">>>\n",
    "```"
   ]
  },
  {
   "cell_type": "markdown",
   "id": "702473d0",
   "metadata": {
    "papermill": {
     "duration": 0.007473,
     "end_time": "2023-10-14T20:01:03.798766",
     "exception": false,
     "start_time": "2023-10-14T20:01:03.791293",
     "status": "completed"
    },
    "tags": []
   },
   "source": [
    "> **Technical Note:** If you are on a Linux system and installed Python 3, it may be that both Python 2 and Python 3 are installed. In that case, it is possible that typing python at the prompt will start Python 2. Starting Python 3 may require typing something else, like python3.\n",
    ">\n",
    "> If you installed a more recent version of Python 3 than the one that was included in the distribution, you may even need to specify the version you installed specifically—for example python3.6."
   ]
  },
  {
   "cell_type": "markdown",
   "id": "bb410325",
   "metadata": {
    "papermill": {
     "duration": 0.007603,
     "end_time": "2023-10-14T20:01:03.814478",
     "exception": false,
     "start_time": "2023-10-14T20:01:03.806875",
     "status": "completed"
    },
    "tags": []
   },
   "source": [
    "If you are not seeing the `>>>` prompt, then you are not talking to the Python interpreter. This could be because Python is either not installed or not in your terminal window session’s path. It’s also possible that you just haven’t found the correct command to execute it. You can refer to our installing Python section for help."
   ]
  },
  {
   "cell_type": "markdown",
   "id": "3c45d937",
   "metadata": {
    "papermill": {
     "duration": 0.007543,
     "end_time": "2023-10-14T20:01:03.830551",
     "exception": false,
     "start_time": "2023-10-14T20:01:03.823008",
     "status": "completed"
    },
    "tags": []
   },
   "source": [
    "<a class=\"anchor\" id=\"executing_python_code\"></a>\n",
    "#### Executing Python Code\n",
    "\n",
    "If you are seeing the prompt, you’re off and running! The next step is to execute the statement that displays `Hello, World!` to the console:\n",
    "\n",
    "1. Ensure that the `>>>` prompt is displayed, and the cursor is positioned after it.\n",
    "2. Type the command `print(\"Hello, World!\")` exactly as shown.\n",
    "3. Press the Enter key."
   ]
  },
  {
   "cell_type": "markdown",
   "id": "fab4fe23",
   "metadata": {
    "papermill": {
     "duration": 0.00796,
     "end_time": "2023-10-14T20:01:03.846875",
     "exception": false,
     "start_time": "2023-10-14T20:01:03.838915",
     "status": "completed"
    },
    "tags": []
   },
   "source": [
    "The interpreter’s response should appear on the next line. You can tell it is console output because the `>>>` prompt is absent:\n",
    "\n",
    "```bash\n",
    ">>> print(\"Hello, World!\")\n",
    "Hello, World!\n",
    "```"
   ]
  },
  {
   "cell_type": "markdown",
   "id": "3eacc481",
   "metadata": {
    "papermill": {
     "duration": 0.007473,
     "end_time": "2023-10-14T20:01:03.862542",
     "exception": false,
     "start_time": "2023-10-14T20:01:03.855069",
     "status": "completed"
    },
    "tags": []
   },
   "source": [
    "If your session looks like the above, then you have executed your first Python code! Take a moment to celebrate."
   ]
  },
  {
   "cell_type": "markdown",
   "id": "8213cc1b",
   "metadata": {
    "papermill": {
     "duration": 0.007443,
     "end_time": "2023-10-14T20:01:03.877592",
     "exception": false,
     "start_time": "2023-10-14T20:01:03.870149",
     "status": "completed"
    },
    "tags": []
   },
   "source": []
  },
  {
   "cell_type": "markdown",
   "id": "8459624f",
   "metadata": {
    "papermill": {
     "duration": 0.079489,
     "end_time": "2023-10-14T20:01:03.964610",
     "exception": false,
     "start_time": "2023-10-14T20:01:03.885121",
     "status": "completed"
    },
    "tags": []
   },
   "source": [
    "<a class=\"anchor\" id=\"exiting_the_interpreter\"></a>\n",
    "#### Exiting the Interpreter\n",
    "When you are finished interacting with the interpreter, you can exit a REPL session in several ways:\n",
    "\n",
    "- Type `exit()` and press Enter:\n",
    "\n",
    "```bash\n",
    ">>> exit()\n",
    "\n",
    "(base) ~ %\n",
    "```\n",
    "\n",
    "- In Linux or macOS, type `Ctrl+D`. The interpreter terminates immediately; pressing Enter is not needed.\n",
    "- If all else fails, you can simply close the interpreter window. This isn’t the best way, but it will get the job done."
   ]
  },
  {
   "cell_type": "markdown",
   "id": "63a31362",
   "metadata": {
    "papermill": {
     "duration": 0.007699,
     "end_time": "2023-10-14T20:01:03.980417",
     "exception": false,
     "start_time": "2023-10-14T20:01:03.972718",
     "status": "completed"
    },
    "tags": []
   },
   "source": [
    "Below are a list of other REPLs that you can optionally install to make working in data science more developer-friendly."
   ]
  },
  {
   "cell_type": "markdown",
   "id": "3dbf34ae",
   "metadata": {
    "papermill": {
     "duration": 0.007697,
     "end_time": "2023-10-14T20:01:03.996221",
     "exception": false,
     "start_time": "2023-10-14T20:01:03.988524",
     "status": "completed"
    },
    "tags": []
   },
   "source": [
    "<a class=\"anchor\" id=\"2._ipython\"></a>\n",
    "### 2. IPython\n",
    "\n",
    "[IPython](https://ipython.org/install.html) is an upgraded Python [read-eval-print loop (REPL)](https://en.wikipedia.org/wiki/Read%E2%80%93eval%E2%80%93print_loop) that makes editing code in a live interpreter session more straightforward and prettier. Here’s what an IPython REPL session looks like:\n",
    "\n",
    "```bash\n",
    "In [1]: import numpy as np\n",
    "\n",
    "In [2]: digits = np.array([\n",
    "   ...:     [1, 2, 3],\n",
    "   ...:     [4, 5, 6],\n",
    "   ...:     [6, 7, 9],\n",
    "   ...: ])\n",
    "\n",
    "In [3]: digits\n",
    "Out[3]:\n",
    "array([[1, 2, 3],\n",
    "       [4, 5, 6],\n",
    "       [6, 7, 9]])\n",
    "```"
   ]
  },
  {
   "cell_type": "markdown",
   "id": "fdbf1437",
   "metadata": {
    "papermill": {
     "duration": 0.013706,
     "end_time": "2023-10-14T20:01:04.018971",
     "exception": false,
     "start_time": "2023-10-14T20:01:04.005265",
     "status": "completed"
    },
    "tags": []
   },
   "source": [
    "It has several differences from a basic Python REPL, including its line numbers, use of colors, and quality of array visualizations. There are also a lot of user-experience bonuses that make it more pleasant to enter, re-enter, and edit code."
   ]
  },
  {
   "cell_type": "markdown",
   "id": "3b67d2ae",
   "metadata": {
    "papermill": {
     "duration": 0.008121,
     "end_time": "2023-10-14T20:01:04.035032",
     "exception": false,
     "start_time": "2023-10-14T20:01:04.026911",
     "status": "completed"
    },
    "tags": []
   },
   "source": [
    "You can install IPython as a standalone:\n",
    "\n",
    "```bash\n",
    "$ pip install ipython\n",
    "```\n",
    "\n",
    "Alternatively, if you wait and install any of the subsequent tools, then they’ll include a copy of IPython."
   ]
  },
  {
   "cell_type": "markdown",
   "id": "633c9421",
   "metadata": {
    "papermill": {
     "duration": 0.007594,
     "end_time": "2023-10-14T20:01:04.050565",
     "exception": false,
     "start_time": "2023-10-14T20:01:04.042971",
     "status": "completed"
    },
    "tags": []
   },
   "source": [
    "<a class=\"anchor\" id=\"3._notebook\"></a>\n",
    "### 3. Notebook\n",
    "\n",
    "A slightly more featureful alternative to a REPL is a **notebook**. Notebooks are a slightly different style of writing Python than standard scripts, though. Instead of a traditional Python file, they give you a series of mini-scripts called **cells** that you can run and re-run in whatever order you want, all in the same Python memory session."
   ]
  },
  {
   "cell_type": "markdown",
   "id": "7c1e97de",
   "metadata": {
    "papermill": {
     "duration": 0.007378,
     "end_time": "2023-10-14T20:01:04.065785",
     "exception": false,
     "start_time": "2023-10-14T20:01:04.058407",
     "status": "completed"
    },
    "tags": []
   },
   "source": [
    "One neat thing about notebooks is that you can include graphs and render Markdown paragraphs between cells, so they’re really nice for writing up data analyses right inside the code!"
   ]
  },
  {
   "cell_type": "markdown",
   "id": "82047aa4",
   "metadata": {
    "papermill": {
     "duration": 0.00829,
     "end_time": "2023-10-14T20:01:04.081946",
     "exception": false,
     "start_time": "2023-10-14T20:01:04.073656",
     "status": "completed"
    },
    "tags": []
   },
   "source": []
  },
  {
   "cell_type": "markdown",
   "id": "62b4f91d",
   "metadata": {
    "papermill": {
     "duration": 0.008726,
     "end_time": "2023-10-14T20:01:04.099248",
     "exception": false,
     "start_time": "2023-10-14T20:01:04.090522",
     "status": "completed"
    },
    "tags": []
   },
   "source": [
    "The most popular notebook offering is probably the [Jupyter Notebook](https://realpython.com/jupyter-notebook-introduction/), but [nteract](https://nteract.io/)\n",
    "is another option that wraps the Jupyter functionality and attempts to make it a bit more approachable and powerful."
   ]
  },
  {
   "cell_type": "markdown",
   "id": "465bb0fa",
   "metadata": {
    "papermill": {
     "duration": 0.008356,
     "end_time": "2023-10-14T20:01:04.115669",
     "exception": false,
     "start_time": "2023-10-14T20:01:04.107313",
     "status": "completed"
    },
    "tags": []
   },
   "source": [
    "However, if you’re looking at Jupyter Notebook and thinking that it needs more IDE-like qualities, then [JupyterLab](https://jupyterlab.readthedocs.io/en/stable/) is another option. You can customize text editors, notebooks, terminals, and custom components, all in a browser-based interface. It will likely be more comfortable for people coming from [MatLab](https://realpython.com/matlab-vs-python/). It’s the youngest of the offerings, but its 1.0 release was back in 2019, so it should be stable and full featured."
   ]
  },
  {
   "cell_type": "markdown",
   "id": "c66cf72c",
   "metadata": {
    "papermill": {
     "duration": 0.008772,
     "end_time": "2023-10-14T20:01:04.133102",
     "exception": false,
     "start_time": "2023-10-14T20:01:04.124330",
     "status": "completed"
    },
    "tags": []
   },
   "source": []
  },
  {
   "cell_type": "markdown",
   "id": "436ecb57",
   "metadata": {
    "papermill": {
     "duration": 0.008169,
     "end_time": "2023-10-14T20:01:04.150591",
     "exception": false,
     "start_time": "2023-10-14T20:01:04.142422",
     "status": "completed"
    },
    "tags": []
   },
   "source": [
    "Whichever option you choose, once you have it installed, you’ll be ready to run your first lines of data science codes."
   ]
  },
  {
   "cell_type": "markdown",
   "id": "fbe0aef9",
   "metadata": {
    "papermill": {
     "duration": 0.008733,
     "end_time": "2023-10-14T20:01:04.168892",
     "exception": false,
     "start_time": "2023-10-14T20:01:04.160159",
     "status": "completed"
    },
    "tags": []
   },
   "source": [
    "Notebook Environments are:\n",
    "\n",
    "- Great for learning.\n",
    "- See input and output next to each other.\n",
    "- Support in-line markdown notes, visualization, videos, and more.\n",
    "- Special file formats that are not `.py`."
   ]
  },
  {
   "cell_type": "markdown",
   "id": "da1e5ca6",
   "metadata": {
    "papermill": {
     "duration": 0.008031,
     "end_time": "2023-10-14T20:01:04.185177",
     "exception": false,
     "start_time": "2023-10-14T20:01:04.177146",
     "status": "completed"
    },
    "tags": []
   },
   "source": [
    "<a class=\"anchor\" id=\"4._online_python_repl_sites\"></a>\n",
    "### 4. Online Python REPL Sites\n",
    "\n",
    "There are [websites available](https://realpython.com/installing-python/#online-python-interpreters) that can provide you with interactive access to a Python interpreter online without you having to install anything locally."
   ]
  },
  {
   "cell_type": "markdown",
   "id": "6d44627a",
   "metadata": {
    "papermill": {
     "duration": 0.007809,
     "end_time": "2023-10-14T20:01:04.201987",
     "exception": false,
     "start_time": "2023-10-14T20:01:04.194178",
     "status": "completed"
    },
    "tags": []
   },
   "source": [
    "This approach may be unsatisfactory for some of the more complicated or lengthy examples in this tutorial. But for simple REPL sessions, it should work well."
   ]
  },
  {
   "cell_type": "markdown",
   "id": "8f4ad259",
   "metadata": {
    "papermill": {
     "duration": 0.008213,
     "end_time": "2023-10-14T20:01:04.218582",
     "exception": false,
     "start_time": "2023-10-14T20:01:04.210369",
     "status": "completed"
    },
    "tags": []
   },
   "source": [
    "The Python Software Foundation provides an Interactive Shell on their website. Go directly to https://www.python.org/shell. You should get a page with a window that looks something like this:\n",
    "\n"
   ]
  },
  {
   "cell_type": "markdown",
   "id": "1304b012",
   "metadata": {
    "papermill": {
     "duration": 0.007598,
     "end_time": "2023-10-14T20:01:04.234179",
     "exception": false,
     "start_time": "2023-10-14T20:01:04.226581",
     "status": "completed"
    },
    "tags": []
   },
   "source": [
    "The familiar `>>>` prompt shows you that you are talking to the Python interpreter."
   ]
  },
  {
   "cell_type": "markdown",
   "id": "0482a55a",
   "metadata": {
    "papermill": {
     "duration": 0.007904,
     "end_time": "2023-10-14T20:01:04.249980",
     "exception": false,
     "start_time": "2023-10-14T20:01:04.242076",
     "status": "completed"
    },
    "tags": []
   },
   "source": [
    "Here are a few other sites that provide Python REPL:\n",
    "\n",
    "- [PythonFiddle](http://pythonfiddle.com/)\n",
    "- [repl.it](https://repl.it/)\n",
    "- [Trinket](https://trinket.io/)"
   ]
  },
  {
   "cell_type": "markdown",
   "id": "def49734",
   "metadata": {
    "papermill": {
     "duration": 0.008036,
     "end_time": "2023-10-14T20:01:04.266878",
     "exception": false,
     "start_time": "2023-10-14T20:01:04.258842",
     "status": "completed"
    },
    "tags": []
   },
   "source": [
    "<a class=\"anchor\" id=\"5._running_a_python_script_from_the_command_line\"></a>\n",
    "### 5. Running a Python Script from the Command Line"
   ]
  },
  {
   "cell_type": "markdown",
   "id": "30b19d4d",
   "metadata": {
    "papermill": {
     "duration": 0.007538,
     "end_time": "2023-10-14T20:01:04.282331",
     "exception": false,
     "start_time": "2023-10-14T20:01:04.274793",
     "status": "completed"
    },
    "tags": []
   },
   "source": [
    "Entering commands to the Python interpreter interactively is great for quick testing and exploring features or functionality."
   ]
  },
  {
   "cell_type": "markdown",
   "id": "5d22cd7b",
   "metadata": {
    "papermill": {
     "duration": 0.007602,
     "end_time": "2023-10-14T20:01:04.298516",
     "exception": false,
     "start_time": "2023-10-14T20:01:04.290914",
     "status": "completed"
    },
    "tags": []
   },
   "source": [
    "Eventually though, as you create more complex applications, you will develop longer bodies of code that you will want to edit and run repeatedly. You clearly don’t want to re-type the code into the interpreter every time! This is where you will want to create a script file."
   ]
  },
  {
   "cell_type": "markdown",
   "id": "c0f3f9f2",
   "metadata": {
    "papermill": {
     "duration": 0.007547,
     "end_time": "2023-10-14T20:01:04.313948",
     "exception": false,
     "start_time": "2023-10-14T20:01:04.306401",
     "status": "completed"
    },
    "tags": []
   },
   "source": [
    "A Python script is a reusable set of code. It is essentially a Python program—a sequence of Python instructions—contained in a file. You can run the program by specifying the name of the script file to the interpreter."
   ]
  },
  {
   "cell_type": "markdown",
   "id": "4093a7dc",
   "metadata": {
    "papermill": {
     "duration": 0.007512,
     "end_time": "2023-10-14T20:01:04.329341",
     "exception": false,
     "start_time": "2023-10-14T20:01:04.321829",
     "status": "completed"
    },
    "tags": []
   },
   "source": [
    "Python scripts are just plain text, so you can edit them with any text editor. If you [have a favorite programmer’s editor](https://realpython.com/python-ides-code-editors-guide/) that operates on text files, it should be fine to use. If you don’t, the following are typically installed natively with their respective operating systems:\n",
    "\n",
    "- Windows: Notepad\n",
    "- Unix/Linux: vi or vim\n",
    "- macOS: TextEdit\n",
    "\n",
    "Using whatever editor you’ve chosen, create a script file called `hello.py` containing the following:\n",
    "\n",
    "```python\n",
    "print(\"Hello, World!\")\n",
    "```"
   ]
  },
  {
   "cell_type": "markdown",
   "id": "202f4419",
   "metadata": {
    "papermill": {
     "duration": 0.007441,
     "end_time": "2023-10-14T20:01:04.344700",
     "exception": false,
     "start_time": "2023-10-14T20:01:04.337259",
     "status": "completed"
    },
    "tags": []
   },
   "source": [
    "Now save the file, keeping track of the directory or folder you chose to save into."
   ]
  },
  {
   "cell_type": "markdown",
   "id": "5237bd1d",
   "metadata": {
    "papermill": {
     "duration": 0.007454,
     "end_time": "2023-10-14T20:01:04.360089",
     "exception": false,
     "start_time": "2023-10-14T20:01:04.352635",
     "status": "completed"
    },
    "tags": []
   },
   "source": [
    "Start a command prompt or terminal window. If the current working directory is the same as the location in which you saved the file, you can simply specify the filename as a command-line argument to the Python interpreter: `python hello.py`"
   ]
  },
  {
   "cell_type": "markdown",
   "id": "a3ad5a7b",
   "metadata": {
    "papermill": {
     "duration": 0.007637,
     "end_time": "2023-10-14T20:01:04.375681",
     "exception": false,
     "start_time": "2023-10-14T20:01:04.368044",
     "status": "completed"
    },
    "tags": []
   },
   "source": [
    "For example, in linux it would look like this:\n",
    "\n",
    "```bash\n",
    "(base) ~ % python hello.py\n",
    "Hello, World!\n",
    "```"
   ]
  },
  {
   "cell_type": "markdown",
   "id": "b3adc1f6",
   "metadata": {
    "papermill": {
     "duration": 0.007552,
     "end_time": "2023-10-14T20:01:04.391142",
     "exception": false,
     "start_time": "2023-10-14T20:01:04.383590",
     "status": "completed"
    },
    "tags": []
   },
   "source": [
    "If the script is not in the current working directory, you can still run it. You’ll just have to specify the path name to it:\n",
    "\n",
    "```bash\n",
    "(base) ~ % python /home/ali/Documents/test/hello.py\n",
    "Hello, World!\n",
    "```"
   ]
  },
  {
   "cell_type": "markdown",
   "id": "717641f2",
   "metadata": {
    "papermill": {
     "duration": 0.007637,
     "end_time": "2023-10-14T20:01:04.407169",
     "exception": false,
     "start_time": "2023-10-14T20:01:04.399532",
     "status": "completed"
    },
    "tags": []
   },
   "source": [
    "A script file is not required to have a `.py` extension. The Python interpreter will run the file no matter what it’s called, so long as you properly specify the file name on the command line, but giving Python files a `.py` extension is a useful convention because it makes them more easily identifiable. In desktop-oriented folder/icon environments like Windows and macOS, this will also typically allow for setting up an appropriate file association, so that you can run the script just by clicking its icon."
   ]
  },
  {
   "cell_type": "markdown",
   "id": "e362f8c4",
   "metadata": {
    "papermill": {
     "duration": 0.007523,
     "end_time": "2023-10-14T20:01:04.422631",
     "exception": false,
     "start_time": "2023-10-14T20:01:04.415108",
     "status": "completed"
    },
    "tags": []
   },
   "source": [
    "<a class=\"anchor\" id=\"6._interacting_with_python_through_an_ide\"></a>\n",
    "### 6. Interacting with Python through an IDE\n",
    "\n",
    "An Integrated Development Environment (IDE) is an application that more or less combines all the functionality you have seen so far. IDEs usually provide REPL capability as well as an editor with which you can create and modify code to then submit to the interpreter for execution."
   ]
  },
  {
   "cell_type": "markdown",
   "id": "078d4c45",
   "metadata": {
    "papermill": {
     "duration": 0.007542,
     "end_time": "2023-10-14T20:01:04.438079",
     "exception": false,
     "start_time": "2023-10-14T20:01:04.430537",
     "status": "completed"
    },
    "tags": []
   },
   "source": [
    "You may also find cool features such as:\n",
    "\n",
    "- **Syntax highlighting:** IDEs often colorize different syntax elements in the code to make it easier to read.\n",
    "- **Context-sensitive help:** Advanced IDEs can display related information from the Python documentation or even suggested fixes for common types of code errors.\n",
    "- **Code-completion:** Some IDEs can complete partially typed pieces of code (like function names) for you—a great time-saver and convenience feature.\n",
    "- **Debugging:** A debugger allows you to run code step-by-step and inspect program data as you go. This is invaluable when you are trying to determine why a program is behaving improperly, as will inevitably happen."
   ]
  },
  {
   "cell_type": "markdown",
   "id": "c80ddf34",
   "metadata": {
    "papermill": {
     "duration": 0.007456,
     "end_time": "2023-10-14T20:01:04.453435",
     "exception": false,
     "start_time": "2023-10-14T20:01:04.445979",
     "status": "completed"
    },
    "tags": []
   },
   "source": [
    "<a class=\"anchor\" id=\"7._text_editors\"></a>\n",
    "### 7. Text Editors\n",
    "\n",
    "- General editors for any text files.\n",
    "- Work with a variety of file types.\n",
    "- Can be customized with plugins and add-ons.\n",
    "- Keep in mind, most are not desinged with only Python in mind.\n",
    "\n",
    "Most popular: VSCode, Submile Text, and Atom."
   ]
  },
  {
   "cell_type": "markdown",
   "id": "5a7db648",
   "metadata": {
    "papermill": {
     "duration": 0.007832,
     "end_time": "2023-10-14T20:01:04.469431",
     "exception": false,
     "start_time": "2023-10-14T20:01:04.461599",
     "status": "completed"
    },
    "tags": []
   },
   "source": [
    "Download and install **[VSCode](https://code.visualstudio.com/download)**. For WSL you just need to install it in your Windows OS and it will automatically download and install it in WSL the first time you run `code` in your WSL terminal."
   ]
  },
  {
   "cell_type": "markdown",
   "id": "9986b890",
   "metadata": {
    "papermill": {
     "duration": 0.007389,
     "end_time": "2023-10-14T20:01:04.484509",
     "exception": false,
     "start_time": "2023-10-14T20:01:04.477120",
     "status": "completed"
    },
    "tags": []
   },
   "source": [
    "Run these commands to make sure everything is setup:\n",
    "\n",
    "```bash\n",
    "~ % code --version\n",
    "1.57.1\n",
    "507ce72a4466fbb27b715c3722558bb15afa9f48\n",
    "x64\n",
    "```\n",
    "\n",
    "You should see `vscode` installation version."
   ]
  },
  {
   "cell_type": "markdown",
   "id": "d9129297",
   "metadata": {
    "papermill": {
     "duration": 0.008757,
     "end_time": "2023-10-14T20:01:04.501633",
     "exception": false,
     "start_time": "2023-10-14T20:01:04.492876",
     "status": "completed"
    },
    "tags": []
   },
   "source": [
    "<a class=\"anchor\" id=\"conclusion\"></a>\n",
    "## <img src=\"../../images/logos/checkmark.png\" width=\"20\"/> Conclusion \n",
    "Larger applications are typically contained in script files that are passed to the Python interpreter for execution."
   ]
  },
  {
   "cell_type": "markdown",
   "id": "57967fa3",
   "metadata": {
    "papermill": {
     "duration": 0.008153,
     "end_time": "2023-10-14T20:01:04.518811",
     "exception": false,
     "start_time": "2023-10-14T20:01:04.510658",
     "status": "completed"
    },
    "tags": []
   },
   "source": [
    "But one of the advantages of an interpreted language is that you can run the interpreter and execute commands interactively. Python is easy to use in this manner, and it is a great way to get your feet wet learning how the language works."
   ]
  },
  {
   "cell_type": "markdown",
   "id": "9506d4f6",
   "metadata": {
    "papermill": {
     "duration": 0.007622,
     "end_time": "2023-10-14T20:01:04.534717",
     "exception": false,
     "start_time": "2023-10-14T20:01:04.527095",
     "status": "completed"
    },
    "tags": []
   },
   "source": [
    "The examples throughout this tutorial have been produced by direct interaction with the Python interpreter, but if you choose to use IDLE or some other available IDE, the examples should still work just fine."
   ]
  },
  {
   "cell_type": "markdown",
   "id": "242d8831",
   "metadata": {
    "papermill": {
     "duration": 0.007601,
     "end_time": "2023-10-14T20:01:04.550315",
     "exception": false,
     "start_time": "2023-10-14T20:01:04.542714",
     "status": "completed"
    },
    "tags": []
   },
   "source": [
    "Continue to the next section, where you will start to explore the elements of the Python language itself."
   ]
  },
  {
   "cell_type": "markdown",
   "id": "64a1a14d",
   "metadata": {
    "papermill": {
     "duration": 0.007641,
     "end_time": "2023-10-14T20:01:04.565924",
     "exception": false,
     "start_time": "2023-10-14T20:01:04.558283",
     "status": "completed"
    },
    "tags": []
   },
   "source": [
    "<a class=\"anchor\" id=\"faq\"></a>\n",
    "## FAQ"
   ]
  },
  {
   "cell_type": "markdown",
   "id": "18150224",
   "metadata": {
    "papermill": {
     "duration": 0.00753,
     "end_time": "2023-10-14T20:01:04.581466",
     "exception": false,
     "start_time": "2023-10-14T20:01:04.573936",
     "status": "completed"
    },
    "tags": []
   },
   "source": [
    "1. How can I launch a jupyter notebook in my computer?\n",
    "\n",
    "**Answer**: Run `jupyter notebook` in your terminal."
   ]
  },
  {
   "cell_type": "markdown",
   "id": "95e79b36",
   "metadata": {
    "papermill": {
     "duration": 0.007823,
     "end_time": "2023-10-14T20:01:04.597321",
     "exception": false,
     "start_time": "2023-10-14T20:01:04.589498",
     "status": "completed"
    },
    "tags": []
   },
   "source": []
  },
  {
   "cell_type": "markdown",
   "id": "325a73e9",
   "metadata": {
    "papermill": {
     "duration": 0.007757,
     "end_time": "2023-10-14T20:01:04.613322",
     "exception": false,
     "start_time": "2023-10-14T20:01:04.605565",
     "status": "completed"
    },
    "tags": []
   },
   "source": [
    "**Answer**: Follow these steps:\n",
    "1. In your terminal run `jupyter notebook --generate-config`.\n",
    "2. It will generate a config file at: `~/.jupyter/jupyter_notebook_config.py`\n",
    "3. Open `~/.jupyter/jupyter_notebook_config.py` file, look for `c.NotebookApp.use_redirect_file`.\n",
    "4. If `c.NotebookApp.use_redirect_file` exist, uncomment it and set it to `False`. Otherwise add it at the end of the file like this: `c.NotebookApp.use_redirect_file = False`\n"
   ]
  }
 ],
 "metadata": {
  "kernelspec": {
   "display_name": "Python 3",
   "language": "python",
   "name": "python3"
  },
  "language_info": {
   "codemirror_mode": {
    "name": "ipython",
    "version": 3
   },
   "file_extension": ".py",
   "mimetype": "text/x-python",
   "name": "python",
   "nbconvert_exporter": "python",
   "pygments_lexer": "ipython3",
   "version": "3.10.12"
  },
  "papermill": {
   "default_parameters": {},
   "duration": 5.08028,
   "end_time": "2023-10-14T20:01:05.044235",
   "environment_variables": {},
   "exception": null,
   "input_path": "__notebook__.ipynb",
   "output_path": "__notebook__.ipynb",
   "parameters": {},
   "start_time": "2023-10-14T20:00:59.963955",
   "version": "2.4.0"
  }
 },
 "nbformat": 4,
 "nbformat_minor": 5
}
