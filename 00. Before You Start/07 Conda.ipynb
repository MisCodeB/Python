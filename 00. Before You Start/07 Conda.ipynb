{
 "cells": [
  {
   "cell_type": "markdown",
   "id": "a1787665",
   "metadata": {
    "papermill": {
     "duration": 0.009756,
     "end_time": "2023-10-14T19:11:12.020663",
     "exception": false,
     "start_time": "2023-10-14T19:11:12.010907",
     "status": "completed"
    },
    "tags": []
   },
   "source": []
  },
  {
   "cell_type": "markdown",
   "id": "8f5cb9d2",
   "metadata": {
    "papermill": {
     "duration": 0.008564,
     "end_time": "2023-10-14T19:11:12.038215",
     "exception": false,
     "start_time": "2023-10-14T19:11:12.029651",
     "status": "completed"
    },
    "tags": []
   },
   "source": [
    " Conda Environments \n"
   ]
  },
  {
   "cell_type": "markdown",
   "id": "d7d145d6",
   "metadata": {
    "papermill": {
     "duration": 0.009119,
     "end_time": "2023-10-14T19:11:12.056291",
     "exception": false,
     "start_time": "2023-10-14T19:11:12.047172",
     "status": "completed"
    },
    "tags": []
   },
   "source": [
    "Table of Contents \n",
    "* [Managing environments](#managing_environments)\n",
    "    * [Adding a new environment](#adding_a_new_environment)\n",
    "    * [Activating and leaving (deactivating) an environment](#activating_and_leaving_(deactivating)_an_environment)\n",
    "* [How do you learn the version of your Conda?](#how_do_you_learn_the_version_of_your_conda?)\n",
    "* [Managing packages](#managing_packages)\n",
    "    * [Package channels](#package_channels)\n",
    "    * [Searching, installing and removing packages](#searching,_installing_and_removing_packages)\n",
    "    * [Changing an environment’s Python version](#changing_an_environment’s_python_version)\n",
    "    * [Adding PIP packages](#adding_pip_packages)\n",
    "* [Cheat Sheet](#cheat_sheet)\n",
    "* [Read More](#read_more)\n",
    "\n",
    "---"
   ]
  },
  {
   "cell_type": "markdown",
   "id": "6b68c245",
   "metadata": {
    "papermill": {
     "duration": 0.009462,
     "end_time": "2023-10-14T19:11:12.074920",
     "exception": false,
     "start_time": "2023-10-14T19:11:12.065458",
     "status": "completed"
    },
    "tags": []
   },
   "source": [
    "So now you’ve picked an appropriate installer for yourself, well done! Now let’s take a look at the different types of environments and how they are created. From now on, I’m going to describe how Miniconda works (in the case of using Anaconda, the process is almost the same)."
   ]
  },
  {
   "cell_type": "markdown",
   "id": "9e2307c2",
   "metadata": {
    "papermill": {
     "duration": 0.008819,
     "end_time": "2023-10-14T19:11:12.092828",
     "exception": false,
     "start_time": "2023-10-14T19:11:12.084009",
     "status": "completed"
    },
    "tags": []
   },
   "source": [
    "Miniconda sets up two things for you: **Conda** and the **root environment**."
   ]
  },
  {
   "cell_type": "markdown",
   "id": "e4f8bc10",
   "metadata": {
    "papermill": {
     "duration": 0.008936,
     "end_time": "2023-10-14T19:11:12.110928",
     "exception": false,
     "start_time": "2023-10-14T19:11:12.101992",
     "status": "completed"
    },
    "tags": []
   },
   "source": [
    "The process looks like this: the installer installs Conda first, which is — as I already mentioned — the package and environment management tool. Then, Conda creates **a root environment that contains two things**:\n",
    "\n",
    "- A certain version of Python\n",
    "- some basic packages"
   ]
  },
  {
   "cell_type": "markdown",
   "id": "39d835fb",
   "metadata": {
    "papermill": {
     "duration": 0.008902,
     "end_time": "2023-10-14T19:11:12.129586",
     "exception": false,
     "start_time": "2023-10-14T19:11:12.120684",
     "status": "completed"
    },
    "tags": []
   },
   "source": [
    "Next to the root environment, you can create as many **additional environments** as you want. And the whole point is that these additional environments **can contain different versions of Pythons and other packages**. So it means that, for example, if your precious little application is not working anymore in the newest, state-of-the-art environment you’ve just set up, you can always go “back” and use some another version(s) of some packages (including Python— Python itself is a package, more on that later)."
   ]
  },
  {
   "cell_type": "markdown",
   "id": "bf4676e4",
   "metadata": {
    "papermill": {
     "duration": 0.008662,
     "end_time": "2023-10-14T19:11:12.147616",
     "exception": false,
     "start_time": "2023-10-14T19:11:12.138954",
     "status": "completed"
    },
    "tags": []
   },
   "source": [
    "As we already summarized at the beginning of the article, the main use cases of applying an additional environment are these:\n",
    "\n",
    "- You **develop applications** with different Python or package version requirements\n",
    "- You **use applications** with different Python or package version requirements\n",
    "- You **collaborate** with other developers\n",
    "- You create Python applications **for clients**"
   ]
  },
  {
   "cell_type": "markdown",
   "id": "8c8bbc84",
   "metadata": {
    "papermill": {
     "duration": 0.008792,
     "end_time": "2023-10-14T19:11:12.165347",
     "exception": false,
     "start_time": "2023-10-14T19:11:12.156555",
     "status": "completed"
    },
    "tags": []
   },
   "source": []
  },
  {
   "cell_type": "markdown",
   "id": "f135be35",
   "metadata": {
    "papermill": {
     "duration": 0.00878,
     "end_time": "2023-10-14T19:11:12.183078",
     "exception": false,
     "start_time": "2023-10-14T19:11:12.174298",
     "status": "completed"
    },
    "tags": []
   },
   "source": [
    "So now let's dive into the basics of environment management."
   ]
  },
  {
   "cell_type": "markdown",
   "id": "b57fee86",
   "metadata": {
    "papermill": {
     "duration": 0.009041,
     "end_time": "2023-10-14T19:11:12.201233",
     "exception": false,
     "start_time": "2023-10-14T19:11:12.192192",
     "status": "completed"
    },
    "tags": []
   },
   "source": [
    "<a class=\"anchor\" id=\"managing_environments\"></a>\n",
    "\n",
    "## Managing environments"
   ]
  },
  {
   "cell_type": "markdown",
   "id": "6768b9e7",
   "metadata": {
    "papermill": {
     "duration": 0.05924,
     "end_time": "2023-10-14T19:11:12.269387",
     "exception": false,
     "start_time": "2023-10-14T19:11:12.210147",
     "status": "completed"
    },
    "tags": []
   },
   "source": [
    "<a class=\"anchor\" id=\"adding_a_new_environment\"></a>\n",
    "\n",
    "### Adding a new environment"
   ]
  },
  {
   "cell_type": "markdown",
   "id": "7b216a07",
   "metadata": {
    "papermill": {
     "duration": 0.008701,
     "end_time": "2023-10-14T19:11:12.287230",
     "exception": false,
     "start_time": "2023-10-14T19:11:12.278529",
     "status": "completed"
    },
    "tags": []
   },
   "source": [
    "To create a new environment named, for instance `mynewenv` (you can name it what ever you like), that includes, let’s say, a Python version 3.10., run:\n",
    "\n",
    "```bash\n",
    "$ conda create --name mynewenv python=3.4\n",
    "```"
   ]
  },
  {
   "cell_type": "markdown",
   "id": "d617ea09",
   "metadata": {
    "papermill": {
     "duration": 0.008659,
     "end_time": "2023-10-14T19:11:12.304580",
     "exception": false,
     "start_time": "2023-10-14T19:11:12.295921",
     "status": "completed"
    },
    "tags": []
   },
   "source": [
    "You can change an environment’s Python version by using the package management commands I describe in the next section."
   ]
  },
  {
   "cell_type": "markdown",
   "id": "5b005031",
   "metadata": {
    "papermill": {
     "duration": 0.00918,
     "end_time": "2023-10-14T19:11:12.322687",
     "exception": false,
     "start_time": "2023-10-14T19:11:12.313507",
     "status": "completed"
    },
    "tags": []
   },
   "source": [
    "<a class=\"anchor\" id=\"activating_and_leaving_(deactivating)_an_environment\"></a>\n",
    "\n",
    "### Activating and leaving (deactivating) an environment"
   ]
  },
  {
   "cell_type": "markdown",
   "id": "835c850c",
   "metadata": {
    "papermill": {
     "duration": 0.008731,
     "end_time": "2023-10-14T19:11:12.340328",
     "exception": false,
     "start_time": "2023-10-14T19:11:12.331597",
     "status": "completed"
    },
    "tags": []
   },
   "source": [
    "Inside a new Conda installation, the root environment is activated by default, so you can use it without activation."
   ]
  },
  {
   "cell_type": "markdown",
   "id": "9489ca84",
   "metadata": {
    "papermill": {
     "duration": 0.008833,
     "end_time": "2023-10-14T19:11:12.358148",
     "exception": false,
     "start_time": "2023-10-14T19:11:12.349315",
     "status": "completed"
    },
    "tags": []
   },
   "source": [
    "In other cases, if you want to use an environment (for instance manage packages, or run Python scripts inside it) you need to first **activate** it."
   ]
  },
  {
   "cell_type": "markdown",
   "id": "7fdc3271",
   "metadata": {
    "papermill": {
     "duration": 0.013221,
     "end_time": "2023-10-14T19:11:12.380488",
     "exception": false,
     "start_time": "2023-10-14T19:11:12.367267",
     "status": "completed"
    },
    "tags": []
   },
   "source": [
    "Here is a step by step guide of the activation process:"
   ]
  },
  {
   "cell_type": "markdown",
   "id": "50f03816",
   "metadata": {
    "papermill": {
     "duration": 0.008892,
     "end_time": "2023-10-14T19:11:12.398787",
     "exception": false,
     "start_time": "2023-10-14T19:11:12.389895",
     "status": "completed"
    },
    "tags": []
   },
   "source": [
    "First, open the command line (or the Terminal on Linux/Mac OS X). To activate the mynewenv environment, use the following commands depending on the operating system you have:\n",
    "\n",
    "```bash\n",
    "$ conda activate mynewenv\n",
    "```"
   ]
  },
  {
   "cell_type": "markdown",
   "id": "ab0bef2f",
   "metadata": {
    "papermill": {
     "duration": 0.008679,
     "end_time": "2023-10-14T19:11:12.416388",
     "exception": false,
     "start_time": "2023-10-14T19:11:12.407709",
     "status": "completed"
    },
    "tags": []
   },
   "source": [
    "The command prompt changes upon the environment’s activation. It becomes, for example, `(mynewenv) ~$` or `(base) ~ $`, so as a result of the activation, it now contains the active environment’s name."
   ]
  },
  {
   "cell_type": "markdown",
   "id": "d55167e1",
   "metadata": {
    "papermill": {
     "duration": 0.008793,
     "end_time": "2023-10-14T19:11:12.434294",
     "exception": false,
     "start_time": "2023-10-14T19:11:12.425501",
     "status": "completed"
    },
    "tags": []
   },
   "source": [
    "The directories of the active environment’s executable files are added to the system path (this means that you can now access them more easily). You can leave an environment with this command:\n",
    "\n",
    "```bash\n",
    "$ conda deactivate\n",
    "```"
   ]
  },
  {
   "cell_type": "markdown",
   "id": "1aaf05d5",
   "metadata": {
    "papermill": {
     "duration": 0.009025,
     "end_time": "2023-10-14T19:11:12.452842",
     "exception": false,
     "start_time": "2023-10-14T19:11:12.443817",
     "status": "completed"
    },
    "tags": []
   },
   "source": [
    "It needs to be mentioned that upon deactivating an environment, the root environment becomes active automatically."
   ]
  },
  {
   "cell_type": "markdown",
   "id": "8173dbf5",
   "metadata": {
    "papermill": {
     "duration": 0.008931,
     "end_time": "2023-10-14T19:11:12.470696",
     "exception": false,
     "start_time": "2023-10-14T19:11:12.461765",
     "status": "completed"
    },
    "tags": []
   },
   "source": [
    "To list out the available environments in a Conda installation, run:\n",
    "\n",
    "```bash\n",
    "$ conda env list \n",
    "```"
   ]
  },
  {
   "cell_type": "markdown",
   "id": "5f87a0c2",
   "metadata": {
    "papermill": {
     "duration": 0.009253,
     "end_time": "2023-10-14T19:11:12.489556",
     "exception": false,
     "start_time": "2023-10-14T19:11:12.480303",
     "status": "completed"
    },
    "tags": []
   },
   "source": [
    "Example result:\n",
    "\n",
    "```\n",
    "base                     /Users/ali/opt/anaconda3\n",
    "py38                  *  /Users/ali/opt/anaconda3/envs/py38\n",
    "py39                     /Users/ali/opt/anaconda3/envs/py39\n",
    "```"
   ]
  },
  {
   "cell_type": "markdown",
   "id": "75a5dd40",
   "metadata": {
    "papermill": {
     "duration": 0.008927,
     "end_time": "2023-10-14T19:11:12.507609",
     "exception": false,
     "start_time": "2023-10-14T19:11:12.498682",
     "status": "completed"
    },
    "tags": []
   },
   "source": [
    "Thanks to this command, you can list out all your environments (the root and all the additional ones). The **active** environment is marked with an **asterisk** (at each given moment, there can be only one active environment)."
   ]
  },
  {
   "cell_type": "markdown",
   "id": "0d37d891",
   "metadata": {
    "papermill": {
     "duration": 0.008872,
     "end_time": "2023-10-14T19:11:12.525538",
     "exception": false,
     "start_time": "2023-10-14T19:11:12.516666",
     "status": "completed"
    },
    "tags": []
   },
   "source": [
    "It is possible to remove an environment by running `conda remove --name <environment name> --all`. Since it is not possible to remove an activated environment, you should first deactivate the active environment, to remove it:\n",
    "\n",
    "```bash\n",
    "(py38) ~ $ conda deactivate\n",
    "(base) ~ $ conda remove --name py38 --all\n",
    "```"
   ]
  },
  {
   "cell_type": "markdown",
   "id": "e9a9a4d3",
   "metadata": {
    "papermill": {
     "duration": 0.008793,
     "end_time": "2023-10-14T19:11:12.543317",
     "exception": false,
     "start_time": "2023-10-14T19:11:12.534524",
     "status": "completed"
    },
    "tags": []
   },
   "source": [
    "You may instead use `conda env remove --name myenv`."
   ]
  },
  {
   "cell_type": "markdown",
   "id": "4eb4a950",
   "metadata": {
    "papermill": {
     "duration": 0.008713,
     "end_time": "2023-10-14T19:11:12.560992",
     "exception": false,
     "start_time": "2023-10-14T19:11:12.552279",
     "status": "completed"
    },
    "tags": []
   },
   "source": [
    "<a class=\"anchor\" id=\"how_do_you_learn_the_version_of_your_conda?\"></a>\n",
    "\n",
    "## How do you learn the version of your Conda?"
   ]
  },
  {
   "cell_type": "markdown",
   "id": "bd8a0e7c",
   "metadata": {
    "papermill": {
     "duration": 0.00879,
     "end_time": "2023-10-14T19:11:12.578540",
     "exception": false,
     "start_time": "2023-10-14T19:11:12.569750",
     "status": "completed"
    },
    "tags": []
   },
   "source": [
    "It can be useful to check **what version of Conda you are using**, and also what are the other parameters of your environment. I’m going to show you below how to easily list out this information."
   ]
  },
  {
   "cell_type": "markdown",
   "id": "9fd6ff99",
   "metadata": {
    "papermill": {
     "duration": 0.008855,
     "end_time": "2023-10-14T19:11:12.596592",
     "exception": false,
     "start_time": "2023-10-14T19:11:12.587737",
     "status": "completed"
    },
    "tags": []
   },
   "source": [
    "To **get the Conda version** of the currently active environment, run this command:\n",
    "\n",
    "```bash\n",
    "$ conda --version\n",
    "```"
   ]
  },
  {
   "cell_type": "markdown",
   "id": "bf769b47",
   "metadata": {
    "papermill": {
     "duration": 0.008513,
     "end_time": "2023-10-14T19:11:12.614064",
     "exception": false,
     "start_time": "2023-10-14T19:11:12.605551",
     "status": "completed"
    },
    "tags": []
   },
   "source": [
    "Example result:\n",
    "    \n",
    "```bash\n",
    "conda 4.10.1\n",
    "```"
   ]
  },
  {
   "cell_type": "markdown",
   "id": "747371a4",
   "metadata": {
    "papermill": {
     "duration": 0.008539,
     "end_time": "2023-10-14T19:11:12.631586",
     "exception": false,
     "start_time": "2023-10-14T19:11:12.623047",
     "status": "completed"
    },
    "tags": []
   },
   "source": [
    "To get a **detailed list of information** about the environment, for instance:\n",
    "\n",
    "- Conda version,\n",
    "- platform (operating system and bit count — 32- or 64-bit),\n",
    "- Python version,\n",
    "- environment directories,"
   ]
  },
  {
   "cell_type": "markdown",
   "id": "7641fe14",
   "metadata": {
    "papermill": {
     "duration": 0.008792,
     "end_time": "2023-10-14T19:11:12.649049",
     "exception": false,
     "start_time": "2023-10-14T19:11:12.640257",
     "status": "completed"
    },
    "tags": []
   },
   "source": [
    "run this command:\n",
    "\n",
    "```bash\n",
    "$ conda info\n",
    "```"
   ]
  },
  {
   "cell_type": "markdown",
   "id": "833b6f3e",
   "metadata": {
    "papermill": {
     "duration": 0.008789,
     "end_time": "2023-10-14T19:11:12.666820",
     "exception": false,
     "start_time": "2023-10-14T19:11:12.658031",
     "status": "completed"
    },
    "tags": []
   },
   "source": [
    "Example result:\n",
    "\n",
    "```bash\n",
    "     active environment : py38\n",
    "    active env location : /Users/ali/opt/anaconda3/envs/py38\n",
    "            shell level : 2\n",
    "       user config file : /Users/ali/.condarc\n",
    " populated config files : /Users/ali/.condarc\n",
    "          conda version : 4.10.1\n",
    "    conda-build version : 3.21.4\n",
    "         python version : 3.8.8.final.0\n",
    "       virtual packages : __osx=10.16=0\n",
    "                          __unix=0=0\n",
    "                          __archspec=1=x86_64\n",
    "       base environment : /Users/ali/opt/anaconda3  (writable)\n",
    "      conda av data dir : /Users/ali/opt/anaconda3/etc/conda\n",
    "  conda av metadata url : https://repo.anaconda.com/pkgs/main\n",
    "           channel URLs : https://repo.anaconda.com/pkgs/main/osx-64\n",
    "                          https://repo.anaconda.com/pkgs/main/noarch\n",
    "                          https://repo.anaconda.com/pkgs/r/osx-64\n",
    "                          https://repo.anaconda.com/pkgs/r/noarch\n",
    "          package cache : /Users/ali/opt/anaconda3/pkgs\n",
    "                          /Users/ali/.conda/pkgs\n",
    "       envs directories : /Users/ali/opt/anaconda3/envs\n",
    "                          /Users/ali/.conda/envs\n",
    "               platform : osx-64\n",
    "             user-agent : conda/4.10.1 requests/2.25.1 CPython/3.8.8 Darwin/21.4.0 OSX/10.16\n",
    "                UID:GID : 501:20\n",
    "             netrc file : None\n",
    "           offline mode : False\n",
    "```"
   ]
  },
  {
   "cell_type": "markdown",
   "id": "9cf09e77",
   "metadata": {
    "papermill": {
     "duration": 0.008985,
     "end_time": "2023-10-14T19:11:12.684940",
     "exception": false,
     "start_time": "2023-10-14T19:11:12.675955",
     "status": "completed"
    },
    "tags": []
   },
   "source": [
    "Now you know some basic commands for managing your environment. Let’s take a look at managing the packages inside the environment."
   ]
  },
  {
   "cell_type": "markdown",
   "id": "6fdd3b49",
   "metadata": {
    "papermill": {
     "duration": 0.008834,
     "end_time": "2023-10-14T19:11:12.703054",
     "exception": false,
     "start_time": "2023-10-14T19:11:12.694220",
     "status": "completed"
    },
    "tags": []
   },
   "source": [
    "<a class=\"anchor\" id=\"managing_packages\"></a>\n",
    "\n",
    "## Managing packages"
   ]
  },
  {
   "cell_type": "markdown",
   "id": "34cece33",
   "metadata": {
    "papermill": {
     "duration": 0.008949,
     "end_time": "2023-10-14T19:11:12.721002",
     "exception": false,
     "start_time": "2023-10-14T19:11:12.712053",
     "status": "completed"
    },
    "tags": []
   },
   "source": [
    "Depending on the installer you chose, you’re going to end up with some basic (in case of using Miniconda) or a lot of (in case of using Anaconda) packages to start with. But what happens if you need\n",
    "\n",
    "- a new package or\n",
    "- another version of an already installed package?"
   ]
  },
  {
   "cell_type": "markdown",
   "id": "bc344cb5",
   "metadata": {
    "papermill": {
     "duration": 0.008814,
     "end_time": "2023-10-14T19:11:12.738823",
     "exception": false,
     "start_time": "2023-10-14T19:11:12.730009",
     "status": "completed"
    },
    "tags": []
   },
   "source": [
    "Conda — your environment and package management tool — will come to the rescue. Let’s look at this in more detail."
   ]
  },
  {
   "cell_type": "markdown",
   "id": "3709bd6a",
   "metadata": {
    "papermill": {
     "duration": 0.009088,
     "end_time": "2023-10-14T19:11:12.756907",
     "exception": false,
     "start_time": "2023-10-14T19:11:12.747819",
     "status": "completed"
    },
    "tags": []
   },
   "source": [
    "<a class=\"anchor\" id=\"package_channels\"></a>\n",
    "\n",
    "### Package channels"
   ]
  },
  {
   "cell_type": "markdown",
   "id": "495bc0cc",
   "metadata": {
    "papermill": {
     "duration": 0.008925,
     "end_time": "2023-10-14T19:11:12.774911",
     "exception": false,
     "start_time": "2023-10-14T19:11:12.765986",
     "status": "completed"
    },
    "tags": []
   },
   "source": [
    "**Channels are the locations** of the repositories (on the illustration I call them storages) **where Conda looks for packages**. Upon Conda’s installation, Continuum’s (Conda’s developer) channels are set by default, so without any further modification, these are the locations where your Conda will start searching for packages."
   ]
  },
  {
   "cell_type": "markdown",
   "id": "2dca1c46",
   "metadata": {
    "papermill": {
     "duration": 0.008917,
     "end_time": "2023-10-14T19:11:12.792845",
     "exception": false,
     "start_time": "2023-10-14T19:11:12.783928",
     "status": "completed"
    },
    "tags": []
   },
   "source": [
    "**Channels exist in a hierarchical order**. The channel with the highest priority is the first one that Conda checks, looking for the package you asked for. You can change this order, and also add channels to it (and set their priority as well)."
   ]
  },
  {
   "cell_type": "markdown",
   "id": "9033d7ef",
   "metadata": {
    "papermill": {
     "duration": 0.00882,
     "end_time": "2023-10-14T19:11:12.810787",
     "exception": false,
     "start_time": "2023-10-14T19:11:12.801967",
     "status": "completed"
    },
    "tags": []
   },
   "source": [
    "It is a **good practice to add a channel** to the channel list as **the lowest priority item**. That way, you can include “special” packages that are not part of the ones that are set by default (~Continuum’s channels). As a result, you’ll end up with all the default packages — without the risk of overwriting them by a lower priority channel — AND that “special” one you need."
   ]
  },
  {
   "cell_type": "markdown",
   "id": "65c2e29d",
   "metadata": {
    "papermill": {
     "duration": 0.00891,
     "end_time": "2023-10-14T19:11:12.828738",
     "exception": false,
     "start_time": "2023-10-14T19:11:12.819828",
     "status": "completed"
    },
    "tags": []
   },
   "source": []
  },
  {
   "cell_type": "markdown",
   "id": "8de6b1a6",
   "metadata": {
    "papermill": {
     "duration": 0.008732,
     "end_time": "2023-10-14T19:11:12.846621",
     "exception": false,
     "start_time": "2023-10-14T19:11:12.837889",
     "status": "completed"
    },
    "tags": []
   },
   "source": [
    "To install a certain package that cannot be found inside these default channels, you can search for that **“special” package on this [website](https://anaconda.org/anaconda/repo)**. Not all packages are available on all platforms (=operating system & bit count, for example 64-bit Windows), however, you can **narrow down your search** to a specific platform. If you find a channel that contains the package you’re looking for, you can append it to your channel list."
   ]
  },
  {
   "cell_type": "markdown",
   "id": "e9e43611",
   "metadata": {
    "papermill": {
     "duration": 0.008965,
     "end_time": "2023-10-14T19:11:12.864832",
     "exception": false,
     "start_time": "2023-10-14T19:11:12.855867",
     "status": "completed"
    },
    "tags": []
   },
   "source": [
    "To add a channel (named for instance newchannel) with the lowest priority, run:\n",
    "\n",
    "```bash\n",
    "$ conda config --append channels newchannel\n",
    "```"
   ]
  },
  {
   "cell_type": "markdown",
   "id": "1d8b88c5",
   "metadata": {
    "papermill": {
     "duration": 0.008765,
     "end_time": "2023-10-14T19:11:12.882644",
     "exception": false,
     "start_time": "2023-10-14T19:11:12.873879",
     "status": "completed"
    },
    "tags": []
   },
   "source": [
    "For exmaple, to enable `conda-forge` channel, run the following command from the Terminal:\n",
    "\n",
    "```bash\n",
    "$ conda config --add channels conda-forge\n",
    "```"
   ]
  },
  {
   "cell_type": "markdown",
   "id": "f788facc",
   "metadata": {
    "papermill": {
     "duration": 0.00886,
     "end_time": "2023-10-14T19:11:12.900584",
     "exception": false,
     "start_time": "2023-10-14T19:11:12.891724",
     "status": "completed"
    },
    "tags": []
   },
   "source": [
    "To add a channel (named newchannel) with the highest priority, run:\n",
    "\n",
    "```bash\n",
    "$ conda config --prepend channels newchannel\n",
    "```"
   ]
  },
  {
   "cell_type": "markdown",
   "id": "36219955",
   "metadata": {
    "papermill": {
     "duration": 0.008869,
     "end_time": "2023-10-14T19:11:12.918281",
     "exception": false,
     "start_time": "2023-10-14T19:11:12.909412",
     "status": "completed"
    },
    "tags": []
   },
   "source": [
    "It needs to be mentioned that in practice you’ll most likely set channels with the lowest priority. For a beginner, adding a channel with the highest priority is an edge case."
   ]
  },
  {
   "cell_type": "markdown",
   "id": "e1227d5f",
   "metadata": {
    "papermill": {
     "duration": 0.008854,
     "end_time": "2023-10-14T19:11:12.936068",
     "exception": false,
     "start_time": "2023-10-14T19:11:12.927214",
     "status": "completed"
    },
    "tags": []
   },
   "source": [
    "To **list out the active channels and their priorities**, use the following command:\n",
    "\n",
    "```bash\n",
    "$ conda config --get channels\n",
    "```"
   ]
  },
  {
   "cell_type": "markdown",
   "id": "157ac817",
   "metadata": {
    "papermill": {
     "duration": 0.008683,
     "end_time": "2023-10-14T19:11:12.953631",
     "exception": false,
     "start_time": "2023-10-14T19:11:12.944948",
     "status": "completed"
    },
    "tags": []
   },
   "source": [
    "Example result:\n",
    "\n",
    "```\n",
    "--add channels 'conda-forge'   # lowest priority\n",
    "--add channels 'defaults'   # highest priority\n",
    "```"
   ]
  },
  {
   "cell_type": "markdown",
   "id": "7ad2736d",
   "metadata": {
    "papermill": {
     "duration": 0.009609,
     "end_time": "2023-10-14T19:11:12.972358",
     "exception": false,
     "start_time": "2023-10-14T19:11:12.962749",
     "status": "completed"
    },
    "tags": []
   },
   "source": [
    "There is one more aspect that I’d like to summarize here. If multiple channels contain a package, and one channel contains a newer version than the other one, the channels’ hierarchical order determines which one of these two versions are going to be installed, even if the higher priority channel contains the older version."
   ]
  },
  {
   "cell_type": "markdown",
   "id": "845967db",
   "metadata": {
    "papermill": {
     "duration": 0.009142,
     "end_time": "2023-10-14T19:11:12.990928",
     "exception": false,
     "start_time": "2023-10-14T19:11:12.981786",
     "status": "completed"
    },
    "tags": []
   },
   "source": [
    "<img src=\"./images/conda/version_priority.jpeg\" width=\"500\"/> "
   ]
  },
  {
   "cell_type": "markdown",
   "id": "7c061631",
   "metadata": {
    "papermill": {
     "duration": 0.009435,
     "end_time": "2023-10-14T19:11:13.009624",
     "exception": false,
     "start_time": "2023-10-14T19:11:13.000189",
     "status": "completed"
    },
    "tags": []
   },
   "source": [
    "The version inside the higher priority channel is going to be installed."
   ]
  },
  {
   "cell_type": "markdown",
   "id": "b8593634",
   "metadata": {
    "papermill": {
     "duration": 0.009181,
     "end_time": "2023-10-14T19:11:13.028359",
     "exception": false,
     "start_time": "2023-10-14T19:11:13.019178",
     "status": "completed"
    },
    "tags": []
   },
   "source": [
    "<a class=\"anchor\" id=\"searching,_installing_and_removing_packages\"></a>\n",
    "\n",
    "### Searching, installing and removing packages"
   ]
  },
  {
   "cell_type": "markdown",
   "id": "fe4221a0",
   "metadata": {
    "papermill": {
     "duration": 0.00893,
     "end_time": "2023-10-14T19:11:13.046508",
     "exception": false,
     "start_time": "2023-10-14T19:11:13.037578",
     "status": "completed"
    },
    "tags": []
   },
   "source": [
    "To list out all the installed packages in the currently active environment, run:\n",
    "\n",
    "```bash\n",
    "$ conda list\n",
    "```"
   ]
  },
  {
   "cell_type": "markdown",
   "id": "b727ac03",
   "metadata": {
    "papermill": {
     "duration": 0.009038,
     "end_time": "2023-10-14T19:11:13.064713",
     "exception": false,
     "start_time": "2023-10-14T19:11:13.055675",
     "status": "completed"
    },
    "tags": []
   },
   "source": [
    "The command results in a list of the matching package names, versions, and channels:\n",
    "\n",
    "```\n",
    "# Name                    Version                   Build  Channel\n",
    "bzip2                     1.0.8                h1de35cc_0\n",
    "ca-certificates           2022.4.26            hecd8cb5_0\n",
    "certifi                   2022.5.18.1              pypi_0    pypi\n",
    "libcxx                    12.0.0               h2f01273_0\n",
    "libffi                    3.3                  hb1e8313_2\n",
    "ncurses                   6.3                  hca72f7f_2\n",
    "openssl                   1.1.1o               hca72f7f_0\n",
    "pip                       21.2.4                   pypi_0    pypi\n",
    "python                    3.10.4               hdfd78df_0\n",
    "readline                  8.1.2                hca72f7f_1\n",
    "setuptools                61.2.0                   pypi_0    pypi\n",
    "sqlite                    3.38.3               h707629a_0\n",
    "tk                        8.6.12               h5d9f67b_0\n",
    "tzdata                    2022a                hda174b7_0\n",
    "wheel                     0.37.1             pyhd3eb1b0_0\n",
    "xz                        5.2.5                hca72f7f_1\n",
    "zlib                      1.2.12               h4dc903c_2\n",
    "```"
   ]
  },
  {
   "cell_type": "markdown",
   "id": "876dda96",
   "metadata": {
    "papermill": {
     "duration": 0.009445,
     "end_time": "2023-10-14T19:11:13.083564",
     "exception": false,
     "start_time": "2023-10-14T19:11:13.074119",
     "status": "completed"
    },
    "tags": []
   },
   "source": [
    "To **search** for all the **available versions of a certain package**, you can use the `search` command. For instance, to list out all the versions of the `seaborn` package (it is a tool for data visualization), run:\n",
    "\n",
    "```bash\n",
    "$ conda search seaborn\n",
    "```"
   ]
  },
  {
   "cell_type": "markdown",
   "id": "30c29135",
   "metadata": {
    "papermill": {
     "duration": 0.009202,
     "end_time": "2023-10-14T19:11:13.102051",
     "exception": false,
     "start_time": "2023-10-14T19:11:13.092849",
     "status": "completed"
    },
    "tags": []
   },
   "source": [
    "Similarly to the conda listcommand, this one results in a list of the matching package names, versions, and channels:\n",
    "\n",
    "```\n",
    "Loading channels: done\n",
    "# Name                       Version           Build  Channel\n",
    "seaborn                        0.7.1          py27_0  conda-forge\n",
    "seaborn                        0.7.1          py34_0  conda-forge\n",
    "seaborn                        0.7.1          py35_0  conda-forge\n",
    "seaborn                        0.7.1          py36_0  conda-forge\n",
    "seaborn                        0.8.0          py27_0  conda-forge\n",
    "seaborn                        0.8.0  py27h92884e4_0  pkgs/main\n",
    "seaborn                        0.8.0          py35_0  conda-forge\n",
    "seaborn                        0.8.0  py35h997229a_0  pkgs/main\n",
    "seaborn                        0.8.0          py36_0  conda-forge\n",
    "seaborn                        0.8.0  py36h74df97e_0  pkgs/main\n",
    "```"
   ]
  },
  {
   "cell_type": "markdown",
   "id": "c71ff824",
   "metadata": {
    "papermill": {
     "duration": 0.008938,
     "end_time": "2023-10-14T19:11:13.120522",
     "exception": false,
     "start_time": "2023-10-14T19:11:13.111584",
     "status": "completed"
    },
    "tags": []
   },
   "source": [
    "To **install** a package (for instance `seaborn`) that is **inside a channel that is on your channel list**, run this command (if you don’t specify which version you want, it’ll automatically install the latest available version from the highest priority channel):\n",
    "\n",
    "```bash\n",
    "$ conda install seaborn\n",
    "```"
   ]
  },
  {
   "cell_type": "markdown",
   "id": "f00a453b",
   "metadata": {
    "papermill": {
     "duration": 0.009092,
     "end_time": "2023-10-14T19:11:13.138735",
     "exception": false,
     "start_time": "2023-10-14T19:11:13.129643",
     "status": "completed"
    },
    "tags": []
   },
   "source": [
    "You can also specify the package’s version:\n",
    "\n",
    "```bash\n",
    "$ conda install seaborn=0.7.0\n",
    "```"
   ]
  },
  {
   "cell_type": "markdown",
   "id": "ab95d8ce",
   "metadata": {
    "papermill": {
     "duration": 0.009602,
     "end_time": "2023-10-14T19:11:13.158164",
     "exception": false,
     "start_time": "2023-10-14T19:11:13.148562",
     "status": "completed"
    },
    "tags": []
   },
   "source": [
    "To install a package (for example `yaml`— that is, btw. a YAML parser and emitter) from a channel (for instance a channel named `conda-forge`), that is **inside a channel that is not on your channel list**, run:\n",
    "\n",
    "```bash\n",
    "$ conda install -c conda-forge yaml\n",
    "```"
   ]
  },
  {
   "cell_type": "markdown",
   "id": "0b0fa6a8",
   "metadata": {
    "papermill": {
     "duration": 0.009418,
     "end_time": "2023-10-14T19:11:13.176872",
     "exception": false,
     "start_time": "2023-10-14T19:11:13.167454",
     "status": "completed"
    },
    "tags": []
   },
   "source": [
    "To **update all the installed packages** (it only affects the active environment), use this command:\n",
    "\n",
    "```bash\n",
    "$ conda update\n",
    "```"
   ]
  },
  {
   "cell_type": "markdown",
   "id": "25084967",
   "metadata": {
    "papermill": {
     "duration": 0.009198,
     "end_time": "2023-10-14T19:11:13.195388",
     "exception": false,
     "start_time": "2023-10-14T19:11:13.186190",
     "status": "completed"
    },
    "tags": []
   },
   "source": [
    "To update one specific package, for example the seaborn package, run:\n",
    "\n",
    "```bash\n",
    "$ conda update seaborn\n",
    "```"
   ]
  },
  {
   "cell_type": "markdown",
   "id": "f93f971b",
   "metadata": {
    "papermill": {
     "duration": 0.008966,
     "end_time": "2023-10-14T19:11:13.213556",
     "exception": false,
     "start_time": "2023-10-14T19:11:13.204590",
     "status": "completed"
    },
    "tags": []
   },
   "source": [
    "To remove the seaborn package, run:\n",
    "\n",
    "```bash\n",
    "$ conda remove seaborn\n",
    "```"
   ]
  },
  {
   "cell_type": "markdown",
   "id": "6abb6792",
   "metadata": {
    "papermill": {
     "duration": 0.008807,
     "end_time": "2023-10-14T19:11:13.231627",
     "exception": false,
     "start_time": "2023-10-14T19:11:13.222820",
     "status": "completed"
    },
    "tags": []
   },
   "source": [
    "<a class=\"anchor\" id=\"changing_an_environment’s_python_version\"></a>\n",
    "\n",
    "### Changing an environment’s Python version"
   ]
  },
  {
   "cell_type": "markdown",
   "id": "08bc5cbe",
   "metadata": {
    "papermill": {
     "duration": 0.008816,
     "end_time": "2023-10-14T19:11:13.249549",
     "exception": false,
     "start_time": "2023-10-14T19:11:13.240733",
     "status": "completed"
    },
    "tags": []
   },
   "source": [
    "And how can you change the Python version of an environment?"
   ]
  },
  {
   "cell_type": "markdown",
   "id": "816e1495",
   "metadata": {
    "papermill": {
     "duration": 0.008996,
     "end_time": "2023-10-14T19:11:13.267715",
     "exception": false,
     "start_time": "2023-10-14T19:11:13.258719",
     "status": "completed"
    },
    "tags": []
   },
   "source": [
    "Python is also a package. Why is that relevant for you? Because you’re going to use the same command for replacing the currently installed version of Python with another version that you use when you replace any other package with another version of that same package."
   ]
  },
  {
   "cell_type": "markdown",
   "id": "7014657d",
   "metadata": {
    "papermill": {
     "duration": 0.009016,
     "end_time": "2023-10-14T19:11:13.286499",
     "exception": false,
     "start_time": "2023-10-14T19:11:13.277483",
     "status": "completed"
    },
    "tags": []
   },
   "source": [
    "First, you should list out the available Python versions:\n",
    "\n",
    "```bash\n",
    "$ conda search python\n",
    "```"
   ]
  },
  {
   "cell_type": "markdown",
   "id": "add64207",
   "metadata": {
    "papermill": {
     "duration": 0.009046,
     "end_time": "2023-10-14T19:11:13.304811",
     "exception": false,
     "start_time": "2023-10-14T19:11:13.295765",
     "status": "completed"
    },
    "tags": []
   },
   "source": [
    "Example result (the list contains the available versions and channels):\n",
    "\n",
    "```\n",
    "python                         1.0.1               0  conda-forge\n",
    "python                           1.2               0  conda-forge\n",
    "python                           1.3               0  conda-forge\n",
    "python                           1.4               0  conda-forge\n",
    "python                         1.5.2               0  conda-forge\n",
    "python                           1.6               0  conda-forge\n",
    "python                           2.0               0  conda-forge\n",
    "...\n",
    "python                         3.6.6      hc167b69_0  pkgs/main\n",
    "python                         3.6.7   h4285619_1006  conda-forge\n",
    "python                         3.6.7 h4285619_1008_cpython  conda-forge\n",
    "python                         3.6.7   h4a56312_1000  conda-forge\n",
    "python                         3.6.7   h4a56312_1001  conda-forge\n",
    "python                         3.6.7   h4a56312_1002  conda-forge\n",
    "python                         3.6.7      h5001a0f_1  conda-forge\n",
    "python                         3.6.7   h8dc6b48_1004  conda-forge\n",
    "...\n",
    "python                        3.10.2 hea1dfa3_4_cpython  conda-forge\n",
    "python                        3.10.3      hdfd78df_5  pkgs/main\n",
    "python                        3.10.4 h1cc4136_0_cpython  conda-forge\n",
    "python                        3.10.4 h8b4d769_0_cpython  conda-forge\n",
    "python                        3.10.4      hdfd78df_0  pkgs/main\n",
    "python                        3.10.5 hdaaf3db_0_cpython  conda-forge\n",
    "python                        3.10.5 hdd68b96_0_cpython  conda-forge\n",
    "```"
   ]
  },
  {
   "cell_type": "markdown",
   "id": "e37b3634",
   "metadata": {
    "papermill": {
     "duration": 0.009219,
     "end_time": "2023-10-14T19:11:13.323402",
     "exception": false,
     "start_time": "2023-10-14T19:11:13.314183",
     "status": "completed"
    },
    "tags": []
   },
   "source": [
    "To replace the current Python version with, for example, 3.4.2, run:\n",
    "\n",
    "```bash\n",
    "$ conda install python=3.4.2\n",
    "```"
   ]
  },
  {
   "cell_type": "markdown",
   "id": "1d5958ea",
   "metadata": {
    "papermill": {
     "duration": 0.008975,
     "end_time": "2023-10-14T19:11:13.341712",
     "exception": false,
     "start_time": "2023-10-14T19:11:13.332737",
     "status": "completed"
    },
    "tags": []
   },
   "source": [
    "To update the Python version to the latest version of its branch (for instance updating the `3.4.2` to the `3.4.5` from the `3.4` branch), run:\n",
    "\n",
    "```bash\n",
    "$ conda update python\n",
    "```"
   ]
  },
  {
   "cell_type": "markdown",
   "id": "1fceb16f",
   "metadata": {
    "papermill": {
     "duration": 0.009007,
     "end_time": "2023-10-14T19:11:13.359985",
     "exception": false,
     "start_time": "2023-10-14T19:11:13.350978",
     "status": "completed"
    },
    "tags": []
   },
   "source": [
    "<a class=\"anchor\" id=\"adding_pip_packages\"></a>\n",
    "\n",
    "### Adding PIP packages"
   ]
  },
  {
   "cell_type": "markdown",
   "id": "b4423d1a",
   "metadata": {
    "papermill": {
     "duration": 0.008972,
     "end_time": "2023-10-14T19:11:13.378291",
     "exception": false,
     "start_time": "2023-10-14T19:11:13.369319",
     "status": "completed"
    },
    "tags": []
   },
   "source": [
    "We recommended using Conda as your package and environment manager (and not PIP). And as we mentioned earlier, **PIP packages are also installable into Conda environments**."
   ]
  },
  {
   "cell_type": "markdown",
   "id": "2823f5c4",
   "metadata": {
    "papermill": {
     "duration": 0.009172,
     "end_time": "2023-10-14T19:11:13.396728",
     "exception": false,
     "start_time": "2023-10-14T19:11:13.387556",
     "status": "completed"
    },
    "tags": []
   },
   "source": [
    "Therefore, if a package is unavailable through the Conda channels, you can try to install it from the [PyPI package index](https://pypi.python.org/pypi). You can do this by using the `pip` **command** (this command is made available by the Conda installer by default, so you can apply it in any active environment). For instance if you want to install the `lightgbm` package (it is a gradient boosting framework), run:\n",
    "\n",
    "```bash\n",
    "$ pip install lightgbm\n",
    "```"
   ]
  },
  {
   "cell_type": "markdown",
   "id": "fe2850df",
   "metadata": {
    "papermill": {
     "duration": 0.009091,
     "end_time": "2023-10-14T19:11:13.415151",
     "exception": false,
     "start_time": "2023-10-14T19:11:13.406060",
     "status": "completed"
    },
    "tags": []
   },
   "source": [
    "<a class=\"anchor\" id=\"cheat_sheet\"></a>\n",
    "\n",
    "## Cheat Sheet\n",
    "\n",
    "[Click here to get access to a Conda cheat sheet](https://static.realpython.com/conda-cheatsheet.pdf) with handy usage examples for managing your Python environment and packages."
   ]
  },
  {
   "cell_type": "markdown",
   "id": "b87d3f2a",
   "metadata": {
    "papermill": {
     "duration": 0.009063,
     "end_time": "2023-10-14T19:11:13.433510",
     "exception": false,
     "start_time": "2023-10-14T19:11:13.424447",
     "status": "completed"
    },
    "tags": []
   },
   "source": [
    "<a class=\"anchor\" id=\"read_more\"></a>\n",
    "\n",
    " Read More \n"
   ]
  },
  {
   "cell_type": "markdown",
   "id": "6c966c6f",
   "metadata": {
    "papermill": {
     "duration": 0.008983,
     "end_time": "2023-10-14T19:11:13.451488",
     "exception": false,
     "start_time": "2023-10-14T19:11:13.442505",
     "status": "completed"
    },
    "tags": []
   },
   "source": [
    "Also, if you’d like a deeper understanding of Anaconda and Conda, check out the following links:\n",
    "\n",
    "- [Why you need Python environments and how to manage them with Conda](https://medium.freecodecamp.org/why-you-need-python-environments-and-how-to-manage-them-with-conda-85f155f4353c)\n",
    "- [Conda: Myths and Misconceptions](http://jakevdp.github.io/blog/2016/08/25/conda-myths-and-misconceptions/)"
   ]
  }
 ],
 "metadata": {
  "kernelspec": {
   "display_name": "Python 3",
   "language": "python",
   "name": "python3"
  },
  "language_info": {
   "codemirror_mode": {
    "name": "ipython",
    "version": 3
   },
   "file_extension": ".py",
   "mimetype": "text/x-python",
   "name": "python",
   "nbconvert_exporter": "python",
   "pygments_lexer": "ipython3",
   "version": "3.10.12"
  },
  "papermill": {
   "default_parameters": {},
   "duration": 4.79321,
   "end_time": "2023-10-14T19:11:13.778236",
   "environment_variables": {},
   "exception": null,
   "input_path": "__notebook__.ipynb",
   "output_path": "__notebook__.ipynb",
   "parameters": {},
   "start_time": "2023-10-14T19:11:08.985026",
   "version": "2.4.0"
  }
 },
 "nbformat": 4,
 "nbformat_minor": 5
}
