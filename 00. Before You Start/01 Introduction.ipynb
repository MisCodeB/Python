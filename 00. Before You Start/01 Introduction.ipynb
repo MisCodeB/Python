{
 "cells": [
  {
   "cell_type": "markdown",
   "id": "037c74a0",
   "metadata": {
    "papermill": {
     "duration": 0.003529,
     "end_time": "2023-10-14T17:28:44.232624",
     "exception": false,
     "start_time": "2023-10-14T17:28:44.229095",
     "status": "completed"
    },
    "tags": []
   },
   "source": []
  },
  {
   "cell_type": "markdown",
   "id": "5ba653ec",
   "metadata": {
    "papermill": {
     "duration": 0.002731,
     "end_time": "2023-10-14T17:28:44.240267",
     "exception": false,
     "start_time": "2023-10-14T17:28:44.237536",
     "status": "completed"
    },
    "tags": []
   },
   "source": [
    " Introduction \n",
    "\n",
    "- Python was created in 1990 by [Guido van Rossum](https://en.wikipedia.org/wiki/Guido\\\\_van\\\\_Rossum).\n",
    "- Python 3 released in 2008.\n",
    "- Specifically designed as an easy to use language.\n",
    "- High focus on readability of code."
   ]
  },
  {
   "cell_type": "markdown",
   "id": "5f9e7bb8",
   "metadata": {
    "papermill": {
     "duration": 0.002627,
     "end_time": "2023-10-14T17:28:44.245774",
     "exception": false,
     "start_time": "2023-10-14T17:28:44.243147",
     "status": "completed"
    },
    "tags": []
   },
   "source": [
    "Table of Contents \n",
    "* [Why Choose Python](#why_choose_python)\n",
    "    * [Python is Popular](#python_is_popular)\n",
    "    * [Python is Interpreted](#python_is_interpreted)\n",
    "    * [Python is Free](#python_is_free)\n",
    "    * [Python is Portable](#python_is_portable)\n",
    "    * [Python is Simple](#python_is_simple)\n",
    "    * [But It’s Not That Simple](#but_it’s_not_that_simple)\n",
    "* [What can you do with python?](#what_can_you_do_with_python?)\n",
    "* [Conclusion](#conclusion)\n",
    "\n",
    "---"
   ]
  },
  {
   "cell_type": "markdown",
   "id": "51f096ff",
   "metadata": {
    "papermill": {
     "duration": 0.00268,
     "end_time": "2023-10-14T17:28:44.251255",
     "exception": false,
     "start_time": "2023-10-14T17:28:44.248575",
     "status": "completed"
    },
    "tags": []
   },
   "source": [
    "Python is a high-level, interpreted scripting language developed in the late 1980s by Guido van Rossum at the National Research Institute for Mathematics and Computer Science in the Netherlands. The initial version was published at the alt.sources newsgroup in 1991, and version 1.0 was released in 1994."
   ]
  },
  {
   "cell_type": "markdown",
   "id": "f6bf06d4",
   "metadata": {
    "papermill": {
     "duration": 0.002643,
     "end_time": "2023-10-14T17:28:44.256702",
     "exception": false,
     "start_time": "2023-10-14T17:28:44.254059",
     "status": "completed"
    },
    "tags": []
   },
   "source": [
    "Python 2.0 was released in 2000, and the 2.x versions were the prevalent releases until December 2008. At that time, the development team made the decision to release version 3.0, which contained a few relatively small but significant changes that were not backward compatible with the 2.x versions. Python 2 and 3 are very similar, and some features of Python 3 have been backported to Python 2. But in general, they remain not quite compatible."
   ]
  },
  {
   "cell_type": "markdown",
   "id": "aab83bfc",
   "metadata": {
    "papermill": {
     "duration": 0.002589,
     "end_time": "2023-10-14T17:28:44.262079",
     "exception": false,
     "start_time": "2023-10-14T17:28:44.259490",
     "status": "completed"
    },
    "tags": []
   },
   "source": [
    "Both Python 2 and 3 have continued to be maintained and developed, with periodic release updates for both. As of this writing, the most recent versions available are 2.7.15 and 3.6.5. However, an official [End Of Life date of January 1, 2020](https://pythonclock.org/) has been established for Python 2, after which time it will no longer be maintained. If you are a newcomer to Python, it is recommended that you focus on Python 3, as this tutorial will do."
   ]
  },
  {
   "cell_type": "markdown",
   "id": "652eaf93",
   "metadata": {
    "papermill": {
     "duration": 0.002609,
     "end_time": "2023-10-14T17:28:44.267546",
     "exception": false,
     "start_time": "2023-10-14T17:28:44.264937",
     "status": "completed"
    },
    "tags": []
   },
   "source": [
    "Python is still maintained by a core development team at the Institute, and Guido is still in charge, having been given the title of BDFL (Benevolent Dictator For Life) by the Python community. The name Python, by the way, derives not from the snake, but from the British comedy troupe [Monty Python’s Flying Circus](https://en.wikipedia.org/wiki/Monty\\\\_Python%27s\\\\_Flying\\\\_Circus), of which Guido was, and presumably still is, a fan. It is common to find references to Monty Python sketches and movies scattered throughout the Python documentation."
   ]
  },
  {
   "cell_type": "markdown",
   "id": "c5693887",
   "metadata": {
    "papermill": {
     "duration": 0.002565,
     "end_time": "2023-10-14T17:28:44.272909",
     "exception": false,
     "start_time": "2023-10-14T17:28:44.270344",
     "status": "completed"
    },
    "tags": []
   },
   "source": [
    "<a class=\"anchor\" id=\"why_choose_python\"></a>\n",
    "\n",
    "## Why Choose Python\n",
    "\n",
    "If you’re going to write programs, there are literally dozens of commonly used languages to choose from. Why choose Python? Here are some of the features that make Python an appealing choice."
   ]
  },
  {
   "cell_type": "markdown",
   "id": "dfac05c6",
   "metadata": {
    "papermill": {
     "duration": 0.002652,
     "end_time": "2023-10-14T17:28:44.278350",
     "exception": false,
     "start_time": "2023-10-14T17:28:44.275698",
     "status": "completed"
    },
    "tags": []
   },
   "source": [
    "<a class=\"anchor\" id=\"python_is_popular\"></a>\n",
    "\n",
    "### Python is Popular\n",
    "Python has been growing in popularity over the last few years. The [2018 Stack Overflow Developer Survey](https://insights.stackoverflow.com/survey/2018) ranked Python as the 7th most popular and the number one most wanted technology of the year. [World-class software development companies around the globe use Python every single day](https://realpython.com/world-class-companies-using-python/).\n",
    "\n",
    "According to [research by Dice](https://insights.dice.com/2016/02/01/whats-hot-and-not-in-tech-skills/) Python is also one of the hottest skills to have and the most popular programming language in the world based on the [Popularity of Programming Language Index](https://pypl.github.io/PYPL.html).\n",
    "\n",
    "Due to the popularity and widespread use of Python as a programming language, Python developers are sought after and paid well. If you’d like to dig deeper into [Python salary statistics and job opportunities, you can do so here](https://dbader.org/blog/why-learn-python)."
   ]
  },
  {
   "cell_type": "markdown",
   "id": "30b14aaf",
   "metadata": {
    "papermill": {
     "duration": 0.002603,
     "end_time": "2023-10-14T17:28:44.283742",
     "exception": false,
     "start_time": "2023-10-14T17:28:44.281139",
     "status": "completed"
    },
    "tags": []
   },
   "source": [
    "<a class=\"anchor\" id=\"python_is_interpreted\"></a>\n",
    "\n",
    "### Python is Interpreted\n",
    "Many languages are compiled, meaning the source code you create needs to be translated into machine code, the language of your computer’s processor, before it can be run. Programs written in an interpreted language are passed straight to an interpreter that runs them directly.\n",
    "\n",
    "This makes for a quicker development cycle because you just type in your code and run it, without the intermediate compilation step.\n",
    "\n",
    "One potential downside to interpreted languages is execution speed. Programs that are compiled into the native language of the computer processor tend to run more quickly than interpreted programs. For some applications that are particularly computationally intensive, like graphics processing or intense number crunching, this can be limiting.\n",
    "\n",
    "In practice, however, for most programs, the difference in execution speed is measured in milliseconds, or seconds at most, and not appreciably noticeable to a human user. The expediency of coding in an interpreted language is typically worth it for most applications."
   ]
  },
  {
   "cell_type": "markdown",
   "id": "04e3748b",
   "metadata": {
    "papermill": {
     "duration": 0.002621,
     "end_time": "2023-10-14T17:28:44.289476",
     "exception": false,
     "start_time": "2023-10-14T17:28:44.286855",
     "status": "completed"
    },
    "tags": []
   },
   "source": [
    "> **Further Reading:** See this Wikipedia page to read more about the differences between interpreted and compiled languages."
   ]
  },
  {
   "cell_type": "markdown",
   "id": "9b258212",
   "metadata": {
    "papermill": {
     "duration": 0.002625,
     "end_time": "2023-10-14T17:28:44.295007",
     "exception": false,
     "start_time": "2023-10-14T17:28:44.292382",
     "status": "completed"
    },
    "tags": []
   },
   "source": [
    "<a class=\"anchor\" id=\"python_is_free\"></a>\n",
    "\n",
    "### Python is Free\n",
    "The Python interpreter is developed under an OSI-approved open-source license, making it free to install, use, and distribute, even for commercial purposes.\n",
    "\n",
    "A version of the interpreter is available for virtually any platform there is, including all flavors of Unix, Windows, macOS, smartphones and tablets, and probably anything else you ever heard of. A version even exists for the half dozen people remaining who use OS/2."
   ]
  },
  {
   "cell_type": "markdown",
   "id": "bd99002a",
   "metadata": {
    "papermill": {
     "duration": 0.002619,
     "end_time": "2023-10-14T17:28:44.300435",
     "exception": false,
     "start_time": "2023-10-14T17:28:44.297816",
     "status": "completed"
    },
    "tags": []
   },
   "source": [
    "<a class=\"anchor\" id=\"python_is_portable\"></a>\n",
    "\n",
    "### Python is Portable\n",
    "Because Python code is interpreted and not compiled into native machine instructions, code written for one platform will work on any other platform that has the Python interpreter installed. (This is true of any interpreted language, not just Python.)"
   ]
  },
  {
   "cell_type": "markdown",
   "id": "9c385f3f",
   "metadata": {
    "papermill": {
     "duration": 0.002674,
     "end_time": "2023-10-14T17:28:44.305913",
     "exception": false,
     "start_time": "2023-10-14T17:28:44.303239",
     "status": "completed"
    },
    "tags": []
   },
   "source": [
    "<a class=\"anchor\" id=\"python_is_simple\"></a>\n",
    "\n",
    "### Python is Simple\n",
    "As programming languages go, Python is relatively uncluttered, and the developers have deliberately kept it that way.\n",
    "\n",
    "A rough estimate of the complexity of a language can be gleaned from the number of keywords or reserved words in the language. These are words that are reserved for special meaning by the compiler or interpreter because they designate specific built-in functionality of the language.\n",
    "\n",
    "Python 3 has 33 keywords, and Python 2 has 31. By contrast, C++ has 62, Java has 53, and Visual Basic has more than 120, though these latter examples probably vary somewhat by implementation or dialect.\n",
    "\n",
    "Python code has a simple and clean structure that is easy to learn and easy to read. In fact, as you will see, the language definition enforces code structure that is easy to read."
   ]
  },
  {
   "cell_type": "markdown",
   "id": "560c7406",
   "metadata": {
    "papermill": {
     "duration": 0.002577,
     "end_time": "2023-10-14T17:28:44.311206",
     "exception": false,
     "start_time": "2023-10-14T17:28:44.308629",
     "status": "completed"
    },
    "tags": []
   },
   "source": [
    "<a class=\"anchor\" id=\"but_it’s_not_that_simple\"></a>\n",
    "\n",
    "### But It’s Not That Simple\n",
    "For all its syntactical simplicity, Python supports most constructs that would be expected in a very high-level language, including complex dynamic data types, structured and functional programming, and [object-oriented programming](https://realpython.com/python3-object-oriented-programming/).\n",
    "\n",
    "Additionally, a very extensive library of classes and functions is available that provides capability well beyond what is built into the language, such as database manipulation or GUI programming.\n",
    "\n",
    "Python accomplishes what many programming languages don’t: the language itself is simply designed, but it is very versatile in terms of what you can accomplish with it."
   ]
  },
  {
   "cell_type": "markdown",
   "id": "8fc365b5",
   "metadata": {
    "papermill": {
     "duration": 0.002677,
     "end_time": "2023-10-14T17:28:44.316717",
     "exception": false,
     "start_time": "2023-10-14T17:28:44.314040",
     "status": "completed"
    },
    "tags": []
   },
   "source": [
    "<a class=\"anchor\" id=\"what_can_you_do_with_python?\"></a>\n",
    "\n",
    "## What can you do with python?\n",
    "- Automate Simple tasks.\n",
    " * Searching for file and editing them.\n",
    " * Scraping information from a website.\n",
    " * Reading and editing excel files.\n",
    " * Work with PDFs.\n",
    " * Automate emails and text messages.\n",
    " * Fill out Form.\n",
    "- Data science and machine learning.\n",
    " * Analyze large data files.\n",
    " * Create visualizations.\n",
    " * Perform machine learning tasks.\n",
    " * Create and run predictive algorithms.\n",
    "- Create websites.\n",
    " * Use web frameworks such as Django and Flask to handle the backend of a website and user data.\n",
    " * Create interactive dashboards for users. "
   ]
  },
  {
   "cell_type": "markdown",
   "id": "e2644708",
   "metadata": {
    "papermill": {
     "duration": 0.002619,
     "end_time": "2023-10-14T17:28:44.322247",
     "exception": false,
     "start_time": "2023-10-14T17:28:44.319628",
     "status": "completed"
    },
    "tags": []
   },
   "source": [
    "<a class=\"anchor\" id=\"conclusion\"></a>\n",
    "\n",
    "## Conclusion \n",
    "This section gave an overview of the Python programming language, including:\n",
    "\n",
    "A brief history of the development of Python\n",
    "Some reasons why you might select Python as your language of choice\n",
    "Python is a great option, whether you are a beginning programmer looking to learn the basics, an experienced programmer designing a large application, or anywhere in between. The basics of Python are easily grasped, and yet its capabilities are vast."
   ]
  }
 ],
 "metadata": {
  "kernelspec": {
   "display_name": "Python 3",
   "language": "python",
   "name": "python3"
  },
  "language_info": {
   "codemirror_mode": {
    "name": "ipython",
    "version": 3
   },
   "file_extension": ".py",
   "mimetype": "text/x-python",
   "name": "python",
   "nbconvert_exporter": "python",
   "pygments_lexer": "ipython3",
   "version": "3.10.12"
  },
  "papermill": {
   "default_parameters": {},
   "duration": 3.449986,
   "end_time": "2023-10-14T17:28:44.644576",
   "environment_variables": {},
   "exception": null,
   "input_path": "__notebook__.ipynb",
   "output_path": "__notebook__.ipynb",
   "parameters": {},
   "start_time": "2023-10-14T17:28:41.194590",
   "version": "2.4.0"
  }
 },
 "nbformat": 4,
 "nbformat_minor": 5
}
