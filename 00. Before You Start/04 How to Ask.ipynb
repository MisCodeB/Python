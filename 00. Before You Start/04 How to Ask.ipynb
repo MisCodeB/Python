{
 "cells": [
  {
   "cell_type": "markdown",
   "id": "841dfdbf",
   "metadata": {
    "papermill": {
     "duration": 0.005615,
     "end_time": "2023-10-14T18:46:22.279308",
     "exception": false,
     "start_time": "2023-10-14T18:46:22.273693",
     "status": "completed"
    },
    "tags": []
   },
   "source": []
  },
  {
   "cell_type": "markdown",
   "id": "28585b35",
   "metadata": {
    "papermill": {
     "duration": 0.004896,
     "end_time": "2023-10-14T18:46:22.289416",
     "exception": false,
     "start_time": "2023-10-14T18:46:22.284520",
     "status": "completed"
    },
    "tags": []
   },
   "source": [
    " How to Ask a Question\n"
   ]
  },
  {
   "cell_type": "markdown",
   "id": "a5b16bec",
   "metadata": {
    "papermill": {
     "duration": 0.004821,
     "end_time": "2023-10-14T18:46:22.299384",
     "exception": false,
     "start_time": "2023-10-14T18:46:22.294563",
     "status": "completed"
    },
    "tags": []
   },
   "source": [
    "## Don't Ask to Ask, Just Ask!"
   ]
  },
  {
   "cell_type": "markdown",
   "id": "43f3cdf8",
   "metadata": {
    "papermill": {
     "duration": 0.004695,
     "end_time": "2023-10-14T18:46:22.309025",
     "exception": false,
     "start_time": "2023-10-14T18:46:22.304330",
     "status": "completed"
    },
    "tags": []
   },
   "source": [
    "Don't ask to ask, just ask!"
   ]
  },
  {
   "cell_type": "markdown",
   "id": "f5f0b581",
   "metadata": {
    "papermill": {
     "duration": 0.005303,
     "end_time": "2023-10-14T18:46:22.319259",
     "exception": false,
     "start_time": "2023-10-14T18:46:22.313956",
     "status": "completed"
    },
    "tags": []
   },
   "source": [
    "> user: Any Java experts around who are willing to commit into looking into my problem, whatever that may turn out to be, even if it's not actually related to Java or if someone who doesn't know anything about Java could actually answer my question?"
   ]
  },
  {
   "cell_type": "markdown",
   "id": "6abf34ab",
   "metadata": {
    "papermill": {
     "duration": 0.004691,
     "end_time": "2023-10-14T18:46:22.328945",
     "exception": false,
     "start_time": "2023-10-14T18:46:22.324254",
     "status": "completed"
    },
    "tags": []
   },
   "source": [
    "There are plenty of reasons why people who DO have the knowledge would not admit to it. By asking, you're asking for more than what you think you're asking."
   ]
  },
  {
   "cell_type": "markdown",
   "id": "df716956",
   "metadata": {
    "papermill": {
     "duration": 0.004757,
     "end_time": "2023-10-14T18:46:22.338581",
     "exception": false,
     "start_time": "2023-10-14T18:46:22.333824",
     "status": "completed"
    },
    "tags": []
   },
   "source": [
    "You're asking people to take responsibility. You're questioning people's confidence in their abilities. You're also unnecessarily walling other people out. I often answer questions related to languages or libraries I have never used, because the answers are (in a programmer kind of way) common sense.\n",
    "\n",
    "Alternatively, it can be seen as..\n",
    "\n",
    "> user:I have a question about Java but I'm too lazy to actually formalize it in words unless there's someone on the channel who might be able to answer it"
   ]
  },
  {
   "cell_type": "markdown",
   "id": "87524c46",
   "metadata": {
    "papermill": {
     "duration": 0.004688,
     "end_time": "2023-10-14T18:46:22.348189",
     "exception": false,
     "start_time": "2023-10-14T18:46:22.343501",
     "status": "completed"
    },
    "tags": []
   },
   "source": [
    "... which is just lazy. If you're not willing to do the work to solve your problem, why should we?"
   ]
  },
  {
   "cell_type": "markdown",
   "id": "7986d51f",
   "metadata": {
    "papermill": {
     "duration": 0.004974,
     "end_time": "2023-10-14T18:46:22.358062",
     "exception": false,
     "start_time": "2023-10-14T18:46:22.353088",
     "status": "completed"
    },
    "tags": []
   },
   "source": [
    "The solution is not to ask to ask, but just to ask. Someone who is idling on the channel and only every now and then glances what's going on is unlikely to answer to your \"asking to ask\" question, but your actual problem description may pique their interest and get them to answer."
   ]
  },
  {
   "cell_type": "markdown",
   "id": "4bba8f68",
   "metadata": {
    "papermill": {
     "duration": 0.004661,
     "end_time": "2023-10-14T18:46:22.367594",
     "exception": false,
     "start_time": "2023-10-14T18:46:22.362933",
     "status": "completed"
    },
    "tags": []
   },
   "source": [
    "So, to summarize, don't ask \"Any Java experts around?\", but rather ask\n",
    "\n",
    "> **How do I do [problem] with Java and [other relevant info]?**"
   ]
  },
  {
   "cell_type": "markdown",
   "id": "dbaeaa9b",
   "metadata": {
    "papermill": {
     "duration": 0.004745,
     "end_time": "2023-10-14T18:46:22.377245",
     "exception": false,
     "start_time": "2023-10-14T18:46:22.372500",
     "status": "completed"
    },
    "tags": []
   },
   "source": [
    "## The XY Problem"
   ]
  },
  {
   "cell_type": "markdown",
   "id": "f696a20b",
   "metadata": {
    "papermill": {
     "duration": 0.004774,
     "end_time": "2023-10-14T18:46:22.386963",
     "exception": false,
     "start_time": "2023-10-14T18:46:22.382189",
     "status": "completed"
    },
    "tags": []
   },
   "source": [
    "The XY problem is asking about your attempted solution rather than your actual problem. This leads to enormous amounts of wasted time and energy, both on the part of people asking for help, and on the part of those providing help."
   ]
  },
  {
   "cell_type": "markdown",
   "id": "934d0489",
   "metadata": {
    "papermill": {
     "duration": 0.004781,
     "end_time": "2023-10-14T18:46:22.396616",
     "exception": false,
     "start_time": "2023-10-14T18:46:22.391835",
     "status": "completed"
    },
    "tags": []
   },
   "source": [
    "- User wants to do X.\n",
    "- User doesn't know how to do X, but thinks they can fumble their way to a solution if they can just manage to do Y.\n",
    "- User doesn't know how to do Y either.\n",
    "- User asks for help with Y.\n",
    "- Others try to help user with Y, but are confused because Y seems like a strange problem to want to solve.\n",
    "- After much interaction and wasted time, it finally becomes clear that the user really wants help with X, and that Y wasn't even a suitable solution for X.\n",
    "- The problem occurs when people get stuck on what they believe is the solution and are unable step back and explain the issue in full."
   ]
  },
  {
   "cell_type": "markdown",
   "id": "0fa7a758",
   "metadata": {
    "papermill": {
     "duration": 0.004785,
     "end_time": "2023-10-14T18:46:22.406666",
     "exception": false,
     "start_time": "2023-10-14T18:46:22.401881",
     "status": "completed"
    },
    "tags": []
   },
   "source": [
    "### What to do about it?"
   ]
  },
  {
   "cell_type": "markdown",
   "id": "d460b428",
   "metadata": {
    "papermill": {
     "duration": 0.004807,
     "end_time": "2023-10-14T18:46:22.416339",
     "exception": false,
     "start_time": "2023-10-14T18:46:22.411532",
     "status": "completed"
    },
    "tags": []
   },
   "source": [
    "- Always include information about a broader picture along with any attempted solution.\n",
    "- If someone asks for more information, do provide details.\n",
    "- If there are other solutions you've already ruled out, share why you've ruled them out. This gives more information about your requirements.\n",
    "- Remember that if your diagnostic theories were accurate, you wouldn't be asking for help right?"
   ]
  },
  {
   "cell_type": "markdown",
   "id": "fe93212f",
   "metadata": {
    "papermill": {
     "duration": 0.004614,
     "end_time": "2023-10-14T18:46:22.425816",
     "exception": false,
     "start_time": "2023-10-14T18:46:22.421202",
     "status": "completed"
    },
    "tags": []
   },
   "source": [
    "### Example"
   ]
  },
  {
   "cell_type": "markdown",
   "id": "cba70cf8",
   "metadata": {
    "papermill": {
     "duration": 0.004601,
     "end_time": "2023-10-14T18:46:22.435353",
     "exception": false,
     "start_time": "2023-10-14T18:46:22.430752",
     "status": "completed"
    },
    "tags": []
   },
   "source": [
    ">\n",
    "- How can I echo the last three characters in a filename? If they're in a variable.\n",
    "- Why 3 characters? What do you REALLY want? Do you want the extension?\n",
    "- Yes.\n",
    "- There's no guarantee that every filename will have a three-letter extension, so blindly grabbing three characters does not solve the problem."
   ]
  },
  {
   "cell_type": "markdown",
   "id": "1b75652c",
   "metadata": {
    "papermill": {
     "duration": 0.004902,
     "end_time": "2023-10-14T18:46:22.445249",
     "exception": false,
     "start_time": "2023-10-14T18:46:22.440347",
     "status": "completed"
    },
    "tags": []
   },
   "source": [
    "A user doesn't actually want the last 3 chracters in a filename, he wants the file extensions, so why ask for the last 3 characters?"
   ]
  },
  {
   "cell_type": "markdown",
   "id": "c134f314",
   "metadata": {
    "papermill": {
     "duration": 0.004716,
     "end_time": "2023-10-14T18:46:22.455085",
     "exception": false,
     "start_time": "2023-10-14T18:46:22.450369",
     "status": "completed"
    },
    "tags": []
   },
   "source": []
  },
  {
   "cell_type": "markdown",
   "id": "3e5ebb76",
   "metadata": {
    "papermill": {
     "duration": 0.00692,
     "end_time": "2023-10-14T18:46:22.467063",
     "exception": false,
     "start_time": "2023-10-14T18:46:22.460143",
     "status": "completed"
    },
    "tags": []
   },
   "source": [
    "Please don't say just hello in chat. Imagine calling someone on the phone, going hello! then putting them on hold... 🤦"
   ]
  },
  {
   "cell_type": "markdown",
   "id": "10770004",
   "metadata": {
    "papermill": {
     "duration": 0.005381,
     "end_time": "2023-10-14T18:46:22.477588",
     "exception": false,
     "start_time": "2023-10-14T18:46:22.472207",
     "status": "completed"
    },
    "tags": []
   },
   "source": []
  },
  {
   "cell_type": "markdown",
   "id": "c9b0e48c",
   "metadata": {
    "papermill": {
     "duration": 0.004806,
     "end_time": "2023-10-14T18:46:22.487478",
     "exception": false,
     "start_time": "2023-10-14T18:46:22.482672",
     "status": "completed"
    },
    "tags": []
   },
   "source": [
    "Note that Keith could have got his answer minutes sooner, and needn't have kept Tim waiting. In fact, Tim could have started thinking about the question right away!"
   ]
  },
  {
   "cell_type": "markdown",
   "id": "95c991c8",
   "metadata": {
    "papermill": {
     "duration": 0.004747,
     "end_time": "2023-10-14T18:46:22.497337",
     "exception": false,
     "start_time": "2023-10-14T18:46:22.492590",
     "status": "completed"
    },
    "tags": []
   },
   "source": [
    "People who do this are generally trying to be polite by not jumping right into the request, like one would in person or on the phone - and that's great! But it's 2022 and chat is neither of those things. For most people, typing is much slower than talking. So despite best intentions, you're actually just making the other person wait for you to phrase your question, which is lost productivity (and kinda annoying)."
   ]
  },
  {
   "cell_type": "markdown",
   "id": "1e6729c9",
   "metadata": {
    "papermill": {
     "duration": 0.004869,
     "end_time": "2023-10-14T18:46:22.507236",
     "exception": false,
     "start_time": "2023-10-14T18:46:22.502367",
     "status": "completed"
    },
    "tags": []
   },
   "source": [
    "The same goes for:\n",
    "\n",
    "- Hello, are you around?\n",
    "- hi sophie - quick question.\n",
    "- You got a sec?\n",
    "- yo?\n",
    "- ping\n",
    "\n",
    "Just ask the question! 😫"
   ]
  },
  {
   "cell_type": "markdown",
   "id": "38fb7a8b",
   "metadata": {
    "papermill": {
     "duration": 0.004773,
     "end_time": "2023-10-14T18:46:22.516992",
     "exception": false,
     "start_time": "2023-10-14T18:46:22.512219",
     "status": "completed"
    },
    "tags": []
   },
   "source": []
  },
  {
   "cell_type": "markdown",
   "id": "744b3525",
   "metadata": {
    "papermill": {
     "duration": 0.004794,
     "end_time": "2023-10-14T18:46:22.526884",
     "exception": false,
     "start_time": "2023-10-14T18:46:22.522090",
     "status": "completed"
    },
    "tags": []
   },
   "source": [
    "If you feel it's a bit brusque to simply say \"Hi\" and ask the question, you can still preface your message with as many pleasantries as you see fit."
   ]
  },
  {
   "cell_type": "markdown",
   "id": "0a817bb8",
   "metadata": {
    "papermill": {
     "duration": 0.004892,
     "end_time": "2023-10-14T18:46:22.536714",
     "exception": false,
     "start_time": "2023-10-14T18:46:22.531822",
     "status": "completed"
    },
    "tags": []
   },
   "source": [
    "For example:\n",
    "\n",
    "- hey man, what's up? also, any idea when that thing's due?\n",
    "- Hi there! Hope you're well. I'm after the latest deck, when you get a sec :)\n",
    "- hey, if you're not busy, could you update those NFRs?"
   ]
  },
  {
   "cell_type": "markdown",
   "id": "47d14314",
   "metadata": {
    "papermill": {
     "duration": 0.004859,
     "end_time": "2023-10-14T18:46:22.546833",
     "exception": false,
     "start_time": "2023-10-14T18:46:22.541974",
     "status": "completed"
    },
    "tags": []
   },
   "source": [
    "It may seem trivial, but asking your question before getting that initial salutatory reply also allows for asynchronous communication. If the other party is away, and you leave before they come back, they can still answer your question, instead of just staring at a \"Hello\" and wondering what they missed."
   ]
  },
  {
   "cell_type": "markdown",
   "id": "17ac421e",
   "metadata": {
    "papermill": {
     "duration": 0.004787,
     "end_time": "2023-10-14T18:46:22.556743",
     "exception": false,
     "start_time": "2023-10-14T18:46:22.551956",
     "status": "completed"
    },
    "tags": []
   },
   "source": [
    "## Question Format"
   ]
  },
  {
   "cell_type": "markdown",
   "id": "361cde21",
   "metadata": {
    "papermill": {
     "duration": 0.00486,
     "end_time": "2023-10-14T18:46:22.566633",
     "exception": false,
     "start_time": "2023-10-14T18:46:22.561773",
     "status": "completed"
    },
    "tags": []
   },
   "source": [
    "Write a title that summarizes the specific problem. The title is the first thing potential answerers will see, and if your title isn't interesting, they won't read the rest. So make it count:\n",
    "\n",
    "- **Pretend you're talking to a busy colleague** and have to sum up your entire question in one sentence: what details can you include that will help someone identify and solve your problem? Include any error messages, key APIs, or unusual circumstances that make your question different from similar questions already on the site.\n",
    "- **Spelling, grammar and punctuation are important!** Remember, this is the first part of your question others will see - you want to make a good impression. If you're not comfortable writing in English, ask a friend to proof-read it for you.\n",
    "\n",
    "If you're having trouble summarizing the problem, **write the title last** - sometimes writing the rest of the question first can make it easier to describe the problem."
   ]
  },
  {
   "cell_type": "markdown",
   "id": "c3444da9",
   "metadata": {
    "papermill": {
     "duration": 0.004766,
     "end_time": "2023-10-14T18:46:22.576400",
     "exception": false,
     "start_time": "2023-10-14T18:46:22.571634",
     "status": "completed"
    },
    "tags": []
   },
   "source": [
    "Examples:\n",
    "\n",
    "- Bad: C# Math Confusion\n",
    "- Good: Why does using float instead of int give me different results when all of my inputs are integers?"
   ]
  },
  {
   "cell_type": "markdown",
   "id": "0e8638de",
   "metadata": {
    "papermill": {
     "duration": 0.004718,
     "end_time": "2023-10-14T18:46:22.586226",
     "exception": false,
     "start_time": "2023-10-14T18:46:22.581508",
     "status": "completed"
    },
    "tags": []
   },
   "source": [
    "- Bad: [php] session doubt\n",
    "- Good: How can I redirect users to different pages based on session data in PHP?"
   ]
  },
  {
   "cell_type": "markdown",
   "id": "f8c14b5d",
   "metadata": {
    "papermill": {
     "duration": 0.064297,
     "end_time": "2023-10-14T18:46:22.655521",
     "exception": false,
     "start_time": "2023-10-14T18:46:22.591224",
     "status": "completed"
    },
    "tags": []
   },
   "source": [
    "- Bad: android if else problems\n",
    "- Good: Why does str == \"value\" evaluate to false when str is set to \"value\"?"
   ]
  },
  {
   "cell_type": "markdown",
   "id": "d742855e",
   "metadata": {
    "papermill": {
     "duration": 0.004955,
     "end_time": "2023-10-14T18:46:22.665806",
     "exception": false,
     "start_time": "2023-10-14T18:46:22.660851",
     "status": "completed"
    },
    "tags": []
   },
   "source": [
    "### Help others reproduce the problem"
   ]
  },
  {
   "cell_type": "markdown",
   "id": "c4fa7df4",
   "metadata": {
    "papermill": {
     "duration": 0.004883,
     "end_time": "2023-10-14T18:46:22.675753",
     "exception": false,
     "start_time": "2023-10-14T18:46:22.670870",
     "status": "completed"
    },
    "tags": []
   },
   "source": [
    "Not all questions benefit from including code, but if your problem is with code you've written, you should include some. But don't just copy in your entire program! Not only is this likely to get you in trouble if you're posting your employer's code, it likely includes a lot of irrelevant details that readers will need to ignore when trying to reproduce the problem. Here are some guidelines:"
   ]
  },
  {
   "cell_type": "markdown",
   "id": "4d2196ce",
   "metadata": {
    "papermill": {
     "duration": 0.004805,
     "end_time": "2023-10-14T18:46:22.685606",
     "exception": false,
     "start_time": "2023-10-14T18:46:22.680801",
     "status": "completed"
    },
    "tags": []
   },
   "source": [
    "- Include just enough code to allow others to reproduce the problem. For help with this, read [How to create a Minimal, Complete, and Verifiable example](https://stackoverflow.com/help/minimal-reproducible-example).\n",
    "- If it is possible to create a live example of the problem that you can link to (for example, on https://codeshare.io/, http://sqlfiddle.com/ or http://jsbin.com/ depending on what you're sharing) then do so - but also copy the code into the question itself. Not everyone can access external sites, and the links may break over time.\n",
    "- DO NOT post images of code, data, error messages, etc. - copy or type the text into the question. Please reserve the use of images for diagrams or demonstrating rendering bugs, things that are impossible to describe accurately via text. For more information please see [Why not upload images of code/errors when asking a question?](https://meta.stackoverflow.com/questions/285551/why-should-i-not-upload-images-of-code-data-errors-when-asking-a-question/285557#285557)"
   ]
  },
  {
   "cell_type": "markdown",
   "id": "bc67127b",
   "metadata": {
    "papermill": {
     "duration": 0.004721,
     "end_time": "2023-10-14T18:46:22.695192",
     "exception": false,
     "start_time": "2023-10-14T18:46:22.690471",
     "status": "completed"
    },
    "tags": []
   },
   "source": [
    "> **Read More:** [How To Ask Questions The Smart Way](http://www.catb.org/~esr/faqs/smart-questions.html)"
   ]
  }
 ],
 "metadata": {
  "kernelspec": {
   "display_name": "Python 3",
   "language": "python",
   "name": "python3"
  },
  "language_info": {
   "codemirror_mode": {
    "name": "ipython",
    "version": 3
   },
   "file_extension": ".py",
   "mimetype": "text/x-python",
   "name": "python",
   "nbconvert_exporter": "python",
   "pygments_lexer": "ipython3",
   "version": "3.10.12"
  },
  "papermill": {
   "default_parameters": {},
   "duration": 3.937071,
   "end_time": "2023-10-14T18:46:23.018383",
   "environment_variables": {},
   "exception": null,
   "input_path": "__notebook__.ipynb",
   "output_path": "__notebook__.ipynb",
   "parameters": {},
   "start_time": "2023-10-14T18:46:19.081312",
   "version": "2.4.0"
  }
 },
 "nbformat": 4,
 "nbformat_minor": 5
}
