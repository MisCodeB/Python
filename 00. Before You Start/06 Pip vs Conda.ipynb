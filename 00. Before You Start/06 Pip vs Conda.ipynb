{
 "cells": [
  {
   "cell_type": "markdown",
   "id": "f20fb858",
   "metadata": {
    "papermill": {
     "duration": 0.007908,
     "end_time": "2023-10-14T19:03:25.078211",
     "exception": false,
     "start_time": "2023-10-14T19:03:25.070303",
     "status": "completed"
    },
    "tags": []
   },
   "source": []
  },
  {
   "cell_type": "markdown",
   "id": "3d1f412f",
   "metadata": {
    "papermill": {
     "duration": 0.007129,
     "end_time": "2023-10-14T19:03:25.093057",
     "exception": false,
     "start_time": "2023-10-14T19:03:25.085928",
     "status": "completed"
    },
    "tags": []
   },
   "source": [
    " Pip vs Conda \n"
   ]
  },
  {
   "cell_type": "code",
   "execution_count": null,
   "id": "990a4966",
   "metadata": {
    "papermill": {
     "duration": 0.007085,
     "end_time": "2023-10-14T19:03:25.107451",
     "exception": false,
     "start_time": "2023-10-14T19:03:25.100366",
     "status": "completed"
    },
    "tags": []
   },
   "outputs": [],
   "source": []
  },
  {
   "cell_type": "markdown",
   "id": "eb720ee4",
   "metadata": {
    "papermill": {
     "duration": 0.00712,
     "end_time": "2023-10-14T19:03:25.121978",
     "exception": false,
     "start_time": "2023-10-14T19:03:25.114858",
     "status": "completed"
    },
    "tags": []
   },
   "source": [
    "Table of Contents \n",
    "* [Pip: Python libraries only](#pip:_python_libraries_only)\n",
    "* [Conda: Any dependency can be a Conda package (almost)](#conda:_any_dependency_can_be_a_conda_package_(almost))\n",
    "* [Why Conda packages everything](#why_conda_packages_everything)\n",
    "* [Beyond pure Python: Packaging compiled extensions](#beyond_pure_python:_packaging_compiled_extensions)\n",
    "    * [Solution #1: Compile it yourself](#solution_#1:_compile_it_yourself)\n",
    "    * [Solution #2: Pip wheels](#solution_#2:_pip_wheels)\n",
    "    * [Solution #3: Conda packages](#solution_#3:_conda_packages)\n",
    "    * [Summary: pip vs Conda](#summary:_pip_vs_conda)\n",
    "* [PyPI vs. Conda-Forge](#pypi_vs._conda-forge)\n",
    "    * [PyPI](#pypi)\n",
    "    * [Conda-Forge](#conda-forge)\n",
    "* [Dealing with PyPI-only packages in Conda](#dealing_with_pypi-only_packages_in_conda)\n",
    "    * [Install pip packages in a Conda environment](#install_pip_packages_in_a_conda_environment)\n",
    "    * [Package it for Conda-Forge yourself](#package_it_for_conda-forge_yourself)\n",
    "    * [Summary: PyPI vs. Conda-Forge](#summary:_pypi_vs._conda-forge)\n",
    "* [Which should you use?](#which_should_you_use?)\n",
    "\n",
    "---"
   ]
  },
  {
   "cell_type": "markdown",
   "id": "17e27059",
   "metadata": {
    "papermill": {
     "duration": 0.007717,
     "end_time": "2023-10-14T19:03:25.137009",
     "exception": false,
     "start_time": "2023-10-14T19:03:25.129292",
     "status": "completed"
    },
    "tags": []
   },
   "source": [
    "If you’re using Python in the world of data science or scientific computing, you will soon discover that Python has two different packaging systems: pip and Conda. Which raises some questions:\n",
    "\n",
    "- How are they different?\n",
    "- What are the tradeoffs between the two?\n",
    "- Which should you use?"
   ]
  },
  {
   "cell_type": "markdown",
   "id": "0e0cfb58",
   "metadata": {
    "papermill": {
     "duration": 0.007135,
     "end_time": "2023-10-14T19:03:25.151449",
     "exception": false,
     "start_time": "2023-10-14T19:03:25.144314",
     "status": "completed"
    },
    "tags": []
   },
   "source": [
    "**The fundamental difference between pip and Conda packaging is what they put in packages.**"
   ]
  },
  {
   "cell_type": "markdown",
   "id": "e55a27bf",
   "metadata": {
    "papermill": {
     "duration": 0.008076,
     "end_time": "2023-10-14T19:03:25.168478",
     "exception": false,
     "start_time": "2023-10-14T19:03:25.160402",
     "status": "completed"
    },
    "tags": []
   },
   "source": [
    "Pip packages are Python libraries like NumPy or matplotlib.\n",
    "Conda packages include Python libraries (NumPy or matplotlib), C libraries (libjpeg), and executables (like C compilers, and even the Python interpreter itself)."
   ]
  },
  {
   "cell_type": "markdown",
   "id": "855a9057",
   "metadata": {
    "papermill": {
     "duration": 0.007699,
     "end_time": "2023-10-14T19:03:25.186024",
     "exception": false,
     "start_time": "2023-10-14T19:03:25.178325",
     "status": "completed"
    },
    "tags": []
   },
   "source": [
    "<a class=\"anchor\" id=\"pip:_python_libraries_only\"></a>\n",
    "\n",
    "## Pip: Python libraries only"
   ]
  },
  {
   "cell_type": "markdown",
   "id": "5b68c9b3",
   "metadata": {
    "papermill": {
     "duration": 0.007017,
     "end_time": "2023-10-14T19:03:25.200433",
     "exception": false,
     "start_time": "2023-10-14T19:03:25.193416",
     "status": "completed"
    },
    "tags": []
   },
   "source": [
    "For example, let’s say you want to install Python 3.9 with NumPy, Pandas, and the gnuplot rendering tool, a tool that is unrelated to Python. Here’s what the pip `requirements.txt` would look like:\n",
    "\n",
    "```\n",
    "numpy\n",
    "pandas\n",
    "```"
   ]
  },
  {
   "cell_type": "markdown",
   "id": "d1c65423",
   "metadata": {
    "papermill": {
     "duration": 0.007104,
     "end_time": "2023-10-14T19:03:25.214748",
     "exception": false,
     "start_time": "2023-10-14T19:03:25.207644",
     "status": "completed"
    },
    "tags": []
   },
   "source": [
    "Installing Python and gnuplot is out of scope for pip. You as a user must deal with this yourself. Both the Python interpreter and gnuplot need to come from system packages, in this case Ubuntu’s packages."
   ]
  },
  {
   "cell_type": "markdown",
   "id": "d30689a2",
   "metadata": {
    "papermill": {
     "duration": 0.007343,
     "end_time": "2023-10-14T19:03:25.229381",
     "exception": false,
     "start_time": "2023-10-14T19:03:25.222038",
     "status": "completed"
    },
    "tags": []
   },
   "source": [
    "<a class=\"anchor\" id=\"conda:_any_dependency_can_be_a_conda_package_(almost)\"></a>\n",
    "\n",
    "## Conda: Any dependency can be a Conda package (almost)"
   ]
  },
  {
   "cell_type": "markdown",
   "id": "31e077b5",
   "metadata": {
    "papermill": {
     "duration": 0.006977,
     "end_time": "2023-10-14T19:03:25.243637",
     "exception": false,
     "start_time": "2023-10-14T19:03:25.236660",
     "status": "completed"
    },
    "tags": []
   },
   "source": [
    "With Conda, Python and gnuplot are just more Conda packages, no different than NumPy or Pandas. The `environment.yml` that corresponds (somewhat) to the `requirements.txt` we saw above will include all of these packages:"
   ]
  },
  {
   "cell_type": "markdown",
   "id": "b6173ee5",
   "metadata": {
    "papermill": {
     "duration": 0.007086,
     "end_time": "2023-10-14T19:03:25.257930",
     "exception": false,
     "start_time": "2023-10-14T19:03:25.250844",
     "status": "completed"
    },
    "tags": []
   },
   "source": [
    "```\n",
    "name: myenv\n",
    "channels:\n",
    "  - conda-forge\n",
    "dependencies:\n",
    "  - python=3.9\n",
    "  - numpy\n",
    "  - pandas\n",
    "  - gnuplot\n",
    "```"
   ]
  },
  {
   "cell_type": "markdown",
   "id": "84a0f6de",
   "metadata": {
    "papermill": {
     "duration": 0.00702,
     "end_time": "2023-10-14T19:03:25.272176",
     "exception": false,
     "start_time": "2023-10-14T19:03:25.265156",
     "status": "completed"
    },
    "tags": []
   },
   "source": [
    "Conda only relies on the operating system for basic facilities, like the standard C library. Everything above that is Conda packages, not system packages."
   ]
  },
  {
   "cell_type": "markdown",
   "id": "045ed7e0",
   "metadata": {
    "papermill": {
     "duration": 0.007021,
     "end_time": "2023-10-14T19:03:25.286410",
     "exception": false,
     "start_time": "2023-10-14T19:03:25.279389",
     "status": "completed"
    },
    "tags": []
   },
   "source": [
    "<a class=\"anchor\" id=\"why_conda_packages_everything\"></a>\n",
    "\n",
    "## Why Conda packages everything"
   ]
  },
  {
   "cell_type": "markdown",
   "id": "5215c452",
   "metadata": {
    "papermill": {
     "duration": 0.00689,
     "end_time": "2023-10-14T19:03:25.300472",
     "exception": false,
     "start_time": "2023-10-14T19:03:25.293582",
     "status": "completed"
    },
    "tags": []
   },
   "source": [
    "Why did Conda make the decision to package everything, Python interpreter included? How does this benefit you? In part it’s about portability and reproducibility.\n",
    "\n",
    "- Portability across operating systems: Instead of installing Python in three different ways on Linux, macOS, and Windows, you can use the same environment.yml on all three.\n",
    "- Reproducibility: It’s possible to pin almost the whole stack, from the Python interpreter upwards.\n",
    "- Consistent configuration: You don’t need to install system packages and Python packages in two different ways; (almost) everything can go in one file, the environment.yml.\n",
    "\n",
    "But it also addresses another problem: how to deal with Python libraries that require compiled code. That’s a big enough topic that it gets a whole new section, next."
   ]
  },
  {
   "cell_type": "markdown",
   "id": "83144d41",
   "metadata": {
    "papermill": {
     "duration": 0.007081,
     "end_time": "2023-10-14T19:03:25.314738",
     "exception": false,
     "start_time": "2023-10-14T19:03:25.307657",
     "status": "completed"
    },
    "tags": []
   },
   "source": [
    "<a class=\"anchor\" id=\"beyond_pure_python:_packaging_compiled_extensions\"></a>\n",
    "\n",
    "## Beyond pure Python: Packaging compiled extensions"
   ]
  },
  {
   "cell_type": "markdown",
   "id": "eb0eb73d",
   "metadata": {
    "papermill": {
     "duration": 0.007036,
     "end_time": "2023-10-14T19:03:25.329134",
     "exception": false,
     "start_time": "2023-10-14T19:03:25.322098",
     "status": "completed"
    },
    "tags": []
   },
   "source": [
    "In the early days of Python packaging, a package included just the source code that needed to be installed. For pure Python packages, this worked fine, and still does. But what happens when you need to compile some Rust or C or C++ or Fortran code as part of building the package?"
   ]
  },
  {
   "cell_type": "markdown",
   "id": "13afab1a",
   "metadata": {
    "papermill": {
     "duration": 0.010584,
     "end_time": "2023-10-14T19:03:25.346971",
     "exception": false,
     "start_time": "2023-10-14T19:03:25.336387",
     "status": "completed"
    },
    "tags": []
   },
   "source": [
    "<a class=\"anchor\" id=\"solution_#1:_compile_it_yourself\"></a>\n",
    "\n",
    "### Solution #1: Compile it yourself"
   ]
  },
  {
   "cell_type": "markdown",
   "id": "7d69f241",
   "metadata": {
    "papermill": {
     "duration": 0.068377,
     "end_time": "2023-10-14T19:03:25.423920",
     "exception": false,
     "start_time": "2023-10-14T19:03:25.355543",
     "status": "completed"
    },
    "tags": []
   },
   "source": [
    "The original solution was to have each user compile the code themselves at install time. This can be quite slow, wastes resources, is often painful to configure, and still doesn’t solve a big part of the problem: shared library dependencies."
   ]
  },
  {
   "cell_type": "markdown",
   "id": "dc840726",
   "metadata": {
    "papermill": {
     "duration": 0.007171,
     "end_time": "2023-10-14T19:03:25.438610",
     "exception": false,
     "start_time": "2023-10-14T19:03:25.431439",
     "status": "completed"
    },
    "tags": []
   },
   "source": [
    "The Pillow image graphics library, for example, relies on third party shared libraries like libpng and libjpeg. In order to compile Pillow yourself, you have to install all of them, plus their development headers. On Linux or macOS you can install the system packages or the Homebrew packages; for Windows this can be more difficult. But you’re going to have to write different configuration for every single OS and even Linux distribution."
   ]
  },
  {
   "cell_type": "markdown",
   "id": "affddb3a",
   "metadata": {
    "papermill": {
     "duration": 0.007128,
     "end_time": "2023-10-14T19:03:25.453081",
     "exception": false,
     "start_time": "2023-10-14T19:03:25.445953",
     "status": "completed"
    },
    "tags": []
   },
   "source": [
    "<a class=\"anchor\" id=\"solution_#2:_pip_wheels\"></a>\n",
    "\n",
    "### Solution #2: Pip wheels"
   ]
  },
  {
   "cell_type": "markdown",
   "id": "065dae3b",
   "metadata": {
    "papermill": {
     "duration": 0.007059,
     "end_time": "2023-10-14T19:03:25.467454",
     "exception": false,
     "start_time": "2023-10-14T19:03:25.460395",
     "status": "completed"
    },
    "tags": []
   },
   "source": [
    "The way pip solves this problem is with packages called “wheels” that can include compiled code. In order to deal with shared library dependencies like libpng, any shared library external dependencies get bundled inside the wheel itself."
   ]
  },
  {
   "cell_type": "markdown",
   "id": "3c9394bd",
   "metadata": {
    "papermill": {
     "duration": 0.007225,
     "end_time": "2023-10-14T19:03:25.482024",
     "exception": false,
     "start_time": "2023-10-14T19:03:25.474799",
     "status": "completed"
    },
    "tags": []
   },
   "source": [
    "For example, let’s look at a Pillow wheel for Linux; a wheel is just a ZIP file so we can use standard ZIP tools:\n",
    "\n",
    "```\n",
    "$ zipinfo Pillow.whl\n",
    "...\n",
    "Pillow.libs/libpng16-213e245f.so.16.37.0\n",
    "Pillow.libs/libjpeg-183418da.so.9.4.0\n",
    "...\n",
    "PIL/FpxImagePlugin.py\n",
    "PIL/PalmImagePlugin.py\n",
    "...\n",
    "PIL/_imagingcms.cpython-39-x86_64-linux-gnu.so\n",
    "...\n",
    "```"
   ]
  },
  {
   "cell_type": "markdown",
   "id": "da25e662",
   "metadata": {
    "papermill": {
     "duration": 0.007246,
     "end_time": "2023-10-14T19:03:25.496629",
     "exception": false,
     "start_time": "2023-10-14T19:03:25.489383",
     "status": "completed"
    },
    "tags": []
   },
   "source": [
    "The wheel includes both Python code, a compiled Python extension, and third-party shared libraries like libpng and libjpeg. This can sometimes make packages larger, as multiple copies of third-party shared libraries may be installed, one per wheel."
   ]
  },
  {
   "cell_type": "markdown",
   "id": "008158be",
   "metadata": {
    "papermill": {
     "duration": 0.007065,
     "end_time": "2023-10-14T19:03:25.511219",
     "exception": false,
     "start_time": "2023-10-14T19:03:25.504154",
     "status": "completed"
    },
    "tags": []
   },
   "source": [
    "<a class=\"anchor\" id=\"solution_#3:_conda_packages\"></a>\n",
    "\n",
    "### Solution #3: Conda packages"
   ]
  },
  {
   "cell_type": "markdown",
   "id": "ae6e3fb6",
   "metadata": {
    "papermill": {
     "duration": 0.007055,
     "end_time": "2023-10-14T19:03:25.525701",
     "exception": false,
     "start_time": "2023-10-14T19:03:25.518646",
     "status": "completed"
    },
    "tags": []
   },
   "source": [
    "Conda packages take a different approach to third-party shared libraries. `libjpeg` and `libpng` are packaged as additional Conda packages:\n",
    "\n",
    "```\n",
    "$ conda install -c conda-forge pillow\n",
    "...\n",
    "The following NEW packages will be INSTALLED:\n",
    "\n",
    "...\n",
    "  jpeg               conda-forge/linux-64::jpeg-9d-h36c2ea0_0\n",
    "...\n",
    "  libpng             conda-forge/linux-64::libpng-1.6.37-h21135ba_2\n",
    "...\n",
    "  pillow             conda-forge/linux-64::pillow-7.2.0-py38h9776b28_2\n",
    "  zstd               conda-forge/linux-64::zstd-1.5.0-ha95c52a_0\n",
    "...\n",
    "```"
   ]
  },
  {
   "cell_type": "markdown",
   "id": "1f27286f",
   "metadata": {
    "papermill": {
     "duration": 0.006999,
     "end_time": "2023-10-14T19:03:25.540129",
     "exception": false,
     "start_time": "2023-10-14T19:03:25.533130",
     "status": "completed"
    },
    "tags": []
   },
   "source": [
    "Those installed libjpeg and libpng can then be depended on by other installed packages. They’re not wheel-specific, they’re available to any package in the Conda environment."
   ]
  },
  {
   "cell_type": "markdown",
   "id": "9b9c25d1",
   "metadata": {
    "papermill": {
     "duration": 0.00701,
     "end_time": "2023-10-14T19:03:25.554453",
     "exception": false,
     "start_time": "2023-10-14T19:03:25.547443",
     "status": "completed"
    },
    "tags": []
   },
   "source": [
    "Conda can do this because it’s not a packaging system only for Python code; it can just as easily package shared libraries or executables."
   ]
  },
  {
   "cell_type": "markdown",
   "id": "04a37c52",
   "metadata": {
    "papermill": {
     "duration": 0.006958,
     "end_time": "2023-10-14T19:03:25.568768",
     "exception": false,
     "start_time": "2023-10-14T19:03:25.561810",
     "status": "completed"
    },
    "tags": []
   },
   "source": [
    "<a class=\"anchor\" id=\"summary:_pip_vs_conda\"></a>\n",
    "\n",
    "### Summary: pip vs Conda"
   ]
  },
  {
   "cell_type": "markdown",
   "id": "61e43881",
   "metadata": {
    "papermill": {
     "duration": 0.006913,
     "end_time": "2023-10-14T19:03:25.583023",
     "exception": false,
     "start_time": "2023-10-14T19:03:25.576110",
     "status": "completed"
    },
    "tags": []
   },
   "source": [
    "||pip|Conda|\n",
    "|:--|:--|:--|\n",
    "|Installs Python | No | Yes, as package|\n",
    "|3rd-party shared libraries | Inside the wheel | Yes, as package |\n",
    "|Executables and tools | No | Yes, as package |\n",
    "|Python source code | Yes, as package | Yes, as package |"
   ]
  },
  {
   "cell_type": "markdown",
   "id": "cc3cfbbc",
   "metadata": {
    "papermill": {
     "duration": 0.006972,
     "end_time": "2023-10-14T19:03:25.597273",
     "exception": false,
     "start_time": "2023-10-14T19:03:25.590301",
     "status": "completed"
    },
    "tags": []
   },
   "source": [
    "<a class=\"anchor\" id=\"pypi_vs._conda-forge\"></a>\n",
    "\n",
    "## PyPI vs. Conda-Forge"
   ]
  },
  {
   "cell_type": "markdown",
   "id": "a1c61a1e",
   "metadata": {
    "papermill": {
     "duration": 0.007192,
     "end_time": "2023-10-14T19:03:25.611863",
     "exception": false,
     "start_time": "2023-10-14T19:03:25.604671",
     "status": "completed"
    },
    "tags": []
   },
   "source": [
    "Another fundamental difference between pip and Conda is less about the tools themselves, and more about the package repositories they rely on and how they work. In particular, most Python programs will rely on open source libraries, and these need to be downloaded from somewhere. For these, pip relies on PyPI, whereas Conda supports multiple different “channels” hosted on Anaconda."
   ]
  },
  {
   "cell_type": "markdown",
   "id": "7391ed87",
   "metadata": {
    "papermill": {
     "duration": 0.007044,
     "end_time": "2023-10-14T19:03:25.626370",
     "exception": false,
     "start_time": "2023-10-14T19:03:25.619326",
     "status": "completed"
    },
    "tags": []
   },
   "source": [
    "The default Conda channel is maintained by Anaconda Inc, the company that created Conda. It tends to have limited package selection and be somewhat less up-to-date, with some potential benefits regarding stability and GPU support. Beyond that I don’t know that much about it."
   ]
  },
  {
   "cell_type": "markdown",
   "id": "629201d3",
   "metadata": {
    "papermill": {
     "duration": 0.007153,
     "end_time": "2023-10-14T19:03:25.641025",
     "exception": false,
     "start_time": "2023-10-14T19:03:25.633872",
     "status": "completed"
    },
    "tags": []
   },
   "source": [
    "But there’s also the Conda-Forge community channel, which packages far more packages, tends to be up-to-date, and is where you probably want to get your Conda packages most of the time. You can mix packages from the default channel and Conda-Forge, if you want the default channel’s GPU packages."
   ]
  },
  {
   "cell_type": "markdown",
   "id": "4d54aeeb",
   "metadata": {
    "papermill": {
     "duration": 0.007516,
     "end_time": "2023-10-14T19:03:25.656440",
     "exception": false,
     "start_time": "2023-10-14T19:03:25.648924",
     "status": "completed"
    },
    "tags": []
   },
   "source": [
    "Let’s compare PyPI with Conda-Forge."
   ]
  },
  {
   "cell_type": "markdown",
   "id": "48e0bf70",
   "metadata": {
    "papermill": {
     "duration": 0.007327,
     "end_time": "2023-10-14T19:03:25.671589",
     "exception": false,
     "start_time": "2023-10-14T19:03:25.664262",
     "status": "completed"
    },
    "tags": []
   },
   "source": [
    "<a class=\"anchor\" id=\"pypi\"></a>\n",
    "\n",
    "### PyPI"
   ]
  },
  {
   "cell_type": "markdown",
   "id": "77c17d19",
   "metadata": {
    "papermill": {
     "duration": 0.007274,
     "end_time": "2023-10-14T19:03:25.686547",
     "exception": false,
     "start_time": "2023-10-14T19:03:25.679273",
     "status": "completed"
    },
    "tags": []
   },
   "source": [
    "Packages on PyPI are typically uploaded by the author of the Python package. For example, The author of the [Fil memory profiler](https://pythonspeed.com/fil/), also created the [PyPI package](https://pypi.org/project/filprofiler/)."
   ]
  },
  {
   "cell_type": "markdown",
   "id": "06a665dc",
   "metadata": {
    "papermill": {
     "duration": 0.007426,
     "end_time": "2023-10-14T19:03:25.701637",
     "exception": false,
     "start_time": "2023-10-14T19:03:25.694211",
     "status": "completed"
    },
    "tags": []
   },
   "source": [
    "Each package maintainer might compile or build their packages in their own idiosyncratic way, maintaining their own build infrastructure, choosing their own compilation options, and so on."
   ]
  },
  {
   "cell_type": "markdown",
   "id": "e4dc61e1",
   "metadata": {
    "papermill": {
     "duration": 0.007391,
     "end_time": "2023-10-14T19:03:25.716810",
     "exception": false,
     "start_time": "2023-10-14T19:03:25.709419",
     "status": "completed"
    },
    "tags": []
   },
   "source": [
    "For example, NumPy can rely on multiple different BLAS libraries for fast linear algebra operations. The maintainers have chosen to build their PyPI packages with OpenBLAS; if you want another option, like Intel’s (maybe?) faster MKL, you’re out of luck unless you’re willing to compile the code yourself."
   ]
  },
  {
   "cell_type": "markdown",
   "id": "f664c412",
   "metadata": {
    "papermill": {
     "duration": 0.007491,
     "end_time": "2023-10-14T19:03:25.732120",
     "exception": false,
     "start_time": "2023-10-14T19:03:25.724629",
     "status": "completed"
    },
    "tags": []
   },
   "source": [
    "<a class=\"anchor\" id=\"conda-forge\"></a>\n",
    "\n",
    "### Conda-Forge"
   ]
  },
  {
   "cell_type": "markdown",
   "id": "019185f4",
   "metadata": {
    "papermill": {
     "duration": 0.007363,
     "end_time": "2023-10-14T19:03:25.747149",
     "exception": false,
     "start_time": "2023-10-14T19:03:25.739786",
     "status": "completed"
    },
    "tags": []
   },
   "source": [
    "Conda-Forge is a community project where package maintainers can be different than the original author of the package. For example, I have commit access to the typeguard Conda-Forge recipe even though I am not a maintainer of the typeguard library."
   ]
  },
  {
   "cell_type": "markdown",
   "id": "b865b576",
   "metadata": {
    "papermill": {
     "duration": 0.007247,
     "end_time": "2023-10-14T19:03:25.762089",
     "exception": false,
     "start_time": "2023-10-14T19:03:25.754842",
     "status": "completed"
    },
    "tags": []
   },
   "source": [
    "Instead of custom builds done differently by each package maintainer, Conda-Forge has centralized build systems that recompile libraries, update recipe repositories, and in general automate everything massively. When a new version of Python 3 comes out, for example, a centralized update will happen, all the individual package maintainers will get PRs adding new packages; on PyPI this is up to individual maintainers to figure out."
   ]
  },
  {
   "cell_type": "markdown",
   "id": "0e85920a",
   "metadata": {
    "papermill": {
     "duration": 0.007413,
     "end_time": "2023-10-14T19:03:25.777050",
     "exception": false,
     "start_time": "2023-10-14T19:03:25.769637",
     "status": "completed"
    },
    "tags": []
   },
   "source": [
    "Because of packaging infrastructure is centralized, Conda-Forge is able to [let you choose which BLAS to use](https://conda-forge.org/docs/maintainer/knowledge_base.html?highlight=mesa#switching-blas-implementation), and it will be used for NumPy and SciPy and whatever other packages you use that rely on BLAS."
   ]
  },
  {
   "cell_type": "markdown",
   "id": "1a0badc9",
   "metadata": {
    "papermill": {
     "duration": 0.007399,
     "end_time": "2023-10-14T19:03:25.791997",
     "exception": false,
     "start_time": "2023-10-14T19:03:25.784598",
     "status": "completed"
    },
    "tags": []
   },
   "source": [
    "<a class=\"anchor\" id=\"dealing_with_pypi-only_packages_in_conda\"></a>\n",
    "\n",
    "## Dealing with PyPI-only packages in Conda"
   ]
  },
  {
   "cell_type": "markdown",
   "id": "920671d5",
   "metadata": {
    "papermill": {
     "duration": 0.007374,
     "end_time": "2023-10-14T19:03:25.807124",
     "exception": false,
     "start_time": "2023-10-14T19:03:25.799750",
     "status": "completed"
    },
    "tags": []
   },
   "source": [
    "While Conda-Forge has many packages, it doesn’t have all of them; many Python packages can only be found on PyPI. You can deal with lack of these packages in a number of ways."
   ]
  },
  {
   "cell_type": "markdown",
   "id": "bf4cbd1d",
   "metadata": {
    "papermill": {
     "duration": 0.007324,
     "end_time": "2023-10-14T19:03:25.822320",
     "exception": false,
     "start_time": "2023-10-14T19:03:25.814996",
     "status": "completed"
    },
    "tags": []
   },
   "source": [
    "<a class=\"anchor\" id=\"install_pip_packages_in_a_conda_environment\"></a>\n",
    "\n",
    "### Install pip packages in a Conda environment"
   ]
  },
  {
   "cell_type": "markdown",
   "id": "f2bdae98",
   "metadata": {
    "papermill": {
     "duration": 0.007296,
     "end_time": "2023-10-14T19:03:25.837275",
     "exception": false,
     "start_time": "2023-10-14T19:03:25.829979",
     "status": "completed"
    },
    "tags": []
   },
   "source": [
    "Conda environments are wrappers around virtualenvs; as such you can just call pip install yourself. If you’re using an environment.yml to install your Conda packages, you can also add pip packages:\n",
    "```\n",
    "name: myenv\n",
    "channels:\n",
    "  - conda-forge\n",
    "dependencies:\n",
    "  - python=3.9\n",
    "  - numpy\n",
    "  - pandas\n",
    "  - gnuplot\n",
    "  - pip:\n",
    "      # Package that is only on PyPI\n",
    "      - sandu \n",
    "```"
   ]
  },
  {
   "cell_type": "markdown",
   "id": "f5f4af12",
   "metadata": {
    "papermill": {
     "duration": 0.007223,
     "end_time": "2023-10-14T19:03:25.852704",
     "exception": false,
     "start_time": "2023-10-14T19:03:25.845481",
     "status": "completed"
    },
    "tags": []
   },
   "source": [
    "<a class=\"anchor\" id=\"package_it_for_conda-forge_yourself\"></a>\n",
    "\n",
    "### Package it for Conda-Forge yourself"
   ]
  },
  {
   "cell_type": "markdown",
   "id": "e5ca618e",
   "metadata": {
    "papermill": {
     "duration": 0.00707,
     "end_time": "2023-10-14T19:03:25.867296",
     "exception": false,
     "start_time": "2023-10-14T19:03:25.860226",
     "status": "completed"
    },
    "tags": []
   },
   "source": [
    "Because Conda-Forge does not require maintainers of the code to do the packaging, anyone can volunteer to add a package to Conda-Forge. That includes you!"
   ]
  },
  {
   "cell_type": "markdown",
   "id": "fa971d68",
   "metadata": {
    "papermill": {
     "duration": 0.007531,
     "end_time": "2023-10-14T19:03:25.882194",
     "exception": false,
     "start_time": "2023-10-14T19:03:25.874663",
     "status": "completed"
    },
    "tags": []
   },
   "source": [
    "For many Python packages it’s surprisingly easy process, and it’s quite automated, so handling new releases is often as easy as approving an automatically-created PR."
   ]
  },
  {
   "cell_type": "markdown",
   "id": "6c273f5c",
   "metadata": {
    "papermill": {
     "duration": 0.007436,
     "end_time": "2023-10-14T19:03:25.897379",
     "exception": false,
     "start_time": "2023-10-14T19:03:25.889943",
     "status": "completed"
    },
    "tags": []
   },
   "source": [
    "<a class=\"anchor\" id=\"summary:_pypi_vs._conda-forge\"></a>\n",
    "\n",
    "### Summary: PyPI vs. Conda-Forge"
   ]
  },
  {
   "cell_type": "markdown",
   "id": "3cc36381",
   "metadata": {
    "papermill": {
     "duration": 0.007951,
     "end_time": "2023-10-14T19:03:25.913113",
     "exception": false,
     "start_time": "2023-10-14T19:03:25.905162",
     "status": "completed"
    },
    "tags": []
   },
   "source": [
    "| | PyPI| Conda-Forge|\n",
    "|:--|:--|:--|\n",
    "|Who creates package?| Author of code| Anyone|\n",
    "|Build infrastructure| Maintained by author| Centralized|\n",
    "|Open source Python libraries| Essentially all| Many|\n",
    "|Other open source tools|None| Many|\n",
    "|Windows/Linux/macOS packages| Usually, but up to maintainer| Almost always|"
   ]
  },
  {
   "cell_type": "markdown",
   "id": "e857b0ff",
   "metadata": {
    "papermill": {
     "duration": 0.007164,
     "end_time": "2023-10-14T19:03:25.927924",
     "exception": false,
     "start_time": "2023-10-14T19:03:25.920760",
     "status": "completed"
    },
    "tags": []
   },
   "source": [
    "<a class=\"anchor\" id=\"which_should_you_use?\"></a>\n",
    "\n",
    "## Which should you use?"
   ]
  },
  {
   "cell_type": "markdown",
   "id": "296f8bb0",
   "metadata": {
    "papermill": {
     "duration": 0.007119,
     "end_time": "2023-10-14T19:03:25.942605",
     "exception": false,
     "start_time": "2023-10-14T19:03:25.935486",
     "status": "completed"
    },
    "tags": []
   },
   "source": [
    "So which should you use, pip or Conda? For general Python computing, pip and PyPI are usually fine, and the surrounding tooling tends to be better."
   ]
  },
  {
   "cell_type": "markdown",
   "id": "30e54cf9",
   "metadata": {
    "papermill": {
     "duration": 0.00717,
     "end_time": "2023-10-14T19:03:25.957332",
     "exception": false,
     "start_time": "2023-10-14T19:03:25.950162",
     "status": "completed"
    },
    "tags": []
   },
   "source": [
    "For data science or scientific computing, however, Conda’s ability to package third-party libraries, and the centralized infrastructure provided by Conda-Forge, means setup of complex packages will often be easier. In the end, which works best for you will depend on your situation and requirements; quite possibly both will be fine."
   ]
  }
 ],
 "metadata": {
  "kernelspec": {
   "display_name": "Python 3",
   "language": "python",
   "name": "python3"
  },
  "language_info": {
   "codemirror_mode": {
    "name": "ipython",
    "version": 3
   },
   "file_extension": ".py",
   "mimetype": "text/x-python",
   "name": "python",
   "nbconvert_exporter": "python",
   "pygments_lexer": "ipython3",
   "version": "3.10.12"
  },
  "papermill": {
   "default_parameters": {},
   "duration": 4.462296,
   "end_time": "2023-10-14T19:03:26.384614",
   "environment_variables": {},
   "exception": null,
   "input_path": "__notebook__.ipynb",
   "output_path": "__notebook__.ipynb",
   "parameters": {},
   "start_time": "2023-10-14T19:03:21.922318",
   "version": "2.4.0"
  }
 },
 "nbformat": 4,
 "nbformat_minor": 5
}
