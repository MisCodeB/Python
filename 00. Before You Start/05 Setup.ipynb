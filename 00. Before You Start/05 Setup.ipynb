{
 "cells": [
  {
   "cell_type": "markdown",
   "id": "4a44ba7c",
   "metadata": {
    "papermill": {
     "duration": 0.00713,
     "end_time": "2023-10-14T18:53:03.736177",
     "exception": false,
     "start_time": "2023-10-14T18:53:03.729047",
     "status": "completed"
    },
    "tags": []
   },
   "source": []
  },
  {
   "cell_type": "markdown",
   "id": "e0f6cd77",
   "metadata": {
    "papermill": {
     "duration": 0.005603,
     "end_time": "2023-10-14T18:53:03.749231",
     "exception": false,
     "start_time": "2023-10-14T18:53:03.743628",
     "status": "completed"
    },
    "tags": []
   },
   "source": [
    " Python 3 Installation & Setup Guide \n"
   ]
  },
  {
   "cell_type": "markdown",
   "id": "8902149e",
   "metadata": {
    "papermill": {
     "duration": 0.005644,
     "end_time": "2023-10-14T18:53:03.760913",
     "exception": false,
     "start_time": "2023-10-14T18:53:03.755269",
     "status": "completed"
    },
    "tags": []
   },
   "source": []
  },
  {
   "cell_type": "markdown",
   "id": "cf020cbc",
   "metadata": {
    "papermill": {
     "duration": 0.005591,
     "end_time": "2023-10-14T18:53:03.772326",
     "exception": false,
     "start_time": "2023-10-14T18:53:03.766735",
     "status": "completed"
    },
    "tags": []
   },
   "source": [
    "Table of Contents \n",
    "* [1. Operating System Setup](#1._operating_system_setup)\n",
    "    * [Windows](#windows)\n",
    "    * [Linux and Mac](#linux_and_mac)\n",
    "* [2. Setting up Python with Conda](#2._setting_up_python_with_conda)\n",
    "    * [Introducing Anaconda and Conda](#introducing_anaconda_and_conda)\n",
    "    * [How to install **Anaconda**](#how_to_install_**anaconda**)\n",
    "\n",
    "---"
   ]
  },
  {
   "cell_type": "markdown",
   "id": "4974c6bb",
   "metadata": {
    "papermill": {
     "duration": 0.005514,
     "end_time": "2023-10-14T18:53:03.783679",
     "exception": false,
     "start_time": "2023-10-14T18:53:03.778165",
     "status": "completed"
    },
    "tags": []
   },
   "source": [
    "Installing or updating Python on your computer is the first step to becoming a Python programmer. There are a multitude of installation methods: you can download official Python distributions from Python.org, install from a package manager, and even install specialized distributions for scientific computing, Internet of Things, and embedded systems."
   ]
  },
  {
   "cell_type": "markdown",
   "id": "4b0c5142",
   "metadata": {
    "papermill": {
     "duration": 0.005434,
     "end_time": "2023-10-14T18:53:03.794933",
     "exception": false,
     "start_time": "2023-10-14T18:53:03.789499",
     "status": "completed"
    },
    "tags": []
   },
   "source": [
    "According to my experience, establishing Python environments is a challenging topic. This tutorial focuses on install from a package manager, as they’re generally the best option for full control in programming with python. **So why exactly do you need Python environments? You might ask: shouldn’t I just install the latest Python version?** In this article, we will answer this question."
   ]
  },
  {
   "cell_type": "markdown",
   "id": "1619e365",
   "metadata": {
    "papermill": {
     "duration": 0.005484,
     "end_time": "2023-10-14T18:53:03.806292",
     "exception": false,
     "start_time": "2023-10-14T18:53:03.800808",
     "status": "completed"
    },
    "tags": []
   },
   "source": [
    "<a class=\"anchor\" id=\"1._operating_system_setup\"></a>\n",
    "\n",
    "\n",
    "## 1. Operating System Setup"
   ]
  },
  {
   "cell_type": "markdown",
   "id": "d9bbad3d",
   "metadata": {
    "papermill": {
     "duration": 0.005442,
     "end_time": "2023-10-14T18:53:03.817342",
     "exception": false,
     "start_time": "2023-10-14T18:53:03.811900",
     "status": "completed"
    },
    "tags": []
   },
   "source": []
  },
  {
   "cell_type": "markdown",
   "id": "dc064ef1",
   "metadata": {
    "papermill": {
     "duration": 0.005554,
     "end_time": "2023-10-14T18:53:03.828540",
     "exception": false,
     "start_time": "2023-10-14T18:53:03.822986",
     "status": "completed"
    },
    "tags": []
   },
   "source": [
    "<a class=\"anchor\" id=\"windows\"></a>\n",
    "\n",
    "### Windows"
   ]
  },
  {
   "cell_type": "markdown",
   "id": "d0bbbc88",
   "metadata": {
    "papermill": {
     "duration": 0.005363,
     "end_time": "2023-10-14T18:53:03.839593",
     "exception": false,
     "start_time": "2023-10-14T18:53:03.834230",
     "status": "completed"
    },
    "tags": []
   },
   "source": [
    "There are three installation methods on Windows:\n",
    "\n",
    "- **The Microsoft Store:** Microsoft Store package: The most straightforward installation method on Windows involves installing from the Microsoft Store app. This is recommended for beginner Python users looking for an easy-to-set-up interactive experience.\n",
    "\n",
    "- **Full Installer:** This approach involves downloading Python directly from the [Python.org](https://www.python.org/) website. This is recommended for intermediate and advanced developers who need more control during the setup process.\n",
    "\n",
    "- **Windows Subsystem for Linux (WSL):** The WSL allows you to run a Linux environment directly in Windows. You can learn how to enable the WSL by reading our tutorial in our [Linux repository](https://github.com/pytopia/Linux/blob/main/Linux/01%20Introduction/03%20WSL.ipynb)."
   ]
  },
  {
   "cell_type": "markdown",
   "id": "f1b6f8ae",
   "metadata": {
    "papermill": {
     "duration": 0.00548,
     "end_time": "2023-10-14T18:53:03.850650",
     "exception": false,
     "start_time": "2023-10-14T18:53:03.845170",
     "status": "completed"
    },
    "tags": []
   },
   "source": [
    "In these series of tutorials, **we follow the 3rd method by running Linux in Windows**. The WSL allows you to run a Linux environment directly in Windows. You can also learn how to enable the WSL by reading the [Windows Subsystem for Linux Installation Guide for Windows 10](https://docs.microsoft.com/en-us/windows/wsl/install-win10) or follow the line above, both are good quality guides."
   ]
  },
  {
   "cell_type": "markdown",
   "id": "55a6ad89",
   "metadata": {
    "papermill": {
     "duration": 0.005455,
     "end_time": "2023-10-14T18:53:03.861685",
     "exception": false,
     "start_time": "2023-10-14T18:53:03.856230",
     "status": "completed"
    },
    "tags": []
   },
   "source": [
    "After installing WSL, follow the next section on **Setting up Python with Conda**."
   ]
  },
  {
   "cell_type": "markdown",
   "id": "85ecd4d1",
   "metadata": {
    "papermill": {
     "duration": 0.005438,
     "end_time": "2023-10-14T18:53:03.872906",
     "exception": false,
     "start_time": "2023-10-14T18:53:03.867468",
     "status": "completed"
    },
    "tags": []
   },
   "source": [
    "<a class=\"anchor\" id=\"linux_and_mac\"></a>\n",
    "\n",
    "### Linux and Mac"
   ]
  },
  {
   "cell_type": "markdown",
   "id": "f05ba0cb",
   "metadata": {
    "papermill": {
     "duration": 0.005878,
     "end_time": "2023-10-14T18:53:03.884760",
     "exception": false,
     "start_time": "2023-10-14T18:53:03.878882",
     "status": "completed"
    },
    "tags": []
   },
   "source": [
    "If you are in Mac or Linux, you are already set up and ready to go to the next section on **Conda Environments**."
   ]
  },
  {
   "cell_type": "markdown",
   "id": "c3df37c0",
   "metadata": {
    "papermill": {
     "duration": 0.005217,
     "end_time": "2023-10-14T18:53:03.895477",
     "exception": false,
     "start_time": "2023-10-14T18:53:03.890260",
     "status": "completed"
    },
    "tags": []
   },
   "source": [
    "<a class=\"anchor\" id=\"2._setting_up_python_with_conda\"></a>\n",
    "\n",
    "\n",
    "## 2. Setting up Python with Conda"
   ]
  },
  {
   "cell_type": "markdown",
   "id": "a8a209e3",
   "metadata": {
    "papermill": {
     "duration": 0.005173,
     "end_time": "2023-10-14T18:53:03.906238",
     "exception": false,
     "start_time": "2023-10-14T18:53:03.901065",
     "status": "completed"
    },
    "tags": []
   },
   "source": [
    "Python has been largely used for numerical and scientific applications in the last years. However, to perform numerical computations in an efficient manner, Python relies on external libraries, sometimes implemented in other languages, such as the NumPy library, which is partly implemented using the Fortran language."
   ]
  },
  {
   "cell_type": "markdown",
   "id": "072b47e7",
   "metadata": {
    "papermill": {
     "duration": 0.005384,
     "end_time": "2023-10-14T18:53:03.917195",
     "exception": false,
     "start_time": "2023-10-14T18:53:03.911811",
     "status": "completed"
    },
    "tags": []
   },
   "source": [
    "Due to these dependencies, sometimes it isn’t trivial to set up an environment for numerical computations, linking all the necessary libraries. It’s common for people to struggle to get things working in workshops involving the use of Python for machine learning, especially when they are using an operating system that lacks a package management system, such as Windows."
   ]
  },
  {
   "cell_type": "markdown",
   "id": "9349c100",
   "metadata": {
    "papermill": {
     "duration": 0.00528,
     "end_time": "2023-10-14T18:53:03.928042",
     "exception": false,
     "start_time": "2023-10-14T18:53:03.922762",
     "status": "completed"
    },
    "tags": []
   },
   "source": [
    "### Why you need multiple Python environments"
   ]
  },
  {
   "cell_type": "markdown",
   "id": "77bdd92e",
   "metadata": {
    "papermill": {
     "duration": 0.005847,
     "end_time": "2023-10-14T18:53:03.939522",
     "exception": false,
     "start_time": "2023-10-14T18:53:03.933675",
     "status": "completed"
    },
    "tags": []
   },
   "source": [
    "When you start learning Python, it is a good starting point to install the newest Python version with the latest versions of the packages you need or want to play around with. Then, most likely, you immerse yourself in this world, and download Python applications from GitHub, Kaggle or other sources. These applications may need other versions of Python/packages than the ones you have been currently using."
   ]
  },
  {
   "cell_type": "markdown",
   "id": "ebfba1d6",
   "metadata": {
    "papermill": {
     "duration": 0.006288,
     "end_time": "2023-10-14T18:53:03.951834",
     "exception": false,
     "start_time": "2023-10-14T18:53:03.945546",
     "status": "completed"
    },
    "tags": []
   },
   "source": [
    "In this case, you need to set up different so-called **environments**."
   ]
  },
  {
   "cell_type": "markdown",
   "id": "ef6ed220",
   "metadata": {
    "papermill": {
     "duration": 0.005578,
     "end_time": "2023-10-14T18:53:03.964085",
     "exception": false,
     "start_time": "2023-10-14T18:53:03.958507",
     "status": "completed"
    },
    "tags": []
   },
   "source": [
    "Aside from this situation, there are more use cases when having additional environments might come in handy:\n",
    "- You have an application (developed by yourself or by someone else) that **once worked** beautifully. But now you’ve tried to run it, and it is not working. Perhaps one of the packages is no longer compatible with the other parts of your program (due to the so-called **breaking changes**). A possible solution is to set up a new environment for you application, that contains the Python version and the packages that are completely compatible with your application.\n",
    "- You are **collaborating with someone** else, and you want to make sure that your application is working on your team member’s computer, and vice versa, so you can also set up an environment for your co-worker’s application(s).\n",
    "- You are **delivering an application to your client**, and again, you want to make sure that it is working smoothly on your client’s computer."
   ]
  },
  {
   "cell_type": "markdown",
   "id": "f68ab1ae",
   "metadata": {
    "papermill": {
     "duration": 0.00518,
     "end_time": "2023-10-14T18:53:03.975042",
     "exception": false,
     "start_time": "2023-10-14T18:53:03.969862",
     "status": "completed"
    },
    "tags": []
   },
   "source": [
    "An environment consists of a certain Python version and some packages. Consequently, if you want to **develop or use applications with different Python or package version requirements**, you need to set up different environments."
   ]
  },
  {
   "cell_type": "markdown",
   "id": "5f5c25e3",
   "metadata": {
    "papermill": {
     "duration": 0.007244,
     "end_time": "2023-10-14T18:53:03.987918",
     "exception": false,
     "start_time": "2023-10-14T18:53:03.980674",
     "status": "completed"
    },
    "tags": []
   },
   "source": [
    "Now that we’ve discussed why environments are useful, let’s dive in and talk about some of the most important aspects of managing them."
   ]
  },
  {
   "cell_type": "markdown",
   "id": "558986a5",
   "metadata": {
    "papermill": {
     "duration": 0.005304,
     "end_time": "2023-10-14T18:53:03.999091",
     "exception": false,
     "start_time": "2023-10-14T18:53:03.993787",
     "status": "completed"
    },
    "tags": []
   },
   "source": [
    "### Package and environment managers"
   ]
  },
  {
   "cell_type": "markdown",
   "id": "c00454d9",
   "metadata": {
    "papermill": {
     "duration": 0.010252,
     "end_time": "2023-10-14T18:53:04.018771",
     "exception": false,
     "start_time": "2023-10-14T18:53:04.008519",
     "status": "completed"
    },
    "tags": []
   },
   "source": [
    "The two most popular tools for setting up environments are:\n",
    "- **PIP** (a Python package manager; funnily enough, it stands for “Pip Installs Packages”) with [virtualenv](https://virtualenv.pypa.io/en/stable/) (a tool for creating isolated environments)\n",
    "- **Conda** (a package and environment manager)"
   ]
  },
  {
   "cell_type": "markdown",
   "id": "758bb79a",
   "metadata": {
    "papermill": {
     "duration": 0.005459,
     "end_time": "2023-10-14T18:53:04.030013",
     "exception": false,
     "start_time": "2023-10-14T18:53:04.024554",
     "status": "completed"
    },
    "tags": []
   },
   "source": [
    "In this course, I cover how to use **Conda**. I prefer it because:\n",
    "\n",
    "- **Clear Structure**: It is easy to understand its directory structure\n",
    "- **Transparent File Management**: It doesn’t install files outside its directory\n",
    "- **Flexibility**: It contains a lot of packages (PIP packages are also installable into Conda environments)\n",
    "- **Multipurpose**: It is not only for managing Python environments and packages — you can also use it for R (a programming language for statistical computing)"
   ]
  },
  {
   "cell_type": "markdown",
   "id": "853ee2f1",
   "metadata": {
    "papermill": {
     "duration": 0.005279,
     "end_time": "2023-10-14T18:53:04.040926",
     "exception": false,
     "start_time": "2023-10-14T18:53:04.035647",
     "status": "completed"
    },
    "tags": []
   },
   "source": [
    "<a class=\"anchor\" id=\"introducing_anaconda_and_conda\"></a>\n",
    "\n",
    "### Introducing Anaconda and Conda"
   ]
  },
  {
   "cell_type": "markdown",
   "id": "edeb6fc9",
   "metadata": {
    "papermill": {
     "duration": 0.0076,
     "end_time": "2023-10-14T18:53:04.054250",
     "exception": false,
     "start_time": "2023-10-14T18:53:04.046650",
     "status": "completed"
    },
    "tags": []
   },
   "source": []
  },
  {
   "cell_type": "markdown",
   "id": "d1545e86",
   "metadata": {
    "papermill": {
     "duration": 0.009075,
     "end_time": "2023-10-14T18:53:04.073080",
     "exception": false,
     "start_time": "2023-10-14T18:53:04.064005",
     "status": "completed"
    },
    "tags": []
   },
   "source": [
    "Since 2011, Python has included [`pip`](https://pypi.org/project/pip/), a package management system used to install and manage software packages written in Python. However, for numerical computations, there are several dependencies that are not written in Python, so the initial releases of pip could not solve the problem by themselves."
   ]
  },
  {
   "cell_type": "markdown",
   "id": "289ad7a1",
   "metadata": {
    "papermill": {
     "duration": 0.005362,
     "end_time": "2023-10-14T18:53:04.088164",
     "exception": false,
     "start_time": "2023-10-14T18:53:04.082802",
     "status": "completed"
    },
    "tags": []
   },
   "source": [
    "To circumvent this problem, Continuum Analytics released [Anaconda](https://www.anaconda.com/distribution/), a Python distribution focused on scientific applications and [Conda](https://conda.io/), a package and environment management system, which is used by the Anaconda distribution. It’s worth noticing that the more recent versions of pip can handle external dependencies using [wheels](https://www.python.org/dev/peps/pep-0427/), but, by using Anaconda, you’ll be able to install critical libraries for data science more smoothly. (You can read more on this discussion [here](http://jakevdp.github.io/blog/2016/08/25/conda-myths-and-misconceptions/#Myth-#6:-Now-that-pip-uses-wheels,-conda-is-no-longer-necessary).)"
   ]
  },
  {
   "cell_type": "markdown",
   "id": "11e4ca2d",
   "metadata": {
    "papermill": {
     "duration": 0.005424,
     "end_time": "2023-10-14T18:53:04.099422",
     "exception": false,
     "start_time": "2023-10-14T18:53:04.093998",
     "status": "completed"
    },
    "tags": []
   },
   "source": [
    "Although Conda is tightly coupled to the Anaconda Python Distribution, the two are distinct projects with different goals:"
   ]
  },
  {
   "cell_type": "markdown",
   "id": "b0bdbe42",
   "metadata": {
    "papermill": {
     "duration": 0.005432,
     "end_time": "2023-10-14T18:53:04.110669",
     "exception": false,
     "start_time": "2023-10-14T18:53:04.105237",
     "status": "completed"
    },
    "tags": []
   },
   "source": [
    "- [**Anaconda**](https://www.anaconda.com/distribution/) is a full distribution of the software in the [PyData](https://pydata.org/) ecosystem, including Python itself along with binaries for several third-party open-source projects. Besides Anaconda, there’s also [Miniconda](https://conda.io/miniconda.html), which is a minimal Python distribution including basically Conda and its dependencies so that you can install only the packages you need, from scratch"
   ]
  },
  {
   "cell_type": "markdown",
   "id": "c33eb175",
   "metadata": {
    "papermill": {
     "duration": 0.00531,
     "end_time": "2023-10-14T18:53:04.121572",
     "exception": false,
     "start_time": "2023-10-14T18:53:04.116262",
     "status": "completed"
    },
    "tags": []
   },
   "source": [
    "- [**Conda**](https://conda.io/) is a package, dependency, and environment management system that could be installed without the Anaconda or Miniconda distribution. It runs on Windows, macOS, and Linux and was created for Python programs, but it can package and distribute software for any language. The main purpose is to solve external dependencies issues in an easy way, by downloading pre-compiled versions of software.\n",
    "\n",
    "    In this sense, it is more like a cross-platform version of a general purpose package manager such as [APT](https://en.wikipedia.org/wiki/APT_(Debian)) or [YUM](https://en.wikipedia.org/wiki/Yum_(software)), which helps to find and install packages in a language-agnostic way. Also, Conda is an environment manager, so if you need a package that requires a different version of Python, by using Conda, it is possible to set up a separate environment with a totally different version of Python, maintaining your usual version of Python on your default environment."
   ]
  },
  {
   "cell_type": "markdown",
   "id": "c537d497",
   "metadata": {
    "papermill": {
     "duration": 0.005828,
     "end_time": "2023-10-14T18:53:04.197831",
     "exception": false,
     "start_time": "2023-10-14T18:53:04.192003",
     "status": "completed"
    },
    "tags": []
   },
   "source": [
    "There’s a lot of discussion regarding the creation of another package management system for the Python ecosystem. It’s worth mentioning that Conda’s creators pushed Python standard packaging to the limit and only created a second tool when it was clear that it was the only reasonable way forward."
   ]
  },
  {
   "cell_type": "markdown",
   "id": "c59d97a3",
   "metadata": {
    "papermill": {
     "duration": 0.008669,
     "end_time": "2023-10-14T18:53:04.212551",
     "exception": false,
     "start_time": "2023-10-14T18:53:04.203882",
     "status": "completed"
    },
    "tags": []
   },
   "source": [
    "Anaconda and Miniconda have become the most popular Python distributions, widely used for data science and machine learning in various companies and research laboratories. They are free and open source projects and currently include 1400+ packages in the repository. In the following section, we’ll go through the installation of the Anaconda."
   ]
  },
  {
   "cell_type": "markdown",
   "id": "316f328d",
   "metadata": {
    "papermill": {
     "duration": 0.009005,
     "end_time": "2023-10-14T18:53:04.231854",
     "exception": false,
     "start_time": "2023-10-14T18:53:04.222849",
     "status": "completed"
    },
    "tags": []
   },
   "source": [
    "<a class=\"anchor\" id=\"how_to_install_**anaconda**\"></a>\n",
    "\n",
    "### How to install **Anaconda**"
   ]
  },
  {
   "cell_type": "markdown",
   "id": "af4e1234",
   "metadata": {
    "papermill": {
     "duration": 0.005518,
     "end_time": "2023-10-14T18:53:04.243391",
     "exception": false,
     "start_time": "2023-10-14T18:53:04.237873",
     "status": "completed"
    },
    "tags": []
   },
   "source": [
    "1. Install Anaconda for your OS:\n",
    "    - [Anaconda Installation Tutorial for **Ubuntu**](https://www.digitalocean.com/community/tutorials/how-to-install-the-anaconda-python-distribution-on-ubuntu-20-04)\n",
    "    - [Anaconda Installation Tutorial for **Mac**](https://docs.anaconda.com/anaconda/install/mac-os/)\n",
    "    - For **WSL**, follow the same instruction for ubuntu."
   ]
  },
  {
   "cell_type": "markdown",
   "id": "e020cf46",
   "metadata": {
    "papermill": {
     "duration": 0.005408,
     "end_time": "2023-10-14T18:53:04.254595",
     "exception": false,
     "start_time": "2023-10-14T18:53:04.249187",
     "status": "completed"
    },
    "tags": []
   },
   "source": [
    "Anaconda installs Python and is an easy to use development environment and navigator launch tool. You will learn how to interact with conda and install python and packages in the next section."
   ]
  },
  {
   "cell_type": "markdown",
   "id": "51cd257d",
   "metadata": {
    "papermill": {
     "duration": 0.005336,
     "end_time": "2023-10-14T18:53:04.265760",
     "exception": false,
     "start_time": "2023-10-14T18:53:04.260424",
     "status": "completed"
    },
    "tags": []
   },
   "source": [
    "In case `conda` is not recognized after installation like the image below, run the following commands:\n",
    "- `source ~/anaconda3/etc/profile.d/conda.sh`\n",
    "- `conda init bash`\n",
    "\n",
    "and restart your terminal."
   ]
  },
  {
   "cell_type": "markdown",
   "id": "729199bf",
   "metadata": {
    "papermill": {
     "duration": 0.005408,
     "end_time": "2023-10-14T18:53:04.276985",
     "exception": false,
     "start_time": "2023-10-14T18:53:04.271577",
     "status": "completed"
    },
    "tags": []
   },
   "source": []
  }
 ],
 "metadata": {
  "kernelspec": {
   "display_name": "Python 3",
   "language": "python",
   "name": "python3"
  },
  "language_info": {
   "codemirror_mode": {
    "name": "ipython",
    "version": 3
   },
   "file_extension": ".py",
   "mimetype": "text/x-python",
   "name": "python",
   "nbconvert_exporter": "python",
   "pygments_lexer": "ipython3",
   "version": "3.10.12"
  },
  "papermill": {
   "default_parameters": {},
   "duration": 4.331261,
   "end_time": "2023-10-14T18:53:04.704519",
   "environment_variables": {},
   "exception": null,
   "input_path": "__notebook__.ipynb",
   "output_path": "__notebook__.ipynb",
   "parameters": {},
   "start_time": "2023-10-14T18:53:00.373258",
   "version": "2.4.0"
  }
 },
 "nbformat": 4,
 "nbformat_minor": 5
}
