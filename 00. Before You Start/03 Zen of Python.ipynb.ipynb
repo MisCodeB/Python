{
 "cells": [
  {
   "cell_type": "markdown",
   "id": "01a55af7",
   "metadata": {
    "papermill": {
     "duration": 0.002135,
     "end_time": "2023-10-14T18:33:55.790636",
     "exception": false,
     "start_time": "2023-10-14T18:33:55.788501",
     "status": "completed"
    },
    "tags": []
   },
   "source": []
  },
  {
   "cell_type": "markdown",
   "id": "75ad9c19",
   "metadata": {
    "papermill": {
     "duration": 0.003039,
     "end_time": "2023-10-14T18:33:55.795268",
     "exception": false,
     "start_time": "2023-10-14T18:33:55.792229",
     "status": "completed"
    },
    "tags": []
   },
   "source": [
    "Zen of Python"
   ]
  },
  {
   "cell_type": "markdown",
   "id": "5fe3fafb",
   "metadata": {
    "papermill": {
     "duration": 0.001251,
     "end_time": "2023-10-14T18:33:55.798005",
     "exception": false,
     "start_time": "2023-10-14T18:33:55.796754",
     "status": "completed"
    },
    "tags": []
   },
   "source": [
    "The Zen of Python is a collection of 19 \"guiding principles\" for writing computer programs that influence the design of the Python programming language. Software engineer Tim Peters wrote this set of principles and posted it on the Python mailing list in 1999. Peters's list left open a 20th principle \"for Guido to fill in\", referring to Guido van Rossum, the original author of the Python language. The vacancy for a 20th principle has not been filled."
   ]
  },
  {
   "cell_type": "markdown",
   "id": "cddde8bc",
   "metadata": {
    "papermill": {
     "duration": 0.001206,
     "end_time": "2023-10-14T18:33:55.800615",
     "exception": false,
     "start_time": "2023-10-14T18:33:55.799409",
     "status": "completed"
    },
    "tags": []
   },
   "source": [
    "## The Zen of Python"
   ]
  },
  {
   "cell_type": "markdown",
   "id": "6c852bb2",
   "metadata": {
    "papermill": {
     "duration": 0.00117,
     "end_time": "2023-10-14T18:33:55.803136",
     "exception": false,
     "start_time": "2023-10-14T18:33:55.801966",
     "status": "completed"
    },
    "tags": []
   },
   "source": [
    "- Beautiful is better than ugly.\n",
    "- Explicit is better than implicit.\n",
    "- Simple is better than complex.\n",
    "- Complex is better than complicated.\n",
    "- Flat is better than nested.\n",
    "- Sparse is better than dense.\n",
    "- Readability counts.\n",
    "- Special cases aren't special enough to break the rules.\n",
    "- Although practicality beats purity.\n",
    "- Errors should never pass silently.\n",
    "- Unless explicitly silenced.\n",
    "- In the face of ambiguity, refuse the temptation to guess.\n",
    "- There should be one-- and preferably only one --obvious way to do it.\n",
    "- Although that way may not be obvious at first unless you're Dutch.\n",
    "- Now is better than never.\n",
    "- Although never is often better than *right* now.\n",
    "- If the implementation is hard to explain, it's a bad idea.\n",
    "- If the implementation is easy to explain, it may be a good idea.\n",
    "- Namespaces are one honking great idea -- let's do more of those!"
   ]
  },
  {
   "cell_type": "markdown",
   "id": "383160de",
   "metadata": {
    "papermill": {
     "duration": 0.0013,
     "end_time": "2023-10-14T18:33:55.805746",
     "exception": false,
     "start_time": "2023-10-14T18:33:55.804446",
     "status": "completed"
    },
    "tags": []
   },
   "source": [
    "Python also embeds a library for displaying its Zen of Python. This is called an [Easter Egg](https://en.wikipedia.org/wiki/Easter_egg_(media)). In computer software, Easter eggs are secret responses that occur as a result of an undocumented set of commands. The results can vary from a simple printed message or image to a page of programmer credits or a small video game hidden inside an otherwise serious piece of software."
   ]
  },
  {
   "cell_type": "code",
   "execution_count": 1,
   "id": "196ea131",
   "metadata": {
    "execution": {
     "iopub.execute_input": "2023-10-14T18:33:55.810095Z",
     "iopub.status.busy": "2023-10-14T18:33:55.809782Z",
     "iopub.status.idle": "2023-10-14T18:33:55.819917Z",
     "shell.execute_reply": "2023-10-14T18:33:55.818391Z"
    },
    "papermill": {
     "duration": 0.015133,
     "end_time": "2023-10-14T18:33:55.822262",
     "exception": false,
     "start_time": "2023-10-14T18:33:55.807129",
     "status": "completed"
    },
    "tags": []
   },
   "outputs": [
    {
     "name": "stdout",
     "output_type": "stream",
     "text": [
      "The Zen of Python, by Tim Peters\n",
      "\n",
      "Beautiful is better than ugly.\n",
      "Explicit is better than implicit.\n",
      "Simple is better than complex.\n",
      "Complex is better than complicated.\n",
      "Flat is better than nested.\n",
      "Sparse is better than dense.\n",
      "Readability counts.\n",
      "Special cases aren't special enough to break the rules.\n",
      "Although practicality beats purity.\n",
      "Errors should never pass silently.\n",
      "Unless explicitly silenced.\n",
      "In the face of ambiguity, refuse the temptation to guess.\n",
      "There should be one-- and preferably only one --obvious way to do it.\n",
      "Although that way may not be obvious at first unless you're Dutch.\n",
      "Now is better than never.\n",
      "Although never is often better than *right* now.\n",
      "If the implementation is hard to explain, it's a bad idea.\n",
      "If the implementation is easy to explain, it may be a good idea.\n",
      "Namespaces are one honking great idea -- let's do more of those!\n"
     ]
    }
   ],
   "source": [
    "import this"
   ]
  },
  {
   "cell_type": "markdown",
   "id": "4dfaccbb",
   "metadata": {
    "papermill": {
     "duration": 0.001604,
     "end_time": "2023-10-14T18:33:55.825876",
     "exception": false,
     "start_time": "2023-10-14T18:33:55.824272",
     "status": "completed"
    },
    "tags": []
   },
   "source": [
    "Thus, the stated purpose of this module is to spell out guidelines to related to the development of Python code."
   ]
  },
  {
   "cell_type": "markdown",
   "id": "506207f0",
   "metadata": {
    "papermill": {
     "duration": 0.001373,
     "end_time": "2023-10-14T18:33:55.829085",
     "exception": false,
     "start_time": "2023-10-14T18:33:55.827712",
     "status": "completed"
    },
    "tags": []
   },
   "source": [
    "Following these guidelines will likely improve the readability, usability and maintainability of Python code. None of which seem \"useless\"."
   ]
  }
 ],
 "metadata": {
  "kernelspec": {
   "display_name": "Python 3",
   "language": "python",
   "name": "python3"
  },
  "language_info": {
   "codemirror_mode": {
    "name": "ipython",
    "version": 3
   },
   "file_extension": ".py",
   "mimetype": "text/x-python",
   "name": "python",
   "nbconvert_exporter": "python",
   "pygments_lexer": "ipython3",
   "version": "3.10.12"
  },
  "papermill": {
   "default_parameters": {},
   "duration": 2.906809,
   "end_time": "2023-10-14T18:33:56.151551",
   "environment_variables": {},
   "exception": null,
   "input_path": "__notebook__.ipynb",
   "output_path": "__notebook__.ipynb",
   "parameters": {},
   "start_time": "2023-10-14T18:33:53.244742",
   "version": "2.4.0"
  }
 },
 "nbformat": 4,
 "nbformat_minor": 5
}
